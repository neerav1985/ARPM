{
 "cells": [
  {
   "cell_type": "markdown",
   "metadata": {},
   "source": [
    "# s_invariance_test_ellipsoid_example [<img src=\"https://www.arpm.co/lab/icons/icon_permalink.png\" width=30 height=30 style=\"display: inline;\">](https://www.arpm.co/lab/redirect.php?code=s_invariance_test_ellipsoid_example&codeLang=Python)\n",
    "For details, see [here](https://www.arpm.co/lab/redirect.php?permalink=invariance_test_ellipsoid-example)."
   ]
  },
  {
   "cell_type": "code",
   "execution_count": null,
   "metadata": {},
   "outputs": [],
   "source": [
    "import numpy as np\n",
    "import matplotlib.pyplot as plt\n",
    "\n",
    "from arpym.statistics.invariance_test_ellipsoid import invariance_test_ellipsoid\n",
    "from arpym.statistics.simulate_normal import simulate_normal\n",
    "from arpym.tools.logo import add_logo\n",
    "\n",
    "l_ = 10  # number of lags\n",
    "t_ = 1000  # number of scenarios\n",
    "\n",
    "epsi = simulate_normal(0, 1, t_)  # generate normal scenarios\n",
    "\n",
    "plt.style.use('arpm')\n",
    "rho, conf_int = invariance_test_ellipsoid(epsi, l_)  # ellipsoid test\n",
    "\n",
    "add_logo(plt.gcf(), size_frac_x=1/8, set_fig_size=False)"
   ]
  }
 ],
 "metadata": {
  "jupytext": {
   "encoding": "# -*- coding: utf-8 -*-",
   "executable": "/usr/bin/env python3"
  },
  "kernelspec": {
   "display_name": "Python 3",
   "language": "python",
   "name": "python3"
  }
 },
 "nbformat": 4,
 "nbformat_minor": 4
}
