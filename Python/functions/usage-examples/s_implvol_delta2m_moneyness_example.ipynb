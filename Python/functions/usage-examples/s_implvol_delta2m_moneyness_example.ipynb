{
 "cells": [
  {
   "cell_type": "markdown",
   "metadata": {},
   "source": [
    "# s_implvol_delta2m_moneyness_example [<img src=\"https://www.arpm.co/lab/icons/icon_permalink.png\" width=30 height=30 style=\"display: inline;\">](https://www.arpm.co/lab/redirect.php?code=s_implvol_delta2m_moneyness_example&codeLang=Python)\n",
    "For details, see [here](https://www.arpm.co/lab/redirect.php?permalink=implvol_delta2m_moneyness-example)."
   ]
  },
  {
   "cell_type": "code",
   "execution_count": null,
   "metadata": {},
   "outputs": [],
   "source": [
    "import numpy as np\n",
    "\n",
    "from arpym.pricing.implvol_delta2m_moneyness import implvol_delta2m_moneyness\n",
    "\n",
    "# input parameters\n",
    "l_ = 3  # number of points on the m-moneyness grid\n",
    "tau_y = np.array([0.08, 0.2, 0.3,\n",
    "                  0.5, 1., 2.])  # times to maturity of yield curve\n",
    "y = 0.01*np.ones((2, len(tau_y)))  # points of the yield curve\n",
    "tau = np.array([0.1, 0.25])  # times to expiry\n",
    "delta_moneyness = np.array([0.2, 0.5, 0.7])  # delta-moneyness\n",
    "sigma_delta = np.array([[[0.1, 0.11, 0.15],\n",
    "                         [0.11, 0.12, 0.23]],\n",
    "                        [[0.18, 0.12, 0.18],\n",
    "                         [0.16, 0.19, 0.24]]])  # time series of implied volatility surface\n",
    "# Compute m-moneyness parametrization\n",
    "sigma_m, m_moneyness = \\\n",
    "    implvol_delta2m_moneyness(sigma_delta, tau, delta_moneyness, y, tau_y, l_)"
   ]
  }
 ],
 "metadata": {
  "jupytext": {
   "encoding": "# -*- coding: utf-8 -*-",
   "executable": "/usr/bin/env python3"
  },
  "kernelspec": {
   "display_name": "Python 3",
   "language": "python",
   "name": "python3"
  }
 },
 "nbformat": 4,
 "nbformat_minor": 4
}
