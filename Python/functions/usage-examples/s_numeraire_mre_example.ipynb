{
 "cells": [
  {
   "cell_type": "markdown",
   "metadata": {},
   "source": [
    "# s_sdf_mre_example\n",
    "For details, see [here](https://www.arpm.co/lab/redirect.php?permalink=numeraire_mre-example)."
   ]
  },
  {
   "cell_type": "code",
   "execution_count": null,
   "metadata": {},
   "outputs": [],
   "source": [
    "import numpy as np\n",
    "\n",
    "from arpym.pricing.numeraire_mre import numeraire_mre\n",
    "\n",
    "# Generate the payoffs\n",
    "v_payoff = np.random.uniform(-0.3, 0.7, (5, 3))\n",
    "v_payoff[:, 1] = np.abs(v_payoff[:, 1])\n",
    "# set flat flexible probabilities\n",
    "p = np.full(5, 0.2)\n",
    "# set the current values\n",
    "v_tnow = np.array([0.075, 0.31, 0.23])\n",
    "\n",
    "# compute the minimum relative entropy numeraire probabilities\n",
    "\n",
    "p_numer, _ = numeraire_mre(v_payoff, v_tnow, k=1)"
   ]
  }
 ],
 "metadata": {
  "jupytext": {
   "encoding": "# -*- coding: utf-8 -*-",
   "executable": "/usr/bin/env python3"
  },
  "kernelspec": {
   "display_name": "Python 3",
   "language": "python",
   "name": "python3"
  }
 },
 "nbformat": 4,
 "nbformat_minor": 4
}
