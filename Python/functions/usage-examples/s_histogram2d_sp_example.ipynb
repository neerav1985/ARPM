{
 "cells": [
  {
   "cell_type": "markdown",
   "metadata": {},
   "source": [
    "# s_histogram2d_sp_example [<img src=\"https://www.arpm.co/lab/icons/icon_permalink.png\" width=30 height=30 style=\"display: inline;\">](https://www.arpm.co/lab/redirect.php?code=s_histogram2d_sp_example&codeLang=Python)\n",
    "For details, see [here](https://www.arpm.co/lab/redirect.php?permalink=histogram2d_sp-example)."
   ]
  },
  {
   "cell_type": "code",
   "execution_count": null,
   "metadata": {},
   "outputs": [],
   "source": [
    "import numpy as np\n",
    "import matplotlib.pyplot as plt\n",
    "from mpl_toolkits.mplot3d import Axes3D\n",
    "\n",
    "from arpym.tools.histogram2d_sp import histogram2d_sp\n",
    "from arpym.tools.logo import add_logo\n",
    "from arpym.statistics.simulate_normal import simulate_normal"
   ]
  },
  {
   "cell_type": "markdown",
   "metadata": {},
   "source": [
    "## [Input parameters](https://www.arpm.co/lab/redirect.php?permalink=s_histogram2d_sp_example-parameters)"
   ]
  },
  {
   "cell_type": "code",
   "execution_count": null,
   "metadata": {},
   "outputs": [],
   "source": [
    "j_ = 1000  # number of scenarios\n",
    "rho = 0.5  # correlation for sample \n",
    "mu = np.zeros(2)  # mean for sample"
   ]
  },
  {
   "cell_type": "markdown",
   "metadata": {},
   "source": [
    "## [Step 1](https://www.arpm.co/lab/redirect.php?permalink=s_histogram2d_sp_example-implementation-step01): Generate bivariate normal sample"
   ]
  },
  {
   "cell_type": "code",
   "execution_count": null,
   "metadata": {},
   "outputs": [],
   "source": [
    "sigma2 = np.array([[1, rho],\n",
    "                   [rho, 1]])  # covariance for sample\n",
    "x = simulate_normal(mu, sigma2, j_)"
   ]
  },
  {
   "cell_type": "markdown",
   "metadata": {},
   "source": [
    "## [Step 2](https://www.arpm.co/lab/redirect.php?permalink=s_histogram2d_sp_example-implementation-step02): Define parameters for histogram2d_sp"
   ]
  },
  {
   "cell_type": "code",
   "execution_count": null,
   "metadata": {},
   "outputs": [],
   "source": [
    "p = simulate_normal(1, 1, j_)  # random probability weights\n",
    "p = np.abs(p)/np.sum(np.abs(p))  # take abs. value and rescale\n",
    "k_ = 15  # number of bins on each axis\n",
    "xi = np.vstack((np.linspace(-4, 4, 20),\n",
    "               np.linspace(-4, 4, 20))).T  # bin centers"
   ]
  },
  {
   "cell_type": "markdown",
   "metadata": {},
   "source": [
    "## [Step 3](https://www.arpm.co/lab/redirect.php?permalink=s_histogram2d_sp_example-implementation-step03): Calculate histograms"
   ]
  },
  {
   "cell_type": "code",
   "execution_count": null,
   "metadata": {},
   "outputs": [],
   "source": [
    "f1, xi1_1, xi1_2 = histogram2d_sp(x)\n",
    "f2, xi2_1, xi2_2 = histogram2d_sp(x, p=p)\n",
    "f3, xi3_1, xi3_2 = histogram2d_sp(x, k_=k_)\n",
    "f4, xi4_1, xi4_2 = histogram2d_sp(x, xi=xi)"
   ]
  },
  {
   "cell_type": "markdown",
   "metadata": {},
   "source": [
    "## Plots"
   ]
  },
  {
   "cell_type": "code",
   "execution_count": null,
   "metadata": {},
   "outputs": [],
   "source": [
    "plt.style.use('arpm')\n",
    "\n",
    "fig = plt.figure(figsize=(1280.0/72.0, 720.0/72.0), dpi=72.0)\n",
    "ax1 = fig.add_subplot(221, projection='3d')\n",
    "\n",
    "xpos, ypos = np.meshgrid(xi1_1, xi1_2)\n",
    "xpos = xpos.flatten('F')\n",
    "ypos = ypos.flatten('F')\n",
    "zpos = np.zeros_like(xpos)\n",
    "\n",
    "dx = xi1_1[1] - xi1_1[0]\n",
    "dy = xi1_2[1] - xi1_2[0]\n",
    "dz = f1.flatten('F')\n",
    "ax1.bar3d(xpos, ypos, zpos, dx, dy, dz)\n",
    "plt.title('All defaults')\n",
    "\n",
    "ax2 = fig.add_subplot(222, projection='3d')\n",
    "\n",
    "xpos, ypos = np.meshgrid(xi2_1, xi2_2)\n",
    "xpos = xpos.flatten('F')\n",
    "ypos = ypos.flatten('F')\n",
    "zpos = np.zeros_like(xpos)\n",
    "\n",
    "dx = xi2_1[1] - xi2_1[0]\n",
    "dy = xi2_2[1] - xi2_2[0]\n",
    "dz = f2.flatten('F')\n",
    "ax2.bar3d(xpos, ypos, zpos, dx, dy, dz)\n",
    "plt.title('Flex. probs. specified')\n",
    "\n",
    "ax3 = fig.add_subplot(223, projection='3d')\n",
    "\n",
    "xpos, ypos = np.meshgrid(xi3_1, xi3_2)\n",
    "xpos = xpos.flatten('F')\n",
    "ypos = ypos.flatten('F')\n",
    "zpos = np.zeros_like(xpos)\n",
    "\n",
    "dx = xi3_1[1] - xi3_1[0]\n",
    "dy = xi3_2[1] - xi3_2[0]\n",
    "dz = f3.flatten('F')\n",
    "ax3.bar3d(xpos, ypos, zpos, dx, dy, dz)\n",
    "plt.title('Num. bins specified')\n",
    "\n",
    "ax4 = fig.add_subplot(224, projection='3d')\n",
    "\n",
    "xpos, ypos = np.meshgrid(xi4_1, xi4_2)\n",
    "xpos = xpos.flatten('F')\n",
    "ypos = ypos.flatten('F')\n",
    "zpos = np.zeros_like(xpos)\n",
    "\n",
    "dx = xi4_1[1] - xi4_1[0]\n",
    "dy = xi4_2[1] - xi4_2[0]\n",
    "dz = f4.flatten('F')\n",
    "ax4.bar3d(xpos, ypos, zpos, dx, dy, dz)\n",
    "plt.title('Bin centers specified')\n",
    "\n",
    "add_logo(fig, set_fig_size=False)"
   ]
  }
 ],
 "metadata": {
  "jupytext": {
   "encoding": "# -*- coding: utf-8 -*-",
   "executable": "/usr/bin/env python3"
  },
  "kernelspec": {
   "display_name": "Python 3",
   "language": "python",
   "name": "python3"
  }
 },
 "nbformat": 4,
 "nbformat_minor": 4
}
