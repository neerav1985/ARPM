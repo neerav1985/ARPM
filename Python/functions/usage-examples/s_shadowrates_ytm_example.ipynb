{
 "cells": [
  {
   "cell_type": "markdown",
   "metadata": {},
   "source": [
    "# s_shadowrates_ytm_example [<img src=\"https://www.arpm.co/lab/icons/icon_permalink.png\" width=30 height=30 style=\"display: inline;\">](https://www.arpm.co/lab/redirect.php?code=s_shadowrates_ytm_example&codeLang=Python)\n",
    "For details, see [here](https://www.arpm.co/lab/redirect.php?permalink=shadowrates_ytm-example)."
   ]
  },
  {
   "cell_type": "code",
   "execution_count": null,
   "metadata": {},
   "outputs": [],
   "source": [
    "import numpy as np\n",
    "\n",
    "from arpym.pricing.shadowrates_ytm import shadowrates_ytm\n",
    "\n",
    "# Input parameters\n",
    "x = np.array([[0.05, 0.06],\n",
    "              [0.0095, 0.02],\n",
    "              [-0.02, 0.1]])  # shadow rates\n",
    "# compute yields\n",
    "y = shadowrates_ytm(x)"
   ]
  }
 ],
 "metadata": {
  "jupytext": {
   "encoding": "# -*- coding: utf-8 -*-",
   "executable": "/usr/bin/env python3"
  },
  "kernelspec": {
   "display_name": "Python 3",
   "language": "python",
   "name": "python3"
  }
 },
 "nbformat": 4,
 "nbformat_minor": 4
}
