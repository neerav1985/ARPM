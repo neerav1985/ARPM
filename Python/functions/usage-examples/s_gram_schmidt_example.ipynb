{
 "cells": [
  {
   "cell_type": "markdown",
   "metadata": {},
   "source": [
    "# s_gram_schmidt_example [<img src=\"https://www.arpm.co/lab/icons/icon_permalink.png\" width=30 height=30 style=\"display: inline;\">](https://www.arpm.co/lab/redirect.php?code=s_gram_schmidt_example&codeLang=Python)\n",
    "For details, see [here](https://www.arpm.co/lab/redirect.php?permalink=gram_schmidt-example)."
   ]
  },
  {
   "cell_type": "code",
   "execution_count": null,
   "metadata": {},
   "outputs": [],
   "source": [
    "import numpy as np\n",
    "\n",
    "from arpym.tools.gram_schmidt import gram_schmidt\n",
    "\n",
    "# Input parameters\n",
    "sigma2 = np.array([[0.25, 0.3, 0.25],\n",
    "                    [0.3, 1, 0],\n",
    "                    [0.25, 0, 6.25]]) # positive definite matrix\n",
    "v = np.array([[1, 0, 1],[2, 1, 0], [0, 1, 1]]) # basis of vectors\n",
    "\n",
    "# Compute the Gram-Schmidt matrix w\n",
    "w = gram_schmidt(sigma2, v)  # Gram-Schmidt decomposition"
   ]
  }
 ],
 "metadata": {
  "jupytext": {
   "encoding": "# -*- coding: utf-8 -*-",
   "executable": "/usr/bin/env python3"
  },
  "kernelspec": {
   "display_name": "Python 3",
   "language": "python",
   "name": "python3"
  }
 },
 "nbformat": 4,
 "nbformat_minor": 4
}
