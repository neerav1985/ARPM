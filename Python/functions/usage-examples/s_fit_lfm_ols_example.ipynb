{
 "cells": [
  {
   "cell_type": "markdown",
   "metadata": {},
   "source": [
    "# s_fit_lfm_ols_example [<img src=\"https://www.arpm.co/lab/icons/icon_permalink.png\" width=30 height=30 style=\"display: inline;\">](https://www.arpm.co/lab/redirect.php?code=s_fit_lfm_ols_example&codeLang=Python)\n",
    "For details, see [here](https://www.arpm.co/lab/redirect.php?permalink=fit_lfm_ols-example)."
   ]
  },
  {
   "cell_type": "code",
   "execution_count": null,
   "metadata": {},
   "outputs": [],
   "source": [
    "import numpy as np\n",
    "\n",
    "from arpym.statistics.simulate_normal import simulate_normal\n",
    "from arpym.estimation.fit_lfm_ols import fit_lfm_ols\n",
    "\n",
    "# Input parameters\n",
    "t_ = 1000  # number of simulations\n",
    "mu_u = 0  # residual location\n",
    "sigma2_u = 1   # residual dispersion\n",
    "mu_z = 0  # factor location\n",
    "sigma2_z = 1  # factor dispersion\n",
    "beta = 1.5  # loadings\n",
    "alpha = -0.2  # shift\n",
    "# generate lfm\n",
    "u = simulate_normal(mu_u, sigma2_u, t_)  # residuals\n",
    "z = simulate_normal(mu_z, sigma2_z, t_)  # factors\n",
    "x = alpha + z*beta + u  # target process\n",
    "# estimate parameters\n",
    "alpha_ols, beta_ols, sig2_ols, u_ols = fit_lfm_ols(x, z, fit_intercept=True)"
   ]
  }
 ],
 "metadata": {
  "jupytext": {
   "encoding": "# -*- coding: utf-8 -*-",
   "executable": "/usr/bin/env python3"
  },
  "kernelspec": {
   "display_name": "Python 3",
   "language": "python",
   "name": "python3"
  }
 },
 "nbformat": 4,
 "nbformat_minor": 4
}
