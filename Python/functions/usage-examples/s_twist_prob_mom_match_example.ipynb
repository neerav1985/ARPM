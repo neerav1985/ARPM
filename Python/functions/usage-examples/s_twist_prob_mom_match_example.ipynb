{
 "cells": [
  {
   "cell_type": "markdown",
   "metadata": {},
   "source": [
    "# s_twist_prob_mom_match_example [<img src=\"https://www.arpm.co/lab/icons/icon_permalink.png\" width=30 height=30 style=\"display: inline;\">](https://www.arpm.co/lab/redirect.php?code=s_twist_prob_mom_match_example&codeLang=Python)\n",
    "For details, see [here](https://www.arpm.co/lab/redirect.php?permalink=twist_prob_mom_match-example)."
   ]
  },
  {
   "cell_type": "code",
   "execution_count": null,
   "metadata": {},
   "outputs": [],
   "source": [
    "import numpy as np\n",
    "\n",
    "from arpym.statistics.simulate_normal import simulate_normal\n",
    "from arpym.statistics.meancov_sp import meancov_sp\n",
    "from arpym.statistics.twist_prob_mom_match import twist_prob_mom_match\n",
    "\n",
    "\n",
    "n_ = 2  # input parameters\n",
    "j_ = 10000\n",
    "\n",
    "mu = np.zeros(n_)  # n_x1 base expectation\n",
    "sigma2 = np.eye(n_)  # n_xn_ base covariance\n",
    "\n",
    "x = simulate_normal(mu, sigma2, j_)  # generate normal scenarios\n",
    "\n",
    "m_ = np.random.uniform(size=n_)  # n_x1 randomly generated target expectation\n",
    "s = np.random.uniform(size=(n_, n_))  # n_xn_ randomly generated target volatility\n",
    "s2_ = s @ s.T  # target covariance\n",
    "\n",
    "p_ = twist_prob_mom_match(x, m_, s2_)  # twist probabilities to match moments m_ and s2_\n",
    "\n",
    "m, s2 = meancov_sp(x, p_)  # compute twisted sample mean and covariance"
   ]
  }
 ],
 "metadata": {
  "jupytext": {
   "encoding": "# -*- coding: utf-8 -*-",
   "executable": "/usr/bin/env python3"
  },
  "kernelspec": {
   "display_name": "Python 3",
   "language": "python",
   "name": "python3"
  }
 },
 "nbformat": 4,
 "nbformat_minor": 4
}
