{
 "cells": [
  {
   "cell_type": "markdown",
   "metadata": {},
   "source": [
    "# s_bootstrap_hfp_example [<img src=\"https://www.arpm.co/lab/icons/icon_permalink.png\" width=30 height=30 style=\"display: inline;\">](https://www.arpm.co/lab/redirect.php?code=s_bootstrap_hfp_example&codeLang=Python)\n",
    "For details, see [here](https://www.arpm.co/lab/redirect.php?permalink=bootstrap_hfp-example)."
   ]
  },
  {
   "cell_type": "code",
   "execution_count": null,
   "metadata": {},
   "outputs": [],
   "source": [
    "import numpy as np\n",
    "\n",
    "from arpym.statistics.bootstrap_hfp import bootstrap_hfp\n",
    "from arpym.estimation.exp_decay_fp import exp_decay_fp\n",
    "\n",
    "t_ = 100  # number of historical observsation\n",
    "j_ = 1000  # number of scenarios\n",
    "\n",
    "# generate \"observed\" invariants\n",
    "epsi = np.random.rand(t_)\n",
    "# flexible probabilities\n",
    "p = np.ones(t_)/t_\n",
    "# generate scenarios\n",
    "epsi_j = bootstrap_hfp(epsi, p, j_)"
   ]
  }
 ],
 "metadata": {
  "jupytext": {
   "encoding": "# -*- coding: utf-8 -*-",
   "executable": "/usr/bin/env python3"
  },
  "kernelspec": {
   "display_name": "Python 3",
   "language": "python",
   "name": "python3"
  }
 },
 "nbformat": 4,
 "nbformat_minor": 4
}
