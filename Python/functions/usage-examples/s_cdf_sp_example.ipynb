{
 "cells": [
  {
   "cell_type": "markdown",
   "metadata": {},
   "source": [
    "# s_cdf_sp_example [<img src=\"https://www.arpm.co/lab/icons/icon_permalink.png\" width=30 height=30 style=\"display: inline;\">](https://www.arpm.co/lab/redirect.php?code=s_cdf_sp_example&codeLang=Python)\n",
    "For details, see [here](https://www.arpm.co/lab/redirect.php?permalink=cdf_sp-example)."
   ]
  },
  {
   "cell_type": "code",
   "execution_count": null,
   "metadata": {},
   "outputs": [],
   "source": [
    "import numpy as np\n",
    "\n",
    "from arpym.statistics.cdf_sp import cdf_sp\n",
    "from arpym.statistics.simulate_normal import simulate_normal\n",
    "\n",
    "j_ = 10000  # number of scenarios\n",
    "k_ = 100  # number of evaluation points\n",
    "\n",
    "x_ = np.linspace(-5, 5, k_)  # generate evaluation points\n",
    "x = simulate_normal(0, 1, j_)  # generate scenarios\n",
    "p = np.random.rand(j_)  # generate probabilities\n",
    "p = p/np.sum(p)  # normalize probabilities\n",
    "\n",
    "# Compute cdf\n",
    "cdf = cdf_sp(x_, x, p)"
   ]
  }
 ],
 "metadata": {
  "jupytext": {
   "encoding": "# -*- coding: utf-8 -*-",
   "executable": "/usr/bin/env python3"
  },
  "kernelspec": {
   "display_name": "Python 3",
   "language": "python",
   "name": "python3"
  }
 },
 "nbformat": 4,
 "nbformat_minor": 4
}
