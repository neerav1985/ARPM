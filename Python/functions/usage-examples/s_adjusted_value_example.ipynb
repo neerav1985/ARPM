{
 "cells": [
  {
   "cell_type": "markdown",
   "metadata": {},
   "source": [
    "# s_adjusted_value_example [<img src=\"https://www.arpm.co/lab/icons/icon_permalink.png\" width=30 height=30 style=\"display: inline;\">](https://www.arpm.co/lab/redirect.php?code=s_adjusted_value_example&codeLang=Python)\n",
    "For details, see [here](https://www.arpm.co/lab/redirect.php?permalink=adjusted_value-example)."
   ]
  },
  {
   "cell_type": "code",
   "execution_count": null,
   "metadata": {},
   "outputs": [],
   "source": [
    "import pandas as pd\n",
    "\n",
    "from arpym.tools.adjusted_value import adjusted_value\n",
    "\n",
    "# Input parameters\n",
    "path = '~/databases/global-databases/equities/db_stocks_SP500/'\n",
    "df_nokia_stock = pd.read_csv(path + 'NOK_prices.csv',\n",
    "                             header=0)\n",
    "df_nok_dividends = pd.read_csv(path + 'NOK_dividends.csv',\n",
    "                               header=0)\n",
    "\n",
    "# convert column 'date' from string to datetime64\n",
    "df_nokia_stock['date_tmstmp'] = pd.to_datetime(df_nokia_stock.date,\n",
    "                                               dayfirst=True)\n",
    "df_nok_dividends['date_tmstmp'] = pd.to_datetime(df_nok_dividends.date,\n",
    "                                                 dayfirst=True)\n",
    "\n",
    "# extract values from dataframe\n",
    "dates = df_nokia_stock.date_tmstmp.values\n",
    "r = df_nok_dividends.date_tmstmp.values\n",
    "cf_r = df_nok_dividends.dividends.values\n",
    "v = df_nokia_stock.close.values\n",
    "\n",
    "# compute cash-flow-adjusted values\n",
    "v_tilde = adjusted_value(v, dates, cf_r, r)"
   ]
  }
 ],
 "metadata": {
  "jupytext": {
   "encoding": "# -*- coding: utf-8 -*-",
   "executable": "/usr/bin/env python3"
  },
  "kernelspec": {
   "display_name": "Python 3",
   "language": "python",
   "name": "python3"
  }
 },
 "nbformat": 4,
 "nbformat_minor": 4
}
