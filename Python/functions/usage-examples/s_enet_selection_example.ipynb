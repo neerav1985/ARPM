{
 "cells": [
  {
   "cell_type": "markdown",
   "metadata": {},
   "source": [
    "# s_enet_selection_example [<img src=\"https://www.arpm.co/lab/icons/icon_permalink.png\" width=30 height=30 style=\"display: inline;\">](https://www.arpm.co/lab/redirect.php?code=s_enet_selection_example&codeLang=Python)\n",
    "For details, see [here](https://www.arpm.co/lab/redirect.php?permalink=enet_selection-example)."
   ]
  },
  {
   "cell_type": "code",
   "execution_count": null,
   "metadata": {},
   "outputs": [],
   "source": [
    "import numpy as np\n",
    "\n",
    "from arpym.tools.enet_selection import enet_selection\n",
    "\n",
    "# dimensions\n",
    "m_ = 4\n",
    "l_ = 1\n",
    "n_ = 3\n",
    "p_ = 2\n",
    "q_ = 1\n",
    "r_ = 3\n",
    "\n",
    "v = np.random.randn(m_, l_)\n",
    "u = np.random.randn(m_, n_)\n",
    "\n",
    "# penalties\n",
    "alpha = 10**-5\n",
    "\n",
    "# constraints\n",
    "a_eq = np.random.randn(p_, n_)\n",
    "b_eq = np.random.randn(p_, l_)\n",
    "a_ineq = np.random.randn(q_, n_)\n",
    "b_ineq = np.random.randn(q_, l_)\n",
    "\n",
    "# dimension control variable for lambda grid\n",
    "a = 10\n",
    "\n",
    "# generalizations\n",
    "d = np.random.randn(r_, n_)\n",
    "\n",
    "x_enet, f_x_enet, s_enet, k_lam, lam_vec = enet_selection(v, u, alpha=alpha,\n",
    "                                                          a_eq=a_eq, b_eq=b_eq,\n",
    "                                                          a_ineq=a_ineq, b_ineq=b_ineq,\n",
    "                                                          d=d,\n",
    "                                                          a=a,\n",
    "                                                          eps=10**-5,\n",
    "                                                          thr=10**-7)\n",
    "print(x_enet)"
   ]
  }
 ],
 "metadata": {
  "jupytext": {
   "encoding": "# -*- coding: utf-8 -*-",
   "executable": "/usr/bin/env python3"
  },
  "kernelspec": {
   "display_name": "Python 3",
   "language": "python",
   "name": "python3"
  }
 },
 "nbformat": 4,
 "nbformat_minor": 4
}
