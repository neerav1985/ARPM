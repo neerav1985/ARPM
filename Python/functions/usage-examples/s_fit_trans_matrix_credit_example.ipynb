{
 "cells": [
  {
   "cell_type": "markdown",
   "metadata": {},
   "source": [
    "# s_fit_ratings_markov_chain_example\n",
    "For details, see [here](https://www.arpm.co/lab/redirect.php?permalink=fit_trans_matrix_credit-example)."
   ]
  },
  {
   "cell_type": "code",
   "execution_count": null,
   "metadata": {},
   "outputs": [],
   "source": [
    "import numpy as np\n",
    "import pandas as pd\n",
    "\n",
    "from arpym.estimation.fit_trans_matrix_credit import fit_trans_matrix_credit\n",
    "\n",
    "dates = np.array([np.datetime64('2004-12-29'),\n",
    "                  np.datetime64('2004-12-31')])  # dates of rating transitions\n",
    "n = np.array([[ 97, 242, 308],\n",
    "              [ 97, 241, 309]])  # number of obligors in each rating\n",
    "n_cum_trans = np.array([[[0., 0., 0.],\n",
    "                         [0., 0., 0.],\n",
    "                         [0., 0., 0.]],\n",
    "                        [[0., 0., 0.],\n",
    "                         [0., 0., 1.],\n",
    "                         [0., 0., 0.]]])  # cumulative number of transitions\n",
    "p = fit_trans_matrix_credit(dates, n, n_cum_trans)  # probability transition matrix"
   ]
  }
 ],
 "metadata": {
  "kernelspec": {
   "display_name": "Python 3",
   "language": "python",
   "name": "python3"
  }
 },
 "nbformat": 4,
 "nbformat_minor": 4
}
