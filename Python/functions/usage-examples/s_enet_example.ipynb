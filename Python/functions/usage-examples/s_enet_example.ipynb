{
 "cells": [
  {
   "cell_type": "markdown",
   "metadata": {},
   "source": [
    "# s_enet_example [<img src=\"https://www.arpm.co/lab/icons/icon_permalink.png\" width=30 height=30 style=\"display: inline;\">](https://www.arpm.co/lab/redirect.php?code=s_enet_example&codeLang=Python)\n",
    "For details, see [here](https://www.arpm.co/lab/redirect.php?permalink=enet-example)."
   ]
  },
  {
   "cell_type": "code",
   "execution_count": null,
   "metadata": {},
   "outputs": [],
   "source": [
    "import numpy as np\n",
    "from arpym.estimation.enet import enet\n",
    "\n",
    "# dimensions\n",
    "m_ = 4\n",
    "l_ = 2\n",
    "n_ = 3\n",
    "p_ = 2\n",
    "q_ = 2\n",
    "s_ = 2\n",
    "r_ = 2\n",
    "\n",
    "# data\n",
    "v = np.random.randn(m_, l_)\n",
    "u = np.random.randn(m_, n_)\n",
    "y = np.random.randn(n_, l_)\n",
    "\n",
    "# penalties\n",
    "alpha = 10**-2\n",
    "lam = 10**-3\n",
    "\n",
    "# constraints\n",
    "a_eq = np.random.randn(p_, n_)\n",
    "b_eq = np.random.randn(p_, l_)\n",
    "a_ineq = np.random.randn(q_, n_)\n",
    "b_ineq = np.random.randn(q_, l_)\n",
    "\n",
    "# generalizations\n",
    "delta = np.random.randn(s_, n_)\n",
    "d = np.random.randn(r_, n_)\n",
    "\n",
    "x_enet = enet(v, u, alpha, lam,\n",
    "              a_eq=a_eq, b_eq=b_eq,\n",
    "              a_ineq=a_ineq, b_ineq=b_ineq,\n",
    "              delta=delta, d=d,\n",
    "              y=y,\n",
    "              eps=10**-6)\n"
   ]
  }
 ],
 "metadata": {
  "jupytext": {
   "encoding": "# -*- coding: utf-8 -*-",
   "executable": "/usr/bin/env python3"
  },
  "kernelspec": {
   "display_name": "Python 3",
   "language": "python",
   "name": "python3"
  }
 },
 "nbformat": 4,
 "nbformat_minor": 4
}
