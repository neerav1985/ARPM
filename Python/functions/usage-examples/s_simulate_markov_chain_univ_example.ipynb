{
 "cells": [
  {
   "cell_type": "markdown",
   "metadata": {},
   "source": [
    "# s_simulate_markov_chain_univ_example [<img src=\"https://www.arpm.co/lab/icons/icon_permalink.png\" width=30 height=30 style=\"display: inline;\">](https://www.arpm.co/lab/redirect.php?code=s_simulate_markov_chain_univ_example&codeLang=Python)\n",
    "For details, see [here](https://www.arpm.co/lab/redirect.php?permalink=simulate_markov_chain_univ-example)."
   ]
  },
  {
   "cell_type": "code",
   "execution_count": null,
   "metadata": {},
   "outputs": [],
   "source": [
    "import numpy as np\n",
    "\n",
    "from arpym.statistics.simulate_markov_chain_univ import simulate_markov_chain_univ\n",
    "\n",
    "x_tnow = np.array([1])  # initial rating\n",
    "p = np.array([[0.3, 0.3, 0.4], [0.3, 0.4, 0.3], [0.2, 0.2, 0.6]])  # tr. mat.\n",
    "deltat = np.array([1, 5])\n",
    "j_ = 100  # number of scenarios\n",
    "\n",
    "# Monte Carlo scenarios of the state\n",
    "x_tnow_thor = simulate_markov_chain_univ(x_tnow, p, deltat, j_)"
   ]
  }
 ],
 "metadata": {
  "jupytext": {
   "encoding": "# -*- coding: utf-8 -*-",
   "executable": "/usr/bin/env python3"
  },
  "kernelspec": {
   "display_name": "Python 3",
   "language": "python",
   "name": "python3"
  }
 },
 "nbformat": 4,
 "nbformat_minor": 4
}
