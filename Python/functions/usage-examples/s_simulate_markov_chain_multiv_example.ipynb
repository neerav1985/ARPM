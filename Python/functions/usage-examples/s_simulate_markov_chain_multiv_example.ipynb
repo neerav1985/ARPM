{
 "cells": [
  {
   "cell_type": "markdown",
   "metadata": {},
   "source": [
    "# s_simulate_markov_chain_multiv_example [<img src=\"https://www.arpm.co/lab/icons/icon_permalink.png\" width=30 height=30 style=\"display: inline;\">](https://www.arpm.co/lab/redirect.php?code=s_simulate_markov_chain_multiv_example&codeLang=Python)\n",
    "For details, see [here](https://www.arpm.co/lab/redirect.php?permalink=simulate_markov_chain_multiv-example)."
   ]
  },
  {
   "cell_type": "code",
   "execution_count": null,
   "metadata": {},
   "outputs": [],
   "source": [
    "import numpy as np\n",
    "\n",
    "from arpym.statistics.simulate_markov_chain_multiv import simulate_markov_chain_multiv\n",
    "\n",
    "x_tnow = np.array([2, 1])  # initial ratings\n",
    "p = np.array([[0.3, 0.3, 0.4], [0.3, 0.4, 0.3], [0.2, 0.2, 0.6]])  # tr. mat.\n",
    "m_ = 5\n",
    "rho2 = np.array([[1, 0.5], [0.5, 1]])  # correlation matrices of shocks\n",
    "nu = 10  # degrees of freedom of the t copula\n",
    "j_ = 100  # number of scenarios\n",
    "\n",
    "# Monte Carlo scenarios of the state\n",
    "x_tnow_thor = simulate_markov_chain_multiv(x_tnow, p, m_, rho2=rho2, nu=nu, j_=j_)"
   ]
  }
 ],
 "metadata": {
  "jupytext": {
   "encoding": "# -*- coding: utf-8 -*-",
   "executable": "/usr/bin/env python3"
  },
  "kernelspec": {
   "display_name": "Python 3",
   "language": "python",
   "name": "python3"
  }
 },
 "nbformat": 4,
 "nbformat_minor": 4
}
