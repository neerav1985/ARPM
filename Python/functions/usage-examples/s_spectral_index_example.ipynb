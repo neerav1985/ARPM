{
 "cells": [
  {
   "cell_type": "markdown",
   "metadata": {},
   "source": [
    "# s_spectral_index_example [<img src=\"https://www.arpm.co/lab/icons/icon_permalink.png\" width=30 height=30 style=\"display: inline;\">](https://www.arpm.co/lab/redirect.php?code=s_spectral_index_example&codeLang=Python)\n",
    "For details, see [here](https://www.arpm.co/lab/redirect.php?permalink=spectral_index-example)."
   ]
  },
  {
   "cell_type": "code",
   "execution_count": null,
   "metadata": {},
   "outputs": [],
   "source": [
    "import numpy as np\n",
    "\n",
    "from arpym.portfolio.spectral_index import spectral_index\n",
    "\n",
    "# input parameters\n",
    "c = 0.99  # confidence level\n",
    "pi = np.array([[-1, 0.2], [-0.5, 0.04], [4, -0.03]])  # P&L scenarios\n",
    "h_tilde = np.array([10, 50])  # portfolio holdings\n",
    "p = np.full(3, 1/3)  # probabilities\n",
    "\n",
    "# indicator function\n",
    "def indicator(x):\n",
    "    return (0 <= x and x <= 1-c)\n",
    "\n",
    "# spectrum function\n",
    "def spectr_es(x):\n",
    "    return (1 / (1 - c)) * indicator(x)\n",
    "\n",
    "# negative expected shortfall and the corresponding gradient\n",
    "es, es_grad = spectral_index(spectr_es, pi, p, h_tilde)"
   ]
  }
 ],
 "metadata": {
  "jupytext": {
   "encoding": "# -*- coding: utf-8 -*-",
   "executable": "/usr/bin/env python3"
  },
  "kernelspec": {
   "display_name": "Python 3",
   "language": "python",
   "name": "python3"
  }
 },
 "nbformat": 4,
 "nbformat_minor": 4
}
