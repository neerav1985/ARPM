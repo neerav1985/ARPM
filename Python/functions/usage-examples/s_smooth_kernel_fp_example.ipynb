{
 "cells": [
  {
   "cell_type": "markdown",
   "metadata": {},
   "source": [
    "# s_smooth_kernel_fp_example [<img src=\"https://www.arpm.co/lab/icons/icon_permalink.png\" width=30 height=30 style=\"display: inline;\">](https://www.arpm.co/lab/redirect.php?code=s_smooth_kernel_fp_example&codeLang=Python)\n",
    "For details, see [here](https://www.arpm.co/lab/redirect.php?permalink=smooth_kernel_fp-example)."
   ]
  },
  {
   "cell_type": "code",
   "execution_count": null,
   "metadata": {},
   "outputs": [],
   "source": [
    "from arpym.estimation.smooth_kernel_fp import smooth_kernel_fp\n",
    "from arpym.statistics.simulate_normal import simulate_normal\n",
    "\n",
    "# Input parameters\n",
    "t_ = 1000  # length of data series\n",
    "h = 0.5  # bandwidth\n",
    "gamma = 2  # kernel type parameter\n",
    "z_star = 1.5  # target value\n",
    "\n",
    "z = simulate_normal(0, 1, t_)  # risk factor\n",
    "\n",
    "# flexible probabilities\n",
    "p = smooth_kernel_fp(z, z_star, h, gamma=gamma)"
   ]
  }
 ],
 "metadata": {
  "jupytext": {
   "encoding": "# -*- coding: utf-8 -*-",
   "executable": "/usr/bin/env python3"
  },
  "kernelspec": {
   "display_name": "Python 3",
   "language": "python",
   "name": "python3"
  }
 },
 "nbformat": 4,
 "nbformat_minor": 4
}
