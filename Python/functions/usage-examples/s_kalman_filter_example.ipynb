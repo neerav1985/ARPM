{
 "cells": [
  {
   "cell_type": "markdown",
   "metadata": {},
   "source": [
    "# s_kalman_filter_example [<img src=\"https://www.arpm.co/lab/icons/icon_permalink.png\" width=30 height=30 style=\"display: inline;\">](https://www.arpm.co/lab/redirect.php?code=s_kalman_filter_example&codeLang=Python)\n",
    "For details, see [here](https://www.arpm.co/lab/redirect.php?permalink=kalman_filter-example)."
   ]
  },
  {
   "cell_type": "code",
   "execution_count": null,
   "metadata": {},
   "outputs": [],
   "source": [
    "import numpy as np\n",
    "\n",
    "from arpym.statistics.kalman_filter import kalman_filter\n",
    "from arpym.statistics.simulate_normal import simulate_normal\n",
    "\n",
    "# Input parameters\n",
    "\n",
    "t_ = 1000  # number of scenarios\n",
    "k_ = 1  # rank of loadings\n",
    "mu = np.array([0])  # location\n",
    "sigma2 = np.array([[1]])   # dispersion\n",
    "beta = np.array([[1.5]])  # observation equation loadings\n",
    "alpha = np.array([-0.2])  # observation equation shift\n",
    "beta_h = np.array([0.1])  # transition equation loadings\n",
    "alpha_h = np.array([1])  # transition equation shift\n",
    "sigma2_h = np.array([[0.5]])   # factor dispersion\n",
    "# generate LFM\n",
    "u_h = simulate_normal(0, 0.1, t_).reshape(-1, 1)  # transition equation residuals\n",
    "h_t = np.zeros((t_, 1))\n",
    "for i in range(1, t_):\n",
    "    h_t[i, 0] = alpha_h + beta_h*h_t[i-1, 0] + u_h[i]  # hidden factors\n",
    "\n",
    "u = simulate_normal(0, 0.12, t_).reshape(-1, 1)  # observation equation residuals\n",
    "x_t = alpha + h_t*beta + u  # target process\n",
    "\n",
    "# estimate hidden factors\n",
    "h_t_estim = kalman_filter(x_t, alpha, beta, sigma2, alpha_h, beta_h, sigma2_h)"
   ]
  }
 ],
 "metadata": {
  "jupytext": {
   "encoding": "# -*- coding: utf-8 -*-",
   "executable": "/usr/bin/env python3"
  },
  "kernelspec": {
   "display_name": "Python 3",
   "language": "python",
   "name": "python3"
  }
 },
 "nbformat": 4,
 "nbformat_minor": 4
}
