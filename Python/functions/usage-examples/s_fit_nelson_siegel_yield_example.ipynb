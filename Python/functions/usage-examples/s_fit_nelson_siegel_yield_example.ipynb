{
 "cells": [
  {
   "cell_type": "markdown",
   "metadata": {},
   "source": [
    "# s_fit_nelson_siegel_yields\n",
    "For details, see [here](https://www.arpm.co/lab/redirect.php?permalink=fit_nelson_siegel_yield-example)."
   ]
  },
  {
   "cell_type": "code",
   "execution_count": null,
   "metadata": {},
   "outputs": [],
   "source": [
    "import numpy as np\n",
    "\n",
    "from arpym.pricing.fit_nelson_siegel_yield import fit_nelson_siegel_yield\n",
    "\n",
    "tau = np.array([1.0, 2.0, 3.0, 4.0, 5.0, 6.0, 7.0, 8.0, 9.0, 10.0])  # times to maturity\n",
    "y = np.array([0.005, 0.01, 0.015, 0.018, 0.022, 0.024, 0.026, 0.027,\n",
    "              0.028, 0.029])  # yield curve\n",
    "\n",
    "theta = fit_nelson_siegel_yield(tau, y)  # compute Nelson-Siegel parameters"
   ]
  }
 ],
 "metadata": {
  "kernelspec": {
   "display_name": "Python 3",
   "language": "python",
   "name": "python3"
  }
 },
 "nbformat": 4,
 "nbformat_minor": 4
}
