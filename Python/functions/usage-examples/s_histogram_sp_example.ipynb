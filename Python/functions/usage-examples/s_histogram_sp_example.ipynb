{
 "cells": [
  {
   "cell_type": "markdown",
   "metadata": {},
   "source": [
    "# s_histogram_sp_example [<img src=\"https://www.arpm.co/lab/icons/icon_permalink.png\" width=30 height=30 style=\"display: inline;\">](https://www.arpm.co/lab/redirect.php?code=s_histogram_sp_example&codeLang=Python)\n",
    "For details, see [here](https://www.arpm.co/lab/redirect.php?permalink=histogram_sp-example)."
   ]
  },
  {
   "cell_type": "code",
   "execution_count": null,
   "metadata": {},
   "outputs": [],
   "source": [
    "import numpy as np\n",
    "import matplotlib.pyplot as plt\n",
    "\n",
    "from arpym.tools.histogram_sp import histogram_sp\n",
    "from arpym.tools.logo import add_logo\n",
    "from arpym.statistics.simulate_normal import simulate_normal\n",
    "\n",
    "j_ = 10000  # number of invariants\n",
    "# Generate data from a scenario probability distribution\n",
    "x = simulate_normal(0, 1, j_)  # generate invariants\n",
    "p = np.random.rand(j_)  # generate flexible probabilities\n",
    "p = p / np.sum(p)  # normalize flexible probabilities\n",
    "xi = np.linspace(-3, 3, 101)  # define bin centers\n",
    "# Compute histogram heights and bin centers\n",
    "f_1, xi_1 = histogram_sp(x)\n",
    "f_2, xi_2 = histogram_sp(x, p=p)\n",
    "f_3, xi_3 = histogram_sp(x, p=p, k_=31)\n",
    "f_4, xi_4 = histogram_sp(x, p=p, xi=xi)\n",
    "\n",
    "# Plots\n",
    "plt.style.use('arpm')\n",
    "\n",
    "fig = plt.figure(figsize=(1280.0/72.0, 720.0/72.0), dpi=72.0)\n",
    "plt.step(xi_1, f_1, where='mid', label='default parameters')\n",
    "plt.step(xi_2, f_2, where='mid', label='flexible probabilities')\n",
    "plt.step(xi_3, f_3, where='mid', label='specify number of bins')\n",
    "plt.step(xi_4, f_4, where='mid', label='specify bin centers')\n",
    "plt.xticks(fontsize=14)\n",
    "plt.yticks(fontsize=14)\n",
    "plt.legend(loc=2, fontsize=17)\n",
    "\n",
    "add_logo(fig, location=1, set_fig_size=False)"
   ]
  }
 ],
 "metadata": {
  "jupytext": {
   "encoding": "# -*- coding: utf-8 -*-",
   "executable": "/usr/bin/env python3"
  },
  "kernelspec": {
   "display_name": "Python 3",
   "language": "python",
   "name": "python3"
  }
 },
 "nbformat": 4,
 "nbformat_minor": 4
}
