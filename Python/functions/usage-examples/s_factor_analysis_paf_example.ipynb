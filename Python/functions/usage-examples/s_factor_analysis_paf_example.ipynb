{
 "cells": [
  {
   "cell_type": "markdown",
   "metadata": {},
   "source": [
    "# s_factor_analysis_paf_example [<img src=\"https://www.arpm.co/lab/icons/icon_permalink.png\" width=30 height=30 style=\"display: inline;\">](https://www.arpm.co/lab/redirect.php?code=s_factor_analysis_paf_example&codeLang=Python)\n",
    "For details, see [here](https://www.arpm.co/lab/redirect.php?permalink=factor_analysis_paf-example)."
   ]
  },
  {
   "cell_type": "code",
   "execution_count": null,
   "metadata": {},
   "outputs": [],
   "source": [
    "import numpy as np\n",
    "\n",
    "from arpym.estimation.factor_analysis_paf import factor_analysis_paf\n",
    "\n",
    "cv_x = np.array([[1., 0.3, -0.2],\n",
    "                   [0.3, 1, 0.1],\n",
    "                   [-0.2, 0.1, 1]])    # target covariance\n",
    "k_ = 1    # dimension of the hidden factors\n",
    "beta, delta2 = factor_analysis_paf(cv_x, k_)    # optimal loadings and idiosyncratic variances"
   ]
  }
 ],
 "metadata": {
  "jupytext": {
   "encoding": "# -*- coding: utf-8 -*-",
   "executable": "/usr/bin/env python3"
  },
  "kernelspec": {
   "display_name": "Python 3",
   "language": "python",
   "name": "python3"
  }
 },
 "nbformat": 4,
 "nbformat_minor": 4
}
