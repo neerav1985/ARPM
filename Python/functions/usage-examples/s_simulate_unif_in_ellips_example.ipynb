{
 "cells": [
  {
   "cell_type": "markdown",
   "metadata": {},
   "source": [
    "# s_simulate_unif_in_ellips_example [<img src=\"https://www.arpm.co/lab/icons/icon_permalink.png\" width=30 height=30 style=\"display: inline;\">](https://www.arpm.co/lab/redirect.php?code=s_simulate_unif_in_ellips_example&codeLang=Python)\n",
    "For details, see [here](https://www.arpm.co/lab/redirect.php?permalink=simulate_unif_in_ellips-example)."
   ]
  },
  {
   "cell_type": "code",
   "execution_count": null,
   "metadata": {},
   "outputs": [],
   "source": [
    "import numpy as np\n",
    "\n",
    "from arpym.statistics.simulate_unif_in_ellips import simulate_unif_in_ellips\n",
    "\n",
    "# Set location and dispersion of the ellipse\n",
    "mu = np.array([4, 1])\n",
    "sigma2 = np.array([[3, 1.5], [1.5, 1]])\n",
    "\n",
    "# Set the number of scenarios\n",
    "j_ = 1000  \n",
    "\n",
    "# generate uniform scenarios inside the ellipse\n",
    "x, r, y = simulate_unif_in_ellips(mu, sigma2, j_)"
   ]
  }
 ],
 "metadata": {
  "jupytext": {
   "encoding": "# -*- coding: utf-8 -*-",
   "executable": "/usr/bin/env python3"
  },
  "kernelspec": {
   "display_name": "Python 3",
   "language": "python",
   "name": "python3"
  }
 },
 "nbformat": 4,
 "nbformat_minor": 4
}
