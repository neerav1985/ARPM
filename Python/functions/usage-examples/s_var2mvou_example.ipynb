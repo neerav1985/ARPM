{
 "cells": [
  {
   "cell_type": "markdown",
   "metadata": {},
   "source": [
    "# s_var2mvou_example [<img src=\"https://www.arpm.co/lab/icons/icon_permalink.png\" width=30 height=30 style=\"display: inline;\">](https://www.arpm.co/lab/redirect.php?code=s_var2mvou_example&codeLang=Python)\n",
    "For details, see [here](https://www.arpm.co/lab/redirect.php?permalink=var2mvou-example)."
   ]
  },
  {
   "cell_type": "code",
   "execution_count": null,
   "metadata": {},
   "outputs": [],
   "source": [
    "import numpy as np\n",
    "\n",
    "from arpym.estimation.var2mvou import var2mvou\n",
    "\n",
    "# Input parameters\n",
    "b = np.array([[0.5, 0, 0], [0, 0.3, 0], [0, 0, 0.1]])  # VAR(1) parameter\n",
    "mu_epsi = np.array([0, 0, 0])  # expectation of shocks\n",
    "sig2_epsi = np.eye(3)  # covariance matrix of shocks\n",
    "\n",
    "# VAR(1) to a MVOU\n",
    "theta, mu_epsi_mvou, sig2_epsi_mvou = var2mvou(b, mu_epsi, sig2_epsi, 1)  # embed VAR(1) into a MVOU"
   ]
  }
 ],
 "metadata": {
  "jupytext": {
   "encoding": "# -*- coding: utf-8 -*-",
   "executable": "/usr/bin/env python3"
  },
  "kernelspec": {
   "display_name": "Python 3",
   "language": "python",
   "name": "python3"
  }
 },
 "nbformat": 4,
 "nbformat_minor": 4
}
