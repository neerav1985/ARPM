{
 "cells": [
  {
   "cell_type": "markdown",
   "metadata": {},
   "source": [
    "# s_transpose_square_root_example [<img src=\"https://www.arpm.co/lab/icons/icon_permalink.png\" width=30 height=30 style=\"display: inline;\">](https://www.arpm.co/lab/redirect.php?code=s_transpose_square_root_example&codeLang=Python)\n",
    "For details, see [here](https://www.arpm.co/lab/redirect.php?permalink=transpose_square_root-example)."
   ]
  },
  {
   "cell_type": "code",
   "execution_count": null,
   "metadata": {},
   "outputs": [],
   "source": [
    "import numpy as np\n",
    "from arpym.tools.transpose_square_root import transpose_square_root\n",
    "\n",
    "# Input parameters\n",
    "sigma2 = np.array([[0.25, 0.3, 0.25],\n",
    "                    [0.3, 1, 0],\n",
    "                    [0.25, 0, 6.25]])  # positive-definite matrix\n",
    "d = np.array([[1, 0, 1],\n",
    "              [0, 1, 0]])  # CPCA constraints\n",
    "v = np.array([[1, 0, 1],[2, 1, 0], [0, 1, 1]]) # basis of vectors\n",
    "s_riccati = transpose_square_root(sigma2, method='PCA') # Riccati transpose-square-root\n",
    "s_cpca = transpose_square_root(sigma2, method='CPCA', d=d)  # CPCA transpose-square-root\n",
    "s_pca = transpose_square_root(sigma2, method='PCA')  # PCA transpose-square-root\n",
    "s_gram_schmidt = transpose_square_root(sigma2, method='Gram-Schmidt', d=None, v=v)  # Gram-Schmidt transpose-square-root\n",
    "s_cholesky = transpose_square_root(sigma2, method='Cholesky')  # Cholesky transpose-square-root\n",
    "s_gs_chol = transpose_square_root(sigma2, method='Gram-Schmidt')  # Cholesky transpose-square-root via Gram-Schmidt"
   ]
  }
 ],
 "metadata": {
  "jupytext": {
   "encoding": "# -*- coding: utf-8 -*-",
   "executable": "/usr/bin/env python3"
  },
  "kernelspec": {
   "display_name": "Python 3",
   "language": "python",
   "name": "python3"
  }
 },
 "nbformat": 4,
 "nbformat_minor": 4
}
