{
 "cells": [
  {
   "cell_type": "markdown",
   "metadata": {},
   "source": [
    "# s_multi_r2_example [<img src=\"https://www.arpm.co/lab/icons/icon_permalink.png\" width=30 height=30 style=\"display: inline;\">](https://www.arpm.co/lab/redirect.php?code=s_multi_r2_example&codeLang=Python)\n",
    "For details, see [here](https://www.arpm.co/lab/redirect.php?permalink=multi_r2-example)."
   ]
  },
  {
   "cell_type": "code",
   "execution_count": null,
   "metadata": {},
   "outputs": [],
   "source": [
    "import numpy as np\n",
    "\n",
    "from arpym.statistics.multi_r2 import multi_r2\n",
    "\n",
    "# Input parameters\n",
    "s2_u = 0.1 * np.array([[1.0, 0.2, 0.2],\n",
    "                       [0.2, 1.0, 0.2],\n",
    "                       [0.2, 0.2, 1.0]])  # residual covariance\n",
    "s2_x = np.array([[1.0, 0.5, 0.5],\n",
    "                 [0.5, 1.0, 0.5],\n",
    "                 [0.5, 0.5, 1.0]])  # target covariance\n",
    "sigma2 = 0.1 * np.array([[1.0, -0.1, -0.1],\n",
    "                         [-0.1, 1.0, -0.1],\n",
    "                         [-0.1, -0.1, 1.0]])  # scale matrix\n",
    "r2 = multi_r2(s2_u, s2_x, sigma2)  # r-squared"
   ]
  }
 ],
 "metadata": {
  "jupytext": {
   "encoding": "# -*- coding: utf-8 -*-",
   "executable": "/usr/bin/env python3"
  },
  "kernelspec": {
   "display_name": "Python 3",
   "language": "python",
   "name": "python3"
  }
 },
 "nbformat": 4,
 "nbformat_minor": 4
}
