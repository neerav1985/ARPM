{
 "cells": [
  {
   "cell_type": "markdown",
   "metadata": {},
   "source": [
    "# s_invariance_test_ks_example [<img src=\"https://www.arpm.co/lab/icons/icon_permalink.png\" width=30 height=30 style=\"display: inline;\">](https://www.arpm.co/lab/redirect.php?code=s_invariance_test_ks_example&codeLang=Python)\n",
    "For details, see [here](https://www.arpm.co/lab/redirect.php?permalink=invariance_test_ks-example)."
   ]
  },
  {
   "cell_type": "code",
   "execution_count": null,
   "metadata": {},
   "outputs": [],
   "source": [
    "import numpy as np\n",
    "import matplotlib.pyplot as plt\n",
    "\n",
    "from arpym.statistics.invariance_test_ks import invariance_test_ks\n",
    "\n",
    "# Input parameters\n",
    "t_ = 1000  # number of realization\n",
    "\n",
    "epsi = np.random.normal(0, 1, t_)  # generate realizations\n",
    "\n",
    "z_ks, z = invariance_test_ks(epsi, conf_lev=0.9999)  # perform the KS test"
   ]
  }
 ],
 "metadata": {
  "kernelspec": {
   "display_name": "Python 3",
   "language": "python",
   "name": "python3"
  }
 },
 "nbformat": 4,
 "nbformat_minor": 4
}
