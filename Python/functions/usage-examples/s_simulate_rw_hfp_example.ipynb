{
 "cells": [
  {
   "cell_type": "markdown",
   "metadata": {},
   "source": [
    "# s_simulate_rw_hfp_example [<img src=\"https://www.arpm.co/lab/icons/icon_permalink.png\" width=30 height=30 style=\"display: inline;\">](https://www.arpm.co/lab/redirect.php?code=s_simulate_rw_hfp_example&codeLang=Python)\n",
    "For details, see [here](https://www.arpm.co/lab/redirect.php?permalink=simulate_rw_hfp-example)."
   ]
  },
  {
   "cell_type": "code",
   "execution_count": null,
   "metadata": {},
   "outputs": [],
   "source": [
    "import numpy as np\n",
    "\n",
    "from arpym.statistics.simulate_rw_hfp import simulate_rw_hfp\n",
    "from arpym.estimation.exp_decay_fp import exp_decay_fp\n",
    "\n",
    "x_tnow = np.array([0, 0])  # value of the process at the current time\n",
    "t_ = 100  # number of historical observation\n",
    "j_ = 1000  # number of scenarios\n",
    "m_ = 10   # number of monitoring times\n",
    "epsi = np.random.rand(t_, 2)  # generate \"observed\" invariants\n",
    "p = np.ones(t_)/t_  # flexible probabilities\n",
    "x_tnow_thor = simulate_rw_hfp(x_tnow, epsi, p, j_, m_)  # generate scenarios"
   ]
  }
 ],
 "metadata": {
  "jupytext": {
   "encoding": "# -*- coding: utf-8 -*-",
   "executable": "/usr/bin/env python3"
  },
  "kernelspec": {
   "display_name": "Python 3",
   "language": "python",
   "name": "python3"
  }
 },
 "nbformat": 4,
 "nbformat_minor": 4
}
