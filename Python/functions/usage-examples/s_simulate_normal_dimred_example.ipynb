{
 "cells": [
  {
   "cell_type": "markdown",
   "metadata": {},
   "source": [
    "# s_simulate_normal_dimred_example [<img src=\"https://www.arpm.co/lab/icons/icon_permalink.png\" width=30 height=30 style=\"display: inline;\">](https://www.arpm.co/lab/redirect.php?code=s_simulate_normal_dimred_example&codeLang=Python)\n",
    "For details, see [here](https://www.arpm.co/lab/redirect.php?permalink=simulate_normal_dimred-example)."
   ]
  },
  {
   "cell_type": "code",
   "execution_count": null,
   "metadata": {},
   "outputs": [],
   "source": [
    "import numpy as np\n",
    "\n",
    "from arpym.statistics.simulate_normal_dimred import simulate_normal_dimred\n",
    "\n",
    "# Input parameters\n",
    "n_ = 10\n",
    "j_ = 10000\n",
    "k_ = 3\n",
    "\n",
    "# Set target moments\n",
    "mu_ = np.random.rand(n_)  # target expectation\n",
    "\n",
    "sigma = np.random.rand(n_, n_)\n",
    "sigma2_ = sigma @ sigma.T  # target covariance\n",
    "\n",
    "# Normal scenarios with dimension reduction\n",
    "x_, _ = simulate_normal_dimred(mu_, sigma2_, j_, k_)"
   ]
  }
 ],
 "metadata": {
  "jupytext": {
   "encoding": "# -*- coding: utf-8 -*-",
   "executable": "/usr/bin/env python3"
  },
  "kernelspec": {
   "display_name": "Python 3",
   "language": "python",
   "name": "python3"
  }
 },
 "nbformat": 4,
 "nbformat_minor": 4
}
