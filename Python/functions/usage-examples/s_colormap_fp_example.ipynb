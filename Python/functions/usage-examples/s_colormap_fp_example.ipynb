{
 "cells": [
  {
   "cell_type": "markdown",
   "metadata": {},
   "source": [
    "# s_colormap_fp_example [<img src=\"https://www.arpm.co/lab/icons/icon_permalink.png\" width=30 height=30 style=\"display: inline;\">](https://www.arpm.co/lab/redirect.php?code=s_colormap_fp_example&codeLang=Python)\n",
    "For details, see [here](https://www.arpm.co/lab/redirect.php?permalink=colormap_fp-example)."
   ]
  },
  {
   "cell_type": "code",
   "execution_count": null,
   "metadata": {},
   "outputs": [],
   "source": [
    "from arpym.estimation.exp_decay_fp import exp_decay_fp\n",
    "from arpym.tools.colormap_fp import colormap_fp\n",
    "\n",
    "# Input parameters\n",
    "t_ = 100\n",
    "tau_hl = 20\n",
    "\n",
    "# Exponential decay probabilities\n",
    "p_tau_hl = exp_decay_fp(t_, tau_hl)\n",
    "\n",
    "# Colormap and colors\n",
    "color_map, fp_colors = colormap_fp(p_tau_hl)"
   ]
  }
 ],
 "metadata": {
  "jupytext": {
   "encoding": "# -*- coding: utf-8 -*-",
   "executable": "/usr/bin/env python3"
  },
  "kernelspec": {
   "display_name": "Python 3",
   "language": "python",
   "name": "python3"
  }
 },
 "nbformat": 4,
 "nbformat_minor": 4
}
