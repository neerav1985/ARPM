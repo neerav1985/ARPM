{
 "cells": [
  {
   "cell_type": "markdown",
   "metadata": {},
   "source": [
    "# s_factor_analysis_mlf_example [<img src=\"https://www.arpm.co/lab/icons/icon_permalink.png\" width=30 height=30 style=\"display: inline;\">](https://www.arpm.co/lab/redirect.php?code=s_factor_analysis_mlf_example&codeLang=Python)\n",
    "For details, see [here](https://www.arpm.co/lab/redirect.php?permalink=factor_analysis_mlf-example)."
   ]
  },
  {
   "cell_type": "code",
   "execution_count": null,
   "metadata": {},
   "outputs": [],
   "source": [
    "import numpy as np\n",
    "\n",
    "from arpym.estimation.factor_analysis_mlf import factor_analysis_mlf\n",
    "\n",
    "sigma2 = np.array([[1., 0.3, -0.2], # covariance matrix to be decomposed\n",
    "                   [0.3, 1., 0.1],\n",
    "                   [-0.2, 0.1, 1.]])\n",
    "k_ = 1  # number of factors\n",
    "eps = 1e-3  # treshold\n",
    "beta, delta2 =\\\n",
    "            factor_analysis_mlf(sigma2, k_=k_, eps=eps)  # decompose covariance\n",
    "sigma2_mlf = beta @ beta.T + np.diagflat(delta2)  # maximum likelihood covariance\n",
    "err_f = np.linalg.norm(sigma2_mlf-sigma2,\n",
    "                       ord='f')  # verify results in Frobenius norm\n",
    "err_re = 0.5*(np.trace(sigma2_mlf @ np.linalg.inv(sigma2)) -\n",
    "              np.log(np.linalg.det(sigma2_mlf @ np.linalg.inv(sigma2))) -\n",
    "              sigma2.shape[0])  # verify results in relative entropy distance"
   ]
  }
 ],
 "metadata": {
  "jupytext": {
   "encoding": "# -*- coding: utf-8 -*-",
   "executable": "/usr/bin/env python3"
  },
  "kernelspec": {
   "display_name": "Python 3",
   "language": "python",
   "name": "python3"
  }
 },
 "nbformat": 4,
 "nbformat_minor": 4
}
