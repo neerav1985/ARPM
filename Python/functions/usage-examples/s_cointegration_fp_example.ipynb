{
 "cells": [
  {
   "cell_type": "markdown",
   "metadata": {},
   "source": [
    "# s_cointegration_fp_example [<img src=\"https://www.arpm.co/lab/icons/icon_permalink.png\" width=30 height=30 style=\"display: inline;\">](https://www.arpm.co/lab/redirect.php?code=s_cointegration_fp_example&codeLang=Python)\n",
    "For details, see [here](https://www.arpm.co/lab/redirect.php?permalink=cointegration_fp-example)."
   ]
  },
  {
   "cell_type": "code",
   "execution_count": null,
   "metadata": {},
   "outputs": [],
   "source": [
    "import numpy as np\n",
    "\n",
    "from arpym.estimation.cointegration_fp import cointegration_fp\n",
    "from arpym.statistics.simulate_var1 import simulate_var1\n",
    "\n",
    "# Input parameters\n",
    "t_ = 2000  # sample length\n",
    "b = np.array([[1, 0, 0], [0, 0.1, 0], [0, 0, 0.7]])  # VAR(1) parameter\n",
    "mu_epsi = np.array([0, 0, 0])  # mean of shocks\n",
    "sig2_epsi = np.array([[1, 0, 0],\n",
    "                      [0, 1, 0],\n",
    "                      [0, 0, 1]])  # covariance matrix of shocks\n",
    "# simulate VAR(1)\n",
    "x_tnow = np.array([0, 0, 0])\n",
    "x = simulate_var1(x_tnow, b, mu_epsi, sig2_epsi, t_, j_=1)[0]\n",
    "# detect cointegrated eigenvectors\n",
    "c_hat, b_hat = cointegration_fp(x)"
   ]
  }
 ],
 "metadata": {
  "jupytext": {
   "encoding": "# -*- coding: utf-8 -*-",
   "executable": "/usr/bin/env python3"
  },
  "kernelspec": {
   "display_name": "Python 3",
   "language": "python",
   "name": "python3"
  }
 },
 "nbformat": 4,
 "nbformat_minor": 4
}
