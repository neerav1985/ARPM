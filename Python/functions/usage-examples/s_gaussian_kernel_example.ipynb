{
 "cells": [
  {
   "cell_type": "markdown",
   "metadata": {},
   "source": [
    "# s_gaussian_kernel_example [<img src=\"https://www.arpm.co/lab/icons/icon_permalink.png\" width=30 height=30 style=\"display: inline;\">](https://www.arpm.co/lab/redirect.php?code=s_gaussian_kernel_example&codeLang=Python)\n",
    "For details, see [here](https://www.arpm.co/lab/redirect.php?permalink=gaussian_kernel-example)."
   ]
  },
  {
   "cell_type": "code",
   "execution_count": null,
   "metadata": {},
   "outputs": [],
   "source": [
    "import numpy as np\n",
    "\n",
    "from arpym.statistics.gaussian_kernel import gaussian_kernel\n",
    "\n",
    "# Input parameters\n",
    "\n",
    "h2 = 0.08\n",
    "y = np.array([1, 1])\n",
    "x = np.array([2, 1])\n",
    "\n",
    "# Compute the Gaussian kernel\n",
    "delta_h2_y_x = gaussian_kernel(h2, y, x)"
   ]
  }
 ],
 "metadata": {
  "jupytext": {
   "encoding": "# -*- coding: utf-8 -*-",
   "executable": "/usr/bin/env python3"
  },
  "kernelspec": {
   "display_name": "Python 3",
   "language": "python",
   "name": "python3"
  }
 },
 "nbformat": 4,
 "nbformat_minor": 4
}
