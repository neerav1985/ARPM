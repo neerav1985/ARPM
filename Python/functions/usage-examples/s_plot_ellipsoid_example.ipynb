{
 "cells": [
  {
   "cell_type": "markdown",
   "metadata": {},
   "source": [
    "# s_plot_ellipsoid_example [<img src=\"https://www.arpm.co/lab/icons/icon_permalink.png\" width=30 height=30 style=\"display: inline;\">](https://www.arpm.co/lab/redirect.php?code=s_plot_ellipsoid_example&codeLang=Python)\n",
    "For details, see [here](https://www.arpm.co/lab/redirect.php?permalink=plot_ellipsoid-example)."
   ]
  },
  {
   "cell_type": "code",
   "execution_count": null,
   "metadata": {},
   "outputs": [],
   "source": [
    "import numpy as np\n",
    "import matplotlib.pyplot as plt\n",
    "from arpym.tools.plot_ellipsoid import plot_ellipsoid\n",
    "from arpym.tools.logo import add_logo\n",
    "\n",
    "# Input parameters\n",
    "m = np.zeros(3)\n",
    "s2 = np.array([[1, 0.6, 0.6],\n",
    "               [0.6, 1, 0.6],\n",
    "               [0.6, 0.6, 1]])\n",
    "\n",
    "# Plot ellipsoid\n",
    "plt.style.use('arpm')\n",
    "f, ax = plot_ellipsoid(m, s2)\n",
    "add_logo(f)\n"
   ]
  }
 ],
 "metadata": {
  "jupytext": {
   "encoding": "# -*- coding: utf-8 -*-",
   "executable": "/usr/bin/env python3"
  },
  "kernelspec": {
   "display_name": "Python 3",
   "language": "python",
   "name": "python3"
  }
 },
 "nbformat": 4,
 "nbformat_minor": 4
}
