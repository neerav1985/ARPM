{
 "cells": [
  {
   "cell_type": "markdown",
   "metadata": {},
   "source": [
    "# s_fit_lfm_roblasso_example [<img src=\"https://www.arpm.co/lab/icons/icon_permalink.png\" width=30 height=30 style=\"display: inline;\">](https://www.arpm.co/lab/redirect.php?code=s_fit_lfm_roblasso_example&codeLang=Python)\n",
    "For details, see [here](https://www.arpm.co/lab/redirect.php?permalink=fit_lfm_roblasso-example)."
   ]
  },
  {
   "cell_type": "code",
   "execution_count": null,
   "metadata": {},
   "outputs": [],
   "source": [
    "import numpy as np\n",
    "\n",
    "from arpym.statistics.simulate_normal import simulate_normal\n",
    "from arpym.estimation.fit_lfm_roblasso import fit_lfm_roblasso\n",
    "\n",
    "# set parameters\n",
    "j_ = 6000  # number of simulations\n",
    "mu_u = np.array([0, 0, 0, 0])  # residual location\n",
    "sig_u = np.eye(4)   # residual dispersion\n",
    "mu_z = np.array([0, 0, 0])  # factor location\n",
    "sig_z = np.eye(3)  # factor dispersion\n",
    "b = np.array([[0.5, 0.3, 0.1], [0.2, 0.3, 0.7], [0.4, 0.3, 0.6],\n",
    "              [0.1, 0, 0]])\n",
    "las_beta = 0.2  # lasso regression penalty\n",
    "\n",
    "# generate lfm\n",
    "u = simulate_normal(mu_u, sig_u, j_)\n",
    "z = simulate_normal(mu_z, sig_z, j_)\n",
    "x = z @ b.T + u\n",
    "\n",
    "# estimate lfm\n",
    "alpha_rmlfp, beta_rmlfp, sig2_rmlfp = fit_lfm_roblasso(x, z,\n",
    "                                                       lambda_beta=las_beta)"
   ]
  }
 ],
 "metadata": {
  "jupytext": {
   "encoding": "# -*- coding: utf-8 -*-",
   "executable": "/usr/bin/env python3"
  },
  "kernelspec": {
   "display_name": "Python 3",
   "language": "python",
   "name": "python3"
  }
 },
 "nbformat": 4,
 "nbformat_minor": 4
}
