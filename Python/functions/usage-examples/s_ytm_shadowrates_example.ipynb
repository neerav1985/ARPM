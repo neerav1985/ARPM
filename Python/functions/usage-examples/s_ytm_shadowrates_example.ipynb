{
 "cells": [
  {
   "cell_type": "markdown",
   "metadata": {},
   "source": [
    "# s_ytm_shadowrates_example [<img src=\"https://www.arpm.co/lab/icons/icon_permalink.png\" width=30 height=30 style=\"display: inline;\">](https://www.arpm.co/lab/redirect.php?code=s_ytm_shadowrates_example&codeLang=Python)\n",
    "For details, see [here](https://www.arpm.co/lab/redirect.php?permalink=ytm_shadowrates-example)."
   ]
  },
  {
   "cell_type": "code",
   "execution_count": null,
   "metadata": {},
   "outputs": [],
   "source": [
    "import numpy as np\n",
    "\n",
    "from arpym.pricing.ytm_shadowrates import ytm_shadowrates\n",
    "\n",
    "# Input parameters\n",
    "y = np.array([[0.01, 0.0015, 0.02],\n",
    "              [0.02, 0.02, 0.03]])\n",
    "# compute shadow rates\n",
    "c_inv_eta = ytm_shadowrates(y)"
   ]
  }
 ],
 "metadata": {
  "jupytext": {
   "encoding": "# -*- coding: utf-8 -*-",
   "executable": "/usr/bin/env python3"
  },
  "kernelspec": {
   "display_name": "Python 3",
   "language": "python",
   "name": "python3"
  }
 },
 "nbformat": 4,
 "nbformat_minor": 4
}
