{
 "cells": [
  {
   "cell_type": "markdown",
   "metadata": {},
   "source": [
    "# s_objective_r2_example [<img src=\"https://www.arpm.co/lab/icons/icon_permalink.png\" width=30 height=30 style=\"display: inline;\">](https://www.arpm.co/lab/redirect.php?code=s_objective_r2_example&codeLang=Python)\n",
    "For details, see [here](https://www.arpm.co/lab/redirect.php?permalink=objective_r2-example)."
   ]
  },
  {
   "cell_type": "code",
   "execution_count": null,
   "metadata": {},
   "outputs": [],
   "source": [
    "import numpy as np\n",
    "\n",
    "from arpym.statistics.objective_r2 import objective_r2\n",
    "from arpym.statistics.simulate_normal import simulate_normal\n",
    "\n",
    "n_ = 1  # target dimension\n",
    "m_ = 9  # factors dimension\n",
    "s_xz = simulate_normal(0, 1, (n_ + m_)**2).reshape(n_ + m_, n_ + m_)\n",
    "s2_xz = s_xz @ s_xz.T / (n_ + m_) # (n_+m_)-dimensional covariance of the joint variable\n",
    "s = np.array([1,3,5,7])  # select factors\n",
    "_, minus_r2 = objective_r2(s, s2_xz, n_)  # calculate r-squared"
   ]
  }
 ],
 "metadata": {
  "jupytext": {
   "encoding": "# -*- coding: utf-8 -*-",
   "executable": "/usr/bin/env python3"
  },
  "kernelspec": {
   "display_name": "Python 3",
   "language": "python",
   "name": "python3"
  }
 },
 "nbformat": 4,
 "nbformat_minor": 4
}
