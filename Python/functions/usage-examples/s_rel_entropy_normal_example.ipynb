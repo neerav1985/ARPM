{
 "cells": [
  {
   "cell_type": "markdown",
   "metadata": {},
   "source": [
    "# s_rel_entropy_normal_example [<img src=\"https://www.arpm.co/lab/icons/icon_permalink.png\" width=30 height=30 style=\"display: inline;\">](https://www.arpm.co/lab/redirect.php?code=s_rel_entropy_normal_example&codeLang=Python)\n",
    "For details, see [here](https://www.arpm.co/lab/redirect.php?permalink=rel_entropy_normal-example)."
   ]
  },
  {
   "cell_type": "code",
   "execution_count": null,
   "metadata": {},
   "outputs": [],
   "source": [
    "import numpy as np\n",
    "from arpym.views.rel_entropy_normal import rel_entropy_normal\n",
    "\n",
    "n_ = 3  # dimension of the random variable X\n",
    "mu_x_updated = np.random.uniform(0, 1, n_)  # n_-variate updated expectation\n",
    "sigma_x_updated = np.random.uniform(0, 1, size=(n_, n_))\n",
    "sigma2_x_updated = sigma_x_updated @ sigma_x_updated  # n_-variate updated covariance\n",
    "mu_x_base = np.random.uniform(0, 1, n_)  # n_-variate base expectation\n",
    "sigma_x_base = np.random.uniform(0, 1, size=(n_, n_))\n",
    "sigma2_x_base = sigma_x_base @ sigma_x_base.T  # n_-variate base covariance\n",
    "\n",
    "rel_ent = rel_entropy_normal(mu_x_updated,\n",
    "                             sigma2_x_updated,\n",
    "                             mu_x_base,\n",
    "                             sigma2_x_base)  # compute relative entropy between updated and base normal distribution"
   ]
  }
 ],
 "metadata": {
  "jupytext": {
   "encoding": "# -*- coding: utf-8 -*-",
   "executable": "/usr/bin/env python3"
  },
  "kernelspec": {
   "display_name": "Python 3",
   "language": "python",
   "name": "python3"
  }
 },
 "nbformat": 4,
 "nbformat_minor": 4
}
