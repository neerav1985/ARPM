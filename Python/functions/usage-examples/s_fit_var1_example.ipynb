{
 "cells": [
  {
   "cell_type": "markdown",
   "metadata": {},
   "source": [
    "# s_fit_var1_example [<img src=\"https://www.arpm.co/lab/icons/icon_permalink.png\" width=30 height=30 style=\"display: inline;\">](https://www.arpm.co/lab/redirect.php?code=s_fit_var1_example&codeLang=Python)\n",
    "For details, see [here](https://www.arpm.co/lab/redirect.php?permalink=fit_var1-example)."
   ]
  },
  {
   "cell_type": "code",
   "execution_count": null,
   "metadata": {},
   "outputs": [],
   "source": [
    "import numpy as np\n",
    "\n",
    "from arpym.estimation.fit_var1 import fit_var1\n",
    "from arpym.statistics.simulate_var1 import simulate_var1\n",
    "\n",
    "\n",
    "t_ = 2000  # sample length\n",
    "b = np.array([[0.1, 0, 0],\n",
    "              [0, 1, 0],\n",
    "              [0, 0, 0.7]])  # VAR(1) parameter\n",
    "mu_epsi = np.array([0, 0, 0])  # mean of shocks\n",
    "sig2_epsi = np.array([[1, 0, 0],\n",
    "                      [0, 1, 0],\n",
    "                      [0, 0, 1]])  # covariance matrix of shocks\n",
    "# simulate VAR(1)\n",
    "x_tnow = np.zeros((1, 3), dtype=float)\n",
    "x = simulate_var1(x_tnow, b, mu_epsi, sig2_epsi, t_, j_=1)[0]\n",
    "# fit VAR(1)\n",
    "b_hat, mu_epsi_hat, sig2_epsi_hat = fit_var1(x)"
   ]
  }
 ],
 "metadata": {
  "jupytext": {
   "encoding": "# -*- coding: utf-8 -*-",
   "executable": "/usr/bin/env python3"
  },
  "kernelspec": {
   "display_name": "Python 3",
   "language": "python",
   "name": "python3"
  }
 },
 "nbformat": 4,
 "nbformat_minor": 4
}
