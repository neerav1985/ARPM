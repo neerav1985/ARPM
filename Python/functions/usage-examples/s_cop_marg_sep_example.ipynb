{
 "cells": [
  {
   "cell_type": "markdown",
   "metadata": {},
   "source": [
    "# s_cop_marg_sep_example [<img src=\"https://www.arpm.co/lab/icons/icon_permalink.png\" width=30 height=30 style=\"display: inline;\">](https://www.arpm.co/lab/redirect.php?code=s_cop_marg_sep_example&codeLang=Python)\n",
    "For details, see [here](https://www.arpm.co/lab/redirect.php?permalink=cop_marg_sep-example)."
   ]
  },
  {
   "cell_type": "code",
   "execution_count": null,
   "metadata": {},
   "outputs": [],
   "source": [
    "import numpy as np\n",
    "from arpym.statistics.cop_marg_sep import cop_marg_sep\n",
    "from arpym.statistics.simulate_normal import simulate_normal\n",
    "\n",
    "# Input parameters\n",
    "n_ = 2  # dimension of the variable\n",
    "j_ = 10**4  # number of the scenarios\n",
    "mu = np.random.uniform(size=n_)  # n_x1 randomly generated target expectation\n",
    "sigma = np.random.uniform(size=(n_, n_))  # n×n randomly generated target matrix\n",
    "sigma2 = sigma @ sigma.T  # target covariance\n",
    "\n",
    "# Scenarios\n",
    "x = simulate_normal(mu, sigma2, j_)  # normal scenarios\n",
    "p = np.ones(j_)/j_  # generate uniform probabilities\n",
    "\n",
    "# Separation step\n",
    "u, x_sort, cdf_x = cop_marg_sep(x, p)  # copula scenarios, sorted grid and marginal cdf's"
   ]
  }
 ],
 "metadata": {
  "jupytext": {
   "encoding": "# -*- coding: utf-8 -*-",
   "executable": "/usr/bin/env python3"
  },
  "kernelspec": {
   "display_name": "Python 3",
   "language": "python",
   "name": "python3"
  }
 },
 "nbformat": 4,
 "nbformat_minor": 4
}
