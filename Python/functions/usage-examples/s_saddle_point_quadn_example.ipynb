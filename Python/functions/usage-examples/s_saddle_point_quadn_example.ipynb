{
 "cells": [
  {
   "cell_type": "markdown",
   "metadata": {},
   "source": [
    "# s_saddle_point_quadn_example [<img src=\"https://www.arpm.co/lab/icons/icon_permalink.png\" width=30 height=30 style=\"display: inline;\">](https://www.arpm.co/lab/redirect.php?code=s_saddle_point_quadn_example&codeLang=Python)\n",
    "For details, see [here](https://www.arpm.co/lab/redirect.php?permalink=saddle_point_quadn-example)."
   ]
  },
  {
   "cell_type": "code",
   "execution_count": null,
   "metadata": {},
   "outputs": [],
   "source": [
    "import numpy as np\n",
    "from arpym.statistics.saddle_point_quadn import saddle_point_quadn\n",
    "\n",
    "j_ = 500  # grid size\n",
    "y = np.linspace(-500, 4000, j_)  # grid\n",
    "\n",
    "# parameters of the quadratic normal distribution\n",
    "alpha = 3\n",
    "beta = np.array([7, 4])\n",
    "gamma = np.array([[2, 9],\n",
    "                  [9, 2]])\n",
    "mu = np.array([9, 7])\n",
    "sigma2 = np.array([[14, 1],\n",
    "                   [1, 0.1]])\n",
    "\n",
    "# saddle point approximation of cdf and pdf quadratic normal\n",
    "cdf, pdf = saddle_point_quadn(y, alpha, beta, gamma, mu, sigma2)"
   ]
  }
 ],
 "metadata": {
  "jupytext": {
   "encoding": "# -*- coding: utf-8 -*-",
   "executable": "/usr/bin/env python3"
  },
  "kernelspec": {
   "display_name": "Python 3",
   "language": "python",
   "name": "python3"
  }
 },
 "nbformat": 4,
 "nbformat_minor": 4
}
