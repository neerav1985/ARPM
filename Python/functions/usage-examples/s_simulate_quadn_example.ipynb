{
 "cells": [
  {
   "cell_type": "markdown",
   "metadata": {},
   "source": [
    "# s_simulate_quadn_example [<img src=\"https://www.arpm.co/lab/icons/icon_permalink.png\" width=30 height=30 style=\"display: inline;\">](https://www.arpm.co/lab/redirect.php?code=s_simulate_quadn_example&codeLang=Python)\n",
    "For details, see [here](https://www.arpm.co/lab/redirect.php?permalink=simulate_quadn-example)."
   ]
  },
  {
   "cell_type": "code",
   "execution_count": null,
   "metadata": {},
   "outputs": [],
   "source": [
    "import numpy as np\n",
    "\n",
    "from arpym.statistics.simulate_quadn import simulate_quadn\n",
    "\n",
    "n_ = 5  # input parameters\n",
    "j_ = 10000\n",
    "\n",
    "alpha = np.random.uniform()  # randomly generated scalar\n",
    "beta = np.random.uniform(size=n_)  # n_x1 randomly generated vector\n",
    "gamma = np.random.uniform(size=(n_, n_))  # n_xn_ randomly generated matrix\n",
    "gamma = gamma @ gamma.T  # n_xn_ randomly generated symmetric matrix\n",
    "mu = np.random.uniform(size=n_)  # n_x1 randomly generated expectation\n",
    "sigma = np.random.uniform(size=(n_, n_))  # n_xn_ randomly generated matrix\n",
    "sigma2 = sigma @ sigma.T  # n_xn_ randomly generated target covariance\n",
    "\n",
    "y, p_ = simulate_quadn(alpha, beta, gamma, mu, sigma2, j_)  # generate quadratic normal scenarios"
   ]
  }
 ],
 "metadata": {
  "jupytext": {
   "encoding": "# -*- coding: utf-8 -*-",
   "executable": "/usr/bin/env python3"
  },
  "kernelspec": {
   "display_name": "Python 3",
   "language": "python",
   "name": "python3"
  }
 },
 "nbformat": 4,
 "nbformat_minor": 4
}
