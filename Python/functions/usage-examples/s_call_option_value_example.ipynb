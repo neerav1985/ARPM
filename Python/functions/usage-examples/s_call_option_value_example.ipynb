{
 "cells": [
  {
   "cell_type": "markdown",
   "metadata": {},
   "source": [
    "# s_call_option_value_example [<img src=\"https://www.arpm.co/lab/icons/icon_permalink.png\" width=30 height=30 style=\"display: inline;\">](https://www.arpm.co/lab/redirect.php?code=s_call_option_value_example&codeLang=Python)\n",
    "For details, see [here](https://www.arpm.co/lab/redirect.php?permalink=call_option_value-example)."
   ]
  },
  {
   "cell_type": "code",
   "execution_count": null,
   "metadata": {},
   "outputs": [],
   "source": [
    "import numpy as np\n",
    "\n",
    "from arpym.pricing.call_option_value import call_option_value\n",
    "\n",
    "x_s_thor = 7  # log-value of underlying\n",
    "x_y_thor = np.array([0.01])  # shadow yield\n",
    "tau_y = np.array([2])  # time to maturity\n",
    "x_sig_thor = np.array([[0.1, 0.11],\n",
    "                    [0.18, 0.21],\n",
    "                    [0.2, 0.3]])  # implied volatility\n",
    "m_sig = np.array([-1, 0, 1])  # moneyness\n",
    "tau_sig = np.array([1, 2])  # times to expiry\n",
    "k_strk = 1100 #strike value\n",
    "t_end = np.datetime64('2012-06-29')  # expiry date\n",
    "t_hor = np.datetime64('2011-06-29')  # horizon date\n",
    "sr = 0  # shadow yield (indicator)\n",
    "logsig = 0  # implied volatility (indicator)\n",
    "\n",
    "v_thor = call_option_value(t_hor, x_s_thor, x_y_thor, tau_y,\n",
    "                           x_sig_thor, m_sig, tau_sig,\n",
    "                           k_strk, t_end, sr,\n",
    "                           logsig)  # call option value"
   ]
  }
 ],
 "metadata": {
  "jupytext": {
   "encoding": "# -*- coding: utf-8 -*-",
   "executable": "/usr/bin/env python3"
  },
  "kernelspec": {
   "display_name": "Python 3",
   "language": "python",
   "name": "python3"
  }
 },
 "nbformat": 4,
 "nbformat_minor": 4
}
