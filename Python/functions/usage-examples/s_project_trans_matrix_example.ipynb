{
 "cells": [
  {
   "cell_type": "markdown",
   "metadata": {},
   "source": [
    "# s_project_trans_matrix_example [<img src=\"https://www.arpm.co/lab/icons/icon_permalink.png\" width=30 height=30 style=\"display: inline;\">](https://www.arpm.co/lab/redirect.php?code=s_project_trans_matrix_example&codeLang=Python)\n",
    "For details, see [here](https://www.arpm.co/lab/redirect.php?permalink=project_trans_matrix-example)."
   ]
  },
  {
   "cell_type": "code",
   "execution_count": null,
   "metadata": {},
   "outputs": [],
   "source": [
    "import numpy as np\n",
    "\n",
    "from arpym.statistics.project_trans_matrix import project_trans_matrix\n",
    "\n",
    "p_1 = np.array([[0.43, 0.04, 0.3],\n",
    "                [0.15, 0.2, 0.32],\n",
    "                [0.24, 0.1, 0.4]])  # unit step transition matrix\n",
    "delta_t = 0.5  # projection step\n",
    "p_delta_t = project_trans_matrix(p_1, delta_t) # projected transition matrix"
   ]
  }
 ],
 "metadata": {
  "jupytext": {
   "encoding": "# -*- coding: utf-8 -*-",
   "executable": "/usr/bin/env python3"
  },
  "kernelspec": {
   "display_name": "Python 3",
   "language": "python",
   "name": "python3"
  }
 },
 "nbformat": 4,
 "nbformat_minor": 4
}
