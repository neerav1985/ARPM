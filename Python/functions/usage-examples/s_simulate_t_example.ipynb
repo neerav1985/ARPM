{
 "cells": [
  {
   "cell_type": "markdown",
   "metadata": {},
   "source": [
    "# s_simulate_t_example [<img src=\"https://www.arpm.co/lab/icons/icon_permalink.png\" width=30 height=30 style=\"display: inline;\">](https://www.arpm.co/lab/redirect.php?code=s_simulate_t_example&codeLang=Python)\n",
    "For details, see [here](https://www.arpm.co/lab/redirect.php?permalink=simulate_t-example)."
   ]
  },
  {
   "cell_type": "code",
   "execution_count": null,
   "metadata": {},
   "outputs": [],
   "source": [
    "import numpy as np\n",
    "from arpym.statistics.simulate_t import simulate_t\n",
    "\n",
    "# Input parameters\n",
    "n_ = 5  # dimension of the variable\n",
    "j_ = 10000  # number of the scenarios\n",
    "\n",
    "mu = np.random.uniform(size=n_)  # n_-variate location parameter\n",
    "sigma = np.random.uniform(size=(n_, n_))  # n_xn_ randomly generated matrix\n",
    "sigma2 = sigma @ sigma.T  # scale parameter\n",
    "nu = 15  # degrees of freedom\n",
    "\n",
    "# Generate Student t scenarios\n",
    "x = simulate_t(mu, sigma2, nu, j_)  # Student t scenarios"
   ]
  }
 ],
 "metadata": {
  "jupytext": {
   "encoding": "# -*- coding: utf-8 -*-",
   "executable": "/usr/bin/env python3"
  },
  "kernelspec": {
   "display_name": "Python 3",
   "language": "python",
   "name": "python3"
  }
 },
 "nbformat": 4,
 "nbformat_minor": 4
}
