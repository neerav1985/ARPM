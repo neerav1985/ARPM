{
 "cells": [
  {
   "cell_type": "markdown",
   "metadata": {},
   "source": [
    "# s_bootstrap_nelson_siegel\n",
    "For details, see [here](https://www.arpm.co/lab/redirect.php?permalink=bootstrap_nelson_siegel-example)."
   ]
  },
  {
   "cell_type": "code",
   "execution_count": null,
   "metadata": {},
   "outputs": [],
   "source": [
    "import numpy as np\n",
    "\n",
    "from arpym.pricing.bootstrap_nelson_siegel import bootstrap_nelson_siegel\n",
    "\n",
    "v_bond = np.array([[1.5, 2.1], [1.6, 2.2], [1.7, 2.1]])  # dirty prices\n",
    "dates = np.array([np.datetime64('2019-05-21'),\n",
    "                  np.datetime64('2019-05-22'), np.datetime64('2019-05-23')])\n",
    "tend = np.array([np.datetime64('2019-06-21'), np.datetime64('2019-11-21')])  # maturity dates\n",
    "c = np.array([0.028, 0.03])  # annulized coupons\n",
    "freq_paym = 0.5  # coupon payment frequency \n",
    "theta, *_ = bootstrap_nelson_siegel(v_bond, dates, c, tend)  # compute Nelson-Siegel parameters"
   ]
  }
 ],
 "metadata": {
  "kernelspec": {
   "display_name": "Python 3",
   "language": "python",
   "name": "python3"
  }
 },
 "nbformat": 4,
 "nbformat_minor": 4
}
