{
 "cells": [
  {
   "cell_type": "markdown",
   "metadata": {},
   "source": [
    "# s_fit_state_space_example [<img src=\"https://www.arpm.co/lab/icons/icon_permalink.png\" width=30 height=30 style=\"display: inline;\">](https://www.arpm.co/lab/redirect.php?code=s_fit_state_space_example&codeLang=Python)\n",
    "For details, see [here](https://www.arpm.co/lab/redirect.php?permalink=fit_state_space-example)."
   ]
  },
  {
   "cell_type": "code",
   "execution_count": null,
   "metadata": {
    "lines_to_next_cell": 0
   },
   "outputs": [],
   "source": [
    "import numpy as np\n",
    "\n",
    "from arpym.statistics.simulate_normal import simulate_normal\n",
    "from arpym.estimation.fit_state_space import fit_state_space\n",
    "\n",
    "t_ = 10    # number of simulations\n",
    "k_ = 1    # dimension of hidden factors\n",
    "mu_eps = 0    # residual location\n",
    "sigma2_eps = 1    # residual dispersion\n",
    "beta = 1.5    # observation equation loadings\n",
    "alpha = -0.2    # observation equation shift\n",
    "beta_h = 0.1    # transition equation loadings\n",
    "alpha_h = 1    # transition equation shift\n",
    "# generate dynamic LFM\n",
    "eps_h = simulate_normal(0, 1, t_)    # transition equation residuals\n",
    "h = np.zeros(t_)\n",
    "for i in range(1, t_):\n",
    "    h[i] = alpha_h + beta_h*h[i-1] + eps_h[i]    # hidden factors\n",
    "eps_x = simulate_normal(mu_eps, sigma2_eps, t_)    # observation equation residuals\n",
    "x = alpha + h*beta + eps_x    # target process\n",
    "# estimate parameters\n",
    "h_t, alpha_hat, beta_hat, delta2_hat, alpha_hat_h, beta_hat_h, sigma2_hat_h = fit_state_space(x, k_)"
   ]
  },
  {
   "cell_type": "code",
   "execution_count": null,
   "metadata": {
    "lines_to_next_cell": 2
   },
   "outputs": [],
   "source": []
  }
 ],
 "metadata": {
  "jupytext": {
   "encoding": "# -*- coding: utf-8 -*-",
   "executable": "/usr/bin/env python3"
  },
  "kernelspec": {
   "display_name": "Python 3",
   "language": "python",
   "name": "python3"
  }
 },
 "nbformat": 4,
 "nbformat_minor": 4
}
