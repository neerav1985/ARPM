{
 "cells": [
  {
   "cell_type": "markdown",
   "metadata": {},
   "source": [
    "# s_simulate_niw_example [<img src=\"https://www.arpm.co/lab/icons/icon_permalink.png\" width=30 height=30 style=\"display: inline;\">](https://www.arpm.co/lab/redirect.php?code=s_simulate_niw_example&codeLang=Python)\n",
    "For details, see [here](https://www.arpm.co/lab/redirect.php?permalink=simulate_niw-example)."
   ]
  },
  {
   "cell_type": "code",
   "execution_count": null,
   "metadata": {},
   "outputs": [],
   "source": [
    "import numpy as np\n",
    "\n",
    "from arpym.statistics.simulate_niw import simulate_niw\n",
    "\n",
    "# Example inputs\n",
    "mu = np.array([0.1, 0.0, -0.1])\n",
    "sigma2 = np.array([[1.0, 0.2, 0.2],\n",
    "                   [0.2, 1.0, 0.2],\n",
    "                   [0.2, 0.2, 1.0]])\n",
    "nu = 5.\n",
    "t = 10.\n",
    "j_ = 10000\n",
    "\n",
    "# Example code\n",
    "m, s2 = simulate_niw(mu, t, sigma2, nu, j_)\n"
   ]
  }
 ],
 "metadata": {
  "jupytext": {
   "encoding": "# -*- coding: utf-8 -*-",
   "executable": "/usr/bin/env python3"
  },
  "kernelspec": {
   "display_name": "Python 3",
   "language": "python",
   "name": "python3"
  }
 },
 "nbformat": 4,
 "nbformat_minor": 4
}
