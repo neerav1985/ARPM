{
 "cells": [
  {
   "cell_type": "markdown",
   "metadata": {},
   "source": [
    "# s_cash_flow_reinv_example [<img src=\"https://www.arpm.co/lab/icons/icon_permalink.png\" width=30 height=30 style=\"display: inline;\">](https://www.arpm.co/lab/redirect.php?code=s_cash_flow_reinv_example&codeLang=Python)\n",
    "For details, see [here](https://www.arpm.co/lab/redirect.php?permalink=cash_flow_reinv-example)."
   ]
  },
  {
   "cell_type": "code",
   "execution_count": null,
   "metadata": {},
   "outputs": [],
   "source": [
    "import numpy as np\n",
    "\n",
    "from arpym.pricing.cash_flow_reinv import cash_flow_reinv\n",
    "\n",
    "# Input parameters\n",
    "y = np.array([0.01, 0.015])  # scenarios for the short rate\n",
    "c = 0.01*np.ones(3)  # coupons amount\n",
    "r = np.array([np.datetime64('2013-10-26'), np.datetime64('2014-10-26'),\n",
    "              np.datetime64('2015-10-26')])  # record dates\n",
    "t = np.array([np.datetime64('2013-04-26'), np.datetime64('2013-10-26'),\n",
    "              np.datetime64('2014-04-26'), np.datetime64('2014-10-26'),\n",
    "              np.datetime64('2015-04-26'), np.datetime64('2015-10-26')])  # monitoring times\n",
    "\n",
    "# Compute scenarios for the reinvested factor\n",
    "deltat = [np.busday_count(t[m-1], t[m])/252 for m in range(1, t.shape[0])]\n",
    "invfact_m = np.exp(np.array([[y[0]*deltat_m for deltat_m in deltat],\n",
    "                             [y[1]*deltat_m for deltat_m in deltat]]))\n",
    "# Compute scenarios for the reinvested cash-flow stream\n",
    "cf_tnow_thor = cash_flow_reinv(c, r, t, invfact_m)"
   ]
  }
 ],
 "metadata": {
  "jupytext": {
   "encoding": "# -*- coding: utf-8 -*-",
   "executable": "/usr/bin/env python3"
  },
  "kernelspec": {
   "display_name": "Python 3",
   "language": "python",
   "name": "python3"
  }
 },
 "nbformat": 4,
 "nbformat_minor": 4
}
