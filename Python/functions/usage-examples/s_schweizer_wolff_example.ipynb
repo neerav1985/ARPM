{
 "cells": [
  {
   "cell_type": "markdown",
   "metadata": {},
   "source": [
    "# s_schweizer_wolff_example [<img src=\"https://www.arpm.co/lab/icons/icon_permalink.png\" width=30 height=30 style=\"display: inline;\">](https://www.arpm.co/lab/redirect.php?code=s_schweizer_wolff_example&codeLang=Python)\n",
    "For details, see [here](https://www.arpm.co/lab/redirect.php?permalink=schweizer_wolff-example)."
   ]
  },
  {
   "cell_type": "code",
   "execution_count": null,
   "metadata": {},
   "outputs": [],
   "source": [
    "import numpy as np\n",
    "import pandas as pd\n",
    "\n",
    "from arpym.statistics.schweizer_wolff import schweizer_wolff\n",
    "from arpym.statistics.simulate_normal import simulate_normal\n",
    "\n",
    "# Input parameters\n",
    "\n",
    "mu = np.array([0, 1])  # mean for joint scenarios\n",
    "rho = 0.3  # correlation of joint scenarios\n",
    "j_ = 500  # number of scenarios\n",
    "\n",
    "# Step 1: Generate data\n",
    "# generate scenarios\n",
    "sig2 = np.array([[1, rho],\n",
    "                 [rho, 1]])\n",
    "x = simulate_normal(mu, sig2, j_)\n",
    "# generate scenario probabilities\n",
    "p_1 = simulate_normal(1, 1, j_)  # random probability weights\n",
    "p = np.abs(p_1)/np.sum(np.abs(p_1))  # take abs. value and rescale\n",
    "\n",
    "# Step 2: Calculate Schweizer-Wolff measure of dependence\n",
    "p_1 = simulate_normal(1, 1, j_)  # random probability weights\n",
    "p = p_1/np.sum(p_1)  # rescale to sum to 1\n",
    "\n",
    "# Step 3: Calculate Schweizer-Wolff measure of dependence\n",
    "sw = schweizer_wolff(x, p)  # defined probabilities\n",
    "sw_2 = schweizer_wolff(x)  # equal probabilities"
   ]
  }
 ],
 "metadata": {
  "jupytext": {
   "encoding": "# -*- coding: utf-8 -*-",
   "executable": "/usr/bin/env python3"
  },
  "kernelspec": {
   "display_name": "Python 3",
   "language": "python",
   "name": "python3"
  }
 },
 "nbformat": 4,
 "nbformat_minor": 4
}
