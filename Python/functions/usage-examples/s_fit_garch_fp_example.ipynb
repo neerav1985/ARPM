{
 "cells": [
  {
   "cell_type": "markdown",
   "metadata": {},
   "source": [
    "# s_fit_garch_fp_example [<img src=\"https://www.arpm.co/lab/icons/icon_permalink.png\" width=30 height=30 style=\"display: inline;\">](https://www.arpm.co/lab/redirect.php?code=s_fit_garch_fp_example&codeLang=Python)\n",
    "For details, see [here](https://www.arpm.co/lab/redirect.php?permalink=fit_garch_fp-example)."
   ]
  },
  {
   "cell_type": "code",
   "execution_count": null,
   "metadata": {},
   "outputs": [],
   "source": [
    "import numpy as np\n",
    "import matplotlib.pyplot as plt\n",
    "\n",
    "from arpym.estimation.fit_garch_fp import fit_garch_fp\n",
    "from arpym.statistics.simulate_garch import simulate_garch\n",
    "from arpym.tools.logo import add_logo\n",
    "\n",
    "# Input parameters\n",
    "t_ = 10000  # time series length\n",
    "param = [0.15, 0.75, 0.5, 2]  # GARCH(1,1) parameters\n",
    "x_tnow = 0  # current value of risk driver\n",
    "x_tnow_prec = 0  # preceding value of risk driver\n",
    "\n",
    "x, sig2 = simulate_garch(x_tnow, x_tnow_prec, param, 1, t_)  # generate GARCH(1,1) process\n",
    "\n",
    "param_hat, sig2_hat, eps =\\\n",
    "            fit_garch_fp(np.diff(x.reshape(-1)),\n",
    "                         rescale=True)  # Perform the fit\n",
    "\n",
    "# Plots\n",
    "plt.style.use('arpm')\n",
    "\n",
    "fig = plt.figure()\n",
    "plt.plot(sig2.reshape(-1, 1))\n",
    "plt.plot(sig2_hat.reshape(-1, 1), '--')\n",
    "add_logo(fig, location=2)"
   ]
  }
 ],
 "metadata": {
  "jupytext": {
   "encoding": "# -*- coding: utf-8 -*-",
   "executable": "/usr/bin/env python3"
  },
  "kernelspec": {
   "display_name": "Python 3",
   "language": "python",
   "name": "python3"
  }
 },
 "nbformat": 4,
 "nbformat_minor": 4
}
