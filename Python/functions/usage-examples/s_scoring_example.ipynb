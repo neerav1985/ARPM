{
 "cells": [
  {
   "cell_type": "markdown",
   "metadata": {},
   "source": [
    "# s_scoring_example [<img src=\"https://www.arpm.co/lab/icons/icon_permalink.png\" width=30 height=30 style=\"display: inline;\">](https://www.arpm.co/lab/redirect.php?code=s_scoring_example&codeLang=Python)\n",
    "For details, see [here](https://www.arpm.co/lab/redirect.php?permalink=scoring-example)."
   ]
  },
  {
   "cell_type": "code",
   "execution_count": null,
   "metadata": {},
   "outputs": [],
   "source": [
    "import numpy as np\n",
    "\n",
    "from arpym.statistics.scoring import scoring\n",
    "\n",
    "# Input parameters\n",
    "\n",
    "s = np.array([1, 2.2, 3, 2.4, 5, 5.6, 7, 8.8, 9, 1.2, 14, 15, 14, 16,\n",
    "              17, 12, 15, 12, 13, 10, 8, 10, 12, 5])\n",
    "tau_hl = 8\n",
    "w = 6\n",
    "\n",
    "# Compute scored function\n",
    "s_score = scoring(s, tau_hl, w)"
   ]
  }
 ],
 "metadata": {
  "jupytext": {
   "encoding": "# -*- coding: utf-8 -*-",
   "executable": "/usr/bin/env python3"
  },
  "kernelspec": {
   "display_name": "Python 3",
   "language": "python",
   "name": "python3"
  }
 },
 "nbformat": 4,
 "nbformat_minor": 4
}
