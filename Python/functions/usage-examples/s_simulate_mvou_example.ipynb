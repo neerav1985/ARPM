{
 "cells": [
  {
   "cell_type": "markdown",
   "metadata": {},
   "source": [
    "# s_simulate_mvou_example [<img src=\"https://www.arpm.co/lab/icons/icon_permalink.png\" width=30 height=30 style=\"display: inline;\">](https://www.arpm.co/lab/redirect.php?code=s_simulate_mvou_example&codeLang=Python)\n",
    "For details, see [here](https://www.arpm.co/lab/redirect.php?permalink=simulate_mvou-example)."
   ]
  },
  {
   "cell_type": "code",
   "execution_count": null,
   "metadata": {},
   "outputs": [],
   "source": [
    "import numpy as np\n",
    "\n",
    "from arpym.statistics.simulate_mvou import simulate_mvou\n",
    "\n",
    "# Input parameters\n",
    "x_0 = np.array([0, 0])  # value of the process at the current time\n",
    "theta = np.array([[0.5, 0], [0, 0.3]])  # MVOU parameter\n",
    "mu = np.array([0, 0])  # expectation of MVOU shocks\n",
    "sig2 = np.eye(2)  # covariance matrix of MVOU shocks\n",
    "j_ = 4  # number of scenarios\n",
    "t_m = np.array([0, 1, 1, 1, 2, 1])  # projection horizons\n",
    "# Generate Monte Carlo scenarios\n",
    "x_t_hor = simulate_mvou(x_0, t_m, theta, mu, sig2, j_)"
   ]
  }
 ],
 "metadata": {
  "jupytext": {
   "encoding": "# -*- coding: utf-8 -*-",
   "executable": "/usr/bin/env python3"
  },
  "kernelspec": {
   "display_name": "Python 3",
   "language": "python",
   "name": "python3"
  }
 },
 "nbformat": 4,
 "nbformat_minor": 4
}
