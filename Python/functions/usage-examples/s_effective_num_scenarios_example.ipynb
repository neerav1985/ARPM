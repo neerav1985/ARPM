{
 "cells": [
  {
   "cell_type": "markdown",
   "metadata": {},
   "source": [
    "# s_effective_num_scenarios_example [<img src=\"https://www.arpm.co/lab/icons/icon_permalink.png\" width=30 height=30 style=\"display: inline;\">](https://www.arpm.co/lab/redirect.php?code=s_effective_num_scenarios_example&codeLang=Python)\n",
    "For details, see [here](https://www.arpm.co/lab/redirect.php?permalink=effective_num_scenarios-example)."
   ]
  },
  {
   "cell_type": "code",
   "execution_count": null,
   "metadata": {},
   "outputs": [],
   "source": [
    "import numpy as np\n",
    "from arpym.estimation.effective_num_scenarios import effective_num_scenarios\n",
    "from arpym.estimation.exp_decay_fp import exp_decay_fp\n",
    "\n",
    "# Input parameters\n",
    "t_ = 5000\n",
    "gamma = 0.5\n",
    "tau_hl = 2500\n",
    "\n",
    "# generate probabilities\n",
    "p = exp_decay_fp(t_, tau_hl)\n",
    "\n",
    "# exponential of the entropy\n",
    "ens = effective_num_scenarios(p)\n",
    "\n",
    "# generalized exponential of the entropy\n",
    "ens_gamma = effective_num_scenarios(p, type_ent='gen_exp', gamma=gamma)"
   ]
  }
 ],
 "metadata": {
  "jupytext": {
   "encoding": "# -*- coding: utf-8 -*-",
   "executable": "/usr/bin/env python3"
  },
  "kernelspec": {
   "display_name": "Python 3",
   "language": "python",
   "name": "python3"
  }
 },
 "nbformat": 4,
 "nbformat_minor": 4
}
