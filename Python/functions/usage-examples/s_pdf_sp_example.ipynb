{
 "cells": [
  {
   "cell_type": "markdown",
   "metadata": {},
   "source": [
    "# s_pdf_sp_example [<img src=\"https://www.arpm.co/lab/icons/icon_permalink.png\" width=30 height=30 style=\"display: inline;\">](https://www.arpm.co/lab/redirect.php?code=s_pdf_sp_example&codeLang=Python)\n",
    "For details, see [here](https://www.arpm.co/lab/redirect.php?permalink=pdf_sp-example)."
   ]
  },
  {
   "cell_type": "code",
   "execution_count": null,
   "metadata": {},
   "outputs": [],
   "source": [
    "import numpy as np\n",
    "\n",
    "from arpym.statistics.pdf_sp import pdf_sp\n",
    "\n",
    "# scenarios and probabilities\n",
    "x = np.array([[0, 1, 2, 3]]).T  # scenarios\n",
    "p = np.array([0.33, 0.10, 0.20, 0.37])  # probabilities\n",
    "\n",
    "# bandwidth\n",
    "h2 = 0.01  # Gaussian kernel bandwidth\n",
    "\n",
    "# grid\n",
    "x_grid = np.array([np.arange(0.5, 3.5 + 0.025, 0.025)]).T\n",
    "\n",
    "# compute pdf at the grid points\n",
    "f_x = pdf_sp(h2, x_grid, x, p)"
   ]
  }
 ],
 "metadata": {
  "jupytext": {
   "encoding": "# -*- coding: utf-8 -*-",
   "executable": "/usr/bin/env python3"
  },
  "kernelspec": {
   "display_name": "Python 3",
   "language": "python",
   "name": "python3"
  }
 },
 "nbformat": 4,
 "nbformat_minor": 4
}
