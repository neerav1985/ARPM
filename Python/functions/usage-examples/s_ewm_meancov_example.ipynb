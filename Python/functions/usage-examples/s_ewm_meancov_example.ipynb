{
 "cells": [
  {
   "cell_type": "markdown",
   "metadata": {},
   "source": [
    "# s_ewm_meancov_example [<img src=\"https://www.arpm.co/lab/icons/icon_permalink.png\" width=30 height=30 style=\"display: inline;\">](https://www.arpm.co/lab/redirect.php?code=s_ewm_meancov_example&codeLang=Python)\n",
    "For details, see [here](https://www.arpm.co/lab/redirect.php?permalink=ewm_meancov-example)."
   ]
  },
  {
   "cell_type": "code",
   "execution_count": null,
   "metadata": {},
   "outputs": [],
   "source": [
    "import numpy as np\n",
    "\n",
    "from arpym.statistics.ewm_meancov import ewm_meancov\n",
    "\n",
    "# time series\n",
    "x = np.array([[1, 2.2, 3, 2.4, 5, 5.6, 7, 8.8, 9, 1.2, 14, 15],\n",
    "             [14, 16, 17, 12, 15, 12, 13, 10, 8, 10, 12, 5]]).T\n",
    "# half life of the moving average\n",
    "tau_hl = 8\n",
    "# time at which ewma is computed\n",
    "t = 5\n",
    "# trailing window\n",
    "w = 4\n",
    "# compute exponentially weighted moving average and covariance\n",
    "ewma_t_x, ewma_cv_t_x = ewm_meancov(x, tau_hl, t, w)"
   ]
  }
 ],
 "metadata": {
  "jupytext": {
   "encoding": "# -*- coding: utf-8 -*-",
   "executable": "/usr/bin/env python3"
  },
  "kernelspec": {
   "display_name": "Python 3",
   "language": "python",
   "name": "python3"
  }
 },
 "nbformat": 4,
 "nbformat_minor": 4
}
