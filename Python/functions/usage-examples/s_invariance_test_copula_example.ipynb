{
 "cells": [
  {
   "cell_type": "markdown",
   "metadata": {},
   "source": [
    "# s_invariance_test_copula_example [<img src=\"https://www.arpm.co/lab/icons/icon_permalink.png\" width=30 height=30 style=\"display: inline;\">](https://www.arpm.co/lab/redirect.php?code=s_invariance_test_copula_example&codeLang=Python)\n",
    "For details, see [here](https://www.arpm.co/lab/redirect.php?permalink=invariance_test_copula-example)."
   ]
  },
  {
   "cell_type": "code",
   "execution_count": null,
   "metadata": {},
   "outputs": [],
   "source": [
    "import numpy as np\n",
    "import pandas as pd\n",
    "\n",
    "from arpym.statistics.simulate_normal import simulate_normal\n",
    "from arpym.statistics.invariance_test_copula import invariance_test_copula\n",
    "\n",
    "# Input parameters\n",
    "# length of series to generate\n",
    "t_ = 500\n",
    "# number of lags to consider\n",
    "l_ = 5\n",
    "\n",
    "# Step 1: Generate a test series\n",
    "epsi = simulate_normal(0, 1, t_)\n",
    "\n",
    "# Step 2: Plot copula invariance test\n",
    "sw = invariance_test_copula(epsi, l_)"
   ]
  }
 ],
 "metadata": {
  "jupytext": {
   "encoding": "# -*- coding: utf-8 -*-",
   "executable": "/usr/bin/env python3"
  },
  "kernelspec": {
   "display_name": "Python 3",
   "language": "python",
   "name": "python3"
  }
 },
 "nbformat": 4,
 "nbformat_minor": 4
}
