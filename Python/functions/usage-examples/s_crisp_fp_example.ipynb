{
 "cells": [
  {
   "cell_type": "markdown",
   "metadata": {},
   "source": [
    "# s_crisp_fp_example [<img src=\"https://www.arpm.co/lab/icons/icon_permalink.png\" width=30 height=30 style=\"display: inline;\">](https://www.arpm.co/lab/redirect.php?code=s_crisp_fp_example&codeLang=Python)\n",
    "For details, see [here](https://www.arpm.co/lab/redirect.php?permalink=crisp_fp-example)."
   ]
  },
  {
   "cell_type": "code",
   "execution_count": null,
   "metadata": {},
   "outputs": [],
   "source": [
    "import numpy as np\n",
    "\n",
    "from arpym.estimation.crisp_fp import crisp_fp\n",
    "from arpym.statistics.simulate_normal import simulate_normal"
   ]
  },
  {
   "cell_type": "code",
   "execution_count": null,
   "metadata": {},
   "outputs": [],
   "source": [
    "# Input parameters\n",
    "t_ = 5000  # number of observations\n",
    "alpha = 0.2  # probability\n",
    "z = x = simulate_normal(0, 1, t_)  # generate risk factor\n",
    "z_star = z[-1]  # generate target value\n",
    "# Compute crisp probabilities, the upper and lower quantiles\n",
    "p, z_lb, z_ub = crisp_fp(z, z_star, alpha)"
   ]
  }
 ],
 "metadata": {
  "jupytext": {
   "encoding": "# -*- coding: utf-8 -*-",
   "executable": "/usr/bin/env python3"
  },
  "kernelspec": {
   "display_name": "Python 3",
   "language": "python",
   "name": "python3"
  }
 },
 "nbformat": 4,
 "nbformat_minor": 4
}
