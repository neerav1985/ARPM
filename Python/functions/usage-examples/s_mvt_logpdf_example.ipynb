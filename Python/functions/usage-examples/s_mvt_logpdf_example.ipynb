{
 "cells": [
  {
   "cell_type": "markdown",
   "metadata": {},
   "source": [
    "# s_mvt_logpdf_example [<img src=\"https://www.arpm.co/lab/icons/icon_permalink.png\" width=30 height=30 style=\"display: inline;\">](https://www.arpm.co/lab/redirect.php?code=s_mvt_logpdf_example&codeLang=Python)\n",
    "For details, see [here](https://www.arpm.co/lab/redirect.php?permalink=mvt_logpdf-example)."
   ]
  },
  {
   "cell_type": "code",
   "execution_count": null,
   "metadata": {},
   "outputs": [],
   "source": [
    "import numpy as np\n",
    "\n",
    "from arpym.statistics.mvt_logpdf import mvt_logpdf\n",
    "from arpym.statistics.simulate_normal import simulate_normal\n",
    "\n",
    "mu = np.array([0.1, -0.1, 0.2])\n",
    "sigma2 = np.array([[1.0, 0.5, 0.5],\n",
    "                   [0.5, 1.0, 0.5],\n",
    "                   [0.5, 0.5, 1.0]])\n",
    "nu = 5\n",
    "k_ = 100\n",
    "\n",
    "x = simulate_normal(mu, sigma2, k_)\n",
    "\n",
    "lf = mvt_logpdf(x, mu, sigma2, nu)"
   ]
  }
 ],
 "metadata": {
  "jupytext": {
   "encoding": "# -*- coding: utf-8 -*-",
   "executable": "/usr/bin/env python3"
  },
  "kernelspec": {
   "display_name": "Python 3",
   "language": "python",
   "name": "python3"
  }
 },
 "nbformat": 4,
 "nbformat_minor": 4
}
