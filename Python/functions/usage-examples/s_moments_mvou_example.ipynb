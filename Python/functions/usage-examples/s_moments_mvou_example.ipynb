{
 "cells": [
  {
   "cell_type": "markdown",
   "metadata": {},
   "source": [
    "# s_moments_mvou_example [<img src=\"https://www.arpm.co/lab/icons/icon_permalink.png\" width=30 height=30 style=\"display: inline;\">](https://www.arpm.co/lab/redirect.php?code=s_moments_mvou_example&codeLang=Python)\n",
    "For details, see [here](https://www.arpm.co/lab/redirect.php?permalink=moments_mvou-example)."
   ]
  },
  {
   "cell_type": "code",
   "execution_count": null,
   "metadata": {},
   "outputs": [],
   "source": [
    "import numpy as np\n",
    "\n",
    "from arpym.statistics.moments_mvou import moments_mvou\n",
    "\n",
    "# Input parameters\n",
    "x_0 = np.array([0, 0])  # value of the process at the current time\n",
    "theta = np.array([[0.5, 0], [0, 0.3]])  # MVOU parameter\n",
    "mu = np.array([0, 0])  # expectation of MVOU shocks\n",
    "sig2 = np.eye(2)  # covariance matrix of MVOU shocks\n",
    "dt_m = np.array([1, 252])  # projection horizons (days)\n",
    "# compute moments\n",
    "mu_deltat_m, mu_cond, sig2_deltat_m, = moments_mvou(x_0, dt_m, theta, mu,\n",
    "                                                       sig2)"
   ]
  }
 ],
 "metadata": {
  "jupytext": {
   "encoding": "# -*- coding: utf-8 -*-",
   "executable": "/usr/bin/env python3"
  },
  "kernelspec": {
   "display_name": "Python 3",
   "language": "python",
   "name": "python3"
  }
 },
 "nbformat": 4,
 "nbformat_minor": 4
}
