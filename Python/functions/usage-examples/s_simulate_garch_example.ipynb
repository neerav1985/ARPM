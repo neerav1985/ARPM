{
 "cells": [
  {
   "cell_type": "markdown",
   "metadata": {},
   "source": [
    "# s_simulate_garch_example [<img src=\"https://www.arpm.co/lab/icons/icon_permalink.png\" width=30 height=30 style=\"display: inline;\">](https://www.arpm.co/lab/redirect.php?code=s_simulate_garch_example&codeLang=Python)\n",
    "For details, see [here](https://www.arpm.co/lab/redirect.php?permalink=simulate_garch-example)."
   ]
  },
  {
   "cell_type": "code",
   "execution_count": null,
   "metadata": {},
   "outputs": [],
   "source": [
    "import matplotlib.pyplot as plt\n",
    "\n",
    "from arpym.statistics.simulate_garch import simulate_garch\n",
    "from arpym.tools.logo import add_logo\n",
    "\n",
    "# input parameters\n",
    "m_ = 1000  # number of monitoring times\n",
    "j_ = 1000  # number of scenarios\n",
    "param = [0.15, 0.75, 1e-5, 1e-4]  # GARCH(1, 1) parameters\n",
    "x_tnow = 0.8  # current value of the risk driver\n",
    "x_tnow_prec = 0.9  # preceding value of the risk driver\n",
    "# generate Monte Carlo scenarios\n",
    "x_tnow_thor, sig2_tnow_thor = simulate_garch(x_tnow, x_tnow_prec, param,\n",
    "                                             j_, m_)\n",
    "# Plots\n",
    "if type(x_tnow_thor) != int:\n",
    "    plt.style.use('arpm')\n",
    "    fig = plt.figure()\n",
    "    plt.plot(x_tnow_thor.T)\n",
    "    add_logo(fig, location=2)"
   ]
  }
 ],
 "metadata": {
  "jupytext": {
   "encoding": "# -*- coding: utf-8 -*-",
   "executable": "/usr/bin/env python3"
  },
  "kernelspec": {
   "display_name": "Python 3",
   "language": "python",
   "name": "python3"
  }
 },
 "nbformat": 4,
 "nbformat_minor": 4
}
