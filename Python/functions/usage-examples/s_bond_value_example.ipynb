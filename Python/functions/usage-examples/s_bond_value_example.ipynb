{
 "cells": [
  {
   "cell_type": "markdown",
   "metadata": {},
   "source": [
    "# s_bond_value_example [<img src=\"https://www.arpm.co/lab/icons/icon_permalink.png\" width=30 height=30 style=\"display: inline;\">](https://www.arpm.co/lab/redirect.php?code=s_bond_value_example&codeLang=Python)\n",
    "For details, see [here](https://www.arpm.co/lab/redirect.php?permalink=bond_value-example)."
   ]
  },
  {
   "cell_type": "code",
   "execution_count": null,
   "metadata": {},
   "outputs": [],
   "source": [
    "import numpy as np\n",
    "\n",
    "from arpym.pricing.bond_value import bond_value\n",
    "\n",
    "# Input parameters\n",
    "t_hor = np.datetime64('2012-10-26')  # horizon time\n",
    "x_thor = np.array([[0.01, 0.02, 0.02, 0.03, 0.04, 0.05],\n",
    "                   [0.01, 0.01, 0.02, 0.03, 0.03, 0.035]])  # yield scenarios\n",
    "\n",
    "tau = np.array([1, 2, 3, 5, 7, 10])  # times to maturity of yields\n",
    "c = np.array([0.01, 0.01, 0.01])  # amount of each coupon\n",
    "r = np.array([np.datetime64('2013-04-26'),  # record dates\n",
    "              np.datetime64('2014-04-26'), np.datetime64('2015-04-26')])\n",
    "\n",
    "# compute the value of the bonds\n",
    "v = bond_value(t_hor, x_thor, tau, c, r, 'y')"
   ]
  }
 ],
 "metadata": {
  "jupytext": {
   "encoding": "# -*- coding: utf-8 -*-",
   "executable": "/usr/bin/env python3"
  },
  "kernelspec": {
   "display_name": "Python 3",
   "language": "python",
   "name": "python3"
  }
 },
 "nbformat": 4,
 "nbformat_minor": 4
}
