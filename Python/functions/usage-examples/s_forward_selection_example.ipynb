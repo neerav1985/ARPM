{
 "cells": [
  {
   "cell_type": "markdown",
   "metadata": {},
   "source": [
    "# s_forward_selection_example [<img src=\"https://www.arpm.co/lab/icons/icon_permalink.png\" width=30 height=30 style=\"display: inline;\">](https://www.arpm.co/lab/redirect.php?code=s_forward_selection_example&codeLang=Python)\n",
    "For details, see [here](https://www.arpm.co/lab/redirect.php?permalink=forward_selection-example)."
   ]
  },
  {
   "cell_type": "code",
   "execution_count": null,
   "metadata": {},
   "outputs": [],
   "source": [
    "import numpy as np\n",
    "\n",
    "from arpym.tools.forward_selection import forward_selection\n",
    "from arpym.portfolio.obj_tracking_err import obj_tracking_err\n",
    "\n",
    "m_ = 4\n",
    "l_ = 1\n",
    "sig_x_xb = np.random.uniform(size=(m_+l_, m_+l_))  # (m_+l_)x(m_+l_) randomly generated matrix\n",
    "sig2_x_xb = sig_x_xb @ sig_x_xb.T  # positive (semi)definitive (m_+l_)x(m_+l_) matrix\n",
    "# set up the performance function\n",
    "def optim(s_k):  # tracking error for a given selection\n",
    "    return obj_tracking_err(sig2_x_xb, s_k)\n",
    "x_fwd, f_x_fwd, s_fwd = forward_selection(optim, 4)  # quasi-optimal arguments and objective values"
   ]
  }
 ],
 "metadata": {
  "jupytext": {
   "encoding": "# -*- coding: utf-8 -*-",
   "executable": "/usr/bin/env python3"
  },
  "kernelspec": {
   "display_name": "Python 3",
   "language": "python",
   "name": "python3"
  }
 },
 "nbformat": 4,
 "nbformat_minor": 4
}
