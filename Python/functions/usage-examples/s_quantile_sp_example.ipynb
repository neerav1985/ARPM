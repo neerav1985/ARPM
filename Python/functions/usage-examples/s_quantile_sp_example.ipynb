{
 "cells": [
  {
   "cell_type": "markdown",
   "metadata": {},
   "source": [
    "# s_quantile_sp_example [<img src=\"https://www.arpm.co/lab/icons/icon_permalink.png\" width=30 height=30 style=\"display: inline;\">](https://www.arpm.co/lab/redirect.php?code=s_quantile_sp_example&codeLang=Python)\n",
    "For details, see [here](https://www.arpm.co/lab/redirect.php?permalink=quantile_sp-example)."
   ]
  },
  {
   "cell_type": "code",
   "execution_count": null,
   "metadata": {},
   "outputs": [],
   "source": [
    "import numpy as np\n",
    "\n",
    "from arpym.statistics.quantile_sp import quantile_sp\n",
    "from arpym.statistics.simulate_normal import simulate_normal\n",
    "\n",
    "# Input parameters\n",
    "j_ = 10000  # number of scenarios\n",
    "k_ = 100  # number of evaluation points\n",
    "# Generate data from a scenario probability distribution\n",
    "c_ = np.linspace(0.01, 0.99, k_)  # generate evaluation points\n",
    "x = simulate_normal(0, 1, j_)  # generate scenarios\n",
    "p = np.random.rand(j_)  # generate probabilities\n",
    "p = p/np.sum(p)  # normalize probabilities\n",
    "# Compute quantile\n",
    "quantile = quantile_sp(c_, x, p)"
   ]
  }
 ],
 "metadata": {
  "jupytext": {
   "encoding": "# -*- coding: utf-8 -*-",
   "executable": "/usr/bin/env python3"
  },
  "kernelspec": {
   "display_name": "Python 3",
   "language": "python",
   "name": "python3"
  }
 },
 "nbformat": 4,
 "nbformat_minor": 4
}
