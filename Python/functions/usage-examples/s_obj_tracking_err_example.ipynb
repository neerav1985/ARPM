{
 "cells": [
  {
   "cell_type": "markdown",
   "metadata": {},
   "source": [
    "# s_obj_tracking_err_example [<img src=\"https://www.arpm.co/lab/icons/icon_permalink.png\" width=30 height=30 style=\"display: inline;\">](https://www.arpm.co/lab/redirect.php?code=s_obj_tracking_err_example&codeLang=Python)\n",
    "For details, see [here](https://www.arpm.co/lab/redirect.php?permalink=obj_tracking_err-example)."
   ]
  },
  {
   "cell_type": "code",
   "execution_count": null,
   "metadata": {},
   "outputs": [],
   "source": [
    "import numpy as np\n",
    "from arpym.portfolio.obj_tracking_err import obj_tracking_err\n",
    "\n",
    "n_ = 4\n",
    "sig_x_xb = np.random.uniform(size=(n_+1, n_+1))  # (n_+1)x(n_+1) randomly generated matrix\n",
    "sig2_x_xb = sig_x_xb @ sig_x_xb.T  # positive (semi)definitive (n_+1)x(n_+1) matrix\n",
    "s = np.array([1, 3])  # subset of {1,2,...,n_}\n",
    "w_star, te = obj_tracking_err(sig2_x_xb, s)  # compute optimal solution and opposite of tracking error"
   ]
  }
 ],
 "metadata": {
  "jupytext": {
   "encoding": "# -*- coding: utf-8 -*-",
   "executable": "/usr/bin/env python3"
  },
  "kernelspec": {
   "display_name": "Python 3",
   "language": "python",
   "name": "python3"
  }
 },
 "nbformat": 4,
 "nbformat_minor": 4
}
