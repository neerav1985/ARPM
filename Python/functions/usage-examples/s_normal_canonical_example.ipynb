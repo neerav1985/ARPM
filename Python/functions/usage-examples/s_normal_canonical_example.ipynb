{
 "cells": [
  {
   "cell_type": "markdown",
   "metadata": {},
   "source": [
    "# s_normal_canonical_example [<img src=\"https://www.arpm.co/lab/icons/icon_permalink.png\" width=30 height=30 style=\"display: inline;\">](https://www.arpm.co/lab/redirect.php?code=s_normal_canonical_example&codeLang=Python)\n",
    "For details, see [here](https://www.arpm.co/lab/redirect.php?permalink=normal_canonical-example)."
   ]
  },
  {
   "cell_type": "code",
   "execution_count": null,
   "metadata": {},
   "outputs": [],
   "source": [
    "import numpy as np\n",
    "\n",
    "from arpym.statistics.normal_canonical import normal_canonical\n",
    "\n",
    "# Input parameters\n",
    "mu = np.array([1, 3])\n",
    "sig2 = np.array([[1, 2], [2, 8]])\n",
    "\n",
    "# Compute natural parameters\n",
    "theta_mu, theta_sig = normal_canonical(mu, sig2)"
   ]
  }
 ],
 "metadata": {
  "jupytext": {
   "encoding": "# -*- coding: utf-8 -*-",
   "executable": "/usr/bin/env python3"
  },
  "kernelspec": {
   "display_name": "Python 3",
   "language": "python",
   "name": "python3"
  }
 },
 "nbformat": 4,
 "nbformat_minor": 4
}
