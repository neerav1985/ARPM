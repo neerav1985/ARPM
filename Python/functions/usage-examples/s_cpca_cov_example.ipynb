{
 "cells": [
  {
   "cell_type": "markdown",
   "metadata": {},
   "source": [
    "# s_cpca_cov_example [<img src=\"https://www.arpm.co/lab/icons/icon_permalink.png\" width=30 height=30 style=\"display: inline;\">](https://www.arpm.co/lab/redirect.php?code=s_cpca_cov_example&codeLang=Python)\n",
    "For details, see [here](https://www.arpm.co/lab/redirect.php?permalink=cpca_cov-example)."
   ]
  },
  {
   "cell_type": "code",
   "execution_count": null,
   "metadata": {},
   "outputs": [],
   "source": [
    "import numpy as np\n",
    "\n",
    "from arpym.tools.cpca_cov import cpca_cov\n",
    "\n",
    "# Randomly generate a symmetric positive definite matrix sigma2\n",
    "n_ = 10  # dimension of the matrix\n",
    "sigma = np.random.uniform(0, 1, size=(n_, n_))  # generate random n_xn_ matrix\n",
    "sigma2 = sigma @ sigma.T  # generate random n_xn_ positive (semi)definite matrix\n",
    "# Set number of factors and constraints\n",
    "k_ = 2  # number of linear constraints\n",
    "# generate random full rank k_xn_  matrix\n",
    "d = np.random.rand(k_, n_)\n",
    "while np.linalg.matrix_rank(d) < k_:\n",
    "    d = np.random.uniform(0, 1, size=(k_, n_))\n",
    "e_d, lambda2_d = cpca_cov(sigma2, d)  # perform conditional principal component decomposition"
   ]
  }
 ],
 "metadata": {
  "jupytext": {
   "encoding": "# -*- coding: utf-8 -*-",
   "executable": "/usr/bin/env python3"
  },
  "kernelspec": {
   "display_name": "Python 3",
   "language": "python",
   "name": "python3"
  }
 },
 "nbformat": 4,
 "nbformat_minor": 4
}
