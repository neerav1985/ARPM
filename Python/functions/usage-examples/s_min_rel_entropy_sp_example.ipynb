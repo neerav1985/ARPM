{
 "cells": [
  {
   "cell_type": "markdown",
   "metadata": {},
   "source": [
    "# s_min_rel_entropy_sp_example [<img src=\"https://www.arpm.co/lab/icons/icon_permalink.png\" width=30 height=30 style=\"display: inline;\">](https://www.arpm.co/lab/redirect.php?code=s_min_rel_entropy_sp_example&codeLang=Python)\n",
    "For details, see [here](https://www.arpm.co/lab/redirect.php?permalink=min_rel_entropy_sp-example)."
   ]
  },
  {
   "cell_type": "code",
   "execution_count": null,
   "metadata": {},
   "outputs": [],
   "source": [
    "import numpy as np\n",
    "\n",
    "from arpym.statistics.simulate_normal import simulate_normal\n",
    "from arpym.views.min_rel_entropy_sp import min_rel_entropy_sp"
   ]
  },
  {
   "cell_type": "code",
   "execution_count": null,
   "metadata": {},
   "outputs": [],
   "source": [
    "j_ = 100\n",
    "l_ = 2\n",
    "m_ = 2\n",
    "p_pri = np.random.rand(j_) + 1e-5\n",
    "p_pri = p_pri / np.sum(p_pri)  # set prior probabilities"
   ]
  },
  {
   "cell_type": "code",
   "execution_count": null,
   "metadata": {},
   "outputs": [],
   "source": [
    "z_ineq = simulate_normal(np.zeros(j_), np.eye(j_), l_)  # generate random inequality constraints\n",
    "mu_view_ineq = np.zeros(l_)\n",
    "z_eq = simulate_normal(np.zeros(j_), np.eye(j_), m_)  # generate random equality constraints\n",
    "mu_view_eq = np.zeros(m_)"
   ]
  },
  {
   "cell_type": "code",
   "execution_count": null,
   "metadata": {},
   "outputs": [],
   "source": [
    "p_ = min_rel_entropy_sp(p_pri, z_ineq, mu_view_ineq, z_eq,\n",
    "                        mu_view_eq)  # compute posterior probabilities"
   ]
  }
 ],
 "metadata": {
  "jupytext": {
   "encoding": "# -*- coding: utf-8 -*-",
   "executable": "/usr/bin/env python3"
  },
  "kernelspec": {
   "display_name": "Python 3",
   "language": "python",
   "name": "python3"
  }
 },
 "nbformat": 4,
 "nbformat_minor": 4
}
