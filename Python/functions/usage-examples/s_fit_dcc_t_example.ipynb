{
 "cells": [
  {
   "cell_type": "markdown",
   "metadata": {},
   "source": [
    "# s_fit_dcc_t_example [<img src=\"https://www.arpm.co/lab/icons/icon_permalink.png\" width=30 height=30 style=\"display: inline;\">](https://www.arpm.co/lab/redirect.php?code=s_fit_dcc_t_example&codeLang=Python)\n",
    "For details, see [here](https://www.arpm.co/lab/redirect.php?permalink=fit_dcc_t-example)."
   ]
  },
  {
   "cell_type": "code",
   "execution_count": null,
   "metadata": {},
   "outputs": [],
   "source": [
    "import numpy as np\n",
    "from arpym.estimation.fit_dcc_t import fit_dcc_t\n",
    "from arpym.statistics.simulate_normal import simulate_normal\n",
    "\n",
    "\n",
    "t_ = 1000\n",
    "mu = np.array([0, 0, 0])  # mean\n",
    "sig2 = np.array([[1, 0, 0], [0, 1, 0], [0, 0, 1]])  # covariance matrix\n",
    "\n",
    "dx = simulate_normal(mu, sig2, t_)\n",
    "\n",
    "\n",
    "# posterior\n",
    "[a, b, c], r2_t, epsi, q2_t = fit_dcc_t(dx)"
   ]
  }
 ],
 "metadata": {
  "jupytext": {
   "encoding": "# -*- coding: utf-8 -*-",
   "executable": "/usr/bin/env python3"
  },
  "kernelspec": {
   "display_name": "Python 3",
   "language": "python",
   "name": "python3"
  }
 },
 "nbformat": 4,
 "nbformat_minor": 4
}
