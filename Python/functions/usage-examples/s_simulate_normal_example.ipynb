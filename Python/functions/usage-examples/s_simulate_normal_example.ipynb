{
 "cells": [
  {
   "cell_type": "markdown",
   "metadata": {},
   "source": [
    "# s_simulate_normal_example [<img src=\"https://www.arpm.co/lab/icons/icon_permalink.png\" width=30 height=30 style=\"display: inline;\">](https://www.arpm.co/lab/redirect.php?code=s_simulate_normal_example&codeLang=Python)\n",
    "For details, see [here](https://www.arpm.co/lab/redirect.php?permalink=simulate_normal-example)."
   ]
  },
  {
   "cell_type": "code",
   "execution_count": null,
   "metadata": {},
   "outputs": [],
   "source": [
    "import numpy as np\n",
    "\n",
    "from arpym.statistics.simulate_normal import simulate_normal\n",
    "from arpym.statistics.meancov_sp import meancov_sp\n",
    "\n",
    "n_ = 5  # input parameters\n",
    "j_ = 10000\n",
    "\n",
    "mu_ = np.random.uniform(size=n_)  # n_x1 randomly generated target expectation\n",
    "sigma_ = np.random.uniform(size=(n_, n_))  # n_xn_ randomly generated target matrix\n",
    "sigma2_ = sigma_ @ sigma_.T  # target covariance\n",
    "\n",
    "x = simulate_normal(mu_, sigma2_, j_)  # generate normal scenarios\n",
    "\n",
    "mu, sigma2 = meancov_sp(x)  # compute sample mean and covariance"
   ]
  }
 ],
 "metadata": {
  "jupytext": {
   "encoding": "# -*- coding: utf-8 -*-",
   "executable": "/usr/bin/env python3"
  },
  "kernelspec": {
   "display_name": "Python 3",
   "language": "python",
   "name": "python3"
  }
 },
 "nbformat": 4,
 "nbformat_minor": 4
}
