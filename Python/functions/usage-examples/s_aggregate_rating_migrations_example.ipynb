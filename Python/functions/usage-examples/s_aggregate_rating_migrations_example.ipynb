{
 "cells": [
  {
   "cell_type": "markdown",
   "metadata": {},
   "source": [
    "# s_aggregate_rating_migrations_example [<img src=\"https://www.arpm.co/lab/icons/icon_permalink.png\" width=30 height=30 style=\"display: inline;\">](https://www.arpm.co/lab/redirect.php?code=s_aggregate_rating_migrations_example&codeLang=Python)\n",
    "For details, see [here](https://www.arpm.co/lab/redirect.php?permalink=aggregate_rating_migrations-example)."
   ]
  },
  {
   "cell_type": "code",
   "execution_count": null,
   "metadata": {},
   "outputs": [],
   "source": [
    "import numpy as np\n",
    "import pandas as pd"
   ]
  },
  {
   "cell_type": "code",
   "execution_count": null,
   "metadata": {},
   "outputs": [],
   "source": [
    "from arpym.tools.aggregate_rating_migrations import aggregate_rating_migrations"
   ]
  },
  {
   "cell_type": "code",
   "execution_count": null,
   "metadata": {},
   "outputs": [],
   "source": [
    "# Input parameters\n",
    "t_start = np.datetime64('1995-01-01')\n",
    "t_end = np.datetime64('2004-12-31')"
   ]
  },
  {
   "cell_type": "markdown",
   "metadata": {},
   "source": [
    "Step 0: Import data"
   ]
  },
  {
   "cell_type": "code",
   "execution_count": null,
   "metadata": {},
   "outputs": [],
   "source": [
    "# ratings data\n",
    "path = '~/databases/global-databases/credit/db_ratings/'\n",
    "db = pd.read_csv(path+'data.csv', parse_dates=['date'])\n",
    "# ratings_param represents all possible ratings i.e. AAA, AA, etc.\n",
    "ratings_param = pd.read_csv(path+'params.csv', index_col=0)\n",
    "ratings_param = np.array(ratings_param.index)"
   ]
  },
  {
   "cell_type": "code",
   "execution_count": null,
   "metadata": {},
   "outputs": [],
   "source": [
    "# Step 1: Extract aggregate credit risk drivers\n",
    "dates, n, n_trans, m_trans, n_tot, rating_tend = \\\n",
    "    aggregate_rating_migrations(db, ratings_param, t_start, t_end)"
   ]
  }
 ],
 "metadata": {
  "jupytext": {
   "encoding": "# -*- coding: utf-8 -*-",
   "executable": "/usr/bin/env python3"
  },
  "kernelspec": {
   "display_name": "Python 3",
   "language": "python",
   "name": "python3"
  }
 },
 "nbformat": 4,
 "nbformat_minor": 4
}
