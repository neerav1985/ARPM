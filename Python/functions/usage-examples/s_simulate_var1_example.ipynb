{
 "cells": [
  {
   "cell_type": "markdown",
   "metadata": {},
   "source": [
    "# s_simulate_var1_example [<img src=\"https://www.arpm.co/lab/icons/icon_permalink.png\" width=30 height=30 style=\"display: inline;\">](https://www.arpm.co/lab/redirect.php?code=s_simulate_var1_example&codeLang=Python)\n",
    "For details, see [here](https://www.arpm.co/lab/redirect.php?permalink=simulate_var1-example)."
   ]
  },
  {
   "cell_type": "code",
   "execution_count": null,
   "metadata": {},
   "outputs": [],
   "source": [
    "import numpy as np\n",
    "\n",
    "from arpym.statistics.simulate_var1 import simulate_var1\n",
    "\n",
    "# Input parameters\n",
    "mu = np.array([0.1, -0.1])  # expectations of shocks\n",
    "sigma2 = np.array([[1, 0.5],\n",
    "                   [0.5, 1]])  # covariance matrix of shocks\n",
    "b = np.array([[-0.3, 0.0],\n",
    "              [0.2, -0.1]])  # VAR(1) parameter\n",
    "j_ = 20  # number of scenarios\n",
    "m_ = 10  # number of nodes of the projected path\n",
    "x_tnow = np.array([0.1, -0.1])  # initial value\n",
    "# Generate Monte Carlo scenarios\n",
    "x = simulate_var1(x_tnow, b, mu, sigma2, m_, j_=j_)"
   ]
  }
 ],
 "metadata": {
  "jupytext": {
   "encoding": "# -*- coding: utf-8 -*-",
   "executable": "/usr/bin/env python3"
  },
  "kernelspec": {
   "display_name": "Python 3",
   "language": "python",
   "name": "python3"
  }
 },
 "nbformat": 4,
 "nbformat_minor": 4
}
