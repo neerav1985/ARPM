{
 "cells": [
  {
   "cell_type": "markdown",
   "metadata": {},
   "source": [
    "# s_mahalanobis_dist_example [<img src=\"https://www.arpm.co/lab/icons/icon_permalink.png\" width=30 height=30 style=\"display: inline;\">](https://www.arpm.co/lab/redirect.php?code=s_mahalanobis_dist_example&codeLang=Python)\n",
    "For details, see [here](https://www.arpm.co/lab/redirect.php?permalink=mahalanobis_dist-example)."
   ]
  },
  {
   "cell_type": "code",
   "execution_count": null,
   "metadata": {},
   "outputs": [],
   "source": [
    "import numpy as np\n",
    "\n",
    "from arpym.tools.mahalanobis_dist import mahalanobis_dist\n",
    "\n",
    "# Input parameters\n",
    "x = np.array([[1, 1], [1, 2], [2, 5]])\n",
    "mu = np.array([0, 0])\n",
    "sig2 = np.eye(x.shape[1])\n",
    "\n",
    "# Compute the Mahalanobis distance\n",
    "d = mahalanobis_dist(x, mu, sig2)"
   ]
  }
 ],
 "metadata": {
  "jupytext": {
   "encoding": "# -*- coding: utf-8 -*-",
   "executable": "/usr/bin/env python3"
  },
  "kernelspec": {
   "display_name": "Python 3",
   "language": "python",
   "name": "python3"
  }
 },
 "nbformat": 4,
 "nbformat_minor": 4
}
