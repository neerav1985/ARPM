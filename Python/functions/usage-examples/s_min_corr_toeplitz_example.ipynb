{
 "cells": [
  {
   "cell_type": "markdown",
   "metadata": {},
   "source": [
    "s_min_corr_toeplitz_example\n",
    "For details, see [here](https://www.arpm.co/lab/redirect.php?permalink=min_corr_toeplitz-example)."
   ]
  },
  {
   "cell_type": "code",
   "execution_count": null,
   "metadata": {},
   "outputs": [],
   "source": [
    "import numpy as np\n",
    "\n",
    "from arpym.estimation.min_corr_toeplitz import min_corr_toeplitz\n",
    "\n",
    "c2 = np.array([[1, -0.5], [-0.5, 1]])  # correlation matrix\n",
    "c2_star, gamma_star = min_corr_toeplitz(c2)  # Compute the Toeplitz correlation and optimal parameter"
   ]
  }
 ],
 "metadata": {
  "jupytext": {
   "encoding": "# -*- coding: utf-8 -*-",
   "executable": "/usr/bin/env python3"
  },
  "kernelspec": {
   "display_name": "Python 3",
   "language": "python",
   "name": "python3"
  }
 },
 "nbformat": 4,
 "nbformat_minor": 4
}
