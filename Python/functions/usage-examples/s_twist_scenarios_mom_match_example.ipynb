{
 "cells": [
  {
   "cell_type": "markdown",
   "metadata": {},
   "source": [
    "# s_twist_scenarios_mom_match_example [<img src=\"https://www.arpm.co/lab/icons/icon_permalink.png\" width=30 height=30 style=\"display: inline;\">](https://www.arpm.co/lab/redirect.php?code=s_twist_scenarios_mom_match_example&codeLang=Python)\n",
    "For details, see [here](https://www.arpm.co/lab/redirect.php?permalink=twist_scenarios_mom_match-example)."
   ]
  },
  {
   "cell_type": "code",
   "execution_count": null,
   "metadata": {},
   "outputs": [],
   "source": [
    "import numpy as np\n",
    "\n",
    "from arpym.statistics.twist_scenarios_mom_match import twist_scenarios_mom_match\n",
    "from arpym.statistics.meancov_sp import meancov_sp\n",
    "\n",
    "# Randomly generate target moments and matching scenarios\n",
    "\n",
    "n_ = 5  # input parameters\n",
    "j_ = 10000\n",
    "\n",
    "x = np.random.rand(j_, n_)  # randomly generated n_-dimensional scenarios\n",
    "m_ = np.random.rand(n_)  # randomly generated n_-dimensional target expectation\n",
    "s = np.random.rand(n_, n_)  # randomly generated n_-dimensional target volatility\n",
    "s2_ = s @ s.T  # target covariance\n",
    "\n",
    "x_ = twist_scenarios_mom_match(x, m_, s2_)  # twist scenarios to match moments m_ and s2_\n",
    "\n",
    "mu, sigma2 = meancov_sp(x_)  # compute twisted sample mean and covariance"
   ]
  }
 ],
 "metadata": {
  "jupytext": {
   "encoding": "# -*- coding: utf-8 -*-",
   "executable": "/usr/bin/env python3"
  },
  "kernelspec": {
   "display_name": "Python 3",
   "language": "python",
   "name": "python3"
  }
 },
 "nbformat": 4,
 "nbformat_minor": 4
}
