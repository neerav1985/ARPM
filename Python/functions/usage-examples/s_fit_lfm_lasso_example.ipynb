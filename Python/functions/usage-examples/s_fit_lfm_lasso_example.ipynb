{
 "cells": [
  {
   "cell_type": "markdown",
   "metadata": {},
   "source": [
    "# s_fit_lfm_lasso_example [<img src=\"https://www.arpm.co/lab/icons/icon_permalink.png\" width=30 height=30 style=\"display: inline;\">](https://www.arpm.co/lab/redirect.php?code=s_fit_lfm_lasso_example&codeLang=Python)\n",
    "For details, see [here](https://www.arpm.co/lab/redirect.php?permalink=fit_lfm_lasso-example)."
   ]
  },
  {
   "cell_type": "code",
   "execution_count": null,
   "metadata": {},
   "outputs": [],
   "source": [
    "import numpy as np\n",
    "\n",
    "from arpym.statistics.simulate_normal import simulate_normal\n",
    "from arpym.estimation.fit_lfm_mlfp import fit_lfm_mlfp\n",
    "\n",
    "# Input parameters\n",
    "t_ = 10000  # number of simulations\n",
    "b = np.array([[0.5, 0.3, 0.1],\n",
    "              [0.2, 0.3, 0.7],\n",
    "              [0.4, 0.3, 0.6],\n",
    "              [0.1, 0, 0]])\n",
    "lam = 10**-1\n",
    "mu_u = np.array([0, 0, 0, 0])  # residual location\n",
    "sig_u = np.eye(4)   # residual dispersion\n",
    "mu_z = np.array([0, 0, 0])  # factor location\n",
    "sig_z = np.eye(3)  # factor dispersion\n",
    "\n",
    "# Generate lfm\n",
    "u = simulate_normal(mu_u, sig_u, t_)\n",
    "z = simulate_normal(mu_z, sig_z, t_)\n",
    "x = z @ b.T + u\n",
    "\n",
    "# Estimate lfm\n",
    "alpha, beta, s2_u, u = fit_lfm_lasso(x, z, lam=lam)"
   ]
  }
 ],
 "metadata": {
  "jupytext": {
   "encoding": "# -*- coding: utf-8 -*-",
   "executable": "/usr/bin/env python3"
  },
  "kernelspec": {
   "display_name": "Python 3",
   "language": "python",
   "name": "python3"
  }
 },
 "nbformat": 4,
 "nbformat_minor": 4
}
