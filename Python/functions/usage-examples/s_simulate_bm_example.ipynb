{
 "cells": [
  {
   "cell_type": "markdown",
   "metadata": {},
   "source": [
    "# s_simulate_bm_example [<img src=\"https://www.arpm.co/lab/icons/icon_permalink.png\" width=30 height=30 style=\"display: inline;\">](https://www.arpm.co/lab/redirect.php?code=s_simulate_bm_example&codeLang=Python)\n",
    "For details, see [here](https://www.arpm.co/lab/redirect.php?permalink=simulate_bm-example)."
   ]
  },
  {
   "cell_type": "code",
   "execution_count": null,
   "metadata": {},
   "outputs": [],
   "source": [
    "import numpy as np\n",
    "\n",
    "from arpym.statistics.simulate_bm import simulate_bm\n",
    "\n",
    "# Input parameters\n",
    "x_0 = np.array([0, 0])  # value of the process at the current time\n",
    "mu = np.array([0, 0])  # expectation of shocks\n",
    "sig2 = np.eye(2)  # covariance matrix of shocks\n",
    "j_ = 4  # number of scenarios\n",
    "delta_t_m = np.array([1, 1, 2]) \n",
    "# generate Monte Carlo scenarios\n",
    "x_t_hor = simulate_bm(x_0, delta_t_m, mu, sig2, j_)"
   ]
  }
 ],
 "metadata": {
  "jupytext": {
   "encoding": "# -*- coding: utf-8 -*-",
   "executable": "/usr/bin/env python3"
  },
  "kernelspec": {
   "display_name": "Python 3",
   "language": "python",
   "name": "python3"
  }
 },
 "nbformat": 4,
 "nbformat_minor": 4
}
