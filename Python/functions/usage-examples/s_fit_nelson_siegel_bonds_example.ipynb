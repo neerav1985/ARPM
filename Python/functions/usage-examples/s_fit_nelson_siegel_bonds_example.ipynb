{
 "cells": [
  {
   "cell_type": "markdown",
   "metadata": {},
   "source": [
    "# s_fit_nelson_siegel_bonds\n",
    "For details, see [here](https://www.arpm.co/lab/redirect.php?permalink=fit_nelson_siegel_bonds-example)."
   ]
  },
  {
   "cell_type": "code",
   "execution_count": null,
   "metadata": {},
   "outputs": [],
   "source": [
    "import numpy as np\n",
    "from collections import defaultdict\n",
    "\n",
    "from arpym.pricing.fit_nelson_siegel_bonds import fit_nelson_siegel_bonds"
   ]
  },
  {
   "cell_type": "code",
   "execution_count": null,
   "metadata": {},
   "outputs": [],
   "source": [
    "v_bond = np.array([1.5, 2.1])  # bond values\n",
    "upsilon = defaultdict(dict)\n",
    "c_k = defaultdict(dict)\n",
    "upsilon[0] = np.array([0.25, 0.75])\n",
    "upsilon[1] = np.array([0.01, 0.51, 1.01])\n",
    "c_k[0] = np.array([0.024, 1.024])\n",
    "c_k[1] = np.array([0.03, 0.03, 1.03])"
   ]
  },
  {
   "cell_type": "code",
   "execution_count": null,
   "metadata": {},
   "outputs": [],
   "source": [
    "theta = fit_nelson_siegel_bonds(v_bond, c_k, upsilon)  # fit parameters"
   ]
  }
 ],
 "metadata": {
  "kernelspec": {
   "display_name": "Python 3",
   "language": "python",
   "name": "python3"
  }
 },
 "nbformat": 4,
 "nbformat_minor": 4
}
