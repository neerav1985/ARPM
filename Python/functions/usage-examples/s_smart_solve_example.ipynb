{
 "cells": [
  {
   "cell_type": "markdown",
   "metadata": {},
   "source": [
    "# s_smart_solve_example [<img src=\"https://www.arpm.co/lab/icons/icon_permalink.png\" width=30 height=30 style=\"display: inline;\">](https://www.arpm.co/lab/redirect.php?code=s_smart_solve_example&codeLang=Python)\n",
    "For details, see [here](https://www.arpm.co/lab/redirect.php?permalink=smart_solve-example)."
   ]
  },
  {
   "cell_type": "code",
   "execution_count": null,
   "metadata": {},
   "outputs": [],
   "source": [
    "import numpy as np\n",
    "\n",
    "from arpym.tools.smart_solve import smart_solve\n",
    "\n",
    "# create a singular positive semi-definite matrix\n",
    "n_ = 100\n",
    "k_ = 50\n",
    "sigma = np.random.randn(n_, k_)\n",
    "sigma2 = sigma @ sigma.T\n",
    "\n",
    "y = np.random.randn(n_, 5)\n",
    "x = smart_solve(sigma2, y)\n",
    "error = np.linalg.norm(y - sigma2 @ x) / np.linalg.norm(y)"
   ]
  }
 ],
 "metadata": {
  "jupytext": {
   "encoding": "# -*- coding: utf-8 -*-",
   "executable": "/usr/bin/env python3"
  },
  "kernelspec": {
   "display_name": "Python 3",
   "language": "python",
   "name": "python3"
  }
 },
 "nbformat": 4,
 "nbformat_minor": 4
}
