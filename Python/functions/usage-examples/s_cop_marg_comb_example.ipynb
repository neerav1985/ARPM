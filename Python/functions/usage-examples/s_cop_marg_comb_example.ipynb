{
 "cells": [
  {
   "cell_type": "markdown",
   "metadata": {},
   "source": [
    "# s_cop_marg_comb_example [<img src=\"https://www.arpm.co/lab/icons/icon_permalink.png\" width=30 height=30 style=\"display: inline;\">](https://www.arpm.co/lab/redirect.php?code=s_cop_marg_comb_example&codeLang=Python)\n",
    "For details, see [here](https://www.arpm.co/lab/redirect.php?permalink=cop_marg_comb-example)."
   ]
  },
  {
   "cell_type": "code",
   "execution_count": null,
   "metadata": {},
   "outputs": [],
   "source": [
    "import numpy as np\n",
    "from arpym.statistics.simulate_t import simulate_t\n",
    "from arpym.statistics.simulate_normal import simulate_normal\n",
    "from arpym.statistics.cop_marg_sep import cop_marg_sep\n",
    "from arpym.statistics.cop_marg_comb import cop_marg_comb\n",
    "\n",
    "# Input parameters\n",
    "\n",
    "n_ = 2  # dimension of the variables\n",
    "j_ = 10**4  # number of the scenarios\n",
    "mu_1 = np.array([0])  # location, variance and dof of Student t marginal\n",
    "sigma2_1 = np.array([[1]])\n",
    "nu_1 = 5\n",
    "mu_2 = np.array([0.3])  # location, variance of normal marginal\n",
    "sigma2_2 = np.array([[0.28]])\n",
    "mu_cop = np.zeros(n_)\n",
    "rho_cop = 0.7  # correlation and dof of Student t copula\n",
    "nu_cop = 13\n",
    "sigma_cop = np.array([[1, rho_cop], [rho_cop, 1]])\n",
    "\n",
    "# Sorted scenarios\n",
    "x_1 = simulate_t(mu_1, sigma2_1, nu_1, j_)  # Student t marginal scenarios\n",
    "x_2 = simulate_normal(mu_2, sigma2_2, j_)  # normal marginal scenarios\n",
    "x_grid = np.sort(np.c_[x_1, x_2], axis=0)  # sort scenarios\n",
    "\n",
    "# Scenarios from Student copula\n",
    "x_cop = simulate_t(mu_cop, sigma_cop, nu_cop, j_)\n",
    "u, _, _ = cop_marg_sep(x_cop)  # t copula\n",
    "\n",
    "# Combination step\n",
    "x = cop_marg_comb(u, x_grid)  # joint scenarios"
   ]
  }
 ],
 "metadata": {
  "jupytext": {
   "encoding": "# -*- coding: utf-8 -*-",
   "executable": "/usr/bin/env python3"
  },
  "kernelspec": {
   "display_name": "Python 3",
   "language": "python",
   "name": "python3"
  }
 },
 "nbformat": 4,
 "nbformat_minor": 4
}
