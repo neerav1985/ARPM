{
 "cells": [
  {
   "cell_type": "markdown",
   "metadata": {},
   "source": [
    "# s_meancov_inverse_wishart_example [<img src=\"https://www.arpm.co/lab/icons/icon_permalink.png\" width=30 height=30 style=\"display: inline;\">](https://www.arpm.co/lab/redirect.php?code=s_meancov_inverse_wishart_example&codeLang=Python)\n",
    "For details, see [here](https://www.arpm.co/lab/redirect.php?permalink=meancov_inverse_wishart-example)."
   ]
  },
  {
   "cell_type": "code",
   "execution_count": null,
   "metadata": {},
   "outputs": [],
   "source": [
    "import numpy as np\n",
    "\n",
    "from arpym.statistics.meancov_inverse_wishart import meancov_inverse_wishart\n",
    "\n",
    "# Input parameters\n",
    "nu = 8\n",
    "psi2 = np.eye(3)\n",
    "\n",
    "# Compute  expectation and covariance of the inverse-Wishart distribution\n",
    "e_sig2, cv_sig2 = meancov_inverse_wishart(nu, psi2)"
   ]
  }
 ],
 "metadata": {
  "jupytext": {
   "encoding": "# -*- coding: utf-8 -*-",
   "executable": "/usr/bin/env python3"
  },
  "kernelspec": {
   "display_name": "Python 3",
   "language": "python",
   "name": "python3"
  }
 },
 "nbformat": 4,
 "nbformat_minor": 4
}
