{
 "cells": [
  {
   "cell_type": "markdown",
   "metadata": {},
   "source": [
    "# s_max_info_ratio_2_example [<img src=\"https://www.arpm.co/lab/icons/icon_permalink.png\" width=30 height=30 style=\"display: inline;\">](https://www.arpm.co/lab/redirect.php?code=s_max_info_ratio_2_example&codeLang=Python)\n",
    "For details, see [here](https://www.arpm.co/lab/redirect.php?permalink=max_info_ratio_2-example)."
   ]
  },
  {
   "cell_type": "code",
   "execution_count": null,
   "metadata": {},
   "outputs": [],
   "source": [
    "\n",
    "import numpy as np\n",
    "\n",
    "from arpym.tools.max_info_ratio_2 import max_info_ratio_2\n",
    "\n",
    "mu_pi = np.array([0, 0])  # expectation of instrument P&L's\n",
    "mu_s = np.array([0, 0])  # expectation of signals\n",
    "\n",
    "# covariance matrix\n",
    "sig2 = np.array([[1, 0.5, 0.1, 0.1],\n",
    "                 [0.5, 1, 0.1, 0.1],\n",
    "                 [0.1, 0.1, 1, 0],\n",
    "                 [0.1, 0.1, 0, 1]])\n",
    "\n",
    "# maximum (l2-mean unconditional) information ratio\n",
    "max_ir2= max_info_ratio_2(mu_pi, mu_s, sig2)"
   ]
  }
 ],
 "metadata": {
  "jupytext": {
   "encoding": "# -*- coding: utf-8 -*-",
   "executable": "/usr/bin/env python3"
  },
  "kernelspec": {
   "display_name": "Python 3",
   "language": "python",
   "name": "python3"
  }
 },
 "nbformat": 4,
 "nbformat_minor": 4
}
