{
 "cells": [
  {
   "cell_type": "markdown",
   "metadata": {},
   "source": [
    "# s_hidden_markov_model_stocks [<img src=\"https://www.arpm.co/lab/icons/icon_permalink.png\" width=30 height=30 style=\"display: inline;\">](https://www.arpm.co/lab/redirect.php?code=s_hidden_markov_model_stocks&codeLang=Python)\n",
    "For details, see [here](https://www.arpm.co/lab/redirect.php?permalink=ExerFigHMM)."
   ]
  },
  {
   "cell_type": "code",
   "execution_count": null,
   "metadata": {},
   "outputs": [],
   "source": [
    "import numpy as np\n",
    "import pandas as pd\n",
    "import matplotlib.pyplot as plt\n",
    "from hmmlearn.hmm import GaussianHMM\n",
    "\n",
    "from arpym.tools.logo import add_logo"
   ]
  },
  {
   "cell_type": "markdown",
   "metadata": {},
   "source": [
    "## [Input parameters](https://www.arpm.co/lab/redirect.php?permalink=s_hidden_markov_model_stocks-parameters)"
   ]
  },
  {
   "cell_type": "code",
   "execution_count": null,
   "metadata": {},
   "outputs": [],
   "source": [
    "name = 'CSCO'  # name of company to consider\n",
    "t_first = '2007-09-10'  # starting date\n",
    "t_last = '2012-10-19'  # ending date"
   ]
  },
  {
   "cell_type": "markdown",
   "metadata": {},
   "source": [
    "## [Step 0](https://www.arpm.co/lab/redirect.php?permalink=s_hidden_markov_model_stocks-implementation-step00): Load data"
   ]
  },
  {
   "cell_type": "code",
   "execution_count": null,
   "metadata": {},
   "outputs": [],
   "source": [
    "path = '~/databases/global-databases/equities/db_stocks_SP500/'\n",
    "df_stocks = pd.read_csv(path + 'db_stocks_sp.csv', skiprows=[0], index_col=0)\n",
    "df_stocks = df_stocks.set_index(pd.to_datetime(df_stocks.index))"
   ]
  },
  {
   "cell_type": "markdown",
   "metadata": {},
   "source": [
    "## [Step 1](https://www.arpm.co/lab/redirect.php?permalink=s_hidden_markov_model_stocks-implementation-step01): Compute the compounded returns"
   ]
  },
  {
   "cell_type": "code",
   "execution_count": null,
   "metadata": {},
   "outputs": [],
   "source": [
    "v = df_stocks[name].loc[(df_stocks.index >= t_first) &\n",
    "                        (df_stocks.index <= t_last)]\n",
    "dx = np.diff(np.log(v))\n",
    "dx[np.isnan(dx)] = 0"
   ]
  },
  {
   "cell_type": "markdown",
   "metadata": {},
   "source": [
    "## [Step 2](https://www.arpm.co/lab/redirect.php?permalink=s_hidden_markov_model_stocks-implementation-step02): Fit the hidden Markov model and get the transaction matrix"
   ]
  },
  {
   "cell_type": "code",
   "execution_count": null,
   "metadata": {},
   "outputs": [],
   "source": [
    "hmm = GaussianHMM(n_components=2, means_prior=np.zeros((1, 1)),\n",
    "                  means_weight=1e10).fit(dx.reshape(-1, 1))\n",
    "\n",
    "# rearrange the volatility from small to large\n",
    "sigma2 = hmm.covars_.flatten()\n",
    "idx = np.argsort(sigma2)\n",
    "sigma2 = sigma2[idx]\n",
    "p = hmm.transmat_[np.ix_(idx, idx)]  # transaction matrix"
   ]
  },
  {
   "cell_type": "markdown",
   "metadata": {},
   "source": [
    "## [Step 3](https://www.arpm.co/lab/redirect.php?permalink=s_hidden_markov_model_stocks-implementation-step03): Compute the hidden status"
   ]
  },
  {
   "cell_type": "code",
   "execution_count": null,
   "metadata": {},
   "outputs": [],
   "source": [
    "z_ = hmm.predict(dx.reshape(-1, 1))\n",
    "z = z_.copy()\n",
    "z[z_ == 0] = idx[0]\n",
    "z[z_ == 1] = idx[1]"
   ]
  },
  {
   "cell_type": "markdown",
   "metadata": {},
   "source": [
    "## Plots"
   ]
  },
  {
   "cell_type": "code",
   "execution_count": null,
   "metadata": {},
   "outputs": [],
   "source": [
    "plt.style.use('arpm')\n",
    "\n",
    "panic = dx.copy()\n",
    "calm = dx.copy()\n",
    "panic[z == 0] = np.nan\n",
    "calm[z == 1] = np.nan\n",
    "\n",
    "\n",
    "fig = plt.figure()\n",
    "plt.plot(v.index[1:], calm, '.', color=[0.4, 0.4, 0.4])\n",
    "plt.plot(v.index[1:], panic, '^', color=[1.0, 0.5, 0.0])\n",
    "plt.legend(['state=calm', 'state=panic'])\n",
    "plt.ylabel('compound returns')\n",
    "add_logo(fig)"
   ]
  }
 ],
 "metadata": {
  "jupytext": {
   "encoding": "# -*- coding: utf-8 -*-",
   "executable": "/usr/bin/env python3"
  },
  "kernelspec": {
   "display_name": "Python 3",
   "language": "python",
   "name": "python3"
  }
 },
 "nbformat": 4,
 "nbformat_minor": 4
}
