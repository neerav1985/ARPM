{
 "cells": [
  {
   "cell_type": "markdown",
   "metadata": {},
   "source": [
    "# S_EstimateQuantileMixtureEvaluation [<img src=\"https://www.arpm.co/lab/icons/icon_permalink.png\" width=30 height=30 style=\"display: inline;\">](https://www.arpm.co/lab/redirect.php?code=S_EstimateQuantileMixtureEvaluation&codeLang=Python)\n",
    "For details, see [here](https://www.arpm.co/lab/redirect.php?permalink=eSTaSSESSqUANT)."
   ]
  },
  {
   "cell_type": "markdown",
   "metadata": {},
   "source": [
    "## Prepare the environment"
   ]
  },
  {
   "cell_type": "code",
   "execution_count": null,
   "metadata": {},
   "outputs": [],
   "source": [
    "import os.path as path\n",
    "import sys, os\n",
    "\n",
    "sys.path.append(path.abspath('../../functions-legacy'))\n",
    "from collections import namedtuple\n",
    "\n",
    "import numpy as np\n",
    "from numpy import ones, zeros, round, mean, log\n",
    "from numpy import max as npmax\n",
    "from numpy.random import rand\n",
    "\n",
    "import matplotlib.pyplot as plt\n",
    "from matplotlib.pyplot import plot, bar, legend, ylim, subplots, title\n",
    "\n",
    "plt.style.use('seaborn')\n",
    "\n",
    "from ARPM_utils import save_plot\n",
    "from HistogramFP import HistogramFP\n",
    "from QuantileMixture import QuantileMixture"
   ]
  },
  {
   "cell_type": "markdown",
   "metadata": {},
   "source": [
    "## Generate scenarios"
   ]
  },
  {
   "cell_type": "code",
   "execution_count": null,
   "metadata": {},
   "outputs": [],
   "source": [
    "# define estimators\n",
    "g_b = lambda x: mean(x, 1, keepdims=True)\n",
    "g_e = lambda x: np.median(x, 1, keepdims=True)\n",
    "\n",
    "# generate the scenarios for the time series\n",
    "t_ = 50\n",
    "j_ = 10 ** 3\n",
    "alpha = 0.5\n",
    "mu_Y = 0.1\n",
    "sigma_Y = 0.2\n",
    "mu_Z = 0\n",
    "sigma_Z = 0.15\n",
    "\n",
    "# compute the true value of the property\n",
    "g_f = QuantileMixture(0.5, alpha, mu_Y, sigma_Y, mu_Z, sigma_Z)\n",
    "# generate j_ simulations of the time series\n",
    "I = zeros((j_, t_))\n",
    "P = rand(j_, t_)\n",
    "for j in range(j_):\n",
    "    I[j,:] = QuantileMixture(P[j, :], alpha, mu_Y, sigma_Y, mu_Z, sigma_Z)"
   ]
  },
  {
   "cell_type": "markdown",
   "metadata": {},
   "source": [
    "## Compute error, bias and inefficiency for every estimator"
   ]
  },
  {
   "cell_type": "code",
   "execution_count": null,
   "metadata": {},
   "outputs": [],
   "source": [
    "# compute simulations of the estimators\n",
    "G_b = g_b(I)\n",
    "G_e = g_e(I)\n",
    "# compute the losses of the estimators\n",
    "L_b = (G_b - g_f) ** 2\n",
    "L_e = (G_e - g_f) ** 2\n",
    "# compute errors\n",
    "er_b = mean(L_b)\n",
    "er_e = mean(L_e)\n",
    "# compute square bias\n",
    "bias2_b = (mean((G_b) - g_f)) ** 2\n",
    "bias2_e = (mean((G_e) - g_f)) ** 2\n",
    "# compute square inefficiency\n",
    "inef2_b = er_b - bias2_b\n",
    "inef2_e = er_e - bias2_e"
   ]
  },
  {
   "cell_type": "markdown",
   "metadata": {},
   "source": [
    "## Generate figures"
   ]
  },
  {
   "cell_type": "code",
   "execution_count": null,
   "metadata": {},
   "outputs": [],
   "source": [
    "gray = [.7, .7, .7]\n",
    "dgray = [.5, .5, .5]\n",
    "red = [.9, .4, 0]\n",
    "blue = [0, .45, .7]\n",
    "\n",
    "# estimators.T distribution\n",
    "f, ax = subplots(2,1)\n",
    "\n",
    "NumBins = round(7*log(j_))\n",
    "p = ones((1, j_)) / j_\n",
    "\n",
    "plt.sca(ax[0])\n",
    "\n",
    "option = namedtuple('option', 'n_bins')\n",
    "option.n_bins = NumBins\n",
    "n, x = HistogramFP(G_b.T, p, option)\n",
    "b = bar(x[:-1], n[0], width=x[1]-x[0],facecolor=gray,edgecolor= dgray)\n",
    "plot(g_f, 0, '.',markersize=15,color='g')\n",
    "title('estimator a')\n",
    "legend(['true property value'])\n",
    "\n",
    "plt.sca(ax[1])\n",
    "\n",
    "n, x = HistogramFP(G_e.T, p, option)\n",
    "b = bar(x[:-1], n[0], width=x[1]-x[0], facecolor=gray,edgecolor= dgray)\n",
    "plot(g_f, 0, '.',markersize= 15, color='g')\n",
    "title('estimator b');\n",
    "# save_plot(ax=plt.gca(), extension='png', scriptname=os.path.basename('.')[:-3], count=plt.get_fignums()[-1])\n",
    "\n",
    "# loss\n",
    "f, ax = subplots(2,1)\n",
    "h1 = 0.045\n",
    "h = 0.01\n",
    "plt.sca(ax[0])\n",
    "n, x = HistogramFP(L_b.T, p, option)\n",
    "b = bar(x[:-1], n[0], width=x[1]-x[0], facecolor=gray,edgecolor= dgray)\n",
    "title('loss of estimator a')\n",
    "ylim([0, npmax(n)*1.1])\n",
    "bias = plot([0, bias2_b], [npmax(n)*h, npmax(n)*h], color=red, lw=3)\n",
    "error = plot([0, er_b], [npmax(n)*h1, npmax(n)*h1], color='k',lw=3)\n",
    "inefficiency = plot([bias2_b, er_b], [npmax(n)*h, npmax(n)*h], color=blue, lw=3)\n",
    "legend(['error','bias$^2$' ,'ineff$^2$'])\n",
    "\n",
    "plt.sca(ax[1])\n",
    "n, x = HistogramFP(L_e.T, p, option)\n",
    "b = bar(x[:-1], n[0], width=x[1]-x[0], facecolor=gray,edgecolor= dgray)\n",
    "title('loss of estimator b')\n",
    "ylim([0, npmax(n)*1.1])\n",
    "plot([0, bias2_e], [npmax(n)*h, npmax(n)*h], color=red, lw=3)\n",
    "plot([0, er_e], [npmax(n)*h1, npmax(n)*h1], color='k',lw=3)\n",
    "plot([bias2_e, er_e], [npmax(n)*h, npmax(n)*h], color=blue, lw=3)\n",
    "plt.tight_layout();\n",
    "# save_plot(ax=plt.gca(), extension='png', scriptname=os.path.basename('.')[:-3], count=plt.get_fignums()[-1])"
   ]
  }
 ],
 "metadata": {
  "jupytext": {
   "encoding": "# -*- coding: utf-8 -*-",
   "executable": "/usr/bin/env python3"
  },
  "kernelspec": {
   "display_name": "Python 3",
   "language": "python",
   "name": "python3"
  }
 },
 "nbformat": 4,
 "nbformat_minor": 4
}
