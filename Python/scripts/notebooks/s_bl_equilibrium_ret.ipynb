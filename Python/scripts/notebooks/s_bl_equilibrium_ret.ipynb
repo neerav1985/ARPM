{
 "cells": [
  {
   "cell_type": "markdown",
   "metadata": {},
   "source": [
    "# s_bl_equilibrium_ret [<img src=\"https://www.arpm.co/lab/icons/icon_permalink.png\" width=30 height=30 style=\"display: inline;\">](https://www.arpm.co/lab/redirect.php?code=s_bl_equilibrium_ret&codeLang=Python)\n",
    "For details, see [here](https://www.arpm.co/lab/redirect.php?permalink=eb-blreturns)."
   ]
  },
  {
   "cell_type": "code",
   "execution_count": null,
   "metadata": {},
   "outputs": [],
   "source": [
    "import numpy as np\n",
    "import pandas as pd\n",
    "\n",
    "from arpym.estimation.cov_2_corr import cov_2_corr\n",
    "from arpym.estimation.exp_decay_fp import exp_decay_fp\n",
    "from arpym.statistics.meancov_sp import meancov_sp\n",
    "from arpym.views.black_litterman import black_litterman\n",
    "from arpym.views.min_rel_entropy_normal import min_rel_entropy_normal"
   ]
  },
  {
   "cell_type": "markdown",
   "metadata": {},
   "source": [
    "## [Input parameters](https://www.arpm.co/lab/redirect.php?permalink=s_bl_equilibrium_ret-parameters)"
   ]
  },
  {
   "cell_type": "code",
   "execution_count": null,
   "metadata": {},
   "outputs": [],
   "source": [
    "c = 0.5  # confidence level in the views\n",
    "c_uninf = 1e-6  # confidence level in the uninformative views\n",
    "eta = np.array([1, -1])  # parameters for qualitative views\n",
    "lam = 1.2  # average risk-aversion level\n",
    "tau_hl = 1386  # half-life parameter\n",
    "v = np.array([[1, - 1, 0], [0, 0, 1]])  # pick matrix\n",
    "w = np.array([1/3, 1/3, 1/3])  # market-weighted portfolio"
   ]
  },
  {
   "cell_type": "markdown",
   "metadata": {},
   "source": [
    "## [Step 0](https://www.arpm.co/lab/redirect.php?permalink=s_bl_equilibrium_ret-implementation-step00): Upload data"
   ]
  },
  {
   "cell_type": "code",
   "execution_count": null,
   "metadata": {},
   "outputs": [],
   "source": [
    "path = '~/databases/global-databases/equities/db_stocks_SP500/'\n",
    "data = pd.read_csv(path + 'db_stocks_sp.csv', index_col=0, header=[0, 1])"
   ]
  },
  {
   "cell_type": "markdown",
   "metadata": {},
   "source": [
    "## [Step 1](https://www.arpm.co/lab/redirect.php?permalink=s_bl_equilibrium_ret-implementation-step01): Compute time series of returns"
   ]
  },
  {
   "cell_type": "code",
   "execution_count": null,
   "metadata": {},
   "outputs": [],
   "source": [
    "n_ = len(w)  # market dimension\n",
    "r_t = data.pct_change().iloc[1:, :n_].values  # returns"
   ]
  },
  {
   "cell_type": "markdown",
   "metadata": {},
   "source": [
    "## [Step 2](https://www.arpm.co/lab/redirect.php?permalink=s_bl_equilibrium_ret-implementation-step02): Compute the sample mean and the exponential decay sample covariance"
   ]
  },
  {
   "cell_type": "code",
   "execution_count": null,
   "metadata": {},
   "outputs": [],
   "source": [
    "t_ = len(r_t)\n",
    "p_t_tau_hl = exp_decay_fp(t_, tau_hl)  # exponential decay probabilities\n",
    "mu_hat_r, sig2_hat_r = meancov_sp(r_t, p_t_tau_hl)  # sample mean and covariance"
   ]
  },
  {
   "cell_type": "markdown",
   "metadata": {},
   "source": [
    "## [Step 3](https://www.arpm.co/lab/redirect.php?permalink=s_bl_equilibrium_ret-implementation-step03): Compute prior predictive performance parameters"
   ]
  },
  {
   "cell_type": "code",
   "execution_count": null,
   "metadata": {},
   "outputs": [],
   "source": [
    "# expectation in terms of market equilibrium\n",
    "mu_r_equil = 2 * lam * sig2_hat_r @ w\n",
    "\n",
    "tau = t_  # uncertainty level in the reference model\n",
    "mu_m_pri = mu_r_equil\n",
    "sig2_m_pri = (1 / tau) * sig2_hat_r\n",
    "cv_pri_pred = sig2_hat_r + sig2_m_pri"
   ]
  },
  {
   "cell_type": "markdown",
   "metadata": {},
   "source": [
    "## [Step 4](https://www.arpm.co/lab/redirect.php?permalink=s_bl_equilibrium_ret-implementation-step04): Compute vectors quantifying the views"
   ]
  },
  {
   "cell_type": "code",
   "execution_count": null,
   "metadata": {
    "lines_to_next_cell": 1
   },
   "outputs": [],
   "source": [
    "i = v @ mu_r_equil + eta * np.sqrt(np.diag(v @ cv_pri_pred @ v.T))\n",
    "sig2_view = ((1 - c) / c) * (v @ sig2_m_pri @ v.T)"
   ]
  },
  {
   "cell_type": "markdown",
   "metadata": {},
   "source": [
    "## [Step 5](https://www.arpm.co/lab/redirect.php?permalink=s_bl_equilibrium_ret-implementation-step05): Compute effective rank corresponding to the pick matrix"
   ]
  },
  {
   "cell_type": "code",
   "execution_count": null,
   "metadata": {},
   "outputs": [],
   "source": [
    "\n",
    "def eff_rank(s2):\n",
    "    lam2_n, _ = np.linalg.eig(s2)\n",
    "    wn = lam2_n / np.sum(lam2_n)\n",
    "    return np.exp(- wn @ np.log(wn))\n",
    "\n",
    "cr_i = cov_2_corr(v @ sig2_m_pri @ v.T * 1 / c)[0]\n",
    "eff_rank = eff_rank(cr_i)"
   ]
  },
  {
   "cell_type": "markdown",
   "metadata": {},
   "source": [
    "## [Step 6](https://www.arpm.co/lab/redirect.php?permalink=s_bl_equilibrium_ret-implementation-step06): Compute posterior predictive performance parameters"
   ]
  },
  {
   "cell_type": "code",
   "execution_count": null,
   "metadata": {},
   "outputs": [],
   "source": [
    "mu_m_pos, cv_pos_pred = black_litterman(mu_m_pri, sig2_hat_r, tau, v, i,\n",
    "                                        sig2_view)"
   ]
  },
  {
   "cell_type": "markdown",
   "metadata": {},
   "source": [
    "## [Step 7](https://www.arpm.co/lab/redirect.php?permalink=s_bl_equilibrium_ret-implementation-step07):  Compute posterior predictive performance parameters in the case of uninformative views"
   ]
  },
  {
   "cell_type": "code",
   "execution_count": null,
   "metadata": {},
   "outputs": [],
   "source": [
    "# compute vector quantifying the views in covariance\n",
    "sig2_unifview = ((1 - c_uninf) / c_uninf) * v @ sig2_m_pri @ v.T\n",
    "\n",
    "mu_m_pos, cv_pos_pred = black_litterman(mu_m_pri, sig2_hat_r, tau, v,\n",
    "                                        i, sig2_unifview)"
   ]
  },
  {
   "cell_type": "markdown",
   "metadata": {},
   "source": [
    "## [Step 8](https://www.arpm.co/lab/redirect.php?permalink=s_bl_equilibrium_ret-implementation-step08): Compute full-confidence posterior predictive performance parameters"
   ]
  },
  {
   "cell_type": "code",
   "execution_count": null,
   "metadata": {
    "lines_to_next_cell": 2
   },
   "outputs": [],
   "source": [
    "mu_r_sure_bl = mu_m_pri + sig2_hat_r @ v.T @ \\\n",
    "             np.linalg.solve(v @ sig2_hat_r @ v.T, i - v @ mu_m_pri)\n",
    "sig2_r_sure_bl = (1 + 1 / tau) * sig2_hat_r - (1 / tau) * sig2_hat_r @ v.T\\\n",
    "               @ np.linalg.solve(v @ sig2_hat_r @ v.T, v @ sig2_hat_r)"
   ]
  },
  {
   "cell_type": "markdown",
   "metadata": {},
   "source": [
    "## [Step 9](https://www.arpm.co/lab/redirect.php?permalink=s_bl_equilibrium_ret-implementation-step09): Compare posterior parameters from point views"
   ]
  },
  {
   "cell_type": "code",
   "execution_count": null,
   "metadata": {},
   "outputs": [],
   "source": [
    "k_ = len(v)  # view variables dimension\n",
    "v_point = v\n",
    "z_point = i\n",
    "\n",
    "mu_r_point, sig2_r_point = min_rel_entropy_normal(mu_m_pri, sig2_hat_r,\n",
    "                                                  v_point, z_point, v_point,\n",
    "                                                  np.zeros((k_)))"
   ]
  },
  {
   "cell_type": "markdown",
   "metadata": {},
   "source": [
    "## [Step 10](https://www.arpm.co/lab/redirect.php?permalink=s_bl_equilibrium_ret-implementation-step10): Compute posterior parameters from distributional views (Minimum Relative Entropy)"
   ]
  },
  {
   "cell_type": "code",
   "execution_count": null,
   "metadata": {},
   "outputs": [],
   "source": [
    "v_mre = v\n",
    "v_sig_mre = np.eye(n_)\n",
    "imre = i\n",
    "sig2viewmre = sig2_hat_r\n",
    "\n",
    "mu_r_mre, sig2_r_mre = min_rel_entropy_normal(mu_m_pri, sig2_hat_r, v_mre,\n",
    "                                              imre, v_sig_mre, sig2viewmre)"
   ]
  }
 ],
 "metadata": {
  "jupytext": {
   "encoding": "# -*- coding: utf-8 -*-",
   "executable": "/usr/bin/env python3"
  },
  "kernelspec": {
   "display_name": "Python 3",
   "language": "python",
   "name": "python3"
  }
 },
 "nbformat": 4,
 "nbformat_minor": 4
}
