{
 "cells": [
  {
   "cell_type": "markdown",
   "metadata": {},
   "source": [
    "# S_EllipsoidTestTickTime [<img src=\"https://www.arpm.co/lab/icons/icon_permalink.png\" width=30 height=30 style=\"display: inline;\">](https://www.arpm.co/lab/redirect.php?code=S_EllipsoidTestTickTime&codeLang=Python)\n",
    "For details, see [here](https://www.arpm.co/lab/redirect.php?permalink=ExerPoissoniid)."
   ]
  },
  {
   "cell_type": "markdown",
   "metadata": {},
   "source": [
    "## Prepare the environment"
   ]
  },
  {
   "cell_type": "code",
   "execution_count": null,
   "metadata": {},
   "outputs": [],
   "source": [
    "import os\n",
    "import os.path as path\n",
    "import sys\n",
    "\n",
    "sys.path.append(path.abspath('../../functions-legacy'))\n",
    "\n",
    "import numpy as np\n",
    "from numpy import arange, zeros, where, cumsum, linspace\n",
    "from numpy import sum as npsum\n",
    "\n",
    "from scipy.io import loadmat\n",
    "\n",
    "import matplotlib.pyplot as plt\n",
    "from matplotlib.pyplot import figure\n",
    "\n",
    "plt.style.use('seaborn')\n",
    "\n",
    "from CONFIG import GLOBAL_DB, TEMPORARY_DB\n",
    "from ARPM_utils import save_plot, struct_to_dict, date_mtop\n",
    "from autocorrelation import autocorrelation\n",
    "from TradeQuoteProcessing import TradeQuoteProcessing\n",
    "from TradeQuoteSpreading import TradeQuoteSpreading\n",
    "from InvarianceTestEllipsoid import InvarianceTestEllipsoid"
   ]
  },
  {
   "cell_type": "markdown",
   "metadata": {},
   "source": [
    "## Upload the database"
   ]
  },
  {
   "cell_type": "code",
   "execution_count": null,
   "metadata": {},
   "outputs": [],
   "source": [
    "try:\n",
    "    db = loadmat(os.path.join(GLOBAL_DB, 'db_US_10yr_Future_quotes_and_trades'), squeeze_me=True)\n",
    "except FileNotFoundError:\n",
    "    db = loadmat(os.path.join(TEMPORARY_DB, 'db_US_10yr_Future_quotes_and_trades'), squeeze_me=True)"
   ]
  },
  {
   "cell_type": "markdown",
   "metadata": {},
   "source": [
    "## Process the time series, refining the raw data coming from the database"
   ]
  },
  {
   "cell_type": "code",
   "execution_count": null,
   "metadata": {},
   "outputs": [],
   "source": [
    "quotes = struct_to_dict(db['quotes'])\n",
    "trades = struct_to_dict(db['trades'])\n",
    "\n",
    "dates_quotes = quotes.time_names  #\n",
    "t = quotes.time  # time vector of quotes\n",
    "p_bid = quotes.bid  # bid prices\n",
    "p_ask = quotes.ask  # ask prices\n",
    "q_bid = quotes.bsiz  # bid volumes\n",
    "q_ask = quotes.asiz  # ask volumes\n",
    "numords_bid = quotes.bnumords  # number of separate limit orders on bid\n",
    "numords_ask = quotes.anumords  # number of separate limit orders on ask\n",
    "\n",
    "dates_trades = trades.time_names  #\n",
    "t_k = trades.time  # time vector of trades\n",
    "p_last = trades.price  # last transaction prices\n",
    "delta_q = trades.siz  # flow of traded contracts' volumes\n",
    "delta_sgn = trades.aggress  # trade sign flow\n",
    "match = trades.mtch  # match events: - the \"1\" value indicates the \"start of a match event\" while zeros indicates the \"continuation of a match event\"\n",
    "#              - the db is ordered such that the start of a match event is in the last column corresponding to that event\n",
    "\n",
    "t, _, q_ask, p_ask, q_bid, p_bid, t_k, _, p_last, delta_q, delta_sgn, vargout = TradeQuoteProcessing(t, dates_quotes, q_ask, p_ask, q_bid, p_bid, t_k, dates_trades, p_last, delta_q, delta_sgn, match,\n",
    "                                                                                                    {1:numords_ask, 2:numords_bid})\n",
    "\n",
    "t = t.flatten()\n",
    "numords_ask, numords_bid = vargout[1], vargout[2]\n",
    "q = cumsum(delta_q)  # cumulative volume of traded contracts\n",
    "sgn = cumsum(delta_sgn)  # cumulative trade sign"
   ]
  },
  {
   "cell_type": "markdown",
   "metadata": {},
   "source": [
    "## Compute the realized time series of new events delta_k_t with time unit of one second"
   ]
  },
  {
   "cell_type": "code",
   "execution_count": null,
   "metadata": {},
   "outputs": [],
   "source": [
    "i_t0 = 1  # index of window's starting time\n",
    "i_t1 = len(t)  # index of window's last time\n",
    "ms = (date_mtop(t[i_t1-1]) - date_mtop(t[i_t0-1])).seconds * 1000 + (date_mtop(t[i_t1-1]) - date_mtop(t[i_t0-1])).microseconds / 1000\n",
    "# total len of time window expressed in wall-clock-time\n",
    "t_ms = linspace(t[i_t0-1],t[i_t1-1], int(ms)+1) # time window's wall-clock-time vector expressed in milliseconds\n",
    "\n",
    "k_0 = where(t_k[0] >= t[i_t0-1])[0][0]  # index of the first trade within the time window\n",
    "k_1 = where(t_k[0] <= t[i_t1-1])[0][-1]  # index of the last trade within the time window\n",
    "\n",
    "_, _, _, _, p_last, *_ = TradeQuoteSpreading(t_ms, t[i_t0-1:i_t1], q_ask[0,i_t0-1: i_t1], p_ask[0,i_t0-1: i_t1],\n",
    "                                                  q_bid[0,i_t0-1: i_t1],p_bid[0,i_t0-1: i_t1], t_k[0,k_0:k_1+1],\n",
    "                                                  p_last[0,k_0:k_1+1], q[k_0:k_1+1], sgn[k_0:k_1+1],\n",
    "                                                     {1: numords_ask[0,i_t0 - 1: i_t1], 2: numords_bid[0,i_t0 - 1: i_t1]})\n",
    "\n",
    "delta_t = 1000  # time unit of one second\n",
    "t_span = arange(0,len(t_ms),delta_t)\n",
    "delta_k_t = zeros((1, len(t_span) - 1))\n",
    "for k in range(len(t_span) - 1):\n",
    "    delta_k_t[0,k] = npsum(~np.isnan(p_last[0,t_span[k]:t_span[k + 1] - 1]))"
   ]
  },
  {
   "cell_type": "markdown",
   "metadata": {},
   "source": [
    "## Compute autocorrelations at different lags"
   ]
  },
  {
   "cell_type": "code",
   "execution_count": null,
   "metadata": {},
   "outputs": [],
   "source": [
    "lag_ = 10\n",
    "\n",
    "acf = autocorrelation(delta_k_t, lag_)"
   ]
  },
  {
   "cell_type": "markdown",
   "metadata": {},
   "source": [
    "## Plot the results of the IID test"
   ]
  },
  {
   "cell_type": "code",
   "execution_count": null,
   "metadata": {},
   "outputs": [],
   "source": [
    "lag = 10  # lag to be printed\n",
    "ell_scale = 2  # ellipsoid radius coefficient\n",
    "fit = 3\n",
    "\n",
    "f = figure(figsize=(12,6))\n",
    "InvarianceTestEllipsoid(delta_k_t, acf[0,1:], lag, fit, ell_scale, [],'', [-5, 0]);\n",
    "# save_plot(ax=plt.gca(), extension='png', scriptname=os.path.basename('.')[:-3], count=plt.get_fignums()[-1])\n"
   ]
  }
 ],
 "metadata": {
  "jupytext": {
   "encoding": "# -*- coding: utf-8 -*-",
   "executable": "/usr/bin/env python3"
  },
  "kernelspec": {
   "display_name": "Python 3",
   "language": "python",
   "name": "python3"
  }
 },
 "nbformat": 4,
 "nbformat_minor": 4
}
