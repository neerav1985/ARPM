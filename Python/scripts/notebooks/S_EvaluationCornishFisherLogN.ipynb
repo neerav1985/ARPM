{
 "cells": [
  {
   "cell_type": "markdown",
   "metadata": {},
   "source": [
    "# S_EvaluationCornishFisherLogN [<img src=\"https://www.arpm.co/lab/icons/icon_permalink.png\" width=30 height=30 style=\"display: inline;\">](https://www.arpm.co/lab/redirect.php?code=S_EvaluationCornishFisherLogN&codeLang=Python)\n",
    "For details, see [here](https://www.arpm.co/lab/redirect.php?permalink=EBCornishFisherEvaluation)."
   ]
  },
  {
   "cell_type": "markdown",
   "metadata": {},
   "source": [
    "## Prepare the environment"
   ]
  },
  {
   "cell_type": "code",
   "execution_count": null,
   "metadata": {},
   "outputs": [],
   "source": [
    "import os.path as path\n",
    "import sys\n",
    "\n",
    "sys.path.append(path.abspath('../../functions-legacy'))\n",
    "\n",
    "from numpy import array\n",
    "\n",
    "import matplotlib.pyplot as plt\n",
    "\n",
    "plt.style.use('seaborn')\n",
    "\n",
    "from PortfolioMomentsLogN import PortfolioMomentsLogN\n",
    "from CornishFisher import CornishFisher\n",
    "\n",
    "# parameters\n",
    "v_tnow = array([[2], [1.5]])\n",
    "mu = array([[0.5], [-0.3]])\n",
    "sigma2 = array([[0.55, 0.82],\n",
    "          [0.82, 1.05]])\n",
    "h = array([[2], [1]])\n",
    "c = 0.95"
   ]
  },
  {
   "cell_type": "markdown",
   "metadata": {},
   "source": [
    "## Computation of the expectation, the standard deviation and the skewness\n",
    "## of the portfolio's P&L using function PortfolioMomentsLogN"
   ]
  },
  {
   "cell_type": "code",
   "execution_count": null,
   "metadata": {},
   "outputs": [],
   "source": [
    "muPL_h, sdPL_h, skPL_h = PortfolioMomentsLogN(v_tnow, h, mu, sigma2)"
   ]
  },
  {
   "cell_type": "markdown",
   "metadata": {},
   "source": [
    "## Using the skewness computed at the previous step, compute the third central\n",
    "## moment of the portfolio's P&L"
   ]
  },
  {
   "cell_type": "code",
   "execution_count": null,
   "metadata": {},
   "outputs": [],
   "source": [
    "third_central = skPL_h@(sdPL_h) ** 3"
   ]
  },
  {
   "cell_type": "markdown",
   "metadata": {},
   "source": [
    "## Computation of the Cornish-Fisher expansion of the quantile based-index\n",
    "## with confidence c=0.95 using function CornishFisher"
   ]
  },
  {
   "cell_type": "code",
   "execution_count": null,
   "metadata": {},
   "outputs": [],
   "source": [
    "q = CornishFisher(muPL_h, sdPL_h, skPL_h, 1 - c)"
   ]
  }
 ],
 "metadata": {
  "jupytext": {
   "encoding": "# -*- coding: utf-8 -*-",
   "executable": "/usr/bin/env python3"
  },
  "kernelspec": {
   "display_name": "Python 3",
   "language": "python",
   "name": "python3"
  }
 },
 "nbformat": 4,
 "nbformat_minor": 4
}
