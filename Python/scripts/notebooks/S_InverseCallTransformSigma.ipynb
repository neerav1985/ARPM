{
 "cells": [
  {
   "cell_type": "markdown",
   "metadata": {},
   "source": [
    "# S_InverseCallTransformSigma [<img src=\"https://www.arpm.co/lab/icons/icon_permalink.png\" width=30 height=30 style=\"display: inline;\">](https://www.arpm.co/lab/redirect.php?code=S_InverseCallTransformSigma&codeLang=Python)\n",
    "For details, see [here](https://www.arpm.co/lab/redirect.php?permalink=exer-log-call-impl-vol-copy-1)."
   ]
  },
  {
   "cell_type": "markdown",
   "metadata": {},
   "source": [
    "## Prepare the environment"
   ]
  },
  {
   "cell_type": "code",
   "execution_count": null,
   "metadata": {},
   "outputs": [],
   "source": [
    "import os\n",
    "import os.path as path\n",
    "import sys\n",
    "\n",
    "sys.path.append(path.abspath('../../functions-legacy'))\n",
    "from collections import namedtuple\n",
    "\n",
    "from numpy import arange, array, zeros\n",
    "from numpy import min as npmin, max as npmax\n",
    "\n",
    "from scipy.io import loadmat\n",
    "\n",
    "import matplotlib.pyplot as plt\n",
    "from matplotlib.pyplot import plot, xlim, ylim, subplots, ylabel, \\\n",
    "    xlabel, title\n",
    "\n",
    "plt.style.use('seaborn')\n",
    "\n",
    "from CONFIG import GLOBAL_DB, TEMPORARY_DB\n",
    "from ARPM_utils import save_plot, struct_to_dict\n",
    "from InverseCallTransformation import InverseCallTransformation\n",
    "from SigmaSVI import SigmaSVI\n",
    "from FitSigmaSVI import FitSigmaSVI\n",
    "\n",
    "# parameters\n",
    "y = 0  # risk free rate\n",
    "m = 0  # selected moneyness\n",
    "tau = 1  # selected maturity"
   ]
  },
  {
   "cell_type": "markdown",
   "metadata": {},
   "source": [
    "## Upload data from db_ImpliedVol_SPX"
   ]
  },
  {
   "cell_type": "code",
   "execution_count": null,
   "metadata": {},
   "outputs": [],
   "source": [
    "try:\n",
    "    db = loadmat(os.path.join(GLOBAL_DB, 'db_ImpliedVol_SPX'), squeeze_me=True)\n",
    "except FileNotFoundError:\n",
    "    db = loadmat(os.path.join(TEMPORARY_DB, 'db_ImpliedVol_SPX'),\n",
    "                 squeeze_me=True)  # implied volatility surface for SP500\n",
    "\n",
    "db_ImpliedVol_SPX = struct_to_dict(db['db_ImpliedVol_SPX'])\n",
    "\n",
    "tau_db = db_ImpliedVol_SPX.TimeToMaturity\n",
    "delta = db_ImpliedVol_SPX.Delta  # delta-moneyness\n",
    "sigma_delta = db_ImpliedVol_SPX.Sigma\n",
    "\n",
    "t_ = sigma_delta.shape[2]"
   ]
  },
  {
   "cell_type": "markdown",
   "metadata": {},
   "source": [
    "## For each observation, use function FitSigmaSVI to compute the SVI parameters and function SigmaSVI to compute the volatility"
   ]
  },
  {
   "cell_type": "code",
   "execution_count": null,
   "metadata": {},
   "outputs": [],
   "source": [
    "# Starting guess for SVI parameters\n",
    "theta_phi_start = namedtuple('theta_phi_start', 'theta4 theta5 theta6')\n",
    "theta_phi_start.theta4 = 0\n",
    "theta_phi_start.theta5 = 0\n",
    "theta_phi_start.theta6 = 0\n",
    "\n",
    "theta_var_ATM_start = namedtuple('theta_var_ATM_start', 'theta1 theta2 theta3')\n",
    "theta_var_ATM_start.theta1 = 0\n",
    "theta_var_ATM_start.theta2 = 0\n",
    "theta_var_ATM_start.theta3 = 0\n",
    "\n",
    "# initialize variables\n",
    "sigma_m = zeros((1, t_))\n",
    "\n",
    "# SVI fit\n",
    "for t in range(t_):\n",
    "    # fit SVI at time t\n",
    "    theta_var_ATM, xpar_phi, _ = FitSigmaSVI(tau_db, delta, sigma_delta[:,:,t], y, theta_var_ATM_start, theta_phi_start)\n",
    "    sigma_m[0,t] = SigmaSVI(array([tau]), array([[m]]), y, theta_var_ATM, xpar_phi)\n",
    "# for the following iteration\n",
    "theta_var_ATM_start = theta_var_ATM\n",
    "theta_phi_start = xpar_phi"
   ]
  },
  {
   "cell_type": "markdown",
   "metadata": {},
   "source": [
    "## Compute the inverse-call-implied volatility, using function InvCallTransformation"
   ]
  },
  {
   "cell_type": "code",
   "execution_count": null,
   "metadata": {},
   "outputs": [],
   "source": [
    "print('Performing the inverse-call transformation')\n",
    "# choose the parameter for inverse call function\n",
    "eta = 0.25\n",
    "invcsigma_m = InverseCallTransformation(sigma_m, {1:eta})"
   ]
  },
  {
   "cell_type": "markdown",
   "metadata": {},
   "source": [
    "## Plot the inverse-call-implied volatility evolution and the inverse-call transformation"
   ]
  },
  {
   "cell_type": "code",
   "execution_count": null,
   "metadata": {},
   "outputs": [],
   "source": [
    "f, ax = subplots(1,2)\n",
    "\n",
    "# inverse-call implied volatility evolution\n",
    "plt.sca(ax[0])\n",
    "plot(arange(t_), invcsigma_m[0])\n",
    "xlabel('Time')\n",
    "ylabel('inverse-call implied volatility')\n",
    "xlim([1, t_])\n",
    "ylim([npmin(invcsigma_m), npmax(invcsigma_m)])\n",
    "title('inverse-call implied volatility time series')\n",
    "plt.xticks([])\n",
    "plt.grid(True)\n",
    "\n",
    "# inverse-call transformation\n",
    "plt.sca(ax[1])\n",
    "plot(sigma_m.T, invcsigma_m.T)\n",
    "xlabel('$\\sigma$')\n",
    "ylabel('$c^{-1}$($\\sigma$)')\n",
    "xlim([npmin(sigma_m), npmax(sigma_m)])\n",
    "ylim([npmin(invcsigma_m), npmax(invcsigma_m)])\n",
    "title('Inverse call transformation')\n",
    "plt.grid(True)\n",
    "plt.tight_layout();\n",
    "plt.show()\n",
    "# save_plot(ax=plt.gca(), extension='png', scriptname=os.path.basename('.')[:-3], count=plt.get_fignums()[-1])"
   ]
  }
 ],
 "metadata": {
  "jupytext": {
   "encoding": "# -*- coding: utf-8 -*-",
   "executable": "/usr/bin/env python3"
  },
  "kernelspec": {
   "display_name": "Python 3",
   "language": "python",
   "name": "python3"
  }
 },
 "nbformat": 4,
 "nbformat_minor": 4
}
