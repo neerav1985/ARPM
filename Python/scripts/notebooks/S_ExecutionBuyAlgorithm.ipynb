{
 "cells": [
  {
   "cell_type": "markdown",
   "metadata": {},
   "source": [
    "# S_ExecutionBuyAlgorithm [<img src=\"https://www.arpm.co/lab/icons/icon_permalink.png\" width=30 height=30 style=\"display: inline;\">](https://www.arpm.co/lab/redirect.php?code=S_ExecutionBuyAlgorithm&codeLang=Python)\n",
    "For details, see [here](https://www.arpm.co/lab/redirect.php?permalink=eb-execution_-buy-algorithm-2)."
   ]
  },
  {
   "cell_type": "markdown",
   "metadata": {},
   "source": [
    "## Prepare the environment"
   ]
  },
  {
   "cell_type": "code",
   "execution_count": null,
   "metadata": {},
   "outputs": [],
   "source": [
    "import os.path as path\n",
    "import sys\n",
    "\n",
    "sys.path.append(path.abspath('../../functions-legacy'))\n",
    "\n",
    "from numpy import array, sort, squeeze, \\\n",
    "    round, r_\n",
    "from numpy.random import randint\n",
    "\n",
    "import matplotlib.pyplot as plt\n",
    "\n",
    "plt.style.use('seaborn')\n",
    "\n",
    "# parameters\n",
    "deltah_residual =  array([80])  # shares of a given stock we want to buy\n",
    "t_end = 60000  # end of the execution time interval in milliseconds"
   ]
  },
  {
   "cell_type": "code",
   "execution_count": null,
   "metadata": {},
   "outputs": [],
   "source": [
    "# ## Randomly generate the ticks over the 1 munute time interval\n",
    "k_ = 20  # effective number of ticks in the interval\n",
    "time_of_ticks = r_[sort(randint(t_end+1, size=(k_, 1)),0), array([[t_end]])]  # clock time at which ticks occur (tick times are uniformly distributed)"
   ]
  },
  {
   "cell_type": "code",
   "execution_count": null,
   "metadata": {},
   "outputs": [],
   "source": [
    "# ## Proceed with the algorithm until the order is fully executed\n",
    "time = 0  # initialize clock time\n",
    "E_kleft = array([30])  # initialize the expectation on the number of ticks during the interval\n",
    "k = 0  # initialize tick time\n",
    "deltah_child = array([0])\n",
    "\n",
    "while time < t_end - 1:  # clock time cycle\n",
    "    time = time + 1\n",
    "    if time == time_of_ticks[k]:  # a tick occurs\n",
    "        deltah_child = r_[deltah_child, round(deltah_residual[k] / E_kleft[k])]  # compute the deltah_child size according to the algorithm\n",
    "\n",
    "        E_kleft = r_[E_kleft, round((k+1)*(t_end - time) / time)]  # review the expectation on the residual tick time according to the proportion \"k:time=E_kleft:time_left\")\n",
    "        deltah_residual = r_[deltah_residual, deltah_residual[k] - deltah_child[k]]  # compute the residual amount to be sold\n",
    "        k = k + 1\n",
    "\n",
    "        # if the residual amount is positive and the expected number of ticks left is positive proceed with the algo, otherwise stop\n",
    "        if deltah_residual[k] <= 0 or E_kleft[k] == 0:\n",
    "            break  \n",
    "            \n",
    "# ## Display the buy limit orders placed at each tick, showing also the corresponding clock time\n",
    "# ## also show that limit orders are converted into market orders if within the next tick they have not been filled.\n",
    "\n",
    "deltah_child = deltah_child[1:]\n",
    "if deltah_residual[-1] > 0:\n",
    "    for tick in range(len(deltah_child)):\n",
    "        print('k = {tick} : place a limit deltah_child to buy {dtick} units at the {tot}th millisecond. If within the'\n",
    "              ' {tot2}th millisecond the deltah_child has not been executed convert it into a market deltah_child to '\n",
    "              'buy.'.format(tick=tick+1,\n",
    "                            dtick=deltah_child[tick],\n",
    "                            tot=squeeze(time_of_ticks[tick]),\n",
    "                            tot2=squeeze(time_of_ticks[tick+1])\n",
    "                            ))\n",
    "    print('Place a market deltah_child to buy the remaining {dtick} units at the best ask at the end of the '\n",
    "          'minute'.format(dtick=deltah_residual[-1]))\n",
    "else:\n",
    "    for tick in range(len(deltah_child)):\n",
    "        print(\n",
    "            'k = {tick} : place a limit deltah_child to buy {dtick} units at the {tot}th millisecond. If within the'\n",
    "            ' {tot2}th millisecond the deltah_child has not been executed convert it into a market deltah_child to '\n",
    "            'buy.'.format(tick=tick + 1,\n",
    "                          dtick=deltah_child[tick],\n",
    "                          tot=squeeze(time_of_ticks[tick]),\n",
    "                          tot2=squeeze(time_of_ticks[tick + 1])\n",
    "                          ))"
   ]
  }
 ],
 "metadata": {
  "jupytext": {
   "encoding": "# -*- coding: utf-8 -*-",
   "executable": "/usr/bin/env python3"
  },
  "kernelspec": {
   "display_name": "Python 3",
   "language": "python",
   "name": "python3"
  }
 },
 "nbformat": 4,
 "nbformat_minor": 4
}
