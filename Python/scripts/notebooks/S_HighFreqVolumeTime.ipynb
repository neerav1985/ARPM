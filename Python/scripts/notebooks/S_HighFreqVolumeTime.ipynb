{
 "cells": [
  {
   "cell_type": "markdown",
   "metadata": {},
   "source": [
    "# S_HighFreqVolumeTime [<img src=\"https://www.arpm.co/lab/icons/icon_permalink.png\" width=30 height=30 style=\"display: inline;\">](https://www.arpm.co/lab/redirect.php?code=S_HighFreqVolumeTime&codeLang=Python)\n",
    "For details, see [here](https://www.arpm.co/lab/redirect.php?permalink=ExerVolEvol)."
   ]
  },
  {
   "cell_type": "markdown",
   "metadata": {},
   "source": [
    "## Prepare the environment"
   ]
  },
  {
   "cell_type": "code",
   "execution_count": null,
   "metadata": {},
   "outputs": [],
   "source": [
    "import os\n",
    "import os.path as path\n",
    "import sys\n",
    "\n",
    "sys.path.append(path.abspath('../../functions-legacy'))\n",
    "\n",
    "import numpy as np\n",
    "from numpy import arange, array, zeros, where, cumsum, interp, linspace, abs\n",
    "from numpy import min as npmin, max as npmax\n",
    "\n",
    "from scipy.io import loadmat, savemat\n",
    "\n",
    "import matplotlib.pyplot as plt\n",
    "from matplotlib.pyplot import subplots\n",
    "import matplotlib.dates as mdates\n",
    "from matplotlib.ticker import FormatStrFormatter\n",
    "\n",
    "plt.style.use('seaborn')\n",
    "\n",
    "from CONFIG import GLOBAL_DB, TEMPORARY_DB\n",
    "from ARPM_utils import save_plot, struct_to_dict, date_mtop\n",
    "from TradeQuoteProcessing import TradeQuoteProcessing\n",
    "from TradeQuoteSpreading import TradeQuoteSpreading"
   ]
  },
  {
   "cell_type": "markdown",
   "metadata": {},
   "source": [
    "## Parameters"
   ]
  },
  {
   "cell_type": "code",
   "execution_count": null,
   "metadata": {},
   "outputs": [],
   "source": [
    "i_t0 = 1  # index of window's starting time"
   ]
  },
  {
   "cell_type": "markdown",
   "metadata": {},
   "source": [
    "## Upload data from db_US_10yr_Future_quotes_and_trades"
   ]
  },
  {
   "cell_type": "code",
   "execution_count": null,
   "metadata": {},
   "outputs": [],
   "source": [
    "try:\n",
    "    db = loadmat(os.path.join(GLOBAL_DB, 'db_US_10yr_Future_quotes_and_trades'), squeeze_me=True)\n",
    "except FileNotFoundError:\n",
    "    db = loadmat(os.path.join(TEMPORARY_DB, 'db_US_10yr_Future_quotes_and_trades'), squeeze_me=True)\n",
    "\n",
    "quotes = struct_to_dict(db['quotes'])\n",
    "trades = struct_to_dict(db['trades'])"
   ]
  },
  {
   "cell_type": "markdown",
   "metadata": {},
   "source": [
    "## Process the time series so that variables are defined at each occurrence time, using function TradeQuoteProcessing"
   ]
  },
  {
   "cell_type": "code",
   "execution_count": null,
   "metadata": {},
   "outputs": [],
   "source": [
    "dates_quotes = quotes.time_names  #\n",
    "t = quotes.time  # time vector of quotes\n",
    "p_bid = quotes.bid  # bid prices\n",
    "p_ask = quotes.ask  # ask prices\n",
    "q_bid = quotes.bsiz  # bid volumes\n",
    "q_ask = quotes.asiz  # ask volumes\n",
    "numords_bid = quotes.bnumords  # number of separate limit orders on bid\n",
    "numords_ask = quotes.anumords  # number of separate limit orders on ask\n",
    "\n",
    "dates_trades = trades.time_names  #\n",
    "t_k = trades.time  # time vector of trades\n",
    "p_last = trades.price  # last transaction prices\n",
    "delta_q = trades.siz  # flow of traded contracts' volumes\n",
    "delta_sgn = trades.aggress  # trade sign flow\n",
    "match = trades.mtch  # match events: - the \"1\" value indicates the \"start of a match event\" while zeros indicates the \"continuation of a match event\"\n",
    "#              - the db is ordered such that the start of a match event is in the last column corresponding to that event\n",
    "\n",
    "t, dates_quotes, q_ask, p_ask, q_bid, p_bid, t_k, dates_trades, p_last, delta_q, delta_sgn, vargout = \\\n",
    "    TradeQuoteProcessing(t, dates_quotes, q_ask, p_ask, q_bid, p_bid, t_k, dates_trades, p_last, delta_q, delta_sgn, match,\n",
    "                         {1:numords_ask, 2:numords_bid})\n",
    "t = t.flatten()\n",
    "numords_ask, numords_bid = vargout[1], vargout[2]\n",
    "q = cumsum(delta_q)  # cumulative volume of traded contracts\n",
    "sgn = cumsum(delta_sgn)  # cumulative trade sign"
   ]
  },
  {
   "cell_type": "markdown",
   "metadata": {},
   "source": [
    "## Compute microprice and total exchanged volume as functions of wall clock time and volume time"
   ]
  },
  {
   "cell_type": "code",
   "execution_count": null,
   "metadata": {},
   "outputs": [],
   "source": [
    "i_t1 = len(t)  # index of window's last time\n",
    "ms = (date_mtop(t[i_t1-1]) - date_mtop(t[i_t0-1])).seconds * 1000 + (date_mtop(t[i_t1-1]) - date_mtop(t[i_t0-1])).microseconds / 1000  # total len of time window expressed in wall-clock-time\n",
    "t_ms = linspace(t[i_t0-1],t[i_t1-1], int(ms)+1)  # time window's wall-clock-time vector expressed in milliseconds\n",
    "\n",
    "k_0 = where(t_k[0] >= t[i_t0-1])[0][0]  # index of the first trade within the time window\n",
    "k_1 = where(t_k[0] <= t[i_t1-1])[0][-1]  # index of the last trade within the time window\n",
    "\n",
    "q_ask, p_ask, q_bid, p_bid, _, q_t, _, _ = TradeQuoteSpreading(t_ms, t[i_t0-1:i_t1], q_ask[0,i_t0-1: i_t1], p_ask[0,i_t0-1: i_t1],\n",
    "                                                  q_bid[0,i_t0-1: i_t1],p_bid[0,i_t0-1: i_t1], t_k[0,k_0:k_1+1],\n",
    "                                                  p_last[0,k_0:k_1+1], q[k_0:k_1+1], sgn[k_0:k_1+1])\n",
    "\n",
    "p_mic = (p_bid * q_ask + p_ask * q_bid) / (q_ask + q_bid)  # microprice as a function of wall clock time\n",
    "delta_a = 23  # width of activity time bins\n",
    "a_t = arange(npmin(q_t),npmax(q_t)+delta_a,delta_a)  # vector of volume times\n",
    "t_a = interp(a_t, q, t_k.flatten())  # vector of wall clock time as a function of volume time\n",
    "p_mic_a = interp(t_a, t_ms, p_mic.flatten())  # time changed microprice, i.e. microprice as a function of volume time\n",
    "\n",
    "# fill q_t where zeros (aimed at plotting lines)\n",
    "q_t_line = zeros((1, len(t_ms)))\n",
    "index = where(q_t[0]!=0)[0]\n",
    "if k_0 > 1:\n",
    "    q_t_line[0,index[0] - 1]=q_t[k_0 - 1]\n",
    "\n",
    "for k in range(len(index) - 1):\n",
    "    q_t_line[0, index[k]: index[k + 1] - 1] = q_t[0,index[k]]\n",
    "\n",
    "q_t_line[index[-1]:] = q_t[0,index[-1]]\n",
    "\n",
    "vars_to_save = {varname: var for varname, var in locals().items() if isinstance(var,(np.ndarray,np.float,np.int))}\n",
    "vars_to_save.update({'dates_quotes': dates_quotes, 'dates_trades': dates_trades, 'quotes': quotes, 'trades':trades})\n",
    "\n",
    "savemat(os.path.join(TEMPORARY_DB,'db_HighFreqVolumeTime'),vars_to_save)"
   ]
  },
  {
   "cell_type": "markdown",
   "metadata": {},
   "source": [
    "## Generate a figure showing the microprice and the total exchanged volume as functions of wall clock time and volume time"
   ]
  },
  {
   "cell_type": "code",
   "execution_count": null,
   "metadata": {},
   "outputs": [],
   "source": [
    "# axes settings\n",
    "timegrid = [date_mtop(i) for i in linspace(t_ms[0],t_ms[-1], 3)]\n",
    "pgrid_min = np.nanmin(p_mic)\n",
    "pgrid_max = np.nanmax(p_mic)\n",
    "pgrid = linspace(pgrid_min,pgrid_max,5)\n",
    "volgrid_min = np.nanmin(q_t[0,q_t[0]>0]) - 1\n",
    "volgrid_max = np.nanmax(q_t[0,q_t[0]>0]) + 1\n",
    "volgrid = linspace(volgrid_min, volgrid_max, 3)\n",
    "myFmt = mdates.DateFormatter('%H:%M:%S')\n",
    "t_ms_dt = array([date_mtop(i) for i in t_ms])\n",
    "f, ax  = subplots(2,2)\n",
    "ax[0,0].plot(t_ms_dt,p_mic[0],c='r',lw=1)\n",
    "ax[0,0].set_xticks(timegrid)\n",
    "ax[0,0].set_yticks(pgrid)\n",
    "ax[0,0].yaxis.set_major_formatter(FormatStrFormatter('%.3f'))\n",
    "ax[0,0].xaxis.set_major_formatter(myFmt)\n",
    "ax[0,0].axis([min(t_ms_dt), max(t_ms_dt), pgrid_min, pgrid_max])\n",
    "ax[0,0].set_ylabel('Microprice')\n",
    "ax[0,0].set_xlabel('Wall Clock Time')\n",
    "ax[0,0].set_title('Time evolution')\n",
    "plt.grid(True)\n",
    "# right-top plot\n",
    "ax[0,1].set_xticks(volgrid)\n",
    "ax[0,1].set_yticks(pgrid)\n",
    "ax[0,1].yaxis.set_major_formatter(FormatStrFormatter('%.3f'))\n",
    "ax[0,1].axis([volgrid_min, volgrid_max, pgrid_min, pgrid_max])\n",
    "ax[0,1].set_ylabel('Microprice')\n",
    "ax[0,1].set_xlabel('Volume Time')\n",
    "ax[0,1].plot(a_t, p_mic_a, lw=1, color='r')\n",
    "ax[0,1].set_title('Volume Time Activity Evolution')\n",
    "plt.grid(True)\n",
    "# left-bottom plot\n",
    "ax[1,0].set_xticks(timegrid)\n",
    "ax[1,0].set_yticks(volgrid)\n",
    "ax[1,0].axis([min(t_ms_dt), max(t_ms_dt), volgrid_min, volgrid_max])\n",
    "ax[1,0].xaxis.set_major_formatter(myFmt)\n",
    "ax[1,0].set_ylabel('Exchanged Volume')\n",
    "ax[1,0].set_xlabel('Wall Clock Time')\n",
    "index = where(q_t[0]!=0)[0]\n",
    "ax[1,0].scatter(t_ms_dt[index], q_t[0,index], marker='.',s=5,color='b')\n",
    "for k1,k2 in zip(index[:-1],index[1:]):\n",
    "    ax[1, 0].plot([t_ms_dt[k1],t_ms_dt[k2]], [q_t[0,k1],q_t[0,k1]], lw=1, color='b')\n",
    "plt.grid(True)\n",
    "# right-bottom plot\n",
    "ax[1,1].axis([volgrid_min, volgrid_max, volgrid_min, volgrid_max])\n",
    "ax[1,1].set_ylabel('Exchanged Volume')\n",
    "ax[1,1].set_xlabel('Volume Time')\n",
    "ax[1,1].plot(a_t, a_t, lw=1,color='b')\n",
    "ax[1,1].set_xticks(volgrid)\n",
    "ax[1,1].set_yticks(volgrid)\n",
    "plt.grid(True)\n",
    "plt.tight_layout();\n",
    "# save_plot(ax=plt.gca(), extension='png', scriptname=os.path.basename('.')[:-3], count=plt.get_fignums()[-1])"
   ]
  }
 ],
 "metadata": {
  "jupytext": {
   "encoding": "# -*- coding: utf-8 -*-",
   "executable": "/usr/bin/env python3"
  },
  "kernelspec": {
   "display_name": "Python 3",
   "language": "python",
   "name": "python3"
  }
 },
 "nbformat": 4,
 "nbformat_minor": 4
}
