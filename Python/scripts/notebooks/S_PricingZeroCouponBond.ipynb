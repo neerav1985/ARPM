{
 "cells": [
  {
   "cell_type": "markdown",
   "metadata": {},
   "source": [
    "# S_PricingZeroCouponBond [<img src=\"https://www.arpm.co/lab/icons/icon_permalink.png\" width=30 height=30 style=\"display: inline;\">](https://www.arpm.co/lab/redirect.php?code=S_PricingZeroCouponBond&codeLang=Python)\n",
    "For details, see [here](https://www.arpm.co/lab/redirect.php?permalink=eb-4-zcbvalue-evol)."
   ]
  },
  {
   "cell_type": "markdown",
   "metadata": {},
   "source": [
    "## Prepare the environment"
   ]
  },
  {
   "cell_type": "code",
   "execution_count": null,
   "metadata": {},
   "outputs": [],
   "source": [
    "import os\n",
    "import os.path as path\n",
    "import sys\n",
    "\n",
    "sys.path.append(path.abspath('../../functions-legacy'))\n",
    "from collections import namedtuple\n",
    "\n",
    "import numpy as np\n",
    "from numpy import arange, array, ones, zeros, std, where, round, mean, log, tile, r_\n",
    "\n",
    "from scipy.io import loadmat\n",
    "\n",
    "import matplotlib.pyplot as plt\n",
    "from matplotlib.pyplot import figure, plot, legend, xlim, scatter, ylabel, \\\n",
    "    xlabel, title, xticks\n",
    "\n",
    "plt.style.use('seaborn')\n",
    "\n",
    "from CONFIG import GLOBAL_DB, TEMPORARY_DB\n",
    "from ARPM_utils import save_plot\n",
    "from HistogramFP import HistogramFP\n",
    "from SimVAR1MVOU import SimVAR1MVOU\n",
    "from VAR1toMVOU import VAR1toMVOU\n",
    "from FitVAR1 import FitVAR1\n",
    "from InverseCallTransformation import InverseCallTransformation\n",
    "from ZCBHorValue import ZCBHorValue"
   ]
  },
  {
   "cell_type": "markdown",
   "metadata": {},
   "source": [
    "## Upload the realized time series of the yield to maturities from db_SwapParRates."
   ]
  },
  {
   "cell_type": "code",
   "execution_count": null,
   "metadata": {},
   "outputs": [],
   "source": [
    "try:\n",
    "    db = loadmat(os.path.join(GLOBAL_DB, 'db_SwapParRates'), squeeze_me=True)\n",
    "except FileNotFoundError:\n",
    "    db = loadmat(os.path.join(TEMPORARY_DB, 'db_SwapParRates'), squeeze_me=True)\n",
    "\n",
    "Rates = db['Rates']\n",
    "Names = db['Names']"
   ]
  },
  {
   "cell_type": "markdown",
   "metadata": {},
   "source": [
    "## Select the key rates and compute the corresponding shadow rates\n",
    "## using the last 1200 available observations with InverseCallTransformation."
   ]
  },
  {
   "cell_type": "code",
   "execution_count": null,
   "metadata": {},
   "outputs": [],
   "source": [
    "t_end = 5\n",
    "dt = 1 / 12\n",
    "horiz_u = arange(0,t_end+dt,dt)\n",
    "u_ = len(horiz_u)\n",
    "timeStep = 1  # select time interval (days)\n",
    "pick = arange(len(Names))  # select rates {'1y'[0] '2y'[1] '5y'[2] '7y'[3] '10y'[4] '15y'[5] '30y'[7-1]}\n",
    "tau_d = array([[1, 2, 5, 7, 10, 15, 30]]).T\n",
    "y = Rates[pick, 2001::timeStep]  # use the last 500 available observations\n",
    "eta = 0.013\n",
    "invcy = InverseCallTransformation(y, {1:eta})  # shadow rates"
   ]
  },
  {
   "cell_type": "markdown",
   "metadata": {},
   "source": [
    "## Estimate the multivariate Ornstein-Uhlenbeck process parameters on the shadow rate time series using functions FitVAR1 and VAR1toMVOU."
   ]
  },
  {
   "cell_type": "code",
   "execution_count": null,
   "metadata": {},
   "outputs": [],
   "source": [
    "# dinvcy = diff(invcy, 1, 2)\n",
    "# [mu, theta, sigma2] = FitVAR1MVOU(dinvcy, invcy(:,1:-1), timeStep@1/252)\n",
    "# [alpha, b, sig2_U] = FitVAR1(dinvcy, invcy(:,1:-1))\n",
    "[alpha, b, sig2_U] = FitVAR1(invcy)\n",
    "mu, theta, sigma2,*_ = VAR1toMVOU(alpha, b, sig2_U, timeStep*1 / 252)"
   ]
  },
  {
   "cell_type": "markdown",
   "metadata": {},
   "source": [
    "## Project the multivariate Ornstein-Uhlenbeck process to future horizons by Monte Carlo method using function SimVAR1MVOU."
   ]
  },
  {
   "cell_type": "code",
   "execution_count": null,
   "metadata": {},
   "outputs": [],
   "source": [
    "j_ = 5000  # low for speed, increase for accuracy\n",
    "x_0 = tile(invcy[:,[-1]], (1, j_))  # initial setup\n",
    "\n",
    "X_u = SimVAR1MVOU(x_0, horiz_u[1:u_].reshape(1,-1), theta, mu, sigma2, j_)\n",
    "X_u = r_['-1',x_0[...,np.newaxis], X_u]"
   ]
  },
  {
   "cell_type": "markdown",
   "metadata": {},
   "source": [
    "## Compute the zero-coupon bond value at future horizons using function ZCBHorValue,\n",
    "##  along with the mean and the standard deviation of the zero-coupon bond."
   ]
  },
  {
   "cell_type": "code",
   "execution_count": null,
   "metadata": {},
   "outputs": [],
   "source": [
    "Z_u_t_end = zeros((1, j_, u_))\n",
    "MuZ_u_t_end = zeros((1, 1, u_))\n",
    "SigmaZ_u_t_end = zeros((1, 1, u_))\n",
    "\n",
    "Z_u_t_end[0,:, 0] = ZCBHorValue(invcy[:,[-1]], tau_d, 0, t_end, 'shadow rates', {'eta':eta})\n",
    "MuZ_u_t_end[0,0,0] = Z_u_t_end[0,0,0]\n",
    "SigmaZ_u_t_end[0,0,0] = 0\n",
    "\n",
    "for u in range(1, u_):\n",
    "    Z_u_t_end[0,:, u]= ZCBHorValue(X_u[:,:, u], tau_d, horiz_u[u], t_end, 'shadow rates', {'eta':eta})\n",
    "    MuZ_u_t_end[0,0, u] = mean(Z_u_t_end[0,:, u])\n",
    "    SigmaZ_u_t_end[0,0, u] = std(Z_u_t_end[0,:, u])  # ## Compute the simulation probabilities and the average rates, then save the data in db_ZCB_value.\n",
    "\n",
    "pp_ = ones((j_, 1)) / j_\n",
    "MeanTenor_Rate = mean(X_u,axis=0)"
   ]
  },
  {
   "cell_type": "markdown",
   "metadata": {},
   "source": [
    "## Plot a few simulated paths of the zero-coupon bond value up to 3 years, along with the expectation, the standard deviation\n",
    "##  and the horizon distribution. Furthermore represent the joint distribution of the zero-coupon bond value and the average rates at the selected horizon."
   ]
  },
  {
   "cell_type": "code",
   "execution_count": null,
   "metadata": {},
   "outputs": [],
   "source": [
    "lgrey = [0.8, 0.8, 0.8]  # light grey\n",
    "dgrey = [0.4, 0.4, 0.4]  # dark grey\n",
    "j_sel = 15  # selected MC simulations\n",
    "hor_sel = 3  # selected horizon for the plot (10y)\n",
    "i = where(horiz_u == hor_sel)[0][0]\n",
    "\n",
    "figure()\n",
    "# simulated path, mean and standard deviation\n",
    "plot(horiz_u[:i+1].reshape(-1,1), Z_u_t_end[0, :j_sel, :i+1].T, color=lgrey,lw=1)\n",
    "xticks(range(t_end))\n",
    "xlim([min(horiz_u), max(horiz_u)+2])\n",
    "l1 = plot(horiz_u[:i+1], MuZ_u_t_end[0, 0, :i+1], color='g')\n",
    "l2 = plot(horiz_u[:i+1], MuZ_u_t_end[0, 0, :i+1] + SigmaZ_u_t_end[0, 0, :i+1], color='r')\n",
    "plot(horiz_u[:i+1], MuZ_u_t_end[0, 0, :i+1] - SigmaZ_u_t_end[0, 0, :i+1], color='r')\n",
    "\n",
    "# histogram\n",
    "option = namedtuple('option', 'n_bins')\n",
    "option.n_bins = round(10*log(j_))\n",
    "y_hist, x_hist = HistogramFP(Z_u_t_end[:,:, i], pp_.T, option)\n",
    "y_hist = y_hist*0.1  # adapt the hist height to the current xaxis scale\n",
    "shift_y_hist = horiz_u[i] + y_hist\n",
    "\n",
    "# empirical pdf\n",
    "emp_pdf = plt.barh(x_hist[:-1], shift_y_hist[0]-horiz_u[i], left= horiz_u[i], height=x_hist[1]-x_hist[0],\n",
    "                   facecolor=lgrey, edgecolor= lgrey)\n",
    "\n",
    "# border\n",
    "plot(shift_y_hist[0], x_hist[:-1], color=dgrey, lw=1)\n",
    "legend(handles=[l1[0], l2[0], emp_pdf[0]],labels=['mean',' + / - st.deviation','horizon pdf'])\n",
    "xlabel('time (years)')\n",
    "ylabel('Normalized Value')\n",
    "title('Zero-coupon projected value at the horizon');\n",
    "# save_plot(ax=plt.gca(), extension='png', scriptname=os.path.basename('.')[:-3], count=plt.get_fignums()[-1])\n",
    "\n",
    "# scatter plot\n",
    "figure()\n",
    "scatter(MeanTenor_Rate[:,i], Z_u_t_end[0,:, i], 3, dgrey, '*')\n",
    "xlabel('Average Rate')\n",
    "ylabel('Normalized Value')\n",
    "title('Scatter plot zero-coupon bond value vs. yield average');\n",
    "\n",
    "# save_plot(ax=plt.gca(), extension='png', scriptname=os.path.basename('.')[:-3], count=plt.get_fignums()[-1])"
   ]
  }
 ],
 "metadata": {
  "jupytext": {
   "encoding": "# -*- coding: utf-8 -*-",
   "executable": "/usr/bin/env python3"
  },
  "kernelspec": {
   "display_name": "Python 3",
   "language": "python",
   "name": "python3"
  }
 },
 "nbformat": 4,
 "nbformat_minor": 4
}
