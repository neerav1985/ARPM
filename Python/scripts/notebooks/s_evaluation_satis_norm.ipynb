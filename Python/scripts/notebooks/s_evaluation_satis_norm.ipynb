{
 "cells": [
  {
   "cell_type": "markdown",
   "metadata": {},
   "source": [
    "# s_evaluation_satis_norm [<img src=\"https://www.arpm.co/lab/icons/icon_permalink.png\" width=30 height=30 style=\"display: inline;\">](https://www.arpm.co/lab/redirect.php?code=s_evaluation_satis_norm&codeLang=Python)\n",
    "For details, see [here](https://www.arpm.co/lab/redirect.php?permalink=EBSatisfNormalNumerical)."
   ]
  },
  {
   "cell_type": "code",
   "execution_count": null,
   "metadata": {},
   "outputs": [],
   "source": [
    "import numpy as np\n",
    "import pandas as pd\n",
    "from scipy.special import erfinv"
   ]
  },
  {
   "cell_type": "markdown",
   "metadata": {},
   "source": [
    "## [Input parameters](https://www.arpm.co/lab/redirect.php?permalink=s_evaluation_satis_norm-parameters)"
   ]
  },
  {
   "cell_type": "code",
   "execution_count": null,
   "metadata": {},
   "outputs": [],
   "source": [
    "lam = 1/4  # risk aversion parameter\n",
    "alpha = 0.05  # threshold probability"
   ]
  },
  {
   "cell_type": "markdown",
   "metadata": {},
   "source": [
    "## [Step 0](https://www.arpm.co/lab/redirect.php?permalink=s_evaluation_satis_norm-implementation-step00): Import data"
   ]
  },
  {
   "cell_type": "code",
   "execution_count": null,
   "metadata": {},
   "outputs": [],
   "source": [
    "path = '~/databases/temporary-databases/'\n",
    "db = pd.read_csv(path + 'db_aggregation_normal.csv', index_col=0)\n",
    "\n",
    "n_ = int(np.array(db['n_'].iloc[0]))\n",
    "# parameters of portfolio P&L distribution\n",
    "mu_pi_h = np.array(db['mu_h'].iloc[0])\n",
    "sig2_pi_h = np.array(db['sig2_h'].iloc[0])\n",
    "# holdings\n",
    "h = np.array(db['h'].iloc[:n_]).reshape(-1)"
   ]
  },
  {
   "cell_type": "markdown",
   "metadata": {},
   "source": [
    "## [Step 1](https://www.arpm.co/lab/redirect.php?permalink=s_evaluation_satis_norm-implementation-step01): Standard deviation satisfaction measure"
   ]
  },
  {
   "cell_type": "code",
   "execution_count": null,
   "metadata": {},
   "outputs": [],
   "source": [
    "sig_pi_h = np.sqrt(sig2_pi_h)\n",
    "sd_satis = -sig_pi_h"
   ]
  },
  {
   "cell_type": "markdown",
   "metadata": {},
   "source": [
    "## [Step 2](https://www.arpm.co/lab/redirect.php?permalink=s_evaluation_satis_norm-implementation-step02): Performance mean-variance trade-off"
   ]
  },
  {
   "cell_type": "code",
   "execution_count": null,
   "metadata": {},
   "outputs": [],
   "source": [
    "mv_pi_h = mu_pi_h-lam/2*sig2_pi_h"
   ]
  },
  {
   "cell_type": "markdown",
   "metadata": {},
   "source": [
    "## [Step 3](https://www.arpm.co/lab/redirect.php?permalink=s_evaluation_satis_norm-implementation-step03): Certainty-equivalent"
   ]
  },
  {
   "cell_type": "code",
   "execution_count": null,
   "metadata": {},
   "outputs": [],
   "source": [
    "ceq_pi_h = mu_pi_h-lam/2*sig2_pi_h"
   ]
  },
  {
   "cell_type": "markdown",
   "metadata": {},
   "source": [
    "## [Step 4](https://www.arpm.co/lab/redirect.php?permalink=s_evaluation_satis_norm-implementation-step04): Quantile (VaR) satisfaction measure"
   ]
  },
  {
   "cell_type": "code",
   "execution_count": null,
   "metadata": {},
   "outputs": [],
   "source": [
    "# quantile (VaR) measure\n",
    "q_pi_h = mu_pi_h+sig_pi_h*np.sqrt(2)*erfinv(2*alpha-1)\n",
    "# Cornish-Fisher approximation\n",
    "q_pi_h_cf = (mu_pi_h+sig_pi_h*(-1.64))"
   ]
  },
  {
   "cell_type": "markdown",
   "metadata": {},
   "source": [
    "## [Step 5](https://www.arpm.co/lab/redirect.php?permalink=s_evaluation_satis_norm-implementation-step05): Expected shortfall/sub-quantile satisfaction measurel "
   ]
  },
  {
   "cell_type": "code",
   "execution_count": null,
   "metadata": {},
   "outputs": [],
   "source": [
    "q_sub_pi_h = mu_pi_h+sig_pi_h/alpha * \\\n",
    "            (-1/(np.sqrt(2*np.pi))*np.exp(-erfinv(2*alpha-1)**2))"
   ]
  },
  {
   "cell_type": "markdown",
   "metadata": {},
   "source": [
    "## [Step 6](https://www.arpm.co/lab/redirect.php?permalink=s_evaluation_satis_norm-implementation-step06): Information ratio"
   ]
  },
  {
   "cell_type": "code",
   "execution_count": null,
   "metadata": {},
   "outputs": [],
   "source": [
    "info_ratio_pi_h = mu_pi_h/sig_pi_h"
   ]
  },
  {
   "cell_type": "markdown",
   "metadata": {},
   "source": [
    "## [Step 7](https://www.arpm.co/lab/redirect.php?permalink=s_evaluation_satis_norm-implementation-step07): Save data"
   ]
  },
  {
   "cell_type": "code",
   "execution_count": null,
   "metadata": {},
   "outputs": [],
   "source": [
    "output = {\n",
    "          '-sig_pi_h': pd.Series(sd_satis),\n",
    "          'cvar_pi_h': pd.Series(q_pi_h),\n",
    "         }\n",
    "\n",
    "df = pd.DataFrame(output)\n",
    "df.to_csv('~/databases/temporary-databases/db_evaluation_satis_normal.csv')"
   ]
  }
 ],
 "metadata": {
  "jupytext": {
   "encoding": "# -*- coding: utf-8 -*-",
   "executable": "/usr/bin/env python3"
  },
  "kernelspec": {
   "display_name": "Python 3",
   "language": "python",
   "name": "python3"
  }
 },
 "nbformat": 4,
 "nbformat_minor": 4
}
