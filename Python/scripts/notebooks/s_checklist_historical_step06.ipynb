{
 "cells": [
  {
   "cell_type": "markdown",
   "metadata": {},
   "source": [
    "# s_checklist_historical_step06 [<img src=\"https://www.arpm.co/lab/icons/icon_permalink.png\" width=30 height=30 style=\"display: inline;\">](https://www.arpm.co/lab/redirect.php?code=s_checklist_historical_step06&codeLang=Python)\n",
    "For details, see [here](https://www.arpm.co/lab/redirect.php?permalink=ex-vue-6-historical)."
   ]
  },
  {
   "cell_type": "code",
   "execution_count": null,
   "metadata": {},
   "outputs": [],
   "source": [
    "import numpy as np\n",
    "import pandas as pd\n",
    "import matplotlib.pyplot as plt\n",
    "from pandas.plotting import register_matplotlib_converters\n",
    "register_matplotlib_converters()\n",
    "\n",
    "from arpym.tools.histogram_sp import histogram_sp\n",
    "from arpym.tools.logo import add_logo"
   ]
  },
  {
   "cell_type": "markdown",
   "metadata": {},
   "source": [
    "## [Input parameters](https://www.arpm.co/lab/redirect.php?permalink=s_checklist_historical_step06-parameters)"
   ]
  },
  {
   "cell_type": "code",
   "execution_count": null,
   "metadata": {},
   "outputs": [],
   "source": [
    "v_h_tinit = 206e6  # budget at time t_init\n",
    "v_stocks_budg_tinit = 200e6  # maximum budget invested in stock\n",
    "h_sp = 0  # holding of S&P 500\n",
    "h_put_spx = 16000  # holding of put options on S&P 500\n",
    "h_call_spx = 16000  # holding of call options on S&P 500"
   ]
  },
  {
   "cell_type": "markdown",
   "metadata": {},
   "source": [
    "## [Step 0](https://www.arpm.co/lab/redirect.php?permalink=s_checklist_historical_step06-implementation-step00): Load data"
   ]
  },
  {
   "cell_type": "code",
   "execution_count": null,
   "metadata": {},
   "outputs": [],
   "source": [
    "# Risk drivers identification\n",
    "path = '~/databases/temporary-databases/'\n",
    "db_riskdrivers_tools = pd.read_csv(path+'db_riskdrivers_tools_historical.csv')\n",
    "n_stocks = int(db_riskdrivers_tools.n_stocks.dropna())\n",
    "y = db_riskdrivers_tools['y'][0]\n",
    "t_now = np.datetime64(db_riskdrivers_tools.t_now[0], 'D')\n",
    "t_init = np.datetime64(db_riskdrivers_tools.t_init[0], 'D')\n",
    "stock_names = db_riskdrivers_tools.stock_names.dropna()\n",
    "\n",
    "db_v_tnow = pd.read_csv(path+'db_v_tnow_historical.csv')\n",
    "v_tnow = db_v_tnow.values.squeeze()\n",
    "\n",
    "db_v_tinit = pd.read_csv(path+'db_v_tinit_historical.csv')\n",
    "v_tinit = db_v_tinit.values.squeeze()\n",
    "\n",
    "# Projection\n",
    "db_projection_tools = pd.read_csv(path+'db_projection_bootstrap_tools.csv')\n",
    "j_ = int(db_projection_tools.j_.dropna())\n",
    "\n",
    "db_scenprob = pd.read_csv(path+'db_scenario_probs_bootstrap.csv')\n",
    "p = db_scenprob.p.values\n",
    "\n",
    "# Pricing\n",
    "db_pricing = pd.read_csv(path+'db_pricing_historical.csv')\n",
    "pi_tnow_thor = db_pricing.values"
   ]
  },
  {
   "cell_type": "markdown",
   "metadata": {},
   "source": [
    "## [Step 1](https://www.arpm.co/lab/redirect.php?permalink=s_checklist_historical_step06-implementation-step01): Determine stock holdings"
   ]
  },
  {
   "cell_type": "code",
   "execution_count": null,
   "metadata": {},
   "outputs": [],
   "source": [
    "h_stocks = np.zeros(n_stocks)\n",
    "for n in range(n_stocks):\n",
    "    h_stocks[n] = np.floor(1/n_stocks * v_stocks_budg_tinit/v_tinit[n])"
   ]
  },
  {
   "cell_type": "markdown",
   "metadata": {},
   "source": [
    "## [Step 2](https://www.arpm.co/lab/redirect.php?permalink=s_checklist_historical_step06-implementation-step02): Define holdings"
   ]
  },
  {
   "cell_type": "code",
   "execution_count": null,
   "metadata": {},
   "outputs": [],
   "source": [
    "# holdings\n",
    "h = np.r_[h_stocks,\n",
    "          h_sp,\n",
    "          h_call_spx,\n",
    "          h_put_spx]"
   ]
  },
  {
   "cell_type": "markdown",
   "metadata": {},
   "source": [
    "## [Step 3](https://www.arpm.co/lab/redirect.php?permalink=s_checklist_historical_step06-implementation-step03): Determine initial value of cash holding"
   ]
  },
  {
   "cell_type": "code",
   "execution_count": null,
   "metadata": {},
   "outputs": [],
   "source": [
    "# cash at time t_init\n",
    "cash_tinit = v_h_tinit - h.T@v_tinit"
   ]
  },
  {
   "cell_type": "markdown",
   "metadata": {},
   "source": [
    "## [Step 4](https://www.arpm.co/lab/redirect.php?permalink=s_checklist_historical_step06-implementation-step04): Determine current value of holding"
   ]
  },
  {
   "cell_type": "code",
   "execution_count": null,
   "metadata": {},
   "outputs": [],
   "source": [
    "# cash value at t_now\n",
    "cash_tnow = cash_tinit\n",
    "\n",
    "# value of holding at t_now\n",
    "v_h_tnow = h.T@v_tnow + cash_tnow"
   ]
  },
  {
   "cell_type": "markdown",
   "metadata": {},
   "source": [
    "## [Step 5](https://www.arpm.co/lab/redirect.php?permalink=s_checklist_historical_step06-implementation-step05): Calculcate ex-ante performance"
   ]
  },
  {
   "cell_type": "code",
   "execution_count": null,
   "metadata": {},
   "outputs": [],
   "source": [
    "# ex-ante performance (P&L)\n",
    "y_h = pi_tnow_thor@h"
   ]
  },
  {
   "cell_type": "markdown",
   "metadata": {},
   "source": [
    "## [Step 6](https://www.arpm.co/lab/redirect.php?permalink=s_checklist_historical_step06-implementation-step06): Save databases"
   ]
  },
  {
   "cell_type": "code",
   "execution_count": null,
   "metadata": {},
   "outputs": [],
   "source": [
    "out = pd.DataFrame({'Y_h': pd.Series(y_h)})\n",
    "# ex-ante performance\n",
    "out.to_csv(path+'db_exante_perf_historical.csv',\n",
    "           index=False)\n",
    "del out\n",
    "\n",
    "# holdings\n",
    "out = {db_v_tnow.columns[i]: h[i]\n",
    "       for i in range(len(h))}\n",
    "out = pd.DataFrame(out, index=[0])\n",
    "out = out[list(db_v_tnow.columns)]\n",
    "out.to_csv(path+'db_holdings_historical.csv',\n",
    "       index=False)\n",
    "del out\n",
    "\n",
    "# additional information\n",
    "out = pd.DataFrame({'v_h_tnow': v_h_tnow,\n",
    "                    'cash_tnow': cash_tnow},\n",
    "                    index=[0])\n",
    "out.to_csv(path+'db_aggregation_tools_historical.csv',\n",
    "           index=False)\n",
    "del out"
   ]
  },
  {
   "cell_type": "markdown",
   "metadata": {},
   "source": [
    "## Plots"
   ]
  },
  {
   "cell_type": "code",
   "execution_count": null,
   "metadata": {},
   "outputs": [],
   "source": [
    "# plot ex-ante performance\n",
    "plt.style.use('arpm')\n",
    "fig = plt.figure(figsize=(1280.0/72.0, 720.0/72.0), dpi = 72.0)\n",
    "f, xp = histogram_sp(y_h, p=p, k_=30)\n",
    "xp_m = xp*1e-6\n",
    "plt.bar(xp_m, f, width=xp_m[1]-xp_m[0], fc=[0.7, 0.7, 0.7],\n",
    "        edgecolor=[0.5, 0.5, 0.5])\n",
    "plt.title('Ex-ante performance', fontsize=20, fontweight='bold')\n",
    "plt.xlabel(r'$Y_h$ (million USD)', fontsize=17)\n",
    "plt.xticks(fontsize=14)\n",
    "plt.yticks(fontsize=14)\n",
    "add_logo(fig, location=1, set_fig_size=False)"
   ]
  }
 ],
 "metadata": {
  "kernelspec": {
   "display_name": "Python 3",
   "language": "python",
   "name": "python3"
  }
 },
 "nbformat": 4,
 "nbformat_minor": 4
}
