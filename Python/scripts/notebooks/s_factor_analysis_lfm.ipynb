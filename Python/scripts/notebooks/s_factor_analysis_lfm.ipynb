{
 "cells": [
  {
   "cell_type": "markdown",
   "metadata": {},
   "source": [
    "# s_factor_analysis_lfm [<img src=\"https://www.arpm.co/lab/icons/icon_permalink.png\" width=30 height=30 style=\"display: inline;\">](https://www.arpm.co/lab/redirect.php?code=s_factor_analysis_lfm&codeLang=Python)\n",
    "For details, see [here](https://www.arpm.co/lab/redirect.php?permalink=eb-lfmsys-id)."
   ]
  },
  {
   "cell_type": "code",
   "execution_count": null,
   "metadata": {},
   "outputs": [],
   "source": [
    "import numpy as np\n",
    "\n",
    "from arpym.estimation.cov_2_corr import cov_2_corr\n",
    "from arpym.estimation.factor_analysis_paf import factor_analysis_paf\n",
    "from arpym.tools.pca_cov import pca_cov"
   ]
  },
  {
   "cell_type": "markdown",
   "metadata": {},
   "source": [
    "## [Input parameters](https://www.arpm.co/lab/redirect.php?permalink=s_factor_analysis_lfm-parameters)"
   ]
  },
  {
   "cell_type": "code",
   "execution_count": null,
   "metadata": {},
   "outputs": [],
   "source": [
    "mu_x = np.zeros(3)\n",
    "sigma2_x  = np.array([[1.7,0.89,0.25],[0.89,2.22,0.48],[0.25,0.48,1.4]])    # target covariance\n",
    "beta0 = np.array([1.54, 3.15, 3.62]).reshape(-1,1)    # initial loadings\n",
    "k_ = 1    # dimension of hidden factor\n",
    "o = 1    # rotatation parameter"
   ]
  },
  {
   "cell_type": "markdown",
   "metadata": {},
   "source": [
    "## [Step 1](https://www.arpm.co/lab/redirect.php?permalink=s_factor_analysis_lfm-implementation-step01): Compute scale matrix"
   ]
  },
  {
   "cell_type": "code",
   "execution_count": null,
   "metadata": {},
   "outputs": [],
   "source": [
    "alpha = mu_x    # shift"
   ]
  },
  {
   "cell_type": "markdown",
   "metadata": {},
   "source": [
    "## [Step 2](https://www.arpm.co/lab/redirect.php?permalink=s_factor_analysis_lfm-implementation-step02): Compute scale matrix"
   ]
  },
  {
   "cell_type": "code",
   "execution_count": null,
   "metadata": {},
   "outputs": [],
   "source": [
    "s_vol = cov_2_corr(sigma2_x)[1]    # vector of standard deviations\n",
    "sigma = np.diag(s_vol)   # scale matrix"
   ]
  },
  {
   "cell_type": "markdown",
   "metadata": {},
   "source": [
    "## [Step 3](https://www.arpm.co/lab/redirect.php?permalink=s_factor_analysis_lfm-implementation-step03): Compute the factor loadings and idiosyncratic variances"
   ]
  },
  {
   "cell_type": "code",
   "execution_count": null,
   "metadata": {},
   "outputs": [],
   "source": [
    "beta, delta2 = factor_analysis_paf(sigma2_x, k_, sigma, beta0)    # loadings and idiosyncratic variances"
   ]
  },
  {
   "cell_type": "markdown",
   "metadata": {},
   "source": [
    "## [Step 4](https://www.arpm.co/lab/redirect.php?permalink=s_factor_analysis_lfm-implementation-step04): Rotate factor loadings and covariances of regression factor and fitted model"
   ]
  },
  {
   "cell_type": "code",
   "execution_count": null,
   "metadata": {},
   "outputs": [],
   "source": [
    "beta_ = - beta    # rotated loadings\n",
    "c = beta_.T @ np.linalg.inv(sigma2_x)\n",
    "sigma2_z = c @ sigma2_x @ c.T    # regression factor covariances\n",
    "sigma2_x_si = beta @ beta.T + np.diag(delta2)    # fitted model covariance"
   ]
  },
  {
   "cell_type": "markdown",
   "metadata": {},
   "source": [
    "## [Step 5](https://www.arpm.co/lab/redirect.php?permalink=s_factor_analysis_lfm-implementation-step05): Compute r-squared"
   ]
  },
  {
   "cell_type": "code",
   "execution_count": null,
   "metadata": {},
   "outputs": [],
   "source": [
    "r2 = np.trace(np.linalg.lstsq(sigma, (np.linalg.lstsq(sigma,  beta_ @ beta_.T, rcond=None)[0] + np.diag(delta2)),  rcond=None)[0]) / np.trace(np.linalg.lstsq(sigma, (np.linalg.lstsq(sigma,  sigma2_x, rcond=None)[0]),  rcond=None)[0])    # r-sqaured"
   ]
  },
  {
   "cell_type": "markdown",
   "metadata": {},
   "source": [
    "## [Step 6](https://www.arpm.co/lab/redirect.php?permalink=s_factor_analysis_lfm-implementation-step06): Compute covariance of residuals"
   ]
  },
  {
   "cell_type": "code",
   "execution_count": null,
   "metadata": {},
   "outputs": [],
   "source": [
    "sigma2_e = sigma2_x - sigma2_x_si    # covariance of residuals"
   ]
  },
  {
   "cell_type": "markdown",
   "metadata": {},
   "source": [
    "## [Step 7](https://www.arpm.co/lab/redirect.php?permalink=s_factor_analysis_lfm-implementation-step07): Compute the factor loadings and idiosyncratic variances in the setup of isotropic variances"
   ]
  },
  {
   "cell_type": "code",
   "execution_count": null,
   "metadata": {},
   "outputs": [],
   "source": [
    "e_k, lambda2_k = pca_cov(sigma2_x)    # eigenvalues and eigenvectors\n",
    "delta2_epsi = lambda2_k[-1]    # idiosyncratic variances\n",
    "beta_epsi = e_k[:,1].reshape(-1,1) @ np.sqrt(lambda2_k[0] -delta2_epsi).reshape(1,1)  # loadings  "
   ]
  }
 ],
 "metadata": {
  "jupytext": {
   "encoding": "# -*- coding: utf-8 -*-",
   "executable": "/usr/bin/env python3"
  },
  "kernelspec": {
   "display_name": "Python 3",
   "language": "python",
   "name": "python3"
  }
 },
 "nbformat": 4,
 "nbformat_minor": 4
}
