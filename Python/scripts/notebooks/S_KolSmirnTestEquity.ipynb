{
 "cells": [
  {
   "cell_type": "markdown",
   "metadata": {},
   "source": [
    "This script performs the Kolmogorov-Smirnov test for invariance on four\n",
    "different variables, computed from the dividend adjusted prices of one\n",
    "stock.\n",
    "-"
   ]
  },
  {
   "cell_type": "markdown",
   "metadata": {},
   "source": [
    "## For details, see [here](https://www.arpm.co/lab/redirect.php?permalink=iidtest-equity-copy-1)."
   ]
  },
  {
   "cell_type": "code",
   "execution_count": null,
   "metadata": {},
   "outputs": [],
   "source": [
    "# ## Prepare the environment"
   ]
  },
  {
   "cell_type": "code",
   "execution_count": null,
   "metadata": {},
   "outputs": [],
   "source": [
    "import os\n",
    "import os.path as path\n",
    "import sys\n",
    "\n",
    "sys.path.append(path.abspath('../../functions-legacy'))\n",
    "\n",
    "from scipy.io import loadmat\n",
    "\n",
    "import matplotlib.pyplot as plt\n",
    "from matplotlib.pyplot import figure\n",
    "\n",
    "plt.style.use('seaborn')\n",
    "\n",
    "from CONFIG import GLOBAL_DB, TEMPORARY_DB\n",
    "\n",
    "from ARPM_utils import save_plot, struct_to_dict\n",
    "from TestKolSmirn import TestKolSmirn\n",
    "from InvarianceTestKolSmirn import InvarianceTestKolSmirn"
   ]
  },
  {
   "cell_type": "markdown",
   "metadata": {},
   "source": [
    "## Upload the database\n",
    "## Upload daily stock prices from db_Stocks"
   ]
  },
  {
   "cell_type": "code",
   "execution_count": null,
   "metadata": {},
   "outputs": [],
   "source": [
    "try:\n",
    "    db = loadmat(os.path.join(GLOBAL_DB, 'db_Stocks'), squeeze_me=True)\n",
    "except FileNotFoundError:\n",
    "    db = loadmat(os.path.join(TEMPORARY_DB, 'db_Stocks'), squeeze_me=True)\n",
    "\n",
    "StocksSPX = struct_to_dict(db['StocksSPX'])"
   ]
  },
  {
   "cell_type": "markdown",
   "metadata": {},
   "source": [
    "## Compute the dividend adjusted prices of one stock"
   ]
  },
  {
   "cell_type": "code",
   "execution_count": null,
   "metadata": {},
   "outputs": [],
   "source": [
    "stock_index = 0\n",
    "v = StocksSPX.Prices[[stock_index], :]\n",
    "date = StocksSPX.Date\n",
    "div = StocksSPX.Dividends[stock_index][0]\n",
    "# if not div:\n",
    "#     v,_=Price2AdjustedPrice(date,v,div)"
   ]
  },
  {
   "cell_type": "markdown",
   "metadata": {},
   "source": [
    "## Compute the time series for each variable"
   ]
  },
  {
   "cell_type": "code",
   "execution_count": null,
   "metadata": {},
   "outputs": [],
   "source": [
    "x = v[[0], 1:] / v[[0], :-1]\n",
    "y = v[[0], 1:] - v[[0], :-1]\n",
    "z = (v[[0], 1:] / v[[0], :-1]) ** 2\n",
    "w = v[[0], 2:] - 2*v[[0], 1:-1] + v[[0], :-2]"
   ]
  },
  {
   "cell_type": "markdown",
   "metadata": {},
   "source": [
    "## Compute the Kolmogorov-Smirnov test for each variable"
   ]
  },
  {
   "cell_type": "code",
   "execution_count": null,
   "metadata": {},
   "outputs": [],
   "source": [
    "x_1, x_2, band_x, F_1_x, F_2_x, up_x, low_x = TestKolSmirn(x)\n",
    "y_1, y_2, band_y, F_1_y, F_2_y, up_y, low_y = TestKolSmirn(y)\n",
    "z_1, z_2, band_z, F_1_z, F_2_z, up_z, low_z = TestKolSmirn(z)\n",
    "w_1, w_2, band_w, F_1_w, F_2_w, up_w, low_w = TestKolSmirn(w)"
   ]
  },
  {
   "cell_type": "markdown",
   "metadata": {},
   "source": [
    "## Create figures showing the results of Kolmogorov-Smirnov test"
   ]
  },
  {
   "cell_type": "code",
   "execution_count": null,
   "metadata": {},
   "outputs": [],
   "source": [
    "# x\n",
    "f = figure()\n",
    "InvarianceTestKolSmirn(x, x_1, x_2, band_x, F_1_x, F_2_x, up_x, low_x, [], 'Invariance Test (X)');\n",
    "# save_plot(ax=plt.gca(), extension='png', scriptname=os.path.basename('.')[:-3], count=plt.get_fignums()[-1])\n",
    "\n",
    "# y\n",
    "f = figure()\n",
    "InvarianceTestKolSmirn(y, y_1, y_2, band_y, F_1_y, F_2_y, up_y, low_y, [], 'Invariance Test (Y)');\n",
    "# save_plot(ax=plt.gca(), extension='png', scriptname=os.path.basename('.')[:-3], count=plt.get_fignums()[-1])\n",
    "\n",
    "# z\n",
    "f = figure()\n",
    "InvarianceTestKolSmirn(z, z_1, z_2, band_z, F_1_z, F_2_z, up_z, low_z, [], 'Invariance Test (Z)');\n",
    "# save_plot(ax=plt.gca(), extension='png', scriptname=os.path.basename('.')[:-3], count=plt.get_fignums()[-1])\n",
    "\n",
    "# w\n",
    "f = figure()\n",
    "InvarianceTestKolSmirn(w, w_1, w_2, band_w, F_1_w, F_2_w, up_w, low_w, [], 'Invariance Test (W)');\n",
    "# save_plot(ax=plt.gca(), extension='png', scriptname=os.path.basename('.')[:-3], count=plt.get_fignums()[-1])\n"
   ]
  }
 ],
 "metadata": {
  "jupytext": {
   "cell_metadata_filter": "-all",
   "encoding": "# -*- coding: utf-8 -*-",
   "executable": "/usr/bin/env python3",
   "main_language": "python",
   "notebook_metadata_filter": "-all"
  }
 },
 "nbformat": 4,
 "nbformat_minor": 4
}
