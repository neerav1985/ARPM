{
 "cells": [
  {
   "cell_type": "markdown",
   "metadata": {},
   "source": [
    "# S_RegLFMLinForm [<img src=\"https://www.arpm.co/lab/icons/icon_permalink.png\" width=30 height=30 style=\"display: inline;\">](https://www.arpm.co/lab/redirect.php?code=S_RegLFMLinForm&codeLang=Python)\n",
    "For details, see here."
   ]
  },
  {
   "cell_type": "markdown",
   "metadata": {},
   "source": [
    "## Prepare the environment"
   ]
  },
  {
   "cell_type": "code",
   "execution_count": null,
   "metadata": {},
   "outputs": [],
   "source": [
    "import os.path as path\n",
    "import sys, os\n",
    "\n",
    "sys.path.append(path.abspath('../../functions-legacy'))\n",
    "\n",
    "from numpy import array, zeros, r_\n",
    "from numpy.linalg import norm as linalgnorm, pinv\n",
    "from numpy.random import rand\n",
    "\n",
    "import matplotlib.pyplot as plt\n",
    "from matplotlib.pyplot import figure, subplots, hist\n",
    "\n",
    "from ARPM_utils import save_plot\n",
    "\n",
    "plt.style.use('seaborn')\n",
    "\n",
    "# settings\n",
    "n_ = 50  # number of market variables\n",
    "k_ = 10  # number of observable factors\n",
    "\n",
    "dist = zeros(100)\n",
    "\n",
    "for i in range(100):\n",
    "    # ## Generate j_ = 100 arbitrary parameters\n",
    "    m_x = rand(n_, 1)\n",
    "    m_z = rand(k_, 1)\n",
    "    a = rand(n_+k_, n_+k_)\n",
    "    s2_xz = a@a.T\n",
    "\n",
    "    # ## Compute the coefficients of the classical formulation and the linear formulation\n",
    "\n",
    "    # Classical formulation\n",
    "    beta = s2_xz[:n_, n_:].dot(pinv(s2_xz[n_:, n_:]))\n",
    "    alpha = m_x - beta@m_z\n",
    "\n",
    "    # Linear formulation parameters\n",
    "    e_xz_tilde = r_['-1',m_x, s2_xz[:n_, n_:] + m_x@m_z.T]\n",
    "    e_z2_tilde = r_[r_['-1',array([[1]]), m_z.T],r_['-1',m_z, s2_xz[n_:, n_:] + m_z@m_z.T]]\n",
    "    beta_tilde = e_xz_tilde.dot(pinv(e_z2_tilde))\n",
    "\n",
    "    # Frobenius distance\n",
    "    dist[i] = linalgnorm(r_['-1',alpha, beta] - beta_tilde, ord='fro')"
   ]
  },
  {
   "cell_type": "markdown",
   "metadata": {},
   "source": [
    "## Plot the histogram of the Frobenius norms"
   ]
  },
  {
   "cell_type": "code",
   "execution_count": null,
   "metadata": {},
   "outputs": [],
   "source": [
    "f, ax = subplots(1,1)\n",
    "\n",
    "hist(dist);\n",
    "# save_plot(ax=plt.gca(), extension='png', scriptname=os.path.basename('.')[:-3], count=plt.get_fignums()[-1])"
   ]
  }
 ],
 "metadata": {
  "jupytext": {
   "encoding": "# -*- coding: utf-8 -*-",
   "executable": "/usr/bin/env python3"
  },
  "kernelspec": {
   "display_name": "Python 3",
   "language": "python",
   "name": "python3"
  }
 },
 "nbformat": 4,
 "nbformat_minor": 4
}
