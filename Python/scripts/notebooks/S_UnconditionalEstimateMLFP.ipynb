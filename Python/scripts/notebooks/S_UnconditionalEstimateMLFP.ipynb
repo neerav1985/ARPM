{
 "cells": [
  {
   "cell_type": "markdown",
   "metadata": {},
   "source": [
    "# S_UnconditionalEstimateMLFP [<img src=\"https://www.arpm.co/lab/icons/icon_permalink.png\" width=30 height=30 style=\"display: inline;\">](https://www.arpm.co/lab/redirect.php?code=S_UnconditionalEstimateMLFP&codeLang=Python)\n",
    "For details, see [here](https://www.arpm.co/lab/redirect.php?permalink=ex-log-like-estim-mfp)."
   ]
  },
  {
   "cell_type": "markdown",
   "metadata": {},
   "source": [
    "## Prepare the environment"
   ]
  },
  {
   "cell_type": "code",
   "execution_count": null,
   "metadata": {},
   "outputs": [],
   "source": [
    "import os\n",
    "import os.path as path\n",
    "import sys\n",
    "\n",
    "sys.path.append(path.abspath('../../functions-legacy'))\n",
    "from collections import namedtuple\n",
    "\n",
    "import numpy as np\n",
    "from numpy import arange, sort, where, round, log, exp, sqrt, r_\n",
    "from numpy import sum as npsum, min as npmin, max as npmax\n",
    "\n",
    "from scipy.stats import pareto\n",
    "from scipy.io import loadmat\n",
    "\n",
    "import matplotlib.pyplot as plt\n",
    "from matplotlib.pyplot import figure, plot, bar, legend, xlim, title\n",
    "\n",
    "np.seterr(divide='ignore')\n",
    "plt.style.use('seaborn')\n",
    "\n",
    "from CONFIG import GLOBAL_DB, TEMPORARY_DB\n",
    "from ARPM_utils import save_plot\n",
    "from HistogramFP import HistogramFP\n",
    "from EffectiveScenarios import EffectiveScenarios\n",
    "from MaxLikelihoodFPLocDispT import MaxLikelihoodFPLocDispT\n",
    "from FitGenParetoMLFP import FitGenParetoMLFP\n",
    "from HFPquantile import HFPquantile\n",
    "from QuantileGenParetoMLFP import QuantileGenParetoMLFP"
   ]
  },
  {
   "cell_type": "markdown",
   "metadata": {},
   "source": [
    "## Upload database"
   ]
  },
  {
   "cell_type": "code",
   "execution_count": null,
   "metadata": {},
   "outputs": [],
   "source": [
    "try:\n",
    "    db = loadmat(os.path.join(GLOBAL_DB, 'db_MomStratPL'), squeeze_me=True)\n",
    "except FileNotFoundError:\n",
    "    db = loadmat(os.path.join(TEMPORARY_DB, 'db_MomStratPL'), squeeze_me=True)\n",
    "\n",
    "dailypnl = db['dailypnl']\n",
    "dates = db['dates']"
   ]
  },
  {
   "cell_type": "markdown",
   "metadata": {},
   "source": [
    "## Select data and compute autocorrelations"
   ]
  },
  {
   "cell_type": "code",
   "execution_count": null,
   "metadata": {},
   "outputs": [],
   "source": [
    "y = dailypnl.reshape(1,-1)  # select observations\n",
    "t_ = len(dates)\n",
    "date = dates\n",
    "\n",
    "lam = log(2) / 180\n",
    "p = exp(-lam *arange(y.shape[1],0,-1)).reshape(1,-1)\n",
    "p = p /npsum(p)  # FP-profile: exponential decay 6 months"
   ]
  },
  {
   "cell_type": "markdown",
   "metadata": {},
   "source": [
    "## Estimate unconditional MaxLikelihoodLFP-mean and covariance"
   ]
  },
  {
   "cell_type": "code",
   "execution_count": null,
   "metadata": {},
   "outputs": [],
   "source": [
    "nu = 4  # degrees of freedom\n",
    "tolerance = 10 ** -7  # Set lower tolerance for higher precision\n",
    "\n",
    "mu_MLFP, sigma2_MLFP,_ = MaxLikelihoodFPLocDispT(y, p, nu, tolerance, 1)"
   ]
  },
  {
   "cell_type": "markdown",
   "metadata": {},
   "source": [
    "## Estimate unconditional MLFP (EVT) quantile"
   ]
  },
  {
   "cell_type": "code",
   "execution_count": null,
   "metadata": {},
   "outputs": [],
   "source": [
    "p_bar = 0.1  # probability threshold\n",
    "p_quant = r_[arange(10**-4,p_bar+10**-4,10**-4), arange(p_bar+0.001,1.001,0.001)].reshape(1,-1) # quantile probability levels\n",
    "q_HFP = HFPquantile(y, p_quant, p)\n",
    "y_bar = q_HFP[p_quant == p_bar]  # threshold\n",
    "# data below the threshold\n",
    "l_1 = where(y[0] < y_bar)[0]\n",
    "l_2 = where(p_quant[0] <= p_bar)[0]\n",
    "y_ex = y_bar - y[[0],l_1]  # dataset of the conditional excess distribution\n",
    "\n",
    "csi_MLFP, sigma_MLFP = FitGenParetoMLFP(y_ex, p[0,l_1])  # Maximum Likelihood optimization with Generalized Pareto Distribution\n",
    "f_MLFP = pareto.pdf(sort(y_ex), csi_MLFP, sigma_MLFP, 0)  # estimated pdf\n",
    "\n",
    "q_MLFP, *_ = QuantileGenParetoMLFP(y_bar, p_bar, csi_MLFP, sigma_MLFP, p_quant[0,l_2])  # MLFP-quantile\n",
    "\n",
    "q_bt = q_HFP[0,l_2]  # historical quantile below the threshold"
   ]
  },
  {
   "cell_type": "markdown",
   "metadata": {},
   "source": [
    "## Generate figures showing the unconditional MLFP-mean and standard deviation and the estimated unconditional quantile function"
   ]
  },
  {
   "cell_type": "code",
   "execution_count": null,
   "metadata": {},
   "outputs": [],
   "source": [
    "typ = namedtuple('type','Entropy')\n",
    "typ.Entropy = 'Exp'\n",
    "ens = EffectiveScenarios(p, typ)\n",
    "option = namedtuple('option', 'n_bins')\n",
    "\n",
    "option.n_bins = round(30*log(ens))\n",
    "hgram, x_hgram = HistogramFP(y, p, option)\n",
    "\n",
    "g = figure()\n",
    "# unconditional pdf with mean and dispersion superimposed\n",
    "ax = plt.subplot2grid((6,1), (0,0), rowspan=3)\n",
    "b = bar(x_hgram[:-1], hgram[0], width=x_hgram[1]-x_hgram[0],facecolor=[.7, .7, .7], edgecolor=[.3, .3, .3])\n",
    "plt.axis([npmin(x_hgram), npmax(x_hgram), 0, npmax(hgram) + (npmax(hgram) / 20)])\n",
    "title('P&L unconditional pdf')\n",
    "stddev_plot = plot(r_[mu_MLFP - sqrt(sigma2_MLFP), mu_MLFP + sqrt(sigma2_MLFP)],[0, 0], color= [.3, .3, .9], lw=7)\n",
    "mean_plot = plot(r_[mu_MLFP, mu_MLFP], [0, 0.4*10**-7], color= [.9, .3, 0], lw=7)\n",
    "legend(['Unconditional MLFP-dispersion','Unconditional MLFP-mean'])\n",
    "\n",
    "# unconditional quantile\n",
    "y_min = min([npmin(q_bt), npmin(q_MLFP)])\n",
    "y_max = max([npmax(q_bt), npmax(q_MLFP)])\n",
    "ax = plt.subplot2grid((6,1), (3,0), rowspan=2)\n",
    "xlim([0, npmax(p_quant[0,l_2])])\n",
    "Q_bt = plot(p_quant[0,l_2], q_bt, color= [.3, .3, .9], lw=2)\n",
    "Q_MLFP = plot(p_quant[0,l_2], q_MLFP, color= [.9, .3, 0], lw=2)\n",
    "plt.axis([-10 ** -6, p_bar, y_min - .05*(y_max - y_min), y_max + .05*(y_max - y_min)])\n",
    "title('Unconditional MLFP-quantile approximation')\n",
    "legend(['Unconditional quantile','MLFP-quantile approximation'])\n",
    "plt.tight_layout();\n",
    "# save_plot(ax=plt.gca(), extension='png', scriptname=os.path.basename('.')[:-3], count=plt.get_fignums()[-1])"
   ]
  }
 ],
 "metadata": {
  "jupytext": {
   "encoding": "# -*- coding: utf-8 -*-",
   "executable": "/usr/bin/env python3"
  },
  "kernelspec": {
   "display_name": "Python 3",
   "language": "python",
   "name": "python3"
  }
 },
 "nbformat": 4,
 "nbformat_minor": 4
}
