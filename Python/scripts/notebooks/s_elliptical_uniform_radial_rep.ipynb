{
 "cells": [
  {
   "cell_type": "markdown",
   "metadata": {},
   "source": [
    "# s_elliptical_uniform_radial_rep [<img src=\"https://www.arpm.co/lab/icons/icon_permalink.png\" width=30 height=30 style=\"display: inline;\">](https://www.arpm.co/lab/redirect.php?code=s_elliptical_uniform_radial_rep&codeLang=Python)\n",
    "For details, see [here](https://www.arpm.co/lab/redirect.php?permalink=s_elliptical_uniform_radial_rep)."
   ]
  },
  {
   "cell_type": "code",
   "execution_count": null,
   "metadata": {},
   "outputs": [],
   "source": [
    "import numpy as np\n",
    "from scipy.stats import chi, multivariate_normal\n",
    "import matplotlib.pyplot as plt\n",
    "from mpl_toolkits import mplot3d\n",
    "from matplotlib.collections import PolyCollection\n",
    "\n",
    "from arpym.tools.logo import add_logo"
   ]
  },
  {
   "cell_type": "markdown",
   "metadata": {},
   "source": [
    "## [Input parameters](https://www.arpm.co/lab/redirect.php?permalink=s_elliptical_uniform_radial_rep-parameters)"
   ]
  },
  {
   "cell_type": "code",
   "execution_count": null,
   "metadata": {},
   "outputs": [],
   "source": [
    "z0 = np.array([1.2, 0.64])  # point to examine"
   ]
  },
  {
   "cell_type": "markdown",
   "metadata": {},
   "source": [
    "## [Step 1](https://www.arpm.co/lab/redirect.php?permalink=s_elliptical_uniform_radial_rep-implementation-step01): Calculate normal pdf"
   ]
  },
  {
   "cell_type": "code",
   "execution_count": null,
   "metadata": {},
   "outputs": [],
   "source": [
    "# define grid for evaluation of bivariate normal pdf\n",
    "z1_grid = np.linspace(-2.5, 2.5, 100)\n",
    "z2_grid = np.linspace(-2.5, 2.5, 100)\n",
    "z1_grid, z2_grid = np.meshgrid(z1_grid, z2_grid)\n",
    "z_grid = np.stack([z1_grid, z2_grid], axis=2)\n",
    "\n",
    "# calculate standard normal pdf on grid\n",
    "f_Z = multivariate_normal.pdf(z_grid, np.zeros(2), np.eye(2))\n",
    "\n",
    "# calculate value of standard normal pdf at z0\n",
    "f_Z_z0 = multivariate_normal.pdf(z0, np.zeros(2), np.eye(2))"
   ]
  },
  {
   "cell_type": "markdown",
   "metadata": {},
   "source": [
    "## [Step 2](https://www.arpm.co/lab/redirect.php?permalink=s_elliptical_uniform_radial_rep-implementation-step02): Calculate radial pdf"
   ]
  },
  {
   "cell_type": "code",
   "execution_count": null,
   "metadata": {},
   "outputs": [],
   "source": [
    "# define grid for evaluation of radial pdf\n",
    "r_grid = np.linspace(0.01, 2.5, 50)\n",
    "\n",
    "# calculate pdf of radial component on grid\n",
    "f_R = chi.pdf(r_grid, 2)\n",
    "\n",
    "# calculate radial component of z0\n",
    "r0 = np.sqrt(z0.T@z0)\n",
    "\n",
    "# calculate value of pdf of radial component at r0\n",
    "f_R_r0 = chi.pdf(r0, 2)"
   ]
  },
  {
   "cell_type": "markdown",
   "metadata": {},
   "source": [
    "## [Step 3](https://www.arpm.co/lab/redirect.php?permalink=s_elliptical_uniform_radial_rep-implementation-step03): Calculate uniform on circle pdf values"
   ]
  },
  {
   "cell_type": "code",
   "execution_count": null,
   "metadata": {},
   "outputs": [],
   "source": [
    "# define grid for evaluation of uniform pdf\n",
    "y1_grid = np.linspace(-1, 1, 50)\n",
    "y2_grid = np.sqrt(1-y1_grid**2)\n",
    "y1_grid = np.append(y1_grid, np.flip(y1_grid))\n",
    "y2_grid = np.append(y2_grid, -y2_grid)\n",
    "\n",
    "# calculate pdf of uniform component on grid\n",
    "f_Y = np.full(100, 1/(2*np.pi))\n",
    "\n",
    "# calculate uniform component of z0\n",
    "y0 = z0/r0\n",
    "\n",
    "# calculate value of pdf of uniform component at y0\n",
    "f_Y_y0 = 1/(2*np.pi)"
   ]
  },
  {
   "cell_type": "markdown",
   "metadata": {},
   "source": [
    "## Plots"
   ]
  },
  {
   "cell_type": "code",
   "execution_count": null,
   "metadata": {},
   "outputs": [],
   "source": [
    "plt.style.use('arpm')\n",
    "\n",
    "# pdf\n",
    "fig = plt.figure(facecolor='white')\n",
    "ax1 = fig.add_subplot(1, 1, 1, projection='3d')\n",
    "\n",
    "# axes\n",
    "ax1.plot([0, 2.5], [0, 0], 0, color='black', linewidth=0.5)\n",
    "ax1.plot([0, 0], [0, 2.5], 0, color='black', linewidth=0.5)\n",
    "ax1.plot([0, 0], [0, 0], [0, np.max(f_Z)*1.1], color='black', linewidth=0.5)\n",
    "\n",
    "# bivariate density\n",
    "ax1.plot_wireframe(z1_grid, z2_grid, f_Z,\n",
    "                   rcount=100, ccount=100, alpha=0.02)\n",
    "ax1.text(-0.5, 0.5, 0.15, r'$f_Z$', color='black',\n",
    "        fontsize=17)\n",
    "\n",
    "# radial density\n",
    "scale_rad = 4*np.pi\n",
    "ax1.plot(np.full(50, 0), r_grid, f_R/scale_rad, color='red')\n",
    "verts = list(zip(r_grid, f_R/scale_rad))\n",
    "verts.append((max(r_grid), 0.0))\n",
    "verts = [verts]\n",
    "poly = PolyCollection(verts, facecolors='red')\n",
    "poly.set_alpha(0.1)\n",
    "ax1.add_collection3d(poly, zs=0, zdir='x')\n",
    "ax1.text(0, 2.5, 0.015, r'$f_R$', color='red', fontsize=17)\n",
    "\n",
    "# uniform on unit circle\n",
    "ax1.plot(y1_grid, y2_grid, 0, zdir='z', color='skyblue',\n",
    "         linewidth=1)\n",
    "# density\n",
    "scale_unif = 1/(0.03*np.pi)\n",
    "f_Y_d = np.linspace(0, f_Y_y0/scale_unif, 100)\n",
    "y1_grid_d, f_Y_d = np.meshgrid(y1_grid[:50], f_Y_d)\n",
    "y2_grid_d = np.sqrt(1-y1_grid_d**2)\n",
    "ax1.plot_surface(y1_grid_d, y2_grid_d, f_Y_d, alpha=0.2,\n",
    "                 rstride=20, cstride=10, color='skyblue',\n",
    "                 shade=False)\n",
    "ax1.plot_surface(y1_grid_d, -y2_grid_d, f_Y_d, alpha=0.2,\n",
    "                 rstride=20, cstride=10, color='skyblue',\n",
    "                 shade=False)\n",
    "ax1.text(0.9, -0.44, 0.005, r'$f_{Y}$', color='steelblue',\n",
    "        fontsize=17)\n",
    "# label unit circle\n",
    "ax1.text(-0.3, -0.5, 0, r'$\\mathcal{S}^{1}$', color='steelblue',\n",
    "        fontsize=17)\n",
    "\n",
    "# annotate chosen point\n",
    "# z0\n",
    "ax1.scatter(z0[0], z0[1], 0, color='green')\n",
    "ax1.text(z0[0], z0[1], 0.002, r'$z_0$', color='green', fontsize=17)\n",
    "# r0\n",
    "ax1.scatter(0, r0, 0, color='red')\n",
    "ax1.text(0, r0+0.05, 0.002, r'$r_0$', color='red', fontsize=17)\n",
    "# y0\n",
    "ax1.scatter(y0[0], y0[1], 0, color='skyblue')\n",
    "ax1.text(y0[0], y0[1], 0.002, r'$y_0$', color='steelblue', fontsize=17)\n",
    "\n",
    "# connecting lines\n",
    "ax1.plot([0, z0[0]], [0, z0[1]], 0, zdir='z',\n",
    "         color='green', linestyle='--')  # 0 to x0\n",
    "# cylinder for chosen point\n",
    "ax1.plot(y1_grid*r0, y2_grid*r0, 0, zdir='z', color='green')\n",
    "ax1.plot(y1_grid*r0, y2_grid*r0, f_Z_z0, zdir='z', color='green',\n",
    "         linestyle='--')\n",
    "# density\n",
    "f_Z_z0_d = np.linspace(0, f_Z_z0, 50)\n",
    "z1_grid_d, f_Z_z0_d = np.meshgrid(r0*y1_grid[:50], f_Z_z0_d)\n",
    "z2_grid_d = np.sqrt(r0**2-z1_grid_d**2)\n",
    "ax1.plot_surface(z1_grid_d, z2_grid_d, f_Z_z0_d, alpha=0.05,\n",
    "                 rstride=20, cstride=10, color='green',\n",
    "                 shade=False)\n",
    "ax1.plot_surface(z1_grid_d, -z2_grid_d, f_Z_z0_d, alpha=0.05,\n",
    "                 rstride=20, cstride=10, color='green',\n",
    "                 shade=False)\n",
    "\n",
    "ax1.set_xlim(-2.5, 2.5)\n",
    "plt.xticks([])\n",
    "ax1.set_ylim(-2.5, 2.5)\n",
    "plt.yticks([])\n",
    "ax1.set_zlim(0.02, np.max(f_Z)*0.78)\n",
    "ax1.set_zticks([])\n",
    "\n",
    "plt.axis('off')\n",
    "\n",
    "ax1.w_xaxis.set_pane_color((1.0, 1.0, 1.0, 1.0))\n",
    "ax1.w_yaxis.set_pane_color((1.0, 1.0, 1.0, 1.0))\n",
    "ax1.w_zaxis.set_pane_color((1.0, 1.0, 1.0, 1.0))\n",
    "ax1.view_init(33, 12)\n",
    "ax1.grid(False)\n",
    "\n",
    "add_logo(fig)\n",
    "plt.tight_layout()\n",
    "plt.show()"
   ]
  }
 ],
 "metadata": {
  "jupytext": {
   "encoding": "# -*- coding: utf-8 -*-",
   "executable": "/usr/bin/env python3"
  },
  "kernelspec": {
   "display_name": "Python 3",
   "language": "python",
   "name": "python3"
  }
 },
 "nbformat": 4,
 "nbformat_minor": 4
}
