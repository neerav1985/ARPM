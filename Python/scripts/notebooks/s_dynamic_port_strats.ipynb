{
 "cells": [
  {
   "cell_type": "markdown",
   "metadata": {},
   "source": [
    "# s_dynamic_port_strats [<img src=\"https://www.arpm.co/lab/icons/icon_permalink.png\" width=30 height=30 style=\"display: inline;\">](https://www.arpm.co/lab/redirect.php?code=s_dynamic_port_strats&codeLang=Python)\n",
    "For details, see [here](https://www.arpm.co/lab/redirect.php?permalink=EBCompDynamicStrat)."
   ]
  },
  {
   "cell_type": "code",
   "execution_count": null,
   "metadata": {},
   "outputs": [],
   "source": [
    "import numpy as np\n",
    "import matplotlib.pyplot as plt\n",
    "from scipy.stats import norm\n",
    "\n",
    "from arpym.portfolio.opt_trade_meanvar import opt_trade_meanvar\n",
    "from arpym.tools.plot_dynamic_strats import plot_dynamic_strats\n",
    "from arpym.tools.logo import add_logo"
   ]
  },
  {
   "cell_type": "markdown",
   "metadata": {},
   "source": [
    "## [Input parameters](https://www.arpm.co/lab/redirect.php?permalink=s_dynamic_port_strats-parameters)"
   ]
  },
  {
   "cell_type": "code",
   "execution_count": null,
   "metadata": {},
   "outputs": [],
   "source": [
    "v_tnow_strat = 10000  # initial budget\n",
    "v_tnow_risky = 100  # initial value of the risky instrument\n",
    "v_tnow_rf = 100  # initial value of the risk-free instrument\n",
    "t_now = 0  # current time\n",
    "t_hor = 1  # future horizon (in years)\n",
    "\n",
    "j_ = 1000  # number of scenarios\n",
    "k_ = 252  # number of time grids\n",
    "mu = 0.10  # annually expected return on the underlying\n",
    "sig = 0.40  # annually expected percentage volatility on the stock index\n",
    "r_rf = 0.02  # risk-free (money market) interest rate\n",
    "\n",
    "h_risky = 0.5  # ratio of risky instrument for buy and hold strategy\n",
    "h_rf = 0.5  # ratio of risk-free instrument for buy and hold strategy\n",
    "lam = 0.8  # power utility coefficient\n",
    "mult_cppi = 1.6  # CPPI multiplier\n",
    "gam = 0.7\n",
    "mult_dc = 2.0\n",
    "k_strk = 100  # strike price\n",
    "v_tnow_floor = 8000  # minimum floor\n",
    "\n",
    "# parameters for the transaction cost\n",
    "alpha = 0.5  # slippage power\n",
    "beta = 0.60  # acceleration parameter\n",
    "delta_q = 0.1  # volume time horizon\n",
    "eta_ = 0.142  # normalized slippage coefficient\n",
    "gam_ = 0.314  # normalized permanent impact coefficient\n",
    "q_ = 1000  # daily average volume\n",
    "sig_ = 0.0157  # normalized volatility (intraday)"
   ]
  },
  {
   "cell_type": "markdown",
   "metadata": {},
   "source": [
    "## [Step 1](https://www.arpm.co/lab/redirect.php?permalink=s_dynamic_port_strats-implementation-step01): Generate scenarios of the risky and risk-free instruments"
   ]
  },
  {
   "cell_type": "code",
   "execution_count": null,
   "metadata": {},
   "outputs": [],
   "source": [
    "dt = (t_hor - t_now) / k_  # time grid (in years)\n",
    "t = np.arange(0, t_hor + dt, dt)\n",
    "db_t = np.random.randn(j_, k_)\n",
    "v_t_risky = v_tnow_risky *\\\n",
    "            np.r_['-1', np.ones((j_, 1)),\n",
    "                  np.exp(np.cumsum((mu - sig ** 2 / 2) * dt + sig * np.sqrt(dt)\n",
    "                         * db_t, axis=1))]\n",
    "v_t_rf = v_tnow_rf * np.exp(r_rf * t)"
   ]
  },
  {
   "cell_type": "markdown",
   "metadata": {},
   "source": [
    "## [Step 2](https://www.arpm.co/lab/redirect.php?permalink=s_dynamic_port_strats-implementation-step02): Buy and hold strategy"
   ]
  },
  {
   "cell_type": "code",
   "execution_count": null,
   "metadata": {},
   "outputs": [],
   "source": [
    "h_t_risky_bh = h_risky * v_tnow_strat / v_tnow_risky * np.ones((j_, k_ + 1))\n",
    "h_t_rf_bh = h_rf * v_tnow_strat / v_tnow_rf * np.ones((j_, k_ + 1))\n",
    "v_t_strat_bh = np.zeros((j_, k_ + 1))\n",
    "w_t_risky_bh = np.zeros((j_, k_ + 1))\n",
    "\n",
    "for k in range(k_ + 1):\n",
    "    v_t_strat_bh[:, k] = h_t_risky_bh[:, k] * v_t_risky[:, k] + \\\n",
    "                         h_t_rf_bh[:, k] * v_t_rf[k]\n",
    "    w_t_risky_bh[:, k] = h_t_risky_bh[:, k] * v_t_risky[:, k] / \\\n",
    "        v_t_strat_bh[:, k]"
   ]
  },
  {
   "cell_type": "markdown",
   "metadata": {},
   "source": [
    "## [Step 3](https://www.arpm.co/lab/redirect.php?permalink=s_dynamic_port_strats-implementation-step03): Maximum power utility strategy"
   ]
  },
  {
   "cell_type": "code",
   "execution_count": null,
   "metadata": {},
   "outputs": [],
   "source": [
    "v_t_strat_mpu = np.zeros((j_, k_ + 1))\n",
    "v_t_strat_mpu[:, 0] = v_tnow_strat\n",
    "w_t_risky_mpu = np.ones((j_, k_ + 1)) * (mu - r_rf) / sig ** 2 / lam\n",
    "h_t_risky_mpu = np.zeros((j_, k_ + 1))\n",
    "h_t_rf_mpu = np.zeros((j_, k_ + 1))\n",
    "c_mpu = np.zeros((j_, k_ + 1))  # transaction costs\n",
    "\n",
    "for k in range(k_):\n",
    "    h_t_risky_mpu[:, k] = w_t_risky_mpu[:, k] * v_t_strat_mpu[:, k] / \\\n",
    "                          v_t_risky[:, k]\n",
    "    h_t_rf_mpu[:, k] = (v_t_strat_mpu[:, k] - h_t_risky_mpu[:, k] *\n",
    "                        v_t_risky[:, k]) / v_t_rf[k]\n",
    "    if k > 0:\n",
    "        h_start_mpu_k = (h_t_risky_mpu[:, k] - h_t_risky_mpu[:, k - 1]) / q_\n",
    "        c_mpu[:, k] = -v_t_risky[:, k] * \\\n",
    "            opt_trade_meanvar(h_start_mpu_k, 0, q_, alpha, beta, eta_, gam_,\n",
    "                              sig_, delta_q)[0]\n",
    "    v_t_strat_mpu[:, k + 1] = v_t_strat_mpu[:, k] + h_t_risky_mpu[:, k] * \\\n",
    "        (v_t_risky[:, k + 1] - v_t_risky[:, k]) + h_t_rf_mpu[:, k] * \\\n",
    "        (v_t_rf[k + 1] - v_t_rf[k]) - c_mpu[:, k]\n",
    "\n",
    "h_t_rf_mpu[:, -1] = (v_t_strat_mpu[:, -1] - h_t_risky_mpu[:, -1] *\n",
    "                     v_t_risky[:, -1]) / v_t_rf[-1]"
   ]
  },
  {
   "cell_type": "markdown",
   "metadata": {},
   "source": [
    "## [Step 4](https://www.arpm.co/lab/redirect.php?permalink=s_dynamic_port_strats-implementation-step04): Delta hedging strategy"
   ]
  },
  {
   "cell_type": "code",
   "execution_count": null,
   "metadata": {},
   "outputs": [],
   "source": [
    "v_t_strat_dh = np.zeros((j_, k_ + 1))\n",
    "v_t_strat_dh[:, 0] = v_tnow_strat\n",
    "w_t_risky_dh = np.zeros((j_, k_ + 1))\n",
    "h_t_risky_dh = np.zeros((j_, k_ + 1))\n",
    "h_t_rf_dh = np.zeros((j_, k_ + 1))\n",
    "c_dh = np.zeros((j_, k_ + 1))  # transaction costs\n",
    "\n",
    "for k in range(k_):\n",
    "    m_t_k = np.log(v_t_risky[:, k] / k_strk) / np.sqrt(t_hor - t[k])\n",
    "    d1_k = (m_t_k + (r_rf + sig ** 2 / 2) * np.sqrt(t_hor - t[k])) / sig\n",
    "    delta = norm.cdf(d1_k, 0, 1)  # option delta\n",
    "    w_t_risky_dh[:, k] = v_tnow_strat / v_tnow_risky * \\\n",
    "        v_t_risky[:, k] / v_t_strat_dh[:, k] * delta\n",
    "    h_t_risky_dh[:, k] = w_t_risky_dh[:, k] * v_t_strat_dh[:, k] / \\\n",
    "        v_t_risky[:, k]\n",
    "    h_t_rf_dh[:, k] = (v_t_strat_dh[:, k] - h_t_risky_dh[:, k] *\n",
    "                       v_t_risky[:, k]) / v_t_rf[k]\n",
    "    if k > 0:\n",
    "        h_start_dh_k = (h_t_risky_dh[:, k] - h_t_risky_dh[:, k - 1]) / q_\n",
    "        c_dh[:, k] = -v_t_risky[:, k] *\\\n",
    "            opt_trade_meanvar(h_start_dh_k, 0, q_, alpha, beta, eta_, gam_,\n",
    "                              sig_, delta_q)[0]\n",
    "    v_t_strat_dh[:, k + 1] = v_t_strat_dh[:, k] + h_t_risky_dh[:, k] * \\\n",
    "        (v_t_risky[:, k + 1] - v_t_risky[:, k]) + h_t_rf_dh[:, k] * \\\n",
    "        (v_t_rf[k + 1] - v_t_rf[k]) - c_dh[:, k]\n",
    "\n",
    "delta = np.zeros(j_)\n",
    "delta[v_t_strat_dh[:, -1] > k_strk] = 1\n",
    "w_t_risky_dh[:, -1] = v_t_risky[:, -1] / v_t_strat_dh[:, -1] * delta\n",
    "h_t_risky_dh[:, -1] = w_t_risky_dh[:, -1] * v_t_strat_dh[:, -1] / \\\n",
    "                      v_t_risky[:, -1]"
   ]
  },
  {
   "cell_type": "markdown",
   "metadata": {},
   "source": [
    "## [Step 5](https://www.arpm.co/lab/redirect.php?permalink=s_dynamic_port_strats-implementation-step05): Constant proportion portfolio insurance strategy"
   ]
  },
  {
   "cell_type": "code",
   "execution_count": null,
   "metadata": {},
   "outputs": [],
   "source": [
    "v_t_floor = v_tnow_floor * np.exp(r_rf * t)  # floor value\n",
    "\n",
    "v_t_strat_cppi = np.zeros((j_, k_ + 1))\n",
    "v_t_strat_cppi[:, 0] = v_tnow_strat\n",
    "w_t_risky_cppi = np.zeros((j_, k_ + 1))\n",
    "h_t_risky_cppi = np.zeros((j_, k_ + 1))\n",
    "h_t_rf_cppi = np.zeros((j_, k_ + 1))\n",
    "c_cppi = np.zeros((j_, k_ + 1))  # transaction costs\n",
    "\n",
    "for k in range(k_):\n",
    "    cush_t_k = np.maximum(0, v_t_strat_cppi[:, k] - v_t_floor[k])\n",
    "\n",
    "    h_t_risky_cppi[:, k] = mult_cppi * cush_t_k / v_t_risky[:, k]\n",
    "    w_t_risky_cppi[:, k] = h_t_risky_cppi[:, k] * v_t_risky[:, k] / \\\n",
    "        v_t_strat_cppi[:, k]\n",
    "    h_t_rf_cppi[:, k] = (v_t_strat_cppi[:, k] -\n",
    "                         h_t_risky_cppi[:, k] * v_t_risky[:, k]) / v_t_rf[k]\n",
    "    if k > 0:\n",
    "        h_start_cppi_k = (h_t_risky_cppi[:, k] - h_t_risky_cppi[:, k - 1]) / q_\n",
    "        c_cppi[:, k] = -v_t_risky[:, k] * \\\n",
    "            opt_trade_meanvar(h_start_cppi_k, 0, q_, alpha, beta, eta_,\n",
    "                              gam_, sig_, delta_q)[0]\n",
    "    v_t_strat_cppi[:, k + 1] = v_t_strat_cppi[:, k] + h_t_risky_cppi[:, k] * \\\n",
    "        (v_t_risky[:, k + 1] - v_t_risky[:, k]) + h_t_rf_cppi[:, k] * \\\n",
    "        (v_t_rf[k + 1] - v_t_rf[k]) - c_cppi[:, k]\n",
    "\n",
    "cush_t_k_ = np.maximum(0, v_t_strat_cppi[:, -1] - v_t_floor[-1])\n",
    "w_t_risky_cppi[:, -1] = mult_cppi * cush_t_k_ / v_t_strat_cppi[:, -1]\n",
    "h_t_risky_cppi[:, -1] = w_t_risky_cppi[:, -1] * v_t_strat_cppi[:, -1] / \\\n",
    "                        v_t_risky[:, -1]"
   ]
  },
  {
   "cell_type": "markdown",
   "metadata": {},
   "source": [
    "## [Step 6](https://www.arpm.co/lab/redirect.php?permalink=s_dynamic_port_strats-implementation-step06): Constant proportion drawdown control strategy"
   ]
  },
  {
   "cell_type": "code",
   "execution_count": null,
   "metadata": {},
   "outputs": [],
   "source": [
    "v_t_strat_dc = np.zeros((j_, k_ + 1))\n",
    "v_t_strat_dc[:, 0] = v_tnow_strat\n",
    "w_t_risky_dc = np.zeros((j_, k_ + 1))\n",
    "h_t_risky_dc = np.zeros((j_, k_ + 1))\n",
    "h_t_rf_dc = np.zeros((j_, k_ + 1))\n",
    "c_dc = np.zeros((j_, k_ + 1))  # transaction costs\n",
    "hwm_t_k = np.zeros(j_)  # high water mark\n",
    "\n",
    "for k in range(k_):\n",
    "    hwm_t_k = np.maximum(hwm_t_k, v_t_strat_dc[:, k])\n",
    "    w_t_risky_dc[:, k] = mult_dc * (v_t_strat_dc[:, k] - gam * hwm_t_k) / \\\n",
    "        v_t_strat_dc[:, k]\n",
    "    h_t_risky_dc[:, k] = w_t_risky_dc[:, k] * v_t_strat_dc[:, k] / \\\n",
    "        v_t_risky[:, k]\n",
    "    h_t_rf_dc[:, k] = (v_t_strat_dc[:, k]-h_t_risky_dc[:, k] *\n",
    "                       v_t_risky[:, k]) / v_t_rf[k]\n",
    "    if k > 0:\n",
    "        h_start_dc_k = (h_t_risky_dc[:, k] - h_t_risky_dc[:, k - 1]) / q_\n",
    "        c_dc[:, k] = -v_t_risky[:, k] * \\\n",
    "            opt_trade_meanvar(h_start_dc_k, 0, q_, alpha, beta, eta_, gam_,\n",
    "                              sig_, delta_q)[0]\n",
    "    v_t_strat_dc[:, k + 1] = v_t_strat_dc[:, k] + h_t_risky_dc[:, k] * \\\n",
    "        (v_t_risky[:, k + 1] - v_t_risky[:, k]) + h_t_rf_dc[:, k] * \\\n",
    "        (v_t_rf[k + 1] - v_t_rf[k]) - c_dc[:, k]\n",
    "\n",
    "hwm_t_k_ = np.maximum(hwm_t_k, v_t_strat_dc[:, -1])\n",
    "w_t_risky_dc[:, -1] = mult_dc * (v_t_strat_dc[:, -1] - gam * hwm_t_k_) / \\\n",
    "                      v_t_strat_dc[:, -1]\n",
    "h_t_risky_dc[:, -1] = w_t_risky_dc[:, -1] * v_t_strat_dc[:, -1] / \\\n",
    "                      v_t_risky[:, -1]"
   ]
  },
  {
   "cell_type": "markdown",
   "metadata": {},
   "source": [
    "## Plots"
   ]
  },
  {
   "cell_type": "code",
   "execution_count": null,
   "metadata": {},
   "outputs": [],
   "source": [
    "num = 100  # number of selected scenarios\n",
    "j_sel = -1  # selected scenario\n",
    "\n",
    "plt.style.use('arpm')\n",
    "\n",
    "# buy and hold strategy\n",
    "fig1, _ = plot_dynamic_strats(t, v_t_strat_bh, v_t_risky, w_t_risky_bh,\n",
    "                              h_t_risky_bh, num, j_sel)\n",
    "add_logo(fig1, size_frac_x=1/8)\n",
    "\n",
    "# maximum power utility strategy\n",
    "fig2, _ = plot_dynamic_strats(t, v_t_strat_mpu, v_t_risky, w_t_risky_mpu,\n",
    "                              h_t_risky_mpu, num, j_sel)\n",
    "add_logo(fig2, size_frac_x=1/8)\n",
    "\n",
    "# delta hedge strategy\n",
    "fig3, _ = plot_dynamic_strats(t, v_t_strat_dh, v_t_risky, w_t_risky_dh,\n",
    "                              h_t_risky_dh, num, j_sel)\n",
    "add_logo(fig3, size_frac_x=1/8)\n",
    "\n",
    "# CPPI strategy\n",
    "fig4, _ = plot_dynamic_strats(t, v_t_strat_cppi, v_t_risky, w_t_risky_cppi,\n",
    "                              h_t_risky_cppi, num, j_sel)\n",
    "add_logo(fig4, size_frac_x=1/8)\n",
    "\n",
    "# drawdown control strategy\n",
    "fig5, _ = plot_dynamic_strats(t, v_t_strat_dc, v_t_risky, w_t_risky_dc,\n",
    "                              h_t_risky_dc, num, j_sel)\n",
    "add_logo(fig5, size_frac_x=1/8)"
   ]
  }
 ],
 "metadata": {
  "jupytext": {
   "encoding": "# -*- coding: utf-8 -*-",
   "executable": "/usr/bin/env python3"
  },
  "kernelspec": {
   "display_name": "Python 3",
   "language": "python",
   "name": "python3"
  }
 },
 "nbformat": 4,
 "nbformat_minor": 4
}
