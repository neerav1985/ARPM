{
 "cells": [
  {
   "cell_type": "markdown",
   "metadata": {},
   "source": [
    "# s_second_order_dominance [<img src=\"https://www.arpm.co/lab/icons/icon_permalink.png\" width=30 height=30 style=\"display: inline;\">](https://www.arpm.co/lab/redirect.php?code=s_second_order_dominance&codeLang=Python)\n",
    "For details, see [here](https://www.arpm.co/lab/redirect.php?permalink=doc-s_second_order_dominance)."
   ]
  },
  {
   "cell_type": "code",
   "execution_count": null,
   "metadata": {},
   "outputs": [],
   "source": [
    "import numpy as np\n",
    "from scipy import stats\n",
    "from scipy import integrate\n",
    "import matplotlib.pyplot as plt\n",
    "\n",
    "from arpym.tools.logo import add_logo"
   ]
  },
  {
   "cell_type": "markdown",
   "metadata": {},
   "source": [
    "## [Input parameters](https://www.arpm.co/lab/redirect.php?permalink=s_second_order_dominance-parameters)"
   ]
  },
  {
   "cell_type": "code",
   "execution_count": null,
   "metadata": {},
   "outputs": [],
   "source": [
    "mu_1 = 0.2\n",
    "sigma_1 = np.sqrt(0.1)\n",
    "mu_2 = 0\n",
    "sigma_2 = np.sqrt(0.3)"
   ]
  },
  {
   "cell_type": "markdown",
   "metadata": {},
   "source": [
    "## [Step 1](https://www.arpm.co/lab/redirect.php?permalink=s_second_order_dominance-implementation-step01): Get points on the cdfs to plot"
   ]
  },
  {
   "cell_type": "code",
   "execution_count": null,
   "metadata": {},
   "outputs": [],
   "source": [
    "# define x values for calculations\n",
    "llim = -1\n",
    "ulim = int(round(max(np.exp(mu_1+3*sigma_1), np.exp(mu_2+3*sigma_2))))\n",
    "n_grid = 601\n",
    "x_grid = np.linspace(llim, ulim, n_grid)\n",
    "\n",
    "# find cdfs for X_1 and X_2\n",
    "cdf_1 = stats.lognorm.cdf(x_grid, sigma_1, scale=np.exp(mu_1))\n",
    "cdf_2 = stats.lognorm.cdf(x_grid, sigma_2, scale=np.exp(mu_2))"
   ]
  },
  {
   "cell_type": "markdown",
   "metadata": {},
   "source": [
    "## [Step 2](https://www.arpm.co/lab/redirect.php?permalink=s_second_order_dominance-implementation-step02): Calculate integrated cdfs"
   ]
  },
  {
   "cell_type": "code",
   "execution_count": null,
   "metadata": {},
   "outputs": [],
   "source": [
    "# initialize output arrays\n",
    "cdf_integral_1 = np.zeros(n_grid)\n",
    "cdf_integral_2 = np.zeros(n_grid)\n",
    "\n",
    "# define the functions to be integrated (lognormal cdfs)\n",
    "cdf_fun_1 = lambda x: stats.lognorm.cdf(x, sigma_1, scale=np.exp(mu_1))\n",
    "cdf_fun_2 = lambda x: stats.lognorm.cdf(x, sigma_2, scale=np.exp(mu_2))\n",
    "\n",
    "# calculate the integral of the cdf for each point in x_grid\n",
    "for n in range(n_grid):\n",
    "    cdf_integral_1[n] = integrate.quad(cdf_fun_1, -np.Inf, x_grid[n])[0]\n",
    "    cdf_integral_2[n] = integrate.quad(cdf_fun_2, -np.Inf, x_grid[n])[0]"
   ]
  },
  {
   "cell_type": "markdown",
   "metadata": {},
   "source": [
    "## Plots"
   ]
  },
  {
   "cell_type": "code",
   "execution_count": null,
   "metadata": {},
   "outputs": [],
   "source": [
    "# set figure specifications\n",
    "plt.style.use('arpm')\n",
    "f, ax = plt.subplots(1, 2, figsize=(1280.0/72.0, 720.0/72.0), dpi=72.0)\n",
    "\n",
    "# cdf comparison\n",
    "plt.sca(ax[0])\n",
    "ax[0].set_xlim([0, 1])\n",
    "ax[0].set_ylim([llim, ulim])\n",
    "plt.plot(cdf_1, x_grid, lw=2, color='C0',\n",
    "         label=r'$F_{X_{1}}(x)$')\n",
    "plt.plot(cdf_2, x_grid, lw=2, color='C3',\n",
    "         label=r'$F_{X_{2}}(x)$')\n",
    "plt.title('cdf comparison', fontsize=20, fontweight='bold')\n",
    "plt.xlabel('cdf', fontsize=17)\n",
    "plt.ylabel(r'$x$', fontsize=15)\n",
    "plt.tick_params(axis='both', which='major', labelsize=14)\n",
    "plt.legend(fontsize=17, borderpad=0.5, labelspacing=0.5)\n",
    "\n",
    "# cdf integral comparison\n",
    "plt.sca(ax[1])\n",
    "ax[1].set_xlim([0, np.ceil(max(cdf_integral_1[-1], cdf_integral_2[-1]))])\n",
    "ax[1].set_ylim([llim, ulim])\n",
    "plt.plot(cdf_integral_1, x_grid, lw=2, color='C0',\n",
    "         label=r'$\\int_{-\\infty}^{x} F_{X_{1}}(s)ds$')\n",
    "plt.plot(cdf_integral_2, x_grid, lw=2, color='C3',\n",
    "         label=r'$\\int_{-\\infty}^{x} F_{X_{2}}(s)ds$')\n",
    "plt.title('cdf integrals comparison', fontsize=20, fontweight='bold')\n",
    "plt.xlabel('cdf integrals', fontsize=17)\n",
    "plt.ylabel(r'$x$', fontsize=15)\n",
    "plt.tick_params(axis='both', which='major', labelsize=14)\n",
    "plt.legend(fontsize=17, borderpad=0.5, labelspacing=0.5)\n",
    "\n",
    "plt.tight_layout()\n",
    "add_logo(f, location=4, set_fig_size=False)"
   ]
  }
 ],
 "metadata": {
  "jupytext": {
   "encoding": "# -*- coding: utf-8 -*-",
   "executable": "/usr/bin/env python3"
  },
  "kernelspec": {
   "display_name": "Python 3",
   "language": "python",
   "name": "python3"
  }
 },
 "nbformat": 4,
 "nbformat_minor": 4
}
