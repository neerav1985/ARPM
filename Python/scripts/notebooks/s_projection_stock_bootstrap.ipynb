{
 "cells": [
  {
   "cell_type": "markdown",
   "metadata": {},
   "source": [
    "# s_projection_stock_bootstrap [<img src=\"https://www.arpm.co/lab/icons/icon_permalink.png\" width=30 height=30 style=\"display: inline;\">](https://www.arpm.co/lab/redirect.php?code=s_projection_stock_bootstrap&codeLang=Python)\n",
    "For details, see [here](https://www.arpm.co/lab/redirect.php?permalink=s_projection_stock_bootstrap)."
   ]
  },
  {
   "cell_type": "code",
   "execution_count": null,
   "metadata": {},
   "outputs": [],
   "source": [
    "import numpy as np\n",
    "import pandas as pd\n",
    "import matplotlib.pyplot as plt\n",
    "\n",
    "from arpym.estimation.exp_decay_fp import exp_decay_fp\n",
    "from arpym.statistics.simulate_rw_hfp import simulate_rw_hfp\n",
    "from arpym.statistics.meancov_sp import meancov_sp\n",
    "from arpym.tools.histogram_sp import histogram_sp\n",
    "from arpym.tools.logo import add_logo"
   ]
  },
  {
   "cell_type": "markdown",
   "metadata": {},
   "source": [
    "## [Input parameters](https://www.arpm.co/lab/redirect.php?permalink=s_projection_stock_bootstrap-parameters)"
   ]
  },
  {
   "cell_type": "code",
   "execution_count": null,
   "metadata": {},
   "outputs": [],
   "source": [
    "stock = 'AMZN'  # S&P 500 company (ticker)\n",
    "t_ = 504  # length of the stock value time series\n",
    "tau_hl = 180  # half life (days)\n",
    "m_ = 10  # number of monitoring times\n",
    "j_ = 1000  # number of scenarios"
   ]
  },
  {
   "cell_type": "markdown",
   "metadata": {},
   "source": [
    "## [Step 0](https://www.arpm.co/lab/redirect.php?permalink=s_projection_stock_bootstrap-implementation-step00): Upload data"
   ]
  },
  {
   "cell_type": "code",
   "execution_count": null,
   "metadata": {},
   "outputs": [],
   "source": [
    "path = '~/databases/global-databases/equities/db_stocks_SP500/'\n",
    "df_stocks = pd.read_csv(path + 'db_stocks_sp.csv', skiprows=[0], index_col=0)\n",
    "\n",
    "# select data\n",
    "df_stocks = df_stocks[stock].tail(t_)\n"
   ]
  },
  {
   "cell_type": "markdown",
   "metadata": {},
   "source": [
    "## [Step 1](https://www.arpm.co/lab/redirect.php?permalink=s_projection_stock_bootstrap-implementation-step01): Compute risk driver"
   ]
  },
  {
   "cell_type": "code",
   "execution_count": null,
   "metadata": {},
   "outputs": [],
   "source": [
    "x = np.log(np.array(df_stocks))  # log-value"
   ]
  },
  {
   "cell_type": "markdown",
   "metadata": {},
   "source": [
    "## [Step 2](https://www.arpm.co/lab/redirect.php?permalink=s_projection_stock_bootstrap-implementation-step02): HFP distribution of the invariant"
   ]
  },
  {
   "cell_type": "code",
   "execution_count": null,
   "metadata": {},
   "outputs": [],
   "source": [
    "epsi = np.diff(x)  # historical scenarios\n",
    "p = exp_decay_fp(t_ - 1, tau_hl)  # probabilities"
   ]
  },
  {
   "cell_type": "markdown",
   "metadata": {},
   "source": [
    "## [Step 3](https://www.arpm.co/lab/redirect.php?permalink=s_projection_stock_bootstrap-implementation-step03): Generate scenarios of log-value via bootstrapping"
   ]
  },
  {
   "cell_type": "code",
   "execution_count": null,
   "metadata": {},
   "outputs": [],
   "source": [
    "x_tnow_thor = simulate_rw_hfp(x[-1].reshape(1), epsi, p, j_, m_).squeeze()"
   ]
  },
  {
   "cell_type": "markdown",
   "metadata": {},
   "source": [
    "## [Step 4](https://www.arpm.co/lab/redirect.php?permalink=s_projection_stock_bootstrap-implementation-step04): Evolution of expectation and standard deviation"
   ]
  },
  {
   "cell_type": "code",
   "execution_count": null,
   "metadata": {},
   "outputs": [],
   "source": [
    "mu_thor = np.zeros(m_ + 1)\n",
    "sig_thor = np.zeros(m_ + 1)\n",
    "for m in range(0, m_ + 1):\n",
    "    mu_thor[m], sig2_thor = meancov_sp(x_tnow_thor[:, m].reshape(-1, 1))\n",
    "    sig_thor[m] = np.sqrt(sig2_thor)"
   ]
  },
  {
   "cell_type": "markdown",
   "metadata": {},
   "source": [
    "## Plots"
   ]
  },
  {
   "cell_type": "code",
   "execution_count": null,
   "metadata": {},
   "outputs": [],
   "source": [
    "# preliminary settings\n",
    "plt.style.use('arpm')\n",
    "mydpi = 72.0\n",
    "lgrey = [0.8, 0.8, 0.8]  # light grey\n",
    "dgrey = [0.2, 0.2, 0.2]  # dark grey\n",
    "t_m = np.arange(0, m_ + 1)\n",
    "j_plot = 40  # number of paths to be plotted\n",
    "h, b = histogram_sp(x_tnow_thor[:, -1], k_=10 * np.log(j_))\n",
    "fig, ax = plt.subplots()\n",
    "ax.set_facecolor('white')\n",
    "# axis settings\n",
    "min_x = np.min([np.min(x_tnow_thor[:, :]) - 0.1,\n",
    "                mu_thor[-1] - 4 * sig_thor[-1]])\n",
    "max_x = np.max([np.max(x_tnow_thor[:, -1]) + 0.1,\n",
    "                mu_thor[-1] + 4 * sig_thor[-1]])\n",
    "plt.axis([t_m[0], t_m[-1] + np.max(h) * 0.2 + 0.03, min_x, max_x])\n",
    "plt.xlabel('time (days)')\n",
    "plt.ylabel('Log-value')\n",
    "plt.xticks(t_m)\n",
    "plt.yticks()\n",
    "plt.grid(False)\n",
    "plt.title('Projection of %s log-value' % (stock))\n",
    "\n",
    "# simulated paths\n",
    "plt.plot(t_m.reshape(-1, 1), x_tnow_thor[:j_plot, :].T, color=lgrey, lw=0.5)\n",
    "p_mu = plt.plot(t_m, mu_thor, color='g', label='expectation', lw=1)\n",
    "p_red_1 = plt.plot(t_m, mu_thor + 2 * sig_thor, label='+ / - 2 st.deviation',\n",
    "                   color='r', lw=1)\n",
    "p_red_2 = plt.plot(t_m, mu_thor - 2 * sig_thor, color='r', lw=1)\n",
    "\n",
    "# histogram at horizon\n",
    "h = h * 0.2  # adapt the hist height to the current xaxis scale\n",
    "emp_pdf = plt.barh(b, h, left=t_m[-1],\n",
    "                   height=b[1] - b[0], facecolor=lgrey,\n",
    "                   edgecolor=lgrey, label='horizon pdf')\n",
    "pdf_border = plt.plot(h + t_m[-1], b, color=dgrey, lw=1)\n",
    "plt.plot([t_m[-1], t_m[-1]], [b[0], b[-1]], color=dgrey, lw=0.5)\n",
    "\n",
    "# legend\n",
    "plt.legend()\n",
    "\n",
    "add_logo(fig)\n",
    "plt.tight_layout()"
   ]
  }
 ],
 "metadata": {
  "jupytext": {
   "encoding": "# -*- coding: utf-8 -*-",
   "executable": "/usr/bin/env python3"
  },
  "kernelspec": {
   "display_name": "Python 3",
   "language": "python",
   "name": "python3"
  }
 },
 "nbformat": 4,
 "nbformat_minor": 4
}
