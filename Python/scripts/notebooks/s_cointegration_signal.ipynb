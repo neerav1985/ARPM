{
 "cells": [
  {
   "cell_type": "markdown",
   "metadata": {},
   "source": [
    "# s_cointegration_signal [<img src=\"https://www.arpm.co/lab/icons/icon_permalink.png\" width=30 height=30 style=\"display: inline;\">](https://www.arpm.co/lab/redirect.php?code=s_cointegration_signal&codeLang=Python)\n",
    "For details, see [here](https://www.arpm.co/lab/redirect.php?permalink=eb-signals-cointegration)."
   ]
  },
  {
   "cell_type": "code",
   "execution_count": null,
   "metadata": {},
   "outputs": [],
   "source": [
    "import numpy as np\n",
    "import pandas as pd\n",
    "from pandas.plotting import register_matplotlib_converters\n",
    "register_matplotlib_converters()\n",
    "from datetime import datetime\n",
    "import matplotlib.pyplot as plt\n",
    "from matplotlib.ticker import FormatStrFormatter\n",
    "\n",
    "from arpym.estimation.cointegration_fp import cointegration_fp\n",
    "from arpym.estimation.fit_var1 import fit_var1\n",
    "from arpym.estimation.var2mvou import var2mvou\n",
    "from arpym.tools.trade_quote_processing import trade_quote_processing\n",
    "from arpym.tools.trade_quote_spreading import trade_quote_spreading\n",
    "from arpym.tools.logo import add_logo"
   ]
  },
  {
   "cell_type": "markdown",
   "metadata": {},
   "source": [
    "## [Input parameters](https://www.arpm.co/lab/redirect.php?permalink=s_cointegration_signal-parameters)"
   ]
  },
  {
   "cell_type": "code",
   "execution_count": null,
   "metadata": {},
   "outputs": [],
   "source": [
    "delta_a = 10000  # time binning"
   ]
  },
  {
   "cell_type": "markdown",
   "metadata": {},
   "source": [
    "## [Step 0](https://www.arpm.co/lab/redirect.php?permalink=s_cointegration_signal-implementation-step00): Load data"
   ]
  },
  {
   "cell_type": "code",
   "execution_count": null,
   "metadata": {},
   "outputs": [],
   "source": [
    "path = '~/databases/global-databases/high-frequency/db_stocks_highfreq/'\n",
    "\n",
    "AMZN_q = pd.read_csv(path + 'AMZN/quote.csv', index_col=0, parse_dates=True)\n",
    "AMZN_t = pd.read_csv(path + 'AMZN/trade.csv', index_col=0, parse_dates=True)\n",
    "\n",
    "GOOG_q = pd.read_csv(path + 'GOOG/quote.csv', index_col=0, parse_dates=True)\n",
    "GOOG_t = pd.read_csv(path + 'GOOG/trade.csv', index_col=0, parse_dates=True)\n",
    "\n",
    "# Amazon quotes\n",
    "t_A = np.array([pd.to_datetime(AMZN_q.index)[i].timestamp() for i\n",
    "                in range(len(AMZN_q.index))])\n",
    "dates_quotes_A = np.array(pd.to_datetime(AMZN_q.index).date)\n",
    "q_ask_A = AMZN_q['asksize'].values\n",
    "p_ask_A = AMZN_q['ask'].values\n",
    "q_bid_A = AMZN_q['bidsize'].values\n",
    "p_bid_A = AMZN_q['bid'].values\n",
    "# Amazon trades\n",
    "t_q_A = np.array([pd.to_datetime(AMZN_t.index)[i].timestamp() for i\n",
    "                  in range(len(AMZN_t.index))])\n",
    "dates_trades_A = np.array(pd.to_datetime(AMZN_t.index).date)\n",
    "p_last_A = AMZN_t['price'].values\n",
    "delta_q_A = AMZN_t['volume'].values\n",
    "delta_sgn_A = AMZN_t['sign'].values\n",
    "match_A = AMZN_t['match'].values\n",
    "\n",
    "# Google quotes\n",
    "t_G = np.array([pd.to_datetime(GOOG_q.index)[i].timestamp() for i\n",
    "                in range(len(GOOG_q.index))])\n",
    "dates_quotes_G = np.array(pd.to_datetime(GOOG_q.index).date)\n",
    "q_ask_G = GOOG_q['asksize'].values\n",
    "p_ask_G = GOOG_q['ask'].values\n",
    "q_bid_G = GOOG_q['bidsize'].values\n",
    "p_bid_G = GOOG_q['bid'].values\n",
    "# Google trades\n",
    "t_G_q = np.array([pd.to_datetime(GOOG_t.index)[i].timestamp() for i\n",
    "                  in range(len(GOOG_t.index))])\n",
    "dates_trades_G = np.array(pd.to_datetime(GOOG_t.index).date)\n",
    "p_last_G = GOOG_t['price'].values\n",
    "delta_q_G = GOOG_t['volume'].values\n",
    "delta_sgn_G = GOOG_t['sign'].values\n",
    "match_G = GOOG_t['match'].values"
   ]
  },
  {
   "cell_type": "markdown",
   "metadata": {},
   "source": [
    "## [Step 1](https://www.arpm.co/lab/redirect.php?permalink=s_cointegration_signal-implementation-step01): Process the database and compute cumulative volume for each stock"
   ]
  },
  {
   "cell_type": "code",
   "execution_count": null,
   "metadata": {},
   "outputs": [],
   "source": [
    "t_A_p, dates_quotes_A_p, q_ask_A_p, p_ask_A_p, q_bid_A_p, p_bid_A_p, t_A_n_p,\\\n",
    " dates_trades_A_p, p_last_A_p, delta_q_A_p, delta_sgn_A_p, _ = \\\n",
    " trade_quote_processing(t_A, dates_quotes_A, q_ask_A, p_ask_A, q_bid_A,\n",
    "                        p_bid_A, t_q_A, dates_trades_A, p_last_A, delta_q_A,\n",
    "                        delta_sgn_A, match_A)\n",
    "\n",
    "t_A_p = t_A_p.flatten()\n",
    "t_A_n_p = t_A_n_p.flatten()\n",
    "\n",
    "t_G_p, dates_quotes_G_p, q_ask_G_p, p_ask_G_p, q_bid_G_p, p_bid_G_p, t_G_n_p,\\\n",
    " dates_trades_G_p, p_last_G_p, delta_q_G_p, delta_sgn_G_p, _ = \\\n",
    " trade_quote_processing(t_G, dates_quotes_G, q_ask_G, p_ask_G, q_bid_G,\n",
    "                        p_bid_G, t_G_q, dates_trades_G, p_last_G, delta_q_G,\n",
    "                        delta_sgn_G, match_G)\n",
    "\n",
    "t_G_p = t_G_p.flatten()\n",
    "t_G_n_p = t_G_n_p.flatten()\n",
    "\n",
    "q_A_t = np.cumsum(delta_q_A_p)  # Amazon cumulative volume\n",
    "q_G_t = np.cumsum(delta_q_G_p)  # Google cumulative volume"
   ]
  },
  {
   "cell_type": "markdown",
   "metadata": {},
   "source": [
    "## [Step 2](https://www.arpm.co/lab/redirect.php?permalink=s_cointegration_signal-implementation-step02): Compute ask/bid sizes, prices, and cumulative volumes"
   ]
  },
  {
   "cell_type": "code",
   "execution_count": null,
   "metadata": {},
   "outputs": [],
   "source": [
    "time_vec_A = datetime.fromtimestamp(t_A_n_p[-1]) - \\\n",
    " datetime.fromtimestamp(t_A_n_p[0])\n",
    "# total length of time window expressed in wall-clock-time for Amazon stock\n",
    "ms_A = time_vec_A.seconds * 1000 + time_vec_A.microseconds / 1000\n",
    "# time window's wall-clock-time vector expressed in milliseconds, Amazon stock\n",
    "time_ms_A = np.linspace(t_A_n_p[0], t_A_n_p[-1], int(ms_A + 1))\n",
    "\n",
    "h_ask_A_t, p_ask_A_t, h_bid_A_t, p_bid_A_t, _, q_A_t, *_\\\n",
    " = trade_quote_spreading(time_ms_A, t_A_p, q_ask_A_p, p_ask_A_p,\n",
    "                         q_bid_A_p, p_bid_A_p, t_A_n_p, p_last_A_p,\n",
    "                         q_A_t, delta_sgn_A_p)\n",
    "\n",
    "time_vec_G = datetime.fromtimestamp(t_G_n_p[-1]) - \\\n",
    " datetime.fromtimestamp(t_G_n_p[0])\n",
    "# total length of time window expressed in wall-clock-time for Google stock\n",
    "ms_G = time_vec_G.seconds * 1000 + time_vec_G.microseconds / 1000\n",
    "# time window's wall-clock-time vector expressed in milliseconds. Google stock\n",
    "time_ms_G = np.linspace(t_G_n_p[0], t_G_n_p[-1], int(ms_G+1))\n",
    "\n",
    "h_ask_G_t, p_ask_G_t, h_bid_G_t, p_bid_G_t, _, q_G_t, *_\\\n",
    " = trade_quote_spreading(time_ms_G, t_G_p,\n",
    "                         q_ask_G_p, p_ask_G_p,\n",
    "                         q_bid_G_p, p_bid_G_p,\n",
    "                         t_G_n_p, p_last_G_p,\n",
    "                         q_G_t, delta_sgn_G_p)\n",
    "\n",
    "q_A_t = q_A_t.flatten()\n",
    "q_G_t = q_G_t.flatten()"
   ]
  },
  {
   "cell_type": "markdown",
   "metadata": {},
   "source": [
    "## [Step 3](https://www.arpm.co/lab/redirect.php?permalink=s_cointegration_signal-implementation-step03): Compute ask/bid sizes, prices in common wall clock-time, microprices, and common activity time"
   ]
  },
  {
   "cell_type": "code",
   "execution_count": null,
   "metadata": {},
   "outputs": [],
   "source": [
    "time_ms = np.intersect1d(time_ms_A, time_ms_G)\n",
    "i_A = np.argwhere(np.in1d(time_ms_A, time_ms) == 1).flatten()\n",
    "i_G = np.argwhere(np.in1d(time_ms_G, time_ms) == 1).flatten()\n",
    "\n",
    "h_ask_A_ct = h_ask_A_t[i_A]\n",
    "p_ask_A_ct = p_ask_A_t[i_A]\n",
    "h_bid_A_ct = h_bid_A_t[i_A]\n",
    "p_bid_A_ct = p_bid_A_t[i_A]\n",
    "\n",
    "h_ask_G_ct = h_ask_G_t[i_G]\n",
    "p_ask_G_ct = p_ask_G_t[i_G]\n",
    "h_bid_G_ct = h_bid_G_t[i_G]\n",
    "p_bid_G_ct = p_bid_G_t[i_G]\n",
    "\n",
    "# clock time microprice series\n",
    "p_mic_A_t = (p_bid_A_ct * h_ask_A_ct + p_ask_A_ct * h_bid_A_ct) /\\\n",
    " (h_ask_A_ct + h_bid_A_ct)\n",
    "\n",
    "p_mic_G_t = (p_bid_G_ct * h_ask_G_ct + p_ask_G_ct * h_bid_G_ct) /\\\n",
    " (h_ask_G_ct + h_bid_G_ct)\n",
    "\n",
    "# substitute the zeros entries in the cumulative volumes with the last nonzeros\n",
    "for i in np.where(q_A_t == 0)[0]:\n",
    "    q_A_t[i] = q_A_t[i - 1]\n",
    "\n",
    "for i in np.where(q_G_t == 0)[0]:\n",
    "    q_G_t[i] = q_G_t[i - 1]\n",
    "\n",
    "# cumulative volumes in common wall clock time\n",
    "q_A_t_c = q_A_t[i_A]\n",
    "q_G_t_c = q_G_t[i_G]\n",
    "\n",
    "sum_vol = q_A_t_c * p_mic_A_t + q_G_t_c * p_mic_G_t\n",
    "\n",
    "delta_a = 10000  # width of activity time bins\n",
    "amin = np.min(sum_vol)\n",
    "amax = np.max(sum_vol)\n",
    "a_t = np.arange(amin, amax + delta_a, delta_a)  # common activity time"
   ]
  },
  {
   "cell_type": "markdown",
   "metadata": {},
   "source": [
    "## [Step 4](https://www.arpm.co/lab/redirect.php?permalink=s_cointegration_signal-implementation-step04): Compute two stocks microprice series in common activity time"
   ]
  },
  {
   "cell_type": "code",
   "execution_count": null,
   "metadata": {},
   "outputs": [],
   "source": [
    "sum_vol_asc, indices = np.unique(sum_vol, return_index=True)\n",
    "\n",
    "p_mic_A_at = np.interp(a_t, sum_vol_asc, p_mic_A_t[indices])\n",
    "p_mic_G_at = np.interp(a_t, sum_vol_asc, p_mic_G_t[indices])"
   ]
  },
  {
   "cell_type": "markdown",
   "metadata": {},
   "source": [
    "## [Step 5](https://www.arpm.co/lab/redirect.php?permalink=s_cointegration_signal-implementation-step05): Calculate cointegrated vectors, cointegrated series y_t, fit an AR(1) model to the series y_t"
   ]
  },
  {
   "cell_type": "code",
   "execution_count": null,
   "metadata": {},
   "outputs": [],
   "source": [
    "x_t = np.r_['0,2', p_mic_A_at, p_mic_G_at].T\n",
    "c_hat, *_ = cointegration_fp(x_t)  # cointegrated vectors\n",
    "c = c_hat[:, 1]\n",
    "\n",
    "# cointegrated series corresponding to the second cointegration vector\n",
    "y_t = x_t @ c\n",
    "\n",
    "b_hat, mu_hat_epsi, sig2_hat_epsi = fit_var1(y_t)\n",
    "dt = p_mic_A_at.shape[0] / 100  # time steps\n",
    "theta, mu, sigma2 = var2mvou(b_hat, mu_hat_epsi, sig2_hat_epsi, dt)\n",
    "\n",
    "mu_infty = np.linalg.solve(theta, mu)  # long-run expectation\n",
    "sigma_infty = np.sqrt(sigma2 / (2 * theta))  # long-run standard deviation"
   ]
  },
  {
   "cell_type": "markdown",
   "metadata": {},
   "source": [
    "## [Step 6](https://www.arpm.co/lab/redirect.php?permalink=s_cointegration_signal-implementation-step06): Compute clock time corresponding to the cointegrated series in common activity time"
   ]
  },
  {
   "cell_type": "code",
   "execution_count": null,
   "metadata": {},
   "outputs": [],
   "source": [
    "t = np.interp(a_t, sum_vol_asc, time_ms[indices])"
   ]
  },
  {
   "cell_type": "markdown",
   "metadata": {},
   "source": [
    "## Plots"
   ]
  },
  {
   "cell_type": "code",
   "execution_count": null,
   "metadata": {},
   "outputs": [],
   "source": [
    "plt.style.use('arpm')\n",
    "\n",
    "# color settings\n",
    "orange = [.9, .3, .0]\n",
    "blue = [0, 0, .8]\n",
    "xtick = np.linspace(a_t[0], a_t[-1], 5)\n",
    "\n",
    "fig, ax = plt.subplots(2, 1)\n",
    "\n",
    "# microprice series in common volume-activity time\n",
    "plt.sca(ax[0])\n",
    "plt.title('Microprice series in common volume-activity time')\n",
    "plt.plot(a_t, p_mic_A_at, color=orange)\n",
    "plt.gca().xaxis.set_major_formatter(FormatStrFormatter('%.5e'))\n",
    "plt.xticks(xtick)\n",
    "plt.axis([amin, amax, np.min(p_mic_A_at), np.max(p_mic_A_at)])\n",
    "plt.yticks(np.linspace(np.min(p_mic_A_at), np.max(p_mic_A_at), 5))\n",
    "plt.xlabel('Common volume-activity time')\n",
    "plt.ylabel('Amazon microprice', color=orange)\n",
    "ax2 = ax[0].twinx()\n",
    "plt.plot(a_t, p_mic_G_at, color=blue)\n",
    "plt.axis([amin, amax, np.min(p_mic_G_at), np.max(p_mic_G_at)])\n",
    "plt.yticks(np.linspace(np.min(p_mic_G_at), np.max(p_mic_G_at), 5))\n",
    "plt.ylabel('Google microprice', color=blue)\n",
    "plt.grid(True)\n",
    "\n",
    "# cointegrated series in common activity time\n",
    "plt.sca(ax[1])\n",
    "plt.title('Cointegrated microprice series in common volume-activity time')\n",
    "plt.plot(a_t, y_t, color='k')\n",
    "plt.plot([amin, amax], np.tile(mu_infty, 2), label='Mean', color='g')\n",
    "plt. plot([amin, amax], np.tile(mu_infty + 2 * sigma_infty.squeeze(), 2),\n",
    "          label=' + / - 2 Std. deviation', color='r')\n",
    "plt.plot([amin, amax], np.tile(mu_infty - 2 * sigma_infty.squeeze(), 2),\n",
    "         color='r')\n",
    "plt.gca().xaxis.set_major_formatter(FormatStrFormatter('%.5e'))\n",
    "plt.xticks(xtick)\n",
    "plt.axis([amin, amax, np.min(y_t), np.max(y_t)])\n",
    "plt.yticks(np.linspace(np.min(y_t), np.max(y_t), 5))\n",
    "plt.xlabel('Common volume-activity time')\n",
    "plt.ylabel('Cointegrated series')\n",
    "plt.legend(loc=4)\n",
    "plt.grid(True)\n",
    "pos1 = ax[1].get_position()\n",
    "\n",
    "add_logo(fig, location=8)\n",
    "plt.tight_layout()\n",
    "\n",
    "# cointegrated series in clock time\n",
    "fig, ax = plt.subplots(figsize=(10, 4))\n",
    "plt.sca(ax)\n",
    "time_dt = np.array([datetime.fromtimestamp(a) for a in t])\n",
    "plt.title('Cointegrated microprice series in clock time')\n",
    "plt.plot(time_dt, y_t, color='k')\n",
    "plt.plot(time_dt, np.tile(mu_infty, len(t)),\n",
    "         label='Mean', color='g')\n",
    "plt.plot(time_dt, np.tile(mu_infty + 2*sigma_infty.squeeze(),\n",
    "                          len(t)),\n",
    "         label=' + / - 2 Std. deviation', color='r')\n",
    "plt.plot(time_dt, np.tile(mu_infty - 2*sigma_infty.squeeze(),\n",
    "                          len(t)), color='r')\n",
    "plt.axis([np.min(time_dt), np.max(time_dt), np.min(y_t), np.max(y_t)])\n",
    "plt.yticks(np.linspace(np.min(y_t), np.max(y_t), 5))\n",
    "plt.xlabel('Clock time')\n",
    "plt.ylabel('Cointegrated series')\n",
    "plt.legend(loc=4)\n",
    "plt.grid(True)\n",
    "plt.subplots_adjust(right=pos1.x0 + pos1.width)\n",
    "add_logo(fig, set_fig_size=False, location=8)\n",
    "plt.tight_layout()"
   ]
  }
 ],
 "metadata": {
  "jupytext": {
   "encoding": "# -*- coding: utf-8 -*-",
   "executable": "/usr/bin/env python3"
  },
  "kernelspec": {
   "display_name": "Python 3",
   "language": "python",
   "name": "python3"
  }
 },
 "nbformat": 4,
 "nbformat_minor": 4
}
