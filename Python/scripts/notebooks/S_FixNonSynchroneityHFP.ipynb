{
 "cells": [
  {
   "cell_type": "markdown",
   "metadata": {},
   "source": [
    "# S_FixNonSynchroneityHFP [<img src=\"https://www.arpm.co/lab/icons/icon_permalink.png\" width=30 height=30 style=\"display: inline;\">](https://www.arpm.co/lab/redirect.php?code=S_FixNonSynchroneityHFP&codeLang=Python)\n",
    "For details, see [here](https://www.arpm.co/lab/redirect.php?permalink=ExerHFPnonSync)."
   ]
  },
  {
   "cell_type": "markdown",
   "metadata": {},
   "source": [
    "## Prepare the environment"
   ]
  },
  {
   "cell_type": "code",
   "execution_count": null,
   "metadata": {},
   "outputs": [],
   "source": [
    "import os\n",
    "import os.path as path\n",
    "import sys\n",
    "\n",
    "sys.path.append(path.abspath('../../functions-legacy'))\n",
    "from collections import namedtuple\n",
    "\n",
    "import numpy as np\n",
    "from numpy import arange, array, ones, diff, diag, log, exp, sqrt, r_, zeros\n",
    "from numpy import sum as npsum\n",
    "\n",
    "from scipy.io import loadmat\n",
    "\n",
    "import matplotlib.pyplot as plt\n",
    "from matplotlib.pyplot import xlim, ylim, scatter, subplots, ylabel, \\\n",
    "    xlabel, title, xticks, yticks\n",
    "\n",
    "plt.style.use('seaborn')\n",
    "\n",
    "from CONFIG import GLOBAL_DB, TEMPORARY_DB\n",
    "from ARPM_utils import save_plot, struct_to_dict\n",
    "from FPmeancov import FPmeancov\n",
    "from intersect_matlab import intersect\n",
    "from MinRelEntFP import MinRelEntFP\n",
    "from EffectiveScenarios import EffectiveScenarios\n",
    "from Riccati import Riccati\n",
    "from ColorCodedFP import ColorCodedFP"
   ]
  },
  {
   "cell_type": "markdown",
   "metadata": {},
   "source": [
    "## Upload databases"
   ]
  },
  {
   "cell_type": "code",
   "execution_count": null,
   "metadata": {},
   "outputs": [],
   "source": [
    "try:\n",
    "    db = loadmat(os.path.join(GLOBAL_DB, 'db_Stocks'), squeeze_me=True)\n",
    "except FileNotFoundError:\n",
    "    db = loadmat(os.path.join(TEMPORARY_DB, 'db_Stocks'), squeeze_me=True)\n",
    "\n",
    "SPX = struct_to_dict(db['SPX'])\n",
    "KOSPI = struct_to_dict(db['KOSPI'])"
   ]
  },
  {
   "cell_type": "markdown",
   "metadata": {},
   "source": [
    "## Compute the log-prices and log-returns of the two indexes"
   ]
  },
  {
   "cell_type": "code",
   "execution_count": null,
   "metadata": {},
   "outputs": [],
   "source": [
    "# S&P 500 (US)\n",
    "NSprice = SPX.Price_close\n",
    "NSdate = SPX.Date\n",
    "\n",
    "# KOSPI (Korea)\n",
    "KSprice = KOSPI.Price_close\n",
    "KSdate = KOSPI.Date\n",
    "\n",
    "# merge dataset\n",
    "[dates, i1, i2] = intersect(NSdate, KSdate)\n",
    "ret1 = diff(log(NSprice[i1])).reshape(1,-1)\n",
    "ret2 = diff(log(KSprice[i2])).reshape(1,-1)\n",
    "\n",
    "t_ = 500\n",
    "ret1 = ret1[[0],- t_:]\n",
    "ret2 = ret2[[0],- t_:]\n",
    "dates = dates[-t_+1:]\n",
    "\n",
    "epsi = r_[ret1, ret2]"
   ]
  },
  {
   "cell_type": "markdown",
   "metadata": {},
   "source": [
    "## Flexible Probabilities"
   ]
  },
  {
   "cell_type": "code",
   "execution_count": null,
   "metadata": {},
   "outputs": [],
   "source": [
    "# flexible prob.\n",
    "lam = (log(2)) / 120  # half life 4 months\n",
    "flex_prob = exp(-lam*arange(t_, 1 + -1, -1)).reshape(1,-1)\n",
    "flex_prob = flex_prob / npsum(flex_prob)\n",
    "\n",
    "typ = namedtuple('typ', 'Entropy')\n",
    "typ.Entropy = 'Exp'\n",
    "ens = EffectiveScenarios(flex_prob, typ)"
   ]
  },
  {
   "cell_type": "markdown",
   "metadata": {},
   "source": [
    "## Twist fix for non-synchroneity in HFP"
   ]
  },
  {
   "cell_type": "code",
   "execution_count": null,
   "metadata": {},
   "outputs": [],
   "source": [
    "print('Performing the twist fix for non-synchroneity')\n",
    "# (step 1-2) HFP MEAN/COVARIANCE/CORRELATION\n",
    "HFPmu, HFPcov = FPmeancov(epsi, flex_prob)\n",
    "HFPc2 = np.diagflat(diag(HFPcov) ** (-1 / 2))@HFPcov@np.diagflat(diag(HFPcov) ** (-1 / 2))\n",
    "\n",
    "# (step 3) TARGET CORRELATIONS\n",
    "l = 10  # number of lags\n",
    "\n",
    "flex_prob_l = flex_prob[[0],l:]\n",
    "flex_prob_l = flex_prob_l / npsum(flex_prob_l)\n",
    "\n",
    "# concatenate the daily log-returns\n",
    "y1, y2 = zeros(t_),zeros(t_)\n",
    "for t in range(l,t_):\n",
    "    y1[t] = sum(ret1[0,t - l:t])\n",
    "    y2[t] = sum(ret2[0,t - l:t])\n",
    "\n",
    "y1 = y1[l:]\n",
    "y2 = y2[l:]\n",
    "\n",
    "# compute the correlation\n",
    "FPstd1 = sqrt(npsum(flex_prob_l * (y1 ** 2)))\n",
    "FPstd2 = sqrt(npsum(flex_prob_l * (y2 ** 2)))\n",
    "rho2 = npsum(flex_prob_l * y1 * y2) / (FPstd1*FPstd2)\n",
    "\n",
    "Target_rho2 = array([[1, rho2], [rho2, 1]])\n",
    "\n",
    "# (step 4) TARGET COVARIANCES\n",
    "TargetCOV = np.diagflat(diag(HFPcov) ** (1 / 2))@Target_rho2@np.diagflat(diag(HFPcov) ** (1 / 2))\n",
    "\n",
    "# (step 5) NEW SCENARIOS [Moment-matching scenario transformation]\n",
    "\n",
    "# (step 1 [MomMatch routine]) Twist factor\n",
    "b = Riccati(HFPcov, TargetCOV)\n",
    "\n",
    "# (step 2-3 [MomMatch routine]) Transform data\n",
    "new_epsi = b@epsi"
   ]
  },
  {
   "cell_type": "markdown",
   "metadata": {},
   "source": [
    "## Entropy pooling fix for non-synchroneity in HFP"
   ]
  },
  {
   "cell_type": "code",
   "execution_count": null,
   "metadata": {},
   "outputs": [],
   "source": [
    "print('Performing the Entropy Pooling fix for non-synchroneity')\n",
    "# (step 1-2-3-4 as above) Target covariance = Target_rho2\n",
    "\n",
    "# (step 5) NEW PROBABILITIES [Moment-matching via Entropy Pooling]\n",
    "\n",
    "# (step 1 [MomMatch routine]) Linear views\n",
    "Aeq = r_[ones((1, t_)), epsi, epsi ** 2, epsi[[0]] * epsi[[1]]]\n",
    "\n",
    "V1 = HFPmu\n",
    "V2 = TargetCOV + HFPmu@HFPmu.T\n",
    "beq = r_[array([[1]]),V1, array([[V2[0, 0]]]), array([[V2[1, 1]]]), array([[V2[0, 1]]])]\n",
    "\n",
    "# (step 2 [MomMatch routine]) New Flex. Probs.\n",
    "new_prob,_ = MinRelEntFP(flex_prob, None, None, Aeq, beq)"
   ]
  },
  {
   "cell_type": "markdown",
   "metadata": {},
   "source": [
    "## Figures"
   ]
  },
  {
   "cell_type": "code",
   "execution_count": null,
   "metadata": {},
   "outputs": [],
   "source": [
    "# scatter colors (Twist-fix plot)\n",
    "GreyRange = arange(0,0.83,10**-2)\n",
    "CM, C = ColorCodedFP(flex_prob, 0, 0.0006, GreyRange, 0, 25, [25, 0])\n",
    "\n",
    "for lag in [0,l]:\n",
    "    f,ax = subplots(1,2, figsize=(12,6))\n",
    "\n",
    "    # Twist fix for non-synchroneity\n",
    "    plt.sca(ax[0])\n",
    "    plt.axis('equal')\n",
    "    if lag == 0:\n",
    "        scatter(epsi[0], epsi[1], 5, c=C, marker='.',cmap=CM)\n",
    "    else:\n",
    "        scatter(new_epsi[0], new_epsi[1], 5, c=C, marker='.',cmap=CM)\n",
    "    xlim([-0.08, 0.08])\n",
    "    xticks(arange(-0.08,0.12,0.04))\n",
    "    yticks(arange(-0.08,0.12,0.04))\n",
    "    ylim([-0.08, 0.08])\n",
    "    xlabel('S&P 500')\n",
    "    ylabel('KOSPI')\n",
    "    title('Twist fix')\n",
    "\n",
    "    # Entropy Pooling fix for non-synchroneity in HFP\n",
    "    # scatter colors\n",
    "\n",
    "    plt.sca(ax[1])\n",
    "    plt.axis('equal')\n",
    "    if lag == 0:\n",
    "        scatter(epsi[0], epsi[1], 5, c=C, marker='.',cmap=CM)\n",
    "    else:\n",
    "        [_, col1] = ColorCodedFP(new_prob, 0, 0.0006, arange(0,0.8,0.01), 0, 25, [22, 0])\n",
    "        scatter(epsi[0], epsi[1], 5, c=col1, marker='.',cmap=CM)\n",
    "\n",
    "    xlim([-0.08, 0.08])\n",
    "    xticks(arange(-0.08,0.12,0.04))\n",
    "    yticks(arange(-0.08,0.12,0.04))\n",
    "    ylim([-0.08, 0.08])\n",
    "    xlabel('S&P 500')\n",
    "    ylabel('KOSPI')\n",
    "    title('Entropy Pooling fix')\n",
    "    plt.tight_layout()\n",
    "    if lag == 0:\n",
    "        Lag_string ='Overlap: 0 days'\n",
    "    else:\n",
    "        Lag_string = 'Overlap:  % 3.0f days'% l\n",
    "    plt.text(0, 0.105, Lag_string);\n",
    "    # save_plot(ax=plt.gca(), extension='png', scriptname=os.path.basename('.')[:-3], count=plt.get_fignums()[-1])\n",
    "plt.show()"
   ]
  }
 ],
 "metadata": {
  "jupytext": {
   "encoding": "# -*- coding: utf-8 -*-",
   "executable": "/usr/bin/env python3"
  },
  "kernelspec": {
   "display_name": "Python 3",
   "language": "python",
   "name": "python3"
  }
 },
 "nbformat": 4,
 "nbformat_minor": 4
}
