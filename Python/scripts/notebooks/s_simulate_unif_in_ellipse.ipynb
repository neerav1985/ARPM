{
 "cells": [
  {
   "cell_type": "markdown",
   "metadata": {},
   "source": [
    "# s_simulate_unif_in_ellipse [<img src=\"https://www.arpm.co/lab/icons/icon_permalink.png\" width=30 height=30 style=\"display: inline;\">](https://www.arpm.co/lab/redirect.php?code=s_simulate_unif_in_ellipse&codeLang=Python)\n",
    "For details, see [here](https://www.arpm.co/lab/redirect.php?permalink=eb-unif-inside-radial-mcex)."
   ]
  },
  {
   "cell_type": "code",
   "execution_count": null,
   "metadata": {},
   "outputs": [],
   "source": [
    "import numpy as np\n",
    "import matplotlib.pyplot as plt\n",
    "\n",
    "from arpym.tools.plot_ellipse import plot_ellipse\n",
    "from arpym.tools.logo import add_logo\n",
    "from arpym.statistics.simulate_unif_in_ellips import simulate_unif_in_ellips"
   ]
  },
  {
   "cell_type": "markdown",
   "metadata": {},
   "source": [
    "## [Input parameters](https://www.arpm.co/lab/redirect.php?permalink=s_simulate_unif_in_ellipse-parameters)"
   ]
  },
  {
   "cell_type": "code",
   "execution_count": null,
   "metadata": {},
   "outputs": [],
   "source": [
    "mu = np.array([4, 1])  # location of the ellipsoid\n",
    "sigma2 = np.array([[3, 1.5], [1.5, 1]])  # dispersion of the ellipsoid\n",
    "j_ = 1000  # number of scenarios"
   ]
  },
  {
   "cell_type": "markdown",
   "metadata": {},
   "source": [
    "## [Step 1](https://www.arpm.co/lab/redirect.php?permalink=s_simulate_unif_in_ellipse-implementation-step01): Generate scenarios"
   ]
  },
  {
   "cell_type": "code",
   "execution_count": null,
   "metadata": {},
   "outputs": [],
   "source": [
    "x, r, y = simulate_unif_in_ellips(mu, sigma2, j_)\n",
    "ry = r * y"
   ]
  },
  {
   "cell_type": "markdown",
   "metadata": {},
   "source": [
    "## Plots"
   ]
  },
  {
   "cell_type": "code",
   "execution_count": null,
   "metadata": {},
   "outputs": [],
   "source": [
    "plt.style.use('arpm')\n",
    "fig = plt.figure()\n",
    "\n",
    "# Unit circle\n",
    "unitcircle = plot_ellipse(np.zeros(2), np.eye(2), color='b', line_width=0.5)\n",
    "\n",
    "# Ellipse(mu, sigma2)\n",
    "ellipse, ellpoints, *_ = plot_ellipse(mu, sigma2, color='r', line_width=0.5)\n",
    "\n",
    "# Plot scenarios of the uniform component Y\n",
    "ply = plt.plot(y[:, 0], y[:, 1],\n",
    "               markersize=3, markerfacecolor='b', marker='o', linestyle='none',\n",
    "               label='$\\mathbf{Y}$: uniform on the unit circle')\n",
    "\n",
    "\n",
    "# Plot scenarios of the component RY\n",
    "plry = plt.plot(ry[:, 0], ry[:, 1],\n",
    "                markersize=3, markerfacecolor='g', marker='o',\n",
    "                linestyle='none',\n",
    "                label='$\\mathbf{RY}$: uniform inside the unit circle')\n",
    "\n",
    "# Plot scenarios of X\n",
    "plx = plt.plot(x[:, 0], x[:, 1],\n",
    "               markersize=3, markerfacecolor='r', marker='o', linestyle='none',\n",
    "               label='$\\mathbf{X}$: uniform inside an ellipse')\n",
    "\n",
    "plt.legend()\n",
    "plt.axis('equal')\n",
    "\n",
    "add_logo(fig)"
   ]
  }
 ],
 "metadata": {
  "jupytext": {
   "encoding": "# -*- coding: utf-8 -*-",
   "executable": "/usr/bin/env python3"
  },
  "kernelspec": {
   "display_name": "Python 3",
   "language": "python",
   "name": "python3"
  }
 },
 "nbformat": 4,
 "nbformat_minor": 4
}
