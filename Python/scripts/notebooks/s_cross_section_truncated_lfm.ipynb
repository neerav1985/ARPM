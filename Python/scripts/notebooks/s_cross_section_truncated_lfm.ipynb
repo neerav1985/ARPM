{
 "cells": [
  {
   "cell_type": "markdown",
   "metadata": {},
   "source": [
    "# s_cross_section_truncated_lfm [<img src=\"https://www.arpm.co/lab/icons/icon_permalink.png\" width=30 height=30 style=\"display: inline;\">](https://www.arpm.co/lab/redirect.php?code=s_cross_section_truncated_lfm&codeLang=Python)\n",
    "For details, see [here](https://www.arpm.co/lab/redirect.php?permalink=eb-trunc-cross-section)."
   ]
  },
  {
   "cell_type": "code",
   "execution_count": null,
   "metadata": {},
   "outputs": [],
   "source": [
    "import matplotlib.pyplot as plt\n",
    "from matplotlib.ticker import MaxNLocator\n",
    "import numpy as np\n",
    "import pandas as pd\n",
    "\n",
    "from arpym.estimation.cov_2_corr import cov_2_corr\n",
    "from arpym.statistics.meancov_sp import meancov_sp\n",
    "from arpym.tools.histogram_sp import histogram_sp\n",
    "from arpym.tools.logo import add_logo"
   ]
  },
  {
   "cell_type": "markdown",
   "metadata": {},
   "source": [
    "## [Input parameters](https://www.arpm.co/lab/redirect.php?permalink=s_cross_section_truncated_lfm-parameters)"
   ]
  },
  {
   "cell_type": "code",
   "execution_count": null,
   "metadata": {},
   "outputs": [],
   "source": [
    "long_idx = 200  # long stock index\n",
    "short_idx = 183  # short stock index"
   ]
  },
  {
   "cell_type": "markdown",
   "metadata": {},
   "source": [
    "## [Step 0](https://www.arpm.co/lab/redirect.php?permalink=s_cross_section_truncated_lfm-implementation-step00): Load data"
   ]
  },
  {
   "cell_type": "code",
   "execution_count": null,
   "metadata": {},
   "outputs": [],
   "source": [
    "path = '~/databases/global-databases/equities/db_stocks_SP500/'\n",
    "data = pd.read_csv(path + 'db_stocks_sp.csv', index_col=0, header=[0, 1],\n",
    "                   parse_dates=True)\n",
    "idx_sector = pd.read_csv(path + 'db_sector_idx.csv', index_col=0,\n",
    "                         parse_dates=True)\n",
    "idx_sector = idx_sector.drop(\"RealEstate\", axis=1)  # delete RealEstate\n",
    "\n",
    "dates = np.intersect1d(data.index, idx_sector.index)\n",
    "data = data.loc[dates]\n",
    "idx_sector = idx_sector.loc[dates]\n",
    "\n",
    "beta = [(data.columns.get_level_values(0)[i] == idx_sector.columns).astype(int)\n",
    "        for i in range(len(data.columns.get_level_values(1)))]\n",
    "beta = np.array(beta)\n",
    "t_ = len(dates)-1\n",
    "n_, k_ = beta.shape"
   ]
  },
  {
   "cell_type": "markdown",
   "metadata": {},
   "source": [
    "## [Step 1](https://www.arpm.co/lab/redirect.php?permalink=s_cross_section_truncated_lfm-implementation-step01): Compute linear returns of X and Z"
   ]
  },
  {
   "cell_type": "code",
   "execution_count": null,
   "metadata": {},
   "outputs": [],
   "source": [
    "v_stock = data.values\n",
    "x = (v_stock[1:, :] - v_stock[:-1, :]) / v_stock[:-1, :]\n",
    "v_sector = idx_sector.values\n",
    "z = (v_sector[1:, :] - v_sector[:-1, :]) / v_sector[:-1, :]"
   ]
  },
  {
   "cell_type": "markdown",
   "metadata": {},
   "source": [
    "## [Step 2](https://www.arpm.co/lab/redirect.php?permalink=s_cross_section_truncated_lfm-implementation-step02): Compute extraction matrix, projector matrix and shift parameter"
   ]
  },
  {
   "cell_type": "code",
   "execution_count": null,
   "metadata": {},
   "outputs": [],
   "source": [
    "mu_x, sig2_x = meancov_sp(x)\n",
    "beta_ = beta.T / np.diag(sig2_x)\n",
    "gamma = np.linalg.solve(beta_ @ beta, beta_)\n",
    "proj = beta @ gamma\n",
    "alpha_cs = mu_x - proj @ mu_x"
   ]
  },
  {
   "cell_type": "markdown",
   "metadata": {},
   "source": [
    "## [Step 3](https://www.arpm.co/lab/redirect.php?permalink=s_cross_section_truncated_lfm-implementation-step03): Compute cross-sectional factors and residuals"
   ]
  },
  {
   "cell_type": "code",
   "execution_count": null,
   "metadata": {},
   "outputs": [],
   "source": [
    "z_cs = x @ gamma.T\n",
    "u_cs = x - alpha_cs - z_cs @ beta.T"
   ]
  },
  {
   "cell_type": "markdown",
   "metadata": {},
   "source": [
    "## [Step 4](https://www.arpm.co/lab/redirect.php?permalink=s_cross_section_truncated_lfm-implementation-step04): Estimate correlations between exogenous and cross-sectional factors"
   ]
  },
  {
   "cell_type": "code",
   "execution_count": null,
   "metadata": {},
   "outputs": [],
   "source": [
    "_, sig2_zz = meancov_sp(np.hstack((z, z_cs)))\n",
    "c2_zz, _ = cov_2_corr(sig2_zz)  # joint correlation\n",
    "c_zz = np.diag(c2_zz[:k_, k_:])"
   ]
  },
  {
   "cell_type": "markdown",
   "metadata": {},
   "source": [
    "## [Step 5](https://www.arpm.co/lab/redirect.php?permalink=s_cross_section_truncated_lfm-implementation-step05): Compute the joint covariance and correlation"
   ]
  },
  {
   "cell_type": "code",
   "execution_count": null,
   "metadata": {},
   "outputs": [],
   "source": [
    "mu_uz, sig2_uz = meancov_sp(np.hstack((u_cs, z_cs)))\n",
    "sig2_u = sig2_uz[:n_, :n_]\n",
    "sig2_z = sig2_uz[n_:, n_:]\n",
    "\n",
    "c2_uz, _ = cov_2_corr(sig2_uz)\n",
    "c_uz = c2_uz[:n_, n_:]\n",
    "c2_u = np.tril(c2_uz[:n_, :n_], -1)"
   ]
  },
  {
   "cell_type": "markdown",
   "metadata": {},
   "source": [
    "## [Step 6](https://www.arpm.co/lab/redirect.php?permalink=s_cross_section_truncated_lfm-implementation-step06): Compute the risk premia"
   ]
  },
  {
   "cell_type": "code",
   "execution_count": null,
   "metadata": {},
   "outputs": [],
   "source": [
    "alpha_hat = mu_x\n",
    "lambda_hat = gamma @ mu_x"
   ]
  },
  {
   "cell_type": "markdown",
   "metadata": {},
   "source": [
    "## [Step 7](https://www.arpm.co/lab/redirect.php?permalink=s_cross_section_truncated_lfm-implementation-step07): Compute standard deviations of two portfolios"
   ]
  },
  {
   "cell_type": "code",
   "execution_count": null,
   "metadata": {},
   "outputs": [],
   "source": [
    "w_1 = np.ones(n_) / n_  # equal weight portfolio\n",
    "w_2 = np.zeros(n_)  # long short portfolio\n",
    "w_2[long_idx] = 2\n",
    "w_2[short_idx] = -1\n",
    "\n",
    "sig2_x_trunc = beta @ sig2_z @ beta.T + np.diag(np.diag(sig2_u))\n",
    "\n",
    "std_1 = np.sqrt(w_1.T @ sig2_x @ w_1)\n",
    "std_trunc_1 = np.sqrt(w_1.T @ sig2_x_trunc @ w_1)\n",
    "\n",
    "std_2 = np.sqrt(w_2.T @ sig2_x @ w_2)\n",
    "std_trunc_2 = np.sqrt(w_2.T @ sig2_x_trunc @ w_2)"
   ]
  },
  {
   "cell_type": "markdown",
   "metadata": {},
   "source": [
    "## Plots"
   ]
  },
  {
   "cell_type": "code",
   "execution_count": null,
   "metadata": {
    "lines_to_next_cell": 0
   },
   "outputs": [],
   "source": [
    "plt.style.use('arpm')\n",
    "\n",
    "# (untruncated) correlations among residuals\n",
    "\n",
    "mydpi = 72.0\n",
    "fig1 = plt.figure(figsize=(1280.0/mydpi,720.0/mydpi),dpi=mydpi)\n",
    "ax0 = plt.axes([0.595, 0.83, 0.92, 0.45])\n",
    "ax0.plot(c2_u.mean(),0,'ro')\n",
    "plt.xlim(-0.6, 1.6)\n",
    "plt.ylim(0, 5)\n",
    "f, xi = histogram_sp(c2_u[np.nonzero(c2_u)])\n",
    "plt.bar(xi, f, width=xi[1]-xi[0], facecolor=[.7, .7, .7], edgecolor='k')\n",
    "plt.text(0.3, 4.3, r'$\\mathbb{C}$' + r'$r$' + r'$\\{U_m, U_n\\}$',\n",
    "         fontsize=20)\n",
    "plt.xlabel(r'Correlation values', fontsize=17)\n",
    "plt.ylabel(r'Frequencies', fontsize=17)\n",
    "ax0.yaxis.set_major_locator(MaxNLocator(integer=True))\n",
    "\n",
    "c2_x, _ = cov_2_corr(sig2_x)\n",
    "c2_x = np.tril(c2_x[:n_, :n_], -1)\n",
    "corr_x = c2_x[np.nonzero(c2_x)]  # reshape the correlations\n",
    "n, xout = histogram_sp(corr_x)\n",
    "\n",
    "ax1 = plt.axes([0.595, 0.3, 0.92, 0.45])\n",
    "plt.xlim(-0.6, 1.6)\n",
    "plt.ylim(0, 4)\n",
    "ax1.plot(corr_x.mean(),0,'ro')\n",
    "ax1.axes.get_xaxis().set_ticks([])\n",
    "ax1.bar(xout, n, width=xout[1]-xout[0], facecolor=[.7, .7, .7], edgecolor='k')\n",
    "plt.ylabel(r'Frequencies', fontsize=17)\n",
    "plt.gca().invert_yaxis()\n",
    "plt.text(0.6, 3.8, r'$\\mathbb{C}$' + r'$r$' + r'$\\{X_{m,t}, X_{n,t}\\}$',\n",
    "         fontsize=20)\n",
    "ax1.yaxis.set_major_locator(MaxNLocator(integer=True))\n",
    "\n",
    "add_logo(fig1, location=4)\n",
    "plt.tight_layout()\n",
    "\n",
    "\n",
    "# (untruncated) correlations between factors and residuals\n",
    "fig2 = plt.figure()\n",
    "f, xi = histogram_sp(c_uz.reshape((n_*k_,)))\n",
    "plt.bar(xi, f, width=xi[1]-xi[0], facecolor=[.7, .7, .7], edgecolor='k')\n",
    "plt.title('Correlations between factors residuals')\n",
    "add_logo(fig2, location=1)\n",
    "\n",
    "plt.tight_layout()"
   ]
  },
  {
   "cell_type": "code",
   "execution_count": null,
   "metadata": {
    "lines_to_next_cell": 2
   },
   "outputs": [],
   "source": []
  }
 ],
 "metadata": {
  "jupytext": {
   "encoding": "# -*- coding: utf-8 -*-",
   "executable": "/usr/bin/env python3"
  },
  "kernelspec": {
   "display_name": "Python 3",
   "language": "python",
   "name": "python3"
  }
 },
 "nbformat": 4,
 "nbformat_minor": 4
}
