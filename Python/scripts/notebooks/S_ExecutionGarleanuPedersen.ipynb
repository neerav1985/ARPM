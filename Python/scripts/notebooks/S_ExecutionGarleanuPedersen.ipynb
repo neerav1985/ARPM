{
 "cells": [
  {
   "cell_type": "markdown",
   "metadata": {},
   "source": [
    "# S_ExecutionGarleanuPedersen [<img src=\"https://www.arpm.co/lab/icons/icon_permalink.png\" width=30 height=30 style=\"display: inline;\">](https://www.arpm.co/lab/redirect.php?code=S_ExecutionGarleanuPedersen&codeLang=Python)\n",
    "For details, see [here](https://www.arpm.co/lab/redirect.php?permalink=eb-trajectories_-garleanu-pedersen)."
   ]
  },
  {
   "cell_type": "markdown",
   "metadata": {},
   "source": [
    "## Prepare the environment"
   ]
  },
  {
   "cell_type": "code",
   "execution_count": null,
   "metadata": {},
   "outputs": [],
   "source": [
    "import os\n",
    "import os.path as path\n",
    "import sys\n",
    "\n",
    "from matplotlib.ticker import FormatStrFormatter\n",
    "\n",
    "sys.path.append(path.abspath('../../functions-legacy'))\n",
    "\n",
    "from numpy import arange, array\n",
    "\n",
    "import matplotlib.pyplot as plt\n",
    "from matplotlib.pyplot import figure, plot, legend, ylabel, \\\n",
    "    xlabel, title, xticks\n",
    "\n",
    "plt.style.use('seaborn')\n",
    "\n",
    "from ARPM_utils import save_plot\n",
    "from SolveGarleanuPedersen import SolveGarleanuPedersen\n",
    "\n",
    "# parameters\n",
    "s = 3  # number of traded assets\n",
    "k = 2  # number of predicting factors\n",
    "h_0 = array([10 ** 5, 10 ** 5, 10 ** 5])  # initial holdings\n",
    "a_end = 5  # trading days\n",
    "n = 20  # total number of trades\n",
    "da = a_end / n  # time interval\n",
    "b = array([[10.32, 122.34], [145.22, 12.7], [9.3, 100.45]])  # component of the alpha term (together with the trading factors f)\n",
    "sigma = array([[-1.12, 1, 0.98], [- 1, - 1.40, 1.10], [0.98, - 1.10, 1.50]])  # price variance matrix\n",
    "omega = sigma@sigma.T\n",
    "delta = array([[0.12], [0.1]])  # factors variance\n",
    "Phi2 = array([[0.0064, 0.0180], [0.0180, 0.0517]])  # factors mean reversion\n",
    "phi2 = array([[0.15, 0.12, 0.3], [0.12, 0.34, 0.45], [0.3, 0.4, 0.98]])  # matrix appearing in the linear market impact\n",
    "y = 7*10 ** (-5)  # interest rate\n",
    "lam = 0.02  # risk aversion coefficient"
   ]
  },
  {
   "cell_type": "markdown",
   "metadata": {},
   "source": [
    "## Compute the optimal trading trajectory of the Garleanu-Pedersen model by\n",
    "## using function SolveGarleanuPedersen"
   ]
  },
  {
   "cell_type": "code",
   "execution_count": null,
   "metadata": {},
   "outputs": [],
   "source": [
    "epsilon = 0.01  # discretization increment\n",
    "h = SolveGarleanuPedersen(n, s, k, epsilon, y, lam, omega, phi2, Phi2, delta, b, h_0)"
   ]
  },
  {
   "cell_type": "markdown",
   "metadata": {},
   "source": [
    "## Plot the optimal trading trajectories of the three assets."
   ]
  },
  {
   "cell_type": "code",
   "execution_count": null,
   "metadata": {},
   "outputs": [],
   "source": [
    "figure()\n",
    "\n",
    "plt.axis([0, 5, 10 ** 5 - 2000, 10 ** 5 + 1500])\n",
    "a_grid = arange(0,a_end+da,da)\n",
    "xticks(a_grid)\n",
    "plt.gca().xaxis.set_major_formatter(FormatStrFormatter('%g'))\n",
    "xlabel('Time periods')\n",
    "ylabel('Share holdings')\n",
    "title('Optimal trajectories in the Garleanu-Pedersen model')\n",
    "\n",
    "p1 = plot(a_grid, h[0], color='b', marker = '.',markersize=15)\n",
    "p2 = plot(a_grid, h[1], color='r', marker = '.',markersize=15)\n",
    "p3 = plot(a_grid, h[2], color ='k', marker = '.',markersize=15)\n",
    "legend(['first asset','second asset','third asset']);\n",
    "plt.show()\n",
    "# save_plot(ax=plt.gca(), extension='png', scriptname=os.path.basename('.')[:-3], count=plt.get_fignums()[-1])"
   ]
  }
 ],
 "metadata": {
  "jupytext": {
   "encoding": "# -*- coding: utf-8 -*-",
   "executable": "/usr/bin/env python3"
  },
  "kernelspec": {
   "display_name": "Python 3",
   "language": "python",
   "name": "python3"
  }
 },
 "nbformat": 4,
 "nbformat_minor": 4
}
