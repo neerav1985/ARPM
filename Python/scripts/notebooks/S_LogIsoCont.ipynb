{
 "cells": [
  {
   "cell_type": "markdown",
   "metadata": {},
   "source": [
    "# S_LogIsoCont [<img src=\"https://www.arpm.co/lab/icons/icon_permalink.png\" width=30 height=30 style=\"display: inline;\">](https://www.arpm.co/lab/redirect.php?code=S_LogIsoCont&codeLang=Python)\n",
    "For details, see [here](https://www.arpm.co/lab/redirect.php?permalink=ExLogNIsoContour)."
   ]
  },
  {
   "cell_type": "markdown",
   "metadata": {},
   "source": [
    "## Prepare the environment"
   ]
  },
  {
   "cell_type": "code",
   "execution_count": null,
   "metadata": {},
   "outputs": [],
   "source": [
    "import os\n",
    "import os.path as path\n",
    "import sys\n",
    "\n",
    "sys.path.append(path.abspath('../../functions-legacy'))\n",
    "\n",
    "import numpy as np\n",
    "from numpy import arange, array, zeros, pi, eye, log, exp, sqrt, \\\n",
    "    r_\n",
    "from numpy import min as npmin, max as npmax\n",
    "from numpy.linalg import solve, det\n",
    "from numpy.random import multivariate_normal as mvnrnd\n",
    "\n",
    "import matplotlib.pyplot as plt\n",
    "from matplotlib.pyplot import scatter, ylabel, \\\n",
    "    xlabel\n",
    "\n",
    "plt.style.use('seaborn')\n",
    "\n",
    "from ARPM_utils import save_plot\n",
    "\n",
    "# parameters\n",
    "mu = array([[0.8], [0.8]])\n",
    "sigma2 = array([[1.2, 0], [0, 1]])\n",
    "j_ = 40000  # number of simulations"
   ]
  },
  {
   "cell_type": "markdown",
   "metadata": {},
   "source": [
    "## Generate the bivariate lognormal simulations"
   ]
  },
  {
   "cell_type": "code",
   "execution_count": null,
   "metadata": {},
   "outputs": [],
   "source": [
    "X = mvnrnd(mu.flatten(), sigma2, j_)\n",
    "Y = exp(X)"
   ]
  },
  {
   "cell_type": "markdown",
   "metadata": {},
   "source": [
    "## Select an equispaced grid and compute the lognormal pdf"
   ]
  },
  {
   "cell_type": "code",
   "execution_count": null,
   "metadata": {},
   "outputs": [],
   "source": [
    "x1 = arange(0.01,7,0.1)\n",
    "x2 = arange(0.01,7,0.1)\n",
    "X1, X2 = np.meshgrid(x1, x2)\n",
    "lX1 = log(X1)\n",
    "lX2 = log(X2)\n",
    "z = r_[lX2.flatten()[np.newaxis,...], lX1.flatten()[np.newaxis,...]]\n",
    "s = len(x1)*len(x2)\n",
    "f = zeros(s)\n",
    "for i in range(s):\n",
    "    f[i] = exp(-1 /2 *((z[:,[i]]-mu).T)@solve(sigma2,eye(sigma2.shape[0]))@(z[:, [i]]-mu))/(2*pi*sqrt(det(sigma2))*(X1.flatten()[i]*X2.flatten()[i]))\n",
    "\n",
    "f = np.reshape(f, (len(x2), len(x1)), order='F')"
   ]
  },
  {
   "cell_type": "markdown",
   "metadata": {},
   "source": [
    "## Display the iso-contours and the scatter plot of the corresponding sample"
   ]
  },
  {
   "cell_type": "code",
   "execution_count": null,
   "metadata": {},
   "outputs": [],
   "source": [
    "plt.contour(X1, X2, f, arange(0.01, 0.03,0.005), colors='b',lw=1.5)\n",
    "scatter(Y[:, 0], Y[:, 1], 1, [.3, .3, .3], '.')\n",
    "plt.axis([npmin(x1), npmax(x1),npmin(x2), npmax(x2)])\n",
    "xlabel(r'$x_1$')\n",
    "ylabel(r'$x_2$');\n",
    "# save_plot(ax=plt.gca(), extension='png', scriptname=os.path.basename('.')[:-3], count=plt.get_fignums()[-1])"
   ]
  }
 ],
 "metadata": {
  "jupytext": {
   "encoding": "# -*- coding: utf-8 -*-",
   "executable": "/usr/bin/env python3"
  },
  "kernelspec": {
   "display_name": "Python 3",
   "language": "python",
   "name": "python3"
  }
 },
 "nbformat": 4,
 "nbformat_minor": 4
}
