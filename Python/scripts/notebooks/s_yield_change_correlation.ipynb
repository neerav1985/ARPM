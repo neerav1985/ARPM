{
 "cells": [
  {
   "cell_type": "markdown",
   "metadata": {},
   "source": [
    "# s_yield_change_correlation [<img src=\"https://www.arpm.co/lab/icons/icon_permalink.png\" width=30 height=30 style=\"display: inline;\">](https://www.arpm.co/lab/redirect.php?code=s_yield_change_correlation&codeLang=Python)\n",
    "For details, see [here](https://www.arpm.co/lab/redirect.php?permalink=s_yield_change_correlation)."
   ]
  },
  {
   "cell_type": "code",
   "execution_count": null,
   "metadata": {},
   "outputs": [],
   "source": [
    "import pandas as pd\n",
    "import numpy as np\n",
    "import matplotlib as mpl\n",
    "import matplotlib.pyplot as plt\n",
    "from mpl_toolkits.mplot3d import Axes3D\n",
    "from mpl_toolkits.mplot3d import Axes3D\n",
    "import matplotlib.gridspec as gridspec\n",
    "from pandas.plotting import register_matplotlib_converters\n",
    "register_matplotlib_converters()\n",
    "\n",
    "from arpym.statistics.meancov_sp import meancov_sp\n",
    "from arpym.estimation.cov_2_corr import cov_2_corr\n",
    "from arpym.estimation.min_corr_toeplitz import min_corr_toeplitz\n",
    "from arpym.tools.logo import add_logo\n",
    "from arpym.tools.plot_ellipse import plot_ellipse"
   ]
  },
  {
   "cell_type": "markdown",
   "metadata": {},
   "source": [
    "## [Input parameters](https://www.arpm.co/lab/redirect.php?permalink=s_yield_change_correlation-parameters)"
   ]
  },
  {
   "cell_type": "code",
   "execution_count": null,
   "metadata": {},
   "outputs": [],
   "source": [
    "tau = np.arange(2, 10.25, 0.25) #  times to maturity"
   ]
  },
  {
   "cell_type": "markdown",
   "metadata": {},
   "source": [
    "## [Step 0](https://www.arpm.co/lab/redirect.php?permalink=s_yield_change_correlation-implementation-step00): Import data from database"
   ]
  },
  {
   "cell_type": "code",
   "execution_count": null,
   "metadata": {},
   "outputs": [],
   "source": [
    "path = '~/databases/global-databases/fixed-income/db_yields/'\n",
    "df = pd.read_csv(path + 'data.csv', index_col=0)\n",
    "y = np.array(df.loc[:, tau.astype('str')])\n",
    "y = y[1800:, ]  # remove missing data\n",
    "fx_df = pd.read_csv(path + 'data.csv', usecols=['dates'],\n",
    "                    parse_dates=['dates'])\n",
    "fx_df = fx_df[1801:]"
   ]
  },
  {
   "cell_type": "markdown",
   "metadata": {},
   "source": [
    "## [Step 1](https://www.arpm.co/lab/redirect.php?permalink=s_yield_change_correlation-implementation-step01): Compute invariants"
   ]
  },
  {
   "cell_type": "code",
   "execution_count": null,
   "metadata": {},
   "outputs": [],
   "source": [
    "x = np.diff(y, n=1, axis=0)\n",
    "t_, n_ = x.shape"
   ]
  },
  {
   "cell_type": "markdown",
   "metadata": {},
   "source": [
    "## [Step 2](https://www.arpm.co/lab/redirect.php?permalink=s_yield_change_correlation-implementation-step02): Compute HFP mean, covariance, correlation and vector of standard deviations"
   ]
  },
  {
   "cell_type": "code",
   "execution_count": null,
   "metadata": {},
   "outputs": [],
   "source": [
    "m_hat_HFP_x, s2_hat_HFP_x = meancov_sp(x)\n",
    "c2_HFP_x, s_vec = cov_2_corr(s2_hat_HFP_x)"
   ]
  },
  {
   "cell_type": "markdown",
   "metadata": {},
   "source": [
    "## [Step 3](https://www.arpm.co/lab/redirect.php?permalink=s_yield_change_correlation-implementation-step03): Fit and compute the Toeplitz cross-diagonal form"
   ]
  },
  {
   "cell_type": "code",
   "execution_count": null,
   "metadata": {},
   "outputs": [],
   "source": [
    "c2_star, gamma_star = min_corr_toeplitz(c2_HFP_x, tau)"
   ]
  },
  {
   "cell_type": "markdown",
   "metadata": {},
   "source": [
    "## [Step 4](https://www.arpm.co/lab/redirect.php?permalink=s_yield_change_correlation-implementation-step04): Save the data"
   ]
  },
  {
   "cell_type": "code",
   "execution_count": null,
   "metadata": {},
   "outputs": [],
   "source": [
    "output = {\n",
    "          'tau': pd.Series(tau),\n",
    "          'n_': pd.Series(x.shape[1]),\n",
    "          'gamma_star': pd.Series(gamma_star),\n",
    "          'm_hat_HFP_x': pd.Series(m_hat_HFP_x),\n",
    "          's2_hat_HFP_x': pd.Series((s2_hat_HFP_x.reshape(-1))),\n",
    "          's_vec': pd.Series(s_vec),\n",
    "          }\n",
    "\n",
    "df = pd.DataFrame(output)\n",
    "df.to_csv('~/databases/temporary-databases/db_pca_yield_tools.csv')\n",
    "\n",
    "output = {\n",
    "          'y': pd.Series((y.reshape(-1))),\n",
    "          'l_': pd.Series(t_+1),\n",
    "          }\n",
    "\n",
    "df = pd.DataFrame(output)\n",
    "df.to_csv('~/databases/temporary-databases/db_pca_yield_data.csv')"
   ]
  },
  {
   "cell_type": "markdown",
   "metadata": {},
   "source": [
    "## Plots"
   ]
  },
  {
   "cell_type": "code",
   "execution_count": null,
   "metadata": {},
   "outputs": [],
   "source": [
    "plt.style.use('arpm')\n",
    "tau_vec = np.arange(5, 10.25, 0.5)\n",
    "mydpi = 72.0\n",
    "f = plt.figure(figsize=(1280.0/mydpi, 720.0/mydpi), dpi=mydpi)\n",
    "\n",
    "gs = gridspec.GridSpec(2, 6)\n",
    "ticks = [-6, -3, 0, 3, 6]\n",
    "lim = [-6.1, 6.1]\n",
    "\n",
    "ax11 = plt.subplot(gs[0, :2])\n",
    "colormap = plt.cm.gist_gray\n",
    "plt.gca().set_prop_cycle(color=[colormap(i) for i in np.linspace(0, 0.5, 3)])\n",
    "plt.scatter(x[:, 4]/np.std(x[:, 4]), x[:, 5]/np.std(x[:, 5]), s=0.5, label='5 vs 6 yrs')\n",
    "m, s2 = meancov_sp(np.c_[x[:, 4]/np.std(x[:, 4]), x[:, 5]/np.std(x[:, 5])])\n",
    "plot_ellipse(m, s2, r=2, color='r')\n",
    "plt.legend(loc='lower right')\n",
    "plt.xlim(lim)\n",
    "plt.xticks(ticks)\n",
    "plt.yticks(ticks)\n",
    "plt.ylim(lim)\n",
    "ax11.set_aspect('equal', 'box')\n",
    "\n",
    "ax12 = plt.subplot(gs[0, 2:4])\n",
    "colormap = plt.cm.gist_gray\n",
    "plt.gca().set_prop_cycle(color=[colormap(i) for i in np.linspace(0, 0.5, 3)])\n",
    "plt.scatter(x[:, 5]/np.std(x[:, 5]), x[:, 6]/np.std(x[:, 6]), s=0.5, label='6 vs 7 yrs')\n",
    "m, s2 = meancov_sp(np.c_[x[:, 5]/np.std(x[:, 5]), x[:, 6]/np.std(x[:, 6])])\n",
    "plot_ellipse(m, s2, r=2, color='r')\n",
    "plt.legend(loc='lower right')\n",
    "plt.xlim(lim)\n",
    "plt.xticks(ticks)\n",
    "plt.yticks(ticks)\n",
    "plt.ylim(lim)\n",
    "ax12.set_aspect('equal', 'box')\n",
    "ax12.set_title('Normalized yield changes')\n",
    "\n",
    "ax13 = plt.subplot(gs[0, 4:])\n",
    "colormap = plt.cm.gist_gray\n",
    "plt.gca().set_prop_cycle(color=[colormap(i) for i in np.linspace(0, 0.5, 3)])\n",
    "plt.scatter(x[:, 4]/np.std(x[:, 4]), x[:, 9]/np.std(x[:, 9]), s=0.5, label='5 vs 10 yrs')\n",
    "m, s2 = meancov_sp(np.c_[x[:, 4]/np.std(x[:, 4]), x[:, 9]/np.std(x[:, 9])])\n",
    "plot_ellipse(m, s2, r=2, color='r')\n",
    "plt.legend(loc='lower right')\n",
    "plt.xlim(lim)\n",
    "plt.xticks(ticks)\n",
    "plt.yticks(ticks)\n",
    "plt.ylim(lim)\n",
    "ax13.set_aspect('equal', 'box')\n",
    "\n",
    "cmap = mpl.cm.YlGnBu\n",
    "mincorr = min(np.min(c2_HFP_x[:len(tau_vec), :len(tau_vec)]),\n",
    "              np.min(c2_star[:len(tau_vec), :len(tau_vec)]))\n",
    "\n",
    "mincorr = 0.5\n",
    "\n",
    "ax2 = plt.subplot(gs[1, :3], projection='3d')\n",
    "X, Y = np.meshgrid(np.arange(len(tau_vec)), np.arange(len(tau_vec)))\n",
    "im1 = ax2.plot_surface(X, Y, c2_HFP_x[:len(tau_vec), :len(tau_vec)], cmap=cmap,\n",
    "                       vmin=mincorr, vmax=1)\n",
    "plt.yticks(np.arange(len(tau_vec)), tau_vec)\n",
    "plt.xticks(np.arange(len(tau_vec)), tau_vec)\n",
    "ax2.set_zlim([mincorr, 1])\n",
    "ax2.set_title('Empirical correlation')\n",
    "ax2.set_xlabel('yrs')\n",
    "ax2.set_ylabel('yrs')\n",
    "ax2.view_init(azim=60)\n",
    "\n",
    "ax3 = plt.subplot(gs[1, 3:], projection='3d')\n",
    "im2 = ax3.plot_surface(X, Y, c2_star[:len(tau_vec), :len(tau_vec)], cmap=cmap, vmin=mincorr, vmax=1)\n",
    "plt.colorbar(im2, fraction=0.046, pad=0.04, ticks=[mincorr, 1])\n",
    "plt.yticks(np.arange(len(tau_vec)), tau_vec)\n",
    "plt.xticks(np.arange(len(tau_vec)), tau_vec)\n",
    "ax3.set_zlim([mincorr, 1])\n",
    "ax3.set_title('Fitted correlation')\n",
    "ax3.set_xlabel('yrs')\n",
    "ax3.set_ylabel('yrs')\n",
    "ax3.view_init(azim=60)\n",
    "\n",
    "plt.tight_layout()\n",
    "\n",
    "add_logo(f, ax11, location=2)"
   ]
  }
 ],
 "metadata": {
  "jupytext": {
   "encoding": "# -*- coding: utf-8 -*-",
   "executable": "/usr/bin/env python3"
  },
  "kernelspec": {
   "display_name": "Python 3",
   "language": "python",
   "name": "python3"
  }
 },
 "nbformat": 4,
 "nbformat_minor": 4
}
