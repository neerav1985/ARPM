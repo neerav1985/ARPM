{
 "cells": [
  {
   "cell_type": "markdown",
   "metadata": {},
   "source": [
    "# S_HFPquantileFPdependence [<img src=\"https://www.arpm.co/lab/icons/icon_permalink.png\" width=30 height=30 style=\"display: inline;\">](https://www.arpm.co/lab/redirect.php?code=S_HFPquantileFPdependence&codeLang=Python)\n",
    "For details, see [here](https://www.arpm.co/lab/redirect.php?permalink=ExerHFPquantilePlot)."
   ]
  },
  {
   "cell_type": "markdown",
   "metadata": {},
   "source": [
    "## Prepare the environment"
   ]
  },
  {
   "cell_type": "code",
   "execution_count": null,
   "metadata": {},
   "outputs": [],
   "source": [
    "import os\n",
    "import os.path as path\n",
    "import sys\n",
    "\n",
    "sys.path.append(path.abspath('../../functions-legacy'))\n",
    "from collections import namedtuple\n",
    "\n",
    "from numpy import arange, array, ones, zeros, percentile, linspace, round, log, r_\n",
    "from numpy import min as npmin, max as npmax\n",
    "from numpy.random import randn\n",
    "\n",
    "from scipy.io import loadmat\n",
    "\n",
    "import matplotlib.pyplot as plt\n",
    "from matplotlib.pyplot import figure, plot, bar, legend, xlim, ylim, ylabel, \\\n",
    "    yticks\n",
    "import matplotlib.dates as mdates\n",
    "\n",
    "plt.style.use('seaborn')\n",
    "\n",
    "from CONFIG import GLOBAL_DB, TEMPORARY_DB\n",
    "from ARPM_utils import save_plot, struct_to_dict, date_mtop\n",
    "from HistogramFP import HistogramFP\n",
    "from Price2AdjustedPrice import Price2AdjustedPrice\n",
    "from GarchResiduals import GarchResiduals\n",
    "from BlowSpinFP import BlowSpinFP\n",
    "from HFPquantile import HFPquantile"
   ]
  },
  {
   "cell_type": "markdown",
   "metadata": {},
   "source": [
    "## Upload the database"
   ]
  },
  {
   "cell_type": "code",
   "execution_count": null,
   "metadata": {},
   "outputs": [],
   "source": [
    "try:\n",
    "    db = loadmat(os.path.join(GLOBAL_DB, 'db_Stocks'), squeeze_me=True)\n",
    "except FileNotFoundError:\n",
    "    db = loadmat(os.path.join(TEMPORARY_DB, 'db_Stocks'), squeeze_me=True)\n",
    "\n",
    "StocksSPX = struct_to_dict(db['StocksSPX'])"
   ]
  },
  {
   "cell_type": "markdown",
   "metadata": {},
   "source": [
    "## Compute the dividend-adjusted returns of one stock"
   ]
  },
  {
   "cell_type": "code",
   "execution_count": null,
   "metadata": {},
   "outputs": [],
   "source": [
    "t_ = 300\n",
    "_, x = Price2AdjustedPrice(StocksSPX.Date.reshape(1,-1), StocksSPX.Prices[[25],:], StocksSPX.Dividends[25])  # Cisco Systems Inc\n",
    "date = StocksSPX.Date[1:]\n",
    "\n",
    "x = x[[0],-t_:]\n",
    "date = date[-t_:]"
   ]
  },
  {
   "cell_type": "markdown",
   "metadata": {},
   "source": [
    "## Compute the invariants using GARCH(1,1) fit"
   ]
  },
  {
   "cell_type": "code",
   "execution_count": null,
   "metadata": {},
   "outputs": [],
   "source": [
    "epsi = GarchResiduals(x)"
   ]
  },
  {
   "cell_type": "markdown",
   "metadata": {},
   "source": [
    "## Compute the Flexible Probability profiles using Blow-Spin method"
   ]
  },
  {
   "cell_type": "code",
   "execution_count": null,
   "metadata": {},
   "outputs": [],
   "source": [
    "epsi_BlowSpin = r_[epsi, randn(1, t_)]  # random generation of dataset's second row\n",
    "b = 2  # number of blows\n",
    "s = 3  # number of spins\n",
    "p, ens = BlowSpinFP(epsi_BlowSpin, b, s)"
   ]
  },
  {
   "cell_type": "markdown",
   "metadata": {},
   "source": [
    "## Compute the hist-histogram, hist-quantile, HFP-histogram and HFP-quantile"
   ]
  },
  {
   "cell_type": "code",
   "execution_count": null,
   "metadata": {},
   "outputs": [],
   "source": [
    "# k_ = b+s\n",
    "k_ = 5\n",
    "options = namedtuple('option', 'n_bins')\n",
    "options.n_bins = round(10*log(t_))  # number of bins for the histograms\n",
    "p_quant = arange(0,1.005,0.005).reshape(1,-1)  # quantile probability levels\n",
    "p_flat = ones((1, t_)) / t_\n",
    "# historical histogram\n",
    "hgram_hist, x_bin = HistogramFP(epsi, p_flat, options)\n",
    "# historical quantile\n",
    "q_hist = percentile(epsi, 100*p_quant.flatten())\n",
    "\n",
    "hgram_HFP = zeros((k_, int(options.n_bins)))\n",
    "q_HFP = zeros((k_, p_quant.shape[1]))\n",
    "for k in range(k_):\n",
    "    # HFP-histogram\n",
    "    [hgram_HFP[k, :], _] = HistogramFP(epsi, p[[k],:], options)\n",
    "    # HFP-quantile\n",
    "    q_HFP[k, :] = HFPquantile(epsi, p_quant, p[[k], :])"
   ]
  },
  {
   "cell_type": "markdown",
   "metadata": {},
   "source": [
    "## Generate some figures showing how the HFP-quantile and the HFP-histogram evolve as the FP profile changes"
   ]
  },
  {
   "cell_type": "code",
   "execution_count": null,
   "metadata": {},
   "outputs": [],
   "source": [
    "hfp_color = [.9, .5, 0.5]\n",
    "date_dt = array([date_mtop(i) for i in date])\n",
    "myFmt = mdates.DateFormatter('%d-%b-%Y')\n",
    "\n",
    "for k in range(k_):\n",
    "\n",
    "    f,ax = plt.subplots(3,1)\n",
    "    P = p[[k],:]\n",
    "\n",
    "    # quantile plot\n",
    "    plt.sca(ax[0])\n",
    "    xlim([0, 1])\n",
    "    ylim([npmin(epsi) - 0.1, npmax(epsi) + 0.2])\n",
    "    plot(p_quant[0], q_hist, color='b')\n",
    "    plot(p_quant[0], q_HFP[k, :], color= hfp_color)\n",
    "    leg0 = legend(['historical quantile','HFP-quantile'])\n",
    "\n",
    "    # histogram plot\n",
    "    plt.sca(ax[1])\n",
    "    b = bar(x_bin[:-1], hgram_HFP[k, :], width=x_bin[1]-x_bin[0], facecolor=hfp_color,edgecolor='k', label='HFP')\n",
    "    b1 = bar(x_bin[:-1], hgram_hist[0], width=x_bin[1]-x_bin[0], edgecolor='b',facecolor='none',label='historical')\n",
    "    yticks([])\n",
    "    l = legend()\n",
    "\n",
    "    # Flexible Probabilities profile\n",
    "    plt.sca(ax[2])\n",
    "    b = bar(date_dt,P[0], width=date_dt[1].toordinal()-date_dt[0].toordinal(),facecolor= [.7, .7, .7], edgecolor=[.7, .7, .7])\n",
    "    d = linspace(0,t_-1,4,dtype=int)\n",
    "    xtick = date_dt[d]\n",
    "    xlim([min(date_dt), max(date_dt)])\n",
    "    plt.gca().xaxis.set_major_formatter(myFmt)\n",
    "    ylim([0, npmax(P)])\n",
    "    yticks([])\n",
    "    ylabel('FP')\n",
    "    ensT = 'Effective Num.Scenarios =  % 3.0f'%ens[0,k]\n",
    "    plt.text(date_dt[10], npmax(P) - npmax(P) / 10, ensT, horizontalalignment='left',verticalalignment='bottom')\n",
    "    plt.tight_layout();\n",
    "    # save_plot(ax=plt.gca(), extension='png', scriptname=os.path.basename('.')[:-3], count=plt.get_fignums()[-1])"
   ]
  }
 ],
 "metadata": {
  "jupytext": {
   "encoding": "# -*- coding: utf-8 -*-",
   "executable": "/usr/bin/env python3"
  },
  "kernelspec": {
   "display_name": "Python 3",
   "language": "python",
   "name": "python3"
  }
 },
 "nbformat": 4,
 "nbformat_minor": 4
}
