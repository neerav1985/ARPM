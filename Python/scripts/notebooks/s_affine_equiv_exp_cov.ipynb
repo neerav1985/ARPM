{
 "cells": [
  {
   "cell_type": "markdown",
   "metadata": {},
   "source": [
    "# s_affine_equiv_exp_cov [<img src=\"https://www.arpm.co/lab/icons/icon_permalink.png\" width=30 height=30 style=\"display: inline;\">](https://www.arpm.co/lab/redirect.php?code=s_affine_equiv_exp_cov&codeLang=Python)\n",
    "For details, see [here](https://www.arpm.co/lab/redirect.php?permalink=exp-cov-ellip)."
   ]
  },
  {
   "cell_type": "markdown",
   "metadata": {},
   "source": [
    "## Prepare the environment"
   ]
  },
  {
   "cell_type": "code",
   "execution_count": null,
   "metadata": {},
   "outputs": [],
   "source": [
    "import numpy as np\n",
    "import matplotlib.pyplot as plt\n",
    "from matplotlib import rc, rcParams\n",
    "\n",
    "rc('text', usetex=True)\n",
    "rcParams['text.latex.preamble']=[r\"\\usepackage{amsmath} \\usepackage{amssymb}\"]\n",
    "\n",
    "from arpym.statistics.simulate_normal import simulate_normal\n",
    "from arpym.tools.plot_ellipse import plot_ellipse\n",
    "from arpym.tools.logo import add_logo"
   ]
  },
  {
   "cell_type": "markdown",
   "metadata": {},
   "source": [
    "## [Input parameters](https://www.arpm.co/lab/redirect.php?permalink=s_affine_equiv_exp_cov-parameters)"
   ]
  },
  {
   "cell_type": "code",
   "execution_count": null,
   "metadata": {},
   "outputs": [],
   "source": [
    "m = np.array([0.17, 0.06])  # parameters of lognormal\n",
    "s2 = np.array([[0.06, -0.03], [-0.03, 0.02]])\n",
    "a = np.array([-0.5, 0.5])  # parameters of an invertible affine transformation\n",
    "b = np.array([[-1, -0.1], [0.01, 0.8]])\n",
    "j_ = 1000  # number of simulations\n",
    "r = 3  # radius"
   ]
  },
  {
   "cell_type": "markdown",
   "metadata": {},
   "source": [
    "## [Step 1](https://www.arpm.co/lab/redirect.php?permalink=s_affine_equiv_exp_cov-implementation-step01): Generate the sample of X and of Y"
   ]
  },
  {
   "cell_type": "code",
   "execution_count": null,
   "metadata": {},
   "outputs": [],
   "source": [
    "x = np.exp(simulate_normal(m, s2, j_)).T\n",
    "y = np.tile(a.reshape(2,1), (1, j_)) + b @ x"
   ]
  },
  {
   "cell_type": "markdown",
   "metadata": {},
   "source": [
    "## [Step 2](https://www.arpm.co/lab/redirect.php?permalink=s_affine_equiv_exp_cov-implementation-step02): Compute expectation and covariance of X and Y"
   ]
  },
  {
   "cell_type": "code",
   "execution_count": null,
   "metadata": {},
   "outputs": [],
   "source": [
    "mu_x = np.exp(m + 0.5*np.diag(s2))\n",
    "sigma2_x = np.diag(mu_x) @ (np.exp(s2)-np.ones([2, 2])) @ np.diag(mu_x)\n",
    "mu_y = a + b @ mu_x\n",
    "sigma2_y = b @ sigma2_x @ b.T"
   ]
  },
  {
   "cell_type": "markdown",
   "metadata": {},
   "source": [
    "## [Step 3](https://www.arpm.co/lab/redirect.php?permalink=s_affine_equiv_exp_cov-implementation-step03): Expectation-covariance ellipsoid computations"
   ]
  },
  {
   "cell_type": "code",
   "execution_count": null,
   "metadata": {},
   "outputs": [],
   "source": [
    "ellipse_mux_sig2x = plot_ellipse(mu_x, sigma2_x, color='b', r=r, line_width=4, display_ellipse=False, plot_axes=True, plot_tang_box=True)\n",
    "ellipse_muy_sig2y = plot_ellipse(mu_y, sigma2_y, color='r', r=r, line_width=4, display_ellipse=False, plot_axes=True, plot_tang_box=True)"
   ]
  },
  {
   "cell_type": "markdown",
   "metadata": {},
   "source": [
    "## [Step 4](https://www.arpm.co/lab/redirect.php?permalink=s_affine_equiv_exp_cov-implementation-step04): Select points on exp-cov ellipsoids"
   ]
  },
  {
   "cell_type": "code",
   "execution_count": null,
   "metadata": {},
   "outputs": [],
   "source": [
    "x0 = ellipse_mux_sig2x[1, :]\n",
    "y0 = a + b @ x0"
   ]
  },
  {
   "cell_type": "markdown",
   "metadata": {},
   "source": [
    "## Plot"
   ]
  },
  {
   "cell_type": "code",
   "execution_count": null,
   "metadata": {
    "lines_to_next_cell": 0
   },
   "outputs": [],
   "source": [
    "plt.style.use('arpm')\n",
    "fig = plt.figure(figsize=(1280/72, 720/72), dpi=72)\n",
    "\n",
    "plt.plot(x.T[:, 0], x.T[:, 1], \"o\", color='b', markersize=3, label=r'Simulations of $\\boldsymbol{X}$')\n",
    "plt.plot(y.T[:, 0], y.T[:, 1], \"o\", color='r', markersize=3, label=r'Simulations of $\\boldsymbol{Y}$')\n",
    "plt.plot(ellipse_mux_sig2x[:, 0], ellipse_mux_sig2x[:, 1], color='b', linewidth=2.5, label=r'Exp-cov ellipsoid of $\\boldsymbol{X}$')\n",
    "plt.plot(ellipse_muy_sig2y[:, 0], ellipse_muy_sig2y[:, 1], color='r', linewidth=2.5, label=r'Exp-cov ellipsoid of $\\boldsymbol{Y}$')\n",
    "plt.plot(x0[0], x0[1], 'b', marker='.', markersize=15)\n",
    "plt.plot(y0[0], y0[1], 'r', marker='.', markersize=15)\n",
    "plt.xlabel('$X_1$', fontsize=17)\n",
    "plt.ylabel('$X_2$', fontsize=17)\n",
    "plt.legend()\n",
    "plt.title('Affine transformation of a bivariate lognormal', fontsize=20, fontweight='bold')\n",
    "add_logo(fig)"
   ]
  },
  {
   "cell_type": "code",
   "execution_count": null,
   "metadata": {},
   "outputs": [],
   "source": []
  }
 ],
 "metadata": {
  "jupytext": {
   "encoding": "# -*- coding: utf-8 -*-",
   "executable": "/usr/bin/env python3"
  },
  "kernelspec": {
   "display_name": "Python 3",
   "language": "python",
   "name": "python3"
  }
 },
 "nbformat": 4,
 "nbformat_minor": 4
}
