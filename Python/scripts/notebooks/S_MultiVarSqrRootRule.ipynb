{
 "cells": [
  {
   "cell_type": "markdown",
   "metadata": {},
   "source": [
    "# S_MultiVarSqrRootRule [<img src=\"https://www.arpm.co/lab/icons/icon_permalink.png\" width=30 height=30 style=\"display: inline;\">](https://www.arpm.co/lab/redirect.php?code=S_MultiVarSqrRootRule&codeLang=Python)\n",
    "For details, see [here](https://www.arpm.co/lab/redirect.php?permalink=ExerSquareRootRuleVer)."
   ]
  },
  {
   "cell_type": "markdown",
   "metadata": {},
   "source": [
    "## Prepare the environment"
   ]
  },
  {
   "cell_type": "code",
   "execution_count": null,
   "metadata": {},
   "outputs": [],
   "source": [
    "import os\n",
    "import os.path as path\n",
    "import sys\n",
    "\n",
    "sys.path.append(path.abspath('../../functions-legacy'))\n",
    "\n",
    "from numpy import array, percentile, diff, cov, mean\n",
    "\n",
    "from scipy.io import loadmat\n",
    "\n",
    "import matplotlib.pyplot as plt\n",
    "from matplotlib.pyplot import figure, legend, xlim, ylim, scatter, ylabel, \\\n",
    "    xlabel, title\n",
    "\n",
    "plt.style.use('seaborn')\n",
    "\n",
    "from CONFIG import GLOBAL_DB, TEMPORARY_DB\n",
    "from ARPM_utils import save_plot, struct_to_dict\n",
    "from intersect_matlab import intersect\n",
    "from PlotTwoDimEllipsoid import PlotTwoDimEllipsoid\n",
    "from RollPrices2YieldToMat import RollPrices2YieldToMat"
   ]
  },
  {
   "cell_type": "markdown",
   "metadata": {},
   "source": [
    "## Upload the database"
   ]
  },
  {
   "cell_type": "code",
   "execution_count": null,
   "metadata": {},
   "outputs": [],
   "source": [
    "try:\n",
    "    db = loadmat(os.path.join(GLOBAL_DB, 'db_SwapCurve'), squeeze_me=True)\n",
    "except FileNotFoundError:\n",
    "    db = loadmat(os.path.join(TEMPORARY_DB, 'db_SwapCurve'), squeeze_me=True)\n",
    "\n",
    "DF_Rolling = struct_to_dict(db['DF_Rolling'])"
   ]
  },
  {
   "cell_type": "markdown",
   "metadata": {},
   "source": [
    "## Compute yields, select observations and compute increments"
   ]
  },
  {
   "cell_type": "code",
   "execution_count": null,
   "metadata": {},
   "outputs": [],
   "source": [
    "tau = [1, 5, 21]\n",
    "nu = array([[2],[10]])  # times to maturity of interest (years)\n",
    "y = {}\n",
    "\n",
    "_, index, *_ = intersect(DF_Rolling.TimeToMat,nu)\n",
    "# yields from rolling prices\n",
    "y[0],_= RollPrices2YieldToMat(DF_Rolling.TimeToMat[index], DF_Rolling.Prices[index,:])  # yield daily observations\n",
    "# extract weekly and monthly observations\n",
    "for k in range(len(tau)):\n",
    "    y[k] = y[0][:, ::tau[k]]  # computing increments\n",
    "dy = {}\n",
    "for k in range(3):\n",
    "    dy[k] = diff(y[k], 1, 1)"
   ]
  },
  {
   "cell_type": "markdown",
   "metadata": {},
   "source": [
    "## Compute means and covariances"
   ]
  },
  {
   "cell_type": "code",
   "execution_count": null,
   "metadata": {},
   "outputs": [],
   "source": [
    "mu = {}\n",
    "mu_tilde = {}\n",
    "sigma2 = {}\n",
    "sigma2_tilde = {}\n",
    "for k in range(len(tau)):\n",
    "    mu[k] = mean(dy[k], 1,keepdims=True)\n",
    "    sigma2[k] = cov(dy[k], ddof=1)\n",
    "    mu_tilde[k] = mu[0]*tau[k] / tau[0]  # projected daily mean\n",
    "    sigma2_tilde[k] = sigma2[0]*tau[k] / tau[0]  # projected daily covariance"
   ]
  },
  {
   "cell_type": "markdown",
   "metadata": {},
   "source": [
    "## Generate figures"
   ]
  },
  {
   "cell_type": "code",
   "execution_count": null,
   "metadata": {},
   "outputs": [],
   "source": [
    "q_range=100*array([0.01, 0.99])\n",
    "col =[0.94, 0.3, 0]\n",
    "\n",
    "tit = {}\n",
    "tit[0]= 'Daily observations'\n",
    "tit[1]= 'Weekly observations'\n",
    "tit[2]= 'Monthly observations'\n",
    "\n",
    "for k in range(len(tau)):\n",
    "    f=figure()\n",
    "    scatter(dy[k][0], dy[k][1], 3, [.65, .65, .65], '*')\n",
    "    xlim(percentile(dy[k][0], q_range))\n",
    "    ylim(percentile(dy[k][1], q_range))\n",
    "    xlabel('2 years yields increments')\n",
    "    ylabel('10 years yields increments')\n",
    "\n",
    "    h1 = PlotTwoDimEllipsoid(mu_tilde[k], sigma2_tilde[k], 1, 0, 0, 'g', 2)\n",
    "\n",
    "    h2 = PlotTwoDimEllipsoid(mu[k], sigma2[k], 1, 0, 0, col, 2)\n",
    "\n",
    "    if k > 0:\n",
    "        h3 = PlotTwoDimEllipsoid(mu[0], sigma2[0], 1, 0, 0, [.6, .6, .6], 2)\n",
    "        legend(handles=[h2[0][0], h3[0][0], h1[0][0]],labels=['empirical ellipsoid','daily ellipsoid','projected daily ellipsoid'])\n",
    "    else:\n",
    "        legend(handles=[h2[0][0]],labels=['empirical daily ellipsoid'])\n",
    "\n",
    "    plt.grid(False)\n",
    "    title(tit[k]);\n",
    "    # save_plot(ax=plt.gca(), extension='png', scriptname=os.path.basename('.')[:-3], count=plt.get_fignums()[-1])"
   ]
  }
 ],
 "metadata": {
  "jupytext": {
   "encoding": "# -*- coding: utf-8 -*-",
   "executable": "/usr/bin/env python3"
  },
  "kernelspec": {
   "display_name": "Python 3",
   "language": "python",
   "name": "python3"
  }
 },
 "nbformat": 4,
 "nbformat_minor": 4
}
