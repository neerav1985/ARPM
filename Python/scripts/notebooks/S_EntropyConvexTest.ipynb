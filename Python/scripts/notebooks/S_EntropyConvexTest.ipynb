{
 "cells": [
  {
   "cell_type": "markdown",
   "metadata": {},
   "source": [
    "# S_EntropyConvexTest [<img src=\"https://www.arpm.co/lab/icons/icon_permalink.png\" width=30 height=30 style=\"display: inline;\">](https://www.arpm.co/lab/redirect.php?code=S_EntropyConvexTest&codeLang=Python)\n",
    "For details, see [here](https://www.arpm.co/lab/redirect.php?permalink=eb-test-convex)."
   ]
  },
  {
   "cell_type": "markdown",
   "metadata": {},
   "source": [
    "## Prepare the environment"
   ]
  },
  {
   "cell_type": "code",
   "execution_count": null,
   "metadata": {},
   "outputs": [],
   "source": [
    "import os\n",
    "import os.path as path\n",
    "import sys\n",
    "\n",
    "sys.path.append(path.abspath('../../functions-legacy'))\n",
    "from collections import namedtuple\n",
    "\n",
    "from numpy import ones, zeros, round, log, r_, array\n",
    "from numpy.random import randn\n",
    "\n",
    "import matplotlib.pyplot as plt\n",
    "from matplotlib.pyplot import figure, bar, title\n",
    "\n",
    "from tqdm import trange\n",
    "\n",
    "plt.style.use('seaborn')\n",
    "\n",
    "from ARPM_utils import save_plot, nullspace\n",
    "from HistogramFP import HistogramFP\n",
    "from REnormLRD import REnormLRD\n",
    "\n",
    "# input parameters\n",
    "j_ = 500  # number of simulations\n",
    "n_ = 8  # market dimension\n",
    "k_ = 3  # number of factors"
   ]
  },
  {
   "cell_type": "markdown",
   "metadata": {},
   "source": [
    "## Set random base-case parameters"
   ]
  },
  {
   "cell_type": "code",
   "execution_count": null,
   "metadata": {},
   "outputs": [],
   "source": [
    "mu_ = randn(n_, 1)  # expectation\n",
    "c = randn(n_, n_)\n",
    "invs2_ = c@c.T  # inverse covariance"
   ]
  },
  {
   "cell_type": "markdown",
   "metadata": {},
   "source": [
    "## Main computations"
   ]
  },
  {
   "cell_type": "code",
   "execution_count": null,
   "metadata": {},
   "outputs": [],
   "source": [
    "u = array([[0]])\n",
    "for j in trange(j_, desc='Simulations'):  # Generate random coordinates\n",
    "    theta_ = randn(n_*(2 + k_), 1)\n",
    "    # Compute the relative entropy and a basis of the tangent space\n",
    "    obj, grad, *_ = REnormLRD(theta_, mu_, invs2_, n_, k_)\n",
    "    z = nullspace(grad.T)[1]\n",
    "    # Compute the vector u\n",
    "    m_ = n_*(2 + k_) - 1\n",
    "    w = zeros((m_, 1))\n",
    "    for m in range(m_):\n",
    "        w[m],*_ = REnormLRD(theta_ + z[:, [m]], mu_, invs2_, n_, k_)[0][0] - obj[0]\n",
    "\n",
    "    u = r_[u, w.copy()]\n",
    "u = u[1:]\n",
    "# ## Verify that u contains negative entries\n",
    "\n",
    "nbins = round(10*log(j_))\n",
    "\n",
    "figure()\n",
    "p = ones((1, len(u))) / len(u)\n",
    "option = namedtuple('option', 'n_bins')\n",
    "option.n_bins = nbins\n",
    "[n, x] = HistogramFP(u.T, p, option)\n",
    "b = bar(x[:-1], n[0], width=x[1]-x[0], facecolor=[.7, .7, .7],edgecolor='k')\n",
    "plt.grid(True)\n",
    "title('Convex test');\n",
    "# save_plot(ax=plt.gca(), extension='png', scriptname=os.path.basename('.')[:-3], count=plt.get_fignums()[-1])"
   ]
  }
 ],
 "metadata": {
  "jupytext": {
   "encoding": "# -*- coding: utf-8 -*-",
   "executable": "/usr/bin/env python3"
  },
  "kernelspec": {
   "display_name": "Python 3",
   "language": "python",
   "name": "python3"
  }
 },
 "nbformat": 4,
 "nbformat_minor": 4
}
