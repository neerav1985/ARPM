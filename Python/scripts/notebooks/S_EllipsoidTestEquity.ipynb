{
 "cells": [
  {
   "cell_type": "markdown",
   "metadata": {},
   "source": [
    "# S_EllipsoidTestEquity [<img src=\"https://www.arpm.co/lab/icons/icon_permalink.png\" width=30 height=30 style=\"display: inline;\">](https://www.arpm.co/lab/redirect.php?code=S_EllipsoidTestEquity&codeLang=Python)\n",
    "For details, see [here](https://www.arpm.co/lab/redirect.php?permalink=IIDtestEquity)."
   ]
  },
  {
   "cell_type": "markdown",
   "metadata": {},
   "source": [
    "## Prepare the environment"
   ]
  },
  {
   "cell_type": "code",
   "execution_count": null,
   "metadata": {},
   "outputs": [],
   "source": [
    "import os\n",
    "import os.path as path\n",
    "import sys\n",
    "\n",
    "sys.path.append(path.abspath('../../functions-legacy'))\n",
    "\n",
    "from scipy.io import loadmat\n",
    "\n",
    "import matplotlib.pyplot as plt\n",
    "from matplotlib.pyplot import figure\n",
    "\n",
    "plt.style.use('seaborn')\n",
    "\n",
    "from CONFIG import GLOBAL_DB, TEMPORARY_DB\n",
    "from ARPM_utils import save_plot, struct_to_dict\n",
    "from autocorrelation import autocorrelation\n",
    "from Price2AdjustedPrice import Price2AdjustedPrice\n",
    "from InvarianceTestEllipsoid import InvarianceTestEllipsoid"
   ]
  },
  {
   "cell_type": "markdown",
   "metadata": {},
   "source": [
    "## Upload the database"
   ]
  },
  {
   "cell_type": "code",
   "execution_count": null,
   "metadata": {},
   "outputs": [],
   "source": [
    "try:\n",
    "    db = loadmat(os.path.join(GLOBAL_DB, 'db_Stocks'), squeeze_me=True)\n",
    "except FileNotFoundError:\n",
    "    db = loadmat(os.path.join(TEMPORARY_DB, 'db_Stocks'), squeeze_me=True)\n",
    "\n",
    "StocksSPX = struct_to_dict(db['StocksSPX'])"
   ]
  },
  {
   "cell_type": "markdown",
   "metadata": {},
   "source": [
    "## Compute the dividend adjusted prices of one stock"
   ]
  },
  {
   "cell_type": "code",
   "execution_count": null,
   "metadata": {},
   "outputs": [],
   "source": [
    "stock_index = 1\n",
    "v = StocksSPX.Prices[[stock_index-1], :]\n",
    "date = StocksSPX.Date\n",
    "div = StocksSPX.Dividends[stock_index-1]\n",
    "if div.size != 0:\n",
    "    v, _ = Price2AdjustedPrice(date.reshape(1,-1), v, div)\n",
    "\n",
    "lag_ = 10"
   ]
  },
  {
   "cell_type": "markdown",
   "metadata": {},
   "source": [
    "## Compute the time series of each variable"
   ]
  },
  {
   "cell_type": "code",
   "execution_count": null,
   "metadata": {},
   "outputs": [],
   "source": [
    "x = v[[0],1:] / v[[0],:-1]\n",
    "y = v[[0],1:] - v[[0],:-1]\n",
    "z = (v[[0],1:] / v[[0],:-1]) ** 2\n",
    "w = v[[0],2:] - 2 * v[[0],1:-1] + v[[0],:-2]"
   ]
  },
  {
   "cell_type": "markdown",
   "metadata": {},
   "source": [
    "## Compute the autocorrelations of each variable"
   ]
  },
  {
   "cell_type": "code",
   "execution_count": null,
   "metadata": {},
   "outputs": [],
   "source": [
    "acf_x = autocorrelation(x, lag_)\n",
    "acf_y = autocorrelation(y, lag_)\n",
    "acf_z = autocorrelation(z, lag_)\n",
    "acf_w = autocorrelation(w, lag_)"
   ]
  },
  {
   "cell_type": "markdown",
   "metadata": {},
   "source": [
    "## Plot ellipsoid and auto correlation coefficients"
   ]
  },
  {
   "cell_type": "code",
   "execution_count": null,
   "metadata": {},
   "outputs": [],
   "source": [
    "ell_scale = 2  # ellipsoid radius coefficient\n",
    "fit = 0  # fitting\n",
    "\n",
    "lag = 10  # lag to be printed in the plots\n",
    "\n",
    "# x\n",
    "for plotvar, acfvar, varname in zip([x, y, z, w], [acf_x, acf_y, acf_z, acf_w], ['X', 'Y', 'Z', 'W']):\n",
    "    f = figure(figsize=(12,6))\n",
    "    InvarianceTestEllipsoid(plotvar, acfvar[0,1:], lag, fit, ell_scale, None, 'Invariance Test ({var})'.format(var=varname));\n",
    "    # save_plot(ax=plt.gca(), extension='png', scriptname=os.path.basename('.')[:-3], count=plt.get_fignums()[-1])"
   ]
  }
 ],
 "metadata": {
  "jupytext": {
   "encoding": "# -*- coding: utf-8 -*-",
   "executable": "/usr/bin/env python3"
  },
  "kernelspec": {
   "display_name": "Python 3",
   "language": "python",
   "name": "python3"
  }
 },
 "nbformat": 4,
 "nbformat_minor": 4
}
