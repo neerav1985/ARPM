{
 "cells": [
  {
   "cell_type": "markdown",
   "metadata": {},
   "source": [
    "# S_EllipsoidTestPnLGARCH [<img src=\"https://www.arpm.co/lab/icons/icon_permalink.png\" width=30 height=30 style=\"display: inline;\">](https://www.arpm.co/lab/redirect.php?code=S_EllipsoidTestPnLGARCH&codeLang=Python)\n",
    "For details, see [here](https://www.arpm.co/lab/redirect.php?permalink=ex-p-and-lres-ell-test)."
   ]
  },
  {
   "cell_type": "markdown",
   "metadata": {},
   "source": [
    "## Prepare the environment"
   ]
  },
  {
   "cell_type": "code",
   "execution_count": null,
   "metadata": {},
   "outputs": [],
   "source": [
    "import os\n",
    "import os.path as path\n",
    "import sys\n",
    "\n",
    "sys.path.append(path.abspath('../../functions-legacy'))\n",
    "\n",
    "import numpy as np\n",
    "from numpy import abs\n",
    "\n",
    "from scipy.io import loadmat\n",
    "\n",
    "import matplotlib.pyplot as plt\n",
    "from matplotlib.pyplot import figure\n",
    "\n",
    "plt.style.use('seaborn')\n",
    "\n",
    "from CONFIG import GLOBAL_DB, TEMPORARY_DB\n",
    "from ARPM_utils import save_plot\n",
    "from autocorrelation import autocorrelation\n",
    "from InvarianceTestEllipsoid import InvarianceTestEllipsoid\n",
    "from GarchResiduals import GarchResiduals"
   ]
  },
  {
   "cell_type": "markdown",
   "metadata": {},
   "source": [
    "## Upload database"
   ]
  },
  {
   "cell_type": "code",
   "execution_count": null,
   "metadata": {},
   "outputs": [],
   "source": [
    "try:\n",
    "    db = loadmat(os.path.join(GLOBAL_DB, 'db_MomStratPL'), squeeze_me=True)\n",
    "except FileNotFoundError:\n",
    "    db = loadmat(os.path.join(TEMPORARY_DB, 'db_MomStratPL'), squeeze_me=True)\n",
    "\n",
    "dailypnl = db['dailypnl']"
   ]
  },
  {
   "cell_type": "markdown",
   "metadata": {},
   "source": [
    "## Select data"
   ]
  },
  {
   "cell_type": "code",
   "execution_count": null,
   "metadata": {},
   "outputs": [],
   "source": [
    "pi = dailypnl.reshape(1,-1)  # select observations"
   ]
  },
  {
   "cell_type": "markdown",
   "metadata": {},
   "source": [
    "## Compute the invariants using GARCH(1,1) fit and test invariance"
   ]
  },
  {
   "cell_type": "code",
   "execution_count": null,
   "metadata": {},
   "outputs": [],
   "source": [
    "epsi = GarchResiduals(pi)  # GARCH fit"
   ]
  },
  {
   "cell_type": "markdown",
   "metadata": {},
   "source": [
    "## Perform autocorrelation test on y and epsi"
   ]
  },
  {
   "cell_type": "code",
   "execution_count": null,
   "metadata": {},
   "outputs": [],
   "source": [
    "lag_ = 10  # number of lags (for auto correlation test)\n",
    "\n",
    "acf_y = autocorrelation(abs(pi), lag_)\n",
    "acf_epsi = autocorrelation(abs(epsi), lag_)"
   ]
  },
  {
   "cell_type": "markdown",
   "metadata": {},
   "source": [
    "## Generate figures"
   ]
  },
  {
   "cell_type": "code",
   "execution_count": null,
   "metadata": {},
   "outputs": [],
   "source": [
    "lag = 10  # lag to be printed\n",
    "ell_scale = 2  # ellipsoid radius coefficient\n",
    "fit = 0  # normal fitting\n",
    "\n",
    "# axis settings\n",
    "rpi = np.ptp(abs(pi))\n",
    "repsi = np.ptp(abs(epsi))\n",
    "\n",
    "# position settings\n",
    "pos = {}\n",
    "pos[0] = [.2, .45, .3866, .43]  # scatter plot\n",
    "pos[1] = [.2905, .12, .205, .2157]  # epsi\n",
    "pos[2] = [.01, .45, .1737, .43]  # epsi_lagged\n",
    "pos[3] = [.6, .45, .3366, .43]  # autocorrelation\n",
    "pos[4] = [.085, .228, .11, .1]  # leg\n",
    "\n",
    "f = figure(figsize=(12,6))\n",
    "InvarianceTestEllipsoid(abs(pi), acf_y[0,1:], lag, fit, ell_scale, pos, 'P&L', [-rpi / 8, 0]);\n",
    "# save_plot(ax=plt.gca(), extension='png', scriptname=os.path.basename('.')[:-3], count=plt.get_fignums()[-1])\n",
    "\n",
    "f = figure(figsize=(12,6))  # changes in log implied vol\n",
    "InvarianceTestEllipsoid(abs(epsi), acf_epsi[0,1:], lag, fit, ell_scale, [], 'GARCH residuals', [-repsi / 8, 0]);\n",
    "# save_plot(ax=plt.gca(), extension='png', scriptname=os.path.basename('.')[:-3], count=plt.get_fignums()[-1])"
   ]
  }
 ],
 "metadata": {
  "jupytext": {
   "encoding": "# -*- coding: utf-8 -*-",
   "executable": "/usr/bin/env python3"
  },
  "kernelspec": {
   "display_name": "Python 3",
   "language": "python",
   "name": "python3"
  }
 },
 "nbformat": 4,
 "nbformat_minor": 4
}
