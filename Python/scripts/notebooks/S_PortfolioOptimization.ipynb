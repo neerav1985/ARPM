{
 "cells": [
  {
   "cell_type": "markdown",
   "metadata": {},
   "source": [
    "# S_PortfolioOptimization [<img src=\"https://www.arpm.co/lab/icons/icon_permalink.png\" width=30 height=30 style=\"display: inline;\">](https://www.arpm.co/lab/redirect.php?code=S_PortfolioOptimization&codeLang=Python)\n",
    "For details, see [here](https://www.arpm.co/lab/redirect.php?permalink=PortfolioOptimLRD)."
   ]
  },
  {
   "cell_type": "markdown",
   "metadata": {},
   "source": [
    "## Prepare the environment"
   ]
  },
  {
   "cell_type": "code",
   "execution_count": null,
   "metadata": {},
   "outputs": [],
   "source": [
    "import os\n",
    "import os.path as path\n",
    "import sys\n",
    "\n",
    "from numpy.ma import array\n",
    "\n",
    "sys.path.append(path.abspath('../../functions-legacy'))\n",
    "\n",
    "import numpy as np\n",
    "from numpy import arange, diag, eye, log, exp, sqrt, tile\n",
    "from numpy.linalg import solve, inv, pinv, norm\n",
    "\n",
    "from scipy.io import loadmat\n",
    "\n",
    "import matplotlib.pyplot as plt\n",
    "\n",
    "plt.style.use('seaborn')\n",
    "\n",
    "from CONFIG import GLOBAL_DB, TEMPORARY_DB\n",
    "from ARPM_utils import struct_to_dict\n",
    "from FPmeancov import FPmeancov\n",
    "from FactorAnalysis import FactorAnalysis\n",
    "\n",
    "# inputs\n",
    "n_ = 300\n",
    "k_ = 5  # number of factors\n",
    "s2_Z = eye(k_)\n",
    "r = 0.02  # risk-free rate\n",
    "a_p = 1000  # excess performance"
   ]
  },
  {
   "cell_type": "markdown",
   "metadata": {},
   "source": [
    "## Upload database"
   ]
  },
  {
   "cell_type": "code",
   "execution_count": null,
   "metadata": {},
   "outputs": [],
   "source": [
    "try:\n",
    "    db = loadmat(os.path.join(GLOBAL_DB, 'db_StocksS_P'), squeeze_me=True)\n",
    "except FileNotFoundError:\n",
    "    db = loadmat(os.path.join(TEMPORARY_DB, 'db_StocksS_P'), squeeze_me=True)  # stock data\n",
    "\n",
    "Data = struct_to_dict(db['Data'])"
   ]
  },
  {
   "cell_type": "markdown",
   "metadata": {},
   "source": [
    "## Compute the historical daily realization of the compounded returns (invariants), which become the scenarios for the compounded returns C_{t->t+1}"
   ]
  },
  {
   "cell_type": "code",
   "execution_count": null,
   "metadata": {},
   "outputs": [],
   "source": [
    "v_historical = Data.Prices\n",
    "C = log(v_historical[:n_, 1:])-log(v_historical[:n_, : -1])\n",
    "\n",
    "n_, j_ = C.shape"
   ]
  },
  {
   "cell_type": "markdown",
   "metadata": {},
   "source": [
    "## Set the historical Flexible Probabilities as exponential decay with half life 2 years"
   ]
  },
  {
   "cell_type": "code",
   "execution_count": null,
   "metadata": {},
   "outputs": [],
   "source": [
    "lam = log(2) / 500  # half life 2y\n",
    "p = exp(-lam*arange(j_, 1 + -1, -1)).reshape(1,-1)"
   ]
  },
  {
   "cell_type": "markdown",
   "metadata": {},
   "source": [
    "## Projection: compute the reconstructed scenarios for the risk drivers at the horizon\n",
    "##note: no projection is needed as the estimation step coincides with the\n",
    "##time to horizon, i.e. u=t+1"
   ]
  },
  {
   "cell_type": "code",
   "execution_count": null,
   "metadata": {},
   "outputs": [],
   "source": [
    "# current prices\n",
    "v_t = Data.Prices[:n_, [-1]]\n",
    "\n",
    "X_u = log(tile(v_t, (1, j_))) + C"
   ]
  },
  {
   "cell_type": "markdown",
   "metadata": {},
   "source": [
    "## Pricing: compute the scenarios for the P&L of each stock by full repricing\n",
    "## scenarios for prices tomorrow"
   ]
  },
  {
   "cell_type": "code",
   "execution_count": null,
   "metadata": {},
   "outputs": [],
   "source": [
    "V_u = exp(X_u)\n",
    "\n",
    "# P&L's scenarios\n",
    "Pi = V_u - tile(v_t, (1, j_))"
   ]
  },
  {
   "cell_type": "markdown",
   "metadata": {},
   "source": [
    "## Compute HFP-covariance"
   ]
  },
  {
   "cell_type": "code",
   "execution_count": null,
   "metadata": {},
   "outputs": [],
   "source": [
    "m_Pi_HFP, s2_Pi_HFP = FPmeancov(Pi, p)\n",
    "s_Pi_HFP = sqrt(diag(s2_Pi_HFP))"
   ]
  },
  {
   "cell_type": "markdown",
   "metadata": {},
   "source": [
    "## Compute the optimal portfolio with the HFP-covariance of the P&L's"
   ]
  },
  {
   "cell_type": "code",
   "execution_count": null,
   "metadata": {},
   "outputs": [],
   "source": [
    "a = m_Pi_HFP - r*v_t  # instruments' excess performance\n",
    "\n",
    "# compute the inverse of s2_Pi\n",
    "\n",
    "inv_s2_Pi_HFP = solve(s2_Pi_HFP,eye(s2_Pi_HFP.shape[0]))\n",
    "# t_HFP = toc\n",
    "\n",
    "# compute optimal portfolio with HFP covariance\n",
    "h_star_HFP = a_p*(inv_s2_Pi_HFP@a) / (a.T@inv_s2_Pi_HFP@a)"
   ]
  },
  {
   "cell_type": "markdown",
   "metadata": {},
   "source": [
    "## Perform factor analysis on P&L's correlation matrix"
   ]
  },
  {
   "cell_type": "code",
   "execution_count": null,
   "metadata": {},
   "outputs": [],
   "source": [
    "c2_Pi_HFP = np.diagflat(1 / s_Pi_HFP)@s2_Pi_HFP@np.diagflat(1 / s_Pi_HFP)\n",
    "_, beta_tilde,*_ = FactorAnalysis(c2_Pi_HFP, array([[0]]), k_)"
   ]
  },
  {
   "cell_type": "markdown",
   "metadata": {},
   "source": [
    "## deduce low-rank-diagonal decomposition of s2_Pi:  s2_Pi = beta@s2_Z@beta.T + diag(diag_s2_U)"
   ]
  },
  {
   "cell_type": "code",
   "execution_count": null,
   "metadata": {},
   "outputs": [],
   "source": [
    "beta = np.diagflat(s_Pi_HFP)@beta_tilde\n",
    "diag_s2_U = diag(s2_Pi_HFP) * diag(eye(n_) - beta_tilde@beta_tilde.T)\n",
    "\n",
    "# reconstruct the low-rank-diagonal covariance\n",
    "s2_Pi_lrd = beta@s2_Z@beta.T + diag(diag_s2_U)"
   ]
  },
  {
   "cell_type": "markdown",
   "metadata": {},
   "source": [
    "## Compute optimal portfolio composition with low-rank-diagonal covariance\n",
    "## compute the inverse of s2_Pi_lrd"
   ]
  },
  {
   "cell_type": "code",
   "execution_count": null,
   "metadata": {},
   "outputs": [],
   "source": [
    "# tic\n",
    "omega2 = diag(1 / diag_s2_U)\n",
    "inv_s2_Pi_lrd = omega2 - (omega2@beta).dot(pinv((beta.T@omega2@beta + inv(s2_Z))))@beta.T@omega2\n",
    "# t_lrd = toc\n",
    "\n",
    "# compute optimal portfolio with low-rank-diagonal covariance\n",
    "h_star_lrd = a_p*(inv_s2_Pi_lrd@a) / (a.T@inv_s2_Pi_lrd@a)"
   ]
  },
  {
   "cell_type": "markdown",
   "metadata": {},
   "source": [
    "## Compute the distance between portfolios"
   ]
  },
  {
   "cell_type": "code",
   "execution_count": null,
   "metadata": {},
   "outputs": [],
   "source": [
    "delta_h = norm((h_star_lrd - h_star_HFP) * v_t) / norm(((h_star_lrd + h_star_HFP) / 2) * v_t)"
   ]
  }
 ],
 "metadata": {
  "jupytext": {
   "encoding": "# -*- coding: utf-8 -*-",
   "executable": "/usr/bin/env python3"
  },
  "kernelspec": {
   "display_name": "Python 3",
   "language": "python",
   "name": "python3"
  }
 },
 "nbformat": 4,
 "nbformat_minor": 4
}
