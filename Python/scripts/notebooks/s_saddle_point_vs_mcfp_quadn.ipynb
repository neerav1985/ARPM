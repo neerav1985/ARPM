{
 "cells": [
  {
   "cell_type": "markdown",
   "metadata": {},
   "source": [
    "# s_saddle_point_vs_mcfp_quadn [<img src=\"https://www.arpm.co/lab/icons/icon_permalink.png\" width=30 height=30 style=\"display: inline;\">](https://www.arpm.co/lab/redirect.php?code=s_saddle_point_vs_mcfp_quadn&codeLang=Python)\n",
    "For details, see [here](https://www.arpm.co/lab/redirect.php?permalink=eb-mcfpvs-sp)."
   ]
  },
  {
   "cell_type": "code",
   "execution_count": null,
   "metadata": {},
   "outputs": [],
   "source": [
    "import numpy as np\n",
    "import matplotlib.pyplot as plt\n",
    "import matplotlib.gridspec as gridspec\n",
    "\n",
    "from arpym.statistics.saddle_point_quadn import saddle_point_quadn\n",
    "from arpym.statistics.simulate_quadn import simulate_quadn\n",
    "from arpym.statistics.quantile_sp import quantile_sp\n",
    "from arpym.tools.histogram_sp import histogram_sp\n",
    "from arpym.tools.logo import add_logo"
   ]
  },
  {
   "cell_type": "markdown",
   "metadata": {},
   "source": [
    "## [Input parameters](https://www.arpm.co/lab/redirect.php?permalink=s_saddle_point_vs_mcfp_quadn-parameters)"
   ]
  },
  {
   "cell_type": "code",
   "execution_count": null,
   "metadata": {},
   "outputs": [],
   "source": [
    "n_ = 2\n",
    "j_ = 100000"
   ]
  },
  {
   "cell_type": "markdown",
   "metadata": {},
   "source": [
    "## [Step 0](https://www.arpm.co/lab/redirect.php?permalink=s_saddle_point_vs_mcfp_quadn-implementation-step00): Generate random parameters for QuadN dustribution"
   ]
  },
  {
   "cell_type": "code",
   "execution_count": null,
   "metadata": {},
   "outputs": [],
   "source": [
    "alpha = np.random.uniform(0, 1)\n",
    "beta = np.random.uniform(0, 1, size=n_)\n",
    "gamma = np.random.uniform(0, 1, size=(n_, n_))\n",
    "gamma = (gamma + gamma.T)/2  # make gamma symmetric and positive (semi)definite\n",
    "mu = np.random.uniform(0, 1, size=n_)\n",
    "sigma = np.random.uniform(0, 1, size=(n_, n_))\n",
    "sigma2 = sigma@sigma.T  # make sigma2 positive definite"
   ]
  },
  {
   "cell_type": "markdown",
   "metadata": {},
   "source": [
    "## [Step 1](https://www.arpm.co/lab/redirect.php?permalink=s_saddle_point_vs_mcfp_quadn-implementation-step01): Generate quadratic-normal scenarios "
   ]
  },
  {
   "cell_type": "code",
   "execution_count": null,
   "metadata": {},
   "outputs": [],
   "source": [
    "y, p_ = simulate_quadn(alpha, beta, gamma, mu, sigma2, j_)"
   ]
  },
  {
   "cell_type": "markdown",
   "metadata": {},
   "source": [
    "## [Step 2](https://www.arpm.co/lab/redirect.php?permalink=s_saddle_point_vs_mcfp_quadn-implementation-step02): Compute the saddle point approximation of the pdf"
   ]
  },
  {
   "cell_type": "code",
   "execution_count": null,
   "metadata": {},
   "outputs": [],
   "source": [
    "y_grid = np.linspace(quantile_sp(0.001, y, p_), quantile_sp(0.999, y, p_), 500)\n",
    "cdf, pdf = saddle_point_quadn(y_grid, alpha, beta, gamma, mu, sigma2)"
   ]
  },
  {
   "cell_type": "markdown",
   "metadata": {},
   "source": [
    "## [Step 3](https://www.arpm.co/lab/redirect.php?permalink=s_saddle_point_vs_mcfp_quadn-implementation-step03): Compute Calculate the heights and bin centers of the normalized empirical histogram"
   ]
  },
  {
   "cell_type": "code",
   "execution_count": null,
   "metadata": {},
   "outputs": [],
   "source": [
    "f_hat, grid = histogram_sp(y, p=p_, k_=200)"
   ]
  },
  {
   "cell_type": "markdown",
   "metadata": {},
   "source": [
    "## Plots"
   ]
  },
  {
   "cell_type": "code",
   "execution_count": null,
   "metadata": {},
   "outputs": [],
   "source": [
    "plt.style.use('arpm')\n",
    "darkred = [.9, 0, 0]\n",
    "lightgrey = [.8, .8, .8]\n",
    "plt.figure()\n",
    "mydpi = 72.0\n",
    "f = plt.figure(figsize=(1280.0/mydpi, 720.0/mydpi), dpi=mydpi)\n",
    "\n",
    "gs = gridspec.GridSpec(2, 2)\n",
    "gs.update(wspace=0.5, hspace=0.5)\n",
    "ax1 = plt.subplot(gs[0, :])\n",
    "ax1.bar(grid, f_hat, width=grid[1] - grid[0], color=lightgrey, label='Monte Carlo')\n",
    "ax1.plot(y_grid, pdf, color=darkred, label='Saddle point')\n",
    "plt.legend()\n",
    "xlim = [max(grid[0], y_grid[0]), min(grid[-1], y_grid[-1])]\n",
    "ax1.set_xlim(xlim)\n",
    "ax1.set_title('Quadratic-normal pdf')\n",
    "\n",
    "ax2 = plt.subplot(gs[1, :])\n",
    "ax2.hist(y, bins=15*int(np.log(j_)), density=True,\n",
    "           color=lightgrey, cumulative=True, label='Monte Carlo')\n",
    "ax2.plot(y_grid, cdf, color=darkred, label='Saddle point')\n",
    "plt.legend()\n",
    "ax2.set_xlim(xlim)\n",
    "ax2.set_title('Quadratic-normal cdf')\n",
    "\n",
    "add_logo(f, location=4)"
   ]
  }
 ],
 "metadata": {
  "jupytext": {
   "encoding": "# -*- coding: utf-8 -*-",
   "executable": "/usr/bin/env python3"
  },
  "kernelspec": {
   "display_name": "Python 3",
   "language": "python",
   "name": "python3"
  }
 },
 "nbformat": 4,
 "nbformat_minor": 4
}
