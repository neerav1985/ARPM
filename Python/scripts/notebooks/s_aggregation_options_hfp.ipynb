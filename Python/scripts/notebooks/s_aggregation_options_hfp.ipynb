{
 "cells": [
  {
   "cell_type": "markdown",
   "metadata": {},
   "source": [
    "# s_aggregation_options_hfp [<img src=\"https://www.arpm.co/lab/icons/icon_permalink.png\" width=30 height=30 style=\"display: inline;\">](https://www.arpm.co/lab/redirect.php?code=s_aggregation_options_hfp&codeLang=Python)\n",
    "For details, see [here](https://www.arpm.co/lab/redirect.php?permalink=eb-aggr-hfp)."
   ]
  },
  {
   "cell_type": "code",
   "execution_count": null,
   "metadata": {},
   "outputs": [],
   "source": [
    "import pandas as pd\n",
    "import numpy as np\n",
    "import matplotlib.pyplot as plt\n",
    "import matplotlib.dates as mdates\n",
    "from pandas.plotting import register_matplotlib_converters\n",
    "register_matplotlib_converters()\n",
    "\n",
    "from arpym.statistics.meancov_sp import meancov_sp\n",
    "from arpym.tools.colormap_fp import colormap_fp\n",
    "from arpym.tools.histogram_sp import histogram_sp\n",
    "from arpym.tools.logo import add_logo\n",
    "\n",
    "from arpym.estimation.effective_num_scenarios import effective_num_scenarios"
   ]
  },
  {
   "cell_type": "markdown",
   "metadata": {},
   "source": [
    "## [Input parameters](https://www.arpm.co/lab/redirect.php?permalink=s_aggregation_options_hfp-parameters)"
   ]
  },
  {
   "cell_type": "code",
   "execution_count": null,
   "metadata": {},
   "outputs": [],
   "source": [
    "h = np.array([1, 1])  # holdings"
   ]
  },
  {
   "cell_type": "markdown",
   "metadata": {},
   "source": [
    "## [Step 0](https://www.arpm.co/lab/redirect.php?permalink=s_aggregation_options_hfp-implementation-step00): Extract data from db_pric_options"
   ]
  },
  {
   "cell_type": "code",
   "execution_count": null,
   "metadata": {},
   "outputs": [],
   "source": [
    "path = '~/databases/temporary-databases/'\n",
    "# read the database\n",
    "df = pd.read_csv(path + 'db_pric_options.csv', index_col=0)\n",
    "\n",
    "pi_call = np.array(df['pi_call'])  # call option P&L scenarios\n",
    "pi_put = np.array(df['pi_put'])  # put option P&L scenarios\n",
    "p = np.array(df['p'])  # probabilities\n",
    "dates = np.array(df.index.values)  # dates"
   ]
  },
  {
   "cell_type": "markdown",
   "metadata": {},
   "source": [
    "## [Step 1](https://www.arpm.co/lab/redirect.php?permalink=s_aggregation_options_hfp-implementation-step01): Compute the portfolio P&L scenarios and distribution"
   ]
  },
  {
   "cell_type": "code",
   "execution_count": null,
   "metadata": {},
   "outputs": [],
   "source": [
    "pi_h = h.T@np.r_[[pi_call], [pi_put]]  # portfolio P&L scenarios\n",
    "ens = effective_num_scenarios(p)  # effective number scenarios\n",
    "\n",
    "# mean and standard deviation of the portfolio P&L distribution\n",
    "[mu_pi_h, sigma2_pi_h] = meancov_sp(pi_h, p)\n",
    "sigma_pi_h = np.sqrt(sigma2_pi_h)\n",
    "\n",
    "# mean and standard deviation of the call option P&L distribution\n",
    "[mu_pi_call, sigma2_pi_call] = meancov_sp(pi_call, p)\n",
    "sigma_pi_call = np.sqrt(sigma2_pi_call)\n",
    "\n",
    "# mean and standard deviation of the put option P&L distribution\n",
    "[mu_pi_put, sigma2_pi_put] = meancov_sp(pi_put, p)\n",
    "sigma_pi_put = np.sqrt(sigma2_pi_put)"
   ]
  },
  {
   "cell_type": "markdown",
   "metadata": {},
   "source": [
    "## Plots"
   ]
  },
  {
   "cell_type": "code",
   "execution_count": null,
   "metadata": {},
   "outputs": [],
   "source": [
    "plt.style.use('arpm')\n",
    "\n",
    "colhist = [.9, .9, .9]\n",
    "colhistedge = [.4, .4, .4]\n",
    "len_pi1 = len(pi_call)\n",
    "len_pi2 = len(pi_put)\n",
    "len_pih = len(pi_h)\n",
    "\n",
    "d = np.linspace(0, len_pi1-1, 4, dtype='int')\n",
    "\n",
    "colors = np.tile(np.arange(0, 0.85, 0.05), (3, 1)).T\n",
    "cm, fpcolors = colormap_fp(p, np.min(p), np.max(p), colors)\n",
    "\n",
    "myFmt = mdates.DateFormatter('%d-%b-%y')\n",
    "\n",
    "# call option P&L\n",
    "fig, ax = plt.subplots(2, 1)\n",
    "# scatter plot\n",
    "dates = pd.to_datetime(dates)\n",
    "ax[0].scatter(dates, pi_call, c=fpcolors, marker='.', cmap=cm)\n",
    "ax[0].axis([min(dates), max(dates), np.min(pi_call), np.max(pi_call)])\n",
    "ax[0].set_xticks(dates[d])\n",
    "ax[0].xaxis.set_major_formatter(myFmt)\n",
    "ax[0].set_title('Scatter plot call P&L')\n",
    "\n",
    "# histogram\n",
    "n_bins = np.round(20 * np.log(ens))\n",
    "height_1, center_1 = histogram_sp(pi_call, p=p, k_=n_bins)\n",
    "ax[1].bar(center_1, height_1, facecolor=colhist, edgecolor=colhistedge)\n",
    "ax[1].set_xlim([np.min(pi_call), np.max(pi_call)])\n",
    "ax[1].set_title('Histogram call P&L')\n",
    "s1 = 'Mean   %1.3e \\nSdev    %1.3e ' % (mu_pi_call, sigma_pi_call)\n",
    "\n",
    "plt.text(np.max(pi_call), np.max(height_1), s1, horizontalalignment='right',\n",
    "         verticalalignment='top')\n",
    "add_logo(fig)\n",
    "plt.tight_layout()\n",
    "\n",
    "# put option P&L\n",
    "fig, ax = plt.subplots(2, 1)\n",
    "# scatterplot\n",
    "ax[0].scatter(dates, pi_put, c=fpcolors, marker='.', cmap=cm)\n",
    "ax[0].axis([min(dates), max(dates), np.min(pi_put), np.max(pi_put)])\n",
    "ax[0].set_xticks(dates[d])\n",
    "myFmt = mdates.DateFormatter('%d-%b-%y')\n",
    "ax[0].xaxis.set_major_formatter(myFmt)\n",
    "ax[0].set_title('Scatter plot put P&L')\n",
    "\n",
    "# histogram\n",
    "n_bins = np.round(20 * np.log(ens))\n",
    "height_2, center_2 = histogram_sp(pi_call, p=p, k_=n_bins)\n",
    "ax[1].bar(center_2, height_2, facecolor=colhist, edgecolor=colhistedge)\n",
    "ax[1].set_xlim([np.min(pi_put), np.max(pi_put)])\n",
    "ax[1].set_title('Histogram put P&L')\n",
    "s2 = 'Mean   %1.3e \\nSdev    %1.3e ' % (mu_pi_put, sigma_pi_put)\n",
    "\n",
    "plt.text(np.max(pi_put), np.max(height_2), s2, horizontalalignment='right',\n",
    "         verticalalignment='top')\n",
    "add_logo(fig)\n",
    "plt.tight_layout()\n",
    "\n",
    "# portfolio P&L (long call option + short put option)\n",
    "fig, ax = plt.subplots(2, 1)\n",
    "# scatter plot\n",
    "ax[0].scatter(dates, pi_h, c=fpcolors, marker='.', cmap=cm)\n",
    "ax[0].axis([min(dates), max(dates), np.min(pi_h), np.max(pi_h)])\n",
    "ax[0].set_xticks(dates[d])\n",
    "myFmt = mdates.DateFormatter('%d-%b-%y')\n",
    "ax[0].xaxis.set_major_formatter(myFmt)\n",
    "ax[0].set_title('Scatter plot portfolio P&L')\n",
    "\n",
    "# histogram\n",
    "n_bins = np.round(20 * np.log(ens))\n",
    "height_h, center_h = histogram_sp(pi_h, p=p, k_=n_bins)\n",
    "\n",
    "ax[1].bar(center_h, height_h, facecolor=colhist, edgecolor=colhistedge)\n",
    "ax[1].set_xlim([np.min(pi_h), np.max(pi_h)])\n",
    "ax[1].set_title('Histogram portfolio P&L')\n",
    "sh = 'Mean   %1.3e \\nSdev    %1.3e ' % (mu_pi_h, sigma_pi_h)\n",
    "\n",
    "plt.text(np.max(pi_h), np.max(height_h), sh, horizontalalignment='right',\n",
    "         verticalalignment='top')\n",
    "\n",
    "add_logo(fig)\n",
    "plt.tight_layout()"
   ]
  }
 ],
 "metadata": {
  "jupytext": {
   "encoding": "# -*- coding: utf-8 -*-",
   "executable": "/usr/bin/env python3"
  },
  "kernelspec": {
   "display_name": "Python 3",
   "language": "python",
   "name": "python3"
  }
 },
 "nbformat": 4,
 "nbformat_minor": 4
}
