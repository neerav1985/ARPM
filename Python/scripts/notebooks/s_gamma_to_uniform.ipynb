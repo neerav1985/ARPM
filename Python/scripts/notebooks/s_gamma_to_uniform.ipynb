{
 "cells": [
  {
   "cell_type": "markdown",
   "metadata": {},
   "source": [
    "# s_gamma_to_uniform [<img src=\"https://www.arpm.co/lab/icons/icon_permalink.png\" width=30 height=30 style=\"display: inline;\">](https://www.arpm.co/lab/redirect.php?code=s_gamma_to_uniform&codeLang=Python)\n",
    "For details, see [here](https://www.arpm.co/lab/redirect.php?permalink=eb-gamma-to-unif)."
   ]
  },
  {
   "cell_type": "code",
   "execution_count": null,
   "metadata": {},
   "outputs": [],
   "source": [
    "import numpy as np\n",
    "from scipy import stats\n",
    "import matplotlib.pyplot as plt\n",
    "\n",
    "from arpym.tools.histogram_sp import histogram_sp\n",
    "from arpym.tools.logo import add_logo"
   ]
  },
  {
   "cell_type": "markdown",
   "metadata": {},
   "source": [
    "## [Input parameters](https://www.arpm.co/lab/redirect.php?permalink=s_gamma_to_uniform-parameters)"
   ]
  },
  {
   "cell_type": "code",
   "execution_count": null,
   "metadata": {},
   "outputs": [],
   "source": [
    "k = 4  # shape parameter\n",
    "theta = 4  # scale parameter\n",
    "j_ = 100000  # number of scenarios"
   ]
  },
  {
   "cell_type": "markdown",
   "metadata": {},
   "source": [
    "## [Step 1](https://www.arpm.co/lab/redirect.php?permalink=s_gamma_to_uniform-implementation-step01): Generate a gamma-distributed sample"
   ]
  },
  {
   "cell_type": "code",
   "execution_count": null,
   "metadata": {},
   "outputs": [],
   "source": [
    "x = stats.gamma.rvs(k, theta, size=j_)"
   ]
  },
  {
   "cell_type": "markdown",
   "metadata": {},
   "source": [
    "## [Step 2](https://www.arpm.co/lab/redirect.php?permalink=s_gamma_to_uniform-implementation-step02): Apply the gamma cdf to the sample"
   ]
  },
  {
   "cell_type": "code",
   "execution_count": null,
   "metadata": {},
   "outputs": [],
   "source": [
    "u = stats.gamma.cdf(x, k , theta)"
   ]
  },
  {
   "cell_type": "markdown",
   "metadata": {},
   "source": [
    "## [Step 3](https://www.arpm.co/lab/redirect.php?permalink=s_gamma_to_uniform-implementation-step03): Compute the empirical histogram of the pdf of the grade sample"
   ]
  },
  {
   "cell_type": "code",
   "execution_count": null,
   "metadata": {},
   "outputs": [],
   "source": [
    "k_bar = np.round(3*np.log(j_))\n",
    "[f_hist, xi] = histogram_sp(u, k_=k_bar)"
   ]
  },
  {
   "cell_type": "markdown",
   "metadata": {},
   "source": [
    "## Plots"
   ]
  },
  {
   "cell_type": "code",
   "execution_count": null,
   "metadata": {},
   "outputs": [],
   "source": [
    "plt.style.use('arpm')\n",
    "fig = plt.figure(figsize=(1280.0/72.0, 720.0/72.0), dpi=72.0)\n",
    "plt.title('Gamma-to-uniform mapping', fontsize=20, fontweight='bold')\n",
    "# empirical pdf\n",
    "plt.bar(xi, f_hist, width=xi[1]-xi[0], facecolor=[.7, .7, .7],\n",
    "        edgecolor='k',  label='empirical pdf')\n",
    "# uniform analytical pdf\n",
    "plt.plot(np.linspace(0, 1, num=50), np.ones(50),\n",
    "         color='red', lw=1.5, label='uniform pdf')  \n",
    "plt.grid(True)\n",
    "plt.ylim([0, 1.25*max(xi)])\n",
    "plt.xticks(fontsize=14)\n",
    "plt.yticks(fontsize=14)\n",
    "plt.legend(fontsize=17)\n",
    "add_logo(fig, location=2, set_fig_size=False)\n",
    "plt.tight_layout()"
   ]
  }
 ],
 "metadata": {
  "jupytext": {
   "encoding": "# -*- coding: utf-8 -*-",
   "executable": "/usr/bin/env python3"
  },
  "kernelspec": {
   "display_name": "Python 3",
   "language": "python",
   "name": "python3"
  }
 },
 "nbformat": 4,
 "nbformat_minor": 4
}
