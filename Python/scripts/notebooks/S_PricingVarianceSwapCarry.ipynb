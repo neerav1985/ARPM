{
 "cells": [
  {
   "cell_type": "markdown",
   "metadata": {},
   "source": [
    "# S_PricingVarianceSwapCarry [<img src=\"https://www.arpm.co/lab/icons/icon_permalink.png\" width=30 height=30 style=\"display: inline;\">](https://www.arpm.co/lab/redirect.php?code=S_PricingVarianceSwapCarry&codeLang=Python)\n",
    "For details, see [here](https://www.arpm.co/lab/redirect.php?permalink=eb-4-carry-variance)."
   ]
  },
  {
   "cell_type": "markdown",
   "metadata": {},
   "source": [
    "## Prepare the environment"
   ]
  },
  {
   "cell_type": "code",
   "execution_count": null,
   "metadata": {},
   "outputs": [],
   "source": [
    "import os\n",
    "import os.path as path\n",
    "import sys\n",
    "\n",
    "sys.path.append(path.abspath('../../functions-legacy'))\n",
    "\n",
    "from numpy import ones, where, linspace, exp, min as npmin, max as npmax\n",
    "\n",
    "from scipy.io import loadmat\n",
    "from scipy.interpolate import interp1d\n",
    "\n",
    "import matplotlib.pyplot as plt\n",
    "from matplotlib.pyplot import plot, subplots, ylabel, \\\n",
    "    xlabel, xticks\n",
    "\n",
    "plt.style.use('seaborn')\n",
    "\n",
    "from CONFIG import GLOBAL_DB, TEMPORARY_DB\n",
    "from ARPM_utils import save_plot, struct_to_dict\n",
    "from RollPrices2YieldToMat import RollPrices2YieldToMat\n",
    "\n",
    "# initial settings\n",
    "tau = 0.5  # t_end-t_start\n",
    "upsilon = 1.5  # t_start-t\n",
    "upsilon_u = linspace(upsilon, 0, 600)  # t_start-upsilon"
   ]
  },
  {
   "cell_type": "markdown",
   "metadata": {},
   "source": [
    "## Upload the realized time series of the rolling values and the (spot) variance spot rates on the S&P500"
   ]
  },
  {
   "cell_type": "code",
   "execution_count": null,
   "metadata": {},
   "outputs": [],
   "source": [
    "try:\n",
    "    db = loadmat(os.path.join(GLOBAL_DB, 'db_SwapCurve'), squeeze_me=True)\n",
    "except FileNotFoundError:\n",
    "    db = loadmat(os.path.join(TEMPORARY_DB, 'db_SwapCurve'), squeeze_me=True)\n",
    "\n",
    "DF_Rolling = struct_to_dict(db['DF_Rolling'])\n",
    "\n",
    "try:\n",
    "    db = loadmat(os.path.join(GLOBAL_DB, 'db_VarianceSwap'), squeeze_me=True)\n",
    "except FileNotFoundError:\n",
    "    db = loadmat(os.path.join(TEMPORARY_DB, 'db_VarianceSwap'), squeeze_me=True)\n",
    "\n",
    "VarianceSwapRate = struct_to_dict(db['VarianceSwapRate'])"
   ]
  },
  {
   "cell_type": "markdown",
   "metadata": {},
   "source": [
    "## Select today rolling prices, where today is t= 03-Oct-2012. Compute the yield with time to maturity upsilon+tau needed to compute the vega carry"
   ]
  },
  {
   "cell_type": "code",
   "execution_count": null,
   "metadata": {},
   "outputs": [],
   "source": [
    "y, _ = RollPrices2YieldToMat(DF_Rolling.TimeToMat[DF_Rolling.TimeToMat == 2],\n",
    "                             DF_Rolling.Prices[DF_Rolling.TimeToMat == 2, DF_Rolling.Dates == VarianceSwapRate.date].reshape(1,-1))"
   ]
  },
  {
   "cell_type": "markdown",
   "metadata": {},
   "source": [
    "## Compute the forward variance swap rate  sigma2_{t}(upsilon,tau)"
   ]
  },
  {
   "cell_type": "code",
   "execution_count": null,
   "metadata": {},
   "outputs": [],
   "source": [
    "forwardVariance = ((upsilon + tau) / tau)*VarianceSwapRate.SwapRate[VarianceSwapRate.timeToMat == upsilon + tau]\\\n",
    "                  -(upsilon / tau)*VarianceSwapRate.SwapRate[VarianceSwapRate.timeToMat == upsilon]\n",
    "# ForwardVariance((upsilon,tau))"
   ]
  },
  {
   "cell_type": "markdown",
   "metadata": {},
   "source": [
    "## After interpolating the values of the spot variance swap rates sigma2_{t}(upsilon_u) and  sigma2_{t}(upsilon_u+tau), compute the forward variance swap rate at the horizon  sigma2_{t}(upsilon_u,tau)"
   ]
  },
  {
   "cell_type": "code",
   "execution_count": null,
   "metadata": {},
   "outputs": [],
   "source": [
    "# Spot variance swap rates\n",
    "interp = interp1d(VarianceSwapRate.timeToMat, VarianceSwapRate.SwapRate, fill_value='extrapolate')\n",
    "spotVariance2 = interp(upsilon_u)\n",
    "\n",
    "# spotvariance((upsilon_u))\n",
    "spotVariance1 = interp(upsilon_u + tau)\n",
    "\n",
    "# spotvariance((upsilon_u+tau))\n",
    "\n",
    "# Forward variance swap rate at horizon\n",
    "\n",
    "forwardVarianceHor = ((upsilon_u + tau) / tau) * spotVariance1 - (upsilon_u / tau) * spotVariance2"
   ]
  },
  {
   "cell_type": "markdown",
   "metadata": {},
   "source": [
    "## Compute the \"vega\" carry of the forward start variance swap"
   ]
  },
  {
   "cell_type": "code",
   "execution_count": null,
   "metadata": {},
   "outputs": [],
   "source": [
    "vegaCarry = exp((-(upsilon + tau))*y)*(forwardVarianceHor - forwardVariance)"
   ]
  },
  {
   "cell_type": "markdown",
   "metadata": {},
   "source": [
    "## Plot the vega carry at a selected horizon (upsilon = 1 year),\n",
    "## along with the forward variance swap rate curve corresponding to the steady path as a function to the time to start at the horizon (upsilon_u)."
   ]
  },
  {
   "cell_type": "code",
   "execution_count": null,
   "metadata": {},
   "outputs": [],
   "source": [
    "f, ax = subplots(2,1)\n",
    "\n",
    "mC = npmin(vegaCarry)\n",
    "MC = npmax(vegaCarry)\n",
    "k_ = len(upsilon_u)\n",
    "time_to_u = upsilon - upsilon_u\n",
    "grey = [.7, .7, .7]  # light grey\n",
    "xtl = [' 0','3m', ' 6m', ' 9m', ' 1y', '15m', '18m']\n",
    "k = where(upsilon_u > 0.5)[0][-1]\n",
    "\n",
    "# \"vega\" carry curve\n",
    "plt.sca(ax[0])\n",
    "xlabel('Time to horizon')\n",
    "ylabel('Vega carry')\n",
    "p1 = plot([time_to_u[k_ - k + 1], time_to_u[k_ - k + 1]], [mC, MC], color='k',lw= 2)\n",
    "plt.fill_between(time_to_u[k_ - k :k_],vegaCarry[0,:k],0,facecolor= grey, edgecolor= grey)\n",
    "plt.axis([time_to_u[0], time_to_u[-1], mC, MC])\n",
    "xticks(time_to_u[k_ - k :k_:120],xtl)\n",
    "plt.grid(True)\n",
    "\n",
    "# Forward variance swap rate at horizon curve\n",
    "\n",
    "plt.sca(ax[1])\n",
    "xlabel('Time between horizon and start')\n",
    "ylabel('Forward variance swap rate')\n",
    "plot(upsilon_u, forwardVarianceHor, color='b',lw= 2)\n",
    "plot([upsilon_u[k], upsilon_u[k]],[forwardVarianceHor[k], forwardVarianceHor[k]], color = 'r',\n",
    "marker='.',markersize= 15)\n",
    "plt.axis([upsilon_u[-1], upsilon_u[0], min(forwardVarianceHor), max(forwardVarianceHor)])\n",
    "plt.grid(True)\n",
    "plt.tight_layout();\n",
    "# save_plot(ax=plt.gca(), extension='png', scriptname=os.path.basename('.')[:-3], count=plt.get_fignums()[-1])\n"
   ]
  }
 ],
 "metadata": {
  "jupytext": {
   "encoding": "# -*- coding: utf-8 -*-",
   "executable": "/usr/bin/env python3"
  },
  "kernelspec": {
   "display_name": "Python 3",
   "language": "python",
   "name": "python3"
  }
 },
 "nbformat": 4,
 "nbformat_minor": 4
}
