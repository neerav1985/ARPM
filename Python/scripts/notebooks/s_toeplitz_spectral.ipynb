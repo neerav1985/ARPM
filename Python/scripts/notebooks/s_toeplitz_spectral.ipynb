{
 "cells": [
  {
   "cell_type": "markdown",
   "metadata": {},
   "source": [
    "# s_toeplitz_spectral [<img src=\"https://www.arpm.co/lab/icons/icon_permalink.png\" width=30 height=30 style=\"display: inline;\">](https://www.arpm.co/lab/redirect.php?code=s_toeplitz_spectral&codeLang=Python)\n",
    "For details, see [here](https://www.arpm.co/lab/redirect.php?permalink=s_toeplitz_spectral)."
   ]
  },
  {
   "cell_type": "code",
   "execution_count": null,
   "metadata": {},
   "outputs": [],
   "source": [
    "import numpy as np\n",
    "from numpy import linalg\n",
    "import matplotlib.pyplot as plt\n",
    "from scipy.linalg import toeplitz\n",
    "from arpym.tools.pca_cov import pca_cov\n",
    "from arpym.tools.logo import add_logo"
   ]
  },
  {
   "cell_type": "markdown",
   "metadata": {},
   "source": [
    "## [Input parameters](https://www.arpm.co/lab/redirect.php?permalink=s_toeplitz_spectral-parameters)"
   ]
  },
  {
   "cell_type": "code",
   "execution_count": null,
   "metadata": {},
   "outputs": [],
   "source": [
    "b = 0.5\n",
    "sigma2_eps = 1-b**2\n",
    "tvec = range(200, 600)\n",
    "delta_orth = np.zeros((len(tvec), 1))\n",
    "delta_decomp = np.zeros((len(tvec), 1))\n",
    "delta_spectrum = np.zeros((len(tvec), 1))"
   ]
  },
  {
   "cell_type": "code",
   "execution_count": null,
   "metadata": {},
   "outputs": [],
   "source": [
    "for t in range(1, len(tvec)+1):\n",
    "\n",
    "    # ## Step 1: Compute Autocovariance function\n",
    "\n",
    "    k_x = sigma2_eps*b**(np.arange(2*t+1))/(1-b**2)  # autocovariance fun\n",
    "    cv_x = toeplitz(k_x)  # autocovariance matrix\n",
    "\n",
    "    # ## Step 2: Compute theoretical eigenvectors\n",
    "    omega_vec = np.zeros((2*t+1, 1))\n",
    "    for j in range(1, 2*t+2):\n",
    "        omega_vec[j-1] = ((-1)**(j-1))*j*np.pi/(2*t+1)\n",
    "    omega_vec = np.sort(omega_vec, axis=None)\n",
    "    delta_omega = 2*np.pi/(2*t+1)\n",
    "    s = np.zeros((2*t+1, t))\n",
    "    c = np.zeros((2*t+1, t+1))\n",
    "    for j in range(t):\n",
    "        s[:, j] = np.sin(omega_vec[j]*np.linspace(-t, t, 2*t+1))\n",
    "    for j in range(t+1):\n",
    "        c[:, j] = np.cos(omega_vec[j+t]*np.linspace(-t, t, 2*t+1))\n",
    "    p = np.c_[s, c]\n",
    "\n",
    "    # ## Step 3: Compute spectral density of the AR(1)\n",
    "\n",
    "    ktilde_x = sigma2_eps/(1-2*b*np.cos(omega_vec) + b**2)\n",
    "\n",
    "    # ## Step 4: Compute empirical eigenvelues and eigenvectors\n",
    "\n",
    "    e, lambda2 = pca_cov(cv_x)\n",
    "    if b < 0:\n",
    "        ind_asc = np.argsort(lambda2)\n",
    "        lambda2 = lambda2[ind_asc]\n",
    "        e = e[:, ind_asc]\n",
    "    lambda2_new = []\n",
    "    ind_e = []*(2*t+1)\n",
    "    for n in range(1, 2*t+2):\n",
    "        if n % 2 == 1:\n",
    "            lambda2_new = np.append(lambda2_new, lambda2[n-1])\n",
    "            ind_e = np.append(ind_e, n-1)\n",
    "        else:\n",
    "            lambda2_new = np.append(lambda2[n-1], lambda2_new)\n",
    "            ind_e = np.append(n-1, ind_e)\n",
    "    ind_e1 = [int(i) for i in ind_e]\n",
    "    lambda2 = lambda2_new\n",
    "    e = e[:, ind_e1]\n",
    "\n",
    "    # ## Step 5: Compute spectrum error\n",
    "\n",
    "    delta_spectrum[t-1] = linalg.norm(lambda2-ktilde_x)/linalg.norm(ktilde_x)\n",
    "\n",
    "    # ## Step 6: Compute decomposition error\n",
    "\n",
    "    cv_x_recov = p@np.diag(ktilde_x)@p.T\n",
    "    eta = np.sqrt(np.pi/(delta_omega))*e\n",
    "    delta_decomp[t-1] = linalg.norm(eta@np.diag(lambda2)@eta.T-cv_x_recov)/linalg.norm(cv_x_recov)\n",
    "\n",
    "    # ## Step 7: Compute orthogonalization error\n",
    "\n",
    "    delta_orth[t-1] = linalg.norm(p.T@p-np.pi/(delta_omega)*np.eye(2*t+1))/linalg.norm(np.pi/(delta_omega)*np.eye(2*t+1))"
   ]
  },
  {
   "cell_type": "markdown",
   "metadata": {},
   "source": [
    "## Plots"
   ]
  },
  {
   "cell_type": "code",
   "execution_count": null,
   "metadata": {},
   "outputs": [],
   "source": [
    "plt.style.use('arpm')\n",
    "plt.rcParams['mathtext.fontset'] = 'custom'\n",
    "plt.rcParams['mathtext.it'] = 'STIXGeneral:italic'\n",
    "plt.rcParams['mathtext.bf'] = 'STIXGeneral:italic:bold'\n",
    "darkgreen = [0, 0.7, 0]\n",
    "darkred = [.9, 0, 0]\n",
    "darkgrey = [.1, .1, .1]\n",
    "\n",
    "mydpi = 72.0\n",
    "f = plt.figure(figsize=(1280.0/mydpi, 720.0/mydpi), dpi=mydpi)\n",
    "taulim = [tvec[0], tvec[-1]]\n",
    "plt.plot(tvec, delta_spectrum, color='darkgreen', linewidth=1)\n",
    "plt.plot(tvec, delta_decomp, color='darkred', linewidth=1)\n",
    "plt.plot(tvec, delta_orth, color='darkgrey', linewidth=1)\n",
    "plt.xlabel('$t$', fontsize=17)\n",
    "plt.legend([r'Spectrum error', r'Decomposition error', r'Orthogonalization error'])\n",
    "plt.title('Spectral theorem for Toeplitz matrices', fontsize=20)\n",
    "add_logo(f, location=4)\n",
    "plt.tight_layout()"
   ]
  }
 ],
 "metadata": {
  "jupytext": {
   "encoding": "# -*- coding: utf-8 -*-",
   "executable": "/usr/bin/env python3"
  },
  "kernelspec": {
   "display_name": "Python 3",
   "language": "python",
   "name": "python3"
  }
 },
 "nbformat": 4,
 "nbformat_minor": 4
}
