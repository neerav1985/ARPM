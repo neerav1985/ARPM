{
 "cells": [
  {
   "cell_type": "markdown",
   "metadata": {},
   "source": [
    "# s_shrinkage_factor [<img src=\"https://www.arpm.co/lab/icons/icon_permalink.png\" width=30 height=30 style=\"display: inline;\">](https://www.arpm.co/lab/redirect.php?code=s_shrinkage_factor&codeLang=Python)\n",
    "For details, see [here](https://www.arpm.co/lab/redirect.php?permalink=ExerLRD)."
   ]
  },
  {
   "cell_type": "code",
   "execution_count": null,
   "metadata": {},
   "outputs": [],
   "source": [
    "import pandas as pd\n",
    "import numpy as np\n",
    "import matplotlib.pyplot as plt\n",
    "\n",
    "from arpym.estimation.cov_2_corr import cov_2_corr\n",
    "from arpym.estimation.exp_decay_fp import exp_decay_fp\n",
    "from arpym.estimation.factor_analysis_paf import factor_analysis_paf\n",
    "from arpym.statistics.meancov_sp import meancov_sp\n",
    "from arpym.tools.logo import add_logo"
   ]
  },
  {
   "cell_type": "markdown",
   "metadata": {},
   "source": [
    "## [Input parameters](https://www.arpm.co/lab/redirect.php?permalink=s_shrinkage_factor-parameters)"
   ]
  },
  {
   "cell_type": "code",
   "execution_count": null,
   "metadata": {},
   "outputs": [],
   "source": [
    "tau_hl = 180    # half life\n",
    "k_ = 25    # dimension of hidden factors"
   ]
  },
  {
   "cell_type": "markdown",
   "metadata": {},
   "source": [
    "## [Step 0](https://www.arpm.co/lab/redirect.php?permalink=s_shrinkage_factor-implementation-step00): Load data"
   ]
  },
  {
   "cell_type": "code",
   "execution_count": null,
   "metadata": {},
   "outputs": [],
   "source": [
    "path = '~/databases/temporary-databases/'\n",
    "x = np.array(pd.read_csv(path + 'db_GARCH_residuals.csv', index_col=0))    # target\n",
    "t_, n_ = x.shape"
   ]
  },
  {
   "cell_type": "markdown",
   "metadata": {},
   "source": [
    "## [Step 1](https://www.arpm.co/lab/redirect.php?permalink=s_shrinkage_factor-implementation-step01): Compute the HFP correlation"
   ]
  },
  {
   "cell_type": "code",
   "execution_count": null,
   "metadata": {},
   "outputs": [],
   "source": [
    "p_tau_hl = exp_decay_fp(t_, tau_hl)    # exponential decay probabilities\n",
    "_, sigma2_hfp = meancov_sp(x, p_tau_hl)    # HFP covariance matrix\n",
    "c2, _ = cov_2_corr(sigma2_hfp)    # HFP correlation matrix"
   ]
  },
  {
   "cell_type": "markdown",
   "metadata": {},
   "source": [
    "## [Step 2](https://www.arpm.co/lab/redirect.php?permalink=s_shrinkage_factor-implementation-step02): Compute the loadings and idiosyncratic variances via PAF"
   ]
  },
  {
   "cell_type": "code",
   "execution_count": null,
   "metadata": {},
   "outputs": [],
   "source": [
    "beta_fa_hat, delta2_fa_hat = factor_analysis_paf(sigma2_hfp, k_)    # factor loadings and and idiosyncratic variances"
   ]
  },
  {
   "cell_type": "markdown",
   "metadata": {},
   "source": [
    "## [Step 3](https://www.arpm.co/lab/redirect.php?permalink=s_shrinkage_factor-implementation-step03): Compute the factor analysis correlation and the Frobenius norm"
   ]
  },
  {
   "cell_type": "code",
   "execution_count": null,
   "metadata": {},
   "outputs": [],
   "source": [
    "sigma2_fa = beta_fa_hat @ beta_fa_hat.T + np.diag(delta2_fa_hat)    # model covariance matrix\n",
    "c2_fa, _ = cov_2_corr(sigma2_fa)    # model correlation matrix\n",
    "d_fro = np.linalg.norm(c2 - c2_fa, ord='fro') / \\\n",
    "        np.linalg.norm(c2, ord='fro') * 100.    # Frobenius distance"
   ]
  },
  {
   "cell_type": "markdown",
   "metadata": {},
   "source": [
    "## Plots"
   ]
  },
  {
   "cell_type": "code",
   "execution_count": null,
   "metadata": {},
   "outputs": [],
   "source": [
    "plt.style.use('arpm')\n",
    "\n",
    "cmax = 0.75\n",
    "bmax = 0.5\n",
    "bmin = -0.5\n",
    "cbar = np.linspace(0, cmax, 6)\n",
    "bbar = np.linspace(bmin, bmax, 6)\n",
    "\n",
    "fig, ax = plt.subplots(2, 2)\n",
    "\n",
    "plt.sca(ax[0, 0])\n",
    "cax_1 = plt.imshow(abs(c2_fa), vmin=0, vmax=cmax, aspect='equal')\n",
    "cbar_1 = fig.colorbar(cax_1, ticks=cbar, format='%.2f', shrink=0.53)\n",
    "cbar_1.ax.set_yticklabels(['0', '0.15', '0.3', '0.45', '0.6', '>0.75'])\n",
    "plt.grid(False)\n",
    "plt.title('Factor analysis correlation (abs)')\n",
    "\n",
    "plt.sca(ax[0, 1])\n",
    "cax_2 = plt.imshow(abs(c2), vmin=0, vmax=cmax, aspect='equal')\n",
    "cbar_2 = fig.colorbar(cax_2, ticks=cbar, format='%.2f', shrink=0.53)\n",
    "cbar_2.ax.set_yticklabels(['0', '0.15', '0.3', '0.45', '0.6', '>0.75'])\n",
    "plt.grid(False)\n",
    "plt.title('Correlation (abs)')\n",
    "\n",
    "plt.sca(ax[1, 0])\n",
    "cax_1 = plt.imshow(beta_fa_hat, vmin=bmin, vmax=bmax, aspect='equal')\n",
    "cbar_1 = fig.colorbar(cax_1, ticks=bbar, format='%.2f', shrink=0.53)\n",
    "cbar_1.ax.set_yticklabels(['<-0.5', '-0.3', '-0.1', '0.1', '0.3', '>0.5'])\n",
    "plt.grid(False)\n",
    "plt.title('Loadings')\n",
    "plt.text(-0.8, -0.2, 'Frobenius percentage distance:  %2.1f' % d_fro, transform=plt.gca().transAxes)\n",
    "plt.text(-0.8, -0.3, 'Low - rank dimension: k = %2i' % k_, transform=plt.gca().transAxes)\n",
    "\n",
    "plt.sca(ax[1, 1])\n",
    "cax_2 = plt.imshow(abs(np.diag(delta2_fa_hat)), vmin=0, vmax=cmax, aspect='equal')\n",
    "cbar_2 = fig.colorbar(cax_2, ticks=cbar, format='%.2f', shrink=0.53)\n",
    "cbar_2.ax.set_yticklabels(['0', '0.15', '0.3', '0.45', '0.6', '>0.75'])\n",
    "plt.grid(False)\n",
    "plt.title('Idiosyncratic variances')\n",
    "x_pos = -100\n",
    "y_pos = 60\n",
    "\n",
    "add_logo(fig, size_frac_x=1/8, location=1)\n",
    "plt.tight_layout()"
   ]
  }
 ],
 "metadata": {
  "jupytext": {
   "encoding": "# -*- coding: utf-8 -*-",
   "executable": "/usr/bin/env python3"
  },
  "kernelspec": {
   "display_name": "Python 3",
   "language": "python",
   "name": "python3"
  }
 },
 "nbformat": 4,
 "nbformat_minor": 4
}
