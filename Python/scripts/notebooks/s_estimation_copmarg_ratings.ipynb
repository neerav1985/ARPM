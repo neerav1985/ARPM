{
 "cells": [
  {
   "cell_type": "markdown",
   "metadata": {},
   "source": [
    "# s_estimation_copmarg_ratings [<img src=\"https://www.arpm.co/lab/icons/icon_permalink.png\" width=30 height=30 style=\"display: inline;\">](https://www.arpm.co/lab/redirect.php?code=s_estimation_copmarg_ratings&codeLang=Python)\n",
    "For details, see [here](https://www.arpm.co/lab/redirect.php?permalink=s_estimation_copmarg_ratings)."
   ]
  },
  {
   "cell_type": "markdown",
   "metadata": {},
   "source": [
    "## Prepare the environment"
   ]
  },
  {
   "cell_type": "code",
   "execution_count": null,
   "metadata": {},
   "outputs": [],
   "source": [
    "import numpy as np\n",
    "import pandas as pd\n",
    "from scipy.stats import t as tstu\n",
    "\n",
    "from arpym.statistics.cop_marg_sep import cop_marg_sep\n",
    "from arpym.statistics.scoring import scoring\n",
    "from arpym.statistics.smoothing import smoothing\n",
    "from arpym.statistics.mvt_pdf import mvt_pdf\n",
    "from arpym.estimation.conditional_fp import conditional_fp\n",
    "from arpym.estimation.cov_2_corr import cov_2_corr\n",
    "from arpym.estimation.exp_decay_fp import exp_decay_fp\n",
    "from arpym.estimation.fit_locdisp_mlfp import fit_locdisp_mlfp\n",
    "from arpym.estimation.fit_garch_fp import fit_garch_fp"
   ]
  },
  {
   "cell_type": "markdown",
   "metadata": {},
   "source": [
    "## [Input parameters](https://www.arpm.co/lab/redirect.php?permalink=s_estimation_copmarg_ratings-parameters)"
   ]
  },
  {
   "cell_type": "code",
   "execution_count": null,
   "metadata": {},
   "outputs": [],
   "source": [
    "tau_hl_prior = 4*252  # half-life parameter for time conditioning\n",
    "tau_hl_smooth = 21  # half-life parameter for VIX smoothing\n",
    "tau_hl_score = 5*21  # half-life parameter for VIX scoring\n",
    "alpha = 0.5 # proportion of obs. included in range for state conditioning\n",
    "nu_min = 2  # lower bound for the degrees of freedom for t copula\n",
    "nu_max = 20  # upper bound for the degrees of freedom for t copula"
   ]
  },
  {
   "cell_type": "markdown",
   "metadata": {},
   "source": [
    "## [Step 0](https://www.arpm.co/lab/redirect.php?permalink=s_estimation_copmarg_ratings-implementation-step00): Upload data"
   ]
  },
  {
   "cell_type": "code",
   "execution_count": null,
   "metadata": {},
   "outputs": [],
   "source": [
    "path = '~/databases/global-databases/equities/db_stocks_SP500/'\n",
    "db_stocks = pd.read_csv(path + 'db_stocks_sp.csv', skiprows=[0],\n",
    "                        index_col=0)\n",
    "v = db_stocks.loc[:, ['GE', 'JPM']].values\n",
    "\n",
    "# VIX (used for time-state conditioning)\n",
    "vix_path = '~/databases/global-databases/derivatives/db_vix/data.csv'\n",
    "db_vix = pd.read_csv(vix_path, usecols=['date', 'VIX_close'],\n",
    "                     index_col=0)\n",
    "db_vix.index = pd.to_datetime(db_vix.index)\n",
    "dates = pd.to_datetime(db_stocks.loc[::20, ['GE', 'JPM']].index)"
   ]
  },
  {
   "cell_type": "markdown",
   "metadata": {},
   "source": [
    "## [Step 1](https://www.arpm.co/lab/redirect.php?permalink=s_estimation_copmarg_ratings-implementation-step01): Fit GARCH process and extract realized invariants"
   ]
  },
  {
   "cell_type": "code",
   "execution_count": null,
   "metadata": {},
   "outputs": [],
   "source": [
    "# select monthly values\n",
    "v = v[::20, :]\n",
    "# compute monthly compounded returns\n",
    "c = np.diff(np.log(v), axis=0)\n",
    "_, _, epsi_garch_ge = fit_garch_fp(c[:, 0])\n",
    "_, _, epsi_garch_jpm = fit_garch_fp(c[:, 1])\n",
    "epsi = np.c_[epsi_garch_ge, epsi_garch_jpm]\n",
    "t_ = v.shape[0]-1"
   ]
  },
  {
   "cell_type": "markdown",
   "metadata": {},
   "source": [
    "## [Step 2](https://www.arpm.co/lab/redirect.php?permalink=s_estimation_copmarg_ratings-implementation-step02): Set the flexible probabilities"
   ]
  },
  {
   "cell_type": "code",
   "execution_count": null,
   "metadata": {},
   "outputs": [],
   "source": [
    "# state indicator: VIX compounded return realizations\n",
    "c_vix = np.diff(np.log(np.array(db_vix.loc[dates, :].VIX_close)))\n",
    "# smoothing\n",
    "z_smooth = smoothing(c_vix, tau_hl_smooth)\n",
    "# scoring\n",
    "z = scoring(z_smooth, tau_hl_score)\n",
    "# target value\n",
    "z_star = z[-1]\n",
    "# prior probabilities\n",
    "p_prior = exp_decay_fp(t_, tau_hl_prior)\n",
    "# posterior probabilities\n",
    "p = conditional_fp(z, z_star, alpha, p_prior)"
   ]
  },
  {
   "cell_type": "markdown",
   "metadata": {},
   "source": [
    "## [Step 3](https://www.arpm.co/lab/redirect.php?permalink=s_estimation_copmarg_ratings-implementation-step03): Estimate t copula"
   ]
  },
  {
   "cell_type": "code",
   "execution_count": null,
   "metadata": {},
   "outputs": [],
   "source": [
    "# calculate grades of the compounded returns\n",
    "u, _, _ = cop_marg_sep(epsi, p)\n",
    "\n",
    "\n",
    "# grid for the degrees of freedom parameter\n",
    "nu_copula = np.arange(nu_min, nu_max+1)\n",
    "l_ = len(nu_copula)\n",
    "\n",
    "rho2_copula_vec = np.zeros((2, 2, l_))\n",
    "llike_nu = np.zeros(l_)\n",
    "\n",
    "for l in range(l_):\n",
    "    # t-distributed invariants\n",
    "    epsi_tilde = tstu.ppf(u, nu_copula[l])\n",
    "    \n",
    "    # maximum likelihood\n",
    "    _, sig2_hat = fit_locdisp_mlfp(epsi_tilde, nu=nu_copula[l],\n",
    "                                   threshold=10**-3, maxiter=1000)\n",
    "    # compute correlation matrix\n",
    "    rho2_copula_vec[:, :, l], _ = cov_2_corr(sig2_hat)\n",
    "\n",
    "    # compute log-likelihood at times with no missing values\n",
    "    llike_nu[l] = np.sum(p * np.log(mvt_pdf(epsi, np.zeros(2),\n",
    "                                            rho2_copula_vec[:, :, l],\n",
    "                                            nu_copula[l])))\n",
    "    \n",
    "# choose nu that gives the highest log-likelihood\n",
    "l_max = np.argmax(llike_nu)\n",
    "nu_hat = nu_copula[l_max]\n",
    "rho2_hat = rho2_copula_vec[:, :, l_max]"
   ]
  },
  {
   "cell_type": "markdown",
   "metadata": {},
   "source": [
    "## [Step 4](https://www.arpm.co/lab/redirect.php?permalink=s_estimation_copmarg_ratings-implementation-step04): Save database"
   ]
  },
  {
   "cell_type": "code",
   "execution_count": null,
   "metadata": {},
   "outputs": [],
   "source": [
    "out = {'rho2': pd.Series(rho2_hat[0, 1]),\n",
    "       'nu': pd.Series(nu_hat)}\n",
    "out = pd.DataFrame(out)\n",
    "path = '~/databases/temporary-databases/'\n",
    "out.to_csv(path+'db_copula_ratings.csv')\n",
    "del out"
   ]
  }
 ],
 "metadata": {
  "kernelspec": {
   "display_name": "Python 3",
   "language": "python",
   "name": "python3"
  }
 },
 "nbformat": 4,
 "nbformat_minor": 4
}
