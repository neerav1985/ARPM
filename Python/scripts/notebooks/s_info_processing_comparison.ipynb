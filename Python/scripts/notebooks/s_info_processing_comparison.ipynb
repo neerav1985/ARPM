{
 "cells": [
  {
   "cell_type": "markdown",
   "metadata": {},
   "source": [
    "# s_info_processing_comparison [<img src=\"https://www.arpm.co/lab/icons/icon_permalink.png\" width=30 height=30 style=\"display: inline;\">](https://www.arpm.co/lab/redirect.php?code=s_info_processing_comparison&codeLang=Python)\n",
    "For details, see [here](https://www.arpm.co/lab/redirect.php?permalink=eb-sablepcomparison)."
   ]
  },
  {
   "cell_type": "code",
   "execution_count": null,
   "metadata": {},
   "outputs": [],
   "source": [
    "import numpy as np\n",
    "import pandas as pd\n",
    "import matplotlib.pyplot as plt\n",
    "from matplotlib.ticker import FuncFormatter\n",
    "\n",
    "from arpym.estimation.exp_decay_fp import exp_decay_fp\n",
    "from arpym.statistics.meancov_sp import meancov_sp\n",
    "from arpym.tools.plot_ellipse import plot_ellipse\n",
    "from arpym.views.black_litterman import black_litterman \n",
    "from arpym.views.min_rel_entropy_normal import min_rel_entropy_normal\n",
    "from arpym.tools.logo import add_logo"
   ]
  },
  {
   "cell_type": "markdown",
   "metadata": {},
   "source": [
    "## [Input parameters](https://www.arpm.co/lab/redirect.php?permalink=s_info_processing_comparison-parameters)"
   ]
  },
  {
   "cell_type": "code",
   "execution_count": null,
   "metadata": {},
   "outputs": [],
   "source": [
    "c = 0.82  # confidence level in the views\n",
    "eta = np.array([1, -1])  # parameters for qualitative views\n",
    "lam = 1.2  # average risk-aversion level\n",
    "tau = 252  # uncertainty level in the reference model\n",
    "tau_hl = 1386  # half-life parameter\n",
    "tau_large = 1000000 # high confidence in the prior\n",
    "v = np.array([[1, - 1, 0], [0, 0, 1]])  # pick matrix\n",
    "w = np.array([1/3, 1/3, 1/3])  # market-weighted portfolio"
   ]
  },
  {
   "cell_type": "markdown",
   "metadata": {},
   "source": [
    "## [Step 0](https://www.arpm.co/lab/redirect.php?permalink=s_info_processing_comparison-implementation-step00): Upload data"
   ]
  },
  {
   "cell_type": "code",
   "execution_count": null,
   "metadata": {},
   "outputs": [],
   "source": [
    "path = '~/databases/global-databases/equities/db_stocks_SP500/'\n",
    "\n",
    "data = pd.read_csv(path + 'db_stocks_sp.csv', index_col=0, header=[0, 1])"
   ]
  },
  {
   "cell_type": "markdown",
   "metadata": {},
   "source": [
    "## [Step 1](https://www.arpm.co/lab/redirect.php?permalink=s_info_processing_comparison-implementation-step01): Compute time series of returns"
   ]
  },
  {
   "cell_type": "code",
   "execution_count": null,
   "metadata": {},
   "outputs": [],
   "source": [
    "n_ = len(w)  # market dimension\n",
    "r_t = data.pct_change().iloc[1:, :n_].values  # returns"
   ]
  },
  {
   "cell_type": "markdown",
   "metadata": {},
   "source": [
    "## [Step 2](https://www.arpm.co/lab/redirect.php?permalink=s_info_processing_comparison-implementation-step02): Compute the sample mean and the exponential decay sample covariance"
   ]
  },
  {
   "cell_type": "code",
   "execution_count": null,
   "metadata": {},
   "outputs": [],
   "source": [
    "t_ = len(r_t)\n",
    "p_t_tau_hl = exp_decay_fp(t_, tau_hl)  # exponential decay probabilities\n",
    "mu_hat_r, sig2_hat_r = meancov_sp(r_t, p_t_tau_hl)  # sample mean and covariance"
   ]
  },
  {
   "cell_type": "markdown",
   "metadata": {},
   "source": [
    "## [Step 3](https://www.arpm.co/lab/redirect.php?permalink=s_info_processing_comparison-implementation-step03): Compute Black-Litterman prior parameters"
   ]
  },
  {
   "cell_type": "code",
   "execution_count": null,
   "metadata": {},
   "outputs": [],
   "source": [
    "# expectation in terms of market equilibrium\n",
    "mu_r_equil = 2 * lam * sig2_hat_r @ w\n",
    "\n",
    "mu_m_pri = mu_r_equil\n",
    "sig2_m_pri = (1 / tau) * sig2_hat_r\n",
    "cv_pri_pred = sig2_hat_r + sig2_m_pri"
   ]
  },
  {
   "cell_type": "markdown",
   "metadata": {},
   "source": [
    "## [Step 4](https://www.arpm.co/lab/redirect.php?permalink=s_info_processing_comparison-implementation-step04): Compute Black-Litterman posterior parameters"
   ]
  },
  {
   "cell_type": "code",
   "execution_count": null,
   "metadata": {},
   "outputs": [],
   "source": [
    "# vectors quantifying the views\n",
    "\n",
    "i = v @ mu_m_pri + eta * np.sqrt(np.diag(v @ cv_pri_pred @ v.T))\n",
    "sig2_view = ((1 - c) / c) * (v @ sig2_m_pri @ v.T)\n",
    "\n",
    "# Black-Litterman posterior parameters\n",
    "mu_m_pos, cv_pos_pred = black_litterman(mu_m_pri, sig2_hat_r, tau, v, i,\n",
    "                                        sig2_view)"
   ]
  },
  {
   "cell_type": "markdown",
   "metadata": {},
   "source": [
    "## [Step 5](https://www.arpm.co/lab/redirect.php?permalink=s_info_processing_comparison-implementation-step05): Compute Black-Litterman posterior parameters in the case of large tau"
   ]
  },
  {
   "cell_type": "code",
   "execution_count": null,
   "metadata": {},
   "outputs": [],
   "source": [
    "# Black-Litterman posterior parameters\n",
    "mu_m_pos_large, cv_pos_pred_large = black_litterman(mu_m_pri, sig2_hat_r, tau_large, v, i,\n",
    "                                        sig2_view)"
   ]
  },
  {
   "cell_type": "markdown",
   "metadata": {},
   "source": [
    "## [Step 6](https://www.arpm.co/lab/redirect.php?permalink=s_info_processing_comparison-implementation-step06): Compute Black-Litterman sure posterior parameters"
   ]
  },
  {
   "cell_type": "code",
   "execution_count": null,
   "metadata": {},
   "outputs": [],
   "source": [
    "mu_r_sure_bl = mu_m_pri + sig2_hat_r @ v.T @ \\\n",
    "             np.linalg.solve(v @ sig2_hat_r @ v.T, i - v @ mu_m_pri)\n",
    "sig2_r_sure_bl = (1 + 1 / tau) * sig2_hat_r - (1 / tau) * sig2_hat_r @ v.T\\\n",
    "               @ np.linalg.solve(v @ sig2_hat_r @ v.T, v @ sig2_hat_r)"
   ]
  },
  {
   "cell_type": "markdown",
   "metadata": {},
   "source": [
    "## [Step 7](https://www.arpm.co/lab/redirect.php?permalink=s_info_processing_comparison-implementation-step07): Compute posterior parameters for distributional views (Minimum Relative Entropy)"
   ]
  },
  {
   "cell_type": "code",
   "execution_count": null,
   "metadata": {},
   "outputs": [],
   "source": [
    "v_mre = v\n",
    "v_sig_mre = np.eye(n_)\n",
    "imre = i\n",
    "sig2viewmre = sig2_hat_r\n",
    "\n",
    "mu_r_mre, sig2_r_mre = min_rel_entropy_normal(mu_m_pri, sig2_hat_r, v_mre,\n",
    "                                              imre, v_sig_mre, sig2viewmre)"
   ]
  },
  {
   "cell_type": "markdown",
   "metadata": {},
   "source": [
    "## [Step 8](https://www.arpm.co/lab/redirect.php?permalink=s_info_processing_comparison-implementation-step08): Compute posterior parameters from point views"
   ]
  },
  {
   "cell_type": "code",
   "execution_count": null,
   "metadata": {},
   "outputs": [],
   "source": [
    "k_ = len(v)  # view variables dimension\n",
    "v_point = v\n",
    "z_point = i\n",
    "\n",
    "mu_r_point, sig2_r_point = min_rel_entropy_normal(mu_m_pri, sig2_hat_r,\n",
    "                                                  v_point, z_point, v_point,\n",
    "                                                  np.zeros((k_)))"
   ]
  },
  {
   "cell_type": "markdown",
   "metadata": {},
   "source": [
    "## Plots"
   ]
  },
  {
   "cell_type": "code",
   "execution_count": null,
   "metadata": {},
   "outputs": [],
   "source": [
    "col_darkgrey = [.6, .6, .6]\n",
    "col_orange = [.9, .6, 0]\n",
    "col_reddishpurple = [.8, .6, .7]\n",
    "col_skyblue = [.35, .7, .9]\n",
    "spot = [0, 1]\n",
    "\n",
    "plt.style.use('arpm')\n",
    "fig = plt.figure(figsize=(10, 8))\n",
    "\n",
    "plot_ellipse(mu_hat_r[spot], sig2_hat_r[np.ix_(spot, spot)],\n",
    "             color=col_darkgrey, line_width=1.3)\n",
    "plot_ellipse(mu_m_pri[spot], cv_pri_pred[np.ix_(spot, spot)], color='k',\n",
    "             line_width=1.3)\n",
    "plot_ellipse(mu_m_pos[spot], cv_pos_pred[np.ix_(spot, spot)], color='b',\n",
    "             line_width=1.3)\n",
    "plot_ellipse(mu_r_sure_bl[spot], sig2_r_sure_bl[np.ix_(spot, spot)],\n",
    "             color=col_skyblue, line_width=2)\n",
    "plot_ellipse(mu_r_mre[spot], 0.98 * sig2_r_mre[np.ix_(spot, spot)],\n",
    "             color=col_orange, line_width=1.5)\n",
    "plot_ellipse(mu_r_point[spot], sig2_r_point[np.ix_(spot, spot)],\n",
    "             color=col_reddishpurple, line_width=1.3)\n",
    "\n",
    "plt.plot(mu_hat_r[spot[0]], sig2_hat_r[0, spot[1]], '.', color=col_darkgrey,\n",
    "         markersize=20)\n",
    "plt.plot(mu_m_pri[spot[0]], mu_m_pri[spot[1]], '*', color='k', markersize=15)\n",
    "plt.annotate('equilibrium', weight=\"bold\",\n",
    "             xy=(mu_m_pri[spot[0]], mu_m_pri[spot[1]]),\n",
    "             xytext=(0.006, 0.01),\n",
    "             arrowprops=dict(facecolor=\"black\", width=0.5,\n",
    "                             headwidth=4, shrink=0.1))\n",
    "plt.plot(mu_m_pos[spot[0]], mu_m_pos[spot[1]], '.', color='b', markersize=15)\n",
    "plt.plot(mu_r_sure_bl[spot[0]], mu_r_sure_bl[spot[1]], 'o', color=col_orange,\n",
    "         markersize=10)\n",
    "plt.plot(mu_r_mre[spot[0]], mu_r_mre[spot[1]], '.', color=col_skyblue,\n",
    "         markersize=15)\n",
    "plt.plot(mu_r_point[spot[0]], mu_r_point[spot[1]], '.',\n",
    "         color=col_reddishpurple, markersize=5)\n",
    "\n",
    "plt.plot(r_t.T[0], r_t.T[1], '.', color=col_darkgrey, markersize=4)\n",
    "plt.xticks(np.arange(-0.04,  0.071, step=0.01))\n",
    "\n",
    "plt.xlim([-0.035, 0.07])\n",
    "plt.ylim([-0.065, 0.07])\n",
    "plt.gca().xaxis.set_major_formatter(FuncFormatter(lambda y, _:\n",
    "                                                  '{:.0%}'.format(y)))\n",
    "plt.gca().yaxis.set_major_formatter(FuncFormatter(lambda y, _:\n",
    "                                                  '{:.0%}'.format(y)))\n",
    "plt.xlabel('$R_{1}$')\n",
    "plt.ylabel('$R_{2}$')\n",
    "legend = plt.legend(['Returns( & sample mean/covariance)',\n",
    "                     'Black-Litterman prior (equilibrium)',\n",
    "                     'Black-Litterman posterior', 'Black-Litterman sure',\n",
    "                     'Min. Rel. Entropy distributional view',\n",
    "                     'regression/Min.Rel.Entropy point view'])\n",
    "\n",
    "str1 = r'Confidence level in the prior: $\\tau$ = %d ' % np.floor(tau)\n",
    "str2 = 'Confidence level in the views: c = %d' % np.floor(100 * c)\n",
    "plt.text(0.036, -0.034, str1)\n",
    "plt.text(0.036, -0.038, str2 + '%')\n",
    "\n",
    "plt.grid(True)\n",
    "add_logo(fig, location=1)\n",
    "plt.tight_layout()"
   ]
  }
 ],
 "metadata": {
  "jupytext": {
   "encoding": "# -*- coding: utf-8 -*-",
   "executable": "/usr/bin/env python3"
  },
  "kernelspec": {
   "display_name": "Python 3",
   "language": "python",
   "name": "python3"
  }
 },
 "nbformat": 4,
 "nbformat_minor": 4
}
