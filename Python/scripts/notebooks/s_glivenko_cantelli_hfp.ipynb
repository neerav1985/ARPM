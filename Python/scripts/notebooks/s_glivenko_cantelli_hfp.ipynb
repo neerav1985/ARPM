{
 "cells": [
  {
   "cell_type": "markdown",
   "metadata": {},
   "source": [
    "# s_glivenko_cantelli_hfp [<img src=\"https://www.arpm.co/lab/icons/icon_permalink.png\" width=30 height=30 style=\"display: inline;\">](https://www.arpm.co/lab/redirect.php?code=s_glivenko_cantelli_hfp&codeLang=Python)\n",
    "For details, see [here](https://www.arpm.co/lab/redirect.php?permalink=ExerGlivCantFP)."
   ]
  },
  {
   "cell_type": "code",
   "execution_count": null,
   "metadata": {},
   "outputs": [],
   "source": [
    "import numpy as np\n",
    "from scipy.stats import gamma\n",
    "import matplotlib.pyplot as plt\n",
    "\n",
    "from arpym.tools.histogram_sp import histogram_sp\n",
    "from arpym.tools.logo import add_logo\n",
    "from arpym.statistics.cdf_sp import cdf_sp\n",
    "from arpym.estimation.exp_decay_fp import exp_decay_fp\n",
    "from arpym.estimation.effective_num_scenarios import effective_num_scenarios"
   ]
  },
  {
   "cell_type": "markdown",
   "metadata": {},
   "source": [
    "## [Input parameters](https://www.arpm.co/lab/redirect.php?permalink=s_glivenko_cantelli_hfp-parameters)"
   ]
  },
  {
   "cell_type": "code",
   "execution_count": null,
   "metadata": {},
   "outputs": [],
   "source": [
    "t_ = 2500\n",
    "k = 1  # shape parameter for gamma distribution\n",
    "theta = 2  # scale parameter for gamma distribution\n",
    "t_star = t_  # target time\n",
    "tau_hl = t_star / 2  # half-life\n",
    "n_ = 500"
   ]
  },
  {
   "cell_type": "markdown",
   "metadata": {},
   "source": [
    "## [Step 1](https://www.arpm.co/lab/redirect.php?permalink=s_glivenko_cantelli_hfp-implementation-step01): Generate a sample from the gamma distribution"
   ]
  },
  {
   "cell_type": "code",
   "execution_count": null,
   "metadata": {},
   "outputs": [],
   "source": [
    "epsi = gamma.rvs(k, scale=theta, size=t_)"
   ]
  },
  {
   "cell_type": "markdown",
   "metadata": {},
   "source": [
    "## [Step 2](https://www.arpm.co/lab/redirect.php?permalink=s_glivenko_cantelli_hfp-implementation-step02): Compute the time exponential decay probabilities"
   ]
  },
  {
   "cell_type": "code",
   "execution_count": null,
   "metadata": {},
   "outputs": [],
   "source": [
    "p = exp_decay_fp(t_, tau_hl, t_star)"
   ]
  },
  {
   "cell_type": "markdown",
   "metadata": {},
   "source": [
    "## [Step 3](https://www.arpm.co/lab/redirect.php?permalink=s_glivenko_cantelli_hfp-implementation-step03): Compute the effective number of scenarios"
   ]
  },
  {
   "cell_type": "code",
   "execution_count": null,
   "metadata": {},
   "outputs": [],
   "source": [
    "ens = effective_num_scenarios(p)"
   ]
  },
  {
   "cell_type": "markdown",
   "metadata": {},
   "source": [
    "## [Step 4](https://www.arpm.co/lab/redirect.php?permalink=s_glivenko_cantelli_hfp-implementation-step04): Compute the HFP pdf"
   ]
  },
  {
   "cell_type": "code",
   "execution_count": null,
   "metadata": {},
   "outputs": [],
   "source": [
    "pdf_hfp_eps, xi = histogram_sp(epsi, p=p, k_=10*np.log(t_))"
   ]
  },
  {
   "cell_type": "markdown",
   "metadata": {},
   "source": [
    "## [Step 5](https://www.arpm.co/lab/redirect.php?permalink=s_glivenko_cantelli_hfp-implementation-step05): Compute the HFP cdf"
   ]
  },
  {
   "cell_type": "code",
   "execution_count": null,
   "metadata": {},
   "outputs": [],
   "source": [
    "x_grid = np.linspace(0, np.max(epsi), n_+1)\n",
    "cdf_hfp_eps = cdf_sp(x_grid, epsi, p)"
   ]
  },
  {
   "cell_type": "markdown",
   "metadata": {},
   "source": [
    "## [Step 6](https://www.arpm.co/lab/redirect.php?permalink=s_glivenko_cantelli_hfp-implementation-step06): Compute the true pdf and cdf"
   ]
  },
  {
   "cell_type": "code",
   "execution_count": null,
   "metadata": {},
   "outputs": [],
   "source": [
    "pdf_eps = gamma.pdf(x_grid, k, scale=theta)\n",
    "cdf_eps = gamma.cdf(x_grid, k, scale=theta)"
   ]
  },
  {
   "cell_type": "markdown",
   "metadata": {},
   "source": [
    "## Plots"
   ]
  },
  {
   "cell_type": "code",
   "execution_count": null,
   "metadata": {},
   "outputs": [],
   "source": [
    "plt.style.use('arpm')\n",
    "fig, ax = plt.subplots(2, 1, figsize=(1280.0/72.0, 720.0/72.0), dpi=72.0)\n",
    "gr = [0.4, 0.4, 0.4]  # colors settings\n",
    "\n",
    "# display the HFP pdf and overlay the true pdf\n",
    "plt.sca(ax[0])\n",
    "emp2 = plt.bar(xi, pdf_hfp_eps, width=xi[1]-xi[0],\n",
    "               facecolor=gr, edgecolor='k')\n",
    "plt.plot(x_grid, pdf_eps, color='b', lw=1.5)\n",
    "plt.xlim([np.min(x_grid), np.max(x_grid)])\n",
    "plt.ylim([0, max(pdf_hfp_eps) + 0.1])\n",
    "plt.xticks(fontsize=14)\n",
    "plt.yticks(fontsize=14)\n",
    "plt.annotate('ens: '+str(int(round(ens))), xy=(0.93, 0.93),\n",
    "             xycoords='axes fraction', fontsize=17,\n",
    "             bbox={'fill': False, 'edgecolor': 'lightgray'})\n",
    "plt.title('HFP pdf', fontsize=20, fontweight='bold')\n",
    "\n",
    "# display the HFP cdf and overlay the true cdf\n",
    "plt.sca(ax[1])\n",
    "plt.plot(x_grid, cdf_eps, color='b', lw=1)\n",
    "emp = plt.plot(x_grid, cdf_hfp_eps, color=gr, lw=1.5)\n",
    "plt.title('HFP cdf', fontsize=20, fontweight='bold')\n",
    "plt.xlim([0, max(x_grid)])\n",
    "plt.ylim([-0.001, 1.001])\n",
    "plt.xticks(fontsize=14)\n",
    "plt.yticks(fontsize=14)\n",
    "plt.legend(['True', 'HFP'], fontsize=17)\n",
    "add_logo(fig, set_fig_size=False)\n",
    "plt.tight_layout()"
   ]
  }
 ],
 "metadata": {
  "jupytext": {
   "encoding": "# -*- coding: utf-8 -*-",
   "executable": "/usr/bin/env python3"
  },
  "kernelspec": {
   "display_name": "Python 3",
   "language": "python",
   "name": "python3"
  }
 },
 "nbformat": 4,
 "nbformat_minor": 4
}
