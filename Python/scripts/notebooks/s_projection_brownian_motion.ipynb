{
 "cells": [
  {
   "cell_type": "markdown",
   "metadata": {},
   "source": [
    "# s_projection_brownian_motion [<img src=\"https://www.arpm.co/lab/icons/icon_permalink.png\" width=30 height=30 style=\"display: inline;\">](https://www.arpm.co/lab/redirect.php?code=s_projection_brownian_motion&codeLang=Python)\n",
    "For details, see [here](https://www.arpm.co/lab/redirect.php?permalink=ExerBrowMotProj)."
   ]
  },
  {
   "cell_type": "code",
   "execution_count": null,
   "metadata": {},
   "outputs": [],
   "source": [
    "import numpy as np\n",
    "import pandas as pd\n",
    "from scipy import stats\n",
    "import matplotlib.pyplot as plt\n",
    "\n",
    "from arpym.estimation.exp_decay_fp import exp_decay_fp\n",
    "from arpym.statistics.meancov_sp import meancov_sp\n",
    "from arpym.statistics.simulate_bm import simulate_bm\n",
    "from arpym.tools.logo import add_logo"
   ]
  },
  {
   "cell_type": "markdown",
   "metadata": {},
   "source": [
    "## [Input parameters](https://www.arpm.co/lab/redirect.php?permalink=s_projection_brownian_motion-parameters)"
   ]
  },
  {
   "cell_type": "code",
   "execution_count": null,
   "metadata": {},
   "outputs": [],
   "source": [
    "t_ = 504  # time series length\n",
    "j_ = 100  # number of scenarios\n",
    "delta_t_m = np.array([1, 1, 2, 1, 3, 1, 1])  # time to horizon (days)\n",
    "tau_hl = 180  # half-life (days)"
   ]
  },
  {
   "cell_type": "markdown",
   "metadata": {},
   "source": [
    "## [Step 0](https://www.arpm.co/lab/redirect.php?permalink=s_projection_brownian_motion-implementation-step00): Upload data"
   ]
  },
  {
   "cell_type": "code",
   "execution_count": null,
   "metadata": {},
   "outputs": [],
   "source": [
    "path = '~/databases/global-databases/equities/'\n",
    "\n",
    "# import data\n",
    "df_stocks = pd.read_csv(path + 'db_stocks_SP500/db_stocks_sp.csv', index_col=0,\n",
    "                        skiprows=[0])\n",
    "\n",
    "# set timestamps\n",
    "df_stocks = df_stocks.set_index(pd.to_datetime(df_stocks.index))\n",
    "\n",
    "# select data within the date range\n",
    "df_stocks = df_stocks.loc[df_stocks.index].tail(t_)\n",
    "\n",
    "# select stock\n",
    "df_stocks = df_stocks['AMZN']  # stock value"
   ]
  },
  {
   "cell_type": "markdown",
   "metadata": {},
   "source": [
    "## [Step 1](https://www.arpm.co/lab/redirect.php?permalink=s_projection_brownian_motion-implementation-step01): Compute the risk driver"
   ]
  },
  {
   "cell_type": "code",
   "execution_count": null,
   "metadata": {},
   "outputs": [],
   "source": [
    "x = np.log(np.array(df_stocks))  # log-value\n",
    "\n",
    "# ## [Step 2](https://www.arpm.co/lab/redirect.php?permalink=s_projection_brownian_motion-implementation-step02): Compute HFP mean and covariance\n",
    "\n",
    "epsi = np.diff(x)  # invariant past realizations\n",
    "p = exp_decay_fp(t_ - 1, tau_hl)  # exponential decay probabilities\n",
    "mu_hat, sig2_hat = meancov_sp(epsi, p)  # HFP mean and covariance"
   ]
  },
  {
   "cell_type": "markdown",
   "metadata": {},
   "source": [
    "## [Step 3](https://www.arpm.co/lab/redirect.php?permalink=s_projection_brownian_motion-implementation-step03): Compute Monte Carlo paths of risk drivers"
   ]
  },
  {
   "cell_type": "code",
   "execution_count": null,
   "metadata": {},
   "outputs": [],
   "source": [
    "# Monte Carlo scenarios for the path of log-value\n",
    "x_tnow_thor = simulate_bm(x[-1].reshape(1), delta_t_m, mu_hat.reshape(1),\n",
    "                          sig2_hat.reshape((1, 1)), j_).squeeze()"
   ]
  },
  {
   "cell_type": "markdown",
   "metadata": {},
   "source": [
    "## [Step 4](https://www.arpm.co/lab/redirect.php?permalink=s_projection_brownian_motion-implementation-step04): Compute projected expectations and standard deviations"
   ]
  },
  {
   "cell_type": "code",
   "execution_count": null,
   "metadata": {},
   "outputs": [],
   "source": [
    "mu_thor = x[-1] + mu_hat * np.cumsum(delta_t_m)  # projected expectations\n",
    "sig_thor = np.sqrt(sig2_hat) * np.sqrt(np.cumsum(delta_t_m))  # projected standard deviations"
   ]
  },
  {
   "cell_type": "markdown",
   "metadata": {},
   "source": [
    "## [Step 5](https://www.arpm.co/lab/redirect.php?permalink=s_projection_brownian_motion-implementation-step05): Analytical pdf at horizon"
   ]
  },
  {
   "cell_type": "code",
   "execution_count": null,
   "metadata": {},
   "outputs": [],
   "source": [
    "# analytical pdf at horizon\n",
    "l_ = 2000  # number of points\n",
    "x_pdf_hor = np.linspace(mu_thor[-1] - 4 * sig_thor[-1],\n",
    "                        mu_thor[-1] + 4 * sig_thor[-1], l_)\n",
    "y_pdf_hor = stats.norm.pdf(x_pdf_hor, mu_thor[-1], sig_thor[-1])"
   ]
  },
  {
   "cell_type": "markdown",
   "metadata": {},
   "source": [
    "## [Step 6](https://www.arpm.co/lab/redirect.php?permalink=s_projection_brownian_motion-implementation-step06): Save databases"
   ]
  },
  {
   "cell_type": "code",
   "execution_count": null,
   "metadata": {},
   "outputs": [],
   "source": [
    "t_m = np.append(0, np.cumsum(delta_t_m))\n",
    "output = {'j_': j_,\n",
    "          't_': t_,\n",
    "          'delta_t_m': pd.Series(delta_t_m.reshape(-1)),\n",
    "          't_m': pd.Series(t_m.reshape(-1)),\n",
    "          'epsi': pd.Series(epsi.reshape(-1)),\n",
    "          'p': pd.Series(p.reshape(-1)),\n",
    "          'mu_hat': mu_hat,\n",
    "          'sig2_hat': sig2_hat,\n",
    "          'x_tnow_thor': pd.Series(x_tnow_thor.reshape(-1))}\n",
    "df = pd.DataFrame(output)\n",
    "df.to_csv('~/databases/temporary-databases/db_stocks_proj_bm.csv')"
   ]
  },
  {
   "cell_type": "markdown",
   "metadata": {},
   "source": [
    "## Plots"
   ]
  },
  {
   "cell_type": "code",
   "execution_count": null,
   "metadata": {},
   "outputs": [],
   "source": [
    "# preliminary settings\n",
    "plt.style.use('arpm')\n",
    "lgrey = [0.8, 0.8, 0.8]  # light grey\n",
    "dgrey = [0.2, 0.2, 0.2]  # dark grey\n",
    "\n",
    "s_ = 2  # number of plotted observation before projecting time\n",
    "\n",
    "fig = plt.figure(figsize=(1280.0/72.0, 720.0/72.0), dpi=72.0)\n",
    "\n",
    "# axes settings\n",
    "m = np.min([np.min(x[-2:]), mu_thor[-1] - 4 * sig_thor[-1]])\n",
    "M = np.max([np.max(x[-2:]), mu_thor[-1] + 4.5 * sig_thor[-1]])\n",
    "t1 = np.r_[0, np.cumsum(delta_t_m)]\n",
    "t = np.concatenate((np.arange(-s_, 0), t1))\n",
    "max_scale = np.sum(delta_t_m) / 4\n",
    "scale = max_scale*0.96/np.max(y_pdf_hor)\n",
    "plt.axis([t[0], t[-1] + max_scale, m, M])\n",
    "plt.xlabel('time (days)')\n",
    "plt.ylabel('Log-value')\n",
    "plt.yticks()\n",
    "plt.grid(False)\n",
    "plt.title('Projection of Brownian motion')\n",
    "\n",
    "# simulated paths\n",
    "plt.plot(t1, x_tnow_thor.T, color=lgrey, lw=2)\n",
    "\n",
    "# expectation and standard deviation lines\n",
    "timetohor_t_now = np.sum(delta_t_m)\n",
    "t_line = np.arange(0, timetohor_t_now + 0.01, 0.01)\n",
    "mu_line = x[-1] + mu_hat * t_line\n",
    "sig_line = np.sqrt(sig2_hat * t_line)\n",
    "num_sd = 2\n",
    "p_mu = plt.plot(t_line, mu_line, color='g',\n",
    "                label='expectation', lw=2)\n",
    "plt.plot(t_line, mu_line + num_sd * sig_line, color='r',\n",
    "         label='+ / - %d st.deviation' %num_sd, lw=2)\n",
    "plt.plot(t_line, mu_line - num_sd * sig_line, color='r', lw=2)\n",
    "\n",
    "# analytical pdf at the horizon plot\n",
    "for k, y in enumerate(y_pdf_hor):\n",
    "    plt.plot([timetohor_t_now, timetohor_t_now + y_pdf_hor[k] * scale],\n",
    "             [x_pdf_hor[k], x_pdf_hor[k]],\n",
    "             color=lgrey, lw=2)\n",
    "\n",
    "plt.plot(timetohor_t_now + y_pdf_hor * scale, x_pdf_hor,\n",
    "         color=dgrey, label='horizon pdf', lw=1)\n",
    "\n",
    "# plot of last s_ observations\n",
    "for k in range(s_):\n",
    "    plt.plot([t[k], t[k + 1]], [x[- s_ + k - 1], x[- s_ + k]],\n",
    "             color=lgrey, lw=2)\n",
    "    plt.plot(t[k], x[- s_ + k - 1],\n",
    "             color='b', linestyle='none', marker='.', markersize=15)\n",
    "\n",
    "plt.plot(t[s_], x[-1], color='b', linestyle='none', marker='.', markersize=15)\n",
    "\n",
    "# legend\n",
    "plt.legend()\n",
    "\n",
    "add_logo(fig, location=4, alpha=0.8, set_fig_size=False)\n",
    "plt.tight_layout()"
   ]
  }
 ],
 "metadata": {
  "kernelspec": {
   "display_name": "Python 3",
   "language": "python",
   "name": "python3"
  }
 },
 "nbformat": 4,
 "nbformat_minor": 4
}
