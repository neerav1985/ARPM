{
 "cells": [
  {
   "cell_type": "markdown",
   "metadata": {},
   "source": [
    "# S_DisplayAlternativeBands [<img src=\"https://www.arpm.co/lab/icons/icon_permalink.png\" width=30 height=30 style=\"display: inline;\">](https://www.arpm.co/lab/redirect.php?code=S_DisplayAlternativeBands&codeLang=Python)\n",
    "For details, see [here](https://www.arpm.co/lab/redirect.php?permalink=VisuUncertBands)."
   ]
  },
  {
   "cell_type": "markdown",
   "metadata": {},
   "source": [
    "## Prepare the environment"
   ]
  },
  {
   "cell_type": "code",
   "execution_count": null,
   "metadata": {},
   "outputs": [],
   "source": [
    "import os\n",
    "import os.path as path\n",
    "import sys\n",
    "\n",
    "sys.path.append(path.abspath('../../functions-legacy'))\n",
    "\n",
    "from numpy import array, zeros, cos, sin, pi, linspace, diag, sqrt, r_\n",
    "\n",
    "from scipy.stats import norm\n",
    "\n",
    "import matplotlib.pyplot as plt\n",
    "from matplotlib.pyplot import figure, plot, legend, scatter, title\n",
    "\n",
    "plt.style.use('seaborn')\n",
    "\n",
    "from ARPM_utils import save_plot\n",
    "from NormalScenarios import NormalScenarios\n",
    "from PlotTwoDimBand import PlotTwoDimBand\n",
    "\n",
    "# inputs\n",
    "j_ = 10000\n",
    "r = 2  # scale of the bands\n",
    "n_points = 1000  # points of the bands\n",
    "mu = array([[0.7], [0.5]])\n",
    "sigma2 = array([[2, -1], [- 1, 1.5]])"
   ]
  },
  {
   "cell_type": "markdown",
   "metadata": {},
   "source": [
    "## Compute locations and dispersions along the directions"
   ]
  },
  {
   "cell_type": "code",
   "execution_count": null,
   "metadata": {},
   "outputs": [],
   "source": [
    "theta = linspace(0, 2*pi, n_points).reshape(1,-1)\n",
    "u = r_[cos(theta), sin(theta)]  # directions\n",
    "\n",
    "mu_u = u.T@mu  # projected expectations\n",
    "sigma_u = sqrt(diag(u.T@sigma2@u)).reshape(-1,1)  # projected standard deviations\n",
    "median_u = norm.ppf(0.5, mu_u, sigma_u)  # projected medians\n",
    "range_u = norm.ppf(0.75, mu_u, sigma_u) - norm.ppf(0.25, mu_u, sigma_u)  # projected ranges"
   ]
  },
  {
   "cell_type": "markdown",
   "metadata": {},
   "source": [
    "## Compute the alternative location-dispersion bands"
   ]
  },
  {
   "cell_type": "code",
   "execution_count": null,
   "metadata": {},
   "outputs": [],
   "source": [
    "band_points1 = zeros((2, n_points))\n",
    "band_points2 = zeros((2, n_points))\n",
    "for n in range(n_points):\n",
    "    band_points1[:,n] = (mu_u[n] + r*sigma_u[n])*u[:,n]\n",
    "    band_points2[:,n] = (median_u[n] + r*range_u[n])*u[:,n]"
   ]
  },
  {
   "cell_type": "markdown",
   "metadata": {},
   "source": [
    "## Generate the normal sample"
   ]
  },
  {
   "cell_type": "code",
   "execution_count": null,
   "metadata": {},
   "outputs": [],
   "source": [
    "X,_ = NormalScenarios(mu, sigma2, j_, 'Chol')"
   ]
  },
  {
   "cell_type": "markdown",
   "metadata": {},
   "source": [
    "## Display the bands and overlay the scatterplot"
   ]
  },
  {
   "cell_type": "code",
   "execution_count": null,
   "metadata": {},
   "outputs": [],
   "source": [
    "figure()\n",
    "\n",
    "p1 = PlotTwoDimBand(mu, sigma_u, u, r, 'r')\n",
    "p2 = plot(band_points1[0], band_points1[1], color='b', lw=2)\n",
    "scatter(X[0], X[1], s=5, c=[.3, .3, .3], marker='*')\n",
    "legend(['Band','Alternative Band'])\n",
    "title('Expectation-Std Deviation bands of a bivariate normal');\n",
    "# save_plot(ax=plt.gca(), extension='png', scriptname=os.path.basename('.')[:-3], count=plt.get_fignums()[-1])\n",
    "\n",
    "figure()\n",
    "pp1 = PlotTwoDimBand(mu, range_u, u, r, 'r')\n",
    "pp2 = plot(band_points2[0], band_points2[1], color='b', lw=2)\n",
    "scatter(X[0], X[1], s=5, c=[.3, .3, .3], marker='*')\n",
    "legend(['Band','Alternative Band'])\n",
    "title('Median-Range bands of a bivariate normal');\n",
    "# save_plot(ax=plt.gca(), extension='png', scriptname=os.path.basename('.')[:-3], count=plt.get_fignums()[-1])"
   ]
  }
 ],
 "metadata": {
  "jupytext": {
   "encoding": "# -*- coding: utf-8 -*-",
   "executable": "/usr/bin/env python3"
  },
  "kernelspec": {
   "display_name": "Python 3",
   "language": "python",
   "name": "python3"
  }
 },
 "nbformat": 4,
 "nbformat_minor": 4
}
