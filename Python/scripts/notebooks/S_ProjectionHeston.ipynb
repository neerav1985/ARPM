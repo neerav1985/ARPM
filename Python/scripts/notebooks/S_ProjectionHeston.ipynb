{
 "cells": [
  {
   "cell_type": "markdown",
   "metadata": {},
   "source": [
    "# S_ProjectionHeston [<img src=\"https://www.arpm.co/lab/icons/icon_permalink.png\" width=30 height=30 style=\"display: inline;\">](https://www.arpm.co/lab/redirect.php?code=S_ProjectionHeston&codeLang=Python)\n",
    "For details, see [here](https://www.arpm.co/lab/redirect.php?permalink=eb-estimation-cirmfp)."
   ]
  },
  {
   "cell_type": "markdown",
   "metadata": {},
   "source": [
    "## Prepare the environment"
   ]
  },
  {
   "cell_type": "code",
   "execution_count": null,
   "metadata": {},
   "outputs": [],
   "source": [
    "import os\n",
    "import os.path as path\n",
    "import sys\n",
    "\n",
    "sys.path.append(path.abspath('../../functions-legacy'))\n",
    "from collections import namedtuple\n",
    "\n",
    "from numpy import arange, array, ones, zeros, cumsum, diff, linspace, abs, log, exp, sqrt, tile, r_\n",
    "from numpy import sum as npsum, min as npmin, max as npmax\n",
    "from numpy.random import randn\n",
    "\n",
    "from scipy.stats import gamma\n",
    "from scipy.io import loadmat\n",
    "\n",
    "import matplotlib.pyplot as plt\n",
    "from matplotlib.pyplot import plot, legend, subplots, ylabel, \\\n",
    "    xlabel, title\n",
    "\n",
    "plt.style.use('seaborn')\n",
    "\n",
    "from CONFIG import GLOBAL_DB, TEMPORARY_DB\n",
    "from ARPM_utils import save_plot, struct_to_dict\n",
    "from FPmeancov import FPmeancov\n",
    "from HistogramFP import HistogramFP\n",
    "from PathMomMatch import PathMomMatch\n",
    "from FitCIR_FP import FitCIR_FP\n",
    "from HestonChFun import HestonChFun"
   ]
  },
  {
   "cell_type": "markdown",
   "metadata": {},
   "source": [
    "## Upload databases"
   ]
  },
  {
   "cell_type": "code",
   "execution_count": null,
   "metadata": {},
   "outputs": [],
   "source": [
    "try:\n",
    "    db = loadmat(os.path.join(GLOBAL_DB, 'db_Stocks'), squeeze_me=True)\n",
    "except FileNotFoundError:\n",
    "    db = loadmat(os.path.join(TEMPORARY_DB, 'db_Stocks'), squeeze_me=True)\n",
    "\n",
    "SPX = struct_to_dict(db['SPX'])"
   ]
  },
  {
   "cell_type": "markdown",
   "metadata": {},
   "source": [
    "## Compute the time series of risk driver"
   ]
  },
  {
   "cell_type": "code",
   "execution_count": null,
   "metadata": {},
   "outputs": [],
   "source": [
    "date = SPX.Date\n",
    "x = log(SPX.Price_close).reshape(1,-1)\n",
    "dx = diff(x)"
   ]
  },
  {
   "cell_type": "markdown",
   "metadata": {},
   "source": [
    "## Estimate realized variance"
   ]
  },
  {
   "cell_type": "code",
   "execution_count": null,
   "metadata": {},
   "outputs": [],
   "source": [
    "s_ = 252  # forward/backward parameter\n",
    "lambda1 = log(2) / 5  # half-life one week\n",
    "p1 = exp(-lambda1*abs(arange(-s_,s_+1))).reshape(1,-1)\n",
    "p1 = p1 / npsum(p1)\n",
    "\n",
    "t_var = dx.shape[1] - 2*s_\n",
    "y = zeros((1, t_var))\n",
    "for s in range(t_var):\n",
    "    dx_temp = dx[0,s:s + 2*s_+1]\n",
    "    y[0,s] = p1@(dx_temp.T ** 2)\n",
    "\n",
    "# daily variance\n",
    "\n",
    "dx = dx[:,s_ :s_ + t_var]\n",
    "x = x[:,s_ :s_ + t_var+1]"
   ]
  },
  {
   "cell_type": "markdown",
   "metadata": {},
   "source": [
    "## Calibrate the CIR process"
   ]
  },
  {
   "cell_type": "code",
   "execution_count": null,
   "metadata": {},
   "outputs": [],
   "source": [
    "t_obs = 252*4  # 4 years\n",
    "lambda2 = log(2) / (21*9)  # half-life 9 months\n",
    "p2 = exp(-lambda2*arange(t_obs, 1 + -1, -1)).reshape(1,-1)\n",
    "p2 = p2 / npsum(p2)\n",
    "\n",
    "delta_t = 1  # fix the unit time-step to 1 day\n",
    "\n",
    "par_CIR = FitCIR_FP(y[0,-t_obs:], delta_t, None, p2)\n",
    "\n",
    "kappa = par_CIR[0]\n",
    "y_ = par_CIR[1]\n",
    "eta = par_CIR[2]"
   ]
  },
  {
   "cell_type": "markdown",
   "metadata": {},
   "source": [
    "## Estimate mu (drift parameter of X) and rho (correlation between Brownian motions)"
   ]
  },
  {
   "cell_type": "code",
   "execution_count": null,
   "metadata": {},
   "outputs": [],
   "source": [
    "dy = diff(y)\n",
    "xy = r_[dx[:,-t_obs:], dy[:,- t_obs:]]\n",
    "[mu_xy, sigma2_xy] = FPmeancov(xy, p2)  # daily mean vector and covariance matrix\n",
    "\n",
    "mu = mu_xy[0]  # daily mean\n",
    "rho = sigma2_xy[0, 1] / sqrt(sigma2_xy[0, 0]*sigma2_xy[1, 1])  # correlation parameter"
   ]
  },
  {
   "cell_type": "markdown",
   "metadata": {},
   "source": [
    "## Initialize projection variables"
   ]
  },
  {
   "cell_type": "code",
   "execution_count": null,
   "metadata": {},
   "outputs": [],
   "source": [
    "dt = 2  # two days\n",
    "tau = 2*252  # two years\n",
    "t_j = arange(0,tau+dt,dt)\n",
    "t_sim = len(t_j) - 1\n",
    "j_ = 3000"
   ]
  },
  {
   "cell_type": "markdown",
   "metadata": {},
   "source": [
    "## Simulate paths"
   ]
  },
  {
   "cell_type": "code",
   "execution_count": null,
   "metadata": {},
   "outputs": [],
   "source": [
    "dW_1 = tile(sqrt(diff(t_j)), (j_, 1))*randn(j_, t_sim)\n",
    "dW_uncorr = tile(sqrt(diff(t_j)), (j_, 1))*randn(j_, t_sim)\n",
    "dW_2 = rho*dW_1 + sqrt(1 - rho ** 2)*dW_uncorr\n",
    "\n",
    "# initialize arrays\n",
    "dY = zeros((j_, t_sim))\n",
    "Y = zeros((j_, t_sim + 1))\n",
    "dX = zeros((j_, t_sim))\n",
    "\n",
    "# Euler scheme\n",
    "Y[:, [0]] = y[:,-1]*ones((j_, 1))  # initialize variance\n",
    "for t in range(t_sim):\n",
    "    dY[:,t] = -kappa*(Y[:,t]-y_)*dt + eta*sqrt(Y[:,t])*dW_2[:,t]\n",
    "    Y[:, t + 1] = abs((Y[:,t]+dY[:,t]))\n",
    "    dX[:,t] = mu*dt + sqrt(Y[:,t])*dW_1[:,t]\n",
    "\n",
    "X = x[:,-1] + r_['-1',zeros((j_, 1)), cumsum(dX, 1)]"
   ]
  },
  {
   "cell_type": "markdown",
   "metadata": {},
   "source": [
    "## Compute analytical first and second moments via characteristic function\n",
    "##syms z x1 x2 x3 x4 x5 x6 x7 x8\n",
    "##f(z, x1, x2, x3, x4, x5, x6, x7, x8) = HestonChFun((z/1i, x1, x2, x3, x4, x5, x6, x7, x8))\n",
    "##mu1(z, x1, x2, x3, x4, x5, x6, x7, x8) = diff(f, z, 1)\n",
    "##mu2(z, x1, x2, x3, x4, x5, x6, x7, x8) = diff(f, z, 2)\n",
    "##mu_x = zeros((1,t_sim+1))\n",
    "##sigma2_x = zeros((1,t_sim+1))\n",
    "##for t in range(t_sim+1\n",
    "##    mu_x[t] = subs((mu1(0,mu,kappa,y_,eta,rho,x[:,-1],y[:,-1],t_j[t])))\n",
    "##    sigma2_x[t] = subs((mu2(0,mu,kappa,y_,eta,rho,x[:,-1],y[:,-1],t_j[t])) - mu_x[t])**2"
   ]
  },
  {
   "cell_type": "code",
   "execution_count": null,
   "metadata": {},
   "outputs": [],
   "source": [
    "delta = 0.001\n",
    "mu_x = zeros(t_sim+1)\n",
    "sigma2_x = zeros(t_sim+1)\n",
    "for t in range(t_sim + 1):\n",
    "    mu_x[t] = (HestonChFun(delta / 1j, mu, kappa, y_, eta, rho, x[:,-1], y[:,-1], t_j[t])\n",
    "               -HestonChFun(-delta / 1j, mu, kappa, y_, eta, rho, x[:,-1], y[:,-1], t_j[t]))[0] / (2*delta)\n",
    "    sigma2_x[t] = - mu_x[t]**2+(HestonChFun(delta / 1j, mu, kappa, y_, eta, rho, x[:,-1], y[:,-1], t_j[t])\n",
    "                                -2*HestonChFun(0, mu, kappa, y_, eta, rho, x[:,-1], y[:,-1], t_j[t])\n",
    "                                +HestonChFun(-delta / 1j, mu, kappa, y_, eta, rho, x[:,-1], y[:,-1], t_j[t]))[0] / (delta ** 2)\n",
    "\n",
    "    sigma2_x[sigma2_x < 0] = 0\n",
    "\n",
    "# exact moments of CIR process\n",
    "mu_y = y[:,-1]*exp(-kappa*t_j) + y_*(1-exp(-kappa*t_j))\n",
    "sigma2_y = y[:,-1]*(eta ** 2 / kappa)*( exp(-kappa*t_j) - exp(-2*kappa*t_j) ) + ((y_*eta ** 2) / (2*kappa))*(1-exp(-kappa*t_j)) ** 2"
   ]
  },
  {
   "cell_type": "markdown",
   "metadata": {},
   "source": [
    "## Path Moment-Matching"
   ]
  },
  {
   "cell_type": "code",
   "execution_count": null,
   "metadata": {},
   "outputs": [],
   "source": [
    "step = 21\n",
    "q = ones((1, j_)) / j_  # initial flat probabilities\n",
    "p_constr = ones((j_, 1))  # constraint on probabilities\n",
    "mu_constr = mu_x[step::step].reshape(1,-1)  # constraint on first moment\n",
    "sigma2_constr = sigma2_x[step::step].reshape(1,-1)  # constraint on second moment\n",
    "\n",
    "p, _ = PathMomMatch(q, X[:,step::step].T, mu_constr.T, sigma2_constr.T, p_constr.T)"
   ]
  },
  {
   "cell_type": "markdown",
   "metadata": {},
   "source": [
    "## Compute pdf to horizon"
   ]
  },
  {
   "cell_type": "code",
   "execution_count": null,
   "metadata": {},
   "outputs": [],
   "source": [
    "option = namedtuple('option', 'n_bins')\n",
    "option.n_bins = 100\n",
    "[fx_hor, x_hor] = HistogramFP(X[:,[-1]].T, p[[-1],:], option)\n",
    "[fy_hor, y_hor] = HistogramFP(Y[:,[-1]].T, p[[-1],:], option)\n",
    "\n",
    "# stationary distribution of variance\n",
    "y_stat = linspace(0, y_ + 2*eta, 2000)\n",
    "fy_stat = gamma.pdf(y_stat, 2*kappa*y_/(eta**2), scale=eta**2 / (2*kappa))"
   ]
  },
  {
   "cell_type": "markdown",
   "metadata": {},
   "source": [
    "## Generate figure"
   ]
  },
  {
   "cell_type": "code",
   "execution_count": null,
   "metadata": {},
   "outputs": [],
   "source": [
    "s_ = 252\n",
    "# number of plotted observation before projecting time\n",
    "j_visual = 10  # number of simulated paths to be printed\n",
    "idx = range(j_visual)\n",
    "\n",
    "# axes settings\n",
    "m_x = min([npmin(X[idx, :]), npmin(x[:,-s_:]), mu_x[-1]-3.2*sqrt(sigma2_x[-1])])\n",
    "M_x = max([npmax(X[idx, :]), npmax(x[:,-s_:]), mu_x[-1]+3.2*sqrt(sigma2_x[-1])])\n",
    "m_y = min([npmin(Y[idx, :])*.91, npmin(y[:,-s_:])*.91, mu_y[-1] - 2.8*sqrt(sigma2_y[-1])])\n",
    "M_y = max([npmax(Y[idx, :])*1.1, npmax(y[:,-s_:])*1.1, mu_y[-1] + 3.8*sqrt(sigma2_y[-1])])\n",
    "tau_plot = tau / 252  #\n",
    "t = arange(-1,tau_plot+1)  #\n",
    "t_plot = t_j / 252  #\n",
    "max_scale = tau_plot / 4  #\n",
    "\n",
    "# preliminary computations\n",
    "redline1_x = mu_x + 2*sqrt(sigma2_x)\n",
    "redline2_x = mu_x - 2*sqrt(sigma2_x)\n",
    "redline1_y = mu_y + 2*sqrt(sigma2_y)\n",
    "redline2_y = mu_y - 2*sqrt(sigma2_y)\n",
    "\n",
    "f, ax = subplots(2,1)\n",
    "# color settings\n",
    "lgrey = [0.8, 0.8, 0.8]\n",
    "# light grey\n",
    "dgrey = [0.55, 0.55, 0.55]\n",
    "# dark grey\n",
    "lblue = [0.27, 0.4, 0.9]\n",
    "# light blue\n",
    "# first subplot\n",
    "plt.sca(ax[0])\n",
    "plt.axis([t[0], t[-1] + max_scale, m_x, M_x])\n",
    "xlabel('time (years)')\n",
    "ylabel('Risk driver')\n",
    "plt.grid(False)\n",
    "title('Heston process')\n",
    "# simulated paths\n",
    "plot(t_plot, X[idx, :].T, color=lgrey, lw=2)\n",
    "# standard deviation lines\n",
    "p_red_1 = plot(t_plot, redline1_x, color='r', lw = 2)  # red bars (+2 std dev)\n",
    "p_red_2 = plot(t_plot, redline2_x, color='r', lw = 2)  # red bars (-2std dev)\n",
    "p_mu = plot(t_plot, mu_x, color='g', lw = 2)  # expectation\n",
    "# histogram pdf plot\n",
    "scale = max_scale / npmax(fx_hor)\n",
    "for k in range(fx_hor.shape[1]):\n",
    "    f_hist = plot([tau_plot, tau_plot+fx_hor[0,k]*scale], [x_hor[k], x_hor[k]], color=dgrey, lw=3)\n",
    "# plot of last s_ observations\n",
    "t_obs = arange(-1,1/252,1/252)\n",
    "plot(t_obs, x[0,-s_-1:], color ='b',linestyle='none', marker = '.',markersize=1)\n",
    "\n",
    "plot([tau_plot, tau_plot], mu_x[-1] + array([-2*sqrt(sigma2_x[-1]), + 2*sqrt(sigma2_x[-1])]), color='r', lw = 2)\n",
    "# second subplot\n",
    "plt.sca(ax[1])\n",
    "plt.axis([t[0], t[-1] + max_scale, m_y, M_y])\n",
    "xlabel('time (years)')\n",
    "ylabel('Stochastic variance')\n",
    "plt.grid(False)\n",
    "title('Square-root (CIR) process')\n",
    "# simulated paths\n",
    "plot(t_plot, Y[idx, :].T, color=lgrey, lw=2)\n",
    "# standard deviation lines\n",
    "plot(t_plot, redline1_y, color='r', lw = 2)  # red bars (+2 std dev)\n",
    "plot(t_plot, redline2_y, color='r', lw = 2)  # red bars (-2std dev)\n",
    "plot(t_plot, mu_y, color='g', lw = 2)  # expectation\n",
    "# histogram pdf plot\n",
    "scale = max_scale / npmax(fy_hor)\n",
    "for k in range(fy_hor.shape[1]):\n",
    "    plot([tau_plot, tau_plot+fy_hor[0,k]*scale], [y_hor[k], y_hor[k]], color=dgrey, lw=3)\n",
    "# stationary pdf\n",
    "stationary = plot(tau_plot+fy_stat*scale, y_stat, color='k', lw=1)\n",
    "# plot of last s_ observations\n",
    "plot(t_obs, y[0,-s_-1:], color ='b',linestyle='none', marker = '.',markersize=1)\n",
    "plot([tau_plot, tau_plot], mu_y[-1] + array([-2*sqrt(sigma2_y[-1]), + 2*sqrt(sigma2_y[-1])]), color='r', lw = 2)\n",
    "# leg\n",
    "leg = legend(handles=[p_mu[0], p_red_1[0], f_hist[0], stationary[0]],labels=['expectation', ' + / - 2st.deviation', 'horizon pdf','asymptotic distribution'])\n",
    "plt.tight_layout();\n",
    "\n",
    "# save_plot(ax=plt.gca(), extension='png', scriptname=os.path.basename('.')[:-3], count=plt.get_fignums()[-1])\n"
   ]
  }
 ],
 "metadata": {
  "jupytext": {
   "encoding": "# -*- coding: utf-8 -*-",
   "executable": "/usr/bin/env python3"
  },
  "kernelspec": {
   "display_name": "Python 3",
   "language": "python",
   "name": "python3"
  }
 },
 "nbformat": 4,
 "nbformat_minor": 4
}
