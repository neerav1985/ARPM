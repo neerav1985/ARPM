{
 "cells": [
  {
   "cell_type": "markdown",
   "metadata": {},
   "source": [
    "# s_entropy_view [<img src=\"https://www.arpm.co/lab/icons/icon_permalink.png\" width=30 height=30 style=\"display: inline;\">](https://www.arpm.co/lab/redirect.php?code=s_entropy_view&codeLang=Python)\n",
    "For details, see [here](https://www.arpm.co/lab/redirect.php?permalink=EntrpPool)."
   ]
  },
  {
   "cell_type": "code",
   "execution_count": null,
   "metadata": {},
   "outputs": [],
   "source": [
    "import numpy as np\n",
    "import matplotlib.pyplot as plt\n",
    "from scipy.stats import t\n",
    "\n",
    "from arpym.statistics.meancov_sp import meancov_sp\n",
    "from arpym.views.min_rel_entropy_sp import min_rel_entropy_sp\n",
    "from arpym.tools.histogram_sp import histogram_sp\n",
    "from arpym.tools.logo import add_logo"
   ]
  },
  {
   "cell_type": "markdown",
   "metadata": {},
   "source": [
    "## [Input parameters](https://www.arpm.co/lab/redirect.php?permalink=s_entropy_view-parameters)"
   ]
  },
  {
   "cell_type": "code",
   "execution_count": null,
   "metadata": {},
   "outputs": [],
   "source": [
    "j_ = 10 ** 6  # number of scenarios\n",
    "nu = 4  # degrees of freedom\n",
    "mu = 0  # expectation of sample\n",
    "sig = 1  # standard deviation of sample\n",
    "\n",
    "mu_x_base = -2.2\n",
    "sig_x_base = 1.3\n",
    "sk_x_base = 4\n",
    "\n",
    "c = 0.7    # confidence level"
   ]
  },
  {
   "cell_type": "markdown",
   "metadata": {},
   "source": [
    "## [Step 1](https://www.arpm.co/lab/redirect.php?permalink=s_entropy_view-implementation-step01): Generate scenarios and uniform flexible probabilities of base distribution"
   ]
  },
  {
   "cell_type": "code",
   "execution_count": null,
   "metadata": {},
   "outputs": [],
   "source": [
    "x = (mu + sig * t.rvs(nu, size=(j_,)))\n",
    "p_base_unif = np.ones((j_)) / j_  # base uniform flexible probabilities"
   ]
  },
  {
   "cell_type": "markdown",
   "metadata": {},
   "source": [
    "## [Step 2](https://www.arpm.co/lab/redirect.php?permalink=s_entropy_view-implementation-step02): Compute base probabilities"
   ]
  },
  {
   "cell_type": "code",
   "execution_count": null,
   "metadata": {},
   "outputs": [],
   "source": [
    "# Generate parameters specifying constraints for base distribution\n",
    "\n",
    "\n",
    "def v(x):\n",
    "    return np.array([x ** 3, x, x ** 2])  # view function\n",
    "\n",
    "\n",
    "def mu_view_ineq(mu, sig, sk):\n",
    "    return np.array([sk * sig ** 3 + 3 * mu * sig ** 2 + mu ** 3])\n",
    "\n",
    "\n",
    "def mu_view_eq(mu, sig):\n",
    "    return np.array([mu, mu ** 2 + sig ** 2])\n",
    "\n",
    "\n",
    "z_ineq_base = - v(x)[:1]\n",
    "mu_ineq_base = - mu_view_ineq(mu_x_base, sig_x_base, sk_x_base)\n",
    "\n",
    "z_eq_base = v(x)[1:]\n",
    "mu_view_eq_base = mu_view_eq(mu_x_base, sig_x_base)\n",
    "\n",
    "p_base = min_rel_entropy_sp(p_base_unif, z_ineq_base, mu_ineq_base, z_eq_base,\n",
    "                            mu_view_eq_base, normalize=False)"
   ]
  },
  {
   "cell_type": "markdown",
   "metadata": {},
   "source": [
    "## [Step 3](https://www.arpm.co/lab/redirect.php?permalink=s_entropy_view-implementation-step03): Compute updated probabilities"
   ]
  },
  {
   "cell_type": "code",
   "execution_count": null,
   "metadata": {},
   "outputs": [],
   "source": [
    "# Generate parameters specifying constraints for updated distribution\n",
    "\n",
    "z_ineq = v(x)[:1]\n",
    "mu_ineq = mu_view_ineq(- mu_x_base, sig_x_base, - sk_x_base)\n",
    "\n",
    "z_eq = v(x)[1:]\n",
    "mu_view_eq = mu_view_eq(- mu_x_base, sig_x_base)\n",
    "\n",
    "p_upd = min_rel_entropy_sp(p_base, z_ineq, mu_ineq, z_eq, mu_view_eq,\n",
    "                           normalize=False)"
   ]
  },
  {
   "cell_type": "markdown",
   "metadata": {},
   "source": [
    "## [Step 4](https://www.arpm.co/lab/redirect.php?permalink=s_entropy_view-implementation-step04): Compute expectations, standard deviations and skewness of updated distribution"
   ]
  },
  {
   "cell_type": "code",
   "execution_count": null,
   "metadata": {},
   "outputs": [],
   "source": [
    "mu_upd, sig2_upd = meancov_sp(x, p_upd)\n",
    "sig_upd = np.sqrt(sig2_upd)\n",
    "sk_upd = ((x - mu_upd) ** 3) @ p_upd / sig_upd ** 3"
   ]
  },
  {
   "cell_type": "markdown",
   "metadata": {},
   "source": [
    "## [Step 5](https://www.arpm.co/lab/redirect.php?permalink=s_entropy_view-implementation-step05): Compute confidence-weighted probabilities"
   ]
  },
  {
   "cell_type": "code",
   "execution_count": null,
   "metadata": {},
   "outputs": [],
   "source": [
    "p_c_add = c * p_upd + (1 - c) * p_base\n",
    "p_c_mul = p_upd ** c * p_base ** (1 - c) /\\\n",
    "    np.sum(p_upd ** c * p_base ** (1 - c))"
   ]
  },
  {
   "cell_type": "markdown",
   "metadata": {},
   "source": [
    "## [Step 6](https://www.arpm.co/lab/redirect.php?permalink=s_entropy_view-implementation-step06): Compute expectations, standard deviations and skewness of confidence-weighted distributions"
   ]
  },
  {
   "cell_type": "code",
   "execution_count": null,
   "metadata": {},
   "outputs": [],
   "source": [
    "mu_c_add, sig2_c_add = meancov_sp(x, p_c_add)\n",
    "sig_c_add = np.sqrt(sig2_c_add)\n",
    "sk_add = ((x - mu_c_add) ** 3) @ p_c_add / sig_c_add ** 3\n",
    "\n",
    "mu_c_mul, sig2_c_mul = meancov_sp(x, p_c_mul)\n",
    "sig_c_mul = np.sqrt(sig2_c_mul)\n",
    "sk_mul = ((x - mu_c_mul) ** 3) @ p_c_mul / sig_c_mul ** 3"
   ]
  },
  {
   "cell_type": "markdown",
   "metadata": {},
   "source": [
    "## Plots"
   ]
  },
  {
   "cell_type": "code",
   "execution_count": null,
   "metadata": {},
   "outputs": [],
   "source": [
    "plt.style.use('arpm')\n",
    "fig, ax = plt.subplots(4, 1)\n",
    "\n",
    "xmin = -7\n",
    "xmax = 7\n",
    "ymin = -0.1\n",
    "ymax = 0.65\n",
    "\n",
    "# base distribution\n",
    "plt.sca(ax[0])\n",
    "f, xp = histogram_sp(x, p=p_base, k_=np.sqrt(j_))\n",
    "plt.bar(xp, f, width=xp[1]-xp[0], facecolor=[.9, .9, .9], edgecolor='k')\n",
    "\n",
    "sd_bar_base = np.linspace(mu_x_base - sig_x_base, mu_x_base + sig_x_base, 2)\n",
    "plt.plot(sd_bar_base, [0, 0], 'b', lw=2, label='Standard deviation')\n",
    "plt.plot(mu_x_base, 0, '.r', markersize=15, label='Expectation')\n",
    "plt.title('Base distribution')\n",
    "\n",
    "# updated distribution\n",
    "plt.sca(ax[3])\n",
    "f, xp = histogram_sp(x, p=p_upd, k_=np.sqrt(j_))\n",
    "plt.bar(xp, f, width=xp[1]-xp[0], facecolor=[.9, .9, .9], edgecolor='k')\n",
    "\n",
    "sd_bar_upd = np.linspace(mu_upd - sig_upd, mu_upd + sig_upd, 2)\n",
    "plt.plot(sd_bar_upd, [0, 0], 'b', lw=2)\n",
    "plt.plot(mu_upd, 0, '.r', markersize=15)\n",
    "plt.title('Updated distribution')\n",
    "\n",
    "# additive confidence-weighted distribution\n",
    "plt.sca(ax[1])\n",
    "f, xp = histogram_sp(x, p=p_c_add, k_=np.sqrt(j_))\n",
    "plt.bar(xp, f, width=xp[1]-xp[0], facecolor=[.9, .9, .9], edgecolor='k')\n",
    "\n",
    "sd_bar_p_c = np.linspace(mu_c_add - sig_c_add, mu_c_add + sig_c_add, 2)\n",
    "plt.plot(sd_bar_p_c, [0, 0], 'b', lw=2)\n",
    "plt.plot(mu_c_add, 0, '.r', markersize=15)\n",
    "plt.title('Additive opinion pooling c = %d %%' % np.floor(c*100))\n",
    "\n",
    "# multiplicative confidence-weighted distribution\n",
    "plt.sca(ax[2])\n",
    "f, xp = histogram_sp(x, p=p_c_mul, k_=np.sqrt(j_))\n",
    "plt.bar(xp, f, width=xp[1]-xp[0], facecolor=[.9, .9, .9], edgecolor='k')\n",
    "\n",
    "sd_bar_p_c_m = np.linspace(mu_c_mul - sig_c_mul, mu_c_mul + sig_c_mul, 2)\n",
    "plt.plot(sd_bar_p_c_m, [0, 0], 'b', lw=2)\n",
    "plt.plot(mu_c_mul, 0, '.r', markersize=15)\n",
    "plt.title('Multiplicative opinion pooling c = %d %%' % np.floor(c*100))\n",
    "\n",
    "for n in range(4):\n",
    "    ax[n].set_yticks(np.linspace(0, 0.6, 4))\n",
    "    ax[n].set_xlim([xmin, xmax])\n",
    "    ax[n].set_ylim([ymin, ymax])\n",
    "add_logo(fig, location=1)\n",
    "plt.tight_layout()"
   ]
  }
 ],
 "metadata": {
  "jupytext": {
   "encoding": "# -*- coding: utf-8 -*-",
   "executable": "/usr/bin/env python3"
  },
  "kernelspec": {
   "display_name": "Python 3",
   "language": "python",
   "name": "python3"
  }
 },
 "nbformat": 4,
 "nbformat_minor": 4
}
