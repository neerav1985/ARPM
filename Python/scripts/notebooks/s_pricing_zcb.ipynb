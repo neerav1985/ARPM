{
 "cells": [
  {
   "cell_type": "markdown",
   "metadata": {},
   "source": [
    "# s_pricing_zcb [<img src=\"https://www.arpm.co/lab/icons/icon_permalink.png\" width=30 height=30 style=\"display: inline;\">](https://www.arpm.co/lab/redirect.php?code=s_pricing_zcb&codeLang=Python)\n",
    "For details, see [here](https://www.arpm.co/lab/redirect.php?permalink=eb-pricing-normal-quad-approx)."
   ]
  },
  {
   "cell_type": "code",
   "execution_count": null,
   "metadata": {},
   "outputs": [],
   "source": [
    "import numpy as np\n",
    "import pandas as pd\n",
    "from scipy.linalg import expm\n",
    "import matplotlib.pyplot as plt\n",
    "from datetime import timedelta\n",
    "\n",
    "from arpym.pricing.zcb_value import zcb_value\n",
    "from arpym.statistics.moments_mvou import moments_mvou\n",
    "from arpym.tools.histogram_sp import histogram_sp\n",
    "from arpym.tools.logo import add_logo"
   ]
  },
  {
   "cell_type": "markdown",
   "metadata": {},
   "source": [
    "## [Input parameters](https://www.arpm.co/lab/redirect.php?permalink=s_pricing_zcb-parameters)"
   ]
  },
  {
   "cell_type": "code",
   "execution_count": null,
   "metadata": {},
   "outputs": [],
   "source": [
    "tau_hor = 3    # time to horizon\n",
    "j_ = 1000  # number of scenarios"
   ]
  },
  {
   "cell_type": "markdown",
   "metadata": {},
   "source": [
    "## [Step 0](https://www.arpm.co/lab/redirect.php?permalink=s_pricing_zcb-implementation-step00): Upload data"
   ]
  },
  {
   "cell_type": "code",
   "execution_count": null,
   "metadata": {},
   "outputs": [],
   "source": [
    "path = '~/databases/temporary-databases'\n",
    "df = pd.read_csv(path + '/db_proj_scenarios_yield.csv', header=0)\n",
    "\n",
    "j_m_, _ = df.shape\n",
    "df2 = pd.read_csv(path + '/db_proj_dates.csv', header=0, parse_dates=True)\n",
    "t_m = np.array(pd.to_datetime(df2.values.reshape(-1)), dtype='datetime64[D]')\n",
    "m_ = t_m.shape[0]-1\n",
    "deltat_m = np.busday_count(t_m[0], t_m[1])\n",
    "\n",
    "if tau_hor > m_:\n",
    "    print(\" Projection doesn't have data until given horizon!!! Horizon lowered to \", m_)\n",
    "    tau_hor = m_\n",
    "# number of monitoring times\n",
    "m_ = tau_hor\n",
    "t_m = t_m[:m_+1]\n",
    "t_now = t_m[0]\n",
    "t_hor = t_m[-1]\n",
    "tau = np.array(list(map(int, df.columns)))  # times to maturity\n",
    "d_ = tau.shape[0]\n",
    "x_tnow_thor = np.array(df).reshape(j_, int(j_m_/j_), d_)\n",
    "x_tnow_thor = x_tnow_thor[:j_, :m_+1, :]\n",
    "y_tnow = x_tnow_thor[0, 0, :]\n",
    "y_thor = x_tnow_thor[:, -1, :]\n",
    "\n",
    "df = pd.read_csv(path + '/db_proj_scenarios_yield_par.csv', header=0)\n",
    "\n",
    "theta = np.array(df['theta'].iloc[:d_ ** 2].values.reshape(d_, d_))\n",
    "mu_mvou = np.array(df['mu_mvou'].iloc[:d_])\n",
    "sig2_mvou = np.array(df['sig2_mvou'].iloc[:d_ ** 2].values.reshape(d_, d_))"
   ]
  },
  {
   "cell_type": "markdown",
   "metadata": {},
   "source": [
    "## [Step 1](https://www.arpm.co/lab/redirect.php?permalink=s_pricing_zcb-implementation-step01): Compute zcb current values and scenarios for the value of the zcb at the horizon"
   ]
  },
  {
   "cell_type": "code",
   "execution_count": null,
   "metadata": {},
   "outputs": [],
   "source": [
    "# zero-coupon bonds current values\n",
    "t_end = np.array([np.datetime64('2012-10-24'), np.datetime64('2017-10-23')])  # zcb times of maturity\n",
    "v_zcb_tnow = zcb_value(t_now, np.array([y_tnow]), tau, t_end).squeeze()\n",
    "\n",
    "# scenarios for zero-coupon bonds values at the horizon\n",
    "v_zcb_thor = zcb_value(t_hor, y_thor, tau, t_end).squeeze()"
   ]
  },
  {
   "cell_type": "markdown",
   "metadata": {},
   "source": [
    "## [Step 2](https://www.arpm.co/lab/redirect.php?permalink=s_pricing_zcb-implementation-step02): Compute the zero-coupon bonds P&L's scenarios at the horizon"
   ]
  },
  {
   "cell_type": "code",
   "execution_count": null,
   "metadata": {},
   "outputs": [],
   "source": [
    "pl_thor = v_zcb_thor - v_zcb_tnow"
   ]
  },
  {
   "cell_type": "markdown",
   "metadata": {},
   "source": [
    "## [Step 3](https://www.arpm.co/lab/redirect.php?permalink=s_pricing_zcb-implementation-step03): Compute the moments of the risk drivers at the horizon"
   ]
  },
  {
   "cell_type": "code",
   "execution_count": null,
   "metadata": {},
   "outputs": [],
   "source": [
    "mu_y, _, sig2_y = moments_mvou(y_tnow, [tau_hor*21],\n",
    "                                     theta, mu_mvou, sig2_mvou)"
   ]
  },
  {
   "cell_type": "markdown",
   "metadata": {},
   "source": [
    "## [Step 4](https://www.arpm.co/lab/redirect.php?permalink=s_pricing_zcb-implementation-step04): parameters for the first order Taylor approximation"
   ]
  },
  {
   "cell_type": "code",
   "execution_count": null,
   "metadata": {},
   "outputs": [],
   "source": [
    "# numerical differentiation steps\n",
    "dx = 0.001\n",
    "dt = 1/252  # one day\n",
    "n_ = len(v_zcb_tnow)  # number of instruments\n",
    "\n",
    "y_up = np.tile(y_tnow.reshape(-1, 1), d_) + np.eye(d_) * dx\n",
    "y_down = np.tile(y_tnow.reshape(-1, 1), d_) - np.eye(d_) * dx\n",
    "\n",
    "# numerical yield  \n",
    "y_hat = 1 / (v_zcb_tnow * dt) * (zcb_value(t_now+np.timedelta64(int(dt*252))\n",
    "                                           , np.array([y_tnow]), tau, t_end\n",
    "                                           , 'y')\n",
    "                                 - v_zcb_tnow).squeeze()\n",
    "# key rate durations\n",
    "bond_t_up = zcb_value(t_now, y_up.T, tau, t_end, 'y')\n",
    "bond_t_down = zcb_value(t_now, y_down.T, tau, t_end, 'y')\n",
    "dur_hat = np.zeros((d_, n_))  # key-rates durations\n",
    "for d in range(d_):\n",
    "    dur_hat[d, :] = -(bond_t_up[d, :] - bond_t_down[d, :]) / \\\n",
    "                (v_zcb_tnow * 2 * dx)\n",
    "\n",
    "# shift terms\n",
    "deltat = tau_hor/12\n",
    "alpha_pi_pric = y_hat * v_zcb_tnow *deltat\n",
    "\n",
    "# exposures\n",
    "beta_pi_pric = - dur_hat * v_zcb_tnow"
   ]
  },
  {
   "cell_type": "markdown",
   "metadata": {},
   "source": [
    "## [Step 5](https://www.arpm.co/lab/redirect.php?permalink=s_pricing_zcb-implementation-step05): parameters of the normal joint distribution of the P&L's"
   ]
  },
  {
   "cell_type": "code",
   "execution_count": null,
   "metadata": {},
   "outputs": [],
   "source": [
    "mu_pl = alpha_pi_pric + \\\n",
    "    beta_pi_pric.T@((expm(-theta*deltat*252) -\n",
    "                     np.eye(d_))@y_tnow +\n",
    "                    mu_y)  # bonds' P&L's mean\n",
    "\n",
    "sig2_pl = beta_pi_pric.T@sig2_y@beta_pi_pric  # bonds' P&L's covariance"
   ]
  },
  {
   "cell_type": "markdown",
   "metadata": {},
   "source": [
    "## [Step 6](https://www.arpm.co/lab/redirect.php?permalink=s_pricing_zcb-implementation-step06): Save database"
   ]
  },
  {
   "cell_type": "code",
   "execution_count": null,
   "metadata": {},
   "outputs": [],
   "source": [
    "output = {'j_': pd.Series(j_),\n",
    "          'd_': pd.Series(d_),\n",
    "          'time2hor_tnow': pd.Series(tau_hor/12),\n",
    "          'time2mat_tnow': pd.Series([np.busday_count(t_now, t_end[i])/252\n",
    "                                      for i in range(len(t_end))]),\n",
    "          'tau_d': pd.Series(tau.reshape((d_,))),\n",
    "          'pl1': pd.Series(pl_thor[:, 0].reshape((j_,))),\n",
    "          'pl2': pd.Series(pl_thor[:, 1].reshape((j_,))),\n",
    "          'v_zcb_tnow': pd.Series(v_zcb_tnow),\n",
    "          'y_tnow': pd.Series(y_tnow),\n",
    "          'theta': pd.Series(theta.reshape((d_ * d_,))),\n",
    "          'mu_pl': pd.Series(mu_pl),\n",
    "          'sig2_pl': pd.Series(sig2_pl.reshape((n_ * n_,))),\n",
    "          'mu_thor': pd.Series(mu_y),\n",
    "          'sig2_thor': pd.Series(sig2_y.reshape((d_ * d_,))),\n",
    "          'dur_hat': pd.Series(dur_hat.reshape((d_ * n_,))),\n",
    "          'y_hat': pd.Series(y_hat),\n",
    "          'bond_t_up': pd.Series(bond_t_up.reshape((d_ * n_,))),\n",
    "          'bond_t_down': pd.Series(bond_t_down.reshape((d_ * n_,))),\n",
    "          'alpha_pi_pric': pd.Series(alpha_pi_pric.reshape((n_,))),\n",
    "          'beta_pi_pric': pd.Series(beta_pi_pric.reshape((d_ * n_,)))\n",
    "          }\n",
    "df = pd.DataFrame(output)\n",
    "df.to_csv('~/databases/temporary-databases/db_pricing_zcb.csv')"
   ]
  },
  {
   "cell_type": "markdown",
   "metadata": {},
   "source": [
    "## Plots"
   ]
  },
  {
   "cell_type": "code",
   "execution_count": null,
   "metadata": {},
   "outputs": [],
   "source": [
    "plt.style.use('arpm')\n",
    "n_ = sig2_pl.shape[1]\n",
    "fig, ax = plt.subplots(n_, 1)\n",
    "\n",
    "lgray = [.7, .7, .7]  # light gray\n",
    "dgray = [.5, .5, .5]  # dark gray\n",
    "\n",
    "for n in range(n_):\n",
    "    # histogram of the zero coupon bond P&L\n",
    "    plt.sca(ax[n])\n",
    "    n_bins = round(15 * np.log(j_))  # number of histogram bins\n",
    "    [f, x_f] = histogram_sp(pl_thor[:, [n]], p=(1/j_ * np.ones((j_, 1))),\n",
    "                            k_=n_bins)\n",
    "    hf = plt.bar(x_f, f, width=x_f[1] - x_f[0], facecolor=lgray,\n",
    "                 edgecolor=dgray)\n",
    "    if n == 0:\n",
    "        plt.title(\n",
    "            r'First zcb: distribution of the P&L at the horizon' +\n",
    "            '\\n' + r' $\\tau$ = ' + str(tau_hor*21) + ' days')\n",
    "    else:\n",
    "        plt.title(r'Second zcb: distribution of the P&L at the horizon' +\n",
    "                  '\\n' + r' $\\tau$ = ' +str(tau_hor*21) + ' days')\n",
    "add_logo(fig, location=1)\n",
    "plt.tight_layout()"
   ]
  }
 ],
 "metadata": {
  "jupytext": {
   "encoding": "# -*- coding: utf-8 -*-",
   "executable": "/usr/bin/env python3"
  },
  "kernelspec": {
   "display_name": "Python 3",
   "language": "python",
   "name": "python3"
  }
 },
 "nbformat": 4,
 "nbformat_minor": 4
}
