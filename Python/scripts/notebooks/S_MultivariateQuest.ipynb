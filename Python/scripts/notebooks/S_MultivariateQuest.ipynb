{
 "cells": [
  {
   "cell_type": "markdown",
   "metadata": {},
   "source": [
    "# S_MultivariateQuest [<img src=\"https://www.arpm.co/lab/icons/icon_permalink.png\" width=30 height=30 style=\"display: inline;\">](https://www.arpm.co/lab/redirect.php?code=S_MultivariateQuest&codeLang=Python)\n",
    "For details, see [here](https://www.arpm.co/lab/redirect.php?permalink=eb-chain-multiv-quest)."
   ]
  },
  {
   "cell_type": "markdown",
   "metadata": {},
   "source": [
    "## Prepare the environment"
   ]
  },
  {
   "cell_type": "code",
   "execution_count": null,
   "metadata": {},
   "outputs": [],
   "source": [
    "import os\n",
    "import os.path as path\n",
    "import sys\n",
    "\n",
    "sys.path.append(path.abspath('../../functions-legacy'))\n",
    "from collections import namedtuple\n",
    "\n",
    "import numpy as np\n",
    "from numpy import reshape, ones, zeros, diff, linspace, log, sqrt, tile, r_\n",
    "from numpy import min as npmin, max as npmax\n",
    "\n",
    "from scipy.stats import norm\n",
    "from scipy.io import loadmat\n",
    "\n",
    "import matplotlib.pyplot as plt\n",
    "\n",
    "plt.style.use('seaborn')\n",
    "\n",
    "from CONFIG import GLOBAL_DB, TEMPORARY_DB\n",
    "from ARPM_utils import struct_to_dict\n",
    "from intersect_matlab import intersect\n",
    "from Price2AdjustedPrice import Price2AdjustedPrice\n",
    "from RollPrices2YieldToMat import RollPrices2YieldToMat\n",
    "from Delta2MoneynessImplVol import Delta2MoneynessImplVol\n",
    "from FitVAR1 import FitVAR1\n",
    "from ExponentialDecayProb import ExponentialDecayProb\n",
    "from InverseCallTransformation import InverseCallTransformation"
   ]
  },
  {
   "cell_type": "markdown",
   "metadata": {},
   "source": [
    "## Upload databases and match the time series of interest to work with synchronous observations"
   ]
  },
  {
   "cell_type": "code",
   "execution_count": null,
   "metadata": {},
   "outputs": [],
   "source": [
    "#load\n",
    "try:\n",
    "    db = loadmat(os.path.join(GLOBAL_DB, 'db_Stocks'), squeeze_me=True)\n",
    "except FileNotFoundError:\n",
    "    db = loadmat(os.path.join(TEMPORARY_DB, 'db_Stocks'), squeeze_me=True)\n",
    "\n",
    "StocksSPX = struct_to_dict(db['StocksSPX'], as_namedtuple=False)\n",
    "\n",
    "try:\n",
    "    db = loadmat(os.path.join(GLOBAL_DB, 'db_SwapCurve'), squeeze_me=True)\n",
    "except FileNotFoundError:\n",
    "    db = loadmat(os.path.join(TEMPORARY_DB, 'db_SwapCurve'), squeeze_me=True)\n",
    "\n",
    "DF_Rolling = struct_to_dict(db['DF_Rolling'], as_namedtuple=False)\n",
    "\n",
    "try:\n",
    "    db = loadmat(os.path.join(GLOBAL_DB, 'db_ImpliedVol_SPX'), squeeze_me=True)\n",
    "except FileNotFoundError:\n",
    "    db = loadmat(os.path.join(TEMPORARY_DB, 'db_ImpliedVol_SPX'), squeeze_me=True)\n",
    "\n",
    "db_ImpliedVol_SPX = struct_to_dict(db['db_ImpliedVol_SPX'], as_namedtuple=False)\n",
    "\n",
    "# merge\n",
    "[common, i_stocks, i_rates] = intersect(StocksSPX['Date'], DF_Rolling['Dates'])\n",
    "[common, i_others, i_options] = intersect(common, db_ImpliedVol_SPX['Dates'])\n",
    "StocksSPX['Date'] = StocksSPX['Date'][i_stocks[i_others]]\n",
    "StocksSPX['Prices'] = StocksSPX['Prices'][:, i_stocks[i_others]]\n",
    "DF_Rolling['Dates'] = DF_Rolling['Dates'][i_rates[i_others]]\n",
    "DF_Rolling['Prices'] = DF_Rolling['Prices'][:, i_rates[i_others]]\n",
    "db_ImpliedVol_SPX['Dates'] = db_ImpliedVol_SPX['Dates'][i_options]\n",
    "db_ImpliedVol_SPX['Underlying'] = db_ImpliedVol_SPX['Underlying'][i_options]\n",
    "db_ImpliedVol_SPX['Sigma'] = db_ImpliedVol_SPX['Sigma'][:,:, i_options]\n",
    "\n",
    "# len of the time series\n",
    "t_riskdrivers = len(common)"
   ]
  },
  {
   "cell_type": "markdown",
   "metadata": {},
   "source": [
    "## 1a-1b Quest for invariance\n",
    "## Stocks: compute the log-adjusted values and obtain the invariants, i.e. the compounded returns, as their increments"
   ]
  },
  {
   "cell_type": "code",
   "execution_count": null,
   "metadata": {},
   "outputs": [],
   "source": [
    "Stocks = namedtuple('Stocks', 'n_ x_tnow d_ epsi i_')\n",
    "\n",
    "Stocks.n_ = 7  # we consider the first 7 stocks in the dataset\n",
    "# Risk drivers: log-adjust prices\n",
    "x_stocks = zeros((Stocks.n_,t_riskdrivers))\n",
    "for n in range(Stocks.n_):\n",
    "    x_stocks[n,:] = log(Price2AdjustedPrice(StocksSPX['Date'].reshape(1,-1), StocksSPX['Prices'][[n], :], StocksSPX['Dividends'][n])[0])\n",
    "\n",
    "Stocks.x_tnow = x_stocks[:,-1]  # current value of the risk drivers\n",
    "Stocks.d_ = Stocks.n_  # number of risk drivers for stocks\n",
    "\n",
    "# Invariants: compounded returns (increments in the risk drivers)\n",
    "Stocks.epsi = diff(x_stocks, 1, 1)  # past realizations of the invariants\n",
    "Stocks.i_ = Stocks.n_  # number of invariants for stocks\n",
    "t_ = Stocks.epsi.shape[1]  # len of the time series of the invariants"
   ]
  },
  {
   "cell_type": "markdown",
   "metadata": {},
   "source": [
    "## Zero Coupon Bonds: compute the shadow rates, fit a VAR(1) model and obtain the invariants as residuals"
   ]
  },
  {
   "cell_type": "code",
   "execution_count": null,
   "metadata": {},
   "outputs": [],
   "source": [
    "Bonds = namedtuple('Bonds', 'n_ epsi i_ RatingProj I_D V_thor ')\n",
    "Rates = namedtuple('Rates', 'tau eta x_tnow d_ alpha beta')\n",
    "\n",
    "Bonds.n_ = 5  # number of bonds\n",
    "\n",
    "# Risk drivers: shadow rates. They are assumed to follow a VAR(1) process\n",
    "Rates.tau = DF_Rolling['TimeToMat'][2:]  # time to maturity of the key rates\n",
    "Rates.eta = 0.013  # parameter for inverse call transformation\n",
    "shadowrates = InverseCallTransformation(RollPrices2YieldToMat(Rates.tau, DF_Rolling['Prices'][2:,:])[0], {1:Rates.eta})  # shadow rates = InverseCallTransformation((yields to maturity, eta))\n",
    "Rates.x_tnow = shadowrates[:,-1]  # current value of the risk drivers\n",
    "Rates.d_ = shadowrates.shape[0]  # number of risk drivers\n",
    "\n",
    "# Fit a VAR(1) model to the historical series of the shadow rates\n",
    "# dx = diff(shadowrates, 1, 2)\n",
    "dt = 1  # 1 day\n",
    "p = ones((1, t_)) / t_  # flat flexible probabilities\n",
    "Rates.alpha, Rates.beta, *_ = FitVAR1(shadowrates, p, 5, 0, 0, 0)\n",
    "# [Rates.alpha, Rates.beta] = FitVAR1(dx, shadowrates((:,1:-1),p, 5, 0, 0, 0))\n",
    "# [Rates.beta, Rates.alpha] = FitVAR1MVOU(dx, shadowrates((:,1:-1), dt, p, 5, 0, 0, 0, 0, 'VAR1'))\n",
    "\n",
    "# Invariants: residuals of the VAR(1) model\n",
    "Bonds.epsi = shadowrates[:, 1:]-tile(Rates.alpha[...,np.newaxis], (1, t_))-Rates.beta@shadowrates[:, : -1]\n",
    "Bonds.i_ = Bonds.epsi.shape[0]  # number of invariants"
   ]
  },
  {
   "cell_type": "markdown",
   "metadata": {},
   "source": [
    "## Options: compute the m-moneyness"
   ]
  },
  {
   "cell_type": "code",
   "execution_count": null,
   "metadata": {},
   "outputs": [],
   "source": [
    "Options = namedtuple('Options', 'n_ x_tnow d epsi i_')\n",
    "SPX = namedtuple('SPX', 'n_ x_tnow d epsi i_')\n",
    "ImplVol = namedtuple('SPX', 'tau n_tau')\n",
    "\n",
    "Options.n_ = 3  # number of options\n",
    "# Risk drivers: the log-value of the S&P 500 and the log-implied volatility surface follow a random walk the\n",
    "# short-shadow rate has been modeled above as risk driver for bonds\n",
    "# Log-value of the underlying (S&P500)\n",
    "x_SPX = log(db_ImpliedVol_SPX['Underlying'])\n",
    "SPX.x_tnow = x_SPX[-1]\n",
    "SPX.epsi = diff(x_SPX)  # invariants\n",
    "\n",
    "# Log-implied volatility\n",
    "ImplVol.tau = db_ImpliedVol_SPX['TimeToMaturity']  # the time to expiry grid\n",
    "ImplVol.n_tau = len(ImplVol.tau)  # len of the time to expiry grid\n",
    "\n",
    "delta = db_ImpliedVol_SPX['Delta']  # delta-moneyness grid\n",
    "k_ = len(delta)  # len of the delta-moneyness grid\n",
    "\n",
    "sigma_delta = db_ImpliedVol_SPX['Sigma']  # implied volatility (delta-moneyness parametrization)\n",
    "\n",
    "# Short rate\n",
    "shortrate,_ = RollPrices2YieldToMat(Rates.tau[0], DF_Rolling['Prices'][[0]])\n",
    "y0_grid_t = zeros((ImplVol.n_tau,k_,t_riskdrivers))\n",
    "for t in range(t_riskdrivers):\n",
    "    y0_grid_t[:,:,t] = tile(shortrate[0,[t]], (ImplVol.n_tau, k_))\n",
    "\n",
    "# Compute the m-parametrized log-implied volatility surface and reshape it to a 2-dimensional matrix\n",
    "# Moneyness grid\n",
    "max_moneyness = npmax(tile(norm.ppf(delta)[np.newaxis,...,np.newaxis], (ImplVol.n_tau, 1, t_riskdrivers))*sigma_delta -\n",
    "                      (y0_grid_t + sigma_delta ** 2 / 2)* tile(sqrt(ImplVol.tau)[...,np.newaxis,np.newaxis],\n",
    "                                                               (1, k_, t_riskdrivers)))*0.8\n",
    "min_moneyness = npmin(tile(norm.ppf(delta)[np.newaxis,...,np.newaxis], (ImplVol.n_tau, 1, t_riskdrivers))*sigma_delta\n",
    "                      - (y0_grid_t + sigma_delta ** 2 / 2)* tile(sqrt(ImplVol.tau)[...,np.newaxis,np.newaxis],\n",
    "                                                                 (1, k_, t_riskdrivers)))*0.8\n",
    "ImplVol.n_moneyness = 6\n",
    "ImplVol.moneyness_grid = linspace(min_moneyness, max_moneyness, ImplVol.n_moneyness)\n",
    "\n",
    "# For each observation, use function Delta2MoneynessImplVol to pass from the delta-parametrized to the m-parametrized implied volatility surface\n",
    "ImplVol.s2 = zeros((ImplVol.n_tau, ImplVol.n_moneyness, t_riskdrivers))\n",
    "# initialization\n",
    "for t in range(t_riskdrivers):\n",
    "    for n in range(ImplVol.n_tau):\n",
    "        ImplVol.s2[n,:,t] = Delta2MoneynessImplVol(sigma_delta[n,:, t], delta, ImplVol.tau[n], y0_grid_t[n,:, t], ImplVol.moneyness_grid)[0]\n",
    "\n",
    "log_implVol = log(reshape(ImplVol.s2, (ImplVol.n_tau*(ImplVol.n_moneyness),\n",
    "                          t_riskdrivers),'F'))  # reshaped log implied volatility surface\n",
    "ImplVol.x_tnow = log_implVol[:,-1]\n",
    "ImplVol.epsi = diff(log_implVol, 1, 1)\n",
    "\n",
    "# Invariants\n",
    "Options.epsi = r_[SPX.epsi.reshape(1,-1), ImplVol.epsi]\n",
    "Options.i_ = Options.epsi.shape[0]  # number of invariants\n",
    "Options.d = log_implVol.shape[0] + 1  # number of risk drivers: entries of the log-impl vol and log-underlying"
   ]
  },
  {
   "cell_type": "markdown",
   "metadata": {},
   "source": [
    "## Invariants (all) and Exponential decay probabilities"
   ]
  },
  {
   "cell_type": "code",
   "execution_count": null,
   "metadata": {},
   "outputs": [],
   "source": [
    "epsi = r_[Stocks.epsi, Bonds.epsi, Options.epsi]\n",
    "i_, t_ = epsi.shape\n",
    "p = ExponentialDecayProb(t_, 250)"
   ]
  },
  {
   "cell_type": "markdown",
   "metadata": {},
   "source": [
    "## Current value of (all) the risk drivers"
   ]
  },
  {
   "cell_type": "code",
   "execution_count": null,
   "metadata": {},
   "outputs": [],
   "source": [
    "x_tnow = r_[Stocks.x_tnow, Rates.x_tnow, SPX.x_tnow, ImplVol.x_tnow]\n",
    "d_ = x_tnow.shape[0]\n",
    "n_ = Stocks.n_ + Bonds.n_ + Options.n_"
   ]
  }
 ],
 "metadata": {
  "jupytext": {
   "encoding": "# -*- coding: utf-8 -*-",
   "executable": "/usr/bin/env python3"
  },
  "kernelspec": {
   "display_name": "Python 3",
   "language": "python",
   "name": "python3"
  }
 },
 "nbformat": 4,
 "nbformat_minor": 4
}
