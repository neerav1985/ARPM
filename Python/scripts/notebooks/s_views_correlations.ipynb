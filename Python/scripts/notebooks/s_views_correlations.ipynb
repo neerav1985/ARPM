{
 "cells": [
  {
   "cell_type": "markdown",
   "metadata": {},
   "source": [
    "# s_views_correlations [<img src=\"https://www.arpm.co/lab/icons/icon_permalink.png\" width=30 height=30 style=\"display: inline;\">](https://www.arpm.co/lab/redirect.php?code=s_views_correlations&codeLang=Python)\n",
    "For details, see [here](https://www.arpm.co/lab/redirect.php?permalink=eb-example-fpviews-correlation)."
   ]
  },
  {
   "cell_type": "code",
   "execution_count": null,
   "metadata": {},
   "outputs": [],
   "source": [
    "import numpy as np\n",
    "\n",
    "from arpym.statistics.meancov_sp import meancov_sp\n",
    "from arpym.views.min_rel_entropy_sp import min_rel_entropy_sp"
   ]
  },
  {
   "cell_type": "markdown",
   "metadata": {},
   "source": [
    "## [Input parameters](https://www.arpm.co/lab/redirect.php?permalink=s_views_correlations-parameters)"
   ]
  },
  {
   "cell_type": "code",
   "execution_count": null,
   "metadata": {},
   "outputs": [],
   "source": [
    "# scenarios of market variables\n",
    "x = np.array([[0.2, 1.7, 2, 3.4], [5, 3.4, -1.3, 1]]).T\n",
    "p_base = np.ones(x.shape[0]) / x.shape[0]  # base flexible probabilities\n",
    "rho_view = 0.2  # correlation\n",
    "c = 0.2  # confidence level\n",
    "\n",
    "\n",
    "def v_1(y):\n",
    "    return np.array(y[:, 0] * np.exp([y[:, 1]]))  # view function\n",
    "\n",
    "\n",
    "def v_2(y):\n",
    "    return np.array(2 * y[:, 0] - np.exp([y[:, 1]]))  # view function\n",
    "\n",
    "\n",
    "# ## [Step 1](https://www.arpm.co/lab/redirect.php?permalink=s_views_correlations-implementation-step01): Compute parameters specifying the constraints\n",
    "\n",
    "mu_base_1, sig2_base_1 = meancov_sp(v_1(x).T, p_base)\n",
    "sig_base_1 = np.sqrt(sig2_base_1)\n",
    "\n",
    "mu_base_2, sig2_base_2 = meancov_sp(v_2(x).T, p_base)\n",
    "sig_base_2 = np.sqrt(sig2_base_2)\n",
    "\n",
    "z_ineq = v_1(x) * v_2(x)\n",
    "mu_view_ineq = (rho_view * sig_base_1 * sig_base_2 +\n",
    "                mu_base_1 * mu_base_2).reshape(1, )\n",
    "\n",
    "z_eq = np.vstack((v_1(x), v_2(x), v_1(x) ** 2, v_2(x) ** 2))\n",
    "mu_view_eq = np.vstack((mu_base_1, mu_base_2, mu_base_1 ** 2 + sig2_base_1,\n",
    "                        mu_base_2 ** 2 + sig2_base_2)).reshape(4, )"
   ]
  },
  {
   "cell_type": "markdown",
   "metadata": {},
   "source": [
    "## [Step 2](https://www.arpm.co/lab/redirect.php?permalink=s_views_correlations-implementation-step02): Compute updated probabilities"
   ]
  },
  {
   "cell_type": "code",
   "execution_count": null,
   "metadata": {},
   "outputs": [],
   "source": [
    "p_upd = min_rel_entropy_sp(p_base, z_ineq, mu_view_ineq, z_eq, mu_view_eq,\n",
    "                           normalize=False)"
   ]
  },
  {
   "cell_type": "markdown",
   "metadata": {},
   "source": [
    "## [Step 3](https://www.arpm.co/lab/redirect.php?permalink=s_views_correlations-implementation-step03): Compute additive/multiplicative confidence-weighted probabilities"
   ]
  },
  {
   "cell_type": "code",
   "execution_count": null,
   "metadata": {},
   "outputs": [],
   "source": [
    "p_c_add = c * p_upd + (1 - c) * p_base\n",
    "p_c_mul = p_upd ** c * p_base ** (1 - c) /\\\n",
    "    np.sum(p_upd ** c * p_base ** (1 - c))"
   ]
  }
 ],
 "metadata": {
  "jupytext": {
   "encoding": "# -*- coding: utf-8 -*-",
   "executable": "/usr/bin/env python3"
  },
  "kernelspec": {
   "display_name": "Python 3",
   "language": "python",
   "name": "python3"
  }
 },
 "nbformat": 4,
 "nbformat_minor": 4
}
