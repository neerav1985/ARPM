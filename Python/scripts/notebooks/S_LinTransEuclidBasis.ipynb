{
 "cells": [
  {
   "cell_type": "markdown",
   "metadata": {},
   "source": [
    "# S_LinTransEuclidBasis [<img src=\"https://www.arpm.co/lab/icons/icon_permalink.png\" width=30 height=30 style=\"display: inline;\">](https://www.arpm.co/lab/redirect.php?code=S_LinTransEuclidBasis&codeLang=Python)\n",
    "For details, see [here](https://www.arpm.co/lab/redirect.php?permalink=EBEuclidBasAffiTransf)."
   ]
  },
  {
   "cell_type": "markdown",
   "metadata": {},
   "source": [
    "## Prepare the environment"
   ]
  },
  {
   "cell_type": "code",
   "execution_count": null,
   "metadata": {},
   "outputs": [],
   "source": [
    "import os\n",
    "import os.path as path\n",
    "import sys\n",
    "\n",
    "sys.path.append(path.abspath('../../functions-legacy'))\n",
    "\n",
    "import numpy as np\n",
    "from numpy import array, diag, eye, sqrt, arange\n",
    "\n",
    "import matplotlib.pyplot as plt\n",
    "from matplotlib.pyplot import figure, plot, legend, quiver, xticks\n",
    "np.seterr(invalid='ignore')\n",
    "\n",
    "plt.style.use('seaborn')\n",
    "\n",
    "from ARPM_utils import save_plot\n",
    "from Riccati import Riccati\n",
    "\n",
    "# input parameters\n",
    "s2X = array([[5, -7], [- 7, 10]])\n",
    "b = array([[2.5, 1], [0, 3]])"
   ]
  },
  {
   "cell_type": "markdown",
   "metadata": {},
   "source": [
    "## Compute a Riccati root of the correlation and the vectors of X"
   ]
  },
  {
   "cell_type": "code",
   "execution_count": null,
   "metadata": {},
   "outputs": [],
   "source": [
    "svecX = diag(sqrt(s2X))\n",
    "c2X = np.diagflat(1 / svecX)@s2X@np.diagflat(1 / svecX)\n",
    "cX = Riccati(eye(2), c2X)\n",
    "\n",
    "xp = np.diagflat(svecX)@cX"
   ]
  },
  {
   "cell_type": "markdown",
   "metadata": {},
   "source": [
    "## Compute the vectors of Z via linear transformation"
   ]
  },
  {
   "cell_type": "code",
   "execution_count": null,
   "metadata": {},
   "outputs": [],
   "source": [
    "zp = b@xp"
   ]
  },
  {
   "cell_type": "markdown",
   "metadata": {},
   "source": [
    "## Compute the covariance matrix of Z by means of the affine equivariance"
   ]
  },
  {
   "cell_type": "code",
   "execution_count": null,
   "metadata": {},
   "outputs": [],
   "source": [
    "s2Z = b@s2X@b.T"
   ]
  },
  {
   "cell_type": "markdown",
   "metadata": {},
   "source": [
    "## Compute a the Riccati root of the correlation and the vectors of Z"
   ]
  },
  {
   "cell_type": "code",
   "execution_count": null,
   "metadata": {},
   "outputs": [],
   "source": [
    "svecZ = diag(sqrt(s2Z))\n",
    "c2Z = np.diagflat(1 / svecZ)@s2Z@np.diagflat(1 / svecZ)\n",
    "\n",
    "cZ = Riccati(eye(2), c2Z)\n",
    "zzp = np.diagflat(svecZ)@cZ"
   ]
  },
  {
   "cell_type": "markdown",
   "metadata": {},
   "source": [
    "## Display the Euclidean vectors"
   ]
  },
  {
   "cell_type": "code",
   "execution_count": null,
   "metadata": {},
   "outputs": [],
   "source": [
    "figure()\n",
    "\n",
    "quiver(0, 0, zp[0, 0], zp[1, 0], color = 'm', lw= 1, angles='xy',scale_units='xy',scale=1)\n",
    "quiver(0, 0, zzp[0, 0], zzp[1, 0], color = 'b', lw= 1, angles='xy',scale_units='xy',scale=1)\n",
    "quiver(0, 0, zp[0, 1], zp[1, 1], color = 'm', lw= 2, angles='xy',scale_units='xy',scale=1)\n",
    "quiver(0, 0, zzp[0, 1], zzp[1, 1], color = 'b', lw= 2, angles='xy',scale_units='xy',scale=1)\n",
    "quiv1 = plot(0, 0, color='b', lw= 0, marker='.')\n",
    "quiv2 = plot(0, 0, color='m', lw= 0, marker='.')\n",
    "xticks(arange(-3,3.5,0.5))\n",
    "plot(0, 0, 'o',markeredgecolor='k',markerfacecolor='w')\n",
    "plt.grid(True)\n",
    "plt.axis([-3,3,-8,8])\n",
    "legend(handles=[quiv1[0],quiv2[0]],labels=[r'{$z_1$, $z_2$}', '{$zz_1$, $zz_2$}']);  # legend for quiver plots not supported yet\n",
    "# save_plot(ax=plt.gca(), extension='png', scriptname=os.path.basename('.')[:-3], count=plt.get_fignums()[-1])\n"
   ]
  }
 ],
 "metadata": {
  "jupytext": {
   "encoding": "# -*- coding: utf-8 -*-",
   "executable": "/usr/bin/env python3"
  },
  "kernelspec": {
   "display_name": "Python 3",
   "language": "python",
   "name": "python3"
  }
 },
 "nbformat": 4,
 "nbformat_minor": 4
}
