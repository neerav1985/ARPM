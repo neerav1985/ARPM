{
 "cells": [
  {
   "cell_type": "markdown",
   "metadata": {},
   "source": [
    "# s_spectral_representation [<img src=\"https://www.arpm.co/lab/icons/icon_permalink.png\" width=30 height=30 style=\"display: inline;\">](https://www.arpm.co/lab/redirect.php?code=s_spectral_representation&codeLang=Python)\n",
    "For details, see [here](https://www.arpm.co/lab/redirect.php?permalink=ex-cross-spectr-propp-copy-5)."
   ]
  },
  {
   "cell_type": "code",
   "execution_count": null,
   "metadata": {},
   "outputs": [],
   "source": [
    "import numpy as np\n",
    "import matplotlib.pyplot as plt\n",
    "import matplotlib.gridspec as gridspec\n",
    "from scipy.linalg import toeplitz\n",
    "\n",
    "from arpym.statistics.simulate_normal import simulate_normal\n",
    "from arpym.statistics.simulate_var1 import simulate_var1\n",
    "from arpym.tools.pca_cov import pca_cov\n",
    "from arpym.tools.logo import add_logo"
   ]
  },
  {
   "cell_type": "markdown",
   "metadata": {},
   "source": [
    "## [Input parameters](https://www.arpm.co/lab/redirect.php?permalink=s_spectral_representation-parameters)"
   ]
  },
  {
   "cell_type": "code",
   "execution_count": null,
   "metadata": {},
   "outputs": [],
   "source": [
    "t_ = 10**3  # length of process\n",
    "j_ = 10  # number of simulations of paths\n",
    "b = 0.6  # autoregression parameter of the AR(1)\n",
    "mu_eps = 0  # expectation of shocks in AR(1)\n",
    "sigma2_eps = 1-b**2  # variance of shocks in AR(1)\n",
    "t = 300  # lags"
   ]
  },
  {
   "cell_type": "markdown",
   "metadata": {},
   "source": [
    "## [Step 1](https://www.arpm.co/lab/redirect.php?permalink=s_spectral_representation-implementation-step01): Simulation of AR(1)"
   ]
  },
  {
   "cell_type": "code",
   "execution_count": null,
   "metadata": {},
   "outputs": [],
   "source": [
    "if b == 0:\n",
    "    b = 10**-6\n",
    "\n",
    "mu_x = mu_eps/(1-b)  # expectation of (stationary) AR(1)\n",
    "sigma2_x = sigma2_eps/(1-b**2)  # variance of (stationary) AR(1)\n",
    "\n",
    "x = np.zeros((t_, j_))\n",
    "for j in range(j_):\n",
    "    x0 = simulate_normal(mu_x, sigma2_x, 1)\n",
    "    x[:, j] = simulate_var1(x0,\n",
    "                            np.atleast_2d(b),\n",
    "                            np.atleast_2d(mu_eps),\n",
    "                            np.atleast_2d(sigma2_eps),\n",
    "                            t_-1,\n",
    "                            j_=1).squeeze()"
   ]
  },
  {
   "cell_type": "markdown",
   "metadata": {},
   "source": [
    "## [Step 2](https://www.arpm.co/lab/redirect.php?permalink=s_spectral_representation-implementation-step02): Choose consecutive observations"
   ]
  },
  {
   "cell_type": "code",
   "execution_count": null,
   "metadata": {},
   "outputs": [],
   "source": [
    "t0 = np.int(t_/2)  # choose far from initial point to have more stationarity\n",
    "x_vec = x[t0-t:t0+t+1, :]\n",
    "mu_x_vec = mu_x*np.ones((2*t+1, j_))\n",
    "t_vec = np.linspace(-t, t, 2*t+1)"
   ]
  },
  {
   "cell_type": "markdown",
   "metadata": {},
   "source": [
    "## [Step 3](https://www.arpm.co/lab/redirect.php?permalink=s_spectral_representation-implementation-step03): Compute covariance matrix of random vector x_vec"
   ]
  },
  {
   "cell_type": "code",
   "execution_count": null,
   "metadata": {},
   "outputs": [],
   "source": [
    "k_x = b**(np.arange(2*t+1))/(1-b**2)*sigma2_eps  # autocovariance fun\n",
    "cv_x = toeplitz(k_x)  # autocovariance matrix"
   ]
  },
  {
   "cell_type": "markdown",
   "metadata": {},
   "source": [
    "## [Step 4](https://www.arpm.co/lab/redirect.php?permalink=s_spectral_representation-implementation-step04): Compute eigenvectors/eigenvalues"
   ]
  },
  {
   "cell_type": "code",
   "execution_count": null,
   "metadata": {},
   "outputs": [],
   "source": [
    "e, lambda2 = pca_cov(cv_x)\n",
    "\n",
    "if b < 0:\n",
    "    ind_asc = np.argsort(lambda2)\n",
    "    lambda2 = lambda2[ind_asc]\n",
    "    e = e[:, ind_asc]\n",
    "\n",
    "lambda2_new = []\n",
    "ind_e = []*(2*t+1)\n",
    "for n in range(1, 2*t+2):\n",
    "    if n % 2 == 1:\n",
    "        lambda2_new = np.append(lambda2_new, lambda2[n-1])\n",
    "        ind_e = np.append(ind_e, n-1)\n",
    "    else:\n",
    "        lambda2_new = np.append(lambda2[n-1], lambda2_new)\n",
    "        ind_e = np.append(n-1, ind_e)\n",
    "ind_e1 = [int(i) for i in ind_e]\n",
    "lambda2 = lambda2_new\n",
    "e = e[:, ind_e1]\n",
    "\n",
    "delta_omega = 2*np.pi/(2*t+1)\n",
    "eta = np.sqrt(np.pi/(delta_omega))*e"
   ]
  },
  {
   "cell_type": "markdown",
   "metadata": {},
   "source": [
    "## [Step 5](https://www.arpm.co/lab/redirect.php?permalink=s_spectral_representation-implementation-step05): Compute spectral density of the AR(1)"
   ]
  },
  {
   "cell_type": "code",
   "execution_count": null,
   "metadata": {},
   "outputs": [],
   "source": [
    "# frequencies\n",
    "omega_vec = np.zeros((2*t+1, 1))\n",
    "for j in range(1, 2*t+2):\n",
    "    omega_vec[j-1] = ((-1)**(j-1))*j*np.pi/(2*t+1)\n",
    "omega_vec = np.sort(omega_vec, axis=None)\n",
    "\n",
    "ktilde_x = sigma2_eps/(1-2*b*np.cos(omega_vec)+b**2)"
   ]
  },
  {
   "cell_type": "markdown",
   "metadata": {},
   "source": [
    "## [Step 6](https://www.arpm.co/lab/redirect.php?permalink=s_spectral_representation-implementation-step06): Compute principal factors"
   ]
  },
  {
   "cell_type": "code",
   "execution_count": null,
   "metadata": {},
   "outputs": [],
   "source": [
    "z_pc_omega = e.T@(x_vec - mu_x_vec)"
   ]
  },
  {
   "cell_type": "markdown",
   "metadata": {},
   "source": [
    "## [Step 7](https://www.arpm.co/lab/redirect.php?permalink=s_spectral_representation-implementation-step07): Compute rescaled principal factors"
   ]
  },
  {
   "cell_type": "code",
   "execution_count": null,
   "metadata": {},
   "outputs": [],
   "source": [
    "delta_y_omega = np.sqrt(delta_omega)*z_pc_omega"
   ]
  },
  {
   "cell_type": "markdown",
   "metadata": {},
   "source": [
    "## [Step 8](https://www.arpm.co/lab/redirect.php?permalink=s_spectral_representation-implementation-step08): Compute the orthogonal increments process"
   ]
  },
  {
   "cell_type": "code",
   "execution_count": null,
   "metadata": {},
   "outputs": [],
   "source": [
    "y_omega = np.cumsum(delta_y_omega, 0)  # cumulative variable"
   ]
  },
  {
   "cell_type": "markdown",
   "metadata": {},
   "source": [
    "## Plots"
   ]
  },
  {
   "cell_type": "code",
   "execution_count": null,
   "metadata": {},
   "outputs": [],
   "source": [
    "plt.style.use('arpm')\n",
    "mydpi = 72.0\n",
    "f = plt.figure(figsize=(1280.0/mydpi, 720.0/mydpi), dpi=mydpi)\n",
    "lightgrey = [.8, .8, .8]\n",
    "darkgrey = [.1, .1, .1]\n",
    "darkgreen = [0, 0.7, 0]\n",
    "lightred = [.9, .6, .6]\n",
    "darkred = [.9, 0, 0]\n",
    "lightblue = [181/255, 209/225, 223/225]\n",
    "omegalim = [-np.pi, np.pi]\n",
    "taulim = [t_vec[0], t_vec[-1]]\n",
    "\n",
    "gs0 = gridspec.GridSpec(2, 2)\n",
    "\n",
    "ax1 = plt.Subplot(f, gs0[0, 0])\n",
    "f.add_subplot(ax1)\n",
    "ax1.tick_params(labelsize=14)\n",
    "for j in range(1, j_):\n",
    "    plt.plot(t_vec, np.squeeze(x_vec[:, j]), color=lightgrey, linewidth=0.2)\n",
    "plt.ylabel('$X_t$', fontsize=17)\n",
    "plt.xlabel('$t$', fontsize=17)\n",
    "plt.xlim(taulim)\n",
    "p1 = plt.plot(t_vec, np.squeeze(x_vec[:, j]), color='k', linewidth=1)\n",
    "plt.title('AR(1) process, b = ' + str(b), fontsize=20)\n",
    "\n",
    "ax2 = plt.Subplot(f, gs0[0, 1])\n",
    "f.add_subplot(ax2)\n",
    "ax2.tick_params(labelsize=14)\n",
    "for j in range(1, j_):\n",
    "    plt.plot(omega_vec, np.real(np.squeeze(y_omega[:, j])), color=lightgrey,\n",
    "             linewidth=0.2)\n",
    "plt.plot(omega_vec, np.real(np.squeeze(y_omega[:, 0])), color=darkgrey,\n",
    "         linewidth=1, label='Orth. incr. process')\n",
    "plt.plot(omega_vec, 2*np.sqrt(np.cumsum(lambda2*delta_omega)),\n",
    "         color=darkgreen, linewidth=0.9, label='2std')\n",
    "plt.plot(omega_vec, -2*np.sqrt(np.cumsum(lambda2*delta_omega)),\n",
    "         color=darkgreen, linewidth=0.9)\n",
    "plt.legend()\n",
    "plt.title('Orthogonal increments process', fontsize=20)\n",
    "plt.xlabel('$\\omega$', fontsize=17)\n",
    "plt.xticks([-np.pi, -np.pi/2, 0, np.pi/2, np.pi],\n",
    "           [r'$-\\pi$', r'$-\\pi/2$', r'$0$', r'$\\pi/2$', r'$\\pi$'])\n",
    "plt.xlim(omegalim)\n",
    "\n",
    "ax3 = plt.Subplot(f, gs0[1, 0])\n",
    "f.add_subplot(ax3)\n",
    "ax3.tick_params(labelsize=14)\n",
    "plt.plot(t_vec, eta[:, t], 'b', linewidth=2, label=r'$\\eta_{\\omega_1}$')\n",
    "plt.plot(t_vec, eta[:, t+1], 'm', linewidth=2, label=r'$\\eta_{\\omega_3}$')\n",
    "plt.plot(t_vec, eta[:, t-1], 'y', linewidth=2, label=r'$\\eta_{\\omega_{2}}$')\n",
    "plt.plot(t_vec, eta[:, t+2], 'c', linewidth=2, label=r'$\\eta_{\\omega_5}$')\n",
    "plt.plot(t_vec, eta[:, t-2], 'g', linewidth=2, label=r'$\\eta_{\\omega_{4}}$')\n",
    "plt.legend()\n",
    "plt.xlabel('$t$', fontsize=17)\n",
    "plt.xlim(taulim)\n",
    "plt.title('Rescaled eigenvectors', fontsize=20)\n",
    "\n",
    "ax4 = plt.Subplot(f, gs0[1, 1])\n",
    "f.add_subplot(ax4)\n",
    "ax4.tick_params(labelsize=14)\n",
    "plt.bar(t_vec, lambda2, color='lightblue', label=r'$\\lambda^2_\\omega$')\n",
    "plt.plot(t_vec, ktilde_x, color=darkred, linewidth=0.4, label=r'$\\tilde{k}_X(\\omega)$')\n",
    "plt.legend()\n",
    "plt.xticks([-300, -150, 0, 150, 300],\n",
    "           [r'$-\\pi$', r'$-\\pi/2$', r'$0$', r'$\\pi/2$', r'$\\pi$'])\n",
    "plt.xlabel(r'$\\omega$', fontsize=17)\n",
    "plt.xlim(taulim)\n",
    "plt.title('Spectrum', fontsize=20)\n",
    "\n",
    "add_logo(f, location=4)\n",
    "plt.tight_layout()"
   ]
  }
 ],
 "metadata": {
  "jupytext": {
   "encoding": "# -*- coding: utf-8 -*-",
   "executable": "/usr/bin/env python3"
  },
  "kernelspec": {
   "display_name": "Python 3",
   "language": "python",
   "name": "python3"
  }
 },
 "nbformat": 4,
 "nbformat_minor": 4
}
