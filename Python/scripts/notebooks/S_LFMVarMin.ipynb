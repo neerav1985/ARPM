{
 "cells": [
  {
   "cell_type": "markdown",
   "metadata": {},
   "source": [
    "# S_LFMVarMin [<img src=\"https://www.arpm.co/lab/icons/icon_permalink.png\" width=30 height=30 style=\"display: inline;\">](https://www.arpm.co/lab/redirect.php?code=S_LFMVarMin&codeLang=Python)\n",
    "For details, see [here](https://www.arpm.co/lab/redirect.php?permalink=eb-csvs-reg-load-copy-2)."
   ]
  },
  {
   "cell_type": "markdown",
   "metadata": {},
   "source": [
    "## Prepare the environment"
   ]
  },
  {
   "cell_type": "code",
   "execution_count": null,
   "metadata": {},
   "outputs": [],
   "source": [
    "import os.path as path\n",
    "import sys\n",
    "\n",
    "sys.path.append(path.abspath('../../functions-legacy'))\n",
    "\n",
    "from numpy import trace, array, abs\n",
    "from numpy.linalg import solve, pinv\n",
    "\n",
    "import matplotlib.pyplot as plt\n",
    "\n",
    "plt.style.use('seaborn')\n",
    "\n",
    "# input parameters\n",
    "n_ = 2  # dimension of target variable X\n",
    "k_ = 1  # dimension of factors Z\n",
    "mu_X = array([[-0.5], [1]])  # expectation of target variable X\n",
    "sigma2_X = array([[1, .1], [.1, .2]])  # covariance of target variable X\n",
    "beta = array([[1,1]]).T  # loadings\n",
    "lam = 0.5  # exposure to the loadings\n",
    "\n",
    "sigma2 = sigma2_X  # scale matrix equal covariance of target variable"
   ]
  },
  {
   "cell_type": "markdown",
   "metadata": {},
   "source": [
    "## Optimal loadings"
   ]
  },
  {
   "cell_type": "code",
   "execution_count": null,
   "metadata": {},
   "outputs": [],
   "source": [
    "beta_t_opt = solve(beta.T@solve(sigma2_X,beta),beta.T).dot(pinv(sigma2_X))"
   ]
  },
  {
   "cell_type": "markdown",
   "metadata": {},
   "source": [
    "## Minimum variance portfolio"
   ]
  },
  {
   "cell_type": "code",
   "execution_count": null,
   "metadata": {},
   "outputs": [],
   "source": [
    "h_mv = (lam*beta_t_opt).T"
   ]
  },
  {
   "cell_type": "markdown",
   "metadata": {},
   "source": [
    "## Distribution of factors Z = beta_t_opt@X"
   ]
  },
  {
   "cell_type": "code",
   "execution_count": null,
   "metadata": {},
   "outputs": [],
   "source": [
    "mu_Z = beta_t_opt@mu_X\n",
    "sigma2_Z = beta_t_opt@sigma2_X@beta_t_opt.T"
   ]
  },
  {
   "cell_type": "markdown",
   "metadata": {},
   "source": [
    "## r-square"
   ]
  },
  {
   "cell_type": "code",
   "execution_count": null,
   "metadata": {},
   "outputs": [],
   "source": [
    "R2 = trace((beta@beta_t_opt@sigma2_X).dot(pinv(sigma2))) / trace(sigma2_X.dot(pinv(sigma2)))\n",
    "diff = abs((R2 - (k_ / n_)))"
   ]
  }
 ],
 "metadata": {
  "jupytext": {
   "encoding": "# -*- coding: utf-8 -*-",
   "executable": "/usr/bin/env python3"
  },
  "kernelspec": {
   "display_name": "Python 3",
   "language": "python",
   "name": "python3"
  }
 },
 "nbformat": 4,
 "nbformat_minor": 4
}
