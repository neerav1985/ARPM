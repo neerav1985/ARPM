{
 "cells": [
  {
   "cell_type": "markdown",
   "metadata": {},
   "source": [
    "# s_lfm_executive_summary [<img src=\"https://www.arpm.co/lab/icons/icon_permalink.png\" width=30 height=30 style=\"display: inline;\">](https://www.arpm.co/lab/redirect.php?code=s_lfm_executive_summary&codeLang=Python)\n",
    "For details, see [here](https://www.arpm.co/lab/redirect.php?permalink=s_executive_summary_lfm)."
   ]
  },
  {
   "cell_type": "code",
   "execution_count": null,
   "metadata": {},
   "outputs": [],
   "source": [
    "import numpy as np\n",
    "import pandas as pd\n",
    "from sklearn.preprocessing import PolynomialFeatures\n",
    "from sklearn.linear_model import LogisticRegression\n",
    "from cvxopt import solvers, matrix\n",
    "\n",
    "from arpym.estimation.fit_state_space import fit_state_space\n",
    "from arpym.statistics.meancov_sp import meancov_sp\n",
    "from arpym.views.min_rel_entropy_sp import min_rel_entropy_sp"
   ]
  },
  {
   "cell_type": "markdown",
   "metadata": {},
   "source": [
    "## [Input parameters](https://www.arpm.co/lab/redirect.php?permalink=s_lfm_executive_summary-parameters)"
   ]
  },
  {
   "cell_type": "code",
   "execution_count": null,
   "metadata": {},
   "outputs": [],
   "source": [
    "h = np.array([2*10**6, 8*10**5])  # vector of holdings\n",
    "lambda_lasso = 1/1e6  # Lasso penalty\n",
    "t_first = pd.to_datetime('16-03-2012')  # first considered date\n",
    "t_now = pd.to_datetime('30-03-2012')  # last considered date\n",
    "z_pstat = -0.05  # point statement\n",
    "sig_view = 1/np.sqrt(252)*0.12  # partial view statement"
   ]
  },
  {
   "cell_type": "markdown",
   "metadata": {},
   "source": [
    "## [Step 0](https://www.arpm.co/lab/redirect.php?permalink=s_lfm_executive_summary-implementation-step00): Load data"
   ]
  },
  {
   "cell_type": "code",
   "execution_count": null,
   "metadata": {
    "lines_to_end_of_cell_marker": 2
   },
   "outputs": [],
   "source": [
    "path = '~/databases/global-databases/equities/'\n",
    "data = pd.read_csv(path+'db_stocks_SP500/SPX.csv',\n",
    "                   parse_dates=True, index_col=0)\n",
    "v_sandp = data[(data.index >= t_first) &\n",
    "               (data.index <= t_now)].values.reshape(-1)\n",
    "data1 = pd.read_csv(path+'db_stocks_SP500/db_stocks_sp.csv',\n",
    "                   parse_dates=True, index_col=0, header=1,\n",
    "                   usecols=['name', 'CVC', 'AON'])\n",
    "v_stocks = data1[(data1.index >= t_first) &\n",
    "                 (data1.index <= t_now)].values[:, [1, 0]]\n",
    "\n",
    "del data, data1"
   ]
  },
  {
   "cell_type": "markdown",
   "metadata": {},
   "source": [
    "## [Step 1](https://www.arpm.co/lab/redirect.php?permalink=s_lfm_executive_summary-implementation-step01): Compute portfolio returns, S&P index returns and loadings of regression LFM"
   ]
  },
  {
   "cell_type": "code",
   "execution_count": null,
   "metadata": {},
   "outputs": [],
   "source": [
    "# returns of the 2 stocks\n",
    "r_n_t = v_stocks[1:, :]/v_stocks[:-1, :] - 1\n",
    "# curent portfolio value\n",
    "v_h_tnow = v_stocks[-1, :].dot(h)\n",
    "# portfolio weights\n",
    "w_tnow = v_stocks[-1, :2]*h/v_h_tnow\n",
    "# portfolio returns\n",
    "x_t = np.sum(w_tnow*r_n_t, axis=1)\n",
    "# S&P 500 returns\n",
    "z_t = v_sandp[1:]/v_sandp[:-1] - 1\n",
    "# LFM parameters\n",
    "m_xz, s2_xz = meancov_sp(np.array([x_t, z_t]).T)\n",
    "beta_reg = s2_xz[0, 1]/s2_xz[1, 1]\n",
    "alpha_reg = m_xz[0]-beta_reg*m_xz[1]\n",
    "x_pred = alpha_reg + beta_reg*z_pstat"
   ]
  },
  {
   "cell_type": "markdown",
   "metadata": {},
   "source": [
    "## [Step 2](https://www.arpm.co/lab/redirect.php?permalink=s_lfm_executive_summary-implementation-step02): Fit logistic model and yield prediction for last observation"
   ]
  },
  {
   "cell_type": "code",
   "execution_count": null,
   "metadata": {},
   "outputs": [],
   "source": [
    "x_t_plus_1_binary = (x_t[1:] > 0).astype(int)\n",
    "p = np.count_nonzero(x_t_plus_1_binary)/len(x_t_plus_1_binary)\n",
    "logistic = LogisticRegression(penalty='l2', C=np.inf, class_weight='balanced',\n",
    "                             solver='lbfgs', random_state=1, fit_intercept=1)\n",
    "poly = PolynomialFeatures(degree=3, include_bias=False)\n",
    "z_cubic = poly.fit_transform(z_t[:-1].reshape(-1, 1))\n",
    "logistic = logistic.fit(z_cubic, x_t_plus_1_binary)\n",
    "beta0_logit, beta_logit = logistic.intercept_, logistic.coef_[0]\n",
    "# conditional probability predicted from last observation\n",
    "p_beta_logit = logistic.predict_proba(z_cubic[[-1], :])[0, 1]"
   ]
  },
  {
   "cell_type": "markdown",
   "metadata": {},
   "source": [
    "## [Step 3](https://www.arpm.co/lab/redirect.php?permalink=s_lfm_executive_summary-implementation-step03): Perform generalized probabilistic inference"
   ]
  },
  {
   "cell_type": "code",
   "execution_count": null,
   "metadata": {},
   "outputs": [],
   "source": [
    "annualized_vol = np.sqrt(s2_xz[1, 1])*np.sqrt(252)\n",
    "p_base = np.ones(z_t.shape[0]) / z_t.shape[0]\n",
    "mu_base = z_t @ p_base\n",
    "z_ineq = -np.atleast_2d(z_t**2)\n",
    "mu_view_ineq = -np.atleast_1d(sig_view ** 2 + mu_base ** 2)\n",
    "z_eq = np.atleast_2d(z_t)\n",
    "mu_view_eq = np.atleast_1d(mu_base)\n",
    "p_upd = min_rel_entropy_sp(p_base, z_ineq, mu_view_ineq, z_eq, mu_view_eq,\n",
    "                           normalize=False)"
   ]
  },
  {
   "cell_type": "markdown",
   "metadata": {},
   "source": [
    "## [Step 4](https://www.arpm.co/lab/redirect.php?permalink=s_lfm_executive_summary-implementation-step04): Fit linear state-space model"
   ]
  },
  {
   "cell_type": "code",
   "execution_count": null,
   "metadata": {},
   "outputs": [],
   "source": [
    "h_t = fit_state_space(z_t, k_=1, p=p_upd)[0]"
   ]
  },
  {
   "cell_type": "markdown",
   "metadata": {},
   "source": [
    "## [Step 5](https://www.arpm.co/lab/redirect.php?permalink=s_lfm_executive_summary-implementation-step05): Fit logistic model with Lasso penalty"
   ]
  },
  {
   "cell_type": "code",
   "execution_count": null,
   "metadata": {},
   "outputs": [],
   "source": [
    "C = 1/lambda_lasso\n",
    "logistic_lasso = LogisticRegression(penalty='l1', C=C, class_weight='balanced',\n",
    "                                   solver='liblinear', random_state=1,\n",
    "                                   fit_intercept=1, max_iter=15000)\n",
    "logistic_lasso = logistic_lasso.fit(z_cubic, x_t_plus_1_binary)\n",
    "beta0_logit_lambda = logistic_lasso.intercept_\n",
    "beta_logit_lambda = logistic_lasso.coef_[0]\n",
    "# conditional probability predicted from last observation\n",
    "p_beta_logit_lambda = logistic_lasso.predict_proba(z_cubic[[-1], :])[0, 1]"
   ]
  }
 ],
 "metadata": {
  "jupytext": {
   "encoding": "# -*- coding: utf-8 -*-",
   "executable": "/usr/bin/env python3"
  },
  "kernelspec": {
   "display_name": "Python 3",
   "language": "python",
   "name": "python3"
  }
 },
 "nbformat": 4,
 "nbformat_minor": 4
}
