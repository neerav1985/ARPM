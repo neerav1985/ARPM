{
 "cells": [
  {
   "cell_type": "markdown",
   "metadata": {},
   "source": [
    "# S_SpreadNelSieg [<img src=\"https://www.arpm.co/lab/icons/icon_permalink.png\" width=30 height=30 style=\"display: inline;\">](https://www.arpm.co/lab/redirect.php?code=S_SpreadNelSieg&codeLang=Python)\n",
    "For details, see [here](https://www.arpm.co/lab/redirect.php?permalink=ExerYieldSpread)."
   ]
  },
  {
   "cell_type": "markdown",
   "metadata": {},
   "source": [
    "## Prepare the environment"
   ]
  },
  {
   "cell_type": "code",
   "execution_count": null,
   "metadata": {},
   "outputs": [],
   "source": [
    "import os\n",
    "import os.path as path\n",
    "import sys\n",
    "\n",
    "sys.path.append(path.abspath('../../functions-legacy'))\n",
    "from collections import namedtuple\n",
    "\n",
    "from numpy import array, zeros\n",
    "\n",
    "from scipy.io import loadmat\n",
    "\n",
    "import matplotlib.pyplot as plt\n",
    "from matplotlib.pyplot import legend, subplots, ylabel, \\\n",
    "    xlabel\n",
    "\n",
    "plt.style.use('seaborn')\n",
    "\n",
    "from CONFIG import GLOBAL_DB, TEMPORARY_DB\n",
    "from ARPM_utils import save_plot, struct_to_dict\n",
    "from intersect_matlab import intersect\n",
    "from RollPrices2YieldToMat import RollPrices2YieldToMat\n",
    "from BootstrapNelSieg import BootstrapNelSieg\n",
    "\n",
    "# parameters\n",
    "par_start = namedtuple('par','theta1 theta2 theta3 theta4_squared')\n",
    "par_start.theta1 = 0.05  # starting values\n",
    "par_start.theta2 = 0.05\n",
    "par_start.theta3 = 0.05\n",
    "par_start.theta4_squared = 0.05\n",
    "tau = array([0.0833, 1, 2, 3, 4, 5, 6, 7, 8, 9, 10, 15, 20, 25, 30])  # select time to maturities"
   ]
  },
  {
   "cell_type": "markdown",
   "metadata": {},
   "source": [
    "## Upload the rolling values from db_SwapCurve and compute the corresponding yields to maturity using function RollPrices2YieldToMat"
   ]
  },
  {
   "cell_type": "code",
   "execution_count": null,
   "metadata": {},
   "outputs": [],
   "source": [
    "try:\n",
    "    db = loadmat(os.path.join(GLOBAL_DB, 'db_SwapCurve'), squeeze_me=True)\n",
    "except FileNotFoundError:\n",
    "    db = loadmat(os.path.join(TEMPORARY_DB, 'db_SwapCurve'), squeeze_me=True)\n",
    "\n",
    "DF_Rolling = struct_to_dict(db['DF_Rolling'])\n",
    "\n",
    "# reference yields from rolling prices\n",
    "y_ref,_ = RollPrices2YieldToMat(DF_Rolling.TimeToMat, DF_Rolling.Prices)"
   ]
  },
  {
   "cell_type": "markdown",
   "metadata": {},
   "source": [
    "## Upload JPM bond prices from db_CorporateBonds and restrict the yields to available dates"
   ]
  },
  {
   "cell_type": "code",
   "execution_count": null,
   "metadata": {},
   "outputs": [],
   "source": [
    "try:\n",
    "    db = loadmat(os.path.join(GLOBAL_DB, 'db_CorporateBonds'), squeeze_me=True)\n",
    "except FileNotFoundError:\n",
    "    db = loadmat(os.path.join(TEMPORARY_DB, 'db_CorporateBonds'), squeeze_me=True)\n",
    "\n",
    "JPM = struct_to_dict(db['JPM'])\n",
    "\n",
    "t_ = len(JPM.Date)\n",
    "\n",
    "# dates extraction\n",
    "_, _, dateIndices_JPM = intersect(JPM.Date, DF_Rolling.Dates)\n",
    "y_ref = y_ref[:, dateIndices_JPM]\n",
    "\n",
    "# Bond schedule\n",
    "b_sched_JPM = zeros((JPM.Coupons.shape[0],2))\n",
    "b_sched_JPM[:, 0] = JPM.Coupons/100\n",
    "b_sched_JPM[:, 1] = JPM.Expiry_Date\n",
    "\n",
    "# prices\n",
    "v_bond_JPM = JPM.Dirty_Prices/100"
   ]
  },
  {
   "cell_type": "markdown",
   "metadata": {},
   "source": [
    "## Use function BootstrapNelSieg, which calibrates Nelson-Siegel model on the market prices of JPMorgan coupon-bearing bonds, returns JPMorgan yield curve and, given the reference curve, computes the spread curve"
   ]
  },
  {
   "cell_type": "code",
   "execution_count": null,
   "metadata": {},
   "outputs": [],
   "source": [
    "# fitting\n",
    "_, _, _, _, _, y_JPM, _, y_ref_graph, _, s_JPM, _ = BootstrapNelSieg(JPM.Date, v_bond_JPM, b_sched_JPM, tau, par_start,\n",
    "                                                                     DF_Rolling.TimeToMat, y_ref)"
   ]
  },
  {
   "cell_type": "markdown",
   "metadata": {},
   "source": [
    "## Plot the reference yield curve and the yield and the spread curve of JPMorgan coupon-bearing bonds"
   ]
  },
  {
   "cell_type": "code",
   "execution_count": null,
   "metadata": {},
   "outputs": [],
   "source": [
    "# JPM yield plot\n",
    "f, ax = subplots(2, 1)\n",
    "plt.sca(ax[0])\n",
    "plt.plot(tau, y_JPM[:, t_-1], 'b')\n",
    "plt.plot(tau, y_ref_graph[:, t_-1], 'r')\n",
    "xlabel('Time to Maturity')\n",
    "ylabel('Rate')\n",
    "legend(['JPM', 'Zero swap'])\n",
    "plt.grid(True)\n",
    "plt.xlim([0,30])\n",
    "plt.ylim([0,0.06])\n",
    "# JPM spread plot\n",
    "plt.sca(ax[1])\n",
    "ax[1].plot(tau, s_JPM[:, t_-1], 'b')\n",
    "xlabel('Time to Maturity')\n",
    "ylabel('Spread')\n",
    "legend(['JPM'])\n",
    "plt.xlim([0,30])\n",
    "plt.ylim([0,0.03])\n",
    "plt.grid(True)\n",
    "plt.tight_layout();\n",
    "# save_plot(ax=plt.gca(), extension='png', scriptname=os.path.basename('.')[:-3], count=plt.get_fignums()[-1])"
   ]
  }
 ],
 "metadata": {
  "jupytext": {
   "encoding": "# -*- coding: utf-8 -*-",
   "executable": "/usr/bin/env python3"
  },
  "kernelspec": {
   "display_name": "Python 3",
   "language": "python",
   "name": "python3"
  }
 },
 "nbformat": 4,
 "nbformat_minor": 4
}
