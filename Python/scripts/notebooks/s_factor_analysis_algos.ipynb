{
 "cells": [
  {
   "cell_type": "markdown",
   "metadata": {},
   "source": [
    "# s_factor_analysis_algos [<img src=\"https://www.arpm.co/lab/icons/icon_permalink.png\" width=30 height=30 style=\"display: inline;\">](https://www.arpm.co/lab/redirect.php?code=s_factor_analysis_algos&codeLang=Python)\n",
    "For details, see [here](https://www.arpm.co/lab/redirect.php?permalink=eb-factoranalysis-algos)."
   ]
  },
  {
   "cell_type": "code",
   "execution_count": null,
   "metadata": {},
   "outputs": [],
   "source": [
    "import numpy as np\n",
    "\n",
    "from arpym.estimation.factor_analysis_mlf import factor_analysis_mlf\n",
    "from arpym.estimation.factor_analysis_paf import factor_analysis_paf\n",
    "from arpym.views.rel_entropy_normal import rel_entropy_normal"
   ]
  },
  {
   "cell_type": "markdown",
   "metadata": {},
   "source": [
    "## [Input parameters](https://www.arpm.co/lab/redirect.php?permalink=s_factor_analysis_algos-parameters)"
   ]
  },
  {
   "cell_type": "code",
   "execution_count": null,
   "metadata": {},
   "outputs": [],
   "source": [
    "# positive definite matrix\n",
    "sigma2 = np.array([[1.20, 0.46, 0.77],\n",
    "                   [0.46, 2.31, 0.08],\n",
    "                   [0.77, 0.08, 0.98]])\n",
    "k_ = 1  # number of columns"
   ]
  },
  {
   "cell_type": "markdown",
   "metadata": {},
   "source": [
    "## [Step 1](https://www.arpm.co/lab/redirect.php?permalink=s_factor_analysis_algos-implementation-step01): Compute PAF decomposition of sigma2"
   ]
  },
  {
   "cell_type": "code",
   "execution_count": null,
   "metadata": {},
   "outputs": [],
   "source": [
    "beta_paf, delta2_paf = factor_analysis_paf(sigma2, k_=k_)\n",
    "sigma2_paf = beta_paf @ beta_paf.T + np.diagflat(delta2_paf)"
   ]
  },
  {
   "cell_type": "markdown",
   "metadata": {},
   "source": [
    "## [Step 2](https://www.arpm.co/lab/redirect.php?permalink=s_factor_analysis_algos-implementation-step02): Compute MLF decomposition of sigma2"
   ]
  },
  {
   "cell_type": "code",
   "execution_count": null,
   "metadata": {},
   "outputs": [],
   "source": [
    "beta_mlf, delta2_mlf = factor_analysis_mlf(sigma2,\n",
    "                                           k_=k_, b=beta_paf, v=delta2_paf)\n",
    "sigma2_mlf = beta_mlf @ beta_mlf.T + np.diagflat(delta2_mlf)"
   ]
  },
  {
   "cell_type": "markdown",
   "metadata": {},
   "source": [
    "## [Step 3](https://www.arpm.co/lab/redirect.php?permalink=s_factor_analysis_algos-implementation-step03): Compute Frobenius and relative entropy error"
   ]
  },
  {
   "cell_type": "code",
   "execution_count": null,
   "metadata": {},
   "outputs": [],
   "source": [
    "err_paf_frobenius = np.linalg.norm(sigma2-sigma2_paf, ord='fro')\n",
    "err_mlf_frobenius = np.linalg.norm(sigma2-sigma2_mlf, ord='fro')\n",
    "mean = np.array(np.zeros(sigma2.shape[0]))\n",
    "err_paf_rel_entr = rel_entropy_normal(mean, sigma2_paf, mean, sigma2)\n",
    "err_mlf_rel_entr = rel_entropy_normal(mean, sigma2_mlf, mean, sigma2)"
   ]
  }
 ],
 "metadata": {
  "jupytext": {
   "encoding": "# -*- coding: utf-8 -*-",
   "executable": "/usr/bin/env python3"
  },
  "kernelspec": {
   "display_name": "Python 3",
   "language": "python",
   "name": "python3"
  }
 },
 "nbformat": 4,
 "nbformat_minor": 4
}
