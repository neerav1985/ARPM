{
 "cells": [
  {
   "cell_type": "markdown",
   "metadata": {},
   "source": [
    "# s_shrink_spectrum_filt [<img src=\"https://www.arpm.co/lab/icons/icon_permalink.png\" width=30 height=30 style=\"display: inline;\">](https://www.arpm.co/lab/redirect.php?code=s_shrink_spectrum_filt&codeLang=Python)\n",
    "For details, see [here](https://www.arpm.co/lab/redirect.php?permalink=SpectrumShrinkage)."
   ]
  },
  {
   "cell_type": "code",
   "execution_count": null,
   "metadata": {},
   "outputs": [],
   "source": [
    "import numpy as np\n",
    "import pandas as pd\n",
    "import matplotlib.pyplot as plt\n",
    "from arpym.estimation.spectrum_shrink import spectrum_shrink\n",
    "from arpym.tools.histogram_sp import histogram_sp\n",
    "from arpym.tools.pca_cov import pca_cov\n",
    "from arpym.tools.logo import add_logo"
   ]
  },
  {
   "cell_type": "markdown",
   "metadata": {},
   "source": [
    "## [Input parameters](https://www.arpm.co/lab/redirect.php?permalink=s_shrink_spectrum_filt-parameters)"
   ]
  },
  {
   "cell_type": "code",
   "execution_count": null,
   "metadata": {},
   "outputs": [],
   "source": [
    "t_first = '2007-01-01'  # starting date\n",
    "t_last = '2012-01-01'  # ending date"
   ]
  },
  {
   "cell_type": "markdown",
   "metadata": {},
   "source": [
    "## [Step 0](https://www.arpm.co/lab/redirect.php?permalink=s_shrink_spectrum_filt-implementation-step00): Load data"
   ]
  },
  {
   "cell_type": "code",
   "execution_count": null,
   "metadata": {},
   "outputs": [],
   "source": [
    "# upload stocks values\n",
    "path = '~/databases/global-databases/equities/db_stocks_SP500/'\n",
    "df_stocks = pd.read_csv(path + 'db_stocks_sp.csv', index_col=0, header=[0, 1])\n",
    "\n",
    "# select data within the date range\n",
    "df_stocks = df_stocks.loc[(df_stocks.index >= t_first) &\n",
    "                          (df_stocks.index <= t_last)]\n",
    "\n",
    "# remove the stocks with missing values\n",
    "df_stocks = df_stocks.dropna(axis=1, how='any')\n",
    "\n",
    "v = np.array(df_stocks)\n",
    "i_ = v.shape[1]"
   ]
  },
  {
   "cell_type": "markdown",
   "metadata": {},
   "source": [
    "## [Step 1](https://www.arpm.co/lab/redirect.php?permalink=s_shrink_spectrum_filt-implementation-step01): Compute the log-returns"
   ]
  },
  {
   "cell_type": "code",
   "execution_count": null,
   "metadata": {},
   "outputs": [],
   "source": [
    "epsi = np.diff(np.log(v), axis=0)  # log-returns\n",
    "t_ = epsi.shape[0]"
   ]
  },
  {
   "cell_type": "markdown",
   "metadata": {},
   "source": [
    "## [Step 2](https://www.arpm.co/lab/redirect.php?permalink=s_shrink_spectrum_filt-implementation-step02): Standardize time series of invariants"
   ]
  },
  {
   "cell_type": "code",
   "execution_count": null,
   "metadata": {},
   "outputs": [],
   "source": [
    "# standardized invariants\n",
    "epsi_tilde = (epsi - np.mean(epsi, axis=0)) / np.std(epsi, axis=0)"
   ]
  },
  {
   "cell_type": "markdown",
   "metadata": {},
   "source": [
    "## [Step 3](https://www.arpm.co/lab/redirect.php?permalink=s_shrink_spectrum_filt-implementation-step03): Compute the sample covariance matrix and its eigenvalues"
   ]
  },
  {
   "cell_type": "code",
   "execution_count": null,
   "metadata": {},
   "outputs": [],
   "source": [
    "sigma2_hat = np.cov(epsi_tilde.T)  # sample covariance\n",
    "_, lambda2_hat = pca_cov(sigma2_hat)  # sample spectrum"
   ]
  },
  {
   "cell_type": "markdown",
   "metadata": {},
   "source": [
    "## [Step 4](https://www.arpm.co/lab/redirect.php?permalink=s_shrink_spectrum_filt-implementation-step04): Perform spectrum shrinkage"
   ]
  },
  {
   "cell_type": "code",
   "execution_count": null,
   "metadata": {},
   "outputs": [],
   "source": [
    "sigma2_bar, lambda2_bar, k_, err, y_mp, x_mp, dist = \\\n",
    "                                                spectrum_shrink(sigma2_hat, t_)"
   ]
  },
  {
   "cell_type": "markdown",
   "metadata": {},
   "source": [
    "## Plots"
   ]
  },
  {
   "cell_type": "code",
   "execution_count": null,
   "metadata": {},
   "outputs": [],
   "source": [
    "plt.style.use('arpm')\n",
    "\n",
    "c0_bl = [0.27, 0.4, 0.9]\n",
    "c1_or = [1, 0.5, 0.1]\n",
    "\n",
    "# spectrum plot\n",
    "fig1 = plt.figure()\n",
    "plt.bar(np.arange(i_), np.log(lambda2_hat), facecolor=c0_bl,\n",
    "        label='sample spectrum')\n",
    "plt.plot(np.arange(k_), np.log(lambda2_bar[:k_]), color=c1_or, lw=2)\n",
    "plt.plot(np.arange(k_, i_), np.log(lambda2_bar[k_:i_]), color=c1_or, lw=2,\n",
    "         label='filtered spectrum')\n",
    "plt.legend()\n",
    "plt.title('Spectrum')\n",
    "plt.ylabel('log-eigenvalues')\n",
    "plt.xlabel('stocks')\n",
    "add_logo(fig1, location=5)\n",
    "\n",
    "# spectrum distribution\n",
    "fig2 = plt.figure()\n",
    "density, xbin = histogram_sp(lambda2_hat, k_=10*i_)\n",
    "pp1 = plt.bar(xbin, density, width=xbin[1]-xbin[0], facecolor=c0_bl,\n",
    "              edgecolor='none', label='sample eigenvalues below threshold')\n",
    "pp2 = plt.plot(x_mp, y_mp*(1 - k_ / i_), color='g', lw=2,\n",
    "               label='Marchenko-Pastur fit')\n",
    "x_filtered = lambda2_bar[:k_ + 2]\n",
    "density_filtered = np.r_['-1', np.ones((1, k_+1)), np.array([[i_ - k_]])]\n",
    "pp3 = plt.plot(np.r_[x_filtered.reshape(1, -1), x_filtered.reshape(1, -1)],\n",
    "               np.r_[np.zeros((1, k_ + 2)), density_filtered], color=c1_or,\n",
    "               lw=2, label='filtered spectrum')\n",
    "plt.xlim([0, 3*np.max(x_mp)])\n",
    "plt.ylim([0, max([np.max(y_mp*(1 - k_ / i_)), np.max(density)])])\n",
    "plt.legend(handles=[pp1, pp2[0], pp3[0]])\n",
    "plt.title('Spectrum distribution')\n",
    "plt.xlabel('eigenvalues')\n",
    "\n",
    "add_logo(fig2, location=5)"
   ]
  }
 ],
 "metadata": {
  "jupytext": {
   "encoding": "# -*- coding: utf-8 -*-",
   "executable": "/usr/bin/env python3"
  },
  "kernelspec": {
   "display_name": "Python 3",
   "language": "python",
   "name": "python3"
  }
 },
 "nbformat": 4,
 "nbformat_minor": 4
}
