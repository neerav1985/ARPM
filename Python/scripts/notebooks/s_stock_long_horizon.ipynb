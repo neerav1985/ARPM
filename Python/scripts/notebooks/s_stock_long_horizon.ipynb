{
 "cells": [
  {
   "cell_type": "markdown",
   "metadata": {},
   "source": [
    "# s_stock_long_horizon [<img src=\"https://www.arpm.co/lab/icons/icon_permalink.png\" width=30 height=30 style=\"display: inline;\">](https://www.arpm.co/lab/redirect.php?code=s_stock_long_horizon&codeLang=Python)\n",
    "For details, see [here](https://www.arpm.co/lab/redirect.php?permalink=ExerStockLong)."
   ]
  },
  {
   "cell_type": "code",
   "execution_count": null,
   "metadata": {},
   "outputs": [],
   "source": [
    "import numpy as np\n",
    "import pandas as pd\n",
    "import matplotlib.pyplot as plt\n",
    "from pandas.plotting import register_matplotlib_converters\n",
    "register_matplotlib_converters()\n",
    "\n",
    "from arpym.tools.adjusted_value import adjusted_value\n",
    "from arpym.tools.logo import add_logo"
   ]
  },
  {
   "cell_type": "markdown",
   "metadata": {},
   "source": [
    "## [Input parameters](https://www.arpm.co/lab/redirect.php?permalink=s_stock_long_horizon-parameters)"
   ]
  },
  {
   "cell_type": "code",
   "execution_count": null,
   "metadata": {},
   "outputs": [],
   "source": [
    "# select starting and ending date for the plot (format: day-month-year)\n",
    "# fwd=True for forward adjusted value, fwd!=True for backward adjusted value\n",
    "start_date = '25-2-2010'  # starting date\n",
    "end_date = '17-7-2012'  # ending date\n",
    "fwd = True  # indicator for forward of backward adjusted value"
   ]
  },
  {
   "cell_type": "markdown",
   "metadata": {},
   "source": [
    "## [Step 0](https://www.arpm.co/lab/redirect.php?permalink=s_stock_long_horizon-implementation-step00): Load data"
   ]
  },
  {
   "cell_type": "code",
   "execution_count": null,
   "metadata": {},
   "outputs": [],
   "source": [
    "# loading data from 03-01-1994 to 24-11-2017\n",
    "path = '~/databases/global-databases/equities/db_stocks_SP500/'\n",
    "df_nokia_stock = pd.read_csv(path + 'NOK_prices.csv',\n",
    "                             header=0)\n",
    "df_nok_dividends = pd.read_csv(path + 'NOK_dividends.csv',\n",
    "                               header=0)\n",
    "\n",
    "# convert column 'date' from string to datetime64\n",
    "df_nokia_stock['date_tmstmp'] = pd.to_datetime(df_nokia_stock.date,\n",
    "                                               dayfirst=True)\n",
    "df_nok_dividends['date_tmstmp'] = pd.to_datetime(df_nok_dividends.date,\n",
    "                                                 dayfirst=True)\n",
    "\n",
    "t_start = pd.to_datetime(start_date, dayfirst=True)\n",
    "t_end = pd.to_datetime(end_date, dayfirst=True)\n",
    "# filter the data for the selected range\n",
    "nok_stock_long = df_nokia_stock[(df_nokia_stock.date_tmstmp >= t_start) &\n",
    "                                (df_nokia_stock.date_tmstmp < t_end)]\n",
    "nok_dividends = df_nok_dividends[(df_nok_dividends.date_tmstmp >= t_start) &\n",
    "                                 (df_nok_dividends.date_tmstmp < t_end)]\n",
    "# extract values\n",
    "dates = nok_stock_long.date_tmstmp.values\n",
    "r = nok_dividends.date_tmstmp.values\n",
    "cf_r = nok_dividends.dividends.values\n",
    "v_stock = nok_stock_long.close.values"
   ]
  },
  {
   "cell_type": "markdown",
   "metadata": {},
   "source": [
    "## [Step 1](https://www.arpm.co/lab/redirect.php?permalink=s_stock_long_horizon-implementation-step01): Dividend-adjusted values and dividend-adjusted log-values"
   ]
  },
  {
   "cell_type": "code",
   "execution_count": null,
   "metadata": {},
   "outputs": [],
   "source": [
    "v_tilde_stock = adjusted_value(v_stock, dates, cf_r, r, fwd)\n",
    "ln_v_tilde_stock = np.log(v_tilde_stock)"
   ]
  },
  {
   "cell_type": "markdown",
   "metadata": {},
   "source": [
    "## Plots"
   ]
  },
  {
   "cell_type": "code",
   "execution_count": null,
   "metadata": {},
   "outputs": [],
   "source": [
    "number_of_xticks = 6\n",
    "tick_array = np.linspace(0, dates.shape[0]-1, number_of_xticks, dtype=int)\n",
    "\n",
    "plt.style.use('arpm')\n",
    "fig = plt.figure(figsize=(1280.0/72.0, 720.0/72.0), dpi=72.0)\n",
    "\n",
    "ax1 = plt.subplot2grid((2, 1), (0, 0), rowspan=1, colspan=1)\n",
    "plt.setp(ax1.get_xticklabels(), visible=False)\n",
    "plt.ylabel('Value')\n",
    "ax1.grid(True)\n",
    "\n",
    "ax2 = plt.subplot2grid((2, 1), (1, 0), rowspan=1, colspan=1, sharex=ax1)\n",
    "plt.xlabel('Date')\n",
    "plt.ylabel('ln(adjusted value)')\n",
    "ax2.grid(True)\n",
    "\n",
    "ax1.plot_date(dates, v_stock, 'b-', label='market value')\n",
    "ax1.plot_date(dates, v_tilde_stock, 'r-', label='adjusted value')\n",
    "ax1.plot([], [], linestyle='--', lw=1, c='k', label='ex-dividend date')\n",
    "ax1.set_title('Market value')\n",
    "[ax1.axvline(x=d, linestyle='--', lw=1, c='k') for d in r]\n",
    "for d, v in zip(r, cf_r):\n",
    "    ax1.axvline(x=d, linestyle='--', lw=1, c='k')\n",
    "ax1.legend()\n",
    "\n",
    "[ax2.axvline(x=d, linestyle='--', lw=1, c='k') for d in r]\n",
    "ax2.plot_date(dates, ln_v_tilde_stock, '-', label='log-adjusted value', c='aqua')\n",
    "ax2.set_title('Log-adjusted value')\n",
    "ax2.legend()\n",
    "plt.xticks(dates[tick_array], size=8)\n",
    "\n",
    "add_logo(fig, location=3, set_fig_size=False)\n",
    "plt.tight_layout()"
   ]
  }
 ],
 "metadata": {
  "jupytext": {
   "encoding": "# -*- coding: utf-8 -*-",
   "executable": "/usr/bin/env python3"
  },
  "kernelspec": {
   "display_name": "Python 3",
   "language": "python",
   "name": "python3"
  }
 },
 "nbformat": 4,
 "nbformat_minor": 4
}
