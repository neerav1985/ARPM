{
 "cells": [
  {
   "cell_type": "markdown",
   "metadata": {},
   "source": [
    "# s_elltest_garchres_stock [<img src=\"https://www.arpm.co/lab/icons/icon_permalink.png\" width=30 height=30 style=\"display: inline;\">](https://www.arpm.co/lab/redirect.php?code=s_elltest_garchres_stock&codeLang=Python)\n",
    "For details, see [here](https://www.arpm.co/lab/redirect.php?permalink=ExerGarchFigure)."
   ]
  },
  {
   "cell_type": "code",
   "execution_count": null,
   "metadata": {},
   "outputs": [],
   "source": [
    "import numpy as np\n",
    "import pandas as pd\n",
    "import matplotlib.pyplot as plt\n",
    "from pandas.plotting import register_matplotlib_converters\n",
    "register_matplotlib_converters()\n",
    "\n",
    "from arpym.estimation.fit_garch_fp import fit_garch_fp\n",
    "from arpym.statistics.invariance_test_ellipsoid import invariance_test_ellipsoid\n",
    "from arpym.tools.logo import add_logo"
   ]
  },
  {
   "cell_type": "markdown",
   "metadata": {},
   "source": [
    "## [Input parameters](https://www.arpm.co/lab/redirect.php?permalink=s_elltest_garchres_stock-parameters)"
   ]
  },
  {
   "cell_type": "code",
   "execution_count": null,
   "metadata": {},
   "outputs": [],
   "source": [
    "l_ = 25  # number of lags (for autocorrelation test)\n",
    "conf_lev = 0.95"
   ]
  },
  {
   "cell_type": "markdown",
   "metadata": {},
   "source": [
    "## [Step 0](https://www.arpm.co/lab/redirect.php?permalink=s_elltest_garchres_stock-implementation-step00): Upload data"
   ]
  },
  {
   "cell_type": "code",
   "execution_count": null,
   "metadata": {},
   "outputs": [],
   "source": [
    "path = '~/databases/global-databases/equities/db_stocks_SP500/'\n",
    "db_stocks = pd.read_csv(path + 'db_stocks_sp.csv', skiprows=[0], index_col=0)\n",
    "db_stocks.index = pd.to_datetime(db_stocks.index)\n",
    "dates =  pd.to_datetime(db_stocks.index)"
   ]
  },
  {
   "cell_type": "markdown",
   "metadata": {},
   "source": [
    "## [Step 1](https://www.arpm.co/lab/redirect.php?permalink=s_elltest_garchres_stock-implementation-step01): Compute risk drivers for GE and compounded return"
   ]
  },
  {
   "cell_type": "code",
   "execution_count": null,
   "metadata": {},
   "outputs": [],
   "source": [
    "# risk drivers\n",
    "log_underlying = np.log(np.array(db_stocks.loc[dates, 'GE']))\n",
    "\n",
    "# compounded return\n",
    "comp_return = np.diff(log_underlying)"
   ]
  },
  {
   "cell_type": "markdown",
   "metadata": {},
   "source": [
    "## [Step 2](https://www.arpm.co/lab/redirect.php?permalink=s_elltest_garchres_stock-implementation-step02): Fit GARCH(1,1), compute residuals and their absolute values"
   ]
  },
  {
   "cell_type": "code",
   "execution_count": null,
   "metadata": {},
   "outputs": [],
   "source": [
    "_, _, epsi = fit_garch_fp(comp_return)\n",
    "\n",
    "abs_epsi = np.abs(epsi)"
   ]
  },
  {
   "cell_type": "markdown",
   "metadata": {},
   "source": [
    "## Plots"
   ]
  },
  {
   "cell_type": "code",
   "execution_count": null,
   "metadata": {},
   "outputs": [],
   "source": [
    "fig = plt.figure()\n",
    "acf_x, conf_int_x = \\\n",
    "    invariance_test_ellipsoid(abs_epsi, l_, conf_lev=conf_lev, bl=-0.75,\n",
    "                              title='Absolute residuals of a GARCH(1, 1) model fitted on stock compounded return',\n",
    "                              plot_test=True)\n",
    "fig = plt.gcf()\n",
    "add_logo(fig, set_fig_size=False, size_frac_x=1/8)"
   ]
  }
 ],
 "metadata": {
  "kernelspec": {
   "display_name": "Python 3",
   "language": "python",
   "name": "python3"
  }
 },
 "nbformat": 4,
 "nbformat_minor": 4
}
