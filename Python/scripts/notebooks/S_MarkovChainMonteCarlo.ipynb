{
 "cells": [
  {
   "cell_type": "markdown",
   "metadata": {},
   "source": [
    "# S_MarkovChainMonteCarlo [<img src=\"https://www.arpm.co/lab/icons/icon_permalink.png\" width=30 height=30 style=\"display: inline;\">](https://www.arpm.co/lab/redirect.php?code=S_MarkovChainMonteCarlo&codeLang=Python)\n",
    "For details, see [here](https://www.arpm.co/lab/redirect.php?permalink=ExerMCMC)."
   ]
  },
  {
   "cell_type": "markdown",
   "metadata": {},
   "source": [
    "## Prepare the environment"
   ]
  },
  {
   "cell_type": "code",
   "execution_count": null,
   "metadata": {},
   "outputs": [],
   "source": [
    "import os\n",
    "import os.path as path\n",
    "import sys\n",
    "\n",
    "sys.path.append(path.abspath('../../functions-legacy'))\n",
    "from collections import namedtuple\n",
    "\n",
    "import numpy as np\n",
    "from numpy import ones, percentile, linspace, round, mean, log, sqrt\n",
    "from numpy import max as npmax\n",
    "\n",
    "from scipy.stats import t\n",
    "from scipy.integrate import trapz\n",
    "\n",
    "import matplotlib.pyplot as plt\n",
    "from matplotlib.pyplot import figure, plot, bar, legend, xlim, ylim, title\n",
    "\n",
    "plt.style.use('seaborn')\n",
    "\n",
    "from ARPM_utils import save_plot\n",
    "from HistogramFP import HistogramFP\n",
    "from MetrHastAlgo import MetrHastAlgo"
   ]
  },
  {
   "cell_type": "markdown",
   "metadata": {},
   "source": [
    "## Define the target distribution"
   ]
  },
  {
   "cell_type": "code",
   "execution_count": null,
   "metadata": {},
   "outputs": [],
   "source": [
    "# conditional likelihood\n",
    "nu = 10\n",
    "mu_hat = 0\n",
    "sigma2_hat = 0.1\n",
    "f_hat =lambda x: t.pdf((x - mu_hat) / sqrt(sigma2_hat), nu) / sqrt(sigma2_hat)  # Student t distribution\n",
    "# prior distribution\n",
    "mu_pri = 0.3\n",
    "sigma2_pri = 0.2\n",
    "f_pri =lambda x: t.pdf((x - mu_pri) / sqrt(sigma2_pri), 1) / sqrt(sigma2_pri)  # Cauchy distribution"
   ]
  },
  {
   "cell_type": "markdown",
   "metadata": {},
   "source": [
    "## Run the Metropolis-Hastings algorithm"
   ]
  },
  {
   "cell_type": "code",
   "execution_count": null,
   "metadata": {},
   "outputs": [],
   "source": [
    "# step 0\n",
    "j_ = 2500  # len of the sample\n",
    "theta_0 = 5  # initial guess\n",
    "# run the algorithm\n",
    "theta, accept_rate = MetrHastAlgo(f_hat, f_pri, theta_0, j_)"
   ]
  },
  {
   "cell_type": "markdown",
   "metadata": {},
   "source": [
    "## Create figure"
   ]
  },
  {
   "cell_type": "code",
   "execution_count": null,
   "metadata": {},
   "outputs": [],
   "source": [
    "# colors\n",
    "Cpri = [0.2, 0.3, 1]\n",
    "Cpos = [0.9, 0.3, 0.1]\n",
    "Csam = [0.1, 0.7, 0.1]\n",
    "# histogram of simulations\n",
    "p = ones((1, j_)) / j_\n",
    "option = namedtuple('option', 'n_bins')\n",
    "option.n_bins = round(10*log(j_))\n",
    "f_bin, x_bin = HistogramFP(theta[np.newaxis,...], p, option)\n",
    "# axis settings\n",
    "l_ = 200\n",
    "delta1 = percentile(theta, 100 * 0.005)\n",
    "delta2 = percentile(theta, 100 * 0.995)\n",
    "mu_theta = mean(theta)\n",
    "x_1 = mu_theta - (delta2 - delta1)\n",
    "x_2 = mu_theta + (delta2 - delta1)\n",
    "x_pi = linspace(x_1, x_2, l_)\n",
    "# posterior pdf\n",
    "pdf_pos = (t.pdf((x_pi - mu_pri) / sqrt(sigma2_pri), 1) / sqrt(sigma2_pri)) * (\n",
    "t.pdf((x_pi - mu_hat) / sqrt(sigma2_hat), 1) / sqrt(sigma2_hat))\n",
    "pdf_pos = pdf_pos / trapz(pdf_pos,x_pi)\n",
    "# prior pdf\n",
    "pdf_pri = t.pdf((x_pi - mu_pri) / sqrt(sigma2_pri), 1) / sqrt(sigma2_pri)"
   ]
  },
  {
   "cell_type": "markdown",
   "metadata": {},
   "source": [
    "## conditional likelihood"
   ]
  },
  {
   "cell_type": "code",
   "execution_count": null,
   "metadata": {},
   "outputs": [],
   "source": [
    "pdf_hat = t.pdf((x_pi - mu_hat) / sqrt(sigma2_hat), nu) / sqrt(sigma2_hat)\n",
    "y_max = max([npmax(f_bin), npmax(pdf_pos), npmax(pdf_pri), npmax(pdf_hat)])\n",
    "\n",
    "figure()\n",
    "h = bar(x_bin[:-1], f_bin[0], width=x_bin[1]-x_bin[0],facecolor= [.8, .8, .8],edgecolor='k',label='simulated distribution')\n",
    "cl = plot(x_pi, pdf_hat, color=Csam,lw=3,label='conditional likelihood')\n",
    "cg = plot(x_pi, pdf_pri, color=Cpri,lw=3,label='prior distribution')\n",
    "tar = plot(x_pi, pdf_pos, lw=5,color=Cpos,label='posterior distribution')\n",
    "xlim([x_1, x_2])\n",
    "ylim([0, 1.3*y_max])\n",
    "title('Markov chain Monte Carlo simulations: Metropolis-Hastings algorithm')\n",
    "legend();\n",
    "# save_plot(ax=plt.gca(), extension='png', scriptname=os.path.basename('.')[:-3], count=plt.get_fignums()[-1])"
   ]
  }
 ],
 "metadata": {
  "jupytext": {
   "encoding": "# -*- coding: utf-8 -*-",
   "executable": "/usr/bin/env python3"
  },
  "kernelspec": {
   "display_name": "Python 3",
   "language": "python",
   "name": "python3"
  }
 },
 "nbformat": 4,
 "nbformat_minor": 4
}
