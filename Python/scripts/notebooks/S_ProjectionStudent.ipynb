{
 "cells": [
  {
   "cell_type": "markdown",
   "metadata": {},
   "source": [
    "# S_ProjectionStudent [<img src=\"https://www.arpm.co/lab/icons/icon_permalink.png\" width=30 height=30 style=\"display: inline;\">](https://www.arpm.co/lab/redirect.php?code=S_ProjectionStudent&codeLang=Python)\n",
    "For details, see [here](https://www.arpm.co/lab/redirect.php?permalink=EXStudtlProjection)."
   ]
  },
  {
   "cell_type": "markdown",
   "metadata": {},
   "source": [
    "## Prepare the environment"
   ]
  },
  {
   "cell_type": "code",
   "execution_count": null,
   "metadata": {},
   "outputs": [],
   "source": [
    "import os\n",
    "import os.path as path\n",
    "import sys\n",
    "\n",
    "sys.path.append(path.abspath('../../functions-legacy'))\n",
    "\n",
    "from numpy import arange, array, ones, cumsum, abs, log, exp, sqrt, r_\n",
    "import numpy as np\n",
    "from numpy import sum as npsum\n",
    "\n",
    "from scipy.stats import norm\n",
    "from scipy.io import loadmat\n",
    "\n",
    "import matplotlib.pyplot as plt\n",
    "from matplotlib.pyplot import figure, plot, legend, ylabel, \\\n",
    "    xlabel, title\n",
    "\n",
    "plt.style.use('seaborn')\n",
    "\n",
    "from CONFIG import GLOBAL_DB, TEMPORARY_DB\n",
    "from ARPM_utils import struct_to_dict, save_plot\n",
    "from Price2AdjustedPrice import Price2AdjustedPrice\n",
    "from ProjDFFT import ProjDFFT\n",
    "from CalibDegOfFreedomMLFP import CalibDegOfFreedomMLFP"
   ]
  },
  {
   "cell_type": "markdown",
   "metadata": {},
   "source": [
    "## Upload database db_Stocks"
   ]
  },
  {
   "cell_type": "code",
   "execution_count": null,
   "metadata": {},
   "outputs": [],
   "source": [
    "try:\n",
    "    db = loadmat(os.path.join(GLOBAL_DB, 'db_Stocks'), squeeze_me=True)\n",
    "except FileNotFoundError:\n",
    "    db = loadmat(os.path.join(TEMPORARY_DB, 'db_Stocks'), squeeze_me=True)\n",
    "\n",
    "StocksSPX = struct_to_dict(db['StocksSPX'])"
   ]
  },
  {
   "cell_type": "markdown",
   "metadata": {},
   "source": [
    "## Compute the log-value and the log-returns time series from the data referring to CISCO Systems Inc"
   ]
  },
  {
   "cell_type": "code",
   "execution_count": null,
   "metadata": {},
   "outputs": [],
   "source": [
    "index = 25  # Cisco Systems Inc\n",
    "\n",
    "[_, dx] = Price2AdjustedPrice(StocksSPX.Date.reshape(1,-1), StocksSPX.Prices[[index], :], StocksSPX.Dividends[index])  # dividend-adjusted log-returns\n",
    "x = cumsum(dx)  # dividend-adjusted log-values\n",
    "t_ = len(x)"
   ]
  },
  {
   "cell_type": "markdown",
   "metadata": {},
   "source": [
    "## Compute the Flexible Probabilities"
   ]
  },
  {
   "cell_type": "code",
   "execution_count": null,
   "metadata": {},
   "outputs": [],
   "source": [
    "#exponential decay\n",
    "lam = log(2) / 800  # half life 3y\n",
    "p = exp(-lam*abs(arange(t_, 1 + -1, -1))).reshape(1,-1)\n",
    "p = p /npsum(p)"
   ]
  },
  {
   "cell_type": "markdown",
   "metadata": {},
   "source": [
    "## Fit the Student t distribution by using function CalibDegOfFreedomMLFP"
   ]
  },
  {
   "cell_type": "code",
   "execution_count": null,
   "metadata": {},
   "outputs": [],
   "source": [
    "mu, sigma2, nu = CalibDegOfFreedomMLFP(dx, p, 10, 0.1)"
   ]
  },
  {
   "cell_type": "markdown",
   "metadata": {},
   "source": [
    "## Project the expectation and standard deviation"
   ]
  },
  {
   "cell_type": "code",
   "execution_count": null,
   "metadata": {},
   "outputs": [],
   "source": [
    "tau = 20  # horizon\n",
    "k_ = 2 ** 12\n",
    "\n",
    "mu_tau = x[t_-1] + mu*tau\n",
    "sigma_tau = sqrt(sigma2*tau*nu / (nu - 2))"
   ]
  },
  {
   "cell_type": "markdown",
   "metadata": {},
   "source": [
    "## Project the estimated pdf to the horizon via the FFT algorithm"
   ]
  },
  {
   "cell_type": "code",
   "execution_count": null,
   "metadata": {},
   "outputs": [],
   "source": [
    "x_hat_hor, f_hat_hor,*_ = ProjDFFT(None, None, tau, k_, 'Student t', nu)\n",
    "x_hor = mu*tau*ones((1, len(x_hat_hor))) + sqrt(sigma2)*x_hat_hor\n",
    "f_hor = f_hat_hor / sqrt(sigma2)\n",
    "f_hor = np.real(f_hor)"
   ]
  },
  {
   "cell_type": "markdown",
   "metadata": {},
   "source": [
    "## Compute the normal approximation of the projected pdf"
   ]
  },
  {
   "cell_type": "code",
   "execution_count": null,
   "metadata": {},
   "outputs": [],
   "source": [
    "phi_hor = norm.pdf(x_hor, mu*tau, sigma_tau)\n",
    "# center around x[t_end-1]\n",
    "x_hor = x_hor + x[t_-1]"
   ]
  },
  {
   "cell_type": "markdown",
   "metadata": {},
   "source": [
    "## Create a figure"
   ]
  },
  {
   "cell_type": "code",
   "execution_count": null,
   "metadata": {},
   "outputs": [],
   "source": [
    "s_ = 2  # number of plotted observation before projecting time\n",
    "\n",
    "# axes settings\n",
    "m = min([min(x[t_ - s_:t_]), mu_tau - 5*sigma_tau])\n",
    "M = max([max(x[t_ - s_:t_]), mu_tau + 5*sigma_tau])\n",
    "t = arange(-s_,tau+1)\n",
    "max_scale = tau / 4\n",
    "\n",
    "# preliminary computations\n",
    "tau_red = arange(0,tau+0.1,0.1)\n",
    "mu_red = x[t_-1] + mu*tau_red\n",
    "sigma_red = sqrt(sigma2*nu / (nu - 2))*sqrt(tau_red)\n",
    "redline1 = mu_red + 2*sigma_red\n",
    "redline2 = mu_red - 2*sigma_red\n",
    "\n",
    "f = figure()\n",
    "# color settings\n",
    "lgrey = [0.8, 0.8, 0.8]  # light grey\n",
    "dgrey = [0.2, 0.2, 0.2]  # dark grey\n",
    "lblue = [0.27, 0.4, 0.9]  # light blue\n",
    "plt.axis([t[0], t[-1] + max_scale, m, M])\n",
    "xlabel('time (days)')\n",
    "ylabel('Risk driver')\n",
    "\n",
    "plt.grid(False)\n",
    "title('Student T projection')\n",
    "# standard deviation lines\n",
    "p_red_1 = plot(tau_red, redline1, color='r', lw = 2)  # red bars (+2 std dev)\n",
    "p_red_2 = plot(tau_red, redline2, color='r', lw = 2)  # red bars (-2std dev)\n",
    "p_mu = plot([0, tau], [x[t_-1], mu_tau], color='g', lw = 2)  # expectation\n",
    "# histogram pdf plot\n",
    "plot(r_['-1',tau*ones((f_hor.shape[0],1)), tau+f_hor.reshape(-1,1)].T, r_['-1',x_hor[[0]].T, x_hor[[0]].T].T, color=lgrey, lw=2)\n",
    "f_border = plot(tau+f_hor, x_hor[0], color=dgrey, lw=1)\n",
    "# normal approximation plot\n",
    "phi_border = plot(tau+phi_hor[0], x_hor[0], color=lblue, lw=1)\n",
    "# plot of last s_ observations\n",
    "for k in range(s_):\n",
    "    plot([t[k], t[k+1]], [x[t_-s_+k-1], x[t_-s_+k]], color=lgrey, lw=2)\n",
    "    plot(t[k], x[t_-s_+k-1], color='b',linestyle='none', marker='.',markersize=15)\n",
    "plot(t[s_], x[t_-1], color='b',linestyle='none', marker='.',markersize=15)\n",
    "plot(tau, mu_tau -2*sigma_tau, color='r', lw = 2)\n",
    "plot(tau, 2*sigma_tau, color='r', lw = 2)\n",
    "legend(handles=[f_border[0], phi_border[0], p_mu[0], p_red_1[0]],labels=['horizon pdf','normal approximation','expectation',' + / - 2st.deviation']);\n",
    "# save_plot(ax=plt.gca(), extension='png', scriptname=os.path.basename('.')[:-3], count=plt.get_fignums()[-1])"
   ]
  }
 ],
 "metadata": {
  "jupytext": {
   "encoding": "# -*- coding: utf-8 -*-",
   "executable": "/usr/bin/env python3"
  },
  "kernelspec": {
   "display_name": "Python 3",
   "language": "python",
   "name": "python3"
  }
 },
 "nbformat": 4,
 "nbformat_minor": 4
}
