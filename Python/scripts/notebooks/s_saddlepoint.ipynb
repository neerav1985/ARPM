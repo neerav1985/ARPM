{
 "cells": [
  {
   "cell_type": "markdown",
   "metadata": {},
   "source": [
    "# s_saddlepoint [<img src=\"https://www.arpm.co/lab/icons/icon_permalink.png\" width=30 height=30 style=\"display: inline;\">](https://www.arpm.co/lab/redirect.php?code=s_saddlepoint&codeLang=Python)\n",
    "For details, see [here](https://www.arpm.co/lab/redirect.php?permalink=s_saddlepoint)."
   ]
  },
  {
   "cell_type": "code",
   "execution_count": null,
   "metadata": {},
   "outputs": [],
   "source": [
    "import numpy as np\n",
    "import matplotlib.pyplot as plt\n",
    "from matplotlib.patches import FancyArrowPatch\n",
    "from mpl_toolkits.mplot3d import Axes3D\n",
    "from mpl_toolkits.mplot3d import proj3d\n",
    "from mpl_toolkits.mplot3d.art3d import Poly3DCollection, Line3DCollection\n",
    "\n",
    "from arpym.tools.logo import add_logo"
   ]
  },
  {
   "cell_type": "markdown",
   "metadata": {},
   "source": [
    "## [Input parameters](https://www.arpm.co/lab/redirect.php?permalink=s_saddlepoint-parameters)"
   ]
  },
  {
   "cell_type": "code",
   "execution_count": null,
   "metadata": {},
   "outputs": [],
   "source": [
    "# function\n",
    "def f(x):\n",
    "    return x[0]**2 - x[1]**2\n",
    "\n",
    "# points to test convexity/concavity criteria\n",
    "x_1 = np.array([0, 1])\n",
    "y_1 = np.array([0, -1])\n",
    "\n",
    "x_2 = np.array([1, 0])\n",
    "y_2 = np.array([-1, 0])"
   ]
  },
  {
   "cell_type": "markdown",
   "metadata": {},
   "source": [
    "## [Step 1](https://www.arpm.co/lab/redirect.php?permalink=s_saddlepoint-implementation-step01): Convexity/concavity test"
   ]
  },
  {
   "cell_type": "code",
   "execution_count": null,
   "metadata": {},
   "outputs": [],
   "source": [
    "t = np.linspace(0, 1, 100, endpoint=True)\n",
    "z_1 = np.array([t_*x_1+(1-t_)*y_1 for t_ in t])\n",
    "f_line1 = np.array([t_*f(x_1)+(1-t_)*f(y_1) for t_ in t])\n",
    "z_2 = np.array([t_*x_2+(1-t_)*y_2 for t_ in t])\n",
    "f_line2 = np.array([t_*f(x_2)+(1-t_)*f(y_2) for t_ in t])"
   ]
  },
  {
   "cell_type": "markdown",
   "metadata": {},
   "source": [
    "## [Step 2](https://www.arpm.co/lab/redirect.php?permalink=s_saddlepoint-implementation-step02): Values for plots"
   ]
  },
  {
   "cell_type": "code",
   "execution_count": null,
   "metadata": {},
   "outputs": [],
   "source": [
    "points = np.linspace(-1, 1, 100)\n",
    "x1_grid, x2_grid = np.meshgrid(points, points)\n",
    "f_x = []\n",
    "for x2 in points:\n",
    "    for x1 in points:\n",
    "        x = np.array([x1, x2])\n",
    "        f_x.append(f(x))\n",
    "f_x = np.array(f_x).reshape(100, 100)"
   ]
  },
  {
   "cell_type": "markdown",
   "metadata": {},
   "source": [
    "## Plots"
   ]
  },
  {
   "cell_type": "code",
   "execution_count": null,
   "metadata": {},
   "outputs": [],
   "source": [
    "plt.style.use('arpm')\n",
    "\n",
    "fig = plt.figure(figsize=(1280.0/72.0, 720.0/72.0), dpi = 72.0,\n",
    "                  facecolor = 'white')\n",
    "ax = fig.add_subplot(111, projection='3d')\n",
    "ax.plot_surface(x1_grid, x2_grid, f_x,\n",
    "                rcount=100, ccount=100,\n",
    "                alpha=0.5, linewidth=0)\n",
    "ax.plot(z_1[:, 0], z_1[:, 1], f_line1,\n",
    "        color='darkorange', lw=2)\n",
    "ax.scatter([x_1[0], y_1[0]], [x_1[1], y_1[1]], [f_line1[0], f_line1[1]],\n",
    "           color='darkorange', s=40, depthshade=False)\n",
    "ax.plot(z_2[:, 0], z_2[:, 1], f_line2,\n",
    "        color='darkorange', lw=2)\n",
    "ax.scatter([x_2[0], y_2[0]], [x_2[1], y_2[1]], [f_line2[0], f_line2[1]],\n",
    "           color='darkorange', s=40, depthshade=False)\n",
    "ax.view_init(40, 125)\n",
    "\n",
    "add_logo(fig)\n",
    "plt.tight_layout()"
   ]
  }
 ],
 "metadata": {
  "jupytext": {
   "encoding": "# -*- coding: utf-8 -*-",
   "executable": "/usr/bin/env python3"
  },
  "kernelspec": {
   "display_name": "Python 3",
   "language": "python",
   "name": "python3"
  }
 },
 "nbformat": 4,
 "nbformat_minor": 4
}
