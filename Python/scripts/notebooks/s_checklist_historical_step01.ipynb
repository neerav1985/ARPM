{
 "cells": [
  {
   "cell_type": "markdown",
   "metadata": {},
   "source": [
    "# s_checklist_historical_step01 [<img src=\"https://www.arpm.co/lab/icons/icon_permalink.png\" width=30 height=30 style=\"display: inline;\">](https://www.arpm.co/lab/redirect.php?code=s_checklist_historical_step01&codeLang=Python)\n",
    "For details, see [here](https://www.arpm.co/lab/redirect.php?permalink=ex-vue-1-historical)."
   ]
  },
  {
   "cell_type": "code",
   "execution_count": null,
   "metadata": {},
   "outputs": [],
   "source": [
    "import numpy as np\n",
    "import pandas as pd\n",
    "from scipy import interpolate\n",
    "import matplotlib.pyplot as plt\n",
    "from pandas.plotting import register_matplotlib_converters\n",
    "register_matplotlib_converters()\n",
    "\n",
    "from arpym.pricing.bsm_function import bsm_function\n",
    "from arpym.pricing.implvol_delta2m_moneyness import implvol_delta2m_moneyness\n",
    "from arpym.tools.logo import add_logo"
   ]
  },
  {
   "cell_type": "markdown",
   "metadata": {},
   "source": [
    "## [Input parameters](https://www.arpm.co/lab/redirect.php?permalink=s_checklist_historical_step01-parameters)"
   ]
  },
  {
   "cell_type": "code",
   "execution_count": null,
   "metadata": {},
   "outputs": [],
   "source": [
    "# set current time t_now\n",
    "t_now = np.datetime64('2012-08-31')\n",
    "\n",
    "# set start date for data selection\n",
    "t_first = np.datetime64('2009-11-02')\n",
    "\n",
    "# set initial portfolio construction date t_init\n",
    "t_init = np.datetime64('2012-08-30')\n",
    "\n",
    "# stocks - must include GE and JPM\n",
    "stock_names = ['GE', 'JPM', 'A', 'AA', 'AAPL']  # stocks considered\n",
    "# make sure stock names includes GE and JPM\n",
    "stock_names = ['GE', 'JPM'] + [stock\n",
    "                               for stock in stock_names\n",
    "                               if stock not in ['GE', 'JPM']]\n",
    "print('Stocks considered:', stock_names)\n",
    "\n",
    "# options on S&P 500\n",
    "k_strk = 1407  # strike value of options on S&P 500 (US dollars)\n",
    "tend_option = np.datetime64('2013-08-26')  # options expiry date\n",
    "y = 0.01  # level for yield curve (assumed flat and constant)\n",
    "l_ = 9  # number of points on the m-moneyness grid\n",
    "\n",
    "# index of risk driver to plot\n",
    "d_plot = 1"
   ]
  },
  {
   "cell_type": "markdown",
   "metadata": {},
   "source": [
    "## [Step 0](https://www.arpm.co/lab/redirect.php?permalink=s_checklist_historical_step01-implementation-step00): Import data"
   ]
  },
  {
   "cell_type": "code",
   "execution_count": null,
   "metadata": {},
   "outputs": [],
   "source": [
    "# upload data\n",
    "# stocks\n",
    "stocks_path = '~/databases/global-databases/equities/db_stocks_SP500/'\n",
    "db_stocks = pd.read_csv(stocks_path + 'db_stocks_sp.csv', skiprows=[0],\n",
    "                        index_col=0)\n",
    "db_stocks.index = pd.to_datetime(db_stocks.index)\n",
    "\n",
    "# implied volatility of option on S&P 500 index\n",
    "path = '~/databases/global-databases/derivatives/db_implvol_optionSPX/'\n",
    "db_impliedvol = pd.read_csv(path + 'data.csv',\n",
    "                            index_col=['date'], parse_dates=['date'])\n",
    "implvol_param = pd.read_csv(path + 'params.csv', index_col=False)\n",
    "\n",
    "# define the date range of interest\n",
    "dates = db_stocks.index[(db_stocks.index >= t_first) &\n",
    "                        (db_stocks.index <= t_now)]\n",
    "dates = np.intersect1d(dates, db_impliedvol.index)\n",
    "dates = dates.astype('datetime64[D]')\n",
    "\n",
    "# length of the time series\n",
    "t_ = len(dates)\n",
    "\n",
    "# initialize temporary databases\n",
    "db_risk_drivers = {}\n",
    "v_tnow = {}\n",
    "v_tinit = {}\n",
    "risk_drivers_names = {}\n",
    "v_tnow_names = {}\n",
    "\n",
    "# implied volatility parametrized by time to expiry and delta-moneyness\n",
    "tau_implvol = np.array(implvol_param.time2expiry)\n",
    "tau_implvol = tau_implvol[~np.isnan(tau_implvol)]\n",
    "delta_moneyness = np.array(implvol_param.delta)\n",
    "\n",
    "implvol_delta_moneyness_2d = \\\n",
    "    db_impliedvol.loc[(db_impliedvol.index.isin(dates)),\n",
    "                      (db_impliedvol.columns != 'underlying')]\n",
    "\n",
    "k_ = len(tau_implvol)\n",
    "\n",
    "# unpack flattened database (from 2d to 3d)\n",
    "implvol_delta_moneyness_3d = np.zeros((t_, k_, len(delta_moneyness)))\n",
    "for k in range(k_):\n",
    "    implvol_delta_moneyness_3d[:, k, :] = \\\n",
    "        np.array(implvol_delta_moneyness_2d.iloc[:, k::k_])"
   ]
  },
  {
   "cell_type": "markdown",
   "metadata": {},
   "source": [
    "## [Step 1](https://www.arpm.co/lab/redirect.php?permalink=s_checklist_historical_step01-implementation-step01): Stocks"
   ]
  },
  {
   "cell_type": "code",
   "execution_count": null,
   "metadata": {},
   "outputs": [],
   "source": [
    "n_stocks = len(stock_names)  # number of stocks\n",
    "d_stocks = n_stocks  # one risk driver for each stock\n",
    "\n",
    "for d in range(d_stocks):\n",
    "    # calculate time series of stock risk drivers\n",
    "    db_risk_drivers[d] = np.log(np.array(db_stocks.loc[dates, stock_names[d]]))\n",
    "    risk_drivers_names[d] = 'stock '+stock_names[d]+'_log_value'\n",
    "    # stock value\n",
    "    v_tnow[d] = db_stocks.loc[t_now, stock_names[d]]\n",
    "    v_tinit[d] = db_stocks.loc[t_init, stock_names[d]]\n",
    "    v_tnow_names[d] = 'stock '+stock_names[d]\n",
    "\n",
    "# number of risk drivers, to be updated at every insertion\n",
    "d_ = d_stocks"
   ]
  },
  {
   "cell_type": "markdown",
   "metadata": {},
   "source": [
    "## [Step 2](https://www.arpm.co/lab/redirect.php?permalink=s_checklist_historical_step01-implementation-step02): S&P 500 Index"
   ]
  },
  {
   "cell_type": "code",
   "execution_count": null,
   "metadata": {},
   "outputs": [],
   "source": [
    "# calculate risk driver of the S&P 500 index\n",
    "db_risk_drivers[d_] = \\\n",
    "    np.log(np.array(db_impliedvol.loc[(db_impliedvol.index.isin(dates)),\n",
    "                                      'underlying']))\n",
    "risk_drivers_names[d_] = 'sp_index_log_value'\n",
    "\n",
    "# value of the S&P 500 index\n",
    "v_tnow[d_] = db_impliedvol.loc[t_now, 'underlying']\n",
    "v_tinit[d_] = db_impliedvol.loc[t_init, 'underlying']\n",
    "v_tnow_names[d_] = 'sp_index'\n",
    "\n",
    "# update counter\n",
    "d_ = d_+1"
   ]
  },
  {
   "cell_type": "markdown",
   "metadata": {},
   "source": [
    "## [Step 3](https://www.arpm.co/lab/redirect.php?permalink=s_checklist_historical_step01-implementation-step03): Call and put options on the S&P 500 Index"
   ]
  },
  {
   "cell_type": "code",
   "execution_count": null,
   "metadata": {},
   "outputs": [],
   "source": [
    "# from delta-moneyness to m-moneyness parametrization\n",
    "implvol_m_moneyness_3d, m_moneyness = \\\n",
    "    implvol_delta2m_moneyness(implvol_delta_moneyness_3d, tau_implvol,\n",
    "                              delta_moneyness, y*np.ones((t_, k_)),\n",
    "                              tau_implvol, l_)\n",
    "\n",
    "# calculate log implied volatility\n",
    "log_implvol_m_moneyness_2d = \\\n",
    "    np.log(np.reshape(implvol_m_moneyness_3d,\n",
    "                      (t_, k_*(l_)), 'F'))\n",
    "\n",
    "# value of the underlying\n",
    "s_tnow = v_tnow[d_stocks]\n",
    "s_tinit = v_tinit[d_stocks]\n",
    "\n",
    "# time to expiry (in years)\n",
    "tau_option_tnow = np.busday_count(t_now, tend_option)/252\n",
    "tau_option_tinit = np.busday_count(t_init, tend_option)/252\n",
    "\n",
    "# moneyness\n",
    "moneyness_tnow = np.log(s_tnow/k_strk)/np.sqrt(tau_option_tnow)\n",
    "moneyness_tinit = np.log(s_tinit/k_strk)/np.sqrt(tau_option_tinit)\n",
    "\n",
    "# grid points\n",
    "points = list(zip(*[grid.flatten() for grid in np.meshgrid(*[tau_implvol,\n",
    "                                                             m_moneyness])]))\n",
    "\n",
    "# known values\n",
    "values = implvol_m_moneyness_3d[-1, :, :].flatten('F')\n",
    "\n",
    "# implied volatility (interpolated)\n",
    "impl_vol_tnow = \\\n",
    "    interpolate.LinearNDInterpolator(points, values)(*np.r_[tau_option_tnow,\n",
    "                                                            moneyness_tnow])\n",
    "impl_vol_tinit = \\\n",
    "    interpolate.LinearNDInterpolator(points, values)(*np.r_[tau_option_tinit,\n",
    "                                                            moneyness_tinit])\n",
    "\n",
    "# compute call option value by means of Black-Scholes-Merton formula\n",
    "v_call_tnow = bsm_function(s_tnow, y, impl_vol_tnow, moneyness_tnow, tau_option_tnow)\n",
    "v_call_tinit = bsm_function(s_tinit, y, impl_vol_tinit, moneyness_tinit,\n",
    "                            tau_option_tinit)\n",
    "\n",
    "# compute put option value by means of the put-call parity\n",
    "v_zcb_tnow = np.exp(-y*tau_option_tnow)\n",
    "v_put_tnow = v_call_tnow - s_tnow + k_strk*v_zcb_tnow\n",
    "v_zcb_tinit = np.exp(-y*tau_option_tinit)\n",
    "v_put_tinit = v_call_tinit - s_tinit + k_strk*v_zcb_tinit\n",
    "\n",
    "# store data\n",
    "d_implvol = log_implvol_m_moneyness_2d.shape[1]\n",
    "for d in np.arange(d_implvol):\n",
    "    db_risk_drivers[d_+d] = log_implvol_m_moneyness_2d[:, d]\n",
    "    risk_drivers_names[d_+d] = 'option_spx_logimplvol_mtau_' + str(d+1)\n",
    "\n",
    "v_tnow[d_] = v_call_tnow\n",
    "v_tinit[d_] = v_call_tinit\n",
    "v_tnow_names[d_] = 'option_spx_call'\n",
    "v_tnow[d_+1] = v_put_tnow\n",
    "v_tinit[d_+1] = v_put_tinit\n",
    "v_tnow_names[d_+1] = 'option_spx_put'\n",
    "\n",
    "# update counter\n",
    "d_ = len(db_risk_drivers)\n",
    "n_ = len(v_tnow)"
   ]
  },
  {
   "cell_type": "markdown",
   "metadata": {},
   "source": [
    "## [Step 4](https://www.arpm.co/lab/redirect.php?permalink=s_checklist_historical_step01-implementation-step04): Save databases"
   ]
  },
  {
   "cell_type": "code",
   "execution_count": null,
   "metadata": {},
   "outputs": [],
   "source": [
    "path = '~/databases/temporary-databases/'\n",
    "\n",
    "# market risk drivers\n",
    "out = pd.DataFrame({risk_drivers_names[d]: db_risk_drivers[d]\n",
    "                    for d in range(len(db_risk_drivers))}, index=dates)\n",
    "out = out[list(risk_drivers_names.values())]\n",
    "out.index.name = 'dates'\n",
    "out.to_csv(path+'db_riskdrivers_series_historical.csv')\n",
    "del out\n",
    "\n",
    "# values of all instruments at t_now\n",
    "out = pd.DataFrame({v_tnow_names[n]: pd.Series(v_tnow[n])\n",
    "                   for n in range(len(v_tnow))})\n",
    "out = out[list(v_tnow_names.values())]\n",
    "out.to_csv(path+'db_v_tnow_historical.csv',\n",
    "           index=False)\n",
    "del out\n",
    "\n",
    "# values of all instruments at t_init\n",
    "out = pd.DataFrame({v_tnow_names[n]: pd.Series(v_tinit[n])\n",
    "                   for n in range(len(v_tinit))})\n",
    "out = out[list(v_tnow_names.values())]\n",
    "out.to_csv(path+'db_v_tinit_historical.csv',\n",
    "           index=False)\n",
    "del out\n",
    "\n",
    "# additional variables needed for subsequent steps\n",
    "out = {'n_stocks': pd.Series(n_stocks),\n",
    "       'd_implvol': pd.Series(d_implvol),\n",
    "       'tend_option': pd.Series(tend_option),\n",
    "       'k_strk': pd.Series(k_strk),\n",
    "       'l_': pd.Series(l_),\n",
    "       'tau_implvol': pd.Series(tau_implvol),\n",
    "       'y': pd.Series(y),\n",
    "       'm_moneyness': pd.Series(m_moneyness),\n",
    "       'd_': pd.Series(d_),\n",
    "       't_now': pd.Series(t_now),\n",
    "       't_init': pd.Series(t_init),\n",
    "       't_first': pd.Series(t_first),\n",
    "       'stock_names': pd.Series(stock_names)}\n",
    "out = pd.DataFrame(out)\n",
    "out.to_csv(path+'db_riskdrivers_tools_historical.csv',\n",
    "           index=False)\n",
    "del out"
   ]
  },
  {
   "cell_type": "markdown",
   "metadata": {},
   "source": [
    "## Plots "
   ]
  },
  {
   "cell_type": "code",
   "execution_count": null,
   "metadata": {},
   "outputs": [],
   "source": [
    "plt.style.use('arpm')\n",
    "\n",
    "fig = plt.figure(figsize=(1280.0/72.0, 720.0/72.0), dpi=72.0)\n",
    "plt.plot(dates, db_risk_drivers[d_plot-1])\n",
    "plt.title(risk_drivers_names[d_plot-1], fontweight='bold', fontsize=20)\n",
    "plt.xlabel('time (days)', fontsize=17)\n",
    "plt.xticks(fontsize=14)\n",
    "plt.yticks(fontsize=14)\n",
    "plt.xlim([dates[0], dates[-1]])\n",
    "add_logo(fig, set_fig_size=False)\n",
    "fig.tight_layout()"
   ]
  }
 ],
 "metadata": {
  "kernelspec": {
   "display_name": "Python 3",
   "language": "python",
   "name": "python3"
  }
 },
 "nbformat": 4,
 "nbformat_minor": 4
}
