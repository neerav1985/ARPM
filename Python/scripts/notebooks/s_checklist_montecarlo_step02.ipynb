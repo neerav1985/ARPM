{
 "cells": [
  {
   "cell_type": "markdown",
   "metadata": {},
   "source": [
    "# s_checklist_montecarlo_step02 [<img src=\"https://www.arpm.co/lab/icons/icon_permalink.png\" width=30 height=30 style=\"display: inline;\">](https://www.arpm.co/lab/redirect.php?code=s_checklist_montecarlo_step02&codeLang=Python)\n",
    "For details, see [here](https://www.arpm.co/lab/redirect.php?permalink=ex-vue-2)."
   ]
  },
  {
   "cell_type": "code",
   "execution_count": null,
   "metadata": {},
   "outputs": [],
   "source": [
    "import numpy as np\n",
    "import pandas as pd\n",
    "import matplotlib.pyplot as plt\n",
    "from pandas.plotting import register_matplotlib_converters\n",
    "register_matplotlib_converters()\n",
    "\n",
    "from arpym.estimation.fit_trans_matrix_credit import fit_trans_matrix_credit\n",
    "from arpym.estimation.fit_var1 import fit_var1\n",
    "from arpym.statistics.invariance_test_copula import invariance_test_copula\n",
    "from arpym.statistics.invariance_test_ellipsoid import invariance_test_ellipsoid\n",
    "from arpym.statistics.invariance_test_ks import invariance_test_ks\n",
    "from arpym.tools.logo import add_logo"
   ]
  },
  {
   "cell_type": "markdown",
   "metadata": {},
   "source": [
    "## [Input parameters](https://www.arpm.co/lab/redirect.php?permalink=s_checklist_montecarlo_step02-parameters)"
   ]
  },
  {
   "cell_type": "code",
   "execution_count": null,
   "metadata": {},
   "outputs": [],
   "source": [
    "tau_hl_credit = 5  # half-life parameter for credit fit (years)\n",
    "i_plot = 1  # select the invariant to be tested (i = 1,...,i_)\n",
    "lag_ = 5  # lag used in invariance tests"
   ]
  },
  {
   "cell_type": "markdown",
   "metadata": {},
   "source": [
    "## [Step 0](https://www.arpm.co/lab/redirect.php?permalink=s_checklist_montecarlo_step02-implementation-step00): Load data"
   ]
  },
  {
   "cell_type": "code",
   "execution_count": null,
   "metadata": {},
   "outputs": [],
   "source": [
    "path = '~/databases/temporary-databases/'\n",
    "\n",
    "# invariants for stocks, S&P and options\n",
    "db_invariants_series = pd.read_csv(path+'db_invariants_series_historical.csv',\n",
    "                                   index_col=0, parse_dates=True)\n",
    "dates = pd.to_datetime(np.array(db_invariants_series.index))\n",
    "t_ = len(dates)\n",
    "i_historical = db_invariants_series.shape[1]\n",
    "db_invariants = {}\n",
    "for i in range(i_historical):\n",
    "    db_invariants[i] = np.array(db_invariants_series.iloc[:, i])\n",
    "\n",
    "# next step models for stocks, S&P and options\n",
    "db_invariants_nextstep = pd.read_csv(path+'db_invariants_nextstep_historical.csv')\n",
    "db_nextstep = dict(zip(range(i_historical), db_invariants_nextstep.values.squeeze()))\n",
    "\n",
    "# market risk drivers\n",
    "db_riskdrivers_series = pd.read_csv(path+'db_riskdrivers_series.csv',\n",
    "                                    index_col=0, parse_dates=True)\n",
    "x = db_riskdrivers_series.values\n",
    "risk_drivers_names = db_riskdrivers_series.columns.values\n",
    "\n",
    "# credit risk drivers\n",
    "db_riskdrivers_credit = pd.read_csv(path+'db_riskdrivers_credit.csv',\n",
    "                                    index_col=0, parse_dates=True)\n",
    "dates_credit = np.array(db_riskdrivers_credit.index).astype('datetime64[D]')\n",
    "\n",
    "# additional information\n",
    "db_riskdrivers_tools = pd.read_csv(path+'db_riskdrivers_tools.csv')\n",
    "n_stocks = int(db_riskdrivers_tools.n_stocks.dropna())\n",
    "d_implvol = int(db_riskdrivers_tools.d_implvol.dropna())\n",
    "n_bonds = int(db_riskdrivers_tools.n_bonds.dropna())\n",
    "tlast_credit = np.datetime64(db_riskdrivers_tools.tlast_credit[0], 'D')\n",
    "c_ = int(db_riskdrivers_tools.c_.dropna())\n",
    "ratings_param = db_riskdrivers_tools.ratings_param.dropna()\n",
    "\n",
    "i_bonds = n_bonds*4  # 4 NS parameters x n_bonds\n",
    "ind_ns_bonds = np.arange(n_stocks+1+d_implvol,\n",
    "                         n_stocks+1+d_implvol+i_bonds)\n",
    "\n",
    "# number of obligors\n",
    "n_obligors = db_riskdrivers_credit.iloc[:, :c_+1]\n",
    "\n",
    "# cumulative number of transitions\n",
    "n_cum_trans = db_riskdrivers_credit.iloc[:, c_+1:(c_+1)**2]\n",
    "from_to_index = pd.MultiIndex.from_product([ratings_param, ratings_param],\n",
    "                                           names=('rating_from', 'rating_to'))\n",
    "mapper = {}\n",
    "for col in n_cum_trans:\n",
    "    (rating_from, _, rating_to) = col[12:].partition('_')\n",
    "    mapper[col] = (rating_from, rating_to)\n",
    "n_cum_trans = n_cum_trans.rename(columns=mapper) \\\n",
    "                                     .reindex(columns=from_to_index).fillna(0)\n",
    "\n",
    "del db_riskdrivers_tools, db_riskdrivers_credit"
   ]
  },
  {
   "cell_type": "markdown",
   "metadata": {},
   "source": [
    "## [Step 1](https://www.arpm.co/lab/redirect.php?permalink=s_checklist_montecarlo_step02-implementation-step01): AR(1) fit of Nelson-Siegel parameters"
   ]
  },
  {
   "cell_type": "code",
   "execution_count": null,
   "metadata": {},
   "outputs": [],
   "source": [
    "# initialize temporary database\n",
    "db_ar1_param = {}\n",
    "\n",
    "# the fit is performed only on non-nan entries\n",
    "t_bonds = np.sum(np.isfinite(x[:, ind_ns_bonds[0]]))\n",
    "\n",
    "x_obligor = np.zeros((t_bonds, i_bonds))\n",
    "epsi_obligor = np.zeros((t_bonds-1, i_bonds))\n",
    "\n",
    "b_ar_obligor = np.zeros(i_bonds)  # initialize AR(1) parameter\n",
    "for i in range(i_bonds):\n",
    "    # risk driver (non-nan entries)\n",
    "    x_obligor[:, i] = x[t_-t_bonds+1:, ind_ns_bonds[i]]\n",
    "    # fit parameter\n",
    "    b_ar_obligor[i], _, _ = fit_var1(x_obligor[:, i])\n",
    "    # invariants\n",
    "    epsi_obligor[:, i] = x_obligor[1:, i]-b_ar_obligor[i]*x_obligor[:-1, i]\n",
    "\n",
    "# store the next-step function and the extracted invariants\n",
    "k = 0\n",
    "for i in ind_ns_bonds:\n",
    "    db_invariants[i] = np.r_[np.full(t_-t_bonds+1, np.nan),\n",
    "                             epsi_obligor[:, k]]\n",
    "    db_nextstep[i] = 'AR(1)'\n",
    "    db_ar1_param[i] = {'b': b_ar_obligor[k]}\n",
    "    k = k+1"
   ]
  },
  {
   "cell_type": "markdown",
   "metadata": {},
   "source": [
    "## [Step 2](https://www.arpm.co/lab/redirect.php?permalink=s_checklist_montecarlo_step02-implementation-step02): Credit migrations: time-homogeneous Markov chain"
   ]
  },
  {
   "cell_type": "code",
   "execution_count": null,
   "metadata": {},
   "outputs": [],
   "source": [
    "# array format\n",
    "n_cum_trans = n_cum_trans.values.reshape((-1, c_+1, c_+1), order='C')\n",
    "\n",
    "# annual credit transition matrix\n",
    "p_credit = fit_trans_matrix_credit(dates_credit,\n",
    "                                   n_obligors.values,\n",
    "                                   n_cum_trans, tau_hl_credit)"
   ]
  },
  {
   "cell_type": "markdown",
   "metadata": {},
   "source": [
    "## [Step 3](https://www.arpm.co/lab/redirect.php?permalink=s_checklist_montecarlo_step02-implementation-step03): Save databases"
   ]
  },
  {
   "cell_type": "code",
   "execution_count": null,
   "metadata": {},
   "outputs": [],
   "source": [
    "# all market invariants\n",
    "out = pd.DataFrame({risk_drivers_names[i]: db_invariants[i]\n",
    "                    for i in range(len(db_invariants))}, index=dates)\n",
    "out = out[list(risk_drivers_names[:len(db_invariants)])]\n",
    "out.index.name = 'dates'\n",
    "out.to_csv(path+'db_invariants_series.csv')\n",
    "del out\n",
    "\n",
    "# next-step models for all invariants\n",
    "out = pd.DataFrame({risk_drivers_names[i]: db_nextstep[i]\n",
    "                    for i in range(len(db_nextstep))}, index=[''])\n",
    "out = out[list(risk_drivers_names[:len(db_nextstep)])]\n",
    "out.to_csv(path+'db_invariants_nextstep.csv',\n",
    "           index=False)\n",
    "del out\n",
    "\n",
    "# parameters in AR(1) models\n",
    "out = pd.DataFrame({risk_drivers_names[i]: db_ar1_param[i]\n",
    "                    for i in ind_ns_bonds})\n",
    "out.to_csv(path+'db_invariants_ar1_param.csv')\n",
    "del out\n",
    "\n",
    "# annual credit transition matrix\n",
    "out = pd.DataFrame({'p_credit': pd.Series(p_credit.reshape(-1))})\n",
    "out.to_csv(path+'db_invariants_p_credit.csv',\n",
    "           index=None)\n",
    "del out"
   ]
  },
  {
   "cell_type": "markdown",
   "metadata": {},
   "source": [
    "## [Step 4](https://www.arpm.co/lab/redirect.php?permalink=s_checklist_montecarlo_step02-implementation-step04): Perform invariance tests"
   ]
  },
  {
   "cell_type": "code",
   "execution_count": null,
   "metadata": {},
   "outputs": [],
   "source": [
    "plt.style.use('arpm')\n",
    "\n",
    "invar = db_invariants[i_plot-1][~np.isnan(db_invariants[i_plot-1])]\n",
    "\n",
    "_ = invariance_test_ellipsoid(invar, lag_)\n",
    "fig_ellipsoid = plt.gcf()\n",
    "fig_ellipsoid.set_dpi(72.0)\n",
    "fig_ellipsoid.set_size_inches(1280.0/72.0, 720.0/72.0)\n",
    "add_logo(fig_ellipsoid, set_fig_size=False)\n",
    "plt.show()\n",
    "\n",
    "invariance_test_ks(invar)\n",
    "fig_ks = plt.gcf()\n",
    "fig_ks.set_dpi(72.0)\n",
    "fig_ks.set_size_inches(1280.0/72.0, 720.0/72.0)\n",
    "add_logo(fig_ks, set_fig_size=False)\n",
    "plt.tight_layout()\n",
    "\n",
    "_ = invariance_test_copula(invar, lag_)\n",
    "fig_cop = plt.gcf()\n",
    "fig_cop.set_dpi(72.0)\n",
    "fig_cop.set_size_inches(1280.0/72.0, 720.0/72.0)\n",
    "plt.tight_layout()"
   ]
  }
 ],
 "metadata": {
  "kernelspec": {
   "display_name": "Python 3",
   "language": "python",
   "name": "python3"
  }
 },
 "nbformat": 4,
 "nbformat_minor": 4
}
