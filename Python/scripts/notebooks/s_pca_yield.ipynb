{
 "cells": [
  {
   "cell_type": "markdown",
   "metadata": {},
   "source": [
    "# s_pca_yield [<img src=\"https://www.arpm.co/lab/icons/icon_permalink.png\" width=30 height=30 style=\"display: inline;\">](https://www.arpm.co/lab/redirect.php?code=s_pca_yield&codeLang=Python)\n",
    "For details, see [here](https://www.arpm.co/lab/redirect.php?permalink=eb-swap-cont)."
   ]
  },
  {
   "cell_type": "code",
   "execution_count": null,
   "metadata": {},
   "outputs": [],
   "source": [
    "import pandas as pd\n",
    "import numpy as np\n",
    "import matplotlib.pyplot as plt\n",
    "import matplotlib.gridspec as gridspec\n",
    "\n",
    "from arpym.tools.logo import add_logo"
   ]
  },
  {
   "cell_type": "markdown",
   "metadata": {},
   "source": [
    "## [Step 0](https://www.arpm.co/lab/redirect.php?permalink=s_pca_yield-implementation-step00): Import data"
   ]
  },
  {
   "cell_type": "code",
   "execution_count": null,
   "metadata": {},
   "outputs": [],
   "source": [
    "data = pd.read_csv('~/databases/temporary-databases/db_pca_yield_tools.csv')\n",
    "n_ = int(data['n_'][0])\n",
    "tau = data['tau'].values[:n_]\n",
    "s2_hat_HFP_x = pd.read_csv('~/databases/temporary-databases/db_pca_yield_tools.csv',\n",
    "                   usecols=['s2_hat_HFP_x']).values.reshape(n_, n_)\n",
    "s_vec = data['s_vec'].values[:n_]\n",
    "gamma_star = data['gamma_star'][0]\n",
    "data_empirical = pd.read_csv('~/databases/temporary-databases/db_pca_empirical.csv')\n",
    "k_ = int(data_empirical['k_'][0])\n",
    "lambda2_hat = data_empirical['lambda2_hat'].values[:n_]\n",
    "e_hat = pd.read_csv('~/databases/temporary-databases/db_pca_empirical.csv',\n",
    "                   usecols=['e_hat']).values.reshape(n_, n_)"
   ]
  },
  {
   "cell_type": "markdown",
   "metadata": {},
   "source": [
    "## [Step 1](https://www.arpm.co/lab/redirect.php?permalink=s_pca_yield-implementation-step01): Compute theoretical eigenvalues "
   ]
  },
  {
   "cell_type": "code",
   "execution_count": null,
   "metadata": {},
   "outputs": [],
   "source": [
    "s2 = np.mean(s_vec)**2  # average volatility\n",
    "omega = np.pi/len(tau)*np.linspace(1, k_, k_)  # frequences\n",
    "lambda2_omega = 2 * s2 * gamma_star / (gamma_star**2 + omega**2)  # eigenvalues"
   ]
  },
  {
   "cell_type": "markdown",
   "metadata": {},
   "source": [
    "## [Step 2](https://www.arpm.co/lab/redirect.php?permalink=s_pca_yield-implementation-step02): Compute theoretical and empirical r squared "
   ]
  },
  {
   "cell_type": "code",
   "execution_count": null,
   "metadata": {},
   "outputs": [],
   "source": [
    "r2_omega = 2 / np.pi * np.arctan(omega / gamma_star)  # theoretical\n",
    "r2_hat = np.cumsum(lambda2_hat) / np.sum(lambda2_hat)  # empirical"
   ]
  },
  {
   "cell_type": "markdown",
   "metadata": {},
   "source": [
    "## Plots"
   ]
  },
  {
   "cell_type": "code",
   "execution_count": null,
   "metadata": {},
   "outputs": [],
   "source": [
    "\n",
    "plt.style.use('arpm')\n",
    "\n",
    "darkred = [.9, 0, 0]\n",
    "lightgrey = [.8, .8, .8]\n",
    "\n",
    "mydpi = 72.0\n",
    "f = plt.figure(figsize=(1280.0/mydpi, 720.0/mydpi), dpi=mydpi)\n",
    "g = gridspec.GridSpec(2, 2)\n",
    "\n",
    "ax1 = plt.subplot(g[1, 0:2])\n",
    "colormap = plt.cm.gist_gray\n",
    "plt.gca().set_prop_cycle(color=[colormap(i) for i in np.linspace(0, 0.5, 3)])\n",
    "plt.plot(tau, e_hat[:, 0], lw=2, label=r'$\\hat{e}_1$')\n",
    "plt.plot(tau, e_hat[:, 1], lw=2, label=r'$\\hat{e}_2$')\n",
    "plt.plot(tau, e_hat[:, 2], lw=2, label=r'$\\hat{e}_3$')\n",
    "plt.legend()\n",
    "ax1.set_xlim([tau[0], tau[-1]])\n",
    "ax1.set_title('First three eigenvectors')\n",
    "ax1.set_xlabel('time to maturity (yrs)')\n",
    "\n",
    "ax2 = plt.subplot(g[0, 0])\n",
    "ax2.bar(omega, lambda2_hat[:k_]/lambda2_hat[0], width=omega[1]-omega[0],\n",
    "        facecolor=lightgrey, label=r'empirical')\n",
    "ax2.plot(omega, lambda2_omega/lambda2_omega[0], color=darkred,\n",
    "         lw=1.5, label=r'theoretical')\n",
    "ax2.set_ylim([0, 1.1])\n",
    "plt.legend()\n",
    "ax2.set_title('Eigenvalues')\n",
    "ax2.set_xlabel('frequences')\n",
    "\n",
    "ax3 = plt.subplot(g[0, 1])\n",
    "ax3.bar(omega, r2_omega[:k_], facecolor=lightgrey, width=omega[1]-omega[0],\n",
    "        label=r'empirical')\n",
    "ax3.plot(omega, r2_omega, color=darkred, lw=1.5, label=r'theoretical')\n",
    "ax3.set_ylim([0, 1.1])\n",
    "plt.legend()\n",
    "ax3.set_title('$\\mathcal{R}^2$')\n",
    "ax3.set_xlabel('frequences')\n",
    "\n",
    "add_logo(f, location=4)\n",
    "plt.tight_layout()"
   ]
  }
 ],
 "metadata": {
  "jupytext": {
   "encoding": "# -*- coding: utf-8 -*-",
   "executable": "/usr/bin/env python3"
  },
  "kernelspec": {
   "display_name": "Python 3",
   "language": "python",
   "name": "python3"
  }
 },
 "nbformat": 4,
 "nbformat_minor": 4
}
