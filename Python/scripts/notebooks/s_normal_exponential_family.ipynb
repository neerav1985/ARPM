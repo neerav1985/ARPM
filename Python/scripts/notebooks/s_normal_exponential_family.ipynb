{
 "cells": [
  {
   "cell_type": "markdown",
   "metadata": {},
   "source": [
    "# s_normal_exponential_family [<img src=\"https://www.arpm.co/lab/icons/icon_permalink.png\" width=30 height=30 style=\"display: inline;\">](https://www.arpm.co/lab/redirect.php?code=s_normal_exponential_family&codeLang=Python)\n",
    "For details, see [here](https://www.arpm.co/lab/redirect.php?permalink=eb-normal-exponential-family-dist)."
   ]
  },
  {
   "cell_type": "code",
   "execution_count": null,
   "metadata": {},
   "outputs": [],
   "source": [
    "import numpy as np\n",
    "\n",
    "from arpym.statistics.normal_canonical import normal_canonical"
   ]
  },
  {
   "cell_type": "markdown",
   "metadata": {},
   "source": [
    "## [Input parameters](https://www.arpm.co/lab/redirect.php?permalink=s_normal_exponential_family-parameters)"
   ]
  },
  {
   "cell_type": "code",
   "execution_count": null,
   "metadata": {},
   "outputs": [],
   "source": [
    "mu = np.array([1, 2])\n",
    "sig2 = np.array([[1, 2], [2, 9]])\n",
    "mu_xz = np.array([1, 2, 0.5])\n",
    "sig2_xz = np.array([[1, 2, 1], [2, 9, 2], [1, 2, 2]])\n",
    "z = np.array([1])"
   ]
  },
  {
   "cell_type": "markdown",
   "metadata": {},
   "source": [
    "## [Step 1](https://www.arpm.co/lab/redirect.php?permalink=s_normal_exponential_family-implementation-step01): Compute natural parameters and log-partition for X"
   ]
  },
  {
   "cell_type": "code",
   "execution_count": null,
   "metadata": {},
   "outputs": [],
   "source": [
    "theta_mu, theta_sig = normal_canonical(mu, sig2)\n",
    "psi = -1/4 * theta_mu.T@np.linalg.solve(sig2, theta_mu) - \\\n",
    "      1/2*np.log(np.linalg.det(2*theta_sig))"
   ]
  },
  {
   "cell_type": "markdown",
   "metadata": {},
   "source": [
    "## [Step 2](https://www.arpm.co/lab/redirect.php?permalink=s_normal_exponential_family-implementation-step02): Compute natural parameters for XZ"
   ]
  },
  {
   "cell_type": "code",
   "execution_count": null,
   "metadata": {},
   "outputs": [],
   "source": [
    "theta_mu_xz, theta_sig_xz = normal_canonical(mu_xz, sig2_xz)"
   ]
  },
  {
   "cell_type": "markdown",
   "metadata": {},
   "source": [
    "## [Step 3](https://www.arpm.co/lab/redirect.php?permalink=s_normal_exponential_family-implementation-step03): Compute natural parameters for X|z using natural parameters"
   ]
  },
  {
   "cell_type": "code",
   "execution_count": null,
   "metadata": {},
   "outputs": [],
   "source": [
    "n_ = sig2.shape[0]\n",
    "theta_mu_x_z = theta_mu_xz[:n_] + 2 * theta_sig_xz[n_:, :n_].T @ z\n",
    "theta_sig_x_z = theta_sig_xz[:n_, :n_]"
   ]
  },
  {
   "cell_type": "markdown",
   "metadata": {},
   "source": [
    "## [Step 4](https://www.arpm.co/lab/redirect.php?permalink=s_normal_exponential_family-implementation-step04): Compute natural parameters for X|z using normal parameters"
   ]
  },
  {
   "cell_type": "code",
   "execution_count": null,
   "metadata": {},
   "outputs": [],
   "source": [
    "mu_z = mu_xz[n_:]\n",
    "sig2_z = sig2_xz[n_:, n_:]\n",
    "sig_xz = sig2_xz[n_:, :n_].T\n",
    "\n",
    "# conditional distribution parameters\n",
    "mu_x_z = mu + sig_xz @ np.linalg.solve(sig2_z, z - mu_z)\n",
    "sig2_x_z = sig2 - sig_xz @ np.linalg.solve(sig2_z, sig_xz.T)\n",
    "\n",
    "# conditional distribution natural parameters\n",
    "theta_mu_x_z_1, theta_sig_x_z_1 = normal_canonical(mu_x_z, sig2_x_z)"
   ]
  }
 ],
 "metadata": {
  "jupytext": {
   "encoding": "# -*- coding: utf-8 -*-",
   "executable": "/usr/bin/env python3"
  },
  "kernelspec": {
   "display_name": "Python 3",
   "language": "python",
   "name": "python3"
  }
 },
 "nbformat": 4,
 "nbformat_minor": 4
}
