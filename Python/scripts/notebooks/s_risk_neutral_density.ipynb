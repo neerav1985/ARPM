{
 "cells": [
  {
   "cell_type": "markdown",
   "metadata": {},
   "source": [
    "# s_risk_neutral_density [<img src=\"https://www.arpm.co/lab/icons/icon_permalink.png\" width=30 height=30 style=\"display: inline;\">](https://www.arpm.co/lab/redirect.php?code=s_risk_neutral_density&codeLang=Python)\n",
    "For details, see [here](https://www.arpm.co/lab/redirect.php?permalink=eb-comprnnumsdf)."
   ]
  },
  {
   "cell_type": "code",
   "execution_count": null,
   "metadata": {},
   "outputs": [],
   "source": [
    "import numpy as np\n",
    "import pandas as pd\n",
    "import matplotlib.pyplot as plt\n",
    "from scipy.linalg import toeplitz\n",
    "from scipy.stats import norm, lognorm\n",
    "\n",
    "from arpym.pricing.bsm_function import bsm_function\n",
    "from arpym.tools.logo import add_logo"
   ]
  },
  {
   "cell_type": "markdown",
   "metadata": {},
   "source": [
    "## [Input parameters](https://www.arpm.co/lab/redirect.php?permalink=s_risk_neutral_density-parameters)"
   ]
  },
  {
   "cell_type": "code",
   "execution_count": null,
   "metadata": {},
   "outputs": [],
   "source": [
    "mu = 1e-3  # location parameter of lognormal distribution"
   ]
  },
  {
   "cell_type": "markdown",
   "metadata": {},
   "source": [
    "## [Step 0](https://www.arpm.co/lab/redirect.php?permalink=s_risk_neutral_density-implementation-step00): Upload data"
   ]
  },
  {
   "cell_type": "code",
   "execution_count": null,
   "metadata": {},
   "outputs": [],
   "source": [
    "path = '~/databases/temporary-databases/'\n",
    "db_simcall = pd.read_csv(path+'db_simcall.csv', index_col=0)\n",
    "k_j = db_simcall.k_j.values\n",
    "s_omega_j = db_simcall.s_omega_j.values\n",
    "v_call = db_simcall.v_call.values\n",
    "db_tools = pd.read_csv(path+'db_simcall_tools.csv', index_col=0)\n",
    "s_tnow = db_tools.s_tnow.values[0]\n",
    "delta_k = db_tools.delta_s.values[0]\n",
    "delta_t = db_tools.delta_t.values[0]\n",
    "r = db_tools.r.values[0]\n",
    "sigma2 = db_tools.sigma2.values[0]"
   ]
  },
  {
   "cell_type": "markdown",
   "metadata": {},
   "source": [
    "## [Step 1](https://www.arpm.co/lab/redirect.php?permalink=s_risk_neutral_density-implementation-step01): Compute the normalized underlying probabilities"
   ]
  },
  {
   "cell_type": "code",
   "execution_count": null,
   "metadata": {},
   "outputs": [],
   "source": [
    "scale_p = s_tnow * np.exp((mu - sigma2 ** 2 / 2) * delta_t)\n",
    "p = lognorm.cdf(k_j + 3 * delta_k / 2, sigma2*np.sqrt(delta_t), scale=scale_p) - \\\n",
    "    lognorm.cdf(k_j + delta_k / 2, sigma2*np.sqrt(delta_t), scale=scale_p)\n",
    "p = p / np.sum(p)"
   ]
  },
  {
   "cell_type": "markdown",
   "metadata": {},
   "source": [
    "## [Step 2](https://www.arpm.co/lab/redirect.php?permalink=s_risk_neutral_density-implementation-step02): Compute risk-neutral probabilities"
   ]
  },
  {
   "cell_type": "code",
   "execution_count": null,
   "metadata": {},
   "outputs": [],
   "source": [
    "j_ = len(k_j)  # number of scenarios (=number of basis call options)\n",
    "\n",
    "delta2_vcall = np.zeros(j_)\n",
    "for j in range(j_-2):\n",
    "    delta2_vcall[j] = (v_call[j+2]-2*v_call[j+1]+v_call[j])/delta_k**2\n",
    "\n",
    "delta2_vcall[-2] = (-2*v_call[-1] + v_call[-2])/delta_k**2\n",
    "delta2_vcall[-1] = v_call[-1]/delta_k**2\n",
    "\n",
    "p_rn = delta_k*delta2_vcall*np.exp(-delta_t*r)"
   ]
  },
  {
   "cell_type": "markdown",
   "metadata": {},
   "source": [
    "## [Step 3](https://www.arpm.co/lab/redirect.php?permalink=s_risk_neutral_density-implementation-step03): Compute pdf"
   ]
  },
  {
   "cell_type": "code",
   "execution_count": null,
   "metadata": {},
   "outputs": [],
   "source": [
    "s_low =s_omega_j[0]\n",
    "s_up = s_omega_j[-1]  # upper bound of underlying at the horizon\n",
    "s_omega_j_ = np.linspace(s_low, s_up, 100000)\n",
    "f_s = lognorm.pdf(s_omega_j_, sigma2 * np.sqrt(delta_t), scale=scale_p)"
   ]
  },
  {
   "cell_type": "markdown",
   "metadata": {},
   "source": [
    "## [Step 4](https://www.arpm.co/lab/redirect.php?permalink=s_risk_neutral_density-implementation-step04): Compute risk-neutral pdf"
   ]
  },
  {
   "cell_type": "code",
   "execution_count": null,
   "metadata": {},
   "outputs": [],
   "source": [
    "scale_q = s_tnow * np.exp((r - sigma2 ** 2 / 2) * delta_t)\n",
    "f_q_s = lognorm.pdf(s_omega_j_, sigma2 * np.sqrt(delta_t), scale=scale_q)"
   ]
  },
  {
   "cell_type": "markdown",
   "metadata": {},
   "source": [
    "## Plots"
   ]
  },
  {
   "cell_type": "code",
   "execution_count": null,
   "metadata": {},
   "outputs": [],
   "source": [
    "fig = plt.figure(figsize=(1280.0/72.0, 720.0/72.0), dpi=72.0)\n",
    "plt.style.use('arpm')\n",
    "\n",
    "# plot histograms\n",
    "plt.bar(s_omega_j, p / delta_k, width=delta_k, facecolor='none', edgecolor='b',\n",
    "        label='simulated real world probability')\n",
    "plt.bar(s_omega_j, p_rn / delta_k, width=delta_k, facecolor='none', edgecolor='g',\n",
    "        linestyle='--', label='simulated risk-neutral probability')\n",
    "\n",
    "# plot pdfs\n",
    "plt.plot(s_omega_j_, f_s, 'b', lw=1.5, label='analytical real world pdf')\n",
    "plt.plot(s_omega_j_, f_q_s, 'g--', lw=1.5, label='analytical risk-neutral pdf')\n",
    "plt.xlabel('$S_{t_{\\mathit{hor}}}$', fontsize = 24, labelpad=10)\n",
    "plt.ylabel('pdf', fontsize = 24, labelpad=10)\n",
    "plt.legend(fontsize = 23)\n",
    "plt.xticks(fontsize = 18)\n",
    "plt.yticks(fontsize = 18)\n",
    "\n",
    "add_logo(fig, location=4, set_fig_size=False)"
   ]
  }
 ],
 "metadata": {
  "jupytext": {
   "encoding": "# -*- coding: utf-8 -*-",
   "executable": "/usr/bin/env python3"
  },
  "kernelspec": {
   "display_name": "Python 3",
   "language": "python",
   "name": "python3"
  }
 },
 "nbformat": 4,
 "nbformat_minor": 4
}
