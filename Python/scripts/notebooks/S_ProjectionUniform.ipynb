{
 "cells": [
  {
   "cell_type": "markdown",
   "metadata": {},
   "source": [
    "# S_ProjectionUniform [<img src=\"https://www.arpm.co/lab/icons/icon_permalink.png\" width=30 height=30 style=\"display: inline;\">](https://www.arpm.co/lab/redirect.php?code=S_ProjectionUniform&codeLang=Python)\n",
    "For details, see [here](https://www.arpm.co/lab/redirect.php?permalink=ExUniformProjection)."
   ]
  },
  {
   "cell_type": "markdown",
   "metadata": {},
   "source": [
    "## Prepare the environment"
   ]
  },
  {
   "cell_type": "code",
   "execution_count": null,
   "metadata": {},
   "outputs": [],
   "source": [
    "import os\n",
    "import os.path as path\n",
    "import sys\n",
    "\n",
    "sys.path.append(path.abspath('../../functions-legacy'))\n",
    "from collections import namedtuple\n",
    "\n",
    "from numpy import arange, array, ones, sqrt, real\n",
    "from numpy import min as npmin, max as npmax\n",
    "\n",
    "from scipy.stats import norm\n",
    "from scipy.io import loadmat\n",
    "\n",
    "import matplotlib.pyplot as plt\n",
    "from matplotlib.pyplot import figure, plot, legend, ylabel, \\\n",
    "    xlabel, title\n",
    "\n",
    "plt.style.use('seaborn')\n",
    "\n",
    "from CONFIG import GLOBAL_DB, TEMPORARY_DB\n",
    "from ARPM_utils import save_plot, struct_to_dict\n",
    "from ProjDFFT import ProjDFFT"
   ]
  },
  {
   "cell_type": "markdown",
   "metadata": {},
   "source": [
    "## Upload databases db_Uniform"
   ]
  },
  {
   "cell_type": "code",
   "execution_count": null,
   "metadata": {},
   "outputs": [],
   "source": [
    "try:\n",
    "    db = loadmat(os.path.join(GLOBAL_DB, 'db_Uniform'), squeeze_me=True)\n",
    "except FileNotFoundError:\n",
    "    db = loadmat(os.path.join(TEMPORARY_DB, 'db_Uniform'), squeeze_me=True)\n",
    "\n",
    "UniformStrategy = struct_to_dict(db['UniformStrategy'])"
   ]
  },
  {
   "cell_type": "markdown",
   "metadata": {},
   "source": [
    "## Select the time series of cumulative P&L and set an horizon tau = 20"
   ]
  },
  {
   "cell_type": "code",
   "execution_count": null,
   "metadata": {},
   "outputs": [],
   "source": [
    "x = UniformStrategy.cumPL\n",
    "\n",
    "t_ = 4  #\n",
    "tau = 20  # investment horizon expressed in days\n",
    "k_ = 2**11  # coarseness level for projection"
   ]
  },
  {
   "cell_type": "markdown",
   "metadata": {},
   "source": [
    "## Set the parameters of the one-step uniform distribution"
   ]
  },
  {
   "cell_type": "code",
   "execution_count": null,
   "metadata": {},
   "outputs": [],
   "source": [
    "mu = 1/2  # mean\n",
    "sigma = 1 / sqrt(12)  # standard deviation\n",
    "par = namedtuple('par', 'mu sigma')\n",
    "par.mu = mu\n",
    "par.sigma = sigma"
   ]
  },
  {
   "cell_type": "markdown",
   "metadata": {},
   "source": [
    "## Compute the projected moments to the horizon"
   ]
  },
  {
   "cell_type": "code",
   "execution_count": null,
   "metadata": {},
   "outputs": [],
   "source": [
    "#moments to horizon\n",
    "mu_tau = mu*tau\n",
    "sigma_tau = sigma*sqrt(tau)"
   ]
  },
  {
   "cell_type": "markdown",
   "metadata": {},
   "source": [
    "## Use function ProjFFT to compute the projected pdf to the horizon"
   ]
  },
  {
   "cell_type": "code",
   "execution_count": null,
   "metadata": {},
   "outputs": [],
   "source": [
    "epsi_hat_tau, f_hat_tau,_ = ProjDFFT(None, None, tau, k_, 'Uniform', par)\n",
    "epsi_tau = mu_tau*ones((1, len(epsi_hat_tau))) + sigma*epsi_hat_tau\n",
    "f_tau = f_hat_tau / sigma\n",
    "f_tau = real(f_tau)"
   ]
  },
  {
   "cell_type": "markdown",
   "metadata": {},
   "source": [
    "## Compute the normal approximation of the pdf"
   ]
  },
  {
   "cell_type": "code",
   "execution_count": null,
   "metadata": {},
   "outputs": [],
   "source": [
    "phi_tau = norm.pdf(epsi_tau, mu*tau, sigma*sqrt(tau))\n",
    "\n",
    "# center around x[t_end-1]\n",
    "epsi_tau = epsi_tau + x[t_-1]"
   ]
  },
  {
   "cell_type": "markdown",
   "metadata": {},
   "source": [
    "## Create a figure"
   ]
  },
  {
   "cell_type": "code",
   "execution_count": null,
   "metadata": {},
   "outputs": [],
   "source": [
    "s_ = 2  # number of plotted observation before projecting time\n",
    "\n",
    "# axes settings\n",
    "m = min([npmin(x[t_ - 2:t_]), x[t_]-4*sigma_tau])\n",
    "M = max([npmax(x[t_ - 2:t_]), x[t_] + mu_tau + 4.5*sigma_tau])\n",
    "t = arange(-s_,tau+1)\n",
    "max_scale = tau / 4\n",
    "scale = max_scale / npmax(f_tau)\n",
    "\n",
    "# preliminary computations\n",
    "tau_red = arange(0,tau+0.1,0.1)\n",
    "mu_red = x[t_-1] + mu*tau_red\n",
    "sigma_red = sigma*sqrt(tau_red)\n",
    "redline1 = mu_red + 2*sigma_red\n",
    "redline2 = mu_red - 2*sigma_red\n",
    "\n",
    "f = figure()\n",
    "# color settings\n",
    "lgrey = [0.8, 0.8, 0.8]  # light grey\n",
    "dgrey = [0.2, 0.2, 0.2]  # dark grey\n",
    "lblue = [0.27, 0.4, 0.9]  # light blue\n",
    "plt.axis([t[0], t[-1] + 1.3*max_scale, m, M])\n",
    "xlabel('time (days)')\n",
    "ylabel('Risk driver')\n",
    "plt.grid(False)\n",
    "title('Uniform distribution projection')\n",
    "plt.xticks(arange(-2, 21))\n",
    "# standard deviation lines\n",
    "p_red_1 = plot(tau_red, redline1, color='r', lw = 2)  # red bars (+2 std dev)\n",
    "p_red_2 = plot(tau_red, redline2, color='r', lw = 2)  # red bars (-2std dev)\n",
    "p_mu = plot([0, tau], [x[t_-1], x[t_-1] + mu_tau], color='g', lw = 2)  # expectation\n",
    "# histogram pdf plot\n",
    "for k in range(len(f_tau)):\n",
    "    plot([tau, tau+f_tau[k]*scale], [epsi_tau[0,k], epsi_tau[0,k]], color=lgrey, lw=2)\n",
    "f_border = plot(tau+f_tau*scale, epsi_tau[0], color=dgrey, lw=1)\n",
    "# normal approximation plot\n",
    "phi_border = plot(tau+phi_tau[0]*scale, epsi_tau[0], color=lblue, lw=1)\n",
    "# plot of last s_ observations\n",
    "for k in range(s_):\n",
    "    plot([t[k], t[k + 1]], [x[t_ - s_ + k - 1], x[t_ - s_ + k]], color=lgrey, lw=2)\n",
    "    plot(t[k], x[t_ - s_ + k - 1], color='b',linestyle='none', marker = '.',markersize=15)\n",
    "plot(t[s_], x[t_-1], color='b',linestyle='none', marker = '.',markersize=15)\n",
    "plot([tau, tau], x[t_-1] + mu_tau + array([-2*sigma_tau, 2*sigma_tau]), color='r', lw = 2)\n",
    "legend(handles=[f_border[0], phi_border[0], p_mu[0], p_red_1[0]],labels=['horizon pdf','normal approximation','expectation',' + / - 2st.deviation']);\n",
    "plt.show()\n",
    "# save_plot(ax=plt.gca(), extension='png', scriptname=os.path.basename('.')[:-3], count=plt.get_fignums()[-1])"
   ]
  }
 ],
 "metadata": {
  "jupytext": {
   "encoding": "# -*- coding: utf-8 -*-",
   "executable": "/usr/bin/env python3"
  },
  "kernelspec": {
   "display_name": "Python 3",
   "language": "python",
   "name": "python3"
  }
 },
 "nbformat": 4,
 "nbformat_minor": 4
}
