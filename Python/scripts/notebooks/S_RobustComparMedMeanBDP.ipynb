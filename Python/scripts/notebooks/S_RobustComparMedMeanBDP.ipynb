{
 "cells": [
  {
   "cell_type": "markdown",
   "metadata": {},
   "source": [
    "# S_RobustComparMedMeanBDP [<img src=\"https://www.arpm.co/lab/icons/icon_permalink.png\" width=30 height=30 style=\"display: inline;\">](https://www.arpm.co/lab/redirect.php?code=S_RobustComparMedMeanBDP&codeLang=Python)\n",
    "For details, see [here](https://www.arpm.co/lab/redirect.php?permalink=ExerBDPMedMean)."
   ]
  },
  {
   "cell_type": "markdown",
   "metadata": {},
   "source": [
    "## Prepare the environment"
   ]
  },
  {
   "cell_type": "code",
   "execution_count": null,
   "metadata": {},
   "outputs": [],
   "source": [
    "import os\n",
    "import os.path as path\n",
    "import sys\n",
    "\n",
    "sys.path.append(path.abspath('../../functions-legacy'))\n",
    "from collections import namedtuple\n",
    "\n",
    "from numpy import ones, zeros, sin, pi, where, percentile, linspace, cov, abs, round, mean, log, tile, array\n",
    "from numpy import max as npmax\n",
    "from numpy.random import rand\n",
    "\n",
    "from scipy.io import loadmat\n",
    "\n",
    "import matplotlib.pyplot as plt\n",
    "from matplotlib.pyplot import plot, bar, legend, xlim, ylim, subplots, xlabel, yticks\n",
    "\n",
    "plt.style.use('seaborn')\n",
    "\n",
    "from CONFIG import GLOBAL_DB, TEMPORARY_DB\n",
    "from ARPM_utils import save_plot, struct_to_dict\n",
    "from HistogramFP import HistogramFP\n",
    "from Price2AdjustedPrice import Price2AdjustedPrice\n",
    "from GarchResiduals import GarchResiduals\n",
    "from HFPquantile import HFPquantile"
   ]
  },
  {
   "cell_type": "markdown",
   "metadata": {},
   "source": [
    "## Upload the database"
   ]
  },
  {
   "cell_type": "code",
   "execution_count": null,
   "metadata": {},
   "outputs": [],
   "source": [
    "try:\n",
    "    db = loadmat(os.path.join(GLOBAL_DB, 'db_Stocks'), squeeze_me=True)\n",
    "except FileNotFoundError:\n",
    "    db = loadmat(os.path.join(TEMPORARY_DB, 'db_Stocks'), squeeze_me=True)\n",
    "\n",
    "StocksSPX = struct_to_dict(db['StocksSPX'])"
   ]
  },
  {
   "cell_type": "markdown",
   "metadata": {},
   "source": [
    "## Compute the dividend-adjusted returns of one stock"
   ]
  },
  {
   "cell_type": "code",
   "execution_count": null,
   "metadata": {},
   "outputs": [],
   "source": [
    "t_ = 200\n",
    "\n",
    "_, x = Price2AdjustedPrice(StocksSPX.Date.reshape(1,-1), StocksSPX.Prices[[25],:], StocksSPX.Dividends[25])  # Cisco Systems Inc\n",
    "date = StocksSPX.Date[1:]\n",
    "\n",
    "x = x[[0],-t_:]\n",
    "date = date[-t_:]"
   ]
  },
  {
   "cell_type": "markdown",
   "metadata": {},
   "source": [
    "## Compute the invariants using GARCH(1,1) fit"
   ]
  },
  {
   "cell_type": "code",
   "execution_count": null,
   "metadata": {},
   "outputs": [],
   "source": [
    "epsi = GarchResiduals(x)"
   ]
  },
  {
   "cell_type": "markdown",
   "metadata": {},
   "source": [
    "## Perturb the dataset and compute mean and median"
   ]
  },
  {
   "cell_type": "code",
   "execution_count": null,
   "metadata": {},
   "outputs": [],
   "source": [
    "k_ = 3  # number of static figures\n",
    "sigma2_hist = cov(epsi)\n",
    "threshold = sigma2_hist*1.7\n",
    "p_hist = ones((1, t_)) / t_  # historical probabilities\n",
    "n_bins = int(round(20*log(epsi.shape[1])))\n",
    "\n",
    "option = namedtuple('option', 'n_bins')\n",
    "option.n_bins = n_bins\n",
    "hgram_hist, x_hist = HistogramFP(epsi, p_hist, option)  # historical histogram\n",
    "mu_hist = mean(epsi, 1)[0]  # historical mean\n",
    "m_hist = HFPquantile(epsi, array([[0.5]])).squeeze()  # historical median\n",
    "\n",
    "change = where(abs(epsi - m_hist) > threshold)  # selection of observations to be changed\n",
    "\n",
    "u_1 = rand(1, t_)\n",
    "u_2 = rand(1, t_)\n",
    "u_3 = linspace(2*pi, 4*pi, k_)\n",
    "epsi_bdp = tile(epsi, (k_, 1))\n",
    "hgram_bdp = zeros((k_, n_bins))\n",
    "x_bdp = zeros((k_, n_bins+1))\n",
    "mu_bdp = zeros((k_, 1))\n",
    "m_bdp = zeros((k_, 1))\n",
    "for k in range(k_):\n",
    "    # shift observations\n",
    "    epsi_bdp[k, change[1]] = epsi[change]+u_1[change]*abs(epsi[change]-m_hist) * sin(u_2[change]*u_3[k])\n",
    "    # compute histogram, mean and median from the new dataset\n",
    "    [hgram_bdp[k,:], x_bdp[k, :]] = HistogramFP(epsi_bdp[[k],:], p_hist, option)  # bdp histogram\n",
    "    mu_bdp[k] = mean(epsi_bdp[[k], :], 1)  # bdp mean\n",
    "    m_bdp[k] = HFPquantile(epsi_bdp[[k], :], array([[0.5]]))  # bdp median"
   ]
  },
  {
   "cell_type": "markdown",
   "metadata": {},
   "source": [
    "## Generate static figures showing how the sample mean sensibly varies by perturbing a portion of the dataset, while the median remains the same"
   ]
  },
  {
   "cell_type": "code",
   "execution_count": null,
   "metadata": {},
   "outputs": [],
   "source": [
    "colhist = [.8, .8, .8]\n",
    "c2 = [.05, .45, .7]\n",
    "Ymax = max(1.1*npmax(hgram_bdp),1.1*npmax(hgram_hist))\n",
    "Xlim = [percentile(epsi, 100 * 0.007), percentile(epsi, 100 * 0.9965)]\n",
    "# for k in range(k_):\n",
    "k = 0\n",
    "\n",
    "# figure settings\n",
    "f,ax = subplots(3,1)\n",
    "# histogram\n",
    "plt.sca(ax[0])\n",
    "b1 = bar(x_bdp[k, :-1], hgram_bdp[k, :],width=x_bdp[k, 1]-x_bdp[k,0], facecolor=colhist,edgecolor= [0.65, 0.65, 0.65])\n",
    "b2 = bar(x_hist[:-1], hgram_hist[0],width=x_hist[1]-x_hist[0], edgecolor=[.06, .31, .75], facecolor='none',lw=1)\n",
    "xlim(Xlim)\n",
    "ylim([0, Ymax])\n",
    "yticks([])\n",
    "l = legend(['shifting observations','historical'])\n",
    "# perturbed observations plot\n",
    "plt.sca(ax[1])\n",
    "plot(Xlim, [0,0], color='k',lw=.2)\n",
    "obs_hist = plot(epsi_bdp[k,:], zeros(t_), markersize=4,markeredgecolor= [.6, .6, .6], markerfacecolor= [.6,.6,.6],\n",
    "                marker='o',linestyle='none')\n",
    "obs_shifted = plot(epsi_bdp[k, change], zeros(len(change)), markersize=2,markeredgecolor= [.3, .3, .3],\n",
    "                   markerfacecolor= [.3, .3, .3], marker='o',linestyle='none')\n",
    "mean_plot = plot([mu_bdp[k], mu_bdp[k]], [0, 0.4], color= [.9, .3, 0], lw=5)\n",
    "median_plot = plot([m_bdp[k], m_bdp[k]], [-0.4, 0], color = c2, lw = 5)\n",
    "xlim(Xlim)\n",
    "ylim([-0.5, 1])\n",
    "xlabel('Shifted observations',color='k')\n",
    "qT3 = 'sample mean =  % 3.1f x 10$^{-2}$'%(mu_bdp[k]*10**2)\n",
    "qT4 = 'sample median =  % 3.1f x 10$^{-2}$'%(m_bdp[k]*10**2)\n",
    "plt.text(Xlim[1], 0.7, qT3, color= [.9, .3, 0],horizontalalignment='right',verticalalignment='top')\n",
    "plt.text(Xlim[1], 0.9, qT4, color=c2,horizontalalignment='right',verticalalignment='top')\n",
    "leg = legend(handles=[obs_hist[0], obs_shifted[0], mean_plot[0], median_plot[0]],\n",
    "             labels=['Hist. obs.','Shifted obs.','Sample mean','Sample med.'], loc='upper left',ncol=2)\n",
    "# historical observations plot\n",
    "plt.sca(ax[2])\n",
    "plot(Xlim, [0,0], color='k',lw=.2)#\n",
    "plot(epsi, zeros((1, t_)),markersize=4,markeredgecolor='b',markerfacecolor='b',marker='o',linestyle='none')\n",
    "plot([mu_hist, mu_hist], [0, 0.4], color= [.9, .3, 0], lw=5)\n",
    "plot([m_hist, m_hist], [-0.4, 0], color=c2, lw=5)\n",
    "xlim(Xlim)\n",
    "ylim([-0.5, 1])\n",
    "xlabel('Historical observations',color='k')\n",
    "qT1 = 'sample mean =  % 3.1f x 10$^{-2}$'%(mu_hist*10**2)\n",
    "qT2 = 'sample median =  % 3.1f x 10$^{-2}$'%(m_hist*10**2)\n",
    "plt.text(Xlim[1], 0.7, qT1, color= [.9, .3, 0],horizontalalignment='right',verticalalignment='top')\n",
    "plt.text(Xlim[1], 0.9, qT2, color=c2,horizontalalignment='right',verticalalignment='top')\n",
    "# histogram\n",
    "plt.sca(ax[0])\n",
    "b1 = bar(x_bdp[k, :-1], hgram_bdp[k, :], width=x_bdp[k, 1]-x_bdp[k, 0], facecolor=colhist,edgecolor= [0.65, 0.65, 0.65])\n",
    "b2 = bar(x_hist[:-1], hgram_hist[0], width=x_hist[1]-x_hist[0], edgecolor=[.06, .31, .75], facecolor='none',lw=1)\n",
    "xlim(Xlim)\n",
    "ylim([0, Ymax])\n",
    "yticks([])\n",
    "l = legend(['shifting observations','historical'])\n",
    "plt.tight_layout();\n",
    "# save_plot(ax=plt.gca(), extension='png', scriptname=os.path.basename('.')[:-3], count=plt.get_fignums()[-1])"
   ]
  }
 ],
 "metadata": {
  "jupytext": {
   "encoding": "# -*- coding: utf-8 -*-",
   "executable": "/usr/bin/env python3"
  },
  "kernelspec": {
   "display_name": "Python 3",
   "language": "python",
   "name": "python3"
  }
 },
 "nbformat": 4,
 "nbformat_minor": 4
}
