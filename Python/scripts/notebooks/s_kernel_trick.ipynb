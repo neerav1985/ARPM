{
 "cells": [
  {
   "cell_type": "markdown",
   "metadata": {},
   "source": [
    "# s_kernel_trick [<img src=\"https://www.arpm.co/lab/icons/icon_permalink.png\" width=30 height=30 style=\"display: inline;\">](https://www.arpm.co/lab/redirect.php?code=s_kernel_trick&codeLang=Python)\n",
    "For details, see [here](https://www.arpm.co/lab/redirect.php?permalink=s_kernel_trick)."
   ]
  },
  {
   "cell_type": "code",
   "execution_count": null,
   "metadata": {},
   "outputs": [],
   "source": [
    "import numpy as np\n",
    "import pandas as pd\n",
    "import matplotlib.pyplot as plt\n",
    "from mpl_toolkits.mplot3d import Axes3D\n",
    "\n",
    "from arpym.tools.logo import add_logo"
   ]
  },
  {
   "cell_type": "markdown",
   "metadata": {},
   "source": [
    "## [Input parameters](https://www.arpm.co/lab/redirect.php?permalink=s_kernel_trick-parameters)"
   ]
  },
  {
   "cell_type": "code",
   "execution_count": null,
   "metadata": {},
   "outputs": [],
   "source": [
    "phi2 = lambda z, v, gamma : np.exp(-gamma*np.linalg.norm(z-v))\n",
    "gamma = 1"
   ]
  },
  {
   "cell_type": "markdown",
   "metadata": {},
   "source": [
    "## [Step 0](https://www.arpm.co/lab/redirect.php?permalink=s_kernel_trick-implementation-step00): Load input and target scenarios"
   ]
  },
  {
   "cell_type": "code",
   "execution_count": null,
   "metadata": {},
   "outputs": [],
   "source": [
    "data = pd.read_csv('~/databases/temporary-databases/db_ml_variables.csv')\n",
    "j_ = int(data['j_in_sample'][0])\n",
    "z = data['z'].values.reshape(j_, 2)\n",
    "j_ = 150  # reduce dimensionality of the problem to speed up the computations\n",
    "z = z[:j_, :]\n",
    "x = data['x'].values[:j_]"
   ]
  },
  {
   "cell_type": "markdown",
   "metadata": {},
   "source": [
    "## [Step 1](https://www.arpm.co/lab/redirect.php?permalink=s_kernel_trick-implementation-step01): Compute Gram matrix"
   ]
  },
  {
   "cell_type": "code",
   "execution_count": null,
   "metadata": {},
   "outputs": [],
   "source": [
    "phi2_gram = np.zeros((j_, j_))\n",
    "for i in range(j_):\n",
    "    for j in range(j_):\n",
    "        phi2_gram[i, j] = phi2(z[i], z[j], gamma)\n",
    "inv_phi2_gram = np.linalg.inv(phi2_gram)"
   ]
  },
  {
   "cell_type": "markdown",
   "metadata": {},
   "source": [
    "## [Step 2](https://www.arpm.co/lab/redirect.php?permalink=s_kernel_trick-implementation-step02): Kernel trick"
   ]
  },
  {
   "cell_type": "code",
   "execution_count": null,
   "metadata": {},
   "outputs": [],
   "source": [
    "premult = x.T@inv_phi2_gram\n",
    "chi = lambda zz : np.array([premult@np.array([phi2(z[j], zz[i], gamma) for j in range(z.shape[0])]) for i in range(zz.shape[0])])"
   ]
  },
  {
   "cell_type": "markdown",
   "metadata": {},
   "source": [
    "## Plots"
   ]
  },
  {
   "cell_type": "code",
   "execution_count": null,
   "metadata": {},
   "outputs": [],
   "source": [
    "plt.style.use('arpm')\n",
    "\n",
    "idxx0 = np.where(np.abs(z[:, 0]) <= 2)[0]\n",
    "idxx1 = np.where(np.abs(z[:, 1]) <= 2)[0]\n",
    "idxx = np.intersect1d(idxx0, idxx1)\n",
    "lightblue = [0.2, 0.6, 1]\n",
    "lightgreen = [0.6, 0.8, 0]\n",
    "\n",
    "# Auxiliary functions\n",
    "\n",
    "def muf(z1, z2):\n",
    "    return z1 - np.tanh(10*z1*z2)\n",
    "\n",
    "def sigf(z1, z2):\n",
    "    return np.sqrt(np.minimum(z1**2, 1/(10*np.pi)))\n",
    "\n",
    "plt.figure()\n",
    "mydpi = 72.0\n",
    "fig = plt.figure(figsize=(1280.0/mydpi, 720.0/mydpi), dpi=mydpi)\n",
    "\n",
    "# Parameters\n",
    "n_classes = 2\n",
    "plot_colors = \"rb\"\n",
    "plot_step = 0.08\n",
    "\n",
    "z_1_min = z[:, 0].min()\n",
    "z_1_max = z[:, 0].max()\n",
    "z_2_min = z[:, 1].min()\n",
    "z_2_max = z[:, 1].max()\n",
    "zz1, zz2 = np.meshgrid(np.arange(z_1_min, z_1_max, plot_step),\n",
    "                       np.arange(z_2_min, z_2_max, plot_step))\n",
    "\n",
    "\n",
    "# Conditional expectation surface\n",
    "ax2 = plt.subplot2grid((1, 2), (0, 0), projection='3d')\n",
    "zz1, zz2 = np.meshgrid(np.arange(-2, 2, plot_step), np.arange(-2, 2, plot_step))\n",
    "ax2.plot_surface(zz1, zz2, muf(zz1, zz2), color=lightblue, alpha=0.7,\n",
    "                 label='$\\mu(z_1, z_2)$')\n",
    "\n",
    "ax2.scatter3D(z[idxx, 0], z[idxx, 1],\n",
    "              x[idxx], s=10, color=lightblue, alpha=1,\n",
    "              label='$(Z_1, Z_2, X)$')\n",
    "ax2.set_xlabel('$Z_1$')\n",
    "ax2.set_ylabel('$Z_2$')\n",
    "ax2.set_zlabel('$X$')\n",
    "ax2.set_title('Conditional expectation surface', fontweight='bold')\n",
    "ax2.set_xlim([-2, 2])\n",
    "ax2.set_ylim([-2, 2])\n",
    "ax2.set_zlim([-3, 3])\n",
    "# ax.legend()\n",
    "\n",
    "# Fitted surface\n",
    "ax3 = plt.subplot2grid((1, 2), (0, 1), projection='3d')\n",
    "x_plot = chi(np.c_[zz1.ravel(), zz2.ravel()])\n",
    "x_plot = x_plot.reshape(zz1.shape)\n",
    "ax3.plot_surface(zz1, zz2, x_plot, alpha=0.5, color=lightgreen)\n",
    "ax3.scatter3D(z[idxx, 0], z[idxx, 1],\n",
    "              chi(z[idxx, :]), s=10,\n",
    "              alpha=1, color=lightgreen)\n",
    "ax3.set_xlabel('$Z_1$')\n",
    "ax3.set_ylabel('$Z_2$')\n",
    "ax3.set_zlabel('$\\overline{X}$')\n",
    "plt.title('Fitted surface ', fontweight='bold')\n",
    "ax3.set_xlim([-2, 2])\n",
    "ax3.set_ylim([-2, 2])\n",
    "#ax3.set_zlim([-3, 3])\n",
    "\n",
    "add_logo(fig, size_frac_x=1/8)\n",
    "plt.tight_layout()"
   ]
  }
 ],
 "metadata": {
  "jupytext": {
   "cell_metadata_filter": "-all",
   "main_language": "python",
   "notebook_metadata_filter": "-all"
  }
 },
 "nbformat": 4,
 "nbformat_minor": 4
}
