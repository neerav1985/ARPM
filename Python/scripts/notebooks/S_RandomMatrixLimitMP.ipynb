{
 "cells": [
  {
   "cell_type": "markdown",
   "metadata": {},
   "source": [
    "# S_RandomMatrixLimitMP [<img src=\"https://www.arpm.co/lab/icons/icon_permalink.png\" width=30 height=30 style=\"display: inline;\">](https://www.arpm.co/lab/redirect.php?code=S_RandomMatrixLimitMP&codeLang=Python)\n",
    "For details, see [here](https://www.arpm.co/lab/redirect.php?permalink=MarchenkoPasturLimit)."
   ]
  },
  {
   "cell_type": "markdown",
   "metadata": {},
   "source": [
    "## Prepare the environment"
   ]
  },
  {
   "cell_type": "code",
   "execution_count": null,
   "metadata": {},
   "outputs": [],
   "source": [
    "import os\n",
    "import os.path as path\n",
    "import sys\n",
    "\n",
    "sys.path.append(path.abspath('../../functions-legacy'))\n",
    "\n",
    "from numpy import ceil, cov, log, exp, sqrt, histogram\n",
    "from numpy.linalg import eig\n",
    "from numpy.random import rand, randn\n",
    "\n",
    "from scipy.stats import expon, lognorm\n",
    "\n",
    "import matplotlib.pyplot as plt\n",
    "from matplotlib.pyplot import figure, plot, bar, legend, title\n",
    "\n",
    "plt.style.use('seaborn')\n",
    "\n",
    "from ARPM_utils import save_plot\n",
    "from MarchenkoPastur import MarchenkoPastur\n",
    "\n",
    "# initialize variables\n",
    "t_ = 1500\n",
    "i_ = 300"
   ]
  },
  {
   "cell_type": "markdown",
   "metadata": {},
   "source": [
    "## Generate samples"
   ]
  },
  {
   "cell_type": "code",
   "execution_count": null,
   "metadata": {},
   "outputs": [],
   "source": [
    "X_1 = randn(i_, t_)  # ## standard normal\n",
    "X_2 = expon.rvs(scale=1, size=(i_, t_)) - 1  # exponential\n",
    "X_3 = (rand(i_, t_) - 0.5)*sqrt(12)  # uniform\n",
    "X_4 = (lognorm.rvs(1,scale=1, size=(i_, t_)) - exp(0.5)) / sqrt(exp(2) - exp(1))  # log-normal"
   ]
  },
  {
   "cell_type": "markdown",
   "metadata": {},
   "source": [
    "## Compute the covariance matrices"
   ]
  },
  {
   "cell_type": "code",
   "execution_count": null,
   "metadata": {},
   "outputs": [],
   "source": [
    "Sigma2_1 = cov(X_1, ddof=1)  # ## standard normal\n",
    "Sigma2_2 = cov(X_2, ddof=1)  # exponential\n",
    "Sigma2_3 = cov(X_3, ddof=1)  # uniform\n",
    "Sigma2_4 = cov(X_4, ddof=1)  # log-normal"
   ]
  },
  {
   "cell_type": "markdown",
   "metadata": {},
   "source": [
    "## Compute the sample eigenvalues and the corresponding normalized histograms"
   ]
  },
  {
   "cell_type": "code",
   "execution_count": null,
   "metadata": {},
   "outputs": [],
   "source": [
    "nbins = int(ceil(10*log(i_)))\n",
    "\n",
    "# standard normal\n",
    "Lambda2_1,_ = eig(Sigma2_1)\n",
    "hgram_1, x_1 = histogram(Lambda2_1, nbins)\n",
    "d = x_1[1] - x_1[0]\n",
    "hgram_1 = hgram_1 / (d*i_)\n",
    "# exponential\n",
    "Lambda2_2,_ = eig(Sigma2_2)\n",
    "hgram_2, x_2 = histogram(Lambda2_2, nbins)\n",
    "d = x_2[1] - x_2[0]\n",
    "hgram_2 = hgram_2 / (d*i_)\n",
    "# uniform\n",
    "Lambda2_3,_= eig(Sigma2_3)\n",
    "hgram_3, x_3 = histogram(Lambda2_3, nbins)\n",
    "d = x_3[1] - x_3[0]\n",
    "hgram_3 = hgram_3 / (d*i_)\n",
    "# log-normal\n",
    "Lambda2_4,_ = eig(Sigma2_4)\n",
    "hgram_4, x_4 = histogram(Lambda2_4, nbins)\n",
    "d = x_4[1] - x_4[0]\n",
    "hgram_4 = hgram_4 / (d*i_)"
   ]
  },
  {
   "cell_type": "markdown",
   "metadata": {},
   "source": [
    "## Compute the Marchenko-Pastur limit of the empirical eigenvalues' distribution"
   ]
  },
  {
   "cell_type": "code",
   "execution_count": null,
   "metadata": {},
   "outputs": [],
   "source": [
    "q = t_ / i_\n",
    "\n",
    "l_ = 1500  # coarseness\n",
    "x_mp, y_mp, _ = MarchenkoPastur(q, l_, 1)"
   ]
  },
  {
   "cell_type": "markdown",
   "metadata": {},
   "source": [
    "## Create figures"
   ]
  },
  {
   "cell_type": "code",
   "execution_count": null,
   "metadata": {},
   "outputs": [],
   "source": [
    "# standard normal\n",
    "figure()\n",
    "bar(x_1[:-1], hgram_1,width=x_1[1]-x_1[0], facecolor= [.7, .7, .7], edgecolor= [.5, .5, .5],label='Sample eigenvalues')\n",
    "plot(x_mp, y_mp, 'r',lw= 2,label='Marchenko-Pastur limit')\n",
    "title('Standard Normal variables')\n",
    "legend();\n",
    "# save_plot(ax=plt.gca(), extension='png', scriptname=os.path.basename('.')[:-3], count=plt.get_fignums()[-1])\n",
    "\n",
    "# exponential\n",
    "figure()\n",
    "bar(x_2[:-1], hgram_2,width=x_2[1]-x_2[0], facecolor= [.7, .7, .7], edgecolor= [.5, .5, .5],label='Sample eigenvalues')\n",
    "plot(x_mp, y_mp, 'r',lw= 2,label='Marchenko-Pastur limit')\n",
    "title('Exponential variables')\n",
    "legend();\n",
    "# save_plot(ax=plt.gca(), extension='png', scriptname=os.path.basename('.')[:-3], count=plt.get_fignums()[-1])\n",
    "\n",
    "# uniform\n",
    "figure()\n",
    "bar(x_3[:-1], hgram_3,width=x_3[1]-x_3[0], facecolor= [.7, .7, .7], edgecolor= [.5, .5, .5],label='Sample eigenvalues')\n",
    "plot(x_mp, y_mp, 'r',lw= 2,label='Marchenko-Pastur limit')\n",
    "title('Uniform variables')\n",
    "legend();\n",
    "# save_plot(ax=plt.gca(), extension='png', scriptname=os.path.basename('.')[:-3], count=plt.get_fignums()[-1])\n",
    "\n",
    "# log-normal\n",
    "figure()\n",
    "bar(x_4[:-1], hgram_4,width=x_4[1]-x_4[0], facecolor= [.7, .7, .7], edgecolor= [.5, .5, .5],label='Sample eigenvalues')\n",
    "plot(x_mp, y_mp, 'r',lw= 2,label='Marchenko-Pastur limit')\n",
    "title('Log-normal variables')\n",
    "legend();\n",
    "# save_plot(ax=plt.gca(), extension='png', scriptname=os.path.basename('.')[:-3], count=plt.get_fignums()[-1])"
   ]
  }
 ],
 "metadata": {
  "jupytext": {
   "encoding": "# -*- coding: utf-8 -*-",
   "executable": "/usr/bin/env python3"
  },
  "kernelspec": {
   "display_name": "Python 3",
   "language": "python",
   "name": "python3"
  }
 },
 "nbformat": 4,
 "nbformat_minor": 4
}
