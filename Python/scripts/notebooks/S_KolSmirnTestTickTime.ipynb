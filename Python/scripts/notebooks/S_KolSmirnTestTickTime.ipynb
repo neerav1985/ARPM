{
 "cells": [
  {
   "cell_type": "markdown",
   "metadata": {},
   "source": [
    "This script performs the Kolmogorov-Smirnov test for invariance on the\n",
    "increments of the cumulative number of trades.\n",
    "-"
   ]
  },
  {
   "cell_type": "markdown",
   "metadata": {},
   "source": [
    "## For details, see [here](https://www.arpm.co/lab/redirect.php?permalink=exer-poissoniid-copy-1)."
   ]
  },
  {
   "cell_type": "code",
   "execution_count": null,
   "metadata": {},
   "outputs": [],
   "source": [
    "# ## Prepare the environment"
   ]
  },
  {
   "cell_type": "code",
   "execution_count": null,
   "metadata": {},
   "outputs": [],
   "source": [
    "import os\n",
    "import os.path as path\n",
    "import sys\n",
    "\n",
    "sys.path.append(path.abspath('../../functions-legacy'))\n",
    "\n",
    "import numpy as np\n",
    "from numpy import arange, zeros, where, cumsum, linspace, isnan\n",
    "from numpy import sum as npsum\n",
    "\n",
    "from scipy.io import loadmat\n",
    "\n",
    "import matplotlib.pyplot as plt\n",
    "from matplotlib.pyplot import figure\n",
    "\n",
    "plt.style.use('seaborn')\n",
    "\n",
    "from CONFIG import GLOBAL_DB, TEMPORARY_DB\n",
    "from ARPM_utils import save_plot, date_mtop, struct_to_dict, time_mtop\n",
    "from TradeQuoteProcessing import TradeQuoteProcessing\n",
    "from TradeQuoteSpreading import TradeQuoteSpreading\n",
    "from TestKolSmirn import TestKolSmirn\n",
    "from InvarianceTestKolSmirn import InvarianceTestKolSmirn"
   ]
  },
  {
   "cell_type": "markdown",
   "metadata": {},
   "source": [
    "## Upload the database"
   ]
  },
  {
   "cell_type": "code",
   "execution_count": null,
   "metadata": {},
   "outputs": [],
   "source": [
    "try:\n",
    "    db = loadmat(os.path.join(GLOBAL_DB, 'db_US_10yr_Future_quotes_and_trades'),squeeze_me=True)\n",
    "except FileNotFoundError:\n",
    "    db = loadmat(os.path.join(TEMPORARY_DB, 'db_US_10yr_Future_quotes_and_trades'),squeeze_me=True)\n",
    "\n",
    "quotes = struct_to_dict(db['quotes'])\n",
    "trades = struct_to_dict(db['trades'])"
   ]
  },
  {
   "cell_type": "markdown",
   "metadata": {},
   "source": [
    "## Process the time series, refining the raw data coming from the database"
   ]
  },
  {
   "cell_type": "code",
   "execution_count": null,
   "metadata": {},
   "outputs": [],
   "source": [
    "dates_quotes = quotes.time_names  #\n",
    "t = quotes.time  # time vector of quotes\n",
    "p_bid = quotes.bid  # bid prices\n",
    "p_ask = quotes.ask  # ask prices\n",
    "q_bid = quotes.bsiz  # bid volumes\n",
    "q_ask = quotes.asiz  # ask volumes\n",
    "numords_bid = quotes.bnumords  # number of separate limit orders on bid\n",
    "numords_ask = quotes.anumords  # number of separate limit orders on ask\n",
    "\n",
    "dates_trades = trades.time_names  #\n",
    "t_k = trades.time  # time vector of trades\n",
    "p_last = trades.price  # last transaction prices\n",
    "delta_q = trades.siz  # flow of traded contracts' volumes\n",
    "delta_sgn = trades.aggress  # trade sign flow\n",
    "match = trades.mtch  # match events: - the \"1\" value indicates the \"start of a match event\" while zeros indicates the \"continuation of a match event\"\n",
    "#              - the db is ordered such that the start of a match event is in the last column corresponding to that event\n",
    "\n",
    "t, _, q_ask, p_ask, q_bid, p_bid, t_k, _, p_last, delta_q, delta_sgn, vargout = TradeQuoteProcessing(t,dates_quotes,\n",
    "  q_ask,p_ask,q_bid,p_bid,t_k,dates_trades,p_last,delta_q,delta_sgn,match,{1:numords_ask,2:numords_bid})\n",
    "numords_ask, numords_bid = vargout[1], vargout[2]\n",
    "t = t.flatten()\n",
    "t_k = t_k.flatten()\n",
    "\n",
    "q = cumsum(delta_q)  # cumulative volume of traded contracts\n",
    "sgn = cumsum(delta_sgn)  # cumulative trade sign"
   ]
  },
  {
   "cell_type": "markdown",
   "metadata": {},
   "source": [
    "## Compute the realized time series of new events delta_k_t with time unit of one second"
   ]
  },
  {
   "cell_type": "code",
   "execution_count": null,
   "metadata": {},
   "outputs": [],
   "source": [
    "i_t0 = 0  # index of window's starting time\n",
    "i_t1 = len(t)-1  # index of window's last time\n",
    "ms = (date_mtop(t[i_t1]) - date_mtop(t[i_t0])).seconds*1000 + (date_mtop(t[i_t1])-date_mtop(t[i_t0])).microseconds/1000 +1\n",
    "# total len of time window expressed in wall-clock-time\n",
    "t_ms = linspace(t[i_t0],t[i_t1],int(ms))\n",
    "\n",
    "k_0 = where(t_k >= t[i_t0])[0][0]  # index of the first trade within the time window\n",
    "k_1 = where(t_k <= t[i_t1])[0][-1]  # index of the last trade within the time window\n",
    "\n",
    "# from numba import double, jit\n",
    "#\n",
    "# fastTradeQuoteSpreading = jit((double[:,:],double[:,:],double[:,:],double[:,:],double[:,:],double[:,:],double[:,:],double[:,:],double[:,:],double[:,:],double[:,:]),\n",
    "#                               (double[:], double[:], double[:], double[:], double[:], double[:], double[:], double[:],double[:], double[:]))\\\n",
    "#     (TradeQuoteSpreading)\n",
    "\n",
    "_, _, _, _, p_last, *_ = TradeQuoteSpreading(t_ms, t[i_t0:i_t1], q_ask[0,i_t0:i_t1], p_ask[0,i_t0:i_t1], q_bid[0,i_t0:i_t1],\n",
    "                                               p_bid[0,i_t0:i_t1], t_k[k_0:k_1], p_last[0,k_0:k_1], q[k_0:k_1],\n",
    "                                               sgn[k_0:k_1])\n",
    "\n",
    "delta_t = 1000  # time unit of one second\n",
    "t_span = arange(0, len(t_ms), delta_t)\n",
    "delta_k_t = zeros((1, len(t_span)-1))\n",
    "for k in range(len(t_span) - 1):\n",
    "    delta_k_t[0, k] = npsum(~isnan(p_last[0,t_span[k]:t_span[k+1]]))"
   ]
  },
  {
   "cell_type": "markdown",
   "metadata": {},
   "source": [
    "## Perform the Kolmogorov-Smirnov test"
   ]
  },
  {
   "cell_type": "code",
   "execution_count": null,
   "metadata": {},
   "outputs": [],
   "source": [
    "s_1, s_2, int, F_1, F_2, up, low = TestKolSmirn(delta_k_t)\n",
    "\n",
    "# position settings\n",
    "# ## Plot the results of the IID test\n",
    "\n",
    "pos = {}\n",
    "pos[1] = [0.1300, 0.74, 0.3347, 0.1717]\n",
    "pos[2] = [0.5703, 0.74, 0.3347, 0.1717]\n",
    "pos[3] = [0.1300, 0.11, 0.7750, 0.5]\n",
    "pos[4] = [0.03, 1.71]\n",
    "\n",
    "# create figure\n",
    "f = figure()\n",
    "InvarianceTestKolSmirn(delta_k_t, s_1, s_2, int, F_1, F_2, up, low, pos, 'Kolmogorov-Smirnov invariance test',\n",
    "                       [-0.3, 0]);\n",
    "\n",
    "# save_plot(ax=plt.gca(), extension='png', scriptname=os.path.basename('.')[:-3], count=plt.get_fignums()[-1])\n"
   ]
  }
 ],
 "metadata": {
  "jupytext": {
   "cell_metadata_filter": "-all",
   "encoding": "# -*- coding: utf-8 -*-",
   "executable": "/usr/bin/env python3",
   "main_language": "python",
   "notebook_metadata_filter": "-all"
  }
 },
 "nbformat": 4,
 "nbformat_minor": 4
}
