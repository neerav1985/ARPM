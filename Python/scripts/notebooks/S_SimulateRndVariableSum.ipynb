{
 "cells": [
  {
   "cell_type": "markdown",
   "metadata": {},
   "source": [
    "# S_SimulateRndVariableSum [<img src=\"https://www.arpm.co/lab/icons/icon_permalink.png\" width=30 height=30 style=\"display: inline;\">](https://www.arpm.co/lab/redirect.php?code=S_SimulateRndVariableSum&codeLang=Python)\n",
    "For details, see [here](https://www.arpm.co/lab/redirect.php?permalink=SumRndVarIndepPractice)."
   ]
  },
  {
   "cell_type": "markdown",
   "metadata": {},
   "source": [
    "## Prepare the environment"
   ]
  },
  {
   "cell_type": "code",
   "execution_count": null,
   "metadata": {},
   "outputs": [],
   "source": [
    "import os\n",
    "import os.path as path\n",
    "import sys\n",
    "\n",
    "sys.path.append(path.abspath('../../functions-legacy'))\n",
    "from collections import namedtuple\n",
    "\n",
    "from numpy import arange, ones, percentile, round, log, linspace, max as npmax, exp\n",
    "\n",
    "from scipy.stats import chi2, expon, lognorm, gamma\n",
    "\n",
    "import matplotlib.pyplot as plt\n",
    "from matplotlib.pyplot import figure, plot, bar, legend, title\n",
    "\n",
    "plt.style.use('seaborn')\n",
    "\n",
    "from ARPM_utils import save_plot\n",
    "from HistogramFP import HistogramFP"
   ]
  },
  {
   "cell_type": "markdown",
   "metadata": {},
   "source": [
    "## Simulate Exponential(1/2) and Chi[3] distributions and compute their sum"
   ]
  },
  {
   "cell_type": "code",
   "execution_count": null,
   "metadata": {},
   "outputs": [],
   "source": [
    "j_ = 100000  # len of samples\n",
    "\n",
    "lam = 1 / 2  # exponential parameter (can't be changed)\n",
    "nu = 4  # degrees of freedom for the Chi-squared distribution\n",
    "\n",
    "Y = expon.rvs(scale=1 / lam, size=(1, j_))\n",
    "Z = chi2.rvs(nu, size=(1, j_))\n",
    "\n",
    "X = Y + Z"
   ]
  },
  {
   "cell_type": "markdown",
   "metadata": {},
   "source": [
    "## Compute the sample for a Gamma([6-1, 1-1]) distribution\n",
    "## pay attention to the parameterizations"
   ]
  },
  {
   "cell_type": "code",
   "execution_count": null,
   "metadata": {},
   "outputs": [],
   "source": [
    "min_x = 0\n",
    "max_x = npmax(X) * 1.2\n",
    "l_ = 2000\n",
    "t = linspace(min_x, max_x, l_)\n",
    "\n",
    "X_ = gamma.pdf(t, (nu + 2) / 2, scale=2)"
   ]
  },
  {
   "cell_type": "markdown",
   "metadata": {},
   "source": [
    "## Simulate a log-normal random variable R and compute the sample for T=R+Y"
   ]
  },
  {
   "cell_type": "code",
   "execution_count": null,
   "metadata": {},
   "outputs": [],
   "source": [
    "mu = 3\n",
    "sigma = 0.25\n",
    "\n",
    "R = lognorm.rvs(sigma, scale=exp(mu),size=(1, j_))\n",
    "\n",
    "T = R + Y"
   ]
  },
  {
   "cell_type": "markdown",
   "metadata": {},
   "source": [
    "## Create figures"
   ]
  },
  {
   "cell_type": "code",
   "execution_count": null,
   "metadata": {},
   "outputs": [],
   "source": [
    "col = [0.94, 0.3, 0]\n",
    "colhist = [.9, .9, .9]\n",
    "\n",
    "# plot X\n",
    "figure()\n",
    "x_l = -0.1 * max_x\n",
    "x_u = percentile(X, 100 * (1 - 10 ** -4))\n",
    "\n",
    "p = ones((1, X.shape[1])) / X.shape[1]\n",
    "option = namedtuple('option', 'n_bins')\n",
    "\n",
    "option.n_bins = round(7 * log(j_))\n",
    "hgram, xbins = HistogramFP(X, p, option)\n",
    "h1 = bar(xbins[:-1], hgram[0], width=xbins[1]-xbins[0], facecolor=colhist, edgecolor='k')\n",
    "plt.axis([x_l, x_u, 0, npmax(hgram) * 1.2])\n",
    "h2 = plot(t, X_, color=col, lw=2)\n",
    "title('Sum of random variables via simulation')\n",
    "legend(['sum of exponential and chi-squared random var.', 'corresponding analytical gamma distribution']);\n",
    "# save_plot(ax=plt.gca(), extension='png', scriptname=os.path.basename('.')[:-3], count=plt.get_fignums()[-1])\n",
    "\n",
    "# plot T\n",
    "figure()\n",
    "t_l = -0.1 * npmax(T)\n",
    "t_u = percentile(T, 100 * (1 - 10 ** -4))\n",
    "p = ones((1, T.shape[1])) / T.shape[1]\n",
    "hgram2, xbins2 = HistogramFP(T, p, option)\n",
    "h3 = bar(xbins2[:-1], hgram2[0], width=xbins2[1]-xbins2[0], facecolor=colhist, edgecolor='k')\n",
    "plt.axis([t_l, t_u, 0, npmax(hgram2) * 1.2])\n",
    "title('Sum of random variables via simulation')\n",
    "legend(['sum of exponential and log-normal random variables']);\n",
    "# save_plot(ax=plt.gca(), extension='png', scriptname=os.path.basename('.')[:-3], count=plt.get_fignums()[-1])"
   ]
  }
 ],
 "metadata": {
  "jupytext": {
   "encoding": "# -*- coding: utf-8 -*-",
   "executable": "/usr/bin/env python3"
  },
  "kernelspec": {
   "display_name": "Python 3",
   "language": "python",
   "name": "python3"
  }
 },
 "nbformat": 4,
 "nbformat_minor": 4
}
