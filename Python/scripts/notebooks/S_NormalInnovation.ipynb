{
 "cells": [
  {
   "cell_type": "markdown",
   "metadata": {},
   "source": [
    "# S_NormalInnovation [<img src=\"https://www.arpm.co/lab/icons/icon_permalink.png\" width=30 height=30 style=\"display: inline;\">](https://www.arpm.co/lab/redirect.php?code=S_NormalInnovation&codeLang=Python)\n",
    "For details, see [here](https://www.arpm.co/lab/redirect.php?permalink=EBInnovaNorm)."
   ]
  },
  {
   "cell_type": "markdown",
   "metadata": {},
   "source": [
    "## Prepare the environment"
   ]
  },
  {
   "cell_type": "code",
   "execution_count": null,
   "metadata": {},
   "outputs": [],
   "source": [
    "import os\n",
    "import os.path as path\n",
    "import sys\n",
    "\n",
    "sys.path.append(path.abspath('../../functions-legacy'))\n",
    "from collections import namedtuple\n",
    "\n",
    "import numpy as np\n",
    "from numpy import array, ones, linspace, round, log, sqrt, r_\n",
    "\n",
    "from scipy.stats import norm\n",
    "\n",
    "import matplotlib.pyplot as plt\n",
    "from matplotlib.pyplot import figure, plot, bar, legend, xlim, scatter, ylabel, \\\n",
    "    xlabel\n",
    "\n",
    "plt.style.use('seaborn')\n",
    "\n",
    "from ARPM_utils import save_plot\n",
    "from FPmeancov import FPmeancov\n",
    "from PlotTwoDimEllipsoid import PlotTwoDimEllipsoid\n",
    "from HistogramFP import HistogramFP\n",
    "from NormalScenarios import NormalScenarios\n",
    "from NormInnov import NormInnov\n",
    "\n",
    "# inputs\n",
    "j_ = 10000  # simulations\n",
    "mu = array([[0.91], [0.41]])  # expectation\n",
    "svec = array([[2.84], [1.2]])  # volatilities\n",
    "rho = -0.87  # correlation\n",
    "s2 = np.diagflat(svec)@array([[1, rho], [rho, 1]])@np.diagflat(svec)  # covariance matrix"
   ]
  },
  {
   "cell_type": "markdown",
   "metadata": {},
   "source": [
    "## Generate bivariate normal draws"
   ]
  },
  {
   "cell_type": "code",
   "execution_count": null,
   "metadata": {},
   "outputs": [],
   "source": [
    "Y,_ = NormalScenarios(mu, s2, j_, 'Riccati')\n",
    "X = Y[[0]]\n",
    "Z = Y[[1]]"
   ]
  },
  {
   "cell_type": "markdown",
   "metadata": {},
   "source": [
    "## Compute the sample of innovation"
   ]
  },
  {
   "cell_type": "code",
   "execution_count": null,
   "metadata": {},
   "outputs": [],
   "source": [
    "Psi = NormInnov(r_[X, Z], mu, svec, rho)\n",
    "\n",
    "p = ones((1, j_)) / j_\n",
    "[mu_ZPsi, s2_ZPsi] = FPmeancov(r_[Z, Psi], p)  # expectation and covariance matrix of Z and Psi"
   ]
  },
  {
   "cell_type": "markdown",
   "metadata": {},
   "source": [
    "## Visualize empirical pdf of innovation"
   ]
  },
  {
   "cell_type": "code",
   "execution_count": null,
   "metadata": {},
   "outputs": [],
   "source": [
    "nbins = round(7*log(j_))\n",
    "figure()\n",
    "p = ones((1, Psi.shape[1])) / Psi.shape[1]\n",
    "option = namedtuple('option', 'n_bins')\n",
    "option.n_bins = nbins\n",
    "[n, psi] = HistogramFP(Psi, p, option)\n",
    "bar(psi[:-1], n[0], width=psi[1]-psi[0], facecolor=[.8, .8, .8], edgecolor='k', label='empirical pdf of $\\Psi$')\n",
    "psimax = max(psi)\n",
    "psimin = min(psi)\n",
    "psigrid = linspace(psimin, psimax, 100)\n",
    "f = norm.pdf(psigrid, mu_ZPsi[1], sqrt(s2_ZPsi[1, 1]))\n",
    "plot(psigrid, f, color='m', lw= 2, label='pdf of standard normal')\n",
    "legend()\n",
    "xlim([psimin, psimax]);\n",
    "# save_plot(ax=plt.gca(), extension='png', scriptname=os.path.basename('.')[:-3], count=plt.get_fignums()[-1])"
   ]
  },
  {
   "cell_type": "markdown",
   "metadata": {},
   "source": [
    "## Display scatter plot and location-dispersion ellipsoids"
   ]
  },
  {
   "cell_type": "code",
   "execution_count": null,
   "metadata": {},
   "outputs": [],
   "source": [
    "figure()\n",
    "scatter(Z, Psi, 0.5, [.5, .5, .5], '*')\n",
    "PlotTwoDimEllipsoid(mu_ZPsi, s2_ZPsi, 2, 1, [], 'r', 2)\n",
    "xlabel('Z')\n",
    "ylabel('$\\Psi$');\n",
    "# save_plot(ax=plt.gca(), extension='png', scriptname=os.path.basename('.')[:-3], count=plt.get_fignums()[-1])"
   ]
  }
 ],
 "metadata": {
  "jupytext": {
   "encoding": "# -*- coding: utf-8 -*-",
   "executable": "/usr/bin/env python3"
  },
  "kernelspec": {
   "display_name": "Python 3",
   "language": "python",
   "name": "python3"
  }
 },
 "nbformat": 4,
 "nbformat_minor": 4
}
