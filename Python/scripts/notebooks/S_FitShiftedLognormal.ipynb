{
 "cells": [
  {
   "cell_type": "markdown",
   "metadata": {},
   "source": [
    "# S_FitShiftedLognormal [<img src=\"https://www.arpm.co/lab/icons/icon_permalink.png\" width=30 height=30 style=\"display: inline;\">](https://www.arpm.co/lab/redirect.php?code=S_FitShiftedLognormal&codeLang=Python)\n",
    "For details, see [here](https://www.arpm.co/lab/redirect.php?permalink=ExerMMSLN_fig)."
   ]
  },
  {
   "cell_type": "markdown",
   "metadata": {},
   "source": [
    "## Prepare the environment"
   ]
  },
  {
   "cell_type": "code",
   "execution_count": null,
   "metadata": {},
   "outputs": [],
   "source": [
    "import os\n",
    "import os.path as path\n",
    "import sys\n",
    "\n",
    "sys.path.append(path.abspath('../../functions-legacy'))\n",
    "from collections import namedtuple\n",
    "\n",
    "from numpy import arange, array, sign, sort, diff, round, log, exp, sqrt, r_, real\n",
    "from numpy import sum as npsum, min as npmin, max as npmax\n",
    "\n",
    "from scipy.stats import lognorm\n",
    "from scipy.io import loadmat\n",
    "\n",
    "import matplotlib.pyplot as plt\n",
    "from matplotlib.pyplot import figure, plot, bar, legend, xlim, ylim, scatter, ylabel, \\\n",
    "    title, xticks, yticks\n",
    "import matplotlib.dates as mdates\n",
    "\n",
    "plt.style.use('seaborn')\n",
    "\n",
    "from CONFIG import GLOBAL_DB, TEMPORARY_DB\n",
    "from ARPM_utils import save_plot, struct_to_dict, date_mtop, datenum\n",
    "from HistogramFP import HistogramFP\n",
    "from EffectiveScenarios import EffectiveScenarios\n",
    "from MMFP import MMFP\n",
    "from ColorCodedFP import ColorCodedFP"
   ]
  },
  {
   "cell_type": "markdown",
   "metadata": {},
   "source": [
    "## Upload database"
   ]
  },
  {
   "cell_type": "code",
   "execution_count": null,
   "metadata": {},
   "outputs": [],
   "source": [
    "try:\n",
    "    db = loadmat(os.path.join(GLOBAL_DB, 'db_OptionStrategy'), squeeze_me=True)\n",
    "except FileNotFoundError:\n",
    "    db = loadmat(os.path.join(TEMPORARY_DB, 'db_OptionStrategy'), squeeze_me=True)\n",
    "\n",
    "OptionStrategy = struct_to_dict(db['OptionStrategy'])"
   ]
  },
  {
   "cell_type": "markdown",
   "metadata": {},
   "source": [
    "## Compute the realized time series of daily P&L's"
   ]
  },
  {
   "cell_type": "code",
   "execution_count": null,
   "metadata": {},
   "outputs": [],
   "source": [
    "cum_pnl = OptionStrategy.cumPL\n",
    "pnl = diff(cum_pnl)\n",
    "\n",
    "HFP = namedtuple('HFP', 'Scenarios, FlexProbs')\n",
    "HFP.Scenarios = pnl\n",
    "\n",
    "t_ = len(pnl)\n",
    "t = arange(t_)\n",
    "date = OptionStrategy.Dates\n",
    "date = date[1:]"
   ]
  },
  {
   "cell_type": "code",
   "execution_count": null,
   "metadata": {},
   "outputs": [],
   "source": [
    "# ## Set the Flexible Probabilities as exponential decay with half life 500 days and compute the Effective Number of Scenarios\n",
    "lam = log(2) / 500\n",
    "flex_probs = exp(-lam*arange(t_, 1 + -1, -1)).reshape(1,-1)\n",
    "flex_probs = flex_probs / npsum(flex_probs)\n",
    "typ = namedtuple('type','Entropy')\n",
    "typ.Entropy = 'Exp'\n",
    "ens = EffectiveScenarios(flex_probs, typ)"
   ]
  },
  {
   "cell_type": "code",
   "execution_count": null,
   "metadata": {},
   "outputs": [],
   "source": [
    "# ## Fit the Shifted lognormal model\n",
    "\n",
    "HFP.FlexProbs = flex_probs\n",
    "Parameters = MMFP(HFP, 'SLN')\n",
    "mu = real(Parameters.mu)\n",
    "sig2 = real(Parameters.sig2)\n",
    "c = real(Parameters.c)\n",
    "param = r_[mu,sig2,c]"
   ]
  },
  {
   "cell_type": "markdown",
   "metadata": {},
   "source": [
    "## Recover the HFP histogram"
   ]
  },
  {
   "cell_type": "code",
   "execution_count": null,
   "metadata": {},
   "outputs": [],
   "source": [
    "option = namedtuple('option', 'n_bins')\n",
    "option.n_bins = round(10*log(t_))\n",
    "p, x = HistogramFP(pnl.reshape(1,-1), flex_probs, option)"
   ]
  },
  {
   "cell_type": "markdown",
   "metadata": {},
   "source": [
    "## Compute the MMFP pdf"
   ]
  },
  {
   "cell_type": "code",
   "execution_count": null,
   "metadata": {},
   "outputs": [],
   "source": [
    "xx = sort(x)\n",
    "xx = r_[xx, npmax(xx) + arange(0.001,0.051,0.001)]\n",
    "m1 = flex_probs@pnl.T\n",
    "m3 = flex_probs@((pnl - m1) ** 3).T\n",
    "\n",
    "sln = lognorm.pdf(sign(m3)*xx - c, sqrt(sig2), scale=exp(mu))  # fitted pdf\n",
    "\n",
    "date_dt = array([date_mtop(datenum(i)) for i in date])\n",
    "myFmt = mdates.DateFormatter('%d-%b-%Y')\n",
    "date_tick = arange(200-1, t_,820)"
   ]
  },
  {
   "cell_type": "markdown",
   "metadata": {},
   "source": [
    "## Generate the figure"
   ]
  },
  {
   "cell_type": "code",
   "execution_count": null,
   "metadata": {},
   "outputs": [],
   "source": [
    "f = figure()\n",
    "# HFP histogram with MMFP pdf superimposed\n",
    "h1 = plt.subplot(3, 1, 1)\n",
    "b = bar(x[:-1], p[0], width=x[1]-x[0], facecolor=[.8, .8, .8], edgecolor=[.6, .6, .6])\n",
    "bb = plot(xx, sln, lw=2)\n",
    "xlim([npmin(xx), npmax(xx)])\n",
    "ylim([0, max(npmax(p), npmax(sln))])\n",
    "yticks([])\n",
    "P1 = 'Fitted shift.logn.( $\\mu$=%3.1f,$\\sigma^2$=%3.1f,c=%3.2f)'%(real(mu),real(sig2),real(c))\n",
    "l=legend([P1, 'HFP distr.'])\n",
    "# Scatter plot of the pnl with color-coded observations (according to the FP)\n",
    "[CM, C] = ColorCodedFP(flex_probs, npmin(flex_probs), npmax(flex_probs), arange(0,0.71,0.01), 0, 18, [18, 0])\n",
    "h3 = plt.subplot(3,1,2)\n",
    "\n",
    "scatter(date_dt, pnl, 5, c=C, marker='.',cmap=CM)\n",
    "xlim([min(date_dt), max(date_dt)])\n",
    "xticks(date_dt[date_tick])\n",
    "h3.xaxis.set_major_formatter(myFmt)\n",
    "ylim([min(pnl), max(pnl)])\n",
    "ylabel('P&L')\n",
    "# Flexible Probabilities profile\n",
    "h2 = plt.subplot(3,1,3)\n",
    "bb = bar(date_dt,flex_probs[0],facecolor=[.7, .7, .7], edgecolor=[.7, .7, .7])\n",
    "xlim([min(date_dt), max(date_dt)])\n",
    "yticks([])\n",
    "xticks(date_dt[date_tick])\n",
    "h2.xaxis.set_major_formatter(myFmt)\n",
    "ylim([0, 1.3*npmax(flex_probs)])\n",
    "ensT = 'Effective Num.Scenarios =  %3.0f'%ens\n",
    "plt.text(date_dt[60], 1.1*npmax(flex_probs), ensT, color='k',horizontalalignment='left',verticalalignment='bottom')\n",
    "title('FLEXIBLE PROBABILITIES')\n",
    "plt.tight_layout();\n",
    "# save_plot(ax=plt.gca(), extension='png', scriptname=os.path.basename('.')[:-3], count=plt.get_fignums()[-1])"
   ]
  }
 ],
 "metadata": {
  "jupytext": {
   "encoding": "# -*- coding: utf-8 -*-",
   "executable": "/usr/bin/env python3"
  },
  "kernelspec": {
   "display_name": "Python 3",
   "language": "python",
   "name": "python3"
  }
 },
 "nbformat": 4,
 "nbformat_minor": 4
}
