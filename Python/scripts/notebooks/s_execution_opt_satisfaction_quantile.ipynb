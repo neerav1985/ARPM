{
 "cells": [
  {
   "cell_type": "markdown",
   "metadata": {},
   "source": [
    "# s_execution_opt_satisfaction_quantile [<img src=\"https://www.arpm.co/lab/icons/icon_permalink.png\" width=30 height=30 style=\"display: inline;\">](https://www.arpm.co/lab/redirect.php?code=s_execution_opt_satisfaction_quantile&codeLang=Python)\n",
    "For details, see [here](https://www.arpm.co/lab/redirect.php?permalink=eb-plopt_-liquidation-satisfaction)."
   ]
  },
  {
   "cell_type": "code",
   "execution_count": null,
   "metadata": {},
   "outputs": [],
   "source": [
    "import numpy as np\n",
    "import matplotlib.pyplot as plt\n",
    "import pandas as pd\n",
    "from scipy.stats import norm\n",
    "from scipy.integrate import quad\n",
    "\n",
    "from arpym.tools.logo import add_logo"
   ]
  },
  {
   "cell_type": "markdown",
   "metadata": {},
   "source": [
    "## [Input parameters](https://www.arpm.co/lab/redirect.php?permalink=s_execution_opt_satisfaction_quantile-parameters)"
   ]
  },
  {
   "cell_type": "code",
   "execution_count": null,
   "metadata": {},
   "outputs": [],
   "source": [
    "q_now = 0  # starting volume time\n",
    "q_end = 1  # ending volume time\n",
    "h_q_now = 100  # initial holdings\n",
    "h_q_end = 90  # final holdings\n",
    "gamma = 0.110\n",
    "eta = 0.135  \n",
    "sigma = 1.57\n",
    "lam = np.arange(0.01, 1, 0.05)  # mean-variance trade-off penalties\n",
    "c = 0.95  # confidence level\n",
    "k_ = 721  # number of grid points in [q_now, q_end)"
   ]
  },
  {
   "cell_type": "markdown",
   "metadata": {},
   "source": [
    "## [Step 0](https://www.arpm.co/lab/redirect.php?permalink=s_execution_opt_satisfaction_quantile-implementation-step00): Define grid in which Almgren-Chriss trajectories are calculated"
   ]
  },
  {
   "cell_type": "code",
   "execution_count": null,
   "metadata": {},
   "outputs": [],
   "source": [
    "q_grid = np.linspace(q_now, q_end, k_)"
   ]
  },
  {
   "cell_type": "markdown",
   "metadata": {},
   "source": [
    "## [Step 1](https://www.arpm.co/lab/redirect.php?permalink=s_execution_opt_satisfaction_quantile-implementation-step01): Compute the trajectory, the trading rate (speed), the P&L mean and variance, the quantile-based index of satisfaction"
   ]
  },
  {
   "cell_type": "code",
   "execution_count": null,
   "metadata": {},
   "outputs": [],
   "source": [
    "# initializations\n",
    "l_ = len(lam)\n",
    "variance_pl = np.zeros(l_)\n",
    "mean_pl = np.zeros(l_)\n",
    "quantile = np.zeros(l_)\n",
    "traj = np.zeros((k_, l_))\n",
    "\n",
    "const = np.sqrt(lam / eta)*sigma\n",
    "\n",
    "for l in range(l_):\n",
    "    def trajectory(q): return(h_q_now-h_q_end)*np.sinh((const[l])*(q_end-q)) /\\\n",
    "                              np.sinh((const[l])*(q_end-q_now))+h_q_end\n",
    "\n",
    "    def trajectory2(q): return((h_q_now-h_q_end)*np.sinh((const[l])*(q_end-q))\n",
    "                               / np.sinh((const[l])*(q_end-q_now))+h_q_end)**2\n",
    "\n",
    "    def speed2(q): return (-const[l]*(h_q_now-h_q_end)*np.cosh((const[l]) *\n",
    "                           (q_end-q)) / np.sinh((const[l])*(q_end-q_now)))**2\n",
    "    mean_pl[l] = 0.5*gamma*(h_q_end**2-h_q_now**2) - eta*quad(speed2, q_now, q_end)[0]\n",
    "    variance_pl[l] = sigma**2*quad(trajectory2, q_now, q_end)[0]\n",
    "    quantile[l] = norm.ppf(1-c, mean_pl[l],\n",
    "                           np.sqrt(variance_pl[l]))\n",
    "    traj[:, l] = trajectory(q_grid)"
   ]
  },
  {
   "cell_type": "markdown",
   "metadata": {},
   "source": [
    "## [Step 2](https://www.arpm.co/lab/redirect.php?permalink=s_execution_opt_satisfaction_quantile-implementation-step02): Find the value of lam that maximizes the satisfaction."
   ]
  },
  {
   "cell_type": "code",
   "execution_count": null,
   "metadata": {},
   "outputs": [],
   "source": [
    "lambda_star = lam[quantile == np.max(quantile)]  # optimal lambda"
   ]
  },
  {
   "cell_type": "markdown",
   "metadata": {},
   "source": [
    "## Save data"
   ]
  },
  {
   "cell_type": "code",
   "execution_count": null,
   "metadata": {},
   "outputs": [],
   "source": [
    "output = {'k_': pd.Series(k_),\n",
    "          'l_': pd.Series(l_),\n",
    "          'h_q_now': pd.Series(h_q_now),\n",
    "          'h_q_end': pd.Series(h_q_end),\n",
    "          'lam': pd.Series(lam),\n",
    "          'lambda_star': pd.Series(lambda_star),\n",
    "          'q_grid': pd.Series(q_grid),\n",
    "          'traj': pd.Series(traj.reshape((k_*l_,)))}\n",
    "\n",
    "df = pd.DataFrame(output)\n",
    "df.to_csv('~/databases/temporary-databases/\\\n",
    "db_execution_opt_satisfaction_quantile.csv')"
   ]
  },
  {
   "cell_type": "markdown",
   "metadata": {},
   "source": [
    "## Plots"
   ]
  },
  {
   "cell_type": "code",
   "execution_count": null,
   "metadata": {},
   "outputs": [],
   "source": [
    "plt.style.use('arpm')\n",
    "\n",
    "fig, ax = plt.subplots(2, 1)\n",
    "# plot of the optimal trading trajectory and suboptimal trajectories\n",
    "lgrey = [0.6, 0.6, 0.6]  # light grey\n",
    "dgrey = [0.4, 0.4, 0.4]  # dark grey\n",
    "\n",
    "rand_indexes = np.arange(0, l_)\n",
    "rr_ = len(rand_indexes)\n",
    "\n",
    "plt.sca(ax[0])\n",
    "for r in range(rr_):\n",
    "    p1 = plt.plot(np.r_[q_now, q_grid],\n",
    "                  np.r_[h_q_now, traj[:, rand_indexes[r]]],\n",
    "                  color=lgrey,\n",
    "                  label='Suboptimal trajectories on the M-V frontier')\n",
    "\n",
    "p2 = plt.plot(q_grid, traj[:, lam == lambda_star].flatten(), color='r', lw=1.2,\n",
    "              label='Optimal trajectory $\\lambda$ =  % 2.2f' % lambda_star)\n",
    "plt.ylim([h_q_end - 2, h_q_now + 2])\n",
    "plt.xlabel('Time')\n",
    "plt.ylabel('Holdings')\n",
    "plt.title('Optimal trajectory in the Almgren-Chriss model')\n",
    "plt.legend(handles=[p1[0], p2[0]])\n",
    "\n",
    "# plot of the mean-variance frontier\n",
    "plt.sca(ax[1])\n",
    "plt.plot(variance_pl[rand_indexes], mean_pl[rand_indexes], '.',\n",
    "         color=dgrey, markersize=10)\n",
    "plt.plot(variance_pl[lam == lambda_star], mean_pl[lam == lambda_star], '.',\n",
    "         color='r', markersize=15)\n",
    "plt.ylabel('mean')\n",
    "plt.xlabel('variance')\n",
    "plt.title('Mean-Variance frontier')\n",
    "add_logo(fig)\n",
    "plt.tight_layout()"
   ]
  }
 ],
 "metadata": {
  "jupytext": {
   "encoding": "# -*- coding: utf-8 -*-",
   "executable": "/usr/bin/env python3"
  },
  "kernelspec": {
   "display_name": "Python 3",
   "language": "python",
   "name": "python3"
  }
 },
 "nbformat": 4,
 "nbformat_minor": 4
}
