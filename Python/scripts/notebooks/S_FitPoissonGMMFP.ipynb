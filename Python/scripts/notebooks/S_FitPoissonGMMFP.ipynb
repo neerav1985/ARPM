{
 "cells": [
  {
   "cell_type": "markdown",
   "metadata": {},
   "source": [
    "# S_FitPoissonGMMFP [<img src=\"https://www.arpm.co/lab/icons/icon_permalink.png\" width=30 height=30 style=\"display: inline;\">](https://www.arpm.co/lab/redirect.php?code=S_FitPoissonGMMFP&codeLang=Python)\n",
    "For details, see [here](https://www.arpm.co/lab/redirect.php?permalink=ExerGMMpoiss)."
   ]
  },
  {
   "cell_type": "markdown",
   "metadata": {},
   "source": [
    "## Prepare the environment"
   ]
  },
  {
   "cell_type": "code",
   "execution_count": null,
   "metadata": {},
   "outputs": [],
   "source": [
    "import os\n",
    "import os.path as path\n",
    "import sys\n",
    "\n",
    "sys.path.append(path.abspath('../../functions-legacy'))\n",
    "from collections import namedtuple\n",
    "\n",
    "import numpy as np\n",
    "from numpy import arange, where, round, mean, r_, unique, array\n",
    "from numpy import min as npmin, max as npmax\n",
    "\n",
    "from scipy.stats import norm, poisson\n",
    "from scipy.io import loadmat\n",
    "\n",
    "import matplotlib.dates as mdates\n",
    "import matplotlib.pyplot as plt\n",
    "from matplotlib.pyplot import figure, plot, bar, legend, xlim, ylim, scatter, ylabel, \\\n",
    "    title, xticks, yticks\n",
    "\n",
    "plt.style.use('seaborn')\n",
    "\n",
    "from CONFIG import GLOBAL_DB, TEMPORARY_DB\n",
    "from ARPM_utils import save_plot, date_mtop, struct_to_dict\n",
    "from HistogramFP import HistogramFP\n",
    "from ColorCodedFP import ColorCodedFP\n",
    "from IterGenMetMomFP import IterGenMetMomFP\n",
    "from binningHFseries import binningHFseries\n",
    "from BlowSpinFP import BlowSpinFP"
   ]
  },
  {
   "cell_type": "markdown",
   "metadata": {},
   "source": [
    "## Upload database"
   ]
  },
  {
   "cell_type": "code",
   "execution_count": null,
   "metadata": {},
   "outputs": [],
   "source": [
    "try:\n",
    "    db = loadmat(os.path.join(GLOBAL_DB, 'db_US_10yr_Future_quotes_and_trades'), squeeze_me=True)\n",
    "except FileNotFoundError:\n",
    "    db = loadmat(os.path.join(TEMPORARY_DB, 'db_US_10yr_Future_quotes_and_trades'), squeeze_me=True)\n",
    "\n",
    "trades = struct_to_dict(db['trades'])"
   ]
  },
  {
   "cell_type": "markdown",
   "metadata": {},
   "source": [
    "## Comupte the invariants: eps= dn = number of trades in 1-second time intervals"
   ]
  },
  {
   "cell_type": "code",
   "execution_count": null,
   "metadata": {},
   "outputs": [],
   "source": [
    "flag_dt = '1second'\n",
    "trade = unique(trades.time)  # trade time\n",
    "dk, k,*_ = binningHFseries(trade, flag_dt)\n",
    "time = array([date_mtop(i) for i in arange(trade[0], trade[-1], 1.1574e-05)])\n",
    "# time = cellstr((time))\n",
    "time = time[1:]\n",
    "\n",
    "epsi = dk\n",
    "t_ = epsi.shape[1]"
   ]
  },
  {
   "cell_type": "markdown",
   "metadata": {},
   "source": [
    "## Set a Flexible Probabilities scenario using BlowSpinFP"
   ]
  },
  {
   "cell_type": "code",
   "execution_count": null,
   "metadata": {},
   "outputs": [],
   "source": [
    "U = norm.rvs(mean(epsi), 1, size=(1, t_))\n",
    "b = 1\n",
    "s = 0\n",
    "FP1, ens1 = BlowSpinFP(r_[epsi, U], b, s, spinscale=0.2, method='direct')\n",
    "flex_probs = FP1[[b-1 + s],:]\n",
    "ens = ens1[b-1 + s]"
   ]
  },
  {
   "cell_type": "markdown",
   "metadata": {},
   "source": [
    "## Estimate the Poisson distribution parameter lam using GMMFP"
   ]
  },
  {
   "cell_type": "code",
   "execution_count": null,
   "metadata": {},
   "outputs": [],
   "source": [
    "Parameter = IterGenMetMomFP(epsi, flex_probs, 'Poisson', 2)\n",
    "lam = Parameter.lam"
   ]
  },
  {
   "cell_type": "markdown",
   "metadata": {},
   "source": [
    "## HFP histogram"
   ]
  },
  {
   "cell_type": "code",
   "execution_count": null,
   "metadata": {},
   "outputs": [],
   "source": [
    "options = namedtuple('option', 'n_bins')\n",
    "options.n_bins = t_\n",
    "p, x = HistogramFP(epsi, flex_probs, options)\n",
    "p = p*(x[1] - x[0])  # normalization (such that sum(p)==1)\n",
    "\n",
    "j = where(p[0] == 0)[0]\n",
    "p[0,j] = np.NaN\n",
    "x[j] = np.NaN\n",
    "x = round(x)"
   ]
  },
  {
   "cell_type": "markdown",
   "metadata": {},
   "source": [
    "## Fitted Poisson pdf"
   ]
  },
  {
   "cell_type": "code",
   "execution_count": null,
   "metadata": {},
   "outputs": [],
   "source": [
    "fitted_pdf = poisson.pmf(x[~np.isnan(x)], lam)\n",
    "x = x[~np.isnan(x)]\n",
    "p = p[0,~np.isnan(p[0])].reshape(1,-1)"
   ]
  },
  {
   "cell_type": "markdown",
   "metadata": {},
   "source": [
    "## Generate the figure"
   ]
  },
  {
   "cell_type": "code",
   "execution_count": null,
   "metadata": {},
   "outputs": [],
   "source": [
    "myFmt = mdates.DateFormatter('%H:%M:%S')\n",
    "f = figure()\n",
    "# HFP histogram with fitted pdf superimposed\n",
    "ax = plt.subplot2grid((10,1),(0,0),rowspan=4)\n",
    "ax.set_facecolor('white')\n",
    "b = bar(x[:-1], p[0], width=x[1]-x[0],facecolor=[.8, .8, .8], edgecolor=[.6, .6, .6])\n",
    "bb = plot(x, fitted_pdf, marker='.')\n",
    "xlim([npmin(x), npmax(x)])\n",
    "ylim([0, max(npmax(p), npmax(fitted_pdf))])\n",
    "yticks([])\n",
    "P1 = 'Fitted Poisson pdf( $\\lambda$=%3.2f)' % lam\n",
    "legend([P1,'HFP distr.'])\n",
    "# Scatter plot of the tick-time increments with color-coded observations (according to the FP)\n",
    "CM, C = ColorCodedFP(flex_probs, npmin(flex_probs), npmax(flex_probs), arange(0,0.71,0.01), 0, 1, [1, 0])\n",
    "ax = plt.subplot2grid((10,1),(4,0),rowspan=3)\n",
    "# colormap(CM)\n",
    "scatter(time, epsi[0], s=15, c=C, marker='.',cmap=CM)\n",
    "xlim([min(time), max(time)])\n",
    "xticks(time[arange(59,t_-1,120)])\n",
    "ax.xaxis.set_major_formatter(myFmt)\n",
    "ax.set_facecolor('white')\n",
    "ylim([npmin(epsi), npmax(epsi)])\n",
    "ylabel('Tick-time increments')\n",
    "# Flexible Probabilities profile\n",
    "ax = plt.subplot2grid((10,1),(7,0),rowspan=3)\n",
    "bb = bar(time,flex_probs[0],width=time[1].toordinal()-time[0].toordinal(),facecolor=[.7, .7, .7], edgecolor='k')\n",
    "xlim([min(time),max(time)])\n",
    "plt.xticks(time[arange(59,t_-1,120)])\n",
    "plt.yticks([])\n",
    "ax.xaxis.set_major_formatter(myFmt)\n",
    "ax.set_facecolor('white')\n",
    "ylim([0, 1.3*npmax(flex_probs)])\n",
    "ensT = 'Effective Num.Scenarios =  %3.0f' %ens\n",
    "plt.text(time[60], 1.1*npmax(flex_probs), ensT, color='k',horizontalalignment='left',verticalalignment='bottom')\n",
    "title('Flexible Probabilities')\n",
    "plt.tight_layout();\n",
    "# save_plot(ax=plt.gca(), extension='png', scriptname=os.path.basename('.')[:-3], count=plt.get_fignums()[-1])"
   ]
  }
 ],
 "metadata": {
  "jupytext": {
   "encoding": "# -*- coding: utf-8 -*-",
   "executable": "/usr/bin/env python3"
  },
  "kernelspec": {
   "display_name": "Python 3",
   "language": "python",
   "name": "python3"
  }
 },
 "nbformat": 4,
 "nbformat_minor": 4
}
