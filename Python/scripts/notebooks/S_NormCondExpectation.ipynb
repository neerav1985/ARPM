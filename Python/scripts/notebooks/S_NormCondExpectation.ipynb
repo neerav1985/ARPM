{
 "cells": [
  {
   "cell_type": "markdown",
   "metadata": {},
   "source": [
    "# S_NormCondExpectation [<img src=\"https://www.arpm.co/lab/icons/icon_permalink.png\" width=30 height=30 style=\"display: inline;\">](https://www.arpm.co/lab/redirect.php?code=S_NormCondExpectation&codeLang=Python)\n",
    "For details, see [here](https://www.arpm.co/lab/redirect.php?permalink=EBCondExpNorm)."
   ]
  },
  {
   "cell_type": "markdown",
   "metadata": {},
   "source": [
    "## Prepare the environment"
   ]
  },
  {
   "cell_type": "code",
   "execution_count": null,
   "metadata": {},
   "outputs": [],
   "source": [
    "import os\n",
    "import os.path as path\n",
    "import sys\n",
    "\n",
    "sys.path.append(path.abspath('../../functions-legacy'))\n",
    "from collections import namedtuple\n",
    "\n",
    "import numpy as np\n",
    "from numpy import array, ones, linspace, round, log, sqrt\n",
    "from numpy import min as npmin, max as npmax\n",
    "\n",
    "from scipy.stats import norm\n",
    "\n",
    "import matplotlib.pyplot as plt\n",
    "from matplotlib.pyplot import figure, plot, bar, legend, xlim, scatter, ylabel, \\\n",
    "    xlabel\n",
    "\n",
    "plt.style.use('seaborn')\n",
    "\n",
    "from ARPM_utils import save_plot\n",
    "from PlotTwoDimEllipsoid import PlotTwoDimEllipsoid\n",
    "from HistogramFP import HistogramFP\n",
    "from NormalScenarios import NormalScenarios\n",
    "\n",
    "# inputs\n",
    "j_ = 10000  # simulations\n",
    "mu = array([[0.17], [- 2.5]])  # expectation\n",
    "svec = array([[0.4], [1.2]])  # volatilities\n",
    "rho = - 0.8  # correlation\n",
    "s2 = np.diagflat(svec)@array([[1, rho], [rho, 1]])@np.diagflat(svec)  # covariance matrix"
   ]
  },
  {
   "cell_type": "markdown",
   "metadata": {},
   "source": [
    "## Generate bivariate normal simulations"
   ]
  },
  {
   "cell_type": "code",
   "execution_count": null,
   "metadata": {},
   "outputs": [],
   "source": [
    "Y,_ = NormalScenarios(mu, s2, j_, 'Riccati')\n",
    "X = Y[[0]]\n",
    "Z = Y[[1]]"
   ]
  },
  {
   "cell_type": "markdown",
   "metadata": {},
   "source": [
    "## Compute the simulations of conditional expectation"
   ]
  },
  {
   "cell_type": "code",
   "execution_count": null,
   "metadata": {},
   "outputs": [],
   "source": [
    "phiZ = mu[0] + rho*svec[0] / svec[1]*(Z - mu[1])\n",
    "mu_XphiZ = mu[0]*array([[1], [1]])  # joint expectation of X and E{X|Z}\n",
    "pos = rho**2*s2[0, 0]\n",
    "s2_XphiZ = array([[s2[0, 0], pos], [pos, pos]])  # covariance matrix of X and E{X|Z}"
   ]
  },
  {
   "cell_type": "markdown",
   "metadata": {},
   "source": [
    "## Plot the empirical pdf of X and overlay the pdf of the conditional expectation"
   ]
  },
  {
   "cell_type": "code",
   "execution_count": null,
   "metadata": {},
   "outputs": [],
   "source": [
    "nbins = round(7*log(j_))\n",
    "figure()\n",
    "p = ones((1, X.shape[1])) / X.shape[1]\n",
    "option = namedtuple('option', 'n_bins')\n",
    "\n",
    "option.n_bins = nbins\n",
    "[n, x] = HistogramFP(X, p, option)\n",
    "bar(x[:-1], n[0], width=x[1]-x[0], facecolor=[.8, .8, .8], edgecolor='k', label='empirical pdf of X')\n",
    "\n",
    "pz_grid = linspace(npmin(x), npmax(x), 100)\n",
    "f = norm.pdf(pz_grid, mu[0], sqrt(rho ** 2*s2[0, 0]))\n",
    "plot(pz_grid, f, color='r', lw=2, label='analytical pdf of $E\\{X | Z\\}$')\n",
    "xlim([min(x), npmax(x)])\n",
    "legend();\n",
    "# save_plot(ax=plt.gca(), extension='png', scriptname=os.path.basename('.')[:-3], count=plt.get_fignums()[-1])"
   ]
  },
  {
   "cell_type": "markdown",
   "metadata": {},
   "source": [
    "## Display scatter plots of X and the conditional expectation, and their corresponding location-dispersion ellipsoids"
   ]
  },
  {
   "cell_type": "code",
   "execution_count": null,
   "metadata": {},
   "outputs": [],
   "source": [
    "figure()\n",
    "scatter(X, Z, 1, [.8, .8, .8], '*')\n",
    "PlotTwoDimEllipsoid(mu, s2, 2, None, None, 'r', 2)\n",
    "xlabel('X')\n",
    "ylabel('Z');\n",
    "# save_plot(ax=plt.gca(), extension='png', scriptname=os.path.basename('.')[:-3], count=plt.get_fignums()[-1])\n",
    "\n",
    "figure()\n",
    "scatter(X, phiZ, 1, [.8, .8, .8], '*')\n",
    "PlotTwoDimEllipsoid(mu_XphiZ, s2_XphiZ, 2, None, None, 'r', 2)\n",
    "xlabel('X')\n",
    "ylabel('$E\\{X | Z\\} = condexp_X(Z)$');\n",
    "# save_plot(ax=plt.gca(), extension='png', scriptname=os.path.basename('.')[:-3], count=plt.get_fignums()[-1])"
   ]
  }
 ],
 "metadata": {
  "jupytext": {
   "encoding": "# -*- coding: utf-8 -*-",
   "executable": "/usr/bin/env python3"
  },
  "kernelspec": {
   "display_name": "Python 3",
   "language": "python",
   "name": "python3"
  }
 },
 "nbformat": 4,
 "nbformat_minor": 4
}
