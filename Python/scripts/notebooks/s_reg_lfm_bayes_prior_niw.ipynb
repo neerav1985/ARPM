{
 "cells": [
  {
   "cell_type": "markdown",
   "metadata": {},
   "source": [
    "# s_reg_lfm_bayes_prior_niw [<img src=\"https://www.arpm.co/lab/icons/icon_permalink.png\" width=30 height=30 style=\"display: inline;\">](https://www.arpm.co/lab/redirect.php?code=s_reg_lfm_bayes_prior_niw&codeLang=Python)\n",
    "For details, see [here](https://www.arpm.co/lab/redirect.php?permalink=ExFactNIWprior)."
   ]
  },
  {
   "cell_type": "code",
   "execution_count": null,
   "metadata": {},
   "outputs": [],
   "source": [
    "import matplotlib.pyplot as plt\n",
    "from mpl_toolkits.mplot3d import Axes3D\n",
    "import numpy as np\n",
    "from scipy.stats import invwishart, norm, t\n",
    "\n",
    "from arpym.tools.logo import add_logo"
   ]
  },
  {
   "cell_type": "markdown",
   "metadata": {},
   "source": [
    "## [Input parameters](https://www.arpm.co/lab/redirect.php?permalink=s_reg_lfm_bayes_prior_niw-parameters)"
   ]
  },
  {
   "cell_type": "code",
   "execution_count": null,
   "metadata": {},
   "outputs": [],
   "source": [
    "beta_pri = 0.5  # prior location parameter of the loadings\n",
    "sigma2_pri = 3  # prior location parameter of the variance\n",
    "sigma2_zpri = 2  # prior dispersion parameter of the loadings\n",
    "t_pri = 3  # confidence on the prior loadings\n",
    "v_pri = 10  # confidence on the prior variance\n",
    "k_ = 500  # number of grid points"
   ]
  },
  {
   "cell_type": "markdown",
   "metadata": {},
   "source": [
    "## [Step 1](https://www.arpm.co/lab/redirect.php?permalink=s_reg_lfm_bayes_prior_niw-implementation-step01): Compute the expectation and standard deviations of Sigma2 and B"
   ]
  },
  {
   "cell_type": "code",
   "execution_count": null,
   "metadata": {},
   "outputs": [],
   "source": [
    "exp_sigma2 = invwishart.mean(v_pri, v_pri * sigma2_pri)\n",
    "std_sigma2 = np.sqrt(invwishart.var(v_pri, v_pri * sigma2_pri))\n",
    "\n",
    "exp_beta = beta_pri\n",
    "std_beta = np.sqrt(sigma2_pri / (sigma2_zpri * t_pri) * v_pri / (v_pri - 2.))"
   ]
  },
  {
   "cell_type": "markdown",
   "metadata": {},
   "source": [
    "## [Step 2](https://www.arpm.co/lab/redirect.php?permalink=s_reg_lfm_bayes_prior_niw-implementation-step02): Compute the marginal pdf of Sigma2"
   ]
  },
  {
   "cell_type": "code",
   "execution_count": null,
   "metadata": {},
   "outputs": [],
   "source": [
    "s = np.linspace(0.1, exp_sigma2 + 3 * std_sigma2, k_)\n",
    "f_sigma2 = invwishart.pdf(s, v_pri, v_pri * sigma2_pri)"
   ]
  },
  {
   "cell_type": "markdown",
   "metadata": {},
   "source": [
    "## [Step 3](https://www.arpm.co/lab/redirect.php?permalink=s_reg_lfm_bayes_prior_niw-implementation-step03): Compute the marginal pdf of B"
   ]
  },
  {
   "cell_type": "code",
   "execution_count": null,
   "metadata": {},
   "outputs": [],
   "source": [
    "b = np.linspace(exp_beta - 3 * std_beta, exp_beta + 3 * std_beta, k_)\n",
    "f_beta = t.pdf((b - beta_pri) / np.sqrt(sigma2_pri / (sigma2_zpri * t_pri)),\n",
    "               v_pri) / np.sqrt(sigma2_pri / (sigma2_zpri * t_pri))"
   ]
  },
  {
   "cell_type": "markdown",
   "metadata": {},
   "source": [
    "## [Step 4](https://www.arpm.co/lab/redirect.php?permalink=s_reg_lfm_bayes_prior_niw-implementation-step04): Compute the joint pdf of B and Sigma2"
   ]
  },
  {
   "cell_type": "code",
   "execution_count": null,
   "metadata": {},
   "outputs": [],
   "source": [
    "f_joint = np.zeros((k_, k_))\n",
    "for k in range(k_):\n",
    "    f_joint[:, k] = norm.pdf(b, beta_pri, np.sqrt(s[k] /\n",
    "                             (sigma2_zpri * t_pri))) * f_sigma2[k]"
   ]
  },
  {
   "cell_type": "markdown",
   "metadata": {},
   "source": [
    "## Plots"
   ]
  },
  {
   "cell_type": "code",
   "execution_count": null,
   "metadata": {},
   "outputs": [],
   "source": [
    "plt.style.use('arpm')\n",
    "\n",
    "# pdf of Sigma2\n",
    "fig1 = plt.figure()\n",
    "plt.plot(s, f_sigma2, lw=1.5, color='b')\n",
    "text = r'$\\Sigma^{2} \\sim InvWishart(\\nu_{pri},  \\nu_{pri}\\sigma^2_{pri})$' + \\\n",
    "        '\\n\\n' + \\\n",
    "        r'$\\nu_{pri}$=%3.0f, $\\sigma_{pri}^2$=%3.1f' % (v_pri, sigma2_pri)\n",
    "plt.text(0.7 * (s[-1] - s[0]) + s[0],\n",
    "         0.7 * np.max(f_sigma2), text, color='b')\n",
    "plt.xlabel('$\\Sigma^2$')\n",
    "\n",
    "add_logo(fig1, location=1)\n",
    "\n",
    "# pdf of M\n",
    "fig2 = plt.figure()\n",
    "plt.plot(b, f_beta, lw=1.5, color='g')\n",
    "\n",
    "text = r'$B \\sim t (\\nu_{pri},\\beta_{pri},\\sigma_{pri}^2,' + \\\n",
    "        '(t_{pri}\\sigma^2_{Z,pri})^{-1})$' + '\\n\\n' + \\\n",
    "        r'$\\nu_{pri}$=%3.0f, $t_{pri}$=%3.0f' % (v_pri, t_pri) + '\\n' + \\\n",
    "        r'$\\beta_{pri}$=%3.1f, $\\sigma_{pri}^2$=%3.1f, $\\sigma_{Z, pri}^2$=%3.1f' % (beta_pri, sigma2_pri, sigma2_zpri)\n",
    "\n",
    "plt.text(0.7 * (b[-1] - b[0]) + b[0],\n",
    "         0.7 * np.max(f_beta), text, color='g')\n",
    "plt.xlabel('$B$')\n",
    "\n",
    "add_logo(fig2, location=1)\n",
    "\n",
    "# joint pdf\n",
    "fig3 = plt.figure()\n",
    "ax = Axes3D(fig3)\n",
    "\n",
    "x, s = np.meshgrid(b, s)\n",
    "ax.plot_surface(b, s, f_joint.T)\n",
    "ax.view_init(30, -120)\n",
    "ax.set_title('joint pdf')\n",
    "ax.set_xlabel('$B$')\n",
    "ax.set_ylabel('$\\Sigma^2$')\n",
    "\n",
    "add_logo(fig3)"
   ]
  }
 ],
 "metadata": {
  "jupytext": {
   "encoding": "# -*- coding: utf-8 -*-",
   "executable": "/usr/bin/env python3"
  },
  "kernelspec": {
   "display_name": "Python 3",
   "language": "python",
   "name": "python3"
  }
 },
 "nbformat": 4,
 "nbformat_minor": 4
}
