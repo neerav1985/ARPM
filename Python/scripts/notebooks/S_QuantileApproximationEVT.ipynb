{
 "cells": [
  {
   "cell_type": "markdown",
   "metadata": {},
   "source": [
    "# S_QuantileApproximationEVT [<img src=\"https://www.arpm.co/lab/icons/icon_permalink.png\" width=30 height=30 style=\"display: inline;\">](https://www.arpm.co/lab/redirect.php?code=S_QuantileApproximationEVT&codeLang=Python)\n",
    "For details, see [here](https://www.arpm.co/lab/redirect.php?permalink=ExerEVTIII_old)."
   ]
  },
  {
   "cell_type": "markdown",
   "metadata": {},
   "source": [
    "## Prepare the environment"
   ]
  },
  {
   "cell_type": "code",
   "execution_count": null,
   "metadata": {},
   "outputs": [],
   "source": [
    "import os\n",
    "import os.path as path\n",
    "import sys\n",
    "\n",
    "sys.path.append(path.abspath('../../functions-legacy'))\n",
    "\n",
    "from numpy import arange, ones, percentile, r_\n",
    "\n",
    "from scipy.stats import t\n",
    "\n",
    "import matplotlib.pyplot as plt\n",
    "from matplotlib.pyplot import figure, plot, legend, ylabel, \\\n",
    "    xlabel\n",
    "\n",
    "plt.style.use('seaborn')\n",
    "\n",
    "from ARPM_utils import save_plot\n",
    "from FitGenParetoMLFP import FitGenParetoMLFP"
   ]
  },
  {
   "cell_type": "markdown",
   "metadata": {},
   "source": [
    "## Initialize the parameters"
   ]
  },
  {
   "cell_type": "code",
   "execution_count": null,
   "metadata": {},
   "outputs": [],
   "source": [
    "mu = 1\n",
    "sigma = 2\n",
    "nu = 7\n",
    "j_ = 10000\n",
    "\n",
    "p_bar = 0.05  # EVT threshold\n",
    "p = arange(0.001, p_bar+0.001, 0.001)  # probability levels"
   ]
  },
  {
   "cell_type": "markdown",
   "metadata": {},
   "source": [
    "## Analytical computation of the quantile's left tail"
   ]
  },
  {
   "cell_type": "code",
   "execution_count": null,
   "metadata": {},
   "outputs": [],
   "source": [
    "q_an = mu + sigma*t.ppf(p, nu)"
   ]
  },
  {
   "cell_type": "markdown",
   "metadata": {},
   "source": [
    "## Approximation by simulations"
   ]
  },
  {
   "cell_type": "code",
   "execution_count": null,
   "metadata": {},
   "outputs": [],
   "source": [
    "epsi = t.rvs(nu, size=(int(j_ / 2), 1))  # simulations\n",
    "epsi = r_[epsi, - epsi]  # symmetrize simulations\n",
    "epsi = mu + sigma*epsi\n",
    "\n",
    "q_sim = percentile(epsi, p*100)"
   ]
  },
  {
   "cell_type": "markdown",
   "metadata": {},
   "source": [
    "## EVT computation of the quantile's left tail"
   ]
  },
  {
   "cell_type": "code",
   "execution_count": null,
   "metadata": {},
   "outputs": [],
   "source": [
    "epsi_bar = percentile(epsi, p_bar*100)\n",
    "epsi_excess = epsi_bar - epsi[epsi < epsi_bar]\n",
    "\n",
    "csi, sigma = FitGenParetoMLFP(epsi_excess, ones((1, len(epsi_excess))) / len(epsi_excess))\n",
    "q_EVT = epsi_bar - (sigma / csi)*((p / p_bar) ** (-csi) - 1)"
   ]
  },
  {
   "cell_type": "markdown",
   "metadata": {},
   "source": [
    "## Generate figure showing the comparison between the estimated quantile functions"
   ]
  },
  {
   "cell_type": "code",
   "execution_count": null,
   "metadata": {},
   "outputs": [],
   "source": [
    "figure()\n",
    "\n",
    "plot(p, q_an, lw=2.5, color=[.3, .3, .3])\n",
    "plot(p, q_sim, lw=1.7,color=[0.2, .5, 1])\n",
    "plot(p, q_EVT, lw=1.5,color=[.9, .4, 0])\n",
    "legend(['exact','simulations','EVT'])\n",
    "plt.grid(True)\n",
    "xlabel('confidence p')\n",
    "ylabel('quantile $q_{\\epsilon}(p)$');\n",
    "# save_plot(ax=plt.gca(), extension='png', scriptname=os.path.basename('.')[:-3], count=plt.get_fignums()[-1])"
   ]
  }
 ],
 "metadata": {
  "jupytext": {
   "encoding": "# -*- coding: utf-8 -*-",
   "executable": "/usr/bin/env python3"
  },
  "kernelspec": {
   "display_name": "Python 3",
   "language": "python",
   "name": "python3"
  }
 },
 "nbformat": 4,
 "nbformat_minor": 4
}
