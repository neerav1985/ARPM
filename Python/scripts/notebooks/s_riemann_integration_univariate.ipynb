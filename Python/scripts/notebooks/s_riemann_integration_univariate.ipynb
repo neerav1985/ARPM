{
 "cells": [
  {
   "cell_type": "markdown",
   "metadata": {},
   "source": [
    "# s_riemann_integration_univariate [<img src=\"https://www.arpm.co/lab/icons/icon_permalink.png\" width=30 height=30 style=\"display: inline;\">](https://www.arpm.co/lab/redirect.php?code=s_riemann_integration_univariate&codeLang=Python)\n",
    "For details, see [here](https://www.arpm.co/lab/redirect.php?permalink=s_riemann_integration_univariate)."
   ]
  },
  {
   "cell_type": "code",
   "execution_count": null,
   "metadata": {},
   "outputs": [],
   "source": [
    "import numpy as np\n",
    "import sympy as sym\n",
    "import matplotlib.pyplot as plt\n",
    "\n",
    "from arpym.tools.logo import add_logo"
   ]
  },
  {
   "cell_type": "markdown",
   "metadata": {},
   "source": [
    "## [Input parameters](https://www.arpm.co/lab/redirect.php?permalink=s_riemann_integration_univariate-parameters)"
   ]
  },
  {
   "cell_type": "code",
   "execution_count": null,
   "metadata": {},
   "outputs": [],
   "source": [
    "# function\n",
    "x = sym.symbols('x')\n",
    "f = -x**3 + 5*x**2 + x - 5\n",
    "display(f)\n",
    "f_ = sym.lambdify(x, f, 'numpy')\n",
    "\n",
    "# interval\n",
    "a = 0\n",
    "b = 4\n",
    "\n",
    "# number of intervals in partition\n",
    "k_ = 20"
   ]
  },
  {
   "cell_type": "markdown",
   "metadata": {},
   "source": [
    "## [Step 1](https://www.arpm.co/lab/redirect.php?permalink=s_riemann_integration_univariate-implementation-step01): Define partition"
   ]
  },
  {
   "cell_type": "code",
   "execution_count": null,
   "metadata": {},
   "outputs": [],
   "source": [
    "endpoints = np.linspace(a, b, k_+1)\n",
    "Delta = np.c_[endpoints[:-1], endpoints[1:]]"
   ]
  },
  {
   "cell_type": "markdown",
   "metadata": {},
   "source": [
    "## [Step 2](https://www.arpm.co/lab/redirect.php?permalink=s_riemann_integration_univariate-implementation-step02): Choose points in partition"
   ]
  },
  {
   "cell_type": "code",
   "execution_count": null,
   "metadata": {},
   "outputs": [],
   "source": [
    "c = (Delta[:, 1]+Delta[:,0])/2\n",
    "f_c = f_(c)"
   ]
  },
  {
   "cell_type": "markdown",
   "metadata": {},
   "source": [
    "## [Step 3](https://www.arpm.co/lab/redirect.php?permalink=s_riemann_integration_univariate-implementation-step03): Calculate Riemann sum"
   ]
  },
  {
   "cell_type": "code",
   "execution_count": null,
   "metadata": {},
   "outputs": [],
   "source": [
    "s_f_Delta = np.sum((Delta[:, 1]-Delta[:,0])*f_c)\n",
    "s_f_Delta"
   ]
  },
  {
   "cell_type": "markdown",
   "metadata": {},
   "source": [
    "## [Step 4](https://www.arpm.co/lab/redirect.php?permalink=s_riemann_integration_univariate-implementation-step04): Calculate integral"
   ]
  },
  {
   "cell_type": "code",
   "execution_count": null,
   "metadata": {},
   "outputs": [],
   "source": [
    "int_f = sym.integrate(f, (x, a, b))\n",
    "float(int_f)"
   ]
  },
  {
   "cell_type": "markdown",
   "metadata": {},
   "source": [
    "## [Step 5](https://www.arpm.co/lab/redirect.php?permalink=s_riemann_integration_univariate-implementation-step05): Define grid for plotting"
   ]
  },
  {
   "cell_type": "code",
   "execution_count": null,
   "metadata": {},
   "outputs": [],
   "source": [
    "x_grid = np.linspace(a, b, 100)\n",
    "f_x = f_(x_grid)"
   ]
  },
  {
   "cell_type": "markdown",
   "metadata": {},
   "source": [
    "## Plots"
   ]
  },
  {
   "cell_type": "code",
   "execution_count": null,
   "metadata": {},
   "outputs": [],
   "source": [
    "plt.style.use('arpm')\n",
    "\n",
    "fig = plt.figure(figsize=(1280.0/72.0, 720.0/72.0), dpi = 72.0)\n",
    "ax = plt.gca()\n",
    "\n",
    "# function\n",
    "plt.plot(x_grid, f_x)\n",
    "\n",
    "# step function\n",
    "w = Delta[0,1]-Delta[0,0]\n",
    "plt.bar(Delta[:, 0], f_c, width=w, align='edge',\n",
    "        color='lightgrey', edgecolor='darkgray',\n",
    "        linewidth=0.5, alpha=0.5)\n",
    "\n",
    "# Riemann sum and integral\n",
    "plt.text(0.25, 0.9,\n",
    "         'Integral: '+str('{:3.2f}'.format(round(float(int_f),2)))+'\\n'+\n",
    "         r'Riemann sum ($\\bar{k}=$'+str('{:3d}'.format(k_))+'): '+\n",
    "         str('{:3.2f}'.format(round(s_f_Delta,2))),\n",
    "         fontsize=17, transform=ax.transAxes,\n",
    "         linespacing=1.2, verticalalignment='center',\n",
    "         horizontalalignment='right',\n",
    "         bbox=dict(facecolor='white', edgecolor='darkgray', boxstyle='square,pad=0.5'))\n",
    "\n",
    "plt.axhline()\n",
    "plt.ylim([min(min(f_x)*1.3, 0), max(f_x)*1.3])\n",
    "plt.xlabel(r'$x$', fontsize=17)\n",
    "plt.ylabel(r'$f(x)$', fontsize=17, rotation=0, labelpad=20)\n",
    "plt.xticks(fontsize=14)\n",
    "plt.yticks(fontsize=14)\n",
    "plt.grid(False)\n",
    "\n",
    "add_logo(fig, set_fig_size=False, location=4)\n",
    "plt.tight_layout()"
   ]
  }
 ],
 "metadata": {
  "jupytext": {
   "encoding": "# -*- coding: utf-8 -*-",
   "executable": "/usr/bin/env python3"
  },
  "kernelspec": {
   "display_name": "Python 3",
   "language": "python",
   "name": "python3"
  }
 },
 "nbformat": 4,
 "nbformat_minor": 4
}
