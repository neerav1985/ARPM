{
 "cells": [
  {
   "cell_type": "markdown",
   "metadata": {},
   "source": [
    "# S_DisplayLogNEllipsBand [<img src=\"https://www.arpm.co/lab/icons/icon_permalink.png\" width=30 height=30 style=\"display: inline;\">](https://www.arpm.co/lab/redirect.php?code=S_DisplayLogNEllipsBand&codeLang=Python)\n",
    "For details, see [here](https://www.arpm.co/lab/redirect.php?permalink=EllipsBandLogNorm)."
   ]
  },
  {
   "cell_type": "markdown",
   "metadata": {},
   "source": [
    "## Prepare the environment"
   ]
  },
  {
   "cell_type": "code",
   "execution_count": null,
   "metadata": {},
   "outputs": [],
   "source": [
    "import os\n",
    "import os.path as path\n",
    "import sys\n",
    "\n",
    "sys.path.append(path.abspath('../../functions-legacy'))\n",
    "\n",
    "import numpy as np\n",
    "from numpy import array, zeros, cos, sin, pi, percentile, linspace, diag, exp, r_\n",
    "\n",
    "import matplotlib.pyplot as plt\n",
    "from matplotlib.pyplot import legend, scatter, title\n",
    "\n",
    "plt.style.use('seaborn')\n",
    "\n",
    "from ARPM_utils import save_plot\n",
    "from NormalScenarios import NormalScenarios\n",
    "from PlotTwoDimBand import PlotTwoDimBand\n",
    "from PlotTwoDimEllipsoid import PlotTwoDimEllipsoid\n",
    "\n",
    "# inputs\n",
    "j_ = 10000\n",
    "r = 3  # scale of the bands\n",
    "n_points = 1000  # points of the bands\n",
    "mu = array([[0.3],[0.1]])\n",
    "sigma2 = array([[0.06, -0.03], [- 0.03, 0.02]])"
   ]
  },
  {
   "cell_type": "markdown",
   "metadata": {},
   "source": [
    "## Compute expectation and covariance"
   ]
  },
  {
   "cell_type": "code",
   "execution_count": null,
   "metadata": {},
   "outputs": [],
   "source": [
    "m = exp(mu.flatten() + 0.5*diag(sigma2))\n",
    "s2 = np.diagflat(m)@(exp(sigma2) - 1)@np.diagflat(m)"
   ]
  },
  {
   "cell_type": "markdown",
   "metadata": {},
   "source": [
    "## Generate the lognormal sample"
   ]
  },
  {
   "cell_type": "code",
   "execution_count": null,
   "metadata": {},
   "outputs": [],
   "source": [
    "Norm, _ = NormalScenarios(mu, sigma2, j_, 'Chol')\n",
    "\n",
    "X = exp(Norm)"
   ]
  },
  {
   "cell_type": "markdown",
   "metadata": {},
   "source": [
    "## Compute medians and interquantile ranges along the directions"
   ]
  },
  {
   "cell_type": "code",
   "execution_count": null,
   "metadata": {},
   "outputs": [],
   "source": [
    "theta = linspace(0, 2*pi, n_points).reshape(1,-1)\n",
    "u = r_[cos(theta), sin(theta)]\n",
    "\n",
    "# projected medians\n",
    "med = zeros((2,1))\n",
    "med[0] = percentile((array([[1,0]])@X).T, 50)\n",
    "med[1] = percentile((array([[0,1]])@X).T, 50)\n",
    "\n",
    "# projected interquantile ranges\n",
    "range_u = zeros((n_points, 1))\n",
    "for n in range(n_points):\n",
    "    range_u[n] = percentile((u[:, n].T@X).T, 75) - percentile((u[:, n].T@X).T, 25)  # warning: if slow decrease n_points"
   ]
  },
  {
   "cell_type": "markdown",
   "metadata": {},
   "source": [
    "## Display the band, the ellipsoid and overlay the scatterplot"
   ]
  },
  {
   "cell_type": "code",
   "execution_count": null,
   "metadata": {},
   "outputs": [],
   "source": [
    "p1 = PlotTwoDimBand(med, range_u, u, r, 'b')\n",
    "p2 = PlotTwoDimEllipsoid(m[...,np.newaxis], s2, r, False, False, 'r')\n",
    "p3 = scatter(X[0], X[1], color= [.3, .3, .3], marker='*',s=0.5)\n",
    "legend(['Median-Range band','Mean-Cov ellipsoid'])\n",
    "title('Bivariate lognormal');\n",
    "# save_plot(ax=plt.gca(), extension='png', scriptname=os.path.basename('.')[:-3], count=plt.get_fignums()[-1])"
   ]
  }
 ],
 "metadata": {
  "jupytext": {
   "encoding": "# -*- coding: utf-8 -*-",
   "executable": "/usr/bin/env python3"
  },
  "kernelspec": {
   "display_name": "Python 3",
   "language": "python",
   "name": "python3"
  }
 },
 "nbformat": 4,
 "nbformat_minor": 4
}
