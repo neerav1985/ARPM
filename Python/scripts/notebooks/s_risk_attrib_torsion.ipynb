{
 "cells": [
  {
   "cell_type": "markdown",
   "metadata": {},
   "source": [
    "# s_risk_attrib_torsion [<img src=\"https://www.arpm.co/lab/icons/icon_permalink.png\" width=30 height=30 style=\"display: inline;\">](https://www.arpm.co/lab/redirect.php?code=s_risk_attrib_torsion&codeLang=Python)\n",
    "For details, see [here](https://www.arpm.co/lab/redirect.php?permalink=ex-minimum-torsion-vs-traditional)."
   ]
  },
  {
   "cell_type": "code",
   "execution_count": null,
   "metadata": {},
   "outputs": [],
   "source": [
    "import pandas as pd\n",
    "import numpy as np\n",
    "import time\n",
    "import matplotlib.pyplot as plt\n",
    "from mpl_toolkits.mplot3d import Axes3D\n",
    "\n",
    "from arpym.estimation.spectrum_shrink import spectrum_shrink\n",
    "from arpym.portfolio.minimum_torsion import minimum_torsion\n",
    "from arpym.portfolio.effective_num_bets import effective_num_bets\n",
    "from arpym.tools.logo import add_logo"
   ]
  },
  {
   "cell_type": "markdown",
   "metadata": {},
   "source": [
    "## [Input parameters](https://www.arpm.co/lab/redirect.php?permalink=s_risk_attrib_torsion-parameters)"
   ]
  },
  {
   "cell_type": "code",
   "execution_count": null,
   "metadata": {},
   "outputs": [],
   "source": [
    "delta_t = 21  # time interval between scenarios\n",
    "k_ = 250  # number of factors\n",
    "t_ = 252  # size of trailing window\n",
    "t_star = 601  # number of observations"
   ]
  },
  {
   "cell_type": "markdown",
   "metadata": {},
   "source": [
    "## [Step 0](https://www.arpm.co/lab/redirect.php?permalink=s_risk_attrib_torsion-implementation-step00): Load data"
   ]
  },
  {
   "cell_type": "code",
   "execution_count": null,
   "metadata": {},
   "outputs": [],
   "source": [
    "path = '~/databases/global-databases/equities/db_stocks_SP500/'\n",
    "data = pd.read_csv(path + 'db_stocks_sp.csv', index_col=0)\n",
    "\n",
    "prices = np.array(data.iloc[-t_star:, :k_].apply(pd.to_numeric))\n",
    "dates = data.index[-t_star:]\n",
    "t_star = t_star - 1  # number of max daily returns"
   ]
  },
  {
   "cell_type": "markdown",
   "metadata": {},
   "source": [
    "## [Step 1](https://www.arpm.co/lab/redirect.php?permalink=s_risk_attrib_torsion-implementation-step01): Computing the minimum-torsion distribution and the relative marginal distribution"
   ]
  },
  {
   "cell_type": "code",
   "execution_count": null,
   "metadata": {},
   "outputs": [],
   "source": [
    "beta = np.ones((k_, )) / (k_)  # equally weighted exposures to factors\n",
    "\n",
    "print('Computing the minimum-torsion distribution and the relative marginal distribution')\n",
    "j_ = int((t_star-t_) / delta_t) + 1  # number of scenarios\n",
    "enb_mt = np.zeros(j_)\n",
    "datestr = []\n",
    "datenum = np.zeros(j_)\n",
    "linret = {}\n",
    "m = np.zeros((j_, k_))\n",
    "p_mt = np.zeros((j_, k_))\n",
    "for j in range(j_):\n",
    "    t = t_ + j * delta_t\n",
    "\n",
    "    # date empirical tests\n",
    "    datenum[j] = int(time.mktime(time.strptime(dates[t], '%Y-%m-%d')))\n",
    "    datestr.append(dates[t])\n",
    "\n",
    "    # linear returns/factors scenarios\n",
    "    linret[j] = prices[j*delta_t+1:t_+j*delta_t+1, :] /\\\n",
    "        prices[j*delta_t:t_+j*delta_t, :] - 1\n",
    "\n",
    "    # sample covariance matrix\n",
    "    sigma2 = np.cov(linret[j], rowvar=False)\n",
    "\n",
    "    # spectrum shrinkage of the correlation matrix\n",
    "    sigma2 = spectrum_shrink(sigma2, t_)[0]\n",
    "\n",
    "    # minimum-torsion matrix and minimum-torsion exposures\n",
    "    t_mt = minimum_torsion(sigma2)\n",
    "    beta_mt = beta.dot(np.linalg.solve(t_mt, np.eye(k_)))\n",
    "\n",
    "    # minimum-torsion diversification distribution and minimum-torsion\n",
    "    # effective number of bets\n",
    "    enb_mt[j], p_mt[[j], :] = effective_num_bets(beta, sigma2, t_mt)\n",
    "\n",
    "    # marginal risk contribution (traditional approach)\n",
    "    m[[j], :] = beta.T*(sigma2@(beta.T))/(beta@sigma2@(beta.T))"
   ]
  },
  {
   "cell_type": "markdown",
   "metadata": {},
   "source": [
    "## [Step 2](https://www.arpm.co/lab/redirect.php?permalink=s_risk_attrib_torsion-implementation-step02): Sort the minimum-torsion diversification distribution and the relative marginal contributions"
   ]
  },
  {
   "cell_type": "code",
   "execution_count": null,
   "metadata": {},
   "outputs": [],
   "source": [
    "p = np.r_['-1', p_mt[..., np.newaxis], m[..., np.newaxis]]\n",
    "weight = np.zeros((2, k_, j_))\n",
    "prob = np.zeros((2, k_, j_))\n",
    "for i in range(2):\n",
    "    for j in range(j_):\n",
    "        prob[i, :, j], index = np.sort(p[j, :, i])[::-1],\\\n",
    "            np.argsort(p[j, :, i])[::-1]\n",
    "        weight[i, :, j] = beta[index]"
   ]
  },
  {
   "cell_type": "markdown",
   "metadata": {},
   "source": [
    "## Plots"
   ]
  },
  {
   "cell_type": "code",
   "execution_count": null,
   "metadata": {},
   "outputs": [],
   "source": [
    "plt.style.use('arpm')\n",
    "\n",
    "for i in range(2):\n",
    "    fig, ax = plt.subplots(1, 1, subplot_kw={'projection': '3d'})\n",
    "    ax.view_init(18, 34)\n",
    "    plt.xlim([datenum[0], datenum[-1]])\n",
    "    plt.ylim([0, k_ + 1])\n",
    "    plt.xlabel('time', labelpad=20)\n",
    "    plt.ylabel('stocks', labelpad=10)\n",
    "    ax.set_zlabel('weights/probabilities', labelpad=10)\n",
    "    hsurf1 = ax.plot_surface(np.tile(datenum[np.newaxis, ...], (k_, 1)),\n",
    "                             np.tile(np.arange(k_)[..., np.newaxis], (1, j_)),\n",
    "                             prob[i, :, :], cmap='gray', shade=False)\n",
    "    hsurf2 = ax.plot_surface(np.tile(datenum[np.newaxis, ...], (k_, 1)),\n",
    "                             np.tile(np.arange(k_)[..., np.newaxis], (1, j_)),\n",
    "                             weight[i, :, :], color='gray', shade=False)\n",
    "    indd = np.linspace(0, len(datenum) - 1, 6, dtype=int)\n",
    "    dateticks = []\n",
    "    for d in indd:\n",
    "        dateticks.append(time.strftime('%b-%y', time.localtime(datenum[d])))\n",
    "    plt.xticks(datenum[indd], dateticks)\n",
    "\n",
    "    if i == 0:\n",
    "        plt.title('Minimum-torsion diversification distribution')\n",
    "        ax.set_zlim([0, 10 ** -2 + 0.001])\n",
    "        ax.plot(datenum, np.zeros(len(datenum)),\n",
    "                enb_mt.flatten() / (k_) * 10 ** -2, lw=2, color='r')\n",
    "        ax.plot(datenum, np.zeros(len(datenum)),\n",
    "                np.ones(enb_mt.shape[0]) * 10 ** -2, lw=1, color='r')\n",
    "        ax.text(datenum[0], 10, 10**-2, '1', color='r')\n",
    "    else:\n",
    "        plt.title('Relative marginal distribution')\n",
    "        ax.set_zlim([-0.001, 10 ** -2 + 0.001])\n",
    "\n",
    "    add_logo(fig)\n",
    "    plt.tight_layout()"
   ]
  }
 ],
 "metadata": {
  "jupytext": {
   "encoding": "# -*- coding: utf-8 -*-",
   "executable": "/usr/bin/env python3"
  },
  "kernelspec": {
   "display_name": "Python 3",
   "language": "python",
   "name": "python3"
  }
 },
 "nbformat": 4,
 "nbformat_minor": 4
}
