{
 "cells": [
  {
   "cell_type": "markdown",
   "metadata": {},
   "source": [
    "# s_lasso_vs_ridge [<img src=\"https://www.arpm.co/lab/icons/icon_permalink.png\" width=30 height=30 style=\"display: inline;\">](https://www.arpm.co/lab/redirect.php?code=s_lasso_vs_ridge&codeLang=Python)\n",
    "For details, see [here](https://www.arpm.co/lab/redirect.php?permalink=eb-ridge-vs-lasso)."
   ]
  },
  {
   "cell_type": "code",
   "execution_count": null,
   "metadata": {},
   "outputs": [],
   "source": [
    "import numpy as np\n",
    "import pandas as pd\n",
    "import matplotlib.pyplot as plt\n",
    "from matplotlib.colors import to_rgb\n",
    "\n",
    "from arpym.estimation.exp_decay_fp import exp_decay_fp\n",
    "from arpym.estimation.fit_lfm_ridge import fit_lfm_ridge\n",
    "from arpym.estimation.fit_lfm_lasso import fit_lfm_lasso\n",
    "from arpym.tools.logo import add_logo"
   ]
  },
  {
   "cell_type": "markdown",
   "metadata": {},
   "source": [
    "## [Input parameters](https://www.arpm.co/lab/redirect.php?permalink=s_lasso_vs_ridge-parameters)"
   ]
  },
  {
   "cell_type": "code",
   "execution_count": null,
   "metadata": {},
   "outputs": [],
   "source": [
    "k_ = 10  # number of stocks\n",
    "l_ = 150  # length of penalties grid\n",
    "lambda_ridge_max = 10**(-6)  # maximum value of ridge penalties\n",
    "lambda_lasso_max = 2*10**(-4)  # maximum value of lasso penalties\n",
    "tau_hl = 252  # half-life parameter in flexible probabilities\n",
    "t_first = '2008-01-01'  # starting date\n",
    "t_last = '2012-01-01'  # ending date"
   ]
  },
  {
   "cell_type": "markdown",
   "metadata": {},
   "source": [
    "## [Step 0](https://www.arpm.co/lab/redirect.php?permalink=s_lasso_vs_ridge-implementation-step00): Upload data"
   ]
  },
  {
   "cell_type": "code",
   "execution_count": null,
   "metadata": {},
   "outputs": [],
   "source": [
    "path = '~/databases/global-databases/equities/db_stocks_SP500/'\n",
    "spx = pd.read_csv(path + 'SPX.csv', index_col=0, parse_dates=['date'])\n",
    "stocks = pd.read_csv(path + 'db_stocks_sp.csv', skiprows=[0], index_col=0)\n",
    "\n",
    "# merging datasets\n",
    "spx_stocks = pd.merge(spx, stocks, left_index=True, right_index=True)\n",
    "\n",
    "# select data within the date range\n",
    "spx_stocks = spx_stocks.loc[(spx_stocks.index >= t_first) &\n",
    "                          (spx_stocks.index <= t_last)]\n",
    "\n",
    "# remove the stocks with missing values\n",
    "spx_stocks = spx_stocks.dropna(axis=1, how='any')\n",
    "\n",
    "date = spx_stocks.index"
   ]
  },
  {
   "cell_type": "markdown",
   "metadata": {},
   "source": [
    "## [Step 1](https://www.arpm.co/lab/redirect.php?permalink=s_lasso_vs_ridge-implementation-step01): Select stocks and SPX from database"
   ]
  },
  {
   "cell_type": "code",
   "execution_count": null,
   "metadata": {},
   "outputs": [],
   "source": [
    "v_stocks = np.array(spx_stocks.iloc[:, 1+np.arange(k_)])  # select stocks\n",
    "v_spx = np.array(spx_stocks.iloc[:, 0])"
   ]
  },
  {
   "cell_type": "markdown",
   "metadata": {},
   "source": [
    "## [Step 2](https://www.arpm.co/lab/redirect.php?permalink=s_lasso_vs_ridge-implementation-step02): Compute linear returns of both SPX and stocks"
   ]
  },
  {
   "cell_type": "code",
   "execution_count": null,
   "metadata": {},
   "outputs": [],
   "source": [
    "x = np.diff(v_spx)/v_spx[:-1]  # benchmark\n",
    "z = np.diff(v_stocks, axis=0)/v_stocks[:-1, :]  # factors\n",
    "t_ = len(x)"
   ]
  },
  {
   "cell_type": "markdown",
   "metadata": {},
   "source": [
    "## [Step 3](https://www.arpm.co/lab/redirect.php?permalink=s_lasso_vs_ridge-implementation-step03): Set the flexible probabilities"
   ]
  },
  {
   "cell_type": "code",
   "execution_count": null,
   "metadata": {},
   "outputs": [],
   "source": [
    "p = exp_decay_fp(t_, tau_hl)  # exponential decay"
   ]
  },
  {
   "cell_type": "markdown",
   "metadata": {},
   "source": [
    "## [Step 4](https://www.arpm.co/lab/redirect.php?permalink=s_lasso_vs_ridge-implementation-step04): Perform ridge regression"
   ]
  },
  {
   "cell_type": "code",
   "execution_count": null,
   "metadata": {},
   "outputs": [],
   "source": [
    "lambdagrid_ridge = np.linspace(0, lambda_ridge_max, l_)  # grid of penalties\n",
    "beta_r = np.zeros((k_, l_))\n",
    "for l in range(l_):\n",
    "    # ridge regression\n",
    "    _, beta_r[:, l], _, _ = fit_lfm_ridge(x, z, p, lambdagrid_ridge[l])"
   ]
  },
  {
   "cell_type": "markdown",
   "metadata": {},
   "source": [
    "## [Step 5](https://www.arpm.co/lab/redirect.php?permalink=s_lasso_vs_ridge-implementation-step05): Perform lasso regression"
   ]
  },
  {
   "cell_type": "code",
   "execution_count": null,
   "metadata": {},
   "outputs": [],
   "source": [
    "lambdagrid_lasso = np.linspace(0, lambda_lasso_max, l_)  # grid of penalties\n",
    "beta_l = np.zeros((k_, l_))\n",
    "for l in range(l_):\n",
    "    # lasso regression\n",
    "    _, beta_l[:, l], _, _ = fit_lfm_lasso(x, z, p, lambdagrid_lasso[l])"
   ]
  },
  {
   "cell_type": "markdown",
   "metadata": {},
   "source": [
    "## Plots"
   ]
  },
  {
   "cell_type": "code",
   "execution_count": null,
   "metadata": {},
   "outputs": [],
   "source": [
    "plt.style.use('arpm')\n",
    "\n",
    "color = np.random.rand(k_, 3)\n",
    "\n",
    "# reordering for visual purpose\n",
    "b_r_plot = np.squeeze((beta_r.T))\n",
    "b_l_plot = np.squeeze((beta_l.T))\n",
    "ind_plot = np.zeros(k_)\n",
    "for k in range(k_):\n",
    "    ind_plot[k] = np.where(b_l_plot[:, k] > 0)[0][-1] + 1\n",
    "\n",
    "ind_plot = np.argsort(ind_plot.flatten())\n",
    "b_r_plot = b_r_plot[:, ind_plot]\n",
    "b_l_plot = b_l_plot[:, ind_plot]\n",
    "col = np.array(color)[ind_plot, :].squeeze()\n",
    "\n",
    "# axis limit\n",
    "l_min = np.min(beta_l)\n",
    "l_max = np.max(beta_l)\n",
    "r_min = np.min(beta_r)\n",
    "r_max = np.max(beta_r)\n",
    "mmin = np.minimum(l_min, r_min)\n",
    "mmax = np.maximum(l_max, r_max)\n",
    "mmin = mmin - (mmax - mmin) / 15\n",
    "mmax = mmax + (mmax - mmin) / 15\n",
    "if mmin >= 0:\n",
    "    mmin = -(mmax - mmin) / 15\n",
    "elif mmax <= 0:\n",
    "        mmax = (mmax-mmin) / 15\n",
    "\n",
    "fig, ax = plt.subplots(2, 1)\n",
    "plt.sca(ax[0])\n",
    "for k in range(k_):\n",
    "    plt.plot(lambdagrid_ridge, b_r_plot[:, k],\n",
    "             color=to_rgb(col[k].squeeze()), lw=1.5)\n",
    "\n",
    "plt.xlabel('$\\lambda_{ridge}$')\n",
    "plt.ticklabel_format(style='sci', scilimits=(0, 0), axis='x')\n",
    "plt.ylabel('Ridge loadings')\n",
    "plt.grid(True)\n",
    "plt.xlim(np.array([lambdagrid_ridge[0], lambdagrid_ridge[-1]]))\n",
    "plt.ylim([mmin, mmax])\n",
    "\n",
    "plt.sca(ax[1])\n",
    "\n",
    "for k in range(k_):\n",
    "    plt.plot(lambdagrid_lasso, b_l_plot[:, k],\n",
    "             color=to_rgb(col[k].squeeze()), lw=1.5)\n",
    "\n",
    "plt.xlabel('$\\lambda_{lasso}$')\n",
    "plt.ticklabel_format(style='sci', scilimits=(0, 0), axis='x')\n",
    "plt.ylabel('Lasso loadings')\n",
    "plt.grid(True)\n",
    "plt.xlim([lambdagrid_lasso[0], lambdagrid_lasso[-1]])\n",
    "plt.ylim([mmin, mmax])\n",
    "add_logo(fig, axis=ax[0], location=1)\n",
    "plt.tight_layout()"
   ]
  }
 ],
 "metadata": {
  "jupytext": {
   "encoding": "# -*- coding: utf-8 -*-",
   "executable": "/usr/bin/env python3"
  },
  "kernelspec": {
   "display_name": "Python 3",
   "language": "python",
   "name": "python3"
  }
 },
 "nbformat": 4,
 "nbformat_minor": 4
}
