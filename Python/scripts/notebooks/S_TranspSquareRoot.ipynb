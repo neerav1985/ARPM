{
 "cells": [
  {
   "cell_type": "markdown",
   "metadata": {},
   "source": [
    "# S_TranspSquareRoot [<img src=\"https://www.arpm.co/lab/icons/icon_permalink.png\" width=30 height=30 style=\"display: inline;\">](https://www.arpm.co/lab/redirect.php?code=S_TranspSquareRoot&codeLang=Python)\n",
    "For details, see [here](https://www.arpm.co/lab/redirect.php?permalink=eb-exer-cpca-copy-4)."
   ]
  },
  {
   "cell_type": "markdown",
   "metadata": {},
   "source": [
    "## Prepare the environment"
   ]
  },
  {
   "cell_type": "code",
   "execution_count": null,
   "metadata": {},
   "outputs": [],
   "source": [
    "import os.path as path\n",
    "import sys\n",
    "\n",
    "sys.path.append(path.abspath('../../functions-legacy'))\n",
    "\n",
    "from numpy import array\n",
    "\n",
    "import matplotlib.pyplot as plt\n",
    "\n",
    "plt.style.use('seaborn')\n",
    "\n",
    "from TransposeSquareRoot import TransposeSquareRoot\n",
    "\n",
    "# symmetric and positive definite matrix\n",
    "sigma2 = array([[0.25, 0.30, 0.25], [0.30, 1, 0], [0.25, 0, 6.25]])"
   ]
  },
  {
   "cell_type": "markdown",
   "metadata": {},
   "source": [
    "## Compute the transpose-square-root matrix s of sigma2 by:"
   ]
  },
  {
   "cell_type": "code",
   "execution_count": null,
   "metadata": {},
   "outputs": [],
   "source": [
    "# i) Riccati root\n",
    "s_riccati = TransposeSquareRoot(sigma2, 'Riccati')\n",
    "\n",
    "# ii) Conditional Principal Component Analysis (CPCA)\n",
    "# full rank linear constraints matrix\n",
    "d = array([[1, 0, 1], [0, 1, 0]])\n",
    "s_cpca = TransposeSquareRoot(sigma2, 'CPCA', d)\n",
    "\n",
    "# iii) Principal Component Analysis (PCA)\n",
    "s_pca = TransposeSquareRoot(sigma2, 'PCA')\n",
    "\n",
    "# iv) Cholesky decomposition using LDL decomposition\n",
    "s_chol = TransposeSquareRoot(sigma2, 'Chol')\n",
    "\n",
    "# v) Gram-Schmidt process\n",
    "s_gs = TransposeSquareRoot(sigma2, 'Gram-Schmidt')"
   ]
  },
  {
   "cell_type": "markdown",
   "metadata": {},
   "source": [
    "## For each method check that sigma2 = s@s.T holds true"
   ]
  },
  {
   "cell_type": "code",
   "execution_count": null,
   "metadata": {},
   "outputs": [],
   "source": [
    "check_cpca = s_cpca@s_cpca.T\n",
    "check_pca = s_pca@s_pca.T\n",
    "check_riccati = s_riccati@s_riccati.T\n",
    "check_chol = s_chol@s_chol.T\n",
    "check_gs = s_gs@s_gs.T"
   ]
  }
 ],
 "metadata": {
  "jupytext": {
   "encoding": "# -*- coding: utf-8 -*-",
   "executable": "/usr/bin/env python3"
  },
  "kernelspec": {
   "display_name": "Python 3",
   "language": "python",
   "name": "python3"
  }
 },
 "nbformat": 4,
 "nbformat_minor": 4
}
