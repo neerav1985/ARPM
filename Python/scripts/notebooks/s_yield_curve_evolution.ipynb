{
 "cells": [
  {
   "cell_type": "markdown",
   "metadata": {},
   "source": [
    "# s_yield_curve_evolution [<img src=\"https://www.arpm.co/lab/icons/icon_permalink.png\" width=30 height=30 style=\"display: inline;\">](https://www.arpm.co/lab/redirect.php?code=s_yield_curve_evolution&codeLang=Python)\n",
    "For details, see [here](https://www.arpm.co/lab/redirect.php?permalink=ExerSwapCurve)."
   ]
  },
  {
   "cell_type": "code",
   "execution_count": null,
   "metadata": {},
   "outputs": [],
   "source": [
    "import numpy as np\n",
    "import pandas as pd\n",
    "import matplotlib.pyplot as plt\n",
    "from mpl_toolkits.mplot3d import Axes3D\n",
    "\n",
    "from arpym.tools.logo import add_logo"
   ]
  },
  {
   "cell_type": "markdown",
   "metadata": {},
   "source": [
    "## [Input parameters](https://www.arpm.co/lab/redirect.php?permalink=s_yield_curve_evolution-parameters)"
   ]
  },
  {
   "cell_type": "code",
   "execution_count": null,
   "metadata": {},
   "outputs": [],
   "source": [
    "t_ = 500  # length of time series of yields\n",
    "tau_select = (1, 2, 3, 4, 5, 6, 7, 8, 9, 10)  # selected times to maturity\n",
    "tau_select = np.sort(tau_select)"
   ]
  },
  {
   "cell_type": "markdown",
   "metadata": {},
   "source": [
    "## [Step 0](https://www.arpm.co/lab/redirect.php?permalink=s_yield_curve_evolution-implementation-step00): Load data"
   ]
  },
  {
   "cell_type": "code",
   "execution_count": null,
   "metadata": {},
   "outputs": [],
   "source": [
    "path = '~/databases/global-databases/fixed-income/db_yields/'\n",
    "df_data = pd.read_csv(path + 'data.csv', header=0, index_col=0,\n",
    "                             parse_dates=True, infer_datetime_format=True)\n",
    "df_data = df_data.iloc[-t_:]"
   ]
  },
  {
   "cell_type": "markdown",
   "metadata": {},
   "source": [
    "## [Step 1](https://www.arpm.co/lab/redirect.php?permalink=s_yield_curve_evolution-implementation-step01): Select data"
   ]
  },
  {
   "cell_type": "code",
   "execution_count": null,
   "metadata": {},
   "outputs": [],
   "source": [
    "df_data = df_data.loc[:, str(float(tau_select[0])):str(float(tau_select[-1]))]\n",
    "# extract values\n",
    "t = np.array(df_data.index, dtype=np.datetime64)\n",
    "tau = df_data.columns.values.astype(np.float32)\n",
    "y_t_tau = df_data.values"
   ]
  },
  {
   "cell_type": "markdown",
   "metadata": {},
   "source": [
    "## Plots"
   ]
  },
  {
   "cell_type": "code",
   "execution_count": null,
   "metadata": {},
   "outputs": [],
   "source": [
    "min_date = np.min(t)\n",
    "t_relative = np.int32((t - min_date).astype('timedelta64[D]'))\n",
    "plt.style.use('arpm')\n",
    "t_mesh, tau_mesh = np.meshgrid(t_relative, tau)\n",
    "no_of_xticks = 6\n",
    "xticks = t[np.linspace(0, t.size-1, no_of_xticks, dtype=int)]\n",
    "xticks = pd.to_datetime(xticks).strftime('%d-%b-%Y')\n",
    "xticks_location = t_relative[np.linspace(0, t.size-1, no_of_xticks, dtype=int)]\n",
    "\n",
    "fig = plt.figure()\n",
    "ax = fig.add_subplot(111, projection='3d')\n",
    "\n",
    "ax.plot_surface(t_mesh, tau_mesh, y_t_tau.T, rcount=10, ccount=37)\n",
    "ax.plot(np.ones(tau.size)*t_relative[-1], tau, y_t_tau.T[:, -1], lw=1.5, c='r')\n",
    "for x in tau_select:\n",
    "    index, = np.where(x == tau)[0]\n",
    "    ax.plot(t_relative, np.ones_like(t_relative)*x, y_t_tau.T[index, :],\n",
    "            lw=1,\n",
    "            color=(0.9, 0.9, 0.9))\n",
    "ax.view_init(22, -67)\n",
    "ax.set_xticks(xticks_location)\n",
    "ax.set_xticklabels(xticks, rotation=10)\n",
    "ax.set_xlabel('Time', labelpad=-15)\n",
    "ax.set_ylabel('Time to Maturity', labelpad=8)\n",
    "ax.set_yticklabels([str(x)+' y' for x in ax.get_yticks()])\n",
    "ax.set_zlabel('Yield', rotation=90, labelpad=8)\n",
    "ax.set_zticklabels([str(x)+' %' for x in ax.get_zticks()*100])\n",
    "plt.title('Swap curve', fontweight='bold')\n",
    "add_logo(fig)\n",
    "plt.tight_layout()"
   ]
  }
 ],
 "metadata": {
  "jupytext": {
   "encoding": "# -*- coding: utf-8 -*-",
   "executable": "/usr/bin/env python3"
  },
  "kernelspec": {
   "display_name": "Python 3",
   "language": "python",
   "name": "python3"
  }
 },
 "nbformat": 4,
 "nbformat_minor": 4
}
