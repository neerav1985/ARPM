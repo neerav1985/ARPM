{
 "cells": [
  {
   "cell_type": "markdown",
   "metadata": {},
   "source": [
    "# S_RegLFMLogNorm [<img src=\"https://www.arpm.co/lab/icons/icon_permalink.png\" width=30 height=30 style=\"display: inline;\">](https://www.arpm.co/lab/redirect.php?code=S_RegLFMLogNorm&codeLang=Python)\n",
    "For details, see [here](https://www.arpm.co/lab/redirect.php?permalink=eb-fact-demand-horiz-eff)."
   ]
  },
  {
   "cell_type": "markdown",
   "metadata": {},
   "source": [
    "## Prepare the environment"
   ]
  },
  {
   "cell_type": "code",
   "execution_count": null,
   "metadata": {},
   "outputs": [],
   "source": [
    "import os.path as path\n",
    "import sys\n",
    "\n",
    "sys.path.append(path.abspath('../../functions-legacy'))\n",
    "\n",
    "import numpy as np\n",
    "from numpy import array, ones, diag, exp\n",
    "from numpy.linalg import pinv, norm\n",
    "\n",
    "import matplotlib.pyplot as plt\n",
    "\n",
    "plt.style.use('seaborn')\n",
    "\n",
    "from NormalScenarios import NormalScenarios\n",
    "from OrdLeastSquareFPNReg import OrdLeastSquareFPNReg\n",
    "\n",
    "# inputs\n",
    "n_ = 3  # number of stocks\n",
    "k_ = 2  # number of factors\n",
    "j_ = 30000  # number of simulations\n",
    "\n",
    "mu_YF = array([[0.05, 0.18, -0.23, 0.09, 0.03]]).T  # mean vector\n",
    "\n",
    "sig2_YF = array([[0.50, - 0.05, - 0.30, - 0.18, - 0.51],\n",
    "           [ -0.05,  0.55, - 0.02, - 0.29, - 0.16],\n",
    "           [- 0.30, - 0.02,  0.52,  0.27,  0.45],\n",
    "           [- 0.18, - 0.29,  0.27,  0.51,  0.37],\n",
    "           [- 0.51, - 0.16,  0.45,  0.37,  0.66]])  # joint covariance"
   ]
  },
  {
   "cell_type": "markdown",
   "metadata": {},
   "source": [
    "## Compute LFM parameters analytically"
   ]
  },
  {
   "cell_type": "code",
   "execution_count": null,
   "metadata": {},
   "outputs": [],
   "source": [
    "mu_Y = mu_YF[:n_]\n",
    "mu_F = mu_YF[n_:n_+ k_]\n",
    "\n",
    "sig2_Y = sig2_YF[:n_, :n_]\n",
    "sig_YF = sig2_YF[:n_, n_ :n_+ k_]\n",
    "sig2_F = sig2_YF[n_ :n_+ k_, n_ :n_ + k_]\n",
    "\n",
    "# computation of beta\n",
    "exp_Y = exp(mu_Y + diag(sig2_Y).reshape(-1,1) / 2)\n",
    "exp_F = exp(mu_F + diag(sig2_F).reshape(-1,1) / 2)\n",
    "beta = np.diagflat(exp_Y)@(exp(sig_YF) - ones((n_, k_))).dot(pinv((exp(sig2_F) - ones((k_, k_)))@np.diagflat(exp_F)))\n",
    "\n",
    "# computation of alpha\n",
    "alpha = exp_Y - ones((n_, 1)) - beta@(exp_F - ones((k_, 1)))"
   ]
  },
  {
   "cell_type": "markdown",
   "metadata": {},
   "source": [
    "## Generate simulations for variables Y,F and deduce simulations for X,Z"
   ]
  },
  {
   "cell_type": "code",
   "execution_count": null,
   "metadata": {},
   "outputs": [],
   "source": [
    "YF = NormalScenarios(mu_YF, sig2_YF, j_, 'Riccati')[0]\n",
    "\n",
    "XZ = exp(YF) - 1\n",
    "X = XZ[:n_,:]\n",
    "Z = XZ[n_:n_ + k_,:]"
   ]
  },
  {
   "cell_type": "markdown",
   "metadata": {},
   "source": [
    "## Set Flexible Probabilities"
   ]
  },
  {
   "cell_type": "code",
   "execution_count": null,
   "metadata": {},
   "outputs": [],
   "source": [
    "p = ones((j_, 1)) / j_"
   ]
  },
  {
   "cell_type": "markdown",
   "metadata": {},
   "source": [
    "## Estimate regression LFM"
   ]
  },
  {
   "cell_type": "code",
   "execution_count": null,
   "metadata": {},
   "outputs": [],
   "source": [
    "[alpha_OLSFP, beta_OLSFP, s2_OLSFP, U] = OrdLeastSquareFPNReg(X, Z, p)"
   ]
  },
  {
   "cell_type": "markdown",
   "metadata": {},
   "source": [
    "## Compute estimation errors"
   ]
  },
  {
   "cell_type": "code",
   "execution_count": null,
   "metadata": {},
   "outputs": [],
   "source": [
    "er_alpha = norm(alpha - alpha_OLSFP)\n",
    "er_beta = norm(beta - beta_OLSFP)"
   ]
  }
 ],
 "metadata": {
  "jupytext": {
   "encoding": "# -*- coding: utf-8 -*-",
   "executable": "/usr/bin/env python3"
  },
  "kernelspec": {
   "display_name": "Python 3",
   "language": "python",
   "name": "python3"
  }
 },
 "nbformat": 4,
 "nbformat_minor": 4
}
