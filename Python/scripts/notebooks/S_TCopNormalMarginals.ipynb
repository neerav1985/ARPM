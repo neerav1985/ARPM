{
 "cells": [
  {
   "cell_type": "markdown",
   "metadata": {},
   "source": [
    "# S_TCopNormalMarginals [<img src=\"https://www.arpm.co/lab/icons/icon_permalink.png\" width=30 height=30 style=\"display: inline;\">](https://www.arpm.co/lab/redirect.php?code=S_TCopNormalMarginals&codeLang=Python)\n",
    "For details, see here."
   ]
  },
  {
   "cell_type": "markdown",
   "metadata": {},
   "source": [
    "## Prepare the environment"
   ]
  },
  {
   "cell_type": "code",
   "execution_count": null,
   "metadata": {},
   "outputs": [],
   "source": [
    "import os\n",
    "import os.path as path\n",
    "import sys\n",
    "\n",
    "sys.path.append(path.abspath('../../functions-legacy'))\n",
    "from collections import namedtuple\n",
    "\n",
    "import numpy as np\n",
    "from numpy import arange, prod, array, zeros, r_\n",
    "\n",
    "from scipy.stats import norm, t\n",
    "\n",
    "import matplotlib.pyplot as plt\n",
    "from mpl_toolkits.mplot3d import Axes3D\n",
    "from matplotlib.pyplot import figure, scatter, subplots, ylabel, \\\n",
    "    xlabel, title\n",
    "from mpl_toolkits.mplot3d import Axes3D\n",
    "import matplotlib.cm as cm\n",
    "\n",
    "plt.style.use('seaborn')\n",
    "np.seterr(invalid='ignore')\n",
    "\n",
    "from ARPM_utils import save_plot\n",
    "from StudentTCopulaPdf import StudentTCopulaPdf\n",
    "from Tscenarios import Tscenarios\n",
    "\n",
    "# input parameters\n",
    "j_ = 1000  # number of simulations\n",
    "mu = array([[0], [0]])  # location\n",
    "rho = 0.2  # correlation\n",
    "sigvec = array([[1], [1]])  # standard deviations\n",
    "nu = 10  # degrees of freedom\n",
    "\n",
    "# grid in the unit square\n",
    "Grid = arange(0, 1 + 0.05, 0.05)\n",
    "nGrid = len(Grid)"
   ]
  },
  {
   "cell_type": "markdown",
   "metadata": {},
   "source": [
    "## Compute pdf of X by means of Sklar.T theorem"
   ]
  },
  {
   "cell_type": "code",
   "execution_count": null,
   "metadata": {},
   "outputs": [],
   "source": [
    "c2 = array([[1, rho], [rho, 1]])  # correlation matrix\n",
    "sigma2 = np.diagflat(sigvec)@c2@np.diagflat(sigvec)  # dispersion matrix\n",
    "\n",
    "f_U = zeros((nGrid, nGrid))\n",
    "f_X = zeros((nGrid, nGrid))\n",
    "for n in range(nGrid):\n",
    "    for m in range(nGrid):\n",
    "        u = array([[Grid[n]], [Grid[m]]])\n",
    "        f_U[n, m] = StudentTCopulaPdf(u, nu, mu, sigma2)  # pdf of copula\n",
    "        f_X[n, m] = f_U[n, m]*prod(norm.pdf(norm.ppf(u, mu, sigvec), mu, sigvec))"
   ]
  },
  {
   "cell_type": "markdown",
   "metadata": {},
   "source": [
    "## Generate moment matching t-simulations"
   ]
  },
  {
   "cell_type": "code",
   "execution_count": null,
   "metadata": {},
   "outputs": [],
   "source": [
    "optionT = namedtuple('optionT', 'dim_red stoc_rep')\n",
    "optionT.dim_red = 0\n",
    "optionT.stoc_rep = 0\n",
    "Z = Tscenarios(nu, mu, sigma2, j_, optionT, 'Riccati')"
   ]
  },
  {
   "cell_type": "markdown",
   "metadata": {},
   "source": [
    "## Generate draws from the copula"
   ]
  },
  {
   "cell_type": "code",
   "execution_count": null,
   "metadata": {},
   "outputs": [],
   "source": [
    "U_1 = t.cdf((Z[0] - mu[0]) / sigvec[0], nu)  # grade 1\n",
    "U_2 = t.cdf((Z[1] - mu[1]) / sigvec[1], nu)  # grade 2\n",
    "U = r_[U_1, U_2]  # joint realizations from the required copula"
   ]
  },
  {
   "cell_type": "markdown",
   "metadata": {},
   "source": [
    "## Generate draws of X from the grades and the inverse of normal marginals"
   ]
  },
  {
   "cell_type": "code",
   "execution_count": null,
   "metadata": {},
   "outputs": [],
   "source": [
    "X_1 = norm.ppf(U_1, mu[0], sigvec[0])\n",
    "X_2 = norm.ppf(U_2, mu[1], sigvec[1])\n",
    "X = r_[X_1[np.newaxis,...], X_2[np.newaxis,...]]  # joint realizations"
   ]
  },
  {
   "cell_type": "markdown",
   "metadata": {},
   "source": [
    "## Display the pdf of X"
   ]
  },
  {
   "cell_type": "code",
   "execution_count": null,
   "metadata": {},
   "outputs": [],
   "source": [
    "xx_1 = norm.ppf(Grid, mu[0], sigvec[0])\n",
    "xx_2 = norm.ppf(Grid, mu[1], sigvec[1])\n",
    "[x_1, x_2] = np.meshgrid(xx_1, xx_2)\n",
    "\n",
    "f, ax = subplots(1, 1, subplot_kw=dict(projection='3d'))\n",
    "ax.view_init(30,-120)\n",
    "ax.plot_surface(x_1, x_2, f_X.T, cmap=cm.viridis,vmin=np.nanmin(f_X),vmax= np.nanmax(f_X))\n",
    "xlabel('$X_1$',labelpad=10)\n",
    "ylabel('$X_2$',labelpad=10)\n",
    "title('Joint pdf of X');\n",
    "# save_plot(ax=plt.gca(), extension='png', scriptname=os.path.basename('.')[:-3], count=plt.get_fignums()[-1])"
   ]
  },
  {
   "cell_type": "markdown",
   "metadata": {},
   "source": [
    "## Scatter-plot of X_1 against X_2"
   ]
  },
  {
   "cell_type": "code",
   "execution_count": null,
   "metadata": {},
   "outputs": [],
   "source": [
    "figure()\n",
    "scatter(X[0], X[1], s=10, c=[.5, .5, .5], marker='.')\n",
    "xlabel('$X_1$')\n",
    "ylabel('$X_2$')\n",
    "title('Scatter-plot of X');\n",
    "# save_plot(ax=plt.gca(), extension='png', scriptname=os.path.basename('.')[:-3], count=plt.get_fignums()[-1])"
   ]
  }
 ],
 "metadata": {
  "jupytext": {
   "encoding": "# -*- coding: utf-8 -*-",
   "executable": "/usr/bin/env python3"
  },
  "kernelspec": {
   "display_name": "Python 3",
   "language": "python",
   "name": "python3"
  }
 },
 "nbformat": 4,
 "nbformat_minor": 4
}
