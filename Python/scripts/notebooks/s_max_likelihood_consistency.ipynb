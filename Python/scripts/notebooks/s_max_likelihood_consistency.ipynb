{
 "cells": [
  {
   "cell_type": "markdown",
   "metadata": {},
   "source": [
    "# s_max_likelihood_consistency [<img src=\"https://www.arpm.co/lab/icons/icon_permalink.png\" width=30 height=30 style=\"display: inline;\">](https://www.arpm.co/lab/redirect.php?code=s_max_likelihood_consistency&codeLang=Python)\n",
    "For details, see [here](https://www.arpm.co/lab/redirect.php?permalink=ExerMaxLikConsist)."
   ]
  },
  {
   "cell_type": "markdown",
   "metadata": {},
   "source": [
    "## Prepare the environment"
   ]
  },
  {
   "cell_type": "code",
   "execution_count": null,
   "metadata": {},
   "outputs": [],
   "source": [
    "import numpy as np\n",
    "from scipy.stats import t\n",
    "import matplotlib.pyplot as plt\n",
    "\n",
    "from arpym.estimation.fit_locdisp_mlfp import fit_locdisp_mlfp\n",
    "from arpym.statistics.simulate_t import simulate_t"
   ]
  },
  {
   "cell_type": "markdown",
   "metadata": {},
   "source": [
    "## [Input parameters](https://www.arpm.co/lab/redirect.php?permalink=s_max_likelihood_consistency-parameters)"
   ]
  },
  {
   "cell_type": "code",
   "execution_count": null,
   "metadata": {
    "lines_to_next_cell": 2
   },
   "outputs": [],
   "source": [
    "t_ = 500  # number of observations\n",
    "mu = 0  # location parameter\n",
    "sigma2 = 2  # dispersion\n",
    "nu = 3  # degrees of freedom"
   ]
  },
  {
   "cell_type": "markdown",
   "metadata": {},
   "source": [
    "## [Step 1](https://www.arpm.co/lab/redirect.php?permalink=s_max_likelihood_consistency-implementation-step01): Generate Student t observations"
   ]
  },
  {
   "cell_type": "code",
   "execution_count": null,
   "metadata": {
    "lines_to_next_cell": 2
   },
   "outputs": [],
   "source": [
    "epsi = simulate_t(mu, sigma2, nu, t_)"
   ]
  },
  {
   "cell_type": "markdown",
   "metadata": {},
   "source": [
    "## [Step 2](https://www.arpm.co/lab/redirect.php?permalink=s_max_likelihood_consistency-implementation-step02): Compute maximum likelihood parameters"
   ]
  },
  {
   "cell_type": "code",
   "execution_count": null,
   "metadata": {
    "lines_to_next_cell": 2
   },
   "outputs": [],
   "source": [
    "mu_ml, sigma2_ml = fit_locdisp_mlfp(epsi, nu=nu, threshold=1e-4)  # maximum likelihood estimates"
   ]
  },
  {
   "cell_type": "markdown",
   "metadata": {},
   "source": [
    "## [Step 3](https://www.arpm.co/lab/redirect.php?permalink=s_max_likelihood_consistency-implementation-step03): Compute maximum likelihood pdf and cdf and true pdf and cdf"
   ]
  },
  {
   "cell_type": "code",
   "execution_count": null,
   "metadata": {
    "lines_to_next_cell": 2
   },
   "outputs": [],
   "source": [
    "sigma = np.sqrt(sigma2)\n",
    "x = np.linspace(mu + sigma * t.ppf(0.01, nu), mu + sigma * t.ppf(0.99, nu), 10**5)  # equally spaced grid\n",
    "sigma_ml = np.sqrt(sigma2_ml)\n",
    "f_ml_eps = t.pdf((x - mu_ml) / sigma_ml, nu)  # maximum likelihood pdf\n",
    "f_eps = t.pdf((x - mu) / sigma, nu) # true pdf\n",
    "cdf_ml_eps = t.cdf((x - mu_ml) / sigma_ml, nu)  # maximum likelihood cdf\n",
    "cdf_eps = t.cdf((x - mu) / sigma, nu)  # true cdf"
   ]
  },
  {
   "cell_type": "markdown",
   "metadata": {},
   "source": [
    "## Plot"
   ]
  },
  {
   "cell_type": "code",
   "execution_count": null,
   "metadata": {},
   "outputs": [],
   "source": [
    "orange = [.9, .4, .2]\n",
    "b = [0, 0.5, 1]\n",
    "plt.style.use('arpm')\n",
    "\n",
    "fig, axs = plt.subplots(2)\n",
    "\n",
    "# plot the maximum likelihood pdf\n",
    "axs[0].plot(x, f_ml_eps, lw=1.5, color=orange)\n",
    "plt.xlim([np.min(x), np.max(x)])\n",
    "plt.ylim([0, np.max(f_ml_eps) + 0.15])\n",
    "\n",
    "# plot the true pdf\n",
    "axs[0].plot(x, f_eps, lw=1.5, color=b)\n",
    "axs[0].set_xlim(x[0], x[-1])\n",
    "axs[0].text(mu + 3, 0.3, 'Number of observations: '+str(t_), color='black', fontsize=12)\n",
    "\n",
    "# Display the maximum likelihood cdf and overlay the true cdf\n",
    "# plot the maximum likelihood cdf\n",
    "axs[1].plot(x, cdf_ml_eps, color=orange, lw=1.5)\n",
    "plt.xlim([np.min(x), np.max(x)])\n",
    "plt.ylim([0, np.max(cdf_eps) + 0.15])\n",
    "\n",
    "# plot the true cdf\n",
    "axs[1].plot(x, cdf_eps, lw=1.5, color=b)\n",
    "axs[1].set_xlim(x[0], x[-1])\n",
    "axs[1].legend(['True','Max Likelihood'], loc='lower right')\n",
    "plt.tight_layout();"
   ]
  }
 ],
 "metadata": {
  "jupytext": {
   "encoding": "# -*- coding: utf-8 -*-",
   "executable": "/usr/bin/env python3"
  },
  "kernelspec": {
   "display_name": "Python 3",
   "language": "python",
   "name": "python3"
  }
 },
 "nbformat": 4,
 "nbformat_minor": 4
}
