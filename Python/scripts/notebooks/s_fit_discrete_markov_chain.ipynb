{
 "cells": [
  {
   "cell_type": "markdown",
   "metadata": {},
   "source": [
    "# s_fit_discrete_markov_chain [<img src=\"https://www.arpm.co/lab/icons/icon_permalink.png\" width=30 height=30 style=\"display: inline;\">](https://www.arpm.co/lab/redirect.php?code=s_fit_discrete_markov_chain&codeLang=Python)\n",
    "For details, see [here](https://www.arpm.co/lab/redirect.php?permalink=eb-fit-discrete-markov-chain)."
   ]
  },
  {
   "cell_type": "markdown",
   "metadata": {},
   "source": [
    "## Prepare the environment"
   ]
  },
  {
   "cell_type": "code",
   "execution_count": null,
   "metadata": {},
   "outputs": [],
   "source": [
    "import numpy as np\n",
    "import pandas as pd\n",
    "import matplotlib.pyplot as plt\n",
    "from scipy.stats import t as tstu\n",
    "\n",
    "from arpym.estimation.fit_trans_matrix_credit import fit_trans_matrix_credit\n",
    "from arpym.tools.logo import add_logo"
   ]
  },
  {
   "cell_type": "markdown",
   "metadata": {},
   "source": [
    "## [Input parameters](https://www.arpm.co/lab/redirect.php?permalink=s_fit_discrete_markov_chain-parameters)"
   ]
  },
  {
   "cell_type": "code",
   "execution_count": null,
   "metadata": {},
   "outputs": [],
   "source": [
    "tau_hl = 5    # half-life parameter in years\n",
    "r = 3    # initial rating"
   ]
  },
  {
   "cell_type": "markdown",
   "metadata": {},
   "source": [
    "## [Step 0](https://www.arpm.co/lab/redirect.php?permalink=s_fit_discrete_markov_chain-implementation-step00): Upload data"
   ]
  },
  {
   "cell_type": "code",
   "execution_count": null,
   "metadata": {},
   "outputs": [],
   "source": [
    "path = '~/databases/temporary-databases/'    # upload data\n",
    "db_credit = pd.read_csv(path+'db_credit_rd.csv',\n",
    "                        index_col=0, parse_dates=True)\n",
    "filt=['(' not in col for col in db_credit.columns]\n",
    "ratings = [i for indx,i in enumerate(db_credit.columns) if filt[indx] == True]\n",
    "c_ = len(ratings)-1\n",
    "n_obligors = db_credit.values[:, :c_+1]\n",
    "dates = np.array(db_credit.index).astype('datetime64[D]')\n",
    "t_ = dates.shape[0]\n",
    "n_cum_trans = db_credit.values[:, c_+1:].reshape(t_, c_+1, c_+1)\n",
    "stocks_path = '~/databases/global-databases/equities/db_stocks_SP500/'\n",
    "db_stocks = pd.read_csv(stocks_path + 'db_stocks_sp.csv', skiprows=[0],\n",
    "                        index_col=0)\n",
    "v = db_stocks.loc[:, ['GE', 'JPM']].values"
   ]
  },
  {
   "cell_type": "markdown",
   "metadata": {},
   "source": [
    "## [Step 1](https://www.arpm.co/lab/redirect.php?permalink=s_fit_discrete_markov_chain-implementation-step01): Compute final transition matrix"
   ]
  },
  {
   "cell_type": "code",
   "execution_count": null,
   "metadata": {},
   "outputs": [],
   "source": [
    "p = fit_trans_matrix_credit(dates, n_obligors, n_cum_trans, tau_hl)    # transition probability matrix"
   ]
  },
  {
   "cell_type": "markdown",
   "metadata": {},
   "source": [
    "## [Step 2](https://www.arpm.co/lab/redirect.php?permalink=s_fit_discrete_markov_chain-implementation-step02): Compute cdf"
   ]
  },
  {
   "cell_type": "code",
   "execution_count": null,
   "metadata": {},
   "outputs": [],
   "source": [
    "f = np.cumsum(p[3, :])    # conditional cdf"
   ]
  },
  {
   "cell_type": "markdown",
   "metadata": {},
   "source": [
    "## [Step 3](https://www.arpm.co/lab/redirect.php?permalink=s_fit_discrete_markov_chain-implementation-step03): Save database"
   ]
  },
  {
   "cell_type": "code",
   "execution_count": null,
   "metadata": {},
   "outputs": [],
   "source": [
    "out = pd.DataFrame(p)\n",
    "out.to_csv(path+'db_trans_matrix.csv')\n",
    "del out"
   ]
  },
  {
   "cell_type": "markdown",
   "metadata": {},
   "source": [
    "## Plots"
   ]
  },
  {
   "cell_type": "code",
   "execution_count": null,
   "metadata": {},
   "outputs": [],
   "source": [
    "plt.style.use('arpm')\n",
    "mydpi = 72.0\n",
    "fig = plt.figure(figsize=(1280.0/mydpi, 720.0/mydpi), dpi=mydpi)\n",
    "bars = ('AAA', 'AA', 'A', 'BBB', 'BB', 'B', 'CCC', 'D')\n",
    "\n",
    "ax1 = plt.axes([0.6, 0.53, 0.35, 0.35])\n",
    "ax1.step(np.arange(c_+2), np.r_[0, f], color='black')\n",
    "ax1.tick_params(axis='x', colors='None')\n",
    "ax1.set_xlim([-0.5, 8])\n",
    "plt.ylabel('cdf', fontsize=17)\n",
    "plt.xlabel(r'$\\tilde{c}$', horizontalalignment='right', x=1)\n",
    "plt.title(\"Markov chain for credit ratings\", fontsize=20, fontweight='bold')\n",
    "\n",
    "ax2 = plt.axes([0.6, 0.4, 0.35, 0.1])\n",
    "height = p[:, 3]\n",
    "AAA = [0/255, 166/255, 0/255]\n",
    "AA = [75/255, 209/255, 29/255]\n",
    "A = [131/255, 213/255, 32/255]\n",
    "BBB = [188/255, 217/255, 34/255]\n",
    "BB = [221/255, 195/255, 36/255]\n",
    "B = [225/255, 144/255, 38/255]\n",
    "CCC = [229/255, 92/255, 40/255]\n",
    "D =  [233/255, 42/255, 47/255]\n",
    "plt.bar(bars, height, color=[AAA, AA, A, BBB, BB, B, CCC, D])\n",
    "ax2.set_xlim([-0.5, 8])\n",
    "ax2.set_ylim([0, 1])\n",
    "plt.ylabel('pdf', fontsize=17)\n",
    "plt.xlabel(r'$\\tilde{c}$', horizontalalignment='right', x=1)\n",
    "\n",
    "plt.show()\n",
    "add_logo(fig)"
   ]
  }
 ],
 "metadata": {
  "kernelspec": {
   "display_name": "Python 3",
   "language": "python",
   "name": "python3"
  }
 },
 "nbformat": 4,
 "nbformat_minor": 4
}
