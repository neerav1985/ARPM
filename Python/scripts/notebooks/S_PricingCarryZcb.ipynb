{
 "cells": [
  {
   "cell_type": "markdown",
   "metadata": {},
   "source": [
    "# S_PricingCarryZcb [<img src=\"https://www.arpm.co/lab/icons/icon_permalink.png\" width=30 height=30 style=\"display: inline;\">](https://www.arpm.co/lab/redirect.php?code=S_PricingCarryZcb&codeLang=Python)\n",
    "For details, see [here](https://www.arpm.co/lab/redirect.php?permalink=ExCarryNelsSieg)."
   ]
  },
  {
   "cell_type": "markdown",
   "metadata": {},
   "source": [
    "## Prepare the environment"
   ]
  },
  {
   "cell_type": "code",
   "execution_count": null,
   "metadata": {},
   "outputs": [],
   "source": [
    "import os.path as path\n",
    "import sys\n",
    "\n",
    "sys.path.append(path.abspath('../../functions-legacy'))\n",
    "\n",
    "from numpy import exp\n",
    "\n",
    "import matplotlib.pyplot as plt\n",
    "\n",
    "plt.style.use('seaborn')\n",
    "\n",
    "# parameters\n",
    "\n",
    "# Nelson-Siegel parameters for the forward/yield curve\n",
    "theta1 = 0.05\n",
    "theta2 = 0.01\n",
    "theta3 = 0.04\n",
    "theta4 = 0.5\n",
    "\n",
    "tau1 = 0.5  # time to maturity at time t\n",
    "tau2 = 0.49  # time to maturity at time t+deltat"
   ]
  },
  {
   "cell_type": "markdown",
   "metadata": {},
   "source": [
    "## Computation of the exact annualized zero-coupon bond carry return"
   ]
  },
  {
   "cell_type": "code",
   "execution_count": null,
   "metadata": {},
   "outputs": [],
   "source": [
    "y_NS =lambda x: theta1 - theta2*(1 - exp(-theta4 ** 2*x)) / (theta4 ** 2*x) + theta3*(\n",
    "(1 - exp(-theta4 ** 2*x)) / (theta4 ** 2*x) - exp(-theta4 ** 2*x))  # spot yield curve according to the Nelson-Siegel parametrization\n",
    "exact_carry = (exp(tau1*y_NS(tau1) - tau2*y_NS(tau2)) - 1) / (tau1 - tau2)"
   ]
  },
  {
   "cell_type": "markdown",
   "metadata": {},
   "source": [
    "## Computation of the approximated zero-coupon bond carry return"
   ]
  },
  {
   "cell_type": "code",
   "execution_count": null,
   "metadata": {},
   "outputs": [],
   "source": [
    "der_yNS =lambda x: - (theta2 / ((theta4*x) ** 2))*(exp((-(theta4 ** 2))*x)*(theta4 ** 2*x + 1) - 1) + theta3*(\n",
    "(exp((-(theta4 ** 2))*x)*(theta4 ** 2*x + 1) - 1) / (theta4*x)**2 + theta4**2*exp(-(theta4)**2*x))\n",
    "\n",
    "yield_income = y_NS(tau2)\n",
    "roll_down = tau2*der_yNS(tau2)\n",
    "approx_carry = yield_income + roll_down"
   ]
  }
 ],
 "metadata": {
  "jupytext": {
   "encoding": "# -*- coding: utf-8 -*-",
   "executable": "/usr/bin/env python3"
  },
  "kernelspec": {
   "display_name": "Python 3",
   "language": "python",
   "name": "python3"
  }
 },
 "nbformat": 4,
 "nbformat_minor": 4
}
