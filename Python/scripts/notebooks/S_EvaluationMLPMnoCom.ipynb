{
 "cells": [
  {
   "cell_type": "markdown",
   "metadata": {},
   "source": [
    "# S_EvaluationMLPMnoCom [<img src=\"https://www.arpm.co/lab/icons/icon_permalink.png\" width=30 height=30 style=\"display: inline;\">](https://www.arpm.co/lab/redirect.php?code=S_EvaluationMLPMnoCom&codeLang=Python)\n",
    "For details, see [here](https://www.arpm.co/lab/redirect.php?permalink=EBCompMLPMnoCom)."
   ]
  },
  {
   "cell_type": "markdown",
   "metadata": {},
   "source": [
    "## Prepare the environment"
   ]
  },
  {
   "cell_type": "code",
   "execution_count": null,
   "metadata": {},
   "outputs": [],
   "source": [
    "import os.path as path\n",
    "import sys\n",
    "\n",
    "sys.path.append(path.abspath('../../functions-legacy'))\n",
    "\n",
    "from numpy import array, mean, exp, sqrt\n",
    "\n",
    "import matplotlib.pyplot as plt\n",
    "\n",
    "plt.style.use('seaborn')\n",
    "\n",
    "from FPmeancov import FPmeancov\n",
    "\n",
    "# parameters\n",
    "Y1 = array([[1],[0], [- 1]])\n",
    "Y2 = exp(Y1)  # Y1 and Y2 are co-monotonic\n",
    "p = array([[1,1,1]]).T / 3"
   ]
  },
  {
   "cell_type": "markdown",
   "metadata": {},
   "source": [
    "## Compute the mean-lower partial moment trade-offs of Y1, Y2 and Y1+Y2.\n",
    "## The expectations of Y1, Y2 and Y1+Y2 are obtained using function\n",
    "## FPmeancov"
   ]
  },
  {
   "cell_type": "code",
   "execution_count": null,
   "metadata": {},
   "outputs": [],
   "source": [
    "Y1_ = Y1 - FPmeancov(Y1.T,p)[0]\n",
    "Y2_ = Y2 - FPmeancov(Y2.T,p)[0]\n",
    "Y12_ = (Y1 + Y2) - FPmeancov(Y1.T+Y2.T,p)[0]\n",
    "\n",
    "mlpm_Y1 = mean(Y1) - sqrt(((Y1_ ** 2) * (Y1_ < 0)).T@p)  # mean-lower partial moment trade-off of Y1\n",
    "mlpm_Y2 = mean(Y2) - sqrt(((Y2_ ** 2) * (Y2_ < 0)).T@p)  # mean-lower partial moment trade-off of Y2\n",
    "mlpm_Ysum = mlpm_Y1 + mlpm_Y2  # sum of the two mean-lower partial moment trade-offs\n",
    "mlpm_Y12 = mean(Y1 + Y2) - sqrt((((Y12_) ** 2) * (Y12_ < 0)).T@p)  # mean-lower partial moment trade-off of Y1+Y2"
   ]
  }
 ],
 "metadata": {
  "jupytext": {
   "encoding": "# -*- coding: utf-8 -*-",
   "executable": "/usr/bin/env python3"
  },
  "kernelspec": {
   "display_name": "Python 3",
   "language": "python",
   "name": "python3"
  }
 },
 "nbformat": 4,
 "nbformat_minor": 4
}
