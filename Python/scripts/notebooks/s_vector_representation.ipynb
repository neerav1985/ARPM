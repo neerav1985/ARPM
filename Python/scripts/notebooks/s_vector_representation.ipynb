{
 "cells": [
  {
   "cell_type": "markdown",
   "metadata": {},
   "source": [
    "# s_vector_representation [<img src=\"https://www.arpm.co/lab/icons/icon_permalink.png\" width=30 height=30 style=\"display: inline;\">](https://www.arpm.co/lab/redirect.php?code=s_vector_representation&codeLang=Python)\n",
    "For details, see [here](https://www.arpm.co/lab/redirect.php?permalink=s_vector_representation)."
   ]
  },
  {
   "cell_type": "code",
   "execution_count": null,
   "metadata": {},
   "outputs": [],
   "source": [
    "import numpy as np\n",
    "import matplotlib.pyplot as plt\n",
    "from matplotlib.patches import FancyArrowPatch\n",
    "from mpl_toolkits.mplot3d import Axes3D\n",
    "from mpl_toolkits.mplot3d import proj3d\n",
    "import matplotlib.gridspec as gridspec\n",
    "\n",
    "from arpym.tools.logo import add_logo"
   ]
  },
  {
   "cell_type": "markdown",
   "metadata": {},
   "source": [
    "## [Input parameters](https://www.arpm.co/lab/redirect.php?permalink=s_vector_representation-parameters)"
   ]
  },
  {
   "cell_type": "code",
   "execution_count": null,
   "metadata": {},
   "outputs": [],
   "source": [
    "v = np.array([1.0, 1.5, 0.8])  # vector"
   ]
  },
  {
   "cell_type": "markdown",
   "metadata": {},
   "source": [
    "## Plots"
   ]
  },
  {
   "cell_type": "code",
   "execution_count": null,
   "metadata": {},
   "outputs": [],
   "source": [
    "plt.style.use('arpm')\n",
    "\n",
    "# arrow in 3D plot\n",
    "class Arrow3D(FancyArrowPatch):\n",
    "    def __init__(self, xs, ys, zs, *args, **kwargs):\n",
    "        FancyArrowPatch.__init__(self, (0,0), (0,0), *args, **kwargs)\n",
    "        self._verts3d = xs, ys, zs\n",
    "\n",
    "    def draw(self, renderer):\n",
    "        xs3d, ys3d, zs3d = self._verts3d\n",
    "        xs, ys, zs = proj3d.proj_transform(xs3d, ys3d, zs3d, renderer.M)\n",
    "        self.set_positions((xs[0],ys[0]),(xs[1],ys[1]))\n",
    "        FancyArrowPatch.draw(self, renderer)\n",
    "\n",
    "# representations of a vector\n",
    "fig1 = plt.figure(figsize=(1280.0/72.0, 720.0/72.0), dpi = 72.0,\n",
    "                  facecolor = 'white')\n",
    "gs = fig1.add_gridspec(10, 2)\n",
    "\n",
    "# arrow in 3D Cartesian plane\n",
    "ax1 = fig1.add_subplot(gs[:, 0], projection='3d')\n",
    "\n",
    "# vector v\n",
    "a = Arrow3D([0, v[0]], [0, v[1]], \n",
    "            [0, v[2]], mutation_scale=20, \n",
    "            arrowstyle=\"-|>\", color='C0')\n",
    "ax1.add_artist(a)\n",
    "ax1.text(v[0], v[1], v[2],\n",
    "         '('+str(v[0])+', '+str(v[1])+', '+str(v[2])+')',\n",
    "         fontsize=17, color='C0')\n",
    "\n",
    "# bottom rectangle\n",
    "plt.plot([0, v[0]], [v[1], v[1]], [0, 0], ls='--', color='lightgrey')\n",
    "plt.plot([v[0], v[0]], [0, v[1]], [0, 0], ls='--', color='lightgrey')\n",
    "\n",
    "# top rectangle\n",
    "plt.plot([0, v[0]], [0, 0], [v[2], v[2]], ls='--', color='lightgrey')\n",
    "plt.plot([0, 0], [0, v[1]], [v[2], v[2]], ls='--', color='lightgrey')\n",
    "plt.plot([0, v[0]], [v[1], v[1]], [v[2], v[2]], ls='--', color='lightgrey')\n",
    "plt.plot([v[0], v[0]], [0, v[1]], [v[2], v[2]], ls='--', color='lightgrey')\n",
    "\n",
    "# vertical lines\n",
    "plt.plot([v[0], v[0]], [v[1], v[1]], [0, v[2]], ls='--', color='lightgrey')\n",
    "plt.plot([v[0], v[0]], [0, 0], [0, v[2]], ls='--', color='lightgrey')\n",
    "plt.plot([0, 0], [v[1], v[1]], [0, v[2]], ls='--', color='lightgrey')\n",
    "\n",
    "# axes\n",
    "ax1.axis('off')\n",
    "ax1.set_xlim([0, np.ceil(max(v))*1.2])\n",
    "ax1.set_ylim([0, np.ceil(max(v))*1.2])\n",
    "ax1.set_zlim([0, np.ceil(max(v))*1.2])\n",
    "\n",
    "plt.title('Geometrical representation', fontsize=20, fontweight='bold')\n",
    "\n",
    "x_axis = Arrow3D([-0.03, np.ceil(max(v))*1.2], [0, 0], \n",
    "            [0, 0], mutation_scale=20, \n",
    "            arrowstyle=\"-|>\", color='black')\n",
    "ax1.add_artist(x_axis)\n",
    "ax1.text(np.ceil(max(v))*1.1, -0.1, 0.1, r'$\\mathrm{\\mathbb{R}}^{(1)}$',\n",
    "         fontsize=17, color='black')\n",
    "ax1.text(v[0], 0, -0.2, v[0], fontsize=17, color='C0')\n",
    "\n",
    "y_axis = Arrow3D([0, 0], [-0.03, np.ceil(max(v))*1.2], \n",
    "            [0, 0], mutation_scale=20, \n",
    "            arrowstyle=\"-|>\", color='black')\n",
    "ax1.add_artist(y_axis)\n",
    "ax1.text(0, np.ceil(max(v))*1.1, 0.1, r'$\\mathrm{\\mathbb{R}}^{(2)}$',\n",
    "         fontsize=17, color='black')\n",
    "ax1.text(0, v[1], -0.21, v[1], fontsize=17, color='C0')\n",
    "\n",
    "z_axis = Arrow3D([0, 0], [0, 0], \n",
    "            [-0.01, np.ceil(max(v))*1.2], mutation_scale=20, \n",
    "            arrowstyle=\"-|>\", color='black')\n",
    "ax1.add_artist(z_axis)\n",
    "ax1.text(0, 0.1, np.ceil(max(v))*1.1, r'$\\mathrm{\\mathbb{R}}^{(3)}$',\n",
    "         fontsize=17, color='black')\n",
    "ax1.text(0, 0.1, v[2]*1.05, v[2], fontsize=17, color='C0')\n",
    "\n",
    "# formatting\n",
    "ax1.view_init(20, 30)\n",
    "ax1.grid(False)\n",
    "ax1.w_xaxis.set_pane_color((1.0, 1.0, 1.0, 1.0))\n",
    "ax1.w_yaxis.set_pane_color((1.0, 1.0, 1.0, 1.0))\n",
    "ax1.w_zaxis.set_pane_color((1.0, 1.0, 1.0, 1.0))\n",
    "\n",
    "# coordinate representation\n",
    "ax2 = fig1.add_subplot(gs[1:8, 1])\n",
    "ax2.scatter([1, 2, 3], [v[0], v[1], v[2]])\n",
    "\n",
    "plt.title('Analytical representation', fontsize=20, fontweight='bold',\n",
    "          pad=25)\n",
    "\n",
    "plt.xticks(np.arange(1, 4), ('(1)', '(2)', '(3)'), fontsize=14)\n",
    "plt.xlabel(r'$\\mathrm{\\mathbb{N}}$', fontsize=17, labelpad=10)\n",
    "\n",
    "ax2.set_ylim([0, np.ceil(max(v))*1.2])\n",
    "plt.yticks(fontsize=14)\n",
    "plt.ylabel(r'$\\mathrm{\\mathbb{R}}$', fontsize=17, labelpad=20,\n",
    "           rotation=0)\n",
    "\n",
    "add_logo(fig1, set_fig_size=False)\n",
    "plt.tight_layout()"
   ]
  }
 ],
 "metadata": {
  "jupytext": {
   "encoding": "# -*- coding: utf-8 -*-",
   "executable": "/usr/bin/env python3"
  },
  "kernelspec": {
   "display_name": "Python 3",
   "language": "python",
   "name": "python3"
  }
 },
 "nbformat": 4,
 "nbformat_minor": 4
}
