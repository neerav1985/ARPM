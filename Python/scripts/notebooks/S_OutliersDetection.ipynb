{
 "cells": [
  {
   "cell_type": "markdown",
   "metadata": {},
   "source": [
    "# S_OutliersDetection [<img src=\"https://www.arpm.co/lab/icons/icon_permalink.png\" width=30 height=30 style=\"display: inline;\">](https://www.arpm.co/lab/redirect.php?code=S_OutliersDetection&codeLang=Python)\n",
    "For details, see [here](https://www.arpm.co/lab/redirect.php?permalink=ExerOutlierDetection)."
   ]
  },
  {
   "cell_type": "markdown",
   "metadata": {},
   "source": [
    "## Prepare the environment"
   ]
  },
  {
   "cell_type": "code",
   "execution_count": null,
   "metadata": {},
   "outputs": [],
   "source": [
    "import os\n",
    "import os.path as path\n",
    "import sys\n",
    "\n",
    "sys.path.append(path.abspath('../../functions-legacy'))\n",
    "from collections import namedtuple\n",
    "\n",
    "from numpy import arange, where, diff, cov, diag, round, mean, log, exp, sqrt, r_\n",
    "from numpy import sum as npsum, min as npmin, max as npmax\n",
    "from numpy.random import randint\n",
    "\n",
    "from scipy.stats import chi2\n",
    "from scipy.io import loadmat\n",
    "\n",
    "import matplotlib.pyplot as plt\n",
    "from matplotlib.pyplot import figure, plot, bar, xlim, ylim, scatter, ylabel, \\\n",
    "    xlabel\n",
    "\n",
    "plt.style.use('seaborn')\n",
    "\n",
    "from CONFIG import GLOBAL_DB, TEMPORARY_DB\n",
    "from ARPM_utils import save_plot, struct_to_dict\n",
    "from PlotTwoDimEllipsoid import PlotTwoDimEllipsoid\n",
    "from HistogramFP import HistogramFP\n",
    "from RollPrices2YieldToMat import RollPrices2YieldToMat\n",
    "from ColorCodedFP import ColorCodedFP\n",
    "from DetectOutliersFP import DetectOutliersFP\n",
    "from SpinOutlier import SpinOutlier\n",
    "from HighBreakdownFP import HighBreakdownFP"
   ]
  },
  {
   "cell_type": "markdown",
   "metadata": {},
   "source": [
    "## Upload dataset"
   ]
  },
  {
   "cell_type": "code",
   "execution_count": null,
   "metadata": {},
   "outputs": [],
   "source": [
    "try:\n",
    "    db = loadmat(os.path.join(GLOBAL_DB, 'db_SwapCurve'), squeeze_me=True)\n",
    "except FileNotFoundError:\n",
    "    db = loadmat(os.path.join(TEMPORARY_DB, 'db_SwapCurve'), squeeze_me=True)\n",
    "\n",
    "DF_Rolling = struct_to_dict(db['DF_Rolling'])"
   ]
  },
  {
   "cell_type": "markdown",
   "metadata": {},
   "source": [
    "## Compute the swap rates daily changes and select the last 500 available observations"
   ]
  },
  {
   "cell_type": "code",
   "execution_count": null,
   "metadata": {},
   "outputs": [],
   "source": [
    "# swap rates\n",
    "dates = DF_Rolling.Dates\n",
    "ZeroRates,_ = RollPrices2YieldToMat(DF_Rolling.TimeToMat, DF_Rolling.Prices)\n",
    "\n",
    "y1 = ZeroRates[DF_Rolling.TimeToMat == 1,:]  # 1 year yield\n",
    "y3 = ZeroRates[DF_Rolling.TimeToMat == 3,:]  # 3 years yield\n",
    "\n",
    "# daily changes\n",
    "dy1 = diff(y1)\n",
    "dy1 = dy1[:, :400]\n",
    "\n",
    "dy3 = diff(y3)\n",
    "dy3 = dy3[:, :400]\n",
    "\n",
    "# invariants\n",
    "epsi = r_[dy1, dy3]\n",
    "i_, t_ = epsi.shape"
   ]
  },
  {
   "cell_type": "markdown",
   "metadata": {},
   "source": [
    "## Generate outliers using the function SpinOutlier and add one of them to the dataset."
   ]
  },
  {
   "cell_type": "code",
   "execution_count": null,
   "metadata": {},
   "outputs": [],
   "source": [
    "# Apply DetectOutliersFP and check that the artificial outlier is detected by the test\n",
    "\n",
    "print('Add and detect outlier')\n",
    "\n",
    "outliers = SpinOutlier(mean(epsi, 1, keepdims=True), cov(epsi), 2.5, 5)  # generate 5 outliers along a circle centered in the sample mean\n",
    "outlier = outliers[:, [randint(0 , 5)]]  # choose randomly one of the outliers\n",
    "\n",
    "epsi_out = r_['-1',epsi, outlier]"
   ]
  },
  {
   "cell_type": "markdown",
   "metadata": {},
   "source": [
    "## Set the Flexible probabilities (exponential decay)"
   ]
  },
  {
   "cell_type": "code",
   "execution_count": null,
   "metadata": {},
   "outputs": [],
   "source": [
    "lam = 0.001\n",
    "p = exp(-lam * arange(t_ + 1, 1 + -1, -1)).reshape(1,-1)\n",
    "p = p /npsum(p)"
   ]
  },
  {
   "cell_type": "markdown",
   "metadata": {},
   "source": [
    "## Estimate the expectation and covariance based on the robust HBFP estimators"
   ]
  },
  {
   "cell_type": "code",
   "execution_count": null,
   "metadata": {},
   "outputs": [],
   "source": [
    "c = 0.75\n",
    "mu_HBFP, sigma2_HBFP,*_ = HighBreakdownFP(epsi_out, p.copy(), 1, c)\n",
    "\n",
    "# Rescale the HBFP dispersion parameter to obtain an estimate of the covariance (rescaling constant set based on multivariate normality)\n",
    "sigma2 = sigma2_HBFP/ chi2.ppf(c, i_)"
   ]
  },
  {
   "cell_type": "markdown",
   "metadata": {},
   "source": [
    "## Univariate analysis: compute the marginal distributions and the z-scores"
   ]
  },
  {
   "cell_type": "code",
   "execution_count": null,
   "metadata": {},
   "outputs": [],
   "source": [
    "option = namedtuple('option', 'n_bins')\n",
    "option.n_bins = round(10*log(t_))\n",
    "p1, x1 = HistogramFP(epsi_out[[0]], p /npsum(p), option)\n",
    "p2, x2 = HistogramFP(epsi_out[[1]], p /npsum(p), option)\n",
    "\n",
    "# z-scores\n",
    "sdev = sqrt(diag(sigma2))\n",
    "z_scores = (outlier - mu_HBFP.reshape(-1,1))/sdev.reshape(-1,1)"
   ]
  },
  {
   "cell_type": "markdown",
   "metadata": {},
   "source": [
    "## Multivariate analysis: outlier detection with FP (Mahalanobis distance test)"
   ]
  },
  {
   "cell_type": "code",
   "execution_count": null,
   "metadata": {},
   "outputs": [],
   "source": [
    "q = 0.975\n",
    "[position_outliers, detected_outliers, MahalDist] = DetectOutliersFP(epsi_out, p.copy(), q)\n",
    "\n",
    "# Find in the output the outlier we added\n",
    "i = where(position_outliers == t_)[0]\n",
    "# Mahalanobis distance of the outlier\n",
    "Mah = MahalDist[i]"
   ]
  },
  {
   "cell_type": "markdown",
   "metadata": {},
   "source": [
    "## Figure"
   ]
  },
  {
   "cell_type": "code",
   "execution_count": null,
   "metadata": {},
   "outputs": [],
   "source": [
    "orange = [0.94, 0.35, 0]\n",
    "grey = [.8, .8, .8]\n",
    "green = [0, 0.8, 0]\n",
    "# scatter colormap and colors\n",
    "[CM, C] = ColorCodedFP(p, None, None, arange(0,0.81,0.01), 0, 1, [0.6, 0.2])\n",
    "figure()\n",
    "# colormap(CM)\n",
    "# marginal of epsi_2 (change in 3yr yield)\n",
    "ax = plt.subplot2grid((4,5),(1,0),rowspan=3,colspan=1)\n",
    "plt.barh(x2[:-1], p2[0], height=x2[1]-x2[0], facecolor= grey, edgecolor= 'k')  # histogram\n",
    "plot([0,0], [mu_HBFP[1] - sdev[1], mu_HBFP[1] + sdev[1]], color=orange,lw=5)  # +/- standard deviation bar\n",
    "plot(0, epsi_out[1,-1], color='b',marker='o',markerfacecolor='b', markersize = 5)  # outlier\n",
    "plt.ylim([npmin(epsi_out[1]), npmax(epsi_out[1])])\n",
    "plt.xticks([])\n",
    "plt.yticks([])\n",
    "ax.invert_xaxis()\n",
    "# marginal of epsi_1 (change in 1yr yield)\n",
    "ax = plt.subplot2grid((4,5),(0,1),rowspan=1,colspan=4)\n",
    "bar(x1[:-1], p1[0], width=x1[1]-x1[0], facecolor= grey, edgecolor= 'k')\n",
    "plt.xticks([])\n",
    "# # histogram\n",
    "plot([mu_HBFP[0] - sdev[0], mu_HBFP[0] + sdev[0]], [0,0], color=orange, lw=5)\n",
    "# +/- standard deviation bar\n",
    "plot(epsi_out[0,-1], 0, color='b',marker='o',markerfacecolor='b', markersize = 5)  # outlier\n",
    "xlim([min(min(epsi[0]), epsi_out[0,-1]), max(max(epsi[0]), epsi_out[0,-1])])\n",
    "ax = plt.subplot2grid((4,5),(1,1),rowspan=3,colspan=4)\n",
    "# scatter-plot with HBFP-ellipsoid superimposed, artificial outlier, detected outliers\n",
    "scatter(epsi_out[0], epsi_out[1], 20, c=C, marker='.',cmap=CM)\n",
    "# # scatter-plot\n",
    "ax.ticklabel_format(axis='x', style='sci', scilimits=(-2,2))\n",
    "ax.ticklabel_format(axis='y', style='sci', scilimits=(-2,2))\n",
    "PlotTwoDimEllipsoid(mu_HBFP.reshape(-1,1), sigma2, 1, 0, 0, orange, 2.5)  # HBFP ellipsoid\n",
    "PlotTwoDimEllipsoid(mu_HBFP.reshape(-1,1), sigma2, sqrt(chi2.ppf(q, i_)), 0, 0, green, 0.5)  # threshold\n",
    "plot(epsi_out[0,-1], epsi_out[1,-1], color='b',marker='o',markersize=4,markerfacecolor='b') #artificial outlier\n",
    "scatter(epsi_out[0, position_outliers], epsi_out[1, position_outliers], 30, marker='o', edgecolor=green, facecolor='none')\n",
    "# # detected outliers\n",
    "plt.xlim([min(min(epsi[0]), epsi_out[0,-1]), max(max(epsi[0]), epsi_out[0,-1])])\n",
    "plt.ylim([min(min(epsi[1]), epsi_out[1,-1]), max(max(epsi[1]), epsi_out[1,-1])])\n",
    "x_lim = plt.xlim()\n",
    "y_lim = plt.ylim()\n",
    "xl = xlabel('$\\epsilon_1$')\n",
    "yl = ylabel('$\\epsilon_2$')\n",
    "# # standard deviations lines\n",
    "plot([mu_HBFP[0] - sdev[0], mu_HBFP[0] - sdev[0]], [mu_HBFP[1] - sdev[1], max(epsi[1])],linestyle='--',color=orange,lw=1.3)\n",
    "plot([mu_HBFP[0] + sdev[0], mu_HBFP[0] + sdev[0]], [mu_HBFP[1] - sdev[1], y_lim[1]],linestyle='--',color=orange,lw=1.3)\n",
    "plot([x_lim[0], mu_HBFP[0] + sdev[0]], [mu_HBFP[1] - sdev[1], mu_HBFP[1] - sdev[1]],linestyle='--',color=orange,lw=1.3)\n",
    "plot([x_lim[0], mu_HBFP[0] + sdev[0]], [mu_HBFP[1] + sdev[1], mu_HBFP[1] + sdev[1]],linestyle='--',color=orange,lw=1.3)\n",
    "# # text boxes\n",
    "Dist = 'Mahalanobis distance =  % 3.2f' % Mah\n",
    "plt.text(0.9*x_lim[1], 0.9*y_lim[0], Dist,\n",
    "             color='b',horizontalalignment='right',verticalalignment='bottom')\n",
    "sdev1 = '%+.2f s.dev.'% z_scores[0]\n",
    "plt.text(x_lim[1], y_lim[1], sdev1, color='k',horizontalalignment='right',verticalalignment='bottom')\n",
    "sdev2 = '%+.2f s.dev.'% z_scores[1]\n",
    "plt.text(0.99*x_lim[0], y_lim[1], sdev2, color='k',horizontalalignment='left',verticalalignment='top',rotation=90)\n",
    "plt.text(mu_HBFP[0], 0.9*y_lim[1],'+ / - s.dev.',color=orange,horizontalalignment='center',verticalalignment='bottom')\n",
    "plt.text(.95*x_lim[0], mu_HBFP[1],' + / - s.dev.',color=orange,horizontalalignment='center',verticalalignment='center', rotation=90)\n",
    "plt.tight_layout();\n",
    "# save_plot(ax=plt.gca(), extension='png', scriptname=os.path.basename('.')[:-3], count=plt.get_fignums()[-1])"
   ]
  }
 ],
 "metadata": {
  "jupytext": {
   "encoding": "# -*- coding: utf-8 -*-",
   "executable": "/usr/bin/env python3"
  },
  "kernelspec": {
   "display_name": "Python 3",
   "language": "python",
   "name": "python3"
  }
 },
 "nbformat": 4,
 "nbformat_minor": 4
}
