{
 "cells": [
  {
   "cell_type": "markdown",
   "metadata": {},
   "source": [
    "# s_min_rel_ent_point_view [<img src=\"https://www.arpm.co/lab/icons/icon_permalink.png\" width=30 height=30 style=\"display: inline;\">](https://www.arpm.co/lab/redirect.php?code=s_min_rel_ent_point_view&codeLang=Python)\n",
    "For details, see [here](https://www.arpm.co/lab/redirect.php?permalink=ExViewTheoryPoint)."
   ]
  },
  {
   "cell_type": "code",
   "execution_count": null,
   "metadata": {},
   "outputs": [],
   "source": [
    "import numpy as np\n",
    "\n",
    "from arpym.views.min_rel_entropy_normal import min_rel_entropy_normal"
   ]
  },
  {
   "cell_type": "markdown",
   "metadata": {},
   "source": [
    "## [Input parameters](https://www.arpm.co/lab/redirect.php?permalink=s_min_rel_ent_point_view-parameters)"
   ]
  },
  {
   "cell_type": "code",
   "execution_count": null,
   "metadata": {},
   "outputs": [],
   "source": [
    "mu_base = np.array([0.26, 0.29, 0.33])  # base expectation\n",
    "sig2_base = np.array([[0.18, 0.11, 0.13],\n",
    "                     [0.11, 0.23, 0.16],\n",
    "                     [0.13, 0.16, 0.23]])  # base covariance\n",
    "v = np.array([[1, -1, 0], [0, 1, -1]])  # view matrix\n",
    "z_view = np.array([1.02, -0.5])  # point view"
   ]
  },
  {
   "cell_type": "markdown",
   "metadata": {},
   "source": [
    "## [Step 1](https://www.arpm.co/lab/redirect.php?permalink=s_min_rel_ent_point_view-implementation-step01): Compute point view updated parameters"
   ]
  },
  {
   "cell_type": "code",
   "execution_count": null,
   "metadata": {},
   "outputs": [],
   "source": [
    "k_, n_ = v.shape  # market and view dimension\n",
    "\n",
    "mu_upd, sig2_upd = min_rel_entropy_normal(mu_base, sig2_base, v, z_view, v,\n",
    "                                          np.zeros((k_)))"
   ]
  }
 ],
 "metadata": {
  "jupytext": {
   "encoding": "# -*- coding: utf-8 -*-",
   "executable": "/usr/bin/env python3"
  },
  "kernelspec": {
   "display_name": "Python 3",
   "language": "python",
   "name": "python3"
  }
 },
 "nbformat": 4,
 "nbformat_minor": 4
}
