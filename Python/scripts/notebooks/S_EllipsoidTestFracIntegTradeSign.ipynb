{
 "cells": [
  {
   "cell_type": "markdown",
   "metadata": {},
   "source": [
    "# S_EllipsoidTestFracIntegTradeSign [<img src=\"https://www.arpm.co/lab/icons/icon_permalink.png\" width=30 height=30 style=\"display: inline;\">](https://www.arpm.co/lab/redirect.php?code=S_EllipsoidTestFracIntegTradeSign&codeLang=Python)\n",
    "For details, see [here](https://www.arpm.co/lab/redirect.php?permalink=IIDHFFIsign)."
   ]
  },
  {
   "cell_type": "markdown",
   "metadata": {},
   "source": [
    "## Prepare the environment"
   ]
  },
  {
   "cell_type": "code",
   "execution_count": null,
   "metadata": {},
   "outputs": [],
   "source": [
    "import os\n",
    "import os.path as path\n",
    "import sys\n",
    "\n",
    "sys.path.append(path.abspath('../../functions-legacy'))\n",
    "\n",
    "from numpy import min as npmin, max as npmax\n",
    "\n",
    "from scipy.special import erf\n",
    "from scipy.io import loadmat\n",
    "\n",
    "import matplotlib.pyplot as plt\n",
    "from matplotlib.pyplot import figure\n",
    "\n",
    "plt.style.use('seaborn')\n",
    "\n",
    "from CONFIG import GLOBAL_DB, TEMPORARY_DB\n",
    "from ARPM_utils import save_plot, struct_to_dict\n",
    "from autocorrelation import autocorrelation\n",
    "from FitFractionalIntegration import FitFractionalIntegration\n",
    "from InvarianceTestEllipsoid import InvarianceTestEllipsoid"
   ]
  },
  {
   "cell_type": "markdown",
   "metadata": {},
   "source": [
    "## Upload database"
   ]
  },
  {
   "cell_type": "code",
   "execution_count": null,
   "metadata": {},
   "outputs": [],
   "source": [
    "try:\n",
    "    db = loadmat(os.path.join(GLOBAL_DB, 'db_StocksHighFreq'), squeeze_me=True)\n",
    "except FileNotFoundError:\n",
    "    db = loadmat(os.path.join(TEMPORARY_DB, 'db_StocksHighFreq'), squeeze_me=True)\n",
    "\n",
    "MSFT = struct_to_dict(db['MSFT'])\n",
    "\n",
    "price = MSFT.trade_price\n",
    "ask = MSFT.ask\n",
    "bid = MSFT.bid"
   ]
  },
  {
   "cell_type": "markdown",
   "metadata": {},
   "source": [
    "## Compute the realizations of the variable \"sign\" (dz_k: difference in cumulative trade sign in tick time)\n",
    "##take data with (ask > bid) and (price = bid or price = ask) and (bid different form ask)"
   ]
  },
  {
   "cell_type": "code",
   "execution_count": null,
   "metadata": {},
   "outputs": [],
   "source": [
    "scale = 5\n",
    "index = ((bid!=ask) & (price == bid)) | ((price == ask) & (ask > bid))\n",
    "frac = (price[index] - bid[index]) / (ask[index] - bid[index])\n",
    "dz_k = erf(scale*(2*frac - 1))"
   ]
  },
  {
   "cell_type": "markdown",
   "metadata": {},
   "source": [
    "## Fit the fractional integration process"
   ]
  },
  {
   "cell_type": "code",
   "execution_count": null,
   "metadata": {},
   "outputs": [],
   "source": [
    "lag_ = 15  # max number of lags for the autocorrelation test\n",
    "\n",
    "# trade sign as a fractional integration process\n",
    "l_ = 50\n",
    "d0 = 0\n",
    "\n",
    "# epsFIsign are the residuals of a fractional integration process of order d+1\n",
    "# computed as a sum truncated at order l_\n",
    "# epsFIsign = (1-L)**(d+1) dz_k\n",
    "\n",
    "d, epsFIsign, _, _, _ = FitFractionalIntegration(dz_k, l_, d0)\n",
    "acf_epsFIsign = autocorrelation(epsFIsign, lag_)"
   ]
  },
  {
   "cell_type": "markdown",
   "metadata": {},
   "source": [
    "## Plot the results"
   ]
  },
  {
   "cell_type": "code",
   "execution_count": null,
   "metadata": {},
   "outputs": [],
   "source": [
    "lag = 15  # lag to be printed\n",
    "ell_scale = 1.7  # ellipsoid radius coefficient\n",
    "fit = 0  # no fit on marginals\n",
    "eps_lim = [npmin(epsFIsign), npmax(epsFIsign)]  # lim for the axes\n",
    "\n",
    "f = figure(figsize=(14,7))\n",
    "InvarianceTestEllipsoid(epsFIsign, acf_epsFIsign[0,1:], lag, fit, ell_scale, bound=eps_lim);\n",
    "# save_plot(ax=plt.gca(), extension='png', scriptname=os.path.basename('.')[:-3], count=plt.get_fignums()[-1])\n",
    "plt.show()"
   ]
  }
 ],
 "metadata": {
  "jupytext": {
   "encoding": "# -*- coding: utf-8 -*-",
   "executable": "/usr/bin/env python3"
  },
  "kernelspec": {
   "display_name": "Python 3",
   "language": "python",
   "name": "python3"
  }
 },
 "nbformat": 4,
 "nbformat_minor": 4
}
