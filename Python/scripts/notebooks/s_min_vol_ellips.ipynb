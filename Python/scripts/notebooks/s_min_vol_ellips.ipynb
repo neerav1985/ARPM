{
 "cells": [
  {
   "cell_type": "markdown",
   "metadata": {},
   "source": [
    "# s_min_vol_ellips [<img src=\"https://www.arpm.co/lab/icons/icon_permalink.png\" width=30 height=30 style=\"display: inline;\">](https://www.arpm.co/lab/redirect.php?code=s_min_vol_ellips&codeLang=Python)\n",
    "For details, see [here](https://www.arpm.co/lab/redirect.php?permalink=eb-hfpellips-exercise)."
   ]
  },
  {
   "cell_type": "code",
   "execution_count": null,
   "metadata": {},
   "outputs": [],
   "source": [
    "import numpy as np\n",
    "import matplotlib.pyplot as plt\n",
    "\n",
    "from arpym.tools.plot_ellipse import plot_ellipse\n",
    "from arpym.tools.mahalanobis_dist import mahalanobis_dist\n",
    "from arpym.tools.logo import add_logo\n",
    "from arpym.statistics.simulate_normal import simulate_normal"
   ]
  },
  {
   "cell_type": "markdown",
   "metadata": {},
   "source": [
    "## [Input parameters](https://www.arpm.co/lab/redirect.php?permalink=s_min_vol_ellips-parameters)"
   ]
  },
  {
   "cell_type": "code",
   "execution_count": null,
   "metadata": {},
   "outputs": [],
   "source": [
    "j_ = 5000\n",
    "mu = np.array([0, 0])  # expectation\n",
    "rho = .6  # correlation\n",
    "sigma2 = np.array([[1, rho], [rho, 1]])  # covariance"
   ]
  },
  {
   "cell_type": "markdown",
   "metadata": {},
   "source": [
    "## [Step 1](https://www.arpm.co/lab/redirect.php?permalink=s_min_vol_ellips-implementation-step01): Generate j_normal scenarios"
   ]
  },
  {
   "cell_type": "code",
   "execution_count": null,
   "metadata": {},
   "outputs": [],
   "source": [
    "x = simulate_normal(mu, sigma2, j_)"
   ]
  },
  {
   "cell_type": "markdown",
   "metadata": {},
   "source": [
    "## [Step 2](https://www.arpm.co/lab/redirect.php?permalink=s_min_vol_ellips-implementation-step02): Rescale the covariance matrix"
   ]
  },
  {
   "cell_type": "code",
   "execution_count": null,
   "metadata": {},
   "outputs": [],
   "source": [
    "n_ = sigma2.shape[0]\n",
    "sigma2_rescaled = n_ * sigma2"
   ]
  },
  {
   "cell_type": "markdown",
   "metadata": {},
   "source": [
    "## [Step 3](https://www.arpm.co/lab/redirect.php?permalink=s_min_vol_ellips-implementation-step03): Generate location and dispersion to satisfy Mah distance constraint"
   ]
  },
  {
   "cell_type": "code",
   "execution_count": null,
   "metadata": {},
   "outputs": [],
   "source": [
    "m = mu + np.random.rand(2)\n",
    "a = np.random.rand(2, 2)\n",
    "s2 = a @ a.T  # generate symmetric covariance matrix\n",
    "mah_dist2 = np.zeros(j_)\n",
    "\n",
    "for j in range(j_):\n",
    "    mah_dist2[j] = (mahalanobis_dist(x[[j], :], m, s2))**2\n",
    "r2 = np.mean(mah_dist2)  # average square Mahalanobis distance\n",
    "s2 = s2 * r2"
   ]
  },
  {
   "cell_type": "markdown",
   "metadata": {},
   "source": [
    "## Plot"
   ]
  },
  {
   "cell_type": "code",
   "execution_count": null,
   "metadata": {},
   "outputs": [],
   "source": [
    "plt.style.use('arpm')\n",
    "grey = [.5, .5, .5]\n",
    "fig = plt.figure()\n",
    "plt.plot([], [], color='r', lw=2)  # dummy plot for legend\n",
    "plt.plot([], [], color='b', lw=2)  # dummy plot for legend\n",
    "plot_ellipse(mu, sigma2_rescaled, r=1, color='r', line_width=2)\n",
    "plot_ellipse(m, s2, r=1, color='b', line_width=2)\n",
    "plt.scatter(x[:, 0], x[:, 1], s=5, color=grey)\n",
    "plt.legend(('expectation-(rescaled)covariance ellipsoid',\n",
    "           'generic ellipsoid (expected square Mah. distance = 1)'))\n",
    "add_logo(fig)\n",
    "plt.tight_layout()"
   ]
  }
 ],
 "metadata": {
  "jupytext": {
   "encoding": "# -*- coding: utf-8 -*-",
   "executable": "/usr/bin/env python3"
  },
  "kernelspec": {
   "display_name": "Python 3",
   "language": "python",
   "name": "python3"
  }
 },
 "nbformat": 4,
 "nbformat_minor": 4
}
