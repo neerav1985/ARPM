{
 "cells": [
  {
   "cell_type": "markdown",
   "metadata": {},
   "source": [
    "# S_FundTheoAPriskneuNum [<img src=\"https://www.arpm.co/lab/icons/icon_permalink.png\" width=30 height=30 style=\"display: inline;\">](https://www.arpm.co/lab/redirect.php?code=S_FundTheoAPriskneuNum&codeLang=Python)\n",
    "For details, see [here](https://www.arpm.co/lab/redirect.php?permalink=eb-ftheoasrnm)."
   ]
  },
  {
   "cell_type": "markdown",
   "metadata": {},
   "source": [
    "## Prepare the environment"
   ]
  },
  {
   "cell_type": "code",
   "execution_count": null,
   "metadata": {},
   "outputs": [],
   "source": [
    "import os.path as path\n",
    "import sys, os\n",
    "\n",
    "sys.path.append(path.abspath('../../functions-legacy'))\n",
    "\n",
    "import numpy as np\n",
    "from numpy import ones, zeros, diag, eye, exp, sqrt, tile, r_\n",
    "from numpy import sum as npsum, min as npmin, max as npmax\n",
    "from numpy.random import multivariate_normal as mvnrnd\n",
    "\n",
    "from scipy.stats import uniform\n",
    "\n",
    "import matplotlib.pyplot as plt\n",
    "from matplotlib.pyplot import figure, plot, legend, ylabel, \\\n",
    "    xlabel, scatter\n",
    "\n",
    "plt.style.use('seaborn')\n",
    "\n",
    "from MREprobandSDF import MREprobandSDF\n",
    "from SDFkern import SDFkern\n",
    "from ARPM_utils import save_plot\n",
    "\n",
    "# parameters\n",
    "n_ = 250\n",
    "j_ = 1000\n",
    "r = 0.05\n",
    "a_p = 0.7\n",
    "b_p = 1\n",
    "a_sdf = 0\n",
    "b_sdf = 0.9\n",
    "rho = 0.7"
   ]
  },
  {
   "cell_type": "markdown",
   "metadata": {},
   "source": [
    "## Simulate the payoff matrix"
   ]
  },
  {
   "cell_type": "code",
   "execution_count": null,
   "metadata": {},
   "outputs": [],
   "source": [
    "# Generate the normal vector\n",
    "c2 = rho*ones((n_, n_)) + (1 - rho)*eye(n_)  # correlation matrix\n",
    "X = mvnrnd(zeros(n_), c2, j_).T\n",
    "\n",
    "# Generate the payoffs\n",
    "v_pay = ones((n_, j_))\n",
    "v_pay[1] = exp(X[1]) / (sqrt(exp(1) - 1)*exp(0.5))\n",
    "v_pay[2::2,:] = (exp(X[2::2,:])-exp(0.5)) / (sqrt(exp(1) - 1)*exp(0.5))\n",
    "v_pay[3::2,:] = (-exp(-X[3::2,:])+exp(0.5))/(sqrt(exp(1) - 1)*exp(0.5))\n",
    "v_pay[2:,:] = np.diagflat(uniform.rvs(loc=0.8, scale=0.2, size=(n_ - 2, 1)))@v_pay[2:,:]  # rescaling\n",
    "v_pay[2:,:] = v_pay[2:,:]+tile(uniform.rvs(loc=-0.3, scale=1, size=(n_ - 2, 1)), (1, j_))  # shift"
   ]
  },
  {
   "cell_type": "markdown",
   "metadata": {},
   "source": [
    "## Compute the probabilities"
   ]
  },
  {
   "cell_type": "code",
   "execution_count": null,
   "metadata": {},
   "outputs": [],
   "source": [
    "p = uniform.rvs(loc=a_p, scale=b_p-a_p, size=(j_, 1))\n",
    "p = p /npsum(p)"
   ]
  },
  {
   "cell_type": "markdown",
   "metadata": {},
   "source": [
    "## Simulate the \"true\" Stochastic Discount Factor vector of Scenarios"
   ]
  },
  {
   "cell_type": "code",
   "execution_count": null,
   "metadata": {},
   "outputs": [],
   "source": [
    "sdf_true = uniform.rvs(loc=a_sdf, scale=b_sdf-a_sdf, size=(j_, 1))\n",
    "c = 1 / ((sdf_true.T@p)*(1 + r))\n",
    "sdf_true = sdf_true@c  # constraint on sdf expectation"
   ]
  },
  {
   "cell_type": "markdown",
   "metadata": {},
   "source": [
    "## Compute the current values vector"
   ]
  },
  {
   "cell_type": "code",
   "execution_count": null,
   "metadata": {},
   "outputs": [],
   "source": [
    "v = v_pay@(sdf_true * p)"
   ]
  },
  {
   "cell_type": "markdown",
   "metadata": {},
   "source": [
    "## Compute the kernel Stochastic Discount Factor"
   ]
  },
  {
   "cell_type": "code",
   "execution_count": null,
   "metadata": {},
   "outputs": [],
   "source": [
    "sdf_ker = SDFkern(v_pay, v, p)"
   ]
  },
  {
   "cell_type": "markdown",
   "metadata": {},
   "source": [
    "## Compute the minimum relative entropy Stochastic Discount Factor"
   ]
  },
  {
   "cell_type": "code",
   "execution_count": null,
   "metadata": {},
   "outputs": [],
   "source": [
    "sdf_mre, p_mre = MREprobandSDF(v_pay, v, p.T, 1)"
   ]
  },
  {
   "cell_type": "markdown",
   "metadata": {},
   "source": [
    "## Compute the risk neutral probabilities using the Stochastic Discount Factors found at the previous steps"
   ]
  },
  {
   "cell_type": "code",
   "execution_count": null,
   "metadata": {},
   "outputs": [],
   "source": [
    "q_true = sdf_true.T@np.diagflat(p) / v[0]\n",
    "q_ker = sdf_ker@np.diagflat(p) / v[0]\n",
    "q_mre = sdf_mre@np.diagflat(p) / v[0]"
   ]
  },
  {
   "cell_type": "markdown",
   "metadata": {},
   "source": [
    "## For each instrument in the market and for each risk neutral probability found at the previous step, compute the left-hand side and the right-hand side of the fundamental theorem of asset pricing"
   ]
  },
  {
   "cell_type": "code",
   "execution_count": null,
   "metadata": {},
   "outputs": [],
   "source": [
    "y = v / v[0]\n",
    "x = r_['-1', v_pay@q_true.T, v_pay@q_ker.T, v_pay@q_mre.T]"
   ]
  },
  {
   "cell_type": "markdown",
   "metadata": {},
   "source": [
    "## Generate the figure"
   ]
  },
  {
   "cell_type": "code",
   "execution_count": null,
   "metadata": {
    "lines_to_next_cell": 2
   },
   "outputs": [],
   "source": [
    "pick = range(50)  # We just pick first 50 dots to make the figure more\n",
    "figure()\n",
    "plot([npmin(y[pick]), npmax(y[pick])], [npmin(y[pick]), npmax(y[pick])], lw=1)\n",
    "scatter(np.array(y[pick]), np.array(x[pick, 0]), marker='x',\n",
    "        s=50, color=[1, 0.3, 0], lw=1)\n",
    "scatter(np.array(y[pick]), np.array(x[pick, 1]), marker='o',\n",
    "        s=70, color=[0.4, 0.4, 0], facecolor=\"none\")\n",
    "scatter(np.array(y[pick]), np.array(x[pick, 2]), marker='.',\n",
    "        s=30, color=[0.5, 0, 1])\n",
    "xlabel('r. h. side')\n",
    "ylabel('l. h. side')\n",
    "legend(['45$^o$ line','True prob.','Kern prob.','MRE prob.']);\n",
    "# # save_plot(ax=plt.gca(), extension='png', scriptname=os.path.basename('.')[:-3], count=plt.get_fignums()[-1])"
   ]
  }
 ],
 "metadata": {
  "jupytext": {
   "encoding": "# -*- coding: utf-8 -*-",
   "executable": "/usr/bin/env python3"
  },
  "kernelspec": {
   "display_name": "Python 3",
   "language": "python",
   "name": "python3"
  }
 },
 "nbformat": 4,
 "nbformat_minor": 4
}
