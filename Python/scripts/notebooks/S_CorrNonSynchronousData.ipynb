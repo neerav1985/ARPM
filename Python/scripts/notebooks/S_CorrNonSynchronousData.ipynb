{
 "cells": [
  {
   "cell_type": "markdown",
   "metadata": {},
   "source": [
    "# S_CorrNonSynchronousData [<img src=\"https://www.arpm.co/lab/icons/icon_permalink.png\" width=30 height=30 style=\"display: inline;\">](https://www.arpm.co/lab/redirect.php?code=S_CorrNonSynchronousData&codeLang=Python)\n",
    "For details, see [here](https://www.arpm.co/lab/redirect.php?permalink=ExerNonSyncData)."
   ]
  },
  {
   "cell_type": "markdown",
   "metadata": {},
   "source": [
    "## Prepare the environment"
   ]
  },
  {
   "cell_type": "code",
   "execution_count": null,
   "metadata": {},
   "outputs": [],
   "source": [
    "import os\n",
    "import os.path as path\n",
    "import sys\n",
    "\n",
    "sys.path.append(path.abspath('../../functions-legacy'))\n",
    "\n",
    "from numpy import arange, array, ones, zeros, diff, log, sqrt, min as npmin, max as npmax\n",
    "from numpy import sum as npsum\n",
    "\n",
    "from scipy.io import loadmat\n",
    "\n",
    "import matplotlib.pyplot as plt\n",
    "from matplotlib.pyplot import plot, xlim, ylim, scatter, subplots, title, xticks, yticks\n",
    "import matplotlib.dates as mdates\n",
    "\n",
    "plt.style.use('seaborn')\n",
    "\n",
    "from CONFIG import GLOBAL_DB, TEMPORARY_DB\n",
    "from ARPM_utils import save_plot, struct_to_dict, date_mtop\n",
    "from intersect_matlab import intersect"
   ]
  },
  {
   "cell_type": "markdown",
   "metadata": {},
   "source": [
    "## Upload database"
   ]
  },
  {
   "cell_type": "code",
   "execution_count": null,
   "metadata": {},
   "outputs": [],
   "source": [
    "try:\n",
    "    db = loadmat(os.path.join(GLOBAL_DB, 'db_Stocks'), squeeze_me=True)\n",
    "except FileNotFoundError:\n",
    "    db = loadmat(os.path.join(TEMPORARY_DB, 'db_Stocks'), squeeze_me=True)\n",
    "\n",
    "SPX = struct_to_dict(db['SPX'])\n",
    "KOSPI = struct_to_dict(db['KOSPI'])"
   ]
  },
  {
   "cell_type": "markdown",
   "metadata": {},
   "source": [
    "## Compute the log-prices and log-returns of the two indexes"
   ]
  },
  {
   "cell_type": "code",
   "execution_count": null,
   "metadata": {},
   "outputs": [],
   "source": [
    "# S&P 500 (US)\n",
    "NSprice = SPX.Price_close\n",
    "x1 = log(NSprice)\n",
    "NSdate = SPX.Date\n",
    "\n",
    "# KOSPI (Korea)\n",
    "KSprice = KOSPI.Price_close\n",
    "x2 = log(KSprice)\n",
    "KSdate = KOSPI.Date\n",
    "\n",
    "# merge dataset\n",
    "Date, i1, i2 = intersect(NSdate, KSdate)\n",
    "logprice1 = x1[i1]\n",
    "logprice2 = x2[i2]\n",
    "ret1 = diff(logprice1)\n",
    "ret2 = diff(logprice2)"
   ]
  },
  {
   "cell_type": "markdown",
   "metadata": {},
   "source": [
    "## Estimate the correlation concatenating the log-returns over 5 days (l=4)"
   ]
  },
  {
   "cell_type": "code",
   "execution_count": null,
   "metadata": {},
   "outputs": [],
   "source": [
    "# concatenate the daily log-returns\n",
    "l = 4\n",
    "tret_ = len(ret1)\n",
    "\n",
    "y1 = zeros((1, tret_))\n",
    "y2 = zeros((1, tret_))\n",
    "\n",
    "for t in range(l, tret_):\n",
    "    y1[0,t] = sum(ret1[t - l:t])\n",
    "    y2[0,t] = sum(ret2[t - l:t])\n",
    "\n",
    "y1 = y1[[0],l:]\n",
    "y2 = y2[[0],l:]\n",
    "\n",
    "t_ = y1.shape[1]  # number of overlapping joint observations available\n",
    "\n",
    "# compute the correlation (corr([t] is computed on the time series of y1 and y2 up to time t))\n",
    "rho2 = zeros((1, t_))\n",
    "\n",
    "for t in range(t_):\n",
    "    FP = (1 / (t+1)) * ones(t+1)  # constant flexible probabilities\n",
    "    y1_t = y1[0,:t+1]\n",
    "    y2_t = y2[0,:t+1]\n",
    "    FPstd1 = sqrt(npsum(FP * (y1_t ** 2)))\n",
    "    FPstd2 = sqrt(npsum(FP * (y2_t ** 2)))\n",
    "    rho2[0,t] = npsum(FP * y1_t * y2_t) / (FPstd1*FPstd2)"
   ]
  },
  {
   "cell_type": "markdown",
   "metadata": {},
   "source": [
    "## Estimate the correlation without concatenating the log-returns (l=0)"
   ]
  },
  {
   "cell_type": "code",
   "execution_count": null,
   "metadata": {},
   "outputs": [],
   "source": [
    "y1_l0 = ret1[l:tret_]\n",
    "y2_l0 = ret2[l:tret_]\n",
    "\n",
    "rho2_l0 = zeros((1, t_))\n",
    "for t in range(t_):\n",
    "    FP = (1 / (t+1)) * ones(t+1)\n",
    "    y1_t = y1_l0[:t+1]\n",
    "    y2_t = y2_l0[:t+1]\n",
    "    FPstd1 = sqrt(npsum(FP * (y1_t ** 2)))\n",
    "    FPstd2 = sqrt(npsum(FP * (y2_t ** 2)))\n",
    "    rho2_l0[0,t] = npsum(FP * y1_t * y2_t) / (FPstd1*FPstd2)"
   ]
  },
  {
   "cell_type": "markdown",
   "metadata": {},
   "source": [
    "## Generate the figures"
   ]
  },
  {
   "cell_type": "code",
   "execution_count": null,
   "metadata": {},
   "outputs": [],
   "source": [
    "ln_p1 = logprice1[l + 1:]\n",
    "ln_p2 = logprice2[l + 1:]\n",
    "date = Date[l + 1:]\n",
    "\n",
    "date_dt = array([date_mtop(i) for i in date])\n",
    "myFmt = mdates.DateFormatter('%d-%b-%Y')\n",
    "date_tick = date_dt[arange(99, len(date_dt), 200)]\n",
    "\n",
    "# FIGURE 1: overlap 5-days (l=4)\n",
    "\n",
    "f,ax = subplots(3,1)\n",
    "# correlation\n",
    "plt.sca(ax[0])\n",
    "plot(date_dt, rho2[0], color='k')\n",
    "xlim([min(date_dt), max(date_dt)])\n",
    "xticks(date_tick)\n",
    "ylim([0.1, 1])\n",
    "ax[0].xaxis.set_major_formatter(myFmt)\n",
    "title('Correlation')\n",
    "lag = 'overlap:  % 2.0f days'%(l+1)\n",
    "plt.text(date_mtop(min(date) + 100), 1, lag, horizontalalignment='left')\n",
    "\n",
    "# l-day log-returns\n",
    "plt.sca(ax[1])\n",
    "scatter(date_dt, y1[0],c='b',s=10)\n",
    "ax2 = ax[1].twinx()\n",
    "ax2.grid(False)\n",
    "ax2.scatter(date_dt, y2[0],s=10, c= [.9, .4, 0])\n",
    "ylim([-0.2, 0.2])\n",
    "yticks([])\n",
    "xlim([min(date_dt), max(date_dt)])\n",
    "xticks(date_tick)\n",
    "ax[1].xaxis.set_major_formatter(myFmt)\n",
    "ylim([-0.2, 0.2])\n",
    "title('log-returns concatenated over %2.0f-days' % (l + 1))\n",
    "ax[1].set_ylabel('SPX', color='b')\n",
    "ax2.set_ylabel('KOSPI', color=[.9, .4, 0])\n",
    "# log-prices\n",
    "plt.sca(ax[2])\n",
    "plot(date_dt, ln_p1, c='b')\n",
    "ax2 = ax[2].twinx()\n",
    "ax2.plot(date_dt, ln_p2, c=[.9, .4, 0])\n",
    "xlim([min(date_dt), max(date_dt)])\n",
    "xticks(date_tick)\n",
    "ax[2].xaxis.set_major_formatter(myFmt)\n",
    "title('log-prices')\n",
    "ax[2].set_ylabel('SPX', color='b')\n",
    "ax2.set_ylabel('KOSPI', color=[.9, .4, 0])\n",
    "plt.tight_layout();\n",
    "# save_plot(ax=plt.gca(), extension='png', scriptname=os.path.basename('.')[:-3], count=plt.get_fignums()[-1])\n",
    "\n",
    "# FIGURE 2 no overlap (l=0)\n",
    "# correlation\n",
    "f,ax = subplots(3,1)\n",
    "# correlation\n",
    "plt.sca(ax[0])\n",
    "plot(date_dt, rho2_l0[0], color='k')\n",
    "xlim([min(date_dt), max(date_dt)])\n",
    "xticks(date_tick)\n",
    "ax[0].xaxis.set_major_formatter(myFmt)\n",
    "ylim([0.1, 1])\n",
    "title('Correlation')\n",
    "plt.text(date_mtop(min(date) + 100), 1, 'No overlap', horizontalalignment='left')\n",
    "\n",
    "# l-day log-returns\n",
    "plt.sca(ax[1])\n",
    "scatter(date_dt, y1_l0,c='b',s=10)\n",
    "ax2 = ax[1].twinx()\n",
    "ax2.scatter(date_dt, y2_l0, c= [.9, .4, 0], s=10)\n",
    "ylim([-0.2, 0.2])\n",
    "yticks([])\n",
    "xlim([min(date_dt), max(date_dt)])\n",
    "xticks(date_tick)\n",
    "ax[1].xaxis.set_major_formatter(myFmt)\n",
    "ylim([-0.2, 0.2])\n",
    "title('log-returns')\n",
    "ax[1].set_ylabel('SPX', color='b')\n",
    "ax2.set_ylabel('KOSPI', color=[.9, .4, 0])\n",
    "\n",
    "# log-prices\n",
    "plt.sca(ax[2])\n",
    "plot(date_dt, ln_p1, c='b')\n",
    "ax2 = ax[2].twinx()\n",
    "ax2.grid(False)\n",
    "ax2.plot(date_dt, ln_p2, c=[.9, .4, 0])\n",
    "xlim([min(date_dt), max(date_dt)])\n",
    "xticks(date_tick)\n",
    "ax[2].xaxis.set_major_formatter(myFmt)\n",
    "title('log-prices')\n",
    "ax[2].set_ylabel('SPX', color='b')\n",
    "ax2.set_ylabel('KOSPI', color=[.9, .4, 0])\n",
    "plt.tight_layout();\n",
    "# save_plot(ax=plt.gca(), extension='png', scriptname=os.path.basename('.')[:-3], count=plt.get_fignums()[-1])\n"
   ]
  }
 ],
 "metadata": {
  "jupytext": {
   "encoding": "# -*- coding: utf-8 -*-",
   "executable": "/usr/bin/env python3"
  },
  "kernelspec": {
   "display_name": "Python 3",
   "language": "python",
   "name": "python3"
  }
 },
 "nbformat": 4,
 "nbformat_minor": 4
}
