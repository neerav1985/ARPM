{
 "cells": [
  {
   "cell_type": "markdown",
   "metadata": {},
   "source": [
    "This script computes the joint projected distribution of the P&L's of n_ stocks\n",
    "over a one day horizon by applying the historical approach with Flexible Probabilities.\n",
    "-"
   ]
  },
  {
   "cell_type": "markdown",
   "metadata": {},
   "source": [
    "## For details, see [here](https://www.arpm.co/lab/redirect.php?permalink=eb-pricing-stocks-hfp)."
   ]
  },
  {
   "cell_type": "code",
   "execution_count": null,
   "metadata": {},
   "outputs": [],
   "source": [
    "import os\n",
    "import os.path as path\n",
    "import sys\n",
    "from collections import namedtuple\n",
    "\n",
    "from scipy.io import savemat\n",
    "\n",
    "sys.path.append(path.abspath('../../functions-legacy'))\n",
    "\n",
    "import numpy as np\n",
    "from numpy import ones, mean, std, r_, tile, sum as npsum, min as npmin, max as npmax\n",
    "from scipy.stats import lognorm\n",
    "\n",
    "from matplotlib.pyplot import figure, plot, bar, legend\n",
    "\n",
    "from HistogramFP import HistogramFP\n",
    "from numpy import arange, abs, log, exp, sqrt\n",
    "\n",
    "from scipy.io import loadmat\n",
    "\n",
    "import matplotlib.pyplot as plt\n",
    "from matplotlib.pyplot import title, xlabel, scatter, ylabel, xticks, yticks, subplots\n",
    "\n",
    "plt.style.use('seaborn')\n",
    "\n",
    "from CONFIG import GLOBAL_DB, TEMPORARY_DB\n",
    "from ARPM_utils import struct_to_dict, save_plot\n",
    "from ColorCodedFP import ColorCodedFP\n",
    "from EffectiveScenarios import EffectiveScenarios\n",
    "from PlotTwoDimEllipsoid import PlotTwoDimEllipsoid\n",
    "from FPmeancov import FPmeancov"
   ]
  },
  {
   "cell_type": "markdown",
   "metadata": {},
   "source": [
    "## Upload database db_StocksS_P"
   ]
  },
  {
   "cell_type": "code",
   "execution_count": null,
   "metadata": {},
   "outputs": [],
   "source": [
    "try:\n",
    "    db = loadmat(os.path.join(GLOBAL_DB, 'db_StocksS_P'),squeeze_me=True)\n",
    "except FileNotFoundError:\n",
    "    db = loadmat(os.path.join(TEMPORARY_DB, 'db_StocksS_P'),squeeze_me=True)\n",
    "\n",
    "Data = struct_to_dict(db['Data'])\n",
    "\n",
    "# stock database which contains the stocks historical values\n",
    "\n",
    "indexes = [3,4] # indexes of the selected stocks\n",
    "v = Data.Prices[indexes,:] # historical values corresponding to the stocks quotations"
   ]
  },
  {
   "cell_type": "markdown",
   "metadata": {},
   "source": [
    "## Compute the historical scenarios of the compounded returns"
   ]
  },
  {
   "cell_type": "code",
   "execution_count": null,
   "metadata": {},
   "outputs": [],
   "source": [
    "x = log(v) # risk drivers\n",
    "epsilon = x[:,1:]-x[:,:-1] # invariants\n",
    "n_,j_ = epsilon.shape"
   ]
  },
  {
   "cell_type": "markdown",
   "metadata": {},
   "source": [
    "## Compute the scenarios of the risk drivers at the horizon (Projection Step)"
   ]
  },
  {
   "cell_type": "code",
   "execution_count": null,
   "metadata": {},
   "outputs": [],
   "source": [
    "v_tnow = v[:,[-1]] # current prices\n",
    "X = log(tile(v_tnow, (1,j_))) + epsilon # projected risk drivers"
   ]
  },
  {
   "cell_type": "markdown",
   "metadata": {},
   "source": [
    "## Find scenarios of the stock's P&L at the horizon (Pricing Step)"
   ]
  },
  {
   "cell_type": "code",
   "execution_count": null,
   "metadata": {},
   "outputs": [],
   "source": [
    "V = exp(X) # projected values\n",
    "Pi = V-tile(v_tnow, (1,j_)) # projected P&L's (it can be computed also as: Pi=tile((v_t, (1,j_))*(exp(X_u-log(tile(v_t, (1,j_))))-1) ))"
   ]
  },
  {
   "cell_type": "markdown",
   "metadata": {},
   "source": [
    "## Set the historical Flexible Probabilities as exponential decay with half life 2 years\n",
    "## and compute the effective number of scenarios by using function EffectiveScenarios"
   ]
  },
  {
   "cell_type": "code",
   "execution_count": null,
   "metadata": {},
   "outputs": [],
   "source": [
    "tau_HL = 2*252 # 2 years\n",
    "p = exp((-log(2))/tau_HL*abs(arange(j_,1+-1,-1))).reshape(1,-1)\n",
    "p = p/npsum(p)\n",
    "\n",
    "# effective number of scenarios\n",
    "\n",
    "typ = namedtuple('type','Entropy')\n",
    "typ.Entropy = 'Exp'\n",
    "ens = EffectiveScenarios(p, typ)"
   ]
  },
  {
   "cell_type": "markdown",
   "metadata": {},
   "source": [
    "## Save the data in db_PricEquitiesHFP"
   ]
  },
  {
   "cell_type": "code",
   "execution_count": null,
   "metadata": {},
   "outputs": [],
   "source": [
    "vars_to_save = {'n_': n_, 'Pi':Pi, 'ens': ens, 'p':p}\n",
    "savemat(os.path.join(TEMPORARY_DB,'db_PricStocksHFP'),vars_to_save)"
   ]
  },
  {
   "cell_type": "markdown",
   "metadata": {},
   "source": [
    "## Select two stocks in the portfolio, then create a figure which shows the marginal\n",
    "## distributions of the two stocks and the scatter plot of the stocks's P&L's scenarios"
   ]
  },
  {
   "cell_type": "code",
   "execution_count": null,
   "metadata": {},
   "outputs": [],
   "source": [
    "[mu_HFP, sigma2_HFP] = FPmeancov(Pi,p)\n",
    "\n",
    "col =[0.94, 0.3, 0]\n",
    "colhist=[.9, .9, .9]\n",
    "\n",
    "f=figure()\n",
    "\n",
    "grey_range = arange(0,0.81,0.01)\n",
    "CM,C = ColorCodedFP(p,None,None,grey_range,0,1,[0.7, 0.2])\n",
    "\n",
    "option = namedtuple('option', 'n_bins')\n",
    "option.n_bins = int(round(6*log(ens.squeeze())))\n",
    "n1,c1 = HistogramFP(Pi[[0]], p, option)\n",
    "n2,c2 = HistogramFP(Pi[[1]], p, option)\n",
    "\n",
    "axscatter = plt.subplot2grid((3,3),(1,0),colspan=2,rowspan=2)\n",
    "scatter(Pi[0],Pi[1], 1, c=C, marker='.', cmap=CM)\n",
    "xlabel('$\\pi_4$')\n",
    "ylabel('$\\pi_5$')\n",
    "PlotTwoDimEllipsoid(mu_HFP,sigma2_HFP,1,0,0,col,2)\n",
    "\n",
    "ax = plt.subplot2grid((3,3),(0,0),colspan=2)\n",
    "bar(c2[:-1],n2[0], width=c2[1]-c2[0],facecolor=colhist, edgecolor='k')\n",
    "yticks([])\n",
    "xticks([])\n",
    "title('Historical Distribution with Flexible Probabilities horizon = 1 day')\n",
    "\n",
    "ax = plt.subplot2grid((3,3),(1,2),rowspan=2)\n",
    "plt.barh(c1[:-1], n1[0], height=c1[1] - c1[0], facecolor=colhist, edgecolor='k')\n",
    "yticks([])\n",
    "xticks([])\n",
    "plt.tight_layout();\n",
    "# save_plot(ax=plt.gca(), extension='png', scriptname=os.path.basename('.')[:-3], count=plt.get_fignums()[-1])\n",
    "\n"
   ]
  }
 ],
 "metadata": {
  "jupytext": {
   "cell_metadata_filter": "-all",
   "encoding": "# -*- coding: utf-8 -*-",
   "executable": "/usr/bin/env python3",
   "main_language": "python",
   "notebook_metadata_filter": "-all"
  }
 },
 "nbformat": 4,
 "nbformat_minor": 4
}
