{
 "cells": [
  {
   "cell_type": "markdown",
   "metadata": {},
   "source": [
    "# S_FactorReplicationTest [<img src=\"https://www.arpm.co/lab/icons/icon_permalink.png\" width=30 height=30 style=\"display: inline;\">](https://www.arpm.co/lab/redirect.php?code=S_FactorReplicationTest&codeLang=Python)\n",
    "For details, see [here](https://www.arpm.co/lab/redirect.php?permalink=eb-cross-sec-reg-num-test)."
   ]
  },
  {
   "cell_type": "markdown",
   "metadata": {},
   "source": [
    "## Prepare the environment"
   ]
  },
  {
   "cell_type": "code",
   "execution_count": null,
   "metadata": {},
   "outputs": [],
   "source": [
    "import os\n",
    "import os.path as path\n",
    "import sys\n",
    "\n",
    "sys.path.append(path.abspath('../../functions-legacy'))\n",
    "\n",
    "import numpy as np\n",
    "from numpy import ones, zeros, cov, eye, r_\n",
    "from numpy.linalg import solve, pinv\n",
    "from numpy.random import randn\n",
    "\n",
    "import matplotlib.pyplot as plt\n",
    "from matplotlib.pyplot import figure, plot, legend, xlim, scatter, ylabel, \\\n",
    "    xlabel, title\n",
    "\n",
    "plt.style.use('seaborn')\n",
    "\n",
    "from ARPM_utils import save_plot\n",
    "from NormalScenarios import NormalScenarios\n",
    "from MultivRsquare import MultivRsquare\n",
    "\n",
    "# input parameters\n",
    "n_ = 100  # max dimension of target X\n",
    "nstep = range(10,n_+1)  # target dimension steps\n",
    "j_ = 1000  # number of simulations\n",
    "k_ = 5  # dimension of factors Z\n",
    "sigma2_Z = eye(k_)  # factor covariance\n",
    "sig2_U = 0.8\n",
    "\n",
    "stepsize = len(nstep)\n",
    "R2_Reg = zeros((stepsize, 1))\n",
    "R2_CS = zeros((stepsize, 1))\n",
    "\n",
    "R2_XReg = zeros((stepsize, 1))\n",
    "R2_XCS = zeros((stepsize, 1))\n",
    "\n",
    "for n in range(stepsize):\n",
    "\n",
    "    # ## Generate a sample from the joint distribution of the factors and residuals\n",
    "\n",
    "    mu_ZU = zeros((k_ + nstep[n], 1))  # expectation\n",
    "    sig2_ZU = zeros((k_, nstep[n]))  # systematic condition\n",
    "    d = sig2_U*ones((nstep[n], 1))\n",
    "    sigma2_U = np.diagflat(d * d)  # idiosyncratic condition\n",
    "    sigma2_ZU = r_[r_['-1',sigma2_Z, sig2_ZU], r_['-1',sig2_ZU.T, sigma2_U]]  # covariance\n",
    "\n",
    "    Z_U,_ = NormalScenarios(mu_ZU, sigma2_ZU, j_)  # joint sample\n",
    "    # Z_U = Z_U.T  # ensure Z_U is (k_ + n_) x nsim\n",
    "\n",
    "    # ## Generate target sample according to systematic-idiosyncratic LFM\n",
    "\n",
    "    Z = Z_U[:k_,:]  # observable factors sample\n",
    "    U = Z_U[k_:,:]  # observable residuals sample\n",
    "    beta_XZ = randn(nstep[n], k_)  # observable loadings\n",
    "\n",
    "    i_n = eye(nstep[n])\n",
    "    X = r_['-1',beta_XZ, i_n]@Z_U  # target sample\n",
    "    sigma2_X = beta_XZ@sigma2_Z@beta_XZ.T + sigma2_U  # (low-rank diagonal) covariance\n",
    "\n",
    "    sigma2_XZ = beta_XZ@sigma2_Z  # covariance of target and factors\n",
    "\n",
    "    invres2 = np.diagflat(1 / (d * d))  # inverse residuals covariance\n",
    "    inv_sig2 = invres2-(invres2@beta_XZ).dot(pinv(beta_XZ.T@invres2@beta_XZ\n",
    "          + solve(sigma2_Z,eye(sigma2_Z.shape[0]))))@beta_XZ.T@invres2  # inverse residuals covariance\n",
    "\n",
    "    # ## Recovered regression factors\n",
    "\n",
    "    beta_Reg = (sigma2_XZ.T)@inv_sig2  # regression loadings of Z over X\n",
    "    Z_Reg = beta_Reg@X  # regression recovered factor sample\n",
    "\n",
    "    # ## Recovered cross-sectional factors\n",
    "\n",
    "    beta_fa = beta_XZ\n",
    "    invres2_fa = invres2\n",
    "    beta_CS = solve(beta_fa.T@invres2_fa@beta_fa,beta_fa.T@invres2_fa)  # pseudo inverse\n",
    "    Z_CS = beta_CS@X  # cross-sectional extracted factor sample\n",
    "\n",
    "    # ## Recover X via regression of X over Z\n",
    "\n",
    "    beta_XZReg = sigma2_XZ@solve(sigma2_Z,eye(sigma2_Z.shape[0]))  # regression loadings of X over Z\n",
    "    X_Reg = beta_XZReg@Z  # regression recovered target\n",
    "\n",
    "    # ## Compute X via cross-sectional on Z\n",
    "\n",
    "    gamma = solve(beta_XZ.T@invres2@beta_XZ + solve(sigma2_Z,eye(sigma2_Z.shape[0])),beta_XZ.T)@invres2\n",
    "    X_CS = beta_XZ@gamma@X\n",
    "\n",
    "    # ## Compute the r-square at dimension nstep[n]\n",
    "\n",
    "    R2_Reg[n] = MultivRsquare(cov(Z_Reg-Z), sigma2_Z, eye(k_))\n",
    "    R2_CS[n] = MultivRsquare(cov(Z_CS-Z), sigma2_Z, eye(k_))\n",
    "    R2_XReg[n] = MultivRsquare(cov(X_Reg-X), sigma2_X, sigma2_X)\n",
    "    R2_XCS[n] = MultivRsquare(cov(X_CS-X), sigma2_X, sigma2_X)"
   ]
  },
  {
   "cell_type": "markdown",
   "metadata": {},
   "source": [
    "## Scatter plot Z vs factor replications"
   ]
  },
  {
   "cell_type": "code",
   "execution_count": null,
   "metadata": {},
   "outputs": [],
   "source": [
    "figure()\n",
    "scatter(Z_Reg[0], Z[0], marker='*')\n",
    "scatter(Z_CS[0], Z[0], marker='o',facecolors='none', color=[1, 0.5, 0])\n",
    "xlabel('Recovered Factors')\n",
    "ylabel('Z')\n",
    "title('Scatter plot for n = %d and k = %d' % (n_,k_))\n",
    "legend(['Regression Z', 'Cross-Sec Z']);\n",
    "plt.tight_layout()\n",
    "# save_plot(ax=plt.gca(), extension='png', scriptname=os.path.basename('.')[:-3], count=plt.get_fignums()[-1])"
   ]
  },
  {
   "cell_type": "markdown",
   "metadata": {},
   "source": [
    "## Plot the r-squares for each target dimension"
   ]
  },
  {
   "cell_type": "code",
   "execution_count": null,
   "metadata": {},
   "outputs": [],
   "source": [
    "figure()\n",
    "plot(nstep, R2_Reg, 'r', linewidth=1.2)\n",
    "plot(nstep, R2_CS, 'g', linewidth=1.2)\n",
    "plot(nstep, ones(stepsize), 'b', linewidth=2, )\n",
    "xlabel(r'$n_{1}$')\n",
    "ylabel(r'$R^{2}$')\n",
    "xlim([min(nstep),max(nstep)])\n",
    "legend(['Regression $R^2$', 'Cross-Sec $R^2$']);\n",
    "plt.tight_layout()\n",
    "# save_plot(ax=plt.gca(), extension='png', scriptname=os.path.basename('.')[:-3], count=plt.get_fignums()[-1])"
   ]
  },
  {
   "cell_type": "markdown",
   "metadata": {},
   "source": [
    "## Scatter plot X vs factor replications"
   ]
  },
  {
   "cell_type": "code",
   "execution_count": null,
   "metadata": {},
   "outputs": [],
   "source": [
    "figure()\n",
    "scatter(X_Reg[0], X[0], marker='*')\n",
    "scatter(X_CS[0], X[0], marker='o', facecolors='none', color=[1, 0.5, 0])\n",
    "xlabel('Recovered Target')\n",
    "ylabel('X')\n",
    "title('Scatter plot for n = %d and k = %d' % (n_,k_))\n",
    "legend(['Regression X', 'Cross-Sec X']);\n",
    "plt.tight_layout()\n",
    "# save_plot(ax=plt.gca(), extension='png', scriptname=os.path.basename('.')[:-3], count=plt.get_fignums()[-1])"
   ]
  },
  {
   "cell_type": "markdown",
   "metadata": {},
   "source": [
    "## Plot the r-squares for each market dimension"
   ]
  },
  {
   "cell_type": "code",
   "execution_count": null,
   "metadata": {
    "lines_to_next_cell": 2
   },
   "outputs": [],
   "source": [
    "figure()\n",
    "plot(nstep, R2_XReg, 'r', linewidth=1.2)\n",
    "plot(nstep, R2_XCS, 'g', linewidth=1.2)\n",
    "plot(nstep, ones(stepsize), 'b', lw=2)\n",
    "xlabel('n')\n",
    "ylabel(r'$R^{2}$')\n",
    "xlim([min(nstep),max(nstep)])\n",
    "legend(['Regression $R^2$', 'Cross-Sec $R^2$']);\n",
    "plt.tight_layout()\n",
    "# save_plot(ax=plt.gca(), extension='png', scriptname=os.path.basename('.')[:-3], count=plt.get_fignums()[-1])"
   ]
  }
 ],
 "metadata": {
  "jupytext": {
   "encoding": "# -*- coding: utf-8 -*-",
   "executable": "/usr/bin/env python3"
  },
  "kernelspec": {
   "display_name": "Python 3",
   "language": "python",
   "name": "python3"
  }
 },
 "nbformat": 4,
 "nbformat_minor": 4
}
