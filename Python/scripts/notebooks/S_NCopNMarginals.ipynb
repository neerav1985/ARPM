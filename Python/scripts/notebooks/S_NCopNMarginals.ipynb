{
 "cells": [
  {
   "cell_type": "markdown",
   "metadata": {},
   "source": [
    "# S_NCopNMarginals [<img src=\"https://www.arpm.co/lab/icons/icon_permalink.png\" width=30 height=30 style=\"display: inline;\">](https://www.arpm.co/lab/redirect.php?code=S_NCopNMarginals&codeLang=Python)\n",
    "For details, see here."
   ]
  },
  {
   "cell_type": "markdown",
   "metadata": {},
   "source": [
    "## Prepare the environment"
   ]
  },
  {
   "cell_type": "code",
   "execution_count": null,
   "metadata": {},
   "outputs": [],
   "source": [
    "import os\n",
    "import os.path as path\n",
    "import sys\n",
    "\n",
    "sys.path.append(path.abspath('../../functions-legacy'))\n",
    "from collections import namedtuple\n",
    "\n",
    "import numpy as np\n",
    "from numpy import array, ones, round, log, sqrt, r_\n",
    "\n",
    "from scipy.stats import norm\n",
    "\n",
    "import matplotlib.pyplot as plt\n",
    "from mpl_toolkits.mplot3d import Axes3D\n",
    "from matplotlib.pyplot import figure, bar, ylim, scatter, ylabel, \\\n",
    "    xlabel, title\n",
    "\n",
    "plt.style.use('seaborn')\n",
    "\n",
    "from ARPM_utils import save_plot\n",
    "from HistogramFP import HistogramFP\n",
    "from NormalScenarios import NormalScenarios"
   ]
  },
  {
   "cell_type": "markdown",
   "metadata": {},
   "source": [
    "## [Input parameters](https://www.arpm.co/lab/redirect.php?permalink=S_NCopNMarginals-parameters)"
   ]
  },
  {
   "cell_type": "code",
   "execution_count": null,
   "metadata": {},
   "outputs": [],
   "source": [
    "j_ = int(1e4)  # number of simulations\n",
    "rho = -0.8  # normal correlation\n",
    "mu_X = array([[-2], [5]])  # normal expectation\n",
    "svec_X = array([[1], [3]])  # normal standard deviations"
   ]
  },
  {
   "cell_type": "markdown",
   "metadata": {},
   "source": [
    "## Generate moment matching normal simulations"
   ]
  },
  {
   "cell_type": "code",
   "execution_count": null,
   "metadata": {},
   "outputs": [],
   "source": [
    "c2_X = array([[1, rho], [rho, 1]])  # correlation matrix\n",
    "s2_X = np.diagflat(svec_X)@c2_X@np.diagflat(svec_X)  # covariance matrix\n",
    "\n",
    "X,_ = NormalScenarios(mu_X, s2_X, j_, 'Chol')\n",
    "X_1 = X[0]\n",
    "X_2 = X[1]"
   ]
  },
  {
   "cell_type": "markdown",
   "metadata": {},
   "source": [
    "## Compute the grades scenarios"
   ]
  },
  {
   "cell_type": "code",
   "execution_count": null,
   "metadata": {},
   "outputs": [],
   "source": [
    "U_1 = norm.cdf(X_1, mu_X[0], svec_X[0])  # grade 1\n",
    "U_2 = norm.cdf(X_2, mu_X[1], svec_X[1])  # grade 2\n",
    "U = r_[U_1, U_2]  # joint realizations from the required copula"
   ]
  },
  {
   "cell_type": "markdown",
   "metadata": {},
   "source": [
    "## Scatter-plot of the marginals"
   ]
  },
  {
   "cell_type": "code",
   "execution_count": null,
   "metadata": {},
   "outputs": [],
   "source": [
    "figure()\n",
    "scatter(X_1, X_2, 0.5, [.5, .5, .5], '*')\n",
    "plt.grid(True)\n",
    "xlabel('$X_1$')\n",
    "ylabel('$X_2$')\n",
    "title('Scatter plot of the marginals');\n",
    "# save_plot(ax=plt.gca(), extension='png', scriptname=os.path.basename('.')[:-3], count=plt.get_fignums()[-1])"
   ]
  },
  {
   "cell_type": "markdown",
   "metadata": {},
   "source": [
    "## Scatter-plot of the grades"
   ]
  },
  {
   "cell_type": "code",
   "execution_count": null,
   "metadata": {},
   "outputs": [],
   "source": [
    "figure()\n",
    "scatter(U_1, U_2, 0.5, [.5, .5, .5], '*')\n",
    "plt.grid(True)\n",
    "xlabel('grade U_1')\n",
    "ylabel('grade U_2')\n",
    "title('Scatter plot of the grades');\n",
    "# save_plot(ax=plt.gca(), extension='png', scriptname=os.path.basename('.')[:-3], count=plt.get_fignums()[-1])"
   ]
  },
  {
   "cell_type": "markdown",
   "metadata": {},
   "source": [
    "## Histogram of the joint distribution"
   ]
  },
  {
   "cell_type": "code",
   "execution_count": null,
   "metadata": {},
   "outputs": [],
   "source": [
    "f, ax = plt.subplots(1, 1, subplot_kw=dict(projection='3d'))\n",
    "ax.view_init(34,-50)\n",
    "NumBins2D = int(sqrt(100*log(j_)))\n",
    "NumBins2D = array([[NumBins2D, NumBins2D]])\n",
    "\n",
    "# set flat FP\n",
    "p = ones((1, len(X[0]))) / len(X[0])\n",
    "# compute histogram\n",
    "option = namedtuple('option', 'n_bins')\n",
    "option.n_bins = NumBins2D\n",
    "[f, xi] = HistogramFP(X, p, option)\n",
    "# plot histogram\n",
    "\n",
    "xpos,ypos = np.meshgrid(xi[0][:-1], xi[1][:-1])\n",
    "xpos = xpos.flatten('F')\n",
    "ypos = ypos.flatten('F')\n",
    "zpos = np.zeros_like(xpos)\n",
    "# Construct arrays with the dimensions for the 16 bars.\n",
    "dx = 0.5 * np.ones_like(zpos)\n",
    "dy = dx.copy()\n",
    "dz = f.flatten()\n",
    "ax.bar3d(xpos,ypos,zpos, dx,dy,dz,color=[.8, .8, .8])\n",
    "# ylim([min(xi[0, 0]), max(xi[0, 0])])\n",
    "xlabel('$X_1$',labelpad=10)\n",
    "ylabel('$X_2$',labelpad=10)\n",
    "title('Histogram of the joint distribution');\n",
    "# save_plot(ax=plt.gca(), extension='png', scriptname=os.path.basename('.')[:-3], count=plt.get_fignums()[-1])"
   ]
  }
 ],
 "metadata": {
  "jupytext": {
   "encoding": "# -*- coding: utf-8 -*-",
   "executable": "/usr/bin/env python3"
  },
  "kernelspec": {
   "display_name": "Python 3",
   "language": "python",
   "name": "python3"
  }
 },
 "nbformat": 4,
 "nbformat_minor": 4
}
