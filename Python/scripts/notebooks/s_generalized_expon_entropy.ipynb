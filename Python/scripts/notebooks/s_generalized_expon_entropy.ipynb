{
 "cells": [
  {
   "cell_type": "markdown",
   "metadata": {},
   "source": [
    "# s_generalized_expon_entropy [<img src=\"https://www.arpm.co/lab/icons/icon_permalink.png\" width=30 height=30 style=\"display: inline;\">](https://www.arpm.co/lab/redirect.php?code=s_generalized_expon_entropy&codeLang=Python)\n",
    "For details, see [here](https://www.arpm.co/lab/redirect.php?permalink=EBGenExpConv)."
   ]
  },
  {
   "cell_type": "code",
   "execution_count": null,
   "metadata": {},
   "outputs": [],
   "source": [
    "import numpy as np\n",
    "import matplotlib.pyplot as plt\n",
    "\n",
    "from arpym.estimation.effective_num_scenarios import effective_num_scenarios\n",
    "from arpym.statistics.simulate_normal import simulate_normal\n",
    "from arpym.tools.logo import add_logo"
   ]
  },
  {
   "cell_type": "markdown",
   "metadata": {},
   "source": [
    "## [Input parameters](https://www.arpm.co/lab/redirect.php?permalink=s_generalized_expon_entropy-parameters)"
   ]
  },
  {
   "cell_type": "code",
   "execution_count": null,
   "metadata": {},
   "outputs": [],
   "source": [
    "t_ = 10000  # number of scenarios for flexible probabilities\n",
    "k_ = 100  # number of values of gamma"
   ]
  },
  {
   "cell_type": "markdown",
   "metadata": {},
   "source": [
    "## [Step 1](https://www.arpm.co/lab/redirect.php?permalink=s_generalized_expon_entropy-implementation-step01): Generate a random vector of flexible probabilities"
   ]
  },
  {
   "cell_type": "code",
   "execution_count": null,
   "metadata": {},
   "outputs": [],
   "source": [
    "# generate a vector of positive values\n",
    "p = np.abs(simulate_normal(0, 1, t_))\n",
    "p = p/np.sum(p)  # rescale so the probabilities add to one"
   ]
  },
  {
   "cell_type": "markdown",
   "metadata": {},
   "source": [
    "## [Step 2](https://www.arpm.co/lab/redirect.php?permalink=s_generalized_expon_entropy-implementation-step02): Create a grid of gamma values"
   ]
  },
  {
   "cell_type": "code",
   "execution_count": null,
   "metadata": {},
   "outputs": [],
   "source": [
    "gamma_grid = np.linspace(0, 1-1.0e-7, num=k_)"
   ]
  },
  {
   "cell_type": "markdown",
   "metadata": {},
   "source": [
    "## [Step 3](https://www.arpm.co/lab/redirect.php?permalink=s_generalized_expon_entropy-implementation-step03): Calculate the effective number of scenarios"
   ]
  },
  {
   "cell_type": "code",
   "execution_count": null,
   "metadata": {},
   "outputs": [],
   "source": [
    "ens = effective_num_scenarios(p)"
   ]
  },
  {
   "cell_type": "markdown",
   "metadata": {},
   "source": [
    "## [Step 4](https://www.arpm.co/lab/redirect.php?permalink=s_generalized_expon_entropy-implementation-step04): Calculate the generalized effective number of scenarios for various values of gamma"
   ]
  },
  {
   "cell_type": "code",
   "execution_count": null,
   "metadata": {},
   "outputs": [],
   "source": [
    "ens_gamma = np.zeros(k_)\n",
    "for k in range(k_):\n",
    "    ens_gamma[k] = effective_num_scenarios(p, type_ent='gen_exp',\n",
    "                                           gamma=gamma_grid[k])"
   ]
  },
  {
   "cell_type": "markdown",
   "metadata": {},
   "source": [
    "## Plots"
   ]
  },
  {
   "cell_type": "code",
   "execution_count": null,
   "metadata": {},
   "outputs": [],
   "source": [
    "plt.style.use('arpm')\n",
    "\n",
    "f = plt.figure(figsize=(1280.0/72.0, 720.0/72.0), dpi=72.0)\n",
    "plt.plot(gamma_grid, ens_gamma, linewidth=1.5)\n",
    "plt.axhline(y=ens, color='lightgray', linewidth=1.5)\n",
    "plt.xlim((0, 1.1))\n",
    "plt.ylim((np.floor(ens*0.95/500)*500, t_))\n",
    "plt.xticks(fontsize=14)\n",
    "plt.yticks(fontsize=14)\n",
    "plt.xlabel('$\\gamma$', fontsize=17)\n",
    "plt.ylabel('$\\mathit{ens}_{\\gamma}(\\mathbf{p})$', fontsize=17)\n",
    "plt.title('Generalized exponential of entropy convergence',\n",
    "          fontsize=20, fontweight='bold')\n",
    "plt.legend(['Gen. exponential of entropy', 'Exponential of entropy'],\n",
    "           fontsize=17)\n",
    "plt.grid(False)\n",
    "add_logo(f, location=3, set_fig_size=False)\n",
    "plt.tight_layout()"
   ]
  }
 ],
 "metadata": {
  "jupytext": {
   "encoding": "# -*- coding: utf-8 -*-",
   "executable": "/usr/bin/env python3"
  },
  "kernelspec": {
   "display_name": "Python 3",
   "language": "python",
   "name": "python3"
  }
 },
 "nbformat": 4,
 "nbformat_minor": 4
}
