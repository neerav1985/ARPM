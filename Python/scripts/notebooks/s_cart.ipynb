{
 "cells": [
  {
   "cell_type": "markdown",
   "metadata": {},
   "source": [
    "# s_cart [<img src=\"https://www.arpm.co/lab/icons/icon_permalink.png\" width=30 height=30 style=\"display: inline;\">](https://www.arpm.co/lab/redirect.php?code=s_cart&codeLang=Python)\n",
    "For details, see [here](https://www.arpm.co/lab/redirect.php?permalink=s_cart)."
   ]
  },
  {
   "cell_type": "code",
   "execution_count": null,
   "metadata": {},
   "outputs": [],
   "source": [
    "import numpy as np\n",
    "import pandas as pd\n",
    "from sklearn import tree\n",
    "import matplotlib.pyplot as plt\n",
    "from mpl_toolkits.mplot3d import Axes3D\n",
    "\n",
    "from arpym.tools.logo import add_logo"
   ]
  },
  {
   "cell_type": "markdown",
   "metadata": {},
   "source": [
    "## [Input parameters](https://www.arpm.co/lab/redirect.php?permalink=s_cart-parameters)"
   ]
  },
  {
   "cell_type": "code",
   "execution_count": null,
   "metadata": {},
   "outputs": [],
   "source": [
    "l_max = 80  # maximum number of leaves"
   ]
  },
  {
   "cell_type": "markdown",
   "metadata": {},
   "source": [
    "## [Step 0](https://www.arpm.co/lab/redirect.php?permalink=s_cart-implementation-step00): Load input and target scenarios"
   ]
  },
  {
   "cell_type": "code",
   "execution_count": null,
   "metadata": {
    "lines_to_next_cell": 2
   },
   "outputs": [],
   "source": [
    "data = pd.read_csv('~/databases/temporary-databases/db_ml_variables.csv')\n",
    "j_bar = int(data['j_in_sample'][0])\n",
    "z = data['z'].values.reshape(j_bar, 2)\n",
    "x = data['x'].values[:j_bar]"
   ]
  },
  {
   "cell_type": "markdown",
   "metadata": {},
   "source": [
    "## [Step 1](https://www.arpm.co/lab/redirect.php?permalink=s_cart-implementation-step01): Build CART models and compute in-sample errors"
   ]
  },
  {
   "cell_type": "code",
   "execution_count": null,
   "metadata": {},
   "outputs": [],
   "source": [
    "tree_delta = []\n",
    "x_bar = np.zeros((j_bar, l_max-1))\n",
    "error = np.zeros(l_max-1)\n",
    "for leaves in np.arange(2, l_max+1):\n",
    "    # fit CART model\n",
    "    tree_delta_l_bar = tree.DecisionTreeRegressor(max_depth=80,\n",
    "                                                  max_leaf_nodes=leaves)\n",
    "    tree_delta.append(tree_delta_l_bar)\n",
    "    # predicted simulations\n",
    "    x_bar_l = tree_delta_l_bar.fit(z, x).predict(z)\n",
    "    x_bar[:, leaves-2] = x_bar_l\n",
    "    # in-sample error\n",
    "    error[leaves-2] = np.mean((x-x_bar_l)**2)"
   ]
  },
  {
   "cell_type": "markdown",
   "metadata": {},
   "source": [
    "## Plots"
   ]
  },
  {
   "cell_type": "code",
   "execution_count": null,
   "metadata": {},
   "outputs": [],
   "source": [
    "plt.style.use('arpm')\n",
    "\n",
    "idxx0 = np.where(np.abs(z[:, 0]) <= 2)[0]\n",
    "idxx1 = np.where(np.abs(z[:, 1]) <= 2)[0]\n",
    "idxx = np.intersect1d(idxx0, idxx1)\n",
    "lightblue = [0.2, 0.6, 1]\n",
    "lightgreen = [0.6, 0.8, 0]\n",
    "\n",
    "# Auxiliary functions\n",
    "\n",
    "def muf(z1, z2):\n",
    "    return z1 - np.tanh(10*z1*z2)\n",
    "\n",
    "def sigf(z1, z2):\n",
    "    return np.sqrt(np.minimum(z1**2, 1/(10*np.pi)))\n",
    "\n",
    "plt.figure()\n",
    "mydpi = 72.0\n",
    "fig = plt.figure(figsize=(1280.0/mydpi, 720.0/mydpi), dpi=mydpi)\n",
    "\n",
    "# Parameters\n",
    "n_classes = 2\n",
    "plot_colors = \"rb\"\n",
    "plot_step = 0.06\n",
    "\n",
    "z_1_min = z[:, 0].min()\n",
    "z_1_max = z[:, 0].max()\n",
    "z_2_min = z[:, 1].min()\n",
    "z_2_max = z[:, 1].max()\n",
    "zz1, zz2 = np.meshgrid(np.arange(z_1_min, z_1_max, plot_step),\n",
    "                       np.arange(z_2_min, z_2_max, plot_step))\n",
    "\n",
    "# Error\n",
    "ax1 = plt.subplot2grid((2, 4), (0, 0), colspan=2)\n",
    "insamplot = ax1.plot(np.arange(2, l_max+1), error, color='k')\n",
    "ax1.set_ylabel('In-sample error', color='k')\n",
    "ax1.tick_params(axis='y', colors='k')\n",
    "ax1.set_xlabel('Number of leaves')\n",
    "plt.xlim([2, l_max])\n",
    "ax1.set_title('In-sample error as function \\n of number of leaves',\n",
    "              fontweight='bold', y=1.10)\n",
    "ax1.grid(False)\n",
    "\n",
    "\n",
    "# Error\n",
    "ax4 = plt.subplot2grid((2, 4), (0,2))\n",
    "tree.plot_tree(tree_delta[-1].fit(z, x))\n",
    "ax4.set_title('Tree', fontweight='bold', y=1.17)\n",
    "\n",
    "# Conditional expectation surface\n",
    "ax2 = plt.subplot2grid((2, 4), (1, 0), rowspan=2, colspan=2,\n",
    "                       projection='3d')\n",
    "step = 0.01\n",
    "zz1, zz2 = np.meshgrid(np.arange(-2, 2, step), np.arange(-2, 2, step))\n",
    "ax2.plot_surface(zz1, zz2, muf(zz1, zz2), color=lightblue, alpha=0.7,\n",
    "                 label='$\\mu(z_1, z_2)$')\n",
    "\n",
    "ax2.scatter3D(z[idxx, 0], z[idxx, 1],\n",
    "              x[idxx], s=10, color=lightblue, alpha=1,\n",
    "              label='$(Z_1, Z_2, X)$')\n",
    "ax2.set_xlabel('$Z_1$')\n",
    "ax2.set_ylabel('$Z_2$')\n",
    "ax2.set_zlabel('$X$')\n",
    "ax2.set_title('Conditional expectation surface', fontweight='bold')\n",
    "ax2.set_xlim([-2, 2])\n",
    "ax2.set_ylim([-2, 2])\n",
    "# ax.legend()\n",
    "\n",
    "# Fitted surface\n",
    "ax3 = plt.subplot2grid((2, 4), (1, 2), rowspan=2, colspan=2, projection='3d')\n",
    "x_plot = tree_delta[-1].predict(np.c_[zz1.ravel(), zz2.ravel()])\n",
    "x_plot = x_plot.reshape(zz1.shape)\n",
    "ax3.plot_surface(zz1, zz2, x_plot, alpha=0.5, color=lightgreen)\n",
    "ax3.scatter3D(z[idxx, 0], z[idxx, 1],\n",
    "              tree_delta[-1].predict(z[idxx, :]), s=10,\n",
    "              alpha=1, color=lightgreen)\n",
    "ax3.set_xlabel('$Z_1$')\n",
    "ax3.set_ylabel('$Z_2$')\n",
    "ax3.set_zlabel('$\\overline{X}$')\n",
    "plt.title('Fitted surface, leaves = %1i; ' % l_max, fontweight='bold')\n",
    "\n",
    "add_logo(fig, size_frac_x=1/8)\n",
    "plt.tight_layout()"
   ]
  }
 ],
 "metadata": {
  "jupytext": {
   "encoding": "# -*- coding: utf-8 -*-",
   "executable": "/usr/bin/env python3"
  },
  "kernelspec": {
   "display_name": "Python 3",
   "language": "python",
   "name": "python3"
  }
 },
 "nbformat": 4,
 "nbformat_minor": 4
}
