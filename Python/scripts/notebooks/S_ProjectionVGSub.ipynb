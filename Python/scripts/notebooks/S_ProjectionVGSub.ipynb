{
 "cells": [
  {
   "cell_type": "markdown",
   "metadata": {},
   "source": [
    "# S_ProjectionVGSub [<img src=\"https://www.arpm.co/lab/icons/icon_permalink.png\" width=30 height=30 style=\"display: inline;\">](https://www.arpm.co/lab/redirect.php?code=S_ProjectionVGSub&codeLang=Python)\n",
    "For details, see [here](https://www.arpm.co/lab/redirect.php?permalink=eb-subordinated-brownian-motion)."
   ]
  },
  {
   "cell_type": "markdown",
   "metadata": {},
   "source": [
    "## Prepare the environment"
   ]
  },
  {
   "cell_type": "code",
   "execution_count": null,
   "metadata": {},
   "outputs": [],
   "source": [
    "import os\n",
    "import os.path as path\n",
    "import sys\n",
    "\n",
    "sys.path.append(path.abspath('../../functions-legacy'))\n",
    "from collections import namedtuple\n",
    "\n",
    "from numpy import arange, array, zeros, diff, abs, log, exp, sqrt, tile, r_, atleast_2d, newaxis\n",
    "from numpy import sum as npsum, min as npmin, max as npmax\n",
    "\n",
    "from scipy.io import loadmat\n",
    "\n",
    "import matplotlib.pyplot as plt\n",
    "from matplotlib.pyplot import plot, subplots, ylabel, \\\n",
    "    xlabel, title, xticks\n",
    "\n",
    "plt.style.use('seaborn')\n",
    "\n",
    "from CONFIG import GLOBAL_DB, TEMPORARY_DB\n",
    "from ARPM_utils import struct_to_dict, datenum, save_plot\n",
    "from intersect_matlab import intersect\n",
    "from EffectiveScenarios import EffectiveScenarios\n",
    "from ConditionalFP import ConditionalFP\n",
    "from MMFP import MMFP\n",
    "from VG import VG\n",
    "from ShiftedVGMoments import ShiftedVGMoments"
   ]
  },
  {
   "cell_type": "markdown",
   "metadata": {},
   "source": [
    "## Upload databases"
   ]
  },
  {
   "cell_type": "code",
   "execution_count": null,
   "metadata": {},
   "outputs": [],
   "source": [
    "try:\n",
    "    db = loadmat(os.path.join(GLOBAL_DB, 'db_OptionStrategy'), squeeze_me=True)\n",
    "except FileNotFoundError:\n",
    "    db = loadmat(os.path.join(TEMPORARY_DB, 'db_OptionStrategy'), squeeze_me=True)\n",
    "\n",
    "OptionStrategy = struct_to_dict(db['OptionStrategy'])\n",
    "\n",
    "try:\n",
    "    db = loadmat(os.path.join(GLOBAL_DB, 'db_VIX'), squeeze_me=True)\n",
    "except FileNotFoundError:\n",
    "    db = loadmat(os.path.join(TEMPORARY_DB, 'db_VIX'), squeeze_me=True)\n",
    "\n",
    "VIX = struct_to_dict(db['VIX'])"
   ]
  },
  {
   "cell_type": "markdown",
   "metadata": {},
   "source": [
    "## Merge data"
   ]
  },
  {
   "cell_type": "code",
   "execution_count": null,
   "metadata": {},
   "outputs": [],
   "source": [
    "# invariants (daily P&L)\n",
    "pnl = OptionStrategy.cumPL\n",
    "epsi = diff(pnl)\n",
    "dates_x = array([datenum(i) for i in OptionStrategy.Dates])\n",
    "dates_x = dates_x[1:]\n",
    "\n",
    "# conditioning variable (VIX)\n",
    "z = VIX.value\n",
    "dates_z = VIX.Date\n",
    "\n",
    "    # merging datasets\n",
    "[dates, i_epsi, i_z] = intersect(dates_x, dates_z)\n",
    "\n",
    "pnl = pnl[i_epsi + 1]\n",
    "epsi = epsi[i_epsi]\n",
    "z = z[i_z]\n",
    "t_ = len(epsi)"
   ]
  },
  {
   "cell_type": "markdown",
   "metadata": {},
   "source": [
    "## Compute the Flexible Probabilities conditioned via Entropy Pooling"
   ]
  },
  {
   "cell_type": "code",
   "execution_count": null,
   "metadata": {},
   "outputs": [],
   "source": [
    "# prior\n",
    "lam = log(2) / 1800  # half life 5y\n",
    "prior = exp(-lam*abs(arange(t_, 1 + -1, -1))).reshape(1,-1)\n",
    "prior = prior / npsum(prior)\n",
    "\n",
    "# conditioner\n",
    "VIX = namedtuple('VIX', 'Series TargetValue Leeway')\n",
    "VIX.Series = z.reshape(1,-1)\n",
    "VIX.TargetValue = atleast_2d(z[-1])\n",
    "VIX.Leeway = 0.35\n",
    "\n",
    "# flexible probabilities conditioned via EP\n",
    "p = ConditionalFP(VIX, prior)\n",
    "\n",
    "# effective number of scenarios\n",
    "typ = namedtuple('type','Entropy')\n",
    "typ.Entropy = 'Exp'\n",
    "ens = EffectiveScenarios(p, typ)"
   ]
  },
  {
   "cell_type": "markdown",
   "metadata": {},
   "source": [
    "## Estimation of shifted-VG model"
   ]
  },
  {
   "cell_type": "code",
   "execution_count": null,
   "metadata": {},
   "outputs": [],
   "source": [
    "# initial guess on parameters\n",
    "shift0 = 0\n",
    "theta0 = 0\n",
    "sigma0 = 0.01\n",
    "nu0 = 1\n",
    "par0 = [shift0, theta0, sigma0, nu0]\n",
    "\n",
    "# calibration\n",
    "HFP = namedtuple('HFP', ['FlexProbs','Scenarios'])\n",
    "HFP.FlexProbs = p\n",
    "HFP.Scenarios = epsi\n",
    "par = MMFP(HFP, 'SVG', par0)\n",
    "\n",
    "shift = par.c\n",
    "theta = par.theta\n",
    "sigma = par.sigma\n",
    "nu = par.nu\n",
    "\n",
    "# #changing parameterization from {theta,sigma, nu} to {c,m,g}\n",
    "# [c, m, g] = ParamChangeVG(theta,sigma,nu)"
   ]
  },
  {
   "cell_type": "code",
   "execution_count": null,
   "metadata": {},
   "outputs": [],
   "source": [
    "# ## Initialize projection variables\n",
    "tau = 15  # investment horizon\n",
    "dt = 1 / 75  # infinitesimal step for simulations\n",
    "t_j = arange(0,tau+dt,dt)  # time vector for simulations\n",
    "j_ = 2  # number of simulations"
   ]
  },
  {
   "cell_type": "code",
   "execution_count": null,
   "metadata": {},
   "outputs": [],
   "source": [
    "# ## Simulate VG paths\n",
    "\n",
    "[X, T] = VG(theta, sigma, nu, t_j, j_)  # VG paths\n",
    "X = X + tile(shift*t_j[newaxis,...], (j_, 1))  # shifted-VG path\n",
    "X = pnl[t_-1] + X  # centered path\n",
    "dT = r_['-1',zeros((j_, 1)), diff(T, 1, 1)]"
   ]
  },
  {
   "cell_type": "markdown",
   "metadata": {},
   "source": [
    "## Projection to horizon"
   ]
  },
  {
   "cell_type": "code",
   "execution_count": null,
   "metadata": {},
   "outputs": [],
   "source": [
    "# moments\n",
    "mu_tau, sigma2_tau, _, _ = ShiftedVGMoments(0, theta, sigma, nu, tau)\n",
    "expectation = pnl[t_-1] + shift*tau + mu_tau  # shift and center mean\n",
    "sigma_tau = sqrt(sigma2_tau)"
   ]
  },
  {
   "cell_type": "code",
   "execution_count": null,
   "metadata": {},
   "outputs": [],
   "source": [
    "# ## Generate the figure\n",
    "s_ = 2"
   ]
  },
  {
   "cell_type": "code",
   "execution_count": null,
   "metadata": {},
   "outputs": [],
   "source": [
    "f, ax = subplots(3,1)\n",
    "\n",
    "# figure settings\n",
    "dgrey = [0.5, 0.5, 0.5]\n",
    "color = {}\n",
    "color [0]= 'b'\n",
    "color [1]= [.9, .35, 0]\n",
    "color [2]= 'm'\n",
    "color [3]= 'g'\n",
    "color [4]= 'c'\n",
    "color [5]= 'y'\n",
    "t = r_[arange(-s_,1),t_j[1:]]\n",
    "\n",
    "plt.sca(ax[0])\n",
    "m = min([npmin(X)*0.91, npmin(pnl[t_ - s_:])*0.91, pnl[-1] - 3*sigma_tau / 2])\n",
    "M = max([npmax(X)*1.1, npmax(pnl[t_ - s_:])*1.1, expectation + 1.2*sigma_tau])\n",
    "plt.axis([-s_, tau, m, M])\n",
    "xlabel('time (days)')\n",
    "ylabel('Risk driver')\n",
    "xticks(arange(-s_,tau+1))\n",
    "plt.grid(False)\n",
    "title('Variance Gamma process (subordinated Brownian motion)')\n",
    "for j in range(j_):\n",
    "    plot(t_j, X[j,:], color= color[j], lw=2)\n",
    "\n",
    "for s in range(s_):\n",
    "    plot([s-s_, s-s_+1], [pnl[t_+s-s_-1], pnl[t_+s-s_]], color=dgrey, lw=2)\n",
    "    plot(s-s_, pnl[t_+s-s_-1], color=dgrey, linestyle='none', marker='.',markersize=15) # observation (dots)\n",
    "\n",
    "plot(0, pnl[t_-1], color=dgrey, linestyle='none', marker='.',markersize=15)\n",
    "\n",
    "plt.sca(ax[1])\n",
    "M_v = npmax(dT)*1.1\n",
    "m_v = -M_v*0.08\n",
    "plt.axis([-s_, tau, m_v, M_v])\n",
    "xlabel('time (days)')\n",
    "ylabel('Stoch. time increment')\n",
    "xticks(arange(-s_,tau+1))\n",
    "plt.grid(False)\n",
    "title('Gamma process')\n",
    "for j in range(j_):\n",
    "    plot(t_j, dT[j,:], color= color[j], lw=2)\n",
    "\n",
    "plot([-s_, 0], [0,0], color=dgrey, lw=2)\n",
    "\n",
    "plt.sca(ax[2])\n",
    "M_T = npmax(T[:,-1])*1.1\n",
    "m_T = -M_T*0.08\n",
    "plt.axis([-s_, tau, m_T, M_T])\n",
    "xlabel('time (days)')\n",
    "ylabel('Stoch. time')\n",
    "xticks(arange(-s_,tau+1))\n",
    "plt.grid(False)\n",
    "title('Integrated Gamma process')\n",
    "for j in range(j_):\n",
    "    plot(t_j, T[j,:], color= color[j], lw=2)\n",
    "\n",
    "plot([-s_, 0], [0,0], color=dgrey, lw=2)\n",
    "plt.tight_layout();\n",
    "# save_plot(ax=plt.gca(), extension='png', scriptname=os.path.basename('.')[:-3], count=plt.get_fignums()[-1]);"
   ]
  }
 ],
 "metadata": {
  "jupytext": {
   "encoding": "# -*- coding: utf-8 -*-",
   "executable": "/usr/bin/env python3"
  },
  "kernelspec": {
   "display_name": "Python 3",
   "language": "python",
   "name": "python3"
  }
 },
 "nbformat": 4,
 "nbformat_minor": 4
}
