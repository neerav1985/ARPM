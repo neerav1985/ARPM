{
 "cells": [
  {
   "cell_type": "markdown",
   "metadata": {},
   "source": [
    "# S_ImpliedLeverageEffect [<img src=\"https://www.arpm.co/lab/icons/icon_permalink.png\" width=30 height=30 style=\"display: inline;\">](https://www.arpm.co/lab/redirect.php?code=S_ImpliedLeverageEffect&codeLang=Python)\n",
    "For details, see [here](https://www.arpm.co/lab/redirect.php?permalink=ExImplVolLeverageEff)."
   ]
  },
  {
   "cell_type": "markdown",
   "metadata": {},
   "source": [
    "## Prepare the environment"
   ]
  },
  {
   "cell_type": "code",
   "execution_count": null,
   "metadata": {},
   "outputs": [],
   "source": [
    "import os\n",
    "import os.path as path\n",
    "import sys\n",
    "\n",
    "sys.path.append(path.abspath('../../functions-legacy'))\n",
    "\n",
    "import numpy as np\n",
    "from numpy import arange, array, diff, log, exp, r_\n",
    "from numpy import sum as npsum, min as npmin, max as npmax\n",
    "\n",
    "from scipy.io import loadmat\n",
    "\n",
    "import matplotlib.pyplot as plt\n",
    "from matplotlib.pyplot import figure, scatter, ylabel, \\\n",
    "    xlabel, title, xticks, yticks\n",
    "import matplotlib.dates as mdates\n",
    "\n",
    "plt.style.use('seaborn')\n",
    "\n",
    "from CONFIG import GLOBAL_DB, TEMPORARY_DB\n",
    "from ARPM_utils import save_plot, struct_to_dict, date_mtop\n",
    "from FPmeancov import FPmeancov\n",
    "from PlotTwoDimEllipsoid import PlotTwoDimEllipsoid"
   ]
  },
  {
   "cell_type": "markdown",
   "metadata": {},
   "source": [
    "## Upload data from db_ImpliedVol_SPX"
   ]
  },
  {
   "cell_type": "code",
   "execution_count": null,
   "metadata": {},
   "outputs": [],
   "source": [
    "try:\n",
    "    db = loadmat(os.path.join(GLOBAL_DB, 'db_ImpliedVol_SPX'), squeeze_me=True)\n",
    "except FileNotFoundError:\n",
    "    db = loadmat(os.path.join(TEMPORARY_DB, 'db_ImpliedVol_SPX'), squeeze_me=True)  # implied volatility surface for SP500\n",
    "\n",
    "db_ImpliedVol_SPX = struct_to_dict(db['db_ImpliedVol_SPX'])\n",
    "\n",
    "tau = db_ImpliedVol_SPX.TimeToMaturity\n",
    "delta = db_ImpliedVol_SPX.Delta  # delta-moneyness\n",
    "sigma_delta = db_ImpliedVol_SPX.Sigma\n",
    "\n",
    "implied_vol = sigma_delta[0, delta == 0.5, 1:]  # at the money option expiring in tau[0] years\n",
    "prices = db_ImpliedVol_SPX.Underlying\n",
    "logrets = diff(log(prices))\n",
    "dates = db_ImpliedVol_SPX.Dates[1:]\n",
    "dates = array([date_mtop(i) for i in dates])\n",
    "\n",
    "t_ = len(dates)\n",
    "\n",
    "lam = log(2) / 90  # exp decay probs, half life 3 months\n",
    "FP = exp(-lam * arange(t_, 1 + -1, -1))\n",
    "FP = (FP / npsum(FP)).reshape(1,-1)\n",
    "\n",
    "m, s2 = FPmeancov(r_[logrets[np.newaxis,...], implied_vol], FP)\n",
    "\n",
    "# colors\n",
    "c0 = [.9, .4, 0]\n",
    "c1 = [.4, .4, 1]\n",
    "c2 = [0.3, 0.3, 0.3]\n",
    "myFmt = mdates.DateFormatter('%d-%b-%y')"
   ]
  },
  {
   "cell_type": "markdown",
   "metadata": {},
   "source": [
    "## Generate the figure"
   ]
  },
  {
   "cell_type": "code",
   "execution_count": null,
   "metadata": {},
   "outputs": [],
   "source": [
    "date_tick = range(0,t_,150)  # tick for the time axes\n",
    "xticklabels = dates[date_tick]  # labels for dates\n",
    "\n",
    "f = figure()\n",
    "\n",
    "# axes for prices\n",
    "ax1 = plt.subplot2grid((2, 5), (0, 0), colspan=3)\n",
    "ax1.plot(dates, prices[1:], color=c1)  # prices\n",
    "ax1.set_xticks(xticklabels)\n",
    "ax1.xaxis.set_major_formatter(myFmt)\n",
    "ax1.tick_params(axis='y', colors=c1)\n",
    "ylabel('prices', color=c1)\n",
    "\n",
    "# axes for log-returns\n",
    "ax2 = ax1.twinx()\n",
    "ax2.scatter(dates, logrets, s=2.5, c=c2, marker='.')  # log-returns\n",
    "ax2.set_ylabel('log-returns', color=c2)\n",
    "ax2.tick_params(axis='y', colors=c2)\n",
    "ax1.axis([min(dates), max(dates), npmin(prices), npmax(prices) + 5])\n",
    "\n",
    "# axes for hidden volatility\n",
    "ax3 = plt.subplot2grid((2, 5), (1, 0), colspan=3)\n",
    "plt.axis([min(dates), max(dates), npmin(implied_vol), npmax(implied_vol)])\n",
    "ylabel('hidden vol',color=c1)\n",
    "title('VOLATILITY')\n",
    "ax3.plot(dates, implied_vol.flatten(), color=c1)  # hidden volatility\n",
    "ax3.set_xticks(xticklabels)\n",
    "ax3.xaxis.set_major_formatter(myFmt)\n",
    "ax3.tick_params(axis='y', colors=c1)\n",
    "\n",
    "# axes for the scatter plot (leverage effect)\n",
    "ax4 = plt.subplot2grid((2, 5), (0, 3), colspan=2, rowspan=2)\n",
    "plt.axis([npmin(logrets), npmax(logrets), 0.8*npmin(implied_vol), 1.3*npmax(implied_vol)])\n",
    "ylabel('implied vol.')\n",
    "xlabel('log-returns')\n",
    "title('LEVERAGE EFFECT')\n",
    "scatter(logrets, implied_vol.flatten(), 3, c2, '*')\n",
    "PlotTwoDimEllipsoid(m, s2, 1, 0, 0, c0, 2, fig=plt.gcf())\n",
    "plt.tight_layout();\n",
    "# save_plot(ax=plt.gca(), extension='png', scriptname=os.path.basename('.')[:-3], count=plt.get_fignums()[-1])"
   ]
  }
 ],
 "metadata": {
  "jupytext": {
   "encoding": "# -*- coding: utf-8 -*-",
   "executable": "/usr/bin/env python3"
  },
  "kernelspec": {
   "display_name": "Python 3",
   "language": "python",
   "name": "python3"
  }
 },
 "nbformat": 4,
 "nbformat_minor": 4
}
