{
 "cells": [
  {
   "cell_type": "markdown",
   "metadata": {},
   "source": [
    "# S_AnalyzeWishartCorrelation [<img src=\"https://www.arpm.co/lab/icons/icon_permalink.png\" width=30 height=30 style=\"display: inline;\">](https://www.arpm.co/lab/redirect.php?code=S_AnalyzeWishartCorrelation&codeLang=Python)\n",
    "For details, see [here](https://www.arpm.co/lab/redirect.php?permalink=eb-cor-norm-wish-marg)."
   ]
  },
  {
   "cell_type": "markdown",
   "metadata": {},
   "source": [
    "## Prepare the environment"
   ]
  },
  {
   "cell_type": "code",
   "execution_count": null,
   "metadata": {},
   "outputs": [],
   "source": [
    "import os\n",
    "import os.path as path\n",
    "import sys\n",
    "\n",
    "sys.path.append(path.abspath('../../functions-legacy'))\n",
    "\n",
    "from numpy import arange, array, zeros, sort, argsort, sqrt\n",
    "from numpy.linalg import eig\n",
    "\n",
    "import matplotlib.pyplot as plt\n",
    "from matplotlib.pyplot import plot, ylim, subplots, ylabel, \\\n",
    "    xlabel\n",
    "\n",
    "plt.style.use('seaborn')\n",
    "\n",
    "from ARPM_utils import save_plot\n",
    "\n",
    "# input parameters\n",
    "sigvec = [1, 1]\n",
    "nu = 15"
   ]
  },
  {
   "cell_type": "markdown",
   "metadata": {},
   "source": [
    "## Compute correlations and condition numbers as a function of rho"
   ]
  },
  {
   "cell_type": "code",
   "execution_count": null,
   "metadata": {},
   "outputs": [],
   "source": [
    "corrrange = arange(-0.99, 1, 0.01)  # range of the parameter rho\n",
    "n_ = len(corrrange)\n",
    "cr_12 = zeros((n_, 1))\n",
    "condnb = zeros((n_, 1))\n",
    "\n",
    "for n in range(n_):\n",
    "    rho = corrrange[n]\n",
    "    cr_12[n] = sqrt(2) * rho / sqrt(1 + rho ** 2)  # correlation\n",
    "\n",
    "    Cv_X = array([[1, cr_12[n]], [cr_12[n], 1]])  # covariance (=correlation) matrix\n",
    "\n",
    "    Diag_lambda2, e = eig(Cv_X)\n",
    "    lambda2 = Diag_lambda2\n",
    "    lambda2, order = sort(lambda2)[::-1], argsort(lambda2)[::-1]\n",
    "\n",
    "    condnb[n] = lambda2[1] / lambda2[0]  # condition number"
   ]
  },
  {
   "cell_type": "markdown",
   "metadata": {},
   "source": [
    "## Display correlations and condition numbers as a function of rho"
   ]
  },
  {
   "cell_type": "code",
   "execution_count": null,
   "metadata": {},
   "outputs": [],
   "source": [
    "f, ax = subplots(2, 1)\n",
    "plt.sca(ax[0])\n",
    "plot(corrrange, cr_12)\n",
    "ylim([-1, 1])\n",
    "plt.grid(True)\n",
    "xlabel(r'$\\rho$')\n",
    "ylabel('correlation')\n",
    "\n",
    "plt.sca(ax[1])\n",
    "plot(corrrange, condnb)\n",
    "ylim([0, 1])\n",
    "plt.grid(True)\n",
    "xlabel(r'$\\rho$')\n",
    "ylabel('condition ratio')\n",
    "plt.tight_layout();\n",
    "# save_plot(ax=plt.gca(), extension='png', scriptname=os.path.basename('.')[:-3], count=plt.get_fignums()[-1])"
   ]
  }
 ],
 "metadata": {
  "jupytext": {
   "encoding": "# -*- coding: utf-8 -*-",
   "executable": "/usr/bin/env python3"
  },
  "kernelspec": {
   "display_name": "Python 3",
   "language": "python",
   "name": "python3"
  }
 },
 "nbformat": 4,
 "nbformat_minor": 4
}
