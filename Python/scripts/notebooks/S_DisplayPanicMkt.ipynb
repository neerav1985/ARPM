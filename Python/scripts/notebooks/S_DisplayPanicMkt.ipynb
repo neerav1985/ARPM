{
 "cells": [
  {
   "cell_type": "markdown",
   "metadata": {},
   "source": [
    "# S_DisplayPanicMkt [<img src=\"https://www.arpm.co/lab/icons/icon_permalink.png\" width=30 height=30 style=\"display: inline;\">](https://www.arpm.co/lab/redirect.php?code=S_DisplayPanicMkt&codeLang=Python)\n",
    "For details, see [here](https://www.arpm.co/lab/redirect.php?permalink=eb-2-panic-mark)."
   ]
  },
  {
   "cell_type": "markdown",
   "metadata": {},
   "source": [
    "## Prepare the environment"
   ]
  },
  {
   "cell_type": "code",
   "execution_count": null,
   "metadata": {},
   "outputs": [],
   "source": [
    "import os\n",
    "import os.path as path\n",
    "import sys\n",
    "\n",
    "sys.path.append(path.abspath('../../functions-legacy'))\n",
    "from collections import namedtuple\n",
    "\n",
    "from numpy import arange, diff, round, log, corrcoef\n",
    "\n",
    "from scipy.io import loadmat\n",
    "\n",
    "import matplotlib.pyplot as plt\n",
    "from matplotlib.pyplot import figure, bar, scatter, ylabel, \\\n",
    "    xlabel, title\n",
    "\n",
    "plt.style.use('seaborn')\n",
    "\n",
    "from CONFIG import GLOBAL_DB, TEMPORARY_DB\n",
    "from ARPM_utils import save_plot, struct_to_dict\n",
    "from HistogramFP import HistogramFP\n",
    "from PanicTDistribution import PanicTDistribution\n",
    "from CopMargSep import CopMargSep\n",
    "from ColorCodedFP import ColorCodedFP\n",
    "\n",
    "# inputs\n",
    "j_ = 1000  # number of simulations\n",
    "nb = round(5*log(j_))\n",
    "\n",
    "nu = 3  # degree of freedom\n",
    "r = 0.85  # panic correlation\n",
    "c = 0.15  # threshold"
   ]
  },
  {
   "cell_type": "markdown",
   "metadata": {},
   "source": [
    "## Load daily observations of the stocks in S&P 500"
   ]
  },
  {
   "cell_type": "code",
   "execution_count": null,
   "metadata": {},
   "outputs": [],
   "source": [
    "try:\n",
    "    db = loadmat(os.path.join(GLOBAL_DB, 'db_StocksS_P'), squeeze_me=True)\n",
    "except FileNotFoundError:\n",
    "    db = loadmat(os.path.join(TEMPORARY_DB, 'db_StocksS_P'), squeeze_me=True)\n",
    "\n",
    "Data = struct_to_dict(db['Data'])\n",
    "V = Data.Prices\n",
    "pair = [0, 1]  # stocks to spot"
   ]
  },
  {
   "cell_type": "markdown",
   "metadata": {},
   "source": [
    "## Set the calm correlation matrix as sample correlation matrix of compounded returns"
   ]
  },
  {
   "cell_type": "code",
   "execution_count": null,
   "metadata": {},
   "outputs": [],
   "source": [
    "C = diff(log(V), 1, 1)\n",
    "C = C[pair, :]\n",
    "\n",
    "varrho2 = corrcoef(C)"
   ]
  },
  {
   "cell_type": "markdown",
   "metadata": {},
   "source": [
    "## Compute panic distribution"
   ]
  },
  {
   "cell_type": "code",
   "execution_count": null,
   "metadata": {},
   "outputs": [],
   "source": [
    "X, p_ = PanicTDistribution(varrho2, r, c, nu, j_)"
   ]
  },
  {
   "cell_type": "markdown",
   "metadata": {},
   "source": [
    "## Extract the simulations of the panic copula"
   ]
  },
  {
   "cell_type": "code",
   "execution_count": null,
   "metadata": {},
   "outputs": [],
   "source": [
    "x, u, U = CopMargSep(X, p_)"
   ]
  },
  {
   "cell_type": "markdown",
   "metadata": {},
   "source": [
    "## Represent the scatter-plot of panic distribution plot the histograms of their marginals"
   ]
  },
  {
   "cell_type": "code",
   "execution_count": null,
   "metadata": {},
   "outputs": [],
   "source": [
    "# scatter plot\n",
    "figure()\n",
    "grey_range = arange(0,0.81,0.01)\n",
    "CM, C = ColorCodedFP(p_, None, None, grey_range, 0, 18, [17, 5])\n",
    "# colormap(CM)\n",
    "scatter(X[0], X[1], s=3, c=C, marker='.',cmap=CM)\n",
    "xlabel('$X_1$')\n",
    "ylabel('$X_2$')\n",
    "title('Panic joint distribution');\n",
    "# save_plot(ax=plt.gca(), extension='png', scriptname=os.path.basename('.')[:-3], count=plt.get_fignums()[-1])\n",
    "\n",
    "# marginal X1\n",
    "figure()\n",
    "option = namedtuple('option', 'n_bins')\n",
    "option.n_bins = nb\n",
    "f, c1 = HistogramFP(X[[0]], p_, option)\n",
    "bar(c1[:-1], f[0], width=c1[1]-c1[0], facecolor=[.9, .9, .9], edgecolor=  'k')\n",
    "title('Marginal $X_1$');\n",
    "# save_plot(ax=plt.gca(), extension='png', scriptname=os.path.basename('.')[:-3], count=plt.get_fignums()[-1])\n",
    "\n",
    "# marginal X2\n",
    "figure()\n",
    "\n",
    "f, varrho2 = HistogramFP(X[[1]], p_, option)\n",
    "bar(varrho2[:-1], f[0], width=varrho2[1]-varrho2[0], facecolor=[.9, .9, .9], edgecolor=  'k')\n",
    "title('Marginal $X_2$');\n",
    "# save_plot(ax=plt.gca(), extension='png', scriptname=os.path.basename('.')[:-3], count=plt.get_fignums()[-1])"
   ]
  },
  {
   "cell_type": "markdown",
   "metadata": {},
   "source": [
    "## Scatter-plot the simulations of panic copula U and plot the histograms of the grades"
   ]
  },
  {
   "cell_type": "code",
   "execution_count": null,
   "metadata": {},
   "outputs": [],
   "source": [
    "# scatter plot\n",
    "figure()\n",
    "\n",
    "grey_range = arange(0,0.81,0.01)\n",
    "CM, C = ColorCodedFP(p_, None, None, grey_range, 0, 18, [17, 5])\n",
    "# colormap(CM)\n",
    "scatter(U[0], U[1], s=3, c=C, marker='.',cmap=CM)\n",
    "xlabel('$U_1$')\n",
    "ylabel('$U_2$')\n",
    "title('Panic copula');\n",
    "# save_plot(ax=plt.gca(), extension='png', scriptname=os.path.basename('.')[:-3], count=plt.get_fignums()[-1])\n",
    "\n",
    "# grade U1\n",
    "figure()\n",
    "[f, c1] = HistogramFP(U[[0]], p_, option)\n",
    "bar(c1[:-1], f[0],  width=c1[1]-c1[0], facecolor=[.9, .9, .9], edgecolor=  'k')\n",
    "title('Grade $U_1$');\n",
    "# save_plot(ax=plt.gca(), extension='png', scriptname=os.path.basename('.')[:-3], count=plt.get_fignums()[-1])\n",
    "\n",
    "# Grade U2\n",
    "figure()\n",
    "f, varrho2 = HistogramFP(U[[1]], p_, option)\n",
    "bar(varrho2[:-1], f[0], width=varrho2[1]-varrho2[0], facecolor=[.9, .9, .9], edgecolor=  'k')\n",
    "title('Grade $U_2$');\n",
    "# save_plot(ax=plt.gca(), extension='png', scriptname=os.path.basename('.')[:-3], count=plt.get_fignums()[-1])\n"
   ]
  }
 ],
 "metadata": {
  "jupytext": {
   "encoding": "# -*- coding: utf-8 -*-",
   "executable": "/usr/bin/env python3"
  },
  "kernelspec": {
   "display_name": "Python 3",
   "language": "python",
   "name": "python3"
  }
 },
 "nbformat": 4,
 "nbformat_minor": 4
}
