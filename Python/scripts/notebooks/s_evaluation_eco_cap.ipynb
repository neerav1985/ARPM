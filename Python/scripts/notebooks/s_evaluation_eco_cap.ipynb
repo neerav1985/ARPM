{
 "cells": [
  {
   "cell_type": "markdown",
   "metadata": {},
   "source": [
    "# s_evaluation_eco_cap [<img src=\"https://www.arpm.co/lab/icons/icon_permalink.png\" width=30 height=30 style=\"display: inline;\">](https://www.arpm.co/lab/redirect.php?code=s_evaluation_eco_cap&codeLang=Python)\n",
    "For details, see [here](https://www.arpm.co/lab/redirect.php?permalink=EBEconomicCapital)."
   ]
  },
  {
   "cell_type": "code",
   "execution_count": null,
   "metadata": {},
   "outputs": [],
   "source": [
    "import numpy as np\n",
    "import pandas as pd\n",
    "from scipy.stats import norm\n",
    "\n",
    "from arpym.statistics.quantile_sp import quantile_sp"
   ]
  },
  {
   "cell_type": "markdown",
   "metadata": {},
   "source": [
    "## [Input parameters](https://www.arpm.co/lab/redirect.php?permalink=s_evaluation_eco_cap-parameters)"
   ]
  },
  {
   "cell_type": "code",
   "execution_count": null,
   "metadata": {},
   "outputs": [],
   "source": [
    "c = 0.99  # confidence level\n",
    "rho_lb_a_n = 0.03\n",
    "rho_ub_a_n = 0.16\n",
    "lambda_a_n = 35\n",
    "s_n = 25 * 1e6  # firm size\n",
    "s_lb = 5 * 1e6  # minimum firm size\n",
    "s_ub = 50 * 1e6  # maximum firm size\n",
    "l_lb = -0.04\n",
    "l_ub = 0\n",
    "tau_n = 3  # maturity"
   ]
  },
  {
   "cell_type": "markdown",
   "metadata": {},
   "source": [
    "## [Step 0](https://www.arpm.co/lab/redirect.php?permalink=s_evaluation_eco_cap-implementation-step00): Load data"
   ]
  },
  {
   "cell_type": "code",
   "execution_count": null,
   "metadata": {},
   "outputs": [],
   "source": [
    "path = '~/databases/temporary-databases/'\n",
    "df = pd.read_csv(path + 'db_aggregation_regcred.csv', index_col=None, header=0)\n",
    "\n",
    "j_ = df['p_j'].count()  # number of scenarios of the P&L at the horizon\n",
    "n_ = df['p_n'].count()  # number of counterparties\n",
    "\n",
    "p = np.array(df['p_j'].iloc[:j_]).reshape(-1)  # scenario-probabilities\n",
    "lgd_ead_n = np.array(df['loss_n'].iloc[:n_]).reshape(-1)  # losses\n",
    "p_n = np.array(df['p_n'].iloc[:n_]).reshape(-1)  # probabilities of default\n",
    "rho_n = np.array(df['rho_n'].iloc[:n_]).reshape(-1)  # correlation coefficients\n",
    "# idiosyncratic shock senariors\n",
    "inv_phi_utilde = np.array(df['inv_phi_utilde'].iloc[:j_*n_]).reshape((j_, n_))"
   ]
  },
  {
   "cell_type": "markdown",
   "metadata": {},
   "source": [
    "## [Step 1](https://www.arpm.co/lab/redirect.php?permalink=s_evaluation_eco_cap-implementation-step01): Compute the economic capital by using its definition"
   ]
  },
  {
   "cell_type": "code",
   "execution_count": null,
   "metadata": {},
   "outputs": [],
   "source": [
    "z = np.random.normal(0, 1, j_)  # grid of values for the risk factor Z_0\n",
    "\n",
    "inv_phi_u = np.zeros((j_, n_))\n",
    "for n in range(n_):\n",
    "    inv_phi_u[:, n] = z * np.sqrt(rho_n[n]) + inv_phi_utilde[:, n] * \\\n",
    "                np.sqrt(1 - rho_n[n])\n",
    "\n",
    "indicator_d_n = (inv_phi_u <= norm.ppf(p_n)).astype(float)\n",
    "pi_eni = - indicator_d_n @ lgd_ead_n\n",
    "eco_cap = quantile_sp(c, p) + pi_eni @ p  # economic capital"
   ]
  },
  {
   "cell_type": "markdown",
   "metadata": {},
   "source": [
    "## [Step 2](https://www.arpm.co/lab/redirect.php?permalink=s_evaluation_eco_cap-implementation-step02): Compute the approximated economic capital (according to the regulatory risk framework)"
   ]
  },
  {
   "cell_type": "code",
   "execution_count": null,
   "metadata": {},
   "outputs": [],
   "source": [
    "aux = (norm.ppf(p_n) - np.sqrt(rho_n) * norm.ppf(1 - c)) / np.sqrt(1 - rho_n)\n",
    "eco_cap_rc = lgd_ead_n @ (norm.cdf(aux) - p_n)  # approximated economic capital"
   ]
  },
  {
   "cell_type": "markdown",
   "metadata": {},
   "source": [
    "## [Step 3](https://www.arpm.co/lab/redirect.php?permalink=s_evaluation_eco_cap-implementation-step03): Compute the approximated economic capital after the correlation specification"
   ]
  },
  {
   "cell_type": "code",
   "execution_count": null,
   "metadata": {
    "lines_to_end_of_cell_marker": 0,
    "lines_to_next_cell": 1
   },
   "outputs": [],
   "source": [
    "# Define the linear increasing function of the firm size\n",
    "\n",
    "\n",
    "def lf(s_n, s_lb, s_ub):\n",
    "    if s_n <= s_lb:\n",
    "        return l_lb\n",
    "    if s_n >= s_ub:\n",
    "        return l_ub\n",
    "    else:\n",
    "        return (l_ub - l_lb) * (s_n - s_lb) / (s_ub - s_lb) + l_lb\n",
    "\n",
    "\n",
    "aux1 = (1 - np.exp(-lambda_a_n * p_n)) / (1 - np.exp(-lambda_a_n))\n",
    "# correlation coefficients\n",
    "rho_ca = rho_lb_a_n * aux1 + rho_ub_a_n * (1 - aux1) + lf(s_n, s_lb, s_ub)\n",
    "aux2 = (norm.ppf(p_n) - np.sqrt(rho_ca) * norm.ppf(1 - c))/np.sqrt(1 - rho_ca)\n",
    "# approximated economic capital\n",
    "eco_cap_ca = lgd_ead_n @ (norm.cdf(aux2) - p_n)"
   ]
  },
  {
   "cell_type": "markdown",
   "metadata": {},
   "source": [
    "## [Step 4](https://www.arpm.co/lab/redirect.php?permalink=s_evaluation_eco_cap-implementation-step04): Compute the approximated economic captial with the maturity adjustment"
   ]
  },
  {
   "cell_type": "code",
   "execution_count": null,
   "metadata": {},
   "outputs": [],
   "source": [
    "\n",
    "def b(p_n):\n",
    "    return (0.11852 - 0.05478 * np.log(p_n))**2  # smoothing function\n",
    "\n",
    "\n",
    "ma_n = (1+(tau_n-2.5)*b(p_n))/(1-1.5*b(p_n))  # maturity adjustment\n",
    "# approximated economic capital\n",
    "eco_cap_ma = lgd_ead_n @ ((norm.cdf(aux) - p_n) * ma_n)"
   ]
  },
  {
   "cell_type": "markdown",
   "metadata": {},
   "source": [
    "## [Step 5](https://www.arpm.co/lab/redirect.php?permalink=s_evaluation_eco_cap-implementation-step05): Compute the approximated derivatives of the economic capital"
   ]
  },
  {
   "cell_type": "code",
   "execution_count": null,
   "metadata": {},
   "outputs": [],
   "source": [
    "h_n = np.random.randint(1, 101, n_)  # portfolio holdings\n",
    "eco_cap_n = -(lgd_ead_n / h_n) * (p_n - norm.cdf(aux))"
   ]
  }
 ],
 "metadata": {
  "jupytext": {
   "encoding": "# -*- coding: utf-8 -*-",
   "executable": "/usr/bin/env python3"
  },
  "kernelspec": {
   "display_name": "Python 3",
   "language": "python",
   "name": "python3"
  }
 },
 "nbformat": 4,
 "nbformat_minor": 4
}
