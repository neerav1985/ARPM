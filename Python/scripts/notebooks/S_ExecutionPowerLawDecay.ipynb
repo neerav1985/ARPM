{
 "cells": [
  {
   "cell_type": "markdown",
   "metadata": {},
   "source": [
    "# S_ExecutionPowerLawDecay [<img src=\"https://www.arpm.co/lab/icons/icon_permalink.png\" width=30 height=30 style=\"display: inline;\">](https://www.arpm.co/lab/redirect.php?code=S_ExecutionPowerLawDecay&codeLang=Python)\n",
    "For details, see [here](https://www.arpm.co/lab/redirect.php?permalink=eb-liquidation_power_law_decay)."
   ]
  },
  {
   "cell_type": "markdown",
   "metadata": {},
   "source": [
    "## Prepare the environment"
   ]
  },
  {
   "cell_type": "code",
   "execution_count": null,
   "metadata": {},
   "outputs": [],
   "source": [
    "import os\n",
    "import os.path as path\n",
    "import sys\n",
    "\n",
    "sys.path.append(path.abspath('../../functions-legacy'))\n",
    "\n",
    "import numpy as np\n",
    "from numpy import arange\n",
    "\n",
    "from scipy.special import beta as betafunc, betainc\n",
    "\n",
    "import matplotlib.pyplot as plt\n",
    "from matplotlib.pyplot import plot, legend, subplots, ylabel, \\\n",
    "    xlabel, title\n",
    "\n",
    "plt.style.use('seaborn')\n",
    "np.seterr(divide='ignore')\n",
    "\n",
    "from ARPM_utils import save_plot\n",
    "\n",
    "# parameters\n",
    "h_start = 10000  # initial holdings\n",
    "delta_q = 0.01  # time interval occurring between two trades\n",
    "q_grid = arange(0,1+delta_q,delta_q)\n",
    "omega1 = 0.5\n",
    "omega2 = 0.8\n",
    "omega3 = 0.2"
   ]
  },
  {
   "cell_type": "markdown",
   "metadata": {},
   "source": [
    "## Compute the optimal trading rate and the optimal trading trajectory"
   ]
  },
  {
   "cell_type": "code",
   "execution_count": null,
   "metadata": {},
   "outputs": [],
   "source": [
    "# corresponding to omega=0.2,0.5,0.8\n",
    "\n",
    "# optimal trajectories\n",
    "trajectory1 = h_start*(\n",
    "1 - betainc((1 + omega1) / 2, (1 + omega1) / 2,q_grid) / betainc((1 + omega1) / 2, (1 + omega1) / 2, 1))\n",
    "trajectory2 = h_start*(\n",
    "1 - betainc((1 + omega2) / 2, (1 + omega2) / 2, q_grid) / betainc((1 + omega2) / 2, (1 + omega2) / 2, 1))\n",
    "trajectory3 = h_start*(\n",
    "1 - betainc((1 + omega3) / 2, (1 + omega3) / 2, q_grid) / betainc((1 + omega3) / 2, (1 + omega3) / 2, 1))\n",
    "\n",
    "# optimal trading rates\n",
    "trading_rate1 = -h_start / (betafunc((1 + omega1) / 2, (1 + omega1) / 2)*(q_grid * (1 - q_grid)) ** (1 - omega1 / 2))\n",
    "trading_rate2 = -h_start / (betafunc((1 + omega2) / 2, (1 + omega2) / 2)*(q_grid * (1 - q_grid)) ** (1 - omega2 / 2))\n",
    "trading_rate3 = -h_start / (betafunc((1 + omega3) / 2, (1 + omega3) / 2)*(q_grid * (1 - q_grid)) ** (1 - omega3 / 2))"
   ]
  },
  {
   "cell_type": "markdown",
   "metadata": {},
   "source": [
    "## Plot the optimal trading rate and the optimal trading trajectory for each value of omega."
   ]
  },
  {
   "cell_type": "code",
   "execution_count": null,
   "metadata": {},
   "outputs": [],
   "source": [
    "f,ax = subplots(2,1)\n",
    "\n",
    "# optimal trading trajectories\n",
    "plt.sca(ax[0])\n",
    "title('Transient impact: power law decay kernel')\n",
    "a1 = plot(q_grid, trajectory1, color='r',label='$\\omega$ = 0.5')\n",
    "a2 = plot(q_grid, trajectory2, color='b',label='$\\omega$ = 0.8')\n",
    "a3 = plot(q_grid, trajectory3, color='k',label='$\\omega$ = 0.2')\n",
    "leg1 = legend()\n",
    "ylabel( 'Share holdings')\n",
    "\n",
    "# optimal trading rates\n",
    "plt.sca(ax[1])\n",
    "p1 = plot(q_grid, trading_rate1, color='r',label='$\\omega$ = 0.5')\n",
    "p2 = plot(q_grid, trading_rate2, color='b',label='$\\omega$ = 0.8')\n",
    "p3 = plot(q_grid, trading_rate3, color='k',label='$\\omega$ = 0.2')\n",
    "leg2 = legend()\n",
    "xlabel('Volume time')\n",
    "ylabel('rading rate')\n",
    "plt.tight_layout();\n",
    "# save_plot(ax=plt.gca(), extension='png', scriptname=os.path.basename('.')[:-3], count=plt.get_fignums()[-1])"
   ]
  }
 ],
 "metadata": {
  "jupytext": {
   "encoding": "# -*- coding: utf-8 -*-",
   "executable": "/usr/bin/env python3"
  },
  "kernelspec": {
   "display_name": "Python 3",
   "language": "python",
   "name": "python3"
  }
 },
 "nbformat": 4,
 "nbformat_minor": 4
}
