{
 "cells": [
  {
   "cell_type": "markdown",
   "metadata": {},
   "source": [
    "# S_FitYieldVasicek [<img src=\"https://www.arpm.co/lab/icons/icon_permalink.png\" width=30 height=30 style=\"display: inline;\">](https://www.arpm.co/lab/redirect.php?code=S_FitYieldVasicek&codeLang=Python)\n",
    "For details, see [here](https://www.arpm.co/lab/redirect.php?permalink=ExerVasicekFit)."
   ]
  },
  {
   "cell_type": "markdown",
   "metadata": {},
   "source": [
    "## Prepare the environment"
   ]
  },
  {
   "cell_type": "code",
   "execution_count": null,
   "metadata": {},
   "outputs": [],
   "source": [
    "import os\n",
    "import os.path as path\n",
    "import sys\n",
    "from time import sleep\n",
    "\n",
    "sys.path.append(path.abspath('../../functions-legacy'))\n",
    "from collections import namedtuple\n",
    "\n",
    "import numpy as np\n",
    "from numpy import array, zeros, ceil, log\n",
    "from numpy import min as npmin, max as npmax\n",
    "np.seterr(divide='ignore',invalid='ignore', all='ignore')\n",
    "\n",
    "from scipy.io import loadmat\n",
    "\n",
    "import matplotlib.pyplot as plt\n",
    "from matplotlib.pyplot import figure, plot, legend, subplots, ylabel, \\\n",
    "    xlabel\n",
    "from tqdm import trange\n",
    "\n",
    "plt.style.use('seaborn')\n",
    "\n",
    "from CONFIG import GLOBAL_DB, TEMPORARY_DB\n",
    "from ARPM_utils import save_plot, struct_to_dict\n",
    "from intersect_matlab import intersect\n",
    "from RollPrices2YieldToMat import RollPrices2YieldToMat\n",
    "from FitVasicek import FitVasicek\n",
    "from ZCBondPriceVasicek import ZCBondPriceVasicek"
   ]
  },
  {
   "cell_type": "markdown",
   "metadata": {},
   "source": [
    "## Upload the database"
   ]
  },
  {
   "cell_type": "code",
   "execution_count": null,
   "metadata": {},
   "outputs": [],
   "source": [
    "try:\n",
    "    db = loadmat(os.path.join(GLOBAL_DB, 'db_SwapCurve'), squeeze_me=True)\n",
    "except FileNotFoundError:\n",
    "    db = loadmat(os.path.join(TEMPORARY_DB, 'db_SwapCurve'), squeeze_me=True)\n",
    "\n",
    "DF_Rolling = struct_to_dict(db['DF_Rolling'])"
   ]
  },
  {
   "cell_type": "markdown",
   "metadata": {},
   "source": [
    "## Compute the yields to maturity from the database and set the initial values for the parameters"
   ]
  },
  {
   "cell_type": "code",
   "execution_count": null,
   "metadata": {},
   "outputs": [],
   "source": [
    "# times to maturity\n",
    "tau = array([[1, 2, 3, 4, 5, 6, 7, 8, 9, 10, 15, 20]]).T\n",
    "# len of the time series for fitting\n",
    "t_ = 40  # low for speed increase to appreciate the homogeneous behavior of the parameters as risk drivers\n",
    "# yields from rolling pricing\n",
    "y,_ = RollPrices2YieldToMat(DF_Rolling.TimeToMat, DF_Rolling.Prices)\n",
    "# extract the last t_end observations for the selected maturities\n",
    "_, matIndices,_ = intersect(DF_Rolling.TimeToMat, tau)\n",
    "y = y[matIndices, - t_:]\n",
    "# initial values for the parameters\n",
    "par_start = namedtuple('par','theta0 theta1 theta2 theta3')\n",
    "par_start.theta0 = 0.01\n",
    "par_start.theta1 = 0.01\n",
    "par_start.theta2 = 0.2\n",
    "par_start.theta3 = 0.01"
   ]
  },
  {
   "cell_type": "markdown",
   "metadata": {},
   "source": [
    "## Fit prices and compute yields"
   ]
  },
  {
   "cell_type": "code",
   "execution_count": null,
   "metadata": {},
   "outputs": [],
   "source": [
    "print('Fitting Vasicek model')\n",
    "sleep(0.5)\n",
    "# preallocating variables\n",
    "theta = zeros((4, t_))\n",
    "exit = zeros((1, t_))\n",
    "res = zeros((1, t_))\n",
    "z = zeros((len(tau), t_))\n",
    "y_Vasicek = zeros((len(tau), t_))\n",
    "for t in trange(t_):\n",
    "    if t == 0:\n",
    "        par = FitVasicek(tau, y[:,[t]], par_start)\n",
    "    else:\n",
    "        par = FitVasicek(tau, y[:, [t]], par)\n",
    "\n",
    "    theta[0, t] = par.theta0\n",
    "    theta[1, t] = par.theta1\n",
    "    theta[2, t] = par.theta2\n",
    "    theta[3, t] = par.theta3\n",
    "    exit[0,t] = par.exit\n",
    "    res[0,t] = par.res\n",
    "    # fitted prices\n",
    "    z[:, [t]] = ZCBondPriceVasicek(tau, par)\n",
    "    # from prices to yields\n",
    "    y_Vasicek[:, [t]] = (1/-tau) * log(z[:, [t]])"
   ]
  },
  {
   "cell_type": "markdown",
   "metadata": {},
   "source": [
    "## Generate figures showing the evolution of the parameters and the comparison between the realized and the fitted yield curve at certain points in time"
   ]
  },
  {
   "cell_type": "code",
   "execution_count": null,
   "metadata": {},
   "outputs": [],
   "source": [
    "#Vasicek fitted swap curve\n",
    "n_fig = 1\n",
    "# number of figures, representing volatility fitting, to be plotted\n",
    "if n_fig ==1:\n",
    "    t_fig = range(1)\n",
    "else:\n",
    "    t_fig = range(0, t_-1, ceil(t_ / (n_fig - 1)))\n",
    "\n",
    "for k in t_fig:\n",
    "    figure()\n",
    "    plot(tau, y_Vasicek[:,k], 'b', tau, y[:, k], 'r.')\n",
    "    plt.axis([min(tau), max(tau),npmin(y_Vasicek[:, k]), npmax(y_Vasicek[:, k])])\n",
    "    xlabel('Time to Maturity')\n",
    "    ylabel('Rate')\n",
    "    legend(['Fit','Rates'])\n",
    "    plt.grid(True);\n",
    "    # save_plot(ax=plt.gca(), extension='png', scriptname=os.path.basename('.')[:-3], count=plt.get_fignums()[-1])\n",
    "\n",
    "    # parameters evolution\n",
    "    cellc = ['m','b','g','r']\n",
    "    celll = [r'$\\theta_{0}$',r'$\\theta_{1}$',r'$\\theta_{2}$',r'$\\theta_{3}$']\n",
    "\n",
    "    f,ax = subplots(4,1)\n",
    "    for i in range(4):\n",
    "        plt.sca(ax[i])\n",
    "        plot(range(t_), theta[i,:], color = cellc[i])\n",
    "        ylabel(celll[i])\n",
    "        plt.axis([1, t_,min(theta[i, :]), max(theta[i, :])])\n",
    "        plt.xticks([])\n",
    "        plt.grid(True)\n",
    "    xlabel('Time')\n",
    "    plt.tight_layout();\n",
    "    # save_plot(ax=plt.gca(), extension='png', scriptname=os.path.basename('.')[:-3], count=plt.get_fignums()[-1])\n"
   ]
  }
 ],
 "metadata": {
  "jupytext": {
   "encoding": "# -*- coding: utf-8 -*-",
   "executable": "/usr/bin/env python3"
  },
  "kernelspec": {
   "display_name": "Python 3",
   "language": "python",
   "name": "python3"
  }
 },
 "nbformat": 4,
 "nbformat_minor": 4
}
