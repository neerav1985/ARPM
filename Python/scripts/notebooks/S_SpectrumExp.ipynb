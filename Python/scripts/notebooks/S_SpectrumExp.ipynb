{
 "cells": [
  {
   "cell_type": "markdown",
   "metadata": {},
   "source": [
    "# S_SpectrumExp [<img src=\"https://www.arpm.co/lab/icons/icon_permalink.png\" width=30 height=30 style=\"display: inline;\">](https://www.arpm.co/lab/redirect.php?code=S_SpectrumExp&codeLang=Python)\n",
    "For details, see [here](https://www.arpm.co/lab/redirect.php?permalink=ExSpectrum_Exp)."
   ]
  },
  {
   "cell_type": "markdown",
   "metadata": {},
   "source": [
    "## Prepare the environment"
   ]
  },
  {
   "cell_type": "code",
   "execution_count": null,
   "metadata": {},
   "outputs": [],
   "source": [
    "import os\n",
    "import os.path as path\n",
    "import sys\n",
    "\n",
    "sys.path.append(path.abspath('../../functions-legacy'))\n",
    "from collections import namedtuple\n",
    "\n",
    "from numpy import ones, sort, argsort, cov, eye, mean, tile\n",
    "from numpy.linalg import eig\n",
    "\n",
    "from scipy.stats import expon\n",
    "\n",
    "import matplotlib.pyplot as plt\n",
    "from matplotlib.pyplot import figure, plot, bar, legend, xlim, ylim, ylabel, \\\n",
    "    xlabel, title, xticks, yticks\n",
    "\n",
    "plt.style.use('seaborn')\n",
    "\n",
    "from ARPM_utils import save_plot\n",
    "from HistogramFP import HistogramFP\n",
    "from PlotTwoDimEllipsoid import PlotTwoDimEllipsoid\n",
    "from MarchenkoPastur import MarchenkoPastur"
   ]
  },
  {
   "cell_type": "markdown",
   "metadata": {},
   "source": [
    "## Initialize variables"
   ]
  },
  {
   "cell_type": "code",
   "execution_count": null,
   "metadata": {},
   "outputs": [],
   "source": [
    "i_ = 500\n",
    "t_ = 2000\n",
    "q = t_ / i_"
   ]
  },
  {
   "cell_type": "markdown",
   "metadata": {},
   "source": [
    "## Generate a time series of (i_ x t_end) observations"
   ]
  },
  {
   "cell_type": "code",
   "execution_count": null,
   "metadata": {},
   "outputs": [],
   "source": [
    "X = expon.rvs(1, size=(i_, t_)) - 1"
   ]
  },
  {
   "cell_type": "markdown",
   "metadata": {},
   "source": [
    "## Compute the spectrum"
   ]
  },
  {
   "cell_type": "code",
   "execution_count": null,
   "metadata": {},
   "outputs": [],
   "source": [
    "Diag_lambda2, e = eig(cov(X))\n",
    "lambda2_vec, ind = sort(Diag_lambda2)[::-1], argsort(Diag_lambda2)[::-1]  # sorted eigenvalues"
   ]
  },
  {
   "cell_type": "markdown",
   "metadata": {},
   "source": [
    "## Compute the Marchenko-Pastur distribution corresponding to q=t_end/i_"
   ]
  },
  {
   "cell_type": "code",
   "execution_count": null,
   "metadata": {},
   "outputs": [],
   "source": [
    "l_ = 100  # coarseness level\n",
    "x_MP, y_MP, xlim_MP = MarchenkoPastur(q, l_)"
   ]
  },
  {
   "cell_type": "markdown",
   "metadata": {},
   "source": [
    "## Select the entries to plot the ellipsoid\n",
    "## map the sample into the eigenvector space"
   ]
  },
  {
   "cell_type": "code",
   "execution_count": null,
   "metadata": {},
   "outputs": [],
   "source": [
    "X_tmp = e[:, ind].T@(X - tile(mean(X, 1,keepdims=True), (1, t_)))\n",
    "X_ellips = X_tmp[[0,i_-1], :]"
   ]
  },
  {
   "cell_type": "markdown",
   "metadata": {},
   "source": [
    "## Create figures"
   ]
  },
  {
   "cell_type": "code",
   "execution_count": null,
   "metadata": {},
   "outputs": [],
   "source": [
    "c0_bl = [0.27, 0.4, 0.9]\n",
    "c1_or = [1, 0.5, 0.1]\n",
    "lambda2_min = min((lambda2_vec))\n",
    "lambda2_max = max(lambda2_vec)\n",
    "m_lambda2 = lambda2_min - (lambda2_max - lambda2_min) / 10\n",
    "M_lambda2 = lambda2_max + (lambda2_max - lambda2_min) / 10\n",
    "\n",
    "# spectrum plot\n",
    "figure()\n",
    "# color=w',.Tunits','normalized','outerposition',[0.15, 0.25, 0.4, 0.5])\n",
    "xlabel(r'Invariants (i)')\n",
    "ylabel(r'Eigenvalues ($\\lambda^2_i$)')\n",
    "xlim([-50, i_ + 50])\n",
    "ylim([lambda2_min, 1.2 * lambda2_max])\n",
    "l1 = plot(range(i_), ones((i_, 1)), color='g', lw=2, label='true spectrum')\n",
    "\n",
    "l2 = plot(range(i_), lambda2_vec, color=c0_bl, marker='.', label='sample spectrum')\n",
    "legend()\n",
    "title('Spectrum');\n",
    "# save_plot(ax=plt.gca(), extension='png', scriptname=os.path.basename('.')[:-3], count=plt.get_fignums()[-1])\n",
    "\n",
    "# spectrum distribution plot\n",
    "figure()\n",
    "# color=w',.Tunits','normalized','outerposition',[0.2, 0.2, 0.4, 0.5])\n",
    "p = ones((1, len(lambda2_vec))) / len(lambda2_vec)\n",
    "option = namedtuple('option', 'n_bins')\n",
    "\n",
    "option.n_bins = 100\n",
    "density, xbin = HistogramFP(lambda2_vec.reshape(1,-1), p, option)\n",
    "\n",
    "bar(xbin[:-1], density[0], width=xbin[1]-xbin[0], facecolor=c0_bl, edgecolor=c0_bl)\n",
    "plot([1, 1], [0, 1], 'g', lw=3)\n",
    "if q >= 1:\n",
    "    plot(x_MP, y_MP, color=c1_or, lw=3)\n",
    "else:\n",
    "    plot(x_MP[1:l_], y_MP[1:l_], color=c1_or, lw=3)\n",
    "    plot([x_MP[0], x_MP[0]], [0, y_MP[0]], color=c1_or, lw=6)\n",
    "\n",
    "xlabel(r'$\\lambda^2_i$')\n",
    "xlim([m_lambda2, M_lambda2])\n",
    "ylim([0, 1.25 * max(y_MP)])\n",
    "title('Spectrum distribution')\n",
    "legend(['sample spectrum', 'true spectrum', 'Marchenko-Pastur']);\n",
    "# save_plot(ax=plt.gca(), extension='png', scriptname=os.path.basename('.')[:-3], count=plt.get_fignums()[-1])\n",
    "\n",
    "# ellipsoids\n",
    "figure()\n",
    "# color=w',.Tunits','normalized','outerposition',[0.25, 0.15, 0.4, 0.5])\n",
    "S = cov(X_ellips)\n",
    "S[S < 1e-14] = 0\n",
    "plot(X_ellips[0], X_ellips[1], '.', markersize=5, color=[0.8, 0.8, 0.8])\n",
    "# axis square\n",
    "scale = 2\n",
    "PlotTwoDimEllipsoid([00], eye(2), scale, 0, 0, 'g', 2,fig=plt.gcf())\n",
    "PlotTwoDimEllipsoid([00], S, scale, 0, 0, c0_bl, 2,fig=plt.gcf())\n",
    "xlabel('Variable 1 (rotated)')\n",
    "ylabel('Variable 2 (rotated)')\n",
    "legend(['observations', 'true', 'sample'])\n",
    "title('PCA Ellipsoids')\n",
    "xlim([-5, 5])\n",
    "ylim([-5, 5]);\n",
    "# save_plot(ax=plt.gca(), extension='png', scriptname=os.path.basename('.')[:-3], count=plt.get_fignums()[-1])"
   ]
  }
 ],
 "metadata": {
  "jupytext": {
   "encoding": "# -*- coding: utf-8 -*-",
   "executable": "/usr/bin/env python3"
  },
  "kernelspec": {
   "display_name": "Python 3",
   "language": "python",
   "name": "python3"
  }
 },
 "nbformat": 4,
 "nbformat_minor": 4
}
