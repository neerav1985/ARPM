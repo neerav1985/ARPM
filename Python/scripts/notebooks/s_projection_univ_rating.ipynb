{
 "cells": [
  {
   "cell_type": "markdown",
   "metadata": {},
   "source": [
    "# s_projection_univ_rating [<img src=\"https://www.arpm.co/lab/icons/icon_permalink.png\" width=30 height=30 style=\"display: inline;\">](https://www.arpm.co/lab/redirect.php?code=s_projection_univ_rating&codeLang=Python)\n",
    "For details, see [here](https://www.arpm.co/lab/redirect.php?permalink=eb-trans-prob-ep)."
   ]
  },
  {
   "cell_type": "code",
   "execution_count": null,
   "metadata": {},
   "outputs": [],
   "source": [
    "import numpy as np\n",
    "import pandas as pd\n",
    "import matplotlib.pyplot as plt\n",
    "import matplotlib.patches as patch\n",
    "from matplotlib.collections import PatchCollection\n",
    "\n",
    "from arpym.statistics.project_trans_matrix import project_trans_matrix\n",
    "from arpym.statistics.simulate_markov_chain_univ import simulate_markov_chain_univ\n",
    "from arpym.tools.histogram_sp import histogram_sp\n",
    "from arpym.tools.logo import add_logo"
   ]
  },
  {
   "cell_type": "markdown",
   "metadata": {},
   "source": [
    "## [Input parameters](https://www.arpm.co/lab/redirect.php?permalink=s_projection_univ_rating-parameters)"
   ]
  },
  {
   "cell_type": "code",
   "execution_count": null,
   "metadata": {},
   "outputs": [],
   "source": [
    "x_tnow = np.array([3])  # initial rating\n",
    "deltat = 120 # time to horizon (in months)\n",
    "m_ = 120  # number of monitoring times\n",
    "j_ = 1000  # number of scenarios"
   ]
  },
  {
   "cell_type": "markdown",
   "metadata": {},
   "source": [
    "## [Step 0](https://www.arpm.co/lab/redirect.php?permalink=s_projection_univ_rating-implementation-step00): Upload data"
   ]
  },
  {
   "cell_type": "code",
   "execution_count": null,
   "metadata": {},
   "outputs": [],
   "source": [
    "# upload database generated from s_fit_discrete_markov_chain\n",
    "path = '~/databases/temporary-databases/'\n",
    "df_p = pd.read_csv(path + 'db_trans_matrix.csv', index_col=0)\n",
    "p = np.array(df_p).reshape(8, 8)  # yearly transition matrix"
   ]
  },
  {
   "cell_type": "markdown",
   "metadata": {},
   "source": [
    "## [Step 1](https://www.arpm.co/lab/redirect.php?permalink=s_projection_univ_rating-implementation-step01): Compute probability mass function at the horizon conditioned on the current rating"
   ]
  },
  {
   "cell_type": "code",
   "execution_count": null,
   "metadata": {},
   "outputs": [],
   "source": [
    "# compute projected transition matrix\n",
    "p_dt = project_trans_matrix(p, m_/12, credit=True)"
   ]
  },
  {
   "cell_type": "markdown",
   "metadata": {},
   "source": [
    "## [Step 2](https://www.arpm.co/lab/redirect.php?permalink=s_projection_univ_rating-implementation-step02): Compute Monte Carlo scenarios"
   ]
  },
  {
   "cell_type": "code",
   "execution_count": null,
   "metadata": {},
   "outputs": [],
   "source": [
    "x_tnow_thor = simulate_markov_chain_univ(x_tnow, p, (deltat/m_)*np.ones(m_)/12, j_)"
   ]
  },
  {
   "cell_type": "markdown",
   "metadata": {},
   "source": [
    "## [Step 3](https://www.arpm.co/lab/redirect.php?permalink=s_projection_univ_rating-implementation-step03): Compute histogram"
   ]
  },
  {
   "cell_type": "code",
   "execution_count": null,
   "metadata": {},
   "outputs": [],
   "source": [
    "# exact conditional ratings distribution\n",
    "pdf_thor = p_dt[x_tnow, :]\n",
    "# empirical conditional ratings distribution\n",
    "bins = np.arange(8)\n",
    "f, xi = histogram_sp(x_tnow_thor[:, -1], p=None, xi=bins)"
   ]
  },
  {
   "cell_type": "markdown",
   "metadata": {},
   "source": [
    "## Plots"
   ]
  },
  {
   "cell_type": "code",
   "execution_count": null,
   "metadata": {},
   "outputs": [],
   "source": [
    "# settings\n",
    "plt.style.use('arpm')\n",
    "scale = 30\n",
    "fig, ax = plt.subplots(1, 1)\n",
    "plt.axis([0, m_ + np.max(f) * scale + 26, 0, 9])\n",
    "rat_col = list([[0, 166 / 255, 0], [75 / 255, 209 / 255, 29 / 255],\n",
    "                [131 / 255, 213 / 255, 32 / 255],\n",
    "                [188 / 255, 217 / 255, 34 / 255],\n",
    "                [221 / 255, 195 / 255, 36 / 255],\n",
    "                [225 / 255, 144 / 255, 38 / 255],\n",
    "                [229 / 255, 92 / 255, 40 / 255],\n",
    "                [233 / 255, 42 / 255, 47 / 255]])\n",
    "c1 = [0.8, 0.8, 0.8]  # light grey\n",
    "c2 = [0.2, 0.2, 0.2]  # dark grey\n",
    "j_sel = 100\n",
    "\n",
    "# paths\n",
    "for j in range(j_sel):\n",
    "    plt.plot(np.arange(m_+1), 1+x_tnow_thor[j, :].flatten(), color=c1)\n",
    "plt.xticks(np.linspace(0, m_, 5), fontsize=17)\n",
    "plt.yticks(np.arange(1, 9), ['AAA', 'AA', 'A', 'BBB', 'BB',\n",
    "                             'B', 'CCC', 'D'], fontsize=17,\n",
    "           fontweight='bold')\n",
    "for ytick, color in zip(ax.get_yticklabels(), rat_col):\n",
    "    ytick.set_color(color)\n",
    "plt.title('Projection of Markov chain', fontsize=20)\n",
    "plt.ylabel('Rating', fontsize=17)\n",
    "plt.xlabel('Time (months)', fontsize=17)\n",
    "plt.text(m_ + np.max(f) * scale + 0.1, 8.3, 'Rating probs.', fontsize=17)\n",
    "plt.text(m_ + np.max(f) * scale + 5.1, 0.9, '0', fontsize=14)\n",
    "plt.text(m_ + np.max(f) * scale + 5.1, 7.9, '1', fontsize=14)\n",
    "\n",
    "# histogram and rating probabilities bar\n",
    "plt.plot([m_, m_], [0.2, 8.8], color=c2)\n",
    "r1 = []\n",
    "r2 = []\n",
    "vert_y = np.r_[0, 7 * np.cumsum(pdf_thor)] + 1\n",
    "height = np.diff(vert_y)\n",
    "for s in np.arange(0, 8):\n",
    "    rect1 = patch.Rectangle((m_, s + 0.75), f[s] * scale, 0.5)\n",
    "    rect2 = patch.Rectangle((m_ + np.max(f) * scale + 12, vert_y[s]),\n",
    "                            1.0, height[s])\n",
    "    r1.append(rect1)\n",
    "    r2.append(rect2)\n",
    "pc1 = PatchCollection(r1, facecolor=rat_col, alpha=1)\n",
    "pc2 = PatchCollection(r2, facecolor=rat_col, edgecolor='k', alpha=1)\n",
    "ax.add_collection(pc1)\n",
    "ax.add_collection(pc2)\n",
    "\n",
    "add_logo(fig)\n",
    "plt.tight_layout()"
   ]
  }
 ],
 "metadata": {
  "jupytext": {
   "encoding": "# -*- coding: utf-8 -*-",
   "executable": "/usr/bin/env python3"
  },
  "kernelspec": {
   "display_name": "Python 3",
   "language": "python",
   "name": "python3"
  }
 },
 "nbformat": 4,
 "nbformat_minor": 4
}
