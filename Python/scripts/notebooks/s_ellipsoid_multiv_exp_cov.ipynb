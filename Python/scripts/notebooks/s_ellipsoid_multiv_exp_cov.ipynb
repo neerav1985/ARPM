{
 "cells": [
  {
   "cell_type": "markdown",
   "metadata": {},
   "source": [
    "# s_ellipsoid_multiv_exp_cov [<img src=\"https://www.arpm.co/lab/icons/icon_permalink.png\" width=30 height=30 style=\"display: inline;\">](https://www.arpm.co/lab/redirect.php?code=s_ellipsoid_multiv_exp_cov&codeLang=Python)\n",
    "For details, see [here](https://www.arpm.co/lab/redirect.php?permalink=doc-s_ellipsoid_multiv_loc_disp)."
   ]
  },
  {
   "cell_type": "code",
   "execution_count": null,
   "metadata": {},
   "outputs": [],
   "source": [
    "import numpy as np\n",
    "import matplotlib.pyplot as plt\n",
    "from matplotlib import rc, rcParams\n",
    "\n",
    "rc('text', usetex=True)\n",
    "rcParams['text.latex.preamble']=[r\"\\usepackage{amsmath} \\usepackage{amssymb}\"]\n",
    "\n",
    "from arpym.tools.logo import add_logo\n",
    "from arpym.tools.pca_cov import pca_cov"
   ]
  },
  {
   "cell_type": "markdown",
   "metadata": {},
   "source": [
    "## [Input parameters](https://www.arpm.co/lab/redirect.php?permalink=s_ellipsoid_multiv_exp_cov-parameters)"
   ]
  },
  {
   "cell_type": "code",
   "execution_count": null,
   "metadata": {},
   "outputs": [],
   "source": [
    "mu = np.array([1, 1])  # expectation vector\n",
    "sigma2 = np.array([[1, 0.7],\n",
    "                  [0.7, 1]])  # covariance matrix"
   ]
  },
  {
   "cell_type": "markdown",
   "metadata": {},
   "source": [
    "## [Step 1](https://www.arpm.co/lab/redirect.php?permalink=s_ellipsoid_multiv_exp_cov-implementation-step01): Generate points on the unit sphere"
   ]
  },
  {
   "cell_type": "code",
   "execution_count": null,
   "metadata": {},
   "outputs": [],
   "source": [
    "theta = np.linspace(0, 2*np.pi, num=200)\n",
    "y = np.array([[np.cos(angle), np.sin(angle)] for angle in theta]).T"
   ]
  },
  {
   "cell_type": "markdown",
   "metadata": {},
   "source": [
    "## [Step 2](https://www.arpm.co/lab/redirect.php?permalink=s_ellipsoid_multiv_exp_cov-implementation-step02): Calculate spectral decomposition"
   ]
  },
  {
   "cell_type": "code",
   "execution_count": null,
   "metadata": {},
   "outputs": [],
   "source": [
    "e, lambda2_vec = pca_cov(sigma2)\n",
    "e[[1, 0]] = e[[0, 1]]\n",
    "diag_lambda = np.diag(np.sqrt(lambda2_vec))"
   ]
  },
  {
   "cell_type": "markdown",
   "metadata": {},
   "source": [
    "## [Step 3](https://www.arpm.co/lab/redirect.php?permalink=s_ellipsoid_multiv_exp_cov-implementation-step03): Stretch the unit circle: multiply by eigenvalues"
   ]
  },
  {
   "cell_type": "code",
   "execution_count": null,
   "metadata": {},
   "outputs": [],
   "source": [
    "z = np.matmul(diag_lambda, y)"
   ]
  },
  {
   "cell_type": "markdown",
   "metadata": {},
   "source": [
    "## [Step 4](https://www.arpm.co/lab/redirect.php?permalink=s_ellipsoid_multiv_exp_cov-implementation-step04): Rotate the ellipsoid: multiply by eigenvectors"
   ]
  },
  {
   "cell_type": "code",
   "execution_count": null,
   "metadata": {},
   "outputs": [],
   "source": [
    "u = np.matmul(e, z)"
   ]
  },
  {
   "cell_type": "markdown",
   "metadata": {},
   "source": [
    "## [Step 5](https://www.arpm.co/lab/redirect.php?permalink=s_ellipsoid_multiv_exp_cov-implementation-step05): Translate the ellipsoid: add expectation vector"
   ]
  },
  {
   "cell_type": "code",
   "execution_count": null,
   "metadata": {},
   "outputs": [],
   "source": [
    "x = (u.T + mu).T"
   ]
  },
  {
   "cell_type": "markdown",
   "metadata": {},
   "source": [
    "## Plots"
   ]
  },
  {
   "cell_type": "code",
   "execution_count": null,
   "metadata": {
    "lines_to_next_cell": 0
   },
   "outputs": [],
   "source": [
    "# set figure specifications\n",
    "plt.style.use('arpm')\n",
    "f = plt.figure(figsize=(1280.0/72.0, 720.0/72.0), dpi=72.0)\n",
    "# axis limits\n",
    "bound = np.max(diag_lambda + np.linalg.norm(mu))\n",
    "# plot unit circle\n",
    "ax1 = f.add_subplot(2, 2, 1, aspect='equal')\n",
    "ax1.set_xlim([-bound, bound])\n",
    "ax1.set_ylim([-bound, bound])\n",
    "# show x=1 and y=1\n",
    "plt.hlines(0, -bound, bound)\n",
    "plt.vlines(0, -bound, bound)\n",
    "# turn off axis lines\n",
    "ax1.spines['top'].set_visible(False)\n",
    "ax1.spines['right'].set_visible(False)\n",
    "ax1.spines['bottom'].set_visible(False)\n",
    "ax1.spines['left'].set_visible(False)\n",
    "ax1.set_title('Unit circle',\n",
    "              fontsize=17, fontweight='bold')\n",
    "plt.plot(y[0], y[1], label=r'$||\\boldsymbol{y}||=1$')\n",
    "plt.legend(fontsize=14, loc='lower left')\n",
    "\n",
    "# plot unit circle after multiplication by diag(lambda\n",
    "ax2 = f.add_subplot(2, 2, 2, aspect='equal')\n",
    "ax2.set_xlim([-bound, bound])\n",
    "ax2.set_ylim([-bound, bound])\n",
    "# show x=1 and y=1\n",
    "plt.hlines(0, -bound, bound)\n",
    "plt.vlines(0, -bound, bound)\n",
    "# turn off axis lines\n",
    "ax2.spines['top'].set_visible(False)\n",
    "ax2.spines['right'].set_visible(False)\n",
    "ax2.spines['bottom'].set_visible(False)\n",
    "ax2.spines['left'].set_visible(False)\n",
    "ax2.set_title('Stretch: multiplication by eigenvalues',\n",
    "              fontsize=17, fontweight='bold')\n",
    "plt.plot(z[0], z[1],\n",
    "         label=r'$\\boldsymbol{z}=Diag(\\boldsymbol{\\lambda})\\times \\boldsymbol{y}$')\n",
    "plt.legend(fontsize=14, loc='lower left')\n",
    "\n",
    "# plot stretched unit circle after multiplication by eigenvectors\n",
    "ax3 = f.add_subplot(2, 2, 3, aspect='equal')\n",
    "ax3.set_xlim([-bound, bound])\n",
    "ax3.set_ylim([-bound, bound])\n",
    "# show x=1 and y=1\n",
    "plt.hlines(0, -bound, bound)\n",
    "plt.vlines(0, -bound, bound)\n",
    "# turn off axis lines\n",
    "ax3.spines['top'].set_visible(False)\n",
    "ax3.spines['right'].set_visible(False)\n",
    "ax3.spines['bottom'].set_visible(False)\n",
    "ax3.spines['left'].set_visible(False)\n",
    "ax3.set_title('Rotation: multiplication by eigenvectors',\n",
    "              fontsize=17, fontweight='bold')\n",
    "plt.plot(u[0], u[1], label=r'$\\boldsymbol{u} = \\boldsymbol{e} \\times \\boldsymbol{z}$')\n",
    "plt.legend(fontsize=14, loc='lower left')\n",
    "\n",
    "# plot stretched and rotated unit circle after addition of location\n",
    "ax4 = f.add_subplot(2, 2, 4, aspect='equal')\n",
    "ax4.set_xlim([-bound, bound])\n",
    "ax4.set_ylim([-bound, bound])\n",
    "# show x=1 and y=1\n",
    "plt.hlines(0, -bound, bound)\n",
    "plt.vlines(0, -bound, bound)\n",
    "# turn off axis lines\n",
    "ax4.spines['top'].set_visible(False)\n",
    "ax4.spines['right'].set_visible(False)\n",
    "ax4.spines['bottom'].set_visible(False)\n",
    "ax4.spines['left'].set_visible(False)\n",
    "ax4.set_title('Translation: addition of expectation vector',\n",
    "              fontsize=17, fontweight='bold')\n",
    "plt.plot(x[0], x[1], label=r'$\\boldsymbol{x} = \\mathbb{E}\\{\\boldsymbol{X}\\} + \\boldsymbol{u}$')\n",
    "plt.legend(fontsize=14, loc='lower left')\n",
    "\n",
    "plt.tight_layout()\n",
    "add_logo(f, location=4, set_fig_size=False)"
   ]
  },
  {
   "cell_type": "code",
   "execution_count": null,
   "metadata": {
    "lines_to_next_cell": 2
   },
   "outputs": [],
   "source": []
  }
 ],
 "metadata": {
  "jupytext": {
   "encoding": "# -*- coding: utf-8 -*-",
   "executable": "/usr/bin/env python3"
  },
  "kernelspec": {
   "display_name": "Python 3",
   "language": "python",
   "name": "python3"
  }
 },
 "nbformat": 4,
 "nbformat_minor": 4
}
