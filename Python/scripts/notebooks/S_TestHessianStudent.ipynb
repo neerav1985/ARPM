{
 "cells": [
  {
   "cell_type": "markdown",
   "metadata": {},
   "source": [
    "# S_TestHessianStudent [<img src=\"https://www.arpm.co/lab/icons/icon_permalink.png\" width=30 height=30 style=\"display: inline;\">](https://www.arpm.co/lab/redirect.php?code=S_TestHessianStudent&codeLang=Python)\n",
    "For details, see [here](https://www.arpm.co/lab/redirect.php?permalink=exer-mfpellipt-copy-2)."
   ]
  },
  {
   "cell_type": "code",
   "execution_count": null,
   "metadata": {},
   "outputs": [],
   "source": [
    "# ## Prepare the environment\n",
    "import os\n",
    "# +\n",
    "import os.path as path\n",
    "import sys"
   ]
  },
  {
   "cell_type": "code",
   "execution_count": null,
   "metadata": {},
   "outputs": [],
   "source": [
    "from scipy.io import loadmat"
   ]
  },
  {
   "cell_type": "code",
   "execution_count": null,
   "metadata": {},
   "outputs": [],
   "source": [
    "import statsmodels.sandbox.distributions.mv_normal as mvd"
   ]
  },
  {
   "cell_type": "code",
   "execution_count": null,
   "metadata": {},
   "outputs": [],
   "source": [
    "sys.path.append(path.abspath('../../functions-legacy'))"
   ]
  },
  {
   "cell_type": "code",
   "execution_count": null,
   "metadata": {},
   "outputs": [],
   "source": [
    "from numpy import arange, reshape, sign, where, diag, log, exp, sqrt, tile, diagflat, r_, zeros, newaxis, array\n",
    "from numpy import sum as npsum\n",
    "from numpy.linalg import eig\n",
    "from numpy.random import randn, np"
   ]
  },
  {
   "cell_type": "code",
   "execution_count": null,
   "metadata": {},
   "outputs": [],
   "source": [
    "import matplotlib.pyplot as plt"
   ]
  },
  {
   "cell_type": "code",
   "execution_count": null,
   "metadata": {},
   "outputs": [],
   "source": [
    "from ARPM_utils import multivariate_t_rvs as mvtrvs, multivariate_t_distribution as mvtpdf\n",
    "from numHess import numHess"
   ]
  },
  {
   "cell_type": "code",
   "execution_count": null,
   "metadata": {},
   "outputs": [],
   "source": [
    "plt.style.use('seaborn')"
   ]
  },
  {
   "cell_type": "code",
   "execution_count": null,
   "metadata": {},
   "outputs": [],
   "source": [
    "from MaxLikelihoodFPLocDispT import MaxLikelihoodFPLocDispT\n",
    "# -"
   ]
  },
  {
   "cell_type": "markdown",
   "metadata": {},
   "source": [
    "## Set the initial parameters and generate the dataset"
   ]
  },
  {
   "cell_type": "code",
   "execution_count": null,
   "metadata": {},
   "outputs": [],
   "source": [
    "nu = 10  # degrees of freedom\n",
    "t_ = 2000  # dataset's len\n",
    "i_ = 1  # dimension of the t-Student random variable\n",
    "mu = 2*randn(i_, 1)  # mean vector of dimension (i_ x 1)\n",
    "sigma_temp = 2*randn(i_, i_)\n",
    "sigma2 = sigma_temp.T@sigma_temp  # covariance matrix of dimension (i_ x i_)\n",
    "\n",
    "epsi_temp = mvtrvs(zeros(sigma2.shape[0]), sigma2, nu, t_).T\n",
    "\n",
    "epsi = diagflat(sqrt(diag(sigma2)))@epsi_temp + tile(mu, (1, t_))  # dataset of dimension (i_ x t_end) from a t() distribution"
   ]
  },
  {
   "cell_type": "markdown",
   "metadata": {},
   "source": [
    "## Set the Flexible Probability profile for MLFP estimation (exponential decay with half life 12 months)"
   ]
  },
  {
   "cell_type": "code",
   "execution_count": null,
   "metadata": {},
   "outputs": [],
   "source": [
    "lam = log(2) / 360\n",
    "p = exp(-lam*arange(t_, 1 + -1, -1)).reshape(1,-1)\n",
    "p = p /npsum(p)"
   ]
  },
  {
   "cell_type": "markdown",
   "metadata": {},
   "source": [
    "## Compute MLFP estimators of location and dispersion from the sample"
   ]
  },
  {
   "cell_type": "code",
   "execution_count": null,
   "metadata": {},
   "outputs": [],
   "source": [
    "mu_MLFP, sigma2_MLFP, err1 = MaxLikelihoodFPLocDispT(epsi, p, nu, 10**-15, 1)"
   ]
  },
  {
   "cell_type": "markdown",
   "metadata": {},
   "source": [
    "## Define the likelihood function"
   ]
  },
  {
   "cell_type": "code",
   "execution_count": null,
   "metadata": {},
   "outputs": [],
   "source": [
    "mvt = mvd.MVT(array([0]),array([[1]]),df=nu)\n",
    "mvtpdf = mvt.pdf\n",
    "\n",
    "likelihood = lambda theta: npsum(p * np.real(log((mvtpdf((epsi - tile(theta[:i_], (1, t_))).T@diagflat(\n",
    "    1 / sqrt(reshape(theta[i_:i_*(1 + i_)], (i_, -1),'F').astype(np.complex128))))).astype(np.complex128).T)))"
   ]
  },
  {
   "cell_type": "markdown",
   "metadata": {},
   "source": [
    "## Compute the Hessian matrix"
   ]
  },
  {
   "cell_type": "code",
   "execution_count": null,
   "metadata": {},
   "outputs": [],
   "source": [
    "hessian, err2 = numHess(likelihood, r_[mu_MLFP[...,newaxis],sigma2_MLFP])"
   ]
  },
  {
   "cell_type": "markdown",
   "metadata": {},
   "source": [
    "## Compute the eigenvalues of the Hessian matrix"
   ]
  },
  {
   "cell_type": "code",
   "execution_count": null,
   "metadata": {},
   "outputs": [],
   "source": [
    "Diag_lambda2, e = eig(hessian)\n",
    "lambda2 = Diag_lambda2\n",
    "\n",
    "answer = where(sign(lambda2) > -1)  # this array should be empty"
   ]
  }
 ],
 "metadata": {
  "jupytext": {
   "encoding": "# -*- coding: utf-8 -*-",
   "executable": "/usr/bin/env python3"
  },
  "kernelspec": {
   "display_name": "Python 3",
   "language": "python",
   "name": "python3"
  }
 },
 "nbformat": 4,
 "nbformat_minor": 4
}
