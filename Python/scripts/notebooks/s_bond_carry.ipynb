{
 "cells": [
  {
   "cell_type": "markdown",
   "metadata": {},
   "source": [
    "# s_bond_carry [<img src=\"https://www.arpm.co/lab/icons/icon_permalink.png\" width=30 height=30 style=\"display: inline;\">](https://www.arpm.co/lab/redirect.php?code=s_bond_carry&codeLang=Python)\n",
    "For details, see [here](https://www.arpm.co/lab/redirect.php?permalink=eb-4-carry-cb)."
   ]
  },
  {
   "cell_type": "code",
   "execution_count": null,
   "metadata": {},
   "outputs": [],
   "source": [
    "import numpy as np\n",
    "from scipy import interpolate\n",
    "import pandas as pd\n",
    "import matplotlib.pyplot as plt\n",
    "\n",
    "from arpym.pricing.bond_value import bond_value\n",
    "from arpym.pricing.cash_flow_reinv import cash_flow_reinv\n",
    "from arpym.tools.logo import add_logo"
   ]
  },
  {
   "cell_type": "markdown",
   "metadata": {},
   "source": [
    "## [Input parameters](https://www.arpm.co/lab/redirect.php?permalink=s_bond_carry-parameters)"
   ]
  },
  {
   "cell_type": "code",
   "execution_count": null,
   "metadata": {},
   "outputs": [],
   "source": [
    "t_now = np.datetime64('2011-06-27')  # current date\n",
    "tau_hor = 108  # time to horizon\n",
    "c = 0.04  # annualized coupons (percentage of the face value)\n",
    "freq_paym = 1  # coupon payment frequency (years)"
   ]
  },
  {
   "cell_type": "markdown",
   "metadata": {},
   "source": [
    "## [Step 0](https://www.arpm.co/lab/redirect.php?permalink=s_bond_carry-implementation-step00): Upload data"
   ]
  },
  {
   "cell_type": "code",
   "execution_count": null,
   "metadata": {},
   "outputs": [],
   "source": [
    "path = '~/databases/temporary-databases'\n",
    "tau = np.array([1, 2, 3, 5, 7, 10, 15, 30])  # times to maturity\n",
    "path = '~/databases/global-databases/fixed-income/db_yields'\n",
    "y = pd.read_csv(path + '/data.csv', header=0, index_col=0)\n",
    "# select the yields corresponding to current time\n",
    "y = y[tau.astype(float).astype(str)]\n",
    "y_carry = y.loc[y.index == pd.to_datetime(str(t_now)).strftime(\"%d-%b-%Y\")]"
   ]
  },
  {
   "cell_type": "markdown",
   "metadata": {},
   "source": [
    "## [Step 1](https://www.arpm.co/lab/redirect.php?permalink=s_bond_carry-implementation-step01): Monitoring dates, record dates and coupons of the bond"
   ]
  },
  {
   "cell_type": "code",
   "execution_count": null,
   "metadata": {},
   "outputs": [],
   "source": [
    "t_end = np.datetime64('2025-12-22')  # maturity date\n",
    "m_ = tau_hor\n",
    "\n",
    "# monitoring dates\n",
    "deltat_m = 21\n",
    "t_m = np.busday_offset(t_now, np.arange(m_+1)*deltat_m, roll='forward')\n",
    "\n",
    "# # number of coupons until bond maturity\n",
    "k_ = int(np.busday_count(t_m[0], t_end)/(freq_paym*252))\n",
    "\n",
    "# record dates\n",
    "r = np.busday_offset(t_now, np.arange(1, k_+1)*int(freq_paym*252))\n",
    "\n",
    "# coupons\n",
    "coupon = c * freq_paym * np.ones(len(r))"
   ]
  },
  {
   "cell_type": "markdown",
   "metadata": {},
   "source": [
    "## [Step 2](https://www.arpm.co/lab/redirect.php?permalink=s_bond_carry-implementation-step02): dirty price appreciation carry"
   ]
  },
  {
   "cell_type": "code",
   "execution_count": null,
   "metadata": {},
   "outputs": [],
   "source": [
    "v_t_hor = np.array([bond_value(eval_t, y_carry, tau, coupon, r, 'y')\n",
    "                   for eval_t in t_m]).T\n",
    "\n",
    "carry_dirty_price = (v_t_hor - v_t_hor.reshape(-1)[0]).reshape(-1)"
   ]
  },
  {
   "cell_type": "markdown",
   "metadata": {},
   "source": [
    "## [Step 3](https://www.arpm.co/lab/redirect.php?permalink=s_bond_carry-implementation-step03): Reinvested cash flows contribution component of carry"
   ]
  },
  {
   "cell_type": "code",
   "execution_count": null,
   "metadata": {},
   "outputs": [],
   "source": [
    "# reinvestment factor\n",
    "interp = interpolate.interp1d(tau.flatten(), y_carry,\n",
    "                                 axis=1, fill_value='extrapolate')\n",
    "y_0 = interp(0)\n",
    "\n",
    "inv_m = np.ones((1, m_)) * np.exp(deltat_m*y_0/252)\n",
    "\n",
    "# include notional with last coupon\n",
    "coupon[-1] = coupon[-1] + 1\n",
    "\n",
    "# cash flow stream\n",
    "\n",
    "cf_t_hor = cash_flow_reinv(coupon, r, t_m, inv_m)\n",
    "cf_t_hor = cf_t_hor.reshape(-1)"
   ]
  },
  {
   "cell_type": "markdown",
   "metadata": {},
   "source": [
    "## [Step 4](https://www.arpm.co/lab/redirect.php?permalink=s_bond_carry-implementation-step04): Bond carry from current time to horizon"
   ]
  },
  {
   "cell_type": "code",
   "execution_count": null,
   "metadata": {},
   "outputs": [],
   "source": [
    "carry_t_now_t_hor = carry_dirty_price + np.r_[0.0, cf_t_hor]"
   ]
  },
  {
   "cell_type": "markdown",
   "metadata": {},
   "source": [
    "## Plots"
   ]
  },
  {
   "cell_type": "code",
   "execution_count": null,
   "metadata": {},
   "outputs": [],
   "source": [
    "plt.style.use('arpm')\n",
    "fig, ax = plt.subplots(2, 1)\n",
    "\n",
    "\n",
    "dgrey = [0.2, 0.2, 0.2]  # dark grey\n",
    "lgrey = [0.6, 0.6, 0.6]  # light grey\n",
    "blue = [0, 0, 0.4]  # dark blue\n",
    "\n",
    "plt.sca(ax[0])\n",
    "plt.grid(True)\n",
    "\n",
    "time = [np.busday_count(t_now, t_m[i])/252 for i in range(m_+1)]\n",
    "plt.plot([0, 0], [min(carry_t_now_t_hor), 0.6], color='k')\n",
    "l1 = plt.plot([time, time], [carry_t_now_t_hor, np.zeros(m_+1)], color=dgrey,\n",
    "              lw=2)\n",
    "l2 = plt.plot([time[1:], time[1:]], [cf_t_hor, np.zeros(m_)], color=lgrey, lw=2)\n",
    "plt.axis([-np.busday_count(t_now, t_end)/252+tau_hor/12 - 0.1,\n",
    "          tau_hor/12 + 0.1, 0, 0.6])\n",
    "plt.xticks(np.arange(0, tau_hor/12 + 1, 1))\n",
    "plt.legend(handles=[l1[0], l2[0]], labels=['price', 'coupon'])\n",
    "plt.xlabel('Time (years)')\n",
    "plt.ylabel('Carry')\n",
    "plt.title('Coupon bond carry')\n",
    "\n",
    "# bottom plot\n",
    "plt.sca(ax[1])\n",
    "time1 = np.arange(0, np.busday_count(t_now, t_end)/252+0.1, 0.1)\n",
    "yield_curve = interp(time1)\n",
    "\n",
    "plt.plot(time1, yield_curve.reshape(-1), color=blue)  # yield curve\n",
    "yield_t_hor = interp((np.busday_count(t_now, t_end)/21-tau_hor)/12)\n",
    "plt.plot((np.busday_count(t_now, t_end)/21-tau_hor)/12, yield_t_hor, color='r',\n",
    "         marker='.', markersize=15)\n",
    "plt.xlim(-0.1, np.busday_count(t_now, t_end)/252 + 0.1)\n",
    "plt.xticks(np.arange(0, np.busday_count(t_now, t_end)/252 + 1, 1))\n",
    "\n",
    "plt.xlabel('Time to Maturity (years)')\n",
    "plt.ylabel('Yield')\n",
    "plt.title('Yield to maturity curve')\n",
    "\n",
    "add_logo(fig)\n",
    "plt.tight_layout()"
   ]
  }
 ],
 "metadata": {
  "jupytext": {
   "encoding": "# -*- coding: utf-8 -*-",
   "executable": "/usr/bin/env python3"
  },
  "kernelspec": {
   "display_name": "Python 3",
   "language": "python",
   "name": "python3"
  }
 },
 "nbformat": 4,
 "nbformat_minor": 4
}
