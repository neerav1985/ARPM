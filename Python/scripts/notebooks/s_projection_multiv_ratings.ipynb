{
 "cells": [
  {
   "cell_type": "markdown",
   "metadata": {},
   "source": [
    "# s_projection_multiv_ratings [<img src=\"https://www.arpm.co/lab/icons/icon_permalink.png\" width=30 height=30 style=\"display: inline;\">](https://www.arpm.co/lab/redirect.php?code=s_projection_multiv_ratings&codeLang=Python)\n",
    "For details, see [here](https://www.arpm.co/lab/redirect.php?permalink=eb-proj-multi-rating-migrations)."
   ]
  },
  {
   "cell_type": "code",
   "execution_count": null,
   "metadata": {},
   "outputs": [],
   "source": [
    "import numpy as np\n",
    "import pandas as pd\n",
    "import matplotlib.pyplot as plt\n",
    "from mpl_toolkits.mplot3d import Axes3D\n",
    "\n",
    "from arpym.statistics.simulate_markov_chain_multiv import simulate_markov_chain_multiv\n",
    "from arpym.statistics.project_trans_matrix import project_trans_matrix\n",
    "from arpym.tools.histogram2d_sp import histogram2d_sp\n",
    "from arpym.tools.logo import add_logo"
   ]
  },
  {
   "cell_type": "markdown",
   "metadata": {},
   "source": [
    "## [Input parameters](https://www.arpm.co/lab/redirect.php?permalink=s_projection_multiv_ratings-parameters)"
   ]
  },
  {
   "cell_type": "code",
   "execution_count": null,
   "metadata": {},
   "outputs": [],
   "source": [
    "x_tnow = np.array([3, 5])  # initial ratings\n",
    "m_ = 120  # time to horizon (months)\n",
    "j_ = 1000  # number of scenarios"
   ]
  },
  {
   "cell_type": "markdown",
   "metadata": {},
   "source": [
    "## [Step 0](https://www.arpm.co/lab/redirect.php?permalink=s_projection_multiv_ratings-implementation-step00): Upload data"
   ]
  },
  {
   "cell_type": "code",
   "execution_count": null,
   "metadata": {},
   "outputs": [],
   "source": [
    "# upload database generated from s_fit_discrete_markov_chain\n",
    "path = '~/databases/temporary-databases/'\n",
    "df_p = pd.read_csv(path + 'db_trans_matrix.csv', index_col=0)\n",
    "p = np.array(df_p).reshape(8, 8)\n",
    "df_cop = pd.read_csv(path+'db_copula_ratings.csv', index_col=0)\n",
    "nu = df_cop.nu.values[0]\n",
    "rho2 = df_cop.rho2.values[0]\n",
    "rho2 = np.array([[1, rho2], [rho2, 1]])"
   ]
  },
  {
   "cell_type": "markdown",
   "metadata": {},
   "source": [
    "## [Step 1](https://www.arpm.co/lab/redirect.php?permalink=s_projection_multiv_ratings-implementation-step01): Compute monthly transition matrix"
   ]
  },
  {
   "cell_type": "code",
   "execution_count": null,
   "metadata": {},
   "outputs": [],
   "source": [
    "p = project_trans_matrix(p, 1/12, credit=True)"
   ]
  },
  {
   "cell_type": "markdown",
   "metadata": {},
   "source": [
    "## [Step 2](https://www.arpm.co/lab/redirect.php?permalink=s_projection_multiv_ratings-implementation-step02): Compute Monte Carlo scenarios"
   ]
  },
  {
   "cell_type": "code",
   "execution_count": null,
   "metadata": {},
   "outputs": [],
   "source": [
    "x_tnow_thor = simulate_markov_chain_multiv(x_tnow, p, m_, rho2=rho2, nu=nu, j_=j_)"
   ]
  },
  {
   "cell_type": "markdown",
   "metadata": {},
   "source": [
    "## [Step 3](https://www.arpm.co/lab/redirect.php?permalink=s_projection_multiv_ratings-implementation-step03): Compute scenario-probability distribution at the horizon"
   ]
  },
  {
   "cell_type": "code",
   "execution_count": null,
   "metadata": {},
   "outputs": [],
   "source": [
    "bins = np.tile(np.arange(0, 8), (2, 1)).T\n",
    "f, x1, x2 = histogram2d_sp(x_tnow_thor[:, -1, :].squeeze(), xi=bins)"
   ]
  },
  {
   "cell_type": "markdown",
   "metadata": {},
   "source": [
    "## Plots"
   ]
  },
  {
   "cell_type": "code",
   "execution_count": null,
   "metadata": {},
   "outputs": [],
   "source": [
    "plt.style.use('arpm')\n",
    "\n",
    "c1 = [0.8, 0.8, 0.8]  # light grey\n",
    "fig = plt.figure()\n",
    "ax = fig.add_subplot(111, projection='3d')\n",
    "\n",
    "colors = [c1] * 64\n",
    "colors[x_tnow[1] * 8 + x_tnow[0]] = 'red'\n",
    "xpos, ypos = np.meshgrid(x1, x2)\n",
    "xpos = xpos.flatten('F')\n",
    "ypos = ypos.flatten('F')\n",
    "zpos = np.zeros_like(xpos)\n",
    "dx = 0.5 * np.ones_like(zpos)\n",
    "dy = dx.copy()\n",
    "dz = f.flatten('F')\n",
    "ax.bar3d(xpos-0.35, ypos-0.23, zpos, 0.6, 0.6, dz, color=colors)\n",
    "plt.yticks(np.arange(0, 8), ['AAA', 'AA', 'A', 'BBB', 'BB',\n",
    "                             'B', 'CCC', 'D'], fontsize=17)\n",
    "plt.xticks(np.arange(0, 8)[::-1], ['D', 'CCC', 'B', 'BB', 'BBB',\n",
    "                                   'A', 'AA', 'AAA'], fontsize=17)\n",
    "ax.set_zlim(0, 0.2)\n",
    "ax.invert_yaxis()\n",
    "ax.view_init(38, -129)\n",
    "\n",
    "add_logo(fig)"
   ]
  }
 ],
 "metadata": {
  "jupytext": {
   "encoding": "# -*- coding: utf-8 -*-",
   "executable": "/usr/bin/env python3"
  },
  "kernelspec": {
   "display_name": "Python 3",
   "language": "python",
   "name": "python3"
  }
 },
 "nbformat": 4,
 "nbformat_minor": 4
}
