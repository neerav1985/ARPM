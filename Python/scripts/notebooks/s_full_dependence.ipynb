{
 "cells": [
  {
   "cell_type": "markdown",
   "metadata": {},
   "source": [
    "# s_full_dependence [<img src=\"https://www.arpm.co/lab/icons/icon_permalink.png\" width=30 height=30 style=\"display: inline;\">](https://www.arpm.co/lab/redirect.php?code=s_full_dependence&codeLang=Python)\n",
    "For details, see [here](https://www.arpm.co/lab/redirect.php?permalink=eb-2-full-co-dep)."
   ]
  },
  {
   "cell_type": "code",
   "execution_count": null,
   "metadata": {},
   "outputs": [],
   "source": [
    "import matplotlib.pyplot as plt\n",
    "import numpy as np\n",
    "from scipy.stats import gamma\n",
    "\n",
    "from arpym.tools.histogram_sp import histogram_sp\n",
    "from arpym.tools.logo import add_logo"
   ]
  },
  {
   "cell_type": "markdown",
   "metadata": {},
   "source": [
    "## [Input parameters](https://www.arpm.co/lab/redirect.php?permalink=s_full_dependence-parameters)"
   ]
  },
  {
   "cell_type": "code",
   "execution_count": null,
   "metadata": {},
   "outputs": [],
   "source": [
    "j_ = 10 ** 4  # number of simulations\n",
    "k1 = 1  # shape parameter of gamma distrubution \n",
    "k2 = 5  # shape parameter of gamma distrubution\n",
    "theta1 = 0.8  # scale parameter of gamma distribution\n",
    "theta2 = 1.3  # scale parameter of gamma distribution"
   ]
  },
  {
   "cell_type": "markdown",
   "metadata": {},
   "source": [
    "## Step1: Generate a uniform sample"
   ]
  },
  {
   "cell_type": "code",
   "execution_count": null,
   "metadata": {},
   "outputs": [],
   "source": [
    "u = np.random.random(j_)"
   ]
  },
  {
   "cell_type": "markdown",
   "metadata": {},
   "source": [
    "## Step2: Compute the marginal (Gamma) simulations"
   ]
  },
  {
   "cell_type": "code",
   "execution_count": null,
   "metadata": {},
   "outputs": [],
   "source": [
    "gamma1 = gamma(k1, scale=theta1)\n",
    "gamma2 = gamma(k2, scale=theta2)\n",
    "x1 = gamma1.ppf(u)\n",
    "x2 = gamma2.ppf(u)"
   ]
  },
  {
   "cell_type": "markdown",
   "metadata": {},
   "source": [
    "## Step3: Compute the normalized histograms of marginal simulations"
   ]
  },
  {
   "cell_type": "code",
   "execution_count": null,
   "metadata": {},
   "outputs": [],
   "source": [
    "f_x1, ksi_x1 = histogram_sp(x1)\n",
    "f_x2, ksi_x2 = histogram_sp(x2)"
   ]
  },
  {
   "cell_type": "markdown",
   "metadata": {},
   "source": [
    "## Plots"
   ]
  },
  {
   "cell_type": "code",
   "execution_count": null,
   "metadata": {},
   "outputs": [],
   "source": [
    "plt.style.use('arpm')\n",
    "fig = plt.figure()\n",
    "# colors\n",
    "teal = [0.2344, 0.582, 0.5664]\n",
    "light_grey = [0.6, 0.6, 0.6]\n",
    "#\n",
    "x1_min = min(x1)\n",
    "x1_max = max(x1)\n",
    "x2_min = min(x2)\n",
    "x2_max = max(x2)\n",
    "x1_grid = np.arange(x1_min, x1_max + 0.01, 0.01)\n",
    "x2_grid = np.arange(x2_min, x2_max + 0.01, 0.01)\n",
    "#\n",
    "ax1 = plt.subplot2grid((64, 80), (0, 17), colspan=47, rowspan=47)\n",
    "ax1.scatter(x1, x2, marker='o', label='scatter plot of $(X_1, X_2)^{\\prime}$', color=light_grey)\n",
    "ax1.tick_params(axis='x', bottom=True, top=False, labelcolor='none')\n",
    "ax1.tick_params(axis='y', which='major', pad=-20, left=True, right=False, labelcolor='none')\n",
    "ax1.set_xlabel(r'$X_1$', fontdict={'size': 16}, labelpad=-40)\n",
    "ax1.set_ylabel(r'$X_2$', fontdict={'size': 16}, labelpad=-30)\n",
    "#\n",
    "ax2 = plt.subplot2grid((64, 80), (50, 17), colspan=47, rowspan=14, sharex=ax1)\n",
    "ax2.tick_params(axis='x', top=True, labeltop=True, bottom=False, labelbottom=False, pad=0)\n",
    "ax2.tick_params(axis='y', which='major', direction='out', pad=0)\n",
    "ax2.invert_yaxis()\n",
    "ax2.bar(ksi_x1, f_x1, ksi_x1[1]-ksi_x1[0], facecolor=teal, label='marginal histogram')\n",
    "ax2.plot(x1_grid, gamma1.pdf(x1_grid), color='k')\n",
    "#\n",
    "ax3 = plt.subplot2grid((64, 80), (0, 0), colspan=14, rowspan=47, sharey=ax1)\n",
    "ax3.tick_params(axis='y', left=False, right=True, labelleft=False, labelright=True, rotation=90, pad=5)\n",
    "ax3.tick_params(axis='x', which='major')\n",
    "ax3.invert_xaxis()\n",
    "ax3.plot(gamma2.pdf(x2_grid), x2_grid, color='k', label=' marginal pdf')\n",
    "ax3.barh(ksi_x2, f_x2, ksi_x2[1]-ksi_x2[0], facecolor=teal)\n",
    "#\n",
    "fig.legend(loc=[0.75, 0.5], edgecolor='white', labelspacing=1)\n",
    "add_logo(fig, axis=ax1, set_fig_size=True, location=4)"
   ]
  }
 ],
 "metadata": {
  "jupytext": {
   "encoding": "# -*- coding: utf-8 -*-",
   "executable": "/usr/bin/env python3"
  },
  "kernelspec": {
   "display_name": "Python 3",
   "language": "python",
   "name": "python3"
  }
 },
 "nbformat": 4,
 "nbformat_minor": 4
}
