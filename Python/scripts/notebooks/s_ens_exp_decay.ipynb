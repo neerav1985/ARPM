{
 "cells": [
  {
   "cell_type": "markdown",
   "metadata": {},
   "source": [
    "# s_ens_exp_decay [<img src=\"https://www.arpm.co/lab/icons/icon_permalink.png\" width=30 height=30 style=\"display: inline;\">](https://www.arpm.co/lab/redirect.php?code=s_ens_exp_decay&codeLang=Python)\n",
    "For details, see [here](https://www.arpm.co/lab/redirect.php?permalink=EBExpEntrProp2)."
   ]
  },
  {
   "cell_type": "code",
   "execution_count": null,
   "metadata": {},
   "outputs": [],
   "source": [
    "import numpy as np\n",
    "import matplotlib.pyplot as plt\n",
    "\n",
    "from arpym.estimation.effective_num_scenarios import effective_num_scenarios\n",
    "from arpym.estimation.exp_decay_fp import exp_decay_fp\n",
    "from arpym.tools.logo import add_logo"
   ]
  },
  {
   "cell_type": "markdown",
   "metadata": {},
   "source": [
    "## [Input parameters](https://www.arpm.co/lab/redirect.php?permalink=s_ens_exp_decay-parameters)"
   ]
  },
  {
   "cell_type": "code",
   "execution_count": null,
   "metadata": {},
   "outputs": [],
   "source": [
    "gamma = 10  # parameter for the generalized exponential of entropy\n",
    "t_ = 500  # number of scenarios\n",
    "tau_hl_max = np.floor(1.2*t_)  # maximum half-life parameter\n",
    "k_ = 50  # number of half-life parameters considered"
   ]
  },
  {
   "cell_type": "markdown",
   "metadata": {},
   "source": [
    "## [Step 1](https://www.arpm.co/lab/redirect.php?permalink=s_ens_exp_decay-implementation-step01): Create a grid of half-life values for plotting"
   ]
  },
  {
   "cell_type": "code",
   "execution_count": null,
   "metadata": {},
   "outputs": [],
   "source": [
    "tau_hl_grid = np.linspace(1, tau_hl_max, num=k_)"
   ]
  },
  {
   "cell_type": "markdown",
   "metadata": {},
   "source": [
    "## [Step 2](https://www.arpm.co/lab/redirect.php?permalink=s_ens_exp_decay-implementation-step02): Compute exponential decay probabilities"
   ]
  },
  {
   "cell_type": "code",
   "execution_count": null,
   "metadata": {},
   "outputs": [],
   "source": [
    "p = np.zeros((k_, t_))\n",
    "for k in range(k_):\n",
    "    p[k] = exp_decay_fp(t_, tau_hl_grid[k])"
   ]
  },
  {
   "cell_type": "markdown",
   "metadata": {},
   "source": [
    "## [Step 3](https://www.arpm.co/lab/redirect.php?permalink=s_ens_exp_decay-implementation-step03): Compute effective number of scenarios"
   ]
  },
  {
   "cell_type": "code",
   "execution_count": null,
   "metadata": {},
   "outputs": [],
   "source": [
    "ens = np.zeros(len(tau_hl_grid))\n",
    "ens_gamma = np.zeros(k_)\n",
    "for k in range(k_):\n",
    "    ens[k] = effective_num_scenarios(p[k])\n",
    "    ens_gamma[k] = effective_num_scenarios(p[k], type_ent='gen_exp',\n",
    "                                           gamma=gamma)"
   ]
  },
  {
   "cell_type": "markdown",
   "metadata": {},
   "source": [
    "## Plots"
   ]
  },
  {
   "cell_type": "code",
   "execution_count": null,
   "metadata": {},
   "outputs": [],
   "source": [
    "plt.style.use('arpm')\n",
    "\n",
    "f = plt.figure(figsize=(1280.0/72.0, 720.0/72.0), dpi=72.0)\n",
    "plt.xlim(0, np.ceil(tau_hl_max*10/t_)/10)\n",
    "plt.ylim(0, 1)\n",
    "plt.plot(tau_hl_grid/t_, ens/t_,\n",
    "         label=r'$ens(\\mathbf{p})\\backslash \\bar{t}$', linewidth=1.5)\n",
    "plt.plot(tau_hl_grid/t_, ens_gamma/t_,\n",
    "         label=r'$ens_{\\gamma}(\\mathbf{p})\\backslash \\bar{t}$', color='C3',\n",
    "         linewidth=1.5)\n",
    "plt.xticks(fontsize=14)\n",
    "plt.yticks(fontsize=14)\n",
    "plt.xlabel(r'$\\tau_{HL}\\backslash \\bar{t}$', fontsize=17)\n",
    "plt.title('Effective number of scenarios for exponential decay probabilities',\n",
    "          fontsize=20, fontweight='bold')\n",
    "plt.legend(fontsize=17)\n",
    "add_logo(f, location=4, set_fig_size=False)\n",
    "plt.tight_layout()"
   ]
  }
 ],
 "metadata": {
  "jupytext": {
   "encoding": "# -*- coding: utf-8 -*-",
   "executable": "/usr/bin/env python3"
  },
  "kernelspec": {
   "display_name": "Python 3",
   "language": "python",
   "name": "python3"
  }
 },
 "nbformat": 4,
 "nbformat_minor": 4
}
