{
 "cells": [
  {
   "cell_type": "markdown",
   "metadata": {},
   "source": [
    "# s_copula_returns [<img src=\"https://www.arpm.co/lab/icons/icon_permalink.png\" width=30 height=30 style=\"display: inline;\">](https://www.arpm.co/lab/redirect.php?code=s_copula_returns&codeLang=Python)\n",
    "For details, see [here](https://www.arpm.co/lab/redirect.php?permalink=eb-2-copula-comp-lin-ret)."
   ]
  },
  {
   "cell_type": "code",
   "execution_count": null,
   "metadata": {},
   "outputs": [],
   "source": [
    "import numpy as np\n",
    "from scipy import stats\n",
    "import matplotlib.pyplot as plt\n",
    "import matplotlib.gridspec as gridspec\n",
    "\n",
    "from arpym.statistics.simulate_normal import simulate_normal\n",
    "from arpym.tools.logo import add_logo"
   ]
  },
  {
   "cell_type": "markdown",
   "metadata": {},
   "source": [
    "## [Input parameters](https://www.arpm.co/lab/redirect.php?permalink=s_copula_returns-parameters)"
   ]
  },
  {
   "cell_type": "code",
   "execution_count": null,
   "metadata": {},
   "outputs": [],
   "source": [
    "mu = np.array([-3.2, 1.7])  # expectations\n",
    "svec = np.array([0.003, 0.195])  # standard deviations\n",
    "rho = 0.25  # correlation\n",
    "sigma2 = np.diag(svec) @ np.array([[1, rho], [rho, 1]]) @ np.diag(svec)\n",
    "j_ = 20000  # number of scenarios"
   ]
  },
  {
   "cell_type": "markdown",
   "metadata": {},
   "source": [
    "## [Step 1](https://www.arpm.co/lab/redirect.php?permalink=s_copula_returns-implementation-step01): Generate scenarios for the bivariate normal compounded returns"
   ]
  },
  {
   "cell_type": "code",
   "execution_count": null,
   "metadata": {},
   "outputs": [],
   "source": [
    "c = simulate_normal(mu, sigma2, j_)"
   ]
  },
  {
   "cell_type": "markdown",
   "metadata": {},
   "source": [
    "## [Step 2](https://www.arpm.co/lab/redirect.php?permalink=s_copula_returns-implementation-step02): Compute copula of the compounded returns"
   ]
  },
  {
   "cell_type": "code",
   "execution_count": null,
   "metadata": {},
   "outputs": [],
   "source": [
    "u1 = stats.norm.cdf(c[:, 0], mu[0], np.sqrt(sigma2[0, 0]))\n",
    "u2 = stats.norm.cdf(c[:, 1], mu[1], np.sqrt(sigma2[1, 1]))\n",
    "u_c = np.array([u1, u2]).T"
   ]
  },
  {
   "cell_type": "markdown",
   "metadata": {},
   "source": [
    "## [Step 3](https://www.arpm.co/lab/redirect.php?permalink=s_copula_returns-implementation-step03): Map compounded returns into linear returns"
   ]
  },
  {
   "cell_type": "code",
   "execution_count": null,
   "metadata": {},
   "outputs": [],
   "source": [
    "r = np.exp(c) - 1"
   ]
  },
  {
   "cell_type": "markdown",
   "metadata": {},
   "source": [
    "## [Step 4](https://www.arpm.co/lab/redirect.php?permalink=s_copula_returns-implementation-step04): Compute copula of the linear returns"
   ]
  },
  {
   "cell_type": "code",
   "execution_count": null,
   "metadata": {},
   "outputs": [],
   "source": [
    "u1 = stats.norm.cdf(np.log(r[:, 0]+1), mu[0], np.sqrt(sigma2[0, 0]))\n",
    "u2 = stats.norm.cdf(np.log(r[:, 1]+1), mu[1], np.sqrt(sigma2[1, 1]))\n",
    "u_r = np.array([u1, u2]).T"
   ]
  },
  {
   "cell_type": "markdown",
   "metadata": {},
   "source": [
    "## Plots"
   ]
  },
  {
   "cell_type": "code",
   "execution_count": null,
   "metadata": {},
   "outputs": [],
   "source": [
    "plt.style.use('arpm')\n",
    "\n",
    "y_color = [153/255, 205/255, 129/255]\n",
    "u_color = [60/255, 149/255, 145/255]\n",
    "\n",
    "r1lim = [np.percentile(r[:, 0], 0.5), np.percentile(r[:, 0], 99.5)]\n",
    "r2lim = [np.percentile(r[:, 1], 0.5), np.percentile(r[:, 1], 99.5)]\n",
    "\n",
    "plt.figure()\n",
    "mydpi = 72.0\n",
    "f = plt.figure(figsize=(1280.0/mydpi, 720.0/mydpi), dpi=mydpi)\n",
    "gs0 = gridspec.GridSpec(2, 2)\n",
    "gs00 = gridspec.GridSpecFromSubplotSpec(46, 18, subplot_spec=gs0[0],\n",
    "                                        wspace=0, hspace=0.6)\n",
    "ax1 = plt.Subplot(f, gs00[:-10, 5:-5])\n",
    "f.add_subplot(ax1)\n",
    "plt.scatter(c[:, 0], c[:, 1], s=5, color=y_color)\n",
    "ax1.tick_params(axis='x', colors='None')\n",
    "ax1.tick_params(axis='y', colors='None')\n",
    "plt.title('Compounded returns', fontsize=20, fontweight='bold')\n",
    "\n",
    "ax11 = plt.Subplot(f, gs00[:-10, 2:4])\n",
    "f.add_subplot(ax11)\n",
    "plt.hist(np.sort(c[:, 1]), bins=int(30*np.log(j_)),\n",
    "         orientation='horizontal', color=y_color, bottom=0)\n",
    "ax11.tick_params(axis='x', colors='None')\n",
    "plt.gca().invert_xaxis()\n",
    "\n",
    "ax12 = plt.Subplot(f, gs00[40:46, 5:-5], sharex=ax1)\n",
    "f.add_subplot(ax12)\n",
    "plt.hist(np.sort(c[:, 0]), bins=int(120*np.log(j_)),\n",
    "         color=y_color, bottom=0)\n",
    "plt.gca().invert_yaxis()\n",
    "ax12.tick_params(axis='y', colors='None')\n",
    "\n",
    "gs01 = gridspec.GridSpecFromSubplotSpec(46, 18, subplot_spec=gs0[1],\n",
    "                                        wspace=0, hspace=0.6)\n",
    "ax2 = plt.Subplot(f, gs01[:-10, 5:-5], xlim=r1lim)\n",
    "f.add_subplot(ax2)\n",
    "plt.scatter(r[:, 0], r[:, 1], s=5, color=y_color)\n",
    "ax2.tick_params(axis='x', colors='None')\n",
    "ax2.tick_params(axis='y', colors='None')\n",
    "plt.title('Linear returns', fontsize=20, fontweight='bold')\n",
    "\n",
    "ax21 = plt.Subplot(f, gs01[:-10, 2:4])\n",
    "f.add_subplot(ax21)\n",
    "plt.hist(np.sort(r[:, 1]), bins=int(30*np.log(j_)),\n",
    "         orientation='horizontal', color=y_color, bottom=0)\n",
    "plt.gca().invert_xaxis()\n",
    "ax21.tick_params(axis='x', colors='None')\n",
    "\n",
    "ax22 = plt.Subplot(f, gs01[40:46, 5:-5], sharex=ax2)\n",
    "f.add_subplot(ax22)\n",
    "plt.hist(np.sort(r[:, 0]), bins=int(30*np.log(j_)),\n",
    "         color=y_color, bottom=0)\n",
    "plt.gca().invert_yaxis()\n",
    "ax22.tick_params(axis='y', colors='None')\n",
    "\n",
    "gs02 = gridspec.GridSpecFromSubplotSpec(46*2, 18*2,\n",
    "            subplot_spec=gs0[1, :], wspace=0.6, hspace=1)\n",
    "ax3 = plt.Subplot(f, gs02[:-10*2, 13:-14])\n",
    "f.add_subplot(ax3)\n",
    "plt.scatter(u_r[:, 0], u_r[:, 1], s=5, color=u_color)\n",
    "plt.title('Copula', fontsize=20, fontweight='bold')\n",
    "ax3.tick_params(axis='x', colors='None')\n",
    "ax3.tick_params(axis='y', colors='None')\n",
    "\n",
    "ax31 = plt.Subplot(f, gs02[:-10*2, 10:12])\n",
    "f.add_subplot(ax31)\n",
    "plt.hist(np.sort(u_r[:, 1]), bins=int(30*np.log(j_)),\n",
    "         orientation='horizontal', color=u_color, bottom=0)\n",
    "plt.gca().invert_xaxis()\n",
    "ax31.tick_params(axis='x', colors='None')\n",
    "\n",
    "ax32 = plt.Subplot(f, gs02[40*2:46*2, 13:-14])\n",
    "f.add_subplot(ax32)\n",
    "plt.hist(np.sort(u_r[:, 0]), bins=int(120*np.log(j_)),\n",
    "         color=u_color, bottom=0)\n",
    "plt.gca().invert_yaxis()\n",
    "ax32.tick_params(axis='y', colors='None')\n",
    "\n",
    "add_logo(f, location=4, set_fig_size=False)\n",
    "plt.tight_layout()"
   ]
  }
 ],
 "metadata": {
  "kernelspec": {
   "display_name": "Python 3",
   "language": "python",
   "name": "python3"
  }
 },
 "nbformat": 4,
 "nbformat_minor": 4
}
