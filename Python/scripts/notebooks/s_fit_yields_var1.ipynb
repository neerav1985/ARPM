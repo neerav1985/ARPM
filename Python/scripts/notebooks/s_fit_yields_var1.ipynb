{
 "cells": [
  {
   "cell_type": "markdown",
   "metadata": {
    "jupyter": {
     "source_hidden": true
    }
   },
   "source": [
    "# s_fit_yields_var1 [<img src=\"https://www.arpm.co/lab/icons/icon_permalink.png\" width=30 height=30 style=\"display: inline;\">](https://www.arpm.co/lab/redirect.php?code=s_fit_yields_var1&codeLang=Python)\n",
    "For details, see [here](https://www.arpm.co/lab/redirect.php?permalink=s_fit_yields_var1)."
   ]
  },
  {
   "cell_type": "code",
   "execution_count": null,
   "metadata": {},
   "outputs": [],
   "source": [
    "import numpy as np\n",
    "import pandas as pd\n",
    "import matplotlib.pyplot as plt\n",
    "from matplotlib.ticker import FuncFormatter\n",
    "\n",
    "from arpym.tools.plot_ellipse import plot_ellipse\n",
    "from arpym.tools.logo import add_logo\n",
    "from arpym.estimation.fit_var1 import fit_var1\n",
    "from arpym.pricing.ytm_shadowrates import ytm_shadowrates\n",
    "from arpym.estimation.exp_decay_fp import exp_decay_fp"
   ]
  },
  {
   "cell_type": "markdown",
   "metadata": {},
   "source": [
    "## [Input parameters](https://www.arpm.co/lab/redirect.php?permalink=s_fit_yields_var1-parameters)"
   ]
  },
  {
   "cell_type": "code",
   "execution_count": null,
   "metadata": {},
   "outputs": [],
   "source": [
    "tau_select = np.array([2, 5])  # selected times to maturity (years)\n",
    "yields = True  # true if using yields or false if using shadow rates\n",
    "tau_hl = 180  # half-life parameter (days)\n",
    "nu = 4  # degrees of freedom used in VAR(1) fit\n",
    "t_start = '01-Jul-2002'  # starting date\n",
    "t_end = '02-Jan-2008'  # ending date"
   ]
  },
  {
   "cell_type": "markdown",
   "metadata": {},
   "source": [
    "## [Step 0](https://www.arpm.co/lab/redirect.php?permalink=s_fit_yields_var1-implementation-step00): Load data"
   ]
  },
  {
   "cell_type": "code",
   "execution_count": null,
   "metadata": {},
   "outputs": [],
   "source": [
    "tau = np.array([1, 2, 3, 5, 7, 10, 15, 30])  # times to maturity\n",
    "path = '~/databases/global-databases/fixed-income/db_yields'\n",
    "y_db = pd.read_csv(path + '/data.csv', header=0, index_col=0)\n",
    "y = y_db[tau.astype(float).astype(str)][t_start:t_end].values\n",
    "t_ = y.shape[0]  # length of the time series of rolling values"
   ]
  },
  {
   "cell_type": "markdown",
   "metadata": {},
   "source": [
    "## [Step 1](https://www.arpm.co/lab/redirect.php?permalink=s_fit_yields_var1-implementation-step01): Realized risk drivers (yield or shadow rates)"
   ]
  },
  {
   "cell_type": "code",
   "execution_count": null,
   "metadata": {},
   "outputs": [],
   "source": [
    "if yields:\n",
    "    x = y[:]\n",
    "else:\n",
    "    x = ytm_shadowrates(y, eta=0.013)"
   ]
  },
  {
   "cell_type": "markdown",
   "metadata": {},
   "source": [
    "## [Step 2](https://www.arpm.co/lab/redirect.php?permalink=s_fit_yields_var1-implementation-step02): Flexible probabilities"
   ]
  },
  {
   "cell_type": "code",
   "execution_count": null,
   "metadata": {},
   "outputs": [],
   "source": [
    "p = exp_decay_fp(t_, tau_hl)  # exponential decay"
   ]
  },
  {
   "cell_type": "markdown",
   "metadata": {},
   "source": [
    "## [Step 3](https://www.arpm.co/lab/redirect.php?permalink=s_fit_yields_var1-implementation-step03): Perform VAR(1) fit"
   ]
  },
  {
   "cell_type": "code",
   "execution_count": null,
   "metadata": {},
   "outputs": [],
   "source": [
    "b_hat, mu_epsi_hat, sig2_epsi_hat = fit_var1(x, p, nu=nu)"
   ]
  },
  {
   "cell_type": "markdown",
   "metadata": {},
   "source": [
    "## [Step 4](https://www.arpm.co/lab/redirect.php?permalink=s_fit_yields_var1-implementation-step04): Recovered values of the risk drivers from the fit"
   ]
  },
  {
   "cell_type": "code",
   "execution_count": null,
   "metadata": {},
   "outputs": [],
   "source": [
    "x_fit = x[-1, :] @ b_hat.T + mu_epsi_hat.reshape((1, -1))"
   ]
  },
  {
   "cell_type": "markdown",
   "metadata": {},
   "source": [
    "## [Step 5](https://www.arpm.co/lab/redirect.php?permalink=s_fit_yields_var1-implementation-step05): Expectation and covariance of the conditional next step prediction"
   ]
  },
  {
   "cell_type": "code",
   "execution_count": null,
   "metadata": {},
   "outputs": [],
   "source": [
    "ind = (np.array([np.where(tau == tau_select[i])[0]\n",
    "                 for i, item in enumerate(tau_select)]).reshape((-1)))\n",
    "# next-step expectation for all times to maturity\n",
    "mu_ns = x[-1, :] @ b_hat.T + mu_epsi_hat\n",
    "# next-step expectation for selected times to maturity\n",
    "mu_select_ns = mu_ns[ind]\n",
    "# next-step covariance for all times to maturity\n",
    "sig2_ns = sig2_epsi_hat\n",
    "# next-step covariance for selected times to maturity\n",
    "sig2_select_ns = sig2_ns[np.ix_(ind, ind)]"
   ]
  },
  {
   "cell_type": "markdown",
   "metadata": {},
   "source": [
    "## [Step 6](https://www.arpm.co/lab/redirect.php?permalink=s_fit_yields_var1-implementation-step06): Save databases"
   ]
  },
  {
   "cell_type": "code",
   "execution_count": null,
   "metadata": {},
   "outputs": [],
   "source": [
    "out = pd.DataFrame({tau[i]: x[:, i] for i in range(len(tau))})\n",
    "out['mu_epsi'] = pd.Series(mu_epsi_hat)\n",
    "out['sig2_epsi'] = pd.Series(sig2_epsi_hat.flatten())\n",
    "out['b'] = pd.Series(b_hat.flatten())\n",
    "out['t_now'] = '02-Jan-2008'\n",
    "\n",
    "if yields:\n",
    "    out.to_csv('~/databases/temporary-databases/db_yield_var1_fit.csv',\n",
    "               index=None)\n",
    "else:\n",
    "    out.to_csv('~/databases/temporary-databases/db_shadowrate_var1_fit.csv',\n",
    "               index=None)\n",
    "\n",
    "del out"
   ]
  },
  {
   "cell_type": "markdown",
   "metadata": {},
   "source": [
    "## Plots"
   ]
  },
  {
   "cell_type": "code",
   "execution_count": null,
   "metadata": {
    "lines_to_next_cell": 0
   },
   "outputs": [],
   "source": [
    "plt.style.use('arpm')\n",
    "\n",
    "x_fit = x_fit.reshape(-1)\n",
    "fig1 = plt.figure()\n",
    "plt.plot(tau, x_fit, markersize=15, color='b')\n",
    "plt.plot(tau, x[-1, :], markersize=15, color=[1, 0.6, 0],\n",
    "         marker='.', linestyle='none')\n",
    "plt.xlim([np.min(tau) - 0.2, np.max(tau) + 0.2])\n",
    "plt.ylim([np.min(x_fit) - 0.001, np.max(x_fit) + 0.001])\n",
    "plt.xlabel('Time to Maturity (years)')\n",
    "plt.ylabel('Shadow rate')\n",
    "plt.xticks()\n",
    "plt.yticks()\n",
    "plt.gca().yaxis.set_major_formatter(FuncFormatter(lambda z, _:\n",
    "                                    '{:.2%}'.format(z)))\n",
    "plt.legend(['Fitted', 'Current'])\n",
    "plt.grid(True)\n",
    "add_logo(fig1)\n",
    "\n",
    "# scatter plot of shadow rates for the selected maturities\n",
    "fig2 = plt.figure()\n",
    "plt.plot(x[:, ind[0]], x[:, ind[1]], markersize=5,\n",
    "         color=[0.55, 0.55, 0.55], marker='.', linestyle='none')\n",
    "xlab = '%2dy rate' % (tau[ind[1]])\n",
    "ylab = '%2dy rate' % (tau[ind[0]])\n",
    "plt.ylabel(xlab)\n",
    "plt.xlabel(ylab)\n",
    "x_min = np.floor(min(x[:, ind[0]])*100) / 100\n",
    "x_max = np.ceil(max(x[:, ind[0]])*100) / 100\n",
    "y_min = np.floor(min(x[:, ind[1]])*100) / 100\n",
    "y_max = np.ceil(max(x[:, ind[1]])*100) / 100\n",
    "x_lim = ([x_min, x_max])\n",
    "y_lim = ([y_min, y_max])\n",
    "plt.xticks()\n",
    "plt.yticks()\n",
    "plt.grid(True)\n",
    "\n",
    "# next-step ellipsoid\n",
    "plt.plot([x[-1, ind[0]], x[-1, ind[0]]],\n",
    "         [x[-1, ind[1]], x[-1, ind[1]]], color=[1, 0.6, 0],\n",
    "         marker='.', markersize=8, linestyle='none')\n",
    "plot_ellipse(mu_select_ns, sig2_select_ns, r=2.4, plot_axes=0,\n",
    "             plot_tang_box=0, color='b', line_width=1.5)\n",
    "plt.gca().yaxis.set_major_formatter(FuncFormatter(lambda y,\n",
    "                                    _: '{:.0%}'.format(y)))\n",
    "plt.gca().xaxis.set_major_formatter(FuncFormatter(lambda y,\n",
    "                                    _: '{:.2%}'.format(y)))\n",
    "plt.legend(['Past observations', 'Current observation',\n",
    "            'Next-step prediction'])\n",
    "add_logo(fig2)"
   ]
  },
  {
   "cell_type": "code",
   "execution_count": null,
   "metadata": {
    "lines_to_next_cell": 2
   },
   "outputs": [],
   "source": []
  }
 ],
 "metadata": {
  "jupytext": {
   "cell_metadata_json": true,
   "encoding": "# -*- coding: utf-8 -*-",
   "executable": "/usr/bin/env python3"
  },
  "kernelspec": {
   "display_name": "Python 3",
   "language": "python",
   "name": "python3"
  }
 },
 "nbformat": 4,
 "nbformat_minor": 4
}
