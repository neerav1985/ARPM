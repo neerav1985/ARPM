{
 "cells": [
  {
   "cell_type": "markdown",
   "metadata": {},
   "source": [
    "# s_sp_anova [<img src=\"https://www.arpm.co/lab/icons/icon_permalink.png\" width=30 height=30 style=\"display: inline;\">](https://www.arpm.co/lab/redirect.php?code=s_sp_anova&codeLang=Python)\n",
    "For details, see [here](https://www.arpm.co/lab/redirect.php?permalink=s_sp_anova)."
   ]
  },
  {
   "cell_type": "code",
   "execution_count": null,
   "metadata": {},
   "outputs": [],
   "source": [
    "import numpy as np\n",
    "import pandas as pd\n",
    "import matplotlib\n",
    "import matplotlib.pyplot as plt\n",
    "from scipy.optimize import minimize_scalar\n",
    "\n",
    "from arpym.statistics.meancov_sp import meancov_sp\n",
    "from arpym.tools.histogram_sp import histogram_sp\n",
    "from arpym.tools.logo import add_logo"
   ]
  },
  {
   "cell_type": "markdown",
   "metadata": {},
   "source": [
    "## [Input parameters](https://www.arpm.co/lab/redirect.php?permalink=s_sp_anova-parameters):"
   ]
  },
  {
   "cell_type": "code",
   "execution_count": null,
   "metadata": {},
   "outputs": [],
   "source": [
    "sigma_ = None  # clustering threshold"
   ]
  },
  {
   "cell_type": "markdown",
   "metadata": {},
   "source": [
    "## [Step 0](https://www.arpm.co/lab/redirect.php?permalink=s_sp_anova-implementation-step00): Load data"
   ]
  },
  {
   "cell_type": "code",
   "execution_count": null,
   "metadata": {},
   "outputs": [],
   "source": [
    "path = '~/databases/temporary-databases/'\n",
    "file = 'db_call_data.csv'\n",
    "t_end = pd.read_csv(path+file,\n",
    "                    usecols=['m_'], nrows=1).values[0, 0].astype(int)+1\n",
    "delta_t = pd.read_csv(path+file,  # time to horizon\n",
    "                 usecols=['tau_hor'], nrows=1).values[0, 0].astype(int)\n",
    "j_ = pd.read_csv(path+file,  # number of scenarios\n",
    "                 usecols=['j_'], nrows=1).values[0, 0].astype(int)\n",
    "data = pd.read_csv(path+file, usecols=['log_sigma_atm', 'log_s'])\n",
    "log_v_sandp = data.log_s.values.reshape(j_, t_end)\n",
    "# implied volatility surface at the money\n",
    "log_sigma_atm = data.log_sigma_atm.values.reshape(j_, t_end)\n",
    "del data"
   ]
  },
  {
   "cell_type": "markdown",
   "metadata": {},
   "source": [
    "## [Step 1](https://www.arpm.co/lab/redirect.php?permalink=s_sp_anova-implementation-step01): Compute returns and expected returns at t_hor"
   ]
  },
  {
   "cell_type": "code",
   "execution_count": null,
   "metadata": {},
   "outputs": [],
   "source": [
    "# define t_now and t_hor as indexes\n",
    "t_now = 0\n",
    "t_hor = t_now + delta_t-1\n",
    "# extract values of the S&P index at t_now and t_hor\n",
    "v_sandp_tnow = np.exp(log_v_sandp[0, 0])\n",
    "v_sandp_thor = np.exp(log_v_sandp[:, delta_t-1])\n",
    "#extract horizon values of the implied volatility at the money\n",
    "sigma_atm_thor = np.exp(log_sigma_atm[:, delta_t-1])\n",
    "\n",
    "# compute returns of the S&P 500 index between t_now and t_hor\n",
    "r_sandp = (v_sandp_thor/v_sandp_tnow - 1)"
   ]
  },
  {
   "cell_type": "markdown",
   "metadata": {},
   "source": [
    "## [Step 2](https://www.arpm.co/lab/redirect.php?permalink=s_sp_anova-implementation-step02): If not given determine the optimal clustering"
   ]
  },
  {
   "cell_type": "code",
   "execution_count": null,
   "metadata": {},
   "outputs": [],
   "source": [
    "if sigma_ is None:\n",
    "\n",
    "    def intra_cluster_variance(sigma):\n",
    "        sigma_atm_thor_id = sigma_atm_thor > sigma\n",
    "        r_sandp_given_0 = r_sandp[~sigma_atm_thor_id]\n",
    "        r_sandp_given_1 = r_sandp[sigma_atm_thor_id]\n",
    "        _, cv_r_sandp_given_0 = meancov_sp(r_sandp_given_0)\n",
    "        _, cv_r_sandp_given_1 = meancov_sp(r_sandp_given_1)\n",
    "        p = r_sandp_given_1.shape[0]/j_\n",
    "        return (1-p)*cv_r_sandp_given_0 + p*cv_r_sandp_given_1\n",
    "\n",
    "    sigma_ = minimize_scalar(intra_cluster_variance,\n",
    "                             bounds=(sigma_atm_thor.min(),\n",
    "                                     sigma_atm_thor.max()),\n",
    "                             method='bounded').x"
   ]
  },
  {
   "cell_type": "markdown",
   "metadata": {},
   "source": [
    "## [Step 3](https://www.arpm.co/lab/redirect.php?permalink=s_sp_anova-implementation-step03): Find the best predictor"
   ]
  },
  {
   "cell_type": "code",
   "execution_count": null,
   "metadata": {
    "lines_to_end_of_cell_marker": 0,
    "lines_to_next_cell": 1
   },
   "outputs": [],
   "source": [
    "# scenarios of the conditional\n",
    "sigma_atm_thor_id = np.abs(sigma_atm_thor) > sigma_\n",
    "r_sandp_given_0 = r_sandp[~sigma_atm_thor_id]\n",
    "r_sandp_given_1 = r_sandp[sigma_atm_thor_id]\n",
    "# conditional expectation\n",
    "m_x_0, _ = meancov_sp(r_sandp_given_0)\n",
    "m_x_1, _ = meancov_sp(r_sandp_given_1)\n",
    "\n",
    "# ANOVA predictor\n",
    "def chi(z):\n",
    "    return m_x_0*(z <= sigma_) + m_x_1*(z > sigma_)"
   ]
  },
  {
   "cell_type": "markdown",
   "metadata": {},
   "source": [
    "## Plots:"
   ]
  },
  {
   "cell_type": "code",
   "execution_count": null,
   "metadata": {},
   "outputs": [],
   "source": [
    "plt.style.use('arpm')\n",
    "\n",
    "# marginal distributions\n",
    "p_0 = r_sandp_given_0.shape[0]/j_\n",
    "p_1 = r_sandp_given_1.shape[0]/j_\n",
    "f_r_sandp_0, bin0 = histogram_sp(r_sandp_given_0,\n",
    "                                 k_=int(np.log(len(r_sandp_given_0))))\n",
    "f_r_sandp_1, bin1 = histogram_sp(r_sandp_given_1,\n",
    "                                 k_=int(np.log(len(r_sandp_given_1))))\n",
    "\n",
    "# colors\n",
    "teal = [0.2344, 0.582, 0.5664]\n",
    "light_green_1 = [0.8398, 0.9141, 0.8125]\n",
    "light_green_2 = [0.4781, 0.6406, 0.4031]\n",
    "light_grey = [0.7, 0.7, 0.7]\n",
    "orange = [0.94, 0.35, 0]\n",
    "markersize = 60\n",
    "j_plot = 100  # number of plotted simulations\n",
    "xlim = [-0.1, 1.1]\n",
    "ylim = [max(bin0[0], bin1[0]), min(bin0[-1], bin1[-1])]\n",
    "matplotlib.rc('axes', edgecolor='none')\n",
    "\n",
    "fig = plt.figure()\n",
    "# plot locations\n",
    "shift = -0.1\n",
    "pos1 = [0.346+shift, 0.2589, 0.56888, 0.7111]\n",
    "pos2 = [0.346+shift, 0.03, 0.56888, 0.1889]\n",
    "pos3 = [0.157+shift, 0.2589, 0.16, 0.7111]\n",
    "\n",
    "# top right plot\n",
    "ax1 = fig.add_axes(pos1)\n",
    "ax1.set_xlim(xlim)\n",
    "ax1.set_xticks([0, 1])\n",
    "ax1.tick_params(axis='both', direction='out', colors='none')\n",
    "ax1.set_xlabel(r'$1_{\\Sigma_{\\mathit{ATM}}>\\bar{\\sigma}}$',\n",
    "               labelpad=-20, fontsize=20)\n",
    "ax1.set_ylabel(r'$R^{\\mathit{S&P}}$', labelpad=-35,\n",
    "               fontsize=20)\n",
    "# lines through means\n",
    "ax1.plot(xlim, [m_x_0, m_x_0], xlim,\n",
    "         [m_x_1, m_x_1],\n",
    "         c=light_green_2, lw=0.5)\n",
    "# joint\n",
    "l1 = ax1.scatter(sigma_atm_thor_id[:j_plot], r_sandp[:j_plot],\n",
    "                 s=markersize*3, edgecolor=light_grey, c=['none'], marker='o')\n",
    "# conditional expectation\n",
    "l4 = ax1.scatter(0, m_x_0, marker='x', s=markersize*3, c=[orange], lw=6)\n",
    "ax1.scatter(1, m_x_1, marker='x', s=markersize*3, c=[orange], lw=3)\n",
    "ax1.set_title('Analysis of variance',\n",
    "              fontdict={'fontsize': 20, 'fontweight': 'bold'})\n",
    "\n",
    "# bottom plot\n",
    "ax2 = fig.add_axes(pos2, sharex=ax1)\n",
    "ax2.set_xlim(xlim)\n",
    "ax2.set_ylim([-0.01, 1.001])\n",
    "ax2.set_yticks([0, 0.5, 1])\n",
    "ax2.grid(True, color=light_grey)\n",
    "\n",
    "l2 = ax2.bar(0, p_0, 0.2, color=light_green_2, align='center')\n",
    "ax2.bar(1, p_1, 0.2, bottom=p_0, color=light_green_2, align='center')\n",
    "ax2.plot([0.1, 0.9], [p_0, p_0], c=light_green_2, lw=0.5)\n",
    "\n",
    "# left plot\n",
    "ax3 = fig.add_axes(pos3, sharey=ax1)\n",
    "ax3.set_xlim([0, 1.1*np.max(np.r_[f_r_sandp_0, f_r_sandp_1])])\n",
    "ax3.set_xticks([])\n",
    "ax3.invert_xaxis()\n",
    "# conditional pdf's\n",
    "ax3.plot(f_r_sandp_0, bin0, c=light_green_2, lw=2)\n",
    "l3, = ax3.plot(f_r_sandp_1, bin1, c=light_green_2, lw=1)\n",
    "ax1.set_xlim(xlim)\n",
    "ax1.set_ylim(ylim)\n",
    "\n",
    "# legend\n",
    "fig.legend((l3, l4, l2, l1),\n",
    "           (r'Conditional $R^{\\mathit{S&P}}|1_{\\Sigma_{\\mathit{ATM}}>\\bar{\\sigma}}$',\n",
    "            'Optimal prediction',\n",
    "            r'Marginal $1_{\\Sigma_{\\mathit{ATM}}>\\bar{\\sigma}}$',\n",
    "            r'Joint $(R^{\\mathit{S&P}},1_{\\Sigma_{\\mathit{ATM}}>\\bar{\\sigma}})$'),\n",
    "           loc=(0.42, 0.75), prop={'size': '17', 'weight': 'bold'},\n",
    "           edgecolor='none', facecolor='none')\n",
    "add_logo(fig)"
   ]
  }
 ],
 "metadata": {
  "jupytext": {
   "encoding": "# -*- coding: utf-8 -*-",
   "executable": "/usr/bin/env python3"
  },
  "kernelspec": {
   "display_name": "Python 3",
   "language": "python",
   "name": "python3"
  }
 },
 "nbformat": 4,
 "nbformat_minor": 4
}
