{
 "cells": [
  {
   "cell_type": "markdown",
   "metadata": {},
   "source": [
    "# s_elltest_ytm_monthly [<img src=\"https://www.arpm.co/lab/icons/icon_permalink.png\" width=30 height=30 style=\"display: inline;\">](https://www.arpm.co/lab/redirect.php?code=s_elltest_ytm_monthly&codeLang=Python)\n",
    "For details, see [here](https://www.arpm.co/lab/redirect.php?permalink=ExerMRzerorates)."
   ]
  },
  {
   "cell_type": "code",
   "execution_count": null,
   "metadata": {},
   "outputs": [],
   "source": [
    "import numpy as np\n",
    "import pandas as pd\n",
    "import matplotlib.pyplot as plt\n",
    "\n",
    "from arpym.estimation.fit_var1 import fit_var1\n",
    "from arpym.estimation.fit_lfm_ols import fit_lfm_ols\n",
    "from arpym.statistics.invariance_test_ellipsoid import invariance_test_ellipsoid\n",
    "from arpym.tools.logo import add_logo"
   ]
  },
  {
   "cell_type": "markdown",
   "metadata": {},
   "source": [
    "## [Input parameters](https://www.arpm.co/lab/redirect.php?permalink=s_elltest_ytm_monthly-parameters)"
   ]
  },
  {
   "cell_type": "code",
   "execution_count": null,
   "metadata": {},
   "outputs": [],
   "source": [
    "t_ = 1000  # length of time series of yields\n",
    "tau = 10  # selected time to maturity (years)\n",
    "l_ = 25  # lag for the ellipsoid test\n",
    "conf_lev = 0.95  # confidence level for the ellipsoid test"
   ]
  },
  {
   "cell_type": "markdown",
   "metadata": {},
   "source": [
    "## [Step 0](https://www.arpm.co/lab/redirect.php?permalink=s_elltest_ytm_monthly-implementation-step00): Load data"
   ]
  },
  {
   "cell_type": "code",
   "execution_count": null,
   "metadata": {},
   "outputs": [],
   "source": [
    "tau = np.array([tau])\n",
    "path = '~/databases/global-databases/fixed-income/db_yields'\n",
    "y = pd.read_csv(path + '/data.csv', header=0, index_col=0)\n",
    "y = y[tau.astype(float).astype(str)]\n",
    "x = y.values  # yield to maturity\n",
    "x = x[::20, :]\n",
    "x = x[-t_:, :].reshape(-1)"
   ]
  },
  {
   "cell_type": "markdown",
   "metadata": {},
   "source": [
    "## [Step 1](https://www.arpm.co/lab/redirect.php?permalink=s_elltest_ytm_monthly-implementation-step01): AR(1) fit"
   ]
  },
  {
   "cell_type": "code",
   "execution_count": null,
   "metadata": {},
   "outputs": [],
   "source": [
    "p = np.ones(x.shape) / x.shape\n",
    "b_hat, _, _ = fit_var1(x)\n",
    "\n",
    "# realized invariant\n",
    "epsi = x[1:] - x[:-1] * b_hat"
   ]
  },
  {
   "cell_type": "markdown",
   "metadata": {},
   "source": [
    "## [Step 2](https://www.arpm.co/lab/redirect.php?permalink=s_elltest_ytm_monthly-implementation-step02): ellipsoid tests"
   ]
  },
  {
   "cell_type": "code",
   "execution_count": null,
   "metadata": {},
   "outputs": [],
   "source": [
    "plt.style.use('arpm')\n",
    "\n",
    "# perform and show ellipsoid test for invariance on monthly yield\n",
    "name1 = 'Invariance test on monthly yield'\n",
    "acf_x, conf_int_x = \\\n",
    "    invariance_test_ellipsoid(x, l_, conf_lev=conf_lev, fit=0, r=2,\n",
    "                              title=name1)\n",
    "fig = plt.gcf()\n",
    "add_logo(fig, set_fig_size=False, size_frac_x=1/8)\n",
    "\n",
    "plt.style.use('arpm')\n",
    "# perform and show ellipsoid test for invariance on AR(1) residuals\n",
    "name2 = 'Invariance test on AR(1) residuals'\n",
    "acf_epsi, conf_int_epsi = \\\n",
    "    invariance_test_ellipsoid(epsi, l_, conf_lev=conf_lev, fit=0,\n",
    "                              r=2, title=name2)\n",
    "fig = plt.gcf()\n",
    "add_logo(fig, set_fig_size=False, size_frac_x=1/8)\n",
    "\n",
    "plt.style.use('arpm')"
   ]
  },
  {
   "cell_type": "markdown",
   "metadata": {},
   "source": [
    "## [Step 3](https://www.arpm.co/lab/redirect.php?permalink=s_elltest_ytm_monthly-implementation-step03): linear fit on on log-autocorrelations"
   ]
  },
  {
   "cell_type": "code",
   "execution_count": null,
   "metadata": {},
   "outputs": [],
   "source": [
    "l_points = np.max([l_, 3])\n",
    "lag = 1 + np.arange(l_points)\n",
    "log_acf_x = np.log(acf_x)\n",
    "# log-autocorrelations linear fit\n",
    "print(log_acf_x, lag, log_acf_x.shape, lag.shape)\n",
    "alpha, beta, _, _ = fit_lfm_ols(log_acf_x, lag)  # linear fit\n",
    "# decay coefficient\n",
    "lambda_hat = -beta\n",
    "\n",
    "# Linear fit of log-autocorrelation plot\n",
    "log_acf_fit = beta * np.arange(1, l_points + 0.01, 0.01) + alpha\n",
    "fig = plt.figure()\n",
    "pp2 = plt.plot(lag, log_acf_x, color=[.9, .4, 0], lw=1.5)\n",
    "pp1 = plt.plot(np.arange(1, l_points + 0.01, 0.01), log_acf_fit, lw=1.4)\n",
    "plt.axis([0, l_points,  np.min(log_acf_x), np.max(log_acf_x)])\n",
    "plt.gca().yaxis.tick_right()\n",
    "plt.xlabel('Lag')\n",
    "plt.ylabel('log-autocorrelation')\n",
    "plt.xticks()\n",
    "plt.yticks()\n",
    "plt.legend(['empirical', ' linear fit\\n $\\lambda$ = %1.3f' % lambda_hat])\n",
    "add_logo(fig, location=3)"
   ]
  }
 ],
 "metadata": {
  "jupytext": {
   "encoding": "# -*- coding: utf-8 -*-",
   "executable": "/usr/bin/env python3"
  },
  "kernelspec": {
   "display_name": "Python 3",
   "language": "python",
   "name": "python3"
  }
 },
 "nbformat": 4,
 "nbformat_minor": 4
}
