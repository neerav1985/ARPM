{
 "cells": [
  {
   "cell_type": "markdown",
   "metadata": {},
   "source": [
    "# s_cpca_vs_pca [<img src=\"https://www.arpm.co/lab/icons/icon_permalink.png\" width=30 height=30 style=\"display: inline;\">](https://www.arpm.co/lab/redirect.php?code=s_cpca_vs_pca&codeLang=Python)\n",
    "For details, see [here](https://www.arpm.co/lab/redirect.php?permalink=eb-exer-cpca)."
   ]
  },
  {
   "cell_type": "code",
   "execution_count": null,
   "metadata": {},
   "outputs": [],
   "source": [
    "import numpy as np\n",
    "from arpym.tools.cpca_cov import cpca_cov\n",
    "from arpym.tools.pca_cov import pca_cov"
   ]
  },
  {
   "cell_type": "markdown",
   "metadata": {},
   "source": [
    "## [Input parameters](https://www.arpm.co/lab/redirect.php?permalink=s_cpca_vs_pca-parameters)"
   ]
  },
  {
   "cell_type": "code",
   "execution_count": null,
   "metadata": {},
   "outputs": [],
   "source": [
    "# symmetric and positive definite covariance matrix\n",
    "sigma2 = np.array([[0.25, 0.30, 0.25], [0.30, 1, 0], [0.25, 0, 6.25]])\n",
    "\n",
    "# full rank linear constraints matrix\n",
    "d = np.array([[1, 0, 1], [0, 1, 0]])\n",
    "\n",
    "k_, n_ = np.shape(d)"
   ]
  },
  {
   "cell_type": "markdown",
   "metadata": {},
   "source": [
    "## [Step 1](https://www.arpm.co/lab/redirect.php?permalink=s_cpca_vs_pca-implementation-step01): Compute the conditional principal variances/directions of sigma2"
   ]
  },
  {
   "cell_type": "code",
   "execution_count": null,
   "metadata": {},
   "outputs": [],
   "source": [
    "e_d, lambda2_d = cpca_cov(sigma2, d)"
   ]
  },
  {
   "cell_type": "markdown",
   "metadata": {},
   "source": [
    "## [Step 2](https://www.arpm.co/lab/redirect.php?permalink=s_cpca_vs_pca-implementation-step02): Compute the product e_d'*sigma2*e_d and check that it coincides with the diagonal matrix Diag(lambda2_d)"
   ]
  },
  {
   "cell_type": "code",
   "execution_count": null,
   "metadata": {},
   "outputs": [],
   "source": [
    "err_cpca_diag = np.linalg.norm(e_d.T@sigma2@e_d - np.diag(lambda2_d))/np.linalg.norm(np.diag(lambda2_d))"
   ]
  },
  {
   "cell_type": "markdown",
   "metadata": {},
   "source": [
    "## [Step 3](https://www.arpm.co/lab/redirect.php?permalink=s_cpca_vs_pca-implementation-step03): Compute the products e_d'*e_d and e_d*e_d' and verify that the conditional principal directions are not orthogonal"
   ]
  },
  {
   "cell_type": "code",
   "execution_count": null,
   "metadata": {},
   "outputs": [],
   "source": [
    "err_cpca_orth1 = np.linalg.norm(e_d.T@e_d-np.eye(n_))/np.linalg.norm(np.eye(n_))\n",
    "err_cpca_orth2 = np.linalg.norm(e_d@e_d.T-np.eye(n_))/np.linalg.norm(np.eye(n_))"
   ]
  },
  {
   "cell_type": "markdown",
   "metadata": {},
   "source": [
    "## [Step 4](https://www.arpm.co/lab/redirect.php?permalink=s_cpca_vs_pca-implementation-step04): Compute the principal variances/directions of sigma2"
   ]
  },
  {
   "cell_type": "code",
   "execution_count": null,
   "metadata": {},
   "outputs": [],
   "source": [
    "e, lambda2 = pca_cov(sigma2)"
   ]
  },
  {
   "cell_type": "markdown",
   "metadata": {},
   "source": [
    "## [Step 5](https://www.arpm.co/lab/redirect.php?permalink=s_cpca_vs_pca-implementation-step05): Compute the product e'*sigma2*e and check that it coincides with the diagonal matrix Diag(lambda2)"
   ]
  },
  {
   "cell_type": "code",
   "execution_count": null,
   "metadata": {},
   "outputs": [],
   "source": [
    "err_pca_diag = np.linalg.norm(e.T@sigma2@e - np.diag(lambda2))/np.linalg.norm(np.diag(lambda2))"
   ]
  },
  {
   "cell_type": "markdown",
   "metadata": {},
   "source": [
    "## [Step 6](https://www.arpm.co/lab/redirect.php?permalink=s_cpca_vs_pca-implementation-step06): Compute the products e'*e and e*e' and verify that the principal directions are orthogonal"
   ]
  },
  {
   "cell_type": "code",
   "execution_count": null,
   "metadata": {},
   "outputs": [],
   "source": [
    "err_pca_orth1 = np.linalg.norm(e.T@e-np.eye(n_))/np.linalg.norm(np.eye(n_))\n",
    "err_pca_orth2 = np.linalg.norm(e@e.T-np.eye(n_))/np.linalg.norm(np.eye(n_))"
   ]
  }
 ],
 "metadata": {
  "jupytext": {
   "encoding": "# -*- coding: utf-8 -*-",
   "executable": "/usr/bin/env python3"
  },
  "kernelspec": {
   "display_name": "Python 3",
   "language": "python",
   "name": "python3"
  }
 },
 "nbformat": 4,
 "nbformat_minor": 4
}
