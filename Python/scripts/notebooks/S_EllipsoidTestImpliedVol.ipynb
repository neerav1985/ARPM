{
 "cells": [
  {
   "cell_type": "markdown",
   "metadata": {},
   "source": [
    "# S_EllipsoidTestImpliedVol [<img src=\"https://www.arpm.co/lab/icons/icon_permalink.png\" width=30 height=30 style=\"display: inline;\">](https://www.arpm.co/lab/redirect.php?code=S_EllipsoidTestImpliedVol&codeLang=Python)\n",
    "For details, see [here](https://www.arpm.co/lab/redirect.php?permalink=IIDtestImpliedVol)."
   ]
  },
  {
   "cell_type": "markdown",
   "metadata": {},
   "source": [
    "## Prepare the environment"
   ]
  },
  {
   "cell_type": "code",
   "execution_count": null,
   "metadata": {},
   "outputs": [],
   "source": [
    "import os\n",
    "import os.path as path\n",
    "import sys\n",
    "\n",
    "sys.path.append(path.abspath('../../functions-legacy'))\n",
    "\n",
    "from numpy import reshape, ones, diff, eye, log, r_\n",
    "from numpy.linalg import solve\n",
    "\n",
    "from scipy.io import loadmat\n",
    "\n",
    "import matplotlib.pyplot as plt\n",
    "from matplotlib.pyplot import figure\n",
    "\n",
    "plt.style.use('seaborn')\n",
    "\n",
    "from CONFIG import GLOBAL_DB, TEMPORARY_DB\n",
    "from ARPM_utils import save_plot\n",
    "from autocorrelation import autocorrelation\n",
    "from InvarianceTestEllipsoid import InvarianceTestEllipsoid"
   ]
  },
  {
   "cell_type": "markdown",
   "metadata": {},
   "source": [
    "## Upload database"
   ]
  },
  {
   "cell_type": "code",
   "execution_count": null,
   "metadata": {},
   "outputs": [],
   "source": [
    "try:\n",
    "    db = loadmat(os.path.join(GLOBAL_DB, 'db_Derivatives'), squeeze_me=True)\n",
    "except FileNotFoundError:\n",
    "    db = loadmat(os.path.join(TEMPORARY_DB, 'db_Derivatives'), squeeze_me=True)\n",
    "\n",
    "Sigma = db['Sigma']"
   ]
  },
  {
   "cell_type": "markdown",
   "metadata": {},
   "source": [
    "## Select weekly observations of implied volatility"
   ]
  },
  {
   "cell_type": "code",
   "execution_count": null,
   "metadata": {},
   "outputs": [],
   "source": [
    "delta_t = 5\n",
    "sigma = Sigma[:,:, ::delta_t]"
   ]
  },
  {
   "cell_type": "markdown",
   "metadata": {},
   "source": [
    "## Compute autocorrelation, at different lags, of weekly changes in implied vol"
   ]
  },
  {
   "cell_type": "code",
   "execution_count": null,
   "metadata": {},
   "outputs": [],
   "source": [
    "tau_index = 1  # time to maturity index\n",
    "m_index = 4  # moneyness index\n",
    "lag_ = 10  # total number of lags\n",
    "\n",
    "delta_sigma = diff(sigma[tau_index, [m_index],:])  # changes in implied volatility\n",
    "acf_1 = autocorrelation(delta_sigma, lag_)"
   ]
  },
  {
   "cell_type": "markdown",
   "metadata": {},
   "source": [
    "## Compute autocorrelation, at different lags, of weekly changes in log implied vol"
   ]
  },
  {
   "cell_type": "code",
   "execution_count": null,
   "metadata": {},
   "outputs": [],
   "source": [
    "log_sigma = log(sigma[tau_index, [m_index],:])  # logarithm of implied vol\n",
    "\n",
    "delta_log_sigma = diff(log_sigma)  # changes in log implied volatility\n",
    "acf_2 = autocorrelation(delta_log_sigma, lag_)"
   ]
  },
  {
   "cell_type": "markdown",
   "metadata": {},
   "source": [
    "## Perform the least squares fitting and compute autocorrelation of residuals"
   ]
  },
  {
   "cell_type": "code",
   "execution_count": null,
   "metadata": {},
   "outputs": [],
   "source": [
    "tau_, m_, t_ = sigma.shape\n",
    "sigma = reshape(sigma, (tau_*m_, t_),'F')\n",
    "\n",
    "y = sigma[:, 1:].T\n",
    "x = r_['-1',ones((t_ - 1, 1)), sigma[:, : -1].T]\n",
    "\n",
    "yx = y.T@x\n",
    "xx = x.T@x\n",
    "b = yx@(solve(xx,eye(xx.shape[0])))\n",
    "r = y - x@b.T  # residuals\n",
    "\n",
    "epsi = r[:, [2]].T  # select the residuals corresponding to 60 days-to-maturiy and moneyness equal to 0.9\n",
    "acf_3 = autocorrelation(epsi, lag_)"
   ]
  },
  {
   "cell_type": "markdown",
   "metadata": {},
   "source": [
    "## Plot the results of the IID test"
   ]
  },
  {
   "cell_type": "code",
   "execution_count": null,
   "metadata": {},
   "outputs": [],
   "source": [
    "lag = 10  # lag to be printed\n",
    "ell_scale = 2  # ellipsoid radius coefficient\n",
    "fit = 0  # normal fitting\n",
    "\n",
    "f = figure(figsize=(14,7))  # changes in implied vol\n",
    "InvarianceTestEllipsoid(delta_sigma,acf_1[0,1:], lag, fit, ell_scale, [], 'IID test on the increments of implied volatility');\n",
    "# save_plot(ax=plt.gca(), extension='png', scriptname=os.path.basename('.')[:-3], count=plt.get_fignums()[-1])\n",
    "\n",
    "f = figure(figsize=(14,7))  # changes in log implied vol\n",
    "InvarianceTestEllipsoid(delta_log_sigma,acf_2[0,1:], lag, fit, ell_scale, [], 'IID test on the increments of log implied volatility');\n",
    "# save_plot(ax=plt.gca(), extension='png', scriptname=os.path.basename('.')[:-3], count=plt.get_fignums()[-1])\n",
    "\n",
    "f = figure(figsize=(14,7))  # residuals of the autoregressive fit\n",
    "InvarianceTestEllipsoid(epsi,acf_3[0,1:], lag, fit, ell_scale, [], 'IID test on the residuals of the autoregressive fit');\n",
    "# save_plot(ax=plt.gca(), extension='png', scriptname=os.path.basename('.')[:-3], count=plt.get_fignums()[-1])\n"
   ]
  }
 ],
 "metadata": {
  "jupytext": {
   "encoding": "# -*- coding: utf-8 -*-",
   "executable": "/usr/bin/env python3"
  },
  "kernelspec": {
   "display_name": "Python 3",
   "language": "python",
   "name": "python3"
  }
 },
 "nbformat": 4,
 "nbformat_minor": 4
}
