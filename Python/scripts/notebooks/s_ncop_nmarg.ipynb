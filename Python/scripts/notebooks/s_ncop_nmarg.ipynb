{
 "cells": [
  {
   "cell_type": "markdown",
   "metadata": {},
   "source": [
    "# s_ncop_nmarg [<img src=\"https://www.arpm.co/lab/icons/icon_permalink.png\" width=30 height=30 style=\"display: inline;\">](https://www.arpm.co/lab/redirect.php?code=s_ncop_nmarg&codeLang=Python)\n",
    "For details, see [here](https://www.arpm.co/lab/redirect.php?permalink=eb-2-ex-norm-cop-giv-norm-marg)."
   ]
  },
  {
   "cell_type": "code",
   "execution_count": null,
   "metadata": {},
   "outputs": [],
   "source": [
    "import numpy as np\n",
    "from scipy import stats\n",
    "import matplotlib.pyplot as plt\n",
    "import matplotlib.gridspec as gridspec\n",
    "from matplotlib import rc, rcParams\n",
    "\n",
    "rc('text', usetex=True)\n",
    "rcParams['text.latex.preamble']=[r\"\\usepackage{amsmath} \\usepackage{amssymb}\"]\n",
    "\n",
    "from arpym.statistics.simulate_normal import simulate_normal\n",
    "from arpym.tools.logo import add_logo"
   ]
  },
  {
   "cell_type": "markdown",
   "metadata": {},
   "source": [
    "## [Input parameters](https://www.arpm.co/lab/redirect.php?permalink=s_ncop_nmarg-parameters)"
   ]
  },
  {
   "cell_type": "code",
   "execution_count": null,
   "metadata": {},
   "outputs": [],
   "source": [
    "j_ = 10**5  # number of scenarios\n",
    "mu = np.zeros(2)  # location parameter\n",
    "rho = -0.8  # correlation coefficient\n",
    "sigma = np.array([1, 1])  # standard deviations"
   ]
  },
  {
   "cell_type": "markdown",
   "metadata": {},
   "source": [
    "## [Step 1](https://www.arpm.co/lab/redirect.php?permalink=s_ncop_nmarg-implementation-step01): Generate a sample from the bivariate normal distribution"
   ]
  },
  {
   "cell_type": "code",
   "execution_count": null,
   "metadata": {},
   "outputs": [],
   "source": [
    "sigma2 = np.diag(sigma) @ np.array([[1, rho], [rho, 1]]) @ np.diag(sigma) # covariance\n",
    "x = simulate_normal(mu, sigma2, j_).reshape((j_, -1)) # normal scenarios \n",
    "x1 = x[:, 0]\n",
    "x2 = x[:, 1]"
   ]
  },
  {
   "cell_type": "markdown",
   "metadata": {},
   "source": [
    "## [Step 2](https://www.arpm.co/lab/redirect.php?permalink=s_ncop_nmarg-implementation-step02): Evaluate cdf's of the marginal variables"
   ]
  },
  {
   "cell_type": "code",
   "execution_count": null,
   "metadata": {},
   "outputs": [],
   "source": [
    "llim = np.floor(\n",
    "        min(mu[0]-5*np.sqrt(sigma2[0, 0]), mu[1]-5*np.sqrt(sigma2[1, 1])))\n",
    "ulim = np.ceil(\n",
    "        max(mu[0]+5*np.sqrt(sigma2[0, 0]), mu[1]+5*np.sqrt(sigma2[1, 1])))\n",
    "x_grid = np.linspace(llim, ulim, 100) # evenly spaced numbers over the given interval\n",
    "cdf_x1 = stats.norm.cdf(x_grid, mu[0], np.sqrt(sigma2[0, 0])) # cdf of the marginal variable X₁\n",
    "cdf_x2 = stats.norm.cdf(x_grid, mu[1], np.sqrt(sigma2[1, 1])) # cdf of the marginal variable X₂"
   ]
  },
  {
   "cell_type": "markdown",
   "metadata": {},
   "source": [
    "## [Step 3](https://www.arpm.co/lab/redirect.php?permalink=s_ncop_nmarg-implementation-step03): Obtain scenarios for the grades"
   ]
  },
  {
   "cell_type": "code",
   "execution_count": null,
   "metadata": {},
   "outputs": [],
   "source": [
    "u = stats.norm.cdf(x, mu, sigma) # grade scenarios\n",
    "u_1 = u[:, 0]\n",
    "u_2 = u[:, 1]"
   ]
  },
  {
   "cell_type": "markdown",
   "metadata": {},
   "source": [
    "## Plot"
   ]
  },
  {
   "cell_type": "code",
   "execution_count": null,
   "metadata": {},
   "outputs": [],
   "source": [
    "plt.style.use('arpm')\n",
    "\n",
    "# Colors\n",
    "y_color = [153/255, 205/255, 129/255]\n",
    "u_color = [60/255, 149/255, 145/255]\n",
    "m_color = [63/255, 0/255, 102/255]\n",
    "\n",
    "xlim = [np.percentile(x1, 0.5), np.percentile(x1, 99.5)]\n",
    "ylim = [np.percentile(x2, 0.5), np.percentile(x2, 99.5)]\n",
    "\n",
    "# Figure specifications\n",
    "plt.figure()\n",
    "mydpi = 72.0\n",
    "f = plt.figure(figsize=(1280.0/mydpi, 720.0/mydpi), dpi=mydpi)\n",
    "gs0 = gridspec.GridSpec(2, 2)\n",
    "\n",
    "# Marginal X1\n",
    "gs00 = gridspec.GridSpecFromSubplotSpec(23, 20,\n",
    "                  subplot_spec=gs0[0], wspace=2, hspace=2.5)\n",
    "ax1 = plt.Subplot(f, gs00[:-5, 4:-4])\n",
    "f.add_subplot(ax1)\n",
    "ax1.tick_params(labelsize=14)\n",
    "plt.plot(x_grid, cdf_x1, lw=2, color='C3', label=r'$F_{X_{1}}(x)$')\n",
    "plt.ylabel('$F_{X_1}$', fontsize=17)\n",
    "\n",
    "# Copula scenarios\n",
    "gs01 = gridspec.GridSpecFromSubplotSpec(46, 18, subplot_spec=gs0[1],\n",
    "                                        wspace=0, hspace=0.6)\n",
    "ax2 = plt.Subplot(f, gs01[:-10, 4:-5], ylim=[0, 1], xlim=[0, 1])\n",
    "f.add_subplot(ax2)\n",
    "plt.scatter(u_2, u_1, s=5, color=u_color)\n",
    "ax2.tick_params(labelsize=14)\n",
    "plt.xlabel('$U_2$', fontsize=17, labelpad=-5)\n",
    "plt.ylabel('$U_1$', fontsize=17, labelpad=-11)\n",
    "\n",
    "# Grade U1\n",
    "ax3 = plt.Subplot(f, gs01[:-10, 2])\n",
    "f.add_subplot(ax3)\n",
    "ax3.tick_params(labelsize=14)\n",
    "plt.xlim([0, 2])\n",
    "plt.ylim([0, 1])\n",
    "ax3.tick_params(axis='y', colors='None')\n",
    "plt.hist(np.sort(u_1), bins=int(10*np.log(j_)), density=True,\n",
    "         color=u_color, orientation='horizontal')\n",
    "plt.xlabel('$f_{U_1}$', fontsize=17)\n",
    "ax3.xaxis.tick_top()\n",
    "\n",
    "# Grade U2\n",
    "ax4 = plt.Subplot(f, gs01[41:46, 4:-5], sharex=ax2)\n",
    "f.add_subplot(ax4)\n",
    "plt.hist(np.sort(u_2), bins=int(10*np.log(j_)),\n",
    "         density=True, color=u_color)\n",
    "ax4.tick_params(labelsize=14)\n",
    "ax4.tick_params(axis='x', colors='white')\n",
    "ax4.yaxis.tick_right()\n",
    "plt.ylabel('$f_{U_2}$', fontsize=17)\n",
    "plt.ylim([0, 2])\n",
    "plt.xlim([0, 1])\n",
    "\n",
    "# Joint scenarios\n",
    "gs02 = gridspec.GridSpecFromSubplotSpec(2*25, 2*20,\n",
    "            subplot_spec=gs0[2], wspace=0.6, hspace=1)\n",
    "ax5 = plt.Subplot(f, gs02[2*7:, 2*4:-8], ylim=ylim, xlim=xlim)\n",
    "f.add_subplot(ax5)\n",
    "plt.scatter(x1, x2, s=5, color=y_color, label=r'$F_{X_{1}}(x)$')\n",
    "ax5.tick_params(labelsize=14)\n",
    "plt.xlabel('$X_1$', fontsize=17)\n",
    "plt.ylabel('$X_2$', fontsize=17)\n",
    "\n",
    "# Histogram X1\n",
    "ax7 = plt.Subplot(f, gs02[0:12, 2*4:-8], sharex=ax5)\n",
    "f.add_subplot(ax7)\n",
    "plt.hist(x1, bins=int(80*np.log(j_)),\n",
    "         density=True, color=y_color)\n",
    "ax7.tick_params(labelsize=14)\n",
    "ax7.set_ylim([0, 0.45])\n",
    "ax7.set_xlim(xlim)\n",
    "ax7.tick_params(axis='x', colors='None')\n",
    "plt.ylabel('$f_{X_1}$', fontsize=17)\n",
    "\n",
    "# Histogram X2\n",
    "ax8 = plt.Subplot(f, gs02[2*7:, -7:-2], sharey=ax5)\n",
    "f.add_subplot(ax8)\n",
    "plt.hist(x2, bins=int(80*np.log(j_)), density=True,\n",
    "         orientation='horizontal', color=y_color)\n",
    "ax8.tick_params(labelsize=14)\n",
    "ax8.set_xlim([0, 0.4])\n",
    "ax8.set_ylim(ylim)\n",
    "ax8.tick_params(axis='y', colors='None')\n",
    "plt.xlabel('$f_{X_2}$', fontsize=17)\n",
    "\n",
    "# Marginal X2\n",
    "gs03 = gridspec.GridSpecFromSubplotSpec(25, 18, subplot_spec=gs0[3])\n",
    "ax6 = plt.Subplot(f, gs03[7:, 4:-5])\n",
    "f.add_subplot(ax6)\n",
    "plt.plot(x_grid, cdf_x2, lw=2, color='C3', label=r'$F_{X_{2}}(x)$')\n",
    "plt.xlabel('$F_{X_2}$', fontsize=17)\n",
    "ax6.tick_params(labelsize=14)\n",
    "\n",
    "add_logo(f, location=4, set_fig_size=False)\n",
    "plt.tight_layout()"
   ]
  }
 ],
 "metadata": {
  "jupytext": {
   "encoding": "# -*- coding: utf-8 -*-",
   "executable": "/usr/bin/env python3"
  },
  "kernelspec": {
   "display_name": "Python 3",
   "language": "python",
   "name": "python3"
  }
 },
 "nbformat": 4,
 "nbformat_minor": 4
}
