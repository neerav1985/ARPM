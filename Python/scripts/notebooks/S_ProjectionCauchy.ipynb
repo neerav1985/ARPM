{
 "cells": [
  {
   "cell_type": "markdown",
   "metadata": {},
   "source": [
    "# S_ProjectionCauchy [<img src=\"https://www.arpm.co/lab/icons/icon_permalink.png\" width=30 height=30 style=\"display: inline;\">](https://www.arpm.co/lab/redirect.php?code=S_ProjectionCauchy&codeLang=Python)\n",
    "For details, see [here](https://www.arpm.co/lab/redirect.php?permalink=ExerCauchyProj)."
   ]
  },
  {
   "cell_type": "markdown",
   "metadata": {},
   "source": [
    "## Prepare the environment"
   ]
  },
  {
   "cell_type": "code",
   "execution_count": null,
   "metadata": {},
   "outputs": [],
   "source": [
    "import os\n",
    "import os.path as path\n",
    "import sys\n",
    "\n",
    "sys.path.append(path.abspath('../../functions-legacy'))\n",
    "\n",
    "from numpy import arange, array, linspace, log, exp, sqrt, r_\n",
    "from numpy import sum as npsum, min as npmin, max as npmax\n",
    "\n",
    "from scipy.stats import t\n",
    "from scipy.io import loadmat\n",
    "\n",
    "import matplotlib.pyplot as plt\n",
    "from matplotlib.pyplot import figure, plot, legend, scatter, ylabel, \\\n",
    "    xlabel, title\n",
    "\n",
    "plt.style.use('seaborn')\n",
    "\n",
    "from CONFIG import GLOBAL_DB, TEMPORARY_DB\n",
    "from ARPM_utils import save_plot, struct_to_dict\n",
    "from Price2AdjustedPrice import Price2AdjustedPrice\n",
    "from MaxLikelihoodFPLocDispT import MaxLikelihoodFPLocDispT\n",
    "from PathsCauchy import PathsCauchy"
   ]
  },
  {
   "cell_type": "markdown",
   "metadata": {},
   "source": [
    "## Upload databases"
   ]
  },
  {
   "cell_type": "code",
   "execution_count": null,
   "metadata": {},
   "outputs": [],
   "source": [
    "try:\n",
    "    db = loadmat(os.path.join(GLOBAL_DB, 'db_Stocks'), squeeze_me=True)\n",
    "except FileNotFoundError:\n",
    "    db = loadmat(os.path.join(TEMPORARY_DB, 'db_Stocks'), squeeze_me=True)"
   ]
  },
  {
   "cell_type": "markdown",
   "metadata": {},
   "source": [
    "## Compute the log-returns of one stock"
   ]
  },
  {
   "cell_type": "code",
   "execution_count": null,
   "metadata": {},
   "outputs": [],
   "source": [
    "StocksSPX = struct_to_dict(db['StocksSPX'])\n",
    "\n",
    "x, dx = Price2AdjustedPrice(StocksSPX.Date.reshape(1,-1), StocksSPX.Prices[[25],:], StocksSPX.Dividends[25])  # Cisco Systems Inc\n",
    "x = x[[0],1:]\n",
    "t_ = x.shape[1]"
   ]
  },
  {
   "cell_type": "markdown",
   "metadata": {},
   "source": [
    "## Set the Flexible Probabilities"
   ]
  },
  {
   "cell_type": "code",
   "execution_count": null,
   "metadata": {},
   "outputs": [],
   "source": [
    "lam = log(2) / 800\n",
    "p = exp((-lam * arange(t_, 1 + -1, -1))).reshape(1,-1)\n",
    "p = p / npsum(p)  # FP-profile: exponential decay"
   ]
  },
  {
   "cell_type": "markdown",
   "metadata": {},
   "source": [
    "## Fit the data to a Cauchy distribution"
   ]
  },
  {
   "cell_type": "code",
   "execution_count": null,
   "metadata": {},
   "outputs": [],
   "source": [
    "tol = 10 ** -6\n",
    "nu = 1\n",
    "mu, sigma2,_ = MaxLikelihoodFPLocDispT(dx, p, nu, tol, 1)\n",
    "sigma = sqrt(sigma2)  # interquantile range corresponding to levels 1/4 and 3/4\n",
    "mu = mu.squeeze()\n",
    "sigma2 = sigma2.squeeze()\n",
    "sigma = sigma.squeeze()"
   ]
  },
  {
   "cell_type": "markdown",
   "metadata": {},
   "source": [
    "## Initialize projection variables"
   ]
  },
  {
   "cell_type": "code",
   "execution_count": null,
   "metadata": {},
   "outputs": [],
   "source": [
    "tau = 10\n",
    "dt = 1 / 20\n",
    "t_j = arange(0,tau+dt,dt)\n",
    "j_ = 15"
   ]
  },
  {
   "cell_type": "markdown",
   "metadata": {},
   "source": [
    "## Simulate paths"
   ]
  },
  {
   "cell_type": "code",
   "execution_count": null,
   "metadata": {},
   "outputs": [],
   "source": [
    "X = PathsCauchy(x[0,t_-1], mu, sigma, t_j, j_)"
   ]
  },
  {
   "cell_type": "markdown",
   "metadata": {},
   "source": [
    "## Projection to horizon"
   ]
  },
  {
   "cell_type": "code",
   "execution_count": null,
   "metadata": {},
   "outputs": [],
   "source": [
    "m_tau = x[0,t_-1] + mu*tau\n",
    "sigma_tau = sigma*tau\n",
    "\n",
    "# Cauchy pdf at horizon\n",
    "l_ = 1000\n",
    "x_hor = linspace(m_tau - 10 * sigma_tau,m_tau + 10*sigma_tau,l_)\n",
    "# y_hor = t.pdf('tlocationscale', x_hor, m_tau, sigma_tau, 1)\n",
    "y_hor = t.pdf((x_hor-m_tau)/sigma_tau,1)/sigma_tau"
   ]
  },
  {
   "cell_type": "markdown",
   "metadata": {},
   "source": [
    "## Create figure"
   ]
  },
  {
   "cell_type": "code",
   "execution_count": null,
   "metadata": {},
   "outputs": [],
   "source": [
    "s_ = 2  # number of plotted observation before projecting time\n",
    "\n",
    "m = min([npmin(X), npmin(x[0, t_ - s_: t_]), npmin([x[0,t_-1], m_tau]) - 6*sigma_tau])\n",
    "M = max([npmax(X), npmax(x[0,t_ - s_: t_]), npmax([x[0,t_-1], m_tau]) + 6*sigma_tau])\n",
    "t = arange(-s_,tau+1)\n",
    "max_scale = tau / 4\n",
    "scale = max_scale / max(y_hor)\n",
    "\n",
    "# preliminary computations\n",
    "tau_red = arange(0,tau,0.1).reshape(1,-1)\n",
    "m_red = x[0,t_-1] + mu * tau_red\n",
    "sigma_red = sigma * tau_red\n",
    "redline1 = m_red + 2*sigma_red\n",
    "redline2 = m_red - 2*sigma_red\n",
    "\n",
    "f = figure()\n",
    "# color settings\n",
    "lgrey = [0.8, 0.8, 0.8]  # light grey\n",
    "dgrey = [0.4, 0.4, 0.4]  # dark grey\n",
    "lblue = [0.27, 0.4, 0.9]  # light blue\n",
    "plt.axis([t[0], t[-1] + max_scale, m, M])\n",
    "xlabel('time (days)')\n",
    "ylabel('Risk driver')\n",
    "plt.xticks(r_[t[:s_+1],arange(1,t[-1])])\n",
    "title('Cauchy projection')\n",
    "# simulated paths\n",
    "for j in range(j_):\n",
    "    plot(t_j, X[j,:], color = lgrey, lw = 2)\n",
    "# standard deviation lines\n",
    "p_red_1 = plot(tau_red[0], redline1[0], color='r', lw = 2,label=' + / - 2 sigma')  # red bars (+2 interquantile range)\n",
    "p_red_2 = plot(tau_red[0], redline2[0], color='r', lw = 2)  # red bars (-2 interquantile range)\n",
    "p_mu = plot([0, tau], [x[0,t_-1], m_tau], color='g', lw = 2, label='median')  # median\n",
    "# histogram pdf plot\n",
    "for k in range(len(y_hor)):\n",
    "    p_hist=plot([tau, tau+y_hor[k]*scale], [x_hor[k], x_hor[k]], color=lgrey, lw=2,label='horizon pdf')\n",
    "    plot(tau+y_hor*scale, x_hor, color=dgrey, lw=1)\n",
    "# plot of last s_ observations\n",
    "for k in range(s_):\n",
    "    plot([t[k], t[k + 1]], [x[0,t_ - s_ + k - 1], x[0,t_ - s_ + k]], color=lgrey, lw=2)\n",
    "for k in range(s_):\n",
    "    scatter(t[k], x[0,t_ - s_ + k - 1], color='b',marker = '.',s=50)\n",
    "    scatter(t[s_ + 1], x[0,t_-1], color='b', marker = '.',s=50)\n",
    "plot([tau, tau], m_tau + array([-2 * sigma_tau, 2 * sigma_tau]), color='r', lw = 2)\n",
    "# leg\n",
    "legend(handles=[p_red_1[0], p_mu[0], p_hist[0]]);\n",
    "# save_plot(ax=plt.gca(), extension='png', scriptname=os.path.basename('.')[:-3], count=plt.get_fignums()[-1])"
   ]
  }
 ],
 "metadata": {
  "jupytext": {
   "encoding": "# -*- coding: utf-8 -*-",
   "executable": "/usr/bin/env python3"
  },
  "kernelspec": {
   "display_name": "Python 3",
   "language": "python",
   "name": "python3"
  }
 },
 "nbformat": 4,
 "nbformat_minor": 4
}
