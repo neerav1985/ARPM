{
 "cells": [
  {
   "cell_type": "markdown",
   "metadata": {},
   "source": [
    "# s_linear_transformations [<img src=\"https://www.arpm.co/lab/icons/icon_permalink.png\" width=30 height=30 style=\"display: inline;\">](https://www.arpm.co/lab/redirect.php?code=s_linear_transformations&codeLang=Python)\n",
    "For details, see [here](https://www.arpm.co/lab/redirect.php?permalink=s_linear_transformations)."
   ]
  },
  {
   "cell_type": "code",
   "execution_count": null,
   "metadata": {},
   "outputs": [],
   "source": [
    "import numpy as np\n",
    "import matplotlib.pyplot as plt\n",
    "\n",
    "from arpym.tools.logo import add_logo"
   ]
  },
  {
   "cell_type": "markdown",
   "metadata": {},
   "source": [
    "## [Input parameters](https://www.arpm.co/lab/redirect.php?permalink=s_linear_transformations-parameters)"
   ]
  },
  {
   "cell_type": "code",
   "execution_count": null,
   "metadata": {},
   "outputs": [],
   "source": [
    "# linear transformations\n",
    "a = np.array([[2, 0.5],\n",
    "              [1, 1]])\n",
    "b = np.array([[1, 0.5],\n",
    "              [2, 1]])\n",
    "\n",
    "# vectors\n",
    "v = np.array([3.0, 1.5])\n",
    "u = np.array([2.5, -2.0])\n",
    "\n",
    "# scalar\n",
    "c = 0.25"
   ]
  },
  {
   "cell_type": "markdown",
   "metadata": {},
   "source": [
    "## [Step 1](https://www.arpm.co/lab/redirect.php?permalink=s_linear_transformations-implementation-step01): Apply transformations"
   ]
  },
  {
   "cell_type": "code",
   "execution_count": null,
   "metadata": {},
   "outputs": [],
   "source": [
    "Av = a@v\n",
    "Au = a@u\n",
    "Bv = b@v\n",
    "Bu = b@u"
   ]
  },
  {
   "cell_type": "markdown",
   "metadata": {},
   "source": [
    "## [Step 2](https://www.arpm.co/lab/redirect.php?permalink=s_linear_transformations-implementation-step02): Test linearity conditions"
   ]
  },
  {
   "cell_type": "code",
   "execution_count": null,
   "metadata": {},
   "outputs": [],
   "source": [
    "# test transformation A\n",
    "A_u_plus_v = a@(u+v)\n",
    "A_cv = a@(c*v)\n",
    "print('A preserves the sum:', np.all(A_u_plus_v==(Au + Av)))\n",
    "print('A preserves scaling:', np.all(A_cv==c*(Av)))\n",
    "\n",
    "# test transformation B\n",
    "B_u_plus_v = b@(u+v)\n",
    "B_cv = b@(c*v)\n",
    "print('B preserves the sum:', np.all(B_u_plus_v==(Bu + Bv)))\n",
    "print('B preserves scaling:', np.all(B_cv==c*(Bv)))"
   ]
  },
  {
   "cell_type": "markdown",
   "metadata": {},
   "source": [
    "## [Step 3](https://www.arpm.co/lab/redirect.php?permalink=s_linear_transformations-implementation-step03): Compose linear transformations"
   ]
  },
  {
   "cell_type": "code",
   "execution_count": null,
   "metadata": {},
   "outputs": [],
   "source": [
    "A_circ_B = a@b"
   ]
  },
  {
   "cell_type": "markdown",
   "metadata": {},
   "source": [
    "## Plots"
   ]
  },
  {
   "cell_type": "code",
   "execution_count": null,
   "metadata": {},
   "outputs": [],
   "source": [
    "plt.style.use('arpm')\n",
    "\n",
    "fig, [ax1, ax2] = plt.subplots(1, 2, figsize=(1280.0/72.0, 720.0/72.0), dpi = 72.0)\n",
    "\n",
    "# transformation A\n",
    "ax1.set_title('Invertible transformation', fontsize=20, fontweight='bold')\n",
    "\n",
    "# v\n",
    "ax1.arrow(0, 0, v[0], v[1], color='C0',\n",
    "         length_includes_head=True,\n",
    "         head_width=0.2)\n",
    "ax1.text(v[0], v[1], r'$\\mathbf{v}$', fontsize=14)\n",
    "# u\n",
    "ax1.arrow(0, 0, u[0], u[1], color='C0',\n",
    "         length_includes_head=True,\n",
    "         head_width=0.2)\n",
    "ax1.text(u[0], u[1], r'$\\mathbf{u}$', fontsize=14)\n",
    "# parallelotope\n",
    "ax1.plot([v[0], (v+u)[0]], [v[1], (v+u)[1]],\n",
    "         color='C0', linestyle='--')\n",
    "ax1.plot([u[0], (v+u)[0]], [u[1], (v+u)[1]],\n",
    "         color='C0', linestyle='--')\n",
    "\n",
    "# Av\n",
    "ax1.arrow(0, 0, Av[0], Av[1], color='darkorange',\n",
    "         length_includes_head=True,\n",
    "         head_width=0.2)\n",
    "ax1.text(Av[0], Av[1],\n",
    "         r'$\\mathcal{A}\\mathbf{v}$', fontsize=14)\n",
    "# Au\n",
    "ax1.arrow(0, 0, Au[0], Au[1], color='darkorange',\n",
    "         length_includes_head=True,\n",
    "         head_width=0.2)\n",
    "ax1.text(Au[0], Au[1], r'$\\mathcal{A}\\mathbf{u}$',\n",
    "         fontsize=14)\n",
    "# parallelotope\n",
    "ax1.plot([Av[0], A_u_plus_v[0]], [Av[1], A_u_plus_v[1]],\n",
    "         color='darkorange', linestyle='--')\n",
    "ax1.plot([Au[0], A_u_plus_v[0]], [Au[1], A_u_plus_v[1]],\n",
    "         color='darkorange', linestyle='--')\n",
    "\n",
    "limval = max(np.abs(B_u_plus_v))\n",
    "ax1.set_xlim([-limval*1.2, limval*1.2])\n",
    "ax1.set_ylim([-limval*1.2, limval*1.2])\n",
    "ax1.axhline(color='black')\n",
    "ax1.axvline(color='black')\n",
    "plt.xticks(fontsize=14)\n",
    "plt.yticks(fontsize=14)\n",
    "\n",
    "# transformation B\n",
    "ax2.set_title('Non-invertible transformation', fontsize=20, fontweight='bold')\n",
    "# v\n",
    "ax2.arrow(0, 0, v[0], v[1], color='C0',\n",
    "         length_includes_head=True,\n",
    "         head_width=0.2)\n",
    "ax2.text(v[0], v[1], r'$\\mathbf{v}$', fontsize=14)\n",
    "# u\n",
    "ax2.arrow(0, 0, u[0], u[1], color='C0',\n",
    "         length_includes_head=True,\n",
    "         head_width=0.2)\n",
    "ax2.text(u[0], u[1], r'$\\mathbf{u}$', fontsize=14)\n",
    "# parallelotope\n",
    "ax2.plot([v[0], (v+u)[0]], [v[1], (v+u)[1]],\n",
    "         color='C0', linestyle='--')\n",
    "ax2.plot([u[0], (v+u)[0]], [u[1], (v+u)[1]],\n",
    "         color='C0', linestyle='--')\n",
    "\n",
    "# Bv\n",
    "ax2.arrow(0, 0, Bv[0], Bv[1], color='darkorange',\n",
    "         length_includes_head=True,\n",
    "         head_width=0.2)\n",
    "ax2.text(Bv[0], Bv[1],\n",
    "         r'$\\mathcal{B}\\mathbf{v}$', fontsize=14)\n",
    "# Bu\n",
    "ax2.arrow(0, 0, Bu[0], Bu[1], color='darkorange',\n",
    "         length_includes_head=True,\n",
    "         head_width=0.2)\n",
    "ax2.text(Bu[0], Bu[1], r'$\\mathcal{B}\\mathbf{u}$',\n",
    "         fontsize=14)\n",
    "# parallelotope\n",
    "ax2.plot([Bv[0], B_u_plus_v[0]], [Bv[1], B_u_plus_v[1]],\n",
    "         color='darkorange', linestyle='--')\n",
    "ax2.plot([Bu[0], B_u_plus_v[0]], [Bu[1], B_u_plus_v[1]],\n",
    "         color='darkorange', linestyle='--')\n",
    "\n",
    "ax2.set_xlim([-limval*1.2, limval*1.2])\n",
    "ax2.set_ylim([-limval*1.2, limval*1.2])\n",
    "ax2.axhline(color='black')\n",
    "ax2.axvline(color='black')\n",
    "plt.xticks(fontsize=14)\n",
    "plt.yticks(fontsize=14)\n",
    "\n",
    "add_logo(fig, set_fig_size=False)\n",
    "plt.tight_layout()"
   ]
  }
 ],
 "metadata": {
  "jupytext": {
   "encoding": "# -*- coding: utf-8 -*-",
   "executable": "/usr/bin/env python3"
  },
  "kernelspec": {
   "display_name": "Python 3",
   "language": "python",
   "name": "python3"
  }
 },
 "nbformat": 4,
 "nbformat_minor": 4
}
