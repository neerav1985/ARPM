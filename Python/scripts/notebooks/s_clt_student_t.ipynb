{
 "cells": [
  {
   "cell_type": "markdown",
   "metadata": {},
   "source": [
    "# s_clt_student_t [<img src=\"https://www.arpm.co/lab/icons/icon_permalink.png\" width=30 height=30 style=\"display: inline;\">](https://www.arpm.co/lab/redirect.php?code=s_clt_student_t&codeLang=Python)\n",
    "For details, see [here](https://www.arpm.co/lab/redirect.php?permalink=eb-2-ex-ind-vs-no-corr)."
   ]
  },
  {
   "cell_type": "code",
   "execution_count": null,
   "metadata": {},
   "outputs": [],
   "source": [
    "import numpy as np\n",
    "from scipy.stats import norm, t\n",
    "import matplotlib.pyplot as plt\n",
    "\n",
    "from arpym.statistics.simulate_t import simulate_t\n",
    "from arpym.tools.histogram_sp import histogram_sp\n",
    "from arpym.tools.logo import add_logo"
   ]
  },
  {
   "cell_type": "markdown",
   "metadata": {},
   "source": [
    "## [Input parameters](https://www.arpm.co/lab/redirect.php?permalink=s_clt_student_t-parameters)"
   ]
  },
  {
   "cell_type": "code",
   "execution_count": null,
   "metadata": {},
   "outputs": [],
   "source": [
    "n_ = 100  # dimension of random variables\n",
    "nu = 5  # degrees of freedom\n",
    "j_ = 10000  # number of scenarios"
   ]
  },
  {
   "cell_type": "markdown",
   "metadata": {},
   "source": [
    "## [Step 1](https://www.arpm.co/lab/redirect.php?permalink=s_clt_student_t-implementation-step01): Generate independent Student t scenarios"
   ]
  },
  {
   "cell_type": "code",
   "execution_count": null,
   "metadata": {},
   "outputs": [],
   "source": [
    "x_tilde = np.zeros((j_, n_))\n",
    "for n in range(n_):\n",
    "    x_tilde[:, n] = simulate_t(0, 1, nu, j_)"
   ]
  },
  {
   "cell_type": "markdown",
   "metadata": {},
   "source": [
    "## [Step 2](https://www.arpm.co/lab/redirect.php?permalink=s_clt_student_t-implementation-step02): Generate joint Student t scenarios"
   ]
  },
  {
   "cell_type": "code",
   "execution_count": null,
   "metadata": {},
   "outputs": [],
   "source": [
    "x = simulate_t(np.zeros(n_), np.eye(n_), nu, j_)"
   ]
  },
  {
   "cell_type": "markdown",
   "metadata": {},
   "source": [
    "## [Step 3](https://www.arpm.co/lab/redirect.php?permalink=s_clt_student_t-implementation-step03): Define sums $Y$ and $\\tilde{Y}$"
   ]
  },
  {
   "cell_type": "code",
   "execution_count": null,
   "metadata": {},
   "outputs": [],
   "source": [
    "# sum of i.i.d Student t random variables\n",
    "y_tilde = np.sum(x_tilde, axis=1)\n",
    "\n",
    "# sum of jointly t random variables\n",
    "y = np.sum(x, axis=1)"
   ]
  },
  {
   "cell_type": "markdown",
   "metadata": {},
   "source": [
    "## [Step 4](https://www.arpm.co/lab/redirect.php?permalink=s_clt_student_t-implementation-step04): Calculate histograms"
   ]
  },
  {
   "cell_type": "code",
   "execution_count": null,
   "metadata": {},
   "outputs": [],
   "source": [
    "# determine appropriate bin centers\n",
    "_, xis = histogram_sp(np.append(y, y_tilde), k_=100)\n",
    "\n",
    "# histogram of sum of i.i.d t random variables\n",
    "f_Y_tilde, _ = histogram_sp(y_tilde, xi=xis)\n",
    "\n",
    "# histogram of sum of jointly t random variables\n",
    "f_Y, _ = histogram_sp(y, xi=xis)"
   ]
  },
  {
   "cell_type": "markdown",
   "metadata": {},
   "source": [
    "## [Step 5](https://www.arpm.co/lab/redirect.php?permalink=s_clt_student_t-implementation-step05): Calculate theoretical pdfs"
   ]
  },
  {
   "cell_type": "code",
   "execution_count": null,
   "metadata": {},
   "outputs": [],
   "source": [
    "# define a grid of points\n",
    "y_grid = np.linspace(-8*np.sqrt(n_*nu/(nu-2)), 8*np.sqrt(n_*nu/(nu-2)), 200)\n",
    "\n",
    "# normal pdf\n",
    "f_N = norm.pdf(y_grid, loc=0, scale = np.sqrt(n_*nu/(nu-2)))\n",
    "\n",
    "# Student t pdf \n",
    "f_t = t.pdf(y_grid, df=nu, loc=0, scale=np.sqrt(n_))"
   ]
  },
  {
   "cell_type": "markdown",
   "metadata": {},
   "source": [
    "## Plots"
   ]
  },
  {
   "cell_type": "code",
   "execution_count": null,
   "metadata": {},
   "outputs": [],
   "source": [
    "plt.style.use('arpm')\n",
    "\n",
    "fig = plt.figure(figsize=(1280.0/72.0, 720.0/72.0), dpi=72.0)\n",
    "\n",
    "# iid Student t scenarios\n",
    "ax1 = fig.add_subplot(2, 1, 1)\n",
    "# histogram of sums\n",
    "ax1.bar(xis, f_Y_tilde, width=xis[1]-xis[0], color='gray',\n",
    "        label=r'$\\{\\tilde{y}^{(j)}\\}_{j=1}^{\\bar{\\jmath}}$')\n",
    "# theoretical pdf (Student t)\n",
    "ax1.plot(y_grid, f_t, color='red', linewidth=1.5)\n",
    "# theoretical pdf (normal)\n",
    "ax1.plot(y_grid, f_N, color='C0', linewidth=1.5)\n",
    "\n",
    "plt.title(r'Distribution of $\\tilde{Y}$, the sum of i.i.d. $t$ random variables',\n",
    "          fontsize=20, fontweight='bold')\n",
    "plt.xticks(fontsize=14)\n",
    "ax1.set_ylim([0, norm.pdf(0, loc=0, scale=np.sqrt(n_*nu/(nu-2)))*1.5])\n",
    "ax1.set_yticks([])\n",
    "ax1.grid(False)\n",
    "\n",
    "# jointly Student t distributed scenarios\n",
    "ax2 = fig.add_subplot(2, 1, 2, sharex=ax1)\n",
    "# histogram of sums\n",
    "ax2.bar(xis, f_Y, width=xis[1]-xis[0], color='lightgray',\n",
    "        label=r'$\\{y^{(j)}\\}_{j=1}^{\\bar{\\jmath}}$')\n",
    "# theoretical pdf (Student t)\n",
    "ax2.plot(y_grid, f_t, color='red', linewidth=1.5,\n",
    "         label=r'$f_{0, \\bar{n}, \\nu}^{\\mathit{t}}$')\n",
    "# theoretical pdf (normal)\n",
    "ax2.plot(y_grid, f_N, color='C0', linewidth=1.5,\n",
    "         label=r'$f_{0, \\frac{\\nu}{\\nu -2} \\bar{n}}^{\\mathit{N}}$')\n",
    "\n",
    "plt.title(r'Distribution of $Y$, the sum of jointly $t$ random variables',\n",
    "          fontsize=20, fontweight='bold')\n",
    "ax2.set_xlim([-8*np.sqrt(n_*nu/(nu-2)), 8*np.sqrt(n_*nu/(nu-2))])\n",
    "ax2.set_ylim([0, norm.pdf(0, loc=0, scale=np.sqrt(n_*nu/(nu-2)))*1.5])\n",
    "ax2.set_yticks([])\n",
    "ax2.grid(False)\n",
    "\n",
    "plt.figlegend(fontsize=17, loc='upper right', bbox_to_anchor=(0.98, 0.93),\n",
    "              borderpad=0.4)\n",
    "add_logo(fig, set_fig_size=False)\n",
    "plt.tight_layout()"
   ]
  }
 ],
 "metadata": {
  "jupytext": {
   "encoding": "# -*- coding: utf-8 -*-",
   "executable": "/usr/bin/env python3"
  },
  "kernelspec": {
   "display_name": "Python 3",
   "language": "python",
   "name": "python3"
  }
 },
 "nbformat": 4,
 "nbformat_minor": 4
}
