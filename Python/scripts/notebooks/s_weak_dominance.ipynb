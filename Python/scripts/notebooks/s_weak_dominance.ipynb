{
 "cells": [
  {
   "cell_type": "markdown",
   "metadata": {},
   "source": [
    "# s_weak_dominance [<img src=\"https://www.arpm.co/lab/icons/icon_permalink.png\" width=30 height=30 style=\"display: inline;\">](https://www.arpm.co/lab/redirect.php?code=s_weak_dominance&codeLang=Python)\n",
    "For details, see [here](https://www.arpm.co/lab/redirect.php?permalink=doc-s_weak_dominance)."
   ]
  },
  {
   "cell_type": "code",
   "execution_count": null,
   "metadata": {},
   "outputs": [],
   "source": [
    "import numpy as np\n",
    "from scipy import stats\n",
    "import matplotlib.pyplot as plt\n",
    "\n",
    "from arpym.statistics.simulate_normal import simulate_normal\n",
    "from arpym.tools.logo import add_logo"
   ]
  },
  {
   "cell_type": "markdown",
   "metadata": {},
   "source": [
    "## [Input parameters](https://www.arpm.co/lab/redirect.php?permalink=s_weak_dominance-parameters)"
   ]
  },
  {
   "cell_type": "code",
   "execution_count": null,
   "metadata": {},
   "outputs": [],
   "source": [
    "mu_ = np.array([1, 0])  # mean vector of jointly normal variables\n",
    "sigma2_ = np.array([[1, 0],\n",
    "                    [0, 1]])  # covariance matrix\n",
    "j_ = 5000  # number of simulations"
   ]
  },
  {
   "cell_type": "markdown",
   "metadata": {},
   "source": [
    "## [Step 1](https://www.arpm.co/lab/redirect.php?permalink=s_weak_dominance-implementation-step01): Calculate marginal cdfs and pdfs"
   ]
  },
  {
   "cell_type": "code",
   "execution_count": null,
   "metadata": {},
   "outputs": [],
   "source": [
    "# get pdf and cdf of X_1 and X_2\n",
    "llim = np.floor(\n",
    "        min(mu_[0]-5*np.sqrt(sigma2_[0, 0]), mu_[1]-5*np.sqrt(sigma2_[1, 1]))\n",
    "        )\n",
    "ulim = np.ceil(\n",
    "        max(mu_[0]+5*np.sqrt(sigma2_[0, 0]), mu_[1]+5*np.sqrt(sigma2_[1, 1]))\n",
    "        )\n",
    "x_grid = np.linspace(llim, ulim, 100)\n",
    "pdf_1 = stats.norm.pdf(x_grid, mu_[0], np.sqrt(sigma2_[0, 0]))\n",
    "pdf_2 = stats.norm.pdf(x_grid, mu_[1], np.sqrt(sigma2_[1, 1]))\n",
    "cdf_1 = stats.norm.cdf(x_grid, mu_[0], np.sqrt(sigma2_[0, 0]))\n",
    "cdf_2 = stats.norm.cdf(x_grid, mu_[1], np.sqrt(sigma2_[1, 1]))"
   ]
  },
  {
   "cell_type": "markdown",
   "metadata": {},
   "source": [
    "## [Step 2](https://www.arpm.co/lab/redirect.php?permalink=s_weak_dominance-implementation-step02): Simulate values from X_1 and apply cdfs"
   ]
  },
  {
   "cell_type": "code",
   "execution_count": null,
   "metadata": {},
   "outputs": [],
   "source": [
    "# simulate scenarios from X_1\n",
    "x = simulate_normal(mu_, sigma2_, j_)\n",
    "x_1 = x[:, 0]\n",
    "\n",
    "# apply marginal cdfs to the samples\n",
    "cdf1_x1 = stats.norm.cdf(x_1, mu_[0], sigma2_[0, 0])\n",
    "cdf2_x1 = stats.norm.cdf(x_1, mu_[1], sigma2_[1, 1])"
   ]
  },
  {
   "cell_type": "markdown",
   "metadata": {},
   "source": [
    "## Plots"
   ]
  },
  {
   "cell_type": "code",
   "execution_count": null,
   "metadata": {},
   "outputs": [],
   "source": [
    "# set figure specifications\n",
    "plt.style.use('arpm')\n",
    "f, ax = plt.subplots(1, 2, figsize=(1280.0/72.0, 720.0/72.0), dpi=72.0)\n",
    "\n",
    "# pdf comparison\n",
    "plt.sca(ax[0])\n",
    "plt.plot(pdf_1, x_grid, lw=2, color='C0', label=r'$f_{X_{1}}(x)$')\n",
    "plt.plot(pdf_2, x_grid, lw=2, color='C3', label=r'$f_{X_{2}}(x)$')\n",
    "plt.xlabel('pdf', fontsize=17)\n",
    "plt.ylabel(r'$x$', fontsize=15, rotation='horizontal')\n",
    "plt.title('pdf comparison', fontsize=20, fontweight='bold')\n",
    "plt.legend(fontsize=17, borderpad=0.5, labelspacing=0.5)\n",
    "ax[0].spines['top'].set_visible(False)\n",
    "ax[0].spines['right'].set_visible(False)\n",
    "\n",
    "# cdf/quantile comparison\n",
    "plt.sca(ax[1])\n",
    "plt.plot(cdf_1, x_grid, lw=2, color='C0', label=r'$F_{X_{1}}(x)$')\n",
    "plt.plot(cdf_2, x_grid, lw=2, color='C3', label=r'$F_{X_{2}}(x)$')\n",
    "plt.xlabel('cdf', fontsize=17)\n",
    "plt.title('cdf/quantile comparison', fontsize=20, fontweight='bold')\n",
    "plt.legend(fontsize=17, borderpad=0.5, labelspacing=0.5)\n",
    "ax[1].spines['top'].set_visible(False)\n",
    "ax[1].spines['right'].set_visible(False)\n",
    "\n",
    "add_logo(f, location=4, set_fig_size=False)\n",
    "plt.tight_layout()\n",
    "plt.show()\n",
    "plt.close(f)\n",
    "\n",
    "# weak dominance in terms of strong dominance\n",
    "\n",
    "# set figure specifications\n",
    "g = plt.figure(1, figsize=(1280.0/72.0, 720.0/72.0), dpi=72.0)\n",
    "ax_scatter = plt.axes([0.225, 0.305, 0.65, 0.65])\n",
    "ax_histx = plt.axes([0.225, 0.1, 0.65, 0.2])\n",
    "ax_histy = plt.axes([0.1, 0.305, 0.12, 0.65])\n",
    "\n",
    "# scatter plot of cdf1_x1 vs cdf2_x1\n",
    "ax_scatter.scatter(cdf1_x1[:200], cdf2_x1[:200], marker='.',\n",
    "                   label=r'cdf transforms applied to sample $\\{x_{1}^{(j)}\\}_{j=1}^{\\bar{j}}\\sim X_{1}$')\n",
    "ax_scatter.plot(range(2), range(2), lw=2, color='black')\n",
    "ax_scatter.legend(loc='upper left', fontsize=17, borderpad=0.5)\n",
    "ax_scatter.set_xticklabels([])\n",
    "ax_scatter.set_yticklabels([])\n",
    "ax_scatter.spines['top'].set_visible(False)\n",
    "ax_scatter.spines['right'].set_visible(False)\n",
    "\n",
    "# histogram of cdf1_x1\n",
    "ax_histx.hist(cdf1_x1, bins=50, density=True, color='lightgray')\n",
    "ax_histx.set_xlabel(r'$F_{X_{1}}(X_{1}) \\sim U[0,1]$', fontsize=17)\n",
    "ax_histx.tick_params(axis='x', which='major', labelsize=14)\n",
    "ax_histx.set_yticklabels([])\n",
    "\n",
    "# histogram of cdf2_x1\n",
    "ax_histy.hist(cdf2_x1, bins=50, density=True, color='lightgray',\n",
    "              orientation='horizontal')\n",
    "ax_histy.set_ylabel(r'$F_{X_{2}}(X_{1}) \\nsim U[0,1]$', fontsize=17)\n",
    "ax_histy.set_xticklabels([])\n",
    "ax_histy.tick_params(axis='y', which='major', labelsize=14)\n",
    "\n",
    "add_logo(g, axis=ax_scatter, location=4, set_fig_size=False)"
   ]
  }
 ],
 "metadata": {
  "jupytext": {
   "encoding": "# -*- coding: utf-8 -*-",
   "executable": "/usr/bin/env python3"
  },
  "kernelspec": {
   "display_name": "Python 3",
   "language": "python",
   "name": "python3"
  }
 },
 "nbformat": 4,
 "nbformat_minor": 4
}
