{
 "cells": [
  {
   "cell_type": "markdown",
   "metadata": {},
   "source": [
    "# S_NumRiskPropagationHeston [<img src=\"https://www.arpm.co/lab/icons/icon_permalink.png\" width=30 height=30 style=\"display: inline;\">](https://www.arpm.co/lab/redirect.php?code=S_NumRiskPropagationHeston&codeLang=Python)\n",
    "For details, see [here](https://www.arpm.co/lab/redirect.php?permalink=eb-heston-num-risk-prop)."
   ]
  },
  {
   "cell_type": "markdown",
   "metadata": {},
   "source": [
    "## Prepare the environment"
   ]
  },
  {
   "cell_type": "code",
   "execution_count": null,
   "metadata": {},
   "outputs": [],
   "source": [
    "import os\n",
    "import os.path as path\n",
    "import sys\n",
    "\n",
    "sys.path.append(path.abspath('../../functions-legacy'))\n",
    "\n",
    "from numpy import arange, zeros, diff, abs, log, exp, sqrt, r_\n",
    "from numpy import sum as npsum\n",
    "\n",
    "from scipy.io import loadmat\n",
    "\n",
    "import matplotlib.pyplot as plt\n",
    "\n",
    "import sympy\n",
    "from sympy import symbols, I\n",
    "\n",
    "plt.style.use('seaborn')\n",
    "\n",
    "from CONFIG import GLOBAL_DB, TEMPORARY_DB\n",
    "from ARPM_utils import struct_to_dict\n",
    "from FPmeancov import FPmeancov\n",
    "from FitCIR_FP import FitCIR_FP\n",
    "from HestonChFun_symb import HestonChFun_symb as HestonChFun"
   ]
  },
  {
   "cell_type": "markdown",
   "metadata": {},
   "source": [
    "## Upload databases"
   ]
  },
  {
   "cell_type": "code",
   "execution_count": null,
   "metadata": {},
   "outputs": [],
   "source": [
    "try:\n",
    "    db = loadmat(os.path.join(GLOBAL_DB, 'db_Stocks'), squeeze_me=True)\n",
    "except FileNotFoundError:\n",
    "    db = loadmat(os.path.join(TEMPORARY_DB, 'db_Stocks'), squeeze_me=True)\n",
    "\n",
    "SPX = struct_to_dict(db['SPX'])"
   ]
  },
  {
   "cell_type": "markdown",
   "metadata": {},
   "source": [
    "## Compute the time series of risk driver"
   ]
  },
  {
   "cell_type": "code",
   "execution_count": null,
   "metadata": {},
   "outputs": [],
   "source": [
    "date = SPX.Date\n",
    "x = log(SPX.Price_close)\n",
    "dx = diff(x)"
   ]
  },
  {
   "cell_type": "markdown",
   "metadata": {},
   "source": [
    "## Estimate realized variance"
   ]
  },
  {
   "cell_type": "code",
   "execution_count": null,
   "metadata": {},
   "outputs": [],
   "source": [
    "s_ = 252  # forward/backward parameter\n",
    "lambda1 = log(2) / 5  # half-life one week\n",
    "p1 = exp(-lambda1*abs(arange(-s_,s_+1))).reshape(1,-1)\n",
    "p1 = p1 / npsum(p1)\n",
    "\n",
    "t_var = len(dx) - 2*s_\n",
    "y = zeros((1, t_var))\n",
    "for s in range(t_var):\n",
    "    dx_temp = dx[s:s + 2*s_+1]\n",
    "    y[0,s] = p1@(dx_temp.T**2) # daily variance\n",
    "\n",
    "dx = dx[s_:s_ + t_var]\n",
    "x = x[s_:s_ + t_var]"
   ]
  },
  {
   "cell_type": "markdown",
   "metadata": {},
   "source": [
    "## Calibrate the CIR process"
   ]
  },
  {
   "cell_type": "code",
   "execution_count": null,
   "metadata": {},
   "outputs": [],
   "source": [
    "t_obs = 252*4  # 4 years\n",
    "lambda2 = log(2) / (21*9)  # half-life 9 months\n",
    "p2 = exp(-lambda2*arange(t_obs, 1 + -1, -1)).reshape(1,-1)\n",
    "p2 = p2 / npsum(p2)\n",
    "\n",
    "delta_t = 1  # fix the unit time-step to 1 day\n",
    "\n",
    "par_CIR = FitCIR_FP(y[0,-t_obs:], delta_t, None, p2)\n",
    "\n",
    "kappa = par_CIR[0]\n",
    "y_ = par_CIR[1]\n",
    "eta = par_CIR[2]"
   ]
  },
  {
   "cell_type": "markdown",
   "metadata": {},
   "source": [
    "## Estimate mu (drift parameter of X) and rho (correlation between Brownian motions)"
   ]
  },
  {
   "cell_type": "code",
   "execution_count": null,
   "metadata": {},
   "outputs": [],
   "source": [
    "dy = diff(y)\n",
    "xy = r_[dx[-t_obs:].reshape(1,-1), dy[:,-t_obs:]]\n",
    "[mu_xy, sigma2_xy] = FPmeancov(xy, p2)  # daily mean vector and covariance matrix\n",
    "\n",
    "mu = mu_xy[0]  # daily mean\n",
    "rho = sigma2_xy[0, 1] / sqrt(sigma2_xy[0, 0]*sigma2_xy[1, 1])  # correlation parameter"
   ]
  },
  {
   "cell_type": "markdown",
   "metadata": {},
   "source": [
    "## Compute analytical variance at horizon tau via characteristic function"
   ]
  },
  {
   "cell_type": "code",
   "execution_count": null,
   "metadata": {},
   "outputs": [],
   "source": [
    "omega, x1, x2, x3, x4, x5, x6, x7, tau = symbols('omega x1 x2 x3 x4 x5 x6 x7 tau')\n",
    "\n",
    "f = HestonChFun(omega / I, x1, x2, x3, x4, x5, x6, x7, tau)\n",
    "mu1 = sympy.diff(f, omega, 1)\n",
    "mu2 = sympy.diff(f, omega, 2)\n",
    "#\n",
    "# # symbolic conditional variance\n",
    "sigma2_tau_sym = mu2.subs([(omega,0)]) - mu1.subs([(omega,0)])**2\n",
    "#\n",
    "# # numerical conditional variance as a function of horizon tau\n",
    "sigma2_tau = sigma2_tau_sym.subs({x1: mu[0], x2: kappa, x3: y_, x4: eta, x5: rho, x6: x[-1], x7: y[0,-1]})"
   ]
  }
 ],
 "metadata": {
  "jupytext": {
   "encoding": "# -*- coding: utf-8 -*-",
   "executable": "/usr/bin/env python3"
  },
  "kernelspec": {
   "display_name": "Python 3",
   "language": "python",
   "name": "python3"
  }
 },
 "nbformat": 4,
 "nbformat_minor": 4
}
