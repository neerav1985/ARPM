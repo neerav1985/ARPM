{
 "cells": [
  {
   "cell_type": "markdown",
   "metadata": {},
   "source": [
    "# s_characteristic_port_rev [<img src=\"https://www.arpm.co/lab/icons/icon_permalink.png\" width=30 height=30 style=\"display: inline;\">](https://www.arpm.co/lab/redirect.php?code=s_characteristic_port_rev&codeLang=Python)\n",
    "For details, see [here](https://www.arpm.co/lab/redirect.php?permalink=eb-mom-signal-copy-1)."
   ]
  },
  {
   "cell_type": "code",
   "execution_count": null,
   "metadata": {},
   "outputs": [],
   "source": [
    "import numpy as np\n",
    "import pandas as pd\n",
    "\n",
    "import matplotlib.pyplot as plt\n",
    "import matplotlib.dates as mdates\n",
    "from pandas.plotting import register_matplotlib_converters\n",
    "register_matplotlib_converters()\n",
    "\n",
    "from arpym.statistics.ewm_meancov import ewm_meancov\n",
    "from arpym.statistics.meancov_sp import meancov_sp\n",
    "from arpym.tools.pca_cov import pca_cov\n",
    "from arpym.tools.logo import add_logo\n",
    "from arpym.portfolio.char_portfolio import char_portfolio"
   ]
  },
  {
   "cell_type": "markdown",
   "metadata": {},
   "source": [
    "## [Input parameters](https://www.arpm.co/lab/redirect.php?permalink=s_characteristic_port_rev-parameters)"
   ]
  },
  {
   "cell_type": "code",
   "execution_count": null,
   "metadata": {},
   "outputs": [],
   "source": [
    "tau_hl = 100  # hl used to estimate (cond.) covariance of instruments\n",
    "tau_hl_lam = 40  # hl used to compute the realized factor premium\n",
    "n_ = 200  # number of instruments"
   ]
  },
  {
   "cell_type": "markdown",
   "metadata": {},
   "source": [
    "## [Step 0](https://www.arpm.co/lab/redirect.php?permalink=s_characteristic_port_rev-implementation-step00): load data"
   ]
  },
  {
   "cell_type": "code",
   "execution_count": null,
   "metadata": {},
   "outputs": [],
   "source": [
    "path = '~/databases/temporary-databases/'\n",
    "s_mom_rk = pd.read_csv(path + 's_mom_rk.csv', index_col=0, parse_dates=True)\n",
    "dates = pd.to_datetime(s_mom_rk.index).date\n",
    "s_mom_rk = np.array(s_mom_rk)\n",
    "path = '~/databases/global-databases/strategies/db_strategies/'\n",
    "v = pd.read_csv(path + 'last_price.csv', index_col=0, parse_dates=True)\n",
    "v = np.array(v)\n",
    "v = v[:, :n_]\n",
    "t_ = s_mom_rk.shape[0]"
   ]
  },
  {
   "cell_type": "markdown",
   "metadata": {},
   "source": [
    "## [Step 1](https://www.arpm.co/lab/redirect.php?permalink=s_characteristic_port_rev-implementation-step01): reversal momentum signal"
   ]
  },
  {
   "cell_type": "code",
   "execution_count": null,
   "metadata": {},
   "outputs": [],
   "source": [
    "s = -s_mom_rk[:, :n_]"
   ]
  },
  {
   "cell_type": "markdown",
   "metadata": {},
   "source": [
    "## [Step 2](https://www.arpm.co/lab/redirect.php?permalink=s_characteristic_port_rev-implementation-step02): (conditioned) covariance matrix of risk drivers"
   ]
  },
  {
   "cell_type": "code",
   "execution_count": null,
   "metadata": {},
   "outputs": [],
   "source": [
    "sig2_pl = np.zeros((t_, n_, n_))\n",
    "sig_vol_hat_x = np.zeros((t_, n_))\n",
    "\n",
    "for t in np.arange(0, t_):\n",
    "    w_shift = 252*2  # rolling window\n",
    "    # shrinked (conditioned) covariance matrix of risk drivers\n",
    "    epsi = np.diff(np.log(v[t:t + w_shift, :]), axis=0)\n",
    "    _, sig2_hat_x = ewm_meancov(epsi, tau_hl)\n",
    "    sig_vol_hat_x[t, :] = np.sqrt(np.diag(sig2_hat_x))\n",
    "\n",
    "    # (conditioned) covariance matrix of P&L via Taylor approximation\n",
    "    delta = np.diag(v[t + w_shift, :])\n",
    "    sig2_pl[t, :, :] = delta @ sig2_hat_x @ delta.T"
   ]
  },
  {
   "cell_type": "markdown",
   "metadata": {},
   "source": [
    "## [Step 3](https://www.arpm.co/lab/redirect.php?permalink=s_characteristic_port_rev-implementation-step03): signal characteristics"
   ]
  },
  {
   "cell_type": "code",
   "execution_count": null,
   "metadata": {},
   "outputs": [],
   "source": [
    "beta = np.zeros((t_, n_))\n",
    "\n",
    "for t in np.arange(0, t_):\n",
    "    beta[t, :] = v[t + w_shift, :] * sig_vol_hat_x[t, :] * \\\n",
    "                          s[t, :]"
   ]
  },
  {
   "cell_type": "markdown",
   "metadata": {},
   "source": [
    "## [Step 4](https://www.arpm.co/lab/redirect.php?permalink=s_characteristic_port_rev-implementation-step04): characteristic portfolio and realized portfolio P&L"
   ]
  },
  {
   "cell_type": "code",
   "execution_count": null,
   "metadata": {},
   "outputs": [],
   "source": [
    "h_char = np.zeros((t_, n_))\n",
    "\n",
    "for t in np.arange(0, t_):\n",
    "    h_char[t, :] = char_portfolio(beta[[t], :].T, sig2_pl[t, :, :]).T"
   ]
  },
  {
   "cell_type": "markdown",
   "metadata": {},
   "source": [
    "## [Step 5](https://www.arpm.co/lab/redirect.php?permalink=s_characteristic_port_rev-implementation-step05): realized characteristics portfolio P&L and its st dev"
   ]
  },
  {
   "cell_type": "code",
   "execution_count": null,
   "metadata": {},
   "outputs": [],
   "source": [
    "z_char = np.zeros(t_)\n",
    "sig2_pl_h_real = np.zeros(t_)\n",
    "pl_real = v[1:, :] - v[:-1, :]\n",
    "\n",
    "for t in np.arange(0, t_):\n",
    "    z_char[t] = h_char[t, :].T @ \\\n",
    "        pl_real[t - 1, :]\n",
    "    sig2_pl_h_real[t] = h_char[t, :].T @ \\\n",
    "        sig2_pl[t, :, :] @ \\\n",
    "        h_char[t, :]"
   ]
  },
  {
   "cell_type": "markdown",
   "metadata": {},
   "source": [
    "## [Step 6](https://www.arpm.co/lab/redirect.php?permalink=s_characteristic_port_rev-implementation-step06): realized factor premium"
   ]
  },
  {
   "cell_type": "code",
   "execution_count": null,
   "metadata": {},
   "outputs": [],
   "source": [
    "lambda_hat = np.zeros(t_)\n",
    "for t in range(0, t_):\n",
    "    lambda_hat[t], _ = ewm_meancov(z_char[:t + 1], tau_hl_lam)"
   ]
  },
  {
   "cell_type": "markdown",
   "metadata": {},
   "source": [
    "## [Step 7](https://www.arpm.co/lab/redirect.php?permalink=s_characteristic_port_rev-implementation-step07): return vs expected returns, symm. regression line"
   ]
  },
  {
   "cell_type": "code",
   "execution_count": null,
   "metadata": {},
   "outputs": [],
   "source": [
    "exp_ret = lambda_hat[-1] * beta[-1, :] / v[-2, :]\n",
    "real_ret = pl_real[-1, :] / v[-2, :]\n",
    "\n",
    "# symmetric regression\n",
    "exp_real = np.concatenate((exp_ret.reshape(-1, 1), real_ret.reshape(-1, 1)),\n",
    "                          axis=1)\n",
    "mu_exp_real, sig2_exp_real = meancov_sp(exp_real)\n",
    "e, l = pca_cov(sig2_exp_real)\n",
    "mu_real = mu_exp_real[1]\n",
    "mu_exp = mu_exp_real[0]\n",
    "beta_sym = -e[1, 1] / e[0, 1]\n",
    "alpha_sym = mu_exp - beta_sym*mu_real\n",
    "x = 2 * np.arange(-10, 11) / 10\n",
    "y = beta_sym * x + alpha_sym"
   ]
  },
  {
   "cell_type": "markdown",
   "metadata": {},
   "source": [
    "## Save characteristics portfolios"
   ]
  },
  {
   "cell_type": "code",
   "execution_count": null,
   "metadata": {},
   "outputs": [],
   "source": [
    "output = {'w_shift': pd.Series(w_shift),\n",
    "          'h_char': pd.Series(h_char.reshape(t_ * n_)),\n",
    "          'n_': pd.Series(n_)\n",
    "          }\n",
    "df = pd.DataFrame(output)\n",
    "df.to_csv('~/databases/temporary-databases/db_char_port.csv',\n",
    "          index=None)"
   ]
  },
  {
   "cell_type": "markdown",
   "metadata": {},
   "source": [
    "## Plots"
   ]
  },
  {
   "cell_type": "code",
   "execution_count": null,
   "metadata": {},
   "outputs": [],
   "source": [
    "grid_dates = np.round(np.linspace(0, len(dates)-1, 5))\n",
    "\n",
    "plt.style.use('arpm')\n",
    "\n",
    "# P&L plot\n",
    "fig, ax1 = plt.subplots(1, 1)\n",
    "ax2 = ax1.twinx()\n",
    "ax1.set_ylabel('Cum P&L', color='b')\n",
    "ax2.set_ylabel('P&L', color='r')\n",
    "ax2.scatter(dates, z_char, color='r', linewidth=0, marker='.')\n",
    "ax2.plot(dates, np.mean(z_char) + 2 * np.sqrt(sig2_pl_h_real), color='k')\n",
    "ax2.plot(dates, np.mean(z_char) - 2 * np.sqrt(sig2_pl_h_real), color='k')\n",
    "\n",
    "# cumulative P&L\n",
    "cumpl = np.cumsum(z_char)\n",
    "ax1.plot(dates, np.cumsum(z_char), color='b', lw=1.5)\n",
    "ax1.axis([min(dates), max(dates), np.min(cumpl), np.max(cumpl)])\n",
    "plt.title('Characteristic portfolio')\n",
    "plt.xticks(dates[grid_dates.astype(int)])\n",
    "fmt = mdates.DateFormatter('%d-%b-%y')\n",
    "plt.gca().xaxis.set_major_formatter(fmt)\n",
    "\n",
    "add_logo(fig)\n",
    "plt.tight_layout()\n",
    "\n",
    "# expected returns vs realized returns\n",
    "max_abs_ret = max(abs(np.percentile(real_ret, 100 * 0.05)),\n",
    "                  abs(np.percentile(real_ret, 100 * 0.95)))\n",
    "\n",
    "fig = plt.figure()\n",
    "plt.plot(exp_ret, real_ret, 'b.')\n",
    "plt.axis([np.min(exp_ret), np.max(exp_ret), -max_abs_ret, max_abs_ret])\n",
    "plt.plot(x, y, 'r')\n",
    "plt.xlabel('Expected returns')\n",
    "plt.ylabel('Realized returns')\n",
    "\n",
    "add_logo(fig)\n",
    "plt.tight_layout()\n",
    "\n",
    "# signal\n",
    "yy = np.linspace(1, n_, 5)\n",
    "stock_tick = np.round(yy)\n",
    "signal, idx = np.sort(s[-1, :]), np.argsort(s[-1, :])\n",
    "max_abs_signal = max(abs(min(signal)), abs(max(signal)))\n",
    "\n",
    "fig = plt.figure()\n",
    "plt.bar(range(1, len(signal)+1), signal)\n",
    "plt.ylabel('Signals')\n",
    "plt.axis([0, exp_ret.shape[0] + 1, -max_abs_signal, max_abs_signal])\n",
    "plt.xticks(stock_tick)\n",
    "\n",
    "add_logo(fig)\n",
    "plt.tight_layout()\n",
    "\n",
    "# exposures plot (sorted wrt the signals)\n",
    "dollar_wghts = h_char[-1] * v[-2, :]\n",
    "\n",
    "max_abs_dw = max(abs(min(dollar_wghts)), abs(max(dollar_wghts)))\n",
    "\n",
    "fig = plt.figure()\n",
    "plt.bar(range(1, len(dollar_wghts[idx])+1), dollar_wghts[idx])\n",
    "plt.ylabel('Dollar weights')\n",
    "plt.axis([0, exp_ret.shape[0] + 1, -max_abs_dw, max_abs_dw])\n",
    "plt.xticks(stock_tick)\n",
    "\n",
    "add_logo(fig)\n",
    "plt.tight_layout()\n",
    "\n",
    "# premium\n",
    "fig = plt.figure()\n",
    "plt.plot(dates, lambda_hat, color='b')\n",
    "plt.axis([min(dates), max(dates), np.nanmin(lambda_hat),\n",
    "          np.nanmax(lambda_hat)])\n",
    "plt.ylabel('Factor premium')\n",
    "plt.xticks(dates[grid_dates.astype(int)])\n",
    "myFmt = mdates.DateFormatter('%d-%b-%y')\n",
    "plt.gca().xaxis.set_major_formatter(myFmt)\n",
    "\n",
    "add_logo(fig)\n",
    "plt.tight_layout()"
   ]
  }
 ],
 "metadata": {
  "jupytext": {
   "encoding": "# -*- coding: utf-8 -*-",
   "executable": "/usr/bin/env python3"
  },
  "kernelspec": {
   "display_name": "Python 3",
   "language": "python",
   "name": "python3"
  }
 },
 "nbformat": 4,
 "nbformat_minor": 4
}
