{
 "cells": [
  {
   "cell_type": "markdown",
   "metadata": {},
   "source": [
    "# s_price_pred_signal [<img src=\"https://www.arpm.co/lab/icons/icon_permalink.png\" width=30 height=30 style=\"display: inline;\">](https://www.arpm.co/lab/redirect.php?code=s_price_pred_signal&codeLang=Python)\n",
    "For details, see [here](https://www.arpm.co/lab/redirect.php?permalink=eb-signals-mark-to-market-value)."
   ]
  },
  {
   "cell_type": "code",
   "execution_count": null,
   "metadata": {},
   "outputs": [],
   "source": [
    "import numpy as np\n",
    "import pandas as pd\n",
    "import matplotlib.pyplot as plt\n",
    "from matplotlib.ticker import FormatStrFormatter\n",
    "\n",
    "from arpym.tools.trade_quote_processing import trade_quote_processing\n",
    "from arpym.tools.logo import add_logo\n",
    "from arpym.statistics.ewm_meancov import ewm_meancov"
   ]
  },
  {
   "cell_type": "markdown",
   "metadata": {},
   "source": [
    "## [Input parameters](https://www.arpm.co/lab/redirect.php?permalink=s_price_pred_signal-parameters)"
   ]
  },
  {
   "cell_type": "code",
   "execution_count": null,
   "metadata": {},
   "outputs": [],
   "source": [
    "k_0 = 208  # index of the first trade within the time window\n",
    "k_1 = 404  # index of the last trade within the time window\n",
    "tau_hl = 5  # decay rate\n",
    "w = 10  # trailing window"
   ]
  },
  {
   "cell_type": "markdown",
   "metadata": {},
   "source": [
    "## [Step 0](https://www.arpm.co/lab/redirect.php?permalink=s_price_pred_signal-implementation-step00): Load data"
   ]
  },
  {
   "cell_type": "code",
   "execution_count": null,
   "metadata": {},
   "outputs": [],
   "source": [
    "path = '~/databases/global-databases/high-frequency/' + \\\n",
    "    'db_US_10yr_Future_quotestrades/'\n",
    "quotes = pd.read_csv(path + 'quotes.csv', index_col=0, parse_dates=True)\n",
    "trades = pd.read_csv(path + 'trades.csv', index_col=0, parse_dates=True)\n",
    "\n",
    "dates_quotes = pd.to_datetime(quotes.index).date\n",
    "# time vector of quotes\n",
    "t = np.array(list(map(lambda x: x.timestamp(), pd.to_datetime(quotes.index))))\n",
    "p_bid = np.array(quotes.loc[:, 'bid'])  # best bids\n",
    "p_ask = np.array(quotes.loc[:, 'ask'])  # best asks\n",
    "q_bid = np.array(quotes.loc[:, 'bsiz'])  # bid sizes\n",
    "q_ask = np.array(quotes.loc[:, 'asiz'])  # ask sizes\n",
    "\n",
    "dates_trades = pd.to_datetime(trades.index).date\n",
    "# time vector of trades\n",
    "t_k = np.array(list(map(lambda x: x.timestamp(),\n",
    "                        pd.to_datetime(trades.index))))\n",
    "p_last = np.array(trades.loc[:, 'price'])  # last transaction values\n",
    "delta_q = np.array(trades.loc[:, 'siz'])  # flow of traded contracts' sizes\n",
    "delta_sgn = np.array(trades.loc[:, 'aggress'])  # trade sign flow\n",
    "match = np.array(trades.loc[:, 'mtch'])  # match events"
   ]
  },
  {
   "cell_type": "markdown",
   "metadata": {},
   "source": [
    "## [Step 1](https://www.arpm.co/lab/redirect.php?permalink=s_price_pred_signal-implementation-step01): Process the database"
   ]
  },
  {
   "cell_type": "code",
   "execution_count": null,
   "metadata": {},
   "outputs": [],
   "source": [
    "t, _, q_ask, p_ask, q_bid, p_bid, t_k, _, p_last, delta_q, _,\\\n",
    "       _ = trade_quote_processing(t, dates_quotes, q_ask, p_ask, q_bid,\n",
    "                                  p_bid, t_k, dates_trades, p_last, delta_q,\n",
    "                                  delta_sgn, match)"
   ]
  },
  {
   "cell_type": "markdown",
   "metadata": {},
   "source": [
    "## [Step 2](https://www.arpm.co/lab/redirect.php?permalink=s_price_pred_signal-implementation-step02): Compute the traded price, the bid/ask prices, the bid/ask sizes and the microprice"
   ]
  },
  {
   "cell_type": "code",
   "execution_count": null,
   "metadata": {},
   "outputs": [],
   "source": [
    "tick_time = np.arange(len(p_last[k_0:k_1+1]))\n",
    "i_ = len(tick_time)\n",
    "# last transaction value within the time window as a function of tick time\n",
    "p_last_k = p_last[k_0:k_1+1]  # traded price\n",
    "\n",
    "# indexes of bid/ask prices near to the traded prices\n",
    "ti = np.zeros(i_, dtype=int)\n",
    "for i in range(i_):\n",
    "    ti[i] = np.where(t <= t_k[k_0+i])[0][-1]\n",
    "\n",
    "p_ask = p_ask[ti]  # ask price in tick time\n",
    "p_bid = p_bid[ti]  # bid price in tick time\n",
    "q_bid = q_bid[ti]\n",
    "q_ask = q_ask[ti]\n",
    "# microprice in tick time\n",
    "p_mic = (p_bid * q_ask+p_ask * q_bid) / (q_ask+q_bid)"
   ]
  },
  {
   "cell_type": "markdown",
   "metadata": {},
   "source": [
    "## [Step 3](https://www.arpm.co/lab/redirect.php?permalink=s_price_pred_signal-implementation-step03): Compute the decay rate, the price perdiction signal and the mid-price"
   ]
  },
  {
   "cell_type": "code",
   "execution_count": null,
   "metadata": {},
   "outputs": [],
   "source": [
    "average_price = np.zeros((i_,))\n",
    "ewma1 = np.zeros(i_)\n",
    "ewma2 = np.zeros(i_)\n",
    "dollar_volume = 0\n",
    "volume = 0\n",
    "\n",
    "for i in range(i_):\n",
    "    ewma1[i] = ewm_meancov(\n",
    "            p_last[k_0-w+i+1:k_0+i+1]*delta_q[k_0-w+i+1:k_0+i+1], tau_hl)[0]\n",
    "    ewma2[i] = ewm_meancov(delta_q[k_0-w+i+1:k_0+i+1], tau_hl)[0]\n",
    "    dollar_volume = dollar_volume + p_last_k[i] * delta_q[k_0:k_1+1][i]\n",
    "    volume = volume + delta_q[k_0:k_1+1][i]\n",
    "    average_price[i] = dollar_volume / volume\n",
    "\n",
    "s_price_pred = ewma1 / ewma2\n",
    "threshold = np.mean(average_price)"
   ]
  },
  {
   "cell_type": "markdown",
   "metadata": {},
   "source": [
    "## Plots"
   ]
  },
  {
   "cell_type": "code",
   "execution_count": null,
   "metadata": {},
   "outputs": [],
   "source": [
    "plt.style.use('arpm')\n",
    "\n",
    "# colors\n",
    "lgray = [0.8, 0.8, 0.8]\n",
    "orange = [0.93, 0.4, 0]\n",
    "q_bid_res = p_bid-q_bid / 450000  # q_bid rescaled\n",
    "q_ask_res = p_ask+q_ask / 450000  # q_ask rescaled\n",
    "\n",
    "# axes settings\n",
    "xtick = np.linspace(tick_time[0], tick_time[-1], 8, dtype=int)\n",
    "ymax_1 = np.max(q_ask_res) + 0.001\n",
    "ymin_1 = np.min(q_bid_res) - 0.001\n",
    "ytick_1 = np.linspace(ymin_1, ymax_1, 5)\n",
    "\n",
    "fig = plt.figure()\n",
    "\n",
    "plt.axis([np.min(tick_time), np.max(tick_time), ymin_1, ymax_1])\n",
    "plt.xticks(xtick)\n",
    "plt.yticks(ytick_1)\n",
    "plt.plot(tick_time, q_bid_res, color=lgray)\n",
    "p0 = plt.plot(tick_time, q_ask_res, color=lgray,\n",
    "              label='bid/ask price and size')\n",
    "p2 = plt.plot(tick_time, p_mic, color=orange, label='microprice')\n",
    "p5 = plt.plot(tick_time, average_price, color='c', label='average price')\n",
    "\n",
    "for i in range(i_):\n",
    "    plt.plot([tick_time[i], tick_time[i]], [q_bid_res[i], p_bid[i]],\n",
    "             color=lgray, lw=3)\n",
    "    plt.plot([tick_time[i], tick_time[i]], [p_ask[i], q_ask_res[i]],\n",
    "             color=lgray, lw=3)\n",
    "p3 = plt.plot([tick_time[:i_], tick_time[:i_]],\n",
    "              [p_last_k[:i_], p_last_k[:i_]], markersize=3, color='b',\n",
    "              marker='.', label='traded price')\n",
    "p4 = plt.plot([tick_time[:i_], tick_time[:i_]],\n",
    "              [s_price_pred[:i_], s_price_pred[:i_]], markersize=3, color='k',\n",
    "              marker='.', label='signal')\n",
    "\n",
    "plt.gca().yaxis.set_major_formatter(FormatStrFormatter('%.4f'))\n",
    "\n",
    "plt.legend(handles=[p0[0], p5[0], p2[0], p3[0], p4[0]])\n",
    "\n",
    "plt.ylabel('Price')\n",
    "plt.xlabel('Tick time')\n",
    "plt.title('Mark-to-market price signal for US 10yr Future')\n",
    "plt.grid(True)\n",
    "\n",
    "add_logo(fig, location=9)\n",
    "plt.tight_layout()"
   ]
  }
 ],
 "metadata": {
  "jupytext": {
   "encoding": "# -*- coding: utf-8 -*-",
   "executable": "/usr/bin/env python3"
  },
  "kernelspec": {
   "display_name": "Python 3",
   "language": "python",
   "name": "python3"
  }
 },
 "nbformat": 4,
 "nbformat_minor": 4
}
