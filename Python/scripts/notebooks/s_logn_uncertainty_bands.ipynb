{
 "cells": [
  {
   "cell_type": "markdown",
   "metadata": {},
   "source": [
    "# s_logn_uncertainty_bands [<img src=\"https://www.arpm.co/lab/icons/icon_permalink.png\" width=30 height=30 style=\"display: inline;\">](https://www.arpm.co/lab/redirect.php?code=s_logn_uncertainty_bands&codeLang=Python)\n",
    "For details, see [here](https://www.arpm.co/lab/redirect.php?permalink=s_logn_uncertainty_bands)."
   ]
  },
  {
   "cell_type": "code",
   "execution_count": null,
   "metadata": {},
   "outputs": [],
   "source": [
    "import numpy as np\n",
    "from scipy import stats\n",
    "import matplotlib.pyplot as plt\n",
    "\n",
    "from arpym.tools.logo import add_logo"
   ]
  },
  {
   "cell_type": "markdown",
   "metadata": {},
   "source": [
    "## [Input parameters](https://www.arpm.co/lab/redirect.php?permalink=s_logn_uncertainty_bands-parameters)"
   ]
  },
  {
   "cell_type": "code",
   "execution_count": null,
   "metadata": {},
   "outputs": [],
   "source": [
    "mu = 1  # parameters of lognormal\n",
    "sigma2 = 0.5\n",
    "r_1 = 1  # radius\n",
    "r_2 = 1.5\n",
    "x_grid = np.linspace(stats.lognorm.ppf(0.001, np.sqrt(sigma2), loc=mu),\n",
    "                     stats.lognorm.ppf(0.999, np.sqrt(sigma2), loc=mu), 100)  # evaluation points"
   ]
  },
  {
   "cell_type": "markdown",
   "metadata": {},
   "source": [
    "## [Step 1](https://www.arpm.co/lab/redirect.php?permalink=s_logn_uncertainty_bands-implementation-step01): Compute expectation, standard deviation, and uncertainty bands"
   ]
  },
  {
   "cell_type": "code",
   "execution_count": null,
   "metadata": {},
   "outputs": [],
   "source": [
    "exp_x = np.exp(mu + 0.5*sigma2)  # expectation\n",
    "v_x = (exp_x**2) * (np.exp(sigma2)-1)\n",
    "std_x = np.sqrt(v_x)  # standard deviation\n",
    "u_x_r_1 = [exp_x-r_1*std_x, exp_x+r_1*std_x]  # uncertainty bands\n",
    "u_x_r_2 = [exp_x-r_2*std_x, exp_x+r_2*std_x]"
   ]
  },
  {
   "cell_type": "markdown",
   "metadata": {},
   "source": [
    "## [Step 2](https://www.arpm.co/lab/redirect.php?permalink=s_logn_uncertainty_bands-implementation-step02): Compute the pdf for a grid of evaluation points"
   ]
  },
  {
   "cell_type": "code",
   "execution_count": null,
   "metadata": {},
   "outputs": [],
   "source": [
    "pdf = stats.lognorm.pdf(x_grid, np.sqrt(sigma2), loc=mu)"
   ]
  },
  {
   "cell_type": "markdown",
   "metadata": {},
   "source": [
    "## Plots"
   ]
  },
  {
   "cell_type": "code",
   "execution_count": null,
   "metadata": {},
   "outputs": [],
   "source": [
    "plt.style.use('arpm')\n",
    "fig = plt.figure(figsize=(1280/72, 720/72), dpi=72)\n",
    "\n",
    "# pdf\n",
    "plt.plot(x_grid, pdf, 'k')\n",
    "\n",
    "# uncertainty bands\n",
    "plt.plot(np.linspace(min(u_x_r_1[0], u_x_r_2[0]),\n",
    "                          max(u_x_r_1[1], u_x_r_2[1]), 10),\n",
    "              np.zeros(10), 'g-', lw=5,\n",
    "              label='Uncertainty band r = %.1f' %max(r_1, r_2))\n",
    "\n",
    "plt.plot(np.linspace(max(u_x_r_1[0], u_x_r_2[0]),\n",
    "                          min(u_x_r_1[1], u_x_r_2[1]), 10),\n",
    "              np.zeros(10), 'b-', lw=7, label='Uncertainty band r = %.1f' %min(r_1, r_2))\n",
    "\n",
    "# expectation\n",
    "plt.plot(exp_x, 0, 'r.', ms=11, label='Expectation')\n",
    "\n",
    "plt.legend(prop={'size': 17})\n",
    "plt.title('Lognormal distribution: uncertainty bands', fontweight='bold', fontsize=20)\n",
    "add_logo(fig, location=4, size_frac_x=1/16, set_fig_size=False)\n",
    "plt.tight_layout()"
   ]
  }
 ],
 "metadata": {
  "kernelspec": {
   "display_name": "Python 3",
   "language": "python",
   "name": "python3"
  }
 },
 "nbformat": 4,
 "nbformat_minor": 4
}
