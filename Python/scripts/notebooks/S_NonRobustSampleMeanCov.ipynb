{
 "cells": [
  {
   "cell_type": "markdown",
   "metadata": {},
   "source": [
    "# S_NonRobustSampleMeanCov [<img src=\"https://www.arpm.co/lab/icons/icon_permalink.png\" width=30 height=30 style=\"display: inline;\">](https://www.arpm.co/lab/redirect.php?code=S_NonRobustSampleMeanCov&codeLang=Python)\n",
    "For details, see [here](https://www.arpm.co/lab/redirect.php?permalink=ExerSampleMeanCovRob)."
   ]
  },
  {
   "cell_type": "markdown",
   "metadata": {},
   "source": [
    "## Prepare the environment"
   ]
  },
  {
   "cell_type": "code",
   "execution_count": null,
   "metadata": {},
   "outputs": [],
   "source": [
    "import os\n",
    "import os.path as path\n",
    "import sys\n",
    "\n",
    "sys.path.append(path.abspath('../../functions-legacy'))\n",
    "\n",
    "from numpy import array, zeros, cov, mean, r_\n",
    "\n",
    "from scipy.io import loadmat\n",
    "\n",
    "import matplotlib.pyplot as plt\n",
    "from matplotlib.pyplot import figure, plot, legend, xlim, ylim, ylabel, \\\n",
    "    xlabel\n",
    "\n",
    "plt.style.use('seaborn')\n",
    "\n",
    "from CONFIG import GLOBAL_DB, TEMPORARY_DB\n",
    "from ARPM_utils import save_plot, struct_to_dict\n",
    "from PlotTwoDimEllipsoid import PlotTwoDimEllipsoid\n",
    "from Price2AdjustedPrice import Price2AdjustedPrice\n",
    "from GarchResiduals import GarchResiduals"
   ]
  },
  {
   "cell_type": "markdown",
   "metadata": {},
   "source": [
    "## Upload the database"
   ]
  },
  {
   "cell_type": "code",
   "execution_count": null,
   "metadata": {},
   "outputs": [],
   "source": [
    "try:\n",
    "    db = loadmat(os.path.join(GLOBAL_DB, 'db_Stocks'), squeeze_me=True)\n",
    "except FileNotFoundError:\n",
    "    db = loadmat(os.path.join(TEMPORARY_DB, 'db_Stocks'), squeeze_me=True)\n",
    "\n",
    "StocksSPX = struct_to_dict(db['StocksSPX'])"
   ]
  },
  {
   "cell_type": "markdown",
   "metadata": {},
   "source": [
    "## Compute the dividend-adjusted returns of two stocks"
   ]
  },
  {
   "cell_type": "code",
   "execution_count": null,
   "metadata": {},
   "outputs": [],
   "source": [
    "t_ = 100\n",
    "_, x_1 = Price2AdjustedPrice(StocksSPX.Date.reshape(1,-1), StocksSPX.Prices[[25],:], StocksSPX.Dividends[25])  # Cisco Systems Inc returns\n",
    "_, x_2 = Price2AdjustedPrice(StocksSPX.Date.reshape(1,-1), StocksSPX.Prices[[5],:], StocksSPX.Dividends[5])  # General Electric returns\n",
    "date = StocksSPX.Date[1:]\n",
    "\n",
    "x_1 = x_1[[0],-t_:]\n",
    "x_2 = x_2[[0],-t_:]\n",
    "date = date[-t_:]"
   ]
  },
  {
   "cell_type": "markdown",
   "metadata": {},
   "source": [
    "## Compute the invariants using GARCH(1,1) fit"
   ]
  },
  {
   "cell_type": "code",
   "execution_count": null,
   "metadata": {},
   "outputs": [],
   "source": [
    "epsi = zeros((2,t_))\n",
    "\n",
    "# epsi = GarchResiduals([x_1x_2])\n",
    "epsi[0] = GarchResiduals(x_1)\n",
    "epsi[1] = GarchResiduals(x_2, p0=[0, 0.1, 0.7])\n",
    "\n",
    "mu_hist = mean(epsi, 1,keepdims=True)\n",
    "sigma2_hist = cov(epsi)"
   ]
  },
  {
   "cell_type": "markdown",
   "metadata": {},
   "source": [
    "## Inclusion of additional observations within the dataset computation of perturbed sample mean and covariance"
   ]
  },
  {
   "cell_type": "code",
   "execution_count": null,
   "metadata": {},
   "outputs": [],
   "source": [
    "y_1 = array([[max(epsi[0]),max(epsi[1])]]).T # first additional observation\n",
    "y_2 = array([[max(epsi[0]),min(epsi[1])]]).T  # second additional observation\n",
    "y_3 = array([[min(epsi[0]),min(epsi[1])]]).T  # third additional observation\n",
    "y_4 = array([[min(epsi[0]),max(epsi[1])]]).T  # fourth additional observation\n",
    "y = r_['-1',y_1, y_2, y_3, y_4]  # vector containing additional observations\n",
    "k_ = y.shape[1]\n",
    "\n",
    "epsi_y = zeros((2, t_ + 1, k_))  # dataset with additional observation\n",
    "mu_y = zeros((2, k_))  # sample mean perturbed by additonal observation\n",
    "sigma2_y = zeros((2, 2, k_))  # sample covariance perturbed by additional observation\n",
    "for k in range(k_):\n",
    "    epsi_y[:,:,k] = r_['-1',epsi, y[:,[k]]]\n",
    "    mu_y[:,k] = mean(epsi_y[:,:,k], 1)\n",
    "    sigma2_y[:,:,k] = cov(epsi_y[:,:,k])"
   ]
  },
  {
   "cell_type": "markdown",
   "metadata": {},
   "source": [
    "## Generate figures comparing the historical ellipsoid with the ellipsoid defined by perturbed data"
   ]
  },
  {
   "cell_type": "code",
   "execution_count": null,
   "metadata": {
    "lines_to_next_cell": 2
   },
   "outputs": [],
   "source": [
    "for k in range(k_):\n",
    "    figure()\n",
    "    # scatter plot with ellipsoid superimposed\n",
    "    o_1 = plot(epsi_y[0, :-1, k], epsi_y[1, : -1, k], markersize=5,color=[0.4, 0.4,0.4], marker='.',linestyle='none')\n",
    "\n",
    "    o_2 = plot(epsi_y[0, -1, k], epsi_y[1, -1, k], markersize= 8, color='r',marker='.',linestyle='none')\n",
    "    xlim([y_3[0] - 0.3, y_1[0] + 0.3])\n",
    "    ylim([y_3[1] - 0.3, y_1[1] + 0.3])\n",
    "    xlabel('$\\epsilon_1$')\n",
    "    ylabel('$\\epsilon_2$')\n",
    "    ell_1 = PlotTwoDimEllipsoid(mu_hist, sigma2_hist, 1, 0, 0, 'b', 1.5)  # historical ellipsoid\n",
    "    ell_2 = PlotTwoDimEllipsoid(mu_y[:,[k]], sigma2_y[:,:,k], 1, 0, 0, 'r', 1.5)  # perturbed ellipsoid\n",
    "\n",
    "    # leg\n",
    "    leg = legend(handles=[o_1[0],ell_1[0][0],o_2[0],ell_2[0][0]],labels=['historical observations','historical ellipsoid','additional observation','ellipsoid with additional observation']);\n",
    "    # save_plot(ax=plt.gca(), extension='png', scriptname=os.path.basename('.')[:-3], count=plt.get_fignums()[-1])"
   ]
  }
 ],
 "metadata": {
  "jupytext": {
   "encoding": "# -*- coding: utf-8 -*-",
   "executable": "/usr/bin/env python3"
  },
  "kernelspec": {
   "display_name": "Python 3",
   "language": "python",
   "name": "python3"
  }
 },
 "nbformat": 4,
 "nbformat_minor": 4
}
