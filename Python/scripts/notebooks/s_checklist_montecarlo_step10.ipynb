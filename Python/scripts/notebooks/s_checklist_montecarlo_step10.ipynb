{
 "cells": [
  {
   "cell_type": "markdown",
   "metadata": {},
   "source": [
    "# s_checklist_montecarlo_step10 [<img src=\"https://www.arpm.co/lab/icons/icon_permalink.png\" width=30 height=30 style=\"display: inline;\">](https://www.arpm.co/lab/redirect.php?code=s_checklist_montecarlo_step10&codeLang=Python)\n",
    "For details, see [here](https://www.arpm.co/lab/redirect.php?permalink=ex-vue-10)."
   ]
  },
  {
   "cell_type": "code",
   "execution_count": null,
   "metadata": {},
   "outputs": [],
   "source": [
    "import numpy as np\n",
    "import pandas as pd\n",
    "from scipy.stats import norm\n",
    "import matplotlib.pyplot as plt\n",
    "\n",
    "from arpym.statistics.meancov_sp import meancov_sp\n",
    "from arpym.tools.logo import add_logo"
   ]
  },
  {
   "cell_type": "markdown",
   "metadata": {},
   "source": [
    "## [Input parameters](https://www.arpm.co/lab/redirect.php?permalink=s_checklist_montecarlo_step10-parameters)"
   ]
  },
  {
   "cell_type": "code",
   "execution_count": null,
   "metadata": {},
   "outputs": [],
   "source": [
    "q_now = 0  # initial volume time\n",
    "q_end = 1  # final volume time\n",
    "k_ = 300  # number of elements in the q grid\n",
    "l_ = 500  # number of elements in the beta grid\n",
    "alpha = 1  # parameter of the power slippage component\n",
    "gamma = 3.14e-5 # permanent impact parameter\n",
    "eta = 1.42e-6  # temporary impact parameter\n",
    "c = 0.95  # confidence level for quantile satisfaction measure\n",
    "\n",
    "n_plot = 1  # index of instrument to plot"
   ]
  },
  {
   "cell_type": "markdown",
   "metadata": {},
   "source": [
    "## [Step 0](https://www.arpm.co/lab/redirect.php?permalink=s_checklist_montecarlo_step10-implementation-step00): Load data"
   ]
  },
  {
   "cell_type": "code",
   "execution_count": null,
   "metadata": {},
   "outputs": [],
   "source": [
    "path = '~/databases/temporary-databases/'\n",
    "\n",
    "# Risk drivers identification\n",
    "db_riskdrivers_tools = pd.read_csv(path+'db_riskdrivers_tools.csv')\n",
    "n_stocks = int(db_riskdrivers_tools['n_stocks'][0])\n",
    "n_bonds = int(db_riskdrivers_tools.n_bonds[0])\n",
    "n_ = n_stocks+n_bonds+3\n",
    "\n",
    "# Aggregation\n",
    "db_holdings = pd.read_csv(path+'db_holdings.csv')\n",
    "h = np.squeeze(db_holdings.values)  # initial holdings\n",
    "\n",
    "# Projection\n",
    "db_scenprob = pd.read_csv(path+'db_scenario_probs.csv')\n",
    "p = db_scenprob.p.values\n",
    "\n",
    "# Pricing\n",
    "# import daily P&Ls computed in step 5 with m_=1\n",
    "db_pi_oneday = pd.read_csv(path+'db_oneday_pl.csv')\n",
    "pi_oneday = db_pi_oneday.values\n",
    "\n",
    "# Construction\n",
    "db_final_portfolio = pd.read_csv(path+'db_final_portfolio.csv')\n",
    "# the final portfolio is the one obtained in the construction step,\n",
    "# that optimizes the cVaR satisfaction measure\n",
    "h_qsi = np.squeeze(db_final_portfolio.values)\n",
    "\n",
    "# start portfolio\n",
    "h_qnow = h\n",
    "# final portfolio\n",
    "h_qend = h_qsi"
   ]
  },
  {
   "cell_type": "markdown",
   "metadata": {},
   "source": [
    "## [Step 1](https://www.arpm.co/lab/redirect.php?permalink=s_checklist_montecarlo_step10-implementation-step01): Find trajectory"
   ]
  },
  {
   "cell_type": "code",
   "execution_count": null,
   "metadata": {},
   "outputs": [],
   "source": [
    "sigma2 = np.zeros(n_)\n",
    "variance_pihat = np.zeros((n_, l_))\n",
    "mean_pihat = np.zeros((n_, l_))\n",
    "xi = np.zeros(l_)\n",
    "traj = np.zeros((n_, l_, k_))\n",
    "\n",
    "# size of parent order\n",
    "delta_h_parent = (h_qend - h_qnow).astype('int')\n",
    "# beta grid\n",
    "beta = np.linspace(alpha/(1+alpha), 1, l_+1, endpoint=True)\n",
    "beta = beta[1:]\n",
    "# q grid\n",
    "q_grid = np.linspace(q_now, q_end, k_)\n",
    "\n",
    "for n in range(n_):\n",
    "    if delta_h_parent[n] == 0:\n",
    "        # no change in holdings\n",
    "        traj[n, :, :] = np.tile(h_qend[n], (l_, k_))\n",
    "    else:\n",
    "        _, sigma2[n] = meancov_sp(pi_oneday[:, n], p)\n",
    "        for l in range(l_):\n",
    "            # expected P&L\n",
    "            xi[l] = beta[l]**(alpha+1)/(beta[l]+beta[l]*alpha-alpha)\n",
    "            mean_pihat[n, l] = gamma/2*(h_qend[n]**2 - h_qnow[n]**2) - \\\n",
    "                eta*xi[l]*np.abs(delta_h_parent[n])**(1+alpha) * \\\n",
    "                (q_end-q_now)**(-alpha)\n",
    "            # P&L variance\n",
    "            variance_pihat[n, l] = sigma2[n] * (q_end-q_now) * \\\n",
    "                (h_qnow[n]**2 + 2*h_qnow[n]*delta_h_parent[n]/(beta[l]+1) +\n",
    "                (delta_h_parent[n]**2)/(2*beta[l]+1))\n",
    "            # trajectory\n",
    "            traj[n, l, :] = h_qnow[n] + \\\n",
    "                ((q_grid-q_now)/(q_end-q_now))**beta[l]*delta_h_parent[n]"
   ]
  },
  {
   "cell_type": "markdown",
   "metadata": {},
   "source": [
    "## [Step 2](https://www.arpm.co/lab/redirect.php?permalink=s_checklist_montecarlo_step10-implementation-step02): Maximization"
   ]
  },
  {
   "cell_type": "code",
   "execution_count": null,
   "metadata": {},
   "outputs": [],
   "source": [
    "q_satis = np.zeros((n_, l_))\n",
    "beta_star = np.zeros(n_)\n",
    "l_star = np.zeros(n_)\n",
    "for n in range(n_):\n",
    "    if delta_h_parent[n] == 0:\n",
    "        # no change in holdings\n",
    "        beta_star[n] = beta[-1]\n",
    "    else:\n",
    "        # quantile satisfaction measure\n",
    "        for l in range(l_):\n",
    "            q_satis[n, l] = mean_pihat[n, l] + \\\n",
    "                            np.sqrt(variance_pihat[n, l])*norm.ppf(1-c)\n",
    "        # beta corresponding to the optimal liquidation trajectory\n",
    "        l_star[n] = \\\n",
    "            np.where(q_satis[n, :] == np.max(q_satis[n, :]))[0]\n",
    "        beta_star[n] = beta[np.int(l_star[n])]"
   ]
  },
  {
   "cell_type": "markdown",
   "metadata": {},
   "source": [
    "## Plots"
   ]
  },
  {
   "cell_type": "code",
   "execution_count": null,
   "metadata": {},
   "outputs": [],
   "source": [
    "# plot execution trajectories\n",
    "plt.style.use('arpm')\n",
    "fig = plt.figure(figsize=(1280.0/72.0, 720.0/72.0), dpi = 72.0)\n",
    "for i in range(0, l_, 50):\n",
    "    plt.plot(q_grid, traj[n_plot-1, i, :]*1e-6, color='grey')\n",
    "plt.plot(q_grid, traj[n_plot-1, np.int(l_star[n_plot-1]), :]*1e-6,\n",
    "         color='red')\n",
    "plt.title('Optimal trading trajectory - ' + db_pi_oneday.columns[n_plot-1],\n",
    "         fontsize=20, fontweight='bold')\n",
    "plt.xlabel('Volume time', fontsize=17)\n",
    "plt.ylabel('Holdings (million units)', fontsize=17)\n",
    "plt.xticks(fontsize=14)\n",
    "plt.yticks(fontsize=14)\n",
    "plt.xlim(q_now,q_end)\n",
    "add_logo(fig, location=1, set_fig_size=False)"
   ]
  }
 ],
 "metadata": {
  "jupytext": {
   "encoding": "# -*- coding: utf-8 -*-",
   "executable": "/usr/bin/env python3"
  },
  "kernelspec": {
   "display_name": "Python 3",
   "language": "python",
   "name": "python3"
  }
 },
 "nbformat": 4,
 "nbformat_minor": 4
}
