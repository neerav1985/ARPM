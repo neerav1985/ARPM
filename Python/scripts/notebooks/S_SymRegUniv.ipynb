{
 "cells": [
  {
   "cell_type": "markdown",
   "metadata": {},
   "source": [
    "# S_SymRegUniv [<img src=\"https://www.arpm.co/lab/icons/icon_permalink.png\" width=30 height=30 style=\"display: inline;\">](https://www.arpm.co/lab/redirect.php?code=S_SymRegUniv&codeLang=Python)\n",
    "For details, see [here](https://www.arpm.co/lab/redirect.php?permalink=eb-sym-reg)."
   ]
  },
  {
   "cell_type": "markdown",
   "metadata": {},
   "source": [
    "## Prepare the environment"
   ]
  },
  {
   "cell_type": "code",
   "execution_count": null,
   "metadata": {},
   "outputs": [],
   "source": [
    "import os.path as path, sys\n",
    "\n",
    "sys.path.append(path.abspath('../../functions-legacy'))\n",
    "\n",
    "from numpy import array\n",
    "\n",
    "import matplotlib.pyplot as plt\n",
    "\n",
    "plt.style.use('seaborn')\n",
    "\n",
    "from pcacov import pcacov\n",
    "from RawMigrationDb2AggrRiskDrivers import RawMigrationDb2AggrRiskDrivers\n",
    "\n",
    "# input parameters\n",
    "n_ = 1  # dimension of target variable X\n",
    "k_ = 1  # dimension of factor Z\n",
    "mu_XZ = array([2, 1])  # joint expectation of target X and factor Z\n",
    "sigma2_XZ = array([[3, 2.1], [2.1, 2]])  # joint covariance of target X and factor Z"
   ]
  },
  {
   "cell_type": "markdown",
   "metadata": {},
   "source": [
    "## Compute the linear regression loadings"
   ]
  },
  {
   "cell_type": "code",
   "execution_count": null,
   "metadata": {},
   "outputs": [],
   "source": [
    "beta_Reg_XZ = sigma2_XZ[0, 1] / sigma2_XZ[1, 1]\n",
    "beta_Reg_ZX = sigma2_XZ[1, 0] / sigma2_XZ[0, 0]"
   ]
  },
  {
   "cell_type": "markdown",
   "metadata": {},
   "source": [
    "## Compute the symmetric regression loadings"
   ]
  },
  {
   "cell_type": "code",
   "execution_count": null,
   "metadata": {},
   "outputs": [],
   "source": [
    "e, _ = pcacov(sigma2_XZ)\n",
    "\n",
    "beta_Sym_XZ = -e[1, 1] / e[0, 1]\n",
    "beta_Sym_ZX = 1 / (-e[1, 1] / e[0, 1])"
   ]
  },
  {
   "cell_type": "markdown",
   "metadata": {},
   "source": [
    "## Compute the parameters of the symmetric regression recovered target"
   ]
  },
  {
   "cell_type": "code",
   "execution_count": null,
   "metadata": {},
   "outputs": [],
   "source": [
    "alpha_Sym_XZ = mu_XZ[0] - beta_Sym_XZ * mu_XZ[1]\n",
    "mu_X_tilde_Sym = alpha_Sym_XZ + beta_Sym_XZ * mu_XZ[1]\n",
    "sigma2_X_tilde_Sym = beta_Sym_XZ ** 2 * sigma2_XZ[1, 1]"
   ]
  },
  {
   "cell_type": "markdown",
   "metadata": {},
   "source": [
    "## Compute the parameters of the symmetric regression recovered factor"
   ]
  },
  {
   "cell_type": "code",
   "execution_count": null,
   "metadata": {},
   "outputs": [],
   "source": [
    "alpha_Sym_ZX = mu_XZ[1] - beta_Sym_ZX * mu_XZ[0]\n",
    "mu_Z_tilde_Sym = alpha_Sym_ZX + beta_Sym_ZX * mu_XZ[0]\n",
    "sigma2_Z_tilde_Sym = beta_Sym_ZX ** 2 * sigma2_XZ[0, 0]"
   ]
  }
 ],
 "metadata": {
  "jupytext": {
   "encoding": "# -*- coding: utf-8 -*-",
   "executable": "/usr/bin/env python3"
  },
  "kernelspec": {
   "display_name": "Python 3",
   "language": "python",
   "name": "python3"
  }
 },
 "nbformat": 4,
 "nbformat_minor": 4
}
