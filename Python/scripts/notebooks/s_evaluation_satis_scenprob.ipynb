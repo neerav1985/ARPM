{
 "cells": [
  {
   "cell_type": "markdown",
   "metadata": {},
   "source": [
    "# s_evaluation_satis_scenprob [<img src=\"https://www.arpm.co/lab/icons/icon_permalink.png\" width=30 height=30 style=\"display: inline;\">](https://www.arpm.co/lab/redirect.php?code=s_evaluation_satis_scenprob&codeLang=Python)\n",
    "For details, see [here](https://www.arpm.co/lab/redirect.php?permalink=EBEvalNumericalExample)."
   ]
  },
  {
   "cell_type": "code",
   "execution_count": null,
   "metadata": {},
   "outputs": [],
   "source": [
    "import pandas as pd\n",
    "import numpy as np\n",
    "from scipy.optimize import fsolve\n",
    "from scipy.stats import norm\n",
    "\n",
    "from arpym.portfolio.spectral_index import spectral_index\n",
    "from arpym.statistics.meancov_sp import meancov_sp\n",
    "from arpym.statistics.quantile_sp import quantile_sp"
   ]
  },
  {
   "cell_type": "markdown",
   "metadata": {},
   "source": [
    "## [Input parameters](https://www.arpm.co/lab/redirect.php?permalink=s_evaluation_satis_scenprob-parameters)"
   ]
  },
  {
   "cell_type": "code",
   "execution_count": null,
   "metadata": {},
   "outputs": [],
   "source": [
    "alpha = 0.01  # threshold probability\n",
    "lam_evar = 0.25  # parameter for α-expectile\n",
    "alpha_prop_haz = 0.5  # parameter for proportional hazards expectation\n",
    "lam_buhlmann = 2  # parameter for Esscher expectation\n",
    "lam_mv = 0.5  # parameter for mean-variance and mean-semideviation trade-off\n",
    "lam_ut = 2  # parameter for certainty-equivalent (exponential function)\n",
    "r = 0.0001  # target for omega ratio\n",
    "theta = -0.1  # parameter for Wang expectation\n",
    "z = np.array([-0.0041252, -0.00980853,  -0.00406089,  0.02680999])  # risk factor"
   ]
  },
  {
   "cell_type": "markdown",
   "metadata": {},
   "source": [
    "## [Step 0](https://www.arpm.co/lab/redirect.php?permalink=s_evaluation_satis_scenprob-implementation-step00): Import data"
   ]
  },
  {
   "cell_type": "code",
   "execution_count": null,
   "metadata": {},
   "outputs": [],
   "source": [
    "path = '~/databases/temporary-databases/db_aggregation_scenario_numerical.csv'\n",
    "\n",
    "j_ = pd.read_csv(path, usecols=['j_'], nrows=1).values[0, 0].astype(int)\n",
    "n_ = pd.read_csv(path, usecols=['n_'], nrows=1).values[0, 0].astype(int)\n",
    "# joint scenarios-probabilities\n",
    "pi = pd.read_csv(path, usecols=['pi']).values.reshape(j_, n_)\n",
    "p = pd.read_csv(path, usecols=['p']).iloc[:j_].values.reshape(j_, )\n",
    "# holdings\n",
    "h_tilde = pd.read_csv(path, usecols=['h_tilde']).iloc[:n_].values.reshape(n_, )\n",
    "# budgets\n",
    "v_h = pd.read_csv(path, usecols=['v_h'], nrows=1).values[0, 0].astype(int)\n",
    "v_b = pd.read_csv(path, usecols=['v_b'], nrows=1).values[0, 0].astype(int)\n",
    "# returns\n",
    "r_h = pd.read_csv(path, usecols=['r_h']).iloc[:j_].values.reshape(j_, )\n",
    "pi_b_resc = pd.read_csv(path, usecols=['pi_b_resc']).iloc[:j_].values.reshape(j_, )"
   ]
  },
  {
   "cell_type": "markdown",
   "metadata": {},
   "source": [
    "## [Step 1](https://www.arpm.co/lab/redirect.php?permalink=s_evaluation_satis_scenprob-implementation-step01):  Performance expectation, variance, negative standard deviation"
   ]
  },
  {
   "cell_type": "code",
   "execution_count": null,
   "metadata": {},
   "outputs": [],
   "source": [
    "mu_r_h, s2_r_h = meancov_sp(r_h, p)  # performance expectation\n",
    "s2_satis = - s2_r_h  # performance variance\n",
    "std_satis = -np.sqrt(s2_r_h)  # negative standard deviation"
   ]
  },
  {
   "cell_type": "markdown",
   "metadata": {},
   "source": [
    "## [Step 2](https://www.arpm.co/lab/redirect.php?permalink=s_evaluation_satis_scenprob-implementation-step02): Performance mean-variance trade-off"
   ]
  },
  {
   "cell_type": "code",
   "execution_count": null,
   "metadata": {},
   "outputs": [],
   "source": [
    "# performance mean-variance trade-off by definition\n",
    "mv_r_h = mu_r_h-lam_mv/2*s2_r_h\n",
    "mu_pi, s2_pi = meancov_sp(pi, p)  # instruments P&L's exp. and cov.\n",
    "# performance mean-variance trade-off by quadratic form\n",
    "mv_r_h_quad = h_tilde@mu_pi-lam_mv/2*h_tilde@s2_pi@h_tilde"
   ]
  },
  {
   "cell_type": "markdown",
   "metadata": {},
   "source": [
    "## [Step 3](https://www.arpm.co/lab/redirect.php?permalink=s_evaluation_satis_scenprob-implementation-step03): Certainty-equivalent"
   ]
  },
  {
   "cell_type": "code",
   "execution_count": null,
   "metadata": {},
   "outputs": [],
   "source": [
    "mu_ut = -np.exp(-lam_ut*r_h)@p  # expected utility\n",
    "ceq_r_h = -(1/lam_ut)*np.log(-mu_ut)  # certainty-equivalent"
   ]
  },
  {
   "cell_type": "markdown",
   "metadata": {},
   "source": [
    "## [Step 4](https://www.arpm.co/lab/redirect.php?permalink=s_evaluation_satis_scenprob-implementation-step04): Quantile (VaR) satisfaction measure"
   ]
  },
  {
   "cell_type": "code",
   "execution_count": null,
   "metadata": {},
   "outputs": [],
   "source": [
    "q_r_h = quantile_sp(alpha, r_h, p=p,  method='kernel_smoothing')"
   ]
  },
  {
   "cell_type": "markdown",
   "metadata": {},
   "source": [
    "## [Step 5](https://www.arpm.co/lab/redirect.php?permalink=s_evaluation_satis_scenprob-implementation-step05): Expected shortfall/sub-quantile satisfaction measure"
   ]
  },
  {
   "cell_type": "code",
   "execution_count": null,
   "metadata": {},
   "outputs": [],
   "source": [
    "sort_r_h_j = np.argsort(r_h)  # sorted indices\n",
    "r_h_sort = np.sort(r_h)  # sorted scenarios\n",
    "p_sort = p[sort_r_h_j]  # sorted probabilities\n",
    "u_sort = np.r_[0, np.cumsum(p_sort)]  # cumulative sum of ordered probs.\n",
    "\n",
    "j_alpha  = [i for i, x in enumerate(u_sort) if u_sort[i-1]<alpha and\n",
    "            u_sort[i]>=alpha][0]\n",
    "# weights\n",
    "weight_j = np.zeros(j_)\n",
    "if j_alpha  == 1:\n",
    "    weight_j[0] = 1\n",
    "elif j_alpha  >1:\n",
    "    weight_j[j_alpha-1] = 1 - u_sort[j_alpha-1]/alpha\n",
    "    for j in range(j_alpha-1):\n",
    "        weight_j[j] = p_sort[j]/alpha\n",
    "# negative expected shortfall/sub-quantile\n",
    "q_sub_r_h = r_h_sort@weight_j"
   ]
  },
  {
   "cell_type": "markdown",
   "metadata": {},
   "source": [
    "## [Step 6](https://www.arpm.co/lab/redirect.php?permalink=s_evaluation_satis_scenprob-implementation-step06): Wang expectation"
   ]
  },
  {
   "cell_type": "code",
   "execution_count": null,
   "metadata": {},
   "outputs": [],
   "source": [
    "wang_expectation_r_h = r_h_sort@np.append(norm.cdf(norm.ppf(u_sort[1:])-theta)[0],\n",
    "                                          np.diff(norm.cdf(norm.ppf(u_sort[1:])\n",
    "                                                           -theta)))"
   ]
  },
  {
   "cell_type": "markdown",
   "metadata": {},
   "source": [
    "## [Step 7](https://www.arpm.co/lab/redirect.php?permalink=s_evaluation_satis_scenprob-implementation-step07): Proportional hazard expectation"
   ]
  },
  {
   "cell_type": "code",
   "execution_count": null,
   "metadata": {},
   "outputs": [],
   "source": [
    "prop_haz_expectation_r_h = r_h_sort@ np.diff(u_sort**alpha_prop_haz)"
   ]
  },
  {
   "cell_type": "markdown",
   "metadata": {},
   "source": [
    "## [Step 8](https://www.arpm.co/lab/redirect.php?permalink=s_evaluation_satis_scenprob-implementation-step08): Mean-semideviation trade-off, lower partial moments"
   ]
  },
  {
   "cell_type": "code",
   "execution_count": null,
   "metadata": {
    "lines_to_next_cell": 1
   },
   "outputs": [],
   "source": [
    "semiv_r_h = sum(((r_h[r_h <= mu_r_h] - mu_r_h) ** 2)\n",
    "                * p[r_h <= mu_r_h])  # semivariance\n",
    "semid_r_h = (semiv_r_h) ** (0.5)  # semideviation\n",
    "# mean-semideviation trade-off\n",
    "msemid_r_h = mu_r_h - lam_mv * semid_r_h\n",
    "# first order lower partial moment\n",
    "lpm_1_r_h = np.maximum(r - r_h, 0)@p\n",
    "# second oerder lower partial moment\n",
    "lpm_2_r_h = (np.maximum(r - r_h, 0) ** 2)@p"
   ]
  },
  {
   "cell_type": "markdown",
   "metadata": {},
   "source": [
    "## [Step 9](https://www.arpm.co/lab/redirect.php?permalink=s_evaluation_satis_scenprob-implementation-step09): Expectile"
   ]
  },
  {
   "cell_type": "code",
   "execution_count": null,
   "metadata": {},
   "outputs": [],
   "source": [
    "def expectile_f(x, p, lam):\n",
    "    return lam * np.sum(p * np.maximum(r_h - x, 0)) + \\\n",
    "        (1 - lam) * (np.sum(p * np.minimum(r_h - x, 0)))\n",
    "\n",
    "\n",
    "# expectile\n",
    "expectile_r_h = fsolve(expectile_f, -0.01, args=(p, lam_evar))"
   ]
  },
  {
   "cell_type": "markdown",
   "metadata": {},
   "source": [
    "## [Step 10](https://www.arpm.co/lab/redirect.php?permalink=s_evaluation_satis_scenprob-implementation-step10): Information ratio, Sortino ratio and omega ratio"
   ]
  },
  {
   "cell_type": "code",
   "execution_count": null,
   "metadata": {},
   "outputs": [],
   "source": [
    "# information ratio\n",
    "info_ratio_r_h = mu_r_h /np.sqrt(s2_r_h) \n",
    "# Sortino ratio\n",
    "sortino_ratio_r_h = (mu_r_h - r) / np.sqrt(lpm_2_r_h)\n",
    "# omega ratio by definition\n",
    "omega_ratio_r_h = (np.maximum(r_h - r, 0)@p) / lpm_1_r_h\n",
    "# omega ratio by equivalent formulation\n",
    "omega_ratio_1_r_h = (r_h@p - r) / lpm_1_r_h + 1"
   ]
  },
  {
   "cell_type": "markdown",
   "metadata": {},
   "source": [
    "## [Step 11](https://www.arpm.co/lab/redirect.php?permalink=s_evaluation_satis_scenprob-implementation-step11): Scenario-probability distribution of factor Z, beta, correlation"
   ]
  },
  {
   "cell_type": "code",
   "execution_count": null,
   "metadata": {},
   "outputs": [],
   "source": [
    "mu_z, s2_z = meancov_sp(z, p)  # variance of z\n",
    "cv_yz = (r_h * z)@p - mu_r_h * mu_z  # covariance of r_h and z\n",
    "beta_r_h_z = - cv_yz / s2_z  # opposite of beta\n",
    "# correlation satisfaction measure\n",
    "cr_r_h_z = - cv_yz / (np.sqrt(s2_r_h) * np.sqrt(s2_z))"
   ]
  },
  {
   "cell_type": "markdown",
   "metadata": {},
   "source": [
    "## [Step 12](https://www.arpm.co/lab/redirect.php?permalink=s_evaluation_satis_scenprob-implementation-step12): Buhlmann expectation and Esscher expectation"
   ]
  },
  {
   "cell_type": "code",
   "execution_count": null,
   "metadata": {},
   "outputs": [],
   "source": [
    "bulhmann_expectation_r_h, _ = meancov_sp(np.exp(-lam_buhlmann*pi_b_resc)*r_h, p)[0] / \\\n",
    "                              meancov_sp(np.exp(-lam_buhlmann*pi_b_resc), p)\n",
    "\n",
    "esscher_expectation_r_h, _ = meancov_sp(np.exp(-lam_buhlmann*r_h)*r_h, p)[0] / \\\n",
    "                             meancov_sp(np.exp(-lam_buhlmann*r_h), p)"
   ]
  },
  {
   "cell_type": "markdown",
   "metadata": {},
   "source": [
    "## [Step 13](https://www.arpm.co/lab/redirect.php?permalink=s_evaluation_satis_scenprob-implementation-step13): Save the data"
   ]
  },
  {
   "cell_type": "code",
   "execution_count": null,
   "metadata": {},
   "outputs": [],
   "source": [
    "output = {'s2_satis': pd.Series(s2_satis),\n",
    "          'std_satis': pd.Series(std_satis),\n",
    "          'wang_expectation_r_h': pd.Series(wang_expectation_r_h),\n",
    "          'prop_haz_expectation_r_h': pd.Series(prop_haz_expectation_r_h),\n",
    "          'expectile_r_h': pd.Series(expectile_r_h),\n",
    "          'bulhmann_expectation_r_h': pd.Series(bulhmann_expectation_r_h),\n",
    "          'esscher_expectation_r_h': pd.Series(esscher_expectation_r_h)\n",
    "          }\n",
    "\n",
    "df = pd.DataFrame(output)\n",
    "df.to_csv('~/databases/temporary-databases/db_evaluation_scenprob.csv')"
   ]
  }
 ],
 "metadata": {
  "jupytext": {
   "encoding": "# -*- coding: utf-8 -*-",
   "executable": "/usr/bin/env python3"
  },
  "kernelspec": {
   "display_name": "Python 3",
   "language": "python",
   "name": "python3"
  }
 },
 "nbformat": 4,
 "nbformat_minor": 4
}
