{
 "cells": [
  {
   "cell_type": "markdown",
   "metadata": {},
   "source": [
    "# S_NormEuclidBasis [<img src=\"https://www.arpm.co/lab/icons/icon_permalink.png\" width=30 height=30 style=\"display: inline;\">](https://www.arpm.co/lab/redirect.php?code=S_NormEuclidBasis&codeLang=Python)\n",
    "For details, see [here](https://www.arpm.co/lab/redirect.php?permalink=EBRandGeomNorm)."
   ]
  },
  {
   "cell_type": "markdown",
   "metadata": {},
   "source": [
    "## Prepare the environment"
   ]
  },
  {
   "cell_type": "code",
   "execution_count": null,
   "metadata": {},
   "outputs": [],
   "source": [
    "import os\n",
    "import os.path as path\n",
    "import sys\n",
    "\n",
    "sys.path.append(path.abspath('../../functions-legacy'))\n",
    "\n",
    "import numpy as np\n",
    "from numpy import array, diag, eye, abs, sqrt\n",
    "from numpy import max as npmax\n",
    "\n",
    "import matplotlib.pyplot as plt\n",
    "from matplotlib.pyplot import plot, legend, xlim, ylim, scatter, subplots, ylabel, \\\n",
    "    xlabel, quiver\n",
    "\n",
    "plt.style.use('seaborn')\n",
    "\n",
    "from ARPM_utils import save_plot\n",
    "from PlotTwoDimEllipsoid import PlotTwoDimEllipsoid\n",
    "from NormalScenarios import NormalScenarios\n",
    "from Riccati import Riccati\n",
    "\n",
    "# input parameters\n",
    "j_ = 5*10 ** 4  # number of simulations\n",
    "mu = array([[0.67], [0.93]])  # expectation\n",
    "svec = array([[2.14], [3.7]])  # standard deviation\n",
    "rho = 0.47  # correlation"
   ]
  },
  {
   "cell_type": "markdown",
   "metadata": {},
   "source": [
    "## Generate bivariate normal draws"
   ]
  },
  {
   "cell_type": "code",
   "execution_count": null,
   "metadata": {},
   "outputs": [],
   "source": [
    "c2 = array([[1, rho], [rho, 1]])  # correlation matrix\n",
    "s2 = np.diagflat(svec)@c2@np.diagflat(svec)  # covariance matrix\n",
    "\n",
    "X,_ = NormalScenarios(mu, s2, j_, 'Riccati')"
   ]
  },
  {
   "cell_type": "markdown",
   "metadata": {},
   "source": [
    "## Compute a the Riccati root of the correlation matrix and the vectors"
   ]
  },
  {
   "cell_type": "code",
   "execution_count": null,
   "metadata": {},
   "outputs": [],
   "source": [
    "c = Riccati(eye(2), c2)\n",
    "x = c.T@np.diagflat(svec)"
   ]
  },
  {
   "cell_type": "markdown",
   "metadata": {},
   "source": [
    "## Compute Euclidean measures"
   ]
  },
  {
   "cell_type": "code",
   "execution_count": null,
   "metadata": {},
   "outputs": [],
   "source": [
    "inn_prods = x.T@x\n",
    "lens = sqrt(diag(inn_prods))\n",
    "angle = inn_prods[0, 1] / np.prod(lens)"
   ]
  },
  {
   "cell_type": "markdown",
   "metadata": {},
   "source": [
    "## Display the scatter plot and the ellipsoid"
   ]
  },
  {
   "cell_type": "code",
   "execution_count": null,
   "metadata": {},
   "outputs": [],
   "source": [
    "x1 = npmax(abs(x[0]))\n",
    "x2 = npmax(abs(x[1]))\n",
    "f, ax = subplots(1,2)\n",
    "plt.sca(ax[0])\n",
    "scatter(X[0], X[1], 0.5, [.8, .8, .8], '*')\n",
    "PlotTwoDimEllipsoid(mu, s2, 1, [], 1, 'r', 2)\n",
    "xlabel('$X_1$')\n",
    "ylabel('$X_2$')\n",
    "xlim([mu[0] - 1.5*x1, mu[0] + 1.5*x1])\n",
    "ylim([mu[1] - 1.5*x2, mu[1] + 1.5*x2])"
   ]
  },
  {
   "cell_type": "markdown",
   "metadata": {},
   "source": [
    "## Display the vectors"
   ]
  },
  {
   "cell_type": "code",
   "execution_count": null,
   "metadata": {},
   "outputs": [],
   "source": [
    "plt.sca(ax[1])\n",
    "quiver(0, 0, x[0, 0], x[1, 0], color = 'm', lw= 2, angles='xy',scale_units='xy',scale=1)\n",
    "quiver(0, 0, x[0, 1], x[1, 1], color = 'b', lw= 2, angles='xy',scale_units='xy',scale=1)\n",
    "quiv1 = plot(0, 0, color='m', lw= 2)\n",
    "quiv2 = plot(0, 0, color='b', lw= 2)\n",
    "plot(0, 0, 'o',markeredgecolor='k',markerfacecolor='w')\n",
    "plt.grid(True)\n",
    "xlim([- 1.5*x1, 1.5*x1])\n",
    "ylim([- 1.5*x2, 1.5*x2])\n",
    "legend(['$X_1$','$X_2$']);\n",
    "plt.tight_layout();\n",
    "# save_plot(ax=plt.gca(), extension='png', scriptname=os.path.basename('.')[:-3], count=plt.get_fignums()[-1])"
   ]
  }
 ],
 "metadata": {
  "jupytext": {
   "encoding": "# -*- coding: utf-8 -*-",
   "executable": "/usr/bin/env python3"
  },
  "kernelspec": {
   "display_name": "Python 3",
   "language": "python",
   "name": "python3"
  }
 },
 "nbformat": 4,
 "nbformat_minor": 4
}
