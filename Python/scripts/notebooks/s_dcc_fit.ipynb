{
 "cells": [
  {
   "cell_type": "markdown",
   "metadata": {},
   "source": [
    "# s_dcc_fit [<img src=\"https://www.arpm.co/lab/icons/icon_permalink.png\" width=30 height=30 style=\"display: inline;\">](https://www.arpm.co/lab/redirect.php?code=s_dcc_fit&codeLang=Python)\n",
    "For details, see [here](https://www.arpm.co/lab/redirect.php?permalink=eb-inv-extr-dyn-cop)."
   ]
  },
  {
   "cell_type": "code",
   "execution_count": null,
   "metadata": {},
   "outputs": [],
   "source": [
    "import numpy as np\n",
    "import pandas as pd\n",
    "import matplotlib.pyplot as plt\n",
    "from scipy.stats import t\n",
    "\n",
    "from arpym.estimation.exp_decay_fp import exp_decay_fp\n",
    "from arpym.estimation.fit_garch_fp import fit_garch_fp\n",
    "from arpym.estimation.fit_dcc_t import fit_dcc_t\n",
    "from arpym.estimation.fit_locdisp_mlfp import fit_locdisp_mlfp\n",
    "from arpym.estimation.cov_2_corr import cov_2_corr\n",
    "from arpym.estimation.factor_analysis_paf import factor_analysis_paf\n",
    "from arpym.tools.plot_ellipse import plot_ellipse\n",
    "from arpym.tools.logo import add_logo"
   ]
  },
  {
   "cell_type": "markdown",
   "metadata": {},
   "source": [
    "## [Input parameters](https://www.arpm.co/lab/redirect.php?permalink=s_dcc_fit-parameters)"
   ]
  },
  {
   "cell_type": "code",
   "execution_count": null,
   "metadata": {},
   "outputs": [],
   "source": [
    "n_ = 40  # number of stocks\n",
    "t_first = '2009-01-01'  # starting date\n",
    "t_last = '2012-01-01'  # ending date\n",
    "k_ = 10  # number of factors\n",
    "nu = 4.  # degrees of freedom\n",
    "tau_hl = 120  # prior half life\n",
    "i_1 = 27  # index of first quasi-invariant shown in plot\n",
    "i_2 = 29  # index of second quasi-invariant shown in plot"
   ]
  },
  {
   "cell_type": "markdown",
   "metadata": {},
   "source": [
    "## [Step 0](https://www.arpm.co/lab/redirect.php?permalink=s_dcc_fit-implementation-step00): Load data"
   ]
  },
  {
   "cell_type": "code",
   "execution_count": null,
   "metadata": {},
   "outputs": [],
   "source": [
    "# upload stocks values\n",
    "path = '~/databases/global-databases/equities/db_stocks_SP500/'\n",
    "df_stocks = pd.read_csv(path + 'db_stocks_sp.csv',  skiprows=[0], index_col=0)\n",
    "\n",
    "# set timestamps\n",
    "df_stocks = df_stocks.set_index(pd.to_datetime(df_stocks.index))\n",
    "\n",
    "# select data within the date range\n",
    "df_stocks = df_stocks.loc[(df_stocks.index >= t_first) &\n",
    "                          (df_stocks.index <= t_last)]\n",
    "\n",
    "# remove the stocks with missing values\n",
    "df_stocks = df_stocks.dropna(axis=1, how='any')"
   ]
  },
  {
   "cell_type": "markdown",
   "metadata": {},
   "source": [
    "## [Step 1](https://www.arpm.co/lab/redirect.php?permalink=s_dcc_fit-implementation-step01): Compute log-returns"
   ]
  },
  {
   "cell_type": "code",
   "execution_count": null,
   "metadata": {},
   "outputs": [],
   "source": [
    "v_stock = np.array(df_stocks.iloc[:, :n_])\n",
    "dx = np.diff(np.log(v_stock), axis=0)  # S&P 500 index compounded return\n",
    "t_ = dx.shape[0]"
   ]
  },
  {
   "cell_type": "markdown",
   "metadata": {},
   "source": [
    "## [Step 2](https://www.arpm.co/lab/redirect.php?permalink=s_dcc_fit-implementation-step02): Set flexible probabilities"
   ]
  },
  {
   "cell_type": "code",
   "execution_count": null,
   "metadata": {},
   "outputs": [],
   "source": [
    "p = exp_decay_fp(t_, tau_hl)  # flexible probabilities"
   ]
  },
  {
   "cell_type": "markdown",
   "metadata": {},
   "source": [
    "## [Step 3](https://www.arpm.co/lab/redirect.php?permalink=s_dcc_fit-implementation-step03): Fit a GARCH(1,1) on each time series of compounded returns"
   ]
  },
  {
   "cell_type": "code",
   "execution_count": null,
   "metadata": {},
   "outputs": [],
   "source": [
    "param = np.zeros((4, n_))\n",
    "sigma2 = np.zeros((t_, n_))\n",
    "xi = np.zeros((t_, n_))\n",
    "for n in range(n_):\n",
    "    param[:, n], sigma2[:, n], xi[:, n] = \\\n",
    "        fit_garch_fp(dx[:, n], p, rescale=True)"
   ]
  },
  {
   "cell_type": "markdown",
   "metadata": {},
   "source": [
    "## [Step 4](https://www.arpm.co/lab/redirect.php?permalink=s_dcc_fit-implementation-step04): Estimate marginal distributions by fitting a Student t distribution via MLFP"
   ]
  },
  {
   "cell_type": "code",
   "execution_count": null,
   "metadata": {},
   "outputs": [],
   "source": [
    "mu_marg = np.zeros(n_)\n",
    "sigma2_marg = np.zeros(n_)\n",
    "for n in range(n_):\n",
    "    mu_marg[n], sigma2_marg[n] = fit_locdisp_mlfp(xi[:, n], p=p, nu=nu)"
   ]
  },
  {
   "cell_type": "markdown",
   "metadata": {},
   "source": [
    "## [Step 5](https://www.arpm.co/lab/redirect.php?permalink=s_dcc_fit-implementation-step05): Map each marginal time series into standard normal realizations"
   ]
  },
  {
   "cell_type": "code",
   "execution_count": null,
   "metadata": {},
   "outputs": [],
   "source": [
    "xi_tilde = np.zeros((t_, n_))\n",
    "for n in range(n_):\n",
    "    u = t.cdf(xi[:, n], df=10**6, loc=mu_marg[n],\n",
    "              scale=np.sqrt(sigma2_marg[n]))\n",
    "    u[u <= 10**(-7)] = 10**(-7)\n",
    "    u[u >= 1-10**(-7)] = 1-10**(-7)\n",
    "    xi_tilde[:, n] = t.ppf(u, df=10**6)"
   ]
  },
  {
   "cell_type": "markdown",
   "metadata": {},
   "source": [
    "## [Step 6](https://www.arpm.co/lab/redirect.php?permalink=s_dcc_fit-implementation-step06): Estimate the unconditional correlation matrix via MLFP"
   ]
  },
  {
   "cell_type": "code",
   "execution_count": null,
   "metadata": {},
   "outputs": [],
   "source": [
    "_, sigma2_xi_tilde = fit_locdisp_mlfp(xi_tilde, p=p, nu=10**6)\n",
    "rho2_xi_tilde, _ = cov_2_corr(sigma2_xi_tilde)\n",
    "rho2 = rho2_xi_tilde\n",
    "\n",
    "beta, delta2 = factor_analysis_paf(rho2_xi_tilde, k_)\n",
    "rho2 = beta @ beta.T + np.diag(delta2)"
   ]
  },
  {
   "cell_type": "markdown",
   "metadata": {},
   "source": [
    "## [Step 7](https://www.arpm.co/lab/redirect.php?permalink=s_dcc_fit-implementation-step07): Compute the time series of true invariants via DCC fit"
   ]
  },
  {
   "cell_type": "code",
   "execution_count": null,
   "metadata": {},
   "outputs": [],
   "source": [
    "params, r2_t, epsi, q2_t_ = fit_dcc_t(xi_tilde, p, rho2=rho2)\n",
    "c, a, b = params\n",
    "q2_t_nextstep = c*rho2 +\\\n",
    "                b*q2_t_ +\\\n",
    "                a*(np.array([epsi[-1, :]]).T@np.array([epsi[-1, :]]))\n",
    "r2_t_nextstep, _ = cov_2_corr(q2_t_nextstep)"
   ]
  },
  {
   "cell_type": "markdown",
   "metadata": {},
   "source": [
    "## Save the data to temporary databases"
   ]
  },
  {
   "cell_type": "code",
   "execution_count": null,
   "metadata": {},
   "outputs": [],
   "source": [
    "path = '~/databases/temporary-databases/'\n",
    "df_xi = pd.DataFrame(data=xi, index=df_stocks.index[1:],\n",
    "                     columns=df_stocks.columns[:n_])\n",
    "df_xi.to_csv(path + 'db_GARCH_residuals.csv')"
   ]
  },
  {
   "cell_type": "markdown",
   "metadata": {},
   "source": [
    "## Plots"
   ]
  },
  {
   "cell_type": "code",
   "execution_count": null,
   "metadata": {},
   "outputs": [],
   "source": [
    "plt.style.use('arpm')\n",
    "\n",
    "# Scatter plot\n",
    "xi_plot = xi[:, [i_1, i_2]]\n",
    "fig = plt.figure()\n",
    "plt.scatter(xi[:, i_1], xi[:, i_2], 2, marker='o', linewidths=1)\n",
    "plt.axis('equal')\n",
    "plt.axis([np.percentile(xi_plot[:, 0], 2), np.percentile(xi_plot[:, 0], 98),\n",
    "          np.percentile(xi_plot[:, 1], 2), np.percentile(xi_plot[:, 1], 98)])\n",
    "plt.xlabel('$\\Xi_{%1.f}$' % (i_1+1))\n",
    "plt.ylabel('$\\Xi_{%1.f}$' % (i_2+1))\n",
    "plt.ticklabel_format(style='sci', scilimits=(0, 0))\n",
    "\n",
    "# Ellipsoids\n",
    "mu_plot = np.zeros(2)\n",
    "rho2_plot = rho2[np.ix_([i_1, i_2], [i_1, i_2])]\n",
    "r2_t_plot = r2_t_nextstep[np.ix_([i_1, i_2], [i_1, i_2])]\n",
    "ell_unc = plot_ellipse(mu_plot, rho2_plot, color='b')\n",
    "ell_cond = plot_ellipse(mu_plot, r2_t_plot, color='tomato')\n",
    "\n",
    "plt.legend(['Unconditional correlation: $rho^{2}$=%1.2f %%' %\n",
    "            (100*rho2_plot[0, 1]),\n",
    "            'Conditional correlation: $r^{2}_{t+1}$=%1.2f %%' %\n",
    "            (100*r2_t_plot[0, 1]),\n",
    "            'Quasi-invariants'])\n",
    "plt.title('Dynamic conditional correlation')\n",
    "add_logo(fig, location=2)"
   ]
  }
 ],
 "metadata": {
  "jupytext": {
   "encoding": "# -*- coding: utf-8 -*-",
   "executable": "/usr/bin/env python3"
  },
  "kernelspec": {
   "display_name": "Python 3",
   "language": "python",
   "name": "python3"
  }
 },
 "nbformat": 4,
 "nbformat_minor": 4
}
