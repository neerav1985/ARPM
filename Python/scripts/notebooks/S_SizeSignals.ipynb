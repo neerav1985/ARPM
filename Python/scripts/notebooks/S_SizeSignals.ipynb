{
 "cells": [
  {
   "cell_type": "markdown",
   "metadata": {},
   "source": [
    "# S_SizeSignals [<img src=\"https://www.arpm.co/lab/icons/icon_permalink.png\" width=30 height=30 style=\"display: inline;\">](https://www.arpm.co/lab/redirect.php?code=S_SizeSignals&codeLang=Python)\n",
    "For details, see [here](https://www.arpm.co/lab/redirect.php?permalink=eb-size-signal)."
   ]
  },
  {
   "cell_type": "markdown",
   "metadata": {},
   "source": [
    "## Prepare the environment"
   ]
  },
  {
   "cell_type": "code",
   "execution_count": null,
   "metadata": {},
   "outputs": [],
   "source": [
    "import os\n",
    "import os.path as path\n",
    "import sys\n",
    "\n",
    "sys.path.append(path.abspath('../../functions-legacy'))\n",
    "\n",
    "import numpy as np\n",
    "from numpy import arange, array, argsort, linspace, diag, round, log, exp, sqrt, zeros, sum as npsum\n",
    "\n",
    "from scipy.io import loadmat\n",
    "\n",
    "import matplotlib.pyplot as plt\n",
    "from matplotlib.pyplot import plot, xlim, ylim, subplots, title\n",
    "\n",
    "plt.style.use('seaborn')\n",
    "np.seterr(invalid='ignore')\n",
    "\n",
    "from CONFIG import GLOBAL_DB, TEMPORARY_DB\n",
    "from ARPM_utils import save_plot, date_mtop\n",
    "from FPmeancov import FPmeancov\n",
    "from EwmaFP import EwmaFP"
   ]
  },
  {
   "cell_type": "markdown",
   "metadata": {},
   "source": [
    "## Upload the database"
   ]
  },
  {
   "cell_type": "code",
   "execution_count": null,
   "metadata": {},
   "outputs": [],
   "source": [
    "try:\n",
    "    db = loadmat(os.path.join(GLOBAL_DB, 'db_strategies'), squeeze_me=True)\n",
    "except FileNotFoundError:\n",
    "    db = loadmat(os.path.join(TEMPORARY_DB, 'db_strategies'), squeeze_me=True)\n",
    "\n",
    "last_price = db['last_price']\n",
    "dates = db['dates']\n",
    "s_siz = db['s_siz']\n",
    "\n",
    "# settings\n",
    "v = last_price\n",
    "[n_, t_] = v.shape\n",
    "t_start = 252*2  # starting point of the strategy"
   ]
  },
  {
   "cell_type": "markdown",
   "metadata": {},
   "source": [
    "## Compute the smoothed signals"
   ]
  },
  {
   "cell_type": "code",
   "execution_count": null,
   "metadata": {},
   "outputs": [],
   "source": [
    "tauHL_smoo = log(2) / 10\n",
    "t_smoo = 180\n",
    "s_siz_smoo = zeros((n_,t_-t_smoo+1))\n",
    "\n",
    "for t in range(t_smoo,s_siz.shape[1]+1):\n",
    "    s_siz_smoo[:, [t - t_smoo]] = EwmaFP(s_siz[:, t - t_smoo :t], tauHL_smoo)[0]"
   ]
  },
  {
   "cell_type": "markdown",
   "metadata": {},
   "source": [
    "## Use the smoothed signals to compute the scored signal"
   ]
  },
  {
   "cell_type": "code",
   "execution_count": null,
   "metadata": {},
   "outputs": [],
   "source": [
    "t_scor = 252\n",
    "s_siz_scor = zeros((n_,s_siz_smoo.shape[1]-t_scor+1))\n",
    "tauHL_scor = log(2) / 120\n",
    "p_scor = exp(-tauHL_scor*arange(t_scor - 1, 0 + -1, -1)).reshape(1,-1) / npsum(exp(-tauHL_scor*arange(t_scor - 1, 0 + -1, -1)))\n",
    "for t in arange(t_scor,s_siz_smoo.shape[1]+1):\n",
    "    mu_siz, cov_siz = FPmeancov(s_siz_smoo[:, t - (t_scor):t], p_scor)\n",
    "    s_siz_scor[:, t - t_scor] = (s_siz_smoo[:,t-1] - mu_siz.flatten()) / sqrt(diag(cov_siz))"
   ]
  },
  {
   "cell_type": "markdown",
   "metadata": {},
   "source": [
    "## Use the scored signals to compute the ranked signals"
   ]
  },
  {
   "cell_type": "code",
   "execution_count": null,
   "metadata": {},
   "outputs": [],
   "source": [
    "s_siz_rk = zeros((n_,s_siz_scor.shape[1]))\n",
    "for t in range(s_siz_scor.shape[1]):\n",
    "    rk = argsort(s_siz_scor[:,t])\n",
    "    rk_signal = argsort(rk)+1\n",
    "    s_siz_rk[:,t] = (rk_signal - 0.5*n_)*(2 / n_)"
   ]
  },
  {
   "cell_type": "markdown",
   "metadata": {},
   "source": [
    "## Compare the plots of one signal, one smoothed signal and one scored signal"
   ]
  },
  {
   "cell_type": "code",
   "execution_count": null,
   "metadata": {},
   "outputs": [],
   "source": [
    "dates = dates[t_start-1:]\n",
    "grid_dates = linspace(0, len(dates)-1, 5)\n",
    "grid_dates = list(map(int,round(grid_dates)))  # integer numbers\n",
    "index = argsort(s_siz_rk[:,-1])"
   ]
  },
  {
   "cell_type": "markdown",
   "metadata": {},
   "source": [
    "## Compare the plots of a cluster of 4 scored signals with their ranked counterparts"
   ]
  },
  {
   "cell_type": "code",
   "execution_count": null,
   "metadata": {},
   "outputs": [],
   "source": [
    "dates_dt = array([date_mtop(i) for i in dates])\n",
    "date_tick = dates_dt[grid_dates]\n",
    "f, ax = subplots(2,1)\n",
    "plt.sca(ax[0])\n",
    "xx = t_start-1\n",
    "plot(dates_dt, s_siz[index[int(round(n_*0.2))-1], xx:])\n",
    "plt.xticks(dates_dt[grid_dates])\n",
    "xlim([dates_dt[0], dates_dt[-1]])\n",
    "title('Size versus smoothed size signal')\n",
    "xx = t_start - t_smoo\n",
    "plot(dates_dt, s_siz_smoo[index[int(round(n_*0.2))-1], xx:], 'r')\n",
    "plt.xticks(dates_dt[grid_dates])\n",
    "xlim([dates_dt[0], dates_dt[-1]])\n",
    "plt.sca(ax[1])\n",
    "xx = t_start - t_smoo - t_scor+1\n",
    "plot(dates_dt, s_siz_scor[index[int(round(n_*0.2))-1], xx:])\n",
    "plt.xticks(dates_dt[grid_dates])\n",
    "xlim([dates_dt[0], dates_dt[-1]])\n",
    "title('Scored size signal')\n",
    "plt.tight_layout();\n",
    "# save_plot(ax=plt.gca(), extension='png', scriptname=os.path.basename('.')[:-3], count=plt.get_fignums()[-1])\n",
    "f, ax = subplots(2,1)\n",
    "plt.sca(ax[0])\n",
    "plot(dates_dt, s_siz_scor[[index[int(round(n_*0.2))-1], index[int(round(n_*0.4))-1], index[int(round(n_*0.6))-1],index[int(round(n_*0.8))-1]],xx:].T)\n",
    "plt.xticks(dates_dt[grid_dates])\n",
    "xlim([dates_dt[0], dates_dt[-1]])\n",
    "title('Scored size signal cluster')\n",
    "plt.sca(ax[1])\n",
    "plot(dates_dt,s_siz_rk[[index[int(round(n_*0.2))-1], index[int(round(n_*0.4))-1], index[int(round(n_*0.6))-1], index[int(round(n_*0.8))-1]], xx:].T)\n",
    "plt.xticks(dates_dt[grid_dates])\n",
    "xlim([dates_dt[0], dates_dt[-1]])\n",
    "ylim([-1.05, 1.05])\n",
    "title('Ranked size signal cluster')\n",
    "plt.tight_layout();\n",
    "# save_plot(ax=plt.gca(), extension='png', scriptname=os.path.basename('.')[:-3], count=plt.get_fignums()[-1])"
   ]
  }
 ],
 "metadata": {
  "jupytext": {
   "encoding": "# -*- coding: utf-8 -*-",
   "executable": "/usr/bin/env python3"
  },
  "kernelspec": {
   "display_name": "Python 3",
   "language": "python",
   "name": "python3"
  }
 },
 "nbformat": 4,
 "nbformat_minor": 4
}
