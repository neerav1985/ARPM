{
 "cells": [
  {
   "cell_type": "markdown",
   "metadata": {},
   "source": [
    "# S_ProjectionBootstrap [<img src=\"https://www.arpm.co/lab/icons/icon_permalink.png\" width=30 height=30 style=\"display: inline;\">](https://www.arpm.co/lab/redirect.php?code=S_ProjectionBootstrap&codeLang=Python)\n",
    "For details, see [here](https://www.arpm.co/lab/redirect.php?permalink=ExChainHybrHistProj)."
   ]
  },
  {
   "cell_type": "markdown",
   "metadata": {},
   "source": [
    "## Prepare the environment"
   ]
  },
  {
   "cell_type": "code",
   "execution_count": null,
   "metadata": {},
   "outputs": [],
   "source": [
    "import os.path as path\n",
    "import sys\n",
    "\n",
    "sys.path.append(path.abspath('../../functions-legacy'))\n",
    "\n",
    "from numpy import arange, ones, zeros, cumsum, tile, newaxis, r_\n",
    "\n",
    "import matplotlib.pyplot as plt\n",
    "\n",
    "plt.style.use('seaborn')\n",
    "\n",
    "from SampleScenProbDistribution import SampleScenProbDistribution\n",
    "\n",
    "%run S_MultivariateQuest.ipynb # performs the quest for invariance step\n",
    "\n",
    "# Estimation: We use the historical approach, i.e. we rely on the historical distribution of the invariants epsi\n",
    "\n",
    "# Projection\n",
    "tau_proj = 21  # t_hor = tnow + 21 days"
   ]
  },
  {
   "cell_type": "markdown",
   "metadata": {},
   "source": [
    "## Path of the invariants: sampled sequences (bootstrap) approach"
   ]
  },
  {
   "cell_type": "code",
   "execution_count": null,
   "metadata": {},
   "outputs": [],
   "source": [
    "j_ = 1000  # number of scenarios\n",
    "Epsi_path = zeros((d_,tau_proj,j_))\n",
    "for tau in range(tau_proj):\n",
    "    Epsi_path[:,tau,:]=SampleScenProbDistribution(epsi, p, j_)"
   ]
  },
  {
   "cell_type": "markdown",
   "metadata": {},
   "source": [
    "## Path of the risk drivers"
   ]
  },
  {
   "cell_type": "code",
   "execution_count": null,
   "metadata": {},
   "outputs": [],
   "source": [
    "X_path = zeros((d_, tau_proj + 1, j_))  # initialization\n",
    "X_path[:, [0],:]=tile(x_tnow[...,newaxis,newaxis], (1, 1, j_))  # first node of the path: current value of the risk drivers"
   ]
  },
  {
   "cell_type": "markdown",
   "metadata": {},
   "source": [
    "## Project stocks and options risk drivers according to a multivariate random walk"
   ]
  },
  {
   "cell_type": "code",
   "execution_count": null,
   "metadata": {},
   "outputs": [],
   "source": [
    "RandomWalk_idx = r_[arange(Stocks.i_), arange(Stocks.i_ + Bonds.i_ ,i_)]  # position of the random walk entries in the risk drivers and invariants panels\n",
    "for j in range(j_):\n",
    "    X_path[RandomWalk_idx, 1:, j]= tile(X_path[RandomWalk_idx, 0, j][...,newaxis], (1, tau_proj)) + cumsum(Epsi_path[RandomWalk_idx,:, j], 1)"
   ]
  },
  {
   "cell_type": "markdown",
   "metadata": {},
   "source": [
    "## Project the shadow rates according to the VAR(1) model fitted in the quest for invariance step"
   ]
  },
  {
   "cell_type": "code",
   "execution_count": null,
   "metadata": {},
   "outputs": [],
   "source": [
    "Rates.idx = arange(Stocks.i_, Stocks.i_+ Bonds.i_)\n",
    "for j in range(j_):\n",
    "    for t in range(1,tau_proj + 1):\n",
    "        X_path[Rates.idx, t, j] = Rates.alpha + Rates.beta@X_path[Rates.idx, [t - 1], j] + Epsi_path[Rates.idx, [t - 1], j]"
   ]
  },
  {
   "cell_type": "markdown",
   "metadata": {},
   "source": [
    "## Probabilities associated to the projected paths"
   ]
  },
  {
   "cell_type": "code",
   "execution_count": null,
   "metadata": {},
   "outputs": [],
   "source": [
    "p = ones((1, j_)) / j_"
   ]
  }
 ],
 "metadata": {
  "jupytext": {
   "encoding": "# -*- coding: utf-8 -*-",
   "executable": "/usr/bin/env python3"
  },
  "kernelspec": {
   "display_name": "Python 3",
   "language": "python",
   "name": "python3"
  }
 },
 "nbformat": 4,
 "nbformat_minor": 4
}
