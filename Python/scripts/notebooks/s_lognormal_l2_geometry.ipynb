{
 "cells": [
  {
   "cell_type": "markdown",
   "metadata": {},
   "source": [
    "# s_lognormal_l2_geometry [<img src=\"https://www.arpm.co/lab/icons/icon_permalink.png\" width=30 height=30 style=\"display: inline;\">](https://www.arpm.co/lab/redirect.php?code=s_lognormal_l2_geometry&codeLang=Python)\n",
    "For details, see [here](https://www.arpm.co/lab/redirect.php?permalink=EBRandGeomLogN)."
   ]
  },
  {
   "cell_type": "code",
   "execution_count": null,
   "metadata": {},
   "outputs": [],
   "source": [
    "import numpy as np\n",
    "import matplotlib.pyplot as plt\n",
    "\n",
    "from arpym.statistics.simulate_normal import simulate_normal\n",
    "from arpym.tools.plot_ellipse import plot_ellipse\n",
    "from arpym.tools.transpose_square_root import transpose_square_root\n",
    "from arpym.tools.logo import add_logo"
   ]
  },
  {
   "cell_type": "markdown",
   "metadata": {},
   "source": [
    "## [Input parameters](https://www.arpm.co/lab/redirect.php?permalink=s_lognormal_l2_geometry-parameters)"
   ]
  },
  {
   "cell_type": "code",
   "execution_count": null,
   "metadata": {},
   "outputs": [],
   "source": [
    "j_ = 10000  # number of scenarios\n",
    "mu = np.array([0, 0.1])  # location\n",
    "svec = np.array([0.9, 0.7])  # standard deviations\n",
    "rho = 0.2  # correlation coefficient"
   ]
  },
  {
   "cell_type": "markdown",
   "metadata": {},
   "source": [
    "## [Step 1](https://www.arpm.co/lab/redirect.php?permalink=s_lognormal_l2_geometry-implementation-step01): Generate lognormal scenarios and compute expectation and covariance"
   ]
  },
  {
   "cell_type": "code",
   "execution_count": null,
   "metadata": {},
   "outputs": [],
   "source": [
    "sig2 = np.diag(svec)@np.array([[1, rho], [rho, 1]])@np.diag(svec)  # normal covariance\n",
    "x_n = simulate_normal(mu, sig2, j_) # normal scenarios\n",
    "x = np.exp(x_n)  # lognormal scenarios\n",
    "mu_x = np.exp(mu + 0.5*np.diag(sig2))  # lognormal expectation\n",
    "sig2_x = np.diag(mu_x)@(np.exp(sig2) - np.ones((2, 1)))@np.diag(mu_x)  # lognormal covariance"
   ]
  },
  {
   "cell_type": "markdown",
   "metadata": {},
   "source": [
    "## [Step 2](https://www.arpm.co/lab/redirect.php?permalink=s_lognormal_l2_geometry-implementation-step02): Compute expectation inner product, lengths, distance, angle"
   ]
  },
  {
   "cell_type": "code",
   "execution_count": null,
   "metadata": {},
   "outputs": [],
   "source": [
    "e_inn_prod = mu_x[0]*mu_x[1] + sig2_x[0, 1]  # expectation inner product\n",
    "e_len_x1 = np.sqrt(mu_x[0]**2 + sig2_x[0, 0])  # expectation length of X1\n",
    "e_len_x2 = np.sqrt(mu_x[1]**2 + sig2_x[1, 1])  # expectation length of X2\n",
    "e_dist = np.sqrt(e_len_x1**2 + e_len_x2**2 - 2*e_inn_prod)  # expectation distance\n",
    "e_ang = e_inn_prod/(e_len_x1*e_len_x2)  # expectation angle"
   ]
  },
  {
   "cell_type": "markdown",
   "metadata": {},
   "source": [
    "## [Step 3](https://www.arpm.co/lab/redirect.php?permalink=s_lognormal_l2_geometry-implementation-step03): Compute covarance inner product, lengths, distance, angle"
   ]
  },
  {
   "cell_type": "code",
   "execution_count": null,
   "metadata": {},
   "outputs": [],
   "source": [
    "cov_inn_prod = sig2_x[0, 1]  # covariance inner product\n",
    "cov_len_x1 = np.sqrt(np.diag(sig2_x)[0])  # covariance length of X1 \n",
    "cov_len_x2 = np.sqrt(np.diag(sig2_x)[1])  # covariance length of X2\n",
    "cov_dist = np.sqrt(cov_len_x1**2 + cov_len_x2**2 - 2*cov_inn_prod)  # covariance distance\n",
    "cov_ang = cov_inn_prod/(cov_len_x1*cov_len_x2)  # covariance angle"
   ]
  },
  {
   "cell_type": "markdown",
   "metadata": {},
   "source": [
    "## [Step 4](https://www.arpm.co/lab/redirect.php?permalink=s_lognormal_l2_geometry-implementation-step04): Compute visualisation map"
   ]
  },
  {
   "cell_type": "code",
   "execution_count": null,
   "metadata": {},
   "outputs": [],
   "source": [
    "c2 = np.diag(1/np.sqrt(np.diag(sig2_x)))@sig2_x@np.diag(1/np.sqrt(np.diag(sig2_x)))  # correlation matrix\n",
    "c = transpose_square_root(c2, method='Riccati')  # Ricatti root of c2\n",
    "x_visual = c.T@np.diag(np.sqrt(np.diag(sig2_x)))  # visualisation vectors"
   ]
  },
  {
   "cell_type": "markdown",
   "metadata": {},
   "source": [
    "## [Step 5](https://www.arpm.co/lab/redirect.php?permalink=s_lognormal_l2_geometry-implementation-step05): Expectation-covariance ellipsoid computations"
   ]
  },
  {
   "cell_type": "code",
   "execution_count": null,
   "metadata": {},
   "outputs": [],
   "source": [
    "ellipse_mux_sig2x = plot_ellipse(mu_x, sig2_x, display_ellipse=False, plot_axes=True, plot_tang_box=True)"
   ]
  },
  {
   "cell_type": "markdown",
   "metadata": {},
   "source": [
    "## Plot"
   ]
  },
  {
   "cell_type": "code",
   "execution_count": null,
   "metadata": {
    "lines_to_next_cell": 0
   },
   "outputs": [],
   "source": [
    "plt.style.use('arpm')\n",
    "\n",
    "# Colors\n",
    "gray = [150/255, 150/255, 150/255]\n",
    "light_gray = [230/255, 230/255, 230/255]\n",
    "light_blue = [181/255, 225/255, 223/255]\n",
    "\n",
    "# Figure specifications\n",
    "plt.figure()\n",
    "mydpi = 72.0\n",
    "f = plt.figure(figsize=(1280.0/mydpi, 720.0/mydpi), dpi=mydpi)\n",
    "\n",
    "x1 = max(abs((x_visual[0])))\n",
    "x2 = max(abs((x_visual[1])))\n",
    "\n",
    "ax1 = plt.axes([0.14, 0.12, 0.25, 0.35])\n",
    "ax1.scatter(x[:, 0], x[:, 1], 2, marker='*', linewidths=1, color=gray)\n",
    "ax1.tick_params(axis='x', colors='None')\n",
    "ax1.tick_params(axis='y', colors='None')\n",
    "ellipse_mux_sig2x = plot_ellipse(mu_x, sig2_x, display_ellipse=True)\n",
    "plt.xlabel('$X_1$', labelpad=-5)\n",
    "plt.ylabel('$X_2$', labelpad=-5)\n",
    "plt.xlim([-0.1, 4])\n",
    "plt.ylim([-0.1, 2.8])\n",
    "\n",
    "ax2 = plt.axes([0.14, -0.01, 0.25, 0.08])\n",
    "plt.hist(np.sort(x[:, 0]), bins=int(100*np.log(j_)), density=True, bottom=0, color=light_gray)\n",
    "plt.xlim([-0.1, 4])\n",
    "plt.ylim([0, 1])\n",
    "plt.gca().invert_yaxis()\n",
    "\n",
    "ax3 = plt.axes([0.05, 0.12, 0.05, 0.35])\n",
    "plt.hist(np.sort(x[:, 1]), bins=int(100*np.log(j_)), density=True,\n",
    "         color=light_blue, bottom=0, orientation='horizontal')\n",
    "plt.xlim([0, 1])\n",
    "plt.gca().invert_xaxis()\n",
    "plt.ylim([-0.1, 2.8])\n",
    "\n",
    "ax4 = plt.axes([0.46, 0.12, 0.25, 0.35])\n",
    "plt.quiver(0, 0, x_visual[0, 0], x_visual[1, 0], color = light_gray, lw= 2, angles='xy',scale_units='xy',scale=1)\n",
    "plt.quiver(0, 0, x_visual[0, 1], x_visual[1, 1], color = light_blue, lw= 2, angles='xy',scale_units='xy',scale=1)\n",
    "quiv1 = plt.plot(0, 0, color=light_gray, lw= 2, marker=None)\n",
    "quiv2 = plt.plot(0, 0, color=light_blue, lw= 2, marker=None)\n",
    "plt.plot(0, 0, 'o',markeredgecolor='k',markerfacecolor='w')\n",
    "plt.grid(True)\n",
    "plt.ylim([-0.1, 2.8])\n",
    "plt.xlim([-0.1, 4])\n",
    "plt.legend(['$X_1$','$X_2$'])\n",
    "\n",
    "add_logo(f, axis=ax1, location=4, set_fig_size=False)"
   ]
  },
  {
   "cell_type": "code",
   "execution_count": null,
   "metadata": {
    "lines_to_next_cell": 2
   },
   "outputs": [],
   "source": []
  }
 ],
 "metadata": {
  "jupytext": {
   "encoding": "# -*- coding: utf-8 -*-",
   "executable": "/usr/bin/env python3"
  },
  "kernelspec": {
   "display_name": "Python 3",
   "language": "python",
   "name": "python3"
  }
 },
 "nbformat": 4,
 "nbformat_minor": 4
}
