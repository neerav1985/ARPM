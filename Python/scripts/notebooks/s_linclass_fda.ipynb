{
 "cells": [
  {
   "cell_type": "markdown",
   "metadata": {},
   "source": [
    "# s_linclass_fda [<img src=\"https://www.arpm.co/lab/icons/icon_permalink.png\" width=30 height=30 style=\"display: inline;\">](https://www.arpm.co/lab/redirect.php?code=s_linclass_fda&codeLang=Python)\n",
    "For details, see [here](https://www.arpm.co/lab/redirect.php?permalink=s_linclass_fda)."
   ]
  },
  {
   "cell_type": "code",
   "execution_count": null,
   "metadata": {},
   "outputs": [],
   "source": [
    "import numpy as np\n",
    "import pandas as pd\n",
    "from sklearn.preprocessing import OneHotEncoder\n",
    "from sklearn.discriminant_analysis import LinearDiscriminantAnalysis\n",
    "from sklearn.metrics import auc, confusion_matrix, roc_curve\n",
    "from scipy.special import logit, expit\n",
    "from scipy.optimize import minimize_scalar\n",
    "import matplotlib.pyplot as plt\n",
    "from mpl_toolkits.mplot3d import Axes3D\n",
    "\n",
    "from arpym.statistics.meancov_sp import meancov_sp\n",
    "from arpym.tools.logo import add_logo"
   ]
  },
  {
   "cell_type": "markdown",
   "metadata": {},
   "source": [
    "## [Step 0](https://www.arpm.co/lab/redirect.php?permalink=s_linclass_fda-implementation-step00): Load data"
   ]
  },
  {
   "cell_type": "code",
   "execution_count": null,
   "metadata": {},
   "outputs": [],
   "source": [
    "data = pd.read_csv('~/databases/temporary-databases/db_ml_variables.csv')\n",
    "j_ = int(data['j_in_sample'][0])\n",
    "x = data['x'].values[:j_]  # scenarios of outputs and inputs \n",
    "z = data['z'].values.reshape(j_, 2)"
   ]
  },
  {
   "cell_type": "markdown",
   "metadata": {},
   "source": [
    "## [Step 1](https://www.arpm.co/lab/redirect.php?permalink=s_linclass_fda-implementation-step01): Define target variables"
   ]
  },
  {
   "cell_type": "code",
   "execution_count": null,
   "metadata": {},
   "outputs": [],
   "source": [
    "phi_z = np.c_[z[:, 0], z[:, 0]*z[:, 1]]  # scenarios of features\n",
    "x = np.heaviside(x, 1)  # scenarios of binary output"
   ]
  },
  {
   "cell_type": "markdown",
   "metadata": {},
   "source": [
    "## [Step 2](https://www.arpm.co/lab/redirect.php?permalink=s_linclass_fda-implementation-step02): Compute conditional expectations and covariances of the scores"
   ]
  },
  {
   "cell_type": "code",
   "execution_count": null,
   "metadata": {},
   "outputs": [],
   "source": [
    "e_z0, cv_z0 = meancov_sp(phi_z[x==0])  # mean and covariance of φ(Z) given X=0\n",
    "e_z1, cv_z1 = meancov_sp(phi_z[x==1])  # mean and covariance of φ(Z) given X=1\n",
    "p = len(x[x==1])/j_  # probability of positive outcome of X\n",
    "e_cv_zx = (1-(len(x[x==1])/j_))*cv_z0 + (len(x[x==1])/j_)*cv_z1  # within-cluster covariance of φ(Z) given X"
   ]
  },
  {
   "cell_type": "markdown",
   "metadata": {},
   "source": [
    "## [Step 3](https://www.arpm.co/lab/redirect.php?permalink=s_linclass_fda-implementation-step03): Predict simulations via FDA and compute misclassification error"
   ]
  },
  {
   "cell_type": "code",
   "execution_count": null,
   "metadata": {},
   "outputs": [],
   "source": [
    "gamma = np.linalg.norm(np.linalg.solve(e_cv_zx, e_z1 - e_z0))  # normalizing constant\n",
    "beta = (1/gamma)*np.linalg.solve(e_cv_zx, e_z1 - e_z0)    # FDA direction\n",
    "\n",
    "def x_bar_f(a):\n",
    "    return np.heaviside(a + phi_z@beta.T, 1)  # scenarios of point prediction as functions of bias\n",
    "\n",
    "def error_f(a):\n",
    "    x_bar = x_bar_f(a)\n",
    "    return np.mean((x-x_bar)**2)  # misclassification error as function of bias\n",
    "\n",
    "alpha = minimize_scalar(error_f)  # FDA bias\n",
    "\n",
    "x_bar = x_bar_f(alpha.x)  # scenarios of point prediction\n",
    "error = error_f(alpha.x)  # misclassification error"
   ]
  },
  {
   "cell_type": "markdown",
   "metadata": {},
   "source": [
    "## [Step 3](https://www.arpm.co/lab/redirect.php?permalink=s_linclass_fda-implementation-step03): Compute scores, AUC, confusion matrix"
   ]
  },
  {
   "cell_type": "code",
   "execution_count": null,
   "metadata": {},
   "outputs": [],
   "source": [
    "s_0 = alpha.x + phi_z[x == 0]@beta.T  # conditional scores\n",
    "s_1 = alpha.x + phi_z[x == 1]@beta.T\n",
    "fpr, tpr, _ = roc_curve(x, expit(alpha.x + phi_z@beta.T))  # false and true positive rates\n",
    "auc = auc(fpr, tpr)  # AUC\n",
    "p_xxbar = confusion_matrix(x, x_bar)/np.sum(confusion_matrix(x, x_bar), axis=1)  # confusion matrix"
   ]
  },
  {
   "cell_type": "markdown",
   "metadata": {},
   "source": [
    "## Plots"
   ]
  },
  {
   "cell_type": "code",
   "execution_count": null,
   "metadata": {},
   "outputs": [],
   "source": [
    "plt.style.use('arpm')\n",
    "fig = plt.figure(figsize=(1280.0/72.0, 720.0/72.0), dpi=72.0)\n",
    "\n",
    "# parameters\n",
    "orange = [255/255, 153/255, 0/255]\n",
    "green = [60/255, 149/255, 145/255]\n",
    "grtrue = [0, 0.4, 0]\n",
    "grhatch = [0, 0.1, 0]\n",
    "grfalse = [0.2, 0.6, 0]\n",
    "red = [227/255, 66/255, 52/255]\n",
    "blue = [13/255, 94/255, 148/255]\n",
    "n_classes = 2\n",
    "plot_colors = [\"red\", \"blue\"]\n",
    "plot_step = 0.02\n",
    "phi_zz1, phi_zz2 = np.meshgrid(np.arange(-2, 2, plot_step),\n",
    "                               np.arange(-2, 2, plot_step))\n",
    "idxx0 = np.where(np.abs(phi_z[:, 0]) <= 2)[0]\n",
    "idxx1 = np.where(np.abs(phi_z[:, 1]) <= 2)[0]\n",
    "idxx = np.intersect1d(idxx0, idxx1)\n",
    "\n",
    "# ROC curve\n",
    "ax1 = plt.subplot2grid((4, 4), (0, 0), colspan=2, rowspan=2)\n",
    "ax1.plot(fpr, tpr, color='b')\n",
    "ax1.set_xlabel('fpr')\n",
    "ax1.set_ylabel('tpr')\n",
    "ax1.text(0.2, 0.05, 'AUC = %.2f' % auc)\n",
    "plt.text(0.2, 0.14, '$L_0$ error = %.2f' % error)\n",
    "plt.xlim([0, 1])\n",
    "plt.ylim([0, 1])\n",
    "plt.axis('square')\n",
    "ax1.set_title('ROC curve', fontweight='bold')\n",
    "\n",
    "add_logo(fig, axis=ax1, location=5, size_frac_x=1/8)\n",
    "\n",
    "# 3D plot\n",
    "ax2 = plt.subplot2grid((4, 4), (2, 0), colspan=2, rowspan=2, projection='3d')\n",
    "x_plot = np.heaviside(alpha.x +np.c_[phi_zz1.ravel(), phi_zz2.ravel()]@beta.T, 1)\n",
    "x_plot = x_plot.reshape(phi_zz1.shape)\n",
    "ax2.plot_surface(phi_zz1, phi_zz2, x_plot,\n",
    "                 cmap=plt.cm.RdYlBu, alpha=0.7)\n",
    "# scatter plot\n",
    "for i, color in zip(range(n_classes), plot_colors):\n",
    "    idx = np.intersect1d(np.where(x == i), idxx)\n",
    "    ax2.scatter3D(phi_z[idx, 0], phi_z[idx, 1], x[idx], c=color,\n",
    "                  label=['0', '1'][i],\n",
    "                  cmap=plt.cm.RdYlBu, edgecolor='black', s=15, alpha=0.5)\n",
    "ax2.view_init(30, -90)\n",
    "ax2.set_xlabel('$\\phi_1(Z)$')\n",
    "ax2.set_ylabel('$\\phi_2(Z)$')\n",
    "ax2.set_zlabel('$X$')\n",
    "ax2.set_title('Surface fitted with FDA', fontweight='bold')\n",
    "ax2.set_xlim([-2, 2])\n",
    "ax2.set_ylim([-2, 2])\n",
    "# ax.legend()\n",
    "\n",
    "# regions plot\n",
    "ax3 = plt.subplot2grid((4, 4), (2, 2), colspan=2, rowspan=2)\n",
    "xx_perc = np.heaviside(alpha.x +np.c_[phi_zz1.ravel(), phi_zz2.ravel()]@beta.T, 1)\n",
    "# Put the result into a color plot\n",
    "xx_perc = xx_perc.reshape(phi_zz1.shape)\n",
    "ax3.contourf(phi_zz1, phi_zz2, xx_perc, cmap=plt.cm.RdYlBu, alpha=0.5)\n",
    "# Scatter plot\n",
    "for i, color in zip(range(n_classes), plot_colors):\n",
    "    idx = np.where(x == i)\n",
    "    ax3.scatter(phi_z[idx, 0], phi_z[idx, 1], c=color,\n",
    "                label=['0', '1'][i],\n",
    "                cmap=plt.cm.RdYlBu, edgecolor='black', s=15, alpha=0.7)\n",
    "ax3.set_xlabel('$\\phi_1(Z)$')\n",
    "ax3.set_ylabel('$\\phi_2(Z)$')\n",
    "plt.xlim([-2, 2])\n",
    "plt.ylim([-2, 2])\n",
    "ax3.set_title('Decision regions', fontweight='bold')\n",
    "\n",
    "# Scores\n",
    "ax4 = plt.subplot2grid((4, 4), (0, 2), colspan=2, rowspan=1)\n",
    "ax4.hist(s_0, 80, density=True, alpha=0.7, color=red)\n",
    "ax4.hist(s_1, 80, density=True, alpha=0.7, color=blue)\n",
    "yymax = ax4.get_ylim()[1]\n",
    "ax4.plot([0, 0], [0, yymax], 'k--')\n",
    "ax4.legend(['S | 0', 'S | 1'])\n",
    "ax4.set_title('Scores distribution', fontweight='bold')\n",
    "\n",
    "# rates\n",
    "ax5 = plt.subplot2grid((4, 4), (1, 2), colspan=2, rowspan=1)\n",
    "ax5.fill([0.15, 0.15, 0.35, 0.35],\n",
    "         [0, p_xxbar[0, 1], p_xxbar[0, 1], 0], facecolor=grfalse,\n",
    "         edgecolor=grhatch, hatch='//', alpha=0.7)\n",
    "ax5.fill([0.15, 0.15, 0.35, 0.35],\n",
    "         [p_xxbar[0, 1], 1, 1, p_xxbar[0, 1]],\n",
    "         facecolor=grfalse, alpha=0.7)\n",
    "ax5.fill([0.45, 0.45, 0.65, 0.65],\n",
    "         [0, p_xxbar[1, 1], p_xxbar[1, 1], 0], facecolor=grtrue,\n",
    "         alpha=0.7)\n",
    "ax5.fill([0.45, 0.45, 0.65, 0.65],\n",
    "         [p_xxbar[1, 1], 1, 1, p_xxbar[1, 1]], facecolor=grtrue,\n",
    "         edgecolor=grhatch, hatch='\\\\\\\\', alpha=0.7)\n",
    "ax5.set_ylim([0, 1])\n",
    "ax5.legend(['fpr', 'tnr', 'tpr', 'fnr'], bbox_to_anchor=(0.001, -0.07, 1., .1),\n",
    "           facecolor='white',\n",
    "           loc=1, ncol=5, mode=\"expand\")\n",
    "ax5.set_title('Confusion matrix', fontweight='bold')\n",
    "ax5.set_xticks([])\n",
    "ax5.grid(False)\n",
    "\n",
    "plt.tight_layout()"
   ]
  }
 ],
 "metadata": {
  "jupytext": {
   "encoding": "# -*- coding: utf-8 -*-",
   "executable": "/usr/bin/env python3"
  },
  "kernelspec": {
   "display_name": "Python 3",
   "language": "python",
   "name": "python3"
  }
 },
 "nbformat": 4,
 "nbformat_minor": 4
}
