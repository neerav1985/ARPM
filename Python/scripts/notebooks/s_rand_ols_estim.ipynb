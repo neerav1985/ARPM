{
 "cells": [
  {
   "cell_type": "markdown",
   "metadata": {},
   "source": [
    "# s_rand_ols_estim [<img src=\"https://www.arpm.co/lab/icons/icon_permalink.png\" width=30 height=30 style=\"display: inline;\">](https://www.arpm.co/lab/redirect.php?code=s_rand_ols_estim&codeLang=Python)\n",
    "For details, see [here](https://www.arpm.co/lab/redirect.php?permalink=ExFactBayesOLSEstim)."
   ]
  },
  {
   "cell_type": "code",
   "execution_count": null,
   "metadata": {},
   "outputs": [],
   "source": [
    "import matplotlib.pyplot as plt\n",
    "import numpy as np\n",
    "from scipy import stats\n",
    "\n",
    "from arpym.estimation.fit_lfm_ols import fit_lfm_ols\n",
    "from arpym.tools.histogram_sp import histogram_sp\n",
    "from arpym.tools.logo import add_logo"
   ]
  },
  {
   "cell_type": "markdown",
   "metadata": {},
   "source": [
    "## [Input parameters](https://www.arpm.co/lab/redirect.php?permalink=s_rand_ols_estim-parameters)"
   ]
  },
  {
   "cell_type": "code",
   "execution_count": null,
   "metadata": {},
   "outputs": [],
   "source": [
    "t_ = 10  # len of the time series\n",
    "j_ = 1000  # number of simulations\n",
    "b = 1  # real value of b\n",
    "sigma2 = 4  # real value of sigma"
   ]
  },
  {
   "cell_type": "markdown",
   "metadata": {},
   "source": [
    "## [Step 1](https://www.arpm.co/lab/redirect.php?permalink=s_rand_ols_estim-implementation-step01): Generate simulations of factor, conditional residual and randomized time series"
   ]
  },
  {
   "cell_type": "code",
   "execution_count": null,
   "metadata": {},
   "outputs": [],
   "source": [
    "z = np.random.randn(t_)\n",
    "u = np.sqrt(sigma2) * np.random.randn(j_, t_)\n",
    "x = b * z + u"
   ]
  },
  {
   "cell_type": "markdown",
   "metadata": {},
   "source": [
    "## [Step 2](https://www.arpm.co/lab/redirect.php?permalink=s_rand_ols_estim-implementation-step02): Compute simulations of the least squares estimators"
   ]
  },
  {
   "cell_type": "code",
   "execution_count": null,
   "metadata": {},
   "outputs": [],
   "source": [
    "_, b_hat, sigma2_u, _ = fit_lfm_ols(x.T, z, fit_intercept=False)\n",
    "s_hat = np.diag(sigma2_u)"
   ]
  },
  {
   "cell_type": "markdown",
   "metadata": {},
   "source": [
    "## [Step 3](https://www.arpm.co/lab/redirect.php?permalink=s_rand_ols_estim-implementation-step03): Compute the empirical and analytical pdfs of OLS estimator of loading"
   ]
  },
  {
   "cell_type": "code",
   "execution_count": null,
   "metadata": {},
   "outputs": [],
   "source": [
    "f_b_emp, b_grid = histogram_sp(b_hat)\n",
    "f_b_ana = stats.norm.pdf(b_grid, b, np.sqrt(sigma2 / t_))"
   ]
  },
  {
   "cell_type": "markdown",
   "metadata": {},
   "source": [
    "## [Step 4](https://www.arpm.co/lab/redirect.php?permalink=s_rand_ols_estim-implementation-step04): Compute the empirical and analytical pdfs of OLS estimator of dispersion"
   ]
  },
  {
   "cell_type": "code",
   "execution_count": null,
   "metadata": {},
   "outputs": [],
   "source": [
    "f_s_emp, s_grid = histogram_sp(s_hat)\n",
    "f_s_ana = stats.wishart.pdf(s_grid, t_ - 1, sigma2 / t_)"
   ]
  },
  {
   "cell_type": "markdown",
   "metadata": {},
   "source": [
    "## [Step 5](https://www.arpm.co/lab/redirect.php?permalink=s_rand_ols_estim-implementation-step05): Compute then analytical joint pdfs"
   ]
  },
  {
   "cell_type": "code",
   "execution_count": null,
   "metadata": {},
   "outputs": [],
   "source": [
    "f_bs_ana = np.outer(f_b_ana, f_s_ana)"
   ]
  },
  {
   "cell_type": "markdown",
   "metadata": {},
   "source": [
    "## Plots"
   ]
  },
  {
   "cell_type": "code",
   "execution_count": null,
   "metadata": {},
   "outputs": [],
   "source": [
    "plt.style.use('arpm')\n",
    "\n",
    "# residual pdf\n",
    "fig1 = plt.figure()\n",
    "u_grid = np.linspace(-4 * np.sqrt(sigma2), 4 * np.sqrt(sigma2), 200)\n",
    "f_u_ana = stats.norm.pdf(u_grid, 0, np.sqrt(sigma2))\n",
    "plt.plot(u_grid, f_u_ana, color=[0.25, 0.25, 1])\n",
    "plt.title('Distribution of conditional residual')\n",
    "plt.xlabel(r'$U_t|z_t,\\beta,\\sigma^2$')\n",
    "\n",
    "add_logo(fig1, location=1)\n",
    "plt.tight_layout()\n",
    "\n",
    "# loading pdf\n",
    "fig2 = plt.figure()\n",
    "plt.bar(b_grid, f_b_emp, width=b_grid[1]-b_grid[0], facecolor=[0.8, 0.8, 0.8])\n",
    "plt.plot(b_grid, f_b_ana, color=[0.25, 0.25, 1], lw=1.5)\n",
    "plt.title('OLS loading distribution')\n",
    "plt.legend(['empirical pdf', 'analytical pdf'])\n",
    "plt.xlabel(r'$Loadings|\\beta,\\sigma^2$')\n",
    "\n",
    "add_logo(fig2, location=2)\n",
    "plt.tight_layout()\n",
    "\n",
    "# dispersion pdf\n",
    "fig3 = plt.figure()\n",
    "plt.bar(s_grid, f_s_emp, width=s_grid[1]-s_grid[0], facecolor=[0.8, 0.8, 0.8])\n",
    "plt.plot(s_grid, f_s_ana, color=[0.25, 0.25, 1], lw=1.5)\n",
    "plt.title('OLS dispersion distribution')\n",
    "plt.legend(['empirical pdf', 'analytical pdf'])\n",
    "plt.xlabel(r'$Dispersion|\\beta,\\sigma^2$')\n",
    "\n",
    "add_logo(fig3, location=2)\n",
    "plt.tight_layout()\n",
    "\n",
    "# joint distribution\n",
    "fig4 = plt.figure()\n",
    "plt.plot(b_hat, s_hat, '*', markersize=4, color=[0.5, 0.5, 0.5])\n",
    "plt.contour(b_grid, s_grid, f_bs_ana.T, 6)\n",
    "plt.plot([], [], 'k', lw=1.3)\n",
    "plt.legend(['empirical scatter plot', 'analytical contour lines'])\n",
    "plt.xlabel(r'Loadings|$\\beta,\\sigma^2$')\n",
    "plt.ylabel(r'Dispersion|$\\beta,\\sigma^2$')\n",
    "plt.title('Joint distribution of OLS estimators')\n",
    "\n",
    "add_logo(fig4, location=4)\n",
    "plt.tight_layout()"
   ]
  }
 ],
 "metadata": {
  "jupytext": {
   "encoding": "# -*- coding: utf-8 -*-",
   "executable": "/usr/bin/env python3"
  },
  "kernelspec": {
   "display_name": "Python 3",
   "language": "python",
   "name": "python3"
  }
 },
 "nbformat": 4,
 "nbformat_minor": 4
}
