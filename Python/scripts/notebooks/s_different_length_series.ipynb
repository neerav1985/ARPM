{
 "cells": [
  {
   "cell_type": "markdown",
   "metadata": {},
   "source": [
    "# s_different_length_series [<img src=\"https://www.arpm.co/lab/icons/icon_permalink.png\" width=30 height=30 style=\"display: inline;\">](https://www.arpm.co/lab/redirect.php?code=s_different_length_series&codeLang=Python)\n",
    "For details, see [here](https://www.arpm.co/lab/redirect.php?permalink=exer-diff-length-copy-1)."
   ]
  },
  {
   "cell_type": "code",
   "execution_count": null,
   "metadata": {},
   "outputs": [],
   "source": [
    "import numpy as np\n",
    "import matplotlib.pyplot as plt\n",
    "import pandas as pd\n",
    "\n",
    "from arpym.estimation.exp_decay_fp import exp_decay_fp\n",
    "from arpym.estimation.fit_locdisp_mlfp import fit_locdisp_mlfp\n",
    "from arpym.estimation.fit_locdisp_mlfp_difflength import fit_locdisp_mlfp_difflength\n",
    "from arpym.tools.plot_ellipse import plot_ellipse\n",
    "from arpym.tools.colormap_fp import colormap_fp\n",
    "from arpym.tools.logo import add_logo"
   ]
  },
  {
   "cell_type": "markdown",
   "metadata": {},
   "source": [
    "## [Input parameters](https://www.arpm.co/lab/redirect.php?permalink=s_different_length_series-parameters)"
   ]
  },
  {
   "cell_type": "code",
   "execution_count": null,
   "metadata": {},
   "outputs": [],
   "source": [
    "nu = 4  # degrees of freedom in MLFP estimation\n",
    "tau_hl = 2*252  # half life decay parameter for flexible probabilities\n",
    "trunc = 0.8  # proportion of the time series to be dropped\n",
    "tol = 10 ** -6  # MLFP routine convergence threshold"
   ]
  },
  {
   "cell_type": "markdown",
   "metadata": {},
   "source": [
    "## [Step 0](https://www.arpm.co/lab/redirect.php?permalink=s_different_length_series-implementation-step00): Upload data"
   ]
  },
  {
   "cell_type": "code",
   "execution_count": null,
   "metadata": {},
   "outputs": [],
   "source": [
    "times_to_maturity = np.round_(np.array([1, 2, 3, 5, 7, 8, 10]), 2)\n",
    "path = '~/databases/global-databases/fixed-income/db_yields/data.csv'\n",
    "y_db = pd.read_csv(path, parse_dates=['dates'], skip_blank_lines=True)\n",
    "\n",
    "y = y_db[times_to_maturity.astype(float).astype(str)].values"
   ]
  },
  {
   "cell_type": "markdown",
   "metadata": {},
   "source": [
    "## [Step 1](https://www.arpm.co/lab/redirect.php?permalink=s_different_length_series-implementation-step01): Compute the swap rates daily changes"
   ]
  },
  {
   "cell_type": "code",
   "execution_count": null,
   "metadata": {},
   "outputs": [],
   "source": [
    "# daily changes\n",
    "epsi = np.diff(y, 1, axis=0)"
   ]
  },
  {
   "cell_type": "markdown",
   "metadata": {},
   "source": [
    "## [Step 2](https://www.arpm.co/lab/redirect.php?permalink=s_different_length_series-implementation-step02): Flexible probabilities"
   ]
  },
  {
   "cell_type": "code",
   "execution_count": null,
   "metadata": {},
   "outputs": [],
   "source": [
    "p = exp_decay_fp(len(epsi), tau_hl)"
   ]
  },
  {
   "cell_type": "markdown",
   "metadata": {},
   "source": [
    "## [Step 3](https://www.arpm.co/lab/redirect.php?permalink=s_different_length_series-implementation-step03): Maximum likelihood with flexible probabilities - complete series"
   ]
  },
  {
   "cell_type": "code",
   "execution_count": null,
   "metadata": {},
   "outputs": [],
   "source": [
    "mu, s2 = fit_locdisp_mlfp(epsi, p=p, nu=nu, threshold=tol)"
   ]
  },
  {
   "cell_type": "markdown",
   "metadata": {},
   "source": [
    "## [Step 4](https://www.arpm.co/lab/redirect.php?permalink=s_different_length_series-implementation-step04): Drop the first portion of the observations from the 2yr and 5yr series"
   ]
  },
  {
   "cell_type": "code",
   "execution_count": null,
   "metadata": {},
   "outputs": [],
   "source": [
    "r = int(np.floor(len(epsi)*trunc))\n",
    "epsi_dl = epsi.copy()\n",
    "epsi_dl[:r, [1, 3]] = np.nan  # drop observations"
   ]
  },
  {
   "cell_type": "markdown",
   "metadata": {},
   "source": [
    "## [Step 5](https://www.arpm.co/lab/redirect.php?permalink=s_different_length_series-implementation-step05): Maximum likelihood with flexible probabilities - different length"
   ]
  },
  {
   "cell_type": "code",
   "execution_count": null,
   "metadata": {},
   "outputs": [],
   "source": [
    "mu_dl, s2_dl = fit_locdisp_mlfp_difflength(epsi_dl, p=p, nu=nu, threshold=tol)"
   ]
  },
  {
   "cell_type": "markdown",
   "metadata": {},
   "source": [
    "## [Step 6](https://www.arpm.co/lab/redirect.php?permalink=s_different_length_series-implementation-step06): Maximum likelihood with flexible probabilities - truncated series"
   ]
  },
  {
   "cell_type": "code",
   "execution_count": null,
   "metadata": {},
   "outputs": [],
   "source": [
    "epsi_trunc = epsi[r:, :]  # truncated time series\n",
    "p_trunc = p[r:] / np.sum(p[r:])  # flexible probabilities\n",
    "\n",
    "# MLFP estimation\n",
    "mu_trunc, s2_trunc = fit_locdisp_mlfp(epsi_trunc, p=p_trunc, nu=nu, threshold=tol)"
   ]
  },
  {
   "cell_type": "markdown",
   "metadata": {},
   "source": [
    "## Plots"
   ]
  },
  {
   "cell_type": "code",
   "execution_count": null,
   "metadata": {},
   "outputs": [],
   "source": [
    "plt.style.use('arpm')\n",
    "\n",
    "# scatter colormap and colors\n",
    "cm, c = colormap_fp(p, grey_range=np.arange(0.25, 0.91, 0.01), c_min=0,\n",
    "                    c_max=1, value_range=[1, 0])\n",
    "\n",
    "# Scatter plot\n",
    "epsi_25 = epsi[:, [1, 3]]  # select invariants\n",
    "\n",
    "fig = plt.figure()\n",
    "ax = plt.subplot2grid((4, 1), (0, 0), rowspan=3)\n",
    "\n",
    "plt.scatter(epsi_25[:r, 0], epsi_25[:r, 1], 20, marker='o', linewidths=3,\n",
    "            edgecolor=[.9, .7, .7], facecolor='none')  # Dropped obs.\n",
    "plt.axis('equal')\n",
    "plt.scatter(epsi_25[:, 0], epsi_25[:, 1], 20, c=c, marker='o', cmap=cm)\n",
    "plt.axis([np.percentile(epsi_25[:, 0], 5), np.percentile(epsi_25[:, 0], 95),\n",
    "          np.percentile(epsi_25[:, 1], 5), np.percentile(epsi_25[:, 1], 95)])\n",
    "plt.xlabel('2yr rate daily changes')\n",
    "plt.ylabel('5yr rate daily changes')\n",
    "plt.ticklabel_format(style='sci', scilimits=(0, 0))\n",
    "\n",
    "# Ellipsoids\n",
    "mu_25 = mu[[1, 3]]  # select invariants expectations\n",
    "mu_dl_25 = mu_dl[[1, 3]]\n",
    "mu_trunc_25 = mu_trunc[[1, 3]]\n",
    "s2_25 = s2[np.ix_([1, 3], [1, 3])]  # select invariants covariance\n",
    "s2_dl_25 = s2_dl[np.ix_([1, 3], [1, 3])]\n",
    "s2_trunc_25 = s2_trunc[np.ix_([1, 3], [1, 3])]\n",
    "\n",
    "ell = plot_ellipse(mu_25, s2_25, color='b')\n",
    "ell1 = plot_ellipse(mu_dl_25, s2_dl_25, color='tomato')\n",
    "ell2 = plot_ellipse(mu_trunc_25, s2_trunc_25, color='g')\n",
    "\n",
    "# legend\n",
    "leg = plt.legend(['MLFP - complete series', 'MLFP - different len',\n",
    "                  'MLFP - truncated series', 'Dropped observations'])\n",
    "\n",
    "# bottom plot: highlight missing observations in the dataset as white spots\n",
    "ax1 = plt.subplot2grid((4, 1), (3, 0))\n",
    "plot_dates = np.array(y_db.dates)\n",
    "na = np.ones(epsi.T.shape)\n",
    "# na=1: not-available data (2y and 5y series are placed as last two entries)\n",
    "na[-2:, :r] = 0\n",
    "plt.imshow(na, aspect='auto')\n",
    "plt.ylim([epsi.shape[1], 0])\n",
    "ax1.set_xticks([])\n",
    "ax1.set_yticks([5, 6])\n",
    "ax1.set_yticklabels([' 2yr', ' 5yr'])\n",
    "plt.grid(False)\n",
    "add_logo(fig, axis=ax)\n",
    "plt.tight_layout()"
   ]
  }
 ],
 "metadata": {
  "jupytext": {
   "encoding": "# -*- coding: utf-8 -*-",
   "executable": "/usr/bin/env python3"
  },
  "kernelspec": {
   "display_name": "Python 3",
   "language": "python",
   "name": "python3"
  }
 },
 "nbformat": 4,
 "nbformat_minor": 4
}
