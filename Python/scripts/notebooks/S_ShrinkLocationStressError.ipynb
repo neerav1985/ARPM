{
 "cells": [
  {
   "cell_type": "markdown",
   "metadata": {},
   "source": [
    "# S_ShrinkLocationStressError [<img src=\"https://www.arpm.co/lab/icons/icon_permalink.png\" width=30 height=30 style=\"display: inline;\">](https://www.arpm.co/lab/redirect.php?code=S_ShrinkLocationStressError&codeLang=Python)\n",
    "For details, see [here](https://www.arpm.co/lab/redirect.php?permalink=ExerShrinkStar)."
   ]
  },
  {
   "cell_type": "markdown",
   "metadata": {},
   "source": [
    "## Prepare the environment"
   ]
  },
  {
   "cell_type": "code",
   "execution_count": null,
   "metadata": {},
   "outputs": [],
   "source": [
    "import os\n",
    "import os.path as path\n",
    "import sys\n",
    "\n",
    "sys.path.append(path.abspath('../../functions-legacy'))\n",
    "\n",
    "from numpy import zeros, arange, mean, argmin, argmax, max as npmax, min as npmin\n",
    "\n",
    "from scipy.io import loadmat\n",
    "\n",
    "import matplotlib.pyplot as plt\n",
    "from matplotlib.pyplot import figure, bar, xlim, ylim, title, xticks\n",
    "\n",
    "plt.style.use('seaborn')\n",
    "\n",
    "from ARPM_utils import save_plot\n",
    "from CONFIG import GLOBAL_DB, TEMPORARY_DB"
   ]
  },
  {
   "cell_type": "markdown",
   "metadata": {},
   "source": [
    "## Upload database"
   ]
  },
  {
   "cell_type": "code",
   "execution_count": null,
   "metadata": {},
   "outputs": [],
   "source": [
    "try:\n",
    "    db = loadmat(os.path.join(GLOBAL_DB, 'db_Stresserror'), squeeze_me=True)\n",
    "except FileNotFoundError:\n",
    "    db = loadmat(os.path.join(TEMPORARY_DB, 'db_Stresserror'), squeeze_me=True)\n",
    "\n",
    "k_ = db['k_']\n",
    "M = db['M']\n",
    "expectation = db['expectation']\n",
    "er_rob_M = db['er_rob_M']\n",
    "er_ens_M = db['er_ens_M']"
   ]
  },
  {
   "cell_type": "markdown",
   "metadata": {},
   "source": [
    "## Compute the error of the shrinkage estimator for different confidence levels"
   ]
  },
  {
   "cell_type": "code",
   "execution_count": null,
   "metadata": {},
   "outputs": [],
   "source": [
    "gamma = arange(0,1.02,0.02)  # confidence levels\n",
    "\n",
    "er_S = zeros((k_, len(gamma)))\n",
    "for i in range(len(gamma)):\n",
    "    S = gamma[i]*3 + (1-gamma[i])*M\n",
    "    for k in range(k_):\n",
    "        L_S = (S[:,k]-expectation[k]) ** 2\n",
    "        er_S[k, i] = mean(L_S)"
   ]
  },
  {
   "cell_type": "markdown",
   "metadata": {},
   "source": [
    "## Compute robust and ensemble errors for each confidence level"
   ]
  },
  {
   "cell_type": "code",
   "execution_count": null,
   "metadata": {},
   "outputs": [],
   "source": [
    "er_rob_S, i_S = npmax(er_S, axis=0) , argmax(er_S, axis=0) # robust errors\n",
    "\n",
    "er_ens_S = mean(er_S, axis=0)  # ensemble errors"
   ]
  },
  {
   "cell_type": "markdown",
   "metadata": {},
   "source": [
    "## Find the optimal confidence level for both robust and ensemble approaches"
   ]
  },
  {
   "cell_type": "code",
   "execution_count": null,
   "metadata": {},
   "outputs": [],
   "source": [
    "i_rob = argmin(er_rob_S)\n",
    "i_ens = argmin(er_ens_S)\n",
    "\n",
    "c_rob = gamma[i_rob]  # optimal confidence level for the robust approach\n",
    "c_ens = gamma[i_ens]  # optimal confidence level for the ensemble approach"
   ]
  },
  {
   "cell_type": "markdown",
   "metadata": {},
   "source": [
    "## Create figures that compare the sample mean estimator and shrinkage estimator"
   ]
  },
  {
   "cell_type": "code",
   "execution_count": null,
   "metadata": {},
   "outputs": [],
   "source": [
    "c0_bl = [0.27, 0.4, 0.9]\n",
    "\n",
    "# axis settings\n",
    "M_rob = er_rob_M\n",
    "S_rob = er_rob_S[i_rob]\n",
    "M_ens = er_ens_M\n",
    "S_ens = er_ens_S[i_ens]\n",
    "Y_rob = (M_rob + S_rob) / 2\n",
    "dY_rob = abs((M_rob - Y_rob))\n",
    "Y_ens = (M_ens + S_ens) / 2\n",
    "dY_ens = abs((M_ens - Y_ens))\n",
    "\n",
    "# robust error\n",
    "figure()\n",
    "bar([1, 2], [M_rob, S_rob], facecolor=c0_bl)\n",
    "xlim([0.3, 2.6])\n",
    "ylim([Y_rob - 1.9*dY_rob, Y_rob + 1.5*dY_rob])\n",
    "xticks([1, 2],['Sample mean','Shrinkage'])\n",
    "title('Robust errors')\n",
    "con1 = 'Optimal shrinkage level: c = %.2f' %c_rob\n",
    "plt.text(1, Y_rob + 1.3*dY_rob, con1)\n",
    "\n",
    "# ensemble error\n",
    "figure()\n",
    "bar([1, 2], [M_ens, S_ens], facecolor=c0_bl)\n",
    "xlim([0.3, 2.6])\n",
    "ylim([Y_ens - 1.9*dY_ens, Y_ens + 1.5*dY_ens])\n",
    "xticks([1, 2],['Sample mean','Shrinkage'])\n",
    "title('Ensemble errors')\n",
    "con1 = 'Optimal shrinkage level: c = %.2f'% c_ens\n",
    "plt.text(1, Y_ens + 1.3*dY_ens, con1);\n",
    "# save_plot(ax=plt.gca(), extension='png', scriptname=os.path.basename('.')[:-3], count=plt.get_fignums()[-1])"
   ]
  }
 ],
 "metadata": {
  "jupytext": {
   "encoding": "# -*- coding: utf-8 -*-",
   "executable": "/usr/bin/env python3"
  },
  "kernelspec": {
   "display_name": "Python 3",
   "language": "python",
   "name": "python3"
  }
 },
 "nbformat": 4,
 "nbformat_minor": 4
}
