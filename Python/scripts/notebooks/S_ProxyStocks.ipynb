{
 "cells": [
  {
   "cell_type": "markdown",
   "metadata": {},
   "source": [
    "# S_ProxyStocks [<img src=\"https://www.arpm.co/lab/icons/icon_permalink.png\" width=30 height=30 style=\"display: inline;\">](https://www.arpm.co/lab/redirect.php?code=S_ProxyStocks&codeLang=Python)\n",
    "For details, see [here](https://www.arpm.co/lab/redirect.php?permalink=eb-proxy-stocks)."
   ]
  },
  {
   "cell_type": "markdown",
   "metadata": {},
   "source": [
    "## Prepare the environment"
   ]
  },
  {
   "cell_type": "code",
   "execution_count": null,
   "metadata": {},
   "outputs": [],
   "source": [
    "import os\n",
    "import os.path as path\n",
    "import sys\n",
    "\n",
    "sys.path.append(path.abspath('../../functions-legacy'))\n",
    "from collections import namedtuple\n",
    "\n",
    "from numpy import arange, array, ones, zeros, cov, mean, log, r_\n",
    "from numpy import min as npmin, max as npmax\n",
    "\n",
    "from scipy.io import loadmat\n",
    "\n",
    "import matplotlib.pyplot as plt\n",
    "from matplotlib.pyplot import figure, plot, legend, xlim, ylim, ylabel, \\\n",
    "    xticks\n",
    "import matplotlib.dates as mdates\n",
    "\n",
    "plt.style.use('seaborn')\n",
    "\n",
    "from CONFIG import GLOBAL_DB, TEMPORARY_DB\n",
    "from ARPM_utils import save_plot, struct_to_dict, date_mtop\n",
    "from ForwardSelection import ForwardSelection\n",
    "from NonParamCointegrationFP import NonParamCointegrationFP\n",
    "from ObjectiveR2 import ObjectiveR2"
   ]
  },
  {
   "cell_type": "markdown",
   "metadata": {},
   "source": [
    "## Upload dataset"
   ]
  },
  {
   "cell_type": "code",
   "execution_count": null,
   "metadata": {},
   "outputs": [],
   "source": [
    "try:\n",
    "    db = loadmat(os.path.join(GLOBAL_DB, 'db_StocksS_P'), squeeze_me=True)\n",
    "except FileNotFoundError:\n",
    "    db = loadmat(os.path.join(TEMPORARY_DB, 'db_StocksS_P'), squeeze_me=True)\n",
    "\n",
    "Data = struct_to_dict(db['Data'])"
   ]
  },
  {
   "cell_type": "markdown",
   "metadata": {},
   "source": [
    "## Compute realized time series of the log values"
   ]
  },
  {
   "cell_type": "code",
   "execution_count": null,
   "metadata": {},
   "outputs": [],
   "source": [
    "dates = Data.Dates\n",
    "z = log(Data.Prices)\n",
    "x_complete = log(Data.SP_index)"
   ]
  },
  {
   "cell_type": "markdown",
   "metadata": {},
   "source": [
    "## Suppose the complete series is made of t_end=1000 obs and only a_=120 obs are available for the S&P500 series"
   ]
  },
  {
   "cell_type": "code",
   "execution_count": null,
   "metadata": {},
   "outputs": [],
   "source": [
    "t_ = 1000\n",
    "dates = dates[- t_ :]\n",
    "z = z[:, - t_:]\n",
    "x_complete = x_complete[- t_ :]\n",
    "\n",
    "a_ = 120\n",
    "x_available = x_complete[t_ - a_:]"
   ]
  },
  {
   "cell_type": "markdown",
   "metadata": {},
   "source": [
    "## Select the best pool of factors via forward stepwise regression"
   ]
  },
  {
   "cell_type": "code",
   "execution_count": null,
   "metadata": {},
   "outputs": [],
   "source": [
    "m_ = z.shape[0]\n",
    "k_ = 15  # number of factors\n",
    "\n",
    "data = namedtuple('data', 'covXZ n_')\n",
    "data.covXZ = cov(r_[x_available.reshape(1,-1),z[:, t_ - a_:]])\n",
    "data.n_ = 1\n",
    "\n",
    "# choice of the factors by stepwise regression\n",
    "[R2, idx, num] = ForwardSelection(arange(m_), data, ObjectiveR2, 1, k_)\n",
    "factors = idx[k_-1]"
   ]
  },
  {
   "cell_type": "markdown",
   "metadata": {},
   "source": [
    "## Compute the proxy via PCA, adjusting the level"
   ]
  },
  {
   "cell_type": "code",
   "execution_count": null,
   "metadata": {},
   "outputs": [],
   "source": [
    "x = r_[x_available.reshape(1,-1), - z[factors, t_ - a_:]]\n",
    "\n",
    "theta_threshold = 0.01\n",
    "p = ones((1, a_)) / a_  # flat Flexible Probabilities\n",
    "c = NonParamCointegrationFP(x, p, 1, theta_threshold)[0]\n",
    "\n",
    "b = c[1:, 0] / c[0, 0]\n",
    "\n",
    "proxy = b.T@z[factors, :t_]\n",
    "level = mean(x_available) - b.T@mean(z[factors, t_ - a_:], 1)\n",
    "\n",
    "replicating_series = level + proxy"
   ]
  },
  {
   "cell_type": "markdown",
   "metadata": {},
   "source": [
    "## Compute the percentage errors (residuals)"
   ]
  },
  {
   "cell_type": "code",
   "execution_count": null,
   "metadata": {},
   "outputs": [],
   "source": [
    "errors = (replicating_series - x_complete) / x_complete"
   ]
  },
  {
   "cell_type": "markdown",
   "metadata": {},
   "source": [
    "## Figure: plot the original series and the replicating one, along with the percentage errors (residuals)"
   ]
  },
  {
   "cell_type": "code",
   "execution_count": null,
   "metadata": {},
   "outputs": [],
   "source": [
    "date_tick = arange(39,t_,120)\n",
    "grey = [.4, .4, .4]\n",
    "orange = [.9, .35, 0]\n",
    "dates_dt = array([date_mtop(i) for i in dates])\n",
    "from matplotlib.ticker import FuncFormatter\n",
    "myFmt = mdates.DateFormatter('%d-%b-%y')\n",
    "# proxy\n",
    "figure()\n",
    "plot(dates_dt, x_complete, color=grey,lw=1.5)\n",
    "plot(dates_dt[:t_- a_], replicating_series[:t_ - a_], color='b',lw= 1.5)\n",
    "plot(dates_dt[t_ - a_:t_], replicating_series[t_ - a_ :t_], color=orange,lw=1.3)\n",
    "xlim([min(dates_dt), max(dates_dt)])\n",
    "xticks(dates_dt[date_tick])\n",
    "ylim([0.99*npmin(x_complete), 1.01*npmax(x_complete)])\n",
    "ylabel('SP500 log-value')\n",
    "plt.gca().xaxis.set_major_formatter(myFmt)\n",
    "plt.text(dates_dt[499], 4.2, 'Out of sample', color='b')\n",
    "plt.text(dates_dt[899], 4.2, 'Calibration',color=orange)\n",
    "leg = legend(['Original series','Proxy']);\n",
    "# save_plot(ax=plt.gca(), extension='png', scriptname=os.path.basename('.')[:-3], count=plt.get_fignums()[-1])\n",
    "# percentage errors/residuals\n",
    "figure()\n",
    "plot(dates_dt, zeros(t_), color= [.7, .7, .7])\n",
    "plot(dates_dt[:t_ - a_], errors[:t_- a_], '.', markersize=4,color='b')\n",
    "plot(dates_dt[t_ - a_:t_], errors[t_ - a_ :t_], '.',markersize=4,color=[0.9, .35, 0])\n",
    "xlim([min(dates_dt), max(dates_dt)])\n",
    "xticks(dates_dt[date_tick])\n",
    "ylim([-0.015, 0.015])\n",
    "plt.gca().xaxis.set_major_formatter(myFmt)\n",
    "plt.gca().yaxis.set_major_formatter(FuncFormatter(lambda y, _: '{:.0%}'.format(y)))\n",
    "ylabel('errors / residuals')\n",
    "plt.text(dates_dt[399], -0.018, 'Out of sample', color='b')\n",
    "plt.text(dates_dt[889], -0.018, 'Calibration',color=orange);\n",
    "# save_plot(ax=plt.gca(), extension='png', scriptname=os.path.basename('.')[:-3], count=plt.get_fignums()[-1])"
   ]
  }
 ],
 "metadata": {
  "jupytext": {
   "encoding": "# -*- coding: utf-8 -*-",
   "executable": "/usr/bin/env python3"
  },
  "kernelspec": {
   "display_name": "Python 3",
   "language": "python",
   "name": "python3"
  }
 },
 "nbformat": 4,
 "nbformat_minor": 4
}
