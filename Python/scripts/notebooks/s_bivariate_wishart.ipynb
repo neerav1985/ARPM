{
 "cells": [
  {
   "cell_type": "markdown",
   "metadata": {},
   "source": [
    "# s_bivariate_wishart [<img src=\"https://www.arpm.co/lab/icons/icon_permalink.png\" width=30 height=30 style=\"display: inline;\">](https://www.arpm.co/lab/redirect.php?code=s_bivariate_wishart&codeLang=Python)\n",
    "For details, see [here](https://www.arpm.co/lab/redirect.php?permalink=ExWishartBivariate)."
   ]
  },
  {
   "cell_type": "code",
   "execution_count": null,
   "metadata": {},
   "outputs": [],
   "source": [
    "import numpy as np\n",
    "import matplotlib.pyplot as plt\n",
    "from mpl_toolkits.mplot3d import Axes3D\n",
    "\n",
    "from arpym.statistics.meancov_wishart import meancov_wishart\n",
    "from arpym.statistics.meancov_inverse_wishart import meancov_inverse_wishart\n",
    "from arpym.statistics.simulate_wishart import simulate_wishart\n",
    "from arpym.tools.logo import add_logo"
   ]
  },
  {
   "cell_type": "markdown",
   "metadata": {},
   "source": [
    "## [Input parameters](https://www.arpm.co/lab/redirect.php?permalink=s_bivariate_wishart-parameters)"
   ]
  },
  {
   "cell_type": "code",
   "execution_count": null,
   "metadata": {},
   "outputs": [],
   "source": [
    "nu = 6\n",
    "sig_1 = 1\n",
    "sig_2 = 1\n",
    "rho_12 = 0\n",
    "a = np.array([-3, 2])\n",
    "j_ = 1000"
   ]
  },
  {
   "cell_type": "markdown",
   "metadata": {},
   "source": [
    "## [Step 1](https://www.arpm.co/lab/redirect.php?permalink=s_bivariate_wishart-implementation-step01): Generate Monte Carlo simulations of the bivariate Wishart random matrix"
   ]
  },
  {
   "cell_type": "code",
   "execution_count": null,
   "metadata": {},
   "outputs": [],
   "source": [
    "sig2 = np.array([[sig_1**2, rho_12*sig_1*sig_2],\n",
    "                 [rho_12*sig_1*sig_2, sig_2**2]])\n",
    "\n",
    "w2 = simulate_wishart(nu, sig2, j_)\n",
    "w_11 = w2[:, 0, 0]\n",
    "w_12 = w2[:, 0, 1]\n",
    "w_22 = w2[:, 1, 1]"
   ]
  },
  {
   "cell_type": "markdown",
   "metadata": {},
   "source": [
    "## [Step 2](https://www.arpm.co/lab/redirect.php?permalink=s_bivariate_wishart-implementation-step02): Compute the expectation and the covariance of the Wishart distribution"
   ]
  },
  {
   "cell_type": "code",
   "execution_count": null,
   "metadata": {},
   "outputs": [],
   "source": [
    "e_w2, cv_w2 = meancov_wishart(nu, sig2)"
   ]
  },
  {
   "cell_type": "markdown",
   "metadata": {},
   "source": [
    "## [Step 3](https://www.arpm.co/lab/redirect.php?permalink=s_bivariate_wishart-implementation-step03): Compute the dispersion parameter of the transformed variable"
   ]
  },
  {
   "cell_type": "code",
   "execution_count": null,
   "metadata": {},
   "outputs": [],
   "source": [
    "sig2_a = a.T@sig2@a"
   ]
  },
  {
   "cell_type": "markdown",
   "metadata": {},
   "source": [
    "## [Step 4](https://www.arpm.co/lab/redirect.php?permalink=s_bivariate_wishart-implementation-step04): Compute the expectation and the covariance of the inverse-Wishart distribution"
   ]
  },
  {
   "cell_type": "code",
   "execution_count": null,
   "metadata": {},
   "outputs": [],
   "source": [
    "n_ = sig2.shape[0]\n",
    "psi2 = np.linalg.solve(sig2, np.eye(n_))\n",
    "\n",
    "e_sig2, cv_sig2 = meancov_inverse_wishart(nu, psi2)"
   ]
  },
  {
   "cell_type": "markdown",
   "metadata": {},
   "source": [
    "## Plots"
   ]
  },
  {
   "cell_type": "code",
   "execution_count": null,
   "metadata": {},
   "outputs": [],
   "source": [
    "range_scale = [5, 95]\n",
    "refine = 70\n",
    "\n",
    "low_11 = np.percentile(w_11, range_scale[0])\n",
    "high_11 = np.percentile(w_11, range_scale[1])\n",
    "range_w_11 = np.linspace(low_11, high_11, refine+1)\n",
    "\n",
    "low_12 = np.percentile(w_12, range_scale[0])\n",
    "high_12 = np.percentile(w_12, range_scale[1])\n",
    "range_w_12 = np.linspace(low_12, high_12, refine+1)\n",
    "\n",
    "low_22 = np.percentile(w_22, range_scale[0])\n",
    "high_22 = np.percentile(w_22, range_scale[1])\n",
    "range_w_22 = np.linspace(low_22, high_22, refine+1)\n",
    "\n",
    "plt.style.use('arpm')\n",
    "fig, ax = plt.subplots(1, 1, subplot_kw={'projection': '3d'})\n",
    "w_1_1, w_1_2 = np.meshgrid(range_w_11, range_w_12)\n",
    "\n",
    "# surface w_11 * w_22 - w_12**2 = 0\n",
    "w_2_2 = w_1_2 ** 2 / w_1_1\n",
    "ax.plot_surface(w_1_1, w_1_2, w_2_2, color='lightgray', shade=False, zorder=1)\n",
    "\n",
    "# plane w_11 + w_22 = 0\n",
    "w_22_tr = -w_1_1\n",
    "ax.plot_surface(w_1_1, w_1_2, w_22_tr, color='gray', shade=False)\n",
    "\n",
    "# bivariate Wishart distribution\n",
    "\n",
    "indices = [j for j in range(j_)\n",
    "           if range_w_11[0] < w_11[j] < range_w_11[-1]\n",
    "           if range_w_12[0] < w_12[j] < range_w_12[-1]\n",
    "           if range_w_22[0] < w_22[j] < range_w_22[-1]]\n",
    "\n",
    "ax.plot(w_11[indices], w_12[indices], w_22[indices], '.', zorder=2)\n",
    "ax.set_xlim([range_w_11[0], range_w_11[-1]])\n",
    "ax.set_ylim([range_w_12[0], range_w_12[-1]])\n",
    "ax.set_zlim([range_w_22[0]-20, range_w_22[-1] + 20])\n",
    "\n",
    "ax.set_xlabel(r'$[\\mathbf{w}]_{1,1}$')\n",
    "ax.set_ylabel(r'$[\\mathbf{w}]_{1,2}$')\n",
    "ax.set_zlabel(r'$[\\mathbf{w}]_{2,2}$')\n",
    "\n",
    "ax.set_xticks([])\n",
    "ax.set_yticks([])\n",
    "ax.set_zticks([])\n",
    "\n",
    "ax.text(range_w_11[-1]-10, range_w_12[-1], range_w_22[-1],\n",
    "        r'$[\\mathbf{w}]_{1,1}[\\mathbf{w}]_{2,2}-[\\mathbf{w}]_{2,2}^2 = 0$',\n",
    "        color=\"black\")\n",
    "ax.text(range_w_11[0], range_w_12[0], -range_w_11[-1]-5,\n",
    "        r'$[\\mathbf{w}]_{1,1}+[\\mathbf{w}]_{2,2}= 0$', color=\"black\")\n",
    "\n",
    "add_logo(fig)"
   ]
  }
 ],
 "metadata": {
  "jupytext": {
   "encoding": "# -*- coding: utf-8 -*-",
   "executable": "/usr/bin/env python3"
  },
  "kernelspec": {
   "display_name": "Python 3",
   "language": "python",
   "name": "python3"
  }
 },
 "nbformat": 4,
 "nbformat_minor": 4
}
