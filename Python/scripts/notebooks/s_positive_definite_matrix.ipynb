{
 "cells": [
  {
   "cell_type": "markdown",
   "metadata": {},
   "source": [
    "# s_positive_definite_matrix [<img src=\"https://www.arpm.co/lab/icons/icon_permalink.png\" width=30 height=30 style=\"display: inline;\">](https://www.arpm.co/lab/redirect.php?code=s_positive_definite_matrix&codeLang=Python)\n",
    "For details, see [here](https://www.arpm.co/lab/redirect.php?permalink=s_positive_definite_matrix)."
   ]
  },
  {
   "cell_type": "code",
   "execution_count": null,
   "metadata": {},
   "outputs": [],
   "source": [
    "import numpy as np\n",
    "import matplotlib.pyplot as plt\n",
    "from mpl_toolkits import mplot3d\n",
    "\n",
    "from arpym.tools.logo import add_logo"
   ]
  },
  {
   "cell_type": "markdown",
   "metadata": {},
   "source": [
    "## [Input parameters](https://www.arpm.co/lab/redirect.php?permalink=s_positive_definite_matrix-parameters)"
   ]
  },
  {
   "cell_type": "code",
   "execution_count": null,
   "metadata": {},
   "outputs": [],
   "source": [
    "# positive definite matrix\n",
    "q2 = np.array([[1 , -1],\n",
    "               [-1,  2]])\n",
    "if np.linalg.det(q2) <= 0:\n",
    "    print('Choose q2 to be positive definite')"
   ]
  },
  {
   "cell_type": "markdown",
   "metadata": {},
   "source": [
    "## [Step 1](https://www.arpm.co/lab/redirect.php?permalink=s_positive_definite_matrix-implementation-step01): Define grid of input values"
   ]
  },
  {
   "cell_type": "code",
   "execution_count": null,
   "metadata": {
    "lines_to_next_cell": 2
   },
   "outputs": [],
   "source": [
    "v1 = np.array([0])\n",
    "v2 = np.array([0])\n",
    "delta = (q2[0,0]*q2[1,1]-q2[0,1]**2)/q2[0,0]**2\n",
    "for c in np.linspace(0.5, 5, num=10):\n",
    "    v2_half = np.linspace(-c, c, 200)\n",
    "    v1_plus = -q2[0,1]/q2[0,0]*v2_half + np.sqrt(c**2/q2[0,0]-delta*v2_half**2)\n",
    "    v1_minus = -q2[0,1]/q2[0,0]*v2_half - np.sqrt(c**2/q2[0,0]-delta*v2_half**2)\n",
    "    v2_ = np.append(v2_half, np.flip(v2_half))\n",
    "    v2 = np.append(v2, v2_)\n",
    "    v1_ = np.append(v1_plus, np.flip(v1_minus))\n",
    "    v1 = np.append(v1, v1_)"
   ]
  },
  {
   "cell_type": "markdown",
   "metadata": {},
   "source": [
    "## [Step 2](https://www.arpm.co/lab/redirect.php?permalink=s_positive_definite_matrix-implementation-step02): Calculate quadratic form values"
   ]
  },
  {
   "cell_type": "code",
   "execution_count": null,
   "metadata": {},
   "outputs": [],
   "source": [
    "f_v = np.array([])\n",
    "for i in range(len(v1)):\n",
    "    v = np.array([v1[i], v2[i]])\n",
    "    quad = v.T@q2@v\n",
    "    f_v = np.append(f_v, quad)"
   ]
  },
  {
   "cell_type": "markdown",
   "metadata": {},
   "source": [
    "## Plots"
   ]
  },
  {
   "cell_type": "code",
   "execution_count": null,
   "metadata": {},
   "outputs": [],
   "source": [
    "plt.style.use('arpm')\n",
    "fig = plt.figure(figsize=(1280.0/72.0, 720.0/72.0), dpi = 72.0,\n",
    "                 facecolor = 'white')\n",
    "ax1 = fig.add_subplot(1, 2, 1, projection='3d')\n",
    "ax1.plot_trisurf(v1, v2, f_v, linewidth=0, antialiased=True,\n",
    "               color='C1', alpha=0.5, shade=True)\n",
    "\n",
    "ax1.set_title('Values of the positive definite quadratic form',\n",
    "              fontsize=20, fontweight='bold', pad=55)\n",
    "ax1.set_xlabel(r'$v_1$', fontsize=17)\n",
    "plt.xticks(fontsize=14)\n",
    "ax1.set_ylabel(r'$v_2$', fontsize=17)\n",
    "plt.yticks(fontsize=14)\n",
    "ax1.w_xaxis.set_pane_color((1.0, 1.0, 1.0, 1.0))\n",
    "ax1.w_yaxis.set_pane_color((1.0, 1.0, 1.0, 1.0))\n",
    "ax1.w_zaxis.set_pane_color((1.0, 1.0, 1.0, 1.0))\n",
    "ax1.view_init(30, -75)\n",
    "\n",
    "ax2 = fig.add_subplot(1, 2, 2)\n",
    "for c in np.linspace(1, 5, num=5):\n",
    "    ax2.plot(v1[f_v==c**2], v2[f_v==c**2], color='C0')\n",
    "\n",
    "ax2.set_title('Iso-contours of the positive definite quadratic form',\n",
    "              fontsize=20, fontweight='bold')\n",
    "ax2.set_xlabel(r'$v_1$', fontsize=17)\n",
    "plt.xticks(fontsize=14)\n",
    "ax2.set_ylabel(r'$v_2$', fontsize=17)\n",
    "plt.yticks(fontsize=14)\n",
    "\n",
    "add_logo(fig, set_fig_size=False)\n",
    "plt.tight_layout()"
   ]
  }
 ],
 "metadata": {
  "jupytext": {
   "encoding": "# -*- coding: utf-8 -*-",
   "executable": "/usr/bin/env python3"
  },
  "kernelspec": {
   "display_name": "Python 3",
   "language": "python",
   "name": "python3"
  }
 },
 "nbformat": 4,
 "nbformat_minor": 4
}
