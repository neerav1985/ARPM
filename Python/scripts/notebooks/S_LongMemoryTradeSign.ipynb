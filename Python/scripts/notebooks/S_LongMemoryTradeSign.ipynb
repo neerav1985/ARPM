{
 "cells": [
  {
   "cell_type": "markdown",
   "metadata": {},
   "source": [
    "# S_LongMemoryTradeSign [<img src=\"https://www.arpm.co/lab/icons/icon_permalink.png\" width=30 height=30 style=\"display: inline;\">](https://www.arpm.co/lab/redirect.php?code=S_LongMemoryTradeSign&codeLang=Python)\n",
    "For details, see [here](https://www.arpm.co/lab/redirect.php?permalink=IIDHFLMsign)."
   ]
  },
  {
   "cell_type": "markdown",
   "metadata": {},
   "source": [
    "## Prepare the environment"
   ]
  },
  {
   "cell_type": "code",
   "execution_count": null,
   "metadata": {},
   "outputs": [],
   "source": [
    "import os\n",
    "import os.path as path\n",
    "import sys\n",
    "\n",
    "sys.path.append(path.abspath('../../functions-legacy'))\n",
    "\n",
    "import numpy as np\n",
    "from numpy import log\n",
    "from numpy import max as npmax\n",
    "\n",
    "from scipy.special import erf\n",
    "from scipy.io import loadmat\n",
    "\n",
    "import matplotlib.pyplot as plt\n",
    "from matplotlib.pyplot import figure, plot, legend, ylabel, \\\n",
    "    xlabel, title\n",
    "\n",
    "plt.style.use('seaborn')\n",
    "\n",
    "from CONFIG import GLOBAL_DB, TEMPORARY_DB\n",
    "from ARPM_utils import save_plot, struct_to_dict\n",
    "from autocorrelation import autocorrelation\n",
    "from InvarianceTestEllipsoid import InvarianceTestEllipsoid"
   ]
  },
  {
   "cell_type": "markdown",
   "metadata": {},
   "source": [
    "## Upload database"
   ]
  },
  {
   "cell_type": "code",
   "execution_count": null,
   "metadata": {},
   "outputs": [],
   "source": [
    "try:\n",
    "    db = loadmat(os.path.join(GLOBAL_DB, 'db_StocksHighFreq'), squeeze_me=True)\n",
    "except FileNotFoundError:\n",
    "    db = loadmat(os.path.join(TEMPORARY_DB, 'db_StocksHighFreq'), squeeze_me=True)\n",
    "    \n",
    "MSFT = struct_to_dict(db['MSFT'])\n",
    "\n",
    "price = MSFT.trade_price\n",
    "ask = MSFT.ask\n",
    "bid = MSFT.bid"
   ]
  },
  {
   "cell_type": "markdown",
   "metadata": {},
   "source": [
    "## Compute the realizations of the variable \"sign\" (dz_k: difference in cumulative trade sign in tick time)\n",
    "##take data with (ask > bid) and (price = bid or price = ask) and (bid different form ask)"
   ]
  },
  {
   "cell_type": "code",
   "execution_count": null,
   "metadata": {},
   "outputs": [],
   "source": [
    "scale = 5\n",
    "index = (bid!=ask) & (price == bid) | (price == ask) & (ask > bid)\n",
    "frac = (price[index] - bid[index]) / (ask[index] - bid[index])\n",
    "dz_k = erf(scale*(2*frac - 1)).reshape(1,-1)"
   ]
  },
  {
   "cell_type": "markdown",
   "metadata": {},
   "source": [
    "## Compute autocorrelations at different lags (needed for the invariance test)"
   ]
  },
  {
   "cell_type": "code",
   "execution_count": null,
   "metadata": {},
   "outputs": [],
   "source": [
    "lag_ = 15  # max number of lags for sign\n",
    "acf_sign = autocorrelation(dz_k.reshape(1,-1), lag_)"
   ]
  },
  {
   "cell_type": "markdown",
   "metadata": {},
   "source": [
    "## Compute the log-autocorrelations and perform a linear fit on the log-lags (to show the power decay)"
   ]
  },
  {
   "cell_type": "code",
   "execution_count": null,
   "metadata": {},
   "outputs": [],
   "source": [
    "# log-autocorrelations\n",
    "lcr = log(acf_sign)\n",
    "# linear fit\n",
    "lag = range(1,lag_+1)\n",
    "ll = log(lag)\n",
    "p = np.polyfit(ll, lcr[0,1:], 1)\n",
    "y = p[0]*ll + p[1]"
   ]
  },
  {
   "cell_type": "markdown",
   "metadata": {},
   "source": [
    "## Plot the results"
   ]
  },
  {
   "cell_type": "code",
   "execution_count": null,
   "metadata": {},
   "outputs": [],
   "source": [
    "# settings\n",
    "lag = 15  # lag to be printed\n",
    "ell_scale = 1.8  # ellipsoid radius coefficient\n",
    "fit = 0  # no fit on marginals\n",
    "dz_k_lim = [-1.99, 1.99]  # lim for the axes\n",
    "orange = [.9, .4, 0]\n",
    "\n",
    "# autocorrelation test for invariance\n",
    "f = figure(figsize=(12,6))\n",
    "InvarianceTestEllipsoid(dz_k, acf_sign[0,1:], lag, fit, ell_scale, bound=dz_k_lim);\n",
    "# save_plot(ax=plt.gca(), extension='png', scriptname=os.path.basename('.')[:-3], count=plt.get_fignums()[-1])\n",
    "\n",
    "# power low of autocorrelation decay\n",
    "figure(figsize=(12,6))\n",
    "plot(ll, lcr[0,1:], lw=1.5)\n",
    "plot(ll, y, color=orange, lw=1.5)\n",
    "plt.axis([min(ll), max(ll), min(lcr[0,1:]), 0.95*npmax(lcr[0,1:])])\n",
    "xlabel('ln(l)')\n",
    "ylabel(r'$\\ln( | Cr(\\Delta\\tilde\\zeta_{\\kappa},  \\Delta\\tilde\\zeta_{\\kappa-l}) | )$')\n",
    "legend(['empirical','linear fit\\n $\\lambda$ =  % 1.3f'%-p[0]])\n",
    "title('Autocorrelations decay: power law');\n",
    "plt.show()\n",
    "# save_plot(ax=plt.gca(), extension='png', scriptname=os.path.basename('.')[:-3], count=plt.get_fignums()[-1])"
   ]
  }
 ],
 "metadata": {
  "jupytext": {
   "encoding": "# -*- coding: utf-8 -*-",
   "executable": "/usr/bin/env python3"
  },
  "kernelspec": {
   "display_name": "Python 3",
   "language": "python",
   "name": "python3"
  }
 },
 "nbformat": 4,
 "nbformat_minor": 4
}
