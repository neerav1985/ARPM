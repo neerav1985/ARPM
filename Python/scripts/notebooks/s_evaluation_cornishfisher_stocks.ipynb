{
 "cells": [
  {
   "cell_type": "markdown",
   "metadata": {},
   "source": [
    "# s_evaluation_cornishfisher_stocks [<img src=\"https://www.arpm.co/lab/icons/icon_permalink.png\" width=30 height=30 style=\"display: inline;\">](https://www.arpm.co/lab/redirect.php?code=s_evaluation_cornishfisher_stocks&codeLang=Python)\n",
    "For details, see [here](https://www.arpm.co/lab/redirect.php?permalink=eb-corn-fish-vs-mc)."
   ]
  },
  {
   "cell_type": "code",
   "execution_count": null,
   "metadata": {},
   "outputs": [],
   "source": [
    "import numpy as np\n",
    "import pandas as pd\n",
    "import matplotlib.pyplot as plt\n",
    "\n",
    "from arpym.statistics.moments_logn import moments_logn\n",
    "from arpym.statistics.cornish_fisher import cornish_fisher\n",
    "from arpym.statistics.quantile_sp import quantile_sp\n",
    "from arpym.tools.histogram_sp import histogram_sp\n",
    "from arpym.tools.logo import add_logo"
   ]
  },
  {
   "cell_type": "markdown",
   "metadata": {},
   "source": [
    "## [Input parameters](https://www.arpm.co/lab/redirect.php?permalink=s_evaluation_cornishfisher_stocks-parameters)"
   ]
  },
  {
   "cell_type": "code",
   "execution_count": null,
   "metadata": {},
   "outputs": [],
   "source": [
    "h = np.array([5000, 5000])  # portfolio holdings\n",
    "alpha = np.arange(.001, 1, .001)  # confidence levels grid"
   ]
  },
  {
   "cell_type": "markdown",
   "metadata": {},
   "source": [
    "## [Step 0](https://www.arpm.co/lab/redirect.php?permalink=s_evaluation_cornishfisher_stocks-implementation-step00): Upload data"
   ]
  },
  {
   "cell_type": "code",
   "execution_count": null,
   "metadata": {},
   "outputs": [],
   "source": [
    "# upload database generated from s_pricing_stocks_norm\n",
    "path = '~/databases/temporary-databases/'\n",
    "db = pd.read_csv(path + 'db_stocks_normal.csv')\n",
    "\n",
    "n_ = int(np.array(db['n_'].iloc[0]))\n",
    "j_ = int(np.array(db['j_'].iloc[0]))\n",
    "# parameters of the shifted lognormal distribution\n",
    "v_tnow = np.array(db['v_tnow'].iloc[:n_]).reshape(-1)\n",
    "mu_pl = np.array(db['mu_tau'].iloc[:n_]).reshape(-1)\n",
    "sig2_pl = np.array(db['sigma2_tau'].iloc[:n_*n_]).reshape((n_, n_))\n",
    "# Monte Carlo scenarios for the ex-ante P&L's\n",
    "pl = np.array(db['pl']).reshape((j_, n_))"
   ]
  },
  {
   "cell_type": "markdown",
   "metadata": {},
   "source": [
    "## [Step 1](https://www.arpm.co/lab/redirect.php?permalink=s_evaluation_cornishfisher_stocks-implementation-step01): Ex ante P&L mean, standard deviation and skewness"
   ]
  },
  {
   "cell_type": "code",
   "execution_count": null,
   "metadata": {},
   "outputs": [],
   "source": [
    "mu_pl_h, sd_pl_h, sk_pl_h = moments_logn(h, mu_pl, sig2_pl, v_tnow)"
   ]
  },
  {
   "cell_type": "markdown",
   "metadata": {},
   "source": [
    "## [Step 2](https://www.arpm.co/lab/redirect.php?permalink=s_evaluation_cornishfisher_stocks-implementation-step02): Cornish-Fisher approximation"
   ]
  },
  {
   "cell_type": "code",
   "execution_count": null,
   "metadata": {},
   "outputs": [],
   "source": [
    "q_cf = cornish_fisher(mu_pl_h, sd_pl_h, sk_pl_h, alpha)"
   ]
  },
  {
   "cell_type": "markdown",
   "metadata": {},
   "source": [
    "## [Step 3](https://www.arpm.co/lab/redirect.php?permalink=s_evaluation_cornishfisher_stocks-implementation-step03): Scenario-probability quantile"
   ]
  },
  {
   "cell_type": "code",
   "execution_count": null,
   "metadata": {},
   "outputs": [],
   "source": [
    "# Monte carlo scenarios for the portfolio's P&L\n",
    "pl_h = h@pl.T\n",
    "\n",
    "# scenario-probability quantile\n",
    "q_sp = quantile_sp(alpha, pl_h)"
   ]
  },
  {
   "cell_type": "markdown",
   "metadata": {},
   "source": [
    "## Plots"
   ]
  },
  {
   "cell_type": "code",
   "execution_count": null,
   "metadata": {},
   "outputs": [],
   "source": [
    "plt.style.use('arpm')\n",
    "lgray = [.8, .8, .8]  # light gray\n",
    "dgray = [.7, .7, .7]  # dark gray\n",
    "fig = plt.figure()\n",
    "\n",
    "# histogram of the portfolio's ex-ante P&L\n",
    "j_ = pl_h.shape[0]\n",
    "n_bins = np.round(10 * np.log(j_))  # number of histogram bins\n",
    "y_hist, x_hist = histogram_sp(pl_h, p=1 / j_ * np.ones(j_), k_=n_bins)\n",
    "\n",
    "# Cornish-Fisher quantile approximation and scenario-probability quantile\n",
    "l1 = plt.plot(q_sp, alpha, 'b')\n",
    "l2 = plt.plot(q_cf, alpha, 'r', linestyle='--', lw=1)\n",
    "l3 = plt.bar(x_hist, y_hist / max(y_hist), width=x_hist[1] - x_hist[0],\n",
    "             facecolor=lgray, edgecolor=dgray)\n",
    "plt.xlim([np.min(q_cf), np.max(q_cf)])\n",
    "plt.ylim([0, 1])  # set 'ylim' to [0, 0.1] to focus on the left tail only\n",
    "leg = plt.legend(['MC quantile', 'Cornish Fisher approx', 'MC distribution'])\n",
    "plt.title('Monte Carlo quantile and Cornish-Fisher approximation')\n",
    "add_logo(fig)"
   ]
  }
 ],
 "metadata": {
  "jupytext": {
   "encoding": "# -*- coding: utf-8 -*-",
   "executable": "/usr/bin/env python3"
  },
  "kernelspec": {
   "display_name": "Python 3",
   "language": "python",
   "name": "python3"
  }
 },
 "nbformat": 4,
 "nbformat_minor": 4
}
