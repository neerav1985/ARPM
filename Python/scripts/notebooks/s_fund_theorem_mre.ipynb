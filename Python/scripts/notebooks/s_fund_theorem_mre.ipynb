{
 "cells": [
  {
   "cell_type": "markdown",
   "metadata": {},
   "source": [
    "# s_fund_theorem_mre [<img src=\"https://www.arpm.co/lab/icons/icon_permalink.png\" width=30 height=30 style=\"display: inline;\">](https://www.arpm.co/lab/redirect.php?code=s_fund_theorem_mre&codeLang=Python)\n",
    "For details, see [here](https://www.arpm.co/lab/redirect.php?permalink=eb-sdf-mre)."
   ]
  },
  {
   "cell_type": "code",
   "execution_count": null,
   "metadata": {},
   "outputs": [],
   "source": [
    "import numpy as np\n",
    "import pandas as pd\n",
    "import matplotlib.pyplot as plt\n",
    "\n",
    "from arpym.statistics.simulate_normal import simulate_normal\n",
    "from arpym.statistics.cdf_sp import cdf_sp\n",
    "from arpym.statistics.pdf_sp import pdf_sp\n",
    "from arpym.pricing.numeraire_mre import numeraire_mre\n",
    "from arpym.tools.logo import add_logo"
   ]
  },
  {
   "cell_type": "markdown",
   "metadata": {},
   "source": [
    "## [Step 0](https://www.arpm.co/lab/redirect.php?permalink=s_fund_theorem_mre-implementation-step00): Upload data"
   ]
  },
  {
   "cell_type": "code",
   "execution_count": null,
   "metadata": {},
   "outputs": [],
   "source": [
    "path = '~/databases/temporary-databases/'\n",
    "\n",
    "db_vpay = pd.read_csv(path+'db_valuation_vpay.csv', index_col=0)\n",
    "v_pay = db_vpay.values\n",
    "db_prob = pd.read_csv(path+'db_valuation_prob.csv', index_col=0)\n",
    "p = db_prob.values.T[0]\n",
    "db_v = pd.read_csv(path+'db_valuation_v.csv', index_col=0)\n",
    "v = db_v.values.T[0]"
   ]
  },
  {
   "cell_type": "markdown",
   "metadata": {},
   "source": [
    "## [Step 1](https://www.arpm.co/lab/redirect.php?permalink=s_fund_theorem_mre-implementation-step01): Minimum relative entropy numeraire probabilities"
   ]
  },
  {
   "cell_type": "code",
   "execution_count": null,
   "metadata": {},
   "outputs": [],
   "source": [
    "p_mre, sdf_mre = numeraire_mre(v_pay, v, p=p, k=1)"
   ]
  },
  {
   "cell_type": "markdown",
   "metadata": {},
   "source": [
    "## [Step 2](https://www.arpm.co/lab/redirect.php?permalink=s_fund_theorem_mre-implementation-step02): Fundamental theorem of asset pricing"
   ]
  },
  {
   "cell_type": "code",
   "execution_count": null,
   "metadata": {},
   "outputs": [],
   "source": [
    "rhs = v / v[1]\n",
    "lhs = p_mre * (v_pay[:, 1]**(-1))@v_pay"
   ]
  },
  {
   "cell_type": "markdown",
   "metadata": {},
   "source": [
    "## [Step 3](https://www.arpm.co/lab/redirect.php?permalink=s_fund_theorem_mre-implementation-step03): Radon-Nikodym derivative"
   ]
  },
  {
   "cell_type": "code",
   "execution_count": null,
   "metadata": {},
   "outputs": [],
   "source": [
    "d_mre = p_mre / p"
   ]
  },
  {
   "cell_type": "markdown",
   "metadata": {},
   "source": [
    "## [Step 4](https://www.arpm.co/lab/redirect.php?permalink=s_fund_theorem_mre-implementation-step04): Pdfs"
   ]
  },
  {
   "cell_type": "code",
   "execution_count": null,
   "metadata": {},
   "outputs": [],
   "source": [
    "h = 0.02\n",
    "# grid for computing pdfs\n",
    "x = np.linspace(-1, 4, 100)\n",
    "# compute pdfs\n",
    "f_sdf_mre = pdf_sp(h, np.array([x]).T, np.array([sdf_mre]).T, p)\n",
    "f_d_mre = pdf_sp(h, np.array([x]).T, np.array([d_mre]).T, p)\n",
    "f_infl = pdf_sp(h, np.array([x]).T, np.array([v_pay[:, 1]/v[1]]).T, p)"
   ]
  },
  {
   "cell_type": "markdown",
   "metadata": {},
   "source": [
    "## [Step 4](https://www.arpm.co/lab/redirect.php?permalink=s_fund_theorem_mre-implementation-step04): Cdf of numeraire under probability measures p and p_mre"
   ]
  },
  {
   "cell_type": "code",
   "execution_count": null,
   "metadata": {},
   "outputs": [],
   "source": [
    "y = np.linspace(0, 12, 100)\n",
    "ind = np.argsort(v_pay[:, 1])\n",
    "cdf = cdf_sp(y, v_pay[:, 1], p)\n",
    "cdf_mre = cdf_sp(y, v_pay[:, 1], p_mre)"
   ]
  },
  {
   "cell_type": "markdown",
   "metadata": {},
   "source": [
    "## Plots"
   ]
  },
  {
   "cell_type": "code",
   "execution_count": null,
   "metadata": {
    "lines_to_next_cell": 0
   },
   "outputs": [],
   "source": [
    "# Fund. theorem of asset pricing empirical verification\n",
    "plt.style.use('arpm')\n",
    "\n",
    "fig = plt.figure(figsize=(1280.0/72.0, 720.0/72.0), dpi=72.0)\n",
    "plt.plot([np.min(rhs), np.max(lhs)], [np.min(rhs), np.max(lhs)], 'r')\n",
    "plt.scatter(rhs, lhs, marker='o')\n",
    "plt.axis([np.min(rhs), np.max(rhs), np.min(rhs), np.max(rhs)])\n",
    "plt.xlabel('r. h. side', size=17)\n",
    "plt.ylabel('l. h. side', size=17)\n",
    "plt.legend(['identity line'])\n",
    "plt.title('Fund. theorem of asset pricing')\n",
    "add_logo(fig, location=4, alpha=0.8, set_fig_size=False)\n",
    "\n",
    "# Pdfs of mre SDF and Radon-Nykodym derivative\n",
    "f_sdf_name = r'$\\mathit{Sdf}^{\\mathit{MRE}}$'\n",
    "f_d_name = r'$D^{\\mathit{MRE}}$'\n",
    "f_infl_name = r'$[\\mathcal{V}^{\\mathit{pay}}]_{2, \\cdot}/v_{2}$'\n",
    "\n",
    "fig, axes = plt.subplots(1, 2, figsize=(1280.0/72.0, 720.0/72.0))\n",
    "axes[0].plot(x, f_sdf_mre, 'b', label=f_sdf_name)\n",
    "axes[0].plot(x, f_d_mre, 'g', label=f_d_name)\n",
    "axes[0].plot(x, f_infl, 'r', label=f_infl_name)\n",
    "yl = axes[0].get_ylim()\n",
    "axes[0].plot([v[0], v[0]], [0, yl[1]], 'b--',\n",
    "             label=r'$E\\{$' + f_sdf_name + '$\\}$')\n",
    "axes[0].plot([1, 1], [0, yl[1]], 'g--',\n",
    "             label=r'$E\\{$' + f_d_name + '$\\}$')\n",
    "axes[0].plot([p @ v_pay[:, 1] / v[1],\n",
    "              p @ v_pay[:, 1] / v[1]], [0, yl[1]], 'r--',\n",
    "             label=r'$E\\{$' + f_infl_name + '$\\}$')\n",
    "axes[0].set_xlim([x[0], x[-1]])\n",
    "axes[0].set_ylim(yl)\n",
    "axes[0].legend()\n",
    "\n",
    "axes[1].plot(y, cdf, 'b', label='$F$')\n",
    "axes[1].plot(y, cdf_mre, 'g', label='$F^{MRE}$')\n",
    "axes[1].set_ylim([0, 1])\n",
    "axes[1].set_xlabel(r'$[\\mathcal{V}^{\\mathit{pay}}]_{2, \\cdot}$')\n",
    "axes[1].legend()\n",
    "\n",
    "add_logo(fig, location=4, size_frac_x=1/8, set_fig_size=False)\n",
    "plt.tight_layout()"
   ]
  },
  {
   "cell_type": "code",
   "execution_count": null,
   "metadata": {
    "lines_to_next_cell": 2
   },
   "outputs": [],
   "source": []
  }
 ],
 "metadata": {
  "jupytext": {
   "encoding": "# -*- coding: utf-8 -*-",
   "executable": "/usr/bin/env python3"
  },
  "kernelspec": {
   "display_name": "Python 3",
   "language": "python",
   "name": "python3"
  }
 },
 "nbformat": 4,
 "nbformat_minor": 4
}
