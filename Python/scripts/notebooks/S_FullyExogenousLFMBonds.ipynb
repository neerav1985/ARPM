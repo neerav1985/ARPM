{
 "cells": [
  {
   "cell_type": "markdown",
   "metadata": {},
   "source": [
    "# S_FullyExogenousLFMBonds [<img src=\"https://www.arpm.co/lab/icons/icon_permalink.png\" width=30 height=30 style=\"display: inline;\">](https://www.arpm.co/lab/redirect.php?code=S_FullyExogenousLFMBonds&codeLang=Python)\n",
    "For details, see [here](https://www.arpm.co/lab/redirect.php?permalink=eb-full-exogen-lfm)."
   ]
  },
  {
   "cell_type": "markdown",
   "metadata": {},
   "source": [
    "## Prepare the environment"
   ]
  },
  {
   "cell_type": "code",
   "execution_count": null,
   "metadata": {},
   "outputs": [],
   "source": [
    "import os\n",
    "import os.path as path\n",
    "import sys\n",
    "\n",
    "sys.path.append(path.abspath('../../functions-legacy'))\n",
    "from collections import namedtuple\n",
    "\n",
    "import numpy as np\n",
    "from numpy import reshape, ones, zeros, tril, diag, round, log, sqrt, r_, diff\n",
    "\n",
    "from scipy.io import loadmat\n",
    "\n",
    "import matplotlib.pyplot as plt\n",
    "from matplotlib.pyplot import figure, bar, title\n",
    "\n",
    "plt.style.use('seaborn')\n",
    "\n",
    "from CONFIG import GLOBAL_DB, TEMPORARY_DB\n",
    "from ARPM_utils import save_plot\n",
    "from FPmeancov import FPmeancov\n",
    "from HistogramFP import HistogramFP"
   ]
  },
  {
   "cell_type": "markdown",
   "metadata": {},
   "source": [
    "## Load data"
   ]
  },
  {
   "cell_type": "code",
   "execution_count": null,
   "metadata": {},
   "outputs": [],
   "source": [
    "try:\n",
    "    db = loadmat(os.path.join(GLOBAL_DB, 'db_BondAttribution'), squeeze_me=True)\n",
    "except FileNotFoundError:\n",
    "    db = loadmat(os.path.join(TEMPORARY_DB, 'db_BondAttribution'), squeeze_me=True)\n",
    "\n",
    "beta = db['beta']\n",
    "dates = db['dates']\n",
    "X_shift = db['X_shift']\n",
    "Z = db['Z']"
   ]
  },
  {
   "cell_type": "markdown",
   "metadata": {},
   "source": [
    "## Compute residuals"
   ]
  },
  {
   "cell_type": "code",
   "execution_count": null,
   "metadata": {},
   "outputs": [],
   "source": [
    "[n_, k_, t_] = beta.shape\n",
    "\n",
    "U = zeros((n_, t_))\n",
    "for t in range(t_):\n",
    "    U[:,t] = X_shift[:,t] - beta[:,:, t]@Z[:, t]"
   ]
  },
  {
   "cell_type": "markdown",
   "metadata": {},
   "source": [
    "## Residuals analysis"
   ]
  },
  {
   "cell_type": "code",
   "execution_count": null,
   "metadata": {},
   "outputs": [],
   "source": [
    "# ## compute statistics of the joint distribution of residuals and factors\n",
    "m_UZ, s2_UZ = FPmeancov(r_[U,Z], ones((1, t_)) / t_)"
   ]
  },
  {
   "cell_type": "markdown",
   "metadata": {},
   "source": [
    "## compute correlation matrix"
   ]
  },
  {
   "cell_type": "code",
   "execution_count": null,
   "metadata": {},
   "outputs": [],
   "source": [
    "sigma = sqrt(diag(s2_UZ))\n",
    "c2_UZ = np.diagflat(1 / sigma)@s2_UZ@np.diagflat(1 / sigma)\n",
    "\n",
    "c_UZ = c2_UZ[:n_, n_ :n_ + k_]\n",
    "c2_U = tril(c2_UZ[:n_, :n_], -1)"
   ]
  },
  {
   "cell_type": "markdown",
   "metadata": {},
   "source": [
    "## Plot (untruncated) correlations among residuals"
   ]
  },
  {
   "cell_type": "code",
   "execution_count": null,
   "metadata": {},
   "outputs": [],
   "source": [
    "# reshape the correlations in a column vector\n",
    "corr_U = []\n",
    "for i in range(1,n_):\n",
    "    corr_U = r_[corr_U, c2_U[i:,i-1]]  # reshape the correlations in a column vector\n",
    "\n",
    "nbins = round(5*log(len(corr_U)))\n",
    "p = ones((1, len(corr_U))) / len(corr_U)\n",
    "option = namedtuple('option', 'n_bins')\n",
    "\n",
    "option.n_bins = nbins\n",
    "n, xout = HistogramFP(corr_U[np.newaxis,...], p, option)\n",
    "\n",
    "figure()\n",
    "h = bar(xout[:-1]+diff(xout,1), n[0], width=xout[1]-xout[0],facecolor=[.7, .7, .7], edgecolor='k')\n",
    "title('Correlations among residuals');\n",
    "# save_plot(ax=plt.gca(), extension='png', scriptname=os.path.basename('.')[:-3], count=plt.get_fignums()[-1])"
   ]
  },
  {
   "cell_type": "markdown",
   "metadata": {},
   "source": [
    "## Plot (untruncated) correlations between factors and residuals"
   ]
  },
  {
   "cell_type": "code",
   "execution_count": null,
   "metadata": {},
   "outputs": [],
   "source": [
    "corr_UZ = reshape(c_UZ, (n_*k_, 1),'F')  # ## reshape the correlations in a column vector\n",
    "nbins = round(5*log(len(corr_UZ)))\n",
    "p = ones((1, len(corr_UZ))) / len(corr_UZ)\n",
    "option = namedtuple('option', 'n_bins')\n",
    "option.n_bins = nbins\n",
    "n, xout = HistogramFP(corr_UZ.T, p, option)\n",
    "\n",
    "figure()\n",
    "h = bar(xout[:-1], n[0], width=xout[1]-xout[0],facecolor= [.7, .7, .7], edgecolor='k')\n",
    "title('Correlations between factors residuals');\n",
    "# save_plot(ax=plt.gca(), extension='png', scriptname=os.path.basename('.')[:-3], count=plt.get_fignums()[-1])"
   ]
  }
 ],
 "metadata": {
  "jupytext": {
   "encoding": "# -*- coding: utf-8 -*-",
   "executable": "/usr/bin/env python3"
  },
  "kernelspec": {
   "display_name": "Python 3",
   "language": "python",
   "name": "python3"
  }
 },
 "nbformat": 4,
 "nbformat_minor": 4
}
