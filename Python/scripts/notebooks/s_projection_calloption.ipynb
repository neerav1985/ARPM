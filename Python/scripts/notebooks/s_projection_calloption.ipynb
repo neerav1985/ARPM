{
 "cells": [
  {
   "cell_type": "markdown",
   "metadata": {},
   "source": [
    "# s_projection_calloption [<img src=\"https://www.arpm.co/lab/icons/icon_permalink.png\" width=30 height=30 style=\"display: inline;\">](https://www.arpm.co/lab/redirect.php?code=s_projection_calloption&codeLang=Python)\n",
    "For details, see [here](https://www.arpm.co/lab/redirect.php?permalink=eb-shadowrateproj-mc)."
   ]
  },
  {
   "cell_type": "code",
   "execution_count": null,
   "metadata": {},
   "outputs": [],
   "source": [
    "import numpy as np\n",
    "import pandas as pd\n",
    "from scipy.stats import t as tstu\n",
    "import matplotlib.pyplot as plt\n",
    "\n",
    "from arpym.statistics.simulate_t import simulate_t\n",
    "from arpym.statistics.quantile_sp import quantile_sp\n",
    "from arpym.statistics.meancov_sp import meancov_sp\n",
    "from arpym.tools.logo import add_logo\n",
    "from arpym.tools.histogram_sp import histogram_sp"
   ]
  },
  {
   "cell_type": "markdown",
   "metadata": {},
   "source": [
    "## [Input parameters](https://www.arpm.co/lab/redirect.php?permalink=s_projection_calloption-parameters)"
   ]
  },
  {
   "cell_type": "code",
   "execution_count": null,
   "metadata": {},
   "outputs": [],
   "source": [
    "m_ = 120  # number of monitoring times \n",
    "j_ = 1000  # number of Monte Carlo scenarios"
   ]
  },
  {
   "cell_type": "markdown",
   "metadata": {},
   "source": [
    "## [Step 0](https://www.arpm.co/lab/redirect.php?permalink=s_projection_calloption-implementation-step00): Import data"
   ]
  },
  {
   "cell_type": "code",
   "execution_count": null,
   "metadata": {},
   "outputs": [],
   "source": [
    "path = '~/databases/temporary-databases/'\n",
    "\n",
    "# upload GARCH parameters\n",
    "db_garch = pd.read_csv(path+'db_calloption_garch.csv')\n",
    "a_garch = db_garch['a'][0]\n",
    "b_garch = db_garch['b'][0]\n",
    "c_garch = db_garch['c'][0]\n",
    "mu_garch = db_garch['mu'][0]\n",
    "sig2_garch_prev = db_garch['sig2prev'][0]\n",
    "x_tnow_s = db_garch['x_tnow'][0]\n",
    "x_tnowm1_s = db_garch['x_tnow-1'][0]\n",
    "\n",
    "# VAR(1) parameter b\n",
    "db_var1 = pd.read_csv(path+'db_calloption_var1.csv')\n",
    "x_tnow_sigma = db_var1.loc[:, db_var1.columns == 'x_tnow'].values.reshape(-1)\n",
    "b_hat = db_var1.loc[:, db_var1.columns != 'x_tnow'].values\n",
    "\n",
    "# realized invariants\n",
    "db_epsi_var1 = pd.read_csv(path+'db_calloption_epsi_var1.csv', index_col=0,\n",
    "                           parse_dates=True)\n",
    "epsi_var1 = db_epsi_var1.values\n",
    "db_epsi_garch = pd.read_csv(path+'db_calloption_epsi_garch.csv', index_col=0,\n",
    "                            parse_dates=True)\n",
    "epsi_garch = db_epsi_garch.values\n",
    "epsi = np.c_[epsi_garch, epsi_var1]\n",
    "t_, i_ = epsi.shape\n",
    "t_ = t_ + 1\n",
    "\n",
    "# flexible probabilities and parameters of t copula\n",
    "db_estimation = pd.read_csv(path+'db_calloption_estimation.csv')\n",
    "p = db_estimation['p'].values\n",
    "nu = db_estimation['nu'][0]\n",
    "rho2 = db_estimation.loc[:i_-1, np.logical_and(db_estimation.columns != 'nu',\n",
    "                                               db_estimation.columns != 'p')]\n",
    "rho2 = rho2.values"
   ]
  },
  {
   "cell_type": "markdown",
   "metadata": {},
   "source": [
    "## [Step 1](https://www.arpm.co/lab/redirect.php?permalink=s_projection_calloption-implementation-step01): Monte Carlo scenarios for the invariants"
   ]
  },
  {
   "cell_type": "code",
   "execution_count": null,
   "metadata": {},
   "outputs": [],
   "source": [
    "epsi_proj = np.zeros((j_, m_, i_))\n",
    "for m in range(m_):\n",
    "    # simulate t-copula\n",
    "    epsi_tilde_proj = simulate_t(np.zeros(i_), rho2, nu, j_)\n",
    "\n",
    "    # copula scenarios\n",
    "    for i in range(i_):\n",
    "        # cdf of marginal distribution\n",
    "        u_proj = tstu.cdf(epsi_tilde_proj[:, i], nu)\n",
    "        # quantiles of marginals\n",
    "        epsi_proj[:, m, i] = \\\n",
    "            quantile_sp(u_proj, epsi[:, i], p).squeeze()"
   ]
  },
  {
   "cell_type": "markdown",
   "metadata": {},
   "source": [
    "## [Step 2](https://www.arpm.co/lab/redirect.php?permalink=s_projection_calloption-implementation-step02): Compute paths of the risk drivers"
   ]
  },
  {
   "cell_type": "code",
   "execution_count": null,
   "metadata": {},
   "outputs": [],
   "source": [
    "x_tnow_thor = np.zeros((j_, m_+1, i_))\n",
    "x_tnow_thor[:, 0, :] = np.r_[x_tnow_s, x_tnow_sigma]\n",
    "dx_proj = np.zeros(j_)\n",
    "dx_proj_prev = np.zeros(j_)\n",
    "dx_prev = x_tnow_s - x_tnowm1_s\n",
    "\n",
    "for m in range(m_):\n",
    "    # GARCH(1,1) projection\n",
    "    sig2_garch = c_garch + b_garch*sig2_garch_prev + \\\n",
    "                 a_garch*(dx_proj_prev-mu_garch)**2\n",
    "    dx_proj = mu_garch + np.sqrt(sig2_garch)*epsi_proj[:, m, 0]\n",
    "    x_tnow_thor[:, m+1, 0] = x_tnow_thor[:, m, 0] + dx_proj\n",
    "    dx_proj_prev = dx_proj\n",
    "    sig2_garch_prev = sig2_garch\n",
    "    # VAR(1) projection\n",
    "    x_tnow_thor[:, m+1, 1:] = \\\n",
    "        x_tnow_thor[:, m, 1:]@b_hat.T+epsi_proj[:, m, 1:]"
   ]
  },
  {
   "cell_type": "markdown",
   "metadata": {},
   "source": [
    "## [Step 3](https://www.arpm.co/lab/redirect.php?permalink=s_projection_calloption-implementation-step03): Save databases"
   ]
  },
  {
   "cell_type": "code",
   "execution_count": null,
   "metadata": {},
   "outputs": [],
   "source": [
    "out1 = pd.DataFrame({'log_underlying':\n",
    "                     x_tnow_thor[:, :, 0].reshape(j_*(m_+1))})\n",
    "out = pd.DataFrame({db_epsi_var1.columns[i-1]:\n",
    "                    x_tnow_thor[:, :, i].reshape((j_*(m_+1),))\n",
    "                    for i in range(1, i_)})\n",
    "out = pd.concat([out1, out], axis=1)\n",
    "\n",
    "out.to_csv('~/databases/temporary-databases/db_calloption_proj.csv',\n",
    "           columns=np.append('log_underlying', db_epsi_var1.columns.values))\n",
    "del out\n",
    "\n",
    "# store projection dates and number of scenarios\n",
    "t_now = db_epsi_var1.index[-1]\n",
    "t_now = np.datetime64(t_now, 'D')\n",
    "t_m = np.busday_offset(t_now,\n",
    "                       np.arange(m_+1), roll='forward')\n",
    "output = {'dates': pd.Series(t_m),\n",
    "          'j_': pd.Series(j_)}\n",
    "\n",
    "out = pd.DataFrame(output)\n",
    "out.to_csv('~/databases/temporary-databases' +\n",
    "           '/db_calloption_proj_tools.csv', index=None)\n",
    "\n",
    "del out"
   ]
  },
  {
   "cell_type": "markdown",
   "metadata": {},
   "source": [
    "## Plots"
   ]
  },
  {
   "cell_type": "code",
   "execution_count": null,
   "metadata": {},
   "outputs": [],
   "source": [
    "plt.style.use('arpm')\n",
    "lgrey = [0.8, 0.8, 0.8]  # light grey\n",
    "dgrey = [0.4, 0.4, 0.4]  # dark grey\n",
    "\n",
    "# plot that corresponds to step 4\n",
    "num_plot = min(j_, 20)\n",
    "\n",
    "fig = plt.figure(figsize=(1280.0/72.0, 720.0/72.0), dpi=72.0)\n",
    "ax1 = fig.add_subplot(211)\n",
    "ax1.set_xlim(0, 180)\n",
    "plt.xticks(fontsize=14)\n",
    "plt.yticks(fontsize=14)\n",
    "i = 0  # log underlying\n",
    "\n",
    "mu_thor = np.zeros(m_ + 1)\n",
    "sig_thor = np.zeros(m_ + 1)\n",
    "for m in range(0, m_ + 1):\n",
    "    mu_thor[m], sig2_thor = meancov_sp(x_tnow_thor[:, m, i].reshape(-1, 1))\n",
    "    sig_thor[m] = np.sqrt(sig2_thor)\n",
    "for j in range(num_plot):\n",
    "    plt.plot(np.arange(0, m_+1), x_tnow_thor[j, :, i], lw=1, color=lgrey)\n",
    "\n",
    "f, xp = histogram_sp(x_tnow_thor[:, -1, i], k_=20*np.log(j_))\n",
    "rescale_f = f*5\n",
    "plt.barh(xp, rescale_f, height=xp[1]-xp[0], left=m_, facecolor=lgrey,\n",
    "         edgecolor=lgrey, label='horizon pdf')\n",
    "plt.plot(rescale_f+m_, xp, color=dgrey, lw=1)\n",
    "# mean plot\n",
    "p_mu = plt.plot(np.arange(0, m_+1), mu_thor, color='g', label='expectation',\n",
    "                lw=1)\n",
    "p_red_1 = plt.plot(np.arange(0, m_+1), mu_thor + 2 * sig_thor,\n",
    "                   label='+ / - 2 st.deviation', color='r', lw=1)\n",
    "p_red_2 = plt.plot(np.arange(0, m_+1), mu_thor - 2 * sig_thor, color='r', lw=1)\n",
    "plt.legend(fontsize=17)\n",
    "plt.xlabel(r'$t_{\\mathit{hor}}-t_{\\mathit{now}}$ (days)', fontsize=17)\n",
    "title = \"Log-underlying\"\n",
    "plt.title(title, fontsize=20, fontweight='bold')\n",
    "\n",
    "ax2 = fig.add_subplot(212)\n",
    "ax2.set_xlim(0, 180)\n",
    "plt.xticks(fontsize=14)\n",
    "plt.yticks(fontsize=14)\n",
    "i = 13  # log implied volatility for m=0.05 and tau=0.5\n",
    "mu_thor = np.zeros(m_ + 1)\n",
    "sig_thor = np.zeros(m_ + 1)\n",
    "for m in range(0, m_ + 1):\n",
    "    mu_thor[m], sig2_thor = meancov_sp(x_tnow_thor[:, m, i].reshape(-1, 1))\n",
    "    sig_thor[m] = np.sqrt(sig2_thor)\n",
    "for j in range(num_plot):\n",
    "    plt.plot(np.arange(0, m_+1), x_tnow_thor[j, :, i], lw=1, color=lgrey)\n",
    "\n",
    "f, xp = histogram_sp(x_tnow_thor[:, -1, i], k_=20*np.log(j_))\n",
    "rescale_f = f*10\n",
    "plt.barh(xp, rescale_f, height=xp[1]-xp[0], left=m_, facecolor=lgrey,\n",
    "         edgecolor=lgrey)\n",
    "plt.plot(rescale_f+m_, xp, color=dgrey, lw=1)\n",
    "p_mu = plt.plot(np.arange(0, m_+1), mu_thor, color='g', label='expectation',\n",
    "                lw=1)\n",
    "p_red_1 = plt.plot(np.arange(0, m_+1), mu_thor + 2 * sig_thor,\n",
    "                   label='+ / - 2 st.deviation', color='r', lw=1)\n",
    "p_red_2 = plt.plot(np.arange(0, m_+1), mu_thor - 2 * sig_thor,\n",
    "                   color='r', lw=1)\n",
    "plt.xlabel(r'$t_{\\mathit{hor}}-t_{\\mathit{now}}$ (days)', fontsize=17)\n",
    "title = \"Point (m=0.05, tau=0.5) on log-implied volatility surface\"\n",
    "plt.title(title, fontsize=20, fontweight='bold')\n",
    "add_logo(fig, set_fig_size=False)\n",
    "fig.tight_layout()"
   ]
  }
 ],
 "metadata": {
  "jupytext": {
   "encoding": "# -*- coding: utf-8 -*-",
   "executable": "/usr/bin/env python3"
  },
  "kernelspec": {
   "display_name": "Python 3",
   "language": "python",
   "name": "python3"
  }
 },
 "nbformat": 4,
 "nbformat_minor": 4
}
