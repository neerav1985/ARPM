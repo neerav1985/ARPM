{
 "cells": [
  {
   "cell_type": "markdown",
   "metadata": {},
   "source": [
    "# s_linclass_ann_svm [<img src=\"https://www.arpm.co/lab/icons/icon_permalink.png\" width=30 height=30 style=\"display: inline;\">](https://www.arpm.co/lab/redirect.php?code=s_linclass_ann_svm&codeLang=Python)\n",
    "For details, see [here](https://www.arpm.co/lab/redirect.php?permalink=s_linclass_ann_svm)."
   ]
  },
  {
   "cell_type": "code",
   "execution_count": null,
   "metadata": {},
   "outputs": [],
   "source": [
    "import numpy as np\n",
    "from sklearn.metrics import auc, confusion_matrix, roc_curve\n",
    "from sklearn.neural_network import MLPClassifier\n",
    "from scipy.special import logit\n",
    "import matplotlib.pyplot as plt\n",
    "from mpl_toolkits.mplot3d import Axes3D\n",
    "from arpym.tools.logo import add_logo"
   ]
  },
  {
   "cell_type": "markdown",
   "metadata": {},
   "source": [
    "## [Input parameters](https://www.arpm.co/lab/redirect.php?permalink=s_linclass_ann_svm-parameters)"
   ]
  },
  {
   "cell_type": "code",
   "execution_count": null,
   "metadata": {
    "lines_to_next_cell": 1
   },
   "outputs": [],
   "source": [
    "n_sample = 2000\n",
    "mu_z = np.zeros(2)  # expectation\n",
    "sigma2_z = np.array([[1, 0], [0, 1]])  # covariance"
   ]
  },
  {
   "cell_type": "markdown",
   "metadata": {},
   "source": [
    "## [Step 1](https://www.arpm.co/lab/redirect.php?permalink=s_linclass_ann_svm-implementation-step01): Define features and target variables"
   ]
  },
  {
   "cell_type": "code",
   "execution_count": null,
   "metadata": {},
   "outputs": [],
   "source": [
    "\n",
    "def muf(z1, z2):\n",
    "    return z1 - np.tanh(10*z1*z2)\n",
    "\n",
    "\n",
    "def sigf(z1, z2):\n",
    "    return np.sqrt(np.minimum(z1**2, 1/(10*np.pi)))\n",
    "\n",
    "\n",
    "z = np.random.multivariate_normal(mu_z, sigma2_z, n_sample)\n",
    "psi_z = np.c_[z[:, 0], z[:, 0]*z[:, 1]]\n",
    "x = muf(z[:, 0], z[:, 1]) +\\\n",
    "       sigf(z[:, 0], z[:, 1]) * np.random.randn(n_sample)\n",
    "\n",
    "x = np.heaviside(x, 1)"
   ]
  },
  {
   "cell_type": "markdown",
   "metadata": {},
   "source": [
    "## [Step 2](https://www.arpm.co/lab/redirect.php?permalink=s_linclass_ann_svm-implementation-step02): Artificial neural network"
   ]
  },
  {
   "cell_type": "code",
   "execution_count": null,
   "metadata": {},
   "outputs": [],
   "source": [
    "hidden_layers = (100, 100, 100,)\n",
    "ann_clf = MLPClassifier(activation='relu', hidden_layer_sizes=hidden_layers)\n",
    "ann_clf = ann_clf.fit(psi_z, x)\n",
    "\n",
    "# Probabilities\n",
    "p_ann = ann_clf.predict_proba(psi_z)\n",
    "p_ann[p_ann == 1] = 1 - 10**-16\n",
    "p_ann[p_ann == 0] = 10**-16\n",
    "\n",
    "# Scores\n",
    "s_0 = logit(p_ann[np.where(x == 0)[0], 1])\n",
    "s_1 = logit(p_ann[np.where(x == 1)[0], 1])\n",
    "\n",
    "# ROC curve and AUC\n",
    "fpr_ann, tpr_ann, _ = roc_curve(x, p_ann[:, 1])\n",
    "auc_ann = auc(fpr_ann, tpr_ann)\n",
    "\n",
    "# Error\n",
    "err = np.mean((x-ann_clf.predict(psi_z))**2)\n",
    "\n",
    "# Confusion matrix\n",
    "cm_ann = confusion_matrix(x, ann_clf.predict(psi_z))\n",
    "cm_ann = cm_ann/np.sum(cm_ann, axis=1)"
   ]
  },
  {
   "cell_type": "markdown",
   "metadata": {},
   "source": [
    "## Plots"
   ]
  },
  {
   "cell_type": "code",
   "execution_count": null,
   "metadata": {},
   "outputs": [],
   "source": [
    "plt.style.use('arpm')\n",
    "\n",
    "fig = plt.figure()\n",
    "\n",
    "# Parameters\n",
    "orange = [0.94, 0.35, 0]\n",
    "green = [0, 0.5, 0]\n",
    "grtrue = [0, 0.4, 0]\n",
    "grhatch = [0, 0.1, 0]\n",
    "grfalse = [0.2, 0.6, 0]\n",
    "n_classes = 2\n",
    "plot_colors = \"rb\"\n",
    "plot_step = 0.02\n",
    "psi_zz1, psi_zz2 = np.meshgrid(np.arange(-2, 2, plot_step),\n",
    "                               np.arange(-2, 2, plot_step))\n",
    "idxx0 = np.where(np.abs(psi_z[:, 0]) <= 2)[0]\n",
    "idxx1 = np.where(np.abs(psi_z[:, 1]) <= 2)[0]\n",
    "idxx = np.intersect1d(idxx0, idxx1)\n",
    "\n",
    "# ROC curve\n",
    "ax1 = plt.subplot2grid((4, 4), (0, 0), colspan=2, rowspan=2)\n",
    "ax1.plot(fpr_ann, tpr_ann, color='b')\n",
    "ax1.set_xlabel('fpr')\n",
    "ax1.set_ylabel('tpr')\n",
    "ax1.text(0.5, 0.25, 'AUC = %.2f' % auc_ann)\n",
    "plt.text(0.5, 0.5, 'Error = %.2f' % err)\n",
    "plt.xlim([0, 1])\n",
    "plt.ylim([0, 1])\n",
    "plt.axis('square')\n",
    "ax1.set_title('ROC curve', fontweight='bold')\n",
    "\n",
    "# 3D plot\n",
    "ax2 = plt.subplot2grid((4, 4), (2, 0), colspan=2, rowspan=2, projection='3d')\n",
    "x_plot = ann_clf.predict(np.c_[psi_zz1.ravel(), psi_zz2.ravel()])\n",
    "x_plot = x_plot.reshape(psi_zz1.shape)\n",
    "ax2.plot_surface(psi_zz1, psi_zz2, x_plot,\n",
    "                 cmap=plt.cm.RdYlBu, alpha=0.7)\n",
    "# Scatter plot\n",
    "for i, color in zip(range(n_classes), plot_colors):\n",
    "    idx = np.intersect1d(np.where(x == i), idxx)\n",
    "    ax2.scatter3D(psi_z[idx, 0], psi_z[idx, 1], x[idx], c=color,\n",
    "                  label=['0', '1'][i],\n",
    "                  cmap=plt.cm.RdYlBu, s=10, alpha=1)\n",
    "ax2.view_init(30, -90)\n",
    "ax2.set_xlabel('$\\psi_1(Z)$')\n",
    "ax2.set_ylabel('$\\psi_2(Z)$')\n",
    "ax2.set_zlabel('$X$')\n",
    "nl = ann_clf.n_layers_-2\n",
    "ax2.set_title('Surface fitted with ANN;\\n number of hidden layers = %1i' % nl,\n",
    "              fontweight='bold')\n",
    "ax2.set_xlim([-2, 2])\n",
    "ax2.set_ylim([-2, 2])\n",
    "# ax.legend()\n",
    "\n",
    "# Regions plot\n",
    "ax3 = plt.subplot2grid((4, 4), (2, 2), colspan=2, rowspan=2)\n",
    "xx_perc = ann_clf.predict(np.c_[psi_zz1.ravel(), psi_zz2.ravel()])\n",
    "# Put the result into a color plot\n",
    "xx_perc = xx_perc.reshape(psi_zz1.shape)\n",
    "ax3.contourf(psi_zz1, psi_zz2, xx_perc, cmap=plt.cm.RdYlBu, alpha=0.5)\n",
    "# Scatter plot\n",
    "for i, color in zip(range(n_classes), plot_colors):\n",
    "    idx = np.where(x == i)\n",
    "    ax3.scatter(psi_z[idx, 0], psi_z[idx, 1], c=color,\n",
    "                label=['0', '1'][i],\n",
    "                cmap=plt.cm.RdYlBu, edgecolor='black', s=15, alpha=0.7)\n",
    "ax3.set_xlabel('$\\psi_1(Z)$')\n",
    "ax3.set_ylabel('$\\psi_2(Z)$')\n",
    "plt.xlim([-2, 2])\n",
    "plt.ylim([-2, 2])\n",
    "ax3.set_title('Decision regions', fontweight='bold')\n",
    "\n",
    "# Scores\n",
    "ax4 = plt.subplot2grid((4, 4), (0, 2), colspan=2, rowspan=1)\n",
    "ax4.hist(s_0, 80, density=True, alpha=0.7, color='r')\n",
    "ax4.hist(s_1, 80, density=True, alpha=0.7, color='b')\n",
    "yymax = ax4.get_ylim()[1]\n",
    "ax4.plot([0, 0], [0, yymax], 'k--')\n",
    "ax4.legend(['S | 0', 'S | 1'])\n",
    "ax4.set_title('Scores distribution', fontweight='bold')\n",
    "\n",
    "# Rates\n",
    "ax5 = plt.subplot2grid((4, 4), (1, 2), colspan=2, rowspan=1)\n",
    "ax5.fill([0.15, 0.15, 0.35, 0.35],\n",
    "         [0, cm_ann[0, 1], cm_ann[0, 1], 0], facecolor=grfalse,\n",
    "         edgecolor=grhatch, hatch='//', alpha=0.7)\n",
    "ax5.fill([0.15, 0.15, 0.35, 0.35],\n",
    "         [cm_ann[0, 1], 1, 1, cm_ann[0, 1]],\n",
    "         facecolor=grfalse, alpha=0.7)\n",
    "ax5.fill([0.45, 0.45, 0.65, 0.65],\n",
    "         [0, cm_ann[1, 1], cm_ann[1, 1], 0], facecolor=grtrue,\n",
    "         alpha=0.7)\n",
    "ax5.fill([0.45, 0.45, 0.65, 0.65],\n",
    "         [cm_ann[1, 1], 1, 1, cm_ann[1, 1]], facecolor=grtrue,\n",
    "         edgecolor=grhatch, hatch='\\\\\\\\', alpha=0.7)\n",
    "ax5.set_ylim([0, 1])\n",
    "ax5.legend(['fpr', 'tnr', 'tpr', 'fnr'], bbox_to_anchor=(0.001, -0.07, 1., .1),\n",
    "           facecolor='white',\n",
    "           loc=1, ncol=5, mode=\"expand\")\n",
    "ax5.set_title('Confusion matrix', fontweight='bold')\n",
    "ax5.set_xticks([])\n",
    "ax5.grid(False)\n",
    "\n",
    "add_logo(fig, axis=ax1, size_frac_x=1/6)\n",
    "plt.tight_layout()"
   ]
  }
 ],
 "metadata": {
  "jupytext": {
   "encoding": "# -*- coding: utf-8 -*-",
   "executable": "/usr/bin/env python3"
  },
  "kernelspec": {
   "display_name": "Python 3",
   "language": "python",
   "name": "python3"
  }
 },
 "nbformat": 4,
 "nbformat_minor": 4
}
