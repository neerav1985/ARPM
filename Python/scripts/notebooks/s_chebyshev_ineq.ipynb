{
 "cells": [
  {
   "cell_type": "markdown",
   "metadata": {},
   "source": [
    "# s_chebyshev_ineq [<img src=\"https://www.arpm.co/lab/icons/icon_permalink.png\" width=30 height=30 style=\"display: inline;\">](https://www.arpm.co/lab/redirect.php?code=s_chebyshev_ineq&codeLang=Python)\n",
    "For details, see [here](https://www.arpm.co/lab/redirect.php?permalink=ChMahalSimul)."
   ]
  },
  {
   "cell_type": "code",
   "execution_count": null,
   "metadata": {},
   "outputs": [],
   "source": [
    "import numpy as np\n",
    "import matplotlib.pyplot as plt\n",
    "from matplotlib import rc, rcParams\n",
    "\n",
    "rc('text', usetex=True)\n",
    "rcParams['text.latex.preamble']=[r\"\\usepackage{amsmath} \\usepackage{amssymb}\"]\n",
    "\n",
    "from arpym.statistics.simulate_normal import simulate_normal\n",
    "from arpym.tools.plot_ellipse import plot_ellipse\n",
    "from arpym.tools.logo import add_logo"
   ]
  },
  {
   "cell_type": "markdown",
   "metadata": {},
   "source": [
    "## [Input parameters](https://www.arpm.co/lab/redirect.php?permalink=s_chebyshev_ineq-parameters)"
   ]
  },
  {
   "cell_type": "code",
   "execution_count": null,
   "metadata": {},
   "outputs": [],
   "source": [
    "mu = np.array([1, 1])  # expectation\n",
    "rho = 0.6  # correlation\n",
    "sig2 = np.array([[1, rho], [rho, 1]])  # covariance\n",
    "m = np.array([1, 1])  # volume of generic ellipsoid\n",
    "theta = np.pi/3  # rotation angle\n",
    "r_theta = np.array([[np.cos(theta), -np.sin(theta)],\n",
    "                     [np.sin(theta), np.cos(theta)]])  # rotation matrix\n",
    "r = 2  # radius of ellipsoids\n",
    "j_ = 5000  # number of scenarios"
   ]
  },
  {
   "cell_type": "markdown",
   "metadata": {},
   "source": [
    "## [Step 1](https://www.arpm.co/lab/redirect.php?permalink=s_chebyshev_ineq-implementation-step01): Compute the square dispersion of the generic ellipsoid via rotation"
   ]
  },
  {
   "cell_type": "code",
   "execution_count": null,
   "metadata": {},
   "outputs": [],
   "source": [
    "s2 = r_theta @ sigma2 @ r_theta.T"
   ]
  },
  {
   "cell_type": "markdown",
   "metadata": {},
   "source": [
    "## [Step 2](https://www.arpm.co/lab/redirect.php?permalink=s_chebyshev_ineq-implementation-step02): Perform computations for the plot"
   ]
  },
  {
   "cell_type": "code",
   "execution_count": null,
   "metadata": {
    "lines_to_next_cell": 2
   },
   "outputs": [],
   "source": [
    "x = simulate_normal(mu, sigma2, j_)\n",
    "ellipse_mu_sig2 = plot_ellipse(mu, sig2, r=r, display_ellipse=False, plot_axes=True, plot_tang_box=True,\n",
    "             color='orange')\n",
    "ellipse_m_s2 = plot_ellipse(m, s2, r=r, display_ellipse=False, plot_axes=True, plot_tang_box=True,\n",
    "             color='b')"
   ]
  },
  {
   "cell_type": "markdown",
   "metadata": {},
   "source": [
    "## Plots"
   ]
  },
  {
   "cell_type": "code",
   "execution_count": null,
   "metadata": {},
   "outputs": [],
   "source": [
    "plt.style.use('arpm')\n",
    "orange = [.9, .4, 0]\n",
    "grey = [.5, .5, .5]\n",
    "\n",
    "fig = plt.figure(figsize=(1280.0/72.0, 720.0/72.0), dpi=72.0)\n",
    "plt.axis('equal')\n",
    "plt.plot([], [], color=orange, lw=2)  # dummy plot for legend\n",
    "plt.plot([], [], color='b', lw=2)  # dummy plot for legend\n",
    "plt.plot(x[:, 0], x[:, 1], \"o\", color=grey, markersize=3)\n",
    "plt.plot(ellipse_mu_sig2[:, 0], ellipse_mu_sig2[:, 1], color=orange, linewidth=2)\n",
    "plt.plot(ellipse_m_s2[:, 0], ellipse_m_s2[:, 1], color='b', linewidth=2)\n",
    "plt.legend(('Exp-cov ellipsoid',\n",
    "           'Generic ellipsoid (same volume)'), loc=2)\n",
    "plt.title(r\"Chebyshev's inequality\", fontsize=20, fontweight='bold')\n",
    "plt.xlabel('$X_1$', fontsize=17)\n",
    "plt.ylabel('$X_2$', fontsize=17)\n",
    "add_logo(fig)"
   ]
  }
 ],
 "metadata": {
  "jupytext": {
   "encoding": "# -*- coding: utf-8 -*-",
   "executable": "/usr/bin/env python3"
  },
  "kernelspec": {
   "display_name": "Python 3",
   "language": "python",
   "name": "python3"
  }
 },
 "nbformat": 4,
 "nbformat_minor": 4
}
