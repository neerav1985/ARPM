{
 "cells": [
  {
   "cell_type": "markdown",
   "metadata": {},
   "source": [
    "# S_FlexibleCombinationsModels [<img src=\"https://www.arpm.co/lab/icons/icon_permalink.png\" width=30 height=30 style=\"display: inline;\">](https://www.arpm.co/lab/redirect.php?code=S_FlexibleCombinationsModels&codeLang=Python)\n",
    "For details, see [here](https://www.arpm.co/lab/redirect.php?permalink=ExerHeavyTails)."
   ]
  },
  {
   "cell_type": "markdown",
   "metadata": {},
   "source": [
    "## Prepare the environment"
   ]
  },
  {
   "cell_type": "code",
   "execution_count": null,
   "metadata": {},
   "outputs": [],
   "source": [
    "import os\n",
    "import os.path as path\n",
    "import sys\n",
    "\n",
    "sys.path.append(path.abspath('../../functions-legacy'))\n",
    "from collections import namedtuple\n",
    "\n",
    "from numpy import arange, ones, var, \\\n",
    "    percentile, round, mean, log, sqrt\n",
    "from numpy import min as npmin, max as npmax\n",
    "\n",
    "from scipy.stats import norm, t\n",
    "from scipy.io import loadmat\n",
    "\n",
    "import matplotlib.pyplot as plt\n",
    "from matplotlib.pyplot import figure, plot, bar, legend, xlim, title\n",
    "\n",
    "plt.style.use('seaborn')\n",
    "\n",
    "from CONFIG import GLOBAL_DB, TEMPORARY_DB\n",
    "from ARPM_utils import save_plot, struct_to_dict\n",
    "from HistogramFP import HistogramFP\n",
    "from Price2AdjustedPrice import Price2AdjustedPrice\n",
    "from NormalMixtureFit import NormalMixtureFit\n",
    "from CalibDegOfFreedomMLFP import CalibDegOfFreedomMLFP"
   ]
  },
  {
   "cell_type": "markdown",
   "metadata": {},
   "source": [
    "## Upload the database"
   ]
  },
  {
   "cell_type": "code",
   "execution_count": null,
   "metadata": {},
   "outputs": [],
   "source": [
    "try:\n",
    "    db = loadmat(os.path.join(GLOBAL_DB, 'db_Stocks'), squeeze_me=True)\n",
    "except FileNotFoundError:\n",
    "    db = loadmat(os.path.join(TEMPORARY_DB, 'db_Stocks'), squeeze_me=True)\n",
    "\n",
    "StocksSPX = struct_to_dict(db['StocksSPX'])"
   ]
  },
  {
   "cell_type": "markdown",
   "metadata": {},
   "source": [
    "## Compute the dividend-adjusted returns of one stock"
   ]
  },
  {
   "cell_type": "code",
   "execution_count": null,
   "metadata": {},
   "outputs": [],
   "source": [
    "_, epsi = Price2AdjustedPrice(StocksSPX.Date.reshape(1,-1), StocksSPX.Prices[[25],:], StocksSPX.Dividends[25])  # Cisco Systems Inc\n",
    "t_ = epsi.shape[1]"
   ]
  },
  {
   "cell_type": "code",
   "execution_count": null,
   "metadata": {},
   "outputs": [],
   "source": [
    "# ## Empirical distribution fit\n",
    "p = ones((1, t_)) / t_\n",
    "option = namedtuple('option', 'n_bins')\n",
    "option.n_bins = round(10*log(t_))\n",
    "hgram, bins_epsi = HistogramFP(epsi, p, option)"
   ]
  },
  {
   "cell_type": "code",
   "execution_count": null,
   "metadata": {},
   "outputs": [],
   "source": [
    "# ## Normal fit\n",
    "\n",
    "epsi_grid = arange(npmin(epsi),npmax(epsi)+0.001,0.001)\n",
    "mu = mean(epsi)\n",
    "sigma2 = var(epsi)\n",
    "normal = norm.pdf(epsi_grid, mu, sqrt(sigma2))"
   ]
  },
  {
   "cell_type": "markdown",
   "metadata": {},
   "source": [
    "## Gaussian mixture fit"
   ]
  },
  {
   "cell_type": "code",
   "execution_count": null,
   "metadata": {},
   "outputs": [],
   "source": [
    "mu, Sigma, PComponents = NormalMixtureFit(epsi.T, 2, 0, 0, 0)\n",
    "# fit = gmdistribution.fit(epsi.T,2)\n",
    "# gauss_mixt = pdf(fit,epsi_grid.T)\n",
    "gauss_mixt = PComponents[0,0]*norm.pdf(epsi_grid.reshape(-1,1), mu[0],sqrt(Sigma[0,0,0])) + PComponents[0,1]*norm.pdf(epsi_grid.reshape(-1,1),\n",
    "                                                                                                   mu[1],\n",
    "                                                                                                   sqrt(Sigma[0,0,1]))\n",
    "# ## Student-t fit\n",
    "\n",
    "p = ones((1, t_)) / t_  # historical probabilities\n",
    "\n",
    "# the degrees of freedom are calibrated on the grid range(step_nu):max_nu\n",
    "max_nu = 90\n",
    "step_nu = 1\n",
    "\n",
    "mu_t, sigma2_t, nu = CalibDegOfFreedomMLFP(epsi, p, max_nu, step_nu)\n",
    "student = t.pdf((epsi_grid - mu_t) / sqrt(sigma2_t), nu) / sqrt(sigma2_t)"
   ]
  },
  {
   "cell_type": "markdown",
   "metadata": {},
   "source": [
    "## Create a figure showing the comparison between the estimated distributions"
   ]
  },
  {
   "cell_type": "code",
   "execution_count": null,
   "metadata": {},
   "outputs": [],
   "source": [
    "q_inf = percentile(epsi, 100*0.0025)\n",
    "q_sup = percentile(epsi, 100*0.9975)\n",
    "\n",
    "# colors\n",
    "blue = [0, 0, 0.4]\n",
    "red = [0.9, 0.3, 0]\n",
    "grey = [.9, .9, .9]\n",
    "green = [.2, .6, .3]\n",
    "\n",
    "f = figure()\n",
    "p1 = bar(bins_epsi[:-1], hgram[0], width=bins_epsi[1]-bins_epsi[0], facecolor=[.9, .9, .9],edgecolor='k')\n",
    "p2 = plot(epsi_grid, normal, color=green, lw=1.5)\n",
    "p3 = plot(epsi_grid, gauss_mixt, color=red, lw=1.5)\n",
    "p4 = plot(epsi_grid, student, color=blue, lw=1.5)\n",
    "xlim([q_inf, q_sup])\n",
    "leg = legend(handles=[p1[0],p2[0],p3[0],p4[0]],labels=['Empirical','Normal','Gaussian mixture', 'Student t(v=  %.1f)'%nu])\n",
    "title('Heavy tails models');\n",
    "# save_plot(ax=plt.gca(), extension='png', scriptname=os.path.basename('.')[:-3], count=plt.get_fignums()[-1])"
   ]
  }
 ],
 "metadata": {
  "jupytext": {
   "encoding": "# -*- coding: utf-8 -*-",
   "executable": "/usr/bin/env python3"
  },
  "kernelspec": {
   "display_name": "Python 3",
   "language": "python",
   "name": "python3"
  }
 },
 "nbformat": 4,
 "nbformat_minor": 4
}
