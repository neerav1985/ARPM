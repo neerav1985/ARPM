{
 "cells": [
  {
   "cell_type": "markdown",
   "metadata": {},
   "source": [
    "# S_EigenvalueDispersion [<img src=\"https://www.arpm.co/lab/icons/icon_permalink.png\" width=30 height=30 style=\"display: inline;\">](https://www.arpm.co/lab/redirect.php?code=S_EigenvalueDispersion&codeLang=Python)\n",
    "For details, see [here](https://www.arpm.co/lab/redirect.php?permalink=ExerEigDisp)."
   ]
  },
  {
   "cell_type": "markdown",
   "metadata": {},
   "source": [
    "## Prepare the environment"
   ]
  },
  {
   "cell_type": "code",
   "execution_count": null,
   "metadata": {},
   "outputs": [],
   "source": [
    "import os\n",
    "import os.path as path\n",
    "import sys\n",
    "\n",
    "sys.path.append(path.abspath('../../functions-legacy'))\n",
    "\n",
    "import numpy as np\n",
    "from numpy import arange, zeros, sort, argsort, cov, eye\n",
    "from numpy.linalg import eig\n",
    "from numpy.random import multivariate_normal as mvnrnd\n",
    "\n",
    "import matplotlib.pyplot as plt\n",
    "from mpl_toolkits.mplot3d import Axes3D\n",
    "from matplotlib.pyplot import figure, subplots, ylabel, \\\n",
    "    xlabel\n",
    "\n",
    "plt.style.use('seaborn')\n",
    "\n",
    "from ARPM_utils import save_plot\n",
    "\n",
    "# inputs\n",
    "i_ = 50  # dimension of the covariance matrix\n",
    "t_vector = i_ * arange(1, 11)  # different lens of the time series\n",
    "j_ = 50  # simulations for each time series\n",
    "mu = zeros(i_)\n",
    "sigma2 = eye(i_)"
   ]
  },
  {
   "cell_type": "markdown",
   "metadata": {},
   "source": [
    "## Compute sample eigenvalues from time series of different lens"
   ]
  },
  {
   "cell_type": "code",
   "execution_count": null,
   "metadata": {},
   "outputs": [],
   "source": [
    "lambda2_hat = zeros((len(t_vector), i_))\n",
    "for k in range(len(t_vector)):\n",
    "    t_ = t_vector[k]\n",
    "    lambda2_tmp = 0\n",
    "    for j in range(j_):\n",
    "        # simulate the time series\n",
    "        Epsi = mvnrnd(mu, sigma2, t_).T\n",
    "        # compute sample covariance\n",
    "        sigma2_hat = cov(Epsi, ddof=1)\n",
    "        # compute eigenvalues\n",
    "        l, _ = eig(sigma2_hat)\n",
    "        l, Index = sort(l)[::-1], argsort(l)[::-1]\n",
    "        lambda2_tmp = lambda2_tmp + l\n",
    "\n",
    "    # average of eigenvalues across different scenarios\n",
    "    lambda2_tmp = lambda2_tmp / j_\n",
    "    # store the resulting average eigenvalues\n",
    "    lambda2_hat[k, :] = lambda2_tmp"
   ]
  },
  {
   "cell_type": "markdown",
   "metadata": {},
   "source": [
    "## Create figure"
   ]
  },
  {
   "cell_type": "code",
   "execution_count": null,
   "metadata": {},
   "outputs": [],
   "source": [
    "# Display surface\n",
    "x, y = np.meshgrid(range(i_), t_vector / i_)\n",
    "f, ax = subplots(1, 1, subplot_kw=dict(projection='3d'))\n",
    "ax.view_init(30,-120)\n",
    "ax.plot_surface(x, y, lambda2_hat)\n",
    "xlabel('eigenvalue #',labelpad=10)\n",
    "ylabel('sample length/i',labelpad=10)\n",
    "plt.grid(True);\n",
    "# save_plot(ax=plt.gca(), extension='png', scriptname=os.path.basename('.')[:-3], count=plt.get_fignums()[-1])"
   ]
  }
 ],
 "metadata": {
  "jupytext": {
   "encoding": "# -*- coding: utf-8 -*-",
   "executable": "/usr/bin/env python3"
  },
  "kernelspec": {
   "display_name": "Python 3",
   "language": "python",
   "name": "python3"
  }
 },
 "nbformat": 4,
 "nbformat_minor": 4
}
