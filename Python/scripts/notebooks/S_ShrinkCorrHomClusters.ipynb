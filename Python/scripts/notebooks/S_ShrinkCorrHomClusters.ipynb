{
 "cells": [
  {
   "cell_type": "markdown",
   "metadata": {},
   "source": [
    "# S_ShrinkCorrHomClusters [<img src=\"https://www.arpm.co/lab/icons/icon_permalink.png\" width=30 height=30 style=\"display: inline;\">](https://www.arpm.co/lab/redirect.php?code=S_ShrinkCorrHomClusters&codeLang=Python)\n",
    "For details, see [here](https://www.arpm.co/lab/redirect.php?permalink=HomClusShrink)."
   ]
  },
  {
   "cell_type": "markdown",
   "metadata": {},
   "source": [
    "## Prepare the environment"
   ]
  },
  {
   "cell_type": "code",
   "execution_count": null,
   "metadata": {},
   "outputs": [],
   "source": [
    "import os\n",
    "import os.path as path\n",
    "import sys\n",
    "from collections import namedtuple\n",
    "\n",
    "sys.path.append(path.abspath('../../functions-legacy'))\n",
    "\n",
    "from numpy import log, corrcoef, unique, arange, max as npmax, min as npmin, eye, diff, ix_, linspace\n",
    "\n",
    "from scipy.io import loadmat\n",
    "\n",
    "import matplotlib.pyplot as plt\n",
    "from matplotlib.pyplot import figure, title, yticks, xticks, imshow, subplot\n",
    "\n",
    "plt.style.use('seaborn')\n",
    "\n",
    "from CONFIG import GLOBAL_DB, TEMPORARY_DB\n",
    "from ARPM_utils import struct_to_dict\n",
    "from SortBySector import SortBySector\n",
    "from HomCl import HomCl\n",
    "\n",
    "# inputs\n",
    "index = [96, 97, 128, 132, 138]  # entries of interest"
   ]
  },
  {
   "cell_type": "markdown",
   "metadata": {},
   "source": [
    "## Upload database"
   ]
  },
  {
   "cell_type": "code",
   "execution_count": null,
   "metadata": {},
   "outputs": [],
   "source": [
    "try:\n",
    "    db = loadmat(os.path.join(GLOBAL_DB, 'db_StocksS_P'), squeeze_me=True)\n",
    "except FileNotFoundError:\n",
    "    db = loadmat(os.path.join(TEMPORARY_DB, 'db_StocksS_P'), squeeze_me=True)\n",
    "\n",
    "Data = struct_to_dict(db['Data'])"
   ]
  },
  {
   "cell_type": "markdown",
   "metadata": {},
   "source": [
    "## Compute the correlation matrix from the log-returns"
   ]
  },
  {
   "cell_type": "code",
   "execution_count": null,
   "metadata": {},
   "outputs": [],
   "source": [
    "prices = Data.Prices\n",
    "\n",
    "i_ = prices.shape[0]\n",
    "t_ = prices.shape[1]\n",
    "\n",
    "epsi = log(prices[:, 1:t_] / prices[:, :t_-1])\n",
    "c2 = corrcoef(epsi)  # sample correlation matrix"
   ]
  },
  {
   "cell_type": "markdown",
   "metadata": {},
   "source": [
    "## Sort the correlation matrix by sectors"
   ]
  },
  {
   "cell_type": "code",
   "execution_count": null,
   "metadata": {},
   "outputs": [],
   "source": [
    "sectors = Data.Sectors\n",
    "sector_names = unique(sectors)\n",
    "\n",
    "i_s, l_s = SortBySector(sectors, sector_names)\n",
    "c2_sec = c2[ix_(i_s.flatten(), i_s.flatten())]  # correlation matrix sorted by sectors"
   ]
  },
  {
   "cell_type": "markdown",
   "metadata": {},
   "source": [
    "## Select the entries of interest and perform homogeneous shrinkage"
   ]
  },
  {
   "cell_type": "code",
   "execution_count": null,
   "metadata": {},
   "outputs": [],
   "source": [
    "c2_bar = c2_sec[ix_(index, index)]\n",
    "\n",
    "options = namedtuple('options', 'method i_c l_c')\n",
    "options.method = 'exogenous'\n",
    "options.i_c = range(5)\n",
    "options.l_c = [0, 2, 5]\n",
    "c2_hom = HomCl(c2_bar, options)[0]"
   ]
  },
  {
   "cell_type": "markdown",
   "metadata": {},
   "source": [
    "## Create figure"
   ]
  },
  {
   "cell_type": "code",
   "execution_count": null,
   "metadata": {},
   "outputs": [],
   "source": [
    "c_gray = [0.8, 0.8, 0.8]\n",
    "\n",
    "gray_mod = c_gray\n",
    "\n",
    "tick = l_s[:-1]+diff(l_s) / 2\n",
    "rho2_f = c2_sec - eye(i_)\n",
    "c_max = npmax(rho2_f)\n",
    "c_min = npmin(rho2_f)\n",
    "\n",
    "f, ax = plt.subplots(1,2)\n",
    "plt.sca(ax[0])\n",
    "ytlab = arange(5)\n",
    "cax = imshow(c2_bar,aspect='equal')\n",
    "cbar = f.colorbar(cax,ticks=linspace(c_min,c_max,11),format='%.2f',shrink=0.53)\n",
    "plt.grid(False)\n",
    "# colormap gray\n",
    "xticks(arange(5),arange(1,6))\n",
    "yticks(arange(5),arange(1,6))\n",
    "title('Starting Correlation')\n",
    "plt.sca(ax[1])\n",
    "ax[1].set_adjustable('box-forced')\n",
    "cax1 = imshow(c2_hom, aspect='equal')\n",
    "cbar = f.colorbar(cax1,ticks=linspace(c_min,c_max,11),format='%.2f',shrink=0.53)\n",
    "plt.grid(False)\n",
    "yticks([])\n",
    "xticks(arange(5),arange(1,6))\n",
    "title('Homogenized Correlation');\n"
   ]
  }
 ],
 "metadata": {
  "jupytext": {
   "encoding": "# -*- coding: utf-8 -*-",
   "executable": "/usr/bin/env python3"
  },
  "kernelspec": {
   "display_name": "Python 3",
   "language": "python",
   "name": "python3"
  }
 },
 "nbformat": 4,
 "nbformat_minor": 4
}
