{
 "cells": [
  {
   "cell_type": "markdown",
   "metadata": {},
   "source": [
    "# s_analyze_rates_jgb [<img src=\"https://www.arpm.co/lab/icons/icon_permalink.png\" width=30 height=30 style=\"display: inline;\">](https://www.arpm.co/lab/redirect.php?code=s_analyze_rates_jgb&codeLang=Python)\n",
    "For details, see [here](https://www.arpm.co/lab/redirect.php?permalink=eb-log-shad-rates-risk-driv)."
   ]
  },
  {
   "cell_type": "code",
   "execution_count": null,
   "metadata": {},
   "outputs": [],
   "source": [
    "import numpy as np\n",
    "import pandas as pd\n",
    "import matplotlib.pyplot as plt\n",
    "import matplotlib.dates as mdates\n",
    "from pandas.plotting import register_matplotlib_converters\n",
    "register_matplotlib_converters()\n",
    "\n",
    "from arpym.pricing.ytm_shadowrates import ytm_shadowrates\n",
    "from arpym.tools.logo import add_logo"
   ]
  },
  {
   "cell_type": "markdown",
   "metadata": {},
   "source": [
    "## [Input parameters](https://www.arpm.co/lab/redirect.php?permalink=s_analyze_rates_jgb-parameters)"
   ]
  },
  {
   "cell_type": "code",
   "execution_count": null,
   "metadata": {},
   "outputs": [],
   "source": [
    "tau_select = [1, 2, 3, 5, 7, 10, 20]  # selected times to maturity (years)\n",
    "eta = 0.013  # smoothing parameter for call function"
   ]
  },
  {
   "cell_type": "markdown",
   "metadata": {},
   "source": [
    "## [Step 0](https://www.arpm.co/lab/redirect.php?permalink=s_analyze_rates_jgb-implementation-step00): Upload data"
   ]
  },
  {
   "cell_type": "code",
   "execution_count": null,
   "metadata": {},
   "outputs": [],
   "source": [
    "path = '~/databases/global-databases/fixed-income/db_japanesegovbond/'\n",
    "df_data = pd.read_csv(path + 'data.csv',\n",
    "                             header=0,\n",
    "                             index_col=0,\n",
    "                             parse_dates=['date'],\n",
    "                             infer_datetime_format=True)\n",
    "tau = pd.read_csv(path + 'params.csv').iloc[:, 0].values"
   ]
  },
  {
   "cell_type": "markdown",
   "metadata": {},
   "source": [
    "## [Step 1](https://www.arpm.co/lab/redirect.php?permalink=s_analyze_rates_jgb-implementation-step01): Select yields"
   ]
  },
  {
   "cell_type": "code",
   "execution_count": null,
   "metadata": {},
   "outputs": [],
   "source": [
    "tau_select = np.sort(tau_select)\n",
    "tau_index = np.searchsorted(tau, tau_select)\n",
    "\n",
    "t = df_data.index.values\n",
    "y = df_data.iloc[:, tau_index].values  # yields for selected times to maturity"
   ]
  },
  {
   "cell_type": "markdown",
   "metadata": {},
   "source": [
    "## [Step 2](https://www.arpm.co/lab/redirect.php?permalink=s_analyze_rates_jgb-implementation-step02): log-yields and shadow rates"
   ]
  },
  {
   "cell_type": "code",
   "execution_count": null,
   "metadata": {},
   "outputs": [],
   "source": [
    "log_y = np.log(y)  # log-yields for selected times to maturity\n",
    "c_inv_eta = ytm_shadowrates(y, eta)  # shadow rates for selected times to maturity"
   ]
  },
  {
   "cell_type": "markdown",
   "metadata": {},
   "source": [
    "## Plots"
   ]
  },
  {
   "cell_type": "code",
   "execution_count": null,
   "metadata": {},
   "outputs": [],
   "source": [
    "plt.style.use('arpm')\n",
    "cmap = plt.get_cmap('Reds_r')\n",
    "colors = [cmap(i) for i in np.linspace(0, 0.8, tau_select.shape[0])]\n",
    "\n",
    "time_to_maturity = [str(x) + ' year' if x == 1\n",
    "                    else str(x) + ' years'\n",
    "                    for x in tau_select]\n",
    "\n",
    "myFmt = mdates.DateFormatter('%d-%b-%y')\n",
    "xtick_count = 6\n",
    "fig, ax = plt.subplots(3, 1, sharex=True)\n",
    "\n",
    "handles = []\n",
    "for yields, log_yields, shadow_rates, c in zip(y.T, log_y.T, c_inv_eta.T, colors):\n",
    "    ax[0].plot(t, yields, c=c, lw=0.5)\n",
    "    ax[1].plot(t, log_yields, c=c, lw=0.5)\n",
    "    line, = ax[2].plot(t, shadow_rates, c=c, lw=0.5)\n",
    "    handles.append(line)\n",
    "\n",
    "ax[0].set_ylabel('Yields')\n",
    "ax[1].set_ylabel('Log-yields')\n",
    "ax[2].set_ylabel('Shadow rates')\n",
    "ax[2].xaxis.set_ticks(t[np.linspace(0, len(t)-1, xtick_count, dtype=int)])\n",
    "ax[2].xaxis.set_major_formatter(myFmt)\n",
    "\n",
    "ax[0].set_ylim(np.min(y), np.max(y))\n",
    "ax[1].set_ylim(np.min(log_y), np.max(log_y))\n",
    "ax[2].set_ylim(np.min(c_inv_eta), np.max(c_inv_eta))\n",
    "ax[2].set_xlim(np.min(t), np.max(t))\n",
    "\n",
    "fig.suptitle('Japanese government bond yields',\n",
    "             x=0.5, y=1,\n",
    "             fontweight='semibold')\n",
    "\n",
    "fig.legend(handles,\n",
    "           time_to_maturity,\n",
    "           loc='center',\n",
    "           ncol=len(time_to_maturity),\n",
    "           bbox_to_anchor=(0.5, 0.01),\n",
    "           columnspacing=0.25,\n",
    "           handletextpad=0.1)\n",
    "\n",
    "add_logo(fig)\n",
    "plt.tight_layout()"
   ]
  }
 ],
 "metadata": {
  "jupytext": {
   "encoding": "# -*- coding: utf-8 -*-",
   "executable": "/usr/bin/env python3"
  },
  "kernelspec": {
   "display_name": "Python 3",
   "language": "python",
   "name": "python3"
  }
 },
 "nbformat": 4,
 "nbformat_minor": 4
}
