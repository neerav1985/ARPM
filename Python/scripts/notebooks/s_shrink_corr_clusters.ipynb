{
 "cells": [
  {
   "cell_type": "markdown",
   "metadata": {},
   "source": [
    "# s_shrink_corr_clusters [<img src=\"https://www.arpm.co/lab/icons/icon_permalink.png\" width=30 height=30 style=\"display: inline;\">](https://www.arpm.co/lab/redirect.php?code=s_shrink_corr_clusters&codeLang=Python)\n",
    "For details, see [here](https://www.arpm.co/lab/redirect.php?permalink=ExerMST)."
   ]
  },
  {
   "cell_type": "code",
   "execution_count": null,
   "metadata": {},
   "outputs": [],
   "source": [
    "import numpy as np\n",
    "import pandas as pd\n",
    "import matplotlib.pyplot as plt\n",
    "import networkx as nx\n",
    "from sklearn.cluster import KMeans\n",
    "\n",
    "from arpym.statistics.simulate_normal import simulate_normal\n",
    "from arpym.tools.logo import add_logo"
   ]
  },
  {
   "cell_type": "markdown",
   "metadata": {},
   "source": [
    "## [Step 0](https://www.arpm.co/lab/redirect.php?permalink=s_shrink_corr_clusters-implementation-step00): Load data"
   ]
  },
  {
   "cell_type": "code",
   "execution_count": null,
   "metadata": {},
   "outputs": [],
   "source": [
    "path = '~/databases/global-databases/equities/db_stocks_SP500/'\n",
    "# stocks values\n",
    "df_stocks = pd.read_csv(path + 'db_stocks_sp.csv', index_col=0, header=[0, 1])\n",
    "sectors = np.array(df_stocks.columns.levels[0])  # sector names\n",
    "labels = np.array(df_stocks.columns.codes)[0, :]  # sector indices"
   ]
  },
  {
   "cell_type": "markdown",
   "metadata": {},
   "source": [
    "## [Step 1](https://www.arpm.co/lab/redirect.php?permalink=s_shrink_corr_clusters-implementation-step01): Compute the correlation matrix from the log-returns"
   ]
  },
  {
   "cell_type": "code",
   "execution_count": null,
   "metadata": {},
   "outputs": [],
   "source": [
    "epsi = np.diff(np.log(df_stocks), axis=0)  # log-returns\n",
    "c2 = np.corrcoef(epsi.T)  # historical correlation\n",
    "t_, n_ = epsi.shape"
   ]
  },
  {
   "cell_type": "markdown",
   "metadata": {},
   "source": [
    "## [Step 2](https://www.arpm.co/lab/redirect.php?permalink=s_shrink_corr_clusters-implementation-step02): Sort the correlation matrix by sectors"
   ]
  },
  {
   "cell_type": "code",
   "execution_count": null,
   "metadata": {},
   "outputs": [],
   "source": [
    "i_s = np.argsort(labels)\n",
    "c2_sec = c2[np.ix_(i_s, i_s)]  # correlation matrix sorted by sectors"
   ]
  },
  {
   "cell_type": "markdown",
   "metadata": {},
   "source": [
    "## [Step 3](https://www.arpm.co/lab/redirect.php?permalink=s_shrink_corr_clusters-implementation-step03): Compute the initial clustering by computing the average of each sector"
   ]
  },
  {
   "cell_type": "code",
   "execution_count": null,
   "metadata": {},
   "outputs": [],
   "source": [
    "x = simulate_normal(np.zeros(n_), c2, 2 * n_)\n",
    "k_ = sectors.shape[0]  # number of sectors\n",
    "c0 = np.zeros((2 * n_, k_))\n",
    "for k in range(k_):\n",
    "    c0[:, k] = np.mean(x[:, labels == k], axis=1)"
   ]
  },
  {
   "cell_type": "markdown",
   "metadata": {},
   "source": [
    "## [Step 4](https://www.arpm.co/lab/redirect.php?permalink=s_shrink_corr_clusters-implementation-step04): Determine clusters and sort the correlation matrix accordingly"
   ]
  },
  {
   "cell_type": "code",
   "execution_count": null,
   "metadata": {},
   "outputs": [],
   "source": [
    "kmeans = KMeans(n_clusters=k_, init=c0.T, n_init=1).fit(x.T)  # fit\n",
    "i_c = np.argsort(kmeans.labels_)\n",
    "c2_clus = c2[np.ix_(i_c, i_c)]"
   ]
  },
  {
   "cell_type": "markdown",
   "metadata": {},
   "source": [
    "## [Step 5](https://www.arpm.co/lab/redirect.php?permalink=s_shrink_corr_clusters-implementation-step05): Compute the minimum spanning tree"
   ]
  },
  {
   "cell_type": "code",
   "execution_count": null,
   "metadata": {},
   "outputs": [],
   "source": [
    "d = np.sqrt(2 * (1 - c2))  # distance matrix\n",
    "gr = nx.from_numpy_matrix(d)\n",
    "mst = nx.minimum_spanning_tree(nx.from_numpy_matrix(d))  # min. spanning tree"
   ]
  },
  {
   "cell_type": "markdown",
   "metadata": {},
   "source": [
    "## Plots"
   ]
  },
  {
   "cell_type": "code",
   "execution_count": null,
   "metadata": {},
   "outputs": [],
   "source": [
    "plt.style.use('arpm')\n",
    "\n",
    "sector_names_short = ['CDis', 'CSta', 'Ene', 'Fin', 'HC',\n",
    "                      'Ind', 'IT', 'Mat', 'TS', 'U']\n",
    "# color settings\n",
    "c_sect = np.array([[0.2,  0.6,  0],  # dark green\n",
    "                   [0.5,  1,    0.5],  # light green\n",
    "                   [0.8,  0.8,  0.8],  # light gray\n",
    "                   [0.6,  0.5,  0.1],  # brown\n",
    "                   [0.27, 0.4,  0.9],  # blue\n",
    "                   [0,    1,    1],  # light blue\n",
    "                   [1,    0.5,  1],  # pink\n",
    "                   [0,    0,    0],  # black\n",
    "                   [1,    0,    0],  # red\n",
    "                   [1,    1,    0]])  # yellow\n",
    "\n",
    "c_max = np.max(c2 - np.eye(n_))\n",
    "c_min = np.min(c2 - np.eye(n_))\n",
    "\n",
    "# Correlations\n",
    "fig, axes = plt.subplots(1, 2)\n",
    "plt.sca(axes[0])\n",
    "plt.imshow(c2_sec - np.eye(n_), vmin=c_min, vmax=c_max, aspect='equal')\n",
    "\n",
    "l_s = np.cumsum(np.bincount(labels[i_s]))\n",
    "for k in reversed(range(10)):\n",
    "    plt.plot([l_s[k], l_s[k]], [1, n_], 'r-')\n",
    "    plt.plot([1, n_], [l_s[k], l_s[k]], 'r-')\n",
    "    plt.plot([1, l_s[k]], [1, l_s[k]], color=c_sect[k, :], markersize=8)\n",
    "\n",
    "tick = np.r_[l_s[0] / 2, l_s[:-1] + np.diff(l_s) / 2]\n",
    "plt.xticks(tick, sector_names_short, rotation=90)\n",
    "plt.yticks(tick, sector_names_short)\n",
    "plt.title('Sector Clusters')\n",
    "plt.grid(False)\n",
    "\n",
    "plt.sca(axes[1])\n",
    "plt.imshow(c2_clus - np.eye(n_), vmin=c_min, vmax=c_max, aspect='equal')\n",
    "\n",
    "l_c = np.cumsum(np.bincount(kmeans.labels_[i_c]))\n",
    "for k in reversed(range(10)):\n",
    "    plt.plot([l_c[k], l_c[k]], [1, n_], 'r-')\n",
    "    plt.plot([1, n_], [l_c[k], l_c[k]], 'r-')\n",
    "    plt.plot([1, l_c[k]], [1, l_c[k]], color=c_sect[k, :], markersize=8)\n",
    "\n",
    "plt.title('Correlation Clusters')\n",
    "plt.grid(False)\n",
    "\n",
    "add_logo(fig)\n",
    "plt.tight_layout()\n",
    "\n",
    "# Minimum spanning trees\n",
    "fig, ax = plt.subplots(1, 2)\n",
    "plt.sca(ax[0])\n",
    "gr = nx.from_numpy_matrix(d)\n",
    "x = nx.minimum_spanning_tree(gr)\n",
    "pos = nx.nx_pydot.graphviz_layout(x, prog='neato')\n",
    "nx.draw_networkx(x, pos=pos, node_shape='.', width=1, node_size=1,\n",
    "                 node_color='b', ax=ax[0], with_labels=False)\n",
    "for i in range(k_-1):\n",
    "    idx = i_s.flatten()[int(l_s[i]):int(l_s[i+1])+1]\n",
    "    for id in idx:\n",
    "        plt.plot(pos[id][0], pos[id][1], marker='.', markersize=10,\n",
    "                 c=c_sect[i, :])\n",
    "plt.axis('off')\n",
    "plt.title('Colors by sectors')\n",
    "plt.sca(ax[1])\n",
    "nx.draw_networkx(x, pos=pos, node_shape='.', width=1, node_size=1,\n",
    "                 node_color='b', ax=ax[1], with_labels=False)\n",
    "plt.axis('off')\n",
    "for i in range(k_-1):\n",
    "    idx = i_c[int(l_c[i]):int(l_c[i+1])+1]\n",
    "    for id in idx:\n",
    "        plt.plot(pos[id][0], pos[id][1], marker='.', markersize=10,\n",
    "                 c=c_sect[i, :])\n",
    "plt.title('Colors by clusters')\n",
    "\n",
    "add_logo(fig)\n",
    "plt.tight_layout()"
   ]
  }
 ],
 "metadata": {
  "jupytext": {
   "encoding": "# -*- coding: utf-8 -*-",
   "executable": "/usr/bin/env python3"
  },
  "kernelspec": {
   "display_name": "Python 3",
   "language": "python",
   "name": "python3"
  }
 },
 "nbformat": 4,
 "nbformat_minor": 4
}
