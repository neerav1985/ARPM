{
 "cells": [
  {
   "cell_type": "markdown",
   "metadata": {},
   "source": [
    "# s_factor_replication_logn [<img src=\"https://www.arpm.co/lab/icons/icon_permalink.png\" width=30 height=30 style=\"display: inline;\">](https://www.arpm.co/lab/redirect.php?code=s_factor_replication_logn&codeLang=Python)\n",
    "For details, see [here](https://www.arpm.co/lab/redirect.php?permalink=eb-fac-rep-port-log-norm)."
   ]
  },
  {
   "cell_type": "code",
   "execution_count": null,
   "metadata": {},
   "outputs": [],
   "source": [
    "import numpy as np\n",
    "import matplotlib.pyplot as plt\n",
    "from matplotlib.gridspec import GridSpec\n",
    "\n",
    "from arpym.statistics.simulate_normal import simulate_normal\n",
    "from arpym.statistics.multi_r2 import multi_r2\n",
    "from arpym.tools.logo import add_logo"
   ]
  },
  {
   "cell_type": "markdown",
   "metadata": {},
   "source": [
    "## [Input parameters](https://www.arpm.co/lab/redirect.php?permalink=s_factor_replication_logn-parameters)"
   ]
  },
  {
   "cell_type": "code",
   "execution_count": null,
   "metadata": {},
   "outputs": [],
   "source": [
    "n_max = 500  # max target dimension\n",
    "n_step = np.arange(25, n_max + 25, 25)  # target dimension grid\n",
    "j_ = 10000  # number of scenarios\n",
    "mu = np.append(1, np.zeros(n_max))\n",
    "delta = np.random.rand(n_max)\n",
    "sigma2 = np.diag(np.append(1, delta**2))\n",
    "c = np.exp(mu+np.diag(sigma2)/2)"
   ]
  },
  {
   "cell_type": "markdown",
   "metadata": {},
   "source": [
    "## [Step 1](https://www.arpm.co/lab/redirect.php?permalink=s_factor_replication_logn-implementation-step01): Choose arbitrary parameters"
   ]
  },
  {
   "cell_type": "code",
   "execution_count": null,
   "metadata": {},
   "outputs": [],
   "source": [
    "alpha = np.zeros(n_max)\n",
    "beta = simulate_normal(np.zeros(1), np.eye(1), n_max).reshape(-1, 1)  # generate normal scenarios"
   ]
  },
  {
   "cell_type": "markdown",
   "metadata": {},
   "source": [
    "## [Step 2](https://www.arpm.co/lab/redirect.php?permalink=s_factor_replication_logn-implementation-step02): Compute scenarios of the factor, residuals and target variables"
   ]
  },
  {
   "cell_type": "code",
   "execution_count": null,
   "metadata": {},
   "outputs": [],
   "source": [
    "h = np.random.lognormal(mu[0], sigma2[0, 0], size=(j_, 1)) - c[0]\n",
    "l = simulate_normal(np.zeros(n_max), np.eye(n_max), j_).reshape(-1, n_max)\n",
    "u = np.exp(l * delta) - np.exp(delta ** 2 / 2.)\n",
    "x = alpha + h @ beta.T + u"
   ]
  },
  {
   "cell_type": "markdown",
   "metadata": {},
   "source": [
    "## [Step 3](https://www.arpm.co/lab/redirect.php?permalink=s_factor_replication_logn-implementation-step03): Compute expectation and covariance of the target variables"
   ]
  },
  {
   "cell_type": "code",
   "execution_count": null,
   "metadata": {},
   "outputs": [],
   "source": [
    "mu_x = alpha\n",
    "sigma2_x = beta @ beta.T + np.diag(delta ** 2)"
   ]
  },
  {
   "cell_type": "markdown",
   "metadata": {},
   "source": [
    "## [Step 4](https://www.arpm.co/lab/redirect.php?permalink=s_factor_replication_logn-implementation-step04): Compute extraction matrix and r-squared"
   ]
  },
  {
   "cell_type": "code",
   "execution_count": null,
   "metadata": {},
   "outputs": [],
   "source": [
    "beta_ = beta.T * (delta ** -2)\n",
    "var_h = np.exp(3-2*np.exp(1.5))*(np.exp(1)-1)\n",
    "r2 = np.zeros(len(n_step))\n",
    "for i, n in enumerate(n_step):\n",
    "    beta_inv = np.linalg.solve(beta_[:, :n] @ beta[:n, :], beta_[:, :n])\n",
    "    sigma2_z_h = (beta_inv * delta[:n]) @ (beta_inv * delta[:n]).T\n",
    "    r2[i] = multi_r2(sigma2_z_h, np.atleast_2d(var_h))"
   ]
  },
  {
   "cell_type": "markdown",
   "metadata": {},
   "source": [
    "## [Step 5](https://www.arpm.co/lab/redirect.php?permalink=s_factor_replication_logn-implementation-step05): Compute cross-sectional factor and premia"
   ]
  },
  {
   "cell_type": "code",
   "execution_count": null,
   "metadata": {},
   "outputs": [],
   "source": [
    "z_cs = x @ beta_inv.T\n",
    "lam = beta_inv @ alpha"
   ]
  },
  {
   "cell_type": "markdown",
   "metadata": {},
   "source": [
    "## Plots"
   ]
  },
  {
   "cell_type": "code",
   "execution_count": null,
   "metadata": {},
   "outputs": [],
   "source": [
    "plt.style.use('arpm')\n",
    "\n",
    "f = plt.figure()\n",
    "mydpi = 72.0\n",
    "f = plt.figure(figsize=(1280.0/mydpi, 720.0/mydpi), dpi=mydpi)\n",
    "\n",
    "gs1 = GridSpec(3, 3)\n",
    "gs1.update(left=0.05, right=0.48, wspace=0.2)\n",
    "ax1 = plt.subplot(gs1[:-1, 0])\n",
    "plt.hist(z_cs[:, 0], bins=int(30*np.log(j_)),\n",
    "         orientation='horizontal', bottom=0)\n",
    "plt.gca().invert_xaxis()\n",
    "ax1.tick_params(labelsize=12)\n",
    "\n",
    "ax2 = plt.subplot(gs1[:-1, 1:])\n",
    "plt.scatter(h[:, 0], z_cs[:, 0], marker='.', s=0.5)\n",
    "plt.scatter(0, lam, marker='.', color='r', s=50)\n",
    "plt.ylim([-10, 200])\n",
    "ax2.tick_params(axis='x', colors='None')\n",
    "ax2.tick_params(axis='y', colors='None')\n",
    "plt.xlim([-10, 100])\n",
    "plt.xlabel('$H$', labelpad=-16)\n",
    "plt.ylabel('$Z^{CS}$', labelpad=-20)\n",
    "plt.title('Scatter plot for n = %d' % n_max)\n",
    "plt.legend(['sample', 'expectation'])\n",
    "ax3 = plt.subplot(gs1[-1, 1:])\n",
    "plt.hist(h[:, 0], bins=int(120*np.log(j_)), bottom=0)\n",
    "ax3.tick_params(labelsize=12)\n",
    "plt.gca().invert_yaxis()\n",
    "\n",
    "gs2 = GridSpec(3, 3)\n",
    "gs2.update(left=0.55, right=0.98, hspace=0.05)\n",
    "ax4 = plt.subplot(gs2[:-1, :])\n",
    "plt.plot(n_step, r2, 'r', lw=1.2)\n",
    "plt.plot([0, n_max], [1, 1], 'b', lw=2)\n",
    "plt.xlabel('target dimension')\n",
    "plt.ylabel('r-square')\n",
    "plt.title('Factor-replicating portfolio convergence')\n",
    "\n",
    "add_logo(f, location=4, set_fig_size=False)"
   ]
  }
 ],
 "metadata": {
  "jupytext": {
   "encoding": "# -*- coding: utf-8 -*-",
   "executable": "/usr/bin/env python3"
  },
  "kernelspec": {
   "display_name": "Python 3",
   "language": "python",
   "name": "python3"
  }
 },
 "nbformat": 4,
 "nbformat_minor": 4
}
