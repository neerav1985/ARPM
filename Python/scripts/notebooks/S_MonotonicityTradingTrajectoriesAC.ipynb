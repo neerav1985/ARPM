{
 "cells": [
  {
   "cell_type": "markdown",
   "metadata": {},
   "source": [
    "# S_MonotonicityTradingTrajectoriesAC [<img src=\"https://www.arpm.co/lab/icons/icon_permalink.png\" width=30 height=30 style=\"display: inline;\">](https://www.arpm.co/lab/redirect.php?code=S_MonotonicityTradingTrajectoriesAC&codeLang=Python)\n",
    "For details, see [here](https://www.arpm.co/lab/redirect.php?permalink=eb-acnon-monotonicitynulldrift)."
   ]
  },
  {
   "cell_type": "markdown",
   "metadata": {},
   "source": [
    "## Prepare the environment"
   ]
  },
  {
   "cell_type": "code",
   "execution_count": null,
   "metadata": {},
   "outputs": [],
   "source": [
    "import os\n",
    "import os.path as path\n",
    "import sys\n",
    "\n",
    "sys.path.append(path.abspath('../../functions-legacy'))\n",
    "\n",
    "from numpy import zeros, linspace\n",
    "\n",
    "import matplotlib.pyplot as plt\n",
    "from matplotlib.pyplot import plot, subplots, ylabel, \\\n",
    "    xlabel, title\n",
    "\n",
    "plt.style.use('seaborn')\n",
    "\n",
    "from ARPM_utils import save_plot\n",
    "from AlmgrenChrissTrajectory import AlmgrenChrissTrajectory\n",
    "\n",
    "# Settings\n",
    "q_start = 0\n",
    "q_end = 1\n",
    "k_ = 1000\n",
    "q_grid = linspace(q_start, q_end, k_)  # (volume) time grid\n",
    "\n",
    "h_start = 100\n",
    "h_end = 50\n",
    "\n",
    "# parameters\n",
    "lam = 1\n",
    "eta = 0.135\n",
    "sigma = 1.57\n",
    "\n",
    "# inizialization\n",
    "traj = zeros((2, k_))"
   ]
  },
  {
   "cell_type": "markdown",
   "metadata": {},
   "source": [
    "## Compute the Almgren-Chriss trajectories assuming drift theta=0 and then theta=2@lam@sigma**2@h_"
   ]
  },
  {
   "cell_type": "code",
   "execution_count": null,
   "metadata": {},
   "outputs": [],
   "source": [
    "theta = 0\n",
    "traj[0] = AlmgrenChrissTrajectory(q_grid, h_start, h_end, lam, eta, sigma, 0)[0]\n",
    "traj[1] = AlmgrenChrissTrajectory(q_grid, h_start, h_end, lam, eta, sigma, 2*lam*sigma**2*h_end)[0]"
   ]
  },
  {
   "cell_type": "markdown",
   "metadata": {},
   "source": [
    "## Plot the two trading trajectories obtained in the previous step"
   ]
  },
  {
   "cell_type": "code",
   "execution_count": null,
   "metadata": {},
   "outputs": [],
   "source": [
    "f, ax = subplots(2,1)\n",
    "\n",
    "plt.sca(ax[0])\n",
    "p1 = plot(q_grid, traj[0], color = [1, 0, 0])\n",
    "plt.axis([q_start, q_end, min(traj[0]) - 1, max(traj[:, 0]) + 1])\n",
    "xlabel( 'Volume time')\n",
    "ylabel( 'Holdings')\n",
    "title('Almgren-Chriss trading trajectory with null drift')\n",
    "\n",
    "plt.sca(ax[1])\n",
    "p1 = plot(q_grid, traj[1], color = [1, 0, 0])\n",
    "plt.axis([q_start, q_end, min(traj[0]) - 1, max(traj[:, 0]) + 1])\n",
    "xlabel('Volume time')\n",
    "ylabel('Holdings')\n",
    "title('Almgren-Chriss trading trajectory with adjusted drift')\n",
    "plt.tight_layout();\n",
    "# save_plot(ax=plt.gca(), extension='png', scriptname=os.path.basename('.')[:-3], count=plt.get_fignums()[-1])"
   ]
  }
 ],
 "metadata": {
  "jupytext": {
   "encoding": "# -*- coding: utf-8 -*-",
   "executable": "/usr/bin/env python3"
  },
  "kernelspec": {
   "display_name": "Python 3",
   "language": "python",
   "name": "python3"
  }
 },
 "nbformat": 4,
 "nbformat_minor": 4
}
