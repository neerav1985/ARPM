{
 "cells": [
  {
   "cell_type": "markdown",
   "metadata": {},
   "source": [
    "# s_momentum_signals [<img src=\"https://www.arpm.co/lab/icons/icon_permalink.png\" width=30 height=30 style=\"display: inline;\">](https://www.arpm.co/lab/redirect.php?code=s_momentum_signals&codeLang=Python)\n",
    "For details, see [here](https://www.arpm.co/lab/redirect.php?permalink=eb-mom-signal)."
   ]
  },
  {
   "cell_type": "code",
   "execution_count": null,
   "metadata": {},
   "outputs": [],
   "source": [
    "import numpy as np\n",
    "import pandas as pd\n",
    "import matplotlib.pyplot as plt\n",
    "import matplotlib.dates as mdates\n",
    "from pandas.plotting import register_matplotlib_converters\n",
    "register_matplotlib_converters()\n",
    "\n",
    "from arpym.statistics.ewm_meancov import ewm_meancov\n",
    "from arpym.tools.logo import add_logo"
   ]
  },
  {
   "cell_type": "markdown",
   "metadata": {},
   "source": [
    "## [Input parameters](https://www.arpm.co/lab/redirect.php?permalink=s_momentum_signals-parameters)"
   ]
  },
  {
   "cell_type": "code",
   "execution_count": null,
   "metadata": {},
   "outputs": [],
   "source": [
    "t_start = 252*2  # starting date in the plot\n",
    "w_smooth = 180  # trailing window for smoothing\n",
    "w_score = 252  # strailing window for scoring\n",
    "tau_hl_smooth = 10  # half-life for smoothing\n",
    "tau_hl_score = 120  # half-life for scoring\n",
    "n_1 = 0.2  # index of first signal for comparison (will be round of n_*n_1)\n",
    "n_2 = 0.4  # index of second signal for comparison (will be round of n_*n_2)\n",
    "n_3 = 0.6  # index of third signal for comparison (will be round of n_*n_3)\n",
    "n_4 = 0.8  # index of fourth signal for comparison (will be round of n_*n_4)"
   ]
  },
  {
   "cell_type": "markdown",
   "metadata": {},
   "source": [
    "## [Step 0](https://www.arpm.co/lab/redirect.php?permalink=s_momentum_signals-implementation-step00): Load data"
   ]
  },
  {
   "cell_type": "code",
   "execution_count": null,
   "metadata": {},
   "outputs": [],
   "source": [
    "path = '~/databases/global-databases/strategies/db_strategies/'\n",
    "s_mom = pd.read_csv(path + 's_mom.csv', index_col=0, parse_dates=True)\n",
    "v = pd.read_csv(path + 'last_price.csv', index_col=0, parse_dates=True)\n",
    "dates = pd.to_datetime(s_mom.index).date\n",
    "s_mom = np.array(s_mom)\n",
    "v = np.array(v)\n",
    "t_, n_ = s_mom.shape  # number of observations and number of stocks\n",
    "n_1 = int(np.around(n_*n_1))\n",
    "n_2 = int(np.around(n_*n_2))\n",
    "n_3 = int(np.around(n_*n_3))\n",
    "n_4 = int(np.around(n_*n_4))"
   ]
  },
  {
   "cell_type": "markdown",
   "metadata": {},
   "source": [
    "## [Step 1](https://www.arpm.co/lab/redirect.php?permalink=s_momentum_signals-implementation-step01): Compute the smoothed signals"
   ]
  },
  {
   "cell_type": "code",
   "execution_count": null,
   "metadata": {},
   "outputs": [],
   "source": [
    "s_mom_smoo = np.zeros((s_mom.shape[0] - w_smooth + 1, n_))\n",
    "\n",
    "for t in range(w_smooth, s_mom.shape[0] + 1):\n",
    "    s_mom_smoo[t - w_smooth, :] = ewm_meancov(s_mom[t - w_smooth:t, :],\n",
    "                                               tau_hl_smooth)[0]"
   ]
  },
  {
   "cell_type": "markdown",
   "metadata": {},
   "source": [
    "## [Step 2](https://www.arpm.co/lab/redirect.php?permalink=s_momentum_signals-implementation-step02): Compute the scored signals"
   ]
  },
  {
   "cell_type": "code",
   "execution_count": null,
   "metadata": {},
   "outputs": [],
   "source": [
    "s_mom_scor = np.zeros((s_mom.shape[0] - w_score + 1, n_))\n",
    "lambda_score = np.log(2) / tau_hl_score  # decay rate\n",
    "p_scor = np.exp(-lambda_score*np.arange(w_score)[::-1]).reshape(-1) /\\\n",
    "         np.sum(np.exp(-lambda_score*np.arange(w_score)[::-1]))\n",
    "\n",
    "for t in range(w_score, s_mom.shape[0] + 1):\n",
    "    ewma, ewm_cov = ewm_meancov(s_mom_smoo[t - w_score:t, :], tau_hl_score)\n",
    "    ewm_sd = np.sqrt(np.diag(ewm_cov))\n",
    "    s_mom_scor[t - w_score, :] = (s_mom_smoo[t - w_smooth, :] - ewma) / ewm_sd\n",
    "\n",
    "\n",
    "# ## [Step 3](https://www.arpm.co/lab/redirect.php?permalink=s_momentum_signals-implementation-step03): Compute the ranked signals\n",
    "\n",
    "s_mom_rk = np.zeros((s_mom_scor.shape[0], n_))\n",
    "\n",
    "for t in range(s_mom_scor.shape[0]):\n",
    "    rk = np.argsort(s_mom_scor[t, :])\n",
    "    rk_signal = np.argsort(rk)\n",
    "    s_mom_rk[t, :] = (rk_signal)*(2 / n_) - 1\n",
    "\n",
    "\n",
    "# ## Save the data\n",
    "\n",
    "output = {'t_': pd.Series(t_),\n",
    "          'n_': pd.Series(n_),\n",
    "          'w_smooth': pd.Series(w_smooth),\n",
    "          'w_score': pd.Series(w_score),\n",
    "          't_start': pd.Series(t_start),\n",
    "          'dates': pd.Series(dates),\n",
    "          'v': pd.Series(v[:, :n_].reshape((t_*n_,))),\n",
    "          's_mom_rk': pd.Series(s_mom_rk.reshape(((t_-w_score+1)*n_,))),\n",
    "          's_mom_scor': pd.Series(s_mom_scor.reshape(((t_-w_score+1)*n_,))),\n",
    "          's_mom_smoo': pd.Series(s_mom_smoo.reshape(((t_-w_smooth+1)*n_,)))}\n",
    "\n",
    "df = pd.DataFrame(output)\n",
    "df.to_csv('~/databases/temporary-databases/db_signals_mom.csv', index=None)"
   ]
  },
  {
   "cell_type": "markdown",
   "metadata": {},
   "source": [
    "## Plots"
   ]
  },
  {
   "cell_type": "code",
   "execution_count": null,
   "metadata": {},
   "outputs": [],
   "source": [
    "# Compare the plots of one signal, one smoothed signal and one scored signal\n",
    "plt.style.use('arpm')\n",
    "\n",
    "t_start = t_start-1\n",
    "dates = dates[t_start:]\n",
    "grid_dates = np.linspace(0, len(dates)-1, 5)\n",
    "grid_dates = list(map(int, np.around(grid_dates)))  # integer numbers\n",
    "\n",
    "dates_dt = []\n",
    "for i in dates:\n",
    "    dates_dt.append(i)\n",
    "dates_dt = np.array(dates_dt)\n",
    "date_tick = grid_dates\n",
    "myFmt = mdates.DateFormatter('%d-%b-%Y')\n",
    "index = np.argsort(s_mom_rk[-1, :])\n",
    "\n",
    "# Compare the plots of a cluster of 4 scored signals with their ranked\n",
    "# counterparts\n",
    "fig1, ax = plt.subplots(2, 1)\n",
    "plt.sca(ax[0])\n",
    "xx = t_start\n",
    "plt.plot(dates_dt, s_mom[xx:, index[n_1]])\n",
    "plt.xticks(dates_dt[date_tick])\n",
    "ax[0].xaxis.set_major_formatter(myFmt)\n",
    "plt.xlim([dates_dt[0], dates_dt[-1]])\n",
    "plt.ylim([np.min(s_mom[xx:, index[n_1]])-.05*np.max(s_mom[xx:, index[n_1]]),\n",
    "          np.max(s_mom[xx:, index[n_1]])+.05*np.max(s_mom[xx:, index[n_1]])])\n",
    "plt.title('Momentum versus smoothed momentum signal')\n",
    "xx = t_start - w_smooth + 1\n",
    "plt.plot(dates_dt, s_mom_smoo[xx:, index[n_1]], 'r')\n",
    "plt.xticks(dates_dt[date_tick])\n",
    "\n",
    "plt.sca(ax[1])\n",
    "xx = t_start - w_score + 1\n",
    "plt.plot(dates_dt, s_mom_scor[xx:, index[n_1]])\n",
    "plt.xticks(dates_dt[date_tick])\n",
    "ax[1].xaxis.set_major_formatter(myFmt)\n",
    "plt.xlim([dates_dt[0], dates_dt[-1]])\n",
    "plt.title('Scored momentum signal')\n",
    "add_logo(fig1, axis=ax[1], location=1)\n",
    "plt.tight_layout()\n",
    "\n",
    "fig2, ax = plt.subplots(2, 1)\n",
    "plt.sca(ax[0])\n",
    "plt.plot(dates_dt, s_mom_scor[xx:, [index[n_1], index[n_2],\n",
    "                                    index[n_3], index[n_4]]])\n",
    "plt.xticks(dates_dt[date_tick])\n",
    "ax[0].xaxis.set_major_formatter(myFmt)\n",
    "plt.xlim([dates_dt[0], dates_dt[-1]])\n",
    "plt.title('Scored momentum signal cluster')\n",
    "\n",
    "plt.sca(ax[1])\n",
    "plt.plot(dates_dt, s_mom_rk[xx:, [index[n_1], index[n_2],\n",
    "                                  index[n_3], index[n_4]]])\n",
    "plt.xticks(dates_dt[date_tick])\n",
    "ax[1].xaxis.set_major_formatter(myFmt)\n",
    "plt.xlim([dates_dt[0], dates_dt[-1]])\n",
    "plt.ylim([-1.05, 1.05])\n",
    "plt.title('Ranked momentum signal cluster')\n",
    "add_logo(fig2, axis=ax[0], location=4)\n",
    "plt.tight_layout()"
   ]
  }
 ],
 "metadata": {
  "jupytext": {
   "encoding": "# -*- coding: utf-8 -*-",
   "executable": "/usr/bin/env python3"
  },
  "kernelspec": {
   "display_name": "Python 3",
   "language": "python",
   "name": "python3"
  }
 },
 "nbformat": 4,
 "nbformat_minor": 4
}
