{
 "cells": [
  {
   "cell_type": "markdown",
   "metadata": {},
   "source": [
    "# s_bayesian_estimation [<img src=\"https://www.arpm.co/lab/icons/icon_permalink.png\" width=30 height=30 style=\"display: inline;\">](https://www.arpm.co/lab/redirect.php?code=s_bayesian_estimation&codeLang=Python)\n",
    "For details, see [here](https://www.arpm.co/lab/redirect.php?permalink=s_bayesian_estimation)."
   ]
  },
  {
   "cell_type": "code",
   "execution_count": null,
   "metadata": {},
   "outputs": [],
   "source": [
    "import numpy as np\n",
    "import pandas as pd\n",
    "import matplotlib.pyplot as plt\n",
    "import seaborn as sns\n",
    "import networkx as nx\n",
    "\n",
    "from arpym.estimation.cov_2_corr import cov_2_corr\n",
    "from arpym.tools.logo import add_logo"
   ]
  },
  {
   "cell_type": "markdown",
   "metadata": {},
   "source": [
    "## [Input parameters](https://www.arpm.co/lab/redirect.php?permalink=s_bayesian_estimation-parameters)"
   ]
  },
  {
   "cell_type": "code",
   "execution_count": null,
   "metadata": {},
   "outputs": [],
   "source": [
    "i_ = 60  # number of invariants\n",
    "pri_t_ = 20  # t_pri/t = nu_pri/t_ = pri_t_\n",
    "n_plot = 50  # number of stocks for plotting"
   ]
  },
  {
   "cell_type": "markdown",
   "metadata": {},
   "source": [
    "## [Step 0](https://www.arpm.co/lab/redirect.php?permalink=s_bayesian_estimation-implementation-step00): Load data"
   ]
  },
  {
   "cell_type": "code",
   "execution_count": null,
   "metadata": {},
   "outputs": [],
   "source": [
    "path_temp = '~/databases/temporary-databases/'\n",
    "\n",
    "# Invariants\n",
    "db_epsi = pd.read_csv(path_temp + 'db_fit_garch_stocks_epsi.csv',\n",
    "                      index_col=0, parse_dates=True)\n",
    "db_epsi = db_epsi.iloc[:, :i_]\n",
    "\n",
    "dates = db_epsi.index\n",
    "t_ = len(dates)\n",
    "stocks_names = db_epsi.columns\n",
    "epsi = db_epsi.values\n",
    "\n",
    "# Location-dispersion\n",
    "db_locdisp = pd.read_csv(path_temp + 'db_fit_garch_stocks_locdisp.csv')\n",
    "mu_hat = db_locdisp.loc[:, 'mu_hat'].values[:i_]\n",
    "sig2_hat = db_locdisp.loc[:, 'sig2_hat'].values\n",
    "i_tot = int(np.sqrt(len(sig2_hat)))\n",
    "sig2_hat = sig2_hat.reshape(i_tot, i_tot)[:i_, :i_]\n",
    "\n",
    "sig2_hat = cov_2_corr(sig2_hat)[0]\n",
    "phi2_hat = np.linalg.solve(sig2_hat, np.eye(i_))"
   ]
  },
  {
   "cell_type": "markdown",
   "metadata": {},
   "source": [
    "## [Step 1](https://www.arpm.co/lab/redirect.php?permalink=s_bayesian_estimation-implementation-step01): Bayesian estimation"
   ]
  },
  {
   "cell_type": "code",
   "execution_count": null,
   "metadata": {},
   "outputs": [],
   "source": [
    "# Prior\n",
    "mu_pri = np.zeros(i_)\n",
    "sig2_pri = np.diag(cov_2_corr(sig2_hat)[1]**2)\n",
    "t_pri = int(pri_t_*t_)\n",
    "nu_pri = int(pri_t_*t_)\n",
    "\n",
    "# Posterior\n",
    "t_pos = t_pri + t_\n",
    "nu_pos = nu_pri + t_\n",
    "\n",
    "mu_pos = t_pri/t_pos*mu_pri + t_/t_pos*mu_hat\n",
    "mu_diff = np.atleast_2d(mu_pri-mu_hat).T\n",
    "sig2_pos = nu_pri/nu_pos*sig2_pri +\\\n",
    "            t_/nu_pos*sig2_hat +\\\n",
    "            1/(nu_pos*(1/t_ + 1/t_pri))*mu_diff@mu_diff.T\n",
    "c2_pos = cov_2_corr(sig2_pos)[0]\n",
    "phi2_pos = np.linalg.solve(c2_pos, np.eye(i_))"
   ]
  },
  {
   "cell_type": "markdown",
   "metadata": {},
   "source": [
    "## Plots"
   ]
  },
  {
   "cell_type": "code",
   "execution_count": null,
   "metadata": {},
   "outputs": [],
   "source": [
    "plt.style.use('arpm')\n",
    "\n",
    "# Graph\n",
    "zero = 10**-2\n",
    "phi2_pos[np.abs(phi2_pos) < zero] = 0\n",
    "nonzero = np.count_nonzero(phi2_pos)\n",
    "num_edge = (nonzero - i_) / 2\n",
    "\n",
    "fig = plt.figure(figsize=(1280.0/72, 720.0/72), dpi=72)\n",
    "\n",
    "ax = plt.subplot2grid((2, 4), (0, 1), colspan=2)\n",
    "bb = np.where(phi2_pos[:n_plot, :n_plot] != 0, 1, 0)\n",
    "rows, cols = np.where(bb != 0)\n",
    "edges = list(zip(rows.tolist(), cols.tolist()))\n",
    "gr = nx.Graph()\n",
    "gr.add_edges_from(edges)\n",
    "nx.draw_circular(gr, node_shape='o', node_color='b', ax=ax)\n",
    "plt.axis([-1.05, 1.05, -1.05, 1.5])\n",
    "text1 = 'Threshold = %1.2e' % zero\n",
    "plt.text(-1, 1.25, text1, verticalalignment='bottom',\n",
    "         horizontalalignment='left', fontsize=20)\n",
    "text2 = 'Num. edges = %3.0f' % num_edge\n",
    "plt.text(-1, 1.1, text2, verticalalignment='bottom',\n",
    "         horizontalalignment='left', fontsize=20)\n",
    "plt.title('Markov network structure', fontweight='bold', fontsize=20)\n",
    "\n",
    "# Covariances\n",
    "minncov = np.min(np.c_[sig2_hat[:n_plot, :n_plot],\n",
    "                       sig2_pos[:n_plot, :n_plot]])\n",
    "maxxcov = np.max(np.c_[sig2_hat[:n_plot, :n_plot],\n",
    "                       sig2_pos[:n_plot, :n_plot]])\n",
    "minncorr = np.min(np.c_[phi2_hat[:n_plot, :n_plot],\n",
    "                        phi2_pos[:n_plot, :n_plot]])\n",
    "maxxcorr = np.max(np.c_[phi2_hat[:n_plot, :n_plot],\n",
    "                        phi2_pos[:n_plot, :n_plot]])\n",
    "\n",
    "ax1 = plt.subplot2grid((2, 4), (1, 0), colspan=1)\n",
    "ax1 = sns.heatmap(sig2_hat[:n_plot, :n_plot],\n",
    "                  cmap='BrBG',\n",
    "                  center=0,\n",
    "                  xticklabels=stocks_names[:n_plot],\n",
    "                  yticklabels=stocks_names[:n_plot],\n",
    "                  vmin=minncov,\n",
    "                  vmax=maxxcov,\n",
    "                  square=True)\n",
    "plt.xticks(fontsize=7)\n",
    "plt.yticks(fontsize=7)\n",
    "plt.title('HFP corr.',\n",
    "          fontweight='bold', fontsize=20)\n",
    "ax12 = plt.subplot2grid((2, 4), (1, 1), colspan=1)\n",
    "ax12 = sns.heatmap(phi2_hat[:n_plot, :n_plot],\n",
    "                   cmap='BrBG',\n",
    "                   center=0,\n",
    "                   xticklabels=stocks_names[:n_plot],\n",
    "                   yticklabels=stocks_names[:n_plot],\n",
    "                   vmin=minncorr,\n",
    "                   vmax=maxxcorr,\n",
    "                   square=True)\n",
    "plt.xticks(fontsize=7)\n",
    "plt.yticks(fontsize=7)\n",
    "plt.title('HFP inv. corr.',\n",
    "          fontweight='bold', fontsize=20)\n",
    "ax2 = plt.subplot2grid((2, 4), (1, 2), colspan=1)\n",
    "ax2 = sns.heatmap(sig2_pos[:n_plot, :n_plot],\n",
    "                  cmap='BrBG',\n",
    "                  center=0,\n",
    "                  xticklabels=stocks_names[:n_plot],\n",
    "                  yticklabels=stocks_names[:n_plot],\n",
    "                  vmin=minncov,\n",
    "                  vmax=maxxcov,\n",
    "                  square=True)\n",
    "\n",
    "plt.xticks(fontsize=7)\n",
    "plt.yticks(fontsize=7)\n",
    "plt.title('Bayes posterior corr.\\n$t_{pri} = \\\\nu_{pri} = %d*t\\_$' % pri_t_,\n",
    "          fontweight='bold', fontsize=20)\n",
    "\n",
    "ax22 = plt.subplot2grid((2, 4), (1, 3), colspan=1)\n",
    "ax22 = sns.heatmap(phi2_pos[:n_plot, :n_plot],\n",
    "                   cmap='BrBG',\n",
    "                   center=0,\n",
    "                   xticklabels=stocks_names[:n_plot],\n",
    "                   yticklabels=stocks_names[:n_plot],\n",
    "                   vmin=minncorr,\n",
    "                   vmax=maxxcorr,\n",
    "                   square=True)\n",
    "\n",
    "plt.xticks(fontsize=7)\n",
    "plt.yticks(fontsize=7)\n",
    "plt.title('Bayes posterior inv. corr.\\n$t_{pri} = \\\\nu_{pri} = %d*t\\_$' % pri_t_,\n",
    "          fontweight='bold', fontsize=20)\n",
    "\n",
    "add_logo(fig, axis=ax, set_fig_size=False, size_frac_x=1/12)\n",
    "plt.tight_layout()"
   ]
  }
 ],
 "metadata": {
  "jupytext": {
   "encoding": "# -*- coding: utf-8 -*-",
   "executable": "/usr/bin/env python3"
  },
  "kernelspec": {
   "display_name": "Python 3",
   "language": "python",
   "name": "python3"
  }
 },
 "nbformat": 4,
 "nbformat_minor": 4
}
