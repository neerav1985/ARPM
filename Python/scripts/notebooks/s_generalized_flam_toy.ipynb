{
 "cells": [
  {
   "cell_type": "markdown",
   "metadata": {},
   "source": [
    "# s_generalized_flam_toy [<img src=\"https://www.arpm.co/lab/icons/icon_permalink.png\" width=30 height=30 style=\"display: inline;\">](https://www.arpm.co/lab/redirect.php?code=s_generalized_flam_toy&codeLang=Python)\n",
    "For details, see [here](https://www.arpm.co/lab/redirect.php?permalink=s_generalized_flam_toy)."
   ]
  },
  {
   "cell_type": "code",
   "execution_count": null,
   "metadata": {},
   "outputs": [],
   "source": [
    "import numpy as np\n",
    "\n",
    "from arpym.tools.max_info_ratio_2 import max_info_ratio_2\n",
    "from arpym.tools.transpose_square_root import transpose_square_root"
   ]
  },
  {
   "cell_type": "markdown",
   "metadata": {},
   "source": [
    "## [Input parameters](https://www.arpm.co/lab/redirect.php?permalink=s_generalized_flam_toy-parameters)"
   ]
  },
  {
   "cell_type": "code",
   "execution_count": null,
   "metadata": {},
   "outputs": [],
   "source": [
    "mu_pi = np.array([0, 0])  # mean of P&L's\n",
    "mu_s = np.array([0, 0])  # mean of signals\n",
    "sig_pi1_pi2 = 0.45  # correlation between P&L'ss\n",
    "sig_s1_s2 = 0.3  # correlation between signals\n",
    "sig_p1_s1 = 0.8  # correlation between first P&L and first signal\n",
    "sig_p1_s2 = 0.6  # correlation between first P&L and second signal\n",
    "sig_p2_s1 = 0.1  # correlation between second P&L and first signal\n",
    "sig_p2_s2 = 0.2  # correlation between second P&L and second signal\n",
    "r = 0  # risk-free rate\n",
    "v = np.array([1, 2])  # current portfolio values\n",
    "h = np.array([1, -3])  # current holdings\n",
    "s = np.array([0.3, 0.1])  # current observed signal\n",
    "sig = 1  # free variance parameter"
   ]
  },
  {
   "cell_type": "markdown",
   "metadata": {},
   "source": [
    "## [Step 1](https://www.arpm.co/lab/redirect.php?permalink=s_generalized_flam_toy-implementation-step01): Information coefficent"
   ]
  },
  {
   "cell_type": "code",
   "execution_count": null,
   "metadata": {},
   "outputs": [],
   "source": [
    "# covariance matrix of P&L's and signals\n",
    "sig2 = np.array([[1, sig_pi1_pi2, sig_p1_s1, sig_p1_s2],\n",
    "                 [sig_pi1_pi2, 1, sig_p2_s1, sig_p2_s2],\n",
    "                 [sig_p1_s1, sig_p2_s1, 1, sig_s1_s2],\n",
    "                 [sig_p1_s2, sig_p2_s2, sig_s1_s2, 1]])\n",
    "n_ =  len(mu_pi)\n",
    "k_ = len(mu_s)\n",
    "\n",
    "# Riccati root of P&L's covariance\n",
    "sig_pi = transpose_square_root(sig2[:n_, :n_], method='Riccati')\n",
    "# Riccati root of signal covariance\n",
    "sig_s = transpose_square_root(sig2[n_:, n_:], method='Riccati')\n",
    "\n",
    "# linkage matrix\n",
    "p_pi_s = np.linalg.inv(sig_pi) @ sig2[:n_, n_:]@  np.linalg.inv(sig_s)\n",
    "\n",
    "# information coefficient of joint signals \n",
    "ic2 = np.trace(p_pi_s @ p_pi_s.T)\n",
    "\n",
    "# information coefficient of single signals \n",
    "p_pi_s1 = np.linalg.inv(sig_pi) @ np.atleast_2d(sig2[:n_, 2]).T \n",
    "ic2_1 = np.trace(p_pi_s1 @ p_pi_s1.T)\n",
    "\n",
    "p_pi_s2 = np.linalg.inv(sig_pi) @ np.atleast_2d(sig2[:n_, 3]).T\n",
    "ic2_2 = np.trace(p_pi_s2 @ p_pi_s2.T)\n",
    "\n",
    "# verify no relationships between information coefficients\n",
    "err_ic2 = ic2_1+ic2_2 - ic2\n",
    "# visualize outputs\n",
    "print('linkage matrix p_pi_s =', p_pi_s)\n",
    "print('info coeff. of joint signals ic2 =', ic2)\n",
    "print('info coeff. of signal 1 ic2_1 =', ic2_1)\n",
    "print('info coeff. of signal 2 ic2_2 =', ic2_2)\n",
    "print('ic2_1 + ic2_2 - ic2 =', err_ic2)"
   ]
  },
  {
   "cell_type": "markdown",
   "metadata": {},
   "source": [
    "## [Step 2](https://www.arpm.co/lab/redirect.php?permalink=s_generalized_flam_toy-implementation-step02): Conditional information ratio"
   ]
  },
  {
   "cell_type": "code",
   "execution_count": null,
   "metadata": {},
   "outputs": [],
   "source": [
    "# conditional moments\n",
    "mu_pi_cond = mu_pi - r*v + sig2[:n_, n_:]@\\\n",
    "             np.linalg.solve(sig2[n_:, n_:],(s - mu_s).T)\n",
    "\n",
    "sig2_pi_cond = sig2[:n_, :n_] - sig2[:n_, n_:]@\\\n",
    "               np.linalg.solve(sig2[n_:, n_:],sig2[n_:, :n_])\n",
    "\n",
    "# conditional information ratio\n",
    "ir_h_s = h.T@mu_pi_cond/np.sqrt(h.T@sig2_pi_cond @h)\n",
    "\n",
    "# visualize output\n",
    "print('conditional info. ratio ir_h_s =', ir_h_s)"
   ]
  },
  {
   "cell_type": "markdown",
   "metadata": {},
   "source": [
    "## [Step 3](https://www.arpm.co/lab/redirect.php?permalink=s_generalized_flam_toy-implementation-step03): Maximum conditional information ratio and transfer coefficient"
   ]
  },
  {
   "cell_type": "code",
   "execution_count": null,
   "metadata": {},
   "outputs": [],
   "source": [
    "# argmax conditional information ratio\n",
    "h_sig = sig * np.linalg.solve(sig2_pi_cond, mu_pi_cond)/\\\n",
    "        np.sqrt(mu_pi_cond.T @ np.linalg.solve(sig2_pi_cond, mu_pi_cond))\n",
    "\n",
    "# maximum conditional information ratio\n",
    "max_ir_s = h_sig.T@mu_pi_cond/np.sqrt(h_sig.T@sig2_pi_cond @h_sig)\n",
    "\n",
    "# transfer coefficient\n",
    "tc = h.T@sig2_pi_cond @h_sig/np.sqrt(h.T@sig2_pi_cond @h)/\\\n",
    "     np.sqrt(h_sig.T@sig2_pi_cond @h_sig)\n",
    "\n",
    "# verify flam and its relationship with transfer coeff.\n",
    "max_ir_s_flam = np.sqrt(mu_pi_cond.T @ np.linalg.solve(sig2_pi_cond, mu_pi_cond))\n",
    "tc_flam = ir_h_s/max_ir_s_flam\n",
    "\n",
    "# visualize outputs\n",
    "print('max cond info. ratio max_ir_s =', max_ir_s)\n",
    "print('max cond info. ratio via FLAM max_ir_s_flam =', max_ir_s_flam)\n",
    "print('transfer coefficient tc =', tc)\n",
    "print('transfer coefficient via FLAM tc_flam =', tc_flam)"
   ]
  },
  {
   "cell_type": "markdown",
   "metadata": {},
   "source": [
    "## [Step 4](https://www.arpm.co/lab/redirect.php?permalink=s_generalized_flam_toy-implementation-step04):  Maximum (l2-mean unconditional) information ratio"
   ]
  },
  {
   "cell_type": "code",
   "execution_count": null,
   "metadata": {},
   "outputs": [],
   "source": [
    "# maximum information ratio of joint signals\n",
    "max_ir2 = max_info_ratio_2(mu_pi-r*v, mu_s, sig2)\n",
    "\n",
    "# maximum information ratios of single signals\n",
    "max_ir2_1 = max_info_ratio_2(mu_pi-r*v, mu_s[0].reshape(-1),\n",
    "                             sig2[[0,1,2], :][:, [0,1,2]])\n",
    "max_ir2_2 = max_info_ratio_2(mu_pi-r*v, mu_s[1].reshape(-1),\n",
    "                             sig2[[0,1,3], :][:, [0,1,3]])\n",
    "\n",
    "# verify no relationships between max. info. ratios\n",
    "err_max_ir_2 = max_ir2_1 + max_ir2_2 -  max_ir2\n",
    "\n",
    "# visualize outputs\n",
    "print('max uncond info.ratio of joint signals max_ir2 =', max_ir2)\n",
    "print('max uncond info.ratio of signal 1 max_ir2_1 =', max_ir2_1)\n",
    "print('max uncond info.ratio of signal 2 max_ir2_2 =', max_ir2_2)\n",
    "print('max_ir2_1 + max_ir2_2 - max_ir2 =', err_max_ir_2)"
   ]
  },
  {
   "cell_type": "markdown",
   "metadata": {},
   "source": [
    "## [Step 5](https://www.arpm.co/lab/redirect.php?permalink=s_generalized_flam_toy-implementation-step05):  Information coefficient relative to independent signal group"
   ]
  },
  {
   "cell_type": "code",
   "execution_count": null,
   "metadata": {},
   "outputs": [],
   "source": [
    "# covariance matrix of independent signals\n",
    "sig2_s_i = np.array([[sig2[2,2], 0],\n",
    "                     [0, sig2[3,3]]])\n",
    "\n",
    "sig_s_i = transpose_square_root(sig2_s_i, method='Riccati')\n",
    "\n",
    "# information coefficient to independent signals\n",
    "p_pi_s_i =  np.linalg.inv(sig_pi) @ sig2[:n_, n_:]@  np.linalg.inv(sig_s_i)\n",
    "ic2_i = np.trace(p_pi_s_i @ p_pi_s_i.T)\n",
    "\n",
    "err_ic2_i = ic2_1 + ic2_2 - ic2_i\n",
    "\n",
    "# visualize output\n",
    "# sum of marginal info. coeff. is joint info. coeff.\n",
    "print('ic2_i =',ic2_i, 'and ic2_1 + ic2_2 - ic2_i =', err_ic2_i)"
   ]
  },
  {
   "cell_type": "markdown",
   "metadata": {},
   "source": [
    "## [Step 6](https://www.arpm.co/lab/redirect.php?permalink=s_generalized_flam_toy-implementation-step06): Maximum information ratio relative to weak and independent signals"
   ]
  },
  {
   "cell_type": "code",
   "execution_count": null,
   "metadata": {},
   "outputs": [],
   "source": [
    "# covariance matrix of P&L's and weak independent signals\n",
    "sig2_wi = np.array([[1, sig_pi1_pi2, 0.05, 0.05],\n",
    "                    [sig_pi1_pi2, 1, 0.05, 0.05],\n",
    "                    [0.05, 0.05, 1, 0],\n",
    "                    [0.05, 0.05, 0, 1]])\n",
    "\n",
    "# conditional covariance\n",
    "sig2_pi_cond_wi = sig2[:n_, :n_] - sig2_wi[:n_, n_:]@\\\n",
    "                  np.linalg.solve(sig2_wi[n_:, n_:],sig2_wi[n_:, :n_])\n",
    "\n",
    "# maximum information ratio of joint weak independent signals\n",
    "max_ir2_wi= max_info_ratio_2(mu_pi-r*v, mu_s, sig2_wi)\n",
    "\n",
    "# maximum information ratios of single (weak indenpdent) signals \n",
    "max_ir2_wi_1 = max_info_ratio_2(mu_pi-r*v, mu_s[0].reshape(-1),\n",
    "                                sig2_wi[[0,1,2], :][:, [0,1,2]])\n",
    "max_ir2_wi_2 = max_info_ratio_2(mu_pi-r*v, mu_s[1].reshape(-1),\n",
    "                                sig2_wi[[0,1,3], :][:, [0,1,3]])\n",
    "\n",
    "# check flam\n",
    "err_max_ir2_wi = max_ir2_wi_2 + max_ir2_wi_2 -  max_ir2_wi\n",
    "\n",
    "# visualize outputs\n",
    "print('max uncond info.ratio of joint weak ind. signals max_ir2_wi =', max_ir2_wi)\n",
    "print('max uncond info.ratio of (weak ind.) signal 1 max_ir2_wi_1 =', max_ir2_wi_1)\n",
    "print('max uncond info.ratio of (weak ind.) signal 2 max_ir2_wi_2 =', max_ir2_wi_2 )\n",
    "print('max_ir2_wi_1+ max_ir2_wi_2 - max_ir2_wi =', max_ir2_wi_1+max_ir2_wi_2- max_ir2_wi)"
   ]
  },
  {
   "cell_type": "markdown",
   "metadata": {},
   "source": [
    "## [Step 7](https://www.arpm.co/lab/redirect.php?permalink=s_generalized_flam_toy-implementation-step07): Information coefficient relative to weak and independent signals"
   ]
  },
  {
   "cell_type": "code",
   "execution_count": null,
   "metadata": {},
   "outputs": [],
   "source": [
    "# information coefficients\n",
    "sig_s_wi = transpose_square_root(sig2_wi[n_:, n_:], method='Riccati')\n",
    "p_pi_s_wi = np.linalg.inv(sig_pi) @ sig2_wi[:n_, n_:]@  np.linalg.inv(sig_s_wi)\n",
    "ic2_wi = np.trace(p_pi_s_wi @ p_pi_s_wi.T)\n",
    "\n",
    "p_pi_s1_wi = np.linalg.inv(sig_pi) @ np.atleast_2d(sig2_wi[:n_, 2]).T \n",
    "ic2_1_wi = np.trace(p_pi_s1_wi @ p_pi_s1_wi.T)\n",
    "\n",
    "p_pi_s2_wi = np.linalg.inv(sig_pi) @ np.atleast_2d(sig2_wi[:n_, 3]).T\n",
    "ic2_2_wi = np.trace(p_pi_s2_wi @ p_pi_s2_wi.T)\n",
    "\n",
    "# check flam\n",
    "err_max_ir2_ic2_wi =  max_ir2_wi - ic2_wi\n",
    "\n",
    "# visualize outputs\n",
    "print('linkage matrix of weak ind. signals p_pi_s_wi =', p_pi_s_wi)\n",
    "print('ic2_wi =', ic2_wi, ' and  ic2_1_wi + ic2_1_wi - ic2_wi =', ic2_1_wi + ic2_2_wi - ic2_wi)\n",
    "print('ic2_1_wi =', ic2_1_wi, ' and ic2_2_wi =', ic2_2_wi, ' and ic2_1_wi - ic2_1_wi =', ic2_1_wi - ic2_2_wi)\n",
    "print('max_ir2_wi - ic2_wi = ', err_max_ir2_ic2_wi)"
   ]
  }
 ],
 "metadata": {
  "jupytext": {
   "encoding": "# -*- coding: utf-8 -*-",
   "executable": "/usr/bin/env python3"
  },
  "kernelspec": {
   "display_name": "Python 3",
   "language": "python",
   "name": "python3"
  }
 },
 "nbformat": 4,
 "nbformat_minor": 4
}
