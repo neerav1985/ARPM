{
 "cells": [
  {
   "cell_type": "markdown",
   "metadata": {},
   "source": [
    "# S_PtfCompReturn [<img src=\"https://www.arpm.co/lab/icons/icon_permalink.png\" width=30 height=30 style=\"display: inline;\">](https://www.arpm.co/lab/redirect.php?code=S_PtfCompReturn&codeLang=Python)\n",
    "For details, see [here](https://www.arpm.co/lab/redirect.php?permalink=eb-comp-ret-ptf)."
   ]
  },
  {
   "cell_type": "markdown",
   "metadata": {},
   "source": [
    "## Prepare the environment"
   ]
  },
  {
   "cell_type": "code",
   "execution_count": null,
   "metadata": {},
   "outputs": [],
   "source": [
    "import os\n",
    "import os.path as path\n",
    "import sys\n",
    "\n",
    "sys.path.append(path.abspath('../../functions-legacy'))\n",
    "from collections import namedtuple\n",
    "\n",
    "from numpy import arange, array, ones, std, round, mean, log, exp, tile, sum as npsum\n",
    "\n",
    "from scipy.stats import norm\n",
    "\n",
    "import matplotlib.pyplot as plt\n",
    "from matplotlib.pyplot import figure, plot, bar, legend, xlim, title, yticks\n",
    "\n",
    "plt.style.use('seaborn')\n",
    "\n",
    "from ARPM_utils import save_plot\n",
    "from HistogramFP import HistogramFP\n",
    "from NormalScenarios import NormalScenarios\n",
    "\n",
    "# parameters\n",
    "j_ = 10000  # number of simulations\n",
    "n_ = 2  # number of instruments in the portfolio\n",
    "mu = array([[0.01], [0.08]])  # mean of the normal distribution of the instruments compounded returns\n",
    "sigma2 = array([[0.03, - 0.057], [- 0.057, 0.12]])  # variance of the normal distribution of the instruments compounded returns\n",
    "w = array([[0.5], [0.5]])  # portfolio weights"
   ]
  },
  {
   "cell_type": "markdown",
   "metadata": {},
   "source": [
    "## Generate j_=10000 normal simulations of the instruments compounded returns\n",
    "## by using function NormalScenarios"
   ]
  },
  {
   "cell_type": "code",
   "execution_count": null,
   "metadata": {},
   "outputs": [],
   "source": [
    "Instr_comp_ret = NormalScenarios(mu, sigma2, j_)[0]"
   ]
  },
  {
   "cell_type": "markdown",
   "metadata": {},
   "source": [
    "## Compute the portfolio compounded returns"
   ]
  },
  {
   "cell_type": "code",
   "execution_count": null,
   "metadata": {},
   "outputs": [],
   "source": [
    "r = exp(Instr_comp_ret) - 1\n",
    "r_w = npsum(tile(w, (1, j_)) * r,axis=0,keepdims=True)\n",
    "ptf_comp_ret = log(1 + r_w)"
   ]
  },
  {
   "cell_type": "markdown",
   "metadata": {},
   "source": [
    "## Compute the normalized empirical histogram stemming from the simulations using function HistogramFP"
   ]
  },
  {
   "cell_type": "code",
   "execution_count": null,
   "metadata": {},
   "outputs": [],
   "source": [
    "p = ones((1, j_)) / j_\n",
    "option = namedtuple('option', 'n_bins')\n",
    "option.n_bins = round(10*log(j_))\n",
    "nx, cx = HistogramFP(ptf_comp_ret, p, option)"
   ]
  },
  {
   "cell_type": "markdown",
   "metadata": {},
   "source": [
    "## Plot the histogram of the compounded returns of the portfolio together with the normal fit."
   ]
  },
  {
   "cell_type": "code",
   "execution_count": null,
   "metadata": {},
   "outputs": [],
   "source": [
    "orange = [0.94, 0.3, 0]\n",
    "blue = [.2, .2, .7]\n",
    "colhist = [.8, .8, .8]\n",
    "\n",
    "f = figure()\n",
    "h = bar(cx[:-1], nx[0],width=cx[1]-cx[0], facecolor= colhist, edgecolor= 'k', label='Port. compounded ret. distr.')\n",
    "\n",
    "mr = mean(ptf_comp_ret)\n",
    "sr = std(ptf_comp_ret)\n",
    "x = arange(min(-3*sr + mr, cx[0] - 0.1), max(3*sr + mr, cx[-1] + 0.1),0.1*sr)\n",
    "y = norm.pdf(x, mr, sr)\n",
    "fit = plot(x, y,color= orange,label='Normal fit')\n",
    "xlim([-0.25, 0.75])\n",
    "yticks([])\n",
    "\n",
    "tit = title('Distribution of portfolio compounded returns')\n",
    "leg = legend();\n",
    "# save_plot(ax=plt.gca(), extension='png', scriptname=os.path.basename('.')[:-3], count=plt.get_fignums()[-1])"
   ]
  }
 ],
 "metadata": {
  "jupytext": {
   "encoding": "# -*- coding: utf-8 -*-",
   "executable": "/usr/bin/env python3"
  },
  "kernelspec": {
   "display_name": "Python 3",
   "language": "python",
   "name": "python3"
  }
 },
 "nbformat": 4,
 "nbformat_minor": 4
}
