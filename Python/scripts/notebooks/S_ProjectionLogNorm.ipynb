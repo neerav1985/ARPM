{
 "cells": [
  {
   "cell_type": "markdown",
   "metadata": {},
   "source": [
    "# S_ProjectionLogNorm [<img src=\"https://www.arpm.co/lab/icons/icon_permalink.png\" width=30 height=30 style=\"display: inline;\">](https://www.arpm.co/lab/redirect.php?code=S_ProjectionLogNorm&codeLang=Python)\n",
    "For details, see [here](https://www.arpm.co/lab/redirect.php?permalink=eb-lognormal-projection)."
   ]
  },
  {
   "cell_type": "markdown",
   "metadata": {},
   "source": [
    "## Prepare the environment"
   ]
  },
  {
   "cell_type": "code",
   "execution_count": null,
   "metadata": {},
   "outputs": [],
   "source": [
    "import os\n",
    "import os.path as path\n",
    "import sys\n",
    "\n",
    "sys.path.append(path.abspath('../../functions-legacy'))\n",
    "from collections import namedtuple\n",
    "\n",
    "import numpy as np\n",
    "from numpy import arange, array, ones, diff, abs, log, exp, sqrt, r_, real\n",
    "from numpy import sum as npsum, min as npmin, max as npmax\n",
    "\n",
    "from scipy.stats import norm\n",
    "from scipy.io import loadmat\n",
    "\n",
    "import matplotlib.pyplot as plt\n",
    "from matplotlib.pyplot import figure, plot, legend, ylabel, \\\n",
    "    xlabel, title\n",
    "\n",
    "plt.style.use('seaborn')\n",
    "\n",
    "from CONFIG import GLOBAL_DB, TEMPORARY_DB\n",
    "from ARPM_utils import struct_to_dict, datenum, save_plot\n",
    "from intersect_matlab import intersect\n",
    "from EffectiveScenarios import EffectiveScenarios\n",
    "from ConditionalFP import ConditionalFP\n",
    "from MMFP import MMFP\n",
    "from ShiftedLNMoments import ShiftedLNMoments\n",
    "from ProjDFFT import ProjDFFT"
   ]
  },
  {
   "cell_type": "markdown",
   "metadata": {},
   "source": [
    "## Upload databases db_OptionStrategy and db_VIX"
   ]
  },
  {
   "cell_type": "code",
   "execution_count": null,
   "metadata": {},
   "outputs": [],
   "source": [
    "try:\n",
    "    db = loadmat(os.path.join(GLOBAL_DB, 'db_OptionStrategy'), squeeze_me=True)\n",
    "except FileNotFoundError:\n",
    "    db = loadmat(os.path.join(TEMPORARY_DB, 'db_OptionStrategy'), squeeze_me=True)\n",
    "\n",
    "OptionStrategy = struct_to_dict(db['OptionStrategy'])\n",
    "\n",
    "try:\n",
    "    db = loadmat(os.path.join(GLOBAL_DB, 'db_VIX'), squeeze_me=True)\n",
    "except FileNotFoundError:\n",
    "    db = loadmat(os.path.join(TEMPORARY_DB, 'db_VIX'), squeeze_me=True)\n",
    "\n",
    "VIX = struct_to_dict(db['VIX'])"
   ]
  },
  {
   "cell_type": "markdown",
   "metadata": {},
   "source": [
    "## Compute the invariants and the time series of the conditioning variable (VIX index)"
   ]
  },
  {
   "cell_type": "code",
   "execution_count": null,
   "metadata": {},
   "outputs": [],
   "source": [
    "#invariants\n",
    "x = OptionStrategy.cumPL\n",
    "dx = diff(x)\n",
    "dates_x = array([datenum(i) for i in OptionStrategy.Dates])\n",
    "dates_x = dates_x[1:]\n",
    "# conditioning variable (VIX)\n",
    "z = VIX.value\n",
    "dates_z = VIX.Date"
   ]
  },
  {
   "cell_type": "markdown",
   "metadata": {},
   "source": [
    "## Intersect the two database to obtain data corresponding to the same dates"
   ]
  },
  {
   "cell_type": "code",
   "execution_count": null,
   "metadata": {},
   "outputs": [],
   "source": [
    "[dates, i_dx, i_z] = intersect(dates_x, dates_z)\n",
    "x = x[i_dx + 1]\n",
    "dx = dx[i_dx]\n",
    "z = z[i_z]\n",
    "t_ = len(dx)"
   ]
  },
  {
   "cell_type": "markdown",
   "metadata": {},
   "source": [
    "## Compute the Flexible Probabilities by mixing an exponential decay prior with the current information on the VIX"
   ]
  },
  {
   "cell_type": "code",
   "execution_count": null,
   "metadata": {},
   "outputs": [],
   "source": [
    "#prior\n",
    "lam = log(2) / 1080  # half life 3y\n",
    "prior = exp(-lam*abs(arange(t_, 1 + -1, -1))).reshape(1,-1)\n",
    "prior = prior / npsum(prior)\n",
    "\n",
    "# conditioner\n",
    "VIX = namedtuple('VIX', 'Series TargetValue Leeway')\n",
    "VIX.Series = z.reshape(1,-1)\n",
    "VIX.TargetValue = np.atleast_2d(z[-1])\n",
    "VIX.Leeway = 0.35\n",
    "\n",
    "# flexible probabilities conditioned via EP\n",
    "p = ConditionalFP(VIX, prior)\n",
    "\n",
    "p[p == 0] = 10 ** -20  # avoid log[0-1] in ens computation\n",
    "p = p /npsum(p)\n",
    "\n",
    "# effective number of scenarios\n",
    "typ = namedtuple('type','Entropy')\n",
    "typ.Entropy = 'Exp'\n",
    "ens = EffectiveScenarios(p, typ)"
   ]
  },
  {
   "cell_type": "markdown",
   "metadata": {},
   "source": [
    "## Fit the reflected shifted lognormal distribution by using function MMFP"
   ]
  },
  {
   "cell_type": "code",
   "execution_count": null,
   "metadata": {},
   "outputs": [],
   "source": [
    "# compute skewness\n",
    "m1 = p@dx.T\n",
    "m2 = p@((dx - m1) ** 2).T\n",
    "m3 = p@((dx - m1) ** 3).T\n",
    "skewness = m3 / (m2) ** 1.5\n",
    "\n",
    "HFP = namedtuple('HFP', ['FlexProbs','Scenarios'])\n",
    "HFP.FlexProbs = p\n",
    "HFP.Scenarios = dx\n",
    "parameters = MMFP(HFP, 'SLN')"
   ]
  },
  {
   "cell_type": "markdown",
   "metadata": {},
   "source": [
    "## Compute the expectation and standard deviation of the fitted distribution by using function ShiftedLNMoments"
   ]
  },
  {
   "cell_type": "code",
   "execution_count": null,
   "metadata": {},
   "outputs": [],
   "source": [
    "parameters.skew = skewness\n",
    "mu, sigma,_ = ShiftedLNMoments(parameters)\n",
    "mu = real(mu)\n",
    "sigma = real(sigma)"
   ]
  },
  {
   "cell_type": "markdown",
   "metadata": {},
   "source": [
    "## Project the expectation and standard deviation"
   ]
  },
  {
   "cell_type": "code",
   "execution_count": null,
   "metadata": {},
   "outputs": [],
   "source": [
    "tau = 20  # investment horizon\n",
    "k_ = 2 ** 11\n",
    "\n",
    "mu_tau = x[t_-1] + mu*tau\n",
    "sigma_tau = sigma*sqrt(tau)"
   ]
  },
  {
   "cell_type": "markdown",
   "metadata": {},
   "source": [
    "## Project the estimated pdf to the horizon via the FFT algorithm"
   ]
  },
  {
   "cell_type": "code",
   "execution_count": null,
   "metadata": {},
   "outputs": [],
   "source": [
    "x_hat_hor, f_hat_hor,*_ = ProjDFFT(None, None, tau, k_, 'shiftedLN', parameters)\n",
    "x_hor = mu*tau*ones((1, len(x_hat_hor))) + sigma*x_hat_hor\n",
    "f_hor = f_hat_hor / sigma\n",
    "f_hor = np.real(f_hor)"
   ]
  },
  {
   "cell_type": "markdown",
   "metadata": {},
   "source": [
    "## Compute the normal approximation of the projected pdf"
   ]
  },
  {
   "cell_type": "code",
   "execution_count": null,
   "metadata": {},
   "outputs": [],
   "source": [
    "phi_hor = norm.pdf(x_hor, mu*tau, sigma*sqrt(tau))\n",
    "# center around x(t_end)\n",
    "x_hor = x_hor + x[t_-1]"
   ]
  },
  {
   "cell_type": "markdown",
   "metadata": {},
   "source": [
    "## Create a figure"
   ]
  },
  {
   "cell_type": "code",
   "execution_count": null,
   "metadata": {},
   "outputs": [],
   "source": [
    "s_ = 2  # number of plotted observation before projecting time\n",
    "\n",
    "# axes settings\n",
    "m = min([npmin(x[t_ - s_:t_]), mu_tau - 4.5*sigma_tau])\n",
    "M = max([npmax(x[t_ - s_:t_]), mu_tau + 5*sigma_tau])\n",
    "t = arange(-s_,tau)\n",
    "max_scale = tau / 4\n",
    "\n",
    "# preliminary computations\n",
    "tau_red = arange(0,tau+0.1,0.1)\n",
    "mu_red = x[t_-1] + mu*tau_red\n",
    "sigma_red = sigma*sqrt(tau_red)\n",
    "redline1 = mu_red + 2*sigma_red\n",
    "redline2 = mu_red - 2*sigma_red\n",
    "\n",
    "f = figure()\n",
    "\n",
    "# color settings\n",
    "lgrey = [0.8, 0.8, 0.8]  # light grey\n",
    "dgrey = [0.2, 0.2, 0.2]  # dark grey\n",
    "lblue = [0.27, 0.4, 0.9]  # light blue\n",
    "\n",
    "plt.axis([t[0], t[-1] + 1.3*max_scale, np.real(m), np.real(M)])\n",
    "xlabel('time (days)')\n",
    "ylabel('Risk driver')\n",
    "plt.xticks(arange(-2, 21))\n",
    "#  'XTick', [t(range(s_) + 1) range(t)[-1]], 'XTickLabel', num2str([t(range(s_) + 1) range(t)[-1]]\n",
    "# ',.T#1.0f')\n",
    "plt.grid(False)\n",
    "title('Negative shifted log-normal projection')\n",
    "\n",
    "# standard deviation lines\n",
    "p_red_1 = plot(tau_red, redline1, color='r', lw = 2)  # red bars (+2 std dev)\n",
    "p_red_2 = plot(tau_red, redline2, color='r', lw = 2)  # red bars (-2std dev)\n",
    "p_mu = plot([0, tau], [x[t_-1], mu_tau], color='g', lw = 2)  # expectation\n",
    "\n",
    "# histogram pdf plot\n",
    "plot(r_['-1',tau*ones((f_hor.shape[0],1)), tau+f_hor.reshape(-1,1)].T, r_['-1',x_hor[[0]].T, x_hor[[0]].T].T, color=lgrey, lw=2)\n",
    "\n",
    "f_border = plot(tau+f_hor, x_hor[0], color=dgrey, lw=1)\n",
    "\n",
    "# normal approximation plot\n",
    "phi_border = plot(tau+phi_hor[0], x_hor[0], color=lblue, lw=1)\n",
    "\n",
    "# plot of last s_ observations\n",
    "for k in range(s_):\n",
    "    plot([t[k], t[k+1]], [x[t_-s_+k-1], x[t_-s_+k]], color=lgrey, lw=2)\n",
    "    plot(t[k], x[t_-s_+k-1], color='b',linestyle='none', marker='.',markersize=15)\n",
    "\n",
    "plot(t[s_], x[t_-1], color='b',linestyle='none', marker='.',markersize=15)\n",
    "\n",
    "# arrows\n",
    "plot([tau, tau], mu_tau + array([-2*sigma_tau, 2*sigma_tau]), color='r', lw = 2)\n",
    "\n",
    "# leg\n",
    "legend(handles=[f_border[0], phi_border[0], p_mu[0], p_red_1[0]],\n",
    "       labels=['horizon pdf','normal approximation','expectation',' + / - 2 st.deviation']);\n",
    "# save_plot(ax=plt.gca(), extension='png', scriptname=os.path.basename('.')[:-3], count=plt.get_fignums()[-1])"
   ]
  }
 ],
 "metadata": {
  "jupytext": {
   "encoding": "# -*- coding: utf-8 -*-",
   "executable": "/usr/bin/env python3"
  },
  "kernelspec": {
   "display_name": "Python 3",
   "language": "python",
   "name": "python3"
  }
 },
 "nbformat": 4,
 "nbformat_minor": 4
}
