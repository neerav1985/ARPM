{
 "cells": [
  {
   "cell_type": "markdown",
   "metadata": {},
   "source": [
    "# S_PricingStocksNorm [<img src=\"https://www.arpm.co/lab/icons/icon_permalink.png\" width=30 height=30 style=\"display: inline;\">](https://www.arpm.co/lab/redirect.php?code=S_PricingStocksNorm&codeLang=Python)\n",
    "For details, see [here](https://www.arpm.co/lab/redirect.php?permalink=eb-pricing-stocks-normal)."
   ]
  },
  {
   "cell_type": "markdown",
   "metadata": {},
   "source": [
    "## Prepare the environment"
   ]
  },
  {
   "cell_type": "code",
   "execution_count": null,
   "metadata": {},
   "outputs": [],
   "source": [
    "import os\n",
    "import os.path as path\n",
    "import sys\n",
    "\n",
    "sys.path.append(path.abspath('../../functions-legacy'))\n",
    "from collections import namedtuple\n",
    "\n",
    "import numpy as np\n",
    "from numpy import ones, diff, cov, round, mean, log, exp, tile\n",
    "from numpy.random import multivariate_normal as mvnrnd\n",
    "\n",
    "from scipy.io import loadmat, savemat\n",
    "\n",
    "import matplotlib.pyplot as plt\n",
    "from matplotlib.pyplot import bar, subplots, title\n",
    "\n",
    "plt.style.use('seaborn')\n",
    "\n",
    "from CONFIG import GLOBAL_DB, TEMPORARY_DB\n",
    "from ARPM_utils import save_plot, struct_to_dict\n",
    "from HistogramFP import HistogramFP\n",
    "\n",
    "# parameters\n",
    "n_ = 2  # number of selected stocks\n",
    "indexes = [0, 1]  # indexes of selected stocks\n",
    "tau = 20  # projection horizon"
   ]
  },
  {
   "cell_type": "markdown",
   "metadata": {},
   "source": [
    "## Upload the historical series of the daily dividend-adjusted stock values"
   ]
  },
  {
   "cell_type": "code",
   "execution_count": null,
   "metadata": {},
   "outputs": [],
   "source": [
    "try:\n",
    "    db = loadmat(os.path.join(GLOBAL_DB, 'db_StocksS_P'), squeeze_me=True)\n",
    "except FileNotFoundError:\n",
    "    db = loadmat(os.path.join(TEMPORARY_DB, 'db_StocksS_P'), squeeze_me=True)\n",
    "\n",
    "Data = struct_to_dict(db['Data'])"
   ]
  },
  {
   "cell_type": "markdown",
   "metadata": {},
   "source": [
    "## Select the observations corresponding to the first two stocks and compute the one-step invariants.\n",
    "## Further, where the corresponding mean and covariance"
   ]
  },
  {
   "cell_type": "code",
   "execution_count": null,
   "metadata": {},
   "outputs": [],
   "source": [
    "x = log(Data.Prices[indexes,:])\n",
    "dx = diff(x, 1, 1)\n",
    "mu = mean(dx, 1)\n",
    "sigma2 = cov(dx)"
   ]
  },
  {
   "cell_type": "markdown",
   "metadata": {},
   "source": [
    "## Simulate j_=10000 Monte Carlo scenarios for the risk drivers.T scenarios at the horizon (20 days ahead)\n",
    "## by using that the risk drivers at the horizon are normally distributed"
   ]
  },
  {
   "cell_type": "code",
   "execution_count": null,
   "metadata": {},
   "outputs": [],
   "source": [
    "j_ = 10000\n",
    "x_tnow = log(Data.Prices[indexes, -1])\n",
    "mu_tau = tau*mu\n",
    "sigma2_tau = tau*sigma2\n",
    "X_thor = tile(x_tnow[...,np.newaxis], (1, j_)) + mvnrnd(mu_tau, sigma2_tau, j_).T"
   ]
  },
  {
   "cell_type": "markdown",
   "metadata": {},
   "source": [
    "## Compute the j_ Monte Carlo scenarios for the stocks' values at the horizon\n",
    "## and the corresponding P&L's scenarios"
   ]
  },
  {
   "cell_type": "code",
   "execution_count": null,
   "metadata": {},
   "outputs": [],
   "source": [
    "v_tnow = Data.Prices[indexes, -1]\n",
    "V_thor = exp(tile(log(v_tnow[...,np.newaxis]), (1, j_)) + X_thor - tile(x_tnow[...,np.newaxis], (1, j_)))\n",
    "PL = V_thor - tile(v_tnow[...,np.newaxis], (1, j_))"
   ]
  },
  {
   "cell_type": "markdown",
   "metadata": {},
   "source": [
    "## Save the data in db_StocksNormal"
   ]
  },
  {
   "cell_type": "code",
   "execution_count": null,
   "metadata": {},
   "outputs": [],
   "source": [
    "vars_to_save = {varname: var for varname, var in locals().items() if isinstance(var,(np.ndarray,np.float,np.int))}\n",
    "savemat(os.path.join(TEMPORARY_DB,'db_StocksNormal'),vars_to_save)"
   ]
  },
  {
   "cell_type": "markdown",
   "metadata": {},
   "source": [
    "## Plot the histograms of the stocks P&L's at the horizon."
   ]
  },
  {
   "cell_type": "code",
   "execution_count": null,
   "metadata": {},
   "outputs": [],
   "source": [
    "f, ax = subplots(2,1)\n",
    "\n",
    "lgray = [.7, .7, .7]  # light gray\n",
    "dgray = [.5, .5, .5]  # dark gray\n",
    "\n",
    "# histogram of the first zero coupon bond P&L\n",
    "plt.sca(ax[0])\n",
    "n_bins = round(15*log(j_))  # number of histogram bins\n",
    "option = namedtuple('option', 'n_bins')\n",
    "option.n_bins = n_bins\n",
    "[pdf1_mc, bin1_mc] = HistogramFP(PL[[0]], 1 / j_*ones((1, j_)), option)\n",
    "bar(bin1_mc[:-1], pdf1_mc[0], width=bin1_mc[1]-bin1_mc[0],facecolor= lgray, edgecolor= dgray)\n",
    "title('First stock: distribution of the P & L at the horizon = %.0f days' %tau)\n",
    "\n",
    "# histogram of the second zero coupon bond P&L\n",
    "plt.sca(ax[1])\n",
    "n_bins = round(15*log(j_))  # number of histogram bins\n",
    "option = namedtuple('option', 'n_bins')\n",
    "option.n_bins = n_bins\n",
    "[pdf2_mc, bin2_mc] = HistogramFP(PL[[1]], 1 / j_*ones((1, j_)), option)\n",
    "bar(bin2_mc[:-1], pdf2_mc[0], width=bin2_mc[1]-bin2_mc[0],facecolor= lgray, edgecolor= dgray)\n",
    "title('Second stock: distribution of the P & L at the horizon = %.0f days' %tau)\n",
    "plt.tight_layout();\n",
    "# save_plot(ax=plt.gca(), extension='png', scriptname=os.path.basename('.')[:-3], count=plt.get_fignums()[-1])"
   ]
  }
 ],
 "metadata": {
  "jupytext": {
   "encoding": "# -*- coding: utf-8 -*-",
   "executable": "/usr/bin/env python3"
  },
  "kernelspec": {
   "display_name": "Python 3",
   "language": "python",
   "name": "python3"
  }
 },
 "nbformat": 4,
 "nbformat_minor": 4
}
