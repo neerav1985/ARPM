{
 "cells": [
  {
   "cell_type": "markdown",
   "metadata": {},
   "source": [
    "# S_ProjectionPoisson [<img src=\"https://www.arpm.co/lab/icons/icon_permalink.png\" width=30 height=30 style=\"display: inline;\">](https://www.arpm.co/lab/redirect.php?code=S_ProjectionPoisson&codeLang=Python)\n",
    "For details, see [here](https://www.arpm.co/lab/redirect.php?permalink=ExerPoissProcProj)."
   ]
  },
  {
   "cell_type": "markdown",
   "metadata": {},
   "source": [
    "## Prepare the environment"
   ]
  },
  {
   "cell_type": "code",
   "execution_count": null,
   "metadata": {},
   "outputs": [],
   "source": [
    "import os\n",
    "import os.path as path\n",
    "import sys\n",
    "\n",
    "sys.path.append(path.abspath('../../functions-legacy'))\n",
    "from collections import namedtuple\n",
    "\n",
    "from numpy import arange, array, ceil, linspace, log, exp, sqrt, unique\n",
    "from numpy import sum as npsum, min as npmin, max as npmax\n",
    "\n",
    "from scipy.stats import norm, poisson\n",
    "from scipy.io import loadmat\n",
    "\n",
    "import matplotlib.pyplot as plt\n",
    "from matplotlib.pyplot import figure, plot, legend, ylabel, \\\n",
    "    xlabel, title\n",
    "\n",
    "plt.style.use('seaborn')\n",
    "\n",
    "from CONFIG import GLOBAL_DB, TEMPORARY_DB\n",
    "from ARPM_utils import save_plot, struct_to_dict\n",
    "from EffectiveScenarios import EffectiveScenarios\n",
    "from JumpDiffusionMerton import JumpDiffusionMerton\n",
    "from binningHFseries import binningHFseries\n",
    "from IterGenMetMomFP import IterGenMetMomFP"
   ]
  },
  {
   "cell_type": "markdown",
   "metadata": {},
   "source": [
    "## Upload databases"
   ]
  },
  {
   "cell_type": "code",
   "execution_count": null,
   "metadata": {},
   "outputs": [],
   "source": [
    "try:\n",
    "    db = loadmat(os.path.join(GLOBAL_DB, 'db_US_10yr_Future_quotes_and_trades'), squeeze_me=True)\n",
    "except FileNotFoundError:\n",
    "    db = loadmat(os.path.join(TEMPORARY_DB, 'db_US_10yr_Future_quotes_and_trades'), squeeze_me=True)\n",
    "\n",
    "trades = struct_to_dict(db['trades'])"
   ]
  },
  {
   "cell_type": "markdown",
   "metadata": {},
   "source": [
    "## Compute the invariants"
   ]
  },
  {
   "cell_type": "code",
   "execution_count": null,
   "metadata": {},
   "outputs": [],
   "source": [
    "trade_time = unique(trades.time)\n",
    "flag = '1second'\n",
    "epsi, k,*_ = binningHFseries(trade_time, flag)\n",
    "k_ = len(k)"
   ]
  },
  {
   "cell_type": "markdown",
   "metadata": {},
   "source": [
    "## Set the Flexible Probabilities"
   ]
  },
  {
   "cell_type": "code",
   "execution_count": null,
   "metadata": {},
   "outputs": [],
   "source": [
    "lam = log(2) / 360\n",
    "p = exp((-lam * arange(k_, 1 + -1, -1))).reshape(1,-1)\n",
    "p = p /npsum(p)  # FP-profile: exponential decay 1 years\n",
    "typ = namedtuple('type','Entropy')\n",
    "typ.Entropy = 'Exp'\n",
    "ens = EffectiveScenarios(p, typ)"
   ]
  },
  {
   "cell_type": "markdown",
   "metadata": {},
   "source": [
    "## Estimation of the 1-step pdf with the Generalized Method of Moments"
   ]
  },
  {
   "cell_type": "code",
   "execution_count": null,
   "metadata": {},
   "outputs": [],
   "source": [
    "param = IterGenMetMomFP(epsi, p, 'Poisson')\n",
    "lam = param.lam"
   ]
  },
  {
   "cell_type": "markdown",
   "metadata": {},
   "source": [
    "## Initialize projection variables"
   ]
  },
  {
   "cell_type": "code",
   "execution_count": null,
   "metadata": {},
   "outputs": [],
   "source": [
    "tau = 10  # investment horizon\n",
    "dt = 1 / 20  # infinitesimal step for simulations\n",
    "t_j = arange(0,tau+dt,dt)  # time vector for simulations\n",
    "j_ = 15  # number of simulations"
   ]
  },
  {
   "cell_type": "markdown",
   "metadata": {},
   "source": [
    "## Simulate Poisson process"
   ]
  },
  {
   "cell_type": "code",
   "execution_count": null,
   "metadata": {},
   "outputs": [],
   "source": [
    "k_j = JumpDiffusionMerton(0, 0, lam, 1, 0, t_j, j_)  # generate scenarios\n",
    "k_j = k_j + k[k_-1]  # centered scenarios"
   ]
  },
  {
   "cell_type": "markdown",
   "metadata": {},
   "source": [
    "## Projection to horizon"
   ]
  },
  {
   "cell_type": "code",
   "execution_count": null,
   "metadata": {},
   "outputs": [],
   "source": [
    "# moments\n",
    "mu_tau = k[k_-1] + lam*tau\n",
    "sigma_tau = sqrt(lam*tau)\n",
    "\n",
    "# Poisson pdf at horizon\n",
    "l_ = int(ceil(mu_tau + 6*sigma_tau))  # number of points\n",
    "x_pois = arange(0,l_+1)\n",
    "y_pois = poisson.pmf(x_pois, lam*tau)\n",
    "x_pois = x_pois + k[k_-1]\n",
    "\n",
    "# normal approximation\n",
    "x_norm = linspace(mu_tau - 4*sigma_tau, mu_tau + 4*sigma_tau, l_)\n",
    "y_norm = norm.pdf(x_norm, mu_tau, sigma_tau)"
   ]
  },
  {
   "cell_type": "markdown",
   "metadata": {},
   "source": [
    "## Generate figure"
   ]
  },
  {
   "cell_type": "code",
   "execution_count": null,
   "metadata": {},
   "outputs": [],
   "source": [
    "s_ = 2  # number of plotted observation before projecting time\n",
    "\n",
    "# axes settings\n",
    "m = min([npmin(k_j), k[-1]+lam - 2*sigma_tau])\n",
    "M = max([npmax(k_j), mu_tau + 3.5*sigma_tau])\n",
    "t = arange(-s_,tau)\n",
    "max_scale = tau / 4\n",
    "scale = max_scale / npmax(y_pois)\n",
    "\n",
    "# preliminary computations\n",
    "tau_red = arange(0,tau+0.1,0.1)\n",
    "mu_red = k[-1] + lam*tau_red\n",
    "sigma_red = sqrt(lam*tau_red)\n",
    "redline1 = mu_red + 2*sigma_red\n",
    "redline2 = mu_red - 2*sigma_red\n",
    "\n",
    "f = figure()\n",
    "# color settings\n",
    "lgrey = [0.8, 0.8, 0.8]  # light grey\n",
    "dgrey = [0.4, 0.4, 0.4]  # dark grey\n",
    "lblue = [0.27, 0.4, 0.9]  # light blue\n",
    "plt.axis([t[0], t[-1] + 2*max_scale, m, 1.01*M])\n",
    "xlabel('time (seconds)')\n",
    "ylabel('Risk driver')\n",
    "plt.grid(False)\n",
    "title('Poisson process')\n",
    "# simulated paths\n",
    "for j in range(j_):\n",
    "    plot(t_j, k_j[j,:], color = lgrey, lw = 2)\n",
    "# standard deviation lines\n",
    "p_red_1 = plot(tau_red, redline1, color='r', lw = 2)  # red bars (+2 std dev)\n",
    "p_red_2 = plot(tau_red, redline2, color='r', lw = 2)  # red bars (-2std dev)\n",
    "p_mu = plot([0, tau], [k[-1], mu_tau], color='g', lw = 2)  # expectation\n",
    "# histogram pdf plot\n",
    "for y in range(len(y_pois)):\n",
    "    f_hist = plot([tau, tau+y_pois[y]*scale], [x_pois[y], x_pois[y]], color=dgrey, lw=3)\n",
    "# normal approximation plot\n",
    "phi_border = plot(tau+y_norm*scale, x_norm, color=lblue, lw=1)\n",
    "# plot of last s_ observations\n",
    "for s in range(s_):\n",
    "    plot([t[s], t[s + 1]], [k[-1- s_ + s - 1], k[- s_ + s - 1]], color=lgrey, lw=2)\n",
    "    plot(t[s], k[-s_+s-1], color='b',linestyle='none', marker = '.',markersize=15)\n",
    "plot(t[s_], k[-1], color='b',linestyle='none', marker = '.',markersize=15)\n",
    "plot([tau, tau], mu_tau + array([-2*sigma_tau, 2*sigma_tau]), color='r', lw = 2)\n",
    "plt.xticks(arange(-2,11),arange(-2,11))\n",
    "# leg\n",
    "#\n",
    "legend(handles=[p_mu[0], p_red_1[0], f_hist[0], phi_border[0]],labels=['expectation',' + / - 2st.deviation', 'horizon pdf','normal approximation']);\n",
    "# save_plot(ax=plt.gca(), extension='png', scriptname=os.path.basename('.')[:-3], count=plt.get_fignums()[-1])\n"
   ]
  }
 ],
 "metadata": {
  "jupytext": {
   "encoding": "# -*- coding: utf-8 -*-",
   "executable": "/usr/bin/env python3"
  },
  "kernelspec": {
   "display_name": "Python 3",
   "language": "python",
   "name": "python3"
  }
 },
 "nbformat": 4,
 "nbformat_minor": 4
}
