{
 "cells": [
  {
   "cell_type": "markdown",
   "metadata": {},
   "source": [
    "# s_projection_stock_fx [<img src=\"https://www.arpm.co/lab/icons/icon_permalink.png\" width=30 height=30 style=\"display: inline;\">](https://www.arpm.co/lab/redirect.php?code=s_projection_stock_fx&codeLang=Python)\n",
    "For details, see [here](https://www.arpm.co/lab/redirect.php?permalink=s_projection_stock_fx)."
   ]
  },
  {
   "cell_type": "code",
   "execution_count": null,
   "metadata": {},
   "outputs": [],
   "source": [
    "import numpy as np\n",
    "import pandas as pd\n",
    "import scipy as sp\n",
    "import matplotlib.pyplot as plt\n",
    "\n",
    "from arpym.estimation.exp_decay_fp import exp_decay_fp\n",
    "from arpym.statistics.meancov_sp import meancov_sp\n",
    "from arpym.statistics.simulate_bm import simulate_bm\n",
    "from arpym.tools.histogram_sp import histogram_sp\n",
    "from arpym.tools.logo import add_logo"
   ]
  },
  {
   "cell_type": "markdown",
   "metadata": {},
   "source": [
    "## [Input parameters](https://www.arpm.co/lab/redirect.php?permalink=s_projection_stock_fx-parameters)"
   ]
  },
  {
   "cell_type": "code",
   "execution_count": null,
   "metadata": {},
   "outputs": [],
   "source": [
    "j_ = 100  # number of scenarios\n",
    "m_ = 10   # number of monitoring times (days)"
   ]
  },
  {
   "cell_type": "markdown",
   "metadata": {},
   "source": [
    "## [Step 0](https://www.arpm.co/lab/redirect.php?permalink=s_projection_stock_fx-implementation-step00): Upload data"
   ]
  },
  {
   "cell_type": "code",
   "execution_count": null,
   "metadata": {},
   "outputs": [],
   "source": [
    "stock_path = '~/databases/global-databases/equities/'\n",
    "fx_path = '~/databases/global-databases/currencies/'\n",
    "# import data\n",
    "df_stocks = pd.read_csv(stock_path + 'db_stocks_SP500/db_stocks_sp.csv', index_col=0,\n",
    "                        skiprows=[0])\n",
    "# set timestamps\n",
    "df_stocks = df_stocks.set_index(pd.to_datetime(df_stocks.index))\n",
    "# select stock\n",
    "df_stocks = df_stocks['AMZN']  # stock value\n",
    "# select exchange rate\n",
    "fx_df = pd.read_csv(fx_path + 'db_fx/data.csv', index_col=0, usecols=['date', 'GBP'],\n",
    "                    parse_dates=['date'])\n",
    "fx_df.dropna(inplace=True)\n",
    "# joint time index\n",
    "joint_ind =  df_stocks.index.intersection(fx_df.index)\n",
    "\n",
    "# select data within the date range\n",
    "t_ = 504  # length of time series\n",
    "df_stocks = df_stocks.loc[joint_ind].tail(t_)  # stock value\n",
    "fx_usd2gbp = fx_df.loc[joint_ind].tail(t_).values  # USD/GBP exchange rate"
   ]
  },
  {
   "cell_type": "markdown",
   "metadata": {},
   "source": [
    "## [Step 1](https://www.arpm.co/lab/redirect.php?permalink=s_projection_stock_fx-implementation-step01): Compute the risk drivers"
   ]
  },
  {
   "cell_type": "code",
   "execution_count": null,
   "metadata": {},
   "outputs": [],
   "source": [
    "x_stock = np.log(np.array(df_stocks))  # log-value\n",
    "x_fx = np.log(fx_usd2gbp).reshape(-1)  # USD/GBP log-exchange rate"
   ]
  },
  {
   "cell_type": "markdown",
   "metadata": {},
   "source": [
    "## [Step 2](https://www.arpm.co/lab/redirect.php?permalink=s_projection_stock_fx-implementation-step02): Compute HFP mean and covariance"
   ]
  },
  {
   "cell_type": "code",
   "execution_count": null,
   "metadata": {},
   "outputs": [],
   "source": [
    "tau_hl = 180  # half-life (days)\n",
    "# exponential decay probabilities\n",
    "p = exp_decay_fp(t_ - 1, tau_hl)\n",
    "# invariant past realizations\n",
    "epsi_stock = np.diff(x_stock)\n",
    "epsi_fx = np.diff(x_fx)\n",
    "# HFP mean and covariance\n",
    "mu_hat, sig2_hat = meancov_sp(np.r_[epsi_stock.reshape(1,-1),\n",
    "                              epsi_fx.reshape(1,-1)].reshape((-1, 2)),\n",
    "                              p)"
   ]
  },
  {
   "cell_type": "markdown",
   "metadata": {},
   "source": [
    "## [Step 3](https://www.arpm.co/lab/redirect.php?permalink=s_projection_stock_fx-implementation-step03): Generate Monte Carlo scenarios for the risk drivers process"
   ]
  },
  {
   "cell_type": "code",
   "execution_count": null,
   "metadata": {},
   "outputs": [],
   "source": [
    "# Monte Carlo scenarios\n",
    "delta_t_m = np.ones(m_)\n",
    "x_stock_fx_0 = np.r_[x_stock[-1], x_fx[-1]]\n",
    "x_tnow_thor = simulate_bm(x_stock_fx_0, delta_t_m, mu_hat,\n",
    "                          sig2_hat, j_).squeeze()"
   ]
  },
  {
   "cell_type": "markdown",
   "metadata": {},
   "source": [
    "## [Step 4](https://www.arpm.co/lab/redirect.php?permalink=s_projection_stock_fx-implementation-step04): Save databases"
   ]
  },
  {
   "cell_type": "code",
   "execution_count": null,
   "metadata": {},
   "outputs": [],
   "source": [
    "t_m = np.append(0, np.cumsum(delta_t_m))\n",
    "output = {'j_': j_,\n",
    "          't_': t_,\n",
    "          'm_': m_,\n",
    "          'p': pd.Series(p.reshape(-1)),\n",
    "          'mu_hat': pd.Series(mu_hat.reshape(-1)),\n",
    "          'sig2_hat': pd.Series(sig2_hat.reshape(-1)),\n",
    "          'x_tnow_thor': pd.Series(x_tnow_thor.reshape(-1))}\n",
    "df = pd.DataFrame(output)\n",
    "df.to_csv('~/databases/temporary-databases/db_stocks_fx_proj_bm.csv')"
   ]
  },
  {
   "cell_type": "markdown",
   "metadata": {},
   "source": [
    "## Plots"
   ]
  },
  {
   "cell_type": "code",
   "execution_count": null,
   "metadata": {},
   "outputs": [],
   "source": [
    "plt.style.use('arpm')\n",
    "lgrey = [0.8, 0.8, 0.8]  # light grey\n",
    "dgrey = [0.4, 0.4, 0.4]  # dark grey\n",
    "\n",
    "# plot that corresponds to step 4\n",
    "num_plot = min(j_, 30)\n",
    "\n",
    "fig = plt.figure(figsize=(1280.0/72.0, 720.0/72.0), dpi=72.0)\n",
    "\n",
    "\n",
    "mu_thor = np.zeros((len(t_m), 2))\n",
    "sig2_thor = np.zeros((len(t_m), 2, 2))\n",
    "for t in range(len(t_m)):\n",
    "    mu_thor[t], sig2_thor[t] = meancov_sp(x_tnow_thor[:, t, :])\n",
    "\n",
    "# log-values\n",
    "ax1 = fig.add_subplot(211)\n",
    "ax1.set_xlim(0, t_m[-1]*1.35)\n",
    "plt.xticks(fontsize=14)\n",
    "plt.yticks(fontsize=14)\n",
    "i = 0\n",
    "mu_stock_thor = np.zeros(m_ + 1)\n",
    "sig_stock_thor = np.zeros(m_ + 1)\n",
    "for m in range(0, m_ + 1):\n",
    "    mu_stock_thor[m] = mu_thor[m, 0]\n",
    "    sig_stock_thor[m] = np.sqrt(sig2_thor[m, 0, 0])\n",
    "\n",
    "for j in range(num_plot):\n",
    "    plt.plot(t_m, x_tnow_thor[j, :, i], lw=1, color=lgrey) \n",
    "\n",
    "f, xp = histogram_sp(x_tnow_thor[:, -1, i], k_=20*np.log(j_))\n",
    "rescale_f = 0.3*f*t_m[-1]/np.max(f)\n",
    "plt.barh(xp, rescale_f, height=xp[1]-xp[0], left=t_m[-1], facecolor=lgrey,\n",
    "         edgecolor=lgrey,  label='horizon pdf')\n",
    "plt.plot(rescale_f+t_m[-1], xp, color=dgrey, lw=1)\n",
    "# mean plot\n",
    "p_mu = plt.plot(t_m, mu_stock_thor, color='g',\n",
    "                label='expectation', lw=1)\n",
    "p_red_1 = plt.plot(t_m, mu_stock_thor + 2 * sig_stock_thor,\n",
    "                   label='+ / - 2 st.deviation', color='r', lw=1)\n",
    "p_red_2 = plt.plot(t_m, mu_stock_thor - 2 * sig_stock_thor,\n",
    "                   color='r', lw=1)\n",
    "plt.legend(fontsize=17)\n",
    "plt.xlabel(r'$t_{\\mathit{hor}}-t_{\\mathit{now}}$ (days)', fontsize=17)\n",
    "title = \"Projection of log-value\"\n",
    "plt.title(title, fontsize=20, fontweight='bold')\n",
    "\n",
    "# currency log-exchange rate\n",
    "ax2 = fig.add_subplot(212)\n",
    "ax2.set_xlim(0, t_m[-1]*1.35)\n",
    "plt.xticks(fontsize=14)\n",
    "plt.yticks(fontsize=14)\n",
    "i = 1\n",
    "         \n",
    "mu_fx_thor = np.zeros(m_ + 1)\n",
    "sig_fx_thor = np.zeros(m_ + 1)\n",
    "for m in range(0, m_ + 1):\n",
    "    mu_fx_thor[m] = mu_thor[m, 1]\n",
    "    sig_fx_thor[m] = np.sqrt(sig2_thor[m, 1, 1])\n",
    "for j in range(num_plot):\n",
    "    plt.plot(t_m, x_tnow_thor[j, :, i], lw=1, color=lgrey)   \n",
    "\n",
    "f, xp = histogram_sp(x_tnow_thor[:, -1, i], k_=20*np.log(j_))\n",
    "rescale_f = 0.3*f*t_m[-1]/np.max(f)\n",
    "plt.barh(xp, rescale_f, height=xp[1]-xp[0], left=t_m[-1], facecolor=lgrey,\n",
    "         edgecolor=lgrey)\n",
    "plt.plot(rescale_f+t_m[-1], xp, color=dgrey, lw=1)\n",
    "# mean plot\n",
    "p_mu = plt.plot(t_m, mu_fx_thor, color='g',\n",
    "                label='expectation', lw=1)\n",
    "p_red_1 = plt.plot(t_m, mu_fx_thor+2*sig_fx_thor,\n",
    "                   label='+ / - 2 st.deviation', color='r', lw=1)\n",
    "p_red_2 = plt.plot(t_m, mu_fx_thor-2*sig_fx_thor,\n",
    "                   color='r', lw=1)\n",
    "plt.xlabel(r'$t_{\\mathit{hor}}-t_{\\mathit{now}}$ (days)', fontsize=17)\n",
    "title = \"Projection of currency log-exchange rate\"\n",
    "plt.title(title, fontsize=20, fontweight='bold')\n",
    "add_logo(fig, set_fig_size=False)\n",
    "fig.tight_layout()"
   ]
  }
 ],
 "metadata": {
  "jupytext": {
   "encoding": "# -*- coding: utf-8 -*-",
   "executable": "/usr/bin/env python3"
  },
  "kernelspec": {
   "display_name": "Python 3",
   "language": "python",
   "name": "python3"
  }
 },
 "nbformat": 4,
 "nbformat_minor": 4
}
