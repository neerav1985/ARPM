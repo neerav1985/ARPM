{
 "cells": [
  {
   "cell_type": "markdown",
   "metadata": {},
   "source": [
    "# s_mean_var_solution_robust [<img src=\"https://www.arpm.co/lab/icons/icon_permalink.png\" width=30 height=30 style=\"display: inline;\">](https://www.arpm.co/lab/redirect.php?code=s_mean_var_solution_robust&codeLang=Python)\n",
    "For details, see [here](https://www.arpm.co/lab/redirect.php?permalink=eb-mean-var-solution-robust)."
   ]
  },
  {
   "cell_type": "code",
   "execution_count": null,
   "metadata": {},
   "outputs": [],
   "source": [
    "import numpy as np\n",
    "import cvxopt\n",
    "from scipy.stats import chi2\n",
    "import matplotlib.pyplot as plt\n",
    "import matplotlib.cm as cm\n",
    "\n",
    "from arpym.tools.logo import add_logo"
   ]
  },
  {
   "cell_type": "markdown",
   "metadata": {},
   "source": [
    "## [Input parameters](https://www.arpm.co/lab/redirect.php?permalink=s_mean_var_solution_robust-parameters)"
   ]
  },
  {
   "cell_type": "code",
   "execution_count": null,
   "metadata": {},
   "outputs": [],
   "source": [
    "n_ = 10  # number of stocks\n",
    "v_budget = 1000  # budget at time t_now\n",
    "\n",
    "v_in = 200  # initial variance\n",
    "v_fin = 5000  # final variance\n",
    "v_ = 100  # variance grid\n",
    "p_in = 10**-9  # initial probability\n",
    "p_fin = 0.25  # final probability\n",
    "p_ = 10  # probability grid\n",
    "\n",
    "r_rf = 0.02  # risk-free rate"
   ]
  },
  {
   "cell_type": "markdown",
   "metadata": {},
   "source": [
    "## [Step 1](https://www.arpm.co/lab/redirect.php?permalink=s_mean_var_solution_robust-implementation-step01): Generate current values and P&L expectation and covariance and define robustness matrix"
   ]
  },
  {
   "cell_type": "code",
   "execution_count": null,
   "metadata": {},
   "outputs": [],
   "source": [
    "v_tnow = np.random.lognormal(4, 0.05, n_)\n",
    "\n",
    "mu_pi = 0.5*np.arange(1, n_+1)\n",
    "sig2_pi = 0.2*np.ones((n_, n_)) + 0.8*np.eye(n_)\n",
    "sig2_pi = np.diag(mu_pi)@sig2_pi@np.diag(mu_pi)\n",
    "\n",
    "\n",
    "# robustness matrix is the diagonal matrix of the P&L's variances\n",
    "t = np.diag(np.diag(sig2_pi))\n",
    "# high penalty for low-variance P&L's\n",
    "t[t >= np.median(np.diag(t))] = 10**-5*t[t >= np.median(np.diag(t))]"
   ]
  },
  {
   "cell_type": "markdown",
   "metadata": {},
   "source": [
    "## [Step 2](https://www.arpm.co/lab/redirect.php?permalink=s_mean_var_solution_robust-implementation-step02): Spectral decompositions of the matrices sig2_pi, t"
   ]
  },
  {
   "cell_type": "code",
   "execution_count": null,
   "metadata": {},
   "outputs": [],
   "source": [
    "lam2_sig2_pi, e_sig2_pi = np.linalg.eig(sig2_pi)\n",
    "lam2_sig2_pi = np.diag(lam2_sig2_pi)\n",
    "lam2_t, e_t = np.linalg.eig(t)\n",
    "lam2_t = np.diag(lam2_t)"
   ]
  },
  {
   "cell_type": "markdown",
   "metadata": {},
   "source": [
    "## [Step 3](https://www.arpm.co/lab/redirect.php?permalink=s_mean_var_solution_robust-implementation-step03): Solve the first step of the mean-variance approach"
   ]
  },
  {
   "cell_type": "code",
   "execution_count": null,
   "metadata": {},
   "outputs": [],
   "source": [
    "# Constraints:\n",
    "# 1) budget constraint: h'*v_tnow = v_budget\n",
    "# 2) no-short-sale: h>=0\n",
    "\n",
    "v_span = np.linspace(v_in, v_fin, v_)  # variances\n",
    "p_span = np.linspace(p_in, p_fin, p_)\n",
    "q_span = np.sqrt(chi2.ppf(p_span, df=n_))  # quantiles\n",
    "\n",
    "h_lambda = np.zeros((n_, v_, p_))\n",
    "mu_h_lambda = np.zeros((v_, p_))\n",
    "sig2_h_lambda = np.zeros((v_, p_))\n",
    "\n",
    "cvxopt.solvers.options['show_progress'] = False\n",
    "\n",
    "print('First step of mean-variance approach')\n",
    "for v in range(v_):\n",
    "    for q in range(p_):\n",
    "        # objective\n",
    "        c_opt = cvxopt.matrix(np.r_[1, -mu_pi], tc='d')\n",
    "\n",
    "        # equality constraints: budget\n",
    "        A_opt = cvxopt.matrix(np.r_[0, v_tnow], size=(1, n_+1), tc='d')\n",
    "        b_opt = cvxopt.matrix(v_budget, tc='d')\n",
    "\n",
    "        # inequality constraints\n",
    "        # no-short-sale\n",
    "        Gl_opt = cvxopt.matrix(np.block([[0, np.zeros((1, n_))],\n",
    "                                         [np.zeros((n_, 1)), -np.eye(n_)]]))\n",
    "        hl_opt = cvxopt.matrix(np.zeros((n_+1)))\n",
    "        # variance\n",
    "        Gq0_opt = cvxopt.matrix(np.block([[0, np.zeros((1, n_))],\n",
    "                                          [np.zeros((n_, 1)),\n",
    "                                           -np.sqrt(lam2_sig2_pi) @\n",
    "                                           e_sig2_pi.T]]))\n",
    "        hq0_opt = cvxopt.matrix(np.r_[np.sqrt(v_span[v]), np.zeros(n_)])\n",
    "        # robustness\n",
    "        Gq1_opt = cvxopt.matrix(np.block([[-1, np.zeros((1, n_))],\n",
    "                                          [np.zeros((n_, 1)),\n",
    "                                           -q_span[q] *\n",
    "                                           np.sqrt(lam2_t)@e_t.T]]))\n",
    "        hq1_opt = cvxopt.matrix(np.zeros(n_+1))\n",
    "\n",
    "        Gq_opt = [Gq0_opt, Gq1_opt]\n",
    "        hq_opt = [hq0_opt, hq1_opt]\n",
    "\n",
    "        # solve\n",
    "        prob = cvxopt.solvers.socp(c=c_opt,\n",
    "                                   Gl=Gl_opt, hl=hl_opt,\n",
    "                                   Gq=Gq_opt, hq=hq_opt,\n",
    "                                   A=A_opt, b=b_opt)\n",
    "\n",
    "        if prob['x'] is not None:\n",
    "            h_lambda[:, v, q] = np.array(prob['x'])[1:, 0]\n",
    "        else:\n",
    "            print('\\nInfeasible problem for parameters:\\n')\n",
    "            print('v = ' + str(v_span[v]) + '  ' + 'p = ' + str(p_span[q]))\n",
    "\n",
    "        # Compute the efficient frontier\n",
    "        mu_h_lambda[v, q] = h_lambda[:, v, q]@mu_pi\n",
    "        sig2_h_lambda[v, q] = h_lambda[:, v, q].T @\\\n",
    "            sig2_pi @\\\n",
    "            h_lambda[:, v, q]"
   ]
  },
  {
   "cell_type": "markdown",
   "metadata": {},
   "source": [
    "## [Step 3](https://www.arpm.co/lab/redirect.php?permalink=s_mean_var_solution_robust-implementation-step03): Compute weights"
   ]
  },
  {
   "cell_type": "code",
   "execution_count": null,
   "metadata": {},
   "outputs": [],
   "source": [
    "w_lambda = (h_lambda.T*v_tnow).T / v_budget"
   ]
  },
  {
   "cell_type": "markdown",
   "metadata": {},
   "source": [
    "## [Step 4](https://www.arpm.co/lab/redirect.php?permalink=s_mean_var_solution_robust-implementation-step04): Solve the second step of the mean-variance approach"
   ]
  },
  {
   "cell_type": "code",
   "execution_count": null,
   "metadata": {},
   "outputs": [],
   "source": [
    "print('Second step of mean-variance approach')\n",
    "\n",
    "# satisfaction = Sharpe ratio\n",
    "satis_h_lambda = mu_h_lambda / np.sqrt(sig2_h_lambda)\n",
    "\n",
    "# optimal variance and robustness penalty\n",
    "lambda_star_ind = np.where(satis_h_lambda == satis_h_lambda.max())\n",
    "v_star_ind = lambda_star_ind[0][0]\n",
    "q_star_ind = lambda_star_ind[1][0]\n",
    "v_star = v_span[v_star_ind]\n",
    "q_star = q_span[q_star_ind]\n",
    "# optimal holdings and weights\n",
    "h_qsi_star = h_lambda[:, v_star_ind, q_star_ind]\n",
    "w_qsi_star = w_lambda[:, v_star_ind, q_star_ind]"
   ]
  },
  {
   "cell_type": "markdown",
   "metadata": {},
   "source": [
    "## Plots"
   ]
  },
  {
   "cell_type": "code",
   "execution_count": null,
   "metadata": {},
   "outputs": [],
   "source": [
    "plt.style.use('arpm')\n",
    "\n",
    "x0 = max(np.sqrt(sig2_h_lambda[:, 0]).min(),\n",
    "         np.sqrt(sig2_h_lambda[:, -1]).min())\n",
    "x1 = min(np.sqrt(sig2_h_lambda[:, 0]).max(),\n",
    "         np.sqrt(sig2_h_lambda[:, -1]).max())\n",
    "xlim = [x0, x1]\n",
    "\n",
    "fig = plt.figure()\n",
    "\n",
    "# Non-robust\n",
    "ax11 = plt.subplot2grid((2, 4), (0, 0), colspan=2, rowspan=1)\n",
    "plt.plot(np.sqrt(sig2_h_lambda[:, 0]),\n",
    "         mu_h_lambda[:, 0])\n",
    "plt.plot(np.sqrt(sig2_h_lambda[v_star_ind, 0]),\n",
    "         mu_h_lambda[v_star_ind, 0],\n",
    "         '.', markersize=15, color='k')\n",
    "plt.legend(['Efficient frontier', 'Optimal holdings'])\n",
    "plt.ylabel('$E\\{Y_{h}\\}$')\n",
    "plt.xlabel('$Sd\\{Y_{h}\\}$')\n",
    "plt.xlim(xlim)\n",
    "str_opt = '$p =$ %1.2f %%' % np.float(100*p_span[0])\n",
    "plt.text(0.8, 0.1, str_opt, horizontalalignment='center',\n",
    "         verticalalignment='center', transform=ax11.transAxes)\n",
    "plt.title('Non-robust mean-variance efficient frontier', fontweight='bold')\n",
    "\n",
    "ax12 = plt.subplot2grid((2, 4), (1, 0), colspan=2, rowspan=2)\n",
    "colors = cm.get_cmap('Spectral')(np.arange(n_)/n_)[:, :3]\n",
    "for n in range(n_):\n",
    "    if n == 0:\n",
    "        plt.fill_between(np.sqrt(sig2_h_lambda[:, 0]),\n",
    "                         w_lambda[n, :, 0],\n",
    "                         np.zeros(v_), color=colors[n, :])\n",
    "    else:\n",
    "        plt.fill_between(np.sqrt(sig2_h_lambda[:, 0]),\n",
    "                         np.sum(w_lambda[:n+1, :, 0], axis=0),\n",
    "                         np.sum(w_lambda[:n, :, 0], axis=0),\n",
    "                         color=colors[n, :])\n",
    "plt.axvline(x=np.sqrt(sig2_h_lambda[v_star_ind, 0]), color='k')\n",
    "plt.ylabel('$w$')\n",
    "plt.xlabel('$Sd\\{Y_{h}\\}$')\n",
    "plt.xlim(xlim)\n",
    "plt.ylim([0, 1])\n",
    "plt.title('Non-robust portfolio weights', fontweight='bold')\n",
    "\n",
    "plt.tight_layout()\n",
    "\n",
    "# Robust\n",
    "ax21 = plt.subplot2grid((2, 4), (0, 2), colspan=2, rowspan=1)\n",
    "plt.plot(np.sqrt(sig2_h_lambda[:, -1]),\n",
    "         mu_h_lambda[:, -1])\n",
    "plt.plot(np.sqrt(sig2_h_lambda[v_star_ind, -1]),\n",
    "         mu_h_lambda[v_star_ind, -1],\n",
    "         '.', markersize=15, color='k')\n",
    "plt.legend(['Efficient frontier', 'Optimal holdings'])\n",
    "plt.ylabel('$E\\{Y_{h}\\}$')\n",
    "plt.xlabel('$Sd\\{Y_{h}\\}$')\n",
    "plt.xlim(xlim)\n",
    "str_opt = '$p =$ %1.2f %%' % np.float(100*p_span[-1])\n",
    "plt.text(0.8, 0.1, str_opt, horizontalalignment='center',\n",
    "         verticalalignment='center', transform=ax21.transAxes)\n",
    "plt.title('Robust mean-variance efficient frontier', fontweight='bold')\n",
    "add_logo(fig, axis=ax21, location=5, size_frac_x=1/8)\n",
    "plt.tight_layout()\n",
    "\n",
    "ax22 = plt.subplot2grid((2, 4), (1, 2), colspan=2, rowspan=1)\n",
    "colors = cm.get_cmap('Spectral')(np.arange(n_)/n_)[:, :3]\n",
    "for n in range(n_):\n",
    "    if n == 0:\n",
    "        plt.fill_between(np.sqrt(sig2_h_lambda[:, -1]),\n",
    "                         w_lambda[n, :, -1],\n",
    "                         np.zeros(v_), color=colors[n, :])\n",
    "    else:\n",
    "        plt.fill_between(np.sqrt(sig2_h_lambda[:, -1]),\n",
    "                         np.sum(w_lambda[:n+1, :, -1], axis=0),\n",
    "                         np.sum(w_lambda[:n, :, -1], axis=0),\n",
    "                         color=colors[n, :])\n",
    "plt.axvline(x=np.sqrt(sig2_h_lambda[v_star_ind, -1]), color='k')\n",
    "plt.ylabel('$w$')\n",
    "plt.xlabel('$Sd\\{Y_{h}\\}$')\n",
    "plt.xlim(xlim)\n",
    "plt.ylim([0, 1])\n",
    "plt.title('Robust portfolio weights', fontweight='bold')\n",
    "\n",
    "plt.tight_layout()"
   ]
  }
 ],
 "metadata": {
  "jupytext": {
   "encoding": "# -*- coding: utf-8 -*-",
   "executable": "/usr/bin/env python3"
  },
  "kernelspec": {
   "display_name": "Python 3",
   "language": "python",
   "name": "python3"
  }
 },
 "nbformat": 4,
 "nbformat_minor": 4
}
