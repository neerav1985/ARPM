{
 "cells": [
  {
   "cell_type": "markdown",
   "metadata": {},
   "source": [
    "# s_cointegration_detection [<img src=\"https://www.arpm.co/lab/icons/icon_permalink.png\" width=30 height=30 style=\"display: inline;\">](https://www.arpm.co/lab/redirect.php?code=s_cointegration_detection&codeLang=Python)\n",
    "For details, see [here](https://www.arpm.co/lab/redirect.php?permalink=s_cointegration_detection)."
   ]
  },
  {
   "cell_type": "code",
   "execution_count": null,
   "metadata": {},
   "outputs": [],
   "source": [
    "import numpy as np\n",
    "import pandas as pd\n",
    "import matplotlib.pyplot as plt\n",
    "\n",
    "from arpym.estimation.cointegration_fp import cointegration_fp\n",
    "from arpym.estimation.fit_var1 import fit_var1\n",
    "from arpym.tools.logo import add_logo"
   ]
  },
  {
   "cell_type": "markdown",
   "metadata": {},
   "source": [
    "## [Input parameters](https://www.arpm.co/lab/redirect.php?permalink=s_cointegration_detection-parameters)"
   ]
  },
  {
   "cell_type": "code",
   "execution_count": null,
   "metadata": {},
   "outputs": [],
   "source": [
    "t_in = 1260  # length of the in-sample time series (days)\n",
    "t_ = 2268  # length of the complete series (in and out-of-sample) (days)\n",
    "u = 0.35  # coefficient of linear combination\n",
    "l_select = 3  # selected eigenvector"
   ]
  },
  {
   "cell_type": "markdown",
   "metadata": {},
   "source": [
    "## [Step 0](https://www.arpm.co/lab/redirect.php?permalink=s_cointegration_detection-implementation-step00): Load data"
   ]
  },
  {
   "cell_type": "code",
   "execution_count": null,
   "metadata": {},
   "outputs": [],
   "source": [
    "tau = np.array([1, 2, 3, 5, 7, 10])\n",
    "path = '~/databases/global-databases/fixed-income/db_yields'\n",
    "x = pd.read_csv(path + '/data.csv', header=0, index_col=0)\n",
    "x = x[tau.astype(float).astype(str)].tail(t_).values"
   ]
  },
  {
   "cell_type": "markdown",
   "metadata": {},
   "source": [
    "## [Step 1](https://www.arpm.co/lab/redirect.php?permalink=s_cointegration_detection-implementation-step01): Select the in-sample and out-of-sample series"
   ]
  },
  {
   "cell_type": "code",
   "execution_count": null,
   "metadata": {},
   "outputs": [],
   "source": [
    "x_in = x[:t_in, :]  # in-sample series\n",
    "x_out = x[t_in:, :]  # out-of-sample series"
   ]
  },
  {
   "cell_type": "markdown",
   "metadata": {},
   "source": [
    "## [Step 2](https://www.arpm.co/lab/redirect.php?permalink=s_cointegration_detection-implementation-step02): Cointegrated eigenvectors"
   ]
  },
  {
   "cell_type": "code",
   "execution_count": null,
   "metadata": {},
   "outputs": [],
   "source": [
    "c_hat, _ = cointegration_fp(x_in)"
   ]
  },
  {
   "cell_type": "markdown",
   "metadata": {},
   "source": [
    "## [Step 3](https://www.arpm.co/lab/redirect.php?permalink=s_cointegration_detection-implementation-step03): In sample and out-of-sample cointegrated series"
   ]
  },
  {
   "cell_type": "code",
   "execution_count": null,
   "metadata": {},
   "outputs": [],
   "source": [
    "# store cointegrated vectors\n",
    "c_hat_sel = np.zeros((c_hat.shape[0], 3))\n",
    "c_hat_sel[:, 0] = c_hat[:, l_select+1]\n",
    "c_hat_sel[:, 1] = c_hat[:, l_select]\n",
    "c_hat_sel[:, 2] = (1 - u) * c_hat[:, l_select + 1] + u * \\\n",
    "    c_hat[:, l_select]\n",
    "\n",
    "# in-sample cointegrated series (basis points)\n",
    "y_in = x_in @ c_hat_sel * 10000\n",
    "# out-of-sample cointegrated series (basis points)\n",
    "y_out = x_out @ c_hat_sel * 10000"
   ]
  },
  {
   "cell_type": "markdown",
   "metadata": {},
   "source": [
    "## [Step 4](https://www.arpm.co/lab/redirect.php?permalink=s_cointegration_detection-implementation-step04): AR(1) long term parameters"
   ]
  },
  {
   "cell_type": "code",
   "execution_count": null,
   "metadata": {},
   "outputs": [],
   "source": [
    "exp_infty = np.zeros(3)\n",
    "sd_infty = np.zeros(3)\n",
    "tau_halflife = np.zeros(3)\n",
    "\n",
    "for k in range(3):\n",
    "\n",
    "    # AR1 fit\n",
    "    b_hat, mu_hat_epsi, sig2_hat_epsi = fit_var1(y_in[:, [k]])\n",
    "\n",
    "    # long-run expectation\n",
    "    exp_infty[k] = mu_hat_epsi / (1 - b_hat)\n",
    "\n",
    "    # long-run standard deviation\n",
    "    sd_infty[k] = np.sqrt(sig2_hat_epsi / (1 - b_hat ** 2))\n",
    "\n",
    "    # half life\n",
    "    tau_halflife[k] = -np.log(2) / np.log(abs(b_hat))"
   ]
  },
  {
   "cell_type": "markdown",
   "metadata": {},
   "source": [
    "## Plots"
   ]
  },
  {
   "cell_type": "code",
   "execution_count": null,
   "metadata": {},
   "outputs": [],
   "source": [
    "plt.style.use('arpm')\n",
    "\n",
    "for k in range(3):\n",
    "    fig = plt.figure()\n",
    "    min_y = min(min(y_in[:, k]), min(y_out[:, k]))\n",
    "    max_y = max(max(y_in[:, k]), max(y_out[:, k]))\n",
    "\n",
    "    t = np.arange(t_)/252\n",
    "    plt.axis([0, t[-1], min_y, max_y])\n",
    "    plt.xlabel('time (years)')\n",
    "    plt.ylabel('basis points')\n",
    "    plt.xticks()\n",
    "    plt.yticks()\n",
    "    insample = plt.plot(t[:t_in], y_in[:, k], color='k', linewidth=1)\n",
    "    outofsample = plt.plot(t[t_in:], y_out[:, k], color='b', linewidth=1)\n",
    "    expect = plt.plot(t, np.tile(exp_infty[k], t_), color='g')\n",
    "    up_sd = plt.plot(t, np.tile(exp_infty[k] + 2 * sd_infty[k], t_),\n",
    "                     color='r')\n",
    "    plt.plot(t, np.tile(exp_infty[k] - 2 * sd_infty[k], t_),\n",
    "             color='r')\n",
    "    plt.legend(handles=[insample[0], expect[0], up_sd[0], outofsample[0]],\n",
    "               labels=['In-Sample', 'In-Sample Mean',\n",
    "                       '+/- 2 In-Sample St. Dev', 'Out-of-Sample'], loc=2)\n",
    "\n",
    "    if k == 0:\n",
    "        plt.title(('Series = {index}-th Eigvect. In-Sample Mean-Reversion ' +\n",
    "                   'Half-Life = ' +\n",
    "                   ' {halflife:.0f} days.').format(index=l_select,\n",
    "                                                   halflife=tau_halflife[k]))\n",
    "    elif k == 1:\n",
    "        plt.title(('Series = {index}-th Eigvect. In-Sample Mean-Reversion ' +\n",
    "                   'Half-Life = ' +\n",
    "                   ' {halflife:.0f} days.').format(index=l_select+1,\n",
    "                                                   halflife=tau_halflife[k]))\n",
    "    else:\n",
    "        plt.title(('Series = {a:1.2f} x {index}-th Eigvect. + ' +\n",
    "                   '{a2:1.2f} x {index2}-th Eigvect.' +\n",
    "                   '\\nIn-Sample Mean-Reversion Half-Life ' +\n",
    "                   '= {halflife:.0f} days.').format(a=np.sqrt(1-u**2),\n",
    "                                                    index=l_select,\n",
    "                                                    a2=u**2,\n",
    "                                                    index2=l_select+1,\n",
    "                                                    halflife=tau_halflife[k]))\n",
    "    add_logo(fig)\n",
    "    plt.tight_layout()"
   ]
  }
 ],
 "metadata": {
  "jupytext": {
   "encoding": "# -*- coding: utf-8 -*-",
   "executable": "/usr/bin/env python3"
  },
  "kernelspec": {
   "display_name": "Python 3",
   "language": "python",
   "name": "python3"
  }
 },
 "nbformat": 4,
 "nbformat_minor": 4
}
