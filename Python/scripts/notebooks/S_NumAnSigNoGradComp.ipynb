{
 "cells": [
  {
   "cell_type": "markdown",
   "metadata": {},
   "source": [
    "# S_NumAnSigNoGradComp [<img src=\"https://www.arpm.co/lab/icons/icon_permalink.png\" width=30 height=30 style=\"display: inline;\">](https://www.arpm.co/lab/redirect.php?code=S_NumAnSigNoGradComp&codeLang=Python)\n",
    "For details, see [here](https://www.arpm.co/lab/redirect.php?permalink=eb-comp-num-an-sig-no-grad)."
   ]
  },
  {
   "cell_type": "markdown",
   "metadata": {},
   "source": [
    "## Prepare the environment"
   ]
  },
  {
   "cell_type": "code",
   "execution_count": null,
   "metadata": {},
   "outputs": [],
   "source": [
    "import os\n",
    "import os.path as path\n",
    "import sys\n",
    "\n",
    "from scipy.io import loadmat\n",
    "from tqdm import trange\n",
    "\n",
    "sys.path.append(path.abspath('../../functions-legacy'))\n",
    "from collections import namedtuple\n",
    "\n",
    "from numpy import ones, zeros, diag, eye, round, log, array\n",
    "from numpy.linalg import norm\n",
    "from numpy.random import randn\n",
    "\n",
    "import matplotlib.pyplot as plt\n",
    "from matplotlib.pyplot import figure, bar, title\n",
    "\n",
    "plt.style.use('seaborn')\n",
    "\n",
    "from ARPM_utils import save_plot\n",
    "from HistogramFP import HistogramFP\n",
    "from SigNoConstrLRD import SigNoConstrLRD\n",
    "from numjacobian import numjacobian\n",
    "\n",
    "# input parameters\n",
    "j_ = 100  # number of simulations\n",
    "n_ = 3  # market dimension\n",
    "k_ = 2  # number of factors\n",
    "m_ = 1  # number of constraints"
   ]
  },
  {
   "cell_type": "markdown",
   "metadata": {},
   "source": [
    "## Specify the constraint function with random parameters"
   ]
  },
  {
   "cell_type": "code",
   "execution_count": null,
   "metadata": {},
   "outputs": [],
   "source": [
    "a = randn(m_, n_)\n",
    "q = randn(m_, 1)\n",
    "\n",
    "# set constant matrices for derivatives\n",
    "i_n = eye(n_)\n",
    "matrix = namedtuple('matrix','hm hm2 km1')\n",
    "matrix.hm = diag(i_n.flatten())\n",
    "matrix.hm2 = array([])\n",
    "matrix.km1 = array([])\n",
    "\n",
    "# constraint function\n",
    "v = lambda theta: SigNoConstrLRD(theta, a, q, n_, k_, matrix)[0]\n",
    "v2 = lambda theta: SigNoConstrLRD(theta, a, q, n_, k_, matrix)[1]"
   ]
  },
  {
   "cell_type": "markdown",
   "metadata": {},
   "source": [
    "## Main computations"
   ]
  },
  {
   "cell_type": "code",
   "execution_count": null,
   "metadata": {},
   "outputs": [],
   "source": [
    "err = zeros((j_, 1))\n",
    "for j in trange(j_,desc='Simulations'):\n",
    "    # Set random variables\n",
    "    theta_ = randn(n_ + n_*k_ + n_, 1)\n",
    "    # Compute numerical gradient\n",
    "    ngrad = numjacobian(v, theta_)[0]\n",
    "    ngrad = ngrad.T\n",
    "    # Compute analytical gradient\n",
    "    angrad = v2(theta_).reshape(-1,1)\n",
    "    # Compute relative error in Frobenius norm\n",
    "    err[j] = norm(angrad - ngrad, ord='fro') / norm(angrad, ord='fro')"
   ]
  },
  {
   "cell_type": "markdown",
   "metadata": {},
   "source": [
    "## Display the relative error"
   ]
  },
  {
   "cell_type": "code",
   "execution_count": null,
   "metadata": {},
   "outputs": [],
   "source": [
    "nbins = round(10*log(j_))\n",
    "figure()\n",
    "\n",
    "p = ones((1, len(err))) / len(err)\n",
    "option = namedtuple('option', 'n_bins')\n",
    "\n",
    "option.n_bins = nbins\n",
    "ax = plt.gca()\n",
    "[n, x] = HistogramFP(err.T, p, option)\n",
    "b = bar(x[:-1], n[0], width=x[1]-x[0], facecolor= [.7, .7, .7])\n",
    "ax.ticklabel_format(axis='x', style='sci', scilimits=(-2,2))\n",
    "ax.ticklabel_format(axis='y', style='sci', scilimits=(-2,2))\n",
    "plt.grid(True)\n",
    "title('Relative error');\n",
    "# save_plot(ax=plt.gca(), extension='png', scriptname=os.path.basename('.')[:-3], count=plt.get_fignums()[-1])"
   ]
  }
 ],
 "metadata": {
  "jupytext": {
   "encoding": "# -*- coding: utf-8 -*-",
   "executable": "/usr/bin/env python3"
  },
  "kernelspec": {
   "display_name": "Python 3",
   "language": "python",
   "name": "python3"
  }
 },
 "nbformat": 4,
 "nbformat_minor": 4
}
