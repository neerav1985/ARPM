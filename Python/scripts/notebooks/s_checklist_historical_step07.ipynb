{
 "cells": [
  {
   "cell_type": "markdown",
   "metadata": {},
   "source": [
    "# s_checklist_historical_step07 [<img src=\"https://www.arpm.co/lab/icons/icon_permalink.png\" width=30 height=30 style=\"display: inline;\">](https://www.arpm.co/lab/redirect.php?code=s_checklist_historical_step07&codeLang=Python)\n",
    "For details, see [here](https://www.arpm.co/lab/redirect.php?permalink=ex-vue-7-historical)."
   ]
  },
  {
   "cell_type": "code",
   "execution_count": null,
   "metadata": {},
   "outputs": [],
   "source": [
    "import numpy as np\n",
    "import pandas as pd\n",
    "\n",
    "from arpym.portfolio.spectral_index import spectral_index\n",
    "from arpym.statistics.meancov_sp import meancov_sp\n",
    "from arpym.statistics.quantile_sp import quantile_sp"
   ]
  },
  {
   "cell_type": "markdown",
   "metadata": {},
   "source": [
    "## [Input parameters](https://www.arpm.co/lab/redirect.php?permalink=s_checklist_historical_step07-parameters)"
   ]
  },
  {
   "cell_type": "code",
   "execution_count": null,
   "metadata": {},
   "outputs": [],
   "source": [
    "lam = 3e-8  # parameter of exponential utility function\n",
    "c_quantile = 0.95  # confidence level for the quantile satisfaction measure\n",
    "c_es = 0.95  # confidence level for the negative expected shortfall"
   ]
  },
  {
   "cell_type": "markdown",
   "metadata": {},
   "source": [
    "## [Step 0](https://www.arpm.co/lab/redirect.php?permalink=s_checklist_historical_step07-implementation-step00): Load data"
   ]
  },
  {
   "cell_type": "code",
   "execution_count": null,
   "metadata": {},
   "outputs": [],
   "source": [
    "path = '~/databases/temporary-databases/'\n",
    "\n",
    "# Projection\n",
    "db_projection_tools = pd.read_csv(path+'db_projection_bootstrap_tools.csv')\n",
    "j_ = int(db_projection_tools['j_'][0])\n",
    "\n",
    "db_scenprob = pd.read_csv(path+'db_scenario_probs_bootstrap.csv')\n",
    "p = db_scenprob['p'].values\n",
    "\n",
    "# Pricing\n",
    "db_pricing = pd.read_csv(path+'db_pricing_historical.csv')\n",
    "pi_tnow_thor = db_pricing.values\n",
    "\n",
    "# Aggregation\n",
    "db_exante_perf = pd.read_csv(path+'db_exante_perf_historical.csv')\n",
    "y_h = db_exante_perf.values.squeeze()\n",
    "\n",
    "db_holdings = pd.read_csv(path+'db_holdings_historical.csv')\n",
    "h = np.squeeze(db_holdings.values)"
   ]
  },
  {
   "cell_type": "markdown",
   "metadata": {},
   "source": [
    "## [Step 1](https://www.arpm.co/lab/redirect.php?permalink=s_checklist_historical_step07-implementation-step01): Calculate certainty equivalent satisfaction measure"
   ]
  },
  {
   "cell_type": "code",
   "execution_count": null,
   "metadata": {},
   "outputs": [],
   "source": [
    "# expected utility\n",
    "exp_ut = p@(-np.exp(-lam*y_h))\n",
    "\n",
    "# certainty equivalent satisfaction measure\n",
    "ceq_yh = -(1 / lam)*np.log(-exp_ut)"
   ]
  },
  {
   "cell_type": "markdown",
   "metadata": {},
   "source": [
    "## [Step 2](https://www.arpm.co/lab/redirect.php?permalink=s_checklist_historical_step07-implementation-step02): Quantile satisfaction measure"
   ]
  },
  {
   "cell_type": "code",
   "execution_count": null,
   "metadata": {},
   "outputs": [],
   "source": [
    "# quantile\n",
    "q_yh = quantile_sp(1 - c_quantile, y_h, p, method='kernel_smoothing')"
   ]
  },
  {
   "cell_type": "markdown",
   "metadata": {},
   "source": [
    "## [Step 3](https://www.arpm.co/lab/redirect.php?permalink=s_checklist_historical_step07-implementation-step03): Expected shortfall satisfaction measure"
   ]
  },
  {
   "cell_type": "code",
   "execution_count": null,
   "metadata": {},
   "outputs": [],
   "source": [
    "# indicator function\n",
    "def indicator(x):\n",
    "    return (0 <= x and x <= 1-c_es)\n",
    "\n",
    "# spectrum function\n",
    "def spectr_es(x):\n",
    "    return (1 / (1 - c_es)) * indicator(x)\n",
    "\n",
    "# negative expected shortfall\n",
    "es_yh, _ = spectral_index(spectr_es, pi_tnow_thor,\n",
    "                          p, h)"
   ]
  },
  {
   "cell_type": "markdown",
   "metadata": {},
   "source": [
    "## [Step 4](https://www.arpm.co/lab/redirect.php?permalink=s_checklist_historical_step07-implementation-step04): Expectation and variance satisfaction measures"
   ]
  },
  {
   "cell_type": "code",
   "execution_count": null,
   "metadata": {},
   "outputs": [],
   "source": [
    "# expectation satisfaction measure\n",
    "mean_yh, var_yh = meancov_sp(y_h, p)\n",
    "# opposite of variance is satisfaction measure\n",
    "neg_var_yh = -var_yh"
   ]
  },
  {
   "cell_type": "markdown",
   "metadata": {},
   "source": [
    "## [Step 5](https://www.arpm.co/lab/redirect.php?permalink=s_checklist_historical_step07-implementation-step05): Save database"
   ]
  },
  {
   "cell_type": "code",
   "execution_count": null,
   "metadata": {},
   "outputs": [],
   "source": [
    "out = pd.DataFrame({'ceq_yh': pd.Series(ceq_yh),\n",
    "                    'q_yh': pd.Series(q_yh),\n",
    "                    'es_yh': pd.Series(es_yh),\n",
    "                    'mean_yh': pd.Series(mean_yh),\n",
    "                    'neg_var_yh': pd.Series(neg_var_yh),\n",
    "                    'c_es': pd.Series(c_es),\n",
    "                    'c_quantile': pd.Series(c_quantile)})\n",
    "\n",
    "out.to_csv(path+'db_quantile_and_satis_historical.csv',\n",
    "       index=False)\n",
    "    \n",
    "del out"
   ]
  }
 ],
 "metadata": {
  "jupytext": {
   "encoding": "# -*- coding: utf-8 -*-",
   "executable": "/usr/bin/env python3"
  },
  "kernelspec": {
   "display_name": "Python 3",
   "language": "python",
   "name": "python3"
  }
 },
 "nbformat": 4,
 "nbformat_minor": 4
}
