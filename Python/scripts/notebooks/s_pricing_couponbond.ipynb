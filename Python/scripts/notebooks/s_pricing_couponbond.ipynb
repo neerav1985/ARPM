{
 "cells": [
  {
   "cell_type": "markdown",
   "metadata": {},
   "source": [
    "# s_pricing_couponbond [<img src=\"https://www.arpm.co/lab/icons/icon_permalink.png\" width=30 height=30 style=\"display: inline;\">](https://www.arpm.co/lab/redirect.php?code=s_pricing_couponbond&codeLang=Python)\n",
    "For details, see [here](https://www.arpm.co/lab/redirect.php?permalink=s_pricing_couponbond)."
   ]
  },
  {
   "cell_type": "code",
   "execution_count": null,
   "metadata": {},
   "outputs": [],
   "source": [
    "import numpy as np\n",
    "import pandas as pd\n",
    "from scipy import interpolate\n",
    "import matplotlib.pyplot as plt\n",
    "\n",
    "from arpym.pricing.bond_value import bond_value\n",
    "from arpym.pricing.cash_flow_reinv import cash_flow_reinv\n",
    "from arpym.pricing.shadowrates_ytm import shadowrates_ytm\n",
    "from arpym.statistics.meancov_sp import meancov_sp\n",
    "from arpym.tools.histogram_sp import histogram_sp\n",
    "from arpym.tools.logo import add_logo"
   ]
  },
  {
   "cell_type": "markdown",
   "metadata": {},
   "source": [
    "## [Input parameters](https://www.arpm.co/lab/redirect.php?permalink=s_pricing_couponbond-parameters)"
   ]
  },
  {
   "cell_type": "code",
   "execution_count": null,
   "metadata": {},
   "outputs": [],
   "source": [
    "tau_hor = 60  # time to horizon (months)\n",
    "j_ = 1000  # number of scenarios\n",
    "yields = True  # True if using yields, False if using shadow rates\n",
    "c = 0.04  # annualized coupons (percentage of the face value)\n",
    "freq_paym = 1  # coupon payment frequency (years)\n",
    "value_plot = 0  # choose if visualizing the bond value\n",
    "cashflow_plot = 0  # choose if visualizing the cash flow\n",
    "pl_plot = 1  # choose if visualizing the P&L"
   ]
  },
  {
   "cell_type": "markdown",
   "metadata": {},
   "source": [
    "## [Step 0](https://www.arpm.co/lab/redirect.php?permalink=s_pricing_couponbond-implementation-step00): Upload data"
   ]
  },
  {
   "cell_type": "code",
   "execution_count": null,
   "metadata": {},
   "outputs": [],
   "source": [
    "# upload data from s_projection_yields_var1\n",
    "path = '~/databases/temporary-databases'\n",
    "if yields:\n",
    "    df = pd.read_csv(path + '/db_proj_scenarios_yield.csv', header=0)\n",
    "    rd_type = 'y'\n",
    "else:\n",
    "    df = pd.read_csv(path + '/db_proj_scenarios_shadowrate.csv', header=0)\n",
    "    rd_type = 'sr'\n",
    "j_m_, _ = df.shape\n",
    "df2 = pd.read_csv(path + '/db_proj_dates.csv', header=0, parse_dates=True)\n",
    "t_m = np.array(pd.to_datetime(df2.values.reshape(-1)), dtype='datetime64[D]')\n",
    "m_ = t_m.shape[0]-1\n",
    "deltat_m = np.busday_count(t_m[0], t_m[1])\n",
    "\n",
    "if tau_hor > m_:\n",
    "    print(\" Projection doesn't have data until given horizon!!! Horizon lowered to \", m_)\n",
    "    tau_hor = m_\n",
    "# number of monitoring times\n",
    "m_ = tau_hor\n",
    "t_m = t_m[:m_+1]\n",
    "tau = np.array(list(map(int, df.columns)))  # times to maturity\n",
    "d_ = tau.shape[0]\n",
    "x_tnow_thor = np.array(df).reshape(j_, int(j_m_/j_), d_)\n",
    "x_tnow_thor = x_tnow_thor[:j_, :m_+1, :]\n",
    "t_m[-1]"
   ]
  },
  {
   "cell_type": "markdown",
   "metadata": {},
   "source": [
    "## [Step 1](https://www.arpm.co/lab/redirect.php?permalink=s_pricing_couponbond-implementation-step01): Record dates and coupons of the bond"
   ]
  },
  {
   "cell_type": "code",
   "execution_count": null,
   "metadata": {},
   "outputs": [],
   "source": [
    "# number of coupons until bond maturity\n",
    "tend = np.datetime64('2022-06-29')  # bond time of maturity\n",
    "k_ = int(np.busday_count(t_m[0], tend)/(freq_paym*252))\n",
    "\n",
    "# record dates\n",
    "r = np.busday_offset(t_m[0], np.arange(1, k_+1)*int(freq_paym*252))\n",
    "# coupons\n",
    "coupon = c * freq_paym * np.ones(k_)"
   ]
  },
  {
   "cell_type": "markdown",
   "metadata": {},
   "source": [
    "## [Step 2](https://www.arpm.co/lab/redirect.php?permalink=s_pricing_couponbond-implementation-step02): Scenarios for bond value path"
   ]
  },
  {
   "cell_type": "code",
   "execution_count": null,
   "metadata": {},
   "outputs": [],
   "source": [
    "v_thor = np.array([bond_value(eval_t, x_tnow_thor[:, m, :], tau, coupon, r,\n",
    "                              rd_type)\n",
    "                   for m, eval_t in enumerate(t_m)]).T"
   ]
  },
  {
   "cell_type": "markdown",
   "metadata": {},
   "source": [
    "## [Step 3](https://www.arpm.co/lab/redirect.php?permalink=s_pricing_couponbond-implementation-step03): Scenarios for the reinvestment factor"
   ]
  },
  {
   "cell_type": "code",
   "execution_count": null,
   "metadata": {},
   "outputs": [],
   "source": [
    "inv_m = np.zeros((j_, m_))\n",
    "\n",
    "for m in range(len(t_m[:-1])):\n",
    "    interp = interpolate.interp1d(tau.flatten(),\n",
    "                                     x_tnow_thor[:, m, :],\n",
    "                                     axis=1, fill_value='extrapolate')\n",
    "    if yields:\n",
    "        y_0 = interp(0)\n",
    "    else:\n",
    "        y_0 = shadowrates_ytm(interp(0))\n",
    "    inv_m[:, m] = np.exp(deltat_m*y_0/252)"
   ]
  },
  {
   "cell_type": "markdown",
   "metadata": {},
   "source": [
    "## [Step 4](https://www.arpm.co/lab/redirect.php?permalink=s_pricing_couponbond-implementation-step04): Scenarios for the path of the cumulative cash flow"
   ]
  },
  {
   "cell_type": "code",
   "execution_count": null,
   "metadata": {},
   "outputs": [],
   "source": [
    "# include notional with last coupon\n",
    "coupon[-1] = coupon[-1] + 1\n",
    "\n",
    "# cash flow streams path scenarios\n",
    "cf_thor = cash_flow_reinv(coupon, r, t_m, inv_m)"
   ]
  },
  {
   "cell_type": "markdown",
   "metadata": {},
   "source": [
    "## [Step 5](https://www.arpm.co/lab/redirect.php?permalink=s_pricing_couponbond-implementation-step05): Scenarios for the P&L of the bond"
   ]
  },
  {
   "cell_type": "code",
   "execution_count": null,
   "metadata": {},
   "outputs": [],
   "source": [
    "v_tnow = v_thor[:, 0].reshape(-1, 1)\n",
    "pl_thor = v_thor - v_tnow + np.c_[np.zeros(j_), cf_thor]"
   ]
  },
  {
   "cell_type": "markdown",
   "metadata": {},
   "source": [
    "## [Step 6](https://www.arpm.co/lab/redirect.php?permalink=s_pricing_couponbond-implementation-step06): Scenario-probability expectations and standard deviations"
   ]
  },
  {
   "cell_type": "code",
   "execution_count": null,
   "metadata": {
    "lines_to_end_of_cell_marker": 2
   },
   "outputs": [],
   "source": [
    "mu_v_thor = np.zeros(m_+1)\n",
    "sig_v_thor = np.zeros(m_+1)\n",
    "mu_cf_thor = np.zeros(m_)\n",
    "sig_cf_thor = np.zeros(m_)\n",
    "mu_pl_thor = np.zeros(m_+1)\n",
    "sig_pl_thor = np.zeros(m_+1)\n",
    "\n",
    "# probabilities\n",
    "for m in range(len(t_m)):\n",
    "    mu_v_thor[m], sig1 = meancov_sp(v_thor[:, m].reshape(-1, 1))\n",
    "    sig_v_thor[m] = np.sqrt(sig1)\n",
    "\n",
    "    mu_pl_thor[m], sig1 = meancov_sp(pl_thor[:, m].reshape(-1, 1))\n",
    "    sig_pl_thor[m] = np.sqrt(sig1)\n",
    "\n",
    "for m in range(len(t_m)-1):\n",
    "    mu_cf_thor[m], sig1 = meancov_sp(cf_thor[:, m].reshape(-1, 1))\n",
    "    sig_cf_thor[m] = np.sqrt(sig1)"
   ]
  },
  {
   "cell_type": "markdown",
   "metadata": {},
   "source": [
    "## [Step 7](https://www.arpm.co/lab/redirect.php?permalink=s_pricing_couponbond-implementation-step07): Average yield scenarios at the horizon"
   ]
  },
  {
   "cell_type": "code",
   "execution_count": null,
   "metadata": {},
   "outputs": [],
   "source": [
    "if yields:\n",
    "    y_bar = np.mean(shadowrates_ytm(x_tnow_thor), axis=2)\n",
    "else:\n",
    "    y_bar = np.mean(x_tnow_thor, axis=2)"
   ]
  },
  {
   "cell_type": "markdown",
   "metadata": {},
   "source": [
    "## Plots"
   ]
  },
  {
   "cell_type": "code",
   "execution_count": null,
   "metadata": {},
   "outputs": [],
   "source": [
    "plt.style.use('arpm')\n",
    "lgrey = [0.8, 0.8, 0.8]  # light grey\n",
    "dgrey = [0.4, 0.4, 0.4]  # dark grey\n",
    "j_sel = 35  # selected MC simulations\n",
    "\n",
    "# select what to plot among value, cumulative cash flow and P&L of the bond\n",
    "y = []\n",
    "mu = []\n",
    "sig = []\n",
    "obj = []\n",
    "if value_plot:\n",
    "    y.append(v_thor[:])\n",
    "    mu.append(mu_v_thor[:])\n",
    "    sig.append(sig_v_thor[:])\n",
    "    obj.append('value')\n",
    "if cashflow_plot:\n",
    "    y.append(np.c_[np.zeros(j_), cf_thor[:]])\n",
    "    mu.append(np.r_[0, mu_cf_thor[:]])\n",
    "    sig.append(np.r_[0, sig_cf_thor[:]])\n",
    "    obj.append('cash flow')\n",
    "if pl_plot:\n",
    "    y.append(pl_thor[:])\n",
    "    mu.append(mu_pl_thor[:])\n",
    "    sig.append(sig_pl_thor[:])\n",
    "    obj.append('P&L')\n",
    "\n",
    "fig_num = value_plot + cashflow_plot + pl_plot\n",
    "for k in np.arange(fig_num):\n",
    "    y_plot = np.array(y[k])\n",
    "    mu_plot = np.array(mu[k])\n",
    "    sig_plot = np.array(sig[k])\n",
    "    obj_plot = obj[k]\n",
    "\n",
    "    # simulated path, mean and standard deviation\n",
    "\n",
    "    fig, axs = plt.subplots(2, 1)\n",
    "\n",
    "    axs[0].set_position([0.05, 0.15, 0.65, 0.60])\n",
    "    plt.sca(axs[0])\n",
    "    t_axis = np.busday_count(t_m[0], t_m)/252\n",
    "    plt.plot(t_axis.reshape(-1, 1), y_plot[:j_sel, :].T, color=lgrey, lw=1)\n",
    "    plt.yticks()\n",
    "    plt.ylabel('Bond %s' % obj_plot)\n",
    "    plt.xlabel('horizon')\n",
    "    plt.xlim([np.min(t_axis), np.max(t_axis)+3])\n",
    "    l2 = plt.plot(t_axis, mu_plot + sig_plot, color='r')\n",
    "    plt.plot(t_axis, mu_plot - sig_plot, color='r')\n",
    "    l1 = plt.plot(t_axis, mu_plot, color='g')\n",
    "\n",
    "    # empirical pdf\n",
    "    p = np.ones(j_) / j_\n",
    "    y_hist, x_hist = histogram_sp(y_plot[:, -1], k_=10*np.log(j_))\n",
    "    y_hist = y_hist/10 # adapt the hist height to the current xaxis scale\n",
    "    shift_y_hist = tau_hor/12 + y_hist\n",
    "\n",
    "    emp_pdf = plt.barh(x_hist, y_hist, left=t_axis[-1],\n",
    "                       height=x_hist[1]-x_hist[0], facecolor=lgrey,\n",
    "                       edgecolor=lgrey)\n",
    "\n",
    "    plt.plot(shift_y_hist, x_hist, color=dgrey, lw=1)\n",
    "    plt.plot([t_axis[-1], t_axis[-1]], [x_hist[0], x_hist[-1]], color=dgrey,\n",
    "             lw=0.5)\n",
    "    plt.legend(handles=[l1[0], l2[0], emp_pdf[0]],\n",
    "               labels=['mean', ' + / - st.deviation', 'horizon pdf'])\n",
    "    title = 'Coupon bond projected ' + obj_plot + ' at the horizon of ' + \\\n",
    "        str(tau_hor/12)+' years'\n",
    "    plt.title(title)\n",
    "\n",
    "    # scatter plot\n",
    "\n",
    "    mydpi = 72.0\n",
    "    axs[1].set_position([0.75, 0.25, 0.25, 0.40])\n",
    "    plt.sca(axs[1])\n",
    "    plt.xticks()\n",
    "    plt.yticks()\n",
    "    plt.scatter(y_bar[:, -1], y_plot[:, -1], 3, [dgrey], '*')\n",
    "    plt.xlabel('Average yield')\n",
    "    plt.ylabel('Coupon bond %s' % obj_plot)\n",
    "    plt.title('Coupon bond %s vs. yields average' % obj_plot)\n",
    "\n",
    "    add_logo(fig, axis=axs[0], size_frac_x=1/12)"
   ]
  }
 ],
 "metadata": {
  "jupytext": {
   "encoding": "# -*- coding: utf-8 -*-",
   "executable": "/usr/bin/env python3"
  },
  "kernelspec": {
   "display_name": "Python 3",
   "language": "python",
   "name": "python3"
  }
 },
 "nbformat": 4,
 "nbformat_minor": 4
}
