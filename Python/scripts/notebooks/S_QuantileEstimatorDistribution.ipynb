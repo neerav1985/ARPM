{
 "cells": [
  {
   "cell_type": "markdown",
   "metadata": {},
   "source": [
    "# S_QuantileEstimatorDistribution [<img src=\"https://www.arpm.co/lab/icons/icon_permalink.png\" width=30 height=30 style=\"display: inline;\">](https://www.arpm.co/lab/redirect.php?code=S_QuantileEstimatorDistribution&codeLang=Python)\n",
    "For details, see [here](https://www.arpm.co/lab/redirect.php?permalink=ExerQuantPdf)."
   ]
  },
  {
   "cell_type": "markdown",
   "metadata": {},
   "source": [
    "## Prepare the environment"
   ]
  },
  {
   "cell_type": "code",
   "execution_count": null,
   "metadata": {},
   "outputs": [],
   "source": [
    "import os\n",
    "import os.path as path\n",
    "import sys\n",
    "\n",
    "sys.path.append(path.abspath('../../functions-legacy'))\n",
    "\n",
    "from numpy import arange, round\n",
    "from numpy import max as npmax\n",
    "\n",
    "from scipy.stats import norm\n",
    "from scipy.misc import comb\n",
    "\n",
    "import matplotlib.pyplot as plt\n",
    "from matplotlib.pyplot import figure, plot, legend, scatter, title\n",
    "\n",
    "plt.style.use('seaborn')\n",
    "\n",
    "from ARPM_utils import save_plot"
   ]
  },
  {
   "cell_type": "markdown",
   "metadata": {},
   "source": [
    "## Compute the analytical pdf of the HFP-quantile estimator"
   ]
  },
  {
   "cell_type": "code",
   "execution_count": null,
   "metadata": {},
   "outputs": [],
   "source": [
    "t_ = 150  # len of the time series\n",
    "\n",
    "c = 0.35  # confidence level\n",
    "\n",
    "x = arange(-4,4.01,0.01)\n",
    "F_x = norm.cdf(x)\n",
    "f_x = norm.pdf(x)\n",
    "ct_ = round(c*t_)\n",
    "# HFP-quantile estimator's pdf\n",
    "f_qc = ct_*comb(t_, ct_)*(F_x ** (ct_ - 1)) * ((1 - F_x) ** (t_ - ct_)) * f_x"
   ]
  },
  {
   "cell_type": "markdown",
   "metadata": {},
   "source": [
    "## Compute the true value for the HFP-quantile"
   ]
  },
  {
   "cell_type": "code",
   "execution_count": null,
   "metadata": {},
   "outputs": [],
   "source": [
    "q_c = norm.ppf(c)"
   ]
  },
  {
   "cell_type": "markdown",
   "metadata": {},
   "source": [
    "## Create figure"
   ]
  },
  {
   "cell_type": "code",
   "execution_count": null,
   "metadata": {},
   "outputs": [],
   "source": [
    "blue = [0, .4, 1]\n",
    "green = [0.1, 0.8, 0]\n",
    "\n",
    "figure()\n",
    "HFP = plot(x, f_qc, lw=1.5,color=blue)\n",
    "TRUE = scatter([q_c, q_c], [0, 0], 40, green, marker='.')\n",
    "legend(['HFP-quantile pdf','true quantile'])\n",
    "title('pdf of order statistics')\n",
    "T = 'time series len =  % 3.0f'%t_\n",
    "plt.text(3.93, 0.84*npmax(f_qc), T, color='k',horizontalalignment='right')\n",
    "C = 'confidence level =  % 1.2f' %c\n",
    "plt.text(3.93, 0.77*npmax(f_qc), C, color='k',horizontalalignment='right');\n",
    "# save_plot(ax=plt.gca(), extension='png', scriptname=os.path.basename('.')[:-3], count=plt.get_fignums()[-1])"
   ]
  }
 ],
 "metadata": {
  "jupytext": {
   "encoding": "# -*- coding: utf-8 -*-",
   "executable": "/usr/bin/env python3"
  },
  "kernelspec": {
   "display_name": "Python 3",
   "language": "python",
   "name": "python3"
  }
 },
 "nbformat": 4,
 "nbformat_minor": 4
}
