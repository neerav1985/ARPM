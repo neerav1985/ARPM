{
 "cells": [
  {
   "cell_type": "markdown",
   "metadata": {},
   "source": [
    "# s_kolmsmirn_compret [<img src=\"https://www.arpm.co/lab/icons/icon_permalink.png\" width=30 height=30 style=\"display: inline;\">](https://www.arpm.co/lab/redirect.php?code=s_kolmsmirn_compret&codeLang=Python)\n",
    "For details, see [here](https://www.arpm.co/lab/redirect.php?permalink=exer-comp-rets-copy-1)."
   ]
  },
  {
   "cell_type": "code",
   "execution_count": null,
   "metadata": {},
   "outputs": [],
   "source": [
    "import numpy as np\n",
    "import pandas as pd\n",
    "import matplotlib.pyplot as plt\n",
    "\n",
    "from arpym.statistics.invariance_test_ks import invariance_test_ks\n",
    "from arpym.tools.adjusted_value import adjusted_value\n",
    "from arpym.tools.logo import add_logo"
   ]
  },
  {
   "cell_type": "markdown",
   "metadata": {},
   "source": [
    "## [Input parameters](https://www.arpm.co/lab/redirect.php?permalink=s_kolmsmirn_compret-parameters)"
   ]
  },
  {
   "cell_type": "code",
   "execution_count": null,
   "metadata": {},
   "outputs": [],
   "source": [
    "t_first = '25-2-2010'  # starting date\n",
    "t_last = '17-7-2012'  # ending date\n",
    "fwd = True  # indicator for forward of backward adjusted value\n",
    "conf_lev = 0.95  # confidence level"
   ]
  },
  {
   "cell_type": "markdown",
   "metadata": {},
   "source": [
    "## [Step 0](https://www.arpm.co/lab/redirect.php?permalink=s_kolmsmirn_compret-implementation-step00): Load data"
   ]
  },
  {
   "cell_type": "code",
   "execution_count": null,
   "metadata": {},
   "outputs": [],
   "source": [
    "# loading data from 03-01-1994 to 24-11-2017\n",
    "path = '~/databases/global-databases/equities/db_stocks_SP500/'\n",
    "df_nokia_stock = pd.read_csv(path + 'NOK_prices.csv',\n",
    "                             header=0)\n",
    "df_nok_dividends = pd.read_csv(path + 'NOK_dividends.csv',\n",
    "                               header=0)\n",
    "\n",
    "# convert column 'date' from string to datetime64\n",
    "df_nokia_stock['date_tmstmp'] = pd.to_datetime(df_nokia_stock.date,\n",
    "                                               dayfirst=True)\n",
    "df_nok_dividends['date_tmstmp'] = pd.to_datetime(df_nok_dividends.date,\n",
    "                                                 dayfirst=True)\n",
    "\n",
    "t_first = pd.to_datetime(t_first, dayfirst=True)\n",
    "t_last = pd.to_datetime(t_last, dayfirst=True)\n",
    "# filter the data for the selected range\n",
    "nok_stock_long = df_nokia_stock[(df_nokia_stock.date_tmstmp >= t_first) &\n",
    "                                (df_nokia_stock.date_tmstmp < t_last)]\n",
    "nok_dividends = df_nok_dividends[(df_nok_dividends.date_tmstmp >= t_first) &\n",
    "                                 (df_nok_dividends.date_tmstmp < t_last)]\n",
    "# extract values\n",
    "dates = nok_stock_long.date_tmstmp.values\n",
    "v_stock = nok_stock_long.close.values\n",
    "r = nok_dividends.date_tmstmp.values\n",
    "cf_r = nok_dividends.dividends.values"
   ]
  },
  {
   "cell_type": "markdown",
   "metadata": {},
   "source": [
    "## [Step 1](https://www.arpm.co/lab/redirect.php?permalink=s_kolmsmirn_compret-implementation-step01): Dividend-adjusted values and invariant series"
   ]
  },
  {
   "cell_type": "code",
   "execution_count": null,
   "metadata": {},
   "outputs": [],
   "source": [
    "v_adj = adjusted_value(v_stock, dates, cf_r, r, fwd)\n",
    "epsi = np.diff(np.log(v_adj))"
   ]
  },
  {
   "cell_type": "markdown",
   "metadata": {},
   "source": [
    "## [Step 2](https://www.arpm.co/lab/redirect.php?permalink=s_kolmsmirn_compret-implementation-step02): Perform Kolmogorov-Smirnov test"
   ]
  },
  {
   "cell_type": "code",
   "execution_count": null,
   "metadata": {},
   "outputs": [],
   "source": [
    "plt.style.use('arpm')\n",
    "\n",
    "# perform and show Kolmogorov-Smirnov test for invariance\n",
    "z_ks, z = invariance_test_ks(epsi, conf_lev=conf_lev)\n",
    "fig = plt.gcf()\n",
    "add_logo(fig, set_fig_size=False, size_frac_x=1/8)"
   ]
  }
 ],
 "metadata": {
  "jupytext": {
   "encoding": "# -*- coding: utf-8 -*-",
   "executable": "/usr/bin/env python3"
  },
  "kernelspec": {
   "display_name": "Python 3",
   "language": "python",
   "name": "python3"
  }
 },
 "nbformat": 4,
 "nbformat_minor": 4
}
