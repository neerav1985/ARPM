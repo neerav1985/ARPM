{
 "cells": [
  {
   "cell_type": "markdown",
   "metadata": {},
   "source": [
    "# s_pricing_stock_hfp [<img src=\"https://www.arpm.co/lab/icons/icon_permalink.png\" width=30 height=30 style=\"display: inline;\">](https://www.arpm.co/lab/redirect.php?code=s_pricing_stock_hfp&codeLang=Python)\n",
    "For details, see [here](https://www.arpm.co/lab/redirect.php?permalink=eb-stock-pl-unitary-hor)."
   ]
  },
  {
   "cell_type": "code",
   "execution_count": null,
   "metadata": {},
   "outputs": [],
   "source": [
    "import numpy as np\n",
    "import pandas as pd\n",
    "import matplotlib.pyplot as plt\n",
    " \n",
    "from arpym.tools.histogram_sp import histogram_sp\n",
    "from arpym.tools.logo import add_logo"
   ]
  },
  {
   "cell_type": "markdown",
   "metadata": {},
   "source": [
    "## [Step 0](https://www.arpm.co/lab/redirect.php?permalink=s_pricing_stock_hfp-implementation-step00): Upload data"
   ]
  },
  {
   "cell_type": "code",
   "execution_count": null,
   "metadata": {},
   "outputs": [],
   "source": [
    "data = pd.read_csv('~/databases/temporary-databases/stocks_proj_hfp.csv')\n",
    "\n",
    "x_t_hor = data['x_t_hor'] # scenario-probability distribution of log-value\n",
    "p = data['p'] \n",
    "x = data['x'] \n",
    "x_t_now = x[0] # log-value at the current time"
   ]
  },
  {
   "cell_type": "markdown",
   "metadata": {},
   "source": [
    "## [Step 1](https://www.arpm.co/lab/redirect.php?permalink=s_pricing_stock_hfp-implementation-step01): Compute scenario-probability distribution of the equity P&L"
   ]
  },
  {
   "cell_type": "code",
   "execution_count": null,
   "metadata": {},
   "outputs": [],
   "source": [
    "v_t_now = np.exp(x_t_now) # current value of AMZN\n",
    "pl_t_hor = v_t_now*(np.exp(x_t_hor-x_t_now) - 1) # distribution of the P&L"
   ]
  },
  {
   "cell_type": "markdown",
   "metadata": {},
   "source": [
    "## [Step 2](https://www.arpm.co/lab/redirect.php?permalink=s_pricing_stock_hfp-implementation-step02): Histogram of the AMZN's equity P&L distribution"
   ]
  },
  {
   "cell_type": "code",
   "execution_count": null,
   "metadata": {},
   "outputs": [],
   "source": [
    "h, b = histogram_sp(pl_t_hor, p=p, k_=10 * np.log(np.shape(x_t_hor)))"
   ]
  },
  {
   "cell_type": "markdown",
   "metadata": {},
   "source": [
    "## Plots"
   ]
  },
  {
   "cell_type": "code",
   "execution_count": null,
   "metadata": {},
   "outputs": [],
   "source": [
    "# settings\n",
    "plt.style.use('arpm')\n",
    "mydpi = 72.0\n",
    "colhist = [.75, .75, .75]\n",
    "coledges = [.3, .3, .3]\n",
    "fig, ax = plt.subplots()\n",
    "ax.set_facecolor('white')\n",
    "plt.bar(b, h, width=b[1]-b[0], facecolor=colhist, edgecolor=coledges)\n",
    "plt.xlabel('P&L')\n",
    "plt.xticks()\n",
    "plt.yticks()\n",
    "\n",
    "add_logo(fig, location=1)\n",
    "plt.tight_layout()"
   ]
  }
 ],
 "metadata": {
  "jupytext": {
   "encoding": "# -*- coding: utf-8 -*-",
   "executable": "/usr/bin/env python3"
  },
  "kernelspec": {
   "display_name": "Python 3",
   "language": "python",
   "name": "python3"
  }
 },
 "nbformat": 4,
 "nbformat_minor": 4
}
