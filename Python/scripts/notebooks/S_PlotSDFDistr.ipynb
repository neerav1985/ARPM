{
 "cells": [
  {
   "cell_type": "markdown",
   "metadata": {},
   "source": [
    "# S_PlotSDFDistr [<img src=\"https://www.arpm.co/lab/icons/icon_permalink.png\" width=30 height=30 style=\"display: inline;\">](https://www.arpm.co/lab/redirect.php?code=S_PlotSDFDistr&codeLang=Python)\n",
    "For details, see [here](https://www.arpm.co/lab/redirect.php?permalink=eb-sdfcomparison)."
   ]
  },
  {
   "cell_type": "markdown",
   "metadata": {},
   "source": [
    "## Prepare the environment"
   ]
  },
  {
   "cell_type": "code",
   "execution_count": null,
   "metadata": {},
   "outputs": [],
   "source": [
    "import os\n",
    "import os.path as path\n",
    "import sys\n",
    "\n",
    "sys.path.append(path.abspath('../../functions-legacy'))\n",
    "\n",
    "from numpy import arange, ones, zeros, diag, eye, exp, sqrt, tile, diagflat\n",
    "from numpy import sum as npsum, min as npmin, max as npmax\n",
    "from numpy.linalg import solve\n",
    "from numpy.random import multivariate_normal as mvnrnd\n",
    "\n",
    "from scipy.stats import norm, uniform\n",
    "\n",
    "import matplotlib.pyplot as plt\n",
    "from matplotlib.pyplot import figure, plot, legend, xlim, ylim\n",
    "\n",
    "plt.style.use('seaborn')\n",
    "\n",
    "from ARPM_utils import save_plot\n",
    "from SDFkern import SDFkern\n",
    "\n",
    "# parameter\n",
    "\n",
    "# parameters\n",
    "n_ = 250\n",
    "j_ = 500\n",
    "r = 0.05\n",
    "a_p = 0.7\n",
    "b_p = 1\n",
    "a_sdf = 0\n",
    "b_sdf = 0.9\n",
    "rho = 0.7"
   ]
  },
  {
   "cell_type": "markdown",
   "metadata": {},
   "source": [
    "## Generate the payoff matrix"
   ]
  },
  {
   "cell_type": "code",
   "execution_count": null,
   "metadata": {},
   "outputs": [],
   "source": [
    "# Generate the normal vector\n",
    "c2 = rho*ones((n_, n_)) + (1 - rho)*eye(n_)  # correlation matrix\n",
    "x = mvnrnd(zeros(n_), c2, j_).T\n",
    "\n",
    "# Generate the payoffs\n",
    "v_pay = ones((n_, j_))\n",
    "v_pay[1] = exp(x[1]) / (sqrt(exp(1) - 1)*exp(0.5))\n",
    "v_pay[2::2,:] = (exp(x[2::2,:])-exp(0.5) / (sqrt(exp(1) - 1))*exp(0.5))\n",
    "v_pay[3::2,:] = (-exp(-x[3::2,:])+exp(0.5) / (sqrt(exp(1) - 1))*exp(0.5))\n",
    "v_pay[2:,:] = diagflat(uniform.rvs(loc=0.8, scale=0.2, size=(n_ - 2, 1)))@v_pay[2:,:]  # rescaling\n",
    "v_pay[2:,:] = v_pay[2:,:]+tile(uniform.rvs(loc=-0.3, scale=1, size=(n_ - 2, 1)), (1, j_))  # shift"
   ]
  },
  {
   "cell_type": "markdown",
   "metadata": {},
   "source": [
    "## Compute the probabilities"
   ]
  },
  {
   "cell_type": "code",
   "execution_count": null,
   "metadata": {},
   "outputs": [],
   "source": [
    "p = uniform.rvs(loc=a_p, scale=b_p-a_p, size=(j_, 1))\n",
    "p = p /npsum(p)"
   ]
  },
  {
   "cell_type": "markdown",
   "metadata": {},
   "source": [
    "## Compute the \"true\" Stochastic Discount Factor vector of scenarios"
   ]
  },
  {
   "cell_type": "code",
   "execution_count": null,
   "metadata": {},
   "outputs": [],
   "source": [
    "sdf_true = uniform.rvs(loc=a_sdf, scale=b_sdf-a_sdf, size=(1, j_))\n",
    "c = 1 / ((sdf_true@p)*(1 + r))\n",
    "sdf_true = sdf_true*c  # constraint on the expectation of SDF"
   ]
  },
  {
   "cell_type": "markdown",
   "metadata": {},
   "source": [
    "## Compute the current values vector"
   ]
  },
  {
   "cell_type": "code",
   "execution_count": null,
   "metadata": {},
   "outputs": [],
   "source": [
    "v = v_pay@diagflat(p)@sdf_true.T"
   ]
  },
  {
   "cell_type": "markdown",
   "metadata": {},
   "source": [
    "## Compute the projection Stochastic Discount Factor"
   ]
  },
  {
   "cell_type": "code",
   "execution_count": null,
   "metadata": {},
   "outputs": [],
   "source": [
    "sdf_proj = v.T@(solve(v_pay@diagflat(p)@v_pay.T,v_pay))"
   ]
  },
  {
   "cell_type": "markdown",
   "metadata": {},
   "source": [
    "## Compute the Kernel Stochastic Discount Factor"
   ]
  },
  {
   "cell_type": "code",
   "execution_count": null,
   "metadata": {},
   "outputs": [],
   "source": [
    "sdf_ker = SDFkern(v_pay, v, p)"
   ]
  },
  {
   "cell_type": "markdown",
   "metadata": {},
   "source": [
    "## Generate the figure"
   ]
  },
  {
   "cell_type": "code",
   "execution_count": null,
   "metadata": {},
   "outputs": [],
   "source": [
    "# Compute the gaussian smoothed histograms\n",
    "bw = 0.1  # band-width\n",
    "x = arange(npmin(sdf_true) - 5*bw,npmax(sdf_true) + 5*bw,0.01)\n",
    "\n",
    "# Gaussian smoothings\n",
    "Y = tile(x, (len(sdf_true), 1)) - tile(sdf_true.T, (1, len(x)))\n",
    "sdf_true = p.T@norm.pdf(Y, 0, bw)\n",
    "Y = tile(x, (len(sdf_proj), 1)) - tile(sdf_proj.T, (1, len(x)))\n",
    "sdf_proj = p.T@norm.pdf(Y, 0, bw)\n",
    "Y = tile(x, (len(sdf_ker), 1)) - tile(sdf_ker.T, (1, len(x)))\n",
    "sdf_ker = p.T@norm.pdf(Y, 0, bw)\n",
    "\n",
    "figure()\n",
    "plot(x, sdf_true[0])\n",
    "plot(x, sdf_proj[0], 'g')\n",
    "plot(x, sdf_ker[0], 'm')\n",
    "yl = ylim()\n",
    "plot([v[0], v[0]], [0, yl[1]], 'k--')\n",
    "ylim(yl)\n",
    "xlim([x[0], x[-1]])\n",
    "legend(['True SDF','Proj SDF','Kern SDF','Risk Free']);\n",
    "# save_plot(ax=plt.gca(), extension='png', scriptname=os.path.basename('.')[:-3], count=plt.get_fignums()[-1])"
   ]
  }
 ],
 "metadata": {
  "jupytext": {
   "encoding": "# -*- coding: utf-8 -*-",
   "executable": "/usr/bin/env python3"
  },
  "kernelspec": {
   "display_name": "Python 3",
   "language": "python",
   "name": "python3"
  }
 },
 "nbformat": 4,
 "nbformat_minor": 4
}
