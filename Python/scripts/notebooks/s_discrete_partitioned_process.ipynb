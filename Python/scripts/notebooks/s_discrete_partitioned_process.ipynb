{
 "cells": [
  {
   "cell_type": "markdown",
   "metadata": {},
   "source": [
    "# s_discrete_partitioned_process [<img src=\"https://www.arpm.co/lab/icons/icon_permalink.png\" width=30 height=30 style=\"display: inline;\">](https://www.arpm.co/lab/redirect.php?code=s_discrete_partitioned_process&codeLang=Python)\n",
    "For details, see [here](https://www.arpm.co/lab/redirect.php?permalink=s_discrete_partitioned_process)."
   ]
  },
  {
   "cell_type": "code",
   "execution_count": null,
   "metadata": {},
   "outputs": [],
   "source": [
    "import numpy as np\n",
    "from scipy.stats import multivariate_normal, norm\n",
    "from scipy.integrate import dblquad, nquad"
   ]
  },
  {
   "cell_type": "markdown",
   "metadata": {},
   "source": [
    "## [Input parameters](https://www.arpm.co/lab/redirect.php?permalink=s_discrete_partitioned_process-parameters)"
   ]
  },
  {
   "cell_type": "code",
   "execution_count": null,
   "metadata": {},
   "outputs": [],
   "source": [
    "mu = 0.05  # drift of underlying BM\n",
    "sig2 = 0.2  # variance of underlying BM\n",
    "v_0 = 20  # current value\n",
    "ev = np.array([[0, 0.5], [0, 0.5]])"
   ]
  },
  {
   "cell_type": "markdown",
   "metadata": {},
   "source": [
    "## [Step 1](https://www.arpm.co/lab/redirect.php?permalink=s_discrete_partitioned_process-implementation-step01): Brownian motion parameters"
   ]
  },
  {
   "cell_type": "code",
   "execution_count": null,
   "metadata": {},
   "outputs": [],
   "source": [
    "# expectation vector\n",
    "mu_x = np.array([np.log(v_0)+mu, np.log(v_0)+2*mu])\n",
    "# covariance matrix\n",
    "sig2_x = np.array([[sig2, sig2], [sig2, 2*sig2]])"
   ]
  },
  {
   "cell_type": "markdown",
   "metadata": {},
   "source": [
    "## [Step 2](https://www.arpm.co/lab/redirect.php?permalink=s_discrete_partitioned_process-implementation-step02): Partition"
   ]
  },
  {
   "cell_type": "code",
   "execution_count": null,
   "metadata": {},
   "outputs": [],
   "source": [
    "j_ = 3  # number of element of the partition\n",
    "x_j = np.append(np.append(-np.inf,\n",
    "                          np.linspace(np.log(v_0)+2*mu-np.sqrt(2*sig2),\n",
    "                                      np.log(v_0)+2*mu+np.sqrt(2*sig2), j_-1)),\n",
    "                np.inf)\n",
    "print(\"Δ(R)={X⁽¹⁾ = (%s, %.2f],\"\n",
    "      \"\\n      X⁽²⁾ = (%.2f, %.2f],\"\n",
    "      \"\\n      X⁽³⁾ = (%.2f, %s)}\"\n",
    "      % (x_j[0], x_j[1], x_j[1], x_j[2], x_j[2], x_j[3]))"
   ]
  },
  {
   "cell_type": "markdown",
   "metadata": {},
   "source": [
    "##  Step 3: Level 1 and level 2 partitions in sample space"
   ]
  },
  {
   "cell_type": "code",
   "execution_count": null,
   "metadata": {},
   "outputs": [],
   "source": [
    "sig = np.sqrt(sig2)\n",
    "x_1_inverse = (x_j-np.log(v_0)-mu)/sig\n",
    "# level 1 partition in the sample space\n",
    "delta_1_x = norm.cdf(x_1_inverse)\n",
    "print(\"Δ⁽¹⁾(Ω)={Δω⁽¹⁾ = [%.3f, %.3f] × [0, 1],\"\n",
    "      \"\\n         Δω⁽²⁾ = (%.3f, %.3f] × [0, 1],\"\n",
    "      \"\\n         Δω⁽³⁾ = (%.3f, %.3f] × [0, 1]}\"\n",
    "      % (delta_1_x[0], delta_1_x[1], delta_1_x[1],\n",
    "         delta_1_x[2], delta_1_x[2], delta_1_x[3]))\n",
    "# level 2 partition in the sample space\n",
    "x_w = (x_j-np.log(v_0)-2*mu)/sig\n",
    "print(\"Δ⁽²⁾(Ω)={Δω^{(1,1)} = [%.3f, %.3f] × [0, Φ(%.3f Φ⁻¹(ω₁))],\"\n",
    "      \"\\n   Δω^{(2,1)} = (%.3f, %.3f] × [0, Φ(%.3f-Φ⁻¹(ω₁))],\"\n",
    "      \"\\n   Δω^{(3,1)} = (%.3f, %.3f] × [0, Φ(%.3f - Φ⁻¹(ω₁))],\"\n",
    "      \"\\n   Δω^{(1,2)} = [%.3f, %.3f] × (Φ(%.3f Φ⁻¹(ω₁)), Φ(%.3f-Φ⁻¹(ω₁))],\"\n",
    "      \"\\n   Δω^{(2,2)} = (%.3f, %.3f] × (Φ(%.3f-Φ⁻¹(ω₁)), Φ(%.3f-Φ⁻¹(ω₁))],\"\n",
    "      \"\\n   Δω^{(3,2)} = (%.3f, %.3f] × (Φ(%.3f-Φ⁻¹(ω₁)), Φ(%.3f-Φ⁻¹(ω₁))],\"\n",
    "      \"\\n   Δω^{(1,3)} = [%.3f, %.3f] × (Φ(%.3f-Φ⁻¹(ω₁)), 1],\"\n",
    "      \"\\n   Δω^{(2,3)} = (%.3f, %.3f] × (Φ(%.3f-Φ⁻¹(ω₁)), 1],\"\n",
    "      \"\\n   Δω^{(3,3)} = (%.3f, %.3f] × (Φ(%.3f-Φ⁻¹(ω₁)), 1]}\"\n",
    "      % (delta_1_x[0], delta_1_x[1], x_w[1],\n",
    "         delta_1_x[1], delta_1_x[2], x_w[1],\n",
    "         delta_1_x[2], delta_1_x[3], x_w[1],\n",
    "         delta_1_x[0], delta_1_x[1], x_w[1], x_w[2],\n",
    "         delta_1_x[1], delta_1_x[2], x_w[1], x_w[2],\n",
    "         delta_1_x[2], delta_1_x[3], x_w[1], x_w[2],\n",
    "         delta_1_x[0], delta_1_x[1], x_w[2],\n",
    "         delta_1_x[1], delta_1_x[2], x_w[2],\n",
    "         delta_1_x[2], delta_1_x[3], x_w[2]))"
   ]
  },
  {
   "cell_type": "markdown",
   "metadata": {},
   "source": [
    "## [Step 4](https://www.arpm.co/lab/redirect.php?permalink=s_discrete_partitioned_process-implementation-step04): Prob. of first-step and second-step events and cond. probabilities"
   ]
  },
  {
   "cell_type": "code",
   "execution_count": null,
   "metadata": {},
   "outputs": [],
   "source": [
    "# probabilities of first-step events\n",
    "p_1 = np.zeros(j_)\n",
    "for j1 in range(j_):\n",
    "    p_1[j1] = nquad(lambda x_1, x_2:\n",
    "                    multivariate_normal.pdf(np.array([x_1, x_2]), mu_x, sig2_x),\n",
    "                    [[x_j[j1], x_j[j1+1]], [x_j[0], x_j[-1]]])[0]\n",
    "    print(\"p^{(%d)} = %.3f\" % (j1+1, p_1[j1]))\n",
    "\n",
    "# probabilities of second-step events\n",
    "p_2 = np.zeros((j_, j_))\n",
    "# conditional probabilities\n",
    "p_cond = np.zeros((j_, j_))\n",
    "for j1 in range(j_):\n",
    "    for j2 in range(j_):\n",
    "        # prob. of the second-step events\n",
    "        p_2[j1, j2] = nquad(lambda x_1, x_2:\n",
    "                            multivariate_normal.pdf(np.array([x_1, x_2]),\n",
    "                                                    mu_x, sig2_x),\n",
    "                            [[x_j[j1], x_j[j1+1]], [x_j[j2], x_j[j2+1]]])[0]\n",
    "        # conditional probabilities\n",
    "        p_cond[j1, j2] = p_2[j1, j2]/p_1[j1]\n",
    "        print(\"p^{(%d,%d)} = %.5f\" % (j1+1, j2+1, p_2[j1, j2]))\n",
    "        print(\"p^{(%d|%d)} = %.3f\" % (j2+1, j1+1, p_cond[j1, j2]))"
   ]
  },
  {
   "cell_type": "markdown",
   "metadata": {},
   "source": [
    "## [Step 5](https://www.arpm.co/lab/redirect.php?permalink=s_discrete_partitioned_process-implementation-step05): Iterated expectations at t = 1, 2; law of iterated expectations"
   ]
  },
  {
   "cell_type": "code",
   "execution_count": null,
   "metadata": {},
   "outputs": [],
   "source": [
    "#  iterated expectation at t = 1\n",
    "cond_exp_1_z = np.zeros(j_)\n",
    "for j1 in range(j_):\n",
    "    cond_exp_1_z[j1] = nquad(lambda w_1, w_2: w_1+w_2,\n",
    "                             [[delta_1_x[j1], delta_1_x[j1+1]],\n",
    "                              [0, 1]])[0]/p_1[j1]\n",
    "    print(\"E₁{Z}(ω₁,ω₂) = %.2f if X₁(ω₁,ω₂) ∈ X^(%d)\"\n",
    "          % (cond_exp_1_z[j1], j1+1))\n",
    "\n",
    "#  iterated expectation at t = 2\n",
    "cond_exp_2_z = np.zeros((j_, j_))\n",
    "for j1 in range(j_):\n",
    "    for j2 in range(j_):\n",
    "        cond_exp_2_z[j1, j2] = dblquad(lambda w_1, w_2: w_1+w_2,\n",
    "                                       delta_1_x[j1], delta_1_x[j1+1],\n",
    "                                       lambda w:\n",
    "                                           norm.cdf(x_w[j2]-norm.ppf(w)),\n",
    "                                       lambda w:\n",
    "                                           norm.cdf(x_w[j2+1]-norm.ppf(w)))[0]\\\n",
    "                               / p_2[j1, j2]\n",
    "        print('E₂{Z}(ω₁,ω₂) = %.2f if X₁(ω₁,ω₂) ∈ X^(%d), X₂(ω₁,ω₂) ∈ X^(%d)'\n",
    "              % (cond_exp_2_z[j1, j2], j1+1, j2+1))\n",
    "\n",
    "# law of iterated expectations\n",
    "cond_exp_12_z = np.zeros(j_)\n",
    "for j1 in range(j_):\n",
    "    cond_exp_12_z[j1] = cond_exp_2_z[j1, :]@p_2[j1, :]/p_1[j1]\n",
    "error = cond_exp_1_z - cond_exp_12_z\n",
    "print(error)"
   ]
  },
  {
   "cell_type": "markdown",
   "metadata": {},
   "source": [
    "## [Step 6](https://www.arpm.co/lab/redirect.php?permalink=s_discrete_partitioned_process-implementation-step06): Iterated probabilities of an event at t = 1, 2"
   ]
  },
  {
   "cell_type": "code",
   "execution_count": null,
   "metadata": {},
   "outputs": [],
   "source": [
    "# iterated probabilities of an event at t = 1\n",
    "p_e_1 = np.zeros(j_)\n",
    "\n",
    "for j1 in range(j_):\n",
    "    p_e_1[j1] = nquad(lambda w_1, w_2: float(w_1>= ev[0, 0] and w_1<=ev[0, 1]),\n",
    "                     [[delta_1_x[j1], delta_1_x[j1+1]],\n",
    "                      [ev[1, 0], ev[1, 1]]])[0]/p_1[j1]\n",
    "    print(\"P₁{E}(ω₁,ω₂) = %.3f if X₁(ω₁,ω₂) ∈ X^(%d)\" %(p_e_1[j1], j1+1))\n",
    "\n",
    "# iterated probabilities of an event at t = 2\n",
    "p_e_2 = np.zeros((j_, j_))\n",
    "for j1 in range(j_):\n",
    "    for j2 in range(j_):\n",
    "        p_e_2[j1, j2]=dblquad(lambda w_1, w_2: float((w_1>=ev[0, 0] and w_1<=ev[0, 1]) and\n",
    "                                                     (w_2>=ev[1, 0] and w_2<=ev[1, 1])),\n",
    "                              delta_1_x[j1], delta_1_x[j1+1],\n",
    "                              lambda w: norm.cdf(x_w[j2]-norm.ppf(w)),\n",
    "                              lambda w: norm.cdf(x_w[j2+1]-norm.ppf(w)))[0]/p_2[j1, j2]\n",
    "        print('P₂{E}(ω₁,ω₂) = %.3f if X₁(ω₁,ω₂) ∈ X^(%d), X₂(ω₁,ω₂) ∈ X^(%d)' \n",
    "              %(p_e_2[j1, j2], j1+1, j2+1))"
   ]
  },
  {
   "cell_type": "markdown",
   "metadata": {},
   "source": [
    "## [Step 7](https://www.arpm.co/lab/redirect.php?permalink=s_discrete_partitioned_process-implementation-step07): Adapted expectations at t = 1, 2"
   ]
  },
  {
   "cell_type": "code",
   "execution_count": null,
   "metadata": {},
   "outputs": [],
   "source": [
    "# stochastic trading strategy\n",
    "y_d1 = np.array([-1000, 0, 1000])\n",
    "y_d2 = np.array([[-1000, 0, 1000],\n",
    "                 [-1000, 0, 1000],\n",
    "                 [-1000, 0, 1000]])\n",
    "\n",
    "# cond. expectation at t=1\n",
    "cond_exp_1_yd1 = np.zeros(j_)\n",
    "for j1 in range(j_):\n",
    "    cond_exp_1_yd1[j1] = nquad(lambda w_1, w_2: y_d1[j1],\n",
    "                               [[delta_1_x[j1], delta_1_x[j1+1]],\n",
    "                                [0, 1]])[0]/p_1[j1]\n",
    "    print(\"E₁{Y₁^Δ}(ω₁,ω₂)= %.2f if X₁(ω₁,ω₂) ∈ X^(%d)\"\n",
    "          % (cond_exp_1_yd1[j1], j1+1))\n",
    "\n",
    "cond_exp_1_yd2 = np.zeros((j_))\n",
    "for j1 in range(j_):\n",
    "    for j2 in range(j_):\n",
    "        cond_exp_1_yd2[j1] = cond_exp_1_yd2[j1] + \\\n",
    "                             dblquad(lambda w_1, w_2: y_d2[j1, j2],\n",
    "                                     delta_1_x[j1], delta_1_x[j1+1],\n",
    "                                     lambda w: norm.cdf(x_w[j2]-norm.ppf(w)),\n",
    "                                     lambda w: norm.cdf(x_w[j2+1]-norm.ppf(w)))[0]\n",
    "    cond_exp_1_yd2[j1] = cond_exp_1_yd2[j1]/p_1[j1]\n",
    "    print('E₁{Y₂^{Δ}}(ω₁,ω₂) = %.2f if X₁(ω₁,ω₂) ∈ X^(%d)'\n",
    "          % (cond_exp_1_yd2[j1], j1+1))"
   ]
  },
  {
   "cell_type": "markdown",
   "metadata": {},
   "source": [
    "## [Step 8](https://www.arpm.co/lab/redirect.php?permalink=s_discrete_partitioned_process-implementation-step08): Radon-Nikodym process"
   ]
  },
  {
   "cell_type": "code",
   "execution_count": null,
   "metadata": {
    "lines_to_end_of_cell_marker": 0,
    "lines_to_next_cell": 1
   },
   "outputs": [],
   "source": [
    "# expectation vector under q\n",
    "muq_x = np.array([np.log(v_0)-sig2/2, np.log(v_0)-sig2])\n",
    "\n",
    "# q probabilities of first-step event\n",
    "q_1 = np.zeros(j_)\n",
    "# radon-nikodym process at t = 1\n",
    "d_1 = np.zeros(j_)\n",
    "for j1 in range(j_):\n",
    "    q_1[j1] = nquad(lambda x_1, x_2:\n",
    "                    multivariate_normal.pdf(np.array([x_1, x_2]), muq_x, sig2_x),\n",
    "                    [[x_j[j1], x_j[j1+1]], [x_j[0], x_j[-1]]])[0]\n",
    "    d_1[j1] = q_1[j1]/p_1[j1] \n",
    "    print(\"D₁(ω₁,ω₂) = %.3f if X₁(ω₁,ω₂) ∈ X^(%d)\" % (d_1[j1], j1+1))\n",
    "\n",
    "# q probabilities of second-step event\n",
    "q_2 = np.zeros((j_, j_))\n",
    "# radon-nikodym process at t = 2\n",
    "d_2 = np.zeros((j_, j_))\n",
    "for j1 in range(j_):\n",
    "    for j2 in range(j_):\n",
    "        q_2[j1, j2] = nquad(lambda x_1, x_2:\n",
    "                            multivariate_normal.pdf(np.array([x_1, x_2]),\n",
    "                                                    muq_x, sig2_x),\n",
    "                            [[x_j[j1], x_j[j1+1]],\n",
    "                             [x_j[j2], x_j[j2+1]]])[0]\n",
    "        d_2[j1, j2] = q_2[j1, j2]/p_2[j1, j2]\n",
    "        print(\"D₂(ω₁,ω₂) = %.3f if X₁(ω₁,ω₂) ∈ X^(%d),  X₂(ω₁,ω₂) ∈ X^(%d)\"\n",
    "              % (d_2[j1, j2], j1+1, j2+1))"
   ]
  },
  {
   "cell_type": "markdown",
   "metadata": {},
   "source": [
    "## [Step 9](https://www.arpm.co/lab/redirect.php?permalink=s_discrete_partitioned_process-implementation-step09): Conditional expectations of DZ under P"
   ]
  },
  {
   "cell_type": "code",
   "execution_count": null,
   "metadata": {},
   "outputs": [],
   "source": [
    "# Radon-Nikodym derivative as a random variable\n",
    "def d(w_1, w_2):\n",
    "    return np.exp((2*mu**2-sig2**2/2-(2*mu+sig2) *\n",
    "                  (2*mu+sig*norm.ppf(w_1)+sig*norm.ppf(w_2)))/(2*sig2))\n",
    "\n",
    "# iterated expectation at t=1\n",
    "cond_exp_p1_dz = np.zeros(j_)\n",
    "for j1 in range(j_):\n",
    "    cond_exp_p1_dz[j1] = nquad(lambda w_1, w_2: d(w_1, w_2)*(w_1+w_2),\n",
    "                               [[delta_1_x[j1], delta_1_x[j1+1]],\n",
    "                                [0, 1]])[0]/p_1[j1]\n",
    "    print(\"E₁^{P}{DZ}(ω₁,ω₂) = %.2f if X₁(ω₁,ω₂) ∈ X^(%d)\"\n",
    "          % (cond_exp_p1_dz[j1], j1+1))\n",
    "\n",
    "# iterated expectation at t=2\n",
    "cond_exp_p2_dz = np.zeros((j_, j_))\n",
    "for j1 in range(j_):\n",
    "    for j2 in range(j_):\n",
    "        cond_exp_p2_dz[j1, j2] = dblquad(lambda w_1, w_2: d(w_1, w_2)*(w_1+w_2),\n",
    "                                         delta_1_x[j1], delta_1_x[j1+1],\n",
    "                                         lambda w: norm.cdf(x_w[j2] -\n",
    "                                                            norm.ppf(w)),\n",
    "                                         lambda w: norm.cdf(x_w[j2+1] -\n",
    "                                                            norm.ppf(w)))[0] /\\\n",
    "                                p_2[j1, j2]\n",
    "        print('E₂^{P}{DZ}(ω₁,ω₂) = %.2f if X₁(ω₁,ω₂) ∈ X^(%d), X₂(ω₁,ω₂) ∈ X^(%d)'\n",
    "              % (cond_exp_p2_dz[j1, j2], j1+1, j2+1))"
   ]
  },
  {
   "cell_type": "markdown",
   "metadata": {},
   "source": [
    "## [Step 10](https://www.arpm.co/lab/redirect.php?permalink=s_discrete_partitioned_process-implementation-step10): Conditional expectations of Z under Q"
   ]
  },
  {
   "cell_type": "code",
   "execution_count": null,
   "metadata": {
    "lines_to_end_of_cell_marker": 0,
    "lines_to_next_cell": 1
   },
   "outputs": [],
   "source": [
    "# q iterated expectation at t=1\n",
    "cond_exp_q1_z = cond_exp_p1_dz/d_1\n",
    "for j1 in range(j_):\n",
    "    print(\"E₁^{Q}{Z}(ω₁,ω₂) = %.2f if X₁(ω₁,ω₂) ∈ X^(%d)\"\n",
    "          % (cond_exp_q1_z[j1], j1+1))\n",
    "\n",
    "# q iterated expectation at t=2\n",
    "cond_exp_q2_z = cond_exp_p2_dz/d_2\n",
    "for j1 in range(j_):\n",
    "    for j2 in range(j_):\n",
    "        print('E₂^{Q}{Z}(ω₁,ω₂) = %.2f if X₁(ω₁,ω₂) ∈ X^(%d), X₂(ω₁,ω₂)∈ X^(%d)'\n",
    "              % (cond_exp_q2_z[j1, j2], j1+1, j2+1))"
   ]
  },
  {
   "cell_type": "markdown",
   "metadata": {},
   "source": [
    "## [Step 11](https://www.arpm.co/lab/redirect.php?permalink=s_discrete_partitioned_process-implementation-step11): Conditional expectations of events under Q"
   ]
  },
  {
   "cell_type": "code",
   "execution_count": null,
   "metadata": {},
   "outputs": [],
   "source": [
    "def d_times_1(w_1, w_2):\n",
    "    return d(w_1, w_2) * float(w_1>= ev[0,0] and w_1<=ev[0,1])\n",
    "\n",
    "\n",
    "def d_times_2(w_1, w_2):\n",
    "    return d(w_1, w_2) * float((w_1>= ev[0,0] and w_1<=ev[0,1]) and\n",
    "                               (w_2>= ev[1,0] and w_2<=ev[1,1]))\n",
    "\n",
    "\n",
    "# iterated probabilities of an event at t=1\n",
    "q_e_1 = np.zeros(j_)\n",
    "for j in range(j_):\n",
    "    q_e_1[j] = nquad(d_times_1, [[delta_1_x[j], delta_1_x[j+1]], [ev[1,0], ev[1,1]]])[0]/(d_1[j]*p_1[j])\n",
    "    print(\"Q₁{E}(ω₁,ω₂) = %.2f if X₁(ω₁,ω₂) ∈ X^(%d)\" %(q_e_1[j], j+1))\n",
    "\n",
    "# iterated probabilities of an event at t=2\n",
    "q_e_2 = np.zeros((j_, j_))\n",
    "for j1 in range(j_):\n",
    "    for j2 in range(j_):\n",
    "        q_e_2[j1, j2]=dblquad(d_times_2, delta_1_x[j1], delta_1_x[j1+1],\n",
    "                              lambda w: norm.cdf(x_w[j2]-norm.ppf(w)),\n",
    "                              lambda w: norm.cdf(x_w[j2+1]-norm.ppf(w)))[0]/(d_2[j1, j2]*p_2[j1, j2])\n",
    "        print('Q₂{E}(ω₁,ω₂) = %.3f if X₁(ω₁,ω₂) ∈ X^{(%d)} and X₂(ω₁,ω₂) ∈ X^(%d)'\n",
    "              % (q_e_2[j1, j2], j1+1, j2+1))"
   ]
  }
 ],
 "metadata": {
  "jupytext": {
   "encoding": "# -*- coding: utf-8 -*-",
   "executable": "/usr/bin/env python3"
  },
  "kernelspec": {
   "display_name": "Python 3",
   "language": "python",
   "name": "python3"
  }
 },
 "nbformat": 4,
 "nbformat_minor": 4
}
