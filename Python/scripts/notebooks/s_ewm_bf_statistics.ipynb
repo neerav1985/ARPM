{
 "cells": [
  {
   "cell_type": "markdown",
   "metadata": {},
   "source": [
    "# s_ewm_bf_statistics [<img src=\"https://www.arpm.co/lab/icons/icon_permalink.png\" width=30 height=30 style=\"display: inline;\">](https://www.arpm.co/lab/redirect.php?code=s_ewm_bf_statistics&codeLang=Python)\n",
    "For details, see [here](https://www.arpm.co/lab/redirect.php?permalink=eb-ewmanum-ex-copy-1)."
   ]
  },
  {
   "cell_type": "code",
   "execution_count": null,
   "metadata": {},
   "outputs": [],
   "source": [
    "import numpy as np\n",
    "import pandas as pd\n",
    "import matplotlib.dates as mdates\n",
    "import matplotlib.pyplot as plt\n",
    "from pandas.plotting import register_matplotlib_converters\n",
    "register_matplotlib_converters()\n",
    "\n",
    "from arpym.estimation.exp_decay_fp import exp_decay_fp\n",
    "from arpym.statistics.meancov_sp import meancov_sp\n",
    "from arpym.statistics.quantile_sp import quantile_sp\n",
    "from arpym.tools.logo import add_logo"
   ]
  },
  {
   "cell_type": "markdown",
   "metadata": {},
   "source": [
    "## [Input parameters](https://www.arpm.co/lab/redirect.php?permalink=s_ewm_bf_statistics-parameters)"
   ]
  },
  {
   "cell_type": "code",
   "execution_count": null,
   "metadata": {},
   "outputs": [],
   "source": [
    "t_ = 1799  # number of observations\n",
    "tau_hl = 25  # half-life parameter\n",
    "c = 0.05  # confidence level"
   ]
  },
  {
   "cell_type": "markdown",
   "metadata": {},
   "source": [
    "## [Step 0](https://www.arpm.co/lab/redirect.php?permalink=s_ewm_bf_statistics-implementation-step00): Upload from database"
   ]
  },
  {
   "cell_type": "code",
   "execution_count": null,
   "metadata": {},
   "outputs": [],
   "source": [
    "# S&P 500 index value\n",
    "spx_path = '~/databases/global-databases/equities/db_stocks_SP500/SPX.csv'\n",
    "spx_all = pd.read_csv(spx_path, parse_dates=['date'])\n",
    "spx = spx_all.loc[spx_all.index.max() - t_:spx_all.index.max(), :]\n",
    "spx = spx.set_index(pd.to_datetime(spx.date))"
   ]
  },
  {
   "cell_type": "markdown",
   "metadata": {},
   "source": [
    "## [Step 1](https://www.arpm.co/lab/redirect.php?permalink=s_ewm_bf_statistics-implementation-step01): Compute time series of S&P 500 compounded return"
   ]
  },
  {
   "cell_type": "code",
   "execution_count": null,
   "metadata": {},
   "outputs": [],
   "source": [
    "epsi = np.diff(np.log(spx.SPX_close))  # S&P 500 index compounded return"
   ]
  },
  {
   "cell_type": "markdown",
   "metadata": {},
   "source": [
    "## [Step 2](https://www.arpm.co/lab/redirect.php?permalink=s_ewm_bf_statistics-implementation-step02): Compute exponential decay probabilities, backward/forward EWMA, EWM standard deviation and EWM quantile"
   ]
  },
  {
   "cell_type": "code",
   "execution_count": null,
   "metadata": {},
   "outputs": [],
   "source": [
    "_2ewma = np.zeros(t_)\n",
    "_2ewm_cv = np.zeros(t_)\n",
    "_2ewm_sd = np.zeros(t_)\n",
    "_2ewm_q = np.zeros(t_)\n",
    "\n",
    "for t in range(t_): \n",
    "    p_t = exp_decay_fp(t_, tau_hl, t_star = t)  # exponential decay probabilities\n",
    "    _2ewma[t], _2ewm_cv[t] = meancov_sp(epsi, p_t)  # backward/forward EWM average and covariance\n",
    "    _2ewm_q[t] = quantile_sp(c, epsi, p_t)  # backward/forward EWM quantile\n",
    "    \n",
    "_2ewm_sd = np.sqrt(_2ewm_cv)  # backward/forward EWM standard deviation"
   ]
  },
  {
   "cell_type": "markdown",
   "metadata": {},
   "source": [
    "## Plots"
   ]
  },
  {
   "cell_type": "code",
   "execution_count": null,
   "metadata": {
    "lines_to_next_cell": 2
   },
   "outputs": [],
   "source": [
    "plt.style.use('arpm')\n",
    "\n",
    "k_color = [33/255, 37/255, 41/255]\n",
    "g_color = [71/255, 180/255, 175/255]\n",
    "b_color = [13/255, 94/255, 148/255]\n",
    "r_color = [227/255, 66/255, 52/255]\n",
    "\n",
    "myFmt = mdates.DateFormatter('%d-%m-%Y')\n",
    "\n",
    "mydpi = 72.0\n",
    "f = plt.figure(figsize=(1280.0/mydpi, 720.0/mydpi), dpi=mydpi)\n",
    "plt.xlim(min(spx.index[1:]), max(spx.index[1:]))\n",
    "\n",
    "plt.plot(spx.index[1:], epsi[0:], '.b', color=b_color, label=r'S&P 500 log-returns')\n",
    "plt.plot(spx.index[1:], _2ewma, color=g_color, lw=1.5, label=r'B/F EWMA')\n",
    "plt.plot(spx.index[1:], _2ewma + 2 * _2ewm_sd, color=r_color, label=r'+/- 2 B/F EWM std. dev. band')\n",
    "plt.plot(spx.index[1:], _2ewma - 2 * _2ewm_sd, color=r_color)\n",
    "plt.plot(spx.index[1:], _2ewm_q, color=k_color, label=r'B/F EWM 0.05-quantile')\n",
    "\n",
    "plt.legend(loc=1)\n",
    "plt.gca().xaxis.set_major_formatter(myFmt)"
   ]
  }
 ],
 "metadata": {
  "jupytext": {
   "cell_metadata_filter": "-all",
   "encoding": "# coding: utf-8",
   "executable": "/usr/bin/env python",
   "main_language": "python",
   "notebook_metadata_filter": "-all"
  }
 },
 "nbformat": 4,
 "nbformat_minor": 4
}
