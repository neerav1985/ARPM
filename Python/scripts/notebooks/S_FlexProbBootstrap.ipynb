{
 "cells": [
  {
   "cell_type": "markdown",
   "metadata": {},
   "source": [
    "# S_FlexProbBootstrap [<img src=\"https://www.arpm.co/lab/icons/icon_permalink.png\" width=30 height=30 style=\"display: inline;\">](https://www.arpm.co/lab/redirect.php?code=S_FlexProbBootstrap&codeLang=Python)\n",
    "For details, see [here](https://www.arpm.co/lab/redirect.php?permalink=ExerFPspec)."
   ]
  },
  {
   "cell_type": "markdown",
   "metadata": {},
   "source": [
    "## Prepare the environment"
   ]
  },
  {
   "cell_type": "code",
   "execution_count": null,
   "metadata": {},
   "outputs": [],
   "source": [
    "import os\n",
    "import os.path as path\n",
    "import sys\n",
    "\n",
    "sys.path.append(path.abspath('../../functions-legacy'))\n",
    "from collections import namedtuple\n",
    "\n",
    "from numpy import arange, array, zeros, diff, log\n",
    "from numpy import min as npmin, max as npmax\n",
    "from numpy.random import choice\n",
    "\n",
    "from scipy.io import loadmat\n",
    "\n",
    "import matplotlib.pyplot as plt\n",
    "from matplotlib.pyplot import figure, bar, xlim, ylim, scatter, ylabel, \\\n",
    "    xlabel, title, xticks, yticks\n",
    "import matplotlib.dates as mdates\n",
    "\n",
    "plt.style.use('seaborn')\n",
    "\n",
    "from CONFIG import GLOBAL_DB, TEMPORARY_DB\n",
    "from ARPM_utils import save_plot, struct_to_dict, date_mtop\n",
    "from HistogramFP import HistogramFP\n",
    "from EffectiveScenarios import EffectiveScenarios\n",
    "from Stats import Stats\n",
    "from ColorCodedFP import ColorCodedFP"
   ]
  },
  {
   "cell_type": "markdown",
   "metadata": {},
   "source": [
    "## Upload database"
   ]
  },
  {
   "cell_type": "code",
   "execution_count": null,
   "metadata": {},
   "outputs": [],
   "source": [
    "try:\n",
    "    db = loadmat(os.path.join(GLOBAL_DB, 'db_Stocks'), squeeze_me=True)\n",
    "except FileNotFoundError:\n",
    "    db = loadmat(os.path.join(TEMPORARY_DB, 'db_Stocks'), squeeze_me=True)\n",
    "\n",
    "SPX = struct_to_dict(db['SPX'])"
   ]
  },
  {
   "cell_type": "markdown",
   "metadata": {},
   "source": [
    "## Compute the realized time series of the S&P 500 log-returns"
   ]
  },
  {
   "cell_type": "code",
   "execution_count": null,
   "metadata": {},
   "outputs": [],
   "source": [
    "SPX_ = SPX.Price_close\n",
    "date = SPX.Date\n",
    "epsi = diff(log(SPX_))\n",
    "\n",
    "t_ = len(epsi)\n",
    "epsi = epsi.reshape(1,-1)\n",
    "date = date[1:]"
   ]
  },
  {
   "cell_type": "markdown",
   "metadata": {},
   "source": [
    "## FLEXIBLE PROBABILITIES FROM BOOTSTRAP"
   ]
  },
  {
   "cell_type": "code",
   "execution_count": null,
   "metadata": {},
   "outputs": [],
   "source": [
    "k_ = 252  # size of subsamples\n",
    "q_ = 5  # number of subsamples (and frames)\n",
    "\n",
    "prob_bs = zeros((q_, t_))\n",
    "\n",
    "ens = zeros((1, q_))\n",
    "typ = namedtuple('type','Entropy')\n",
    "typ.Entropy = 'Exp'\n",
    "\n",
    "for q in range(q_):\n",
    "    r = choice(arange(t_), size=k_, replace=False)\n",
    "    prob_bs[q, r] = 1 / k_\n",
    "    ens[0,q] = EffectiveScenarios(prob_bs[[q],:], typ)"
   ]
  },
  {
   "cell_type": "markdown",
   "metadata": {},
   "source": [
    "## HFP histogram and statistics"
   ]
  },
  {
   "cell_type": "code",
   "execution_count": null,
   "metadata": {},
   "outputs": [],
   "source": [
    "q_ = prob_bs.shape[0]\n",
    "option = namedtuple('option', 'n_bins')\n",
    "option.n_bins = 10*log(epsi.shape[1])\n",
    "p, x = {}, {}\n",
    "for q in range(q_):\n",
    "    p[q], x[q] = HistogramFP(epsi, prob_bs[[q],:], option)\n",
    "\n",
    "mu, sdev, VaR, CVaR, skewness, kurtosis = Stats(epsi, prob_bs)"
   ]
  },
  {
   "cell_type": "markdown",
   "metadata": {},
   "source": [
    "## Figure"
   ]
  },
  {
   "cell_type": "code",
   "execution_count": null,
   "metadata": {},
   "outputs": [],
   "source": [
    "date_tick = arange(99, t_-1, 680)\n",
    "date_dt = array([date_mtop(i) for i in date])\n",
    "myFmt = mdates.DateFormatter('%d-%b-%Y')"
   ]
  },
  {
   "cell_type": "markdown",
   "metadata": {},
   "source": [
    "## q=0"
   ]
  },
  {
   "cell_type": "code",
   "execution_count": null,
   "metadata": {},
   "outputs": [],
   "source": [
    "for q in range(2):\n",
    "    figure()\n",
    "\n",
    "    # FP profile\n",
    "    plt.subplot2grid((3, 3), (0, 0), colspan=2)\n",
    "    plt.gca().set_facecolor('white')\n",
    "    bar(date_dt, prob_bs[q, :], facecolor=[0.5, 0.5, 0.5], edgecolor=[0.5, 0.5, 0.5])\n",
    "    xlim([min(date_dt), max(date_dt)])\n",
    "    xticks(date_dt[date_tick])\n",
    "    plt.gca().xaxis.set_major_formatter(myFmt)\n",
    "    ylim([0, 1.1 * npmax(prob_bs[q, :])])\n",
    "    yticks([])\n",
    "    title('FLEXIBLE PROBABILITIES FROM BOOTSTRAP')\n",
    "    ylabel('probability')\n",
    "    TEXT = 'Effective Num.Scenarios = % 3.0f' % ens[0, q]\n",
    "    plt.text(min(date_dt), 1.05 * npmax(prob_bs[q, :]), TEXT, horizontalalignment='left')\n",
    "\n",
    "    # scatter colormap and colors\n",
    "    CM, C = ColorCodedFP(prob_bs[[q], :], 10 ** -20, npmax(prob_bs[:5, :]), arange(0, 0.95, 0.05), 0, 1, [1, 0])\n",
    "\n",
    "    # Time series of S&P500 log-rets\n",
    "    ax = plt.subplot2grid((3, 3), (1, 0), colspan=2, rowspan=2)\n",
    "    scatter(date_dt, epsi, 15, c=C, marker='.', cmap=CM)\n",
    "    xlim([min(date_dt), max(date_dt)])\n",
    "    xticks(date_dt[date_tick])\n",
    "    plt.gca().xaxis.set_major_formatter(myFmt)\n",
    "    ax.set_facecolor('white')\n",
    "    ylim([1.1 * npmin(epsi), 1.1 * npmax(epsi)])\n",
    "    ylabel('returns')\n",
    "    title('S&P')\n",
    "\n",
    "    # HFP histogram\n",
    "    plt.subplot2grid((3, 3), (1, 2), rowspan=2)\n",
    "    plt.gca().set_facecolor('white')\n",
    "    plt.barh(x[q][:-1], p[q][0], height=x[q][1] - x[q][0], facecolor=[0.7, 0.7, 0.7], edgecolor=[0.5, 0.5, 0.5])\n",
    "    xlim([0, 1.05 * npmax(p[q])])\n",
    "    xticks([])\n",
    "    yticks([]), ylim([1.1 * npmin(epsi), 1.1 * npmax(epsi)])\n",
    "    xlabel('probability')\n",
    "    plt.tight_layout();\n",
    "    # statistics\n",
    "    TEXT = 'Mean  % 3.3f \\nSdev    %3.3f \\nVaR      %3.3f \\nCVaR   %3.3f \\nSkew   %3.3f \\nKurt     %3.3f' % (\n",
    "        mu[q], sdev[q], VaR[q], CVaR[q], skewness[q], kurtosis[q])\n",
    "    plt.text(0.5 * npmax(p[q]), 0.08, TEXT, horizontalalignment='left', verticalalignment='bottom');\n",
    "    # save_plot(ax=plt.gca(), extension='png', scriptname=os.path.basename('.')[:-3], count=plt.get_fignums()[-1])"
   ]
  }
 ],
 "metadata": {
  "jupytext": {
   "encoding": "# -*- coding: utf-8 -*-",
   "executable": "/usr/bin/env python3"
  },
  "kernelspec": {
   "display_name": "Python 3",
   "language": "python",
   "name": "python3"
  }
 },
 "nbformat": 4,
 "nbformat_minor": 4
}
