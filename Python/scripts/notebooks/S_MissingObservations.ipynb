{
 "cells": [
  {
   "cell_type": "markdown",
   "metadata": {},
   "source": [
    "# S_MissingObservations [<img src=\"https://www.arpm.co/lab/icons/icon_permalink.png\" width=30 height=30 style=\"display: inline;\">](https://www.arpm.co/lab/redirect.php?code=S_MissingObservations&codeLang=Python)\n",
    "For details, see [here](https://www.arpm.co/lab/redirect.php?permalink=ExerMissingObs)."
   ]
  },
  {
   "cell_type": "markdown",
   "metadata": {},
   "source": [
    "## Prepare the environment"
   ]
  },
  {
   "cell_type": "code",
   "execution_count": null,
   "metadata": {},
   "outputs": [],
   "source": [
    "import os\n",
    "import os.path as path\n",
    "import sys\n",
    "\n",
    "sys.path.append(path.abspath('../../functions-legacy'))\n",
    "\n",
    "import numpy as np\n",
    "from numpy import arange, ones, percentile, floor, diff, abs, exp, r_, ix_, array, zeros\n",
    "from numpy import sum as npsum\n",
    "from numpy.random import randint, choice\n",
    "\n",
    "from scipy.io import loadmat\n",
    "\n",
    "import matplotlib.pyplot as plt\n",
    "from matplotlib.pyplot import figure, plot, legend, xlim, ylim, scatter, ylabel, \\\n",
    "    xlabel\n",
    "import matplotlib.dates as mdates\n",
    "\n",
    "plt.style.use('seaborn')\n",
    "\n",
    "from CONFIG import GLOBAL_DB, TEMPORARY_DB\n",
    "from ARPM_utils import save_plot, struct_to_dict, date_mtop\n",
    "from intersect_matlab import intersect\n",
    "from PlotTwoDimEllipsoid import PlotTwoDimEllipsoid\n",
    "from RollPrices2YieldToMat import RollPrices2YieldToMat\n",
    "from MaxLikelihoodFPLocDispT import MaxLikelihoodFPLocDispT\n",
    "from ColorCodedFP import ColorCodedFP\n",
    "from EMalgorithmFP import EMalgorithmFP"
   ]
  },
  {
   "cell_type": "markdown",
   "metadata": {},
   "source": [
    "## Upload dataset"
   ]
  },
  {
   "cell_type": "code",
   "execution_count": null,
   "metadata": {},
   "outputs": [],
   "source": [
    "try:\n",
    "    db = loadmat(os.path.join(GLOBAL_DB, 'db_SwapCurve'), squeeze_me=True)\n",
    "except FileNotFoundError:\n",
    "    db = loadmat(os.path.join(TEMPORARY_DB, 'db_SwapCurve'), squeeze_me=True)\n",
    "\n",
    "DF_Rolling = struct_to_dict(db['DF_Rolling'])"
   ]
  },
  {
   "cell_type": "markdown",
   "metadata": {},
   "source": [
    "## Compute the swap rates daily changes and select the last 700 available observations"
   ]
  },
  {
   "cell_type": "code",
   "execution_count": null,
   "metadata": {},
   "outputs": [],
   "source": [
    "# times to maturity (in years)\n",
    "tau = [1, 2, 3, 5, 7, 8, 10]\n",
    "\n",
    "# zero rates from rolling pricing\n",
    "y,_ = RollPrices2YieldToMat(DF_Rolling.TimeToMat, DF_Rolling.Prices)\n",
    "\n",
    "# select zero rates\n",
    "_, _, tauIndices = intersect(tau, DF_Rolling.TimeToMat)\n",
    "y_tau = y[tauIndices, :]\n",
    "\n",
    "dates = DF_Rolling.Dates\n",
    "\n",
    "# daily changes (last 700 obs available)\n",
    "i_ = len(tau)\n",
    "t_ = 700\n",
    "\n",
    "dy = diff(y_tau, 1, 1)\n",
    "dy = dy[:, - t_:]\n",
    "dates = dates[- t_:]"
   ]
  },
  {
   "cell_type": "markdown",
   "metadata": {},
   "source": [
    "## Maximum likelihood with Flex. Probs. - complete series"
   ]
  },
  {
   "cell_type": "code",
   "execution_count": null,
   "metadata": {},
   "outputs": [],
   "source": [
    "nu = 4\n",
    "lam = 0.002\n",
    "flex_prob = exp((-lam * arange(t_, 1 + -1, -1))).reshape(1,-1)\n",
    "flex_prob = flex_prob / npsum(flex_prob)\n",
    "tol = 10 ** -5\n",
    "mu_all, s2_all, err_all = MaxLikelihoodFPLocDispT(dy, flex_prob, nu, tol, 1)\n",
    "\n",
    "epsi_25 = dy[[1, 3],:]\n",
    "mu_all_25 = mu_all[[1, 3]]\n",
    "s2_all_25 = s2_all[np.ix_([1, 3], [1, 3])]"
   ]
  },
  {
   "cell_type": "markdown",
   "metadata": {},
   "source": [
    "## Missing data: randomly drop observations (jointly from the 2 and 5 years series)"
   ]
  },
  {
   "cell_type": "code",
   "execution_count": null,
   "metadata": {},
   "outputs": [],
   "source": [
    "# randomly drop 15% of the obs from the whole dataset\n",
    "ndrop = int(floor(0.15*t_))\n",
    "Drop_idx = zeros((7,int(ndrop/7)),dtype=int)\n",
    "for i in range(7):\n",
    "    Drop_idx[i] = choice(arange(t_), size=int(ndrop/7), replace=False)\n",
    "epsi = dy.copy()\n",
    "for i in range(7):\n",
    "    epsi[i,Drop_idx[i]] = np.NAN\n",
    "\n",
    "# restore the observations dropped from the 2 and 5 year series and jointly\n",
    "# drop 30# of the observations from them\n",
    "epsi[1] = dy[1].copy()\n",
    "epsi[3] = dy[3].copy()\n",
    "\n",
    "ndrop_25 = int(floor(0.3*t_))\n",
    "drop_25 = randint(0,t_-1, size=ndrop_25)\n",
    "epsi[1, drop_25] = np.NAN\n",
    "epsi[3, drop_25] = np.NAN\n",
    "\n",
    "# identify available [a] and not-available (na) data\n",
    "\n",
    "a = ones((i_, t_))\n",
    "a[np.arange(0,7).reshape(-1,1),Drop_idx] = 0\n",
    "a[1] = ones((1, t_))\n",
    "a[3] = ones((1, t_))\n",
    "a[1, drop_25] = 0  # a((available obs))=1 a((not-available obs))=0\n",
    "a[3, drop_25] = 0  # a((available obs))=1 a((not-available obs))=0\n",
    "\n",
    "na = abs(a - 1)  # na((available obs))=0 na((not-available obs))=1"
   ]
  },
  {
   "cell_type": "markdown",
   "metadata": {},
   "source": [
    "## EM algorithm for Maximum Likelihood with Flexible Probabilities (EMFP estimators)"
   ]
  },
  {
   "cell_type": "code",
   "execution_count": null,
   "metadata": {},
   "outputs": [],
   "source": [
    "mu_EMFP, s2_EMFP = EMalgorithmFP(epsi, flex_prob, nu, tol)\n",
    "\n",
    "# EMFP estimators for 2 and 5 years swap rate daily changes\n",
    "mu_EMFP_25 = mu_EMFP[[1, 3]]\n",
    "s2_EMFP_25 = s2_EMFP[np.ix_([1, 3], [1, 3])]"
   ]
  },
  {
   "cell_type": "markdown",
   "metadata": {},
   "source": [
    "## Truncated series (whenever an observation is missing, the simultaneous observations are dropped)"
   ]
  },
  {
   "cell_type": "code",
   "execution_count": null,
   "metadata": {},
   "outputs": [],
   "source": [
    "epsi_trunc = epsi[:, npsum(na,axis=0)==0]\n",
    "flex_prob_trunc = flex_prob[[0],npsum(na,axis=0)==0].reshape(1,-1)\n",
    "flex_prob_trunc = flex_prob_trunc / npsum(flex_prob_trunc)"
   ]
  },
  {
   "cell_type": "markdown",
   "metadata": {},
   "source": [
    "## Maximum likelihood with Flex. Probs. - truncated series"
   ]
  },
  {
   "cell_type": "code",
   "execution_count": null,
   "metadata": {},
   "outputs": [],
   "source": [
    "mu_trunc, s2_trunc, *_ = MaxLikelihoodFPLocDispT(epsi_trunc, flex_prob_trunc, nu, tol, 1)\n",
    "\n",
    "# MLFP estimators on the truncated series for 2 and 5 years swap rate daily changes\n",
    "mu_trunc_25 = mu_trunc[[1, 3]]\n",
    "s2_trunc_25 = s2_trunc[np.ix_([1, 3], [1, 3])]"
   ]
  },
  {
   "cell_type": "markdown",
   "metadata": {},
   "source": [
    "## Figure"
   ]
  },
  {
   "cell_type": "code",
   "execution_count": null,
   "metadata": {},
   "outputs": [],
   "source": [
    "# colors\n",
    "blue = 'b'\n",
    "orange = [0.94, 0.35, 0]\n",
    "green = [0, 0.7, 0.25]\n",
    "\n",
    "dates_dt = array([date_mtop(i) for i in dates])\n",
    "\n",
    "# scatter colormap and colors\n",
    "CM, C = ColorCodedFP(flex_prob, None, None, arange(0.25,0.81,0.01), 0, 18, [12, 0])\n",
    "\n",
    "figure()\n",
    "myFmt = mdates.DateFormatter('%d-%b-%Y')\n",
    "# colormap(CM)\n",
    "# upper plot: scatter plot and ellipsoids\n",
    "plt.subplot2grid((4,1),(0,0),rowspan=3)\n",
    "# scatter plot\n",
    "ss = scatter(epsi_25[0], epsi_25[1], s=20, c=C, marker='o')\n",
    "xlim([percentile(epsi_25[0], 100*0.05), percentile(epsi_25[0], 100*0.95)])\n",
    "ylim([percentile(epsi_25[1], 100*0.05),percentile(epsi_25[1], 100*0.95)])\n",
    "xlabel('2yr rate daily changes')\n",
    "ylabel('5yr rate daily changes')\n",
    "# ellipsoids\n",
    "ell1 = PlotTwoDimEllipsoid(mu_EMFP_25.reshape(-1,1), s2_EMFP_25, r=1, color=orange, linewidth=2.3)\n",
    "ell = PlotTwoDimEllipsoid(mu_all_25.reshape(-1,1), s2_all_25, r=1, color=blue, linewidth=2.9)\n",
    "ell2 = PlotTwoDimEllipsoid(mu_trunc_25.reshape(-1,1), s2_trunc_25, r=1, color=green, linewidth=2.7)\n",
    "# highlight the dropped obs in the scatter plot (white circles)\n",
    "dr = plot(epsi_25[0, drop_25], epsi_25[1, drop_25],markersize=5,markeredgecolor='k',marker='o',\n",
    "          markerfacecolor= [0.9, 0.7, 0.7],linestyle='none')\n",
    "# leg\n",
    "leg = legend(['Expectation-Maximization w. FP','MLFP - complete series','MLFP - truncated series','Dropped obs'])\n",
    "# bottom plot: highlight missing observations in the dataset as white spots\n",
    "ax = plt.subplot(4,1,4)\n",
    "ax.imshow(np.flipud(abs(na-1)), extent=[dates_dt[0].toordinal(),dates_dt[-1].toordinal(),0, 8], aspect='auto')\n",
    "plt.yticks([2,4],['2yr','5yr'])\n",
    "plt.xticks(dates_dt[np.arange(49,t_-2,200,dtype=int)])\n",
    "ax.xaxis.set_major_formatter(myFmt)\n",
    "ax.invert_yaxis()\n",
    "plt.grid(False)\n",
    "plt.tight_layout();\n",
    "# save_plot(ax=plt.gca(), extension='png', scriptname=os.path.basename('.')[:-3], count=plt.get_fignums()[-1])"
   ]
  }
 ],
 "metadata": {
  "jupytext": {
   "encoding": "# -*- coding: utf-8 -*-",
   "executable": "/usr/bin/env python3"
  },
  "kernelspec": {
   "display_name": "Python 3",
   "language": "python",
   "name": "python3"
  }
 },
 "nbformat": 4,
 "nbformat_minor": 4
}
