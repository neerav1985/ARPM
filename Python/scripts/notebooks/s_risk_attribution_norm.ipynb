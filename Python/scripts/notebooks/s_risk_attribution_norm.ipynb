{
 "cells": [
  {
   "cell_type": "markdown",
   "metadata": {},
   "source": [
    "# s_risk_attribution_norm [<img src=\"https://www.arpm.co/lab/icons/icon_permalink.png\" width=30 height=30 style=\"display: inline;\">](https://www.arpm.co/lab/redirect.php?code=s_risk_attribution_norm&codeLang=Python)\n",
    "For details, see [here](https://www.arpm.co/lab/redirect.php?permalink=EBNumerRiskAttrNorm)."
   ]
  },
  {
   "cell_type": "code",
   "execution_count": null,
   "metadata": {},
   "outputs": [],
   "source": [
    "import numpy as np\n",
    "import pandas as pd\n",
    "from math import factorial\n",
    "\n",
    "from scipy.special import erfinv"
   ]
  },
  {
   "cell_type": "markdown",
   "metadata": {},
   "source": [
    "## [Input parameters](https://www.arpm.co/lab/redirect.php?permalink=s_risk_attribution_norm-parameters)"
   ]
  },
  {
   "cell_type": "code",
   "execution_count": null,
   "metadata": {},
   "outputs": [],
   "source": [
    "c = 0.95  # confidence level"
   ]
  },
  {
   "cell_type": "markdown",
   "metadata": {},
   "source": [
    "## [Step 1](https://www.arpm.co/lab/redirect.php?permalink=s_risk_attribution_norm-implementation-step01): Load data"
   ]
  },
  {
   "cell_type": "code",
   "execution_count": null,
   "metadata": {},
   "outputs": [],
   "source": [
    "path = '~/databases/temporary-databases/'\n",
    "df = pd.read_csv(path + 'db_attribution_normal.csv')\n",
    "beta = np.array(df['beta'].dropna(axis=0, how='all'))  # exposures\n",
    "# expectation of the risk factors (Z_0,Z_1)\n",
    "mu_z = np.array(df['mu_z_z'].dropna(axis=0, how='all'))\n",
    "n_ = len(mu_z)\n",
    "# covariance of the risk factors (Z_0,Z_1)\n",
    "sig2_z = np.array(df['sig2_z_z'].dropna(axis=0, how='all')).reshape(n_, n_)\n",
    "\n",
    "path = '~/databases/temporary-databases/'\n",
    "db = pd.read_csv(path + 'db_evaluation_satis_normal.csv')\n",
    "sd_pi = int(np.array(db['-sig_pi_h'].iloc[0]))\n",
    "cvar_pi_h = int(np.array(db['cvar_pi_h'].iloc[0]))"
   ]
  },
  {
   "cell_type": "markdown",
   "metadata": {},
   "source": [
    "## [Step 2](https://www.arpm.co/lab/redirect.php?permalink=s_risk_attribution_norm-implementation-step02): First-in/isolated marginal contributions"
   ]
  },
  {
   "cell_type": "code",
   "execution_count": null,
   "metadata": {},
   "outputs": [],
   "source": [
    "beta = np.array([1, float(beta)])\n",
    "satis_bkzk = -np.abs(beta)*np.sqrt(np.diag(sig2_z)).T\n",
    "gamma_isol = sd_pi / np.sum(satis_bkzk)  # \"first in\" normalization constant\n",
    "satis_k_isol = gamma_isol*satis_bkzk  # \"first in\" proportional contributions"
   ]
  },
  {
   "cell_type": "markdown",
   "metadata": {},
   "source": [
    "## [Step 3](https://www.arpm.co/lab/redirect.php?permalink=s_risk_attribution_norm-implementation-step03): Last-in marginal contributions"
   ]
  },
  {
   "cell_type": "code",
   "execution_count": null,
   "metadata": {},
   "outputs": [],
   "source": [
    "first = sd_pi - satis_bkzk[0]\n",
    "second = sd_pi - satis_bkzk[1]\n",
    "gamma_last = sd_pi / (first + second)  # \"last in\" normalization constant\n",
    "# \"last in\" proportional contributions\n",
    "sd_last_0 = first*gamma_last\n",
    "sd_last_1 = second*gamma_last"
   ]
  },
  {
   "cell_type": "markdown",
   "metadata": {},
   "source": [
    "## [Step 4](https://www.arpm.co/lab/redirect.php?permalink=s_risk_attribution_norm-implementation-step04): sequential risk contributions"
   ]
  },
  {
   "cell_type": "code",
   "execution_count": null,
   "metadata": {
    "lines_to_end_of_cell_marker": 0,
    "lines_to_next_cell": 1
   },
   "outputs": [],
   "source": [
    "index = [1, 0]\n",
    "beta_perm = beta[index]\n",
    "sig2_z_perm = sig2_z[:, index][index]\n",
    "\n",
    "# sequential risk contributions\n",
    "sd_seq = np.zeros(n_)\n",
    "sd_seq[0] = -np.sqrt(beta_perm[0] * sig2_z_perm[0, 0] * beta_perm[0])\n",
    "for k in range(1, n_):\n",
    "    sd_seq[k] = -np.sqrt(beta_perm[:k+1] @ sig2_z_perm[:k+1, :k+1]\n",
    "                         @ beta_perm[:k+1].T) +\\\n",
    "                np.sqrt(beta_perm[:k] @\n",
    "                        sig2_z_perm[:k, :k] @ beta_perm[:k].T)"
   ]
  },
  {
   "cell_type": "markdown",
   "metadata": {},
   "source": [
    "## [Step 5](https://www.arpm.co/lab/redirect.php?permalink=s_risk_attribution_norm-implementation-step05): Shapley risk contributions"
   ]
  },
  {
   "cell_type": "code",
   "execution_count": null,
   "metadata": {},
   "outputs": [],
   "source": [
    "def ncr(n, r):\n",
    "        return factorial(n-r)*factorial(r-1) / factorial(n)\n",
    "\n",
    "j0 = [[0], [0, 1]]\n",
    "j1 = [[1], [0, 1]]\n",
    "\n",
    "# Shapley risk contributions\n",
    "satis_shapley_0 = -ncr(n_, len(j0[0])) * np.sqrt(beta[0]**2*sig2_z[0, 0]) + \\\n",
    "                 ncr(n_, len(j0[1])) * (-np.sqrt(beta@sig2_z@beta.T) +\n",
    "                                        np.sqrt(beta[1]**2*sig2_z[1, 1]))\n",
    "satis_shapley_1 = -ncr(n_, len(j1[0])) * np.sqrt(beta[1]**2*sig2_z[1, 1]) + \\\n",
    "                 ncr(n_, len(j1[1])) * (-np.sqrt(beta@sig2_z@beta.T) +\n",
    "                                        np.sqrt(beta[0]**2*sig2_z[0, 0]))"
   ]
  },
  {
   "cell_type": "markdown",
   "metadata": {},
   "source": [
    "## [Step 6](https://www.arpm.co/lab/redirect.php?permalink=s_risk_attribution_norm-implementation-step06): Euler marginal contributions: standard deviation"
   ]
  },
  {
   "cell_type": "code",
   "execution_count": null,
   "metadata": {},
   "outputs": [],
   "source": [
    "ss = sig2_z@beta.T\n",
    "# st. dev. Euler contributions\n",
    "sd_euler_0 = -beta[0]*ss[0]/sd_pi\n",
    "sd_euler_1 = -beta[1]*ss[1]/sd_pi"
   ]
  },
  {
   "cell_type": "markdown",
   "metadata": {},
   "source": [
    "## [Step 7](https://www.arpm.co/lab/redirect.php?permalink=s_risk_attribution_norm-implementation-step07): Euler marginal contributions: variance"
   ]
  },
  {
   "cell_type": "code",
   "execution_count": null,
   "metadata": {},
   "outputs": [],
   "source": [
    "# variance Euler contributions\n",
    "var_euler_0 = -beta[0]*ss[0]\n",
    "var_euler_1 = -beta[1]*ss[1]"
   ]
  },
  {
   "cell_type": "markdown",
   "metadata": {},
   "source": [
    "## [Step 8](https://www.arpm.co/lab/redirect.php?permalink=s_risk_attribution_norm-implementation-step08): Euler marginal contributions: cVaR"
   ]
  },
  {
   "cell_type": "code",
   "execution_count": null,
   "metadata": {},
   "outputs": [],
   "source": [
    "integral = -1 / (np.sqrt(2*np.pi))*np.exp(-(erfinv(1 - 2*c)) ** 2)\n",
    "\n",
    "# marginal contributions (cVaR)\n",
    "es_euler_0 = beta[0]*mu_z[0] + beta[0] *\\\n",
    "             (sig2_z@beta.T)[0]/np.sqrt(beta@sig2_z@(beta.T))/(1 - c)*integral\n",
    "es_euler_1 = beta[1]*mu_z[1] + beta[1] *\\\n",
    "             (sig2_z@beta.T)[1]/np.sqrt(beta@sig2_z@(beta.T))/(1 - c)*integral"
   ]
  }
 ],
 "metadata": {
  "jupytext": {
   "encoding": "# -*- coding: utf-8 -*-",
   "executable": "/usr/bin/env python3"
  },
  "kernelspec": {
   "display_name": "Python 3",
   "language": "python",
   "name": "python3"
  }
 },
 "nbformat": 4,
 "nbformat_minor": 4
}
