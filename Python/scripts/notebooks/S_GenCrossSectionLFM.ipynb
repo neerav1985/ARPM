{
 "cells": [
  {
   "cell_type": "markdown",
   "metadata": {},
   "source": [
    "# S_GenCrossSectionLFM [<img src=\"https://www.arpm.co/lab/icons/icon_permalink.png\" width=30 height=30 style=\"display: inline;\">](https://www.arpm.co/lab/redirect.php?code=S_GenCrossSectionLFM&codeLang=Python)\n",
    "For details, see [here](https://www.arpm.co/lab/redirect.php?permalink=eb-lfmgen-cross)."
   ]
  },
  {
   "cell_type": "markdown",
   "metadata": {},
   "source": [
    "## Prepare the environment"
   ]
  },
  {
   "cell_type": "code",
   "execution_count": null,
   "metadata": {},
   "outputs": [],
   "source": [
    "import os.path as path\n",
    "import sys\n",
    "\n",
    "sys.path.append(path.abspath('../../functions-legacy'))\n",
    "\n",
    "import numpy as np\n",
    "from numpy import reshape, array, zeros, diag, eye, r_\n",
    "\n",
    "from scipy.linalg import kron\n",
    "\n",
    "import matplotlib.pyplot as plt\n",
    "\n",
    "from quadprog import quadprog\n",
    "\n",
    "plt.style.use('seaborn')"
   ]
  },
  {
   "cell_type": "markdown",
   "metadata": {},
   "source": [
    "## Computations"
   ]
  },
  {
   "cell_type": "code",
   "execution_count": null,
   "metadata": {},
   "outputs": [],
   "source": [
    "# set  inputs\n",
    "m_X = array([[-0.5], [1]])  # expectation of target variable X\n",
    "s2_X = array([[1, .1], [.1, .2]])  # covariance of target variable X\n",
    "\n",
    "beta = array([[1], [1]])  # loadings\n",
    "\n",
    "n_ = m_X.shape[0]  # target dimension\n",
    "k_ = beta.shape[1]  # number of factors\n",
    "i_n = eye(n_)\n",
    "i_k = eye(k_)\n",
    "\n",
    "km = zeros((k_*n_, k_*n_))  # commutation matrix\n",
    "for n  in range(n_):\n",
    "    for k in range(k_):\n",
    "        km = km + kron(i_k[:,[k]]@i_n[:, [n]].T, i_n[:,[n]]@i_k[:, [k]].T)\n",
    "\n",
    "# set inputs for quadratic programming problem\n",
    "invsigma2 = np.diagflat(1 / diag(s2_X))\n",
    "pos = beta.T@invsigma2@s2_X\n",
    "g = -pos.flatten()\n",
    "q = kron(s2_X, beta.T@invsigma2@beta)\n",
    "q_, _ = q.shape\n",
    "\n",
    "# linear constraints\n",
    "v = array([[-1, 1]])\n",
    "d_eq = kron(i_k, v@s2_X)@km\n",
    "b_eq = zeros((k_ ** 2, 1))\n",
    "\n",
    "# compute extraction matrix\n",
    "# options = optimoptions(('quadprog','MaxIter.T, 2000, .TAlgorithm','interior-point-convex'))\n",
    "c = quadprog(q, g, d_eq, b_eq)\n",
    "\n",
    "gamma = reshape(c, (k_, n_),'F')\n",
    "alpha = (i_n - beta@gamma)@m_X\n",
    "\n",
    "# joint distribution of residulas U and factor Z\n",
    "m = r_[i_n - beta@gamma, gamma]\n",
    "\n",
    "m_jointUZ = m@m_X - r_[alpha, zeros((k_, 1))]\n",
    "s2_jointUZ = m@s2_X@m.T"
   ]
  }
 ],
 "metadata": {
  "jupytext": {
   "encoding": "# -*- coding: utf-8 -*-",
   "executable": "/usr/bin/env python3"
  },
  "kernelspec": {
   "display_name": "Python 3",
   "language": "python",
   "name": "python3"
  }
 },
 "nbformat": 4,
 "nbformat_minor": 4
}
