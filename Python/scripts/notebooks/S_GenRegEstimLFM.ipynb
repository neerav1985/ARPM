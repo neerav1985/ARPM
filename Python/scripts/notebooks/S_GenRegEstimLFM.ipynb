{
 "cells": [
  {
   "cell_type": "markdown",
   "metadata": {},
   "source": [
    "# S_GenRegEstimLFM [<img src=\"https://www.arpm.co/lab/icons/icon_permalink.png\" width=30 height=30 style=\"display: inline;\">](https://www.arpm.co/lab/redirect.php?code=S_GenRegEstimLFM&codeLang=Python)\n",
    "For details, see [here](https://www.arpm.co/lab/redirect.php?permalink=eb-3-ex-un-ts-ind-factor)."
   ]
  },
  {
   "cell_type": "markdown",
   "metadata": {},
   "source": [
    "## Prepare the environment"
   ]
  },
  {
   "cell_type": "code",
   "execution_count": null,
   "metadata": {},
   "outputs": [],
   "source": [
    "import os\n",
    "import os.path as path\n",
    "import sys\n",
    "\n",
    "sys.path.append(path.abspath('../../functions-legacy'))\n",
    "from collections import namedtuple\n",
    "\n",
    "import numpy as np\n",
    "from numpy import reshape, ones, zeros, tril, diag, eye, round, log, sqrt, r_, array\n",
    "\n",
    "from scipy.linalg import kron\n",
    "from scipy.io import loadmat\n",
    "\n",
    "import matplotlib.pyplot as plt\n",
    "from matplotlib.pyplot import figure, bar, title\n",
    "\n",
    "from quadprog import quadprog\n",
    "plt.style.use('seaborn')\n",
    "\n",
    "from CONFIG import GLOBAL_DB, TEMPORARY_DB\n",
    "from ARPM_utils import save_plot, struct_to_dict\n",
    "from FPmeancov import FPmeancov\n",
    "from HistogramFP import HistogramFP\n",
    "\n",
    "# input parameters\n",
    "n_ = 100  # target dimension\n",
    "k_ = 10  # number of factors\n",
    "I_n = eye(n_)\n",
    "I_k = eye(k_)"
   ]
  },
  {
   "cell_type": "markdown",
   "metadata": {},
   "source": [
    "## Load weekly observations of the stocks"
   ]
  },
  {
   "cell_type": "code",
   "execution_count": null,
   "metadata": {},
   "outputs": [],
   "source": [
    "try:\n",
    "    db = loadmat(os.path.join(GLOBAL_DB, 'db_Securities_TS'), squeeze_me=True)\n",
    "except FileNotFoundError:\n",
    "    db = loadmat(os.path.join(TEMPORARY_DB, 'db_Securities_TS'), squeeze_me=True)\n",
    "\n",
    "data = db['data']\n",
    "\n",
    "data_securities = data[1:,:]  # 1st row is for date"
   ]
  },
  {
   "cell_type": "markdown",
   "metadata": {},
   "source": [
    "## Load weekly observations of sector indices"
   ]
  },
  {
   "cell_type": "code",
   "execution_count": null,
   "metadata": {},
   "outputs": [],
   "source": [
    "try:\n",
    "    db = loadmat(os.path.join(GLOBAL_DB, 'db_Sectors_TS'), squeeze_me=True)\n",
    "except FileNotFoundError:\n",
    "    db = loadmat(os.path.join(TEMPORARY_DB, 'db_Sectors_TS'), squeeze_me=True)\n",
    "\n",
    "data = db['data']\n",
    "\n",
    "data_sectors = data[2:,:]  # 1st row is for date, 2nd row is SPX index"
   ]
  },
  {
   "cell_type": "markdown",
   "metadata": {},
   "source": [
    "## Compute linear returns of stocks"
   ]
  },
  {
   "cell_type": "code",
   "execution_count": null,
   "metadata": {},
   "outputs": [],
   "source": [
    "Vstock = data_securities[:n_,:]  # values\n",
    "X = (Vstock[:, 1:] - Vstock[:, : -1]) / Vstock[:, : -1]\n",
    "[_, t_] = X.shape\n",
    "p = ones((1, t_)) / t_  # Flexible Probabilities"
   ]
  },
  {
   "cell_type": "markdown",
   "metadata": {},
   "source": [
    "## Compute linear returns of sector indices"
   ]
  },
  {
   "cell_type": "code",
   "execution_count": null,
   "metadata": {},
   "outputs": [],
   "source": [
    "Vsector = data_sectors[:k_,:]  # values\n",
    "Z = (Vsector[:, 1:] - Vsector[:, : -1]) / Vsector[:, : -1]"
   ]
  },
  {
   "cell_type": "markdown",
   "metadata": {},
   "source": [
    "## Compute statistics of the joint distribution of X,Z"
   ]
  },
  {
   "cell_type": "code",
   "execution_count": null,
   "metadata": {},
   "outputs": [],
   "source": [
    "[m_XZ, s2_XZ] = FPmeancov(r_[X, Z], p)\n",
    "s2_X = s2_XZ[:n_, :n_]\n",
    "s_XZ = s2_XZ[:n_, n_:n_ + k_]\n",
    "s2_Z = s2_XZ[n_ :n_ + k_, n_ :n_ + k_]"
   ]
  },
  {
   "cell_type": "markdown",
   "metadata": {},
   "source": [
    "## Solve generalized regression LFM\n",
    "## set inputs for quadratic programming problem"
   ]
  },
  {
   "cell_type": "code",
   "execution_count": null,
   "metadata": {},
   "outputs": [],
   "source": [
    "d = np.diagflat(1 / diag(s2_X))\n",
    "pos = d@s_XZ\n",
    "g = -pos.flatten()\n",
    "q = kron(s2_Z, d)\n",
    "q_, _ = q.shape\n",
    "\n",
    "# set constraints\n",
    "a_eq = ones((1, n_*k_)) / (n_*k_)\n",
    "b_eq = array([[1]])\n",
    "lb = 0.8*ones((n_*k_, 1))\n",
    "ub = 1.2*ones((n_*k_, 1))\n",
    "\n",
    "# compute optimal loadings\n",
    "b = quadprog(q, g, a_eq, b_eq, lb, ub)\n",
    "b = np.array(b)\n",
    "\n",
    "beta = reshape(b, (n_, k_),'F')\n",
    "alpha = m_XZ[:n_] - beta@m_XZ[n_ :n_ + k_]"
   ]
  },
  {
   "cell_type": "markdown",
   "metadata": {},
   "source": [
    "## Residuals analysis\n",
    "## compute statistics of the joint distribution of residuals and factors"
   ]
  },
  {
   "cell_type": "code",
   "execution_count": null,
   "metadata": {},
   "outputs": [],
   "source": [
    "m = r_[r_['-1',I_n, - beta], r_['-1',zeros((k_, n_)), I_k]]\n",
    "m_UZ = m@m_XZ - r_[alpha, zeros((k_, 1))]  # joint expectation\n",
    "s2_UZ = m@s2_XZ@m.T  # joint covariance\n",
    "\n",
    "# compute correlation matrix\n",
    "sigma = sqrt(diag(s2_UZ))\n",
    "c2_UZ = np.diagflat(1 / sigma)@s2_UZ@np.diagflat(1 / sigma)\n",
    "\n",
    "c_UZ = c2_UZ[:n_, n_ :n_ + k_]\n",
    "c2_U = tril(c2_UZ[:n_, :n_], -1)"
   ]
  },
  {
   "cell_type": "markdown",
   "metadata": {},
   "source": [
    "## Plot (untruncated) correlations among residuals\n",
    "## reshape the correlations in a column vector"
   ]
  },
  {
   "cell_type": "code",
   "execution_count": null,
   "metadata": {},
   "outputs": [],
   "source": [
    "corr_U = []\n",
    "for i in range(1,n_):\n",
    "    corr_U = r_[corr_U, c2_U[i:,i-1]]  # ## reshape the correlations in a column vector\n",
    "\n",
    "nbins = round(5*log(len(corr_U)))\n",
    "p = ones((1, len(corr_U))) / len(corr_U)\n",
    "option = namedtuple('option', 'n_bins')\n",
    "option.n_bins = nbins\n",
    "[n, xout] = HistogramFP(corr_U.reshape(1,-1), p, option)\n",
    "\n",
    "figure()\n",
    "\n",
    "h = bar(xout[:-1], n[0], width=xout[1]-xout[0],facecolor= [.7, .7, .7],edgecolor='k')\n",
    "title('Correlations among residuals')"
   ]
  },
  {
   "cell_type": "markdown",
   "metadata": {},
   "source": [
    "## Plot (untruncated) correlations between factors and residuals"
   ]
  },
  {
   "cell_type": "code",
   "execution_count": null,
   "metadata": {},
   "outputs": [],
   "source": [
    "corr_UZ = reshape(c_UZ, (n_*k_, 1),'F')"
   ]
  },
  {
   "cell_type": "markdown",
   "metadata": {},
   "source": [
    "## reshape the correlations in a column vector"
   ]
  },
  {
   "cell_type": "code",
   "execution_count": null,
   "metadata": {},
   "outputs": [],
   "source": [
    "p = ones((1, corr_UZ.shape[0])) / corr_UZ.shape[0]\n",
    "[n, xout] = HistogramFP(corr_UZ.T, p, option)\n",
    "\n",
    "figure()\n",
    "h = bar(xout[:-1], n[0], width=xout[1]-xout[0],facecolor= [.7, .7, .7],edgecolor='k')\n",
    "title('Correlations between factors residuals');\n",
    "# save_plot(ax=plt.gca(), extension='png', scriptname=os.path.basename('.')[:-3], count=plt.get_fignums()[-1])\n"
   ]
  }
 ],
 "metadata": {
  "jupytext": {
   "encoding": "# -*- coding: utf-8 -*-",
   "executable": "/usr/bin/env python3"
  },
  "kernelspec": {
   "display_name": "Python 3",
   "language": "python",
   "name": "python3"
  }
 },
 "nbformat": 4,
 "nbformat_minor": 4
}
