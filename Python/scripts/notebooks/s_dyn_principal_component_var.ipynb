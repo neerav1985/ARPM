{
 "cells": [
  {
   "cell_type": "markdown",
   "metadata": {},
   "source": [
    "# s_dyn_principal_component_var [<img src=\"https://www.arpm.co/lab/icons/icon_permalink.png\" width=30 height=30 style=\"display: inline;\">](https://www.arpm.co/lab/redirect.php?code=s_dyn_principal_component_var&codeLang=Python)\n",
    "For details, see [here](https://www.arpm.co/lab/redirect.php?permalink=eb-dyn-pc-var)."
   ]
  },
  {
   "cell_type": "code",
   "execution_count": null,
   "metadata": {},
   "outputs": [],
   "source": [
    "import numpy as np\n",
    "import matplotlib.pyplot as plt\n",
    "from matplotlib import gridspec\n",
    "from arpym.statistics.simulate_var1 import simulate_var1\n",
    "from arpym.statistics.simulate_normal import simulate_normal\n",
    "from arpym.statistics.multi_r2 import multi_r2\n",
    "from arpym.tools.transpose_square_root import transpose_square_root\n",
    "from arpym.tools.logo import add_logo"
   ]
  },
  {
   "cell_type": "markdown",
   "metadata": {},
   "source": [
    "## [Input parameters](https://www.arpm.co/lab/redirect.php?permalink=s_dyn_principal_component_var-parameters)"
   ]
  },
  {
   "cell_type": "code",
   "execution_count": null,
   "metadata": {},
   "outputs": [],
   "source": [
    "n_ = 2  # number of target variables\n",
    "k_ = 1  # number of factors\n",
    "t_ = int(1e4)  # length of VAR(1) process\n",
    "j_ = int(1e2)  # number of scenarios\n",
    "delta_omega = 1e-3\n",
    "sigma2 = np.eye(n_)  # scale matrix"
   ]
  },
  {
   "cell_type": "markdown",
   "metadata": {},
   "source": [
    "## [Step 0](https://www.arpm.co/lab/redirect.php?permalink=s_dyn_principal_component_var-implementation-step00): Setup parameters"
   ]
  },
  {
   "cell_type": "code",
   "execution_count": null,
   "metadata": {},
   "outputs": [],
   "source": [
    "t_vec = np.arange(t_)\n",
    "tau_vec = np.arange(-j_, j_+1)\n",
    "omega_vec = np.arange(-np.pi, np.pi, delta_omega)\n",
    "m_ = len(omega_vec)\n",
    "gamma = (2 * np.random.rand(4) - 1) * 0.99\n",
    "theta = gamma * np.pi / 2\n",
    "\n",
    "b = np.array([[np.sin(theta[0]), 0],\n",
    "               [np.sin(theta[3])*np.sin(theta[2]),\n",
    "                np.sin(theta[3])*np.cos(theta[2])]])\n",
    "\n",
    "mu_epsi = np.zeros(n_)\n",
    "s_1 = np.cos(theta[0])\n",
    "s_2 = np.cos(theta[3])\n",
    "rho = np.sin(theta[1])\n",
    "sigma2_epsi = np.array([[s_1**2, rho*s_1*s_2],\n",
    "                        [rho*s_1*s_2, s_2**2]])"
   ]
  },
  {
   "cell_type": "markdown",
   "metadata": {},
   "source": [
    "## [Step 1](https://www.arpm.co/lab/redirect.php?permalink=s_dyn_principal_component_var-implementation-step01): Simulate VAR(1) process"
   ]
  },
  {
   "cell_type": "code",
   "execution_count": null,
   "metadata": {},
   "outputs": [],
   "source": [
    "mu_inf = np.linalg.solve(np.eye(n_) - b, mu_epsi)\n",
    "sigma2_inf = np.linalg.solve(np.eye(n_**2) - np.kron(b, b),\n",
    "                             sigma2.reshape(n_**2, 1)).reshape(n_, n_)\n",
    "x_tnow = simulate_normal(mu_inf, sigma2_inf, 1).reshape(n_)\n",
    "\n",
    "x = simulate_var1(x_tnow, b, mu_epsi, sigma2_epsi, t_, j_=1).squeeze()\n",
    "mu_x = np.linalg.solve((np.eye(n_) - b), mu_epsi)\n",
    "sigma2_x = np.linalg.solve(np.eye(n_ ** 2) - np.kron(b, b),\n",
    "                           sigma2_epsi.reshape(n_ ** 2, 1)).reshape(n_, n_)"
   ]
  },
  {
   "cell_type": "markdown",
   "metadata": {},
   "source": [
    "## [Step 2](https://www.arpm.co/lab/redirect.php?permalink=s_dyn_principal_component_var-implementation-step02): Compute spectral density"
   ]
  },
  {
   "cell_type": "code",
   "execution_count": null,
   "metadata": {},
   "outputs": [],
   "source": [
    "ktilde_x = np.zeros((m_, n_, n_), dtype=complex)\n",
    "\n",
    "sigma_epsi = transpose_square_root(sigma2_epsi)\n",
    "for m in range(m_):\n",
    "    ktilde_x_temp = np.linalg.solve(np.eye(n_, dtype=complex) -\n",
    "                               np.exp(-omega_vec[m]*1j) * b, sigma_epsi)\n",
    "    ktilde_x[m, :, :] = ktilde_x_temp @ ktilde_x_temp.conj().T"
   ]
  },
  {
   "cell_type": "markdown",
   "metadata": {},
   "source": [
    "## [Step 3](https://www.arpm.co/lab/redirect.php?permalink=s_dyn_principal_component_var-implementation-step03): Principal components decomposition"
   ]
  },
  {
   "cell_type": "code",
   "execution_count": null,
   "metadata": {},
   "outputs": [],
   "source": [
    "lam, e = np.linalg.eigh(ktilde_x)\n",
    "lam_k = lam[:, -k_:][:, ::-1]\n",
    "e_k = e[:, :, -k_:][:, :, ::-1]\n",
    "\n",
    "sigma = transpose_square_root(sigma2)\n",
    "\n",
    "beta_tilde_f = np.einsum('ij,ljk->lik', sigma, e_k)\n",
    "gamma_tilde_f = np.einsum('ijk,kl->ijl',\n",
    "                          e_k.conj().transpose((0, 2, 1)),\n",
    "                          np.linalg.inv(sigma))"
   ]
  },
  {
   "cell_type": "markdown",
   "metadata": {},
   "source": [
    "## [Step 4](https://www.arpm.co/lab/redirect.php?permalink=s_dyn_principal_component_var-implementation-step04): Computation of the filter h"
   ]
  },
  {
   "cell_type": "code",
   "execution_count": null,
   "metadata": {},
   "outputs": [],
   "source": [
    "h_tilde_f = np.einsum('ijk,ikl->ijl', beta_tilde_f, gamma_tilde_f)\n",
    "\n",
    "coef = np.exp(1j * np.outer(tau_vec, omega_vec))\n",
    "h_f = np.real(np.tensordot(coef, h_tilde_f, axes=(1, 0)) *\n",
    "              delta_omega / (2 * np.pi))\n",
    "gamma_f = np.tensordot(coef, gamma_tilde_f, axes=(1, 0)) * \\\n",
    "          delta_omega / (2 * np.pi)\n",
    "alpha_f = (np.eye(n_) - np.sum(h_f, axis=0)) @ mu_x"
   ]
  },
  {
   "cell_type": "markdown",
   "metadata": {},
   "source": [
    "## [Step 5](https://www.arpm.co/lab/redirect.php?permalink=s_dyn_principal_component_var-implementation-step05): Compute the spectral density of predicted process"
   ]
  },
  {
   "cell_type": "code",
   "execution_count": null,
   "metadata": {},
   "outputs": [],
   "source": [
    "ktilde_x_pc_bar = np.einsum('ijk,ilk->ijl',\n",
    "                   np.einsum('ijk,ikl->ijl', h_tilde_f, ktilde_x), h_tilde_f.conj())"
   ]
  },
  {
   "cell_type": "markdown",
   "metadata": {},
   "source": [
    "## [Step 6](https://www.arpm.co/lab/redirect.php?permalink=s_dyn_principal_component_var-implementation-step06): Compute the principal components predicted process"
   ]
  },
  {
   "cell_type": "code",
   "execution_count": null,
   "metadata": {},
   "outputs": [],
   "source": [
    "t_vec_pc = t_vec[tau_vec[-1]:-tau_vec[-1]]\n",
    "t_pc = t_vec_pc.shape[0]\n",
    "x_pc_bar = np.zeros((t_pc, n_), dtype=complex)\n",
    "z_pc = np.zeros((t_pc, k_), dtype=complex)\n",
    "\n",
    "for t in range(t_pc):\n",
    "    x_tau = x[t_vec_pc[t] + tau_vec, :][::-1, :]\n",
    "    x_pc_bar[t, :] = np.einsum('ijk,ik->j', h_f, x_tau) + alpha_f\n",
    "    z_pc[t, :] = np.einsum('ijk,ik->j', gamma_f, x_tau)\n",
    "\n",
    "x_pc_bar = np.real(x_pc_bar)\n",
    "z_pc = np.real(z_pc)"
   ]
  },
  {
   "cell_type": "markdown",
   "metadata": {},
   "source": [
    "## [Step 7](https://www.arpm.co/lab/redirect.php?permalink=s_dyn_principal_component_var-implementation-step07): update times of original process x"
   ]
  },
  {
   "cell_type": "code",
   "execution_count": null,
   "metadata": {},
   "outputs": [],
   "source": [
    "x = x[t_vec_pc, :]"
   ]
  },
  {
   "cell_type": "markdown",
   "metadata": {},
   "source": [
    "## [Step 8](https://www.arpm.co/lab/redirect.php?permalink=s_dyn_principal_component_var-implementation-step08): Compute r-squared"
   ]
  },
  {
   "cell_type": "code",
   "execution_count": null,
   "metadata": {},
   "outputs": [],
   "source": [
    "u = x - x_pc_bar\n",
    "sigma2_u = np.einsum('ijk,ilk->ijl',\n",
    "                     np.einsum('ijk,ikl->ijl', np.eye(n_) - h_tilde_f, ktilde_x),\n",
    "                     (np.eye(n_) - h_tilde_f).conj())\n",
    "sigma2_u = np.sum(np.real(sigma2_u), axis=0) * delta_omega / (2 * np.pi)\n",
    "r_2 = multi_r2(sigma2_u, sigma2_x, sigma2)"
   ]
  },
  {
   "cell_type": "markdown",
   "metadata": {},
   "source": [
    "## Plots"
   ]
  },
  {
   "cell_type": "code",
   "execution_count": null,
   "metadata": {},
   "outputs": [],
   "source": [
    "plt.style.use('arpm')\n",
    "\n",
    "t_plot = t_vec_pc[1:150]\n",
    "xlim = [t_plot[0], t_plot[-1]]\n",
    "ylim = [-4, 4]\n",
    "\n",
    "fig1, axes = plt.subplots(1, 2)\n",
    "axes[0].plot(t_plot, x[t_plot, 0], 'b')\n",
    "axes[0].plot(t_plot, x[t_plot, 0], 'r--')\n",
    "axes[0].set_xlabel('$t$')\n",
    "axes[0].set_ylabel('$x_1$')\n",
    "axes[0].set_xlim(xlim)\n",
    "axes[0].set_ylim(ylim)\n",
    "axes[0].legend(['Process', 'Predicted process'])\n",
    "\n",
    "axes[1].plot(t_plot, x[t_plot, 1], 'b')\n",
    "axes[1].plot(t_plot, x[t_plot, 1], 'r--')\n",
    "axes[1].set_xlabel('$t$')\n",
    "axes[1].set_ylabel('$x_2$')\n",
    "axes[1].set_xlim(xlim)\n",
    "axes[1].set_ylim(ylim)\n",
    "axes[1].legend(['Process', 'Predicted process'])\n",
    "add_logo(fig1, size_frac_x=1/8)\n",
    "plt.tight_layout()\n",
    "\n",
    "fig2 = plt.figure()\n",
    "gs = gridspec.GridSpec(1, 3, width_ratios=[1, 3, 1])\n",
    "ax0 = plt.subplot(gs[0])\n",
    "ax0.plot(ylim, ylim, 'k')\n",
    "ax0.plot(x[t_plot, 0], x_pc_bar[t_plot, 0], 'r.')\n",
    "ax0.set_xlabel('$x_1$')\n",
    "ax0.set_ylabel('$\\overline{x}_{1}^{pc}$')\n",
    "ax0.set_xlim(ylim)\n",
    "ax0.set_ylim(ylim)\n",
    "\n",
    "ax1 = plt.subplot(gs[1])\n",
    "ax1.plot(t_plot, z_pc[t_plot, 0], 'b')\n",
    "ax1.set_xlabel('$t$')\n",
    "ax1.set_ylabel('$Z^{pc}$')\n",
    "ax1.set_xlim(xlim)\n",
    "\n",
    "ax2 = plt.subplot(gs[2])\n",
    "ax2.plot(ylim, ylim, 'k')\n",
    "ax2.plot(x[t_plot, 1], x_pc_bar[t_plot, 1], 'r.')\n",
    "ax2.set_xlabel('$x_2$')\n",
    "ax2.set_ylabel('$\\overline{x}_{2}^{pc}$')\n",
    "ax2.set_xlim(ylim)\n",
    "ax1.set_ylim(ylim)\n",
    "add_logo(fig2, size_frac_x=1/4)\n",
    "plt.tight_layout()\n",
    "\n",
    "fig3, axes = plt.subplots(2, 4)\n",
    "for i in range(2):\n",
    "    for j in range(2):\n",
    "        axes[i, j].plot(omega_vec, np.real(ktilde_x[:, i, j]), 'b')\n",
    "        axes[i, j].plot(omega_vec, np.imag(ktilde_x[:, i, j]), 'r')\n",
    "        axes[i, j].set_xticks([-np.pi, -np.pi/2, 0, np.pi/2, np.pi])\n",
    "        axes[i, j].set_xticklabels(['$-\\pi$', '$-\\pi/2$',\n",
    "                                    '$0$', '$\\pi$', '$\\pi/2$'])\n",
    "        axes[i, j].set_ylabel(r'$[\\tilde{k}_x(\\omega)]_{'+str(i+1)+str(j+1)+'}$')\n",
    "    for j in range(2):\n",
    "        axes[i, j+2].plot(omega_vec, np.real(ktilde_x_pc_bar[:, i, j]), 'b')\n",
    "        axes[i, j+2].plot(omega_vec, np.imag(ktilde_x_pc_bar[:, i, j]), 'r')\n",
    "        axes[i, j+2].set_xticks([-np.pi, -np.pi/2, 0, np.pi/2, np.pi])\n",
    "        axes[i, j+2].set_xticklabels(['$-\\pi$', '$-\\pi/2$',\n",
    "                                     '$0$', '$\\pi$', '$\\pi/2$'])\n",
    "        axes[i, j+2].set_ylabel(r'$[\\tilde{k}_{\\bar{x}}(\\omega)]^{pc}_{'+str(i+1)+str(j+1)+'}$')\n",
    "add_logo(fig3, size_frac_x=1/4, location=1)\n",
    "plt.tight_layout()"
   ]
  }
 ],
 "metadata": {
  "jupytext": {
   "encoding": "# -*- coding: utf-8 -*-",
   "executable": "/usr/bin/env python3"
  },
  "kernelspec": {
   "display_name": "Python 3",
   "language": "python",
   "name": "python3"
  }
 },
 "nbformat": 4,
 "nbformat_minor": 4
}
