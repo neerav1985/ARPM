{
 "cells": [
  {
   "cell_type": "markdown",
   "metadata": {},
   "source": [
    "# s_display_dirac_delta [<img src=\"https://www.arpm.co/lab/icons/icon_permalink.png\" width=30 height=30 style=\"display: inline;\">](https://www.arpm.co/lab/redirect.php?code=s_display_dirac_delta&codeLang=Python)\n",
    "For details, see [here](https://www.arpm.co/lab/redirect.php?permalink=ExerDeltaApprox)."
   ]
  },
  {
   "cell_type": "code",
   "execution_count": null,
   "metadata": {},
   "outputs": [],
   "source": [
    "import numpy as np\n",
    "import matplotlib.pyplot as plt\n",
    "from mpl_toolkits.mplot3d import Axes3D\n",
    "\n",
    "from arpym.statistics.gaussian_kernel import gaussian_kernel\n",
    "from arpym.tools.logo import add_logo"
   ]
  },
  {
   "cell_type": "markdown",
   "metadata": {},
   "source": [
    "## [Input parameters](https://www.arpm.co/lab/redirect.php?permalink=s_display_dirac_delta-parameters)"
   ]
  },
  {
   "cell_type": "code",
   "execution_count": null,
   "metadata": {},
   "outputs": [],
   "source": [
    "y = np.array([0, 0])\n",
    "h2 = 0.01\n",
    "k_ = 200"
   ]
  },
  {
   "cell_type": "markdown",
   "metadata": {},
   "source": [
    "## [Step 1](https://www.arpm.co/lab/redirect.php?permalink=s_display_dirac_delta-implementation-step01): Compute the Gaussian kernel"
   ]
  },
  {
   "cell_type": "code",
   "execution_count": null,
   "metadata": {},
   "outputs": [],
   "source": [
    "x_1_grid = np.linspace(-2+y[0], 2+y[0], k_)\n",
    "x_2_grid = np.linspace(-2+y[1], 2+y[1], k_)\n",
    "x_1, x_2 = np.meshgrid(x_1_grid, x_2_grid)\n",
    "\n",
    "delta_h2_y_x = np.array([gaussian_kernel(h2, y, x)\n",
    "                         for x in zip(np.ravel(x_1),\n",
    "                                      np.ravel(x_2))]).reshape(x_1.shape)"
   ]
  },
  {
   "cell_type": "markdown",
   "metadata": {},
   "source": [
    "## Plots"
   ]
  },
  {
   "cell_type": "code",
   "execution_count": null,
   "metadata": {},
   "outputs": [],
   "source": [
    "plt.style.use('arpm')\n",
    "fig, ax = plt.subplots(1, 1, subplot_kw={'projection': '3d'})\n",
    "ax.view_init(30, 30)\n",
    "\n",
    "ax.contour(x_1, x_2, delta_h2_y_x, 50, colors='blue')\n",
    "\n",
    "ax.text(y[0], y[1], np.max(delta_h2_y_x)*1.1,\n",
    "        r'$\\delta_{\\mathbf{%.2f}}^{(\\mathbf{y})}(\\mathbf{x})$' % h2,\n",
    "        color=\"blue\", fontsize=17)\n",
    "\n",
    "ax.scatter(y[0], y[1], 0, s=30, color='k')\n",
    "ax.text(y[0]+0.1, y[1]+0.1, 0, r'$\\mathbf{y}$', fontsize=17, color='k')\n",
    "\n",
    "plt.xlabel(r'$x_1$', labelpad=15, fontsize=17)\n",
    "plt.ylabel(r'$x_2$', labelpad=15, fontsize=17)\n",
    "plt.title('Approximation of Dirac delta with Gaussian kernel')\n",
    "\n",
    "tick_step = 2\n",
    "ticklabels = [ax.xaxis.get_ticklabels(), ax.yaxis.get_ticklabels()]\n",
    "for tl in ticklabels:\n",
    "    for n, label in enumerate(tl):\n",
    "        if n % tick_step != 0:\n",
    "            label.set_visible(False)\n",
    "\n",
    "ax.set_zticks([])\n",
    "ax.grid(False)\n",
    "\n",
    "add_logo(fig)"
   ]
  }
 ],
 "metadata": {
  "jupytext": {
   "encoding": "# -*- coding: utf-8 -*-",
   "executable": "/usr/bin/env python3"
  },
  "kernelspec": {
   "display_name": "Python 3",
   "language": "python",
   "name": "python3"
  }
 },
 "nbformat": 4,
 "nbformat_minor": 4
}
