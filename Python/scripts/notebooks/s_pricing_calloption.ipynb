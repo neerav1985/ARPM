{
 "cells": [
  {
   "cell_type": "markdown",
   "metadata": {},
   "source": [
    "# s_pricing_calloption [<img src=\"https://www.arpm.co/lab/icons/icon_permalink.png\" width=30 height=30 style=\"display: inline;\">](https://www.arpm.co/lab/redirect.php?code=s_pricing_calloption&codeLang=Python)\n",
    "For details, see [here](https://www.arpm.co/lab/redirect.php?permalink=eb-call-option-value)."
   ]
  },
  {
   "cell_type": "code",
   "execution_count": null,
   "metadata": {},
   "outputs": [],
   "source": [
    "import numpy as np\n",
    "import pandas as pd\n",
    "import matplotlib.pyplot as plt\n",
    "from scipy import interpolate\n",
    "\n",
    "from tqdm import trange\n",
    "\n",
    "from arpym.statistics.meancov_sp import meancov_sp\n",
    "from arpym.pricing.call_option_value import call_option_value\n",
    "from arpym.pricing.ytm_shadowrates import ytm_shadowrates\n",
    "from arpym.tools.logo import add_logo\n",
    "from arpym.tools.histogram_sp import histogram_sp"
   ]
  },
  {
   "cell_type": "markdown",
   "metadata": {},
   "source": [
    "## [Input parameters](https://www.arpm.co/lab/redirect.php?permalink=s_pricing_calloption-parameters)"
   ]
  },
  {
   "cell_type": "code",
   "execution_count": null,
   "metadata": {},
   "outputs": [],
   "source": [
    "tau_hor = 100  # time to horizon (in days)\n",
    "k_strk = 1407  # strike of the options on the S&P500 (in dollars)\n",
    "t_end = np.datetime64('2013-08-31')  # expiry date of the options\n",
    "y = 0.02  # yield curve (assumed flat and constant)"
   ]
  },
  {
   "cell_type": "markdown",
   "metadata": {},
   "source": [
    "## [Step 0](https://www.arpm.co/lab/redirect.php?permalink=s_pricing_calloption-implementation-step00): Import data"
   ]
  },
  {
   "cell_type": "code",
   "execution_count": null,
   "metadata": {},
   "outputs": [],
   "source": [
    "path = '~/databases/temporary-databases/'\n",
    "\n",
    "db_proj = pd.read_csv(path+'db_calloption_proj.csv', index_col=0)\n",
    "m_moneyness = np.array([float(col[col.find('m=')+2:col.find(' tau=')])\n",
    "                        for col in db_proj.columns[1:]])\n",
    "m_moneyness = np.unique(m_moneyness)\n",
    "tau_implvol = np.array([float(col[col.find(' tau=')+5:])\n",
    "                        for col in db_proj.columns[1:]])\n",
    "tau_implvol = np.unique(tau_implvol)\n",
    "db_proj_tools = pd.read_csv(path + 'db_calloption_proj_tools.csv',\n",
    "                            parse_dates=[0])\n",
    "j_ = db_proj_tools.j_[0].astype('int')\n",
    "t_m = db_proj_tools.dates.values.astype('datetime64[D]')\n",
    "m_ = t_m.shape[0]-1\n",
    "deltat_m = np.busday_count(t_m[0], t_m[1])\n",
    "if tau_hor > m_:\n",
    "    print(\" Projection doesn't have data until given horizon!!!\" +\n",
    "          \" Horizon lowered to \", m_)\n",
    "    tau_hor = m_\n",
    "# number of monitoring times\n",
    "m_ = tau_hor\n",
    "t_m = t_m[:m_+1]\n",
    "i_ = db_proj.shape[1]\n",
    "x_proj = db_proj.values.reshape(j_, -1, i_)\n",
    "x_proj = x_proj[:, :m_+1, :]\n",
    "x_tnow = x_proj[0, 0, :]"
   ]
  },
  {
   "cell_type": "markdown",
   "metadata": {},
   "source": [
    "## [Step 1](https://www.arpm.co/lab/redirect.php?permalink=s_pricing_calloption-implementation-step01): Pricing at the horizon"
   ]
  },
  {
   "cell_type": "code",
   "execution_count": null,
   "metadata": {},
   "outputs": [],
   "source": [
    "v_call_thor = np.zeros((j_, m_+1))\n",
    "log_sigma_atm = np.zeros((j_, m_+1))\n",
    "s_thor = np.zeros((j_, m_+1))\n",
    "\n",
    "points = list(zip(*[grid.flatten() for grid in\n",
    "                    np.meshgrid(*[tau_implvol, m_moneyness])]))\n",
    "for m in trange(m_+1,desc='Day'):\n",
    "    tau = np.busday_count(t_m[m], t_end)/252\n",
    "    if tau < tau_implvol[0]:\n",
    "        tau = tau_implvol[0]\n",
    "    for j in range(j_):\n",
    "        # compute shadow yield\n",
    "        x_y = ytm_shadowrates(np.array([y]))\n",
    "        x_y = np.atleast_1d(x_y)\n",
    "        # compute call option value\n",
    "        v_call_thor[j, m] = \\\n",
    "            call_option_value(t_m[m], x_proj[j, m, 0], x_y, tau,\n",
    "                              x_proj[j, m, 1:], m_moneyness, tau_implvol,\n",
    "                              k_strk, t_end)\n",
    "        # compute log-implied volatility at the money\n",
    "        log_sigma_atm[j, m] = \\\n",
    "            interpolate.LinearNDInterpolator(points,\n",
    "                                             x_proj[j, m, 1:])(*np.r_[tau, 0])"
   ]
  },
  {
   "cell_type": "markdown",
   "metadata": {},
   "source": [
    "## [Step 2](https://www.arpm.co/lab/redirect.php?permalink=s_pricing_calloption-implementation-step02): Scenario-probability expectations and standard deviations"
   ]
  },
  {
   "cell_type": "code",
   "execution_count": null,
   "metadata": {},
   "outputs": [],
   "source": [
    "mu_v = np.zeros(m_+1)\n",
    "sig_v = np.zeros(m_+1)\n",
    "\n",
    "for m in range(len(t_m)):\n",
    "    mu_v[m], sig1 = meancov_sp(v_call_thor[:, m].reshape(-1, 1))\n",
    "    sig_v[m] = np.sqrt(sig1)"
   ]
  },
  {
   "cell_type": "markdown",
   "metadata": {},
   "source": [
    "## [Step 3](https://www.arpm.co/lab/redirect.php?permalink=s_pricing_calloption-implementation-step03): Save databases"
   ]
  },
  {
   "cell_type": "code",
   "execution_count": null,
   "metadata": {},
   "outputs": [],
   "source": [
    "output = {'j_': pd.Series(j_),\n",
    "          'k_strike': pd.Series(k_strk),\n",
    "          't_end': pd.Series(t_end),\n",
    "          'm_': pd.Series(m_),\n",
    "          'y_rf': pd.Series(y),\n",
    "          't_m': pd.Series(t_m),\n",
    "          'tau_hor': pd.Series(tau_hor),\n",
    "          'log_s': pd.Series(x_proj[:, :, 0].reshape((j_*(m_+1),))),\n",
    "          'v_call_thor': pd.Series(v_call_thor.reshape((j_*(m_+1),))),\n",
    "          'log_sigma_atm': pd.Series(log_sigma_atm.reshape((j_*(m_+1),)))}\n",
    "\n",
    "df = pd.DataFrame(output)\n",
    "df.to_csv('~/databases/temporary-databases/db_call_data.csv')"
   ]
  },
  {
   "cell_type": "markdown",
   "metadata": {},
   "source": [
    "## Plots"
   ]
  },
  {
   "cell_type": "code",
   "execution_count": null,
   "metadata": {},
   "outputs": [],
   "source": [
    "lgrey = [0.8, 0.8, 0.8]  # light grey\n",
    "dgrey = [0.4, 0.4, 0.4]  # dark grey\n",
    "\n",
    "num_plot = min(j_, 20)\n",
    "fig = plt.figure()\n",
    "\n",
    "plt.xlim([0, m_+int(m_/3)])\n",
    "for j in range(num_plot):\n",
    "    plt.plot(np.arange(0, m_+1), v_call_thor[j, :], lw=1, color=lgrey)\n",
    "\n",
    "l2 = plt.plot(np.arange(m_+1), mu_v+sig_v, 'r')\n",
    "plt.plot(np.arange(m_+1), mu_v-sig_v, 'r')\n",
    "l1 = plt.plot(np.arange(0, m_+1), mu_v, 'g')\n",
    "\n",
    "y_hist, x_hist = histogram_sp(v_call_thor[:, m_], k_=50*np.log(j_))\n",
    "y_hist = y_hist*2500\n",
    "shift_y_hist = m_ + y_hist\n",
    "# # empirical pdf\n",
    "pdf = plt.barh(x_hist, y_hist, (max(x_hist)-min(x_hist))/(len(x_hist)-1),\n",
    "               left=m_, facecolor=lgrey, edgecolor=lgrey,\n",
    "               lw=2, label='horizon pdf')\n",
    "plt.plot(shift_y_hist, x_hist, color=dgrey, lw=1)\n",
    "plt.legend(handles=[l1[0], l2[0], pdf[0]],\n",
    "           labels=['mean', ' + / - st.deviation', 'horizon pdf'])\n",
    "plt.title(\"Call option projected value at the horizon\")\n",
    "add_logo(fig)\n",
    "fig.tight_layout()\n",
    "\n",
    "fig2 = plt.figure()\n",
    "\n",
    "plt.scatter(x_proj[:, -1, 0], v_call_thor[:, -1], 3, np.array([dgrey]), '*')\n",
    "\n",
    "add_logo(fig2)\n",
    "fig2.tight_layout()"
   ]
  }
 ],
 "metadata": {
  "jupytext": {
   "encoding": "# -*- coding: utf-8 -*-",
   "executable": "/usr/bin/env python3"
  },
  "kernelspec": {
   "display_name": "Python 3",
   "language": "python",
   "name": "python3"
  }
 },
 "nbformat": 4,
 "nbformat_minor": 4
}
