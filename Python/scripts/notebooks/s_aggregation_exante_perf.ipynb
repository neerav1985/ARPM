{
 "cells": [
  {
   "cell_type": "markdown",
   "metadata": {},
   "source": [
    "# s_aggregation_exante_perf [<img src=\"https://www.arpm.co/lab/icons/icon_permalink.png\" width=30 height=30 style=\"display: inline;\">](https://www.arpm.co/lab/redirect.php?code=s_aggregation_exante_perf&codeLang=Python)\n",
    "For details, see [here](https://www.arpm.co/lab/redirect.php?permalink=EXAggreVarAndGenObj)."
   ]
  },
  {
   "cell_type": "code",
   "execution_count": null,
   "metadata": {},
   "outputs": [],
   "source": [
    "import numpy as np"
   ]
  },
  {
   "cell_type": "markdown",
   "metadata": {},
   "source": [
    "## [Input parameters](https://www.arpm.co/lab/redirect.php?permalink=s_aggregation_exante_perf-parameters)"
   ]
  },
  {
   "cell_type": "code",
   "execution_count": null,
   "metadata": {},
   "outputs": [],
   "source": [
    "h = np.array([30, 3000, 10000, -10000])  # portfolio holdings\n",
    "cash_t = 2000  # cash at time t invested in the portfolio\n",
    "v_t = np.array([150, 0.8, 0.6, 0.14])  # values of the instruments at time t\n",
    "pl = np.array([-5.55, 0.05, 0.2, 0.1])  # unit P&L's over [t,u)\n",
    "d = np.array([150, 1, 0.8, 0.5])  # basis values associated to the instruments\n",
    "h_b = np.array([20, 3000, 3750, 6000])  # benchmark portfolio holdings\n",
    "cashb_t = 3510  # cash at time t invested in the benchmark portfolio"
   ]
  },
  {
   "cell_type": "markdown",
   "metadata": {},
   "source": [
    "## [Step 1](https://www.arpm.co/lab/redirect.php?permalink=s_aggregation_exante_perf-implementation-step01): Compute the portfolio P&L, value and return"
   ]
  },
  {
   "cell_type": "code",
   "execution_count": null,
   "metadata": {},
   "outputs": [],
   "source": [
    "pl_h = h.T@pl\n",
    "v_h = cash_t + h.T@v_t\n",
    "r_h = pl_h / v_h"
   ]
  },
  {
   "cell_type": "markdown",
   "metadata": {},
   "source": [
    "## [Step 2](https://www.arpm.co/lab/redirect.php?permalink=s_aggregation_exante_perf-implementation-step02): Compute the benchmark portfolio P&L, value and return"
   ]
  },
  {
   "cell_type": "code",
   "execution_count": null,
   "metadata": {},
   "outputs": [],
   "source": [
    "pl_b = h_b.T@pl\n",
    "v_b = cashb_t + h_b.T@v_t\n",
    "r_b = pl_b / v_b"
   ]
  },
  {
   "cell_type": "markdown",
   "metadata": {},
   "source": [
    "## [Step 3](https://www.arpm.co/lab/redirect.php?permalink=s_aggregation_exante_perf-implementation-step03): Show that the aggregation rule for the portfolio return holds"
   ]
  },
  {
   "cell_type": "code",
   "execution_count": null,
   "metadata": {},
   "outputs": [],
   "source": [
    "w = h * d / v_h  # instruments weights\n",
    "r = pl / d  # generalized returns of the instruments in the portfolio\n",
    "r_h_2 = w.T@r  # portfolio return "
   ]
  },
  {
   "cell_type": "markdown",
   "metadata": {},
   "source": [
    "## [Step 4](https://www.arpm.co/lab/redirect.php?permalink=s_aggregation_exante_perf-implementation-step04): Compute the excess generalized return"
   ]
  },
  {
   "cell_type": "code",
   "execution_count": null,
   "metadata": {},
   "outputs": [],
   "source": [
    "excess_r = r_h - r_b"
   ]
  },
  {
   "cell_type": "markdown",
   "metadata": {},
   "source": [
    "##  Step 5: Compute the excess generalized return as a function of the instruments P&L's"
   ]
  },
  {
   "cell_type": "code",
   "execution_count": null,
   "metadata": {},
   "outputs": [],
   "source": [
    "h_tilde_ret = h / v_h - h_b / v_b  # standardized holdings\n",
    "excess_r_2nd = h_tilde_ret.T@pl"
   ]
  },
  {
   "cell_type": "markdown",
   "metadata": {},
   "source": [
    "## [Step 6](https://www.arpm.co/lab/redirect.php?permalink=s_aggregation_exante_perf-implementation-step06): Compute the excess generalized return as a function of the instruments returns"
   ]
  },
  {
   "cell_type": "code",
   "execution_count": null,
   "metadata": {},
   "outputs": [],
   "source": [
    "w_b = h_b * d / v_b  # instruments weights in the benchmark portfolio\n",
    "excess_r_3rd = (w - w_b).T@r"
   ]
  }
 ],
 "metadata": {
  "jupytext": {
   "encoding": "# -*- coding: utf-8 -*-",
   "executable": "/usr/bin/env python3"
  },
  "kernelspec": {
   "display_name": "Python 3",
   "language": "python",
   "name": "python3"
  }
 },
 "nbformat": 4,
 "nbformat_minor": 4
}
