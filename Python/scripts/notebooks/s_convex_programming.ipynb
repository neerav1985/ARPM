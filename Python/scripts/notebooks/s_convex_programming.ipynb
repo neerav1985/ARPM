{
 "cells": [
  {
   "cell_type": "markdown",
   "metadata": {},
   "source": [
    "# s_convex_programming [<img src=\"https://www.arpm.co/lab/icons/icon_permalink.png\" width=30 height=30 style=\"display: inline;\">](https://www.arpm.co/lab/redirect.php?code=s_convex_programming&codeLang=Python)\n",
    "For details, see [here](https://www.arpm.co/lab/redirect.php?permalink=s_convex_programming)."
   ]
  },
  {
   "cell_type": "code",
   "execution_count": null,
   "metadata": {},
   "outputs": [],
   "source": [
    "import numpy as np\n",
    "from cvxpy import *\n",
    "from cvxopt import solvers, matrix\n",
    "from sklearn.linear_model import Ridge, Lasso, ElasticNet\n",
    "from arpym.estimation.enet import enet\n",
    "\n",
    "solvers.options['show_progress'] = False"
   ]
  },
  {
   "cell_type": "markdown",
   "metadata": {},
   "source": [
    "## [Step 1](https://www.arpm.co/lab/redirect.php?permalink=s_convex_programming-implementation-step01): Convex programming"
   ]
  },
  {
   "cell_type": "code",
   "execution_count": null,
   "metadata": {},
   "outputs": [],
   "source": [
    "a_eq = np.array([[1., 2., 3.]])\n",
    "b_eq = np.array([[1.]])\n",
    "\n",
    "# optimization variable\n",
    "x = Variable((3,1))\n",
    "\n",
    "# build optimization problem\n",
    "prob = Problem(Minimize(x[0]**2+x[1]**4+exp(-x[2])), [abs(x[0])**3+abs(x[1])**5+x[2]**6-5 <= 0, a_eq*x == b_eq])\n",
    "\n",
    "# solve optimization problem\n",
    "result = prob.solve()\n",
    "\n",
    "# result\n",
    "print('x* =', x.value)\n",
    "print('f(x*) =', prob.value)"
   ]
  },
  {
   "cell_type": "markdown",
   "metadata": {},
   "source": [
    "## [Step 2](https://www.arpm.co/lab/redirect.php?permalink=s_convex_programming-implementation-step02): Conic programming"
   ]
  },
  {
   "cell_type": "code",
   "execution_count": null,
   "metadata": {
    "lines_to_next_cell": 2
   },
   "outputs": [],
   "source": [
    "c = matrix([1., -2., 1.])\n",
    "G = matrix([[1., 0., 0.], [0., -1., 0.], [0., 0., -1.]])\n",
    "h = matrix([0., 0., 0.])\n",
    "sol = solvers.lp(c, G, h)\n",
    "print('x* =', sol['x'])\n",
    "print('f(x*) =', sol['primal objective'])"
   ]
  },
  {
   "cell_type": "markdown",
   "metadata": {},
   "source": [
    "## [Step 3](https://www.arpm.co/lab/redirect.php?permalink=s_convex_programming-implementation-step03): Semidefinite programming"
   ]
  },
  {
   "cell_type": "code",
   "execution_count": null,
   "metadata": {},
   "outputs": [],
   "source": [
    "c = matrix([1., -2., 1.])\n",
    "A = matrix(a_eq)\n",
    "b = matrix(b_eq)\n",
    "u_1 = np.array(([ 1., -1.],\n",
    "                [-1.,  0.]))\n",
    "u_2 = np.array(([ 1.,  0.],\n",
    "                [ 0.,  1.]))\n",
    "u_3 = np.array(([ 0., -1.],\n",
    "                [-1.,  1.]))\n",
    "u = np.stack([u_1.reshape(-1),\n",
    "             u_2.reshape(-1),\n",
    "             u_3.reshape(-1)]).T\n",
    "u = [matrix(u)]\n",
    "v = [matrix([[1., 2.], [2., 3.]])]\n",
    "sol = solvers.sdp(c, Gs=u, hs=v, A=A, b=b)\n",
    "print('x* =', sol['x'])\n",
    "print('f(x*) =', sol['primal objective'])"
   ]
  },
  {
   "cell_type": "markdown",
   "metadata": {},
   "source": [
    "## [Step 4](https://www.arpm.co/lab/redirect.php?permalink=s_convex_programming-implementation-step04): Second order cone programming"
   ]
  },
  {
   "cell_type": "code",
   "execution_count": null,
   "metadata": {},
   "outputs": [],
   "source": [
    "c = matrix([1., -2., 1.])\n",
    "A = matrix(a_eq)\n",
    "b = matrix(b_eq)\n",
    "G = matrix([[1., 0., 0.], [0., -1., 0.], [0., 0., -1.]])\n",
    "h = matrix([0., 0., 0.])\n",
    "sol = solvers.socp(c, Gl = G, hl = h, A=A, b=b)\n",
    "print('x* =', sol['x'])\n",
    "print('f(x*) =', sol['primal objective'])"
   ]
  },
  {
   "cell_type": "markdown",
   "metadata": {
    "lines_to_next_cell": 2
   },
   "source": [
    "## [Step 5](https://www.arpm.co/lab/redirect.php?permalink=s_convex_programming-implementation-step05): Quadratic programming"
   ]
  },
  {
   "cell_type": "code",
   "execution_count": null,
   "metadata": {},
   "outputs": [],
   "source": [
    "a_ineq = np.array([[2., -1., 4.]])\n",
    "b_ineq = np.array([[3.]])\n",
    "\n",
    "P = matrix(np.eye(3))\n",
    "q = matrix(np.zeros((3, 1)))\n",
    "\n",
    "G = matrix(a_ineq)\n",
    "h = matrix(b_ineq)\n",
    "\n",
    "A = matrix(a_eq)\n",
    "b = matrix(b_eq)\n",
    "\n",
    "sol = solvers.qp(P, q, G, h, A=A, b=b)\n",
    "print('x* =', sol['x'])\n",
    "print('f(x*) =', sol['primal objective'])"
   ]
  },
  {
   "cell_type": "markdown",
   "metadata": {},
   "source": [
    "## [Step 6](https://www.arpm.co/lab/redirect.php?permalink=s_convex_programming-implementation-step06): Ridge"
   ]
  },
  {
   "cell_type": "code",
   "execution_count": null,
   "metadata": {},
   "outputs": [],
   "source": [
    "u = np.array([[-3., 2., -0.8],\n",
    "              [1., -0.7, 2.1],\n",
    "              [2., -5., 0.1],\n",
    "              [2.9, 3.1, -0.6]])\n",
    "v = np.array([[2., -1.],\n",
    "              [1., -0.7],\n",
    "              [-4.1, 5.3],\n",
    "              [1.4, 3.1]])\n",
    "alpha = 3\n",
    "x = Ridge(alpha=alpha, fit_intercept=False).fit(u, v).coef_.T\n",
    "print(x)"
   ]
  },
  {
   "cell_type": "markdown",
   "metadata": {},
   "source": [
    "## [Step 7](https://www.arpm.co/lab/redirect.php?permalink=s_convex_programming-implementation-step07): Lasso"
   ]
  },
  {
   "cell_type": "code",
   "execution_count": null,
   "metadata": {},
   "outputs": [],
   "source": [
    "lam = 2\n",
    "x = Lasso(alpha=lam, fit_intercept=False).fit(u, v).coef_.T\n",
    "print(x)"
   ]
  },
  {
   "cell_type": "markdown",
   "metadata": {},
   "source": [
    "## [Step 8](https://www.arpm.co/lab/redirect.php?permalink=s_convex_programming-implementation-step08): Elastic net"
   ]
  },
  {
   "cell_type": "code",
   "execution_count": null,
   "metadata": {},
   "outputs": [],
   "source": [
    "x = ElasticNet(alpha=alpha+lam, l1_ratio=alpha/(alpha+lam), fit_intercept=False).fit(u, v).coef_.T\n",
    "print(x)"
   ]
  },
  {
   "cell_type": "markdown",
   "metadata": {},
   "source": [
    "## [Step 9](https://www.arpm.co/lab/redirect.php?permalink=s_convex_programming-implementation-step09): Constrained elastic net"
   ]
  },
  {
   "cell_type": "code",
   "execution_count": null,
   "metadata": {},
   "outputs": [],
   "source": [
    "a_eq = np.array([[1., -2., 0.], [-1.2, 2.1, 0.3]])\n",
    "b_eq = np.array([[-1., 4.], [1.4, 3.1]])\n",
    "a_ineq = np.array([[0.9, -1.2, 3.1], [-0.8, -1.3, 2.1]])\n",
    "b_ineq = np.array([[0., 0.], [-1., -2.]])\n",
    "\n",
    "x = enet(v, u, alpha, lam, a_eq, b_eq, a_ineq, b_ineq, eps=10**-4)\n",
    "print(x)"
   ]
  },
  {
   "cell_type": "markdown",
   "metadata": {},
   "source": [
    "## [Step 9](https://www.arpm.co/lab/redirect.php?permalink=s_convex_programming-implementation-step09): Linear programming"
   ]
  },
  {
   "cell_type": "code",
   "execution_count": null,
   "metadata": {},
   "outputs": [],
   "source": [
    "c = matrix([1., -2., 1.])\n",
    "G = matrix([[-1., 0., 0.], [0., -1., 0.], [0., 0., -1.]])\n",
    "h = matrix([0., 0., 0.])\n",
    "sol = solvers.lp(c, G, h)\n",
    "print('x* =', sol['x'])\n",
    "print('f(x*) =', sol['primal objective'])"
   ]
  }
 ],
 "metadata": {
  "jupytext": {
   "encoding": "# -*- coding: utf-8 -*-",
   "executable": "/usr/bin/env python3"
  },
  "kernelspec": {
   "display_name": "Python 3",
   "language": "python",
   "name": "python3"
  }
 },
 "nbformat": 4,
 "nbformat_minor": 4
}
