{
 "cells": [
  {
   "cell_type": "markdown",
   "metadata": {},
   "source": [
    "# s_fx_rates_vs_logrates [<img src=\"https://www.arpm.co/lab/icons/icon_permalink.png\" width=30 height=30 style=\"display: inline;\">](https://www.arpm.co/lab/redirect.php?code=s_fx_rates_vs_logrates&codeLang=Python)\n",
    "For details, see [here](https://www.arpm.co/lab/redirect.php?permalink=ExerDriversFX)."
   ]
  },
  {
   "cell_type": "code",
   "execution_count": null,
   "metadata": {},
   "outputs": [],
   "source": [
    "import numpy as np\n",
    "import pandas as pd\n",
    "import matplotlib.pyplot as plt\n",
    "from pandas.plotting import register_matplotlib_converters\n",
    "register_matplotlib_converters()\n",
    "\n",
    "from arpym.tools.logo import add_logo"
   ]
  },
  {
   "cell_type": "markdown",
   "metadata": {},
   "source": [
    "## [Step 0](https://www.arpm.co/lab/redirect.php?permalink=s_fx_rates_vs_logrates-implementation-step00): Upload data"
   ]
  },
  {
   "cell_type": "code",
   "execution_count": null,
   "metadata": {},
   "outputs": [],
   "source": [
    "fx_path = '~/databases/global-databases/currencies/db_fx/data_long.csv'\n",
    "fx_df = pd.read_csv(fx_path, usecols=['date', 'spot_usd_gbp'],\n",
    "                    parse_dates=['date'])\n",
    "fx_usd2gbp = fx_df.spot_usd_gbp  # USD/GBP exchange rate"
   ]
  },
  {
   "cell_type": "markdown",
   "metadata": {},
   "source": [
    "## [Step 1](https://www.arpm.co/lab/redirect.php?permalink=s_fx_rates_vs_logrates-implementation-step01): Compute the time series of the inverse exchange rate"
   ]
  },
  {
   "cell_type": "code",
   "execution_count": null,
   "metadata": {},
   "outputs": [],
   "source": [
    "fx_gbp2usd = 1 / fx_usd2gbp  # GBP/USD exchange rate"
   ]
  },
  {
   "cell_type": "markdown",
   "metadata": {},
   "source": [
    "## [Step 2](https://www.arpm.co/lab/redirect.php?permalink=s_fx_rates_vs_logrates-implementation-step02): Compute the time series of the log-exchange rate and its opposite"
   ]
  },
  {
   "cell_type": "code",
   "execution_count": null,
   "metadata": {},
   "outputs": [],
   "source": [
    "log_fx_usd2gbp = np.log(fx_usd2gbp)  # USD/GBP log-exchange rate\n",
    "log_fx_gbp2usd = -log_fx_usd2gbp  # GBP/USD log-exchange rate"
   ]
  },
  {
   "cell_type": "markdown",
   "metadata": {},
   "source": [
    "## Plots"
   ]
  },
  {
   "cell_type": "code",
   "execution_count": null,
   "metadata": {},
   "outputs": [],
   "source": [
    "plt.style.use('arpm')\n",
    "\n",
    "fig, axs = plt.subplots(2, 1)\n",
    "\n",
    "axs[0].plot(fx_df.date, fx_usd2gbp)\n",
    "axs[0].plot(fx_df.date, fx_gbp2usd)\n",
    "axs[0].set_title('FX USD-GBP')\n",
    "axs[0].legend(['FX', '1/FX'])\n",
    "\n",
    "axs[1].plot(fx_df.date, log_fx_usd2gbp)\n",
    "axs[1].plot(fx_df.date, log_fx_gbp2usd)\n",
    "axs[1].legend(['log-FX', '- log-FX'])\n",
    "add_logo(fig, location=6)\n",
    "plt.tight_layout()"
   ]
  }
 ],
 "metadata": {
  "jupytext": {
   "encoding": "# -*- coding: utf-8 -*-",
   "executable": "/usr/bin/env python3"
  },
  "kernelspec": {
   "display_name": "Python 3",
   "language": "python",
   "name": "python3"
  }
 },
 "nbformat": 4,
 "nbformat_minor": 4
}
