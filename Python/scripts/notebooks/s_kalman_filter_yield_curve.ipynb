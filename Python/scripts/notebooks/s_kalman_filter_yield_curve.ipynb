{
 "cells": [
  {
   "cell_type": "markdown",
   "metadata": {},
   "source": [
    "# s_kalman_filter_yield_curve [<img src=\"https://www.arpm.co/lab/icons/icon_permalink.png\" width=30 height=30 style=\"display: inline;\">](https://www.arpm.co/lab/redirect.php?code=s_kalman_filter_yield_curve&codeLang=Python)\n",
    "For details, see [here](https://www.arpm.co/lab/redirect.php?permalink=ExerKFplot)."
   ]
  },
  {
   "cell_type": "code",
   "execution_count": null,
   "metadata": {},
   "outputs": [],
   "source": [
    "import pandas as pd\n",
    "import numpy as np\n",
    "import matplotlib.pyplot as plt\n",
    "\n",
    "from arpym.estimation.effective_num_scenarios import effective_num_scenarios\n",
    "from arpym.estimation.exp_decay_fp import exp_decay_fp\n",
    "from arpym.estimation.fit_state_space import fit_state_space\n",
    "from arpym.pricing.fit_nelson_siegel_yield import fit_nelson_siegel_yield\n",
    "from arpym.tools.logo import add_logo"
   ]
  },
  {
   "cell_type": "markdown",
   "metadata": {},
   "source": [
    "## [Input parameters](https://www.arpm.co/lab/redirect.php?permalink=s_kalman_filter_yield_curve-parameters)"
   ]
  },
  {
   "cell_type": "code",
   "execution_count": null,
   "metadata": {},
   "outputs": [],
   "source": [
    "tau = np.arange(1., 11)  # times to maturity\n",
    "t_ = 650  # length of the time series\n",
    "tau_p = 6 * 21  # half-life\n",
    "par_start = np.array([0.5, 0.5, 0.5, 0.5])  # starting parameters for Nels.-Si.\n",
    "lb = np.array([-0.5, - 0.5, - 0.5, 0])  # lower bounds for the parameters\n",
    "ub = np.array([0.5, 0.5, 0.5, 1.5])  # upper bounds for the parameters\n",
    "k_ = 3  # number of factors"
   ]
  },
  {
   "cell_type": "markdown",
   "metadata": {},
   "source": [
    "## [Step 0](https://www.arpm.co/lab/redirect.php?permalink=s_kalman_filter_yield_curve-implementation-step00): Load data"
   ]
  },
  {
   "cell_type": "code",
   "execution_count": null,
   "metadata": {},
   "outputs": [],
   "source": [
    "path = '~/databases/global-databases/fixed-income/db_yields/'\n",
    "df_y = pd.read_csv(path + 'data.csv', index_col=0)"
   ]
  },
  {
   "cell_type": "markdown",
   "metadata": {},
   "source": [
    "## [Step 1](https://www.arpm.co/lab/redirect.php?permalink=s_kalman_filter_yield_curve-implementation-step01): Select the realized yield for time to maturities tau = 1,2,...,10 years"
   ]
  },
  {
   "cell_type": "code",
   "execution_count": null,
   "metadata": {},
   "outputs": [],
   "source": [
    "y = np.array(df_y[tau.astype('str')])  # yields to maturity\n",
    "if y.shape[0] > t_:\n",
    "    y = y[-t_:, :]\n",
    "else:\n",
    "    t_ = y.shape[0]\n",
    "\n",
    "# increments\n",
    "dy = np.diff(y, 1, axis=0)  # t_ennd-1 increments\n",
    "n_ = dy.shape[1]"
   ]
  },
  {
   "cell_type": "markdown",
   "metadata": {},
   "source": [
    "## [Step 2](https://www.arpm.co/lab/redirect.php?permalink=s_kalman_filter_yield_curve-implementation-step02): Set flexible probabilities and compute effective number of scenarios"
   ]
  },
  {
   "cell_type": "code",
   "execution_count": null,
   "metadata": {},
   "outputs": [],
   "source": [
    "p = exp_decay_fp(dy.shape[0], tau_p)\n",
    "p = p / np.sum(p)  # flexible probabilities\n",
    "ens = effective_num_scenarios(p)  # effective number of scenarios"
   ]
  },
  {
   "cell_type": "markdown",
   "metadata": {},
   "source": [
    "## [Step 3](https://www.arpm.co/lab/redirect.php?permalink=s_kalman_filter_yield_curve-implementation-step03): Estimate the evolution of first two Nelson-Siegel parameters"
   ]
  },
  {
   "cell_type": "code",
   "execution_count": null,
   "metadata": {},
   "outputs": [],
   "source": [
    "# Nelson-Siegel fit\n",
    "theta = np.zeros((t_-1, 4))\n",
    "theta[0, :] = fit_nelson_siegel_yield(tau, y[0, :], par_start)\n",
    "for t in range(1, t_-1):\n",
    "    theta[t, :] = fit_nelson_siegel_yield(tau, y[t, :], theta[t-1, :])"
   ]
  },
  {
   "cell_type": "markdown",
   "metadata": {},
   "source": [
    "## [Step 4](https://www.arpm.co/lab/redirect.php?permalink=s_kalman_filter_yield_curve-implementation-step04): Estimate evolution of first two hidden factors of Kalman Filter"
   ]
  },
  {
   "cell_type": "code",
   "execution_count": null,
   "metadata": {},
   "outputs": [],
   "source": [
    "z_KF, alpha, beta, sig2_U, alpha_z, beta_z, sig2_z = fit_state_space(dy, k_, p)\n",
    "x_rec = alpha + beta@z_KF[-1, :]  # last recovered increment\n",
    "y_KF = y[t_ - 1, :] + x_rec  # fitted yield curve (using k_ hidden factors)\n",
    "cum_z_KF = np.cumsum(z_KF[:, :2], axis=0)"
   ]
  },
  {
   "cell_type": "markdown",
   "metadata": {},
   "source": [
    "## Plots"
   ]
  },
  {
   "cell_type": "code",
   "execution_count": null,
   "metadata": {},
   "outputs": [],
   "source": [
    "plt.style.use('arpm')\n",
    "\n",
    "fig1 = plt.figure()\n",
    "plt.plot(tau, y_KF, 'b', tau, y[t_-1, :], 'r.')\n",
    "plt.axis([min(tau), max(tau), np.min(y_KF), np.max(y_KF)])\n",
    "plt.xlabel('Time to Maturity')\n",
    "plt.ylabel('Rate')\n",
    "plt.legend(['Fit', 'Rates'])\n",
    "plt.grid(True)\n",
    "\n",
    "add_logo(fig1)\n",
    "plt.tight_layout()\n",
    "\n",
    "t_plot = t_ - 1\n",
    "# colors settings\n",
    "c0 = [1, 0.4, 0.1]\n",
    "c2 = [0, 0, 0.4]\n",
    "# tick and labels for the time axes\n",
    "dates = np.arange(1., t_)\n",
    "date_tick = np.arange(10, t_plot, 75)\n",
    "fig2, ax = plt.subplots(2, 1)\n",
    "\n",
    "# axes for the first hidden factor and first principal component\n",
    "plt.sca(ax[0])\n",
    "plt.ylabel('cumulated $z_1$')\n",
    "plt.plot(dates, cum_z_KF[:, 0], color=c2, lw=0.5)\n",
    "plt.xticks(dates[date_tick])\n",
    "plt.axis([min(dates), max(dates), np.min(cum_z_KF[:, 0]),\n",
    "          np.max(cum_z_KF[:, 0])])\n",
    "\n",
    "ax2 = ax[0].twinx()\n",
    "ax2.grid(False)\n",
    "plt.ylabel('level')\n",
    "plt.plot(dates, theta[:, 0], color=c0)\n",
    "plt.axis([min(dates), max(dates), np.min(theta[:, 0]), np.max(theta[:, 0])])\n",
    "\n",
    "# axes for the second hidden factor and second principal component\n",
    "plt.sca(ax[1])\n",
    "plt.axis([min(dates), max(dates), np.min(cum_z_KF[:, 1]),\n",
    "          np.max(cum_z_KF[:, 1])])\n",
    "plt.plot(dates, cum_z_KF[:, 1], color=c2, lw=0.5)\n",
    "plt.xticks(dates[date_tick])\n",
    "plt.ylabel('cumulated $z_2$')\n",
    "ax2 = ax[1].twinx()\n",
    "ax2.grid(False)\n",
    "plt.plot(dates, theta[:, 1], color=c0)\n",
    "plt.axis([min(dates), max(dates), np.min(theta[:, 1]), np.max(theta[:, 1])])\n",
    "plt.ylabel('slope')\n",
    "add_logo(fig2, location=1)\n",
    "plt.tight_layout()"
   ]
  }
 ],
 "metadata": {
  "jupytext": {
   "encoding": "# -*- coding: utf-8 -*-",
   "executable": "/usr/bin/env python3"
  },
  "kernelspec": {
   "display_name": "Python 3",
   "language": "python",
   "name": "python3"
  }
 },
 "nbformat": 4,
 "nbformat_minor": 4
}
