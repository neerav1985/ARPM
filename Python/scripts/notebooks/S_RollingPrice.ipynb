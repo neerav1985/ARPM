{
 "cells": [
  {
   "cell_type": "markdown",
   "metadata": {},
   "source": [
    "# S_RollingPrice [<img src=\"https://www.arpm.co/lab/icons/icon_permalink.png\" width=30 height=30 style=\"display: inline;\">](https://www.arpm.co/lab/redirect.php?code=S_RollingPrice&codeLang=Python)\n",
    "For details, see [here](https://www.arpm.co/lab/redirect.php?permalink=ExerBondRolPrice)."
   ]
  },
  {
   "cell_type": "markdown",
   "metadata": {},
   "source": [
    "## Prepare the environment"
   ]
  },
  {
   "cell_type": "code",
   "execution_count": null,
   "metadata": {},
   "outputs": [],
   "source": [
    "import os\n",
    "import os.path as path\n",
    "import sys\n",
    "\n",
    "sys.path.append(path.abspath('../../functions-legacy'))\n",
    "\n",
    "from numpy import arange, array, interp, r_\n",
    "\n",
    "from scipy.io import loadmat\n",
    "\n",
    "import matplotlib.pyplot as plt\n",
    "from matplotlib.pyplot import figure, plot, xlim, scatter, title\n",
    "import matplotlib.dates as mdates\n",
    "\n",
    "plt.style.use('seaborn')\n",
    "\n",
    "from CONFIG import GLOBAL_DB, TEMPORARY_DB\n",
    "from ARPM_utils import save_plot, struct_to_dict, date_mtop, datenum\n",
    "from intersect_matlab import intersect"
   ]
  },
  {
   "cell_type": "markdown",
   "metadata": {},
   "source": [
    "## Upload rolling values from 03-Oct-2002 to 03-Oct-2007 with 1 year to maturity, contained in db_SwapCurve"
   ]
  },
  {
   "cell_type": "code",
   "execution_count": null,
   "metadata": {},
   "outputs": [],
   "source": [
    "try:\n",
    "    db = loadmat(os.path.join(GLOBAL_DB, 'db_SwapCurve'), squeeze_me=True)\n",
    "except FileNotFoundError:\n",
    "    db = loadmat(os.path.join(TEMPORARY_DB, 'db_SwapCurve'), squeeze_me=True)\n",
    "\n",
    "DF_Rolling = struct_to_dict(db['DF_Rolling'])\n",
    "\n",
    "# extraction of rolling values from 03-Oct-2002 to 03-Oct-2007 with tau = 1 year\n",
    "_, _, dateIndices = intersect([datenum('03-Oct-2002'), datenum('03-Oct-2007')], DF_Rolling.Dates)\n",
    "_, _, tauIndex = intersect(1, DF_Rolling.TimeToMat)\n",
    "zroll = DF_Rolling.Prices[tauIndex, dateIndices[0]:dateIndices[1]+1]\n",
    "dates = DF_Rolling.Dates[dateIndices[0]:dateIndices[1]+1]\n",
    "time = arange(dates[0],dates[-1]+1)\n",
    "\n",
    "t_end = array(['03-Oct-2003', '03-Oct-2004', '03-Oct-2005', '03-Oct-2006', '03-Oct-2007'])\n",
    "\n",
    "_, timeindex, _ = intersect(time, list(map(datenum,t_end)))"
   ]
  },
  {
   "cell_type": "markdown",
   "metadata": {},
   "source": [
    "## Interpolate the rolling value on an yearly spaced grid"
   ]
  },
  {
   "cell_type": "code",
   "execution_count": null,
   "metadata": {},
   "outputs": [],
   "source": [
    "zroll = interp(time, dates, zroll[0])"
   ]
  },
  {
   "cell_type": "markdown",
   "metadata": {},
   "source": [
    "## Plot the evolution of the rolling values highlighting them at times t = 03-Oct-2002,...,03-Oct-2006"
   ]
  },
  {
   "cell_type": "code",
   "execution_count": null,
   "metadata": {},
   "outputs": [],
   "source": [
    "# rolling value plot\n",
    "figure()\n",
    "time_dt = array([date_mtop(i) for i in time])\n",
    "plot(time_dt, zroll,zorder=1)\n",
    "scatter(time_dt[timeindex[:-1]], zroll[timeindex[:-1]], marker='.',s=100, c='r',zorder=2)\n",
    "plt.xticks(time_dt[timeindex])\n",
    "myFmt = mdates.DateFormatter('%d-%b-%Y')\n",
    "plt.gca().xaxis.set_major_formatter(myFmt)\n",
    "xlim([time_dt[0], time_dt[timeindex[-1]]])\n",
    "plt.grid(True)\n",
    "title('Rolling prices');\n",
    "# save_plot(ax=plt.gca(), extension='png', scriptname=os.path.basename('.')[:-3], count=plt.get_fignums()[-1])"
   ]
  }
 ],
 "metadata": {
  "jupytext": {
   "encoding": "# -*- coding: utf-8 -*-",
   "executable": "/usr/bin/env python3"
  },
  "kernelspec": {
   "display_name": "Python 3",
   "language": "python",
   "name": "python3"
  }
 },
 "nbformat": 4,
 "nbformat_minor": 4
}
