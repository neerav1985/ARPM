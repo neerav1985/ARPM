{
 "cells": [
  {
   "cell_type": "markdown",
   "metadata": {},
   "source": [
    "# s_implied_volatility_surface [<img src=\"https://www.arpm.co/lab/icons/icon_permalink.png\" width=30 height=30 style=\"display: inline;\">](https://www.arpm.co/lab/redirect.php?code=s_implied_volatility_surface&codeLang=Python)\n",
    "For details, see [here](https://www.arpm.co/lab/redirect.php?permalink=ExerImplVolSurf)."
   ]
  },
  {
   "cell_type": "code",
   "execution_count": null,
   "metadata": {},
   "outputs": [],
   "source": [
    "import numpy as np\n",
    "import pandas as pd\n",
    "import matplotlib.pyplot as plt\n",
    "from mpl_toolkits.mplot3d import Axes3D\n",
    "\n",
    "from arpym.pricing.implvol_delta2m_moneyness import implvol_delta2m_moneyness\n",
    "from arpym.tools.logo import add_logo"
   ]
  },
  {
   "cell_type": "markdown",
   "metadata": {},
   "source": [
    "## [Input parameters](https://www.arpm.co/lab/redirect.php?permalink=s_implied_volatility_surface-parameters)"
   ]
  },
  {
   "cell_type": "code",
   "execution_count": null,
   "metadata": {},
   "outputs": [],
   "source": [
    "y = 0.02  # yield curve level\n",
    "l_ = 5  # num. of moneyness points"
   ]
  },
  {
   "cell_type": "markdown",
   "metadata": {},
   "source": [
    "## [Step 0](https://www.arpm.co/lab/redirect.php?permalink=s_implied_volatility_surface-implementation-step00): Import data"
   ]
  },
  {
   "cell_type": "code",
   "execution_count": null,
   "metadata": {},
   "outputs": [],
   "source": [
    "path = '~/databases/global-databases/derivatives/db_implvol_optionSPX/'\n",
    "db_impliedvol = pd.read_csv(path + 'data.csv', parse_dates=['date'],\n",
    "                            keep_date_col=True)\n",
    "implvol_param = pd.read_csv(path + 'params.csv', index_col=0)\n",
    "\n",
    "dates = pd.to_datetime(np.array(db_impliedvol.loc[:, 'date']))\n",
    "t_ = len(dates)"
   ]
  },
  {
   "cell_type": "markdown",
   "metadata": {},
   "source": [
    "## [Step 1](https://www.arpm.co/lab/redirect.php?permalink=s_implied_volatility_surface-implementation-step01): Compute implied volatility surface in the m-moneyness parametrization"
   ]
  },
  {
   "cell_type": "code",
   "execution_count": null,
   "metadata": {},
   "outputs": [],
   "source": [
    "tau_implvol = np.array(implvol_param.index)\n",
    "tau_implvol = tau_implvol[~np.isnan(tau_implvol)]\n",
    "delta_moneyness = np.array(implvol_param.delta)\n",
    "k_ = len(tau_implvol)\n",
    "n_ = len(delta_moneyness)\n",
    "\n",
    "implied_vol = db_impliedvol.loc[(db_impliedvol['date'].isin(dates)),\n",
    "                                :].iloc[:, 2:].values\n",
    "\n",
    "implvol_delta_moneyness_3d = np.zeros((t_, k_, n_))\n",
    "for k in range(k_):\n",
    "    implvol_delta_moneyness_3d[:, k, :] = \\\n",
    "        np.r_[np.array(implied_vol[:, k::k_])]\n",
    "\n",
    "# constant and flat yield curve\n",
    "y_tau = y*np.ones((t_, k_))\n",
    "\n",
    "# convert from delta-moneyness to m-moneyness\n",
    "implvol_m_moneyness, m_moneyness = \\\n",
    "    implvol_delta2m_moneyness(implvol_delta_moneyness_3d, tau_implvol,\n",
    "                              delta_moneyness, y_tau, tau_implvol, l_)"
   ]
  },
  {
   "cell_type": "markdown",
   "metadata": {},
   "source": [
    "## [Step 2](https://www.arpm.co/lab/redirect.php?permalink=s_implied_volatility_surface-implementation-step02): Save database"
   ]
  },
  {
   "cell_type": "code",
   "execution_count": null,
   "metadata": {},
   "outputs": [],
   "source": [
    "implvol2d = implvol_m_moneyness.reshape((t_, k_*l_))\n",
    "out = pd.DataFrame({'m='+str(round(m_moneyness[0],9))+\\\n",
    "                    ' tau='+str(round(tau_implvol[0],9)):\n",
    "                    implvol2d[:, 0]}, index=dates)\n",
    "for l in range(1, l_):\n",
    "    df2 = pd.DataFrame({'m='+str(round(m_moneyness[l],9))+\\\n",
    "                        ' tau='+str(round(tau_implvol[0],9)):\n",
    "                        implvol2d[:, l]}, index=dates)\n",
    "    out = pd.concat([out, df2], axis=1)\n",
    "    del df2\n",
    "\n",
    "for k in range(1, k_):\n",
    "    for l in range(l_):\n",
    "        df2 = pd.DataFrame({'m='+str(round(m_moneyness[l], 9)) +\n",
    "                            ' tau='+str(round(tau_implvol[k],9)):\n",
    "                            implvol2d[:, k*l_+l]}, index=dates)\n",
    "        out = pd.concat([out, df2], axis=1)\n",
    "        del df2\n",
    "\n",
    "out.index.name = 'dates'\n",
    "out.to_csv('~/databases/temporary-databases/db_calloption_rd.csv')\n",
    "del out"
   ]
  },
  {
   "cell_type": "markdown",
   "metadata": {},
   "source": [
    "## Plots"
   ]
  },
  {
   "cell_type": "code",
   "execution_count": null,
   "metadata": {},
   "outputs": [],
   "source": [
    "plt.style.use('arpm')\n",
    "fig = plt.figure()\n",
    "X, Y = np.meshgrid(m_moneyness, tau_implvol)\n",
    "ax = fig.gca(projection='3d')\n",
    "surf = ax.plot_surface(X, Y, implvol_m_moneyness[-1, :, :],\n",
    "                       linewidth=0, antialiased=False)\n",
    "add_logo(fig)\n",
    "plt.tight_layout()\n",
    "\n",
    "fig1 = plt.figure()\n",
    "label1 = 'Time to expiry '+str(round(tau_implvol[0], 2)) + \\\n",
    "    'y, m_moneyness ' + str(round(m_moneyness[2], 2))\n",
    "label2 = 'Time to expiry '+str(round(tau_implvol[-1], 2)) + \\\n",
    "    'y, m_moneyness ' + str(round(m_moneyness[2], 2))\n",
    "plt.plot(implvol_m_moneyness[:, 0, 2], 'r')\n",
    "plt.plot(implvol_m_moneyness[:, -1, 2])\n",
    "plt.gca().legend((label1, label2))\n",
    "add_logo(fig1)\n",
    "plt.tight_layout()\n",
    "\n",
    "fig2 = plt.figure()\n",
    "X, Y = np.meshgrid(delta_moneyness, tau_implvol)\n",
    "ax = fig2.gca(projection='3d')\n",
    "surf = ax.plot_surface(X, Y, implvol_delta_moneyness_3d[-1, :, :],\n",
    "                       linewidth=0, antialiased=False)\n",
    "add_logo(fig2)\n",
    "plt.tight_layout()\n",
    "\n",
    "fig3 = plt.figure()\n",
    "label1 = 'Time to expiry '+str(round(tau_implvol[0], 2)) + \\\n",
    "    'y, delta_moneyness ' + str(round(delta_moneyness[1], 2))\n",
    "label2 = 'Time to expiry '+str(round(tau_implvol[-1], 2)) + \\\n",
    "    'y, delta_moneyness ' + str(round(delta_moneyness[1], 2))\n",
    "plt.plot(implvol_delta_moneyness_3d[:, 0, 1], 'r')\n",
    "plt.plot(implvol_delta_moneyness_3d[:, -1, 1])\n",
    "plt.gca().legend((label1, label2))\n",
    "add_logo(fig3)\n",
    "plt.tight_layout()"
   ]
  }
 ],
 "metadata": {
  "jupytext": {
   "encoding": "# -*- coding: utf-8 -*-",
   "executable": "/usr/bin/env python3"
  },
  "kernelspec": {
   "display_name": "Python 3",
   "language": "python",
   "name": "python3"
  }
 },
 "nbformat": 4,
 "nbformat_minor": 4
}
