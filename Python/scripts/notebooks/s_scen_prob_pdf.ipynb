{
 "cells": [
  {
   "cell_type": "markdown",
   "metadata": {},
   "source": [
    "# s_scen_prob_pdf [<img src=\"https://www.arpm.co/lab/icons/icon_permalink.png\" width=30 height=30 style=\"display: inline;\">](https://www.arpm.co/lab/redirect.php?code=s_scen_prob_pdf&codeLang=Python)\n",
    "For details, see [here](https://www.arpm.co/lab/redirect.php?permalink=eb-biv-fpexample)."
   ]
  },
  {
   "cell_type": "code",
   "execution_count": null,
   "metadata": {},
   "outputs": [],
   "source": [
    "import numpy as np\n",
    "import matplotlib.pyplot as plt\n",
    "from mpl_toolkits.mplot3d import Axes3D\n",
    "from mpl_toolkits import mplot3d\n",
    "\n",
    "from arpym.estimation.cov_2_corr import cov_2_corr\n",
    "from arpym.statistics.meancov_sp import meancov_sp\n",
    "from arpym.statistics.pdf_sp import pdf_sp\n",
    "from arpym.tools.logo import add_logo"
   ]
  },
  {
   "cell_type": "markdown",
   "metadata": {},
   "source": [
    "## [Input parameters](https://www.arpm.co/lab/redirect.php?permalink=s_scen_prob_pdf-parameters)"
   ]
  },
  {
   "cell_type": "code",
   "execution_count": null,
   "metadata": {},
   "outputs": [],
   "source": [
    "h2 = 0.01  # bandwidth\n",
    "x = np.array([[0, 0, 1, 1], [0, 1, 0, 1]]).T  # joint scenarios\n",
    "p = np.array([0.33, 0.10, 0.20, 0.37])  # probabilities"
   ]
  },
  {
   "cell_type": "markdown",
   "metadata": {},
   "source": [
    "## [Step 1](https://www.arpm.co/lab/redirect.php?permalink=s_scen_prob_pdf-implementation-step01): Compute expectation and covariance"
   ]
  },
  {
   "cell_type": "code",
   "execution_count": null,
   "metadata": {},
   "outputs": [],
   "source": [
    "m, s2 = meancov_sp(x, p)"
   ]
  },
  {
   "cell_type": "markdown",
   "metadata": {},
   "source": [
    "## [Step 2](https://www.arpm.co/lab/redirect.php?permalink=s_scen_prob_pdf-implementation-step02): Compute correlation matrix"
   ]
  },
  {
   "cell_type": "code",
   "execution_count": null,
   "metadata": {},
   "outputs": [],
   "source": [
    "c2, _ = cov_2_corr(s2)"
   ]
  },
  {
   "cell_type": "markdown",
   "metadata": {},
   "source": [
    "## [Step 3](https://www.arpm.co/lab/redirect.php?permalink=s_scen_prob_pdf-implementation-step03): Compute the scenario-probability pdf "
   ]
  },
  {
   "cell_type": "code",
   "execution_count": null,
   "metadata": {},
   "outputs": [],
   "source": [
    "# grid points for pdf evaluation\n",
    "x1_grid = np.arange(np.min(x[:, 0])-0.5, np.max(x[:, 0])+0.5, 0.025)\n",
    "x2_grid = np.arange(np.min(x[:, 1])-0.5, np.max(x[:, 1])+0.5, 0.025)\n",
    "x_grid = np.array([[x1, x2] for x1 in x1_grid for x2 in x2_grid])\n",
    "\n",
    "# scenario-probability pdf\n",
    "f = pdf_sp(h2, x_grid, x, p)"
   ]
  },
  {
   "cell_type": "markdown",
   "metadata": {},
   "source": [
    "## Plots"
   ]
  },
  {
   "cell_type": "code",
   "execution_count": null,
   "metadata": {},
   "outputs": [],
   "source": [
    "# figure settings\n",
    "plt.style.use('arpm')\n",
    "fig = plt.figure()\n",
    "ax = fig.gca(projection='3d')\n",
    "\n",
    "# pdf surface\n",
    "x_1, x_2 = np.meshgrid(x1_grid, x2_grid)\n",
    "l_ = len(x1_grid)\n",
    "m_ = len(x2_grid)\n",
    "ax.plot_surface(x_1, x_2, f.reshape(l_, m_).T, linewidth=0.3, color='w',\n",
    "                edgecolors='black')\n",
    "\n",
    "# ticks and labels\n",
    "plt.xlabel('$x_1$')\n",
    "plt.ylabel('$x_2$')\n",
    "ax.set_xticks(np.sort(x[:,0]))\n",
    "ax.set_yticks(np.sort(x[:,1]))\n",
    "ax.view_init(20, -125)\n",
    "\n",
    "add_logo(fig)"
   ]
  }
 ],
 "metadata": {
  "jupytext": {
   "encoding": "# -*- coding: utf-8 -*-",
   "executable": "/usr/bin/env python3"
  },
  "kernelspec": {
   "display_name": "Python 3",
   "language": "python",
   "name": "python3"
  }
 },
 "nbformat": 4,
 "nbformat_minor": 4
}
