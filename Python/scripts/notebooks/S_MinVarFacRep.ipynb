{
 "cells": [
  {
   "cell_type": "markdown",
   "metadata": {},
   "source": [
    "# S_MinVarFacRep [<img src=\"https://www.arpm.co/lab/icons/icon_permalink.png\" width=30 height=30 style=\"display: inline;\">](https://www.arpm.co/lab/redirect.php?code=S_MinVarFacRep&codeLang=Python)\n",
    "For details, see [here](https://www.arpm.co/lab/redirect.php?permalink=eb-optim-pseudo-inv-lo)."
   ]
  },
  {
   "cell_type": "markdown",
   "metadata": {},
   "source": [
    "## Prepare the environment"
   ]
  },
  {
   "cell_type": "code",
   "execution_count": null,
   "metadata": {},
   "outputs": [],
   "source": [
    "import os\n",
    "import os.path as path\n",
    "import sys\n",
    "\n",
    "sys.path.append(path.abspath('../../functions-legacy'))\n",
    "\n",
    "import numpy as np\n",
    "from numpy import arange, array, ones, zeros\n",
    "from numpy.linalg import solve\n",
    "from numpy.random import rand\n",
    "\n",
    "import matplotlib.pyplot as plt\n",
    "from matplotlib.pyplot import figure, plot, legend, ylabel, \\\n",
    "    xlabel, title\n",
    "\n",
    "plt.style.use('seaborn')\n",
    "\n",
    "from ARPM_utils import save_plot\n",
    "\n",
    "# input parameters\n",
    "n_ = 100  # max market dimension\n",
    "nstep = arange(5,n_+1)  # grid of market dimensions\n",
    "s2_z_ = array([[1]])  # variance of factor\n",
    "\n",
    "stepsize = len(nstep)\n",
    "s2_p_z_mv = zeros((stepsize, 1))\n",
    "s2_p_z = zeros((stepsize, 1))\n",
    "\n",
    "for n in range(stepsize):  # set covariance of the residuals\n",
    "    d = rand(nstep[n], 1)\n",
    "    s2_u = np.diagflat(d * d)\n",
    "\n",
    "    # ## Compute the low-rank-diagonal covariance of the market\n",
    "    beta = rand(nstep[n], 1)  # loadings\n",
    "    s2_p = beta@s2_z_@beta.T + s2_u\n",
    "\n",
    "    # ## Compute the pseudo inverse of beta associated with the inverse covariance of the P&L's\n",
    "    sig2_mv = np.diagflat(1 / (d * d))\n",
    "    betap_mv = solve(beta.T@sig2_mv@beta,beta.T@sig2_mv)\n",
    "    # NOTE: betap_mv does not change if we set sig2_mv = inv(s2_p)\n",
    "\n",
    "    # ## Compute an arbitrary pseudo inverse of beta\n",
    "    sig = rand(nstep[n], nstep[n])\n",
    "    sig2 = sig@sig.T\n",
    "    betap = solve(beta.T@sig2@beta,beta.T@sig2)\n",
    "\n",
    "    # ## Compute the variances of the factor-replicating portfolio P&L\n",
    "    s2_p_z_mv[n] = betap_mv@s2_p@betap_mv.T\n",
    "    s2_p_z[n] = betap@s2_p@betap.T  # ## Plot the variances for each market dimension\n",
    "\n",
    "figure()\n",
    "\n",
    "plot(nstep, s2_p_z_mv, 'b', linewidth=1.5, markersize=2)\n",
    "plot(nstep, s2_p_z, color= [.9, .3, 0], lw= 1.5, markersize=2)\n",
    "plot(nstep, s2_z_[0]*ones(stepsize), color= [.5, .5, .5], lw= 1.5, markersize=2)\n",
    "plt.tight_layout()\n",
    "xlabel(r'$\\bar{n}$')\n",
    "ylabel('variance')\n",
    "title('Minimum variance factor-replicating portfolio')\n",
    "h = legend(['$\\sigma^2_{\\Pi^{MV}_Z}$', '$\\sigma^2_{\\Pi_Z}$', '$\\sigma^2_{Z}$']);\n",
    "plt.tight_layout();\n",
    "# save_plot(ax=plt.gca(), extension='png', scriptname=os.path.basename('.')[:-3], count=plt.get_fignums()[-1])"
   ]
  }
 ],
 "metadata": {
  "jupytext": {
   "encoding": "# -*- coding: utf-8 -*-",
   "executable": "/usr/bin/env python3"
  },
  "kernelspec": {
   "display_name": "Python 3",
   "language": "python",
   "name": "python3"
  }
 },
 "nbformat": 4,
 "nbformat_minor": 4
}
