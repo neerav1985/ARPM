{
 "cells": [
  {
   "cell_type": "markdown",
   "metadata": {},
   "source": [
    "# S_AnalyzeNormalCorrelation [<img src=\"https://www.arpm.co/lab/icons/icon_permalink.png\" width=30 height=30 style=\"display: inline;\">](https://www.arpm.co/lab/redirect.php?code=S_AnalyzeNormalCorrelation&codeLang=Python)\n",
    "For details, see [here](https://www.arpm.co/lab/redirect.php?permalink=eb-cor-norm-2)."
   ]
  },
  {
   "cell_type": "markdown",
   "metadata": {},
   "source": [
    "## Prepare the environment"
   ]
  },
  {
   "cell_type": "code",
   "execution_count": null,
   "metadata": {},
   "outputs": [],
   "source": [
    "import os\n",
    "import os.path as path\n",
    "import sys\n",
    "\n",
    "sys.path.append(path.abspath('../../functions-legacy'))\n",
    "\n",
    "import numpy as np\n",
    "from numpy import arange, array, zeros, sort, argsort, diag, sqrt\n",
    "from numpy.linalg import eig\n",
    "\n",
    "import matplotlib.pyplot as plt\n",
    "from matplotlib.pyplot import plot, ylim, subplots, ylabel, \\\n",
    "    xlabel\n",
    "\n",
    "plt.style.use('seaborn')\n",
    "\n",
    "from ARPM_utils import save_plot\n",
    "\n",
    "# input parameters\n",
    "mu = array([0, 0])\n",
    "sigvec = array([1, 1])"
   ]
  },
  {
   "cell_type": "markdown",
   "metadata": {},
   "source": [
    "## Compute correlations and condition numbers as a function of rho"
   ]
  },
  {
   "cell_type": "code",
   "execution_count": null,
   "metadata": {},
   "outputs": [],
   "source": [
    "corrrange = arange(-0.99, 1, 0.01)\n",
    "n_ = len(corrrange)\n",
    "cr_12 = zeros((n_, 1))\n",
    "condnb = zeros((n_, 1))\n",
    "\n",
    "for n in range(n_):\n",
    "    rho = corrrange[n]\n",
    "    sig2 = array([[sigvec[0] ** 2, rho * sigvec[0] * sigvec[1]], [rho * sigvec[0] * sigvec[1], sigvec[1] ** 2]])\n",
    "\n",
    "    Cv_X = sig2  # covariance matrix\n",
    "    Sd_X = sqrt(diag(Cv_X))  # standard deviation vector\n",
    "    Cr_X = np.diagflat(1 / Sd_X)@Cv_X@np.diagflat(1 / Sd_X)  # correlation matrix\n",
    "\n",
    "    Diag_lambda2, e = eig(Cv_X)\n",
    "    lambda2 = Diag_lambda2\n",
    "    lambda2, order = sort(lambda2)[::-1], argsort(lambda2)[::-1]\n",
    "\n",
    "    cr_12[n] = Cr_X[0, 1]  # correlation\n",
    "    condnb[n] = lambda2[1] / lambda2[0]  # condition number"
   ]
  },
  {
   "cell_type": "markdown",
   "metadata": {},
   "source": [
    "## Display correlations and condition numbers as a function of rho"
   ]
  },
  {
   "cell_type": "code",
   "execution_count": null,
   "metadata": {},
   "outputs": [],
   "source": [
    "f, ax = subplots(2, 1)\n",
    "plt.sca(ax[0])\n",
    "plot(corrrange, cr_12)\n",
    "ylim([-1, 1])\n",
    "plt.grid(True)\n",
    "xlabel(r'$\\rho$')\n",
    "ylabel('correlation')\n",
    "\n",
    "plt.sca(ax[1])\n",
    "plot(corrrange, condnb)\n",
    "ylim([0, 1])\n",
    "plt.grid(True)\n",
    "xlabel(r'$\\rho$')\n",
    "ylabel('condition ratio')\n",
    "plt.tight_layout();\n",
    "# save_plot(ax=plt.gca(), extension='png', scriptname=os.path.basename('.')[:-3], count=plt.get_fignums()[-1])\n"
   ]
  }
 ],
 "metadata": {
  "jupytext": {
   "encoding": "# -*- coding: utf-8 -*-",
   "executable": "/usr/bin/env python3"
  },
  "kernelspec": {
   "display_name": "Python 3",
   "language": "python",
   "name": "python3"
  }
 },
 "nbformat": 4,
 "nbformat_minor": 4
}
