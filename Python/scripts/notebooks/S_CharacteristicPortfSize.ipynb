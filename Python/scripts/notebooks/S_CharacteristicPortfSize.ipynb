{
 "cells": [
  {
   "cell_type": "markdown",
   "metadata": {},
   "source": [
    "# S_CharacteristicPortfSize [<img src=\"https://www.arpm.co/lab/icons/icon_permalink.png\" width=30 height=30 style=\"display: inline;\">](https://www.arpm.co/lab/redirect.php?code=S_CharacteristicPortfSize&codeLang=Python)\n",
    "For details, see [here](https://www.arpm.co/lab/redirect.php?permalink=eb-ch-portfolio-size)."
   ]
  },
  {
   "cell_type": "markdown",
   "metadata": {},
   "source": [
    "## Prepare the environment"
   ]
  },
  {
   "cell_type": "code",
   "execution_count": null,
   "metadata": {},
   "outputs": [],
   "source": [
    "import os\n",
    "import os.path as path\n",
    "import sys\n",
    "\n",
    "sys.path.append(path.abspath('../../functions-legacy'))\n",
    "\n",
    "import numpy as np\n",
    "from numpy import arange, trace, array, zeros, sort, argsort, percentile, linspace, cov, diag, eye, abs, round, mean, log, \\\n",
    "    sqrt, r_\n",
    "from numpy import min as npmin, max as npmax\n",
    "np.seterr(divide='ignore',invalid='ignore')\n",
    "\n",
    "from scipy.io import loadmat\n",
    "\n",
    "import matplotlib.pyplot as plt\n",
    "from matplotlib.pyplot import figure, plot, bar, subplots, ylabel, \\\n",
    "    xlabel, title, xticks, yticks\n",
    "import matplotlib.dates as mdates\n",
    "\n",
    "plt.style.use('seaborn')\n",
    "\n",
    "from CONFIG import GLOBAL_DB, TEMPORARY_DB\n",
    "from ARPM_utils import save_plot, date_mtop\n",
    "from EwmaFP import EwmaFP\n",
    "from cov2corr import cov2corr\n",
    "from PnlStats import PnlStats\n",
    "from FactorReplication import FactorReplication\n",
    "from pcacov import pcacov"
   ]
  },
  {
   "cell_type": "markdown",
   "metadata": {},
   "source": [
    "## Upload the database"
   ]
  },
  {
   "cell_type": "code",
   "execution_count": null,
   "metadata": {},
   "outputs": [],
   "source": [
    "try:\n",
    "    db = loadmat(os.path.join(GLOBAL_DB, 'db_signals_size'), squeeze_me=True)\n",
    "except FileNotFoundError:\n",
    "    db = loadmat(os.path.join(TEMPORARY_DB, 'db_signals_size'), squeeze_me=True)\n",
    "\n",
    "v = db['v']\n",
    "t_start = db['t_start']\n",
    "t_scor = db['t_scor']\n",
    "t_smoo = db['t_smoo']\n",
    "dates = db['dates']\n",
    "s_siz_rk = db['s_siz_rk']\n",
    "\n",
    "# settings\n",
    "n_, _ = v.shape\n",
    "t_ = v.shape[1]  # final date\n",
    "nu_x = log(2) / 100  # half-life for HFP covariance matrix of compounded returns\n",
    "nu_ic = log(2) / 40  # half-life information coefficient\n",
    "dates = array([date_mtop(int(i)) for i in dates[t_start:t_]])\n",
    "s = s_siz_rk[:, t_start - t_smoo - t_scor+1:]\n",
    "\n",
    "tsize = t_-t_start\n",
    "\n",
    "sigma2_pnl_shr = zeros((n_,n_,tsize))\n",
    "sigma2_pnl = zeros((n_,n_,tsize))\n",
    "sigma2_h = zeros((1,tsize))\n",
    "beta = zeros((n_,tsize))\n",
    "h_mv = zeros((n_,tsize))\n",
    "market_pnl = zeros((n_,tsize))\n",
    "pnl_contr = zeros((n_,tsize))\n",
    "ic_hat = zeros((1,tsize))\n",
    "x = zeros((21,tsize))\n",
    "y = zeros(x.shape)\n",
    "\n",
    "for t in range(t_start, t_):\n",
    "    # ## Estimate the P&L covariance matrix\n",
    "\n",
    "    # compute the HFP covariance matrix of compounded returns with exponentially decaying Flexible Probabilities\n",
    "    epsi = log(v[:, t - t_start + 1:t] / v[:, t - t_start:t - 1])\n",
    "    _, sigma2_epsi = EwmaFP(epsi, nu_x)\n",
    "    sigma2_pnl[:, :, t - t_start] = np.diagflat(v[:, t-1])@sigma2_epsi@np.diagflat(v[:, t-1])  # non-shrinked cov matrix\n",
    "    # compute the shrinked HFP covariance matrix\n",
    "    s_epsi, c2_epsi = cov2corr(sigma2_epsi)\n",
    "    gamma = 0.7\n",
    "    c2_epsi = (1 - gamma) * c2_epsi + gamma * eye(n_)\n",
    "    sigma2_epsi_bar = np.diagflat(s_epsi)@c2_epsi@np.diagflat(s_epsi)\n",
    "    sigma2_pnl_shr[:, :, t - t_start] = np.diagflat(v[:, t-1])@sigma2_epsi_bar@np.diagflat(v[:, t-1])  # shrinked cov matrix\n",
    "\n",
    "    # ## Compute the characteristic portfolio and the realized portfolio P&L contributions\n",
    "\n",
    "    sigma_vec_x = sqrt(diag(sigma2_epsi_bar))\n",
    "    beta[:, t - t_start] = v[:, t-1] * sigma_vec_x * s[:, t - t_start]\n",
    "    h_mv[:, t - t_start] = FactorReplication(beta[:, t - t_start], sigma2_pnl_shr[:, :, t - t_start])\n",
    "    market_pnl[:, t - t_start] = v[:, t] - v[:, t-1]\n",
    "    pnl_contr[:, t - t_start] = h_mv[:, t - t_start] * market_pnl[:, t - t_start]  # pnl\n",
    "    sigma2_pnl[:, :, t - t_start] = np.diagflat(v[:, t-1])@sigma2_epsi@np.diagflat(v[:, t-1])  # non-shrinked cov matrix\n",
    "    sigma2_h[0,t - t_start] = h_mv[:, t - t_start].T@sigma2_pnl[:, :, t - t_start]@h_mv[:,t - t_start]\n",
    "\n",
    "    # ## Compute the realized information coefficient\n",
    "\n",
    "    _, sigma2_pibeta = EwmaFP(r_[market_pnl[:, :t - t_start+1], beta[:, :t - t_start+1]], nu_ic)\n",
    "    s2_pb = sigma2_pibeta[:n_, n_ :]\n",
    "    s2_b = sigma2_pibeta[n_:, n_:]\n",
    "    ic_hat[0,t - t_start] = trace(s2_pb) / trace(s2_b)"
   ]
  },
  {
   "cell_type": "markdown",
   "metadata": {},
   "source": [
    "## Compute the portfolio P&L and some related statistics"
   ]
  },
  {
   "cell_type": "code",
   "execution_count": null,
   "metadata": {},
   "outputs": [],
   "source": [
    "stats, dailypnl, cumpnl, highWaterMark, drawdown = PnlStats(pnl_contr)"
   ]
  },
  {
   "cell_type": "markdown",
   "metadata": {},
   "source": [
    "## Compute the best fit regression line of the realized portfolio return contributions t time t+1 against the exposures at time t"
   ]
  },
  {
   "cell_type": "code",
   "execution_count": null,
   "metadata": {},
   "outputs": [],
   "source": [
    "real_rets = market_pnl / v[:, t_start-1:t_-1]\n",
    "exp_rets = beta / v[:, t_start-1:t_-1]\n",
    "dollar_weights = h_mv * v[:, t_start-1:t_-1]\n",
    "for t in range(t_ - t_start):\n",
    "    e, l = pcacov(cov(exp_rets[:, t], real_rets[:, t]))\n",
    "    m_exp = mean(exp_rets[:, t])\n",
    "    m_ret = mean(real_rets[:, t])\n",
    "    alpha_sym = e[:, 1].T@r_[m_ret, m_exp] / e[0, 1]\n",
    "    beta_sym = -e[1, 1] / e[0, 1]\n",
    "    x[:, t] = 2 * arange(-10, 11) / 10\n",
    "    y[:, t] = beta_sym * x[:, t] + alpha_sym"
   ]
  },
  {
   "cell_type": "markdown",
   "metadata": {},
   "source": [
    "## Draw the plots"
   ]
  },
  {
   "cell_type": "code",
   "execution_count": null,
   "metadata": {},
   "outputs": [],
   "source": [
    "grid_dates = [int(i) for i in linspace(0, len(dates)-1, 5)]\n",
    "\n",
    "# pnl plot\n",
    "f, ax1 = subplots(1, 1)\n",
    "ax2 = ax1.twinx()\n",
    "ax1.set_ylabel('Cum P&L', color='b')\n",
    "plt.xticks(dates[grid_dates])\n",
    "myFmt = mdates.DateFormatter('%d-%b-%y')\n",
    "ax1.xaxis.set_major_formatter(myFmt)\n",
    "ax2.set_ylabel('P&L', color='r')\n",
    "ax2.scatter(dates, dailypnl[0], color='r', linewidth=0, marker='.')\n",
    "ax2.plot(dates, np.mean(dailypnl) + 2 * sqrt(sigma2_h[0]), color='k')\n",
    "ax2.plot(dates, np.mean(dailypnl) - 2 * sqrt(sigma2_h[0]), color='k')\n",
    "ax1.plot(dates, cumpnl.flatten(), color='b', lw=1.5)\n",
    "ax1.axis([min(dates), max(dates), npmin(cumpnl), npmax(cumpnl)])\n",
    "title('Characteristic portfolio')\n",
    "# expected returns vs realized returns\n",
    "max_abs_rets = max(abs(min(percentile(real_rets, 100 * 0.05,axis=0))), abs(max(percentile(real_rets, 100 * 0.95,axis=0))));\n",
    "# save_plot(ax=plt.gca(), extension='png', scriptname=os.path.basename('.')[:-3], count=plt.get_fignums()[-1])\n",
    "\n",
    "figure()\n",
    "plot(exp_rets[:, -1], real_rets[:, -1], 'b.')\n",
    "plt.axis([npmin(exp_rets[:, -1]), npmax(exp_rets[:, -1]), -max_abs_rets, max_abs_rets])\n",
    "plot(x[:, -1], y[:, -1], 'r')\n",
    "xlabel('Expected returns')\n",
    "ylabel('Realized returns')\n",
    "\n",
    "# ordered signal barplot\n",
    "yy = linspace(1, n_, 5)\n",
    "stock_tick = round(yy)\n",
    "signal, idx = sort(s[:, -1]), argsort(s[:, -1])\n",
    "max_abs_signal = max(abs(min(signal)), abs(max(signal)));\n",
    "# save_plot(ax=plt.gca(), extension='png', scriptname=os.path.basename('.')[:-3], count=plt.get_fignums()[-1])\n",
    "\n",
    "figure()\n",
    "bar(range(1,len(signal)+1),signal)\n",
    "ylabel('Signals')\n",
    "plt.axis([0, exp_rets.shape[0] + 1, -max_abs_signal, max_abs_signal])\n",
    "plt.xticks(stock_tick);\n",
    "# save_plot(ax=plt.gca(), extension='png', scriptname=os.path.basename('.')[:-3], count=plt.get_fignums()[-1])\n",
    "\n",
    "# exposures plot (sorted wrt the signals)\n",
    "max_abs_dw = max(abs(min(dollar_weights[:, -1])), abs(max(dollar_weights[:, -1])))\n",
    "\n",
    "figure()\n",
    "bar(range(1,len(dollar_weights[idx, -1])+1),dollar_weights[idx, -1])\n",
    "ylabel('Dollar weights')\n",
    "plt.axis([0, exp_rets.shape[0] + 1, -max_abs_dw, max_abs_dw])\n",
    "plt.xticks(stock_tick);\n",
    "# save_plot(ax=plt.gca(), extension='png', scriptname=os.path.basename('.')[:-3], count=plt.get_fignums()[-1])\n",
    "\n",
    "# normalized beta plot (sorted wrt the signals)\n",
    "xx = min(beta[idx, -1] / v[idx, -1])\n",
    "yy = max(beta[idx, -1] / v[idx, -1])\n",
    "max_abs_beta = max(abs(xx), abs(npmax(yy)));\n",
    "# save_plot(ax=plt.gca(), extension='png', scriptname=os.path.basename('.')[:-3], count=plt.get_fignums()[-1])\n",
    "\n",
    "figure()\n",
    "bar(range(1,len(beta[idx, -1])+1), beta[idx, -1] / v[idx, -1])\n",
    "ylabel('Characteristics')\n",
    "plt.axis([0, exp_rets.shape[0] + 1, -max_abs_beta, max_abs_beta])\n",
    "plt.xticks(stock_tick);\n",
    "# save_plot(ax=plt.gca(), extension='png', scriptname=os.path.basename('.')[:-3], count=plt.get_fignums()[-1])\n",
    "\n",
    "# information coefficient plot\n",
    "figure()\n",
    "plot(dates, ic_hat[0], color='b')\n",
    "plt.axis([min(dates), max(dates), np.nanmin(ic_hat), np.nanmax(ic_hat)])\n",
    "ylabel('Information coeff.')\n",
    "plt.xticks(dates[grid_dates])  # ,.TXTickLabel.T,datestr(dates(grid_dates),.Tdd-mmm-yy')))\n",
    "myFmt = mdates.DateFormatter('%d-%b-%y')\n",
    "plt.gca().xaxis.set_major_formatter(myFmt);\n",
    "# save_plot(ax=plt.gca(), extension='png', scriptname=os.path.basename('.')[:-3], count=plt.get_fignums()[-1])\n"
   ]
  }
 ],
 "metadata": {
  "jupytext": {
   "encoding": "# -*- coding: utf-8 -*-",
   "executable": "/usr/bin/env python3"
  },
  "kernelspec": {
   "display_name": "Python 3",
   "language": "python",
   "name": "python3"
  }
 },
 "nbformat": 4,
 "nbformat_minor": 4
}
