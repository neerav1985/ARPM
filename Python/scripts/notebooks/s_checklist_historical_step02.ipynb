{
 "cells": [
  {
   "cell_type": "markdown",
   "metadata": {},
   "source": [
    "# s_checklist_historical_step02 [<img src=\"https://www.arpm.co/lab/icons/icon_permalink.png\" width=30 height=30 style=\"display: inline;\">](https://www.arpm.co/lab/redirect.php?code=s_checklist_historical_step02&codeLang=Python)\n",
    "For details, see [here](https://www.arpm.co/lab/redirect.php?permalink=ex-vue-2-historical)."
   ]
  },
  {
   "cell_type": "code",
   "execution_count": null,
   "metadata": {},
   "outputs": [],
   "source": [
    "import numpy as np\n",
    "import pandas as pd\n",
    "import matplotlib.pyplot as plt\n",
    "from pandas.plotting import register_matplotlib_converters\n",
    "register_matplotlib_converters()\n",
    "\n",
    "from arpym.estimation.fit_garch_fp import fit_garch_fp\n",
    "from arpym.statistics.invariance_test_copula import invariance_test_copula\n",
    "from arpym.statistics.invariance_test_ellipsoid import invariance_test_ellipsoid\n",
    "from arpym.statistics.invariance_test_ks import invariance_test_ks\n",
    "from arpym.tools.logo import add_logo"
   ]
  },
  {
   "cell_type": "markdown",
   "metadata": {},
   "source": [
    "## [Input parameters](https://www.arpm.co/lab/redirect.php?permalink=s_checklist_historical_step02-parameters)"
   ]
  },
  {
   "cell_type": "code",
   "execution_count": null,
   "metadata": {},
   "outputs": [],
   "source": [
    "i_plot = 1  # select the invariant to be tested (i = 1,...,i_)\n",
    "lag_ = 5  # lag used in invariance tests"
   ]
  },
  {
   "cell_type": "markdown",
   "metadata": {},
   "source": [
    "## [Step 0](https://www.arpm.co/lab/redirect.php?permalink=s_checklist_historical_step02-implementation-step00): Load data"
   ]
  },
  {
   "cell_type": "code",
   "execution_count": null,
   "metadata": {},
   "outputs": [],
   "source": [
    "path = '~/databases/temporary-databases/'\n",
    "\n",
    "# market risk drivers\n",
    "db_riskdrivers_series = pd.read_csv(path+'db_riskdrivers_series_historical.csv',\n",
    "                                    index_col=0, parse_dates=True)\n",
    "x = db_riskdrivers_series.values\n",
    "dates = pd.to_datetime(np.array(db_riskdrivers_series.index))\n",
    "risk_drivers_names = db_riskdrivers_series.columns.values\n",
    "\n",
    "# additional information\n",
    "db_riskdrivers_tools = pd.read_csv(path+'db_riskdrivers_tools_historical.csv')\n",
    "n_stocks = int(db_riskdrivers_tools.n_stocks.dropna())\n",
    "d_implvol = int(db_riskdrivers_tools.d_implvol.dropna())\n",
    "\n",
    "del db_riskdrivers_tools\n",
    "\n",
    "t_ = len(dates)-1  # length of the invariants time series\n",
    "\n",
    "# initialize temporary databases\n",
    "db_invariants = {}\n",
    "db_nextstep = {}\n",
    "db_garch_param = {}"
   ]
  },
  {
   "cell_type": "markdown",
   "metadata": {},
   "source": [
    "## [Step 1](https://www.arpm.co/lab/redirect.php?permalink=s_checklist_historical_step02-implementation-step01): GARCH(1,1) fit on stocks log-values"
   ]
  },
  {
   "cell_type": "code",
   "execution_count": null,
   "metadata": {},
   "outputs": [],
   "source": [
    "for i in range(n_stocks):\n",
    "    # time series of risk driver increment\n",
    "    dx = np.diff(x[:, i])\n",
    "    # fit parameters\n",
    "    par, sig2, epsi = fit_garch_fp(dx)\n",
    "    # store next-step function and invariants\n",
    "    db_invariants[i] = np.array(epsi)\n",
    "    db_garch_param[i] = dict(zip(['a', 'b', 'c', 'mu'] + \\\n",
    "                                 ['sig2_'+str(t).zfill(3) for t in range(t_)],\n",
    "                                 np.append(par, sig2)))\n",
    "    db_nextstep[i] = 'GARCH(1,1)'"
   ]
  },
  {
   "cell_type": "markdown",
   "metadata": {},
   "source": [
    "## [Step 2](https://www.arpm.co/lab/redirect.php?permalink=s_checklist_historical_step02-implementation-step02): GARCH(1,1) fit on S&P index log-values"
   ]
  },
  {
   "cell_type": "code",
   "execution_count": null,
   "metadata": {},
   "outputs": [],
   "source": [
    "# time series of risk driver increment\n",
    "dx = np.diff(x[:, n_stocks])\n",
    "# fit parameters\n",
    "par, sig2, epsi = fit_garch_fp(dx)\n",
    "# store next-step function and invariants\n",
    "db_invariants[n_stocks] = np.array(epsi)\n",
    "db_garch_param[n_stocks] = dict(zip(['a', 'b', 'c', 'mu'] + \\\n",
    "                             ['sig2_'+str(t).zfill(3) for t in range(t_)],\n",
    "                             np.append(par, sig2)))\n",
    "db_nextstep[n_stocks] = 'GARCH(1,1)'"
   ]
  },
  {
   "cell_type": "markdown",
   "metadata": {},
   "source": [
    "## [Step 3](https://www.arpm.co/lab/redirect.php?permalink=s_checklist_historical_step02-implementation-step03): Random walk fit on options log-implied volatility"
   ]
  },
  {
   "cell_type": "code",
   "execution_count": null,
   "metadata": {},
   "outputs": [],
   "source": [
    "for i in range(n_stocks+1, n_stocks+1+d_implvol):\n",
    "    db_invariants[i] = np.diff(x[:, i])\n",
    "    db_nextstep[i] = 'Random walk'"
   ]
  },
  {
   "cell_type": "markdown",
   "metadata": {},
   "source": [
    "## [Step 4](https://www.arpm.co/lab/redirect.php?permalink=s_checklist_historical_step02-implementation-step04): Save databases"
   ]
  },
  {
   "cell_type": "code",
   "execution_count": null,
   "metadata": {},
   "outputs": [],
   "source": [
    "dates = dates[1:]\n",
    "\n",
    "# all market invariants\n",
    "out = pd.DataFrame({risk_drivers_names[i]: db_invariants[i]\n",
    "                    for i in range(len(db_invariants))}, index=dates)\n",
    "out = out[list(risk_drivers_names[:len(db_invariants)])]\n",
    "out.index.name = 'dates'\n",
    "out.to_csv(path+'db_invariants_series_historical.csv')\n",
    "del out\n",
    "\n",
    "# next-step models for all invariants\n",
    "out = pd.DataFrame({risk_drivers_names[i]: db_nextstep[i]\n",
    "                    for i in range(len(db_nextstep))}, index=[''])\n",
    "out = out[list(risk_drivers_names[:len(db_nextstep)])]\n",
    "out.to_csv(path+'db_invariants_nextstep_historical.csv',\n",
    "           index=False)\n",
    "del out\n",
    "\n",
    "# parameters in GARCH(1,1) models\n",
    "out = pd.DataFrame({risk_drivers_names[i]: db_garch_param[i]\n",
    "                    for i in range(len(db_garch_param))})\n",
    "out = out[list(risk_drivers_names[:len(db_garch_param)])]\n",
    "out.to_csv(path+'db_invariants_garch_param.csv')\n",
    "del out"
   ]
  },
  {
   "cell_type": "markdown",
   "metadata": {},
   "source": [
    "## [Step 5](https://www.arpm.co/lab/redirect.php?permalink=s_checklist_historical_step02-implementation-step05): Perform invariance tests"
   ]
  },
  {
   "cell_type": "code",
   "execution_count": null,
   "metadata": {},
   "outputs": [],
   "source": [
    "plt.style.use('arpm')\n",
    "\n",
    "invar = db_invariants[i_plot-1][~np.isnan(db_invariants[i_plot-1])]\n",
    "\n",
    "_ = invariance_test_ellipsoid(invar, lag_)\n",
    "fig_ellipsoid = plt.gcf()\n",
    "fig_ellipsoid.set_dpi(72.0)\n",
    "fig_ellipsoid.set_size_inches(1280.0/72.0, 720.0/72.0)\n",
    "add_logo(fig_ellipsoid, set_fig_size=False)\n",
    "plt.show()\n",
    "\n",
    "invariance_test_ks(invar)\n",
    "fig_ks = plt.gcf()\n",
    "fig_ks.set_dpi(72.0)\n",
    "fig_ks.set_size_inches(1280.0/72.0, 720.0/72.0)\n",
    "add_logo(fig_ks, set_fig_size=False)\n",
    "plt.tight_layout()\n",
    "\n",
    "_ = invariance_test_copula(invar, lag_)\n",
    "fig_cop = plt.gcf()\n",
    "fig_cop.set_dpi(72.0)\n",
    "fig_cop.set_size_inches(1280.0/72.0, 720.0/72.0)\n",
    "plt.tight_layout()"
   ]
  }
 ],
 "metadata": {
  "kernelspec": {
   "display_name": "Python 3",
   "language": "python",
   "name": "python3"
  }
 },
 "nbformat": 4,
 "nbformat_minor": 4
}
