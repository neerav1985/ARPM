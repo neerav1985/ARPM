{
 "cells": [
  {
   "cell_type": "markdown",
   "metadata": {},
   "source": [
    "# S_AggregProjection [<img src=\"https://www.arpm.co/lab/icons/icon_permalink.png\" width=30 height=30 style=\"display: inline;\">](https://www.arpm.co/lab/redirect.php?code=S_AggregProjection&codeLang=Python)\n",
    "For details, see [here](https://www.arpm.co/lab/redirect.php?permalink=eb-aggre-proj-vue)."
   ]
  },
  {
   "cell_type": "markdown",
   "metadata": {},
   "source": [
    "## Prepare the environment"
   ]
  },
  {
   "cell_type": "code",
   "execution_count": null,
   "metadata": {},
   "outputs": [],
   "source": [
    "import os.path as path\n",
    "import sys\n",
    "\n",
    "sys.path.append(path.abspath('../../functions-legacy'))\n",
    "\n",
    "from numpy import zeros, diag, eye, sqrt, r_\n",
    "from numpy import sum as npsum\n",
    "from numpy.linalg import solve\n",
    "from numpy.random import rand\n",
    "\n",
    "from scipy.stats import t, chi2\n",
    "\n",
    "import matplotlib.pyplot as plt\n",
    "\n",
    "plt.style.use('seaborn')\n",
    "\n",
    "from NormalScenarios import NormalScenarios\n",
    "\n",
    "# parameters\n",
    "m_ = 500  # number of monitoring times\n",
    "j_ = 30  # number of simulations"
   ]
  },
  {
   "cell_type": "markdown",
   "metadata": {},
   "source": [
    "## Run script S_AggregProjection"
   ]
  },
  {
   "cell_type": "code",
   "execution_count": null,
   "metadata": {},
   "outputs": [],
   "source": [
    "%run S_AggregatesEstimation.ipynb"
   ]
  },
  {
   "cell_type": "markdown",
   "metadata": {},
   "source": [
    "## Generate Monte Carlo projected path scenarios for each standardized cluster aggregating factor"
   ]
  },
  {
   "cell_type": "code",
   "execution_count": null,
   "metadata": {},
   "outputs": [],
   "source": [
    "M_c1 = zeros((m_,j_))\n",
    "M_c3 = zeros((m_,j_))\n",
    "Zc1_tilde_proj = zeros((k_c1,m_,j_))\n",
    "Zc3_tilde_proj = zeros((k_c3,m_,j_))\n",
    "\n",
    "for m in range(m_):\n",
    "    # Multivariate normal scenarios\n",
    "    N_agg,_ = NormalScenarios(zeros((k_c1 + k_c3, 1)), rho2_aggr, j_)\n",
    "\n",
    "    # Chi-squared scenarios\n",
    "    M_c1[m, :] = chi2.ppf(rand(j_), k_c1)\n",
    "    M_c3[m, :] = chi2.ppf(rand(j_), k_c3)\n",
    "\n",
    "    # path scenarios\n",
    "    Zc1_tilde_proj[:, m, :] = N_agg[:k_c1,:]@sqrt(diag(1 / M_c1[m, :]))\n",
    "\n",
    "    Zc3_tilde_proj[:, m, :] = N_agg[k_c1 :k_c1 + k_c3,:]@sqrt(diag(1 / M_c3[m, :]))"
   ]
  },
  {
   "cell_type": "markdown",
   "metadata": {},
   "source": [
    "## Recover the projected paths scenarios for the standardized cluster 1"
   ]
  },
  {
   "cell_type": "code",
   "execution_count": null,
   "metadata": {},
   "outputs": [],
   "source": [
    "Xc1_tilde_proj =zeros((i_c1,m_,j_))\n",
    "for m in range(m_):\n",
    "    N_c1_res,_ = NormalScenarios(zeros((i_c1, 1)), eye(i_c1), j_)\n",
    "    Xc1_tilde_proj[:, m, :] = beta_c1@Zc1_tilde_proj[:, m, :] + diag(delta2_c1)@N_c1_res@sqrt(diag(1 / M_c1[m, :]))"
   ]
  },
  {
   "cell_type": "markdown",
   "metadata": {},
   "source": [
    "## Recover the projected paths scenarios for the standardized cluster 3"
   ]
  },
  {
   "cell_type": "code",
   "execution_count": null,
   "metadata": {},
   "outputs": [],
   "source": [
    "Xc3_tilde_proj =zeros((i_c3,m_,j_))\n",
    "aux = e@rho2_c3@e.T\n",
    "for m in range(m_):\n",
    "    Z = Zc3_tilde_proj[:, m, :]\n",
    "    mu_z = rho2_c3@e.T/aux@Z\n",
    "    for j in range(j_):\n",
    "        sig2_z = (nu_c3 + Z[:, j].T@aux@Z[:, j])*(rho2_c3 - rho2_c3@e.T / (aux)@e@rho2_c3) / (nu_c3 + k_c3)\n",
    "        N_z, _ = NormalScenarios(zeros((i_c3 - k_c3, 1)), sig2_z[:i_c3 - k_c3, :i_c3 - k_c3], j_)\n",
    "        Xc3_tilde_proj[:i_c3 - k_c3, m, j] = mu_z[:i_c3 - k_c3, j] + N_z[:, j] / sqrt(M_c3[m, j] / (nu_c3 + k_c3))\n",
    "        Xc3_tilde_proj[i_c3 - k_c3:, m, j] = solve(e[:, i_c3 - k_c3:].T,(Z[:, j] - npsum(e[:k_c3, :i_c3 - k_c3].T * Xc3_tilde_proj[:i_c3 - k_c3, m, j])))"
   ]
  },
  {
   "cell_type": "markdown",
   "metadata": {},
   "source": [
    "## Compute the projected path scenarios"
   ]
  },
  {
   "cell_type": "code",
   "execution_count": null,
   "metadata": {},
   "outputs": [],
   "source": [
    "#cluster 1\n",
    "Epsi_c1_hor = zeros((i_c1,m_,j_))\n",
    "for i in range(i_c1):\n",
    "    for m in range(m_):\n",
    "        Epsi_c1_hor[i, m, :] = mu_c1_marg[i] + sqrt(sig2_c1_marg[i])*t.cdf(Xc1_tilde_proj[i, m, :], nu_c1_marg[i])\n",
    "\n",
    "# cluster 3\n",
    "Epsi_c3_hor = zeros((i_c3,m_,j_))\n",
    "for i in range(i_c3):\n",
    "    for m in range(m_):\n",
    "        Epsi_c3_hor[i, m, :] = mu_c3_marg[i] + sqrt(sig2_c3_marg[i])*t.cdf(Xc3_tilde_proj[i, m, :], nu_c3_marg[i])\n",
    "\n",
    "# joint scenarios\n",
    "Epsi_hor = r_[Epsi_c1_hor, Epsi_c3_hor]"
   ]
  }
 ],
 "metadata": {
  "jupytext": {
   "encoding": "# -*- coding: utf-8 -*-",
   "executable": "/usr/bin/env python3"
  },
  "kernelspec": {
   "display_name": "Python 3",
   "language": "python",
   "name": "python3"
  }
 },
 "nbformat": 4,
 "nbformat_minor": 4
}
