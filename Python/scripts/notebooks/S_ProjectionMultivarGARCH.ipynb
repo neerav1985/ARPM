{
 "cells": [
  {
   "cell_type": "markdown",
   "metadata": {},
   "source": [
    "# S_ProjectionMultivarGARCH [<img src=\"https://www.arpm.co/lab/icons/icon_permalink.png\" width=30 height=30 style=\"display: inline;\">](https://www.arpm.co/lab/redirect.php?code=S_ProjectionMultivarGARCH&codeLang=Python)\n",
    "For details, see [here](https://www.arpm.co/lab/redirect.php?permalink=eb-sim-mvgarch-proc)."
   ]
  },
  {
   "cell_type": "markdown",
   "metadata": {},
   "source": [
    "## Prepare the environment"
   ]
  },
  {
   "cell_type": "code",
   "execution_count": null,
   "metadata": {},
   "outputs": [],
   "source": [
    "import os\n",
    "import os.path as path\n",
    "import sys\n",
    "\n",
    "sys.path.append(path.abspath('../../functions-legacy'))\n",
    "from collections import namedtuple\n",
    "\n",
    "from numpy import array, ones, zeros, diff, eye, round, log, tile, r_\n",
    "from numpy import min as npmin, max as npmax\n",
    "from numpy.random import randn\n",
    "\n",
    "from scipy.io import loadmat\n",
    "\n",
    "import matplotlib.pyplot as plt\n",
    "from matplotlib.pyplot import figure, bar, xlim, ylim, scatter, title, xticks, yticks, subplot\n",
    "\n",
    "plt.style.use('seaborn')\n",
    "\n",
    "from CONFIG import GLOBAL_DB, TEMPORARY_DB\n",
    "from ARPM_utils import struct_to_dict, save_plot\n",
    "from intersect_matlab import intersect\n",
    "from HistogramFP import HistogramFP\n",
    "from Price2AdjustedPrice import Price2AdjustedPrice\n",
    "from Riccati import Riccati\n",
    "from FitMultivariateGarch import FitMultivariateGarch"
   ]
  },
  {
   "cell_type": "markdown",
   "metadata": {},
   "source": [
    "## Load data"
   ]
  },
  {
   "cell_type": "code",
   "execution_count": null,
   "metadata": {},
   "outputs": [],
   "source": [
    "try:\n",
    "    db = loadmat(os.path.join(GLOBAL_DB, 'db_Stocks'), squeeze_me=True)\n",
    "except FileNotFoundError:\n",
    "    db = loadmat(os.path.join(TEMPORARY_DB, 'db_Stocks'), squeeze_me=True)\n",
    "\n",
    "SPX = struct_to_dict(db['SPX'])\n",
    "StocksSPX = struct_to_dict(db['StocksSPX'])"
   ]
  },
  {
   "cell_type": "markdown",
   "metadata": {},
   "source": [
    "## Compute the log-returns"
   ]
  },
  {
   "cell_type": "code",
   "execution_count": null,
   "metadata": {},
   "outputs": [],
   "source": [
    "SPX_ = SPX.Price_close  # S&P500\n",
    "x1 = SPX_\n",
    "dx1 = diff(log(x1))\n",
    "\n",
    "x2, dx2 = Price2AdjustedPrice(StocksSPX.Date.reshape(1,-1), StocksSPX.Prices[[0]], StocksSPX.Dividends[0])  # Apple Inc\n",
    "\n",
    "[date, i2, i3] = intersect(StocksSPX.Date[1:], SPX.Date[1:])\n",
    "dx2 = dx2[[0],i2].reshape(1,-1)\n",
    "dx1 = dx1[i3].reshape(1,-1)"
   ]
  },
  {
   "cell_type": "markdown",
   "metadata": {},
   "source": [
    "## Settings"
   ]
  },
  {
   "cell_type": "code",
   "execution_count": null,
   "metadata": {},
   "outputs": [],
   "source": [
    "j_ = 10000  # numbers of MC scenarios\n",
    "n_ = 2  # numbers of securities\n",
    "tau = 21  # projection horizon"
   ]
  },
  {
   "cell_type": "markdown",
   "metadata": {},
   "source": [
    "## Estimate the daily compounded returns distribution"
   ]
  },
  {
   "cell_type": "code",
   "execution_count": null,
   "metadata": {},
   "outputs": [],
   "source": [
    "dx = r_[dx1, dx2]  # extract risk drivers increments (compounded returns)\n",
    "demean = 1\n",
    "eps = .01\n",
    "df = 500\n",
    "[m, a, b, c, sig2] = FitMultivariateGarch(dx, demean, eps, df)"
   ]
  },
  {
   "cell_type": "markdown",
   "metadata": {},
   "source": [
    "## Project the compouded returns to a one-month horizon"
   ]
  },
  {
   "cell_type": "code",
   "execution_count": null,
   "metadata": {},
   "outputs": [],
   "source": [
    "sig2_ = zeros((j_, n_, n_))\n",
    "for j in range(j_):\n",
    "    sig2_[j,:,:] = sig2.copy()\n",
    "\n",
    "dx_j = zeros((n_, j_))\n",
    "for t in range(tau):\n",
    "    for j in range(j_):  # WARNING: this loop is for didactical purposes only. In real applications avoid looping\n",
    "        #  compute new return\n",
    "        epsi = randn(n_, 1)\n",
    "        sig2 = sig2_[j,:,:]\n",
    "        dx_temp = m + Riccati(eye(n_), sig2)@epsi\n",
    "        dx_j[:, [j]] = dx_j[:, [j]] + dx_temp\n",
    "\n",
    "        # update for next cycle\n",
    "        s = (dx_temp - m)@(dx_temp - m).T\n",
    "        sig2 = c + a * s + b * sig2\n",
    "        sig2_[j,:,:] = sig2.copy()\n",
    "\n",
    "X = tile(array([[x1[-1]], [x2[0,-1]]]), (1, j_)) + dx_j  # projected risk drivers\n",
    "p = ones((1, j_)) / j_  # Flexible probabilities (flat)"
   ]
  },
  {
   "cell_type": "markdown",
   "metadata": {},
   "source": [
    "## Create figure"
   ]
  },
  {
   "cell_type": "code",
   "execution_count": null,
   "metadata": {},
   "outputs": [],
   "source": [
    "colhist = [.9, .9, .9]\n",
    "gray = [.5, .5, .5]\n",
    "\n",
    "x_lim = [npmin(dx_j[0,:]), npmax(dx_j[0,:])]\n",
    "y_lim = [npmin(dx_j[1,:]), npmax(dx_j[1,:])]\n",
    "\n",
    "# Display results\n",
    "\n",
    "figure()\n",
    "# marginals\n",
    "NumBins = round(10*log(j_))\n",
    "# scatter plot\n",
    "ax = plt.subplot2grid((3,3),(1,0), rowspan=2, colspan=2)\n",
    "scatter(dx_j[0,:], dx_j[1,:], 3, c=gray, marker='*')\n",
    "xlim(x_lim)\n",
    "ylim(y_lim)\n",
    "xticks([])\n",
    "yticks([])\n",
    "plt.grid(True)\n",
    "title('Joint return distribution')\n",
    "option = namedtuple('option', 'n_bins')\n",
    "option.n_bins = NumBins\n",
    "n2, d2 = HistogramFP(dx_j[[1],:], p, option)\n",
    "ax = plt.subplot2grid((3,3),(1,2),rowspan=2)\n",
    "plt.barh(d2[:-1], n2[0], height=d2[1]-d2[0], facecolor= colhist, edgecolor= 'k')\n",
    "ylim(y_lim)\n",
    "xticks([])\n",
    "plt.text(1.1*npmax(n2), -0.02, 'Stock return distribution',rotation=-90)\n",
    "ax = plt.subplot2grid((3,3),(0,0),colspan=2)\n",
    "n1, d1 = HistogramFP(dx_j[[0],:], p, option)\n",
    "bar(d1[:-1], n1[0], width=d1[1]-d1[0], facecolor= colhist, edgecolor= 'k')\n",
    "xlim(x_lim)\n",
    "yticks([]),\n",
    "plt.text(-0.1, 1.1*npmax(n1), 'Market index return distribution')\n",
    "plt.tight_layout(pad=3);\n",
    "# save_plot(ax=plt.gca(), extension='png', scriptname=os.path.basename('.')[:-3], count=plt.get_fignums()[-1])\n"
   ]
  }
 ],
 "metadata": {
  "jupytext": {
   "encoding": "# -*- coding: utf-8 -*-",
   "executable": "/usr/bin/env python3"
  },
  "kernelspec": {
   "display_name": "Python 3",
   "language": "python",
   "name": "python3"
  }
 },
 "nbformat": 4,
 "nbformat_minor": 4
}
