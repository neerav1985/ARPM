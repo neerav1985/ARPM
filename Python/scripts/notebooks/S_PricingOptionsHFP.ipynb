{
 "cells": [
  {
   "cell_type": "markdown",
   "metadata": {},
   "source": [
    "# S_PricingOptionsHFP [<img src=\"https://www.arpm.co/lab/icons/icon_permalink.png\" width=30 height=30 style=\"display: inline;\">](https://www.arpm.co/lab/redirect.php?code=S_PricingOptionsHFP&codeLang=Python)\n",
    "For details, see [here](https://www.arpm.co/lab/redirect.php?permalink=eb-call-option-value-hist)."
   ]
  },
  {
   "cell_type": "markdown",
   "metadata": {},
   "source": [
    "## Prepare the environment"
   ]
  },
  {
   "cell_type": "code",
   "execution_count": null,
   "metadata": {},
   "outputs": [],
   "source": [
    "import os\n",
    "import os.path as path\n",
    "import sys\n",
    "\n",
    "sys.path.append(path.abspath('../../functions-legacy'))\n",
    "from collections import namedtuple\n",
    "\n",
    "import numpy as np\n",
    "from numpy import arange, reshape, ones, zeros, diag, round, log, exp, sqrt, tile, r_, newaxis, real\n",
    "\n",
    "from scipy.io import loadmat, savemat\n",
    "\n",
    "import matplotlib.pyplot as plt\n",
    "from matplotlib.pyplot import figure, plot, legend, xlim, scatter, ylabel, \\\n",
    "    xlabel, title, xticks\n",
    "\n",
    "import warnings\n",
    "warnings.filterwarnings(\"ignore\", category=RuntimeWarning)\n",
    "\n",
    "plt.style.use('seaborn')\n",
    "\n",
    "from CONFIG import GLOBAL_DB, TEMPORARY_DB\n",
    "from ARPM_utils import save_plot, interpne\n",
    "from FPmeancov import FPmeancov\n",
    "from HistogramFP import HistogramFP\n",
    "from ColorCodedFP import ColorCodedFP\n",
    "from PerpetualAmericanCall import PerpetualAmericanCall\n",
    "from blsprice import blsprice"
   ]
  },
  {
   "cell_type": "markdown",
   "metadata": {},
   "source": [
    "## Upload the database db_ProjOptionsHFP (computed in S_ProjectionOptionHFP) and compute the projected\n",
    "## underlying values and the projected short rates"
   ]
  },
  {
   "cell_type": "code",
   "execution_count": null,
   "metadata": {},
   "outputs": [],
   "source": [
    "try:\n",
    "    db = loadmat(os.path.join(GLOBAL_DB, 'db_ProjOptionsHFP'), squeeze_me=True)\n",
    "except FileNotFoundError:\n",
    "    db = loadmat(os.path.join(TEMPORARY_DB, 'db_ProjOptionsHFP'), squeeze_me=True)\n",
    "\n",
    "x_1 = real(db['x_1'].reshape(1, -1))\n",
    "x_1hor = real(db['x_1hor'])\n",
    "x_2 = real(db['x_2'].reshape(1, -1))\n",
    "x_2hor = real(db['x_2hor'])\n",
    "x_3 = real(db['x_3'])\n",
    "x_3hor = real(db['x_3hor'])\n",
    "tau = db['tau']\n",
    "j_ = db['j_']\n",
    "n_ = db['n_']\n",
    "p = db['p'].reshape(1,-1)\n",
    "eta = db['eta']\n",
    "n_grid = db['n_grid']\n",
    "sigma_m = db['sigma_m']\n",
    "m_grid = db['m_grid']\n",
    "maturity = db['maturity']\n",
    "\n",
    "X_1 = r_['-1',tile(x_1[0,[-1]], (j_, 1)), x_1hor]  # projected log-underlying values\n",
    "X_2 = r_['-1',tile(x_2[0,[-1]], (j_, 1)), x_2hor]  # projected shadow short rates\n",
    "X_3 = r_['-1',tile(x_3[:,[-1]], (1, j_))[...,newaxis], x_3hor]\n",
    "X_3 = reshape(X_3, (n_, n_grid + 1, j_, tau + 1),'F')  # projected log-implied volatilities\n",
    "V = exp(X_1)  # projected underlying values\n",
    "Y = PerpetualAmericanCall(X_2, {'eta':eta})  # projected short rates\n",
    "\n",
    "# parameters\n",
    "k = exp(x_1[0,-1])  # at the money strike\n",
    "tau_options = 10 / 252  # options time to maturity"
   ]
  },
  {
   "cell_type": "markdown",
   "metadata": {},
   "source": [
    "## Compute the call and the put option value at the current time"
   ]
  },
  {
   "cell_type": "code",
   "execution_count": null,
   "metadata": {},
   "outputs": [],
   "source": [
    "moneyness_tnow = log(exp(x_1[0,-1]) / k) / sqrt(tau_options)  # moneyness of the options at time t_now\n",
    "sigmatmp = sigma_m[:,:, -1]\n",
    "sigma_tnow = interpne(sigmatmp, r_[tau_options, moneyness_tnow], [maturity, m_grid])\n",
    "vcall_tnow, vput_tnow = blsprice(exp(x_1[0,-1]), k, Y[0, 0], tau_options, sigma_tnow),\\\n",
    "                        blsprice(exp(x_1[0,-1]), k, Y[0, 0], tau_options, sigma_tnow,cp=-1)  # BS call and put option values at time t_now"
   ]
  },
  {
   "cell_type": "markdown",
   "metadata": {},
   "source": [
    "## Compute the call and the put option values at the horizons t_hor = t_now + tau, where tau = 1,...,6"
   ]
  },
  {
   "cell_type": "code",
   "execution_count": null,
   "metadata": {},
   "outputs": [],
   "source": [
    "Vcall = zeros((j_, tau))\n",
    "Vput = zeros((j_, tau))\n",
    "Moneyness = zeros((j_, tau))\n",
    "LogSigma = zeros((j_, tau))\n",
    "\n",
    "for t in range(tau):\n",
    "    tau_hor = tau_options-t / 252  # time to maturity of the options at the horizon\n",
    "    Moneyness[:,t] = log(V[:,t] / k) / sqrt(tau_hor)  # moneyness of the options at the horizon\n",
    "\n",
    "    # interpolated log-implied volatility of the options at the horizon\n",
    "    for j in range(j_):\n",
    "        LogSigma[j, t] = interpne(X_3[:,:, j, t], r_[tau_hor, Moneyness[j, t]], [maturity, m_grid])\n",
    "\n",
    "    Vcall[:,t], Vput[:,t] = blsprice(V[:,t], k, Y[:,t], tau_hor, exp(LogSigma[:,t])), blsprice(V[:,t], k, Y[:,t], tau_hor, exp(LogSigma[:,t]), cp=-1)"
   ]
  },
  {
   "cell_type": "markdown",
   "metadata": {},
   "source": [
    "## Compute the call and put option P&L scenarios at the horizons, together with their mean and standard deviation"
   ]
  },
  {
   "cell_type": "code",
   "execution_count": null,
   "metadata": {},
   "outputs": [],
   "source": [
    "# call option P&L scenarios\n",
    "Pi_call = Vcall - vcall_tnow * ones(Vcall.shape)\n",
    "[MuPi_call, SigmaPi_call] = FPmeancov(Pi_call.T, p)\n",
    "SigmaPi_call = sqrt(diag(SigmaPi_call))\n",
    "\n",
    "# put option P&L scenarios\n",
    "Pi_put = Vput - vput_tnow * ones(Vput.shape)\n",
    "[MuPi_put, SigmaPi_put] = FPmeancov(Pi_put.T, p)\n",
    "SigmaPi_put = sqrt(diag(SigmaPi_put))\n",
    "\n",
    "# portfolio P&L scenarios\n",
    "Pi_ptf = r_[Pi_call, Pi_put]"
   ]
  },
  {
   "cell_type": "code",
   "execution_count": null,
   "metadata": {},
   "outputs": [],
   "source": [
    "# ## Save the data in PricOptionsHFP\n",
    "vars_to_save = {varname: var for varname, var in locals().items() if isinstance(var, (np.ndarray,np.int,np.float))}\n",
    "savemat(os.path.join(TEMPORARY_DB, 'db_PtocOptionsHFP'), vars_to_save)"
   ]
  },
  {
   "cell_type": "code",
   "execution_count": null,
   "metadata": {},
   "outputs": [],
   "source": [
    "# ## Plot a few simulated paths (say 15) of the call and put option P&L at the selected horizon (t_hor = t_now + 6 days),\n",
    "# ## along with the expectation, the standard deviation and the horizon distribution.\n",
    "# ## Furthermore, show the scatter plot of the call and put option P&L as a function of the underlying value.\n",
    "\n",
    "GreyRange = arange(0,0.86,0.01)\n",
    "CM, C = ColorCodedFP(p, None, None, GreyRange, 0, 22, [18, 7])\n",
    "\n",
    "lgrey = [0.8, 0.8, 0.8]  # light grey\n",
    "dgrey = [0.4, 0.4, 0.4]  # dark grey\n",
    "j_sel = 15  # selected number of printed paths\n",
    "\n",
    "# call option P&L distribution\n",
    "figure()\n",
    "# simulated path, mean and standard deviation\n",
    "plot(arange(1,tau+1), Pi_call[:j_sel+1,:].T, color = lgrey, lw=1)\n",
    "xticks(arange(1,tau+1))\n",
    "xlim([1, tau + 10])\n",
    "l1 = plot(arange(1,tau+1), MuPi_call.flatten(), color='g')\n",
    "l2 = plot(arange(1,tau+1), MuPi_call.flatten() + SigmaPi_call.flatten(), color='r')\n",
    "plot(arange(1,tau+1), MuPi_call.flatten() - SigmaPi_call.flatten(), color='r')\n",
    "# histogram\n",
    "option = namedtuple('option', 'n_bins')\n",
    "option.n_bins = round(10*log(j_))\n",
    "y_hist, x_hist = HistogramFP(Pi_call[:,[-1]].T, p, option)\n",
    "scale = 10 / max(y_hist[0])\n",
    "y_hist = y_hist*scale\n",
    "shift_y_hist = tau + y_hist\n",
    "# empirical pdf\n",
    "emp_pdf = plt.barh(x_hist[:-1], shift_y_hist[0]-tau, left=tau, height=x_hist[1]-x_hist[0],facecolor=lgrey, edgecolor= lgrey, lw=2)\n",
    "legend(handles=[l1[0],l2[0],emp_pdf], labels=['mean','+ / - st.deviation','horizon pdf'])\n",
    "xlabel('time (years)')\n",
    "ylabel('Call option P&L')\n",
    "title('Call option projected P&L at the horizon');\n",
    "# save_plot(ax=plt.gca(), extension='png', scriptname=os.path.basename('.')[:-3], count=plt.get_fignums()[-1])\n",
    "\n",
    "# scatter plot call option P&L\n",
    "figure()\n",
    "# colormap(CM)\n",
    "plt.gca().set_facecolor('white')\n",
    "scatter(V[:,-1], Pi_call[:,-1], 10, c=C, marker='.',cmap=CM)\n",
    "xlabel('Underlying')\n",
    "ylabel('Call option P&L')\n",
    "title('Scatter plot call option P&L vs. underlying');\n",
    "# save_plot(ax=plt.gca(), extension='png', scriptname=os.path.basename('.')[:-3], count=plt.get_fignums()[-1])\n",
    "\n",
    "# put option P&L distribution\n",
    "figure()\n",
    "# simulated path, mean and standard deviation\n",
    "plot(arange(1,tau+1), Pi_put[:j_sel+1,:].T, color = lgrey, lw=1)\n",
    "xticks(arange(1,tau+1)), xlim([1, tau + 10])\n",
    "l1 = plot(arange(1,tau+1), MuPi_put.flatten(), color='g')\n",
    "l2 = plot(arange(1,tau+1), MuPi_put.flatten() + SigmaPi_put.flatten(), color='r')\n",
    "plot(arange(1,tau+1), MuPi_put.flatten() - SigmaPi_put.flatten(), color='r')\n",
    "# histogram\n",
    "option = namedtuple('option', 'n_bins')\n",
    "option.n_bins = round(10*log(j_))\n",
    "y_hist, x_hist = HistogramFP(Pi_put[:,[-1]].T, p, option)\n",
    "scale = 10 / max(y_hist[0])\n",
    "y_hist = y_hist*scale\n",
    "shift_y_hist = tau + y_hist\n",
    "# empirical pdf\n",
    "emp_pdf = plt.barh(x_hist[:-1], shift_y_hist[0]-tau, left=tau, height=x_hist[1]-x_hist[0], facecolor=lgrey, edgecolor= lgrey, lw=2)\n",
    "legend(handles=[l1[0],l2[0],emp_pdf], labels=['mean',' + / - st.deviation','horizon pdf'])\n",
    "xlabel('time (years)')\n",
    "ylabel('Put option P&L')\n",
    "title('Put option projected P&L at the horizon');\n",
    "# save_plot(ax=plt.gca(), extension='png', scriptname=os.path.basename('.')[:-3], count=plt.get_fignums()[-1])\n",
    "\n",
    "# scatter plot call option P&L\n",
    "figure()\n",
    "# colormap(CM)\n",
    "plt.gca().set_facecolor('white')\n",
    "scatter(V[:,-1], Pi_put[:,-1], 10, c=C, marker='.',cmap=CM)\n",
    "xlabel('Underlying')\n",
    "ylabel('Put option P&L')\n",
    "title('Scatter plot put option P&L vs. underlying');\n",
    "# save_plot(ax=plt.gca(), extension='png', scriptname=os.path.basename('.')[:-3], count=plt.get_fignums()[-1])"
   ]
  }
 ],
 "metadata": {
  "jupytext": {
   "encoding": "# -*- coding: utf-8 -*-",
   "executable": "/usr/bin/env python3"
  },
  "kernelspec": {
   "display_name": "Python 3",
   "language": "python",
   "name": "python3"
  }
 },
 "nbformat": 4,
 "nbformat_minor": 4
}
