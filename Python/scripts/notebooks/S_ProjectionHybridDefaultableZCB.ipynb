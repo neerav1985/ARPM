{
 "cells": [
  {
   "cell_type": "markdown",
   "metadata": {},
   "source": [
    "# S_ProjectionHybridDefaultableZCB [<img src=\"https://www.arpm.co/lab/icons/icon_permalink.png\" width=30 height=30 style=\"display: inline;\">](https://www.arpm.co/lab/redirect.php?code=S_ProjectionHybridDefaultableZCB&codeLang=Python)\n",
    "For details, see [here](https://www.arpm.co/lab/redirect.php?permalink=eb-proj-hybrid-defaultable-zcb)."
   ]
  },
  {
   "cell_type": "markdown",
   "metadata": {},
   "source": [
    "## Prepare the environment"
   ]
  },
  {
   "cell_type": "code",
   "execution_count": null,
   "metadata": {},
   "outputs": [],
   "source": [
    "import os\n",
    "import os.path as path\n",
    "import sys\n",
    "from collections import namedtuple\n",
    "\n",
    "sys.path.append(path.abspath('../../functions-legacy'))\n",
    "\n",
    "import numpy as np\n",
    "from numpy import arange, ones, zeros, where, cumsum, diff, diag, eye, abs, round, log, exp, sqrt, tile, r_, array, \\\n",
    "    newaxis, histogram\n",
    "from numpy import sum as npsum\n",
    "from numpy.random import rand, randn\n",
    "\n",
    "from tqdm import trange\n",
    "\n",
    "from scipy.stats import norm, t as tstu, chi2\n",
    "from scipy.io import loadmat\n",
    "\n",
    "import matplotlib.pyplot as plt\n",
    "from matplotlib.pyplot import figure, plot, xlim, ylim\n",
    "\n",
    "plt.style.use('seaborn')\n",
    "\n",
    "from CONFIG import GLOBAL_DB, TEMPORARY_DB\n",
    "from ARPM_utils import save_plot, struct_to_dict\n",
    "from FPmeancov import FPmeancov\n",
    "from Price2AdjustedPrice import Price2AdjustedPrice\n",
    "from FactorAnalysis import FactorAnalysis\n",
    "from MaxLikelihoodFPLocDispT import MaxLikelihoodFPLocDispT\n",
    "from CopMargSep import CopMargSep\n",
    "from ProjectTransitionMatrix import ProjectTransitionMatrix"
   ]
  },
  {
   "cell_type": "markdown",
   "metadata": {},
   "source": [
    "## Run the script that computes and projects the market risk drivers"
   ]
  },
  {
   "cell_type": "code",
   "execution_count": null,
   "metadata": {},
   "outputs": [],
   "source": [
    "%run S_ProjectionBootstrap.ipynb"
   ]
  },
  {
   "cell_type": "markdown",
   "metadata": {},
   "source": [
    "## Input"
   ]
  },
  {
   "cell_type": "code",
   "execution_count": null,
   "metadata": {},
   "outputs": [],
   "source": [
    "Bonds.ratings_tnow = [6,2,5,3,6]  # the ratings of the 5 ZCB are[B AA BB A B]"
   ]
  },
  {
   "cell_type": "markdown",
   "metadata": {},
   "source": [
    "## Load the transition matrix estimated in S_FitDiscreteMarkovChain and \"inject\" it to a daily step\n",
    "##(since projection step = 1 day, we work with a daily transition matrix)\n",
    "##Load the transition matrix"
   ]
  },
  {
   "cell_type": "code",
   "execution_count": null,
   "metadata": {},
   "outputs": [],
   "source": [
    "try:\n",
    "    db = loadmat(os.path.join(GLOBAL_DB, 'db_FitCreditTransitions'), squeeze_me=True)\n",
    "except FileNotFoundError:\n",
    "    db = loadmat(os.path.join(TEMPORARY_DB, 'db_FitCreditTransitions'), squeeze_me=True)\n",
    "\n",
    "p_EP = db['p_EP']\n",
    "\n",
    "try:\n",
    "    db = loadmat(os.path.join(GLOBAL_DB, 'db_Ratings'), squeeze_me=True)\n",
    "except FileNotFoundError:\n",
    "    db = loadmat(os.path.join(TEMPORARY_DB, 'db_Ratings'), squeeze_me=True)\n",
    "\n",
    "db_Ratings = struct_to_dict(db['db_Ratings'])\n",
    "\n",
    "Transitions = namedtuple('Transition', 'p ratings p_tau_step p_default')\n",
    "Transitions.p = p_EP\n",
    "Transitions.ratings = db_Ratings.ratings\n",
    "\n",
    "# Inject the transition matrix\n",
    "Transitions.p_tau_step = ProjectTransitionMatrix(Transitions.p, 1 / 252)\n",
    "Transitions.p_default = Transitions.p_tau_step[:,-1]\n",
    "\n",
    "# Compute threshold matrix\n",
    "u_tau = r_['-1', zeros((Transitions.p_tau_step.shape[0], 1)), cumsum(Transitions.p_tau_step, 1)]"
   ]
  },
  {
   "cell_type": "markdown",
   "metadata": {},
   "source": [
    "## Compute the log-returns (invariants) of the 5 obligor's stocks"
   ]
  },
  {
   "cell_type": "code",
   "execution_count": null,
   "metadata": {},
   "outputs": [],
   "source": [
    "n_issuers = len(Bonds.ratings_tnow)\n",
    "n_dataset = StocksSPX['Prices'].shape[0]  # number of stocks in the dataset (we assume that the stocks of the 5 obligors are the last 5 entries in the dataset)\n",
    "v_stocks_issuers = StocksSPX['Prices'][-n_issuers:,:]\n",
    "# adjust prices for dividends\n",
    "v_stocks_adj = zeros((n_issuers,t_+1))\n",
    "for n in range(n_issuers):\n",
    "    v_stocks_adj[n,:]=Price2AdjustedPrice(StocksSPX['Date'].reshape(1,-1), v_stocks_issuers[[n], :], StocksSPX['Dividends'][n_dataset - n_issuers + n])[0]\n",
    "\n",
    "# we assume that log dividend-adjusted-values follow a random walk\n",
    "epsi = diff(log(v_stocks_adj), 1, axis=1)  # invariants\n",
    "bonds_i_ = epsi.shape[0]"
   ]
  },
  {
   "cell_type": "markdown",
   "metadata": {},
   "source": [
    "## Standardize the invariants"
   ]
  },
  {
   "cell_type": "code",
   "execution_count": null,
   "metadata": {},
   "outputs": [],
   "source": [
    "nu_marg = 6\n",
    "tauHL_prior = 252*3  # 3 years\n",
    "# set FP\n",
    "p_t = exp(-(log(2) / (tauHL_prior + round(10*(rand() - 0.5)))*abs(arange(t_, 1 + -1, -1)))).reshape(1,-1)  # FP setting for every invariants separately\n",
    "p_t = p_t / npsum(p_t)\n",
    "\n",
    "mu = zeros((bonds_i_, 1))\n",
    "sig2 = zeros((bonds_i_, 1))\n",
    "epsi_t = zeros((epsi.shape))\n",
    "u = zeros((epsi.shape))\n",
    "for i in range(bonds_i_):\n",
    "    mu[i], sig2[i],_ = MaxLikelihoodFPLocDispT(epsi[[i],:], p_t, nu_marg, 10 ** -6, 1)\n",
    "    epsi_t[i, :] = (epsi[i, :] - mu[i]) / sqrt(sig2[i])\n",
    "    u[i, :] = tstu.cdf(epsi_t[i, :], nu_marg)"
   ]
  },
  {
   "cell_type": "markdown",
   "metadata": {},
   "source": [
    "## Estimate the correlation of the t-copula\n",
    "## map observations into copula realizations"
   ]
  },
  {
   "cell_type": "code",
   "execution_count": null,
   "metadata": {},
   "outputs": [],
   "source": [
    "nu = 5\n",
    "c = zeros((u.shape))\n",
    "for i in range(bonds_i_):\n",
    "    c[i,:] = tstu.ppf(u[i, :], nu)\n",
    "\n",
    "    # estimate the correlation matrix\n",
    "[_, s2_hat] = FPmeancov(c, ones((1, t_)) / t_)\n",
    "c2 = np.diagflat(1 / sqrt(diag(s2_hat)))@s2_hat@np.diagflat(1 / sqrt(diag(s2_hat)))"
   ]
  },
  {
   "cell_type": "markdown",
   "metadata": {},
   "source": [
    "## Factor analysis"
   ]
  },
  {
   "cell_type": "code",
   "execution_count": null,
   "metadata": {},
   "outputs": [],
   "source": [
    "k_LRD = 1  # one factor\n",
    "c2_LRD, beta,*_ = FactorAnalysis(c2, array([[0]]), k_LRD)\n",
    "c2_LRD, beta = np.real(c2_LRD), np.real(beta)\n",
    "c2_credit = np.diagflat(diag(c2_LRD) ** (-1 / 2))@c2_LRD@np.diagflat(diag(c2_LRD) ** (-1 / 2))\n",
    "sig_credit = sqrt(diag(eye(c2_credit.shape[0]) - beta@beta.T))\n",
    "\n",
    "Transitions.beta = beta\n",
    "Transitions.c2_diag = diag(diag(eye((n_issuers)) - beta@beta.T))\n",
    "Transitions.n_issuers = n_issuers\n",
    "Transitions.n_ratings = Transitions.p.shape[0]"
   ]
  },
  {
   "cell_type": "markdown",
   "metadata": {},
   "source": [
    "## Copula marginal projection"
   ]
  },
  {
   "cell_type": "code",
   "execution_count": null,
   "metadata": {},
   "outputs": [],
   "source": [
    "k_ = tau_proj  # 21 days\n",
    "spx_idx = Stocks.i_ + Bonds.i_  # index of the S&P scenarios\n",
    "\n",
    "T = zeros((bonds_i_, j_, k_))\n",
    "for k in range(k_):\n",
    "    # scenarios for the denominator\n",
    "    M = chi2.ppf(rand(1, j_), nu)\n",
    "\n",
    "    # scenarios for residuals.T numerator\n",
    "    N_res = zeros((bonds_i_, j_))\n",
    "    for i in range(bonds_i_):\n",
    "        N_res[i,:] = randn(1, j_)\n",
    "\n",
    "    # scenarios for the factor (S&P500 index already projected via Bootstrap)\n",
    "    _, _, U_SPX = CopMargSep(Epsi_path[spx_idx, [k], :j_], p)  # standardize scenarios\n",
    "    N_fac = norm.ppf(U_SPX, 0, 1)  # map scenarios into standard normal\n",
    "\n",
    "    # compute joint scenarios\n",
    "    T[:,:,k] = beta@(N_fac / tile(sqrt(M / nu)[newaxis,...], (k_LRD, 1))) + tile(sig_credit[...,newaxis], (1, j_)) * (N_res / tile(sqrt(M / nu)[newaxis,...],(n_issuers, 1)))\n",
    "\n",
    "# map scenarios into grades\n",
    "Epsi_credit = tstu.cdf(T, nu)"
   ]
  },
  {
   "cell_type": "markdown",
   "metadata": {},
   "source": [
    "## Translate scenarios into rating paths through the threshold matrix"
   ]
  },
  {
   "cell_type": "code",
   "execution_count": null,
   "metadata": {},
   "outputs": [],
   "source": [
    "Bonds.RatingProj = zeros((Transitions.n_issuers,j_,k_),dtype=int)\n",
    "Bonds.I_D = zeros((Transitions.n_issuers,j_,k_))\n",
    "for k in trange(k_,desc='Day'):\n",
    "    for j in range(j_):\n",
    "        for n in range(Transitions.n_issuers):\n",
    "            if k == 0:\n",
    "                Bonds.RatingProj[n, j, k]=where(histogram(Epsi_credit[n, j, k], u_tau[Bonds.ratings_tnow[n],:])[0] == 1)[0]\n",
    "            else:\n",
    "                Bonds.RatingProj[n, j, k] = where(histogram(Epsi_credit[n, j, k], u_tau[Bonds.RatingProj[n, j, k - 1],:])[0] == 1)[0]\n",
    "\n",
    "    # Default indicator\n",
    "    Bonds.I_D[:,:,k] = Bonds.RatingProj[:,:,k] == 8  # scenarios with rating=8 correspond to default"
   ]
  },
  {
   "cell_type": "markdown",
   "metadata": {},
   "source": [
    "## Plot projected ratings"
   ]
  },
  {
   "cell_type": "code",
   "execution_count": null,
   "metadata": {},
   "outputs": [],
   "source": [
    "gray = [.7, .7, .7]\n",
    "\n",
    "figure()\n",
    "plot(range(1,k_+1), Bonds.RatingProj[4, :,:].T)\n",
    "plt.yticks(arange(10))\n",
    "plt.xticks(arange(0, 25, 5))\n",
    "xlim([0, k_ + 1])\n",
    "ylim([0, 9]);\n",
    "# save_plot(ax=plt.gca(), extension='png', scriptname=os.path.basename('.')[:-3], count=plt.get_fignums()[-1])\n"
   ]
  }
 ],
 "metadata": {
  "jupytext": {
   "encoding": "# -*- coding: utf-8 -*-",
   "executable": "/usr/bin/env python3"
  },
  "kernelspec": {
   "display_name": "Python 3",
   "language": "python",
   "name": "python3"
  }
 },
 "nbformat": 4,
 "nbformat_minor": 4
}
