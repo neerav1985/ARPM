{
 "cells": [
  {
   "cell_type": "markdown",
   "metadata": {},
   "source": [
    "# s_bayes_posterior_niw [<img src=\"https://www.arpm.co/lab/icons/icon_permalink.png\" width=30 height=30 style=\"display: inline;\">](https://www.arpm.co/lab/redirect.php?code=s_bayes_posterior_niw&codeLang=Python)\n",
    "For details, see [here](https://www.arpm.co/lab/redirect.php?permalink=ExerFigNIWposterior)."
   ]
  },
  {
   "cell_type": "code",
   "execution_count": null,
   "metadata": {},
   "outputs": [],
   "source": [
    "import matplotlib.pyplot as plt\n",
    "import numpy as np\n",
    "from scipy.stats import wishart, invwishart, norm, t\n",
    "\n",
    "from arpym.statistics.simulate_niw import simulate_niw\n",
    "from arpym.tools.logo import add_logo"
   ]
  },
  {
   "cell_type": "markdown",
   "metadata": {},
   "source": [
    "## [Input parameters](https://www.arpm.co/lab/redirect.php?permalink=s_bayes_posterior_niw-parameters)"
   ]
  },
  {
   "cell_type": "code",
   "execution_count": null,
   "metadata": {},
   "outputs": [],
   "source": [
    "mu_pri = 0.1  # prior expectation\n",
    "sigma2_pri = 2.  # prior dispersion\n",
    "t_pri = 7.  # confidence on mu_pri\n",
    "v_pri = 5.  # confidence on sigma2_pri\n",
    "mu = 1.5  # true value of mu\n",
    "sigma2 = 4.  # true value of sigma\n",
    "t_ = 6  # length of the time series\n",
    "j_ = 5000  # number of simulations\n",
    "k_ = 500  # number of grid points"
   ]
  },
  {
   "cell_type": "markdown",
   "metadata": {},
   "source": [
    "## [Step 1](https://www.arpm.co/lab/redirect.php?permalink=s_bayes_posterior_niw-implementation-step01): Generate the time series and compute the sample mean and covariance estimators"
   ]
  },
  {
   "cell_type": "code",
   "execution_count": null,
   "metadata": {},
   "outputs": [],
   "source": [
    "epsi = norm.rvs(mu, np.sqrt(sigma2), t_)\n",
    "mu_hat = np.mean(epsi)\n",
    "sigma2_hat = np.var(epsi)"
   ]
  },
  {
   "cell_type": "markdown",
   "metadata": {},
   "source": [
    "## [Step 2](https://www.arpm.co/lab/redirect.php?permalink=s_bayes_posterior_niw-implementation-step02): Compute the parameters of the posterior distribution"
   ]
  },
  {
   "cell_type": "code",
   "execution_count": null,
   "metadata": {},
   "outputs": [],
   "source": [
    "mu_pos = (t_pri / (t_pri + t_)) * mu_pri + (t_ / (t_pri + t_)) * mu_hat\n",
    "sigma2_pos = (v_pri / (v_pri + t_)) * sigma2_pri + \\\n",
    "             (t_ / (v_pri + t_)) * sigma2_hat + \\\n",
    "             (mu_pri - mu_hat) ** 2 / ((v_pri + t_) * (1 / t_ + 1 / t_pri))\n",
    "t_pos = t_pri + t_\n",
    "v_pos = v_pri + t_"
   ]
  },
  {
   "cell_type": "markdown",
   "metadata": {},
   "source": [
    "## [Step 3](https://www.arpm.co/lab/redirect.php?permalink=s_bayes_posterior_niw-implementation-step03): Compute the mean and standard deviations of the sample, prior and posterior distributions of Sigma2"
   ]
  },
  {
   "cell_type": "code",
   "execution_count": null,
   "metadata": {},
   "outputs": [],
   "source": [
    "exp_sigma2_hat = wishart.mean(t_ - 1, sigma2_hat / t_)\n",
    "std_sigma2_hat = np.sqrt(wishart.var(t_ - 1, sigma2_hat / t_))\n",
    "exp_sigma2_pri = invwishart.mean(v_pri, v_pri * sigma2_pri)\n",
    "std_sigma2_pri = np.sqrt(invwishart.var(v_pri, v_pri * sigma2_pri))\n",
    "exp_sigma2_pos = invwishart.mean(v_pos, v_pos * sigma2_pos)\n",
    "std_sigma2_pos = np.sqrt(invwishart.var(v_pos, v_pos * sigma2_pos))"
   ]
  },
  {
   "cell_type": "markdown",
   "metadata": {},
   "source": [
    "## [Step 4](https://www.arpm.co/lab/redirect.php?permalink=s_bayes_posterior_niw-implementation-step04): Compute marginal pdfs of the sample, prior and posterior distributions of Sigma2"
   ]
  },
  {
   "cell_type": "code",
   "execution_count": null,
   "metadata": {},
   "outputs": [],
   "source": [
    "s_max = np.max([exp_sigma2_hat + 3. * std_sigma2_hat,\n",
    "                exp_sigma2_pri + 3. * std_sigma2_pri,\n",
    "                exp_sigma2_pos + 3. * std_sigma2_pos])\n",
    "s = np.linspace(0.01, s_max, k_)  # grid\n",
    "\n",
    "f_sigma2_hat = wishart.pdf(s, t_ - 1, sigma2_hat / t_)  # sample pdf\n",
    "f_sigma2_pri = invwishart.pdf(s, v_pri, v_pri * sigma2_pri)  # prior pdf\n",
    "f_sigma2_pos = invwishart.pdf(s, v_pos, v_pos * sigma2_pos)  # posterior pdf"
   ]
  },
  {
   "cell_type": "markdown",
   "metadata": {},
   "source": [
    "## [Step 5](https://www.arpm.co/lab/redirect.php?permalink=s_bayes_posterior_niw-implementation-step05): Compute the pdf of the sample, prior and posterior distributions of M"
   ]
  },
  {
   "cell_type": "code",
   "execution_count": null,
   "metadata": {},
   "outputs": [],
   "source": [
    "m_min = np.min([mu_hat - 3. * np.sqrt(sigma2_hat / t_),\n",
    "                mu_pri - 3. * np.sqrt(sigma2_pri / t_pri),\n",
    "                mu_pos - 3. * np.sqrt(sigma2_pos / t_pos)])\n",
    "m_max = np.max([mu_hat + 3. * np.sqrt(sigma2_hat / t_),\n",
    "                mu_pri + 3. * np.sqrt(sigma2_pri / t_pri),\n",
    "                mu_pos + 3. * np.sqrt(sigma2_pos / t_pos)])\n",
    "m = np.linspace(m_min, m_max, k_)  # grid\n",
    "\n",
    "f_m_hat = norm.pdf(m, mu_hat, np.sqrt(sigma2_hat / t_))  # sample pdf\n",
    "f_m_pri = t.pdf((m - mu_pri) / np.sqrt(sigma2_pri / t_pri),\n",
    "                v_pri) / np.sqrt(sigma2_pri / t_pri)  # prior pdf\n",
    "f_m_pos = t.pdf((m - mu_pos) / np.sqrt(sigma2_pos / t_pos),\n",
    "                v_pos) / np.sqrt(sigma2_pos / t_pos)  # posterior pdf"
   ]
  },
  {
   "cell_type": "markdown",
   "metadata": {},
   "source": [
    "## [Step 6](https://www.arpm.co/lab/redirect.php?permalink=s_bayes_posterior_niw-implementation-step06): Compute the joint pdf of the sample, prior and posterior distributions of (M, Sigma2)"
   ]
  },
  {
   "cell_type": "code",
   "execution_count": null,
   "metadata": {},
   "outputs": [],
   "source": [
    "f_hat = np.outer(f_sigma2_hat, f_m_hat)  # sample pdf\n",
    "\n",
    "f_pri = np.zeros((k_, k_))\n",
    "f_pos = np.zeros((k_, k_))\n",
    "for k in range(k_):\n",
    "    # prior pdf\n",
    "    f_pri[k, :] = norm.pdf(m, mu_pri, np.sqrt(s[k] / t_pri)) * f_sigma2_pri[k]\n",
    "    # posterior pdf\n",
    "    f_pos[k, :] = norm.pdf(m, mu_pos, np.sqrt(s[k] / t_pos)) * f_sigma2_pos[k]"
   ]
  },
  {
   "cell_type": "markdown",
   "metadata": {},
   "source": [
    "## [Step 7](https://www.arpm.co/lab/redirect.php?permalink=s_bayes_posterior_niw-implementation-step07): Generate random NIW variables"
   ]
  },
  {
   "cell_type": "code",
   "execution_count": null,
   "metadata": {},
   "outputs": [],
   "source": [
    "m_sim, s2_sim = simulate_niw(mu_pos, t_pos, sigma2_pos, v_pos, j_)"
   ]
  },
  {
   "cell_type": "markdown",
   "metadata": {},
   "source": [
    "## Plots"
   ]
  },
  {
   "cell_type": "code",
   "execution_count": null,
   "metadata": {},
   "outputs": [],
   "source": [
    "plt.style.use('arpm')\n",
    "\n",
    "# colors settings\n",
    "color_pri = [0.2, 0.3, 1]\n",
    "color_pos = [0.9, 0.3, 0.1]\n",
    "color_sam = [0.1, 0.7, 0.1]\n",
    "\n",
    "# pdf of Sigma2\n",
    "fig = plt.figure()\n",
    "plt.plot(s, f_sigma2_hat, lw=1.5, color=color_sam)\n",
    "plt.plot(s, f_sigma2_pri, lw=1.5, color=color_pri)\n",
    "plt.plot(s, f_sigma2_pos, lw=1.5, color=color_pos)\n",
    "plt.xlabel('$\\Sigma^2$')\n",
    "# dummy plots for generating legend\n",
    "ax = plt.gca()\n",
    "shx = ax.get_xlim()\n",
    "shy = ax.get_ylim()\n",
    "sh1 = ax.plot(shx[0], shy[0], color=color_sam,\n",
    "              lw=1.5, marker='', label='sample')\n",
    "sh2 = ax.plot(shx[0], shy[0], color=color_pri,\n",
    "              lw=1.5, marker='', label='prior')\n",
    "sh3 = ax.plot(shx[0], shy[0], color=color_pos,\n",
    "              lw=1.5, marker='', label='posterior')\n",
    "plt.legend()\n",
    "\n",
    "add_logo(fig)\n",
    "plt.tight_layout()\n",
    "\n",
    "# pdf of M\n",
    "fig = plt.figure()\n",
    "plt.plot(m, f_m_hat, lw=1.5, color=color_sam)\n",
    "plt.plot(m, f_m_pri, lw=1.5, color=color_pri)\n",
    "plt.plot(m, f_m_pos, lw=1.5, color=color_pos)\n",
    "plt.xlabel('$M$')\n",
    "# dummy plots for generating legend\n",
    "ax = plt.gca()\n",
    "shx = ax.get_xlim()\n",
    "shy = ax.get_ylim()\n",
    "sh1 = ax.plot(shx[0], shy[0], color=color_sam,\n",
    "              lw=1.5, marker='', label='sample')\n",
    "sh2 = ax.plot(shx[0], shy[0], color=color_pri,\n",
    "              lw=1.5, marker='', label='prior')\n",
    "sh3 = ax.plot(shx[0], shy[0], color=color_pos,\n",
    "              lw=1.5, marker='', label='posterior')\n",
    "plt.legend()\n",
    "\n",
    "add_logo(fig)\n",
    "plt.tight_layout()\n",
    "\n",
    "# contour plot of joint distribution\n",
    "fig = plt.figure()\n",
    "plt.contour(m, s, f_hat, 12, linewidths=1.5, colors=[color_sam])\n",
    "plt.contour(m, s, f_pri, 12, linewidths=1.5, colors=[color_pri])\n",
    "plt.contour(m, s, f_pos, 12, linewidths=1.5, colors=[color_pos])\n",
    "plt.scatter(m_sim, s2_sim, 2, color=[color_pos])\n",
    "plt.xlim([np.min(m), np.max(m)])\n",
    "plt.ylim([np.min(s), np.max(s)])\n",
    "plt.xlabel(r'$M$')\n",
    "plt.ylabel(r'$\\Sigma^2$')\n",
    "plt.title('Joint pdf')\n",
    "# dummy plots for generating legend\n",
    "ax = plt.gca()\n",
    "shx = ax.get_xlim()\n",
    "shy = ax.get_ylim()\n",
    "sh1 = ax.plot(shx[0], shy[0], color=color_sam,\n",
    "              lw=1.5, marker='', label='sample')\n",
    "sh2 = ax.plot(shx[0], shy[0], color=color_pri,\n",
    "              lw=1.5, marker='', label='prior')\n",
    "sh3 = ax.plot(shx[0], shy[0], color=color_pos,\n",
    "              lw=1.5, marker='', label='posterior')\n",
    "plt.legend()\n",
    "\n",
    "add_logo(fig)\n",
    "plt.tight_layout()"
   ]
  }
 ],
 "metadata": {
  "jupytext": {
   "encoding": "# -*- coding: utf-8 -*-",
   "executable": "/usr/bin/env python3"
  },
  "kernelspec": {
   "display_name": "Python 3",
   "language": "python",
   "name": "python3"
  }
 },
 "nbformat": 4,
 "nbformat_minor": 4
}
