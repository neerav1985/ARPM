{
 "cells": [
  {
   "cell_type": "markdown",
   "metadata": {},
   "source": [
    "# s_fit_var1_implvol [<img src=\"https://www.arpm.co/lab/icons/icon_permalink.png\" width=30 height=30 style=\"display: inline;\">](https://www.arpm.co/lab/redirect.php?code=s_fit_var1_implvol&codeLang=Python)\n",
    "For details, see [here](https://www.arpm.co/lab/redirect.php?permalink=s_fit_var1_implvol)."
   ]
  },
  {
   "cell_type": "code",
   "execution_count": null,
   "metadata": {},
   "outputs": [],
   "source": [
    "import numpy as np\n",
    "import pandas as pd\n",
    "from arpym.estimation.fit_var1 import fit_var1"
   ]
  },
  {
   "cell_type": "markdown",
   "metadata": {},
   "source": [
    "## [Input parameters](https://www.arpm.co/lab/redirect.php?permalink=s_fit_var1_implvol-parameters)"
   ]
  },
  {
   "cell_type": "code",
   "execution_count": null,
   "metadata": {},
   "outputs": [],
   "source": [
    "tau_select = ['0.164383562', '0.334246575', '0.498630137', '1.0', '2.0']\n",
    "t_start = '2009-11-02'  # starting date\n",
    "t_end = '2012-08-31'  # ending date"
   ]
  },
  {
   "cell_type": "markdown",
   "metadata": {},
   "source": [
    "## [Step 0](https://www.arpm.co/lab/redirect.php?permalink=s_fit_var1_implvol-implementation-step00): Import data"
   ]
  },
  {
   "cell_type": "code",
   "execution_count": null,
   "metadata": {},
   "outputs": [],
   "source": [
    "path = '~/databases/temporary-databases/'\n",
    "\n",
    "db_riskdrivers = pd.read_csv(path+'db_calloption_rd.csv',\n",
    "                             index_col=0, parse_dates=True)\n",
    "db_riskdrivers = db_riskdrivers.loc[t_start:t_end]\n",
    "dates = pd.to_datetime(np.array(db_riskdrivers.index))[1:]\n",
    "tau_implvol = np.array([col[col.find(' tau=')+5:]\n",
    "                        for col in db_riskdrivers.columns])\n",
    "ind_select = np.in1d(tau_implvol, tau_select)"
   ]
  },
  {
   "cell_type": "markdown",
   "metadata": {},
   "source": [
    "## [Step 1](https://www.arpm.co/lab/redirect.php?permalink=s_fit_var1_implvol-implementation-step01): Compute risk drivers"
   ]
  },
  {
   "cell_type": "code",
   "execution_count": null,
   "metadata": {},
   "outputs": [],
   "source": [
    "x = np.log(db_riskdrivers.iloc[:, ind_select].values)"
   ]
  },
  {
   "cell_type": "markdown",
   "metadata": {},
   "source": [
    "## [Step 2](https://www.arpm.co/lab/redirect.php?permalink=s_fit_var1_implvol-implementation-step02): Perform VAR1 fit"
   ]
  },
  {
   "cell_type": "code",
   "execution_count": null,
   "metadata": {},
   "outputs": [],
   "source": [
    "b_hat, mu_epsi_hat, _ = fit_var1(x, shrink=True, lam=0.002)"
   ]
  },
  {
   "cell_type": "markdown",
   "metadata": {},
   "source": [
    "## [Step 3](https://www.arpm.co/lab/redirect.php?permalink=s_fit_var1_implvol-implementation-step03): Extract invariants realizations"
   ]
  },
  {
   "cell_type": "code",
   "execution_count": null,
   "metadata": {},
   "outputs": [],
   "source": [
    "epsi_var1 = x[1:, :] - x[:-1, :]@b_hat.T"
   ]
  },
  {
   "cell_type": "markdown",
   "metadata": {},
   "source": [
    "## [Step 4](https://www.arpm.co/lab/redirect.php?permalink=s_fit_var1_implvol-implementation-step04): Save database"
   ]
  },
  {
   "cell_type": "code",
   "execution_count": null,
   "metadata": {},
   "outputs": [],
   "source": [
    "out = pd.DataFrame({d: epsi_var1[:, d1] for d1, d in enumerate(\n",
    "        db_riskdrivers.columns.values[ind_select])}, index=dates)\n",
    "\n",
    "out.index.name = 'dates'\n",
    "out.to_csv('~/databases/temporary-databases/db_calloption_epsi_var1.csv',\n",
    "           columns=db_riskdrivers.columns.values[ind_select])\n",
    "del out\n",
    "\n",
    "out = pd.DataFrame({'x_tnow': pd.Series(x[-1,:])})\n",
    "for i in range(b_hat.shape[0]):\n",
    "    out = out.join(pd.DataFrame({'b_hat'+str(i): pd.Series(b_hat[:, i])}))\n",
    "out.to_csv(\n",
    "          '~/databases/temporary-databases/db_calloption_var1.csv',\n",
    "          index=None)\n",
    "del out"
   ]
  }
 ],
 "metadata": {
  "jupytext": {
   "encoding": "# -*- coding: utf-8 -*-",
   "executable": "/usr/bin/env python3"
  },
  "kernelspec": {
   "display_name": "Python 3",
   "language": "python",
   "name": "python3"
  }
 },
 "nbformat": 4,
 "nbformat_minor": 4
}
