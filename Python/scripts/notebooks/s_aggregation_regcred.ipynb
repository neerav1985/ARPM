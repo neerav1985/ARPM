{
 "cells": [
  {
   "cell_type": "markdown",
   "metadata": {},
   "source": [
    "# s_aggregation_regcred [<img src=\"https://www.arpm.co/lab/icons/icon_permalink.png\" width=30 height=30 style=\"display: inline;\">](https://www.arpm.co/lab/redirect.php?code=s_aggregation_regcred&codeLang=Python)\n",
    "For details, see [here](https://www.arpm.co/lab/redirect.php?permalink=eb-credit-reg-fram)."
   ]
  },
  {
   "cell_type": "code",
   "execution_count": null,
   "metadata": {},
   "outputs": [],
   "source": [
    "import numpy as np\n",
    "from scipy.stats import norm\n",
    "from scipy.interpolate import CubicSpline\n",
    "import matplotlib.pyplot as plt\n",
    "import pandas as pd\n",
    "\n",
    "from arpym.tools.histogram_sp import histogram_sp\n",
    "from arpym.tools.logo import add_logo"
   ]
  },
  {
   "cell_type": "markdown",
   "metadata": {},
   "source": [
    "## [Input parameters](https://www.arpm.co/lab/redirect.php?permalink=s_aggregation_regcred-parameters)"
   ]
  },
  {
   "cell_type": "code",
   "execution_count": null,
   "metadata": {},
   "outputs": [],
   "source": [
    "n_ = 1000  # number of bonds in the portfolio\n",
    "ll = 2.5 * 1e6  # amount of losses\n",
    "a_z, b_z, i_ = -4.5, 4.5, 21  # boundaries, size of grid for the risk factor\n",
    "j_ = 1000  # number of scenarios of the P&L at the horizon\n",
    "i_star = 9  # selected index for the realization of the variable z\n",
    "a_c, b_c, k_ = 0.001, 0.999, 1000  # boundaries, size of the conf. levels grid"
   ]
  },
  {
   "cell_type": "markdown",
   "metadata": {},
   "source": [
    "## [Step 1](https://www.arpm.co/lab/redirect.php?permalink=s_aggregation_regcred-implementation-step01): Generate losses, correlations, default probabilities, idyosincratic shocks"
   ]
  },
  {
   "cell_type": "code",
   "execution_count": null,
   "metadata": {},
   "outputs": [],
   "source": [
    "loss_n = ll * (0.2*np.random.rand(n_) + 0.9)  # losses\n",
    "rho_n = 0.8 * np.random.rand(n_)  # correlations\n",
    "p_n = 0.2 * (0.2*np.random.rand(n_) + 0.9)  # default probabilities\n",
    "epsilon_n = np.random.randn(j_, n_)  # idiosyncratic shocks"
   ]
  },
  {
   "cell_type": "markdown",
   "metadata": {},
   "source": [
    "## [Step 2](https://www.arpm.co/lab/redirect.php?permalink=s_aggregation_regcred-implementation-step02): Compute pdf of the conditional distribution."
   ]
  },
  {
   "cell_type": "code",
   "execution_count": null,
   "metadata": {},
   "outputs": [],
   "source": [
    "z = np.linspace(a_z, b_z, i_)  # grid of values for the risk factor z\n",
    "# initializations\n",
    "z_ = len(z)\n",
    "e = np.zeros(z_)  # conditional expectation\n",
    "\n",
    "for i, z_i in enumerate(z):\n",
    "    aux = (norm.ppf(p_n) - np.sqrt(rho_n) * z_i) / \\\n",
    "        np.sqrt(1 - rho_n)\n",
    "    e[i] = loss_n @ norm.cdf(aux)"
   ]
  },
  {
   "cell_type": "markdown",
   "metadata": {},
   "source": [
    "## [Step 3](https://www.arpm.co/lab/redirect.php?permalink=s_aggregation_regcred-implementation-step03): Compute pdf of the unconditional distribution of the the losses"
   ]
  },
  {
   "cell_type": "code",
   "execution_count": null,
   "metadata": {},
   "outputs": [],
   "source": [
    "p_j = np.ones(j_) / j_  # probabilities associated to the losses scenarios\n",
    "def_loss_z = np.zeros(j_)  # conditional losses\n",
    "\n",
    "# conditional losses\n",
    "z_n = np.sqrt(rho_n) * z[i_star] + epsilon_n * np.sqrt(1 - rho_n)\n",
    "indicator_d_n = (z_n <= norm.ppf(p_n)).astype(float)\n",
    "loss_z = loss_n @ indicator_d_n.T"
   ]
  },
  {
   "cell_type": "markdown",
   "metadata": {},
   "source": [
    "## [Step 4](https://www.arpm.co/lab/redirect.php?permalink=s_aggregation_regcred-implementation-step04): Compute pdf of the unconditional distribution."
   ]
  },
  {
   "cell_type": "code",
   "execution_count": null,
   "metadata": {},
   "outputs": [],
   "source": [
    "# grid of confidence levels for the loss quantile\n",
    "c = np.linspace(a_c, b_c, k_)\n",
    "# initializations\n",
    "num_grid = 200\n",
    "# grid of values for the losses\n",
    "loss_grid = np.linspace(np.min(e), np.max(e), num_grid)\n",
    "\n",
    "q_loss = np.zeros(k_)  # quantile of the losses\n",
    "cdf_loss = np.zeros(num_grid)  # approximated cdf of the losses\n",
    "pdf_loss = np.zeros(num_grid)  # approximated pdf of the losses\n",
    "\n",
    "# unconditional distribution\n",
    "for k in range(k_):\n",
    "    aux = (norm.ppf(p_n) - np.sqrt(rho_n) *\n",
    "           norm.ppf(c[k])) / np.sqrt(1 - rho_n)\n",
    "    q_loss[k] = loss_n.T@norm.cdf(aux)\n",
    "\n",
    "interp = CubicSpline(np.sort(q_loss), c, extrapolate='bool')\n",
    "\n",
    "cdf_loss = interp(loss_grid)\n",
    "pdf_loss = np.diff(np.r_['-1', [0], cdf_loss]) / \\\n",
    "           (loss_grid[1] - loss_grid[0])"
   ]
  },
  {
   "cell_type": "markdown",
   "metadata": {},
   "source": [
    "## Save the data"
   ]
  },
  {
   "cell_type": "code",
   "execution_count": null,
   "metadata": {},
   "outputs": [],
   "source": [
    "output = {'loss_n': pd.Series(loss_n),\n",
    "          'p_j': pd.Series(p_j),\n",
    "          'p_n': pd.Series(p_n),\n",
    "          'rho_n': pd.Series(rho_n),\n",
    "          'inv_phi_utilde': pd.Series(epsilon_n.reshape((j_*n_,)))}\n",
    "\n",
    "df = pd.DataFrame(output)\n",
    "df.to_csv('~/databases/temporary-databases/db_aggregation_regcred.csv')"
   ]
  },
  {
   "cell_type": "markdown",
   "metadata": {},
   "source": [
    "## Plots"
   ]
  },
  {
   "cell_type": "code",
   "execution_count": null,
   "metadata": {},
   "outputs": [],
   "source": [
    "plt.style.use('arpm')\n",
    "\n",
    "n_bins = 350  # number of bins\n",
    "x = np.zeros(n_bins)\n",
    "y = np.zeros(n_bins)\n",
    "\n",
    "# histogram of the conditional losses\n",
    "y, x = histogram_sp(loss_z, p=p_j, k_=n_bins)\n",
    "\n",
    "fig = plt.figure()\n",
    "l_0 = plt.bar(x, y / np.max(y),\n",
    "              width=np.diff(x, 1)[0], label='Conditional distribution')\n",
    "l_1 = plt.plot(loss_grid, pdf_loss / np.sum(pdf_loss) * 10,\n",
    "               'k-', label='Unconditional distribution')\n",
    "l_2 = plt.plot(e[i_star], 0, 'ro', markersize=5, markeredgecolor='r',\n",
    "               markerfacecolor='r', label='Conditional expectation')\n",
    "plt.legend(loc=1, fontsize=14)\n",
    "plt.ylim([0, 1.5])\n",
    "\n",
    "plt.title('Regulatory credit'\n",
    "          ' approximation for {n_counterparties} counterparties'.\n",
    "          format(n_counterparties=n_))\n",
    "\n",
    "add_logo(fig)\n",
    "plt.tight_layout()"
   ]
  }
 ],
 "metadata": {
  "jupytext": {
   "encoding": "# -*- coding: utf-8 -*-",
   "executable": "/usr/bin/env python3"
  },
  "kernelspec": {
   "display_name": "Python 3",
   "language": "python",
   "name": "python3"
  }
 },
 "nbformat": 4,
 "nbformat_minor": 4
}
