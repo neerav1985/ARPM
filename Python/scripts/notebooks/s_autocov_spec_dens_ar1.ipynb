{
 "cells": [
  {
   "cell_type": "markdown",
   "metadata": {},
   "source": [
    "# s_autocov_spec_dens_ar1 [<img src=\"https://www.arpm.co/lab/icons/icon_permalink.png\" width=30 height=30 style=\"display: inline;\">](https://www.arpm.co/lab/redirect.php?code=s_autocov_spec_dens_ar1&codeLang=Python)\n",
    "For details, see [here](https://www.arpm.co/lab/redirect.php?permalink=ex-autocov-ar-copy-1)."
   ]
  },
  {
   "cell_type": "code",
   "execution_count": null,
   "metadata": {},
   "outputs": [],
   "source": [
    "import numpy as np\n",
    "import matplotlib.gridspec as gridspec\n",
    "\n",
    "import matplotlib.pyplot as plt\n",
    "from arpym.tools.logo import add_logo"
   ]
  },
  {
   "cell_type": "markdown",
   "metadata": {},
   "source": [
    "## [Input parameters](https://www.arpm.co/lab/redirect.php?permalink=s_autocov_spec_dens_ar1-parameters)"
   ]
  },
  {
   "cell_type": "code",
   "execution_count": null,
   "metadata": {
    "lines_to_next_cell": 2
   },
   "outputs": [],
   "source": [
    "b = 0.6   # autoregression parameter of AR(1)\n",
    "sigma2_eps = 1 - b ** 2   # variance of shocks in AR(1)\n",
    "t = 30   # lags"
   ]
  },
  {
   "cell_type": "markdown",
   "metadata": {},
   "source": [
    "## [Step 1](https://www.arpm.co/lab/redirect.php?permalink=s_autocov_spec_dens_ar1-implementation-step01): Compute autocovariance function"
   ]
  },
  {
   "cell_type": "code",
   "execution_count": null,
   "metadata": {},
   "outputs": [],
   "source": [
    "tau_vec = np.arange(-t, t)\n",
    "k_x = sigma2_eps * (b ** abs((tau_vec)) / (1 - b ** 2))"
   ]
  },
  {
   "cell_type": "markdown",
   "metadata": {},
   "source": [
    "## [Step 2](https://www.arpm.co/lab/redirect.php?permalink=s_autocov_spec_dens_ar1-implementation-step02): Compute spectral density"
   ]
  },
  {
   "cell_type": "code",
   "execution_count": null,
   "metadata": {},
   "outputs": [],
   "source": [
    "omega_vec = np.zeros((2*t+1, 1))\n",
    "for j in range(1, 2*t+2):\n",
    "    omega_vec[j-1] = ((-1)**(j-1))*j*np.pi/(2*t+1)\n",
    "omega_vec = np.sort(omega_vec, axis=None)\n",
    "ktilde_x = sigma2_eps / (1 - 2 * b * np.cos(omega_vec) + b ** 2)"
   ]
  },
  {
   "cell_type": "markdown",
   "metadata": {},
   "source": [
    "## Plots"
   ]
  },
  {
   "cell_type": "code",
   "execution_count": null,
   "metadata": {},
   "outputs": [],
   "source": [
    "plt.style.use('arpm')\n",
    "darkred = [.9, 0, 0]\n",
    "lightgrey = [.8, .8, .8]\n",
    "\n",
    "plt.figure()\n",
    "mydpi = 72.0\n",
    "f = plt.figure(figsize=(1280.0/mydpi, 720.0/mydpi), dpi=mydpi)\n",
    "tau_vec = np.arange(-t, t)\n",
    "\n",
    "gs = gridspec.GridSpec(2, 2)\n",
    "ax1 = plt.subplot(gs[0, :])\n",
    "ax1.bar(tau_vec, k_x, color=lightgrey)\n",
    "ax1.set_xlabel(r'$\\Delta t$')\n",
    "ax1.set_xlim([tau_vec[0], tau_vec[-1]])\n",
    "ax1.set_ylabel(r'$k_X(\\Delta t)$')\n",
    "ax1.set_title('Autocovariance')\n",
    "\n",
    "ax2 = plt.subplot(gs[1, :])\n",
    "ax2.plot(omega_vec, ktilde_x, lw=1, color=darkred)\n",
    "ax2.set_xlim([-np.pi, np.pi])\n",
    "ax2.set_xlabel(r'$\\omega$')\n",
    "ax2.set_ylabel(r'$\\tilde{k}_X(\\omega)$')\n",
    "plt.xticks([-np.pi, -np.pi/2, 0, np.pi/2, np.pi],\n",
    "           [r'$-\\pi$', r'$-\\pi/2$', r'$0$', r'$\\pi/2$', r'$\\pi$'])\n",
    "ax2.set_title('Spectral density')\n",
    "\n",
    "add_logo(f, location=4)\n",
    "plt.tight_layout()"
   ]
  }
 ],
 "metadata": {
  "jupytext": {
   "encoding": "# -*- coding: utf-8 -*-",
   "executable": "/usr/bin/env python3"
  },
  "kernelspec": {
   "display_name": "Python 3",
   "language": "python",
   "name": "python3"
  }
 },
 "nbformat": 4,
 "nbformat_minor": 4
}
