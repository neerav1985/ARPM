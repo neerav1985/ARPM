{
 "cells": [
  {
   "cell_type": "markdown",
   "metadata": {},
   "source": [
    "# s_exp_decay_fp [<img src=\"https://www.arpm.co/lab/icons/icon_permalink.png\" width=30 height=30 style=\"display: inline;\">](https://www.arpm.co/lab/redirect.php?code=s_exp_decay_fp&codeLang=Python)\n",
    "For details, see [here](https://www.arpm.co/lab/redirect.php?permalink=ExerExpDecProbs)."
   ]
  },
  {
   "cell_type": "code",
   "execution_count": null,
   "metadata": {},
   "outputs": [],
   "source": [
    "import numpy as np\n",
    "import pandas as pd\n",
    "import matplotlib.pyplot as plt\n",
    "import matplotlib.dates as mdates\n",
    "from pandas.plotting import register_matplotlib_converters\n",
    "register_matplotlib_converters()\n",
    "\n",
    "from arpym.estimation.effective_num_scenarios import effective_num_scenarios\n",
    "from arpym.estimation.exp_decay_fp import exp_decay_fp\n",
    "from arpym.tools.colormap_fp import colormap_fp\n",
    "from arpym.tools.histogram_sp import histogram_sp\n",
    "from arpym.tools.logo import add_logo"
   ]
  },
  {
   "cell_type": "markdown",
   "metadata": {},
   "source": [
    "## [Input parameters](https://www.arpm.co/lab/redirect.php?permalink=s_exp_decay_fp-parameters)"
   ]
  },
  {
   "cell_type": "code",
   "execution_count": null,
   "metadata": {},
   "outputs": [],
   "source": [
    "tau_hl = 750"
   ]
  },
  {
   "cell_type": "markdown",
   "metadata": {},
   "source": [
    "## [Step 0](https://www.arpm.co/lab/redirect.php?permalink=s_exp_decay_fp-implementation-step00): Upload data"
   ]
  },
  {
   "cell_type": "code",
   "execution_count": null,
   "metadata": {},
   "outputs": [],
   "source": [
    "# S&P 500 index value\n",
    "spx_path = '~/databases/global-databases/equities/db_stocks_SP500/SPX.csv'\n",
    "spx_all = pd.read_csv(spx_path, parse_dates=['date'])\n",
    "spx = spx_all.loc[(spx_all['date'] >= pd.to_datetime('2004-01-02')) &\n",
    "                  (spx_all['date'] < pd.to_datetime('2017-09-01'))]"
   ]
  },
  {
   "cell_type": "markdown",
   "metadata": {},
   "source": [
    "## [Step 1](https://www.arpm.co/lab/redirect.php?permalink=s_exp_decay_fp-implementation-step01): Compute the S&P 500 compounded return"
   ]
  },
  {
   "cell_type": "code",
   "execution_count": null,
   "metadata": {},
   "outputs": [],
   "source": [
    "# invariants (S&P500 log-return)\n",
    "epsi = np.diff(np.log(spx.SPX_close))  # S&P 500 index compounded return"
   ]
  },
  {
   "cell_type": "markdown",
   "metadata": {},
   "source": [
    "## [Step 2](https://www.arpm.co/lab/redirect.php?permalink=s_exp_decay_fp-implementation-step02): Compute the time exponential decay probabilities"
   ]
  },
  {
   "cell_type": "code",
   "execution_count": null,
   "metadata": {},
   "outputs": [],
   "source": [
    "t_ = len(epsi)\n",
    "t_star = t_\n",
    "p_exp = exp_decay_fp(t_, tau_hl, t_star)"
   ]
  },
  {
   "cell_type": "markdown",
   "metadata": {},
   "source": [
    "## [Step 3](https://www.arpm.co/lab/redirect.php?permalink=s_exp_decay_fp-implementation-step03): Compute the effective number of scenarios"
   ]
  },
  {
   "cell_type": "code",
   "execution_count": null,
   "metadata": {},
   "outputs": [],
   "source": [
    "ens = effective_num_scenarios(p_exp)"
   ]
  },
  {
   "cell_type": "markdown",
   "metadata": {},
   "source": [
    "## [Step 4](https://www.arpm.co/lab/redirect.php?permalink=s_exp_decay_fp-implementation-step04): Compute flexible probabilities histogram"
   ]
  },
  {
   "cell_type": "code",
   "execution_count": null,
   "metadata": {},
   "outputs": [],
   "source": [
    "f_eps, x_eps = histogram_sp(epsi, p=p_exp, k_=10*np.log(t_))"
   ]
  },
  {
   "cell_type": "markdown",
   "metadata": {},
   "source": [
    "## Plots"
   ]
  },
  {
   "cell_type": "code",
   "execution_count": null,
   "metadata": {},
   "outputs": [],
   "source": [
    "# figure settings\n",
    "plt.style.use('arpm')\n",
    "grey_range = np.r_[np.arange(0, 0.6 + 0.01, 0.01), .85]\n",
    "[color_map, p_colors] = colormap_fp(p_exp, np.min(p_exp), np.max(p_exp),\n",
    "                                    grey_range, 0, 1, [1, 0])\n",
    "myFmt = mdates.DateFormatter('%d-%b-%Y')\n",
    "bar_dates = np.array(spx.date[1:])\n",
    "\n",
    "# flexible probabilities profile\n",
    "f, ax = plt.subplots(2, 1, figsize=(1280.0/72.0, 720.0/72.0), dpi=72.0)\n",
    "plt.sca(ax[0])\n",
    "ax[0].bar(bar_dates, p_exp, color='gray',\n",
    "          width=np.floor(len(p_exp)/680))\n",
    "for label in ax[0].xaxis.get_ticklabels():\n",
    "    label.set_fontsize(14)\n",
    "ax[0].set_yticks([])\n",
    "ax[0].set_xlim(min(spx.date[1:]), max(spx.date[1:]))\n",
    "plt.ylim([np.min(p_exp), np.max(p_exp)])\n",
    "ax[0].xaxis.set_major_formatter(myFmt)\n",
    "plt.ylabel('probability', fontsize=17)\n",
    "txt1 = 'Effective num. scenarios: % 3.0f\\n' % ens\n",
    "txt5 = 'Half-life (days): % 3.0f' % tau_hl\n",
    "plt.title('Exponential decay probabilities\\n'+txt1+txt5,\n",
    "          fontsize=20, fontweight='bold')\n",
    "\n",
    "# scatter plot color-coded\n",
    "plt.sca(ax[1])\n",
    "plt.xlim(min(spx.date[1:]), max(spx.date[1:]))\n",
    "plt.ylim(-0.15, 0.15)\n",
    "plt.scatter(np.array(spx.date[1:]), epsi, s=3, c=p_colors, marker='*',\n",
    "            cmap=color_map)\n",
    "plt.xticks(fontsize=14)\n",
    "plt.yticks(fontsize=14)\n",
    "ax[1].xaxis.set_major_formatter(myFmt)\n",
    "plt.ylabel(r'invariant $\\epsilon_t$', fontsize=17)\n",
    "plt.title('S&P 500', fontsize=20, fontweight='bold')\n",
    "add_logo(f, set_fig_size=False)\n",
    "plt.tight_layout()\n",
    "\n",
    "# HFP histogram\n",
    "hfp = plt.figure(figsize=(1280.0/72.0, 720.0/72.0), dpi=72.0)\n",
    "ax = hfp.add_subplot(111)\n",
    "plt.xlim(-0.15, 0.15)\n",
    "bar_width = x_eps[1] - x_eps[0]\n",
    "ax.bar(x_eps, f_eps, width=bar_width, fc=[0.7, 0.7, 0.7],\n",
    "       edgecolor=[0.5, 0.5, 0.5])\n",
    "plt.xticks(fontsize=14)\n",
    "plt.yticks(fontsize=14)\n",
    "ax.set_title('HFP distribution', fontsize=20, fontweight='bold')\n",
    "add_logo(hfp, set_fig_size=False)\n",
    "plt.tight_layout()"
   ]
  }
 ],
 "metadata": {
  "jupytext": {
   "encoding": "# -*- coding: utf-8 -*-",
   "executable": "/usr/bin/env python3"
  },
  "kernelspec": {
   "display_name": "Python 3",
   "language": "python",
   "name": "python3"
  }
 },
 "nbformat": 4,
 "nbformat_minor": 4
}
