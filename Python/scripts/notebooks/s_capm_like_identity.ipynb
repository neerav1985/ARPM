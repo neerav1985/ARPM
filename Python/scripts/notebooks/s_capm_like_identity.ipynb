{
 "cells": [
  {
   "cell_type": "markdown",
   "metadata": {},
   "source": [
    "# s_capm_like_identity [<img src=\"https://www.arpm.co/lab/icons/icon_permalink.png\" width=30 height=30 style=\"display: inline;\">](https://www.arpm.co/lab/redirect.php?code=s_capm_like_identity&codeLang=Python)\n",
    "For details, see [here](https://www.arpm.co/lab/redirect.php?permalink=eb-capmlike-lin-copy-1)."
   ]
  },
  {
   "cell_type": "code",
   "execution_count": null,
   "metadata": {},
   "outputs": [],
   "source": [
    "import numpy as np\n",
    "import matplotlib.pyplot as plt\n",
    "\n",
    "from arpym.statistics.meancov_sp import meancov_sp\n",
    "from arpym.statistics.simulate_normal import simulate_normal\n",
    "from arpym.estimation.cov_2_corr import cov_2_corr\n",
    "from arpym.tools.histogram_sp import histogram_sp\n",
    "from arpym.tools.logo import add_logo"
   ]
  },
  {
   "cell_type": "markdown",
   "metadata": {},
   "source": [
    "## [Input parameters](https://www.arpm.co/lab/redirect.php?permalink=s_capm_like_identity-parameters)"
   ]
  },
  {
   "cell_type": "code",
   "execution_count": null,
   "metadata": {},
   "outputs": [],
   "source": [
    "n_ = 100  # number of financial instruments\n",
    "j_ = 10000  # number of simulations\n",
    "v_bud = 5  # current budget\n",
    "r = 0.02  # risk-free interest rate\n",
    "v = np.ones(n_)  # current values\n",
    "sigma_mu = 1 / 30  # scale of compounded returns' expectation\n",
    "sigma_bar = 1 / 40  # scale of compounded returns' covariance"
   ]
  },
  {
   "cell_type": "markdown",
   "metadata": {},
   "source": [
    "## [Step 1](https://www.arpm.co/lab/redirect.php?permalink=s_capm_like_identity-implementation-step01): Generate the parameters of the compounded returns distribution"
   ]
  },
  {
   "cell_type": "code",
   "execution_count": null,
   "metadata": {},
   "outputs": [],
   "source": [
    "mu = simulate_normal(np.zeros(n_), sigma_mu**2*np.eye(n_), 1)  # expectation of compunded returns\n",
    "a = np.zeros((n_, n_))\n",
    "for n in range(n_):   \n",
    "    a[n, :] = simulate_normal(np.zeros(n_), sigma_bar**2*np.eye(n_), 1)        \n",
    "sigma2 = (a@a.T)  # covariance of compounded returns"
   ]
  },
  {
   "cell_type": "markdown",
   "metadata": {},
   "source": [
    "## [Step 2](https://www.arpm.co/lab/redirect.php?permalink=s_capm_like_identity-implementation-step02): Generate the MC scenarios of the compounded returns"
   ]
  },
  {
   "cell_type": "code",
   "execution_count": null,
   "metadata": {},
   "outputs": [],
   "source": [
    "c = simulate_normal(mu, sigma2, j_)  # compounded returns scenarios"
   ]
  },
  {
   "cell_type": "markdown",
   "metadata": {},
   "source": [
    "## [Step 3](https://www.arpm.co/lab/redirect.php?permalink=s_capm_like_identity-implementation-step03): Compute the scenarios of the linear returns"
   ]
  },
  {
   "cell_type": "code",
   "execution_count": null,
   "metadata": {},
   "outputs": [],
   "source": [
    "# linear returns scenarios\n",
    "r_j = np.exp(c) - 1\n",
    "# linear returns expectation and covariance\n",
    "mu_r, sigma2_r = meancov_sp(r_j)\n",
    "# correlation and volatility vector\n",
    "c2_r, sigmavol_r = cov_2_corr(sigma2_r)"
   ]
  },
  {
   "cell_type": "markdown",
   "metadata": {},
   "source": [
    "## [Step 4](https://www.arpm.co/lab/redirect.php?permalink=s_capm_like_identity-implementation-step04): Compute the MC scenarios of P&L's"
   ]
  },
  {
   "cell_type": "code",
   "execution_count": null,
   "metadata": {},
   "outputs": [],
   "source": [
    "# P&L scenarios\n",
    "pi_j = r_j * v\n",
    "# P&L expectation and covariance\n",
    "mu_pi, sigma2_pi = meancov_sp(pi_j)"
   ]
  },
  {
   "cell_type": "markdown",
   "metadata": {},
   "source": [
    "## [Step 5](https://www.arpm.co/lab/redirect.php?permalink=s_capm_like_identity-implementation-step05): Compute the maximum Sharpe ratio portfolio"
   ]
  },
  {
   "cell_type": "code",
   "execution_count": null,
   "metadata": {},
   "outputs": [],
   "source": [
    "# maximum Sharpe ratio portfolio\n",
    "h_sr = (v_bud / (v.T@np.linalg.solve(sigma2_pi, mu_pi - r*v))) * \\\n",
    "    np.linalg.inv(sigma2_pi)@(mu_pi - r*v)"
   ]
  },
  {
   "cell_type": "markdown",
   "metadata": {},
   "source": [
    "## [Step 6](https://www.arpm.co/lab/redirect.php?permalink=s_capm_like_identity-implementation-step06): Compute the scenarios of the max. Sharpe ratio portfolio return"
   ]
  },
  {
   "cell_type": "code",
   "execution_count": null,
   "metadata": {},
   "outputs": [],
   "source": [
    "# maximum Sharpe ratio portfolio return\n",
    "r_sr = (pi_j@h_sr) / v_bud"
   ]
  },
  {
   "cell_type": "markdown",
   "metadata": {},
   "source": [
    "## [Step 7](https://www.arpm.co/lab/redirect.php?permalink=s_capm_like_identity-implementation-step07): Compute the left and the right hand side of the CAPM-like identity"
   ]
  },
  {
   "cell_type": "code",
   "execution_count": null,
   "metadata": {},
   "outputs": [],
   "source": [
    "# left hand side\n",
    "y = mu_pi - r*v\n",
    "# right hand side\n",
    "mu_r_sr, sigma2_r_sr = meancov_sp(r_sr)\n",
    "_, sigma2_pi_r_sr = meancov_sp(np.concatenate((pi_j, np.atleast_2d(r_sr).T),\n",
    "                                             axis=1))\n",
    "beta = sigma2_pi_r_sr[:-1, -1]/sigma2_r_sr\n",
    "x = beta*(mu_r_sr - r)  # right hand side"
   ]
  },
  {
   "cell_type": "markdown",
   "metadata": {},
   "source": [
    "## [Step 8](https://www.arpm.co/lab/redirect.php?permalink=s_capm_like_identity-implementation-step08): Compute the scenarios of the residuals of the linear factor model"
   ]
  },
  {
   "cell_type": "code",
   "execution_count": null,
   "metadata": {},
   "outputs": [],
   "source": [
    "# compute residuals\n",
    "u = (pi_j - r*v) - np.outer(r_sr - r, beta)\n",
    "# covariance of the residuals\n",
    "_, sigma2_u = meancov_sp(u)\n",
    "# correlation of the residuals\n",
    "c2_u, _ = cov_2_corr(sigma2_u)"
   ]
  },
  {
   "cell_type": "markdown",
   "metadata": {},
   "source": [
    "## Plots"
   ]
  },
  {
   "cell_type": "code",
   "execution_count": null,
   "metadata": {},
   "outputs": [],
   "source": [
    "plt.style.use('arpm')\n",
    "\n",
    "# Visualize the security market line\n",
    "\n",
    "fig1 = plt.figure()\n",
    "xx = np.linspace(np.min(x), np.max(x), 2)\n",
    "plt.plot(x, y, '.', markersize=10)\n",
    "plt.axis([np.min(x), np.max(x), np.min(y), np.max(y)])\n",
    "plt.plot(1.05*xx, 1.05*xx, color=[0.4, 0.4, 0.4])\n",
    "plt.xlabel(r'$\\frac{Cv\\{\\mathbf{\\Pi}, R^{SR}\\}}{V\\{R^{SR}\\}} (E[R^{SR}]-r)$')\n",
    "plt.ylabel(r'$E[\\mathbf{\\Pi}]-r\\mathbf{v}$')\n",
    "plt.title('Security market line')\n",
    "plt.grid(True)\n",
    "add_logo(fig1)\n",
    "plt.tight_layout()\n",
    "\n",
    "# Plot the correlation matrix heat of returns\n",
    "\n",
    "fig2 = plt.figure()\n",
    "hcorrel = plt.imshow(c2_r)\n",
    "plt.colorbar(hcorrel)\n",
    "plt.title('Correlation of linear returns')\n",
    "add_logo(fig2, size_frac_x=1/4, location=9, alpha=1.0)\n",
    "plt.tight_layout()\n",
    "\n",
    "# Plot the histogram of the off-diagonal elements of the residuals correlation\n",
    "# matrix\n",
    "\n",
    "# Extrapolate the off-diagonal elements\n",
    "elem = c2_u[np.triu_indices(n_, k=1)]\n",
    "\n",
    "fig3 = plt.figure()\n",
    "# set uniform probabilities\n",
    "p2 = np.ones(elem.shape[0]) / elem.shape[0]\n",
    "# compute histogram\n",
    "h, b = histogram_sp(elem, p=p2, k_=40)\n",
    "plt.bar(b, h, width=b[1]-b[0])\n",
    "plt.title('Off-diagonal correlation of residuals')\n",
    "add_logo(fig3)\n",
    "plt.tight_layout()\n",
    "\n",
    "# Plot the vector containing the sorted st.dev of instruments returns and\n",
    "# the corresponding expectations\n",
    "\n",
    "fig4, ax = plt.subplots(2, 1)\n",
    "plt.sca(ax[0])\n",
    "mean_std = np.stack((mu_r, sigmavol_r), axis=1)\n",
    "ordr, ordc = np.sort(mean_std[:, 1]), np.argsort(mean_std[:, 1])\n",
    "# Sorted standard deviations\n",
    "sorted_meanStd = mean_std[ordc, :]\n",
    "plt.bar(np.arange(n_), sorted_meanStd[:, 0], width=1)\n",
    "plt.axis([0, (n_ - 0.5), 1.07*np.min(np.mean(r_j, 0)),\n",
    "          1.1*np.max(np.mean(r_j, 0))])\n",
    "plt.title('Expectation of linear returns')\n",
    "\n",
    "plt.sca(ax[1])\n",
    "plt.bar(np.arange(n_), sorted_meanStd[:, 1], width=1)\n",
    "plt.axis([0, (n_ - 0.5), 1.05*np.min(np.mean(r_j, 0)), np.max(np.std(r_j, 0))])\n",
    "plt.title('St.dev of linear returns')\n",
    "add_logo(fig4, location=2)\n",
    "plt.tight_layout()\n",
    "\n",
    "# Dollars investment in each instrument to obtain the max. Sharpe ratio\n",
    "# portfolio\n",
    "\n",
    "fig5 = plt.figure()\n",
    "y = v * h_sr\n",
    "plt.bar(np.arange(n_), y, width=1)\n",
    "plt.axis([0, (n_ - 0.5), 1.05*np.min(v * h_sr),\n",
    "          1.05*np.max(v * h_sr)])\n",
    "plt.ylabel('Investment $')\n",
    "plt.title('Max Sharpe ratio portfolio')\n",
    "add_logo(fig5)\n",
    "plt.tight_layout()"
   ]
  }
 ],
 "metadata": {
  "jupytext": {
   "encoding": "# -*- coding: utf-8 -*-",
   "executable": "/usr/bin/env python3"
  },
  "kernelspec": {
   "display_name": "Python 3",
   "language": "python",
   "name": "python3"
  }
 },
 "nbformat": 4,
 "nbformat_minor": 4
}
