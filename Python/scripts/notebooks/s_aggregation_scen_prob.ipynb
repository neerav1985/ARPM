{
 "cells": [
  {
   "cell_type": "markdown",
   "metadata": {},
   "source": [
    "# s_aggregation_scen_prob [<img src=\"https://www.arpm.co/lab/icons/icon_permalink.png\" width=30 height=30 style=\"display: inline;\">](https://www.arpm.co/lab/redirect.php?code=s_aggregation_scen_prob&codeLang=Python)\n",
    "For details, see [here](https://www.arpm.co/lab/redirect.php?permalink=EXAggreRetScenBApproach)."
   ]
  },
  {
   "cell_type": "code",
   "execution_count": null,
   "metadata": {},
   "outputs": [],
   "source": [
    "import pandas as pd\n",
    "import numpy as np"
   ]
  },
  {
   "cell_type": "markdown",
   "metadata": {},
   "source": [
    "## [Input parameters](https://www.arpm.co/lab/redirect.php?permalink=s_aggregation_scen_prob-parameters)"
   ]
  },
  {
   "cell_type": "code",
   "execution_count": null,
   "metadata": {},
   "outputs": [],
   "source": [
    "pi = np.array([[-0.43, -0.19, 0.25, 0.31],\n",
    "               [0.15, -1.63, -0.05, 0.91]]).T  # joint scenarios\n",
    "p = np.array([0.3, 0.1, 0.4, 0.2])  # probabilities\n",
    "h = np.array([2000000, 800000])\n",
    "v_h = 70*10**6\n",
    "h_b = np.array([1000000, 1200000])\n",
    "v_b = 73*10**6"
   ]
  },
  {
   "cell_type": "markdown",
   "metadata": {},
   "source": [
    "## [Step 1](https://www.arpm.co/lab/redirect.php?permalink=s_aggregation_scen_prob-implementation-step01): Compute the scenario-probability distribution of the excess return by multiplication"
   ]
  },
  {
   "cell_type": "code",
   "execution_count": null,
   "metadata": {},
   "outputs": [],
   "source": [
    "h_tilde_exces = h / v_h - h_b / v_b\n",
    "excess_r_h_tilde = h_tilde_exces@pi.T"
   ]
  },
  {
   "cell_type": "markdown",
   "metadata": {},
   "source": [
    "## [Step 2](https://www.arpm.co/lab/redirect.php?permalink=s_aggregation_scen_prob-implementation-step02): Compute the scenario-probability distribution of the return by multiplication"
   ]
  },
  {
   "cell_type": "code",
   "execution_count": null,
   "metadata": {},
   "outputs": [],
   "source": [
    "h_tilde = h / v_h\n",
    "r_h_tilde = h_tilde@pi.T"
   ]
  },
  {
   "cell_type": "markdown",
   "metadata": {},
   "source": [
    "## [Step 3](https://www.arpm.co/lab/redirect.php?permalink=s_aggregation_scen_prob-implementation-step03): Compute the scenario-probability distribution of the excess return by aggregating, rescaling and subtracting scenarios"
   ]
  },
  {
   "cell_type": "code",
   "execution_count": null,
   "metadata": {},
   "outputs": [],
   "source": [
    "# aggregation\n",
    "pi_h = h@pi.T\n",
    "pi_b = h_b@pi.T\n",
    "\n",
    "# rescaling\n",
    "r_h = pi_h / v_h\n",
    "r_b = pi_b / v_b\n",
    "\n",
    "# subtraction\n",
    "excess_r_2nd = r_h - r_b"
   ]
  },
  {
   "cell_type": "markdown",
   "metadata": {},
   "source": [
    "## [Step 4](https://www.arpm.co/lab/redirect.php?permalink=s_aggregation_scen_prob-implementation-step04): Save the data"
   ]
  },
  {
   "cell_type": "code",
   "execution_count": null,
   "metadata": {},
   "outputs": [],
   "source": [
    "output = {\n",
    "          'j_': pd.Series(p.shape[0]),\n",
    "          'n_': pd.Series(pi.shape[1]),\n",
    "          'excess_r': pd.Series(excess_r_h_tilde),\n",
    "          'pi_resc': pd.Series(r_h),\n",
    "          'pi': pd.Series(pi.reshape(-1)),\n",
    "          'p': pd.Series(p),\n",
    "          'pi_b_resc': pd.Series(r_b),\n",
    "          'pi_aggr': pd.Series(pi_h),\n",
    "          'pi_b_aggr': pd.Series(pi_b),\n",
    "          'r_h': pd.Series(r_h_tilde),\n",
    "          'h': pd.Series(h),\n",
    "          'h_b': pd.Series(h_b),\n",
    "          'v_h': pd.Series(v_h),\n",
    "          'v_b': pd.Series(v_b),\n",
    "          'h_tilde': pd.Series(h_tilde),\n",
    "          'h_tilde_exces': pd.Series(h_tilde_exces),\n",
    "          }\n",
    "\n",
    "df = pd.DataFrame(output)\n",
    "df.to_csv('~/databases/temporary-databases/db_aggregation_scenario_numerical.csv')"
   ]
  }
 ],
 "metadata": {
  "jupytext": {
   "encoding": "# -*- coding: utf-8 -*-",
   "executable": "/usr/bin/env python3"
  },
  "kernelspec": {
   "display_name": "Python 3",
   "language": "python",
   "name": "python3"
  }
 },
 "nbformat": 4,
 "nbformat_minor": 4
}
