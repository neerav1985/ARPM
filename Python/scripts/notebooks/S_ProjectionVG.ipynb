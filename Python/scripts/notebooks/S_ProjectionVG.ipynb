{
 "cells": [
  {
   "cell_type": "markdown",
   "metadata": {},
   "source": [
    "# S_ProjectionVG [<img src=\"https://www.arpm.co/lab/icons/icon_permalink.png\" width=30 height=30 style=\"display: inline;\">](https://www.arpm.co/lab/redirect.php?code=S_ProjectionVG&codeLang=Python)\n",
    "For details, see [here](https://www.arpm.co/lab/redirect.php?permalink=ExVGProj)."
   ]
  },
  {
   "cell_type": "markdown",
   "metadata": {},
   "source": [
    "## Prepare the environment"
   ]
  },
  {
   "cell_type": "code",
   "execution_count": null,
   "metadata": {},
   "outputs": [],
   "source": [
    "import os\n",
    "import os.path as path\n",
    "import sys\n",
    "\n",
    "sys.path.append(path.abspath('../../functions-legacy'))\n",
    "from collections import namedtuple\n",
    "\n",
    "from numpy import arange, array, diff, linspace, abs, log, exp, sqrt, tile, atleast_2d, newaxis\n",
    "from numpy import sum as npsum, min as npmin, max as npmax\n",
    "\n",
    "from scipy.stats import norm\n",
    "from scipy.io import loadmat\n",
    "\n",
    "import matplotlib.pyplot as plt\n",
    "from matplotlib.pyplot import figure, plot, legend, ylabel, \\\n",
    "    xlabel, title\n",
    "\n",
    "plt.style.use('seaborn')\n",
    "\n",
    "from CONFIG import GLOBAL_DB, TEMPORARY_DB\n",
    "from ARPM_utils import struct_to_dict, datenum, save_plot\n",
    "from intersect_matlab import intersect\n",
    "from EffectiveScenarios import EffectiveScenarios\n",
    "from ConditionalFP import ConditionalFP\n",
    "from MMFP import MMFP\n",
    "from VGpdf import VGpdf\n",
    "from ParamChangeVG import ParamChangeVG\n",
    "from ShiftedVGMoments import ShiftedVGMoments\n",
    "from VG import VG"
   ]
  },
  {
   "cell_type": "markdown",
   "metadata": {},
   "source": [
    "## Upload databases"
   ]
  },
  {
   "cell_type": "code",
   "execution_count": null,
   "metadata": {},
   "outputs": [],
   "source": [
    "try:\n",
    "    db = loadmat(os.path.join(GLOBAL_DB, 'db_OptionStrategy'), squeeze_me=True)\n",
    "except FileNotFoundError:\n",
    "    db = loadmat(os.path.join(TEMPORARY_DB, 'db_OptionStrategy'), squeeze_me=True)\n",
    "\n",
    "OptionStrategy = struct_to_dict(db['OptionStrategy'])\n",
    "\n",
    "try:\n",
    "    db = loadmat(os.path.join(GLOBAL_DB, 'db_VIX'), squeeze_me=True)\n",
    "except FileNotFoundError:\n",
    "    db = loadmat(os.path.join(TEMPORARY_DB, 'db_VIX'), squeeze_me=True)\n",
    "\n",
    "VIX = struct_to_dict(db['VIX'])\n",
    "\n",
    "# invariants (daily P&L)\n",
    "pnl = OptionStrategy.cumPL\n",
    "epsi = diff(pnl)\n",
    "dates_x = array([datenum(i) for i in OptionStrategy.Dates])\n",
    "dates_x = dates_x[1:]\n",
    "\n",
    "# conditioning variable (VIX)\n",
    "z = VIX.value\n",
    "dates_z = VIX.Date\n",
    "\n",
    "    # merging datasets\n",
    "[dates, i_epsi, i_z] = intersect(dates_x, dates_z)\n",
    "\n",
    "pnl = pnl[i_epsi + 1]\n",
    "epsi = epsi[i_epsi]\n",
    "z = z[i_z]\n",
    "t_ = len(epsi)"
   ]
  },
  {
   "cell_type": "markdown",
   "metadata": {},
   "source": [
    "## Compute the Flexible Probabilities conditioned via Entropy Pooling"
   ]
  },
  {
   "cell_type": "code",
   "execution_count": null,
   "metadata": {},
   "outputs": [],
   "source": [
    "# prior\n",
    "lam = log(2) / 1800  # half life 5y\n",
    "prior = exp(-lam*abs(arange(t_, 1 + -1, -1))).reshape(1,-1)\n",
    "prior = prior / npsum(prior)\n",
    "\n",
    "# conditioner\n",
    "VIX = namedtuple('VIX', 'Series TargetValue Leeway')\n",
    "VIX.Series = z.reshape(1,-1)\n",
    "VIX.TargetValue = atleast_2d(z[-1])\n",
    "VIX.Leeway = 0.35\n",
    "\n",
    "# flexible probabilities conditioned via EP\n",
    "p = ConditionalFP(VIX, prior)\n",
    "\n",
    "# effective number of scenarios\n",
    "typ = namedtuple('type','Entropy')\n",
    "typ.Entropy = 'Exp'\n",
    "ens = EffectiveScenarios(p, typ)"
   ]
  },
  {
   "cell_type": "markdown",
   "metadata": {},
   "source": [
    "## Estimation of shifted-VG model"
   ]
  },
  {
   "cell_type": "code",
   "execution_count": null,
   "metadata": {},
   "outputs": [],
   "source": [
    "# initial guess on parameters\n",
    "shift0 = 0.01\n",
    "theta0 = -0.01\n",
    "sigma0 = 0.0001\n",
    "nu0 = 1\n",
    "par0 = [shift0, theta0, sigma0, nu0]\n",
    "\n",
    "# calibration\n",
    "HFP = namedtuple('HFP', 'FlexProbs Scenarios')\n",
    "HFP.FlexProbs = p\n",
    "HFP.Scenarios = epsi\n",
    "par = MMFP(HFP, 'SVG', par0)\n",
    "\n",
    "shift = par.c\n",
    "theta = par.theta\n",
    "sigma = par.sigma\n",
    "nu = par.nu\n",
    "\n",
    "# changing parameterization from {theta,sigma, nu} to {c,m,g}\n",
    "[c, m, g] = ParamChangeVG(theta, sigma, nu)"
   ]
  },
  {
   "cell_type": "markdown",
   "metadata": {},
   "source": [
    "## Initialize projection variables"
   ]
  },
  {
   "cell_type": "code",
   "execution_count": null,
   "metadata": {},
   "outputs": [],
   "source": [
    "tau = 10  # investment horizon\n",
    "dt = 1 / 20  # infinitesimal step for simulations\n",
    "t_j = arange(0,tau+dt,dt)  # time vector for simulations\n",
    "j_ = 15  # number of simulations"
   ]
  },
  {
   "cell_type": "markdown",
   "metadata": {},
   "source": [
    "## Simulate VG paths"
   ]
  },
  {
   "cell_type": "code",
   "execution_count": null,
   "metadata": {},
   "outputs": [],
   "source": [
    "x_j = VG(theta, sigma, nu, t_j, j_)[0]  # VG paths\n",
    "x_j = x_j + tile(shift*t_j[newaxis,...],(j_, 1))  # shifted-VG path\n",
    "x_j = pnl[t_-1] + x_j  # centered path"
   ]
  },
  {
   "cell_type": "markdown",
   "metadata": {},
   "source": [
    "## Projection to horizon"
   ]
  },
  {
   "cell_type": "code",
   "execution_count": null,
   "metadata": {},
   "outputs": [],
   "source": [
    "# moments\n",
    "mu_tau, sigma2_tau, _, _ = ShiftedVGMoments(0, theta, sigma, nu, tau)\n",
    "expectation = pnl[t_-1] + shift*tau + mu_tau  # shift and center mean\n",
    "sigma_tau = sqrt(sigma2_tau)\n",
    "\n",
    "# analytical pdf\n",
    "l_ = 2000\n",
    "par1 = namedtuple('par', 'c m g')\n",
    "par1.c = c\n",
    "par1.m = m\n",
    "par1.g = g\n",
    "x_hor = linspace(mu_tau - 4*sigma_tau, mu_tau+4*sigma_tau, l_)\n",
    "y_hor = VGpdf(x_hor, par1, tau)\n",
    "y_phi = norm.pdf(x_hor, mu_tau, sigma_tau)  # normal approximation\n",
    "\n",
    "x_shift = x_hor + pnl[t_-1] + shift*tau"
   ]
  },
  {
   "cell_type": "markdown",
   "metadata": {},
   "source": [
    "## Generate figure"
   ]
  },
  {
   "cell_type": "code",
   "execution_count": null,
   "metadata": {},
   "outputs": [],
   "source": [
    "s_ = 2  # number of plotted observation before projecting time\n",
    "\n",
    "# axes settings\n",
    "m = min([npmin(pnl[t_ - 2:t_]), pnl[t_-1]-4*sigma_tau])\n",
    "M = max([npmax(pnl[t_ - 2:t_]), pnl[t_-1] + mu_tau + 4.5*sigma_tau])\n",
    "t = arange(-s_, tau+1)\n",
    "max_scale = tau / 4\n",
    "scale = max_scale / npmax(y_hor)\n",
    "\n",
    "# preliminary computations\n",
    "tau_red = arange(0,tau+0.1,0.1)\n",
    "mu_red = pnl[-1] + ((mu_tau + shift*tau) / tau)*tau_red\n",
    "sigma_red = (sigma_tau / sqrt(tau))*sqrt(tau_red)\n",
    "redline1 = mu_red + 2*sigma_red\n",
    "redline2 = mu_red - 2*sigma_red\n",
    "\n",
    "f = figure()\n",
    "# color settings\n",
    "lgrey = [0.8, 0.8, 0.8]  # light grey\n",
    "dgrey = [0.2, 0.2, 0.2]  # dark grey\n",
    "lblue = [0.27, 0.4, 0.9]  # light blue\n",
    "plt.axis([t[0], t[-1] + max_scale, m, M])\n",
    "xlabel('time (days)')\n",
    "ylabel('Risk driver')\n",
    "plt.grid(False)\n",
    "title('Variance Gamma process')\n",
    "# simulated paths\n",
    "for j in range(j_):\n",
    "    plot(t_j, x_j[j,:], color = lgrey, lw = 2)\n",
    "# standard deviation lines\n",
    "p_red_1 = plot(tau_red, redline1, color='r', lw = 2)  # red bars (+2 std dev)\n",
    "p_red_2 = plot(tau_red, redline2, color='r', lw = 2)  # red bars (-2std dev)\n",
    "p_mu = plot([0, tau], [mu_red[0], mu_red[-1]], color='g', lw = 2)  # expectation\n",
    "# histogram pdf plot\n",
    "for k in range(len(y_hor)):\n",
    "    plot([tau, tau+y_hor[k]*scale], [x_shift[k], x_shift[k]], color=lgrey, lw=2)\n",
    "f_border = plot(tau+y_hor*scale, x_shift, color=dgrey, lw=1)\n",
    "# normal approximation plot\n",
    "phi_border = plot(tau+y_phi*scale, x_shift, color=lblue, lw=1)\n",
    "# plot of last s_ observations\n",
    "for k in range(s_):\n",
    "    plot([t[k], t[k + 1]], [pnl[-s_+k-1], pnl[- s_ + k]], color=lgrey, lw=2)\n",
    "    plot(t[k], pnl[-s_+k-1], color='b',linestyle='none', marker = '.',markersize=15)\n",
    "plot(t[s_], pnl[-1], color='b',linestyle='none', marker = '.',markersize=15)\n",
    "plot([tau, tau], expectation + array([-2*sigma_tau, 2*sigma_tau]), color='r', lw = 2)\n",
    "legend(handles=[f_border[0], phi_border[0], p_mu[0], p_red_1[0]],labels=['horizon pdf','normal approximation','expectation',' + / - 2st.deviation']);\n",
    "# save_plot(ax=plt.gca(), extension='png', scriptname=os.path.basename('.')[:-3], count=plt.get_fignums()[-1])\n"
   ]
  }
 ],
 "metadata": {
  "jupytext": {
   "encoding": "# -*- coding: utf-8 -*-",
   "executable": "/usr/bin/env python3"
  },
  "kernelspec": {
   "display_name": "Python 3",
   "language": "python",
   "name": "python3"
  }
 },
 "nbformat": 4,
 "nbformat_minor": 4
}
