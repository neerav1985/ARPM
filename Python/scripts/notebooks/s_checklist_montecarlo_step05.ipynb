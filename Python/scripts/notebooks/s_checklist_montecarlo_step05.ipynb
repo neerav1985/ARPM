{
 "cells": [
  {
   "cell_type": "markdown",
   "metadata": {},
   "source": [
    "# s_checklist_montecarlo_step05 [<img src=\"https://www.arpm.co/lab/icons/icon_permalink.png\" width=30 height=30 style=\"display: inline;\">](https://www.arpm.co/lab/redirect.php?code=s_checklist_montecarlo_step05&codeLang=Python)\n",
    "For details, see [here](https://www.arpm.co/lab/redirect.php?permalink=ex-vue-5)."
   ]
  },
  {
   "cell_type": "code",
   "execution_count": null,
   "metadata": {},
   "outputs": [],
   "source": [
    "import numpy as np\n",
    "import pandas as pd\n",
    "import matplotlib.pyplot as plt\n",
    "from scipy import interpolate\n",
    "from pandas.plotting import register_matplotlib_converters\n",
    "register_matplotlib_converters()\n",
    "\n",
    "from arpym.pricing.bond_value import bond_value\n",
    "from arpym.pricing.bsm_function import bsm_function\n",
    "from arpym.pricing.cash_flow_reinv import cash_flow_reinv\n",
    "from arpym.tools.histogram_sp import histogram_sp\n",
    "from arpym.tools.logo import add_logo"
   ]
  },
  {
   "cell_type": "markdown",
   "metadata": {},
   "source": [
    "## [Input parameters](https://www.arpm.co/lab/redirect.php?permalink=s_checklist_montecarlo_step05-parameters)"
   ]
  },
  {
   "cell_type": "code",
   "execution_count": null,
   "metadata": {},
   "outputs": [],
   "source": [
    "recrate_ge = 0.6  # recovery rate for GE bond\n",
    "recrate_jpm = 0.7  # recovery rate for JPM bond\n",
    "n_plot = 1  # index of instrument to plot"
   ]
  },
  {
   "cell_type": "markdown",
   "metadata": {},
   "source": [
    "## [Step 0](https://www.arpm.co/lab/redirect.php?permalink=s_checklist_montecarlo_step05-implementation-step00): Load data"
   ]
  },
  {
   "cell_type": "code",
   "execution_count": null,
   "metadata": {},
   "outputs": [],
   "source": [
    "path = '~/databases/temporary-databases/'\n",
    "\n",
    "# Risk drivers identification\n",
    "# risk driver values\n",
    "db_riskdrivers_series = pd.read_csv(path+'db_riskdrivers_series.csv',\n",
    "                                    index_col=0)\n",
    "x = db_riskdrivers_series.values\n",
    "\n",
    "# values at t_now\n",
    "db_v_tnow = pd.read_csv(path+'db_v_tnow.csv')\n",
    "v_tnow = db_v_tnow.values[0]\n",
    "\n",
    "# additional information\n",
    "db_riskdrivers_tools = pd.read_csv(path+'db_riskdrivers_tools.csv',\n",
    "                                  parse_dates=True)\n",
    "d_ = int(db_riskdrivers_tools['d_'].dropna())\n",
    "n_stocks = int(db_riskdrivers_tools['n_stocks'].dropna())\n",
    "n_bonds = int(db_riskdrivers_tools.n_bonds.dropna())\n",
    "n_ = n_stocks+n_bonds+3\n",
    "d_implvol = int(db_riskdrivers_tools['d_implvol'].dropna())\n",
    "tend_option = np.datetime64(db_riskdrivers_tools['tend_option'][0], 'D')\n",
    "k_strk = db_riskdrivers_tools['k_strk'][0]\n",
    "l_ = int(db_riskdrivers_tools['l_'].dropna())\n",
    "m_moneyness = db_riskdrivers_tools['m_moneyness'].values[:l_]\n",
    "tau_implvol = db_riskdrivers_tools['tau_implvol'].values\n",
    "y = db_riskdrivers_tools['y'][0]\n",
    "tend_ge = np.datetime64(db_riskdrivers_tools['tend_ge'][0], 'D')\n",
    "tend_jpm = np.datetime64(db_riskdrivers_tools['tend_jpm'][0], 'D')\n",
    "coupon_ge = db_riskdrivers_tools['coupon_ge'][0]\n",
    "coupon_jpm = db_riskdrivers_tools['coupon_jpm'][0]\n",
    "t_now = np.datetime64(db_riskdrivers_tools.t_now[0], 'D')\n",
    "c_ = int(db_riskdrivers_tools.c_.dropna())\n",
    "# index of risk drivers for options and bonds\n",
    "idx_options = np.array(range(n_stocks+1, n_stocks+d_implvol+1))\n",
    "idx_gebond = np.array(range(n_stocks+d_implvol+1, n_stocks+d_implvol+5))\n",
    "idx_jpmbond = np.array(range(n_stocks+d_implvol+5, n_stocks+d_implvol+9))\n",
    "\n",
    "# Projection\n",
    "# projected risk driver paths\n",
    "db_projection_riskdrivers = pd.read_csv(path+'db_projection_riskdrivers.csv')\n",
    "\n",
    "# projected rating paths\n",
    "db_projection_ratings = pd.read_csv(path+'db_projection_ratings.csv')\n",
    "\n",
    "# projected scenarios probabilities\n",
    "db_scenario_probs = pd.read_csv(path+'db_scenario_probs.csv')\n",
    "p = db_scenario_probs['p'].values\n",
    "\n",
    "# additional information\n",
    "db_projection_tools = pd.read_csv(path+'db_projection_tools.csv')\n",
    "j_ = int(db_projection_tools['j_'][0])\n",
    "t_hor = np.datetime64(db_projection_tools['t_hor'][0], 'D')"
   ]
  },
  {
   "cell_type": "markdown",
   "metadata": {},
   "source": [
    "## [Step 1](https://www.arpm.co/lab/redirect.php?permalink=s_checklist_montecarlo_step05-implementation-step01): Calculate number of business days between t_now and t_hor"
   ]
  },
  {
   "cell_type": "code",
   "execution_count": null,
   "metadata": {},
   "outputs": [],
   "source": [
    "# business days between t_now and t_hor\n",
    "m_ = np.busday_count(t_now, t_hor)\n",
    "# date of next business day (t_now + 1)\n",
    "t_1 = np.busday_offset(t_now, 1, roll='forward')\n",
    "\n",
    "# projected scenarios\n",
    "x_proj = db_projection_riskdrivers.values.reshape(j_, m_+1, d_)\n",
    "# projected ratings\n",
    "proj_ratings = db_projection_ratings.values.reshape((j_, m_+1, 2))\n",
    "\n",
    "# initialize output arrays\n",
    "pi_tnow_thor = np.zeros((j_, n_))\n",
    "pi_oneday = np.zeros((j_, n_))"
   ]
  },
  {
   "cell_type": "markdown",
   "metadata": {},
   "source": [
    "## [Step 2](https://www.arpm.co/lab/redirect.php?permalink=s_checklist_montecarlo_step05-implementation-step02): Stocks"
   ]
  },
  {
   "cell_type": "code",
   "execution_count": null,
   "metadata": {},
   "outputs": [],
   "source": [
    "for n in range(n_stocks):\n",
    "    pi_tnow_thor[:, n] = v_tnow[n] * (np.exp(x_proj[:, -1, n] - x[-1, n])-1)\n",
    "    pi_oneday[:, n] = v_tnow[n] * (np.exp(x_proj[:, 1, n] - x[-1, n])-1)"
   ]
  },
  {
   "cell_type": "markdown",
   "metadata": {},
   "source": [
    "## [Step 3](https://www.arpm.co/lab/redirect.php?permalink=s_checklist_montecarlo_step05-implementation-step03): S&P index"
   ]
  },
  {
   "cell_type": "code",
   "execution_count": null,
   "metadata": {},
   "outputs": [],
   "source": [
    "pi_tnow_thor[:, n_stocks] = v_tnow[n_stocks]*(np.exp(x_proj[:, -1, n_stocks] -\n",
    "                                               x[-1, n_stocks])-1)\n",
    "pi_oneday[:, n_stocks] = v_tnow[n_stocks]*(np.exp(x_proj[:, 1, n_stocks] -\n",
    "                                               x[-1, n_stocks])-1)"
   ]
  },
  {
   "cell_type": "markdown",
   "metadata": {},
   "source": [
    "## [Step 4](https://www.arpm.co/lab/redirect.php?permalink=s_checklist_montecarlo_step05-implementation-step04): Options"
   ]
  },
  {
   "cell_type": "code",
   "execution_count": null,
   "metadata": {},
   "outputs": [],
   "source": [
    "# time to expiry of the options at the horizon t_hor\n",
    "tau_opt_thor = np.busday_count(t_hor, tend_option)/252\n",
    "# time to expiry of the options after one day\n",
    "tau_opt_oneday = np.busday_count(t_1, tend_option)/252\n",
    "\n",
    "# underlying and moneyness at the horizon\n",
    "s_thor = np.exp(x_proj[:, -1, n_stocks])\n",
    "mon_thor = np.log(s_thor/k_strk)/np.sqrt(tau_opt_thor)\n",
    "# underlying and moneyness after one day\n",
    "s_oneday = np.exp(x_proj[:, 1, n_stocks])\n",
    "mon_oneday = np.log(s_oneday/k_strk)/np.sqrt(tau_opt_oneday)\n",
    "\n",
    "# log-implied volatility at the horizon\n",
    "logsigma_thor = x_proj[:, -1, idx_options].reshape(j_, -1, l_)\n",
    "# log-implied volatility after one day\n",
    "logsigma_oneday = x_proj[:, 1, idx_options].reshape(j_, -1, l_)\n",
    "\n",
    "# interpolate log-implied volatility\n",
    "logsigma_interp = np.zeros(j_)\n",
    "logsigma_interp_oneday = np.zeros(j_)\n",
    "for j in range(j_):\n",
    "    # grid points\n",
    "    points = list(zip(*[grid.flatten()\n",
    "                        for grid in np.meshgrid(*[tau_implvol, m_moneyness])]))\n",
    "    # known values\n",
    "    values = logsigma_thor[j, :, :].flatten()\n",
    "    values_oneday = logsigma_oneday[j, :, :].flatten()\n",
    "    # interpolation\n",
    "    moneyness_thor = min(max(mon_thor[j], min(m_moneyness)), max(m_moneyness))\n",
    "    moneyness_oneday = min(max(mon_oneday[j], min(m_moneyness)), max(m_moneyness))\n",
    "    # log-implied volatility at the horizon\n",
    "    logsigma_interp[j] =\\\n",
    "        interpolate.LinearNDInterpolator(points, values)(*np.r_[tau_opt_thor,\n",
    "                                                                moneyness_thor])\n",
    "    # log-implied volatility after one day\n",
    "    logsigma_interp_oneday[j] =\\\n",
    "        interpolate.LinearNDInterpolator(points, values_oneday)(*np.r_[tau_opt_oneday,\n",
    "                                                                       moneyness_oneday])\n",
    "\n",
    "# compute call option value by means of Black-Scholes-Merton formula\n",
    "v_call_thor = bsm_function(s_thor, y, np.exp(logsigma_interp), moneyness_thor,\n",
    "                           tau_opt_thor)\n",
    "v_call_oneday = bsm_function(s_oneday, y, np.exp(logsigma_interp_oneday), \n",
    "                             moneyness_oneday, tau_opt_oneday)\n",
    "\n",
    "# compute put option value using put-call parity\n",
    "v_zcb_thor = np.exp(-y*tau_opt_thor)\n",
    "v_put_thor = v_call_thor - s_thor + k_strk*v_zcb_thor\n",
    "v_zcb_oneday = np.exp(-y*tau_opt_oneday)\n",
    "v_put_oneday = v_call_oneday - s_oneday + k_strk*v_zcb_oneday\n",
    "\n",
    "# compute P&L of the call option\n",
    "pi_tnow_thor[:, n_stocks+1] = v_call_thor - v_tnow[n_stocks+1]\n",
    "pi_oneday[:, n_stocks+1] = v_call_oneday - v_tnow[n_stocks+1]\n",
    "# compute P&L of the put option\n",
    "pi_tnow_thor[:, n_stocks+2] = v_put_thor - v_tnow[n_stocks+2]\n",
    "pi_oneday[:, n_stocks+2] = v_put_oneday - v_tnow[n_stocks+2]"
   ]
  },
  {
   "cell_type": "markdown",
   "metadata": {},
   "source": [
    "## [Step 5](https://www.arpm.co/lab/redirect.php?permalink=s_checklist_montecarlo_step05-implementation-step05): Bonds value path without credit risk"
   ]
  },
  {
   "cell_type": "code",
   "execution_count": null,
   "metadata": {},
   "outputs": [],
   "source": [
    "# GE\n",
    "\n",
    "# dates of coupon payments from t_now to time of maturity\n",
    "# assumed to be equal to record dates\n",
    "r_ge = np.flip(pd.date_range(start=tend_ge, end=t_now,\n",
    "                             freq='-180D'))\n",
    "r_ge = np.busday_offset(np.array(r_ge).astype('datetime64[D]'),\n",
    "                        0, roll='forward')\n",
    "\n",
    "# coupon values\n",
    "coupon_ge_semi = coupon_ge/2\n",
    "c_ge = coupon_ge_semi*np.ones(len(r_ge))\n",
    "\n",
    "# bond values without credit risk\n",
    "v_gebond_thor = np.zeros((j_, m_+1))\n",
    "v_gebond_thor[:, 0] = v_tnow[n_stocks+3]\n",
    "\n",
    "# coupon-bond values\n",
    "for m in range(1, m_+1):\n",
    "    t_m = np.busday_offset(t_now, m, roll='forward')\n",
    "    # Nelson-Siegel parameters\n",
    "    theta_ge = x_proj[:, m, idx_gebond]\n",
    "    # last element must be squared\n",
    "    theta_ge[:, 3] = theta_ge[:, 3]**2\n",
    "    # coupons paid on or after t_m\n",
    "    r_ge_tm = r_ge[r_ge >= t_m]\n",
    "    c_ge_tm = c_ge[r_ge >= t_m]\n",
    "    v_gebond_thor[:, m] = bond_value(t_m, theta_ge, [], c_ge_tm,\n",
    "                                     r_ge_tm, 'ns')\n",
    "\n",
    "# JPM\n",
    "\n",
    "# dates of coupon payments from t_now to time of maturity\n",
    "# assumed to be equal to record dates\n",
    "r_jpm = np.flip(pd.date_range(start=tend_jpm, end=t_now,\n",
    "                              freq='-180D'))\n",
    "r_jpm = np.busday_offset(np.array(r_jpm).astype('datetime64[D]'),\n",
    "                        0, roll='forward')\n",
    "\n",
    "# coupon values\n",
    "coupon_jpm_semi = coupon_jpm/2\n",
    "c_jpm = coupon_jpm_semi*np.ones(len(r_jpm))\n",
    "\n",
    "# bond values without credit risk\n",
    "v_jpmbond_thor = np.zeros((j_, m_+1))\n",
    "v_jpmbond_thor[:, 0] = v_tnow[n_stocks+4]\n",
    "\n",
    "# coupon-bond values\n",
    "for m in range(1, m_+1):\n",
    "    t_m = np.busday_offset(t_now, m, roll='forward')\n",
    "    # Nelson-Siegel parameters\n",
    "    theta_jpm = x_proj[:, m, idx_jpmbond]\n",
    "    # last element must be squared\n",
    "    theta_jpm[:, 3] = theta_jpm[:, 3]**2\n",
    "    # coupons paid on or after t_m\n",
    "    r_jpm_tm = r_jpm[r_jpm >= t_m]\n",
    "    c_jpm_tm = c_jpm[r_jpm >= t_m]\n",
    "    v_jpmbond_thor[:, m] = bond_value(t_m, theta_jpm, [], c_jpm_tm, \n",
    "                                      r_jpm_tm, 'ns')"
   ]
  },
  {
   "cell_type": "markdown",
   "metadata": {},
   "source": [
    "## [Step 6](https://www.arpm.co/lab/redirect.php?permalink=s_checklist_montecarlo_step05-implementation-step06): Reinvested cash flow value time series without credit risk"
   ]
  },
  {
   "cell_type": "code",
   "execution_count": null,
   "metadata": {},
   "outputs": [],
   "source": [
    "# investment factor\n",
    "d_tm = 1/252  # one day\n",
    "inv = np.exp(y*d_tm)*np.ones((j_, m_))\n",
    "\n",
    "# GE\n",
    "\n",
    "# reinvested cash-flow streams\n",
    "# select coupons and coupon dates in (t_now, t_hor]\n",
    "# payment dates from t_now to t_hor\n",
    "r_ge_cf = r_ge[r_ge < np.datetime64(t_hor, 'D')]\n",
    "# coupon payments\n",
    "c_ge_cf = np.ones((len(r_ge_cf)))*coupon_ge_semi\n",
    "# monitoring dates\n",
    "tnow_thor_ge = np.array(pd.bdate_range(t_now, min(tend_ge, t_hor)))\n",
    "\n",
    "# scenarios of cumulative cash-flow path\n",
    "if len(r_ge_cf) > 0:\n",
    "    cf_ge = cash_flow_reinv(c_ge_cf, r_ge_cf,\n",
    "                            tnow_thor_ge, inv)\n",
    "else:\n",
    "    cf_ge = np.zeros((j_, m_))\n",
    "\n",
    "# JPM\n",
    "\n",
    "# reinvested cash-flow streams\n",
    "# select coupons and coupon dates in (t_now, t_hor]\n",
    "# payment dates from t_now to t_hor\n",
    "r_jpm_cf = r_jpm[r_jpm < np.datetime64(t_hor, 'D')]\n",
    "# coupon payments\n",
    "c_jpm_cf = np.ones((len(r_jpm_cf)))*coupon_jpm_semi\n",
    "# monitoring dates\n",
    "tnow_thor_jpm = np.array(pd.bdate_range(t_now, min(tend_jpm, t_hor)))\n",
    "\n",
    "# scenarios of cumulative cash-flow path\n",
    "if len(r_jpm_cf) > 0:\n",
    "    cf_jpm = cash_flow_reinv(c_jpm_cf, r_jpm_cf,\n",
    "                             tnow_thor_jpm, inv)\n",
    "else:\n",
    "    cf_jpm = np.zeros((j_, m_))"
   ]
  },
  {
   "cell_type": "markdown",
   "metadata": {},
   "source": [
    "## [Step 7](https://www.arpm.co/lab/redirect.php?permalink=s_checklist_montecarlo_step05-implementation-step07): Bonds and cash flow value with credit risk"
   ]
  },
  {
   "cell_type": "code",
   "execution_count": null,
   "metadata": {},
   "outputs": [],
   "source": [
    "# compute the value of the coupon-bonds with credit risk\n",
    "# define default indicator\n",
    "default = np.any(proj_ratings == c_, axis=1, keepdims=True).squeeze()\n",
    "# get time of default\n",
    "m_d = np.full((j_, 2), 0, dtype='int')\n",
    "for n in range(2):\n",
    "    for j in range(j_):\n",
    "        if default[j, n]:\n",
    "            # get m for first date of default\n",
    "            m_d[j, n] = np.where(proj_ratings[j, :, n]==c_)[0][0]\n",
    "            # set projected P&L of the underlying stock to 0\n",
    "            pi_tnow_thor[j, n] = -v_tnow[n]\n",
    "            if proj_ratings[j, 1, n]==c_:\n",
    "                pi_oneday[j, n] = -v_tnow[n]\n",
    "\n",
    "# bond value with market and credit risk at t_hor\n",
    "v_mc_gebond_thor = v_gebond_thor[:, -1].copy()\n",
    "v_mc_jpmbond_thor = v_jpmbond_thor[:, -1].copy()\n",
    "# bond value with market and credit risk after one day\n",
    "v_mc_gebond_oneday = v_gebond_thor[:, 1].copy()\n",
    "v_mc_jpmbond_oneday = v_jpmbond_thor[:, 1].copy()\n",
    "# reinvested cash-flow values at t_hor\n",
    "cf_mc_ge = cf_ge[:, -1].copy()\n",
    "cf_mc_jpm = cf_jpm[:, -1].copy()\n",
    "# reinvested cash-flow values after one day\n",
    "cf_mc_ge_oneday = cf_ge[:, 0].copy()\n",
    "cf_mc_jpm_oneday = cf_jpm[:, 0].copy()\n",
    "\n",
    "for j in range(j_):\n",
    "    # GE\n",
    "    if default[j, 0]:  # if default occurs\n",
    "        if m_d[j, 0]==1:  # if default at the first future horizon\n",
    "            v_mc_gebond_thor[j] = v_tnow[n_stocks+3]*recrate_ge\n",
    "            cf_mc_ge[j] = 0\n",
    "            # one day values\n",
    "            v_mc_gebond_oneday[j] = v_tnow[n_stocks+3]*recrate_ge\n",
    "            cf_mc_ge_oneday[j] = 0\n",
    "        else:\n",
    "            # bond value with credit risk\n",
    "            v_mc_gebond_thor[j] = \\\n",
    "                v_gebond_thor[j, int(m_d[j, 0])-1]*recrate_ge\n",
    "            # cash-flow with credit risk\n",
    "            cf_mc_ge[j] = cf_ge[j, int(m_d[j, 0])-1]* \\\n",
    "                       np.prod(inv[j, int(m_d[j, 0]):])\n",
    "    # JPM\n",
    "    if default[j, 1]:  # if default occurs\n",
    "        if m_d[j, 1]==1:  # if default at the first future horizon\n",
    "            v_mc_jpmbond_thor[j] = v_tnow[n_stocks+4]*recrate_jpm\n",
    "            cf_mc_jpm[j] = 0\n",
    "            # one day values\n",
    "            v_mc_jpmbond_oneday[j] = v_tnow[n_stocks+4]*recrate_jpm\n",
    "            cf_mc_jpm_oneday[j] = 0\n",
    "        else:\n",
    "            # bond value with credit risk\n",
    "            v_mc_jpmbond_thor[j] = \\\n",
    "                v_jpmbond_thor[j, int(m_d[j, 1])-1]*recrate_jpm\n",
    "            # cash-flow with credit risk\n",
    "            cf_mc_jpm[j] = cf_jpm[j, int(m_d[j, 1])-1]* \\\n",
    "                       np.prod(inv[j, int(m_d[j, 1]):])"
   ]
  },
  {
   "cell_type": "markdown",
   "metadata": {},
   "source": [
    "## [Step 8](https://www.arpm.co/lab/redirect.php?permalink=s_checklist_montecarlo_step05-implementation-step08): Bonds projected P&L"
   ]
  },
  {
   "cell_type": "code",
   "execution_count": null,
   "metadata": {
    "lines_to_next_cell": 2
   },
   "outputs": [],
   "source": [
    "# compute the ex-ante P&L of bond over [t_now, t_hor)\n",
    "pi_tnow_thor[:, n_stocks+3] = v_mc_gebond_thor - \\\n",
    "                              np.tile(v_tnow[n_stocks+3], j_) + \\\n",
    "                              cf_mc_ge\n",
    "pi_tnow_thor[:, n_stocks+4] = v_mc_jpmbond_thor - \\\n",
    "                              np.tile(v_tnow[n_stocks+4], j_) + \\\n",
    "                              cf_mc_jpm\n",
    "# compute the ex-ante P&L of bond over one day\n",
    "pi_oneday[:, n_stocks+3] = v_mc_gebond_oneday - \\\n",
    "                              np.tile(v_tnow[n_stocks+3], j_) + \\\n",
    "                              cf_mc_ge_oneday\n",
    "pi_oneday[:, n_stocks+4] = v_mc_jpmbond_oneday - \\\n",
    "                              np.tile(v_tnow[n_stocks+4], j_) + \\\n",
    "                              cf_mc_jpm_oneday"
   ]
  },
  {
   "cell_type": "markdown",
   "metadata": {},
   "source": [
    "## [Step 9](https://www.arpm.co/lab/redirect.php?permalink=s_checklist_montecarlo_step05-implementation-step09): Save database"
   ]
  },
  {
   "cell_type": "code",
   "execution_count": null,
   "metadata": {},
   "outputs": [],
   "source": [
    "# ex-ante performance over [t_now, t_hor)\n",
    "out = {db_v_tnow.columns[n]: pi_tnow_thor[:, n]\n",
    "       for n in range(n_)}\n",
    "names = [db_v_tnow.columns[n] for n in range(n_)]\n",
    "out = pd.DataFrame(out)\n",
    "out = out[list(names)]\n",
    "out.to_csv(path+'db_pricing.csv', index=False)\n",
    "del out\n",
    "\n",
    "# ex-ante performance over one day\n",
    "out = {db_v_tnow.columns[n]: pi_oneday[:, n]\n",
    "       for n in range(n_)}\n",
    "names = [db_v_tnow.columns[n] for n in range(n_)]\n",
    "out = pd.DataFrame(out)\n",
    "out = out[list(names)]\n",
    "out.to_csv(path+'db_oneday_pl.csv', index=False)\n",
    "del out"
   ]
  },
  {
   "cell_type": "markdown",
   "metadata": {},
   "source": [
    "## Plots"
   ]
  },
  {
   "cell_type": "code",
   "execution_count": null,
   "metadata": {},
   "outputs": [],
   "source": [
    "plt.style.use('arpm')\n",
    "# instruments P&L plot\n",
    "fig = plt.figure(figsize=(1280.0/72.0, 720.0/72.0), dpi=72.0)\n",
    "f, xp = histogram_sp(pi_tnow_thor[:, n_plot-1], p=p, k_=30)\n",
    "\n",
    "plt.bar(xp, f, width=xp[1]-xp[0], fc=[0.7, 0.7, 0.7],\n",
    "        edgecolor=[0.5, 0.5, 0.5])\n",
    "plt.xticks(fontsize=14)\n",
    "plt.yticks(fontsize=14)\n",
    "plt.xlabel('P&L', fontsize=17)\n",
    "plt.title('Ex-ante P&L: '+db_v_tnow.columns[n_plot-1], fontsize=20, fontweight='bold')\n",
    "\n",
    "add_logo(fig, set_fig_size=False)"
   ]
  }
 ],
 "metadata": {
  "kernelspec": {
   "display_name": "Python 3",
   "language": "python",
   "name": "python3"
  }
 },
 "nbformat": 4,
 "nbformat_minor": 4
}
