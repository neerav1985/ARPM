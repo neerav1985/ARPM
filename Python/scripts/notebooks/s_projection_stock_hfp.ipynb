{
 "cells": [
  {
   "cell_type": "markdown",
   "metadata": {},
   "source": [
    "# s_projection_stock_hfp [<img src=\"https://www.arpm.co/lab/icons/icon_permalink.png\" width=30 height=30 style=\"display: inline;\">](https://www.arpm.co/lab/redirect.php?code=s_projection_stock_hfp&codeLang=Python)\n",
    "For details, see [here](https://www.arpm.co/lab/redirect.php?permalink=eb-proj-stock-hfp)."
   ]
  },
  {
   "cell_type": "code",
   "execution_count": null,
   "metadata": {},
   "outputs": [],
   "source": [
    "import numpy as np\n",
    "import pandas as pd\n",
    "import matplotlib.pyplot as plt\n",
    "\n",
    "from arpym.estimation.exp_decay_fp import exp_decay_fp\n",
    "from arpym.tools.histogram_sp import histogram_sp\n",
    "from arpym.tools.logo import add_logo"
   ]
  },
  {
   "cell_type": "markdown",
   "metadata": {},
   "source": [
    "## [Input parameters](https://www.arpm.co/lab/redirect.php?permalink=s_projection_stock_hfp-parameters)"
   ]
  },
  {
   "cell_type": "code",
   "execution_count": null,
   "metadata": {},
   "outputs": [],
   "source": [
    "stock = 'AMZN'  # S&P 500 company (ticker)\n",
    "t_now = '2012-01-02'  # current time (date)\n",
    "t_ = 504  # length of the stock value time series\n",
    "tau_hl = 180  # half life (days)"
   ]
  },
  {
   "cell_type": "markdown",
   "metadata": {},
   "source": [
    "## [Step 0](https://www.arpm.co/lab/redirect.php?permalink=s_projection_stock_hfp-implementation-step00): Upload data"
   ]
  },
  {
   "cell_type": "code",
   "execution_count": null,
   "metadata": {},
   "outputs": [],
   "source": [
    "path = '~/databases/global-databases/equities/db_stocks_SP500/'\n",
    "df_stocks = pd.read_csv(path + 'db_stocks_sp.csv', skiprows=[0], index_col=0)\n",
    "\n",
    "# set timestamps\n",
    "df_stocks = df_stocks.set_index(pd.to_datetime(df_stocks.index))\n",
    "\n",
    "# select data within the date range\n",
    "df_stocks = df_stocks.loc[df_stocks.index <= t_now].tail(t_)\n",
    "\n",
    "# select stock\n",
    "df_stocks = df_stocks[stock]  # stock value"
   ]
  },
  {
   "cell_type": "markdown",
   "metadata": {},
   "source": [
    "## [Step 1](https://www.arpm.co/lab/redirect.php?permalink=s_projection_stock_hfp-implementation-step01): Compute risk driver"
   ]
  },
  {
   "cell_type": "code",
   "execution_count": null,
   "metadata": {},
   "outputs": [],
   "source": [
    "x = np.log(np.array(df_stocks))  # log-value"
   ]
  },
  {
   "cell_type": "markdown",
   "metadata": {},
   "source": [
    "## [Step 2](https://www.arpm.co/lab/redirect.php?permalink=s_projection_stock_hfp-implementation-step02): HFP distribution of the invariant"
   ]
  },
  {
   "cell_type": "code",
   "execution_count": null,
   "metadata": {},
   "outputs": [],
   "source": [
    "epsi = np.diff(x)  # invariant past realizations\n",
    "p = exp_decay_fp(t_ - 1, tau_hl)  # exponential decay probabilities"
   ]
  },
  {
   "cell_type": "markdown",
   "metadata": {},
   "source": [
    "## [Step 3](https://www.arpm.co/lab/redirect.php?permalink=s_projection_stock_hfp-implementation-step03): Scenario probability distribution of the log-value at horizon"
   ]
  },
  {
   "cell_type": "code",
   "execution_count": null,
   "metadata": {
    "lines_to_next_cell": 2
   },
   "outputs": [],
   "source": [
    "x_t_hor = x[-1] + epsi  # distribution of the horizon log-value"
   ]
  },
  {
   "cell_type": "markdown",
   "metadata": {},
   "source": [
    "## [Step 4](https://www.arpm.co/lab/redirect.php?permalink=s_projection_stock_hfp-implementation-step04): Histogram of the log-value at horizon"
   ]
  },
  {
   "cell_type": "code",
   "execution_count": null,
   "metadata": {},
   "outputs": [],
   "source": [
    "h, b = histogram_sp(x_t_hor, p=p, k_=10 * np.log(t_ - 1))"
   ]
  },
  {
   "cell_type": "markdown",
   "metadata": {},
   "source": [
    "## [Step 5](https://www.arpm.co/lab/redirect.php?permalink=s_projection_stock_hfp-implementation-step05): Save database"
   ]
  },
  {
   "cell_type": "code",
   "execution_count": null,
   "metadata": {},
   "outputs": [],
   "source": [
    "output = {'x': pd.Series(x[-1]),\n",
    "          'x_t_hor': pd.Series(x_t_hor),\n",
    "          'p': pd.Series(p)}\n",
    "df = pd.DataFrame(output)\n",
    "df.to_csv('~/databases/temporary-databases/stocks_proj_hfp.csv')"
   ]
  },
  {
   "cell_type": "markdown",
   "metadata": {},
   "source": [
    "## Plots"
   ]
  },
  {
   "cell_type": "code",
   "execution_count": null,
   "metadata": {},
   "outputs": [],
   "source": [
    "# settings\n",
    "plt.style.use('arpm')\n",
    "mydpi = 72.0\n",
    "colhist = [.75, .75, .75]\n",
    "coledges = [.3, .3, .3]\n",
    "fig, ax = plt.subplots()\n",
    "ax.set_facecolor('white')\n",
    "plt.bar(b, h, width=b[1]-b[0], facecolor=colhist, edgecolor=coledges)\n",
    "plt.xlabel('log-value')\n",
    "plt.xticks()\n",
    "plt.yticks()\n",
    "\n",
    "add_logo(fig, location=1)\n",
    "plt.tight_layout()"
   ]
  }
 ],
 "metadata": {
  "jupytext": {
   "encoding": "# -*- coding: utf-8 -*-",
   "executable": "/usr/bin/env python3"
  },
  "kernelspec": {
   "display_name": "Python 3",
   "language": "python",
   "name": "python3"
  }
 },
 "nbformat": 4,
 "nbformat_minor": 4
}
