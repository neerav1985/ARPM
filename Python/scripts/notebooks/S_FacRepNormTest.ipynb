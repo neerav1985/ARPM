{
 "cells": [
  {
   "cell_type": "markdown",
   "metadata": {},
   "source": [
    "# S_FacRepNormTest [<img src=\"https://www.arpm.co/lab/icons/icon_permalink.png\" width=30 height=30 style=\"display: inline;\">](https://www.arpm.co/lab/redirect.php?code=S_FacRepNormTest&codeLang=Python)\n",
    "For details, see [here](https://www.arpm.co/lab/redirect.php?permalink=eb-fac-rep-port-norm)."
   ]
  },
  {
   "cell_type": "markdown",
   "metadata": {},
   "source": [
    "## Prepare the environment"
   ]
  },
  {
   "cell_type": "code",
   "execution_count": null,
   "metadata": {},
   "outputs": [],
   "source": [
    "import os\n",
    "import os.path as path\n",
    "import sys\n",
    "\n",
    "sys.path.append(path.abspath('../../functions-legacy'))\n",
    "\n",
    "import numpy as np\n",
    "from numpy import arange, array, ones, zeros, diag, eye, tile, r_\n",
    "from numpy.linalg import solve\n",
    "from numpy.random import rand\n",
    "from numpy.random import multivariate_normal as mvnrnd\n",
    "\n",
    "import matplotlib.pyplot as plt\n",
    "from matplotlib.pyplot import figure, plot, legend, scatter, ylabel, \\\n",
    "    xlabel, title\n",
    "\n",
    "plt.style.use('seaborn')\n",
    "\n",
    "from ARPM_utils import save_plot\n",
    "from MultivRsquare import MultivRsquare\n",
    "\n",
    "# input parameters\n",
    "n_ = 500  # max market dimension\n",
    "nstep = arange(10, n_+25,25)  # market dimension steps\n",
    "j_ = 1000  # number of simulations\n",
    "k_ = 1  # number of factors\n",
    "sig2_Z_ = 1  # factor variance\n",
    "r = 0.02  # risk-free rate\n",
    "\n",
    "stepsize = len(nstep)\n",
    "R2 = zeros((stepsize, 1))\n",
    "for n in range(stepsize):\n",
    "\n",
    "    # ## Generate a sample from the joint distribution of the factor and the residuals\n",
    "\n",
    "    mu_Z_U = zeros((k_ + nstep[n], 1))  # expectation\n",
    "    sig_Z_U = zeros((k_, nstep[n]))  # systematic condition\n",
    "    d = rand(nstep[n], 1)  # residuals standard deviations\n",
    "    sig2_U = np.diagflat(d * d)  # idiosyncratic condition\n",
    "    sig2_Z_U = r_[r_['-1',array([[sig2_Z_]]), sig_Z_U], r_['-1',sig_Z_U.T, sig2_U]]  # covariance\n",
    "\n",
    "    Z_U = mvnrnd(mu_Z_U.flatten(), sig2_Z_U, j_)\n",
    "    Z_U = Z_U.T  # ensure Z_U is n_ x nsim\n",
    "\n",
    "    Z_ = Z_U[0]  # factor sample\n",
    "\n",
    "    # ## Compute the P&L's: P = alpha + beta@Z_ + U\n",
    "\n",
    "    alpha = rand(nstep[n], 1)  # shift parameter (P&L's expectation)\n",
    "    beta = rand(nstep[n], k_)  # loadings\n",
    "    i_n = eye(nstep[n])\n",
    "    P = tile(alpha, (1, j_)) + r_['-1',beta, i_n]@Z_U  # sample\n",
    "    sig2_P = beta@array([[sig2_Z_]])@beta.T + sig2_U  # (low-rank diagonal) covariance\n",
    "\n",
    "    # ## Compute the sample of the factor-replicating portfolio\n",
    "\n",
    "    s2 = i_n\n",
    "    betap = solve(beta.T@s2@beta,beta.T@s2)  # pseudo inverse of beta\n",
    "    P_Z = betap@P  # sample\n",
    "    mu_P_Z = betap@alpha  # expectation\n",
    "    sig2_P_Z = betap@sig2_P@betap.T  # covariance\n",
    "\n",
    "    # ## Compute premium via APT\n",
    "\n",
    "    v = ones((nstep[n], 1))  # current values of P&L's\n",
    "    lam = betap@(alpha - r*v)\n",
    "    Z = Z_ + lam  # shifted factors\n",
    "\n",
    "    # ## Compute the r-square at dimension nstep[n]\n",
    "\n",
    "    sig2_U_Z_ = betap@sig2_U@betap.T  # covariance of P_Z - r@ betap@v - lam - Z_\n",
    "    sigvec_Z_ = diag(array([sig2_Z_]))\n",
    "    R2[n] = MultivRsquare(sig2_U_Z_, array([[sig2_Z_]]), np.diagflat(1 / sigvec_Z_))"
   ]
  },
  {
   "cell_type": "markdown",
   "metadata": {},
   "source": [
    "## Scatter plot of factor plus premium vs factor replicating portfolios P&L's in excess of the risk-free investement"
   ]
  },
  {
   "cell_type": "code",
   "execution_count": null,
   "metadata": {},
   "outputs": [],
   "source": [
    "figure()\n",
    "scatter(Z, P_Z - r*betap@v, marker='.',s=0.5)\n",
    "scatter(lam, mu_P_Z - r*betap@v, marker='.', color='r', s=50)\n",
    "xlabel('Z')\n",
    "ylabel('Excess PL factor replicating portfolio')\n",
    "title('Scatter plot for n = %d' % n_)\n",
    "legend(['sample', 'expectation']);\n",
    "# save_plot(ax=plt.gca(), extension='png', scriptname=os.path.basename('.')[:-3], count=plt.get_fignums()[-1])"
   ]
  },
  {
   "cell_type": "markdown",
   "metadata": {},
   "source": [
    "## Plot the r-squares for each market dimension"
   ]
  },
  {
   "cell_type": "code",
   "execution_count": null,
   "metadata": {},
   "outputs": [],
   "source": [
    "figure()\n",
    "\n",
    "plot(nstep, R2, 'r', lw=1.2)\n",
    "plot(nstep, ones(stepsize), 'b', lw=2)\n",
    "xlabel('n')\n",
    "ylabel('r-square')\n",
    "title('Factor-replicating portfolio convergence');\n",
    "# save_plot(ax=plt.gca(), extension='png', scriptname=os.path.basename('.')[:-3], count=plt.get_fignums()[-1])"
   ]
  }
 ],
 "metadata": {
  "jupytext": {
   "encoding": "# -*- coding: utf-8 -*-",
   "executable": "/usr/bin/env python3"
  },
  "kernelspec": {
   "display_name": "Python 3",
   "language": "python",
   "name": "python3"
  }
 },
 "nbformat": 4,
 "nbformat_minor": 4
}
