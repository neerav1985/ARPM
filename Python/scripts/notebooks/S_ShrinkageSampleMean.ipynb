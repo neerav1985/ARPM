{
 "cells": [
  {
   "cell_type": "markdown",
   "metadata": {},
   "source": [
    "# S_ShrinkageSampleMean [<img src=\"https://www.arpm.co/lab/icons/icon_permalink.png\" width=30 height=30 style=\"display: inline;\">](https://www.arpm.co/lab/redirect.php?code=S_ShrinkageSampleMean&codeLang=Python)\n",
    "For details, see [here](https://www.arpm.co/lab/redirect.php?permalink=ShrinkageEstLocMatlab)."
   ]
  },
  {
   "cell_type": "markdown",
   "metadata": {},
   "source": [
    "## Prepare the environment"
   ]
  },
  {
   "cell_type": "code",
   "execution_count": null,
   "metadata": {},
   "outputs": [],
   "source": [
    "import os.path as path\n",
    "import sys\n",
    "\n",
    "from numpy import minimum\n",
    "from numpy import maximum\n",
    "\n",
    "sys.path.append(path.abspath('../../functions-legacy'))\n",
    "\n",
    "from numpy import zeros, cov, mean\n",
    "from numpy import max as npmax, sum as npsum\n",
    "from numpy.linalg import eig\n",
    "from numpy.random import rand\n",
    "from numpy.random import multivariate_normal as mvnrnd\n",
    "\n",
    "import matplotlib.pyplot as plt\n",
    "\n",
    "plt.style.use('seaborn')\n",
    "\n",
    "# initialize variables\n",
    "\n",
    "i_ = 10\n",
    "t_ = 30\n",
    "mu = rand(i_, 1)\n",
    "l = rand(i_, i_) - 0.5\n",
    "sigma2 = l@l.T"
   ]
  },
  {
   "cell_type": "markdown",
   "metadata": {},
   "source": [
    "## Generate normal sample"
   ]
  },
  {
   "cell_type": "code",
   "execution_count": null,
   "metadata": {},
   "outputs": [],
   "source": [
    "Epsi = mvnrnd(mu.flatten(), sigma2, t_).T"
   ]
  },
  {
   "cell_type": "markdown",
   "metadata": {},
   "source": [
    "## Estimate sample parameters"
   ]
  },
  {
   "cell_type": "code",
   "execution_count": null,
   "metadata": {},
   "outputs": [],
   "source": [
    "mu_hat = mean(Epsi, 1,keepdims=True)\n",
    "sigma2_hat = cov(Epsi)"
   ]
  },
  {
   "cell_type": "markdown",
   "metadata": {},
   "source": [
    "## Perform shrinkage of location parameter"
   ]
  },
  {
   "cell_type": "code",
   "execution_count": null,
   "metadata": {},
   "outputs": [],
   "source": [
    "# target\n",
    "b = zeros((i_, 1))\n",
    "\n",
    "# compute optimal weight\n",
    "lambda_hat, _ = eig(sigma2_hat)  # eigenvalues\n",
    "a = (2 / t_)*(npsum(lambda_hat) - 2*npmax(lambda_hat))\n",
    "c = a / ((mu_hat - b).T@(mu_hat - b))\n",
    "# restrict to sensible weight\n",
    "c = maximum(0, minimum(c, 1))\n",
    "\n",
    "# shrink\n",
    "mu_bar = (1 - c)*mu_hat + c*b"
   ]
  },
  {
   "cell_type": "markdown",
   "metadata": {},
   "source": [
    "## Show results"
   ]
  },
  {
   "cell_type": "code",
   "execution_count": null,
   "metadata": {},
   "outputs": [],
   "source": [
    "print('shrinkage confidence: %f' %c)\n",
    "print('sample mean estimator: ', mu_hat)\n",
    "print('shrinkage estimator: ', mu_bar)"
   ]
  }
 ],
 "metadata": {
  "jupytext": {
   "encoding": "# -*- coding: utf-8 -*-",
   "executable": "/usr/bin/env python3"
  },
  "kernelspec": {
   "display_name": "Python 3",
   "language": "python",
   "name": "python3"
  }
 },
 "nbformat": 4,
 "nbformat_minor": 4
}
