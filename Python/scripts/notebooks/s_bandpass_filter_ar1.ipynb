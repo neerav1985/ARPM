{
 "cells": [
  {
   "cell_type": "markdown",
   "metadata": {},
   "source": [
    "# s_bandpass_filter_ar1 [<img src=\"https://www.arpm.co/lab/icons/icon_permalink.png\" width=30 height=30 style=\"display: inline;\">](https://www.arpm.co/lab/redirect.php?code=s_bandpass_filter_ar1&codeLang=Python)\n",
    "For details, see [here](https://www.arpm.co/lab/redirect.php?permalink=ex-cross-spectr-propp-copy-6)."
   ]
  },
  {
   "cell_type": "code",
   "execution_count": null,
   "metadata": {},
   "outputs": [],
   "source": [
    "import numpy as np\n",
    "from scipy.integrate import quad\n",
    "import matplotlib.pyplot as plt\n",
    "\n",
    "from arpym.statistics.simulate_normal import simulate_normal\n",
    "from arpym.statistics.simulate_var1 import simulate_var1\n",
    "from arpym.tools.logo import add_logo"
   ]
  },
  {
   "cell_type": "markdown",
   "metadata": {},
   "source": [
    "##  Input parameters"
   ]
  },
  {
   "cell_type": "code",
   "execution_count": null,
   "metadata": {},
   "outputs": [],
   "source": [
    "b = 0.7  # autoregression parameter\n",
    "mu_eps = 0  # location of the shocks\n",
    "sigma2_eps = 1-b**2  # dispersion of the shocks\n",
    "t_ = 350  # lags\n",
    "t_vec = np.arange(2*t_+1)\n",
    "tau = 100  # truncation\n",
    "tau_vec = np.arange(-tau, tau+1) \n",
    "omega0 = 1/4*np.pi\n",
    "omega1 = 1/2*np.pi"
   ]
  },
  {
   "cell_type": "markdown",
   "metadata": {},
   "source": [
    "## [Step 1](https://www.arpm.co/lab/redirect.php?permalink=s_bandpass_filter_ar1-implementation-step01): Simulate stationary AR(1) process"
   ]
  },
  {
   "cell_type": "code",
   "execution_count": null,
   "metadata": {},
   "outputs": [],
   "source": [
    "mu_x = mu_eps/(1-b)  # expectation of (stationary) AR(1)\n",
    "sigma2_x = sigma2_eps/(1-b**2)  # variance of (stationary) AR(1)\n",
    "x0 = simulate_normal(mu_x, sigma2_x, 1)\n",
    "x = simulate_var1(x0, np.atleast_2d(b), np.atleast_2d(mu_eps),\n",
    "                            np.atleast_2d(sigma2_eps),\n",
    "                            2*t_, j_=1).squeeze()"
   ]
  },
  {
   "cell_type": "markdown",
   "metadata": {},
   "source": [
    "## [Step 2](https://www.arpm.co/lab/redirect.php?permalink=s_bandpass_filter_ar1-implementation-step02): Compute spectral density and bandpass filter"
   ]
  },
  {
   "cell_type": "code",
   "execution_count": null,
   "metadata": {},
   "outputs": [],
   "source": [
    "omega_vec = np.zeros((2*t_+1, 1))\n",
    "for j in range(1, 2*t_+2):\n",
    "    omega_vec[j-1] = ((-1)**(j-1))*j*np.pi/(2*t_+1)\n",
    "omega_vec = np.sort(omega_vec, axis=None)\n",
    "ktilde_x = sigma2_eps / (1 - 2*b*np.cos(omega_vec) + b**2)\n",
    "\n",
    "# preliminary computations\n",
    "h_tilde = np.zeros(len(omega_vec))\n",
    "int_ktilde_x_plus, _ = quad(lambda omega: sigma2_eps / (1 - 2*b*np.cos(omega) + b**2),\n",
    "                       omega0, omega1)\n",
    "int_ktilde_x_minus, _ = quad(lambda omega: sigma2_eps / (1 - 2*b*np.cos(omega) + b**2),\n",
    "                       -omega1, -omega0)\n",
    "int_ktilde_x = int_ktilde_x_plus + int_ktilde_x_minus\n",
    "\n",
    "resc_h_tilde = np.sqrt(sigma2_x/((1/(2*np.pi))*int_ktilde_x))\n",
    "\n",
    "# compute h_tilde\n",
    "for omega in range(len(omega_vec)):\n",
    "    if np.abs(omega_vec[omega]) >= omega0 and \\\n",
    "                                            np.abs(omega_vec[omega]) <= omega1:\n",
    "        h_tilde[omega] = resc_h_tilde"
   ]
  },
  {
   "cell_type": "markdown",
   "metadata": {},
   "source": [
    "## [Step 3](https://www.arpm.co/lab/redirect.php?permalink=s_bandpass_filter_ar1-implementation-step03): Compute bandpass impulse response and approx. bandpass filter"
   ]
  },
  {
   "cell_type": "code",
   "execution_count": null,
   "metadata": {},
   "outputs": [],
   "source": [
    "# compute bandpass impulse response\n",
    "h = np.zeros(len(tau_vec))\n",
    "\n",
    "for tau in range(len(tau_vec)):\n",
    "    int_cos, _ = quad(lambda omega: np.cos(omega*tau_vec[tau]),\n",
    "                      omega0, omega1)\n",
    "    h[tau] = np.sqrt(sigma2_x/((np.pi/2)*int_ktilde_x))*int_cos\n",
    "\n",
    "# approximated h_tilde\n",
    "h_tilde_approx = np.zeros(len(omega_vec), dtype=complex)\n",
    "for omega in range(len(omega_vec)):\n",
    "    h_tilde_approx[omega] = np.sum(np.exp(-1j *\n",
    "                                          omega_vec[omega]*tau_vec[:])*h[:])\n",
    "h_tilde_approx = np.real(h_tilde_approx)\n",
    "\n",
    "# update times\n",
    "t_vec = t_vec[1+tau:-1-tau]"
   ]
  },
  {
   "cell_type": "markdown",
   "metadata": {},
   "source": [
    "## [Step 4](https://www.arpm.co/lab/redirect.php?permalink=s_bandpass_filter_ar1-implementation-step04): Compute filtered process"
   ]
  },
  {
   "cell_type": "code",
   "execution_count": null,
   "metadata": {},
   "outputs": [],
   "source": [
    "y = np.zeros(len(t_vec))\n",
    "for t in range(len(t_vec)):\n",
    "    fil_proc = 0\n",
    "    for tau in range(len(tau_vec)):\n",
    "        fil_proc = fil_proc + h[tau]*x[t_vec[t]-tau_vec[tau]]\n",
    "    y[t] = np.real(fil_proc)"
   ]
  },
  {
   "cell_type": "markdown",
   "metadata": {},
   "source": [
    "##  Plots"
   ]
  },
  {
   "cell_type": "code",
   "execution_count": null,
   "metadata": {},
   "outputs": [],
   "source": [
    "plt.style.use('arpm')\n",
    "\n",
    "fig, ax = plt.subplots(3, 1)\n",
    "lightblue = [.4, .7, 1]\n",
    "\n",
    "# process\n",
    "plt.sca(ax[0])\n",
    "plt.plot(t_vec, x[t_vec], color='k', linewidth=0.5)\n",
    "plt.plot(t_vec, y, color=lightblue, linewidth=0.8)\n",
    "plt.xlabel('$t$')\n",
    "plt.ylabel('$X_t$')\n",
    "plt.legend(['Process', 'Filtered process'])\n",
    "strplot = '$\\Omega$ = [%.2f, %.2f]' % (omega0, omega1)\n",
    "plt.title('Filtering, ' + strplot)\n",
    "\n",
    "# spectral density\n",
    "plt.sca(ax[1])\n",
    "p1 = plt.plot(omega_vec, ktilde_x, color='k', linewidth=0.8,\n",
    "              label='Spectral density')\n",
    "plt.twinx()\n",
    "p2 = plt.plot(omega_vec, h_tilde, '--', color=lightblue,\n",
    "              label='Bandpass filter')\n",
    "p3 = plt.plot(omega_vec, h_tilde_approx, '-', color=lightblue, linewidth=0.8,\n",
    "              label='Approx. bandpass filter')\n",
    "plt.tick_params(axis='y', colors=lightblue)\n",
    "plt.xlabel('$\\omega$')\n",
    "plt.xticks([-np.pi, -np.pi/2, 0, np.pi/2, np.pi],\n",
    "           ['$-\\pi$', '$-\\pi/2$', '0', '$\\pi/2$', '$\\pi$'])\n",
    "plt.grid(False)\n",
    "lns = p1 + p2 + p3\n",
    "labs = [l.get_label() for l in lns]\n",
    "ax[1].legend(lns, labs, loc=0)\n",
    "\n",
    "# impulse response\n",
    "plt.sca(ax[2])\n",
    "plt.bar(tau_vec, h, facecolor=lightblue, edgecolor=lightblue)\n",
    "plt.xlabel(r'$\\tau$')\n",
    "plt.ylabel(r'$h_{\\tau}$')\n",
    "plt.legend(['Bandpass impulse response'])\n",
    "\n",
    "add_logo(fig)\n",
    "plt.tight_layout()"
   ]
  }
 ],
 "metadata": {
  "jupytext": {
   "encoding": "# -*- coding: utf-8 -*-",
   "executable": "/usr/bin/env python3"
  },
  "kernelspec": {
   "display_name": "Python 3",
   "language": "python",
   "name": "python3"
  }
 },
 "nbformat": 4,
 "nbformat_minor": 4
}
