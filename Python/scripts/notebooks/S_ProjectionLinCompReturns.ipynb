{
 "cells": [
  {
   "cell_type": "markdown",
   "metadata": {},
   "source": [
    "# S_ProjectionLinCompReturns [<img src=\"https://www.arpm.co/lab/icons/icon_permalink.png\" width=30 height=30 style=\"display: inline;\">](https://www.arpm.co/lab/redirect.php?code=S_ProjectionLinCompReturns&codeLang=Python)\n",
    "For details, see [here](https://www.arpm.co/lab/redirect.php?permalink=eb-eq-linvs-comp-proj-ret)."
   ]
  },
  {
   "cell_type": "markdown",
   "metadata": {},
   "source": [
    "## Prepare the environment"
   ]
  },
  {
   "cell_type": "code",
   "execution_count": null,
   "metadata": {},
   "outputs": [],
   "source": [
    "import os\n",
    "import os.path as path\n",
    "import sys\n",
    "\n",
    "sys.path.append(path.abspath('../../functions-legacy'))\n",
    "\n",
    "from numpy import arange, array, zeros, std, diff, linspace, mean, exp, sqrt, r_\n",
    "from numpy import min as npmin, max as npmax\n",
    "\n",
    "from scipy.stats import norm, lognorm\n",
    "from scipy.io import loadmat\n",
    "\n",
    "import matplotlib.pyplot as plt\n",
    "from matplotlib.pyplot import plot, xlim, ylim, subplots, ylabel, \\\n",
    "    xlabel, title\n",
    "\n",
    "plt.style.use('seaborn')\n",
    "\n",
    "from CONFIG import GLOBAL_DB, TEMPORARY_DB\n",
    "from ARPM_utils import save_plot, struct_to_dict\n",
    "from Price2AdjustedPrice import Price2AdjustedPrice"
   ]
  },
  {
   "cell_type": "markdown",
   "metadata": {},
   "source": [
    "## Upload stock prices from db_Stocks"
   ]
  },
  {
   "cell_type": "code",
   "execution_count": null,
   "metadata": {},
   "outputs": [],
   "source": [
    "try:\n",
    "    db = loadmat(os.path.join(GLOBAL_DB, 'db_Stocks'), squeeze_me=True)\n",
    "except FileNotFoundError:\n",
    "    db = loadmat(os.path.join(TEMPORARY_DB, 'db_Stocks'), squeeze_me=True)\n",
    "\n",
    "StocksSPX = struct_to_dict(db['StocksSPX'])"
   ]
  },
  {
   "cell_type": "markdown",
   "metadata": {},
   "source": [
    "## Compute compounded returns  from dividend adjusted prices"
   ]
  },
  {
   "cell_type": "code",
   "execution_count": null,
   "metadata": {},
   "outputs": [],
   "source": [
    "[_, c] = Price2AdjustedPrice(StocksSPX.Date.reshape(1,-1), StocksSPX.Prices[[1]], StocksSPX.Dividends[1])  # Exxon Mobil Corporation"
   ]
  },
  {
   "cell_type": "markdown",
   "metadata": {},
   "source": [
    "## Estimate the parameters((mu,sigma))of the invariants  under the normality assumption."
   ]
  },
  {
   "cell_type": "code",
   "execution_count": null,
   "metadata": {},
   "outputs": [],
   "source": [
    "mu = mean(c)\n",
    "sigma = std(c,ddof=1)"
   ]
  },
  {
   "cell_type": "markdown",
   "metadata": {},
   "source": [
    "## Compute the distribution of compounded and linear returns at horizons tau"
   ]
  },
  {
   "cell_type": "code",
   "execution_count": null,
   "metadata": {},
   "outputs": [],
   "source": [
    "# Set projection parameters\n",
    "tau = arange(63,600,63)\n",
    "p_lev = array([.01, .99])\n",
    "l_ = 100\n",
    "scale = 0.7*npmin(diff(tau))\n",
    "\n",
    "x_c = {}\n",
    "y_c = {}\n",
    "x_l = {}\n",
    "y_l = {}\n",
    "\n",
    "q_c = zeros((len(p_lev), len(tau)))\n",
    "q_l = zeros((len(p_lev), len(tau)))\n",
    "\n",
    "for k in range(len(tau)):\n",
    "    # compounded returns\n",
    "    q_c[:,k] = norm.ppf(p_lev, mu*tau[k], sigma*sqrt(tau[k]))\n",
    "    x_c[k] = linspace(npmin(q_c[:,k])-0.4, npmax(q_c[:,k])+0.4,l_)\n",
    "    y_c[k] = norm.pdf(x_c[k], mu*tau[k], sigma*sqrt(tau[k]))\n",
    "    y_c[k] = scale*y_c[k] / max(y_c[k])\n",
    "\n",
    "    # linear returns\n",
    "    q_l[:,k] = exp(q_c[:,k])-1\n",
    "    x_l[k] = linspace(npmin(q_l[:,k])-0.4, npmax(q_l[:,k])+0.4,l_)\n",
    "    y_l[k] = lognorm.pdf(x_l[k] + 1, sigma*sqrt(tau[k]), scale=exp(mu*tau[k]))\n",
    "    y_l[k] = scale*y_l[k] / max(y_l[k])"
   ]
  },
  {
   "cell_type": "markdown",
   "metadata": {},
   "source": [
    "## Create  a figure showing the pdf of both linear and compounded returns at certain points in the future\n",
    "## and print the quantiles at the confidence levels 0.01 and 0.99."
   ]
  },
  {
   "cell_type": "code",
   "execution_count": null,
   "metadata": {},
   "outputs": [],
   "source": [
    "col = [.8, .8, .8]\n",
    "\n",
    "f, ax = subplots(2,1)\n",
    "plt.sca(ax[0])\n",
    "plot(r_[0, tau], r_['-1',zeros((2,1)), q_c].T, color='r')\n",
    "for k in range(len(tau)):\n",
    "    xx =r_[tau[k], tau[k]+y_c[k].T, tau[k]]\n",
    "    yy =r_[x_c[k][0], x_c[k].T, x_c[k][-1]]\n",
    "    plt.fill_between(xx, yy, color=col)\n",
    "xlim([0, npmax(xx)*1.01])\n",
    "ylim([npmin(yy)*1.2, npmax(yy)*1.2])\n",
    "xlabel('horizon (years)')\n",
    "ylabel('return range')\n",
    "plt.xticks(r_[0,tau],r_[0,tau]/252)\n",
    "plt.grid(True)\n",
    "title('Compounded return propagation')\n",
    "plt.sca(ax[1])\n",
    "plot(r_[0, tau], r_['-1',zeros((2,1)), q_l].T, color='r')\n",
    "for k in range(len(tau)):\n",
    "    xx =r_[tau[k], tau[k]+y_l[k].T, tau[k]]\n",
    "    yy =r_[x_l[k][0], x_l[k].T, x_l[k][-1]]\n",
    "    plt.fill_between(xx, yy, color=col)\n",
    "xlim([0, npmax(xx)*1.01])\n",
    "ylim([npmin(yy)*1.1, npmax(yy)*1.1])\n",
    "xlabel('horizon (years)')\n",
    "ylabel('return range')\n",
    "plt.xticks(r_[0,tau],r_[0,tau]/252)\n",
    "plt.grid(True)\n",
    "title('Linear return propagation')\n",
    "plt.tight_layout();\n",
    "# save_plot(ax=plt.gca(), extension='png', scriptname=os.path.basename('.')[:-3], count=plt.get_fignums()[-1])\n"
   ]
  }
 ],
 "metadata": {
  "jupytext": {
   "encoding": "# -*- coding: utf-8 -*-",
   "executable": "/usr/bin/env python3"
  },
  "kernelspec": {
   "display_name": "Python 3",
   "language": "python",
   "name": "python3"
  }
 },
 "nbformat": 4,
 "nbformat_minor": 4
}
