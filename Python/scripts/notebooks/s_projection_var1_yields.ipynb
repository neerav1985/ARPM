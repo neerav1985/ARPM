{
 "cells": [
  {
   "cell_type": "markdown",
   "metadata": {},
   "source": [
    "# s_projection_var1_yields [<img src=\"https://www.arpm.co/lab/icons/icon_permalink.png\" width=30 height=30 style=\"display: inline;\">](https://www.arpm.co/lab/redirect.php?code=s_projection_var1_yields&codeLang=Python)\n",
    "For details, see [here](https://www.arpm.co/lab/redirect.php?permalink=s_projection_var1_yields)."
   ]
  },
  {
   "cell_type": "code",
   "execution_count": null,
   "metadata": {},
   "outputs": [],
   "source": [
    "import numpy as np\n",
    "import pandas as pd\n",
    "from scipy import stats\n",
    "import matplotlib.pyplot as plt\n",
    "import matplotlib.ticker as tck\n",
    "\n",
    "from arpym.estimation.var2mvou import var2mvou\n",
    "from arpym.statistics.simulate_mvou import simulate_mvou\n",
    "from arpym.statistics.moments_mvou import moments_mvou\n",
    "from arpym.tools.plot_ellipse import plot_ellipse\n",
    "from arpym.tools.logo import add_logo"
   ]
  },
  {
   "cell_type": "markdown",
   "metadata": {},
   "source": [
    "## [Input parameters](https://www.arpm.co/lab/redirect.php?permalink=s_projection_var1_yields-parameters)"
   ]
  },
  {
   "cell_type": "code",
   "execution_count": null,
   "metadata": {},
   "outputs": [],
   "source": [
    "m_ = 120  # number of monitoring times (proj. hor = m_ months)\n",
    "deltat_m = 21  # time step (days)\n",
    "tau_select = np.array([2, 7])  # selected times to maturity (years)\n",
    "yields = True  # true if using yields or false if using shadow rates\n",
    "j_ = 1000  # number of Monte Carlo scenarios"
   ]
  },
  {
   "cell_type": "markdown",
   "metadata": {},
   "source": [
    "## [Step 0](https://www.arpm.co/lab/redirect.php?permalink=s_projection_var1_yields-implementation-step00): Upload data"
   ]
  },
  {
   "cell_type": "code",
   "execution_count": null,
   "metadata": {},
   "outputs": [],
   "source": [
    "# upload db from s_fit_shadowrates_var1\n",
    "path = '~/databases/temporary-databases'\n",
    "if yields:\n",
    "    df = pd.read_csv(path + '/db_yield_var1_fit.csv', header=0)\n",
    "else:\n",
    "    df = pd.read_csv(path + '/db_shadowrate_var1_fit.csv', header=0)\n",
    "tau = np.array([1, 2, 3, 5, 7, 10, 15, 30])\n",
    "d_ = len(tau)\n",
    "b = np.array(df['b'].iloc[:d_ ** 2].values.reshape(d_, d_))\n",
    "mu = np.array(df['mu_epsi'].iloc[:d_])\n",
    "sig2 = np.array(df['sig2_epsi'].iloc[:d_ ** 2].values.reshape(d_, d_))\n",
    "t_now = pd.to_datetime(df['t_now'].iloc[0])\n",
    "t_now = np.datetime64(t_now, 'D')\n",
    "x = np.array(df[tau.astype('str')])\n",
    "x_t_ = x[-1, :]"
   ]
  },
  {
   "cell_type": "markdown",
   "metadata": {},
   "source": [
    "## [Step 1](https://www.arpm.co/lab/redirect.php?permalink=s_projection_var1_yields-implementation-step01): Embedding of VAR(1) into a MVOU process"
   ]
  },
  {
   "cell_type": "code",
   "execution_count": null,
   "metadata": {},
   "outputs": [],
   "source": [
    "theta, mu_mvou, sig2_mvou = var2mvou(b, mu, sig2, 1)"
   ]
  },
  {
   "cell_type": "markdown",
   "metadata": {},
   "source": [
    "## [Step 2](https://www.arpm.co/lab/redirect.php?permalink=s_projection_var1_yields-implementation-step02): Monte Carlo scenarios for the MVOU process"
   ]
  },
  {
   "cell_type": "code",
   "execution_count": null,
   "metadata": {},
   "outputs": [],
   "source": [
    "x_t_now_t_hor = simulate_mvou(x_t_, np.array([deltat_m\n",
    "                                              for m in range(1, m_+1)]),\n",
    "                              theta, mu_mvou, sig2_mvou, j_)"
   ]
  },
  {
   "cell_type": "markdown",
   "metadata": {},
   "source": [
    "## [Step 3](https://www.arpm.co/lab/redirect.php?permalink=s_projection_var1_yields-implementation-step03): Cond. expectations and covariances at the horizon"
   ]
  },
  {
   "cell_type": "code",
   "execution_count": null,
   "metadata": {},
   "outputs": [],
   "source": [
    "idx_tau = (np.array([np.where(tau == tau_select[i])[0]\n",
    "                     for i, item in enumerate(tau_select)]).reshape((-1)))\n",
    "\n",
    "_, drift_hor, sig2_hor = moments_mvou(x_t_, [m_*deltat_m],\n",
    "                                      theta, mu_mvou, sig2_mvou)\n",
    "\n",
    "drift_hor_sel = drift_hor[idx_tau]\n",
    "sig2_hor_sel = sig2_hor[np.ix_(idx_tau, idx_tau)]"
   ]
  },
  {
   "cell_type": "markdown",
   "metadata": {},
   "source": [
    "## [Step 4](https://www.arpm.co/lab/redirect.php?permalink=s_projection_var1_yields-implementation-step04): Stat. expectation and covariance at the horizon for selected times"
   ]
  },
  {
   "cell_type": "code",
   "execution_count": null,
   "metadata": {},
   "outputs": [],
   "source": [
    "_, drift_stat, sig2_stat = moments_mvou(x_t_, np.int64(20 * 252),\n",
    "                                        theta, mu_mvou, sig2_mvou)\n",
    "\n",
    "drift_stat_sel = drift_stat[idx_tau]\n",
    "sig2_stat_sel = sig2_stat[np.ix_(idx_tau, idx_tau)]"
   ]
  },
  {
   "cell_type": "markdown",
   "metadata": {},
   "source": [
    "## [Step 5](https://www.arpm.co/lab/redirect.php?permalink=s_projection_var1_yields-implementation-step05): Save databases"
   ]
  },
  {
   "cell_type": "code",
   "execution_count": null,
   "metadata": {},
   "outputs": [],
   "source": [
    "t_m = np.busday_offset(t_now, np.arange(m_+1)*deltat_m, roll='forward')\n",
    "\n",
    "output = {}\n",
    "x_t_hor_save = x_t_now_t_hor.reshape(j_ * (m_+1), 8)\n",
    "for i, item in enumerate(tau):\n",
    "    output.update({tau[i]: pd.Series(x_t_hor_save[:, i])})\n",
    "\n",
    "df = pd.DataFrame(output)\n",
    "if yields:\n",
    "    df.to_csv(path+'/db_proj_scenarios_yield.csv',\n",
    "              index=None)\n",
    "else:\n",
    "    df.to_csv(path+'/db_proj_scenarios_shadowrate.csv',\n",
    "              index=None)\n",
    "\n",
    "output = {}\n",
    "output.update({'sig2_mvou': pd.Series(sig2_mvou.reshape(-1))})\n",
    "output.update({'theta': pd.Series(theta.reshape(-1))})\n",
    "output.update({'mu_mvou': pd.Series(mu_mvou)})\n",
    "df = pd.DataFrame(output)\n",
    "df.to_csv(path+'/db_proj_scenarios_yield_par.csv', index=None)\n",
    "\n",
    "del df\n",
    "\n",
    "output = {'dates': pd.Series(t_m)}\n",
    "\n",
    "df = pd.DataFrame(output)\n",
    "df.to_csv(path+'/db_proj_dates.csv', index=None)\n",
    "del df"
   ]
  },
  {
   "cell_type": "markdown",
   "metadata": {},
   "source": [
    "## Plots"
   ]
  },
  {
   "cell_type": "code",
   "execution_count": null,
   "metadata": {},
   "outputs": [],
   "source": [
    "# marginal distributions\n",
    "t_ = 5000  # coarseness of pdfs\n",
    "x1 = np.zeros((t_, 2))\n",
    "x2 = np.zeros((t_, 2))\n",
    "y1 = np.zeros((t_, 2))\n",
    "y2 = np.zeros((t_, 2))\n",
    "\n",
    "x1[:, 0] = np.linspace(drift_hor_sel[0] - 4*np.sqrt(sig2_hor_sel[0, 0]),\n",
    "                       drift_hor_sel[0] + 4*np.sqrt(sig2_hor_sel[0, 0]),\n",
    "                       t_)\n",
    "y1[:, 0] = stats.norm.pdf(x1[:, 0], drift_hor_sel[0],\n",
    "                             np.sqrt(sig2_hor_sel[0, 0]))\n",
    "x2[:, 0] = np.linspace(drift_hor_sel[1] - 4*np.sqrt(sig2_hor_sel[1, 1]),\n",
    "                       drift_hor_sel[1] + 4*np.sqrt(sig2_hor_sel[1, 1]),\n",
    "                       t_)\n",
    "y2[:, 0] = stats.norm.pdf(x2[:, 0], drift_hor_sel[1],\n",
    "                             np.sqrt(sig2_hor_sel[1, 1]))\n",
    "\n",
    "# stationary distributions\n",
    "x1[:, 1] = np.linspace(drift_stat_sel[0] - 4*np.sqrt(sig2_stat_sel[0, 0]),\n",
    "                       drift_stat_sel[0] + 4*np.sqrt(sig2_stat_sel[0, 0]),\n",
    "                       t_)\n",
    "y1[:, 1] = stats.norm.pdf(x1[:, 1], drift_stat_sel[0],\n",
    "                             np.sqrt(sig2_stat_sel[0, 0]))\n",
    "x2[:, 1] = np.linspace(drift_stat_sel[1] - 4*np.sqrt(sig2_stat_sel[1, 1]),\n",
    "                       drift_stat_sel[1] + 4*np.sqrt(sig2_stat_sel[1, 1]),\n",
    "                       t_)\n",
    "y2[:, 1] = stats.norm.pdf(x2[:, 1], drift_stat_sel[1],\n",
    "                             np.sqrt(sig2_stat_sel[1, 1]))\n",
    "\n",
    "plt.style.use('arpm')\n",
    "lgrey = [0.8, 0.8, 0.8]  # light grey\n",
    "dgrey = [0.4, 0.4, 0.4]  # dark grey\n",
    "blue = [0.27, 0.4, 0.9]  # light blue\n",
    "orange = [0.94, 0.35, 0]  # orange\n",
    "\n",
    "jsel = 15\n",
    "\n",
    "fig, ax = plt.subplots(2, 2)\n",
    "\n",
    "# joint distribution\n",
    "plt.sca(ax[0, 1])\n",
    "hs = plt.plot(x_t_now_t_hor[:200, -1, idx_tau[0]],\n",
    "              x_t_now_t_hor[:200, -1, idx_tau[1]],\n",
    "              'k.', markersize=3)  # projected scenarios\n",
    "plot_ellipse(drift_stat_sel, sig2_stat_sel, r=2, plot_axes=0,\n",
    "             plot_tang_box=0,\n",
    "             color=dgrey, line_width=1.5)  # stationary ellipsoid\n",
    "plot_ellipse(drift_hor_sel, sig2_hor_sel, r=2, plot_axes=0,\n",
    "             plot_tang_box=0,\n",
    "             color=orange, line_width=1.5)  # selected hor ellipsoid\n",
    "plt.plot(x[-1, idx_tau[0]], x[-1, idx_tau[1]], marker='o', color='k',\n",
    "         markerfacecolor='k', markersize=5)  # initial position\n",
    "plt.plot(drift_hor_sel[0], drift_hor_sel[1], color='g', marker='.',\n",
    "         markersize=10, markerfacecolor='g')  # mean\n",
    "plt.grid(True)\n",
    "plt.xlim([drift_hor_sel[0] - 3 * np.sqrt(sig2_hor_sel[0, 0]),\n",
    "          drift_hor_sel[0] + 3 * np.sqrt(sig2_hor_sel[0, 0])])\n",
    "plt.ylim([drift_hor_sel[1] - 3 * np.sqrt(sig2_hor_sel[1, 1]),\n",
    "          drift_hor_sel[1] + 3 * np.sqrt(sig2_hor_sel[1, 1])])\n",
    "xlab = '%2d year shadow rate' % (tau[idx_tau[0]])\n",
    "plt.xlabel(xlab)\n",
    "ylab = '%2d year shadow rate' % (tau[idx_tau[1]])\n",
    "plt.ylabel(ylab)\n",
    "plt.xticks()\n",
    "plt.yticks()\n",
    "plt.gca().yaxis.set_major_formatter(tck.FuncFormatter(lambda z, _:\n",
    "                                    '{:.2%}'.format(z)))\n",
    "plt.gca().xaxis.set_major_formatter(tck.FuncFormatter(lambda z, _:\n",
    "                                    '{:.2%}'.format(z)))\n",
    "\n",
    "# marginal and stationary distributions: bottom plot\n",
    "plt.sca(ax[1, 1])\n",
    "plt.xlim([drift_hor_sel[0] - 3 * np.sqrt(sig2_hor_sel[0, 0]),\n",
    "          drift_hor_sel[0] + 3 * np.sqrt(sig2_hor_sel[0, 0])])\n",
    "plt.ylim([0, np.max([np.max(y1[:, 0]), np.max(y1[:, 1])])+10])\n",
    "plt.xticks()\n",
    "plt.yticks()\n",
    "plt.gca().xaxis.set_major_formatter(tck.FuncFormatter(lambda z, _:\n",
    "                                    '{:.2%}'.format(z)))\n",
    "l1 = plt.plot(x1[:, 0], y1[:, 0], lw=1.5, color=blue)  # marginal pdf\n",
    "l2 = plt.plot(x1[:, 1], y1[:, 1], lw=1.5, color=dgrey)  # stationary pdf\n",
    "l3 = plt.plot([drift_hor_sel[0] - 2*np.sqrt(sig2_hor_sel[0, 0]),\n",
    "               drift_hor_sel[0] + 2*np.sqrt(sig2_hor_sel[0, 0])], [0.5, 0.5],\n",
    "              color=orange, lw=2)  # 2 z-score\n",
    "l4 = plt.plot(x[-1, idx_tau[0]], 0.5, marker='o', color='k',\n",
    "              markerfacecolor='k', markersize=5)  # initial position\n",
    "l5 = plt.plot(drift_hor_sel[0], 0.5, color='g', marker='.', markersize=10,\n",
    "              markerfacecolor='g')  # mean\n",
    "\n",
    "# marginal and stationary distributions: left plot\n",
    "ax[1, 0].axis('off')\n",
    "\n",
    "plt.sca(ax[0, 0])\n",
    "plt.xlim([0, np.max([np.max(y2[:, 0]), np.max(y2[:, 1])])+10])\n",
    "plt.ylim([drift_hor_sel[1] - 3 * np.sqrt(sig2_hor_sel[1, 1]),\n",
    "          drift_hor_sel[1] + 3 * np.sqrt(sig2_hor_sel[1, 1])])\n",
    "plt.xticks()\n",
    "plt.yticks()\n",
    "plt.gca().yaxis.set_major_formatter(tck.FuncFormatter(lambda z, _:\n",
    "                                    '{:.2%}'.format(z)))\n",
    "plt.plot(y2[:, 0], x2[:, 0], lw=1.5, color=blue)  # marginal pdf\n",
    "plt.plot(y2[:, 1], x2[:, 1], lw=1.5, color=dgrey)  # stationary distribution\n",
    "plt.plot([0.5, 0.5], [drift_hor_sel[1] - 2*np.sqrt(sig2_hor_sel[1, 1]),\n",
    "                      drift_hor_sel[1] + 2*np.sqrt(sig2_hor_sel[1, 1])],\n",
    "         color=orange, lw=2)  # 2 z-score\n",
    "plt.plot(0.5, x[-1, idx_tau[1]], color='k', marker='.', markersize=10,\n",
    "         markerfacecolor='k')  # initial position\n",
    "plt.plot(0.5, drift_hor_sel[1], color='g', marker='.', markersize=10,\n",
    "         markerfacecolor='g')  # mean\n",
    "leg = plt.legend(handles=[l1[0], l2[0], l3[0], l4[0], l5[0], hs[0]],\n",
    "                 labels=['Pdf', 'Stationary distribution', '2 z-score',\n",
    "                         'Current value', 'Mean', 'Horizon scenarios'],\n",
    "                 bbox_to_anchor=(1, -0.5))\n",
    "\n",
    "add_logo(fig, axis=ax[1, 1], size_frac_x=1/8, location=1)"
   ]
  },
  {
   "cell_type": "code",
   "execution_count": null,
   "metadata": {},
   "outputs": [],
   "source": [
    "t_m.shape\n",
    "t_m[-1]"
   ]
  },
  {
   "cell_type": "code",
   "execution_count": null,
   "metadata": {},
   "outputs": [],
   "source": [
    "t_now"
   ]
  },
  {
   "cell_type": "code",
   "execution_count": null,
   "metadata": {},
   "outputs": [],
   "source": []
  }
 ],
 "metadata": {
  "jupytext": {
   "encoding": "# -*- coding: utf-8 -*-",
   "executable": "/usr/bin/env python3"
  },
  "kernelspec": {
   "display_name": "Python 3",
   "language": "python",
   "name": "python3"
  }
 },
 "nbformat": 4,
 "nbformat_minor": 4
}
