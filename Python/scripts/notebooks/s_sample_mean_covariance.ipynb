{
 "cells": [
  {
   "cell_type": "markdown",
   "metadata": {},
   "source": [
    "# s_sample_mean_covariance [<img src=\"https://www.arpm.co/lab/icons/icon_permalink.png\" width=30 height=30 style=\"display: inline;\">](https://www.arpm.co/lab/redirect.php?code=s_sample_mean_covariance&codeLang=Python)\n",
    "For details, see [here](https://www.arpm.co/lab/redirect.php?permalink=ExerFigBayes1)."
   ]
  },
  {
   "cell_type": "code",
   "execution_count": null,
   "metadata": {},
   "outputs": [],
   "source": [
    "import numpy as np\n",
    "from scipy import stats\n",
    "import matplotlib.pyplot as plt\n",
    "\n",
    "from arpym.tools.histogram_sp import histogram_sp\n",
    "from arpym.tools.logo import add_logo"
   ]
  },
  {
   "cell_type": "markdown",
   "metadata": {},
   "source": [
    "## [Input parameters](https://www.arpm.co/lab/redirect.php?permalink=s_sample_mean_covariance-parameters)"
   ]
  },
  {
   "cell_type": "code",
   "execution_count": null,
   "metadata": {},
   "outputs": [],
   "source": [
    "t_ = 10  # length of the time series\n",
    "j_ = 1000  # number of simulations\n",
    "mu = 1  # true value of the expectation\n",
    "sigma2 = 4  # true value of the variance"
   ]
  },
  {
   "cell_type": "markdown",
   "metadata": {},
   "source": [
    "## [Step 1](https://www.arpm.co/lab/redirect.php?permalink=s_sample_mean_covariance-implementation-step01): Generate simulations of invariant time series"
   ]
  },
  {
   "cell_type": "code",
   "execution_count": null,
   "metadata": {},
   "outputs": [],
   "source": [
    "i_theta = stats.norm.rvs(mu, np.sqrt(sigma2), size=[j_, t_])  # simulations"
   ]
  },
  {
   "cell_type": "markdown",
   "metadata": {},
   "source": [
    "## [Step 2](https://www.arpm.co/lab/redirect.php?permalink=s_sample_mean_covariance-implementation-step02): Compute simulations of sample mean and sample variance estimators"
   ]
  },
  {
   "cell_type": "code",
   "execution_count": null,
   "metadata": {},
   "outputs": [],
   "source": [
    "m_hat = np.mean(i_theta, 1)  # sample mean\n",
    "sigma2_hat = np.var(i_theta, axis=1, ddof=0)  # sample variance"
   ]
  },
  {
   "cell_type": "markdown",
   "metadata": {},
   "source": [
    "## [Step 3](https://www.arpm.co/lab/redirect.php?permalink=s_sample_mean_covariance-implementation-step03): Compute pdf of sample mean estimator"
   ]
  },
  {
   "cell_type": "code",
   "execution_count": null,
   "metadata": {},
   "outputs": [],
   "source": [
    "# analytical\n",
    "x_m = np.arange(np.min(m_hat), np.max(m_hat)+0.01, 0.01)\n",
    "f_m = stats.norm.pdf(x_m, mu, np.sqrt(sigma2 / t_))\n",
    "\n",
    "# empirical histogram\n",
    "m_hist, m_x = histogram_sp(m_hat)"
   ]
  },
  {
   "cell_type": "markdown",
   "metadata": {},
   "source": [
    "## [Step 4](https://www.arpm.co/lab/redirect.php?permalink=s_sample_mean_covariance-implementation-step04): Compute pdf of sample variance estimator"
   ]
  },
  {
   "cell_type": "code",
   "execution_count": null,
   "metadata": {},
   "outputs": [],
   "source": [
    "# analytical\n",
    "x_sigma2 = np.arange(min(sigma2_hat), max(sigma2_hat)+0.01, 0.01)\n",
    "f_sigma2 = stats.wishart.pdf(x_sigma2, t_-1, sigma2 / t_)\n",
    "\n",
    "# empirical histogram\n",
    "sigma2_hist, sigma2_x = histogram_sp(sigma2_hat)"
   ]
  },
  {
   "cell_type": "markdown",
   "metadata": {},
   "source": [
    "## [Step 5](https://www.arpm.co/lab/redirect.php?permalink=s_sample_mean_covariance-implementation-step05): Compute the analytical joint pdf of sample mean and (co)variance"
   ]
  },
  {
   "cell_type": "code",
   "execution_count": null,
   "metadata": {},
   "outputs": [],
   "source": [
    "f_joint = np.zeros((len(x_m), len(x_sigma2)))\n",
    "\n",
    "for k1 in range(len(x_m)):\n",
    "    # joint pdf\n",
    "    f_joint[k1, :] = stats.norm.pdf(x_m[k1], mu, np.sqrt(sigma2 / t_))\\\n",
    "                     * stats.wishart.pdf(x_sigma2, t_-1, sigma2 / t_)"
   ]
  },
  {
   "cell_type": "markdown",
   "metadata": {},
   "source": [
    "## Plots"
   ]
  },
  {
   "cell_type": "code",
   "execution_count": null,
   "metadata": {},
   "outputs": [],
   "source": [
    "plt.style.use('arpm')\n",
    "\n",
    "blue = [0.25, 0.25, 1]\n",
    "colhist = [.8, .8, .8]\n",
    "grey = [0.6, 0.6, 0.6]\n",
    "\n",
    "# pdf of invariants\n",
    "x_epsi = np.arange(mu-3*np.sqrt(sigma2), mu + 3*np.sqrt(sigma2)+0.01, 0.01)\n",
    "f_epsi = stats.norm.pdf(x_epsi, mu, np.sqrt(sigma2))\n",
    "\n",
    "fig1 = plt.figure()\n",
    "\n",
    "plt.plot(x_epsi, f_epsi, color=blue, lw=3)\n",
    "plt.xlim([np.min(x_epsi), np.max(x_epsi)])\n",
    "plt.ylim([0, 1.1*np.max(f_epsi)])\n",
    "eps_string = '$\\epsilon_t \\sim N (\\mu= %1.2f, \\sigma^2= %1.2f )$' %\\\n",
    "        (mu, sigma2)\n",
    "plt.text(np.max(x_epsi), np.max(f_epsi), eps_string, color='k',\n",
    "         horizontalalignment='right')\n",
    "plt.title('Invariants distribution (Normal)')\n",
    "plt.xlabel('$\\epsilon_{t}$')\n",
    "\n",
    "add_logo(fig1, location=2)\n",
    "\n",
    "# sample mean distribution\n",
    "fig2 = plt.figure()\n",
    "\n",
    "plt.bar(m_x, m_hist, width=m_x[1]-m_x[0], facecolor=colhist)\n",
    "m_lim = [x_m[0], x_m[-1]]\n",
    "ymax = max([np.max(m_hist), np.max(f_m)])\n",
    "plt.xlim(m_lim)\n",
    "plt.ylim([0, 1.1*ymax])\n",
    "plt.plot(x_m, f_m, color=blue, lw=3)\n",
    "plt.title('Sample mean distribution')\n",
    "plt.legend(['empirical pdf', 'analytical pdf'])\n",
    "plt.xlabel('$\\hat{M}$')\n",
    "plt.text(0.8*m_lim[1], 0.7*ymax,\n",
    "         r'$\\hat{M} \\sim N (\\mu,\\frac{\\sigma^{2}}{\\overline{t}})$',\n",
    "         horizontalalignment='right')\n",
    "add_logo(fig2, location=2)\n",
    "\n",
    "# sample covariance distribution\n",
    "fig3 = plt.figure()\n",
    "plt.bar(sigma2_x, sigma2_hist, width=sigma2_x[1]-sigma2_x[0],\n",
    "        facecolor=colhist, edgecolor='k')\n",
    "sigma2_lim = [x_sigma2[0], x_sigma2[-1]]\n",
    "plt.xlim(sigma2_lim)\n",
    "plt.ylim([0, 1.1*ymax])\n",
    "plt.plot(x_sigma2, f_sigma2, color=blue, lw=3)\n",
    "plt.title('Sample (co)variance distribution (Wishart distribution)')\n",
    "plt.legend(['empirical pdf', 'analytical pdf'])\n",
    "plt.xlabel('$\\hat{\\Sigma}^2$')\n",
    "plt.text(0.8*sigma2_lim[1], 0.7*ymax,\n",
    "         r'$\\hat{\\Sigma}^{2} \\sim Wishart(\\overline{t}-1,\\frac{\\sigma^{2}}{\\overline{t}})$',\n",
    "         horizontalalignment='right')\n",
    "add_logo(fig3)\n",
    "\n",
    "# joint distribution\n",
    "fig4 = plt.figure()\n",
    "esc = plt.plot(m_hat[:int(j_ / 2)], sigma2_hat[:int(j_ / 2)], markersize=4,\n",
    "               color=grey, marker='.', linestyle='none')\n",
    "xlimm = [np.percentile(m_hat, 100 * 0.001), np.percentile(m_hat, 100 * 0.999)]\n",
    "ylimm = [np.min(sigma2_hat), np.percentile(sigma2_hat, 100 * 0.999)]\n",
    "plt.xlim(xlimm)\n",
    "plt.ylim(ylimm)\n",
    "plt.contour(x_m, x_sigma2, f_joint.T, 6, colors=['b'])\n",
    "\n",
    "# shadow plot for leg\n",
    "acl = plt.plot(1000, 1000, color='b', lw=3)\n",
    "plt.legend(['empirical scatter plot', 'analytical contour lines'])\n",
    "plt.xlabel('$\\hat{M}$')\n",
    "plt.ylabel('$\\hat{\\Sigma}^2$')\n",
    "plt.title('Sample mean-covariance joint distribution')\n",
    "add_logo(fig4)"
   ]
  }
 ],
 "metadata": {
  "jupytext": {
   "encoding": "# -*- coding: utf-8 -*-",
   "executable": "/usr/bin/env python3"
  },
  "kernelspec": {
   "display_name": "Python 3",
   "language": "python",
   "name": "python3"
  }
 },
 "nbformat": 4,
 "nbformat_minor": 4
}
