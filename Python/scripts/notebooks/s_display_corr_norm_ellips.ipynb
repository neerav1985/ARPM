{
 "cells": [
  {
   "cell_type": "markdown",
   "metadata": {},
   "source": [
    "# s_display_corr_norm_ellips [<img src=\"https://www.arpm.co/lab/icons/icon_permalink.png\" width=30 height=30 style=\"display: inline;\">](https://www.arpm.co/lab/redirect.php?code=s_display_corr_norm_ellips&codeLang=Python)\n",
    "For details, see [here](https://www.arpm.co/lab/redirect.php?permalink=eb-ellipso-norm-biv-var)."
   ]
  },
  {
   "cell_type": "code",
   "execution_count": null,
   "metadata": {},
   "outputs": [],
   "source": [
    "import numpy as np\n",
    "import matplotlib.pyplot as plt\n",
    "from matplotlib import gridspec\n",
    "\n",
    "from arpym.statistics.simulate_normal import simulate_normal\n",
    "from arpym.tools.histogram_sp import histogram_sp\n",
    "from arpym.tools.pca_cov import pca_cov\n",
    "from arpym.tools.plot_ellipse import plot_ellipse\n",
    "from arpym.tools.logo import add_logo"
   ]
  },
  {
   "cell_type": "markdown",
   "metadata": {},
   "source": [
    "## [Input parameters](https://www.arpm.co/lab/redirect.php?permalink=s_display_corr_norm_ellips-parameters)"
   ]
  },
  {
   "cell_type": "code",
   "execution_count": null,
   "metadata": {},
   "outputs": [],
   "source": [
    "mu_x = np.array([0, 0])  # expectation\n",
    "rho = 0.75  # correlation\n",
    "sigma2_x = np.array([[1, rho],\n",
    "                    [rho, 1]])  # covariance\n",
    "r = 2  # radius\n",
    "j_ = 10000  # number of scenarios"
   ]
  },
  {
   "cell_type": "markdown",
   "metadata": {},
   "source": [
    "## [Step 1](https://www.arpm.co/lab/redirect.php?permalink=s_display_corr_norm_ellips-implementation-step01): Compute eigenvalue and eigenvectors"
   ]
  },
  {
   "cell_type": "code",
   "execution_count": null,
   "metadata": {},
   "outputs": [],
   "source": [
    "e, lambda2 = pca_cov(sigma2_x)"
   ]
  },
  {
   "cell_type": "markdown",
   "metadata": {},
   "source": [
    "## [Step 2](https://www.arpm.co/lab/redirect.php?permalink=s_display_corr_norm_ellips-implementation-step02): Compute simulations of the target and factors"
   ]
  },
  {
   "cell_type": "code",
   "execution_count": null,
   "metadata": {},
   "outputs": [],
   "source": [
    "x = simulate_normal(mu_x, sigma2_x, j_)\n",
    "z = (x-mu_x) @ e"
   ]
  },
  {
   "cell_type": "markdown",
   "metadata": {},
   "source": [
    "## [Step 3](https://www.arpm.co/lab/redirect.php?permalink=s_display_corr_norm_ellips-implementation-step03): Perform computations for plots"
   ]
  },
  {
   "cell_type": "code",
   "execution_count": null,
   "metadata": {},
   "outputs": [],
   "source": [
    "ellipse_mux_sig2x = plot_ellipse(mu_x, sigma2_x, r=r, display_ellipse=False, plot_axes=True, plot_tang_box=True,\n",
    "             color='k')\n",
    "[f_z1, xi_z1] = histogram_sp(z[:, 0], k_=300)\n",
    "[f_z2, xi_z2] = histogram_sp(z[:, 1], k_=300)"
   ]
  },
  {
   "cell_type": "markdown",
   "metadata": {},
   "source": [
    "## Plots"
   ]
  },
  {
   "cell_type": "code",
   "execution_count": null,
   "metadata": {
    "lines_to_next_cell": 0
   },
   "outputs": [],
   "source": [
    "plt.style.use('arpm')\n",
    "\n",
    "mydpi = 72.0\n",
    "f = plt.figure(figsize=(1280.0/mydpi, 720.0/mydpi), dpi=mydpi)\n",
    "\n",
    "# setup range\n",
    "x_range = [-5, 5]\n",
    "\n",
    "# long and short axis\n",
    "u_axes0 = e @ (np.sqrt(lambda2) * np.array([[-r, r], [0, 0]]).T).T\n",
    "u_axes1 = e @ (np.sqrt(lambda2) * np.array([[0, 0], [-r, r]]).T).T\n",
    "\n",
    "\n",
    "# generate figure\n",
    "f.text(0.1, 0.2, 'correlation = {rho:.2f}'.format(rho=rho))\n",
    "gs = gridspec.GridSpec(2, 2, width_ratios=[1, 3], height_ratios=[3, 1])\n",
    "\n",
    "ax0 = plt.subplot(gs[0])\n",
    "plt.barh(xi_z2, f_z2, facecolor=[.7, .7, .7])\n",
    "ax0.set_ylim(x_range)\n",
    "ax0.plot([0, 0], [-r*np.sqrt(lambda2[1]), r*np.sqrt(lambda2[1])], linewidth=5.0, color='blue')\n",
    "ax0.set_ylabel('$Z_2^{PC}$', fontsize=14)\n",
    "\n",
    "ax1 = plt.subplot(gs[1])\n",
    "ax1.scatter(x[:, 0], x[:, 1], color=[.8, .8, .8], marker='.', s=40)\n",
    "ellipse_mux_sig2x = plot_ellipse(mu_x, sigma2_x, r=r, display_ellipse=True, plot_axes=False, plot_tang_box=True,\n",
    "             color='k')\n",
    "ax1.plot(u_axes0[0], u_axes0[1], linewidth=2.0, color='red')\n",
    "ax1.plot(u_axes1[0], u_axes1[1], linewidth=2.0, color='blue')\n",
    "ax1.set_xlim(x_range)\n",
    "ax1.tick_params(axis='y', colors='None')\n",
    "ax1.tick_params(axis='x', colors='None')\n",
    "ax1.set_ylim(x_range)\n",
    "ax1.set_xlabel('$X_1$', labelpad=-1, fontsize=12)\n",
    "ax1.set_ylabel('$X_2$', labelpad=-20, fontsize=12)\n",
    "\n",
    "ax2 = plt.subplot(gs[3])\n",
    "plt.bar(xi_z1, f_z1, facecolor=[.7, .7, .7])\n",
    "ax2.set_xlim(x_range)\n",
    "ax2.plot([-r*np.sqrt(lambda2[0]), r*np.sqrt(lambda2[0])], [0, 0], linewidth=5.0, color='red')\n",
    "ax2.set_xlabel('$Z_1^{PC}$', fontsize=14)\n",
    "\n",
    "plt.tight_layout()\n",
    "add_logo(f, location=1, size_frac_x=1/12)"
   ]
  },
  {
   "cell_type": "code",
   "execution_count": null,
   "metadata": {
    "lines_to_next_cell": 2
   },
   "outputs": [],
   "source": []
  }
 ],
 "metadata": {
  "kernelspec": {
   "display_name": "Python 3",
   "language": "python",
   "name": "python3"
  }
 },
 "nbformat": 4,
 "nbformat_minor": 4
}
