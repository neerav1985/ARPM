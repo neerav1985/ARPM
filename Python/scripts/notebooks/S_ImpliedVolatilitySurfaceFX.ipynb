{
 "cells": [
  {
   "cell_type": "markdown",
   "metadata": {},
   "source": [
    "# S_ImpliedVolatilitySurfaceFX [<img src=\"https://www.arpm.co/lab/icons/icon_permalink.png\" width=30 height=30 style=\"display: inline;\">](https://www.arpm.co/lab/redirect.php?code=S_ImpliedVolatilitySurfaceFX&codeLang=Python)\n",
    "For details, see [here](https://www.arpm.co/lab/redirect.php?permalink=ExerImplVolFX)."
   ]
  },
  {
   "cell_type": "markdown",
   "metadata": {},
   "source": [
    "## Prepare the environment"
   ]
  },
  {
   "cell_type": "code",
   "execution_count": null,
   "metadata": {},
   "outputs": [],
   "source": [
    "import sys, os.path as path, os\n",
    "\n",
    "sys.path.append(path.abspath('../../functions-legacy'))\n",
    "\n",
    "import numpy as np\n",
    "from numpy import zeros, ceil, linspace, sqrt, tile, arange\n",
    "from numpy import min as npmin, max as npmax\n",
    "\n",
    "from scipy.stats import norm\n",
    "from scipy.io import loadmat\n",
    "\n",
    "import matplotlib.pyplot as plt\n",
    "from matplotlib.pyplot import figure, plot, legend, xlim, ylim, subplots, ylabel, \\\n",
    "    xlabel, title, xticks, scatter\n",
    "from mpl_toolkits.mplot3d import Axes3D\n",
    "\n",
    "plt.style.use('seaborn')"
   ]
  },
  {
   "cell_type": "markdown",
   "metadata": {},
   "source": [
    "## Upload data from db_ImpliedVol_FX"
   ]
  },
  {
   "cell_type": "code",
   "execution_count": null,
   "metadata": {},
   "outputs": [],
   "source": [
    "from CONFIG import GLOBAL_DB, TEMPORARY_DB\n",
    "from ARPM_utils import save_plot, struct_to_dict\n",
    "from intersect_matlab import intersect\n",
    "\n",
    "try:\n",
    "    db = loadmat(os.path.join(GLOBAL_DB, 'db_ImpliedVol_FX'), squeeze_me=True)\n",
    "except FileNotFoundError:\n",
    "    db = loadmat(os.path.join(TEMPORARY_DB, 'db_ImpliedVol_Fx'), squeeze_me=True)\n",
    "\n",
    "db_ImpliedVol_FX = struct_to_dict(db['db_ImpliedVol_FX'])\n",
    "\n",
    "# implied volatility surface for GBPUSD rate (in percentage format)\n",
    "\n",
    "tau = db_ImpliedVol_FX.TimesToMaturity\n",
    "delta =  db_ImpliedVol_FX.Delta\n",
    "sigma_delta  =  db_ImpliedVol_FX.Sigma\n",
    "t_ = sigma_delta.shape[2]\n",
    "n_ = len(delta)"
   ]
  },
  {
   "cell_type": "markdown",
   "metadata": {},
   "source": [
    "## Plot the implied volatility surface and the evolution of implied volatility for the desired values of delta-moneyness and times to maturity"
   ]
  },
  {
   "cell_type": "code",
   "execution_count": null,
   "metadata": {},
   "outputs": [],
   "source": [
    "_,tauIndex,_ = intersect(tau,1) # select 1 year of maturity\n",
    "meanIndex_delta = int(ceil((n_)/2))-1\n",
    "\n",
    "x,y = np.meshgrid(delta,tau)\n",
    "\n",
    "f,ax = subplots(1,1,subplot_kw={'projection':'3d'})\n",
    "ax.view_init(30,-120)\n",
    "ax.plot_surface(x,y,sigma_delta[:,:,t_-1])\n",
    "ax.scatter(x.flatten(),y.flatten(),sigma_delta[:,:,t_-1].flatten(),edgecolor='k')\n",
    "plot(delta[[0]],tau[tauIndex],sigma_delta[tauIndex,0,t_-1],marker='.', color='r',markersize=20)\n",
    "plot(delta[[meanIndex_delta]],tau[tauIndex],sigma_delta[tauIndex,meanIndex_delta,t_-1],marker='.', color='b'\n",
    "     ,markersize=20)\n",
    "plot(delta[[n_-1]],tau[tauIndex],sigma_delta[tauIndex,n_-1,t_-1],marker='.', color='g',markersize=20)\n",
    "xlabel('$\\delta$-moneyness', labelpad=10)\n",
    "ylabel('Time to maturity (years)', labelpad=10)\n",
    "ax.set_zlabel('Volatility (%)')\n",
    "xlim([min(delta), max(delta)])\n",
    "ylim([min(tau), max(tau)])\n",
    "xticks(delta)\n",
    "title('Implied volatility surface SP500');\n",
    "# save_plot(ax=plt.gca(), extension='png', scriptname=os.path.basename('.')[:-3], count=plt.get_fignums()[-1])\n",
    "\n",
    "figure()\n",
    "plot(arange(t_),sigma_delta[tauIndex,0,:].flatten(),'r')\n",
    "plot(arange(t_),sigma_delta[tauIndex,meanIndex_delta,:].flatten(),'b')\n",
    "plot(arange(t_),sigma_delta[tauIndex,n_-1,:].flatten(),'g')\n",
    "xlim([1, t_])\n",
    "xlabel('Time')\n",
    "ylabel('Volatility (%)')\n",
    "legend(['$\\delta$=0.10','$\\delta$=0.50','$\\delta$=0.90'])\n",
    "title('Imp. vol. evol.: 1 year to maturity')\n",
    "plt.grid(True);\n",
    "# save_plot(ax=plt.gca(), extension='png', scriptname=os.path.basename('.')[:-3], count=plt.get_fignums()[-1])"
   ]
  }
 ],
 "metadata": {
  "jupytext": {
   "encoding": "# -*- coding: utf-8 -*-",
   "executable": "/usr/bin/env python3"
  },
  "kernelspec": {
   "display_name": "Python 3",
   "language": "python",
   "name": "python3"
  }
 },
 "nbformat": 4,
 "nbformat_minor": 4
}
