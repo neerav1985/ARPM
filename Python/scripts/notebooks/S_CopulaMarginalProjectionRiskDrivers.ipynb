{
 "cells": [
  {
   "cell_type": "markdown",
   "metadata": {},
   "source": [
    "# S_CopulaMarginalProjectionRiskDrivers [<img src=\"https://www.arpm.co/lab/icons/icon_permalink.png\" width=30 height=30 style=\"display: inline;\">](https://www.arpm.co/lab/redirect.php?code=S_CopulaMarginalProjectionRiskDrivers&codeLang=Python)\n",
    "For details, see [here](https://www.arpm.co/lab/redirect.php?permalink=eb-cmprojection-copy-2)."
   ]
  },
  {
   "cell_type": "markdown",
   "metadata": {},
   "source": [
    "## Prepare the environment"
   ]
  },
  {
   "cell_type": "code",
   "execution_count": null,
   "metadata": {},
   "outputs": [],
   "source": [
    "import os\n",
    "import os.path as path\n",
    "import sys\n",
    "\n",
    "sys.path.append(path.abspath('../../functions-legacy'))\n",
    "from collections import namedtuple\n",
    "\n",
    "import numpy as np\n",
    "from numpy import arange, ones, zeros, cumsum, squeeze, \\\n",
    "    abs, sqrt, tile, r_\n",
    "\n",
    "from scipy.linalg import expm\n",
    "from scipy.io import loadmat\n",
    "from scipy.stats import t as tstu\n",
    "\n",
    "import matplotlib.pyplot as plt\n",
    "\n",
    "plt.style.use('seaborn')\n",
    "\n",
    "from CONFIG import GLOBAL_DB, TEMPORARY_DB\n",
    "from Tscenarios import Tscenarios\n",
    "from CopMargComb import CopMargComb"
   ]
  },
  {
   "cell_type": "markdown",
   "metadata": {},
   "source": [
    "## Upload the database db_CopulaMarginalRiskDrivers"
   ]
  },
  {
   "cell_type": "code",
   "execution_count": null,
   "metadata": {},
   "outputs": [],
   "source": [
    "try:\n",
    "    db = loadmat(os.path.join(GLOBAL_DB, 'db_CopulaMarginalRiskDrivers'), squeeze_me=True)\n",
    "except FileNotFoundError:\n",
    "    db = loadmat(os.path.join(TEMPORARY_DB, 'db_CopulaMarginalRiskDrivers'),\n",
    "                 squeeze_me=True)  # output db from S_CopulaMarginalEstimationRiskDrivers\n",
    "\n",
    "d_ = db['d_']\n",
    "delta_t = db['delta_t']\n",
    "x_MVOU = db['x_MVOU']\n",
    "x_HST = db['x_HST']\n",
    "x_VG = db['x_VG']\n",
    "marginals_grid = db['marginals_grid']\n",
    "marginals_cdfs = db['marginals_cdfs']\n",
    "mu_epsi = db['mu_epsi'].reshape(-1,1)\n",
    "c2_hat = db['c2_hat']\n",
    "nu = db['nu']\n",
    "mu_x_HST = db['mu_x_HST']\n",
    "mu_MVOU = db['mu_MVOU']\n",
    "eta = db['eta']\n",
    "kappa = db['kappa']\n",
    "y = db['y']\n",
    "y_bar = db['y_bar']\n",
    "theta_MVOU = db['theta_MVOU']"
   ]
  },
  {
   "cell_type": "markdown",
   "metadata": {},
   "source": [
    "## Fix an investment horizon tau multiple of the estimation step delta_t"
   ]
  },
  {
   "cell_type": "code",
   "execution_count": null,
   "metadata": {},
   "outputs": [],
   "source": [
    "# Initialize projection variables\n",
    "horiz = 30  # horizon =30 days\n",
    "u = arange(0,delta_t+horiz,delta_t)\n",
    "t_sim = len(u) - 1\n",
    "j_ = 4000\n",
    "\n",
    "# initialize arrays\n",
    "dY = zeros((1, j_, t_sim))\n",
    "Y = zeros((1, j_, t_sim + 1))\n",
    "dX_HST = zeros((1, j_, t_sim))\n",
    "X_MVOU = zeros((d_, j_, t_sim))\n",
    "x_0_MVOU = tile(x_MVOU[:,[-1]], (1, j_))\n",
    "dT = zeros((1, j_, t_sim))\n",
    "dX_VG = zeros((1, j_, t_sim))\n",
    "\n",
    "# initialize variance\n",
    "Y[0,:,0] = y[-1]*ones(j_)\n",
    "\n",
    "# create paths\n",
    "for t in range(t_sim):\n",
    "    # ## Generate scenarios for the invariants\n",
    "    \n",
    "    # simulate scenarios for the grades U by using the estimated correlation matrix c2\n",
    "    optionT = namedtuple('option', 'dim_red stoc_rep')\n",
    "    optionT.dim_red=0\n",
    "    optionT.stoc_rep=0\n",
    "    U = tstu.cdf(Tscenarios(nu, mu_epsi, c2_hat, j_, optionT, 'PCA'), nu)\n",
    "    \n",
    "    # Retrieve the estimated marginals cdf's from S_CopulaMarginalEstimationRiskDrivers and combine them with the\n",
    "    # scenarios for the grades U, to generate joint scenarios for the invariants\n",
    "    Epsi = CopMargComb(marginals_grid, marginals_cdfs, U)\n",
    "    \n",
    "    # ## Apply the incremental step routine to generate Monte Carlo paths for the risk drivers\n",
    "    # project the Heston process for the log-values\n",
    "    dY[0,:,t] = -kappa*(Y[0,:,t]-y_bar)*delta_t+eta*sqrt(Y[0,:,t])*Epsi[1]\n",
    "    Y[0,:, t + 1] = abs(Y[0,:,t]+dY[0,:,t])\n",
    "    dX_HST[0,:,t] = mu_x_HST*delta_t + sqrt(Y[0,:,t])*Epsi[0]\n",
    "    \n",
    "    # project the MVOU process for the shadow short-rates\n",
    "    if t_sim > 1 and t > 1:\n",
    "        x_0_MVOU = X_MVOU[:,:, t - 1]\n",
    "    \n",
    "    X_MVOU[:,:,t] = expm(-theta_MVOU*delta_t)@x_0_MVOU + tile(mu_MVOU[...,np.newaxis]*delta_t, (1, j_)) + Epsi[2: 4,:]  # shadow rates\n",
    "    \n",
    "    # VG increments\n",
    "    dX_VG[:,:,t]=Epsi[4,:]\n",
    "\n",
    "X_HST = x_HST[-1] + r_['-1',zeros((j_, 1)), cumsum(dX_HST.squeeze(), 1)]  # log-stock\n",
    "X_VG = x_VG[-1] + cumsum(dX_VG, 2)  # option strategy cumulative P&L (random walk)\n",
    "\n",
    "print('The projected paths of the log - stock is stored in X_HST \\nThe projected paths of the 2 - year and 7 - year '\n",
    "      'shadow rates are stored in X_MVOU\\nThe projected paths of the option strategy cumulative P & L '\n",
    "      'are stored in X_VG')"
   ]
  }
 ],
 "metadata": {
  "jupytext": {
   "encoding": "# -*- coding: utf-8 -*-",
   "executable": "/usr/bin/env python3"
  },
  "kernelspec": {
   "display_name": "Python 3",
   "language": "python",
   "name": "python3"
  }
 },
 "nbformat": 4,
 "nbformat_minor": 4
}
