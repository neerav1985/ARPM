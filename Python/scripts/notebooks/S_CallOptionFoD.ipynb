{
 "cells": [
  {
   "cell_type": "markdown",
   "metadata": {},
   "source": [
    "# S_CallOptionFoD [<img src=\"https://www.arpm.co/lab/icons/icon_permalink.png\" width=30 height=30 style=\"display: inline;\">](https://www.arpm.co/lab/redirect.php?code=S_CallOptionFoD&codeLang=Python)\n",
    "For details, see [here](https://www.arpm.co/lab/redirect.php?permalink=eb-fo-dcall-option)."
   ]
  },
  {
   "cell_type": "markdown",
   "metadata": {},
   "source": [
    "## Prepare the environment"
   ]
  },
  {
   "cell_type": "code",
   "execution_count": null,
   "metadata": {},
   "outputs": [],
   "source": [
    "import os\n",
    "import os.path as path\n",
    "import sys\n",
    "\n",
    "sys.path.append(path.abspath('../../functions-legacy'))\n",
    "from collections import namedtuple\n",
    "\n",
    "from numpy import zeros, where, cov, round, log, sqrt, r_, fliplr, linalg, array\n",
    "\n",
    "import matplotlib.pyplot as plt\n",
    "from matplotlib.pyplot import figure, plot, legend, ylabel, \\\n",
    "    xlabel, title, fill\n",
    "\n",
    "plt.style.use('seaborn')\n",
    "\n",
    "from ARPM_utils import save_plot\n",
    "from HistogramFP import HistogramFP"
   ]
  },
  {
   "cell_type": "markdown",
   "metadata": {},
   "source": [
    "## run S_PricingCallOptionTaylor which computes the Taylor approximation of the call P&L"
   ]
  },
  {
   "cell_type": "code",
   "execution_count": null,
   "metadata": {},
   "outputs": [],
   "source": [
    "%run S_PricingCallOptionTaylor.ipynb"
   ]
  },
  {
   "cell_type": "markdown",
   "metadata": {},
   "source": [
    "## Decompose the call option P&L into theta, delta, vega, rho, gamma, vanna\n",
    "## and volga contributions using the Factors on Demand framework."
   ]
  },
  {
   "cell_type": "code",
   "execution_count": null,
   "metadata": {},
   "outputs": [],
   "source": [
    "greeks = [theta_eff, delta_eff, vega_eff, rho_eff, gamma_eff, vanna_eff, volga_eff]\n",
    "g_ = len(greeks)\n",
    "beta = zeros((g_, u_ - 1))\n",
    "MargRiskContr = zeros((g_ + 1, u_ - 1))\n",
    "i_ = where(horiz_u == 126)[0][0]  # selected horizon (6 months)\n",
    "\n",
    "for i in range(1,i_+1):\n",
    "    X = r_['-1',np.array([delta_t]).T, np.array([delta_s]).T, np.array([delta_sig]).T, np.array([delta_y]).T, np.array([0.5*delta_s**2]).T,np.array([delta_sig*delta_s]).T, np.array([0.5*delta_sig**2]).T]\n",
    "    Yr = PLC_u[:,[i]]\n",
    "    b = linalg.lstsq(X,Yr)[0]\n",
    "    r = X@b-Yr\n",
    "    Z = r_['-1',r, X]\n",
    "    beta = r_[array([[1]]), b]\n",
    "    MargRiskContr[:,[i]] = beta * ((cov(Z.T)@beta) / sqrt(beta.T@cov(Z.T)@beta))"
   ]
  },
  {
   "cell_type": "markdown",
   "metadata": {},
   "source": [
    "## Plot a few simulated paths of the call option P&L up to the selected horizon (6 months),\n",
    "## along with the mean and the standard deviation of the projected P&L.\n",
    "## Furthermore, show the contributions given by delta, vega and gamma components, along with the residual."
   ]
  },
  {
   "cell_type": "code",
   "execution_count": null,
   "metadata": {},
   "outputs": [],
   "source": [
    "lgrey = [0.8, 0.8, 0.8]  # light grey\n",
    "dgrey = [0.4, 0.4, 0.4]  # dark grey\n",
    "j_sel = 15  # selected MC simulations\n",
    "\n",
    "figure()\n",
    "# simulated paths\n",
    "plot(horiz_u[:i_+1], PLC_u[:j_sel, :i_+1].T, color=lgrey,zorder=0)\n",
    "# histogram\n",
    "option = namedtuple('option', 'n_bins')\n",
    "option.n_bins = round(10*log(j_))\n",
    "y_hist, x_hist = HistogramFP(PLC_u[:, [i_]].T, pp_, option)\n",
    "scale = 0.5*PLSigmaC_u[0, i_] / npmax(y_hist)\n",
    "y_hist = y_hist*scale\n",
    "shift_y_hist = horiz_u[i_] + y_hist\n",
    "emp_pdf = plt.barh(x_hist[:-1], shift_y_hist[0]-horiz_u[i_], left=horiz_u[i_], height=x_hist[1]-x_hist[0],\n",
    "                   facecolor=lgrey, edgecolor= lgrey, lw=2,zorder=20) #empirical pdf\n",
    "# delta, vega and gamma components\n",
    "a1 = plt.fill_between(horiz_u[:i_+1],PLMuC_u[0,:i_+1], PLMuC_u[0,:i_+1] + MargRiskContr[2, :i_+1], color='b')  # delta contribution\n",
    "a2 = plt.fill_between(horiz_u[:i_+1],PLMuC_u[0,:i_+1] + MargRiskContr[2, :i_+1],\n",
    "                      PLMuC_u[0,:i_+1]+ MargRiskContr[2, :i_+1] + MargRiskContr[3, :i_+1], color='m')  # vega contribution\n",
    "a3 = plt.fill_between(horiz_u[:i_+1],PLMuC_u[0,:i_+1] + MargRiskContr[2, :i_+1] + MargRiskContr[3, :i_+1],\n",
    "                      PLMuC_u[0,:i_+1] + MargRiskContr[2, :i_+1] + MargRiskContr[3, :i_+1] + MargRiskContr[5,:i_+1],color='c')  # gamma contribution\n",
    "# mean and standard deviation of the call option P&L\n",
    "l1 = plot(horiz_u[:i_+1], PLMuC_u[0, :i_+1], color='g')\n",
    "l2 = plot(horiz_u[:i_+1], PLMuC_u[0, :i_+1] + PLSigmaC_u[0, :i_+1], color='r')\n",
    "plot(horiz_u[:i_+1], PLMuC_u[0, :i_+1] - PLSigmaC_u[0, :i_+1], color='r')\n",
    "legend(handles=[l1[0], l2[0], emp_pdf[0], a1, a2, a3],labels=['mean',' + / - st.deviation','horizon pdf','delta','vega','gamma'])\n",
    "xlabel('time (days)')\n",
    "ylabel('Call option P&L')\n",
    "title('Call option P&L marginal risk contribution');\n",
    "# save_plot(ax=plt.gca(), extension='png', scriptname=os.path.basename('.')[:-3], count=plt.get_fignums()[-1])"
   ]
  }
 ],
 "metadata": {
  "jupytext": {
   "encoding": "# -*- coding: utf-8 -*-",
   "executable": "/usr/bin/env python3"
  },
  "kernelspec": {
   "display_name": "Python 3",
   "language": "python",
   "name": "python3"
  }
 },
 "nbformat": 4,
 "nbformat_minor": 4
}
