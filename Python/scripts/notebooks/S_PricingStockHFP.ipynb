{
 "cells": [
  {
   "cell_type": "markdown",
   "metadata": {},
   "source": [
    "This script computes the distribution of the Apple stock's P&L at the horizon t_hor = t_now+1, starting\n",
    "from the historical projected distribution of the equity risk driver,\n",
    "i.e. the log-value\n",
    "-"
   ]
  },
  {
   "cell_type": "markdown",
   "metadata": {},
   "source": [
    "## For details, see [here](https://www.arpm.co/lab/redirect.php?permalink=eb-pric-stock-hfp)."
   ]
  },
  {
   "cell_type": "code",
   "execution_count": null,
   "metadata": {},
   "outputs": [],
   "source": [
    "import os\n",
    "import os.path as path\n",
    "import sys\n",
    "from collections import namedtuple\n",
    "\n",
    "from scipy.io import savemat\n",
    "\n",
    "sys.path.append(path.abspath('../../functions-legacy'))\n",
    "\n",
    "import numpy as np\n",
    "from numpy import ones, mean, std, r_\n",
    "from scipy.stats import lognorm\n",
    "\n",
    "from matplotlib.pyplot import figure, plot, bar, legend\n",
    "\n",
    "from HistogramFP import HistogramFP\n",
    "from numpy import arange, abs, log, exp, sqrt\n",
    "\n",
    "from scipy.io import loadmat\n",
    "\n",
    "import matplotlib.pyplot as plt\n",
    "from matplotlib.pyplot import title, xlabel, scatter, ylabel\n",
    "\n",
    "plt.style.use('seaborn')\n",
    "\n",
    "from CONFIG import GLOBAL_DB, TEMPORARY_DB\n",
    "from ARPM_utils import save_plot\n",
    "from ColorCodedFP import ColorCodedFP"
   ]
  },
  {
   "cell_type": "markdown",
   "metadata": {},
   "source": [
    "## Upload the database db_ProjStockHFP (computed in S_ProjectionStockHFP)"
   ]
  },
  {
   "cell_type": "code",
   "execution_count": null,
   "metadata": {},
   "outputs": [],
   "source": [
    "try:\n",
    "    db = loadmat(os.path.join(GLOBAL_DB, 'db_ProjStockHFP'),squeeze_me=True)\n",
    "except FileNotFoundError:\n",
    "    db = loadmat(os.path.join(TEMPORARY_DB, 'db_ProjStockHFP'),squeeze_me=True)\n",
    "\n",
    "p = db['p'].reshape(1,-1)\n",
    "v = db['v']\n",
    "x_hor = db['x_hor'].reshape(1,-1)\n",
    "ens = db['ens']"
   ]
  },
  {
   "cell_type": "markdown",
   "metadata": {},
   "source": [
    "## Compute the stock value at the current time, the stocks's scenarios at the\n",
    "## horizon and the scenario's of the stocks's P&L"
   ]
  },
  {
   "cell_type": "code",
   "execution_count": null,
   "metadata": {},
   "outputs": [],
   "source": [
    "v_tnow = v[-1] # stock current value\n",
    "V = exp(x_hor) # stock's scenarios at the horizon\n",
    "#P&L's scenarios\n",
    "pi_hor = V-v_tnow # (or, equivalently, pi_hor = v_tnow@(exp((x_hor-x_tnow)-1)), where x_tnow = x(end)"
   ]
  },
  {
   "cell_type": "markdown",
   "metadata": {},
   "source": [
    "## Show the scatter plot of the stock P&L as a function of the stock value\n",
    "## and the distribution of the stock's P&L at the horizon"
   ]
  },
  {
   "cell_type": "code",
   "execution_count": null,
   "metadata": {},
   "outputs": [],
   "source": [
    "# scatter plot stock P&L vs. stock value\n",
    "figure()\n",
    "\n",
    "GreyRange=arange(0,0.87,0.01)\n",
    "CM, C = ColorCodedFP(p,None,None,GreyRange,0,1,[0.7, 0.2])\n",
    "scatter(V,pi_hor,1,c=C,marker='.',cmap=CM)\n",
    "xlabel('Stock value')\n",
    "ylabel('Stock P&L')\n",
    "title('Scatter plot stock P&L vs. stock value');\n",
    "# save_plot(ax=plt.gca(), extension='png', scriptname=os.path.basename('.')[:-3], count=plt.get_fignums()[-1])\n",
    "\n",
    "# histogram stock P&L\n",
    "colhist=[.9, .9, .9]\n",
    "coledges=[.4, .4, .4]\n",
    "f=figure()\n",
    "\n",
    "option = namedtuple('option','n_bins')\n",
    "option.n_bins = int(round(10*log(ens)))\n",
    "n,c = HistogramFP(pi_hor, p, option)\n",
    "hf = bar(c[:-1],n[0], width=c[1]-c[0], facecolor=colhist, edgecolor=coledges)\n",
    "title('Apple P&L distribution with Flexible Probabilities');\n",
    "# save_plot(ax=plt.gca(), extension='png', scriptname=os.path.basename('.')[:-3], count=plt.get_fignums()[-1])\n"
   ]
  }
 ],
 "metadata": {
  "jupytext": {
   "cell_metadata_filter": "-all",
   "encoding": "# -*- coding: utf-8 -*-",
   "executable": "/usr/bin/env python3",
   "main_language": "python",
   "notebook_metadata_filter": "-all"
  }
 },
 "nbformat": 4,
 "nbformat_minor": 4
}
