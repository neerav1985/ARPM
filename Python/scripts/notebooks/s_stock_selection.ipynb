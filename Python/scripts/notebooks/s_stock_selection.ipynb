{
 "cells": [
  {
   "cell_type": "markdown",
   "metadata": {},
   "source": [
    "# s_stock_selection [<img src=\"https://www.arpm.co/lab/icons/icon_permalink.png\" width=30 height=30 style=\"display: inline;\">](https://www.arpm.co/lab/redirect.php?code=s_stock_selection&codeLang=Python)\n",
    "For details, see [here](https://www.arpm.co/lab/redirect.php?permalink=s_stock_selection)."
   ]
  },
  {
   "cell_type": "code",
   "execution_count": null,
   "metadata": {},
   "outputs": [],
   "source": [
    "import numpy as np\n",
    "import pandas as pd\n",
    "import matplotlib.pyplot as plt\n",
    "\n",
    "from arpym.statistics.meancov_sp import meancov_sp\n",
    "from arpym.estimation.exp_decay_fp import exp_decay_fp\n",
    "from arpym.tools.transpose_square_root import transpose_square_root\n",
    "from arpym.portfolio.obj_tracking_err import obj_tracking_err\n",
    "from arpym.tools.naive_selection import naive_selection\n",
    "from arpym.tools.forward_selection import forward_selection\n",
    "from arpym.tools.backward_selection import backward_selection\n",
    "from arpym.tools.enet_selection import enet_selection\n",
    "from arpym.tools.logo import add_logo"
   ]
  },
  {
   "cell_type": "markdown",
   "metadata": {},
   "source": [
    "## [Input parameters](https://www.arpm.co/lab/redirect.php?permalink=s_stock_selection-parameters)"
   ]
  },
  {
   "cell_type": "code",
   "execution_count": null,
   "metadata": {},
   "outputs": [],
   "source": [
    "n_ = 48  # number of stocks\n",
    "t_ = 1008  # length of the time series\n",
    "t_now = '2012-01-01'  # current time\n",
    "tau_hl = 180  # half life parameter"
   ]
  },
  {
   "cell_type": "markdown",
   "metadata": {},
   "source": [
    "## [Step 0](https://www.arpm.co/lab/redirect.php?permalink=s_stock_selection-implementation-step00): Upload data"
   ]
  },
  {
   "cell_type": "code",
   "execution_count": null,
   "metadata": {},
   "outputs": [],
   "source": [
    "path = '~/databases/global-databases/equities/db_stocks_SP500/'\n",
    "spx = pd.read_csv(path + 'SPX.csv', index_col=0, parse_dates=['date'])\n",
    "stocks = pd.read_csv(path + 'db_stocks_sp.csv', skiprows=[0], index_col=0)\n",
    "# merging datasets\n",
    "spx_stocks = pd.merge(spx, stocks, left_index=True, right_index=True)\n",
    "# select data within the date range\n",
    "spx_stocks = spx_stocks.loc[spx_stocks.index <= t_now].tail(t_)\n",
    "# remove the stocks with missing values\n",
    "spx_stocks = spx_stocks.dropna(axis=1, how='any')\n",
    "date = spx_stocks.index\n",
    "# upload stocks values\n",
    "v_stock = np.array(spx_stocks.iloc[:, 2:2+n_])\n",
    "\n",
    "# upload S&P500 index value\n",
    "v_sandp = np.array(spx_stocks.SPX_close)\n",
    "t_ = v_stock.shape[0]"
   ]
  },
  {
   "cell_type": "markdown",
   "metadata": {},
   "source": [
    "## [Step 1](https://www.arpm.co/lab/redirect.php?permalink=s_stock_selection-implementation-step01): Compute linear returns of both benchmark and securities"
   ]
  },
  {
   "cell_type": "code",
   "execution_count": null,
   "metadata": {},
   "outputs": [],
   "source": [
    "# stocks return\n",
    "r_stock = np.diff(v_stock, axis=0)/v_stock[:-1, :]\n",
    "# S&P500 index return\n",
    "r_sandp = np.diff(v_sandp, axis=0)/v_sandp[:-1]"
   ]
  },
  {
   "cell_type": "markdown",
   "metadata": {},
   "source": [
    "## [Step 2](https://www.arpm.co/lab/redirect.php?permalink=s_stock_selection-implementation-step02): Cov. matrix of the joint vector of stocks and bench. returns"
   ]
  },
  {
   "cell_type": "code",
   "execution_count": null,
   "metadata": {},
   "outputs": [],
   "source": [
    "# exponential decay probabilities\n",
    "p = exp_decay_fp(t_ - 1, tau_hl)\n",
    "\n",
    "# HFP covariance\n",
    "_, s2_r_stock_r_sandp = meancov_sp(np.concatenate((r_stock, r_sandp.reshape(-1, 1)), axis=1), p)\n",
    "cv_r_stock = s2_r_stock_r_sandp[:n_, :n_]\n",
    "cv_r_stock_r_sandp = s2_r_stock_r_sandp[:n_, -1]\n",
    "cv_r_sandp = s2_r_stock_r_sandp[-1, -1]"
   ]
  },
  {
   "cell_type": "markdown",
   "metadata": {},
   "source": [
    "## [Step 3](https://www.arpm.co/lab/redirect.php?permalink=s_stock_selection-implementation-step03): Objective function"
   ]
  },
  {
   "cell_type": "code",
   "execution_count": null,
   "metadata": {},
   "outputs": [],
   "source": [
    "optim = lambda s: obj_tracking_err(s2_r_stock_r_sandp, s)"
   ]
  },
  {
   "cell_type": "markdown",
   "metadata": {},
   "source": [
    "## [Step 4](https://www.arpm.co/lab/redirect.php?permalink=s_stock_selection-implementation-step04): Portfolio selection via naive routine"
   ]
  },
  {
   "cell_type": "code",
   "execution_count": null,
   "metadata": {},
   "outputs": [],
   "source": [
    "w_naive, te_w_naive, s_naive = naive_selection(optim, n_)"
   ]
  },
  {
   "cell_type": "markdown",
   "metadata": {},
   "source": [
    "## [Step 5](https://www.arpm.co/lab/redirect.php?permalink=s_stock_selection-implementation-step05): Portfolio selection via forward stepwise routine"
   ]
  },
  {
   "cell_type": "code",
   "execution_count": null,
   "metadata": {},
   "outputs": [],
   "source": [
    "w_fwd, te_w_fwd, s_fwd = forward_selection(optim, n_)"
   ]
  },
  {
   "cell_type": "markdown",
   "metadata": {},
   "source": [
    "## [Step 6](https://www.arpm.co/lab/redirect.php?permalink=s_stock_selection-implementation-step06): Portfolio selection via backward stepwise routine"
   ]
  },
  {
   "cell_type": "code",
   "execution_count": null,
   "metadata": {},
   "outputs": [],
   "source": [
    "w_bwd, te_w_bwd, s_bwd = backward_selection(optim, n_)"
   ]
  },
  {
   "cell_type": "markdown",
   "metadata": {},
   "source": [
    "## [Step 7](https://www.arpm.co/lab/redirect.php?permalink=s_stock_selection-implementation-step07): Portfolio selection via elastic nets heuristics"
   ]
  },
  {
   "cell_type": "code",
   "execution_count": null,
   "metadata": {},
   "outputs": [],
   "source": [
    "a_eq = np.ones((1, r_stock.shape[1]))\n",
    "s = 0.01\n",
    "for p in range(a_eq.shape[0]):\n",
    "    for n in range(a_eq.shape[1]):\n",
    "        a_eq[p, n] = (1 + (-s)**(p+n)/np.linalg.norm(a_eq))*a_eq[p, n]\n",
    "b_eq = np.ones((1, 1))\n",
    "a_ineq = -np.eye(r_stock.shape[1])\n",
    "b_ineq = np.zeros((r_stock.shape[1], 1))\n",
    "\n",
    "q2 = cv_r_stock\n",
    "q = transpose_square_root(q2, method='Cholesky')\n",
    "qinv = np.linalg.solve(q, np.eye(n_))\n",
    "c = -np.atleast_2d(cv_r_stock_r_sandp).T\n",
    "u = np.sqrt(2*n_)*q.T\n",
    "v = -np.sqrt(n_/2)*qinv@c\n",
    "\n",
    "w_enet, _, s_enet, k_lam, lam_vec = enet_selection(v, u, alpha=10**-5,\n",
    "                                                         a_eq=a_eq, b_eq=b_eq,\n",
    "                                                         a_ineq=a_ineq, b_ineq=b_ineq,\n",
    "                                                         a=100,\n",
    "                                                         eps=10**-9,\n",
    "                                                         thr=10**-8)\n",
    "te_w_enet = np.zeros(w_enet.shape[0])\n",
    "for h in range(w_enet.shape[0]):  # rescale weights\n",
    "    #weights\n",
    "    w_enet[h] = w_enet[h]/np.sum(w_enet[h])\n",
    "    # tracking error\n",
    "    te_w_enet[h] = np.sqrt(w_enet[h].T@cv_r_stock@w_enet[h]-2*cv_r_stock_r_sandp.T@w_enet[h]+cv_r_sandp)"
   ]
  },
  {
   "cell_type": "markdown",
   "metadata": {},
   "source": [
    "## Plots"
   ]
  },
  {
   "cell_type": "code",
   "execution_count": null,
   "metadata": {},
   "outputs": [],
   "source": [
    "plt.style.use('arpm')\n",
    "\n",
    "mydpi = 72.0 # set these dpi\n",
    "f = plt.figure(figsize=(1280.0/mydpi,720.0/mydpi),dpi=mydpi)\n",
    "h3 = plt.plot(np.arange(1, n_+1), np.abs(te_w_naive), color=[.5, .5, .5], lw=2,\n",
    "              label='naive')\n",
    "h1 = plt.plot(np.arange(1, n_ + 1), np.abs(te_w_fwd), 'b',\n",
    "              lw=2, label='forward stepwise')\n",
    "h2 = plt.plot(np.arange(1, n_ + 1), np.abs(te_w_bwd),\n",
    "              color=[0.94, 0.3, 0], lw=2,\n",
    "              label='backward stepwise')\n",
    "h4 = plt.plot(k_lam[::-1], np.abs(te_w_enet[::-1]), lw=2,\n",
    "              label='elastic net')\n",
    "plt.legend(handles=[h3[0], h1[0], h2[0], h4[0]], loc='best')\n",
    "plt.xlabel('Number of stocks')\n",
    "ticks = np.arange(0, 10 * (n_ // 10 + 1), 10)\n",
    "plt.xticks(np.append(1, np.append(ticks, n_)))\n",
    "plt.xlim([0.5, n_+1])\n",
    "plt.ylabel('Tracking error')\n",
    "plt.title('n-choose-k routines comparison', fontweight='bold')\n",
    "\n",
    "mydpi = 72.0 # set these dpi\n",
    "f = plt.figure(figsize=(1280.0/mydpi,720.0/mydpi),dpi=mydpi)\n",
    "\n",
    "plt.ylabel('Weights')\n",
    "plt.xlabel('Log-lambda')\n",
    "for n in range(w_enet.shape[1]):\n",
    "    plt.plot(np.log(lam_vec[lam_vec>0]), w_enet[:, n][lam_vec>0], lw=2)\n",
    "plt.ylim([0, 1])"
   ]
  }
 ],
 "metadata": {
  "jupytext": {
   "encoding": "# -*- coding: utf-8 -*-",
   "executable": "/usr/bin/env python3"
  },
  "kernelspec": {
   "display_name": "Python 3",
   "language": "python",
   "name": "python3"
  }
 },
 "nbformat": 4,
 "nbformat_minor": 4
}
