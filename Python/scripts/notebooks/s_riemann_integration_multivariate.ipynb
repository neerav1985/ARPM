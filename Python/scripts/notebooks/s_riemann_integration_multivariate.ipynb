{
 "cells": [
  {
   "cell_type": "markdown",
   "metadata": {},
   "source": [
    "# s_riemann_integration_multivariate [<img src=\"https://www.arpm.co/lab/icons/icon_permalink.png\" width=30 height=30 style=\"display: inline;\">](https://www.arpm.co/lab/redirect.php?code=s_riemann_integration_multivariate&codeLang=Python)\n",
    "For details, see [here](https://www.arpm.co/lab/redirect.php?permalink=s_riemann_integration_multivariate)."
   ]
  },
  {
   "cell_type": "code",
   "execution_count": null,
   "metadata": {},
   "outputs": [],
   "source": [
    "import numpy as np\n",
    "import sympy as sym\n",
    "import matplotlib.pyplot as plt\n",
    "from mpl_toolkits.mplot3d import Axes3D\n",
    "\n",
    "from arpym.tools.logo import add_logo"
   ]
  },
  {
   "cell_type": "markdown",
   "metadata": {},
   "source": [
    "## [Input parameters](https://www.arpm.co/lab/redirect.php?permalink=s_riemann_integration_multivariate-parameters)"
   ]
  },
  {
   "cell_type": "code",
   "execution_count": null,
   "metadata": {},
   "outputs": [],
   "source": [
    "# function\n",
    "x1, x2 = sym.symbols('x1, x2')\n",
    "f = x1**3 + x1**2 + x2**2 +x1*x2\n",
    "display(f)\n",
    "f_ = sym.lambdify((x1, x2), f, 'numpy')\n",
    "\n",
    "# domain\n",
    "a1 = -1\n",
    "b1 = 1\n",
    "a2 = -1\n",
    "b2 = 1\n",
    "\n",
    "# number of intervals in partition of each edge\n",
    "k_ = 20"
   ]
  },
  {
   "cell_type": "markdown",
   "metadata": {},
   "source": [
    "## [Step 1](https://www.arpm.co/lab/redirect.php?permalink=s_riemann_integration_multivariate-implementation-step01): Define partition"
   ]
  },
  {
   "cell_type": "code",
   "execution_count": null,
   "metadata": {},
   "outputs": [],
   "source": [
    "# partition of sides\n",
    "endpoints_1 = np.linspace(a1, b1, k_+1)\n",
    "endpoints_2 = np.linspace(a2, b2, k_+1)\n",
    "Delta_1 = np.c_[endpoints_1[:-1], endpoints_1[1:]]\n",
    "Delta_2 = np.c_[endpoints_2[:-1], endpoints_2[1:]]\n",
    "\n",
    "# partition of domain\n",
    "Delta = np.zeros((k_**2,2,2))\n",
    "for k in range(k_):\n",
    "    for j in range(k_):\n",
    "        Delta[j+k_*k,:,:] = np.array([Delta_1[k,:], Delta_2[j,:]])"
   ]
  },
  {
   "cell_type": "markdown",
   "metadata": {},
   "source": [
    "## [Step 2](https://www.arpm.co/lab/redirect.php?permalink=s_riemann_integration_multivariate-implementation-step02): Choose points in partition"
   ]
  },
  {
   "cell_type": "code",
   "execution_count": null,
   "metadata": {},
   "outputs": [],
   "source": [
    "c = np.c_[(Delta[:, 0, 0] + Delta[:, 0, 1])/2,\n",
    "          (Delta[:, 1, 0] + Delta[:, 1, 1])/2]\n",
    "f_c = f_(c[:, 0], c[:, 1])"
   ]
  },
  {
   "cell_type": "markdown",
   "metadata": {},
   "source": [
    "## [Step 3](https://www.arpm.co/lab/redirect.php?permalink=s_riemann_integration_multivariate-implementation-step03): Calculate Riemann sum"
   ]
  },
  {
   "cell_type": "code",
   "execution_count": null,
   "metadata": {},
   "outputs": [],
   "source": [
    "volume = (Delta[:, 0, 1]-Delta[:, 0, 0])*(Delta[:, 1, 1]-Delta[:, 1, 0])\n",
    "s_f_Delta = np.sum(f_c*volume)\n",
    "s_f_Delta"
   ]
  },
  {
   "cell_type": "markdown",
   "metadata": {},
   "source": [
    "## [Step 4](https://www.arpm.co/lab/redirect.php?permalink=s_riemann_integration_multivariate-implementation-step04): Calculate integral"
   ]
  },
  {
   "cell_type": "code",
   "execution_count": null,
   "metadata": {},
   "outputs": [],
   "source": [
    "integral = sym.integrate(f, (x1, a1, b1), (x2, a2, b2))\n",
    "float(integral)"
   ]
  },
  {
   "cell_type": "markdown",
   "metadata": {},
   "source": [
    "## [Step 5](https://www.arpm.co/lab/redirect.php?permalink=s_riemann_integration_multivariate-implementation-step05): Define grid for plotting"
   ]
  },
  {
   "cell_type": "code",
   "execution_count": null,
   "metadata": {},
   "outputs": [],
   "source": [
    "x_grid1 = np.linspace(a1, b1, 100)\n",
    "x_grid2 = np.linspace(a2, b2, 100)\n",
    "x_grid1, x_grid2 = np.meshgrid(x_grid1, x_grid2)\n",
    "f_x = f_(x_grid1, x_grid2)"
   ]
  },
  {
   "cell_type": "markdown",
   "metadata": {},
   "source": [
    "## Plots"
   ]
  },
  {
   "cell_type": "code",
   "execution_count": null,
   "metadata": {},
   "outputs": [],
   "source": [
    "plt.style.use('arpm')\n",
    "\n",
    "fig = plt.figure(figsize=(1280.0/72.0, 720.0/72.0), dpi = 72.0)\n",
    "\n",
    "ax1 = fig.add_subplot(121, projection='3d')\n",
    "# function\n",
    "ax1.plot_surface(x_grid1, x_grid2, f_x,\n",
    "                 rcount=100, ccount=100,\n",
    "                 linewidth=0, color='C0',\n",
    "                 shade=True, alpha=0.7)\n",
    "# integral\n",
    "ax1.text(b1, b2, np.max(f_x)*1.35,\n",
    "         'Integral: '+str(round(integral,2)),\n",
    "         fontsize=17, bbox=dict(facecolor='white', edgecolor='darkgray'))\n",
    "\n",
    "ax1.set_title('Function', fontsize=20, fontweight='bold')\n",
    "ax1.set_zlim([0, np.max(f_x)*1.3])\n",
    "plt.xticks(fontsize=14)\n",
    "plt.yticks(fontsize=14)\n",
    "for tick in ax1.zaxis.get_major_ticks():\n",
    "    tick.label.set_fontsize(14)\n",
    "ax1.w_xaxis.set_pane_color((1.0, 1.0, 1.0, 1.0))\n",
    "ax1.w_yaxis.set_pane_color((1.0, 1.0, 1.0, 1.0))\n",
    "ax1.w_zaxis.set_pane_color((1.0, 1.0, 1.0, 1.0))\n",
    "ax1.grid(False)\n",
    "ax1.view_init(20, 135)\n",
    "\n",
    "ax2 = fig.add_subplot(122, projection='3d')\n",
    "# step function\n",
    "dx = Delta[0, 0, 1] - Delta[0, 0, 0]\n",
    "dy = Delta[0, 1, 1] - Delta[0, 1, 0]\n",
    "ax2.bar3d(Delta[:, 0, 0], Delta[:, 1, 0], np.zeros_like(f_c),\n",
    "          dx, dy, f_c,\n",
    "          color='white', linewidth=0.5, alpha=1,\n",
    "          shade=True, edgecolor='darkgray')\n",
    "# Riemann sum\n",
    "ax2.text(b1, b2, np.max(f_x)*1.35,\n",
    "         'Riemann sum: '+str(round(s_f_Delta,2)),\n",
    "         fontsize=17, bbox=dict(facecolor='white', edgecolor='darkgray'))\n",
    "\n",
    "ax2.set_title('Step function', fontsize=20, fontweight='bold')\n",
    "ax2.set_zlim([0, np.max(f_x)*1.3])\n",
    "plt.xticks(fontsize=14)\n",
    "plt.yticks(fontsize=14)\n",
    "for tick in ax2.zaxis.get_major_ticks():\n",
    "    tick.label.set_fontsize(14)\n",
    "ax2.w_xaxis.set_pane_color((1.0, 1.0, 1.0, 1.0))\n",
    "ax2.w_yaxis.set_pane_color((1.0, 1.0, 1.0, 1.0))\n",
    "ax2.w_zaxis.set_pane_color((1.0, 1.0, 1.0, 1.0))\n",
    "ax2.grid(False)\n",
    "ax2.view_init(20, 135)\n",
    "\n",
    "add_logo(fig, set_fig_size=False)\n",
    "plt.tight_layout()"
   ]
  }
 ],
 "metadata": {
  "jupytext": {
   "encoding": "# -*- coding: utf-8 -*-",
   "executable": "/usr/bin/env python3"
  },
  "kernelspec": {
   "display_name": "Python 3",
   "language": "python",
   "name": "python3"
  }
 },
 "nbformat": 4,
 "nbformat_minor": 4
}
