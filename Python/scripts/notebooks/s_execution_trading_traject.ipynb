{
 "cells": [
  {
   "cell_type": "markdown",
   "metadata": {},
   "source": [
    "# s_execution_trading_traject [<img src=\"https://www.arpm.co/lab/icons/icon_permalink.png\" width=30 height=30 style=\"display: inline;\">](https://www.arpm.co/lab/redirect.php?code=s_execution_trading_traject&codeLang=Python)\n",
    "For details, see [here](https://www.arpm.co/lab/redirect.php?permalink=eb-plopt_-liquidation-trajectories)."
   ]
  },
  {
   "cell_type": "code",
   "execution_count": null,
   "metadata": {},
   "outputs": [],
   "source": [
    "import numpy as np\n",
    "import matplotlib.pyplot as plt\n",
    "\n",
    "from arpym.portfolio.almgren_chriss import almgren_chriss\n",
    "from arpym.tools.logo import add_logo"
   ]
  },
  {
   "cell_type": "markdown",
   "metadata": {},
   "source": [
    "## [Input parameters](https://www.arpm.co/lab/redirect.php?permalink=s_execution_trading_traject-parameters)"
   ]
  },
  {
   "cell_type": "code",
   "execution_count": null,
   "metadata": {},
   "outputs": [],
   "source": [
    "q_now = 0  # starting volume time\n",
    "q_end = 1  # ending volume time\n",
    "h_q_now = 100  # initial holdings\n",
    "h_q_end = 90  # final holdings\n",
    "eta = 0.135  # transation price dynamics parameters\n",
    "sigma = 1.57\n",
    "lam = np.array([0, 0.3, 1, 5])  # mean-variance trade-off penalties\n",
    "k_ = 721  # number of grid points [q_now, q_end)"
   ]
  },
  {
   "cell_type": "markdown",
   "metadata": {},
   "source": [
    "## [Step 1](https://www.arpm.co/lab/redirect.php?permalink=s_execution_trading_traject-implementation-step01): Compute the trading trajectories"
   ]
  },
  {
   "cell_type": "code",
   "execution_count": null,
   "metadata": {},
   "outputs": [],
   "source": [
    "l_ = len(lam)\n",
    "q_grid = np.linspace(q_now, q_end, k_)  # define grid\n",
    "trajectory = np.zeros((k_, l_))\n",
    "\n",
    "# Almgren-Chriss trading trajectories\n",
    "for l in range(l_):\n",
    "    trajectory[:, l] = almgren_chriss(q_grid, h_q_now, h_q_end, lam[l],\n",
    "                                      eta, sigma)[0]"
   ]
  },
  {
   "cell_type": "markdown",
   "metadata": {},
   "source": [
    "## Plots"
   ]
  },
  {
   "cell_type": "code",
   "execution_count": null,
   "metadata": {},
   "outputs": [],
   "source": [
    "plt.style.use('arpm')\n",
    "\n",
    "fig = plt.figure()\n",
    "plt.plot(q_grid, trajectory[:, 0], color='r', label=r'$\\lambda$ = 0 (VWAP)')\n",
    "plt.plot(q_grid, trajectory[:, 1], label='$\\lambda$ = 0.3')\n",
    "plt.plot(q_grid, trajectory[:, 2], color='g', label='$\\lambda$ = 1')\n",
    "plt.plot(q_grid, trajectory[:, 3], color='k', label='$\\lambda$ = 5')\n",
    "\n",
    "plt.axis([q_now, q_end, h_q_end - 1, h_q_now + 1])\n",
    "\n",
    "plt.xlabel('Volume time')\n",
    "plt.ylabel('Holdings')\n",
    "plt.title('Trading trajectories in the Almgren-Chriss model')\n",
    "plt.legend()\n",
    "add_logo(fig)"
   ]
  }
 ],
 "metadata": {
  "jupytext": {
   "encoding": "# -*- coding: utf-8 -*-",
   "executable": "/usr/bin/env python3"
  },
  "kernelspec": {
   "display_name": "Python 3",
   "language": "python",
   "name": "python3"
  }
 },
 "nbformat": 4,
 "nbformat_minor": 4
}
