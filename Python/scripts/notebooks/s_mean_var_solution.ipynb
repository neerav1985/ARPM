{
 "cells": [
  {
   "cell_type": "markdown",
   "metadata": {},
   "source": [
    "# s_mean_var_solution [<img src=\"https://www.arpm.co/lab/icons/icon_permalink.png\" width=30 height=30 style=\"display: inline;\">](https://www.arpm.co/lab/redirect.php?code=s_mean_var_solution&codeLang=Python)\n",
    "For details, see [here](https://www.arpm.co/lab/redirect.php?permalink=eb-mean-var-solution)."
   ]
  },
  {
   "cell_type": "code",
   "execution_count": null,
   "metadata": {},
   "outputs": [],
   "source": [
    "import numpy as np\n",
    "import cvxopt\n",
    "import matplotlib.pyplot as plt\n",
    "import matplotlib.cm as cm\n",
    "\n",
    "from arpym.tools.logo import add_logo"
   ]
  },
  {
   "cell_type": "markdown",
   "metadata": {},
   "source": [
    "## [Input parameters](https://www.arpm.co/lab/redirect.php?permalink=s_mean_var_solution-parameters)"
   ]
  },
  {
   "cell_type": "code",
   "execution_count": null,
   "metadata": {},
   "outputs": [],
   "source": [
    "n_ = 10  # number of stocks\n",
    "v_budget = 1000  # budget at time t_now\n",
    "lambda_in = 0  # initial value for the mean-variance penalty\n",
    "lambda_fin = 1  # final value for the mean-variance penalty\n",
    "lambda_ = 100  # number of points in the efficient frontier\n",
    "r_rf = 0.02  # risk-free rate"
   ]
  },
  {
   "cell_type": "markdown",
   "metadata": {},
   "source": [
    "## [Step 1](https://www.arpm.co/lab/redirect.php?permalink=s_mean_var_solution-implementation-step01): Generate current values and P&L expectation and covariance"
   ]
  },
  {
   "cell_type": "code",
   "execution_count": null,
   "metadata": {},
   "outputs": [],
   "source": [
    "v_tnow = np.random.lognormal(4, 0.05, n_)\n",
    "\n",
    "mu_pi = 0.5*np.arange(1, n_+1)\n",
    "sig2_pi = 0.2*np.ones((n_, n_)) + 0.8*np.eye(n_)\n",
    "sig2_pi = np.diag(mu_pi)@sig2_pi@np.diag(mu_pi)"
   ]
  },
  {
   "cell_type": "markdown",
   "metadata": {},
   "source": [
    "## [Step 2](https://www.arpm.co/lab/redirect.php?permalink=s_mean_var_solution-implementation-step02): Solve the first step of the mean-variance approach"
   ]
  },
  {
   "cell_type": "code",
   "execution_count": null,
   "metadata": {},
   "outputs": [],
   "source": [
    "# Constraints:\n",
    "# 1) budget constraint: h'*v_tnow = v_budget\n",
    "# 2) no-short-sale: h>=0\n",
    "\n",
    "lambda_span = np.linspace(lambda_in, lambda_fin, lambda_)\n",
    "h_lambda = np.zeros((n_, lambda_))\n",
    "\n",
    "cvxopt.solvers.options['show_progress'] = False\n",
    "for l in range(lambda_):\n",
    "    # objective\n",
    "    P_opt = cvxopt.matrix(2*lambda_span[l]*sig2_pi)\n",
    "    q_opt = cvxopt.matrix(-(1-lambda_span[l])*mu_pi)\n",
    "    # inequality constraints: no-short-sale\n",
    "    G_opt = cvxopt.matrix(-np.eye(n_))\n",
    "    h_opt = cvxopt.matrix(np.zeros(n_))\n",
    "    # equality constraints: budget\n",
    "    A_opt = cvxopt.matrix(v_tnow).T\n",
    "    b_opt = cvxopt.matrix(v_budget, tc='d')\n",
    "    # solve\n",
    "    h_lambda[:, l] = np.array(cvxopt.solvers.qp(P_opt, q_opt, G_opt, h_opt,\n",
    "                                                A_opt, b_opt)['x'])[:, 0]\n",
    "\n",
    "# efficient frontier\n",
    "\n",
    "mu_h_lambda = h_lambda.T@mu_pi - r_rf\n",
    "sig2_h_lambda = np.diag(h_lambda.T@sig2_pi@h_lambda)"
   ]
  },
  {
   "cell_type": "markdown",
   "metadata": {},
   "source": [
    "## [Step 3](https://www.arpm.co/lab/redirect.php?permalink=s_mean_var_solution-implementation-step03): Compute weights"
   ]
  },
  {
   "cell_type": "code",
   "execution_count": null,
   "metadata": {},
   "outputs": [],
   "source": [
    "w_lambda = (h_lambda.T*v_tnow).T / v_budget"
   ]
  },
  {
   "cell_type": "markdown",
   "metadata": {},
   "source": [
    "## [Step 4](https://www.arpm.co/lab/redirect.php?permalink=s_mean_var_solution-implementation-step04): Solve the second step of the mean-variance approach"
   ]
  },
  {
   "cell_type": "code",
   "execution_count": null,
   "metadata": {},
   "outputs": [],
   "source": [
    "# Satisfaction = Sharpe ratio\n",
    "satis_h_lambda = mu_h_lambda / np.sqrt(sig2_h_lambda)\n",
    "\n",
    "# optimal variance and robustness penalty\n",
    "lambda_star_ind = np.argmax(satis_h_lambda)\n",
    "lambda_star = lambda_span[lambda_star_ind]\n",
    "# optimal holdings and weights\n",
    "h_qsi_star = h_lambda[:, lambda_star_ind]\n",
    "w_qsi_star = w_lambda[:, lambda_star_ind]"
   ]
  },
  {
   "cell_type": "markdown",
   "metadata": {},
   "source": [
    "## Plots"
   ]
  },
  {
   "cell_type": "code",
   "execution_count": null,
   "metadata": {},
   "outputs": [],
   "source": [
    "plt.style.use('arpm')\n",
    "\n",
    "x0 = np.sqrt(sig2_h_lambda).min()\n",
    "x1 = np.sqrt(sig2_h_lambda).max()\n",
    "xlim = [x0, x1]\n",
    "\n",
    "fig = plt.figure()\n",
    "\n",
    "ax1 = plt.subplot2grid((2, 4), (0, 0), colspan=4)\n",
    "plt.plot(np.sqrt(sig2_h_lambda), mu_h_lambda)\n",
    "plt.plot(np.sqrt(sig2_h_lambda[lambda_star_ind]), mu_h_lambda[lambda_star_ind],\n",
    "         '.', markersize=15, color='k')\n",
    "plt.legend(['Efficient frontier', 'Optimal holdings'])\n",
    "plt.ylabel('$E\\{Y_{h}\\}$')\n",
    "plt.xlabel('$Sd\\{Y_{h}\\}$')\n",
    "plt.xlim(xlim)\n",
    "plt.title('Mean-variance efficient frontier', fontweight='bold')\n",
    "add_logo(fig, axis=ax1)\n",
    "plt.tight_layout()\n",
    "\n",
    "ax2 = plt.subplot2grid((2, 4), (1, 0), colspan=4)\n",
    "colors = cm.get_cmap('Spectral')(np.arange(n_)/n_)[:, :3]\n",
    "for n in range(n_):\n",
    "    if n == 0:\n",
    "        plt.fill_between(np.sqrt(sig2_h_lambda), w_lambda[n, :],\n",
    "                         np.zeros(lambda_), color=colors[n, :])\n",
    "    else:\n",
    "        plt.fill_between(np.sqrt(sig2_h_lambda),\n",
    "                         np.sum(w_lambda[:n+1, :], axis=0),\n",
    "                         np.sum(w_lambda[:n, :], axis=0), color=colors[n, :])\n",
    "plt.axvline(x=np.sqrt(sig2_h_lambda[lambda_star_ind]), color='k')\n",
    "\n",
    "plt.ylabel('$w$')\n",
    "plt.xlabel('$Sd\\{Y_{h}\\}$')\n",
    "plt.xlim(xlim)\n",
    "plt.ylim([0, 1])\n",
    "plt.title('Portfolio weights', fontweight='bold')\n",
    "\n",
    "plt.tight_layout()"
   ]
  }
 ],
 "metadata": {
  "jupytext": {
   "encoding": "# -*- coding: utf-8 -*-",
   "executable": "/usr/bin/env python3"
  },
  "kernelspec": {
   "display_name": "Python 3",
   "language": "python",
   "name": "python3"
  }
 },
 "nbformat": 4,
 "nbformat_minor": 4
}
