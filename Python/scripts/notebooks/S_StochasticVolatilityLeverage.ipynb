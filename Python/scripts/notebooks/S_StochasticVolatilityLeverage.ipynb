{
 "cells": [
  {
   "cell_type": "markdown",
   "metadata": {},
   "source": [
    "# S_StochasticVolatilityLeverage [<img src=\"https://www.arpm.co/lab/icons/icon_permalink.png\" width=30 height=30 style=\"display: inline;\">](https://www.arpm.co/lab/redirect.php?code=S_StochasticVolatilityLeverage&codeLang=Python)\n",
    "For details, see [here](https://www.arpm.co/lab/redirect.php?permalink=ExerFig098StochVol)."
   ]
  },
  {
   "cell_type": "markdown",
   "metadata": {},
   "source": [
    "## Prepare the environment"
   ]
  },
  {
   "cell_type": "code",
   "execution_count": null,
   "metadata": {},
   "outputs": [],
   "source": [
    "import os\n",
    "import os.path as path\n",
    "import sys\n",
    "\n",
    "sys.path.append(path.abspath('../../functions-legacy'))\n",
    "\n",
    "from numpy import arange, array, zeros, diff, cov, mean, log, exp, sqrt, r_\n",
    "from numpy import sum as npsum, min as npmin, max as npmax, mean as npmean\n",
    "\n",
    "from scipy.io import loadmat\n",
    "\n",
    "import matplotlib.pyplot as plt\n",
    "from matplotlib.pyplot import figure, scatter, ylabel, \\\n",
    "    xlabel, title, xticks, yticks\n",
    "import matplotlib.dates as mdates\n",
    "\n",
    "plt.style.use('seaborn')\n",
    "\n",
    "from CONFIG import GLOBAL_DB, TEMPORARY_DB\n",
    "from ARPM_utils import save_plot, struct_to_dict, date_mtop\n",
    "from FitStochasticVolatilityModel import FitStochasticVolatilityModel\n",
    "from FilterStochasticVolatility import FilterStochasticVolatility\n",
    "from PlotTwoDimEllipsoid import PlotTwoDimEllipsoid"
   ]
  },
  {
   "cell_type": "markdown",
   "metadata": {},
   "source": [
    "## Upload database"
   ]
  },
  {
   "cell_type": "code",
   "execution_count": null,
   "metadata": {},
   "outputs": [],
   "source": [
    "try:\n",
    "    db = loadmat(os.path.join(GLOBAL_DB, 'db_Stocks'), squeeze_me=True)\n",
    "except FileNotFoundError:\n",
    "    db = loadmat(os.path.join(TEMPORARY_DB, 'db_Stocks'), squeeze_me=True)\n",
    "\n",
    "SPX = struct_to_dict(db['SPX'])\n",
    "\n",
    "# daily prices and log-prices\n",
    "price = SPX.Price_close\n",
    "date = SPX.Date\n",
    "logprice = log(price)"
   ]
  },
  {
   "cell_type": "markdown",
   "metadata": {},
   "source": [
    "## Compute weekly prices, returns and the log-square volatility\n",
    "##pick weekly data"
   ]
  },
  {
   "cell_type": "code",
   "execution_count": null,
   "metadata": {},
   "outputs": [],
   "source": [
    "w = arange(0, len(logprice), 5)\n",
    "date = array([date_mtop(i) for i in SPX.Date[w]])\n",
    "\n",
    "# prices\n",
    "price = price[w]\n",
    "\n",
    "# log-prices\n",
    "logprice_weekly = log(price)\n",
    "\n",
    "# log-returns\n",
    "ret = diff(logprice_weekly)\n",
    "\n",
    "# y = log(squared returns)\n",
    "y = log(ret ** 2)"
   ]
  },
  {
   "cell_type": "markdown",
   "metadata": {},
   "source": [
    "## Fit the stochastic volatility model"
   ]
  },
  {
   "cell_type": "code",
   "execution_count": null,
   "metadata": {},
   "outputs": [],
   "source": [
    "# initial parameters\n",
    "phi0 = 0\n",
    "phi1 = .99\n",
    "sQ = 0.14\n",
    "alpha = npmean(y)\n",
    "sR0 = 0.9\n",
    "mu1 = -2\n",
    "sR1 = 2\n",
    "initpar = [phi0, phi1, sQ, alpha, sR0, mu1, sR1]\n",
    "\n",
    "param, fval, exitflag, output = FitStochasticVolatilityModel(y, initpar)\n",
    "phi = param[0]\n",
    "phi1 = param[1]\n",
    "sQ = param[2]\n",
    "alpha = param[3]\n",
    "sR0 = param[4]\n",
    "mu1 = param[5]\n",
    "sR1 = param[6]\n",
    "_, log_hiddenvol2 = FilterStochasticVolatility(y, phi0, phi1, sQ, alpha, sR0, mu1, sR1)\n",
    "\n",
    "# hidden volatility\n",
    "hidden_vol = sqrt(exp((log_hiddenvol2)))"
   ]
  },
  {
   "cell_type": "markdown",
   "metadata": {},
   "source": [
    "## Compute the daily intra-week empirical volatility"
   ]
  },
  {
   "cell_type": "code",
   "execution_count": null,
   "metadata": {},
   "outputs": [],
   "source": [
    "t_ = len(w) - 1  # lenght of the time-series\n",
    "empirical_vol = zeros((1, t_))\n",
    "\n",
    "for index in range(t_):\n",
    "    empirical_vol[0,index] = 0.2 * sqrt(npsum(diff(logprice[w[index]:w[index + 1] - 1]) ** 2))"
   ]
  },
  {
   "cell_type": "markdown",
   "metadata": {},
   "source": [
    "## Compute location and dispersion needed to plot ellipsoid in the (log-ret vs empirical vol. scatter plot)"
   ]
  },
  {
   "cell_type": "code",
   "execution_count": null,
   "metadata": {},
   "outputs": [],
   "source": [
    "ret_vol = r_[ret.reshape(1,-1), empirical_vol]\n",
    "m = mean(ret_vol, 1, keepdims=True)\n",
    "s2 = cov(ret_vol)"
   ]
  },
  {
   "cell_type": "markdown",
   "metadata": {},
   "source": [
    "## Generate the figure"
   ]
  },
  {
   "cell_type": "code",
   "execution_count": null,
   "metadata": {},
   "outputs": [],
   "source": [
    "date_tick = arange(0, t_, 80)  # tick for the time axes\n",
    "xticklabels = date[date_tick[::2]]\n",
    "\n",
    "# colors\n",
    "c0 = [0.9, 0.5, 0]\n",
    "c1 = [.4, .4, 1]\n",
    "c2 = [0.3, 0.3, 0.3]\n",
    "myFmt = mdates.DateFormatter('%d-%b-%y')\n",
    "\n",
    "f = figure(figsize=(12,6))\n",
    "\n",
    "# axes for prices\n",
    "ax1 = plt.subplot2grid((2, 2), (0, 0))\n",
    "ax1.set_facecolor('white')\n",
    "plt.axis([min(date), max(date), npmin(price), npmax(price) + 5])\n",
    "ylabel('prices', color=c1)\n",
    "ax1.plot(date[1:], price[1:], color=c1)  # prices\n",
    "ax1.set_xticks(xticklabels)\n",
    "ax1.xaxis.set_major_formatter(myFmt)\n",
    "ax1.tick_params(axis='y', colors=c1)\n",
    "\n",
    "# axes for log-returns\n",
    "ax2 = ax1.twinx()\n",
    "ax2.grid(False)\n",
    "ax2.scatter(date[1:], ret, s=2.5, c=c2, marker='.')  # log-returns\n",
    "ax2.set_ylabel('log-returns', color=c2)\n",
    "ax2.tick_params(axis='y', colors=c2)\n",
    "\n",
    "# axes for hidden volatility\n",
    "ax3 = plt.subplot2grid((2, 2), (1, 0))\n",
    "ax3.set_facecolor('white')\n",
    "plt.axis([min(date), max(date), npmin(hidden_vol), npmax(hidden_vol)])\n",
    "ylabel('hidden vol',color=c1)\n",
    "title('VOLATILITY')\n",
    "ax3.plot(date[1:], hidden_vol, color=c1)  # hidden volatility\n",
    "ax3.grid(False)\n",
    "ax3.set_xticks(xticklabels)\n",
    "ax3.xaxis.set_major_formatter(myFmt)\n",
    "ax3.tick_params(axis='y', colors=c1)\n",
    "\n",
    "# axes for empirical volatility\n",
    "ax4 = ax3.twinx()\n",
    "ax4.grid(False)\n",
    "ax4.set_ylabel('empirical vol.', color=c0)\n",
    "ax4.plot(date[1:], empirical_vol.flatten(), color=c0, lw=1.3)  # empirical volatility\n",
    "ax4.tick_params(axis='y', colors=c0)\n",
    "\n",
    "# axes for the scatter plot (leverage effect)\n",
    "ax5 = plt.subplot2grid((2, 2), (0, 1), rowspan=2)\n",
    "\n",
    "plt.axis([npmin(ret), npmax(ret), 0, npmax(empirical_vol)])\n",
    "ylabel('empirical vol.')\n",
    "xlabel('log-returns')\n",
    "title('LEVERAGE EFFECT')\n",
    "scatter(ret, empirical_vol, 3, c2, '*')\n",
    "PlotTwoDimEllipsoid(m, s2, 1, 0, 0, c0, 2, fig=plt.gcf())\n",
    "plt.axis('auto')\n",
    "plt.tight_layout();\n",
    "plt.show()\n",
    "# save_plot(ax=plt.gca(), extension='png', scriptname=os.path.basename('.')[:-3], count=plt.get_fignums()[-1])"
   ]
  }
 ],
 "metadata": {
  "jupytext": {
   "encoding": "# -*- coding: utf-8 -*-",
   "executable": "/usr/bin/env python3"
  },
  "kernelspec": {
   "display_name": "Python 3",
   "language": "python",
   "name": "python3"
  }
 },
 "nbformat": 4,
 "nbformat_minor": 4
}
