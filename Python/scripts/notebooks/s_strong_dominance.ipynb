{
 "cells": [
  {
   "cell_type": "markdown",
   "metadata": {},
   "source": [
    "# s_strong_dominance [<img src=\"https://www.arpm.co/lab/icons/icon_permalink.png\" width=30 height=30 style=\"display: inline;\">](https://www.arpm.co/lab/redirect.php?code=s_strong_dominance&codeLang=Python)\n",
    "For details, see [here](https://www.arpm.co/lab/redirect.php?permalink=doc-s_strong_dominance)."
   ]
  },
  {
   "cell_type": "code",
   "execution_count": null,
   "metadata": {},
   "outputs": [],
   "source": [
    "import numpy as np\n",
    "from scipy import stats\n",
    "import matplotlib.pyplot as plt\n",
    "\n",
    "from arpym.statistics.simulate_normal import simulate_normal\n",
    "from arpym.tools.logo import add_logo"
   ]
  },
  {
   "cell_type": "markdown",
   "metadata": {},
   "source": [
    "## [Input parameters](https://www.arpm.co/lab/redirect.php?permalink=s_strong_dominance-parameters)"
   ]
  },
  {
   "cell_type": "code",
   "execution_count": null,
   "metadata": {},
   "outputs": [],
   "source": [
    "mu_ = np.array([1, 0])  # mean vector of jointly normal variables\n",
    "sigma2_ = np.array([[1, 0],\n",
    "                    [0, 1]])  # covariance matrix\n",
    "j_ = 1000  # number of simulations"
   ]
  },
  {
   "cell_type": "markdown",
   "metadata": {},
   "source": [
    "## [Step 1](https://www.arpm.co/lab/redirect.php?permalink=s_strong_dominance-implementation-step01): Simulate jointly normal random variables X_1 and X_2"
   ]
  },
  {
   "cell_type": "code",
   "execution_count": null,
   "metadata": {},
   "outputs": [],
   "source": [
    "x = simulate_normal(mu_, sigma2_, j_)\n",
    "x_1, x_2 = x[:, 0], x[:, 1]"
   ]
  },
  {
   "cell_type": "markdown",
   "metadata": {},
   "source": [
    "## [Step 2](https://www.arpm.co/lab/redirect.php?permalink=s_strong_dominance-implementation-step02): Simulate X_3 = X_2 + Y, Y chi-squared with 1 degree of freedom"
   ]
  },
  {
   "cell_type": "code",
   "execution_count": null,
   "metadata": {},
   "outputs": [],
   "source": [
    "x_3 = x_2 + stats.chi2.rvs(1, size=(1, j_))"
   ]
  },
  {
   "cell_type": "markdown",
   "metadata": {},
   "source": [
    "## Plots"
   ]
  },
  {
   "cell_type": "code",
   "execution_count": null,
   "metadata": {},
   "outputs": [],
   "source": [
    "# set figure specifications\n",
    "plt.style.use('arpm')\n",
    "f, ax = plt.subplots(1, 2, figsize=(1280.0/72.0, 720.0/72.0), dpi=72.0,\n",
    "                     subplot_kw={'aspect': 'equal'})\n",
    "\n",
    "# create subplot for general case: x_2 versus x_1\n",
    "plt.sca(ax[0])\n",
    "plt.scatter(x_2, x_1, marker='.')\n",
    "min1 = np.floor(mu_[0]-4*np.sqrt(sigma2_[0, 0]))\n",
    "min2 = np.floor(mu_[1]-4*np.sqrt(sigma2_[1, 1]))\n",
    "max1 = np.ceil(mu_[0]+4*np.sqrt(sigma2_[0, 0]))\n",
    "max2 = np.ceil(mu_[1]+4*np.sqrt(sigma2_[1, 1]))\n",
    "plt.axis([min(min1, min2), max(max1, max2), min(min1, min2), max(max1, max2)])\n",
    "plt.plot(np.linspace(min(min1, min2), max(max1, max2)),\n",
    "         np.linspace(min(min1, min2), max(max1, max2)),\n",
    "         color='black', lw=2)\n",
    "plt.title('General case', fontsize=20, fontweight='bold')\n",
    "plt.xlabel(r'$X_2$', fontsize=17)\n",
    "plt.ylabel(r'$X_1$', fontsize=17)\n",
    "plt.xticks(fontsize=14)\n",
    "plt.yticks(fontsize=14)\n",
    "ax[0].spines['top'].set_visible(False)\n",
    "ax[0].spines['right'].set_visible(False)\n",
    "\n",
    "# create subplot of strong dominance: x_2 versus x_3\n",
    "plt.sca(ax[1])\n",
    "plt.scatter(x_2, x_3, marker='.')\n",
    "plt.axis([min2, max2+4, min2, max2+4])\n",
    "plt.plot(np.linspace(min2, max2+4),\n",
    "         np.linspace(min2, max2+4),\n",
    "         color='black', lw=2)\n",
    "plt.title('Strong dominance', fontsize=20, fontweight='bold')\n",
    "plt.xlabel(r'$X_2$', fontsize=17)\n",
    "plt.ylabel(r'$X_3$', fontsize=17)\n",
    "plt.xticks(fontsize=14)\n",
    "plt.yticks(fontsize=14)\n",
    "ax[1].spines['top'].set_visible(False)\n",
    "ax[1].spines['right'].set_visible(False)\n",
    "\n",
    "add_logo(f, location=4, set_fig_size=False)\n",
    "plt.tight_layout()"
   ]
  }
 ],
 "metadata": {
  "jupytext": {
   "encoding": "# -*- coding: utf-8 -*-",
   "executable": "/usr/bin/env python3"
  },
  "kernelspec": {
   "display_name": "Python 3",
   "language": "python",
   "name": "python3"
  }
 },
 "nbformat": 4,
 "nbformat_minor": 4
}
