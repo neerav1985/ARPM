{
 "cells": [
  {
   "cell_type": "markdown",
   "metadata": {},
   "source": [
    "# S_PricingScenarioBased [<img src=\"https://www.arpm.co/lab/icons/icon_permalink.png\" width=30 height=30 style=\"display: inline;\">](https://www.arpm.co/lab/redirect.php?code=S_PricingScenarioBased&codeLang=Python)\n",
    "For details, see [here](https://www.arpm.co/lab/redirect.php?permalink=eb-chain-hybrid-pricing-scen)."
   ]
  },
  {
   "cell_type": "markdown",
   "metadata": {},
   "source": [
    "## Prepare the environment"
   ]
  },
  {
   "cell_type": "code",
   "execution_count": null,
   "metadata": {},
   "outputs": [],
   "source": [
    "import os\n",
    "import os.path as path\n",
    "import sys\n",
    "\n",
    "from scipy.interpolate import interp1d\n",
    "\n",
    "sys.path.append(path.abspath('../../functions-legacy'))\n",
    "\n",
    "import numpy as np\n",
    "from numpy import arange, reshape, array, zeros, where, log, exp, sqrt, tile, r_\n",
    "from numpy import max as npmax\n",
    "\n",
    "import warnings\n",
    "warnings.filterwarnings('ignore')\n",
    "\n",
    "from scipy.io import savemat\n",
    "\n",
    "import matplotlib.pyplot as plt\n",
    "\n",
    "plt.style.use('seaborn')\n",
    "\n",
    "from CONFIG import TEMPORARY_DB\n",
    "from ARPM_utils import interpne\n",
    "from PerpetualAmericanCall import PerpetualAmericanCall\n",
    "from blsprice import blsprice\n",
    "\n",
    "# script S_ProjectionHybridDefaultableZCB runs the script that projects the market risk drivers (S_ProjectionBootstrap) and generates scenarios for the default indicators\n",
    "%run S_ProjectionHybridDefaultableZCB.ipynb"
   ]
  },
  {
   "cell_type": "markdown",
   "metadata": {},
   "source": [
    "## Stocks. Compute the scenarios of the ex-ante P&L of the stocks via exact pricing starting from the scenarios of the log-values at the horizon"
   ]
  },
  {
   "cell_type": "code",
   "execution_count": null,
   "metadata": {},
   "outputs": [],
   "source": [
    "# current values\n",
    "Stocks.v_tnow = exp(Stocks.x_tnow)\n",
    "# values at the horizon\n",
    "Stocks.V_thor = exp(X_path[:Stocks.i_, -1,:])\n",
    "# P&L's\n",
    "Stocks.Pi = Stocks.V_thor - tile(Stocks.v_tnow.reshape(-1,1), (1, j_))"
   ]
  },
  {
   "cell_type": "markdown",
   "metadata": {},
   "source": [
    "## Defaultable Zero Coupon Bonds. Compute the scenarios of the ex-ante market and credit P&L of the defaultable zero-coupon bond starting from the scenarios of the path of the shadow rates and of the default indicators\n",
    "##Note: for simplicity we didn't model the spreads. The yields of the ZCB's are those of the reference curve (for the issuers, regardless of their rating)."
   ]
  },
  {
   "cell_type": "code",
   "execution_count": null,
   "metadata": {},
   "outputs": [],
   "source": [
    "# ## current values\n",
    "\n",
    "Bonds.tau_tnow = array([160, 80, 70, 50, 140]) / 252  # time to maturity of the bonds at tnow\n",
    "ShadowRates_tnow = X_path[Rates.idx, 0, 0]  # shadow yield curve at tnow\n",
    "interp = interp1d(Rates.tau, ShadowRates_tnow,fill_value='extrapolate')  # interpolate the curve to obtain the shadow yields for the relevant time to maturity\n",
    "shadowy_tnow = interp(Bonds.tau_tnow)\n",
    "y_tnow = PerpetualAmericanCall(shadowy_tnow, {'eta':Rates.eta})  # from shadow yields to yields\n",
    "\n",
    "Bonds.v_tnow = zeros((Bonds.n_, 1))\n",
    "for n in range(Bonds.n_):\n",
    "    Bonds.v_tnow[n]=exp((-Bonds.tau_tnow[n])*y_tnow[n])  # exact pricing function\n",
    "\n",
    "# exposures at default\n",
    "Bonds.EAD=zeros((Bonds.n_, j_, tau_proj))\n",
    "\n",
    "defaulted = {}\n",
    "for tau in range(tau_proj):\n",
    "    indi, indj =where(Bonds.I_D[:, tau,:])\n",
    "    defaulted[tau] = r_['-1',indi.reshape(-1,1),indj.reshape(-1,1)]\n",
    "    if tau > 0:\n",
    "        defaulted[tau]=np.setdiff1d(defaulted[tau], defaulted[tau-1], 0)\n",
    "    if not defaulted[tau]:\n",
    "        Bonds.tau_tstep=Bonds.tau_tnow-tau / 252  # time to maturity of the bonds at the projection step tau\n",
    "        ShadowRates_tstep=X_path[Rates.idx, tau+1,:]  # shadow yield curve at the projection step tau\n",
    "        interp = interp1d(Rates.tau, ShadowRates_tstep.T, fill_value='extrapolate')\n",
    "        Shadowy_tstep = interp(Bonds.tau_tstep)  # interpolate the curve to obtain the shadow rates for the relevant time to maturity\n",
    "        Y_thor = PerpetualAmericanCall(Shadowy_tstep, {'eta': Rates.eta})  # from shadow yields to yields\n",
    "        for n in range(defaulted[tau].shape[0]):\n",
    "            # exposure at default\n",
    "            Bonds.EAD[defaulted[tau][n, 0], tau, defaulted[tau][n, 1]]= exp(-Bonds.tau_tstep[defaulted[tau][n, 0]]@Y_thor[defaulted[tau][n, 0], defaulted[tau][n, 1]])\n",
    "\n",
    "# scenarios for the market and credit value at the horizon\n",
    "Bonds.recoveryrates=[.6, .6, .5, .4, .7]\n",
    "\n",
    "Bonds.tau_thor=Bonds.tau_tnow-tau_proj / 252  # time to maturity of the bonds at the projection step tau\n",
    "ShadowRates_thor=X_path[Rates.idx, tau+1,:]  # shadow yield curve at the projection step tau\n",
    "\n",
    "interp = interp1d(Rates.tau, ShadowRates_thor.T, fill_value='extrapolate')\n",
    "Shadowy_thor = interp(Bonds.tau_thor).T  # interpolate the curve to obtain the shadow rates for the relevant time to maturity\n",
    "Y_thor = PerpetualAmericanCall(Shadowy_thor, {'eta': Rates.eta})  # from shadow yields to yields\n",
    "\n",
    "Bonds.V_thor = zeros((Bonds.n_,Y_thor.shape[1]))\n",
    "Bonds.V_mc_thor = zeros((Bonds.n_,Y_thor.shape[1]))\n",
    "\n",
    "for n in range(Bonds.n_):\n",
    "    Bonds.V_thor[n,:]= exp(-Bonds.tau_thor[n]*Y_thor[n,:])\n",
    "    Bonds.V_mc_thor[n,:]=npmax(Bonds.I_D[n,:,:]*Bonds.recoveryrates[n]*Bonds.EAD[n,:,:], 1).T + (1-Bonds.I_D[n,:,-1])*Bonds.V_thor[n, :]\n",
    "\n",
    "# P&L's\n",
    "Bonds.Pi = Bonds.V_mc_thor - tile(Bonds.v_tnow, (1, j_))"
   ]
  },
  {
   "cell_type": "markdown",
   "metadata": {},
   "source": [
    "## Pricing: Call options"
   ]
  },
  {
   "cell_type": "code",
   "execution_count": null,
   "metadata": {},
   "outputs": [],
   "source": [
    "Options.strikes = array([1100, 1150, 1200])\n",
    "\n",
    "# Implied volatility paths (reshaped)\n",
    "\n",
    "implvol_idx = arange(Stocks.i_ + Bonds.i_ + 1,i_)\n",
    "LogImplVol_path = reshape(X_path[implvol_idx,:,:], (ImplVol.n_tau, ImplVol.n_moneyness, tau_proj + 1, j_),'F')\n",
    "\n",
    "# current value\n",
    "Options.tau_tnow = array([30, 30, 30]) / 252  # time to expiry of the options at tnow (days)\n",
    "shortrate_tnow = PerpetualAmericanCall(Rates.x_tnow[0], {'eta':Rates.eta})\n",
    "Options.v_tnow = zeros((Options.n_, 1))  # initialize\n",
    "\n",
    "Moneyness_tnow = zeros((Options.n_,1))\n",
    "for n in range(Options.n_):\n",
    "    Moneyness_tnow[n] = log(SPX.x_tnow / Options.strikes[n]) / sqrt(Options.tau_tnow[n])  # Moneyness\n",
    "    # interpolated log-implied volatility\n",
    "    logimplVol_interp_tnow = interpne(LogImplVol_path[:,:, 0,0], r_['-1',Options.tau_tnow[n], Moneyness_tnow[n]], [ImplVol.tau, ImplVol.moneyness_grid])\n",
    "    Options.v_tnow[n] = blsprice(exp(SPX.x_tnow), Options.strikes[n], shortrate_tnow, Options.tau_tnow[n], exp(logimplVol_interp_tnow))\n",
    "\n",
    "# value at the horizon\n",
    "SPX_thor = exp(X_path[implvol_idx[0] - 1, -1,:])\n",
    "Shortrate_thor = PerpetualAmericanCall(X_path[Rates.idx[0], -1,:],{'eta':Rates.eta}).T\n",
    "Options.tau_thor = Options.tau_tnow - tau_proj / 252  # time to expiry of the options at the horizon\n",
    "Options.V_thor = zeros((Options.n_,j_))\n",
    "Moneyness_thor = zeros((Options.n_,j_))\n",
    "for n in range(Options.n_):\n",
    "    for j in range(j_):\n",
    "        Moneyness_thor[n, j] = log(SPX_thor[j] / Options.strikes[n]) / sqrt(Options.tau_thor[n])  # Moneyness\n",
    "        LogImplVol_interp_thor = interpne(LogImplVol_path[:,:, -1, j], r_[Options.tau_thor[n], Moneyness_thor[n, j]]\n",
    "        , [ImplVol.tau,ImplVol.moneyness_grid])\n",
    "        Options.V_thor[n, j] = blsprice(SPX_thor[j], Options.strikes[n], Shortrate_thor[j], Options.tau_thor[n], exp(LogImplVol_interp_thor))\n",
    "\n",
    "# P&L's\n",
    "Options.Pi = Options.V_thor - tile(Options.v_tnow, (1, j_))"
   ]
  },
  {
   "cell_type": "markdown",
   "metadata": {},
   "source": [
    "## Current values (all)"
   ]
  },
  {
   "cell_type": "code",
   "execution_count": null,
   "metadata": {},
   "outputs": [],
   "source": [
    "v_tnow = r_[Stocks.v_tnow.flatten(), Bonds.v_tnow.flatten(), Options.v_tnow.flatten()]"
   ]
  },
  {
   "cell_type": "markdown",
   "metadata": {},
   "source": [
    "## Ex-ante P&L's scenarios (all)"
   ]
  },
  {
   "cell_type": "code",
   "execution_count": null,
   "metadata": {},
   "outputs": [],
   "source": [
    "Pi = r_[Stocks.Pi, Bonds.Pi, Options.Pi]\n",
    "\n",
    "\n",
    "Stocks = {k:v for k,v in vars(Stocks).items() if not k.startswith('_') and not isinstance(v,property)}\n",
    "Bonds = {k:v for k,v in vars(Bonds).items() if not k.startswith('_') and not isinstance(v,property)}\n",
    "Options = {k:v for k,v in vars(Options).items() if not k.startswith('_') and not isinstance(v,property)}\n",
    "SPX = {k:v for k,v in vars(SPX).items() if not k.startswith('_') and not isinstance(v,property)}\n",
    "\n",
    "varnames_to_save = ['Stocks', 'Bonds', 'Options', 'SPX', 'SPX_thor', 'n_', 't_', 'j_', 'tau_proj', 'v_tnow', 'Pi', 'p']\n",
    "vars_to_save = {varname: var for varname, var in locals().items() if isinstance(var, (np.ndarray, np.float, np.int, dict)) and varname in varnames_to_save}\n",
    "savemat(os.path.join(TEMPORARY_DB, 'db_PricingScenarioBased'), vars_to_save)\n"
   ]
  }
 ],
 "metadata": {
  "jupytext": {
   "encoding": "# -*- coding: utf-8 -*-",
   "executable": "/usr/bin/env python3"
  },
  "kernelspec": {
   "display_name": "Python 3",
   "language": "python",
   "name": "python3"
  }
 },
 "nbformat": 4,
 "nbformat_minor": 4
}
