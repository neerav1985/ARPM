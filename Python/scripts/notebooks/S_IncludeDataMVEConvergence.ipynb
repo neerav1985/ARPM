{
 "cells": [
  {
   "cell_type": "markdown",
   "metadata": {},
   "source": [
    "# S_IncludeDataMVEConvergence [<img src=\"https://www.arpm.co/lab/icons/icon_permalink.png\" width=30 height=30 style=\"display: inline;\">](https://www.arpm.co/lab/redirect.php?code=S_IncludeDataMVEConvergence&codeLang=Python)\n",
    "For details, see [here](https://www.arpm.co/lab/redirect.php?permalink=ExerMVEConvergence)."
   ]
  },
  {
   "cell_type": "markdown",
   "metadata": {},
   "source": [
    "## Prepare the environment"
   ]
  },
  {
   "cell_type": "code",
   "execution_count": null,
   "metadata": {},
   "outputs": [],
   "source": [
    "import os\n",
    "import os.path as path\n",
    "import sys\n",
    "\n",
    "sys.path.append(path.abspath('../../functions-legacy'))\n",
    "\n",
    "from numpy import r_\n",
    "\n",
    "from scipy.io import loadmat\n",
    "\n",
    "import matplotlib.pyplot as plt\n",
    "from matplotlib.pyplot import figure, xlim, ylim, scatter, ylabel, \\\n",
    "    xlabel\n",
    "\n",
    "plt.style.use('seaborn')\n",
    "\n",
    "from CONFIG import GLOBAL_DB, TEMPORARY_DB\n",
    "from ARPM_utils import save_plot, struct_to_dict\n",
    "from PlotTwoDimEllipsoid import PlotTwoDimEllipsoid\n",
    "from Price2AdjustedPrice import Price2AdjustedPrice\n",
    "from GarchResiduals import GarchResiduals\n",
    "from IncludeDataMVE import IncludeDataMVE"
   ]
  },
  {
   "cell_type": "markdown",
   "metadata": {},
   "source": [
    "## Upload the database"
   ]
  },
  {
   "cell_type": "code",
   "execution_count": null,
   "metadata": {},
   "outputs": [],
   "source": [
    "try:\n",
    "    db = loadmat(os.path.join(GLOBAL_DB, 'db_Stocks'), squeeze_me=True)\n",
    "except FileNotFoundError:\n",
    "    db = loadmat(os.path.join(TEMPORARY_DB, 'db_Stocks'), squeeze_me=True)\n",
    "\n",
    "StocksSPX = struct_to_dict(db['StocksSPX'])"
   ]
  },
  {
   "cell_type": "markdown",
   "metadata": {},
   "source": [
    "## Compute the dividend-adjusted returns of two stocks"
   ]
  },
  {
   "cell_type": "code",
   "execution_count": null,
   "metadata": {},
   "outputs": [],
   "source": [
    "n_ = 2\n",
    "t_ = 750\n",
    "\n",
    "_, x_1 = Price2AdjustedPrice(StocksSPX.Date.reshape(1,-1), StocksSPX.Prices[[25],:], StocksSPX.Dividends[25])  # Cisco Systems Inc\n",
    "_, x_2 = Price2AdjustedPrice(StocksSPX.Date.reshape(1,-1), StocksSPX.Prices[[5],:], StocksSPX.Dividends[5])  # General Electric\n",
    "date = StocksSPX.Date[1:]\n",
    "\n",
    "x_1 = x_1[[0],-t_:]\n",
    "x_2 = x_2[[0],-t_:]\n",
    "date = date[-t_:]"
   ]
  },
  {
   "cell_type": "code",
   "execution_count": null,
   "metadata": {},
   "outputs": [],
   "source": [
    "# ## Compute the invariants using GARCH(1,1) fit\n",
    "epsi = GarchResiduals(r_[x_1,x_2])"
   ]
  },
  {
   "cell_type": "code",
   "execution_count": null,
   "metadata": {},
   "outputs": [],
   "source": [
    "# ## Compute mean and covariance at each iterative step of the algorithm\n",
    "\n",
    "mu, sigma2, bound = IncludeDataMVE(epsi)"
   ]
  },
  {
   "cell_type": "markdown",
   "metadata": {},
   "source": [
    "## Generate a figure showing the ellipsoids computed at each iterative step of the algorithm."
   ]
  },
  {
   "cell_type": "code",
   "execution_count": null,
   "metadata": {},
   "outputs": [],
   "source": [
    "k_ = mu.shape[1]\n",
    "c_thin = [1, 0.5, 0.5]\n",
    "\n",
    "Xlim = [min(epsi[0]) - 1, max(epsi[0])+1]\n",
    "Ylim = [min(epsi[1]) - 1, max(epsi[1])+1]\n",
    "\n",
    "figure()\n",
    "\n",
    "scatter(epsi[0], epsi[1], 3, 'b', '*')\n",
    "xlabel('$\\epsilon_1$')\n",
    "ylabel('$\\epsilon_2$')\n",
    "xlim(Xlim)\n",
    "ylim(Ylim)\n",
    "\n",
    "for k in range(k_ - 1):\n",
    "    PlotTwoDimEllipsoid(mu[:,[k]], sigma2[:,:,k], 1, 0, 0, c_thin, 1.2)\n",
    "PlotTwoDimEllipsoid(mu[:,[k_-1]], sigma2[:,:, k_-1], 1, 0, 0, 'r', 2)\n",
    "iterT = 'Number of Iterations:  % 3.0f'%k_\n",
    "plt.text(Xlim[0] + 0.5, Ylim[1] + 0.1, iterT, color='k',horizontalalignment='left',verticalalignment='bottom')\n",
    "\n",
    "scatter(epsi[0, bound], epsi[1, bound], 15, 'b')\n",
    "scatter(epsi[0, bound], epsi[1, bound], 40, 'k');\n",
    "# save_plot(ax=plt.gca(), extension='png', scriptname=os.path.basename('.')[:-3], count=plt.get_fignums()[-1])"
   ]
  }
 ],
 "metadata": {
  "jupytext": {
   "encoding": "# -*- coding: utf-8 -*-",
   "executable": "/usr/bin/env python3"
  },
  "kernelspec": {
   "display_name": "Python 3",
   "language": "python",
   "name": "python3"
  }
 },
 "nbformat": 4,
 "nbformat_minor": 4
}
