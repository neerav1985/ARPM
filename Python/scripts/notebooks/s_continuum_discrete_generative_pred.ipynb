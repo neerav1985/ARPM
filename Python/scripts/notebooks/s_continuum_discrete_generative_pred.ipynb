{
 "cells": [
  {
   "cell_type": "markdown",
   "metadata": {},
   "source": [
    "# s_continuum_discrete_generative_pred [<img src=\"https://www.arpm.co/lab/icons/icon_permalink.png\" width=30 height=30 style=\"display: inline;\">](https://www.arpm.co/lab/redirect.php?code=s_continuum_discrete_generative_pred&codeLang=Python)\n",
    "For details, see [here](https://www.arpm.co/lab/redirect.php?permalink=s_continuum_discrete_generative_pred)."
   ]
  },
  {
   "cell_type": "code",
   "execution_count": null,
   "metadata": {},
   "outputs": [],
   "source": [
    "import numpy as np\n",
    "import matplotlib.pyplot as plt\n",
    "from matplotlib.patches import Rectangle\n",
    "\n",
    "from arpym.statistics.simulate_normal import simulate_normal\n",
    "from arpym.tools.logo import add_logo"
   ]
  },
  {
   "cell_type": "markdown",
   "metadata": {},
   "source": [
    "## [Input parameters](https://www.arpm.co/lab/redirect.php?permalink=s_continuum_discrete_generative_pred-parameters)"
   ]
  },
  {
   "cell_type": "code",
   "execution_count": null,
   "metadata": {},
   "outputs": [],
   "source": [
    "p = 0.6  # unconditional probability of the true dist\n",
    "q = 0.5  # unconditional probability of the model\n",
    "mu_x_0 = 3.5  # conditional expectation of the true distribution\n",
    "mu_x_1 = 6  # conditional expectation of the true distribution\n",
    "m_0 = 3  # conditional expectation of the model\n",
    "m_1 = 5.5  # conditional expectation of the model\n",
    "sig2_x_0 = 1.21  # conditional variance\n",
    "sig2_x_1 = 0.64  # conditional variance\n",
    "j_ = 10**5  # number of simulations"
   ]
  },
  {
   "cell_type": "markdown",
   "metadata": {},
   "source": [
    "## [Step 1](https://www.arpm.co/lab/redirect.php?permalink=s_continuum_discrete_generative_pred-implementation-step01): Generate samples"
   ]
  },
  {
   "cell_type": "code",
   "execution_count": null,
   "metadata": {
    "lines_to_end_of_cell_marker": 0,
    "lines_to_next_cell": 1
   },
   "outputs": [],
   "source": [
    "z = np.random.binomial(1, p, 100)\n",
    "x = (1-z)*simulate_normal(mu_x_0, sig2_x_0, 100) +\\\n",
    "    z*simulate_normal(mu_x_1, sig2_x_1, 100)\n",
    "z_q = np.random.binomial(1, q, j_)\n",
    "x_q = (1-z_q)*simulate_normal(m_0, 1, j_) + z_q*simulate_normal(m_1, 1, j_)\n",
    "\n",
    "no_points_grid = 500\n",
    "x_grid = np.linspace(min(np.percentile(x, 1), np.percentile(x_q, 1)),\n",
    "                     max(np.percentile(x, 99), np.percentile(x_q, 99)),\n",
    "                     no_points_grid)"
   ]
  },
  {
   "cell_type": "markdown",
   "metadata": {},
   "source": [
    "## [Step 2](https://www.arpm.co/lab/redirect.php?permalink=s_continuum_discrete_generative_pred-implementation-step02): Compute expected score of the model"
   ]
  },
  {
   "cell_type": "code",
   "execution_count": null,
   "metadata": {},
   "outputs": [],
   "source": [
    "\n",
    "def norm_pdf(x, mu, sig):\n",
    "    return 1/(sig*np.sqrt(2*np.pi))*np.exp(-((x-mu)**2/(2*sig**2)))\n",
    "\n",
    "\n",
    "# postulated model\n",
    "def f_m0m1q(x, z):\n",
    "    return q**z*(1-q)**(1-z)*norm_pdf(x-m_0*(1-z)-m_1*z, 0, 1)\n",
    "\n",
    "\n",
    "exp_log_score = np.mean(-np.log(f_m0m1q(x, z)))"
   ]
  },
  {
   "cell_type": "markdown",
   "metadata": {},
   "source": [
    "## Plots"
   ]
  },
  {
   "cell_type": "code",
   "execution_count": null,
   "metadata": {},
   "outputs": [],
   "source": [
    "plt.style.use('arpm')\n",
    "# colors\n",
    "teal = [0.2344, 0.582, 0.5664]\n",
    "light_green_2 = [0.4781, 0.6406, 0.4031]\n",
    "light_grey = [0.4, 0.4, 0.4]\n",
    "colf = [0, 0.5412, 0.9020]\n",
    "markersize = 60\n",
    "j_plot = 10**2  # number of plotted simulations\n",
    "# X|z=0 and X|z=1 pdf\n",
    "\n",
    "fx_0 = norm_pdf(x_grid, mu_x_0, sig2_x_0**0.5)\n",
    "fx_1 = norm_pdf(x_grid, mu_x_1, sig2_x_1**0.5)\n",
    "\n",
    "fig = plt.figure(dpi=72)\n",
    "# plot locations\n",
    "pos1 = [0.346, 0.2589, 0.56888, 0.7111]\n",
    "pos2 = [0.336, 0.03, 0.56888, 0.1889]\n",
    "pos3 = [0.157, 0.2589, 0.16, 0.7111]\n",
    "pos4 = [0, 0.2589, 0.08, 0.1889]\n",
    "# top right plot\n",
    "ax1 = fig.add_axes(pos1)\n",
    "ax1.set_xlim([-0.07, 1.2])\n",
    "ax1.set_ylim([x_grid[0], x_grid[-1]])\n",
    "xlimm = ax1.get_xlim()\n",
    "ylimm = ax1.get_ylim()\n",
    "ax1.set_facecolor('none')\n",
    "ax1.set_xticks([0, 1])\n",
    "ax1.set_yticks(np.arange(np.ceil(ylimm[0]), np.floor(ylimm[1])+1))\n",
    "ax1.set_xlabel('$Z$', labelpad=-30, fontsize=14)\n",
    "ax1.set_ylabel('$X$', labelpad=-30, fontsize=14)\n",
    "# axes\n",
    "ax1.plot([0, 0], ylimm, 'k', lw=0.5)\n",
    "ax1.plot(xlimm,\n",
    "         [ylimm[0]+.05*(ylimm[1]-ylimm[0]), ylimm[0]+.05*(ylimm[1]-ylimm[0])],\n",
    "         'k', lw=0.5)\n",
    "# lines through means\n",
    "ax1.plot(xlimm, [mu_x_0, mu_x_0], xlimm, [mu_x_1, mu_x_1],\n",
    "         c=light_grey, lw=0.5)\n",
    "# joint\n",
    "l5 = ax1.scatter(z, x, s=markersize*3,\n",
    "                 edgecolor=light_grey, c='none', marker='o')\n",
    "ax1.grid(False)\n",
    "plt.box(False)\n",
    "\n",
    "# bottom plot\n",
    "ax2 = fig.add_axes(pos2)\n",
    "ax2.set_xlim([0, 1.27])\n",
    "ax2.set_ylim([-0.01, 1.03])\n",
    "ax2.set_facecolor('none')\n",
    "ax2.set_yticks([0, 0.5, 1])\n",
    "ax2.yaxis.tick_right()\n",
    "ax2.grid(True, color=[0.4, 0.4, 0.4])\n",
    "ax2.set_xticks([])\n",
    "# Bernoulli(p), Bernoulli(q)\n",
    "l3 = ax2.bar(0.1, 1-p, .2, color='none', edgecolor=teal, lw=2, align='center')\n",
    "l4 = ax2.bar(0.1, 1-q, 0.1, color=light_green_2, alpha=0.7, align='center')\n",
    "ax2.bar(1.1, p, 0.2, bottom=1-p, color='none',\n",
    "        edgecolor=teal, lw=2, align='center')\n",
    "ax2.bar(1.1, q, 0.1, bottom=1-q,\n",
    "        color=light_green_2, alpha=0.7, align='center')\n",
    "ax2.plot([0.15, 1.05], [1-q, 1-q], c=light_green_2, lw=0.5)\n",
    "ax2.plot([0.2, 1], [1-p, 1-p], c=teal, lw=0.5)\n",
    "plt.box(False)\n",
    "\n",
    "# left plot\n",
    "ax3 = fig.add_axes(pos3)\n",
    "ax3.set_xlim([0, np.max([fx_0, fx_1])])\n",
    "ax3.set_ylim([x_grid[0], x_grid[-1]])\n",
    "ax3.set_facecolor('none')\n",
    "ax3.set_xticks([])\n",
    "ax3.set_yticks([])\n",
    "ax3.grid(False)\n",
    "ax3.invert_xaxis()\n",
    "ax3.hist(x_q, bins='auto', density=True, facecolor=light_green_2,\n",
    "         orientation='horizontal')\n",
    "l1, = ax3.plot((1-p)*fx_0 + p*fx_1, x_grid, color=teal, lw=2)\n",
    "plt.box(False)\n",
    "\n",
    "# Expected score plot\n",
    "ax4 = fig.add_axes(pos4)\n",
    "ax4.set_xlim([0, 1])\n",
    "ax4.set_ylim([0, 1.05*exp_log_score])\n",
    "ax4.set_facecolor('none')\n",
    "ax4.grid(True, color=[0.9, 0.9, 0.9])\n",
    "ax4.set_xticks([])\n",
    "ax4.bar(0.5, exp_log_score, 1, color=colf, align='center')\n",
    "ax4.set_title('Expected score',\n",
    "              fontdict={'fontsize': '17', 'fontweight': 'bold'},\n",
    "              loc='left')\n",
    "\n",
    "# dummy plot for histogram\n",
    "l2 = Rectangle((0, 0), 1, 1, color=light_green_2, ec='none')\n",
    "fig.legend((l1, l2, l3, l4, l5),\n",
    "           ('Marginal X', 'Marginal X model',\n",
    "            'Marginal Z', 'Marginal Z model', 'Joint (X,Z)'), 'lower left',\n",
    "           prop={'size': '17', 'weight': 'bold'},\n",
    "           facecolor='none', edgecolor='none')\n",
    "\n",
    "add_logo(fig)"
   ]
  }
 ],
 "metadata": {
  "jupytext": {
   "encoding": "# -*- coding: utf-8 -*-",
   "executable": "/usr/bin/env python3"
  },
  "kernelspec": {
   "display_name": "Python 3",
   "language": "python",
   "name": "python3"
  }
 },
 "nbformat": 4,
 "nbformat_minor": 4
}
