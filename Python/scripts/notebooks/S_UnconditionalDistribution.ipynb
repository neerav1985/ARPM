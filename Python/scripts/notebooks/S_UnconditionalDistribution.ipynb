{
 "cells": [
  {
   "cell_type": "markdown",
   "metadata": {},
   "source": [
    "# S_UnconditionalDistribution [<img src=\"https://www.arpm.co/lab/icons/icon_permalink.png\" width=30 height=30 style=\"display: inline;\">](https://www.arpm.co/lab/redirect.php?code=S_UnconditionalDistribution&codeLang=Python)\n",
    "For details, see [here](https://www.arpm.co/lab/redirect.php?permalink=ex-uncond-distrib-p-and-l)."
   ]
  },
  {
   "cell_type": "markdown",
   "metadata": {},
   "source": [
    "## Prepare the environment"
   ]
  },
  {
   "cell_type": "code",
   "execution_count": null,
   "metadata": {},
   "outputs": [],
   "source": [
    "import os\n",
    "import os.path as path\n",
    "import sys\n",
    "\n",
    "sys.path.append(path.abspath('../../functions-legacy'))\n",
    "from collections import namedtuple\n",
    "\n",
    "import numpy as np\n",
    "from numpy import arange, array, linspace, round, log, exp\n",
    "from numpy import sum as npsum, min as npmin, max as npmax\n",
    "\n",
    "from scipy.io import loadmat\n",
    "\n",
    "import matplotlib.pyplot as plt\n",
    "from matplotlib.pyplot import figure, bar, xlim, ylim, scatter, ylabel, \\\n",
    "    title\n",
    "import matplotlib.dates as mdates\n",
    "\n",
    "plt.style.use('seaborn')\n",
    "\n",
    "from CONFIG import GLOBAL_DB, TEMPORARY_DB\n",
    "from ARPM_utils import save_plot, date_mtop\n",
    "from HistogramFP import HistogramFP\n",
    "from GarchResiduals import GarchResiduals\n",
    "from Stats import Stats\n",
    "from ColorCodedFP import ColorCodedFP"
   ]
  },
  {
   "cell_type": "markdown",
   "metadata": {},
   "source": [
    "## Upload database"
   ]
  },
  {
   "cell_type": "code",
   "execution_count": null,
   "metadata": {},
   "outputs": [],
   "source": [
    "try:\n",
    "    db = loadmat(os.path.join(GLOBAL_DB, 'db_MomStratPL'), squeeze_me=True)\n",
    "except FileNotFoundError:\n",
    "    db = loadmat(os.path.join(TEMPORARY_DB, 'db_MomStratPL'), squeeze_me=True)\n",
    "\n",
    "dailypnl = db['dailypnl']\n",
    "dates = db['dates']"
   ]
  },
  {
   "cell_type": "markdown",
   "metadata": {},
   "source": [
    "## Select data and set flexible probabilities"
   ]
  },
  {
   "cell_type": "code",
   "execution_count": null,
   "metadata": {},
   "outputs": [],
   "source": [
    "y = dailypnl  # select observations\n",
    "t_ = len(dates)\n",
    "\n",
    "lam = log(2) / 180\n",
    "p = exp(-lam *arange(len(y),0,-1)).reshape(1,-1)\n",
    "p = p /npsum(p)  # FP-profile: exponential decay 6 months\n",
    "ens = exp(npsum(-p*log(p)))  # effective number of scenarios"
   ]
  },
  {
   "cell_type": "markdown",
   "metadata": {},
   "source": [
    "## Compute the invariants using GARCH(1,1) fit"
   ]
  },
  {
   "cell_type": "code",
   "execution_count": null,
   "metadata": {},
   "outputs": [],
   "source": [
    "epsi = GarchResiduals(y[np.newaxis,...], t_, p)"
   ]
  },
  {
   "cell_type": "markdown",
   "metadata": {},
   "source": [
    "## Compute statistics"
   ]
  },
  {
   "cell_type": "code",
   "execution_count": null,
   "metadata": {},
   "outputs": [],
   "source": [
    "#y\n",
    "mu_y, sdev_y, VaR_y, CVaR_y, skewness_y, kurtosis_y = Stats(y[np.newaxis,...], p)\n",
    "# epsi\n",
    "mu_e, sdev_e, VaR_e, CVaR_e, skewness_e, kurtosis_e = Stats(epsi, p)"
   ]
  },
  {
   "cell_type": "markdown",
   "metadata": {},
   "source": [
    "## Generate figures"
   ]
  },
  {
   "cell_type": "code",
   "execution_count": null,
   "metadata": {},
   "outputs": [],
   "source": [
    "option = namedtuple('option', 'n_bins')\n",
    "\n",
    "option.n_bins = round(7*log(ens))\n",
    "hgram, x_hgram = HistogramFP(y[np.newaxis,...], p, option)\n",
    "x_m = npmin(x_hgram)\n",
    "x_M = npmax(x_hgram)\n",
    "x_mM = x_M - x_m\n",
    "hgram_1, x_hgram_1 = HistogramFP(epsi, p, option)\n",
    "x1_m = npmin(x_hgram_1)\n",
    "x1_M = npmax(x_hgram_1)\n",
    "x1_mM = x1_M - x1_m\n",
    "\n",
    "e_m = npmin(epsi)\n",
    "e_M = npmax(epsi)\n",
    "e_mM = e_M - e_m\n",
    "y_m = npmin(y)\n",
    "y_M = npmax(y)\n",
    "y_mM = y_M - y_m\n",
    "d = linspace(0,t_-1,4, dtype=int)\n",
    "dates_dt = array([date_mtop(i) for i in dates])\n",
    "\n",
    "f = figure()\n",
    "CM, C = ColorCodedFP(p, None, None, arange(0,0.81,0.01), 0, 18, [12, 3])\n",
    "\n",
    "myFmt = mdates.DateFormatter('%d-%b-%Y')\n",
    "ax = plt.subplot2grid((3,3),(0,0),colspan=2)\n",
    "plt.sca(ax)\n",
    "# Flexible Probability profile\n",
    "wid = dates_dt[1].toordinal()-dates_dt[0].toordinal()\n",
    "b = bar(dates_dt, p[0], width=wid, facecolor=[.7, .7, .7], edgecolor=[.7, .7, .7])\n",
    "xlim([min(dates_dt), max(dates_dt)])\n",
    "plt.xticks(dates_dt[d])\n",
    "ax.xaxis.set_major_formatter(myFmt)\n",
    "ylim([0, npmax(p)])\n",
    "plt.yticks([])\n",
    "ylabel('FP')\n",
    "ensT = 'Effective Num.Scenarios =  %3.0f'%ens\n",
    "plt.text(0.05, 0.8, ensT, horizontalalignment='left',verticalalignment='bottom',transform=ax.transAxes)\n",
    "title('Flexible Probabilities - Exponential Decay');\n",
    "\n",
    "# invariants\n",
    "ax = plt.subplot2grid((3,3),(1,2))\n",
    "plt.sca(ax)\n",
    "b_1 = plt.barh(x_hgram_1[:-1], hgram_1[0], height=x_hgram_1[1]-x_hgram_1[0] , facecolor=[.7, .7, .7], edgecolor=[.3, .3, .3])\n",
    "plt.axis([0, npmax(hgram_1) + (npmax(hgram_1) / 20), x1_m - .15*x1_mM, x1_M + .15*x1_mM])\n",
    "plt.xticks([])\n",
    "plt.yticks([])\n",
    "stat1 = 'Mean  % 1.3e \\nSdev    %1.3e \\nVaR      %1.3e \\nCVaR   %1.3e \\nSkew   %1.3e \\nKurt     %1.3e'\\\n",
    "        %(mu_e,sdev_e,VaR_e,CVaR_e,skewness_e,kurtosis_e)\n",
    "plt.text(0.4, 0.75, stat1,horizontalalignment='left',verticalalignment='bottom', transform=ax.transAxes)\n",
    "\n",
    "ax = plt.subplot2grid((3,3),(1,0),colspan=2)\n",
    "plt.sca(ax)\n",
    "ax.set_facecolor('white')\n",
    "scatter(dates_dt, epsi, 10, c=C, marker='.',cmap=CM)\n",
    "xlim([min(dates_dt), max(dates_dt)])\n",
    "plt.xticks(dates_dt[d])\n",
    "ax.xaxis.set_major_formatter(myFmt)\n",
    "title('GARCH residuals')\n",
    "\n",
    "# P&L\n",
    "ax = plt.subplot2grid((3,3),(2,2))\n",
    "plt.sca(ax)\n",
    "plt.barh(x_hgram[:-1], hgram[0],height=x_hgram[1]-x_hgram[0], facecolor=[.7, .7, .7], edgecolor=[.3, .3, .3])\n",
    "plt.axis([0, npmax(hgram) + (npmax(hgram) / 20), x_m - .15*x_mM, x_M + .15*x_mM])\n",
    "plt.xticks([])\n",
    "plt.yticks([])\n",
    "stat1 = 'Mean  % 1.3e \\nSdev    %1.3e \\nVaR      %1.3e \\nCVaR   %1.3e \\nSkew   %1.3e \\nKurt     %1.3e'\\\n",
    "        %(mu_y,sdev_y,VaR_y,CVaR_y,skewness_y,kurtosis_y)\n",
    "plt.text(0.4, 0.75, stat1,horizontalalignment='left',verticalalignment='bottom', transform=ax.transAxes)\n",
    "\n",
    "# colormap(CM)\n",
    "ax = plt.subplot2grid((3,3),(2,0),colspan=2)\n",
    "plt.sca(ax)\n",
    "ax.set_facecolor('white')\n",
    "scatter(dates_dt, y, 10, c=C, marker='.',cmap=CM)\n",
    "ylim([y_m - .15*y_mM, y_M + .15*y_mM])\n",
    "xlim([min(dates_dt), max(dates_dt)])\n",
    "plt.xticks(dates_dt[d])\n",
    "ax.xaxis.set_major_formatter(myFmt)\n",
    "title('P&L realizations')\n",
    "plt.tight_layout();\n",
    "# save_plot(ax=plt.gca(), extension='png', scriptname=os.path.basename('.')[:-3], count=plt.get_fignums()[-1])"
   ]
  }
 ],
 "metadata": {
  "jupytext": {
   "encoding": "# -*- coding: utf-8 -*-",
   "executable": "/usr/bin/env python3"
  },
  "kernelspec": {
   "display_name": "Python 3",
   "language": "python",
   "name": "python3"
  }
 },
 "nbformat": 4,
 "nbformat_minor": 4
}
