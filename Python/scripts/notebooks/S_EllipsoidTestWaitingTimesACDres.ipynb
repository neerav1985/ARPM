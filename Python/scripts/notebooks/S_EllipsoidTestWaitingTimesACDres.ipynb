{
 "cells": [
  {
   "cell_type": "markdown",
   "metadata": {},
   "source": [
    "# S_EllipsoidTestWaitingTimesACDres [<img src=\"https://www.arpm.co/lab/icons/icon_permalink.png\" width=30 height=30 style=\"display: inline;\">](https://www.arpm.co/lab/redirect.php?code=S_EllipsoidTestWaitingTimesACDres&codeLang=Python)\n",
    "For details, see [here](https://www.arpm.co/lab/redirect.php?permalink=IIDHFACDdTres)."
   ]
  },
  {
   "cell_type": "markdown",
   "metadata": {},
   "source": [
    "## Prepare the environment"
   ]
  },
  {
   "cell_type": "code",
   "execution_count": null,
   "metadata": {},
   "outputs": [],
   "source": [
    "import os\n",
    "import os.path as path\n",
    "import sys\n",
    "\n",
    "sys.path.append(path.abspath('../../functions-legacy'))\n",
    "\n",
    "from numpy import where, diff, linspace\n",
    "\n",
    "from scipy.io import loadmat\n",
    "\n",
    "import matplotlib.pyplot as plt\n",
    "from matplotlib.pyplot import figure\n",
    "\n",
    "plt.style.use('seaborn')\n",
    "\n",
    "from CONFIG import GLOBAL_DB, TEMPORARY_DB\n",
    "from ARPM_utils import save_plot, struct_to_dict, date_mtop\n",
    "from autocorrelation import autocorrelation\n",
    "from TradeQuoteProcessing import TradeQuoteProcessing\n",
    "from InvarianceTestEllipsoid import InvarianceTestEllipsoid"
   ]
  },
  {
   "cell_type": "markdown",
   "metadata": {},
   "source": [
    "## Upload the database"
   ]
  },
  {
   "cell_type": "code",
   "execution_count": null,
   "metadata": {},
   "outputs": [],
   "source": [
    "try:\n",
    "    db = loadmat(os.path.join(GLOBAL_DB, 'db_US_10yr_Future_quotes_and_trades'), squeeze_me=True)\n",
    "except FileNotFoundError:\n",
    "    db = loadmat(os.path.join(TEMPORARY_DB, 'db_US_10yr_Future_quotes_and_trades'), squeeze_me=True)"
   ]
  },
  {
   "cell_type": "markdown",
   "metadata": {},
   "source": [
    "## Process the time series, refining the raw data coming from the database"
   ]
  },
  {
   "cell_type": "code",
   "execution_count": null,
   "metadata": {},
   "outputs": [],
   "source": [
    "quotes = struct_to_dict(db['quotes'])\n",
    "trades = struct_to_dict(db['trades'])\n",
    "\n",
    "dates_quotes = quotes.time_names  #\n",
    "t = quotes.time  # time vector of quotes\n",
    "p_bid = quotes.bid  # bid prices\n",
    "p_ask = quotes.ask  # ask prices\n",
    "q_bid = quotes.bsiz  # bid volumes\n",
    "q_ask = quotes.asiz  # ask volumes\n",
    "\n",
    "dates_trades = trades.time_names  #\n",
    "t_k = trades.time  # time vector of trades\n",
    "p_last = trades.price  # last transaction prices\n",
    "delta_q = trades.siz  # flow of traded contracts' volumes\n",
    "delta_sgn = trades.aggress  # trade sign flow\n",
    "match = trades.mtch  # match events: - the \"1\" value indicates the \"start of a match event\" while zeros indicates the \"continuation of a match event\"\n",
    "#              - the db is ordered such that the start of a match event is in the last column corresponding to that event\n",
    "\n",
    "t, _, _, _, _, _, t_k, _, _, _, _, _ = TradeQuoteProcessing(t, dates_quotes, q_ask, p_ask, q_bid, p_bid, t_k, dates_trades,\n",
    "                                                         p_last, delta_q, delta_sgn, match)\n",
    "t = t.flatten()\n",
    "t_k = t_k.flatten()\n",
    "# ## Compute the gaps between subsequent events\n",
    "\n",
    "k_0 = where(t_k >= t[0])[0][0]    # index of the first trade within the time window\n",
    "k_1 = where(t_k <= t[-1])[0][-1]  # index of the last trade within the time window\n",
    "ms = (date_mtop(t_k[k_1]) - date_mtop(t_k[k_0])).seconds * 1000 + (date_mtop(t_k[k_1]) - date_mtop(t_k[k_0])).microseconds / 1000\n",
    "t_k = linspace(t_k[k_0],t_k[k_1], int(ms)) # time window's wall-clock-time vector expressed in milliseconds\n",
    "delta_t_k = diff(t_k)  # waiting times"
   ]
  },
  {
   "cell_type": "markdown",
   "metadata": {},
   "source": [
    "## ACD fit (Requires the external package ACD_Models_FEX)"
   ]
  },
  {
   "cell_type": "code",
   "execution_count": null,
   "metadata": {},
   "outputs": [],
   "source": [
    "q = 1  # maximum lag for the duration\n",
    "p = 1  # maximum lag for the volatility\n",
    "stdMethod = 1\n",
    "\n",
    "tmp_dt_n = [0, delta_t_k]\n",
    "specOut = ACD_Fit(tmp_dt_n.T,'exp', q, p, stdMethod)  # fitting\n",
    "# estimated parameters\n",
    "c = specOut.w\n",
    "b = specOut.p\n",
    "a = specOut.q\n",
    "# estimated sigma_n\n",
    "sigma_n = specOut.h.T\n",
    "\n",
    "# residuals\n",
    "ACD_epsi = delta_t_k / sigma_n[1:]"
   ]
  },
  {
   "cell_type": "markdown",
   "metadata": {},
   "source": [
    "## Compute autocorrelations at different lags"
   ]
  },
  {
   "cell_type": "code",
   "execution_count": null,
   "metadata": {},
   "outputs": [],
   "source": [
    "lag_ = 10\n",
    "acf = autocorrelation(ACD_epsi, lag_)"
   ]
  },
  {
   "cell_type": "markdown",
   "metadata": {},
   "source": [
    "## Plot the results of the IID test"
   ]
  },
  {
   "cell_type": "code",
   "execution_count": null,
   "metadata": {},
   "outputs": [],
   "source": [
    "lag = 10  # lag to be printed\n",
    "ell_scale = 1.6  # ellipsoid radius scale\n",
    "fit = 2  # exponential fit\n",
    "\n",
    "f = figure(figsize=(12,6))\n",
    "InvarianceTestEllipsoid(delta_t_k, acf[0,1:], lag_, fit, ell_scale, [],\n",
    "                        'Invariance test on the residuals of an ACD fit on arrival times', [-4, 19]);\n",
    "# save_plot(ax=plt.gca(), extension='png', scriptname=os.path.basename('.')[:-3], count=plt.get_fignums()[-1])\n"
   ]
  }
 ],
 "metadata": {
  "jupytext": {
   "encoding": "# -*- coding: utf-8 -*-",
   "executable": "/usr/bin/env python3"
  },
  "kernelspec": {
   "display_name": "Python 3",
   "language": "python",
   "name": "python3"
  }
 },
 "nbformat": 4,
 "nbformat_minor": 4
}
