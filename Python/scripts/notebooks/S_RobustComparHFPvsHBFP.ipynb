{
 "cells": [
  {
   "cell_type": "markdown",
   "metadata": {},
   "source": [
    "# S_RobustComparHFPvsHBFP [<img src=\"https://www.arpm.co/lab/icons/icon_permalink.png\" width=30 height=30 style=\"display: inline;\">](https://www.arpm.co/lab/redirect.php?code=S_RobustComparHFPvsHBFP&codeLang=Python)\n",
    "For details, see [here](https://www.arpm.co/lab/redirect.php?permalink=ExerHBFPellipsoid)."
   ]
  },
  {
   "cell_type": "markdown",
   "metadata": {},
   "source": [
    "## Prepare the environment"
   ]
  },
  {
   "cell_type": "code",
   "execution_count": null,
   "metadata": {},
   "outputs": [],
   "source": [
    "import os\n",
    "import os.path as path\n",
    "import sys\n",
    "\n",
    "sys.path.append(path.abspath('../../functions-legacy'))\n",
    "\n",
    "from numpy import arange, array, zeros, cos, sin, where, sqrt, tile, r_, diagflat\n",
    "from numpy.linalg import eig, solve, norm as linalgnorm\n",
    "\n",
    "from scipy.io import loadmat\n",
    "\n",
    "import matplotlib.pyplot as plt\n",
    "from matplotlib.pyplot import figure, legend, xlim, ylim, scatter, ylabel, \\\n",
    "    xlabel\n",
    "\n",
    "plt.style.use('seaborn')\n",
    "\n",
    "from CONFIG import GLOBAL_DB, TEMPORARY_DB\n",
    "from ARPM_utils import save_plot, struct_to_dict\n",
    "from FPmeancov import FPmeancov\n",
    "from PlotTwoDimEllipsoid import PlotTwoDimEllipsoid\n",
    "from Price2AdjustedPrice import Price2AdjustedPrice\n",
    "from GarchResiduals import GarchResiduals\n",
    "from BlowSpinFP import BlowSpinFP\n",
    "from ColorCodedFP import ColorCodedFP\n",
    "from HighBreakdownFP import HighBreakdownFP"
   ]
  },
  {
   "cell_type": "markdown",
   "metadata": {},
   "source": [
    "## Upload the database"
   ]
  },
  {
   "cell_type": "code",
   "execution_count": null,
   "metadata": {},
   "outputs": [],
   "source": [
    "try:\n",
    "    db = loadmat(os.path.join(GLOBAL_DB, 'db_Stocks'), squeeze_me=True)\n",
    "except FileNotFoundError:\n",
    "    db = loadmat(os.path.join(TEMPORARY_DB, 'db_Stocks'), squeeze_me=True)\n",
    "\n",
    "StocksSPX = struct_to_dict(db['StocksSPX'])"
   ]
  },
  {
   "cell_type": "markdown",
   "metadata": {},
   "source": [
    "## Compute the dividend-adjusted returns of two stocks"
   ]
  },
  {
   "cell_type": "code",
   "execution_count": null,
   "metadata": {},
   "outputs": [],
   "source": [
    "n_ = 2\n",
    "t_ = 400\n",
    "\n",
    "_, x_1 = Price2AdjustedPrice(StocksSPX.Date.reshape(1,-1), StocksSPX.Prices[[25],:], StocksSPX.Dividends[25])  # Cisco Systems Inc\n",
    "_, x_2 = Price2AdjustedPrice(StocksSPX.Date.reshape(1,-1), StocksSPX.Prices[[5],:], StocksSPX.Dividends[5])  # General Electric\n",
    "date = StocksSPX.Date[1:]\n",
    "\n",
    "x_1 = x_1[[0],-t_:]\n",
    "x_2 = x_2[[0],-t_:]\n",
    "date = date[-t_:]"
   ]
  },
  {
   "cell_type": "markdown",
   "metadata": {},
   "source": [
    "## Compute the invariants using GARCH(1,1) fit"
   ]
  },
  {
   "cell_type": "code",
   "execution_count": null,
   "metadata": {},
   "outputs": [],
   "source": [
    "epsi = GarchResiduals(r_[x_1,x_2])"
   ]
  },
  {
   "cell_type": "markdown",
   "metadata": {},
   "source": [
    "## Compute the Flexible Probability profiles using Blow-Spin method"
   ]
  },
  {
   "cell_type": "code",
   "execution_count": null,
   "metadata": {},
   "outputs": [],
   "source": [
    "b = 1  # number of blows\n",
    "s = 0  # number of spins\n",
    "p, _ = BlowSpinFP(epsi, b, s)\n",
    "q_ = b + s"
   ]
  },
  {
   "cell_type": "markdown",
   "metadata": {},
   "source": [
    "## Compute HFP-mean/cov and HBFP-mean/cov from original data"
   ]
  },
  {
   "cell_type": "code",
   "execution_count": null,
   "metadata": {},
   "outputs": [],
   "source": [
    "print('Compute HFP - mean / cov and HBFP - mean / cov from original data')\n",
    "\n",
    "mu_HFP = zeros((n_,2))\n",
    "mu_HBFP = zeros((n_,2))\n",
    "sigma2_HFP = zeros((n_,n_,2))\n",
    "sigma2_HBFP = zeros((n_,n_,2))\n",
    "p_HBFP = zeros(2)\n",
    "v_HBFP = zeros(2)\n",
    "\n",
    "mu_HFP[:, [0]], sigma2_HFP[:, :, 0] = FPmeancov(epsi, p)  # HFP mean and covariance from original data\n",
    "mu_HBFP[:, 0], sigma2_HBFP[:, :, 0], p_HBFP[0], v_HBFP[0], _ = HighBreakdownFP(epsi, p.copy(),1)  # HBFP mean and covariance from original data"
   ]
  },
  {
   "cell_type": "markdown",
   "metadata": {},
   "source": [
    "## Detect points outside the HBFP ellipsoid"
   ]
  },
  {
   "cell_type": "code",
   "execution_count": null,
   "metadata": {},
   "outputs": [],
   "source": [
    "lev = 1.2\n",
    "Diag_lambda2, e = eig(sigma2_HBFP[:, :, 0])\n",
    "y = zeros((n_, t_))\n",
    "ynorm = zeros((1, t_))\n",
    "\n",
    "for t in range(t_):\n",
    "    y[:,t] = solve(e@sqrt(diagflat(Diag_lambda2)),epsi[:,t] - mu_HBFP[:, 0])\n",
    "    ynorm[0,t] = linalgnorm(y[:,t], 2)\n",
    "\n",
    "selection = where(ynorm > lev)"
   ]
  },
  {
   "cell_type": "markdown",
   "metadata": {},
   "source": [
    "## Shift points outside the HBFP-ellipsoid and compute HFP-mean/cov and HBFP-mean/cov from perturbed data"
   ]
  },
  {
   "cell_type": "code",
   "execution_count": null,
   "metadata": {},
   "outputs": [],
   "source": [
    "print('Computing HFP - mean / cov and HBFP - mean / cov from perturbed data')\n",
    "\n",
    "alpha = 2.9\n",
    "gamma = 0.27\n",
    "omega = 0.7\n",
    "\n",
    "epsi_HBFP= zeros((4,epsi.shape[1]))\n",
    "epsi_HBFP[0:2] = epsi.copy()\n",
    "# point-shifting\n",
    "angle = omega*alpha\n",
    "rotation = array([[cos(angle),- sin(angle)], [sin(angle), cos(angle)]])\n",
    "epsi_tilde = tile(mu_HBFP[:, [0]], (1, t_)) + 1.1*e*sqrt(Diag_lambda2)@rotation*(.8 + .2*cos(gamma*alpha))@y\n",
    "epsi_HBFP[2:]= epsi.copy()\n",
    "epsi_HBFP[2:, selection] = epsi_tilde[:, selection]  # perturbed dataset\n",
    "# computation of HFP-mean/cov and HBFP-mean/cov\n",
    "[mu_HFP[:, [1]], sigma2_HFP[:, :, 1]] = FPmeancov(epsi_HBFP[2:], p)  # HFP-mean/cov from perturbed dataset\n",
    "mu_HBFP[:, 1], sigma2_HBFP[:, :, 1], p_HBFP[1], v_HBFP[1], _ = HighBreakdownFP(epsi_HBFP[2:], p.copy(), 1)  # HBFP-mean/cov fro"
   ]
  },
  {
   "cell_type": "markdown",
   "metadata": {},
   "source": [
    "## Generate a static figure highlighting the robustness of the HBFP estimators with respect to the corresponding HFP estimators"
   ]
  },
  {
   "cell_type": "code",
   "execution_count": null,
   "metadata": {},
   "outputs": [],
   "source": [
    "# scatter colormap and colors\n",
    "greyrange = arange(0,0.81,0.01)\n",
    "[CM, C] = ColorCodedFP(p, None, None , greyrange, 0, 1, [0.6, 0.2])\n",
    "# Xlim and Ylim settings\n",
    "x_lim = [min(epsi[0]) - .3, max(epsi[0])+.3]\n",
    "y_lim = [min(epsi[1]) - .3, max(epsi[1])+.3]\n",
    "for k in range(2):\n",
    "    f=figure()\n",
    "    xlim(x_lim)\n",
    "    ylim(y_lim)\n",
    "    ell_HFP=PlotTwoDimEllipsoid(mu_HFP[:,[k]], sigma2_HFP[:,:,k], 1, False, False, 'b', 2)\n",
    "    ell_HBFP = PlotTwoDimEllipsoid(mu_HBFP[:,[k]], sigma2_HBFP[:,:,k], 1, False, False, 'r', 2)\n",
    "    shift=scatter(epsi_HBFP[2*k, selection], epsi_HBFP[2*k+1, selection], 15, facecolor='none', edgecolor=[.8, .5, .3],\n",
    "                  marker='o')\n",
    "    scatter(epsi_HBFP[2*k], epsi_HBFP[2*k+1], 15, c=C, marker='.',cmap=CM)\n",
    "    xlabel('$\\epsilon_1$')\n",
    "    ylabel('$\\epsilon_2$')\n",
    "    plt.grid(True)\n",
    "    plt.gca().set_facecolor('white')\n",
    "    # ell_HFP, ell_HBFP, shift\n",
    "    leg = legend(['Historical with Flex.Probs.(HFP): non - robust',\n",
    "                  'High Breakdown with Flex.Probs.(HBFP): robust',\n",
    "                  'shifted observations'], loc='best');\n",
    "    # save_plot(ax=plt.gca(), extension='png', scriptname=os.path.basename('.')[:-3], count=plt.get_fignums()[-1])"
   ]
  }
 ],
 "metadata": {
  "jupytext": {
   "encoding": "# -*- coding: utf-8 -*-",
   "executable": "/usr/bin/env python3"
  },
  "kernelspec": {
   "display_name": "Python 3",
   "language": "python",
   "name": "python3"
  }
 },
 "nbformat": 4,
 "nbformat_minor": 4
}
