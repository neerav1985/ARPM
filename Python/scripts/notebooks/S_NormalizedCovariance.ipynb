{
 "cells": [
  {
   "cell_type": "markdown",
   "metadata": {},
   "source": [
    "# S_NormalizedCovariance [<img src=\"https://www.arpm.co/lab/icons/icon_permalink.png\" width=30 height=30 style=\"display: inline;\">](https://www.arpm.co/lab/redirect.php?code=S_NormalizedCovariance&codeLang=Python)\n",
    "For details, see [here](https://www.arpm.co/lab/redirect.php?permalink=ExCorrVSCov)."
   ]
  },
  {
   "cell_type": "markdown",
   "metadata": {},
   "source": [
    "## Prepare the environment"
   ]
  },
  {
   "cell_type": "code",
   "execution_count": null,
   "metadata": {},
   "outputs": [],
   "source": [
    "import os\n",
    "import os.path as path\n",
    "import sys\n",
    "\n",
    "sys.path.append(path.abspath('../../functions-legacy'))\n",
    "\n",
    "from datetime import datetime\n",
    "\n",
    "import numpy as np\n",
    "from numpy import where, percentile, diff, cov, log, r_\n",
    "\n",
    "from scipy.io import loadmat\n",
    "\n",
    "import matplotlib.pyplot as plt\n",
    "\n",
    "plt.style.use('seaborn')\n",
    "\n",
    "from CONFIG import GLOBAL_DB, TEMPORARY_DB\n",
    "from ARPM_utils import struct_to_dict\n",
    "from intersect_matlab import intersect\n",
    "from RollPrices2YieldToMat import RollPrices2YieldToMat"
   ]
  },
  {
   "cell_type": "markdown",
   "metadata": {},
   "source": [
    "## Upload data"
   ]
  },
  {
   "cell_type": "code",
   "execution_count": null,
   "metadata": {},
   "outputs": [],
   "source": [
    "try:\n",
    "    db = loadmat(os.path.join(GLOBAL_DB, 'db_Stocks'), squeeze_me=True)\n",
    "except FileNotFoundError:\n",
    "    db = loadmat(os.path.join(TEMPORARY_DB, 'db_Stocks'), squeeze_me=True)\n",
    "\n",
    "SPX = struct_to_dict(db['SPX'])\n",
    "\n",
    "try:\n",
    "    db = loadmat(os.path.join(GLOBAL_DB, 'db_SwapCurve'), squeeze_me=True)\n",
    "except FileNotFoundError:\n",
    "    db = loadmat(os.path.join(TEMPORARY_DB, 'db_SwapCurve'), squeeze_me=True)\n",
    "\n",
    "DF_Rolling = struct_to_dict(db['DF_Rolling'])"
   ]
  },
  {
   "cell_type": "markdown",
   "metadata": {},
   "source": [
    "## Compute the realized time series of S&P500 daily log-returns and the daily changes in the five-year swap rate"
   ]
  },
  {
   "cell_type": "code",
   "execution_count": null,
   "metadata": {},
   "outputs": [],
   "source": [
    "# S&P 500 log-returns\n",
    "prices = SPX.Price_close\n",
    "DateSP = SPX.Date\n",
    "\n",
    "# swap rates\n",
    "mat = DF_Rolling.TimeToMat\n",
    "rolling_prices = DF_Rolling.Prices\n",
    "dateSwap = DF_Rolling.Dates\n",
    "\n",
    "yields,_ = RollPrices2YieldToMat(mat, rolling_prices)\n",
    "yield5 = yields[mat == 5,:]  # Swap rate with time to mat = 5\n",
    "\n",
    "# match the db\n",
    "[dates, i_ret, i_yield] = intersect(DateSP.T, dateSwap.T)\n",
    "prices = prices[i_ret]\n",
    "yield5 = yield5[0,i_yield]\n",
    "\n",
    "# S&P 500 returns\n",
    "rets = diff(log(prices), 1)\n",
    "# 5 years swap rate daily changes\n",
    "y5changes = diff(yield5, 1)\n",
    "# Dates\n",
    "dates = dates[1:]"
   ]
  },
  {
   "cell_type": "markdown",
   "metadata": {},
   "source": [
    "## Normalize the series\n",
    "## Compute sample interquartile range of S&P500 returns and changes in 5yr yield during the past period from 1 January 2005 to 31 December 2010"
   ]
  },
  {
   "cell_type": "code",
   "execution_count": null,
   "metadata": {},
   "outputs": [],
   "source": [
    "d1 = datetime(2005, 1, 1).toordinal()+366\n",
    "d2 = datetime(2010, 12, 31).toordinal()+366\n",
    "idx = where((dates >= d1) & (dates <= d2))\n",
    "\n",
    "iqr_rets = percentile(rets[idx], 75) - percentile(rets[idx], 25)\n",
    "iqr_y5ch = percentile(y5changes[idx],75) - percentile(y5changes[idx], 25)\n",
    "\n",
    "# Normalization\n",
    "rets_normalized = rets / iqr_rets\n",
    "y5changes_normalized = y5changes / iqr_y5ch"
   ]
  },
  {
   "cell_type": "markdown",
   "metadata": {},
   "source": [
    "## SAMPLE COVARIANCE"
   ]
  },
  {
   "cell_type": "code",
   "execution_count": null,
   "metadata": {},
   "outputs": [],
   "source": [
    "sample_cov = cov(r_[rets[np.newaxis,...], y5changes[np.newaxis,...]])"
   ]
  },
  {
   "cell_type": "markdown",
   "metadata": {},
   "source": [
    "## NORMALIZED COVARIANCE (sample covariance of the normalized series)"
   ]
  },
  {
   "cell_type": "code",
   "execution_count": null,
   "metadata": {},
   "outputs": [],
   "source": [
    "normalized_cov = cov(r_[rets_normalized[np.newaxis,...], y5changes_normalized[np.newaxis,...]])"
   ]
  },
  {
   "cell_type": "markdown",
   "metadata": {},
   "source": [
    "## print results"
   ]
  },
  {
   "cell_type": "code",
   "execution_count": null,
   "metadata": {},
   "outputs": [],
   "source": [
    "print(sample_cov)\n",
    "print(normalized_cov)"
   ]
  }
 ],
 "metadata": {
  "jupytext": {
   "encoding": "# -*- coding: utf-8 -*-",
   "executable": "/usr/bin/env python3"
  },
  "kernelspec": {
   "display_name": "Python 3",
   "language": "python",
   "name": "python3"
  }
 },
 "nbformat": 4,
 "nbformat_minor": 4
}
