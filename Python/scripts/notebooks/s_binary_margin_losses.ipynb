{
 "cells": [
  {
   "cell_type": "markdown",
   "metadata": {},
   "source": [
    "#  s_binary_margin_losses\n",
    "For details, see [here](https://www.arpm.co/lab/redirect.php?permalink=s-binary-margin-losses)."
   ]
  },
  {
   "cell_type": "code",
   "execution_count": null,
   "metadata": {},
   "outputs": [],
   "source": [
    "import numpy as np\n",
    "import matplotlib.pyplot as plt\n",
    "\n",
    "from arpym.tools.logo import add_logo"
   ]
  },
  {
   "cell_type": "markdown",
   "metadata": {},
   "source": [
    "## [Input parameters](https://www.arpm.co/lab/redirect.php?permalink=s_binary_margin_losses-parameters)"
   ]
  },
  {
   "cell_type": "code",
   "execution_count": null,
   "metadata": {},
   "outputs": [],
   "source": [
    "s_grid = np.linspace(-4, 4, 200)"
   ]
  },
  {
   "cell_type": "markdown",
   "metadata": {},
   "source": [
    "## [Step 1](https://www.arpm.co/lab/redirect.php?permalink=s_binary_margin_losses-implementation-step01): Compute 0-1 loss, hinge, exp, logistic, square and tang losses"
   ]
  },
  {
   "cell_type": "code",
   "execution_count": null,
   "metadata": {},
   "outputs": [],
   "source": [
    "loss_01 = np.zeros(200)\n",
    "loss_01[s_grid<=0] = 1\n",
    "loss_01[s_grid>0] = 0\n",
    "loss_hinge = np.maximum(1-s_grid, 0)\n",
    "loss_exp = np.exp(-s_grid)\n",
    "loss_square = (1-s_grid)**2\n",
    "loss_logistic = (1/np.log(2))*np.log(1+np.exp(-s_grid))\n",
    "loss_tang = (2*np.arctan(s_grid)-1)**2"
   ]
  },
  {
   "cell_type": "markdown",
   "metadata": {},
   "source": [
    "## Plots"
   ]
  },
  {
   "cell_type": "code",
   "execution_count": null,
   "metadata": {},
   "outputs": [],
   "source": [
    "dark_gray = [33/255, 37/255, 41/255]\n",
    "light_teal = [71/255, 180/255, 175/255]\n",
    "pink = [199/255, 21/255, 133/255]\n",
    "purple = [58/255, 13/255, 68/255]\n",
    "orange = [255/255, 153/255, 0/255]\n",
    "blue = [13/255, 94/255, 148/255]\n",
    "\n",
    "plt.style.use('arpm')\n",
    "mydpi = 72.0\n",
    "f = plt.figure(figsize=(1280.0/mydpi, 720.0/mydpi), dpi=mydpi)\n",
    "pos = np.where(np.abs(np.diff(loss_01)) >= 0.5)[0]+1\n",
    "s_ax = s_grid\n",
    "s_ax = np.insert(s_grid, pos, np.nan)\n",
    "loss_01 = np.insert(loss_01, pos, np.nan)\n",
    "plt.plot(s_ax, loss_01, lw=2.3, label=r'$0-1$', color=light_teal)\n",
    "plt.plot(s_grid, loss_hinge, lw=2.3, label=r'Hinge', color=dark_gray)\n",
    "plt.plot(s_grid, loss_exp, lw=2.3, label=r'Exponential', color=pink)\n",
    "plt.plot(s_grid, loss_logistic, lw=2.5, label=r'Logistic', color=orange)\n",
    "plt.plot(s_grid, loss_square, lw=2.3, label=r'Square', color=purple)\n",
    "plt.plot(s_grid, loss_tang, lw=2.3, label=r'Tangent', color=blue)\n",
    "plt.legend(loc=3)\n",
    "plt.xlabel(r'$s$')\n",
    "plt.ylabel('Loss')\n",
    "plt.ylim([-1, 5])\n",
    "plt.xlim([-4, 4])\n",
    "add_logo(f, location=4, set_fig_size=False)"
   ]
  }
 ],
 "metadata": {
  "jupytext": {
   "encoding": "# -*- coding: utf-8 -*-",
   "executable": "/usr/bin/env python3"
  },
  "kernelspec": {
   "display_name": "Python 3",
   "language": "python",
   "name": "python3"
  }
 },
 "nbformat": 4,
 "nbformat_minor": 4
}
