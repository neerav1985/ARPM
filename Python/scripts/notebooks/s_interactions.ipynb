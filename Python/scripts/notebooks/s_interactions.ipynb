{
 "cells": [
  {
   "cell_type": "markdown",
   "metadata": {},
   "source": [
    "# s_interactions [<img src=\"https://www.arpm.co/lab/icons/icon_permalink.png\" width=30 height=30 style=\"display: inline;\">](https://www.arpm.co/lab/redirect.php?code=s_interactions&codeLang=Python)\n",
    "For details, see [here](https://www.arpm.co/lab/redirect.php?permalink=s_interactions)."
   ]
  },
  {
   "cell_type": "code",
   "execution_count": null,
   "metadata": {},
   "outputs": [],
   "source": [
    "import numpy as np\n",
    "import pandas as pd\n",
    "import matplotlib.pyplot as plt\n",
    "from mpl_toolkits.mplot3d import Axes3D\n",
    "from sklearn import linear_model\n",
    "from sklearn.preprocessing import PolynomialFeatures\n",
    "\n",
    "from arpym.statistics.simulate_normal import simulate_normal\n",
    "from arpym.tools.logo import add_logo"
   ]
  },
  {
   "cell_type": "markdown",
   "metadata": {},
   "source": [
    "## [Input parameters](https://www.arpm.co/lab/redirect.php?permalink=s_interactions-parameters)"
   ]
  },
  {
   "cell_type": "code",
   "execution_count": null,
   "metadata": {},
   "outputs": [],
   "source": [
    "j_in_sample = 2000  # number of in-sample simulations\n",
    "mu_z = np.zeros(2)  # expectation\n",
    "sigma2_z = np.array([[1, 0], [0, 1]])  # covariance\n",
    "q_max = 10  # maximum degree of polynomials considered\n",
    "j_out_sample = 1000  # simulations of out-of-sample error"
   ]
  },
  {
   "cell_type": "markdown",
   "metadata": {},
   "source": [
    "## [Step 1](https://www.arpm.co/lab/redirect.php?permalink=s_interactions-implementation-step01): Define features and target variables"
   ]
  },
  {
   "cell_type": "code",
   "execution_count": null,
   "metadata": {},
   "outputs": [],
   "source": [
    "z_in = simulate_normal(mu_z, sigma2_z, j_in_sample)  # scenarios of features\n",
    "\n",
    "def muf(z1, z2):\n",
    "    return z1 - np.tanh(10*z1*z2)\n",
    "\n",
    "def sigf(z1, z2):\n",
    "    return np.sqrt(np.minimum(z1**2, 1/(10*np.pi)))\n",
    "\n",
    "x_in = muf(z_in[:, 0], z_in[:, 1]) +\\\n",
    "       sigf(z_in[:, 0], z_in[:, 1]) * simulate_normal(0, 1, j_in_sample)  # scenarios of target variables"
   ]
  },
  {
   "cell_type": "markdown",
   "metadata": {},
   "source": [
    "## [Step 2](https://www.arpm.co/lab/redirect.php?permalink=s_interactions-implementation-step02): Fit conditional expectation and compute in-sample error"
   ]
  },
  {
   "cell_type": "code",
   "execution_count": null,
   "metadata": {},
   "outputs": [],
   "source": [
    "#initialize variables\n",
    "err_in = np.zeros(q_max)\n",
    "err_out = np.zeros((j_out_sample, q_max))\n",
    "err_out_med = np.zeros(q_max)\n",
    "err_out_iqr = np.zeros(q_max)\n",
    "\n",
    "for q in np.arange(q_max):\n",
    "\n",
    "    #Construct inputs products in-sample\n",
    "    poly = PolynomialFeatures(degree=q+1, include_bias=False)\n",
    "    z_inter_in = poly.fit_transform(z_in)\n",
    "\n",
    "    #Fit conditional expectation\n",
    "    reg = linear_model.LinearRegression()\n",
    "    exp_in_sample = reg.fit(z_inter_in, x_in).predict(z_inter_in)\n",
    "\n",
    "    # Compute in-sample error\n",
    "    err_in[q] = np.mean((x_in-exp_in_sample)**2)"
   ]
  },
  {
   "cell_type": "markdown",
   "metadata": {},
   "source": [
    "## [Step 3](https://www.arpm.co/lab/redirect.php?permalink=s_interactions-implementation-step03): Compute out-of-sample error"
   ]
  },
  {
   "cell_type": "code",
   "execution_count": null,
   "metadata": {},
   "outputs": [],
   "source": [
    "    for i in np.arange(j_out_sample):\n",
    "        \n",
    "        # out-of-sample features and target variables\n",
    "        z_out = simulate_normal(mu_z, sigma2_z, j_in_sample)\n",
    "        x_out = muf(z_out[:, 0], z_out[:, 1]) +\\\n",
    "                sigf(z_out[:, 0], z_out[:, 1]) * simulate_normal(0, 1, j_in_sample)\n",
    "        poly = PolynomialFeatures(degree=q+1, include_bias=False)\n",
    "        z_inter_out = poly.fit_transform(z_out)\n",
    "        \n",
    "        # out-of-sample error\n",
    "        exp_out_sample = reg.predict(z_inter_out)\n",
    "        err_out[i, q] = np.mean((x_out-exp_out_sample)**2)\n",
    "\n",
    "    err_out_med[q] = np.median(err_out[:, q]) # out-of-sample error location\n",
    "    err_out_iqr[q] = np.percentile(err_out[:, q], 75) -\\\n",
    "        np.percentile(err_out[:, q], 25) # out-of-sample error dispersion"
   ]
  },
  {
   "cell_type": "markdown",
   "metadata": {},
   "source": [
    "## [Step 4](https://www.arpm.co/lab/redirect.php?permalink=s_interactions-implementation-step04): Save database"
   ]
  },
  {
   "cell_type": "code",
   "execution_count": null,
   "metadata": {},
   "outputs": [],
   "source": [
    "output = {'z': pd.Series(z_in.reshape(-1)),\n",
    "          'x': pd.Series(x_in),\n",
    "          'j_in_sample': pd.Series(j_in_sample)}\n",
    "df = pd.DataFrame(output)\n",
    "df.to_csv('~/databases/temporary-databases/db_ml_variables.csv')"
   ]
  },
  {
   "cell_type": "markdown",
   "metadata": {},
   "source": [
    "## Plots"
   ]
  },
  {
   "cell_type": "code",
   "execution_count": null,
   "metadata": {},
   "outputs": [],
   "source": [
    "plt.style.use('arpm')\n",
    "\n",
    "idxx0 = np.where(np.abs(z_in[:, 0]) <= 2)[0]\n",
    "idxx1 = np.where(np.abs(z_in[:, 1]) <= 2)[0]\n",
    "idxx = np.intersect1d(idxx0, idxx1)\n",
    "lightblue = [0.2, 0.6, 1]\n",
    "lightgreen = [0.6, 0.8, 0]\n",
    "\n",
    "fig = plt.figure()\n",
    "\n",
    "# Error\n",
    "ax1 = plt.subplot2grid((3, 4), (0, 0), colspan=4)\n",
    "insamplot = ax1.plot(np.arange(q_max)+1, err_in, color='k')\n",
    "ax1.set_ylabel('In-sample error', color='k')\n",
    "ax1.tick_params(axis='y', colors='k')\n",
    "ax1.set_xticks(np.arange(q_max)+1)\n",
    "ax12 = ax1.twinx()\n",
    "outsamplot = ax12.plot(np.arange(q_max)+1, err_out_med, color='r',\n",
    "                       lw=1.15)\n",
    "ax12.tick_params(axis='y', colors='r')\n",
    "ax12.set_ylabel('Out-of-sample error', color='r')\n",
    "ax1.set_xlabel('Degree of the polynomial')\n",
    "plt.xlim([0, q_max + 1])\n",
    "ax1.set_title('In-sample vs out-of-sample errors as ' +\n",
    "              'function of polynomial degree', fontweight='bold')\n",
    "ax1.grid(False)\n",
    "ax12.grid(False)\n",
    "\n",
    "# Conditional expectation surface\n",
    "ax2 = plt.subplot2grid((3, 4), (1, 0), colspan=2, rowspan=2, projection='3d')\n",
    "step = 0.01\n",
    "zz1, zz2 = np.meshgrid(np.arange(-2, 2, step), np.arange(-2, 2, step))\n",
    "ax2.plot_surface(zz1, zz2, muf(zz1, zz2), color=lightblue, alpha=0.7,\n",
    "                 label='$\\mu(z_1, z_2)$')\n",
    "\n",
    "ax2.scatter3D(z_in[idxx, 0], z_in[idxx, 1],\n",
    "              x_in[idxx], s=10, color=lightblue, alpha=1,\n",
    "              label='$(Z_1, Z_2, X)$')\n",
    "ax2.set_xlabel('$Z_1$')\n",
    "ax2.set_ylabel('$Z_2$')\n",
    "ax2.set_zlabel('$X$')\n",
    "ax2.set_title('Conditional expectation surface', fontweight='bold')\n",
    "ax2.set_xlim([-2, 2])\n",
    "ax2.set_ylim([-2, 2])\n",
    "\n",
    "# Fitted surface\n",
    "ax3 = plt.subplot2grid((3, 4), (1, 2), colspan=2, rowspan=2, projection='3d')\n",
    "step = 0.01\n",
    "zz1, zz2 = np.meshgrid(np.arange(-2, 2, step), np.arange(-2, 2, step))\n",
    "zz = poly.fit_transform(np.c_[zz1.ravel(), zz2.ravel()])\n",
    "xx = reg.predict(zz)\n",
    "ax3.plot_surface(zz1, zz2, xx.reshape((zz1.shape)), color=lightgreen,\n",
    "                 alpha=0.7, label='Fitted surface')\n",
    "\n",
    "ax3.scatter3D(z_in[idxx, 0], z_in[idxx, 1],\n",
    "              reg.predict(z_inter_in)[idxx], s=10, color=lightgreen,\n",
    "              alpha=1, label='$(Z_1,Z_2, \\overline{X})$')\n",
    "ax3.set_xlabel('$Z_1$')\n",
    "ax3.set_ylabel('$Z_2$')\n",
    "ax3.set_zlabel('$\\overline{X}$')\n",
    "ax3.set_title('Fitted surface', fontweight='bold')\n",
    "ax3.set_xlim([-2, 2])\n",
    "ax3.set_ylim([-2, 2])\n",
    "\n",
    "add_logo(fig, axis=ax1)\n",
    "plt.tight_layout()"
   ]
  }
 ],
 "metadata": {
  "jupytext": {
   "encoding": "# -*- coding: utf-8 -*-",
   "executable": "/usr/bin/env python3"
  },
  "kernelspec": {
   "display_name": "Python 3",
   "language": "python",
   "name": "python3"
  }
 },
 "nbformat": 4,
 "nbformat_minor": 4
}
