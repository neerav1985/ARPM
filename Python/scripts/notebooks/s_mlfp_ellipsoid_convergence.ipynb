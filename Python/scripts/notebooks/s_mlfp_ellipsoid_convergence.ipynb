{
 "cells": [
  {
   "cell_type": "markdown",
   "metadata": {},
   "source": [
    "# s_mlfp_ellipsoid_convergence [<img src=\"https://www.arpm.co/lab/icons/icon_permalink.png\" width=30 height=30 style=\"display: inline;\">](https://www.arpm.co/lab/redirect.php?code=s_mlfp_ellipsoid_convergence&codeLang=Python)\n",
    "For details, see [here](https://www.arpm.co/lab/redirect.php?permalink=ExerMFPellipsoid)."
   ]
  },
  {
   "cell_type": "code",
   "execution_count": null,
   "metadata": {},
   "outputs": [],
   "source": [
    "import numpy as np\n",
    "import pandas as pd\n",
    "import matplotlib.pyplot as plt\n",
    "from pandas.plotting import register_matplotlib_converters\n",
    "register_matplotlib_converters()\n",
    "\n",
    "from arpym.estimation.effective_num_scenarios import effective_num_scenarios\n",
    "from arpym.estimation.exp_decay_fp import exp_decay_fp\n",
    "from arpym.estimation.fit_garch_fp import fit_garch_fp\n",
    "from arpym.estimation.fit_locdisp_mlfp import fit_locdisp_mlfp\n",
    "from arpym.tools.plot_ellipse import plot_ellipse\n",
    "from arpym.tools.colormap_fp import colormap_fp\n",
    "from arpym.tools.logo import add_logo"
   ]
  },
  {
   "cell_type": "markdown",
   "metadata": {},
   "source": [
    "## [Input parameters](https://www.arpm.co/lab/redirect.php?permalink=s_mlfp_ellipsoid_convergence-parameters)"
   ]
  },
  {
   "cell_type": "code",
   "execution_count": null,
   "metadata": {},
   "outputs": [],
   "source": [
    "tau_hl = 10*252  # prior half life\n",
    "nu = 4.  # degrees of freedom\n",
    "gamma = 10**(-5)  # MLFP routine convergence threshold"
   ]
  },
  {
   "cell_type": "markdown",
   "metadata": {},
   "source": [
    "## [Step 0](https://www.arpm.co/lab/redirect.php?permalink=s_mlfp_ellipsoid_convergence-implementation-step00): Upload data"
   ]
  },
  {
   "cell_type": "code",
   "execution_count": null,
   "metadata": {},
   "outputs": [],
   "source": [
    "path = \\\n",
    "    '~/databases/global-databases/equities/db_stocks_SP500/db_stocks_sp.csv'\n",
    "stocks = pd.read_csv(path, skiprows=[0], index_col=0, parse_dates=True,\n",
    "                     usecols=['name', 'CSCO', 'GE'], skip_blank_lines=True)\n",
    "stocks = stocks.dropna(how='any')  # stocks values"
   ]
  },
  {
   "cell_type": "markdown",
   "metadata": {},
   "source": [
    "## [Step 1](https://www.arpm.co/lab/redirect.php?permalink=s_mlfp_ellipsoid_convergence-implementation-step01): Compute the log-values of the stocks"
   ]
  },
  {
   "cell_type": "code",
   "execution_count": null,
   "metadata": {},
   "outputs": [],
   "source": [
    "x_csco = np.log(np.array(stocks.CSCO))\n",
    "x_ge = np.log(np.array(stocks.GE))"
   ]
  },
  {
   "cell_type": "markdown",
   "metadata": {},
   "source": [
    "## [Step 2](https://www.arpm.co/lab/redirect.php?permalink=s_mlfp_ellipsoid_convergence-implementation-step02): Compute the invariants using a GARCH(1,1) fit"
   ]
  },
  {
   "cell_type": "code",
   "execution_count": null,
   "metadata": {},
   "outputs": [],
   "source": [
    "_, _, epsi_csco = fit_garch_fp(np.diff(x_csco))\n",
    "_, _, epsi_ge = fit_garch_fp(np.diff(x_ge))\n",
    "\n",
    "epsi = np.array([epsi_csco, epsi_ge]).T"
   ]
  },
  {
   "cell_type": "markdown",
   "metadata": {},
   "source": [
    "## [Step 3](https://www.arpm.co/lab/redirect.php?permalink=s_mlfp_ellipsoid_convergence-implementation-step03): Set the exp. decay probabilities for MLFP estimation and compute the effective number of scenarios"
   ]
  },
  {
   "cell_type": "code",
   "execution_count": null,
   "metadata": {},
   "outputs": [],
   "source": [
    "p = exp_decay_fp(len(epsi_csco), tau_hl)  # exp. decay flexible probabilities\n",
    "ens = effective_num_scenarios(p)  # effective number of scenarios"
   ]
  },
  {
   "cell_type": "markdown",
   "metadata": {},
   "source": [
    "## [Step 4](https://www.arpm.co/lab/redirect.php?permalink=s_mlfp_ellipsoid_convergence-implementation-step04): Perform the MLFP estimation"
   ]
  },
  {
   "cell_type": "code",
   "execution_count": null,
   "metadata": {},
   "outputs": [],
   "source": [
    "mu_mlfp, sig2_mlfp = fit_locdisp_mlfp(epsi, p=p, nu=nu, threshold=gamma,\n",
    "                                      print_iter=True)"
   ]
  },
  {
   "cell_type": "markdown",
   "metadata": {},
   "source": [
    "## Plots"
   ]
  },
  {
   "cell_type": "code",
   "execution_count": null,
   "metadata": {},
   "outputs": [],
   "source": [
    "plt.style.use('arpm')\n",
    "\n",
    "plot_dates = np.array(stocks.index)\n",
    "cm, c = colormap_fp(p, None, None, np.arange(0, 0.81, 0.01), 0, 1, [0.6, 0.2])\n",
    "\n",
    "fig, ax = plt.subplots(2, 1)\n",
    "\n",
    "# scatter plot with MLFP ellipsoid superimposed\n",
    "plt.sca(ax[0])\n",
    "plt.scatter(epsi[:, 0], epsi[:, 1], 15, c=c, marker='.', cmap=cm)\n",
    "plt.axis('equal')\n",
    "plt.xlim(np.percentile(epsi[:, 0], 100*np.array([0.01, 0.99])))\n",
    "plt.ylim(np.percentile(epsi[:, 1], 100*np.array([0.01, 0.99])))\n",
    "plt.xlabel('$\\epsilon_1$')\n",
    "plt.ylabel('$\\epsilon_2$')\n",
    "plot_ellipse(mu_mlfp, sig2_mlfp, color='r')\n",
    "plt.legend(['MLFP ellipsoid'])\n",
    "plt.title('MLFP ellipsoid of Student t GARCH(1,1) residuals')\n",
    "\n",
    "# Flexible probabilities profile\n",
    "plt.sca(ax[1])\n",
    "plt.bar(plot_dates[1:], p, color='gray', width=1)\n",
    "plt.yticks([])\n",
    "plt.ylabel('$p_t$')\n",
    "ens_plot = 'Eff. num. of scenarios =  % 3.0f' % ens\n",
    "plt.title('Exponential decay flexible probabilities.  ' + ens_plot)\n",
    "add_logo(fig, axis=ax[0])\n",
    "plt.tight_layout()"
   ]
  }
 ],
 "metadata": {
  "jupytext": {
   "encoding": "# -*- coding: utf-8 -*-",
   "executable": "/usr/bin/env python3"
  },
  "kernelspec": {
   "display_name": "Python 3",
   "language": "python",
   "name": "python3"
  }
 },
 "nbformat": 4,
 "nbformat_minor": 4
}
