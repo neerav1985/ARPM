{
 "cells": [
  {
   "cell_type": "markdown",
   "metadata": {},
   "source": [
    "# s_attribution_norm [<img src=\"https://www.arpm.co/lab/icons/icon_permalink.png\" width=30 height=30 style=\"display: inline;\">](https://www.arpm.co/lab/redirect.php?code=s_attribution_norm&codeLang=Python)\n",
    "For details, see [here](https://www.arpm.co/lab/redirect.php?permalink=EBTopDownExpN)."
   ]
  },
  {
   "cell_type": "code",
   "execution_count": null,
   "metadata": {},
   "outputs": [],
   "source": [
    "import numpy as np\n",
    "import pandas as pd\n",
    "\n",
    "from arpym.statistics.objective_r2 import objective_r2\n",
    "from arpym.tools.forward_selection import forward_selection\n",
    "from arpym.tools.backward_selection import backward_selection"
   ]
  },
  {
   "cell_type": "markdown",
   "metadata": {},
   "source": [
    "## [Step 1](https://www.arpm.co/lab/redirect.php?permalink=s_attribution_norm-implementation-step01): Upload data"
   ]
  },
  {
   "cell_type": "code",
   "execution_count": null,
   "metadata": {},
   "outputs": [],
   "source": [
    "path = '~/databases/temporary-databases/'\n",
    "df = pd.read_csv(path + 'db_pricing_zcb.csv', header=0)\n",
    "d_ = len(np.array(df['y_tnow'].dropna(axis=0, how='all')))\n",
    "n_ = 2  # number of instruments\n",
    "alpha_pi_pric = np.array(df['alpha_pi_pric'].dropna(axis=0,\n",
    "                         how='all'))\n",
    "beta_pi_pric = np.array(df['beta_pi_pric'].dropna(axis=0,\n",
    "                        how='all')).reshape(d_, n_)\n",
    "# expectation of the risk-drivers at horizon\n",
    "mu_thor = np.array(df['mu_thor'].dropna(axis=0, how='all'))\n",
    "# variance of the risk-drivers at horizon\n",
    "sig2_thor = np.array(df['sig2_thor'].dropna(axis=0, how='all')).reshape(d_, d_)\n",
    "mu_pl = np.array(df['mu_pl'].dropna(axis=0, how='all'))\n",
    "sig2_pl = np.array(df['sig2_pl'].dropna(axis=0, how='all')).reshape(n_, n_)\n",
    "\n",
    "db2 = pd.read_csv(path + 'db_aggregation_normal.csv', index_col=0)\n",
    "n_ = int(np.array(db2['n_'].iloc[0]))\n",
    "h = np.array(db2['h'].iloc[:n_]).reshape(-1)\n",
    "mu_h = np.array(db2['mu_h'].iloc[0])\n",
    "sig2_h = np.array(db2['sig2_h'].iloc[0])\n",
    "\n",
    "db3 = pd.read_csv(path + 'db_cross_section.csv', index_col=0)\n",
    "k_ = int(np.array(db3['k_'].iloc[0]))\n",
    "alpha_pi_style = np.array(db3['alpha'].iloc[:k_+1]).reshape(-1)\n",
    "beta_pi_style = np.array(db3['beta'].iloc[:k_+1]).reshape(-1,1).T"
   ]
  },
  {
   "cell_type": "markdown",
   "metadata": {},
   "source": [
    "## [Step 2](https://www.arpm.co/lab/redirect.php?permalink=s_attribution_norm-implementation-step02): Bottom-up shift term and exposures (pricing factors)"
   ]
  },
  {
   "cell_type": "code",
   "execution_count": null,
   "metadata": {},
   "outputs": [],
   "source": [
    "alpha_bottomup_pric = alpha_pi_pric@h  # bottom-up shift term (pricing factors)\n",
    "beta_bottomup_pric = beta_pi_pric@h  # bottom-up exposure (pricing factors)"
   ]
  },
  {
   "cell_type": "markdown",
   "metadata": {},
   "source": [
    "## [Step 3](https://www.arpm.co/lab/redirect.php?permalink=s_attribution_norm-implementation-step03): Bottom-up shift term and exposure (style factors)"
   ]
  },
  {
   "cell_type": "code",
   "execution_count": null,
   "metadata": {},
   "outputs": [],
   "source": [
    "alpha_bottomup_style = alpha_pi_style@h  # bottom-up shift term (style factors)\n",
    "beta_bottomup_style = beta_pi_style@h  # bottom-up exposure (style factors)"
   ]
  },
  {
   "cell_type": "markdown",
   "metadata": {},
   "source": [
    "## [Step 4](https://www.arpm.co/lab/redirect.php?permalink=s_attribution_norm-implementation-step04): Top-down shift term and exposure (two factors)"
   ]
  },
  {
   "cell_type": "code",
   "execution_count": null,
   "metadata": {},
   "outputs": [],
   "source": [
    "# risk factors expectation (two factors)\n",
    "mu_z = np.array([mu_thor[0], mu_thor[5]])\n",
    "\n",
    "# risk factors covariance (two factors)\n",
    "sig2_z = np.array([[sig2_thor[0, 0], sig2_thor[0, 5]],\n",
    "                   [sig2_thor[0, 5], sig2_thor[5, 5]]])\n",
    "# covariance between Pi_h and Z_1\n",
    "sig_pi_z1 = np.sum((h[0] * beta_pi_pric[:, 0] +\n",
    "                    h[1] * beta_pi_pric[:, 1])@sig2_thor[0, :])\n",
    "\n",
    "# covariance between Pi_h and Z_2\n",
    "sig_pi_z2 = np.sum((h[0] * beta_pi_pric[:, 0] +\n",
    "                    h[1] * beta_pi_pric[:, 1])@sig2_thor[5, :])\n",
    "# top-down exposures (two factors)\n",
    "beta_topdown_twofactors = np.array([sig_pi_z1,\n",
    "                                    sig_pi_z2])@np.linalg.inv(sig2_z)\n",
    "# top-down alpha (two factors)\n",
    "alpha_topdown_twofactors = mu_h - beta_topdown_twofactors@mu_z"
   ]
  },
  {
   "cell_type": "markdown",
   "metadata": {},
   "source": [
    "## [Step 5](https://www.arpm.co/lab/redirect.php?permalink=s_attribution_norm-implementation-step05): Top-down shift term and exposure (one factor)"
   ]
  },
  {
   "cell_type": "code",
   "execution_count": null,
   "metadata": {},
   "outputs": [],
   "source": [
    "# covariance between Pi_h and Z\n",
    "sig2_piz = np.array([[sig2_h, sig_pi_z1, sig_pi_z2],\n",
    "                     [sig_pi_z1, sig2_z[0, 0], sig2_z[0, 1]],\n",
    "                     [sig_pi_z2, sig2_z[0, 1], sig2_z[1, 1]]])\n",
    "# objective function is r-squared\n",
    "def objective(j):\n",
    "    return objective_r2(j, sig2_piz, 1)\n",
    "\n",
    "j_fwd = forward_selection(objective, 2)[0]  # select factors via forward selection\n",
    "j_bkd = backward_selection(objective, 2)[0]  # select factors via backward select.\n",
    "beta = sig_pi_z2/sig2_z[1, 1]  # top-down exposures (one factor)\n",
    "alpha = mu_h - beta*mu_z[1]  # top-down alpha (one factor)"
   ]
  },
  {
   "cell_type": "markdown",
   "metadata": {},
   "source": [
    "## [Step 6](https://www.arpm.co/lab/redirect.php?permalink=s_attribution_norm-implementation-step06): Parameters normal distribution of (U, Z_select)"
   ]
  },
  {
   "cell_type": "code",
   "execution_count": null,
   "metadata": {},
   "outputs": [],
   "source": [
    "# residual variance\n",
    "sig2_u = sig2_h-2*beta*sig_pi_z2 + beta*beta*sig2_z[1, 1]\n",
    "mu_u_z = np.array([0, mu_z[1]])  # expectation of (U, Z_select)\n",
    "sig2_u_z = np.array([[sig2_u, 0],\n",
    "                     [0, sig2_z[1, 1]]])  # covariance of (U, Z_select)"
   ]
  },
  {
   "cell_type": "markdown",
   "metadata": {},
   "source": [
    "## [Step 7](https://www.arpm.co/lab/redirect.php?permalink=s_attribution_norm-implementation-step07): Parameters normal distribution of (Z_0, Z_select)"
   ]
  },
  {
   "cell_type": "code",
   "execution_count": null,
   "metadata": {},
   "outputs": [],
   "source": [
    "mu_z_z = np.array([alpha, mu_z[1]])  # expectation of (Z_0, Z_select)\n",
    "sig2_z_z = np.array([[sig2_u, 0],\n",
    "                    [0, sig2_z[1, 1]]])  # covariance of (Z_0, Z_select)"
   ]
  },
  {
   "cell_type": "markdown",
   "metadata": {},
   "source": [
    "## [Step 8](https://www.arpm.co/lab/redirect.php?permalink=s_attribution_norm-implementation-step08): Save data"
   ]
  },
  {
   "cell_type": "code",
   "execution_count": null,
   "metadata": {},
   "outputs": [],
   "source": [
    "output = {\n",
    "          'beta': pd.Series(beta),\n",
    "          'mu_z_z': pd.Series(mu_z_z),\n",
    "          'sig2_z_z': pd.Series(sig2_z_z.reshape((n_ * n_,))),\n",
    "          }\n",
    "\n",
    "df = pd.DataFrame(output)\n",
    "df.to_csv('~/databases/temporary-databases/db_attribution_normal.csv',\n",
    "          index=None)"
   ]
  }
 ],
 "metadata": {
  "jupytext": {
   "encoding": "# -*- coding: utf-8 -*-",
   "executable": "/usr/bin/env python3"
  },
  "kernelspec": {
   "display_name": "Python 3",
   "language": "python",
   "name": "python3"
  }
 },
 "nbformat": 4,
 "nbformat_minor": 4
}
