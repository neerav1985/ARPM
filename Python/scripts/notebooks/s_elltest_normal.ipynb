{
 "cells": [
  {
   "cell_type": "markdown",
   "metadata": {},
   "source": [
    "# s_elltest_normal [<img src=\"https://www.arpm.co/lab/icons/icon_permalink.png\" width=30 height=30 style=\"display: inline;\">](https://www.arpm.co/lab/redirect.php?code=s_elltest_normal&codeLang=Python)\n",
    "For details, see [here](https://www.arpm.co/lab/redirect.php?permalink=ExerIIDtests)."
   ]
  },
  {
   "cell_type": "code",
   "execution_count": null,
   "metadata": {},
   "outputs": [],
   "source": [
    "import numpy as np\n",
    "from scipy import stats\n",
    "import matplotlib.pyplot as plt\n",
    "\n",
    "from arpym.statistics.cop_marg_sep import cop_marg_sep\n",
    "from arpym.statistics.invariance_test_ellipsoid import invariance_test_ellipsoid\n",
    "from arpym.statistics.simulate_normal import simulate_normal\n",
    "from arpym.tools.logo import add_logo"
   ]
  },
  {
   "cell_type": "markdown",
   "metadata": {},
   "source": [
    "## [Input parameters](https://www.arpm.co/lab/redirect.php?permalink=s_elltest_normal-parameters)"
   ]
  },
  {
   "cell_type": "code",
   "execution_count": null,
   "metadata": {},
   "outputs": [],
   "source": [
    "t_ = 1000  # time series length\n",
    "mu = 0  # expectation\n",
    "sigma2 = 0.0625  # variance\n",
    "l_ = 10  # lag for the ellipsoid test\n",
    "conf_lev = 0.95  # confidence level"
   ]
  },
  {
   "cell_type": "markdown",
   "metadata": {},
   "source": [
    "## [Step 0](https://www.arpm.co/lab/redirect.php?permalink=s_elltest_normal-implementation-step00): Generate normal simulations"
   ]
  },
  {
   "cell_type": "code",
   "execution_count": null,
   "metadata": {},
   "outputs": [],
   "source": [
    "epsi = simulate_normal(mu, sigma2, t_)"
   ]
  },
  {
   "cell_type": "markdown",
   "metadata": {},
   "source": [
    "## [Step 1](https://www.arpm.co/lab/redirect.php?permalink=s_elltest_normal-implementation-step01): Compute absolute values of normal simulations"
   ]
  },
  {
   "cell_type": "code",
   "execution_count": null,
   "metadata": {},
   "outputs": [],
   "source": [
    "epsi_abs = abs(epsi)"
   ]
  },
  {
   "cell_type": "markdown",
   "metadata": {},
   "source": [
    "## [Step 2](https://www.arpm.co/lab/redirect.php?permalink=s_elltest_normal-implementation-step02): Compute normalized absolute values"
   ]
  },
  {
   "cell_type": "code",
   "execution_count": null,
   "metadata": {},
   "outputs": [],
   "source": [
    "# grades of absolute values\n",
    "epsi_abs_grade, *_ = cop_marg_sep(epsi_abs)\n",
    "# normalized absolute values\n",
    "epsiabs_tilde = stats.norm.ppf(epsi_abs_grade).squeeze()"
   ]
  },
  {
   "cell_type": "markdown",
   "metadata": {},
   "source": [
    "## [Step 3](https://www.arpm.co/lab/redirect.php?permalink=s_elltest_normal-implementation-step03): Ellipsoid test on normal simulations"
   ]
  },
  {
   "cell_type": "code",
   "execution_count": null,
   "metadata": {},
   "outputs": [],
   "source": [
    "plt.style.use('arpm')\n",
    "name1 = 'Invariance test on normal simulations'\n",
    "acf_epsi, conf_int = \\\n",
    "    invariance_test_ellipsoid(epsi, l_, conf_lev=conf_lev,\n",
    "                              fit=0, r=1.8,\n",
    "                              title=name1)\n",
    "fig = plt.gcf()\n",
    "add_logo(fig, set_fig_size=False, size_frac_x=1/8)"
   ]
  },
  {
   "cell_type": "markdown",
   "metadata": {},
   "source": [
    "## [Step 4](https://www.arpm.co/lab/redirect.php?permalink=s_elltest_normal-implementation-step04): Ellipsoid test on absolute value of normal simulations"
   ]
  },
  {
   "cell_type": "code",
   "execution_count": null,
   "metadata": {},
   "outputs": [],
   "source": [
    "plt.style.use('arpm')\n",
    "name2 = 'Invariance test on absolute values of normal simulations'\n",
    "acf_abs, conf_int = \\\n",
    "    invariance_test_ellipsoid(epsi_abs, l_, conf_lev=conf_lev,\n",
    "                              fit=0, r=1.8,\n",
    "                              title=name2,\n",
    "                              bl=[-0.1], bu=[0.7])\n",
    "fig = plt.gcf()\n",
    "add_logo(fig, set_fig_size=False, size_frac_x=1/8)"
   ]
  },
  {
   "cell_type": "markdown",
   "metadata": {},
   "source": [
    "## [Step 5](https://www.arpm.co/lab/redirect.php?permalink=s_elltest_normal-implementation-step05): Ellipsoid test on normalized absolute values"
   ]
  },
  {
   "cell_type": "code",
   "execution_count": null,
   "metadata": {},
   "outputs": [],
   "source": [
    "plt.style.use('arpm')\n",
    "name3 = 'Invariance test on normalized absolute values'\n",
    "acf_til, conf_int = \\\n",
    "    invariance_test_ellipsoid(epsiabs_tilde, l_,\n",
    "                              conf_lev=conf_lev, fit=0,\n",
    "                              r=1.8, title=name3)\n",
    "fig = plt.gcf()\n",
    "add_logo(fig, set_fig_size=False, size_frac_x=1/8)"
   ]
  }
 ],
 "metadata": {
  "kernelspec": {
   "display_name": "Python 3",
   "language": "python",
   "name": "python3"
  }
 },
 "nbformat": 4,
 "nbformat_minor": 4
}
