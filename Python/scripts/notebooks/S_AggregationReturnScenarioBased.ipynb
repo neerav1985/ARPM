{
 "cells": [
  {
   "cell_type": "markdown",
   "metadata": {},
   "source": [
    "# S_AggregationReturnScenarioBased [<img src=\"https://www.arpm.co/lab/icons/icon_permalink.png\" width=30 height=30 style=\"display: inline;\">](https://www.arpm.co/lab/redirect.php?code=S_AggregationReturnScenarioBased&codeLang=Python)\n",
    "For details, see [here](https://www.arpm.co/lab/redirect.php?permalink=EBAggrHistoricalExample)."
   ]
  },
  {
   "cell_type": "markdown",
   "metadata": {},
   "source": [
    "## Prepare the environment"
   ]
  },
  {
   "cell_type": "code",
   "execution_count": null,
   "metadata": {},
   "outputs": [],
   "source": [
    "import os\n",
    "import os.path as path\n",
    "import sys\n",
    "\n",
    "sys.path.append(path.abspath('../../functions-legacy'))\n",
    "\n",
    "from numpy import array, ones, round, r_\n",
    "\n",
    "from scipy.io import loadmat, savemat\n",
    "\n",
    "import matplotlib.pyplot as plt\n",
    "\n",
    "plt.style.use('seaborn')\n",
    "\n",
    "from CONFIG import GLOBAL_DB, TEMPORARY_DB\n",
    "from ARPM_utils import struct_to_dict"
   ]
  },
  {
   "cell_type": "markdown",
   "metadata": {},
   "source": [
    "## Load the temporary database generated in script S_PricingScenarioBased, which contains the joint scenario-probability distribution of the instruments' ex-ante P&L's"
   ]
  },
  {
   "cell_type": "code",
   "execution_count": null,
   "metadata": {},
   "outputs": [],
   "source": [
    "try:\n",
    "    db = loadmat(os.path.join(GLOBAL_DB, 'db_PricingScenarioBased'), squeeze_me=True)\n",
    "except FileNotFoundError:\n",
    "    db = loadmat(os.path.join(TEMPORARY_DB, 'db_PricingScenarioBased'), squeeze_me=True)"
   ]
  },
  {
   "cell_type": "markdown",
   "metadata": {},
   "source": [
    "## Compute the holdings corresponding to the following portfolio, fully invested in the n_=15 instruments\n",
    "## $50k are invested in the stocks, such that the stocks are equally weighted\n",
    "## The holdings in each bond are h=5000 (i.e. each bond has $5000 notional)\n",
    "## The call options (same expiry, increasing strikes) have respective\n",
    "## holdings equal to [1 -2, 1] (long butterfly strategy)"
   ]
  },
  {
   "cell_type": "code",
   "execution_count": null,
   "metadata": {},
   "outputs": [],
   "source": [
    "Stocks = struct_to_dict(db['Stocks'], as_namedtuple=False)\n",
    "Bonds = struct_to_dict(db['Bonds'], as_namedtuple=False)\n",
    "Options = struct_to_dict(db['Options'], as_namedtuple=False)\n",
    "v_tnow = db['v_tnow'].reshape(-1,1)\n",
    "Pi = db['Pi']\n",
    "t_ = db['t_']\n",
    "\n",
    "v0_stocks = 50000\n",
    "w_stocks = ones((Stocks['n_'], 1)) / Stocks['n_']\n",
    "Stocks['h'] = round((w_stocks * v0_stocks) / Stocks['v_tnow'].reshape(-1,1))\n",
    "Bonds['h'] = 5000 * ones((Bonds['n_'], 1))\n",
    "Options['h'] = array([[1], [-2], [1]])\n",
    "\n",
    "h = r_[Stocks['h'], Bonds['h'], Options['h']]  # ## holdings\n",
    "cash = 0"
   ]
  },
  {
   "cell_type": "markdown",
   "metadata": {},
   "source": [
    "### Compute the value of the portfolio and the standardized holdings"
   ]
  },
  {
   "cell_type": "code",
   "execution_count": null,
   "metadata": {},
   "outputs": [],
   "source": [
    "vh_tnow = h.T@v_tnow + cash  # portfolio's value\n",
    "htilde = h / vh_tnow  # standardized holdings"
   ]
  },
  {
   "cell_type": "markdown",
   "metadata": {},
   "source": [
    "### Compute the scenarios of the ex-ante performance (return) distribution"
   ]
  },
  {
   "cell_type": "code",
   "execution_count": null,
   "metadata": {},
   "outputs": [],
   "source": [
    "Y_htilde = htilde.T@Pi  # ## ex-ante performance (portfolio return)\n",
    "\n",
    "sdb = {k:v for k,v in db.items() if not str(k).startswith('__')}\n",
    "sdb.update({  'Stocks': Stocks,\n",
    "              'Bonds': Bonds,\n",
    "              'Options': Options,\n",
    "              'h': h,\n",
    "              'cash': cash,\n",
    "              'vh_tnow': vh_tnow,\n",
    "              'htilde': htilde,\n",
    "              'Y_htilde': Y_htilde\n",
    "                })\n",
    "savemat(os.path.join(TEMPORARY_DB, 'db_AggregationScenarioBased.mat'), sdb)"
   ]
  }
 ],
 "metadata": {
  "jupytext": {
   "encoding": "# -*- coding: utf-8 -*-",
   "executable": "/usr/bin/env python3"
  },
  "kernelspec": {
   "display_name": "Python 3",
   "language": "python",
   "name": "python3"
  }
 },
 "nbformat": 4,
 "nbformat_minor": 4
}
