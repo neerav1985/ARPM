{
 "cells": [
  {
   "cell_type": "markdown",
   "metadata": {},
   "source": [
    "# S_FullyExogenousLFM [<img src=\"https://www.arpm.co/lab/icons/icon_permalink.png\" width=30 height=30 style=\"display: inline;\">](https://www.arpm.co/lab/redirect.php?code=S_FullyExogenousLFM&codeLang=Python)\n",
    "For details, see [here](https://www.arpm.co/lab/redirect.php?permalink=eb-lfmsys-id-copy-1)."
   ]
  },
  {
   "cell_type": "markdown",
   "metadata": {},
   "source": [
    "## Prepare the environment"
   ]
  },
  {
   "cell_type": "code",
   "execution_count": null,
   "metadata": {},
   "outputs": [],
   "source": [
    "import os.path as path\n",
    "import sys\n",
    "\n",
    "sys.path.append(path.abspath('../../functions-legacy'))\n",
    "\n",
    "from numpy import array, zeros, eye, r_\n",
    "\n",
    "import matplotlib.pyplot as plt\n",
    "\n",
    "plt.style.use('seaborn')\n",
    "\n",
    "# set inputs\n",
    "mu_X = array([[1],[-1]])\n",
    "mu_Z = array([[1]])\n",
    "mu_jointXZ = r_[mu_X, mu_Z]\n",
    "\n",
    "sigma2_X = array([[4, 3], [3, 5]])\n",
    "sigma_XZ = array([[3], [3]])\n",
    "Sigma_Z = array([[3]])\n",
    "sigma2_jointXZ = r_[r_['-1',sigma2_X, sigma_XZ], r_['-1',sigma_XZ.T, Sigma_Z]]\n",
    "\n",
    "beta = array([[2], [1]])\n",
    "alpha = array([[1], [-2]])\n",
    "\n",
    "n_ = mu_X.shape[0]  # target dimension\n",
    "k_ = mu_Z.shape[0]  # number of factors\n",
    "i_n = eye(n_)\n",
    "i_k = eye(k_)"
   ]
  },
  {
   "cell_type": "markdown",
   "metadata": {},
   "source": [
    "## Compute expectation and covariance of the joint distribution of U and Z"
   ]
  },
  {
   "cell_type": "code",
   "execution_count": null,
   "metadata": {},
   "outputs": [],
   "source": [
    "m = r_[r_['-1',i_n, -beta], r_['-1',zeros((k_, n_)), i_k]]\n",
    "\n",
    "mu_jointUZ = m@mu_jointXZ - r_[alpha, zeros((k_, 1))]\n",
    "sigma2_jointUZ = m@sigma2_jointXZ@m.T"
   ]
  }
 ],
 "metadata": {
  "jupytext": {
   "encoding": "# -*- coding: utf-8 -*-",
   "executable": "/usr/bin/env python3"
  },
  "kernelspec": {
   "display_name": "Python 3",
   "language": "python",
   "name": "python3"
  }
 },
 "nbformat": 4,
 "nbformat_minor": 4
}
