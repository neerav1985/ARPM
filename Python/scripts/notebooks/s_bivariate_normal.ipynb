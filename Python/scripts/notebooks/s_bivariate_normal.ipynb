{
 "cells": [
  {
   "cell_type": "markdown",
   "metadata": {},
   "source": [
    "# s_bivariate_normal [<img src=\"https://www.arpm.co/lab/icons/icon_permalink.png\" width=30 height=30 style=\"display: inline;\">](https://www.arpm.co/lab/redirect.php?code=s_bivariate_normal&codeLang=Python)\n",
    "For details, see [here](https://www.arpm.co/lab/redirect.php?permalink=s_bivariate_normal)."
   ]
  },
  {
   "cell_type": "code",
   "execution_count": null,
   "metadata": {},
   "outputs": [],
   "source": [
    "import numpy as np\n",
    "from scipy.stats import multivariate_normal\n",
    "import matplotlib.pyplot as plt\n",
    "from mpl_toolkits import mplot3d\n",
    "from matplotlib import cm\n",
    "\n",
    "from arpym.tools.logo import add_logo"
   ]
  },
  {
   "cell_type": "markdown",
   "metadata": {},
   "source": [
    "## [Input parameters](https://www.arpm.co/lab/redirect.php?permalink=s_bivariate_normal-parameters)"
   ]
  },
  {
   "cell_type": "code",
   "execution_count": null,
   "metadata": {},
   "outputs": [],
   "source": [
    "# location parameter\n",
    "mu = np.array([0, 0])\n",
    "# dispersion parameter\n",
    "sigma2 = np.array([[1, 0],\n",
    "                   [0, 1]])"
   ]
  },
  {
   "cell_type": "markdown",
   "metadata": {},
   "source": [
    "## [Step 1](https://www.arpm.co/lab/redirect.php?permalink=s_bivariate_normal-implementation-step01): Define grid of input values"
   ]
  },
  {
   "cell_type": "code",
   "execution_count": null,
   "metadata": {},
   "outputs": [],
   "source": [
    "x1 = np.linspace(mu[0] - 3*np.sqrt(sigma2[0,0]),\n",
    "            mu[0] + 3*np.sqrt(sigma2[0,0]),\n",
    "            100)\n",
    "x2 = np.linspace(mu[1] - 3*np.sqrt(sigma2[1,1]),\n",
    "            mu[1] + 3*np.sqrt(sigma2[1,1]),\n",
    "            100)\n",
    "x1_grid, x2_grid = np.meshgrid(x1, x2)\n",
    "x_grid = np.stack([x1_grid, x2_grid], axis=2)"
   ]
  },
  {
   "cell_type": "markdown",
   "metadata": {},
   "source": [
    "## [Step 2](https://www.arpm.co/lab/redirect.php?permalink=s_bivariate_normal-implementation-step02): Calculate pdf values"
   ]
  },
  {
   "cell_type": "code",
   "execution_count": null,
   "metadata": {},
   "outputs": [],
   "source": [
    "pdf = multivariate_normal.pdf(x_grid, mu, sigma2)"
   ]
  },
  {
   "cell_type": "markdown",
   "metadata": {},
   "source": [
    "## Plots"
   ]
  },
  {
   "cell_type": "code",
   "execution_count": null,
   "metadata": {},
   "outputs": [],
   "source": [
    "plt.style.use('arpm')\n",
    "\n",
    "# axis limits\n",
    "delta = np.sqrt(max(sigma2[0,0], sigma2[1,1]))\n",
    "\n",
    "# pdf\n",
    "fig = plt.figure(figsize=(1280.0/72.0, 720.0/72.0), dpi = 72.0,\n",
    "                 facecolor = 'white')\n",
    "fig.suptitle('Normal pdf iso-contours',\n",
    "            fontsize=20, fontweight='bold')\n",
    "ax1 = fig.add_subplot(1, 2, 1, projection='3d')\n",
    "ax1.contour(x1_grid, x2_grid, pdf, 15, cmap=cm.coolwarm)\n",
    "\n",
    "ax1.set_xlabel(r'$x_1$', fontsize=17)\n",
    "ax1.set_xlim(mu[0]-3*delta, mu[0]+3*delta)\n",
    "plt.xticks(fontsize=14)\n",
    "ax1.set_ylabel(r'$x_2$', fontsize=17)\n",
    "ax1.set_ylim(mu[1]-3*delta, mu[1]+3*delta)\n",
    "plt.yticks(fontsize=14)\n",
    "ax1.set_zlim(0, np.max(pdf)*1.05)\n",
    "ax1.set_zticks(np.arange(0, np.max(pdf)*1.05, 0.05))\n",
    "for tick in ax1.zaxis.get_major_ticks():\n",
    "    tick.label.set_fontsize(14)\n",
    "\n",
    "ax1.w_xaxis.set_pane_color((1.0, 1.0, 1.0, 1.0))\n",
    "ax1.w_yaxis.set_pane_color((1.0, 1.0, 1.0, 1.0))\n",
    "ax1.w_zaxis.set_pane_color((1.0, 1.0, 1.0, 1.0))\n",
    "ax1.view_init(20, -125)\n",
    "\n",
    "# iso-contours\n",
    "ax2 = fig.add_subplot(1, 2, 2)\n",
    "ax2.contour(x1_grid, x2_grid, pdf, 15, cmap=cm.coolwarm)\n",
    "\n",
    "ax2.set_aspect('equal')\n",
    "ax2.set_xlabel(r'$x_1$', fontsize=17)\n",
    "ax2.set_xlim(mu[0]-3*delta, mu[0]+3*delta)\n",
    "plt.xticks(fontsize=14)\n",
    "ax2.set_ylabel(r'$x_2$', fontsize=17)\n",
    "ax2.set_ylim(mu[1]-3*delta, mu[1]+3*delta)\n",
    "plt.yticks(fontsize=14)\n",
    "\n",
    "add_logo(fig, set_fig_size=False, location=1)\n",
    "plt.tight_layout()"
   ]
  }
 ],
 "metadata": {
  "jupytext": {
   "formats": "ipynb,py:light"
  },
  "kernelspec": {
   "display_name": "Python 3",
   "language": "python",
   "name": "python3"
  }
 },
 "nbformat": 4,
 "nbformat_minor": 4
}
