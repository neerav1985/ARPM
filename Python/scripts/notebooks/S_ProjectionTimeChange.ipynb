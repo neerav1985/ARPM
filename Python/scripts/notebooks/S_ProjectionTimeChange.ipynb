{
 "cells": [
  {
   "cell_type": "markdown",
   "metadata": {},
   "source": [
    "# S_ProjectionTimeChange [<img src=\"https://www.arpm.co/lab/icons/icon_permalink.png\" width=30 height=30 style=\"display: inline;\">](https://www.arpm.co/lab/redirect.php?code=S_ProjectionTimeChange&codeLang=Python)\n",
    "For details, see [here](https://www.arpm.co/lab/redirect.php?permalink=eb-time-changed-browiona-motion)."
   ]
  },
  {
   "cell_type": "markdown",
   "metadata": {},
   "source": [
    "## Prepare the environment"
   ]
  },
  {
   "cell_type": "code",
   "execution_count": null,
   "metadata": {},
   "outputs": [],
   "source": [
    "import os\n",
    "import os.path as path\n",
    "import sys\n",
    "from collections import namedtuple\n",
    "\n",
    "sys.path.append(path.abspath('../../functions-legacy'))\n",
    "\n",
    "from numpy import arange, array, zeros, cumsum, diff, abs, log, exp, sqrt, tile, r_\n",
    "from numpy import sum as npsum, min as npmin, max as npmax\n",
    "from numpy.random import multivariate_normal as mvnrnd\n",
    "\n",
    "from scipy.stats import t\n",
    "from scipy.io import loadmat\n",
    "\n",
    "import matplotlib.pyplot as plt\n",
    "from matplotlib.pyplot import figure, plot, ylabel, \\\n",
    "    xlabel, title\n",
    "\n",
    "plt.style.use('seaborn')\n",
    "\n",
    "from CONFIG import GLOBAL_DB, TEMPORARY_DB\n",
    "from ARPM_utils import struct_to_dict, save_plot\n",
    "from FPmeancov import FPmeancov\n",
    "from StochTime import StochTime\n",
    "from FitCIR_FP import FitCIR_FP"
   ]
  },
  {
   "cell_type": "markdown",
   "metadata": {},
   "source": [
    "## Upload databases"
   ]
  },
  {
   "cell_type": "code",
   "execution_count": null,
   "metadata": {},
   "outputs": [],
   "source": [
    "try:\n",
    "    db = loadmat(os.path.join(GLOBAL_DB, 'db_Stocks'), squeeze_me=True)\n",
    "except FileNotFoundError:\n",
    "    db = loadmat(os.path.join(TEMPORARY_DB, 'db_Stocks'), squeeze_me=True)\n",
    "\n",
    "SPX = struct_to_dict(db['SPX'])"
   ]
  },
  {
   "cell_type": "markdown",
   "metadata": {},
   "source": [
    "## Compute the time series of risk driver"
   ]
  },
  {
   "cell_type": "code",
   "execution_count": null,
   "metadata": {},
   "outputs": [],
   "source": [
    "date = SPX.Date\n",
    "x = log(SPX.Price_close).reshape(1,-1)\n",
    "dx = diff(x)"
   ]
  },
  {
   "cell_type": "markdown",
   "metadata": {},
   "source": [
    "## Estimate realized variance"
   ]
  },
  {
   "cell_type": "code",
   "execution_count": null,
   "metadata": {},
   "outputs": [],
   "source": [
    "s_ = 252  # forward/backward parameter\n",
    "lambda1 = log(2) / 5  # half-life one week\n",
    "p1 = exp(-lambda1*abs(arange(-s_,s_+1))).reshape(1,-1)\n",
    "p1 = p1 / npsum(p1)\n",
    "\n",
    "t_var = dx.shape[1] - 2*s_\n",
    "y = zeros((1, t_var))\n",
    "for s in range(t_var):\n",
    "    dx_temp = dx[0,s:s + 2*s_+1]\n",
    "    y[0,s] = p1@(dx_temp.T ** 2)\n",
    "\n",
    "# daily variance\n",
    "dx = dx[:,s_ :s_ + t_var]\n",
    "x = x[:,s_ :s_ + t_var + 1]"
   ]
  },
  {
   "cell_type": "markdown",
   "metadata": {},
   "source": [
    "## Calibrate the CIR process"
   ]
  },
  {
   "cell_type": "code",
   "execution_count": null,
   "metadata": {},
   "outputs": [],
   "source": [
    "t_obs = 252*4  # 4 years\n",
    "lambda2 = log(2) / (21*9)  # half-life 9 months\n",
    "p2 = exp(-lambda2*arange(t_obs, 1 + -1, -1)).reshape(1,-1)\n",
    "p2 = p2 / npsum(p2)\n",
    "\n",
    "delta_t = 1  # fix the unit time-step to 1 day\n",
    "\n",
    "par_CIR = FitCIR_FP(y[0,- t_obs:], delta_t, None, p2)\n",
    "\n",
    "kappa = par_CIR[0]\n",
    "y_ = par_CIR[1]\n",
    "eta = par_CIR[2]"
   ]
  },
  {
   "cell_type": "markdown",
   "metadata": {},
   "source": [
    "## Estimate mu (drift parameter of X) and rho (correlation between Brownian motions)"
   ]
  },
  {
   "cell_type": "code",
   "execution_count": null,
   "metadata": {},
   "outputs": [],
   "source": [
    "dy = diff(y)\n",
    "xy = r_[dx[:,- t_obs:], dy[:,- t_obs:]]\n",
    "[mu_xy, sigma2_xy] = FPmeancov(xy, p2)  # daily mean vector and covariance matrix\n",
    "\n",
    "mu = mu_xy[0]  # daily mean\n",
    "rho = sigma2_xy[0, 1] / sqrt(sigma2_xy[0, 0]*sigma2_xy[1, 1])  # correlation parameter"
   ]
  },
  {
   "cell_type": "markdown",
   "metadata": {},
   "source": [
    "## Initialize projection variables"
   ]
  },
  {
   "cell_type": "code",
   "execution_count": null,
   "metadata": {},
   "outputs": [],
   "source": [
    "dt = 1  # two days\n",
    "tau = 5*252  # ten years\n",
    "t_j = arange(0,tau+dt,dt)\n",
    "t_sim = len(t_j) - 1\n",
    "j_ = 2"
   ]
  },
  {
   "cell_type": "markdown",
   "metadata": {},
   "source": [
    "## Simulate paths"
   ]
  },
  {
   "cell_type": "code",
   "execution_count": null,
   "metadata": {},
   "outputs": [],
   "source": [
    "# initialize variables\n",
    "Y = zeros((j_, t_sim + 1))\n",
    "T = zeros((j_, t_sim + 1))\n",
    "dT = zeros((j_, t_sim))\n",
    "dX = zeros((j_, t_sim))\n",
    "Y[:, [0]] = tile(y[[0],-1], (j_, 1))\n",
    "\n",
    "# initialize inputs for stoch. time function\n",
    "inp = namedtuple('inp','kappa s2_ eta S2_t z')\n",
    "inp.kappa = kappa\n",
    "inp.s2_ = y_\n",
    "inp.eta = eta\n",
    "\n",
    "# Euler scheme\n",
    "for t in range(t_sim):\n",
    "    W = mvnrnd([0,0], array([[1, rho],[rho, 1]]), j_)\n",
    "    inp.S2_t = Y[:,t]\n",
    "    inp.z = W[:, 0]\n",
    "    dT[:,t] = StochTime(dt, 'Heston', inp)  # stochastic time\n",
    "    Y[:, t + 1] = dT[:,t] / dt  # variance process\n",
    "    T[:, t + 1] = T[:,t]+dT[:,t]  # time-change process\n",
    "    dX[:,t] = mu*dt + sqrt(dT[:,t])*W[:, 1]\n",
    "\n",
    "X = x[:,-1] + r_['-1',zeros((j_, 1)), cumsum(dX, 1)]"
   ]
  },
  {
   "cell_type": "markdown",
   "metadata": {},
   "source": [
    "## Generate the figure"
   ]
  },
  {
   "cell_type": "code",
   "execution_count": null,
   "metadata": {},
   "outputs": [],
   "source": [
    "s_ = 1\n",
    "\n",
    "# figure settings\n",
    "dgrey = [0.5, 0.5, 0.5]\n",
    "color = {}\n",
    "color [0]= 'b'\n",
    "color [1]= [.9, .35, 0]\n",
    "color [2]= 'm'\n",
    "color [3]= 'g'\n",
    "color [4]= 'c'\n",
    "color [5]= 'y'\n",
    "tau_plot = tau / 252\n",
    "t = arange(-s_,tau_plot+1/25, 1/25)\n",
    "\n",
    "f, ax = plt.subplots(3, 1)\n",
    "plt.sca(ax[0])\n",
    "m_x = min([npmin(X), npmin(x[:,-252*s_:])])*.9\n",
    "M_x = max([npmax(X), npmax(x[:,-252*s_:])])*1.1\n",
    "plt.axis([-s_, tau_plot, m_x, M_x])\n",
    "ylabel('Risk driver')\n",
    "plt.grid(False)\n",
    "title('Heston process (Stochastic time-changed Brownian motion)')\n",
    "for j in range(j_):\n",
    "    plot(t_j / 252, X[j,:], color= color[j], lw=2)\n",
    "\n",
    "for s in range(s_*252 + 1):\n",
    "    plot(-s_+(s-1) / 252, x[:,-252*s_+s-1], color=dgrey, lw=2)\n",
    "\n",
    "plt.sca(ax[1])\n",
    "m_y = min([npmin(Y), npmin(y[:,- 252*s_:])])*.9\n",
    "M_y = max([npmax(Y), npmax(y[:,- 252*s_:])])*1.1\n",
    "range_y = M_y - m_y\n",
    "m_y = m_y - range_y*.15\n",
    "M_y = M_y + range_y*.15\n",
    "plt.axis([-s_, tau_plot, m_y, M_y])\n",
    "ylabel('Stoch. variance')\n",
    "plt.grid(False)\n",
    "title('Square-root (CIR) process')\n",
    "for j in range(j_):\n",
    "    plot(t_j / 252, Y[j,:], color= color[j], lw=2)\n",
    "\n",
    "for s in range(s_*252 + 1):\n",
    "    plot(-s_+(s-1) / 252, y[:,-252*s_+s-1], color=dgrey, lw=2)\n",
    "\n",
    "plt.sca(ax[2])\n",
    "m_t = -npmax(T)*.1\n",
    "M_t = npmax(T)*1.1\n",
    "plt.axis([-s_, tau_plot, m_t, M_t])\n",
    "xlabel('time (years)')\n",
    "ylabel('Stoch. time')\n",
    "plt.grid(False)\n",
    "title('Integrated square-root process')\n",
    "for j in range(j_):\n",
    "    plot(t_j / 252, T[j,:], color= color[j], lw=2)\n",
    "\n",
    "for s in range(s_*252 + 1):\n",
    "    plot(-s_+(s-1) / 252, 0, color=dgrey, lw=2)\n",
    "plt.tight_layout();\n",
    "# save_plot(ax=plt.gca(), extension='png', scriptname=os.path.basename('.')[:-3], count=plt.get_fignums()[-1])\n"
   ]
  }
 ],
 "metadata": {
  "jupytext": {
   "encoding": "# -*- coding: utf-8 -*-",
   "executable": "/usr/bin/env python3"
  },
  "kernelspec": {
   "display_name": "Python 3",
   "language": "python",
   "name": "python3"
  }
 },
 "nbformat": 4,
 "nbformat_minor": 4
}
