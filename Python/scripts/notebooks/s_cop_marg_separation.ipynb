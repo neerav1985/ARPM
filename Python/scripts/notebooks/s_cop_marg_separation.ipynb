{
 "cells": [
  {
   "cell_type": "markdown",
   "metadata": {},
   "source": [
    "# s_cop_marg_separation [<img src=\"https://www.arpm.co/lab/icons/icon_permalink.png\" width=30 height=30 style=\"display: inline;\">](https://www.arpm.co/lab/redirect.php?code=s_cop_marg_separation&codeLang=Python)\n",
    "For details, see [here](https://www.arpm.co/lab/redirect.php?permalink=s_cop_marg_separation)."
   ]
  },
  {
   "cell_type": "code",
   "execution_count": null,
   "metadata": {},
   "outputs": [],
   "source": [
    "import pandas as pd\n",
    "import numpy as np\n",
    "from scipy import interpolate\n",
    "import matplotlib.pyplot as plt\n",
    "import matplotlib.gridspec as gridspec\n",
    "from matplotlib import rc, rcParams\n",
    "\n",
    "rc('text', usetex=True)\n",
    "rcParams['text.latex.preamble']=[r\"\\usepackage{amsmath} \\usepackage{amssymb}\"]\n",
    "\n",
    "from arpym.statistics.cop_marg_sep import cop_marg_sep\n",
    "from arpym.statistics.simulate_t import simulate_t\n",
    "from arpym.tools.logo import add_logo"
   ]
  },
  {
   "cell_type": "markdown",
   "metadata": {},
   "source": [
    "## [Input parameters](https://www.arpm.co/lab/redirect.php?permalink=s_cop_marg_separation-parameters)"
   ]
  },
  {
   "cell_type": "code",
   "execution_count": null,
   "metadata": {},
   "outputs": [],
   "source": [
    "j_ = 10**5  # number of scenarios\n",
    "mu_eps = np.zeros(2)  # location of Student t residuals\n",
    "sigma2_eps = np.eye(2)  # scale of Student t residuals\n",
    "nu_eps = 5  # degrees of freedom of Student t residuals\n",
    "mu_z = np.zeros(1)  # location of Student t factors\n",
    "sigma2_z = np.eye(1)  # scale of Student t factors\n",
    "nu_z = 2  # degrees of freedom of Student t factors\n",
    "b = np.array([[np.cos(1.8)], [np.sin(0.1)]])  # factor loadings"
   ]
  },
  {
   "cell_type": "markdown",
   "metadata": {},
   "source": [
    "## [Step 1](https://www.arpm.co/lab/redirect.php?permalink=s_cop_marg_separation-implementation-step01): Generate scenarios for target variable with equal probabilities"
   ]
  },
  {
   "cell_type": "code",
   "execution_count": null,
   "metadata": {},
   "outputs": [],
   "source": [
    "z = simulate_t(mu_z, sigma2_z, nu_z, j_).reshape((j_, -1))  # generate scenarios of Student t residuals\n",
    "eps = simulate_t(mu_eps, sigma2_eps, nu_eps, j_).reshape((j_, -1))  # generate scenarios of Student t factors\n",
    "x = z@b.T + eps  # generate target scenarios\n",
    "p = np.ones(j_)/j_  # set uniform probabilities"
   ]
  },
  {
   "cell_type": "markdown",
   "metadata": {},
   "source": [
    "## [Step 2](https://www.arpm.co/lab/redirect.php?permalink=s_cop_marg_separation-implementation-step02): Separation step"
   ]
  },
  {
   "cell_type": "code",
   "execution_count": null,
   "metadata": {},
   "outputs": [],
   "source": [
    "u, x_sort, cdf_x = cop_marg_sep(x, p=p)\n",
    "cdf_x_tilde1 = interpolate.interp1d(x_sort[:, 0], cdf_x[:, 0],\n",
    "                                       kind='linear')  # separation step\n",
    "cdf_x_tilde2 = interpolate.interp1d(x_sort[:, 1], cdf_x[:, 1],\n",
    "                                       kind='linear')  # interpolation"
   ]
  },
  {
   "cell_type": "markdown",
   "metadata": {},
   "source": [
    "## Save the data"
   ]
  },
  {
   "cell_type": "code",
   "execution_count": null,
   "metadata": {},
   "outputs": [],
   "source": [
    "output = {\n",
    "          'j_': pd.Series(j_),\n",
    "          'n_': pd.Series(u.shape[1]),\n",
    "          'u': pd.Series(u.reshape(-1))\n",
    "          }\n",
    "\n",
    "df = pd.DataFrame(output)\n",
    "df.to_csv('~/databases/temporary-databases/db_separation_data.csv')"
   ]
  },
  {
   "cell_type": "markdown",
   "metadata": {},
   "source": [
    "## Plot"
   ]
  },
  {
   "cell_type": "code",
   "execution_count": null,
   "metadata": {},
   "outputs": [],
   "source": [
    "plt.style.use('arpm')\n",
    "\n",
    "# Colors\n",
    "y_color = [153/255, 205/255, 129/255]\n",
    "u_color = [60/255, 149/255, 145/255]\n",
    "x_color = [4/255, 63/255, 114/255]\n",
    "m_color = [63/255, 0/255, 102/255]\n",
    "\n",
    "# Figure specifications\n",
    "plt.figure()\n",
    "mydpi = 72.0\n",
    "f = plt.figure(figsize=(1280.0/mydpi, 720.0/mydpi), dpi=mydpi)\n",
    "gs0 = gridspec.GridSpec(2, 2)\n",
    "\n",
    "xlim = [np.percentile(x[:, 0], 0.5), np.percentile(x[:, 0], 99.5)]\n",
    "ylim = [np.percentile(x[:, 1], 0.5), np.percentile(x[:, 1], 99.5)]\n",
    "u_lim = [0, 1]\n",
    "y1_plot = np.linspace(x_sort[0, 0], x_sort[-1, 0], 10**5)\n",
    "y2_plot = np.linspace(x_sort[0, -1], x_sort[-1, 1], 10**5)\n",
    "\n",
    "# Marginal X1\n",
    "gs00 = gridspec.GridSpecFromSubplotSpec(23, 20,\n",
    "                  subplot_spec=gs0[0], wspace=2, hspace=2.5)\n",
    "ax1 = plt.Subplot(f, gs00[:-5, 4:-4], ylim=u_lim, xlim=xlim)\n",
    "f.add_subplot(ax1)\n",
    "ax1.tick_params(labelsize=14)\n",
    "plt.plot(y1_plot, cdf_x_tilde1(y1_plot), lw=2, color=y_color)\n",
    "plt.ylabel('$F_{X_1}$', fontsize=17)\n",
    "\n",
    "# Copula scenarios\n",
    "gs01 = gridspec.GridSpecFromSubplotSpec(46, 18, subplot_spec=gs0[1],\n",
    "                                        wspace=0, hspace=0.6)\n",
    "ax2 = plt.Subplot(f, gs01[:-10, 4:-5], ylim=[0, 1], xlim=[0, 1])\n",
    "f.add_subplot(ax2)\n",
    "plt.scatter(u[:, 1], u[:, 0], s=5, color=u_color)\n",
    "ax2.tick_params(labelsize=14)\n",
    "plt.title(r'Copula $\\boldsymbol{U}$', fontsize=20, fontweight='bold', y=1.03)\n",
    "ax2_txt = ax2.text(0.1, 0.9, \"\", fontsize=20, color=m_color)\n",
    "ax2_title_1 = r'$\\mathbb{C}$' + r'$r$' + r\"$\\{U_1,U_2\\}=%2.2f$\" % (np.corrcoef(u[:, :2].T)[0, 1])\n",
    "ax2_txt.set_text(ax2_title_1)\n",
    "plt.xlabel('$U_2$', fontsize=17, labelpad=-8)\n",
    "plt.ylabel('$U_1$', fontsize=17, labelpad=-10)\n",
    "\n",
    "# Grade U1\n",
    "ax3 = plt.Subplot(f, gs01[:-10, 2])\n",
    "f.add_subplot(ax3)\n",
    "ax3.tick_params(labelsize=14)\n",
    "plt.xlim([0, 2])\n",
    "plt.ylim([0, 1])\n",
    "ax3.tick_params(axis='y', colors='None')\n",
    "plt.hist(np.sort(u[:, 0]), weights=p, bins=int(10*np.log(j_)), density=True,\n",
    "         color=u_color, orientation='horizontal')\n",
    "plt.xlabel('$f_{U_1}$', fontsize=17)\n",
    "ax3.xaxis.tick_top()\n",
    "\n",
    "# Grade U2\n",
    "ax4 = plt.Subplot(f, gs01[41:46, 4:-5], sharex=ax2)\n",
    "f.add_subplot(ax4)\n",
    "plt.hist(np.sort(u[:, 1]), weights=p, bins=int(10*np.log(j_)),\n",
    "         density=True, color=u_color)\n",
    "ax4.tick_params(labelsize=14)\n",
    "ax4.tick_params(axis='x', colors='white')\n",
    "ax4.yaxis.tick_right()\n",
    "plt.ylabel('$f_{U_2}$', fontsize=17)\n",
    "plt.ylim([0, 2])\n",
    "plt.xlim([0, 1])\n",
    "\n",
    "# Joint scenarios\n",
    "gs02 = gridspec.GridSpecFromSubplotSpec(2*25, 2*20,\n",
    "            subplot_spec=gs0[2], wspace=0.6, hspace=1)\n",
    "ax5 = plt.Subplot(f, gs02[2*7:, 2*4:-8], ylim=ylim, xlim=xlim)\n",
    "f.add_subplot(ax5)\n",
    "plt.scatter(x[:, 0], x[:, 1], s=5, color=y_color, label=r'$F_{X_{1}}(x)$')\n",
    "ax5.tick_params(labelsize=14)\n",
    "plt.xlabel('$X_1$', fontsize=17)\n",
    "plt.ylabel('$X_2$', fontsize=17)\n",
    "ax5_title = 'Joint' + r' $\\boldsymbol{X}=\\boldsymbol{\\beta}Z + \\boldsymbol{\\varepsilon}$'\n",
    "plt.title(ax5_title, fontsize=20, fontweight='bold', y=-0.3)\n",
    "ax5_txt = ax5.text(-3.5, 2, \"\", fontsize=20, color=m_color)\n",
    "ax5_title_1 = r'$\\mathbb{C}$' + r'$r$' + r\"$\\{X_1,X_2\\}=%2.2f$\" % (np.corrcoef(x[:, :2].T)[0, 1])\n",
    "ax5_txt.set_text(ax5_title_1)\n",
    "\n",
    "# Histogram X1\n",
    "ax7 = plt.Subplot(f, gs02[0:12, 2*4:-8], sharex=ax5)\n",
    "f.add_subplot(ax7)\n",
    "plt.hist(x[:, 0], weights=p, bins=int(80*np.log(j_)),\n",
    "         density=True, color=y_color)\n",
    "ax7.tick_params(labelsize=14)\n",
    "ax7.set_ylim([0, 0.45])\n",
    "ax7.set_xlim(xlim)\n",
    "ax7.tick_params(axis='x', colors='None')\n",
    "plt.ylabel('$f_{X_1}$', fontsize=17)\n",
    "\n",
    "# Histogram X2\n",
    "ax8 = plt.Subplot(f, gs02[2*7:, -7:-2], sharey=ax5)\n",
    "f.add_subplot(ax8)\n",
    "plt.hist(x[:, 1], weights=p, bins=int(80*np.log(j_)), density=True,\n",
    "         orientation='horizontal', color=y_color)\n",
    "ax8.tick_params(labelsize=14)\n",
    "ax8.set_xlim([0, 0.4])\n",
    "ax8.set_ylim(ylim)\n",
    "ax8.tick_params(axis='y', colors='None')\n",
    "plt.xlabel('$f_{X_2}$', fontsize=17)\n",
    "\n",
    "# Marginal X2\n",
    "gs03 = gridspec.GridSpecFromSubplotSpec(25, 18, subplot_spec=gs0[3])\n",
    "ax6 = plt.Subplot(f, gs03[7:, 4:-5], sharey=ax5)\n",
    "f.add_subplot(ax6)\n",
    "plt.plot(cdf_x_tilde2(y2_plot), y2_plot, lw=2, color=y_color)\n",
    "plt.xlabel('$F_{X_2}$', fontsize=17)\n",
    "ax6.tick_params(labelsize=14)\n",
    "ax6.set_ylim(ylim)\n",
    "plt.xlim([0, 1])\n",
    "\n",
    "add_logo(f, location=4, set_fig_size=False)\n",
    "plt.tight_layout()"
   ]
  }
 ],
 "metadata": {
  "jupytext": {
   "encoding": "# -*- coding: utf-8 -*-",
   "executable": "/usr/bin/env python3"
  },
  "kernelspec": {
   "display_name": "Python 3",
   "language": "python",
   "name": "python3"
  }
 },
 "nbformat": 4,
 "nbformat_minor": 4
}
