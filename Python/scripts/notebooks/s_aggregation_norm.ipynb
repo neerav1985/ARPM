{
 "cells": [
  {
   "cell_type": "markdown",
   "metadata": {},
   "source": [
    "# s_aggregation_norm [<img src=\"https://www.arpm.co/lab/icons/icon_permalink.png\" width=30 height=30 style=\"display: inline;\">](https://www.arpm.co/lab/redirect.php?code=s_aggregation_norm&codeLang=Python)\n",
    "For details, see [here](https://www.arpm.co/lab/redirect.php?permalink=eb-normal-first-order-approx)."
   ]
  },
  {
   "cell_type": "code",
   "execution_count": null,
   "metadata": {},
   "outputs": [],
   "source": [
    "import pandas as pd\n",
    "import numpy as np\n",
    "from scipy.stats import norm\n",
    "import matplotlib.pyplot as plt\n",
    "\n",
    "from arpym.tools.histogram_sp import histogram_sp\n",
    "from arpym.tools.logo import add_logo"
   ]
  },
  {
   "cell_type": "markdown",
   "metadata": {},
   "source": [
    "## [Input parameters](https://www.arpm.co/lab/redirect.php?permalink=s_aggregation_norm-parameters)"
   ]
  },
  {
   "cell_type": "code",
   "execution_count": null,
   "metadata": {},
   "outputs": [],
   "source": [
    "h = np.array([100000, 80000])  # portfolio holdings"
   ]
  },
  {
   "cell_type": "markdown",
   "metadata": {},
   "source": [
    "## [Step 1](https://www.arpm.co/lab/redirect.php?permalink=s_aggregation_norm-implementation-step01): Load data"
   ]
  },
  {
   "cell_type": "code",
   "execution_count": null,
   "metadata": {},
   "outputs": [],
   "source": [
    "path = '~/databases/temporary-databases'\n",
    "df = pd.read_csv(path + '/db_pricing_zcb.csv', header=0)\n",
    "\n",
    "j_, _ = df.shape  # number of scenarios\n",
    "# number of key-rates\n",
    "d_ = len(np.array(df['y_tnow'].dropna(axis=0, how='all')))\n",
    "# number of instruments\n",
    "n_ = len(np.array(df['v_zcb_tnow'].dropna(axis=0, how='all')))\n",
    "\n",
    "# scenarios for the ex-ante P&L's\n",
    "pl = np.array([df['pl' + str(i + 1)] for i in range(n_)]).T\n",
    "# bonds' P&L's mean\n",
    "mu_pl = np.array(df['mu_pl'].dropna(axis=0, how='all'))\n",
    "# bonds' P&L's covariance\n",
    "sig2_pl = np.array(df['sig2_pl'].dropna(axis=0, how='all')).reshape((n_, n_))\n",
    "\n",
    "# horizon\n",
    "deltat = float(df['time2hor_tnow'].dropna(axis=0, how='all'))"
   ]
  },
  {
   "cell_type": "markdown",
   "metadata": {},
   "source": [
    "## [Step 2](https://www.arpm.co/lab/redirect.php?permalink=s_aggregation_norm-implementation-step02): Scenarios for the portfolio's P&L and its expectation and variance"
   ]
  },
  {
   "cell_type": "code",
   "execution_count": null,
   "metadata": {},
   "outputs": [],
   "source": [
    "pl_h = pl@h  # portfolio P&L scenarios\n",
    "mu_h = mu_pl@h  # portfolio P&L expectation\n",
    "sig2_h = h@sig2_pl@h  # portfolio P&L variance"
   ]
  },
  {
   "cell_type": "markdown",
   "metadata": {},
   "source": [
    "## [Step 3](https://www.arpm.co/lab/redirect.php?permalink=s_aggregation_norm-implementation-step03): Compute the heights and bin centers of the histogram"
   ]
  },
  {
   "cell_type": "code",
   "execution_count": null,
   "metadata": {},
   "outputs": [],
   "source": [
    "f_pi_h, ksi = histogram_sp(pl_h, p=(1 / j_ * np.ones(j_)), k_=np.round(10 * np.log(j_)))"
   ]
  },
  {
   "cell_type": "markdown",
   "metadata": {},
   "source": [
    "## [Step 4](https://www.arpm.co/lab/redirect.php?permalink=s_aggregation_norm-implementation-step04): Save data in database db_aggregation_normal"
   ]
  },
  {
   "cell_type": "code",
   "execution_count": null,
   "metadata": {},
   "outputs": [],
   "source": [
    "output = {'n_': pd.Series(n_),\n",
    "          'mu_h': pd.Series(mu_h),\n",
    "          'sig2_h': pd.Series(sig2_h),\n",
    "          'h': pd.Series(h),\n",
    "         }\n",
    "\n",
    "df = pd.DataFrame(output)\n",
    "df.to_csv('~/databases/temporary-databases/db_aggregation_normal.csv')"
   ]
  },
  {
   "cell_type": "markdown",
   "metadata": {},
   "source": [
    "## Plots"
   ]
  },
  {
   "cell_type": "code",
   "execution_count": null,
   "metadata": {},
   "outputs": [],
   "source": [
    "plt.style.use('arpm')\n",
    "\n",
    "fig = plt.figure()\n",
    "ax = fig.add_subplot(111)\n",
    "lgray = [.8, .8, .8]  # light gray\n",
    "dgray = [.7, .7, .7]  # dark gray\n",
    "\n",
    "plt.bar(ksi, f_pi_h, width=ksi[1] - ksi[0],\n",
    "        facecolor=lgray, edgecolor=dgray)\n",
    "plt.title(r\"Distribution of the portfolio's P&L \" +\n",
    "          \"at the horizon ($\\Delta t=${horizon:.0f} days)\"\n",
    "          .format(horizon=deltat * 252))\n",
    "\n",
    "x_hor = np.linspace(mu_h - 7 * np.sqrt(sig2_h),\n",
    "                    mu_h + 7 * np.sqrt(sig2_h), 500)\n",
    "taylor_first = norm.pdf(x_hor, loc=mu_h, scale=np.sqrt(sig2_h))\n",
    "\n",
    "plt.plot(x_hor, taylor_first.flatten(), 'r', lw=1.5)\n",
    "ax.set_xlim([x_hor[0], x_hor[-1]])\n",
    "plt.legend(['Normal approx'])\n",
    "\n",
    "add_logo(fig)\n",
    "plt.tight_layout()"
   ]
  }
 ],
 "metadata": {
  "jupytext": {
   "encoding": "# -*- coding: utf-8 -*-",
   "executable": "/usr/bin/env python3"
  },
  "kernelspec": {
   "display_name": "Python 3",
   "language": "python",
   "name": "python3"
  }
 },
 "nbformat": 4,
 "nbformat_minor": 4
}
