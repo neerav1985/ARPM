{
 "cells": [
  {
   "cell_type": "markdown",
   "metadata": {},
   "source": [
    "# s_stock_short_horizon [<img src=\"https://www.arpm.co/lab/icons/icon_permalink.png\" width=30 height=30 style=\"display: inline;\">](https://www.arpm.co/lab/redirect.php?code=s_stock_short_horizon&codeLang=Python)\n",
    "For details, see [here](https://www.arpm.co/lab/redirect.php?permalink=ExerStockShort)."
   ]
  },
  {
   "cell_type": "code",
   "execution_count": null,
   "metadata": {},
   "outputs": [],
   "source": [
    "import pandas as pd\n",
    "import numpy as np\n",
    "import matplotlib.pyplot as plt\n",
    "import matplotlib.dates as mdates\n",
    "import datetime as dt\n",
    "from pandas.plotting import register_matplotlib_converters\n",
    "register_matplotlib_converters()\n",
    "\n",
    "from arpym.tools.logo import add_logo"
   ]
  },
  {
   "cell_type": "markdown",
   "metadata": {},
   "source": [
    "## [Input parameters](https://www.arpm.co/lab/redirect.php?permalink=s_stock_short_horizon-parameters)"
   ]
  },
  {
   "cell_type": "code",
   "execution_count": null,
   "metadata": {},
   "outputs": [],
   "source": [
    "# day, month and the year of the plotted value\n",
    "day = 2\n",
    "month = 9\n",
    "year = 2015"
   ]
  },
  {
   "cell_type": "markdown",
   "metadata": {},
   "source": [
    "## [Step 0](https://www.arpm.co/lab/redirect.php?permalink=s_stock_short_horizon-implementation-step00): Load data"
   ]
  },
  {
   "cell_type": "code",
   "execution_count": null,
   "metadata": {},
   "outputs": [],
   "source": [
    "# loading data from 2015-05-27 to 2015-12-07\n",
    "path = '~/databases/global-databases/high-frequency/db_stock_NOK_intraday/'\n",
    "df_nokia_stock = pd.read_csv(path + 'data.csv',\n",
    "                             header=0)\n",
    "# convert column 'date' from string to datetime64\n",
    "df_nokia_stock['date'] = pd.to_datetime(df_nokia_stock.date, dayfirst=True)"
   ]
  },
  {
   "cell_type": "markdown",
   "metadata": {},
   "source": [
    "## [Step 1](https://www.arpm.co/lab/redirect.php?permalink=s_stock_short_horizon-implementation-step01): Select the data to be plotted"
   ]
  },
  {
   "cell_type": "code",
   "execution_count": null,
   "metadata": {},
   "outputs": [],
   "source": [
    "t_first = dt.datetime(year, month, day, 9, 30)  # starting time\n",
    "t_last = dt.datetime(year, month, day, 16, 0)  # ending time\n",
    "# select data\n",
    "v_stock = df_nokia_stock[(df_nokia_stock.date >= t_first) &\n",
    "                         (df_nokia_stock.date <= t_last)]"
   ]
  },
  {
   "cell_type": "markdown",
   "metadata": {},
   "source": [
    "## Plots"
   ]
  },
  {
   "cell_type": "code",
   "execution_count": null,
   "metadata": {},
   "outputs": [],
   "source": [
    "plt.style.use('arpm')\n",
    "# extract values from dataframe\n",
    "t = v_stock.date.values\n",
    "v_t_stock = v_stock.price.values\n",
    "\n",
    "number_of_xticks = 6\n",
    "tick_array = np.linspace(0, t.shape[0]-1, number_of_xticks, dtype=int)\n",
    "myFmt = mdates.DateFormatter('%H:%M:%S')\n",
    "\n",
    "fig = plt.figure()\n",
    "plt.plot_date(t, v_t_stock, '-')\n",
    "plt.gca().xaxis.set_major_formatter(myFmt)\n",
    "plt.xticks(t[tick_array])\n",
    "plt.xlabel('Time')\n",
    "plt.ylabel('Value')\n",
    "plt.title(f'NOKIA intraday value on {dt.date(year, month, day)}')\n",
    "add_logo(fig)"
   ]
  }
 ],
 "metadata": {
  "jupytext": {
   "encoding": "# -*- coding: utf-8 -*-",
   "executable": "/usr/bin/env python3"
  },
  "kernelspec": {
   "display_name": "Python 3",
   "language": "python",
   "name": "python3"
  }
 },
 "nbformat": 4,
 "nbformat_minor": 4
}
