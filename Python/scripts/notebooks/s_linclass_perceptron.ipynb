{
 "cells": [
  {
   "cell_type": "markdown",
   "metadata": {},
   "source": [
    "# s_linclass_perceptron [<img src=\"https://www.arpm.co/lab/icons/icon_permalink.png\" width=30 height=30 style=\"display: inline;\">](https://www.arpm.co/lab/redirect.php?code=s_linclass_perceptron&codeLang=Python)\n",
    "For details, see [here](https://www.arpm.co/lab/redirect.php?permalink=s_linclass_perceptron)."
   ]
  },
  {
   "cell_type": "code",
   "execution_count": null,
   "metadata": {},
   "outputs": [],
   "source": [
    "import numpy as np\n",
    "import pandas as pd\n",
    "from sklearn.linear_model import Perceptron\n",
    "from sklearn.metrics import auc, confusion_matrix, roc_curve\n",
    "from scipy.special import expit\n",
    "import matplotlib.pyplot as plt\n",
    "from mpl_toolkits.mplot3d import Axes3D\n",
    "\n",
    "from arpym.tools.logo import add_logo"
   ]
  },
  {
   "cell_type": "markdown",
   "metadata": {},
   "source": [
    "## [Step 0](https://www.arpm.co/lab/redirect.php?permalink=s_linclass_perceptron-implementation-step00): Load data"
   ]
  },
  {
   "cell_type": "code",
   "execution_count": null,
   "metadata": {},
   "outputs": [],
   "source": [
    "data = pd.read_csv('~/databases/temporary-databases/db_ml_variables.csv')\n",
    "j_ = int(data['j_in_sample'][0])\n",
    "x = data['x'].values[:j_]  # scenarios of outputs and inputs \n",
    "z = data['z'].values.reshape(j_, 2)"
   ]
  },
  {
   "cell_type": "markdown",
   "metadata": {},
   "source": [
    "## [Step 1](https://www.arpm.co/lab/redirect.php?permalink=s_linclass_perceptron-implementation-step01): Define target variables"
   ]
  },
  {
   "cell_type": "code",
   "execution_count": null,
   "metadata": {},
   "outputs": [],
   "source": [
    "phi_z = np.c_[z[:, 0], z[:, 0]*z[:, 1]]  # feature space basis\n",
    "x = np.heaviside(x, 1)  # scenarios of binary output"
   ]
  },
  {
   "cell_type": "markdown",
   "metadata": {},
   "source": [
    "## [Step 2](https://www.arpm.co/lab/redirect.php?permalink=s_linclass_perceptron-implementation-step02): Predict simulations via perceptron and compute expected hinge loss and misclassification error"
   ]
  },
  {
   "cell_type": "code",
   "execution_count": null,
   "metadata": {},
   "outputs": [],
   "source": [
    "perc_clf = Perceptron(class_weight=None)\n",
    "beta  = perc_clf.fit(phi_z, x)  # fit perceptron\n",
    "x_bar = beta.predict(phi_z)  # predictions\n",
    "hinge_loss = np.sum((1/j_)*np.maximum(np.zeros(j_), 1-(2*x-1)*beta.decision_function(phi_z)))  # expected hinge loss\n",
    "error = np.linalg.norm(x-x_bar,ord=0)/j_  # misclassification error"
   ]
  },
  {
   "cell_type": "markdown",
   "metadata": {},
   "source": [
    "## [Step 3](https://www.arpm.co/lab/redirect.php?permalink=s_linclass_perceptron-implementation-step03): Compute scores, AUC, confusion matrix"
   ]
  },
  {
   "cell_type": "code",
   "execution_count": null,
   "metadata": {},
   "outputs": [],
   "source": [
    "s_0 = beta.decision_function(phi_z[x == 0])  # conditional scores\n",
    "s_1 = beta.decision_function(phi_z)\n",
    "fpr, tpr, _ = roc_curve(x, expit(beta.decision_function(phi_z)))  # false and true positive rates\n",
    "auc = auc(fpr, tpr)  # AUC\n",
    "p_xxbar = confusion_matrix(x, beta.predict(phi_z))/np.sum(confusion_matrix(x, beta.predict(phi_z)), axis=1)  # confusion matrix"
   ]
  },
  {
   "cell_type": "markdown",
   "metadata": {},
   "source": [
    "## Plots"
   ]
  },
  {
   "cell_type": "code",
   "execution_count": null,
   "metadata": {},
   "outputs": [],
   "source": [
    "plt.style.use('arpm')\n",
    "fig = plt.figure(figsize=(1280.0/72.0, 720.0/72.0), dpi=72.0)\n",
    "\n",
    "# parameters\n",
    "orange = [255/255, 153/255, 0/255]\n",
    "green = [60/255, 149/255, 145/255]\n",
    "grtrue = [0, 0.4, 0]\n",
    "grhatch = [0, 0.1, 0]\n",
    "grfalse = [0.2, 0.6, 0]\n",
    "red = [227/255, 66/255, 52/255]\n",
    "blue = [13/255, 94/255, 148/255]\n",
    "n_classes = 2\n",
    "plot_colors = [\"red\", \"blue\"]\n",
    "plot_step = 0.02\n",
    "phi_zz1, phi_zz2 = np.meshgrid(np.arange(-2, 2, plot_step),\n",
    "                               np.arange(-2, 2, plot_step))\n",
    "idxx0 = np.where(np.abs(phi_z[:, 0]) <= 2)[0]\n",
    "idxx1 = np.where(np.abs(phi_z[:, 1]) <= 2)[0]\n",
    "idxx = np.intersect1d(idxx0, idxx1)\n",
    "\n",
    "# ROC curve\n",
    "ax1 = plt.subplot2grid((4, 4), (0, 0), colspan=2, rowspan=2)\n",
    "ax1.plot(fpr, tpr, color='b')\n",
    "ax1.set_xlabel('fpr')\n",
    "ax1.set_ylabel('tpr')\n",
    "ax1.text(0.2, 0.05, 'AUC = %.2f' % auc)\n",
    "plt.text(0.2, 0.14, '$L_0$ error = %.2f' % error)\n",
    "plt.text(0.2, 0.23, 'Hinge loss = %.2f' % hinge_loss)\n",
    "plt.xlim([0, 1])\n",
    "plt.ylim([0, 1])\n",
    "plt.axis('square')\n",
    "ax1.set_title('ROC curve', fontweight='bold')\n",
    "\n",
    "# 3D plot\n",
    "ax2 = plt.subplot2grid((4, 4), (2, 0), colspan=2, rowspan=2, projection='3d')\n",
    "x_plot = beta.predict(np.c_[phi_zz1.ravel(), phi_zz2.ravel()])\n",
    "x_plot = x_plot.reshape(phi_zz1.shape)\n",
    "ax2.plot_surface(phi_zz1, phi_zz2, x_plot,\n",
    "                 cmap=plt.cm.RdYlBu, alpha=0.7)\n",
    "# scatter plot\n",
    "for i, color in zip(range(n_classes), plot_colors):\n",
    "    idx = np.intersect1d(np.where(x == i), idxx)\n",
    "    ax2.scatter3D(phi_z[idx, 0], phi_z[idx, 1], x[idx], c=color,\n",
    "                  label=['0', '1'][i],\n",
    "                  cmap=plt.cm.RdYlBu, edgecolor='black', s=15, alpha=0.5)\n",
    "ax2.view_init(30, -90)\n",
    "ax2.set_xlabel('$\\phi_1(Z)$')\n",
    "ax2.set_ylabel('$\\phi_2(Z)$')\n",
    "ax2.set_zlabel('$X$')\n",
    "ax2.set_title('Surface fitted with perceptron', fontweight='bold')\n",
    "ax2.set_xlim([-2, 2])\n",
    "ax2.set_ylim([-2, 2])\n",
    "add_logo(fig, axis=ax2, location=2, size_frac_x=1/8)\n",
    "plt.tight_layout()\n",
    "\n",
    "# regions plot\n",
    "ax3 = plt.subplot2grid((4, 4), (2, 2), colspan=2, rowspan=2)\n",
    "xx_perc = beta.predict(np.c_[phi_zz1.ravel(), phi_zz2.ravel()])\n",
    "# Put the result into a color plot\n",
    "xx_perc = xx_perc.reshape(phi_zz1.shape)\n",
    "ax3.contourf(phi_zz1, phi_zz2, xx_perc, cmap=plt.cm.RdYlBu, alpha=0.5)\n",
    "# Scatter plot\n",
    "for i, color in zip(range(n_classes), plot_colors):\n",
    "    idx = np.where(x == i)\n",
    "    ax3.scatter(phi_z[idx, 0], phi_z[idx, 1], c=color,\n",
    "                label=['0', '1'][i],\n",
    "                cmap=plt.cm.RdYlBu, edgecolor='black', s=15, alpha=0.7)\n",
    "ax3.set_xlabel('$\\phi_1(Z)$')\n",
    "ax3.set_ylabel('$\\phi_2(Z)$')\n",
    "plt.xlim([-2, 2])\n",
    "plt.ylim([-2, 2])\n",
    "ax3.set_title('Decision regions', fontweight='bold')\n",
    "\n",
    "# scores\n",
    "ax4 = plt.subplot2grid((4, 4), (0, 2), colspan=2, rowspan=1)\n",
    "ax4.hist(s_0, 80, density=True, alpha=0.7, color=red)\n",
    "ax4.hist(s_1, 80, density=True, alpha=0.7, color=blue)\n",
    "yymax = ax4.get_ylim()[1]\n",
    "ax4.plot([0, 0], [0, yymax], 'k--')\n",
    "ax4.legend(['S | 0', 'S | 1'])\n",
    "ax4.set_title('Scores distribution', fontweight='bold')\n",
    "\n",
    "# rates\n",
    "ax5 = plt.subplot2grid((4, 4), (1, 2), colspan=2, rowspan=1)\n",
    "ax5.fill([0.15, 0.15, 0.35, 0.35],\n",
    "         [0, p_xxbar[0, 1], p_xxbar[0, 1], 0], facecolor=grfalse,\n",
    "         edgecolor=grhatch, hatch='//', alpha=0.7)\n",
    "ax5.fill([0.15, 0.15, 0.35, 0.35],\n",
    "         [p_xxbar[0, 1], 1, 1, p_xxbar[0, 1]],\n",
    "         facecolor=grfalse, alpha=0.7)\n",
    "ax5.fill([0.45, 0.45, 0.65, 0.65],\n",
    "         [0, p_xxbar[1, 1], p_xxbar[1, 1], 0], facecolor=grtrue,\n",
    "         alpha=0.7)\n",
    "ax5.fill([0.45, 0.45, 0.65, 0.65],\n",
    "         [p_xxbar[1, 1], 1, 1, p_xxbar[1, 1]], facecolor=grtrue,\n",
    "         edgecolor=grhatch, hatch='\\\\\\\\', alpha=0.7)\n",
    "ax5.set_ylim([0, 1])\n",
    "ax5.legend(['fpr', 'tnr', 'tpr', 'fnr'], bbox_to_anchor=(0.001, -0.07, 1., .1),\n",
    "           facecolor='white',\n",
    "           loc=1, ncol=5, mode=\"expand\")\n",
    "ax5.set_title('Confusion matrix', fontweight='bold')\n",
    "ax5.set_xticks([])\n",
    "ax5.grid(False)\n",
    "\n",
    "plt.tight_layout()"
   ]
  }
 ],
 "metadata": {
  "jupytext": {
   "encoding": "# -*- coding: utf-8 -*-",
   "executable": "/usr/bin/env python3"
  },
  "kernelspec": {
   "display_name": "Python 3",
   "language": "python",
   "name": "python3"
  }
 },
 "nbformat": 4,
 "nbformat_minor": 4
}
