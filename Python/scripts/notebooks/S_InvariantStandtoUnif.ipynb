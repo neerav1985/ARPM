{
 "cells": [
  {
   "cell_type": "markdown",
   "metadata": {},
   "source": [
    "# S_InvariantStandtoUnif [<img src=\"https://www.arpm.co/lab/icons/icon_permalink.png\" width=30 height=30 style=\"display: inline;\">](https://www.arpm.co/lab/redirect.php?code=S_InvariantStandtoUnif&codeLang=Python)\n",
    "For details, see [here](https://www.arpm.co/lab/redirect.php?permalink=eb-stand-to-unif-vue)."
   ]
  },
  {
   "cell_type": "markdown",
   "metadata": {},
   "source": [
    "## Prepare the environment"
   ]
  },
  {
   "cell_type": "code",
   "execution_count": null,
   "metadata": {},
   "outputs": [],
   "source": [
    "import os\n",
    "import os.path as path\n",
    "import sys\n",
    "\n",
    "sys.path.append(path.abspath('../../functions-legacy'))\n",
    "from collections import namedtuple\n",
    "\n",
    "from numpy import arange, zeros, argsort, log, exp, sqrt, tile\n",
    "from numpy import sum as npsum\n",
    "\n",
    "from scipy.stats import t\n",
    "from scipy.io import loadmat\n",
    "\n",
    "import matplotlib.pyplot as plt\n",
    "from matplotlib.pyplot import figure, ylim, scatter, ylabel, \\\n",
    "    xlabel, title\n",
    "\n",
    "plt.style.use('seaborn')\n",
    "\n",
    "from ARPM_utils import save_plot\n",
    "from CONFIG import GLOBAL_DB, TEMPORARY_DB\n",
    "from HistogramFP import HistogramFP\n",
    "from MaxLikelihoodFPLocDispT import MaxLikelihoodFPLocDispT\n",
    "\n",
    "# Parameters\n",
    "tau_HL = 80\n",
    "nu_vec = arange(2,31)\n",
    "nu_ = len(nu_vec)"
   ]
  },
  {
   "cell_type": "markdown",
   "metadata": {},
   "source": [
    "## Upload database"
   ]
  },
  {
   "cell_type": "code",
   "execution_count": null,
   "metadata": {},
   "outputs": [],
   "source": [
    "try:\n",
    "    db = loadmat(os.path.join(GLOBAL_DB, 'db_zcbInvariants'), squeeze_me=True)\n",
    "except FileNotFoundError:\n",
    "    db = loadmat(os.path.join(TEMPORARY_DB, 'db_zcbInvariants'), squeeze_me=True)\n",
    "\n",
    "epsi = db['epsi']\n",
    "\n",
    "[i_, t_] = epsi.shape"
   ]
  },
  {
   "cell_type": "markdown",
   "metadata": {},
   "source": [
    "## For each marginal invariant, estimate the location and dispersion parameters through MLFP"
   ]
  },
  {
   "cell_type": "code",
   "execution_count": null,
   "metadata": {},
   "outputs": [],
   "source": [
    "mu_MLFP = zeros((1, i_))\n",
    "sig2_MLFP = zeros((1, i_))\n",
    "nu_MLFP = zeros((1, i_))\n",
    "\n",
    "# flexible probabilities\n",
    "lam = log(2) / tau_HL\n",
    "p = exp((-lam * arange(t_, 1 + -1, -1))).reshape(1,-1)\n",
    "p = p /npsum(p)\n",
    "\n",
    "# estimate marginal distributions\n",
    "for i in range(i_):\n",
    "\n",
    "    mu_nu = zeros((1, nu_))\n",
    "    sig2_nu = zeros((1, nu_))\n",
    "    like_nu = zeros((1, nu_))\n",
    "    for j in range(nu_):\n",
    "        nu = nu_vec[j]\n",
    "        mu_nu[0,j], sig2_nu[0,j], _ = MaxLikelihoodFPLocDispT(epsi[[i],:], p, nu, 10 ** -6, 1)\n",
    "        epsi_t = (epsi[i, :] - mu_nu[0,j]) / sqrt(sig2_nu[0,j])\n",
    "        like_nu[0,j] = sum(p[0] * log(t.pdf(epsi_t, nu) / sqrt(sig2_nu[0,j])))  # Log-likelihood\n",
    "    \n",
    "    j_nu = argsort(like_nu[0])[::-1]\n",
    "    nu_MLFP[0,i] = nu_vec[j_nu[0]]\n",
    "    mu_MLFP[0,i] = mu_nu[0,j_nu[0]]\n",
    "    sig2_MLFP[0,i] = sig2_nu[0,j_nu[0]]  # Take as estimates the one giving rise to the highest log-likelihood"
   ]
  },
  {
   "cell_type": "markdown",
   "metadata": {},
   "source": [
    "## Recover the time series of standardized uniform variables"
   ]
  },
  {
   "cell_type": "code",
   "execution_count": null,
   "metadata": {},
   "outputs": [],
   "source": [
    "u = zeros((i_, t_))\n",
    "for i in range(i_):\n",
    "    u[i,:] = t.cdf((epsi[i, :] - mu_MLFP[0,i]) / sqrt(sig2_MLFP[0,i]), nu_MLFP[0,i])"
   ]
  },
  {
   "cell_type": "markdown",
   "metadata": {},
   "source": [
    "## Compute the histograms"
   ]
  },
  {
   "cell_type": "code",
   "execution_count": null,
   "metadata": {},
   "outputs": [],
   "source": [
    "p = tile(1 / t_, (1, t_))  # flat probabilities\n",
    "option = namedtuple('option', 'n_bins')\n",
    "option.n_bins = 2*log(t_)\n",
    "[f_u1, x_u2] = HistogramFP(u[[0]], p, option)\n",
    "[f_u2, x_u1] = HistogramFP(u[[1]], p, option)"
   ]
  },
  {
   "cell_type": "markdown",
   "metadata": {},
   "source": [
    "## Generate the figure"
   ]
  },
  {
   "cell_type": "code",
   "execution_count": null,
   "metadata": {},
   "outputs": [],
   "source": [
    "# ## Generate the figure\n",
    "\n",
    "f, ax = plt.subplots(2, 3, figsize=(10,5))\n",
    "fsize = 8\n",
    "x = arange(1,t_+1)\n",
    "# scatter plots\n",
    "plt.sca(ax[0,0])\n",
    "h1 = scatter(x, epsi[0], 10, [0.5, 0.5, 0.5], '*')\n",
    "title('SP500 residuals', fontsize=fsize)\n",
    "xlabel('Time', fontsize=fsize)\n",
    "ylabel('Residuals', fontsize=fsize)\n",
    "ylim([min(epsi[0]) - 0.1, max(epsi[0]) + 0.1])\n",
    "plt.sca(ax[1,0])\n",
    "h2 = scatter(x, epsi[1], 10, [0.5, 0.5, 0.5], '*')\n",
    "title('Shadow rate residuals', fontsize=fsize)\n",
    "xlabel('Time', fontsize=fsize)\n",
    "ylabel('Residuals', fontsize=fsize)\n",
    "ylim([min(epsi[1]) - 0.0001, max(epsi[1]) + 0.0001])\n",
    "plt.sca(ax[0,1])\n",
    "h3 = scatter(x, u[0], 10, [0.5, 0.5, 0.5], '*')\n",
    "title('Standardized uniform SP500 residuals', fontsize=fsize)\n",
    "xlabel('Time', fontsize=fsize)\n",
    "ylabel('Residuals', fontsize=fsize)\n",
    "ylim([min(u[0]) - 0.1, max(u[0]) + 0.1])\n",
    "plt.sca(ax[1,1])\n",
    "h4 = scatter(x, u[1], 10, [0.5, 0.5, 0.5], '*')\n",
    "title('Standardized uniform shadow rate residuals', fontsize=fsize)\n",
    "xlabel('Time', fontsize=fsize)\n",
    "ylabel('Residuals', fontsize=fsize)\n",
    "ylim([min(u[1]) - 0.1, max(u[1]) + 0.1])\n",
    "# histograms\n",
    "plt.sca(ax[0,2])\n",
    "ax[0,2].ticklabel_format(axis='x', style='sci', scilimits=(-2,2))\n",
    "plt.barh(x_u1[:-1], f_u1[0] / t_, height=x_u1[1]-x_u1[0], facecolor=[0.7, 0.7, 0.7], edgecolor=[0.5, 0.5, 0.5])\n",
    "ylim([min(u[0]) - 0.1, max(u[0]) + 0.1])\n",
    "title('Histogram standardized uniform SP500 residuals', fontsize=fsize)\n",
    "plt.sca(ax[1,2])\n",
    "ax[1,2].ticklabel_format(axis='x', style='sci', scilimits=(-2,2))\n",
    "plt.barh(x_u2[:-1], f_u2[0] / t_,height=x_u2[1]-x_u2[0], facecolor=[0.7, 0.7, 0.7], edgecolor=[0.5, 0.5, 0.5])\n",
    "ylim([min(u[1]) - 0.1, max(u[1]) + 0.1])\n",
    "title('Histogram standardized uniform s. rate residuals', fontsize=fsize)\n",
    "plt.tight_layout(h_pad=1, w_pad=0.1);\n",
    "# # save_plot(ax=plt.gca(), extension='png', scriptname=os.path.basename('.')[:-3], count=plt.get_fignums()[-1])\n",
    "#\n",
    "# save_plot(ax=plt.gca(), extension='png', scriptname=os.path.basename('.')[:-3], count=plt.get_fignums()[-1])\n"
   ]
  }
 ],
 "metadata": {
  "jupytext": {
   "encoding": "# -*- coding: utf-8 -*-",
   "executable": "/usr/bin/env python3"
  },
  "kernelspec": {
   "display_name": "Python 3",
   "language": "python",
   "name": "python3"
  }
 },
 "nbformat": 4,
 "nbformat_minor": 4
}
