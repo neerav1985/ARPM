{
 "cells": [
  {
   "cell_type": "markdown",
   "metadata": {},
   "source": [
    "# s_trade_autocorr_signal [<img src=\"https://www.arpm.co/lab/icons/icon_permalink.png\" width=30 height=30 style=\"display: inline;\">](https://www.arpm.co/lab/redirect.php?code=s_trade_autocorr_signal&codeLang=Python)\n",
    "For details, see [here](https://www.arpm.co/lab/redirect.php?permalink=eb-signals-trade-autocorrelation)."
   ]
  },
  {
   "cell_type": "code",
   "execution_count": null,
   "metadata": {},
   "outputs": [],
   "source": [
    "import numpy as np\n",
    "import pandas as pd\n",
    "import matplotlib.pyplot as plt\n",
    "from datetime import datetime\n",
    "\n",
    "from arpym.tools.trade_quote_processing import trade_quote_processing\n",
    "from arpym.tools.logo import add_logo"
   ]
  },
  {
   "cell_type": "markdown",
   "metadata": {},
   "source": [
    "## [Input parameters](https://www.arpm.co/lab/redirect.php?permalink=s_trade_autocorr_signal-parameters)"
   ]
  },
  {
   "cell_type": "code",
   "execution_count": null,
   "metadata": {},
   "outputs": [],
   "source": [
    "k_0 = 289  # index of the first trade within the time window\n",
    "k_1 = 499  # index of the last trade within the time window\n",
    "tau_hl = 20  # decay rate\n",
    "w = 30  # trailing window"
   ]
  },
  {
   "cell_type": "markdown",
   "metadata": {},
   "source": [
    "## [Step 0](https://www.arpm.co/lab/redirect.php?permalink=s_trade_autocorr_signal-implementation-step00): Load data"
   ]
  },
  {
   "cell_type": "code",
   "execution_count": null,
   "metadata": {},
   "outputs": [],
   "source": [
    "path = '~/databases/global-databases/high-frequency/db_US_10yr_Future_quotestrades/'\n",
    "quotes = pd.read_csv(path + 'quotes.csv', index_col=0, parse_dates=True)\n",
    "trades = pd.read_csv(path + 'trades.csv', index_col=0, parse_dates=True)\n",
    "\n",
    "dates_quotes = pd.to_datetime(quotes.index).date\n",
    "# time vector of quotes\n",
    "t = np.array(list(map(lambda x: x.timestamp(), pd.to_datetime(quotes.index))))\n",
    "p_bid = np.array(quotes.loc[:, 'bid'])  # best bids\n",
    "p_ask = np.array(quotes.loc[:, 'ask'])  # best asks\n",
    "q_bid = np.array(quotes.loc[:, 'bsiz'])  # bid sizes\n",
    "q_ask = np.array(quotes.loc[:, 'asiz'])  # ask sizes\n",
    "\n",
    "dates_trades = pd.to_datetime(trades.index).date\n",
    "# time vector of trades\n",
    "t_k = np.array(list(map(lambda x: x.timestamp(),\n",
    "                        pd.to_datetime(trades.index))))\n",
    "p_last = np.array(trades.loc[:, 'price'])  # last transaction values\n",
    "delta_q = np.array(trades.loc[:, 'siz'])  # flow of traded contracts' sizes\n",
    "delta_sgn = np.array(trades.loc[:, 'aggress'])  # trade sign flow\n",
    "match = np.array(trades.loc[:, 'mtch'])  # match events"
   ]
  },
  {
   "cell_type": "markdown",
   "metadata": {},
   "source": [
    "## [Step 1](https://www.arpm.co/lab/redirect.php?permalink=s_trade_autocorr_signal-implementation-step01): Process the database"
   ]
  },
  {
   "cell_type": "code",
   "execution_count": null,
   "metadata": {},
   "outputs": [],
   "source": [
    "t, _, q_ask, p_ask, q_bid, p_bid, t_k, _, p_last, delta_q_p, delta_sgn_p,\\\n",
    "       _ = trade_quote_processing(t, dates_quotes, q_ask, p_ask, q_bid,\n",
    "                                  p_bid, t_k, dates_trades, p_last, delta_q,\n",
    "                                  delta_sgn, match)"
   ]
  },
  {
   "cell_type": "markdown",
   "metadata": {},
   "source": [
    "## [Step 2](https://www.arpm.co/lab/redirect.php?permalink=s_trade_autocorr_signal-implementation-step02): Compute the traded price, the bid/ask prices, the bid/ask sizes and the microprice"
   ]
  },
  {
   "cell_type": "code",
   "execution_count": null,
   "metadata": {},
   "outputs": [],
   "source": [
    "tick_time = np.arange(len(p_last[k_0:k_1+1]))\n",
    "i_ = len(tick_time)\n",
    "p_last_k = p_last[k_0:k_1+1]  # traded price\n",
    "\n",
    "# indexes of bid/ask prices near to the traded prices\n",
    "ti = np.zeros(i_, dtype=int)\n",
    "for i in range(i_):\n",
    "    ti[i] = np.where(t <= t_k[k_0+i])[0][-1]\n",
    "\n",
    "p_ask = p_ask[ti]  # ask price in tick time\n",
    "p_bid = p_bid[ti]  # bid price in tick time\n",
    "q_bid = q_bid[ti]\n",
    "q_ask = q_ask[ti]\n",
    "# microprice in tick time\n",
    "p_mic = (p_bid * q_ask+p_ask * q_bid) / (q_ask+q_bid)"
   ]
  },
  {
   "cell_type": "markdown",
   "metadata": {},
   "source": [
    "## [Step 3](https://www.arpm.co/lab/redirect.php?permalink=s_trade_autocorr_signal-implementation-step03): Compute the EWMA of the trade signs"
   ]
  },
  {
   "cell_type": "code",
   "execution_count": null,
   "metadata": {},
   "outputs": [],
   "source": [
    "s_trade_sign = np.zeros((i_,))  # initialization\n",
    "\n",
    "nu = np.log(2) / tau_hl\n",
    "gamma_w = 1 + sum(np.exp(-nu*np.arange(1, w,)))\n",
    "s_trade_sign[0] = 1 / gamma_w*(delta_sgn_p[k_0] +\n",
    "                               sum(np.exp((-nu) * np.arange(0, w)) *\n",
    "                               delta_sgn_p[k_0:k_0-w:-1]))\n",
    "\n",
    "for i in range(i_):\n",
    "    s_trade_sign[i] = (1 - np.exp(-nu)) *\\\n",
    "                        delta_sgn_p[k_0 + i] +\\\n",
    "                        np.exp(-nu) * s_trade_sign[i-1]"
   ]
  },
  {
   "cell_type": "markdown",
   "metadata": {},
   "source": [
    "## Plots"
   ]
  },
  {
   "cell_type": "code",
   "execution_count": null,
   "metadata": {},
   "outputs": [],
   "source": [
    "plt.style.use('arpm')\n",
    "\n",
    "# colors\n",
    "lgray = [0.8, 0.8, 0.8]\n",
    "dgreen = [0, 0.6, 0]\n",
    "orange = [0.94, 0.35, 0]\n",
    "t_dt = []\n",
    "for i in t:\n",
    "    t_dt.append(datetime.fromtimestamp(i))\n",
    "t_dt = np.array(t_dt)\n",
    "\n",
    "# microprice, bid/ask price, bid/ask size, transaction value\n",
    "fig, ax = plt.subplots(2, 1)\n",
    "plt.sca(ax[0])\n",
    "q_bid_res = p_bid-q_bid / 150000  # q_bid rescaled\n",
    "q_ask_res = p_ask+q_ask / 150000  # q_ask rescaled\n",
    "xtick = np.arange(tick_time[0], tick_time[-1]+(tick_time[-1] - tick_time[0]) /\n",
    "                  7, (tick_time[-1] - tick_time[0]) / 7)\n",
    "ymax_1 = np.max(q_ask_res) + 0.015\n",
    "ymin_1 = np.min(q_bid_res) - 0.004\n",
    "ytick_1 = np.arange(ymin_1, ymax_1+(ymax_1 - ymin_1) / 4,\n",
    "                    (ymax_1 - ymin_1) / 4)\n",
    "plt.axis([np.min(tick_time), np.max(tick_time), ymin_1, ymax_1])\n",
    "plt.xticks(xtick)\n",
    "plt.yticks(ytick_1)\n",
    "plt.ylabel('Price')\n",
    "plt.title('US 10 yr Future: {date}'.format(date=t_dt[0].strftime('%Y-%b-%d')))\n",
    "plt.grid(True)\n",
    "plt.plot(tick_time, q_bid_res, color=lgray)\n",
    "p0 = plt.plot(tick_time, q_ask_res, color=lgray, label='bid/ask size')\n",
    "p1 = plt.plot(tick_time, p_bid, color=dgreen, label='bid/ask price')\n",
    "plt.plot(tick_time, p_ask, color=dgreen)\n",
    "p3 = plt.plot([tick_time[1:i_], tick_time[1:i_]],\n",
    "              [p_last_k[1:i_], p_last_k[1:i_]], c='b', marker='.',\n",
    "              label='traded price')\n",
    "\n",
    "p2 = plt.plot(tick_time, p_mic, color=orange, label='microprice')\n",
    "plt.legend(handles=[p3[0], p2[0], p1[0], p0[0]])\n",
    "\n",
    "# signal, trade sign series and buy/sell triggers\n",
    "plt.sca(ax[1])\n",
    "plt.xlabel('Tick time')\n",
    "plt.ylabel('Trade sign EWMA')\n",
    "plt.title('Trade autocorrelation signal')\n",
    "for i in range(i_):\n",
    "    p4 = plt.plot([tick_time[i], tick_time[i]],\n",
    "                  [s_trade_sign[i], s_trade_sign[i]], color='k', marker='.')\n",
    "    p5 = plt.plot([tick_time[i], tick_time[i]],\n",
    "                  [delta_sgn_p[k_0 + i], delta_sgn_p[k_0 + i]],\n",
    "                  color='b', marker='.')\n",
    "\n",
    "plt.xlim([1, i_])\n",
    "plt.xticks(xtick)\n",
    "plt.yticks(np.arange(-1, 1.5, 0.5))\n",
    "plt.legend(['signal', 'trade sign'])\n",
    "add_logo(fig, axis=ax[0], location=8)\n",
    "plt.tight_layout()"
   ]
  }
 ],
 "metadata": {
  "jupytext": {
   "encoding": "# -*- coding: utf-8 -*-",
   "executable": "/usr/bin/env python3"
  },
  "kernelspec": {
   "display_name": "Python 3",
   "language": "python",
   "name": "python3"
  }
 },
 "nbformat": 4,
 "nbformat_minor": 4
}
