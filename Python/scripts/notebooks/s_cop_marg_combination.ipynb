{
 "cells": [
  {
   "cell_type": "markdown",
   "metadata": {},
   "source": [
    "# s_cop_marg_combination [<img src=\"https://www.arpm.co/lab/icons/icon_permalink.png\" width=30 height=30 style=\"display: inline;\">](https://www.arpm.co/lab/redirect.php?code=s_cop_marg_combination&codeLang=Python)\n",
    "For details, see [here](https://www.arpm.co/lab/redirect.php?permalink=eb-2-ex-norm-cop-giv-marg)."
   ]
  },
  {
   "cell_type": "code",
   "execution_count": null,
   "metadata": {},
   "outputs": [],
   "source": [
    "import pandas as pd\n",
    "import numpy as np\n",
    "import matplotlib.pyplot as plt\n",
    "import matplotlib.gridspec as gridspec\n",
    "from matplotlib import rc, rcParams\n",
    "\n",
    "rc('text', usetex=True)\n",
    "rcParams['text.latex.preamble']=[r\"\\usepackage{amsmath} \\usepackage{amssymb}\"]\n",
    "\n",
    "from scipy.stats import lognorm, gamma\n",
    "from arpym.tools.logo import add_logo"
   ]
  },
  {
   "cell_type": "markdown",
   "metadata": {},
   "source": [
    "## [Input parameters](https://www.arpm.co/lab/redirect.php?permalink=s_cop_marg_combination-parameters)"
   ]
  },
  {
   "cell_type": "code",
   "execution_count": null,
   "metadata": {},
   "outputs": [],
   "source": [
    "mu_1 = 0.2  # location of lognormal\n",
    "sigma2_1 = 0.25  # scal of lognormal\n",
    "k_2 = 1  # shape of Gamma\n",
    "theta_2 = 1  # scale of Gamma"
   ]
  },
  {
   "cell_type": "markdown",
   "metadata": {},
   "source": [
    "## [Step 0](https://www.arpm.co/lab/redirect.php?permalink=s_cop_marg_combination-implementation-step00): Load copula-scenarions from the separation step"
   ]
  },
  {
   "cell_type": "code",
   "execution_count": null,
   "metadata": {},
   "outputs": [],
   "source": [
    "data = pd.read_csv('~/databases/temporary-databases/db_separation_data.csv')\n",
    "\n",
    "j_ = pd.read_csv('~/databases/temporary-databases/db_separation_data.csv',\n",
    "                 usecols=['j_'], nrows=1).values[0, 0].astype(int)\n",
    "n_ = pd.read_csv('~/databases/temporary-databases/db_separation_data.csv',\n",
    "                 usecols=['n_'], nrows=1).values[0, 0].astype(int)\n",
    "u = pd.read_csv('~/databases/temporary-databases/db_separation_data.csv',\n",
    "                usecols=['u']).values.reshape(j_, n_)  # copula scenarios\n",
    "p = np.ones(j_)/j_"
   ]
  },
  {
   "cell_type": "markdown",
   "metadata": {},
   "source": [
    "## [Step 1](https://www.arpm.co/lab/redirect.php?permalink=s_cop_marg_combination-implementation-step01): Combination step"
   ]
  },
  {
   "cell_type": "code",
   "execution_count": null,
   "metadata": {},
   "outputs": [],
   "source": [
    "x = np.zeros((j_, 2))\n",
    "x[:, 0] = lognorm.ppf(u[:, 0], np.sqrt(sigma2_1), np.exp(mu_1))  # combination step\n",
    "x[:, 1] = gamma.ppf(u[:, 1], k_2, scale=theta_2)"
   ]
  },
  {
   "cell_type": "markdown",
   "metadata": {},
   "source": [
    "## Plots"
   ]
  },
  {
   "cell_type": "code",
   "execution_count": null,
   "metadata": {},
   "outputs": [],
   "source": [
    "plt.style.use('arpm')\n",
    "\n",
    "# Colors\n",
    "y_color = [153/255, 205/255, 129/255]\n",
    "u_color = [60/255, 149/255, 145/255]\n",
    "x_color = [4/255, 63/255, 114/255]\n",
    "m_color = [63/255, 0/255, 102/255]\n",
    "\n",
    "# Copula-marginal combination\n",
    "\n",
    "y_lim = [np.percentile(x[:, 0], 0.5), np.percentile(x[:, 0], 99.5)]\n",
    "x_lim = [np.percentile(x[:, 1], 0.5), np.percentile(x[:, 1], 99.5)]\n",
    "u_lim = [0, 1]\n",
    "\n",
    "plt.figure()\n",
    "mydpi = 72.0\n",
    "f = plt.figure(figsize=(1280.0/mydpi, 720.0/mydpi), dpi=mydpi)\n",
    "gs0 = gridspec.GridSpec(2, 2)\n",
    "\n",
    "# # Marginal X2\n",
    "gs00 = gridspec.GridSpecFromSubplotSpec(44, 18, subplot_spec=gs0[0],\n",
    "                                        wspace=2, hspace=2.5)\n",
    "ax1 = plt.Subplot(f, gs00[:-15, 4:-6], ylim=x_lim, xlim=[0, 1])\n",
    "f.add_subplot(ax1)\n",
    "plt.plot(np.sort(u[:, 1]), gamma.ppf(np.sort(u[:, 1]), k_2, scale=theta_2),\n",
    "         lw=2, color=x_color)\n",
    "ax1.invert_xaxis()\n",
    "ax1.tick_params(labelsize=14)\n",
    "plt.ylabel('$q_{X_2}$', fontsize=17)\n",
    "\n",
    "# Copula scenarios\n",
    "gs01 = gridspec.GridSpecFromSubplotSpec(46, 18, subplot_spec=gs0[2], wspace=2)\n",
    "ax2 = plt.Subplot(f, gs01[8:-3, 4:-6], ylim=[0, 1], xlim=[0, 1])\n",
    "f.add_subplot(ax2)\n",
    "anim3 = plt.scatter(u[:, 1], u[:, 0], s=5, color=u_color)\n",
    "ax2.tick_params(labelsize=14)\n",
    "ax2_txt = ax2.text(0, 0.89, \"\", fontsize=20, color=m_color)\n",
    "ax2_title_1 = r'$\\mathbb{C}$'+ r'$r$' + r\"$\\{U_1,U_2\\}=%2.2f$\" % (np.corrcoef(u[:, :2].T)[0, 1])\n",
    "ax2_txt.set_text(ax2_title_1)\n",
    "plt.xlabel('$U_2$', fontsize=17, labelpad=-10)\n",
    "plt.ylabel('$U_1$', fontsize=17, labelpad=-10)\n",
    "ax2_title = r'Copula ' + r'$\\boldsymbol{U}$'\n",
    "ax2.set_title(ax2_title, fontsize=20, y=-0.2, fontweight='bold')\n",
    "\n",
    "ax3 = plt.Subplot(f, gs01[8:-3, -6:-4], sharey=ax2)\n",
    "f.add_subplot(ax3)\n",
    "plt.hist(np.sort(u[:, 0]), weights=p, bins=int(10*np.log(j_)), density=True,\n",
    "         orientation='horizontal', color=u_color)\n",
    "ax3.tick_params(labelsize=14)\n",
    "ax3.tick_params(axis='y', colors='None')\n",
    "plt.xlim([0, 2])\n",
    "plt.ylim([0, 1])\n",
    "plt.xlabel('$f_{U_1}$', fontsize=17, labelpad=-10)\n",
    "\n",
    "ax4 = plt.Subplot(f, gs01[0:6, 4:-6], sharex=ax2)\n",
    "f.add_subplot(ax4)\n",
    "plt.hist(u[:, 1], weights=p, bins=int(10*np.log(j_)),\n",
    "         density=True, color=u_color)\n",
    "ax4.tick_params(labelsize=14)\n",
    "ax4.tick_params(axis='x', colors='None')\n",
    "plt.xlim([0, 1])\n",
    "plt.ylim([0, 2])\n",
    "plt.ylabel('$f_{U_2}$', fontsize=17)\n",
    "\n",
    "# Joint scenarios\n",
    "gs02 = gridspec.GridSpecFromSubplotSpec(44, 40, subplot_spec=gs0[1],\n",
    "                                        wspace=0.6, hspace=1)\n",
    "ax5 = plt.Subplot(f, gs02[:-15, 8:-8])\n",
    "f.add_subplot(ax5)\n",
    "plt.scatter(x[:, 0], x[:, 1], s=5, color=x_color)\n",
    "ax5.tick_params(labelsize=14)\n",
    "ax5.set_xlim(y_lim)\n",
    "ax5.set_ylim(x_lim)\n",
    "plt.xlabel('$X_1$', labelpad=-5, fontsize=17)\n",
    "plt.ylabel('$X_2$', fontsize=17)\n",
    "ax5_txt = ax5.text(3.2, 4.5, \"\", fontsize=20, color=m_color)\n",
    "ax5_title_1 = r'$\\mathbb{C}$'+ r'$r$' + r\"$\\{X_1,X_2\\}=%2.2f$\" % (np.corrcoef(x[:, :2].T)[0, 1])\n",
    "ax5_txt.set_text(ax5_title_1)\n",
    "plt.title(r\"Joint $\\boldsymbol{X}$\", fontsize=20, fontweight='bold', y=1.05)\n",
    "\n",
    "# X1\n",
    "ax7 = plt.Subplot(f, gs02[-11:-1, 8:-8])\n",
    "f.add_subplot(ax7)\n",
    "ax7.tick_params(axis='x', colors='None')\n",
    "ax7.set_xlim(y_lim)\n",
    "ax7.set_ylim([0, 0.05])\n",
    "plt.hist(np.sort(x[:, 0]), weights=p, bins=int(120*np.log(j_)),\n",
    "         color=x_color, bottom=0)\n",
    "ax7.tick_params(labelsize=14)\n",
    "plt.gca().invert_yaxis()\n",
    "plt.ylabel('$f_{X_1}$', fontsize=17)\n",
    "\n",
    "# X2\n",
    "ax8 = plt.Subplot(f, gs02[:-15, 1:6])\n",
    "f.add_subplot(ax8)\n",
    "plt.hist(np.sort(x[:, 1]), weights=p, bins=int(30*np.log(j_)),\n",
    "         orientation='horizontal', color=x_color, bottom=0)\n",
    "ax8.set_xlim([0, 0.1])\n",
    "ax8.set_ylim(x_lim)\n",
    "ax8.tick_params(axis='y', colors='None')\n",
    "plt.gca().invert_xaxis()\n",
    "plt.xlabel('$f_{X_2}$', fontsize=17)\n",
    "ax8.xaxis.tick_top()\n",
    "\n",
    "# Marginal X1\n",
    "gs03 = gridspec.GridSpecFromSubplotSpec(46, 40, subplot_spec=gs0[3])\n",
    "ax6 = plt.Subplot(f, gs03[8:-3,  8:-8], xlim=[1, 10], ylim=[0, 1])\n",
    "f.add_subplot(ax6)\n",
    "plt.plot(lognorm.ppf(np.sort(u[:, 0]), np.sqrt(sigma2_1), np.exp(mu_1)),\n",
    "         np.sort(u[:, 0]), lw=2, color=x_color)\n",
    "ax6.set_xlim(y_lim)\n",
    "ax6.tick_params(labelsize=14)\n",
    "plt.xlabel('$q_{X_1}$', fontsize=17, labelpad=-5)\n",
    "\n",
    "add_logo(f, location=4, set_fig_size=False)\n",
    "plt.tight_layout()"
   ]
  }
 ],
 "metadata": {
  "jupytext": {
   "encoding": "# -*- coding: utf-8 -*-",
   "executable": "/usr/bin/env python3"
  },
  "kernelspec": {
   "display_name": "Python 3",
   "language": "python",
   "name": "python3"
  }
 },
 "nbformat": 4,
 "nbformat_minor": 4
}
