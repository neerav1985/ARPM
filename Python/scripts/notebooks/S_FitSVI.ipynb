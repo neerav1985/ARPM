{
 "cells": [
  {
   "cell_type": "markdown",
   "metadata": {},
   "source": [
    "# S_FitSVI [<img src=\"https://www.arpm.co/lab/icons/icon_permalink.png\" width=30 height=30 style=\"display: inline;\">](https://www.arpm.co/lab/redirect.php?code=S_FitSVI&codeLang=Python)\n",
    "For details, see [here](https://www.arpm.co/lab/redirect.php?permalink=ExerImplVolSVI)."
   ]
  },
  {
   "cell_type": "markdown",
   "metadata": {},
   "source": [
    "## Prepare the environment"
   ]
  },
  {
   "cell_type": "code",
   "execution_count": null,
   "metadata": {},
   "outputs": [],
   "source": [
    "import os\n",
    "import os.path as path\n",
    "import sys\n",
    "\n",
    "sys.path.append(path.abspath('../../functions-legacy'))\n",
    "from collections import namedtuple\n",
    "\n",
    "import numpy as np\n",
    "from numpy import arange, zeros, tile, r_\n",
    "\n",
    "from scipy.io import loadmat, savemat\n",
    "\n",
    "import matplotlib.pyplot as plt\n",
    "from matplotlib.pyplot import subplots, ylabel, \\\n",
    "    xlabel, title\n",
    "from mpl_toolkits.mplot3d import Axes3D\n",
    "\n",
    "plt.style.use('seaborn')\n",
    "\n",
    "from CONFIG import GLOBAL_DB, TEMPORARY_DB\n",
    "from ARPM_utils import struct_to_dict, save_plot\n",
    "from SigmaSVI import SigmaSVI\n",
    "from FitSigmaSVI import FitSigmaSVI\n",
    "\n",
    "# parameters\n",
    "y = 0  # risk free rate"
   ]
  },
  {
   "cell_type": "markdown",
   "metadata": {},
   "source": [
    "## Upload the data from db_ImpliedVol_SPX"
   ]
  },
  {
   "cell_type": "code",
   "execution_count": null,
   "metadata": {},
   "outputs": [],
   "source": [
    "try:\n",
    "    db = loadmat(os.path.join(GLOBAL_DB, 'db_ImpliedVol_SPX'), squeeze_me=True)\n",
    "except FileNotFoundError:\n",
    "    db = loadmat(os.path.join(TEMPORARY_DB, 'db_ImpliedVol_SPX'), squeeze_me=True)  # implied volatility surface for SP500\n",
    "\n",
    "db_ImpliedVol_SPX = struct_to_dict(db['db_ImpliedVol_SPX'])\n",
    "\n",
    "dates = db_ImpliedVol_SPX.Dates\n",
    "tau = db_ImpliedVol_SPX.TimeToMaturity\n",
    "delta = db_ImpliedVol_SPX.Delta  # delta-moneyness\n",
    "sigma_delta = db_ImpliedVol_SPX.Sigma\n",
    "\n",
    "n_, k_, t_ = sigma_delta.shape"
   ]
  },
  {
   "cell_type": "markdown",
   "metadata": {},
   "source": [
    "## For each observation, use function FitSigmaSVI to compute the SVI parameters and function SigmaSVI to compute the volatility on equispaced moneyness grid"
   ]
  },
  {
   "cell_type": "code",
   "execution_count": null,
   "metadata": {},
   "outputs": [],
   "source": [
    "print('Fitting SVI model')\n",
    "\n",
    "# choose the moneyness grid for plot\n",
    "m_grid = tile(arange(-0.3,0.35,0.05)[np.newaxis,...],(n_, 1))\n",
    "\n",
    "# Starting guess for SVI parameters\n",
    "theta_phi_start = namedtuple('theta_phi_start', 'theta4 theta5 theta6')\n",
    "theta_var_ATM_start = namedtuple('theta_var_ATM_start', 'theta1 theta2 theta3')\n",
    "theta_phi_start.theta4 = 0\n",
    "theta_phi_start.theta5 = 0\n",
    "theta_phi_start.theta6 = 0\n",
    "theta_var_ATM_start.theta1 = 0\n",
    "theta_var_ATM_start.theta2 = 0\n",
    "theta_var_ATM_start.theta3 = 0\n",
    "\n",
    "# Initialize variables\n",
    "theta = zeros((6, t_))\n",
    "sigma_m = zeros((n_, k_, t_))\n",
    "\n",
    "# SVI fit\n",
    "for t in range(t_):\n",
    "    # fit SVI at time t\n",
    "    theta_var_ATM, theta_phi, _ = FitSigmaSVI(tau, delta, sigma_delta[:,:, t], y, theta_var_ATM_start, theta_phi_start)\n",
    "    sigma_m[:,:, t] = SigmaSVI(tau, m_grid, y, theta_var_ATM, theta_phi)\n",
    "    # for the following iteration\n",
    "    theta_var_ATM_start = theta_var_ATM\n",
    "    theta_phi_start = theta_phi\n",
    "    theta[:,t] = r_[theta_var_ATM.theta1, theta_var_ATM.theta2, theta_var_ATM.theta3, theta_phi.theta4, theta_phi.theta5,\n",
    "                     theta_phi.theta6]\n",
    "\n",
    "vars_to_save = {varname: var for varname, var in locals().items() if isinstance(var,(np.ndarray,np.float,np.int))}\n",
    "savemat(os.path.join(TEMPORARY_DB,'db_FitSVI'),vars_to_save)"
   ]
  },
  {
   "cell_type": "markdown",
   "metadata": {},
   "source": [
    "## Plot the fitted implied volatility surface and the evolution of the six parameters"
   ]
  },
  {
   "cell_type": "code",
   "execution_count": null,
   "metadata": {},
   "outputs": [],
   "source": [
    "m_grid = m_grid[0]\n",
    "\n",
    "f, ax = subplots(1,1,subplot_kw={'projection':'3d'})\n",
    "X, Y = np.meshgrid(m_grid,tau)\n",
    "ax.plot_surface(X, Y, sigma_m[:,:, t_-1])\n",
    "ax.view_init(31,-138)\n",
    "xlabel('Moneyness', labelpad=10)\n",
    "ylabel('ime to maturity (years)',labelpad=10)\n",
    "ax.set_zlabel('Volatility (%)',labelpad=10)\n",
    "ax.set_xlim([min(m_grid), max(m_grid)])\n",
    "ax.set_ylim([min(tau), max(tau)])\n",
    "ax.grid(True)\n",
    "title('SVI fitted implied volatility surface SP500');\n",
    "# save_plot(ax=plt.gca(), extension='png', scriptname=os.path.basename('.')[:-3], count=plt.get_fignums()[-1])\n",
    "\n",
    "for i in range(2):\n",
    "    f, ax = subplots(3,1)\n",
    "    for j, iax in enumerate(ax):\n",
    "        iax.plot(range(t_), theta[3*i+j,:])\n",
    "        if j == 0:\n",
    "            iax.set_title(r'SVI parameters evolution: $\\theta_%d$,$\\theta_%d$,$\\theta_%d$' % (3*i+1,3*i+2,3*i+3))\n",
    "        iax.set_xlim([1, t_])\n",
    "        iax.set_ylabel(r'$\\theta_%d$' % (3*i+j+1))\n",
    "        plt.grid(True)\n",
    "\n",
    "    xlabel('Time')\n",
    "    plt.tight_layout();\n",
    "    # save_plot(ax=plt.gca(), extension='png', scriptname=os.path.basename('.')[:-3], count=plt.get_fignums()[-1])"
   ]
  }
 ],
 "metadata": {
  "jupytext": {
   "encoding": "# -*- coding: utf-8 -*-",
   "executable": "/usr/bin/env python3"
  },
  "kernelspec": {
   "display_name": "Python 3",
   "language": "python",
   "name": "python3"
  }
 },
 "nbformat": 4,
 "nbformat_minor": 4
}
