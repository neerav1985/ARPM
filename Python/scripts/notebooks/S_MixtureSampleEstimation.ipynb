{
 "cells": [
  {
   "cell_type": "markdown",
   "metadata": {},
   "source": [
    "# S_MixtureSampleEstimation [<img src=\"https://www.arpm.co/lab/icons/icon_permalink.png\" width=30 height=30 style=\"display: inline;\">](https://www.arpm.co/lab/redirect.php?code=S_MixtureSampleEstimation&codeLang=Python)\n",
    "For details, see [here](https://www.arpm.co/lab/redirect.php?permalink=eb-4-ex-mixture-sim)."
   ]
  },
  {
   "cell_type": "markdown",
   "metadata": {},
   "source": [
    "## Prepare the environment"
   ]
  },
  {
   "cell_type": "code",
   "execution_count": null,
   "metadata": {},
   "outputs": [],
   "source": [
    "import os\n",
    "import os.path as path\n",
    "import sys\n",
    "\n",
    "sys.path.append(path.abspath('../../functions-legacy'))\n",
    "\n",
    "from numpy import sort, argsort\n",
    "from numpy import min as npmin, max as npmax\n",
    "from numpy.random import rand\n",
    "\n",
    "import matplotlib.pyplot as plt\n",
    "from matplotlib.pyplot import figure, plot\n",
    "\n",
    "plt.style.use('seaborn')\n",
    "\n",
    "from ARPM_utils import save_plot\n",
    "from QuantileMixture import QuantileMixture"
   ]
  },
  {
   "cell_type": "markdown",
   "metadata": {},
   "source": [
    "## Initialize the parameters"
   ]
  },
  {
   "cell_type": "code",
   "execution_count": null,
   "metadata": {},
   "outputs": [],
   "source": [
    "alpha = 0.8  # mixture parameter\n",
    "mu_Y = 0.1  # location parameter of the normal distribution\n",
    "sigma_Y = 0.2  # dispersion parameter of the normal distribution\n",
    "mu_Z = 0  # location parameter of the log-normal distribution\n",
    "sigma_Z = 0.15  # dispersion parameter of the log-normal distribution\n",
    "\n",
    "t_ = 52  # len of the sample"
   ]
  },
  {
   "cell_type": "markdown",
   "metadata": {},
   "source": [
    "## Generate the sample of the mixture distribution"
   ]
  },
  {
   "cell_type": "code",
   "execution_count": null,
   "metadata": {},
   "outputs": [],
   "source": [
    "p = rand(1, t_)  # t_end realization from a uniform distribution Unif([01])\n",
    "q = QuantileMixture(p, alpha, mu_Y, sigma_Y, mu_Z, sigma_Z)  # quantiles corresponding to the probability levels p\n",
    "\n",
    "q_sort, index = sort(q), argsort(q)\n",
    "p_sort = p[0,index]"
   ]
  },
  {
   "cell_type": "markdown",
   "metadata": {},
   "source": [
    "## Generate figure"
   ]
  },
  {
   "cell_type": "code",
   "execution_count": null,
   "metadata": {},
   "outputs": [],
   "source": [
    "f = figure()\n",
    "p2 = plot(q_sort[0], p_sort[0],'b', marker='*')\n",
    "plt.axis([npmin(q_sort) - 0.01, npmax(q_sort) + 0.01, npmin(p_sort) - 0.01, npmax(p_sort) + 0.01]);\n",
    "# save_plot(ax=plt.gca(), extension='png', scriptname=os.path.basename('.')[:-3], count=plt.get_fignums()[-1])"
   ]
  }
 ],
 "metadata": {
  "jupytext": {
   "encoding": "# -*- coding: utf-8 -*-",
   "executable": "/usr/bin/env python3"
  },
  "kernelspec": {
   "display_name": "Python 3",
   "language": "python",
   "name": "python3"
  }
 },
 "nbformat": 4,
 "nbformat_minor": 4
}
