{
 "cells": [
  {
   "cell_type": "markdown",
   "metadata": {},
   "source": [
    "# S_FxCopulaMarginal [<img src=\"https://www.arpm.co/lab/icons/icon_permalink.png\" width=30 height=30 style=\"display: inline;\">](https://www.arpm.co/lab/redirect.php?code=S_FxCopulaMarginal&codeLang=Python)\n",
    "For details, see [here](https://www.arpm.co/lab/redirect.php?permalink=eb-2-ex-fxcmfact)."
   ]
  },
  {
   "cell_type": "markdown",
   "metadata": {},
   "source": [
    "## Prepare the environment"
   ]
  },
  {
   "cell_type": "code",
   "execution_count": null,
   "metadata": {},
   "outputs": [],
   "source": [
    "import os\n",
    "import os.path as path\n",
    "import sys\n",
    "\n",
    "sys.path.append(path.abspath('../../functions-legacy'))\n",
    "from collections import namedtuple\n",
    "\n",
    "from numpy import ones, diff, round, log\n",
    "\n",
    "from scipy.io import loadmat\n",
    "\n",
    "import matplotlib.pyplot as plt\n",
    "from matplotlib.pyplot import figure, bar, scatter, ylabel, \\\n",
    "    xlabel, title\n",
    "\n",
    "plt.style.use('seaborn')\n",
    "\n",
    "from CONFIG import GLOBAL_DB, TEMPORARY_DB\n",
    "from ARPM_utils import struct_to_dict, save_plot\n",
    "from HistogramFP import HistogramFP\n",
    "from CopMargSep import CopMargSep"
   ]
  },
  {
   "cell_type": "markdown",
   "metadata": {},
   "source": [
    "## Load daily observations of the foreign exchange rates"
   ]
  },
  {
   "cell_type": "code",
   "execution_count": null,
   "metadata": {},
   "outputs": [],
   "source": [
    "try:\n",
    "    db = loadmat(os.path.join(GLOBAL_DB, 'db_FX'), squeeze_me=True)\n",
    "except FileNotFoundError:\n",
    "    db = loadmat(os.path.join(TEMPORARY_DB, 'db_FX'), squeeze_me=True)\n",
    "\n",
    "FXData = struct_to_dict(db['FXData'])\n",
    "\n",
    "Y = FXData.Data\n",
    "# select pair to spot\n",
    "pair = [2, 3]  # 1 = Spot USD/EUR 2 = Spot USD/GBP 3 = Spot USD/JPY"
   ]
  },
  {
   "cell_type": "markdown",
   "metadata": {},
   "source": [
    "## Compute daily log-changes of the rates (Note: first column is time)"
   ]
  },
  {
   "cell_type": "code",
   "execution_count": null,
   "metadata": {},
   "outputs": [],
   "source": [
    "Epsi = diff(log(Y[:, 1:]), 1, 1)"
   ]
  },
  {
   "cell_type": "markdown",
   "metadata": {},
   "source": [
    "## Compute FP-copula using the separation step of CMA"
   ]
  },
  {
   "cell_type": "code",
   "execution_count": null,
   "metadata": {},
   "outputs": [],
   "source": [
    "n_, t_ = Epsi.shape\n",
    "p = ones((1, t_)) / t_  # flat Flexible Probabilities\n",
    "_, _, U = CopMargSep(Epsi, p)"
   ]
  },
  {
   "cell_type": "markdown",
   "metadata": {},
   "source": [
    "## Display the pdf of the copula of a normal distribution"
   ]
  },
  {
   "cell_type": "code",
   "execution_count": null,
   "metadata": {},
   "outputs": [],
   "source": [
    "figure()\n",
    "# empirical histograms of marginals\n",
    "nbins = round(10*log(t_))\n",
    "ax=plt.subplot2grid((3,3),(0,0), rowspan=2)\n",
    "option = namedtuple('option', 'n_bins')\n",
    "option.n_bins = nbins\n",
    "[n, r] = HistogramFP(Epsi[[pair[1]],:], p, option)\n",
    "plt.barh(r[:-1], n[0], height=r[1]-r[0], facecolor=[.8, .8, .8], edgecolor='none')\n",
    "\n",
    "ax=plt.subplot2grid((3,3),(2,1), colspan=2)\n",
    "[n, r] = HistogramFP(Epsi[[pair[0]],:], p, option)\n",
    "bar(r[:-1], n[0], width=r[1]-r[0], facecolor=[.8, .8, .8], edgecolor=  'none')\n",
    "\n",
    "# scatter plot\n",
    "ax=plt.subplot2grid((3,3),(0,1), rowspan=2, colspan=2)\n",
    "scatter(U[pair[0],:], U[pair[1],:], 0.5, [.5, .5, .5], '*')\n",
    "title('Copula')\n",
    "xlabel(str(FXData.Fields[pair[0]][0]))\n",
    "ylabel(str(FXData.Fields[pair[1]][0]))\n",
    "plt.tight_layout();\n",
    "# save_plot(ax=plt.gca(), extension='png', scriptname=os.path.basename('.')[:-3], count=plt.get_fignums()[-1])\n",
    "\n"
   ]
  }
 ],
 "metadata": {
  "jupytext": {
   "encoding": "# -*- coding: utf-8 -*-",
   "executable": "/usr/bin/env python3"
  },
  "kernelspec": {
   "display_name": "Python 3",
   "language": "python",
   "name": "python3"
  }
 },
 "nbformat": 4,
 "nbformat_minor": 4
}
