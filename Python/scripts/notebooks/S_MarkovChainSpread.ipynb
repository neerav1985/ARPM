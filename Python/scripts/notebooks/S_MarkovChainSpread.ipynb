{
 "cells": [
  {
   "cell_type": "markdown",
   "metadata": {},
   "source": [
    "# S_MarkovChainSpread [<img src=\"https://www.arpm.co/lab/icons/icon_permalink.png\" width=30 height=30 style=\"display: inline;\">](https://www.arpm.co/lab/redirect.php?code=S_MarkovChainSpread&codeLang=Python)\n",
    "For details, see [here](https://www.arpm.co/lab/redirect.php?permalink=MarkovTPmic)."
   ]
  },
  {
   "cell_type": "markdown",
   "metadata": {},
   "source": [
    "## Prepare the environment"
   ]
  },
  {
   "cell_type": "code",
   "execution_count": null,
   "metadata": {},
   "outputs": [],
   "source": [
    "import os\n",
    "import os.path as path\n",
    "import sys\n",
    "\n",
    "sys.path.append(path.abspath('../../functions-legacy'))\n",
    "\n",
    "from numpy import maximum, unique, zeros\n",
    "\n",
    "from scipy.io import loadmat\n",
    "\n",
    "import matplotlib.pyplot as plt\n",
    "\n",
    "plt.style.use('seaborn')\n",
    "\n",
    "from CONFIG import GLOBAL_DB, TEMPORARY_DB\n",
    "from ARPM_utils import struct_to_dict\n",
    "from TradeQuoteProcessing import TradeQuoteProcessing\n",
    "from MatchTime import MatchTime\n",
    "\n",
    "# parameter\n",
    "k = 0.01"
   ]
  },
  {
   "cell_type": "markdown",
   "metadata": {},
   "source": [
    "## Upload the database"
   ]
  },
  {
   "cell_type": "code",
   "execution_count": null,
   "metadata": {},
   "outputs": [],
   "source": [
    "try:\n",
    "    db = loadmat(os.path.join(GLOBAL_DB, 'db_US_10yr_Future_quotes_and_trades'), squeeze_me=True)\n",
    "except FileNotFoundError:\n",
    "    db = loadmat(os.path.join(TEMPORARY_DB, 'db_US_10yr_Future_quotes_and_trades'), squeeze_me=True)\n",
    "\n",
    "quotes = struct_to_dict(db['quotes'])\n",
    "trades = struct_to_dict(db['trades'])"
   ]
  },
  {
   "cell_type": "markdown",
   "metadata": {},
   "source": [
    "## Process the time series, refining the raw data coming from the database"
   ]
  },
  {
   "cell_type": "code",
   "execution_count": null,
   "metadata": {},
   "outputs": [],
   "source": [
    "dates_quotes = quotes.time_names  #\n",
    "t = quotes.time  # time vector of quotes\n",
    "p_bid = quotes.bid  # bid prices\n",
    "p_ask = quotes.ask  # ask prices\n",
    "q_bid = quotes.bsiz  # bid volumes\n",
    "q_ask = quotes.asiz  # ask volumes\n",
    "\n",
    "dates_trades = trades.time_names  #\n",
    "t_n = trades.time  # time vector of trades\n",
    "p_last = trades.price  # last transaction prices\n",
    "delta_q = trades.siz  # flow of traded contracts' volumes\n",
    "delta_sgn = trades.aggress  # trade sign flow\n",
    "match = trades.mtch  # match events: - the \"1\" value indicates the \"start of a match event\" while zeros indicates the \"continuation of a match event\"\n",
    "#              - the db is ordered such that the start of a match event is in the last column corresponding to that event\n",
    "\n",
    "t, _, _, p_ask, _, p_bid, t_n, _, _, _, _,_ = TradeQuoteProcessing(t, dates_quotes, q_ask, p_ask, q_bid, p_bid, t_n,\n",
    "                                                                 dates_trades, p_last, delta_q, delta_sgn, match)"
   ]
  },
  {
   "cell_type": "code",
   "execution_count": null,
   "metadata": {},
   "outputs": [],
   "source": [
    "# ## Compute the spread only at trade times\n",
    "s = p_ask - p_bid\n",
    "s, _ = MatchTime(s, t, t_n)"
   ]
  },
  {
   "cell_type": "code",
   "execution_count": null,
   "metadata": {},
   "outputs": [],
   "source": [
    "# ## Compute the tick size and the transition matrix\n",
    "\n",
    "s_u = unique(s)\n",
    "gamma = s_u[1] - s_u[0]  # tick size\n",
    "\n",
    "s_1 = s[:-1]\n",
    "s_2 = s[1:]\n",
    "# transition matrix\n",
    "p = zeros((2,2))\n",
    "p[0, 0] = sum((s_1 == s_u[0]) & (s_2 == s_u[0])) / sum(s_1 == s_u[0])\n",
    "p[0, 1] = sum((s_1 == s_u[0]) & (s_2 == s_u[1])) / sum(s_1 == s_u[0])\n",
    "p[1, 0] = sum((s_1 == s_u[1]) & (s_2 == s_u[0])) / sum(s_1 == s_u[1])\n",
    "p[1, 1] = sum((s_1 == s_u[1]) & (s_2 == s_u[1])) / sum(s_1 == s_u[1])\n",
    "p = maximum(k, p)\n",
    "p[0] = p[0] / sum(p[0])\n",
    "p[1] = p[1] / sum(p[1])"
   ]
  }
 ],
 "metadata": {
  "jupytext": {
   "encoding": "# -*- coding: utf-8 -*-",
   "executable": "/usr/bin/env python3"
  },
  "kernelspec": {
   "display_name": "Python 3",
   "language": "python",
   "name": "python3"
  }
 },
 "nbformat": 4,
 "nbformat_minor": 4
}
