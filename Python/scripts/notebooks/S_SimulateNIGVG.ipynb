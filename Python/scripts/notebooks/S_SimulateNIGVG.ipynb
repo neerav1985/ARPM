{
 "cells": [
  {
   "cell_type": "markdown",
   "metadata": {},
   "source": [
    "# S_SimulateNIGVG [<img src=\"https://www.arpm.co/lab/icons/icon_permalink.png\" width=30 height=30 style=\"display: inline;\">](https://www.arpm.co/lab/redirect.php?code=S_SimulateNIGVG&codeLang=Python)\n",
    "For details, see [here](https://www.arpm.co/lab/redirect.php?permalink=SimulatePureJumpsProcess)."
   ]
  },
  {
   "cell_type": "markdown",
   "metadata": {},
   "source": [
    "## Prepare the environment"
   ]
  },
  {
   "cell_type": "code",
   "execution_count": null,
   "metadata": {},
   "outputs": [],
   "source": [
    "import os\n",
    "import os.path as path\n",
    "import sys\n",
    "\n",
    "sys.path.append(path.abspath('../../functions-legacy'))\n",
    "\n",
    "from numpy import arange\n",
    "\n",
    "import matplotlib.pyplot as plt\n",
    "from matplotlib.pyplot import subplots, title\n",
    "\n",
    "plt.style.use('seaborn')\n",
    "\n",
    "from ARPM_utils import save_plot\n",
    "from Schout2ConTank import Schout2ConTank\n",
    "from NIG import NIG\n",
    "from VG import VG\n",
    "\n",
    "# initial parameters\n",
    "\n",
    "tau = 1  # horizon\n",
    "dt = 1 / 252  # time increment\n",
    "t = arange(0, tau + dt, dt)  # time vector\n",
    "\n",
    "j_ = 15  # number of simulated processes"
   ]
  },
  {
   "cell_type": "markdown",
   "metadata": {},
   "source": [
    "## Simulate Normal-Inverse-Gaussian process\n",
    "## parameters in Schoutens notation"
   ]
  },
  {
   "cell_type": "code",
   "execution_count": null,
   "metadata": {},
   "outputs": [],
   "source": [
    "al = 2.1\n",
    "be = 0\n",
    "de = 1\n",
    "# convert parameters to Cont-Tankov notation\n",
    "th, k, s = Schout2ConTank(al, be, de)\n",
    "\n",
    "x_nig = NIG(th, k, s, t, j_)"
   ]
  },
  {
   "cell_type": "markdown",
   "metadata": {},
   "source": [
    "## Simulate Variance-Gamma process"
   ]
  },
  {
   "cell_type": "code",
   "execution_count": null,
   "metadata": {},
   "outputs": [],
   "source": [
    "mu = 0.1  # deterministic drift in subordinated Brownian motion\n",
    "kappa = 1\n",
    "sigma = 0.2  # s.dev in subordinated Brownian motion\n",
    "\n",
    "x_vg,_ = VG(mu, sigma, kappa, t, j_)"
   ]
  },
  {
   "cell_type": "markdown",
   "metadata": {},
   "source": [
    "## Generate figure"
   ]
  },
  {
   "cell_type": "code",
   "execution_count": null,
   "metadata": {},
   "outputs": [],
   "source": [
    "t = t.reshape(1,-1)\n",
    "f, ax = subplots(2, 1)\n",
    "ax[0].plot(t.T, x_nig.T)\n",
    "title('normal-inverse-Gaussian')\n",
    "\n",
    "ax[1].plot(t.T, x_vg.T)\n",
    "title('variance gamma')\n",
    "plt.tight_layout();\n",
    "# save_plot(ax=plt.gca(), extension='png', scriptname=os.path.basename('.')[:-3], count=plt.get_fignums()[-1])"
   ]
  }
 ],
 "metadata": {
  "jupytext": {
   "encoding": "# -*- coding: utf-8 -*-",
   "executable": "/usr/bin/env python3"
  },
  "kernelspec": {
   "display_name": "Python 3",
   "language": "python",
   "name": "python3"
  }
 },
 "nbformat": 4,
 "nbformat_minor": 4
}
