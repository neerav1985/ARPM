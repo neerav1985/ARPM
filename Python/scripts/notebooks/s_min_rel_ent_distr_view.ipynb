{
 "cells": [
  {
   "cell_type": "markdown",
   "metadata": {},
   "source": [
    "# s_min_rel_ent_distr_view [<img src=\"https://www.arpm.co/lab/icons/icon_permalink.png\" width=30 height=30 style=\"display: inline;\">](https://www.arpm.co/lab/redirect.php?code=s_min_rel_ent_distr_view&codeLang=Python)\n",
    "For details, see [here](https://www.arpm.co/lab/redirect.php?permalink=ExViewTheoryDistr)."
   ]
  },
  {
   "cell_type": "code",
   "execution_count": null,
   "metadata": {},
   "outputs": [],
   "source": [
    "import numpy as np\n",
    "\n",
    "from arpym.views.min_rel_entropy_normal import min_rel_entropy_normal"
   ]
  },
  {
   "cell_type": "markdown",
   "metadata": {},
   "source": [
    "## [Input parameters](https://www.arpm.co/lab/redirect.php?permalink=s_min_rel_ent_distr_view-parameters)"
   ]
  },
  {
   "cell_type": "code",
   "execution_count": null,
   "metadata": {},
   "outputs": [],
   "source": [
    "mu_x_base = np.array([0.26, 0.29, 0.33])  # base case expectation\n",
    "sig2_x_base = np.array([[0.18, 0.11, 0.13],\n",
    "                        [0.11, 0.23, 0.16],\n",
    "                        [0.13, 0.16, 0.23]])  # base case covariance\n",
    "\n",
    "v = np.array([[1, -1, 0], [0, 1, -1]])  # view matrix\n",
    "\n",
    "mu_z_view = np.array([1.02, -0.50])  # expectation of the view variables\n",
    "\n",
    "sig2_z_view = np.array([[0.35, -0.40],\n",
    "                        [-0.40, 0.21]])  # covariance of the view variables"
   ]
  },
  {
   "cell_type": "markdown",
   "metadata": {},
   "source": [
    "## [Step 1](https://www.arpm.co/lab/redirect.php?permalink=s_min_rel_ent_distr_view-implementation-step01): Compute base parameters of the view variables"
   ]
  },
  {
   "cell_type": "code",
   "execution_count": null,
   "metadata": {},
   "outputs": [],
   "source": [
    "mu_z_base = v @ mu_x_base\n",
    "sig2_z_base = v @ sig2_x_base @ v.T"
   ]
  },
  {
   "cell_type": "markdown",
   "metadata": {},
   "source": [
    "## [Step 2](https://www.arpm.co/lab/redirect.php?permalink=s_min_rel_ent_distr_view-implementation-step02): Compute distributional view updated parameters"
   ]
  },
  {
   "cell_type": "code",
   "execution_count": null,
   "metadata": {},
   "outputs": [],
   "source": [
    "mu_x_upd, sig2_x_upd = min_rel_entropy_normal(mu_x_base, sig2_x_base, v,\n",
    "                                              mu_z_view, v, sig2_z_view)"
   ]
  }
 ],
 "metadata": {
  "jupytext": {
   "encoding": "# -*- coding: utf-8 -*-",
   "executable": "/usr/bin/env python3"
  },
  "kernelspec": {
   "display_name": "Python 3",
   "language": "python",
   "name": "python3"
  }
 },
 "nbformat": 4,
 "nbformat_minor": 4
}
