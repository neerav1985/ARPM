{
 "cells": [
  {
   "cell_type": "markdown",
   "metadata": {},
   "source": [
    "# S_EstimateQuantileMixtureStressTest [<img src=\"https://www.arpm.co/lab/icons/icon_permalink.png\" width=30 height=30 style=\"display: inline;\">](https://www.arpm.co/lab/redirect.php?code=S_EstimateQuantileMixtureStressTest&codeLang=Python)\n",
    "For details, see [here](https://www.arpm.co/lab/redirect.php?permalink=e-sta-ssessq-uant-copy-1)."
   ]
  },
  {
   "cell_type": "markdown",
   "metadata": {},
   "source": [
    "## Prepare the environment"
   ]
  },
  {
   "cell_type": "code",
   "execution_count": null,
   "metadata": {},
   "outputs": [],
   "source": [
    "import os\n",
    "import os.path as path\n",
    "import sys\n",
    "\n",
    "sys.path.append(path.abspath('../../functions-legacy'))\n",
    "\n",
    "import numpy as np\n",
    "from numpy import arange, zeros, var, \\\n",
    "    mean\n",
    "from numpy.random import rand\n",
    "\n",
    "import matplotlib.pyplot as plt\n",
    "from matplotlib.pyplot import plot, bar, legend, subplots, title\n",
    "\n",
    "plt.style.use('seaborn')\n",
    "\n",
    "from ARPM_utils import save_plot\n",
    "from QuantileMixture import QuantileMixture"
   ]
  },
  {
   "cell_type": "markdown",
   "metadata": {},
   "source": [
    "## Compute error, bias and inefficiency for every estimator and for every DGP within the stress-test set"
   ]
  },
  {
   "cell_type": "code",
   "execution_count": null,
   "metadata": {},
   "outputs": [],
   "source": [
    "# define estimators\n",
    "g_b = lambda X: mean(X, 1, keepdims=True)\n",
    "g_e = lambda X: np.median(X, 1, keepdims=True)\n",
    "\n",
    "# generate the scenarios for the time series\n",
    "t_ = 50\n",
    "j_ = 10 ** 4\n",
    "alpha = 0.5\n",
    "sigma_Y = 0.2\n",
    "mu_Z = 0\n",
    "sigma_Z = 0.15\n",
    "\n",
    "S = arange(0,0.22,0.02)  # stress-test set for parameter mu_Y\n",
    "k_ = len(S)\n",
    "\n",
    "I = zeros((j_, t_))\n",
    "er_b = zeros(k_)\n",
    "er_e = zeros(k_)\n",
    "bias2_b = zeros(k_)\n",
    "bias2_e = zeros(k_)\n",
    "inef2_b = zeros(k_)\n",
    "inef2_e = zeros(k_)\n",
    "for k in range(k_):\n",
    "    # compute the true value of the property\n",
    "    mu_Y = S[k]\n",
    "    g_f = QuantileMixture(0.5, alpha, mu_Y, sigma_Y, mu_Z, sigma_Z)\n",
    "    # generate j_ simulations of the time series\n",
    "    P = rand(j_, t_)\n",
    "    for j in range(j_):\n",
    "        I[j,:] = QuantileMixture(P[j, :], alpha, mu_Y, sigma_Y, mu_Z, sigma_Z)\n",
    "\n",
    "    # compute simulations of the estimators\n",
    "    G_b = g_b(I)\n",
    "    G_e = g_e(I)\n",
    "    # compute the losses of the estimators\n",
    "    L_b = (G_b - g_f) ** 2\n",
    "    L_e = (G_e - g_f) ** 2\n",
    "    # compute errors\n",
    "    er_b[k] = mean(L_b)\n",
    "    er_e[k] = mean(L_e)\n",
    "    # compute square bias\n",
    "    bias2_b[k] = (mean((G_b) - g_f)) ** 2\n",
    "    bias2_e[k] = (mean((G_e) - g_f)) ** 2\n",
    "    # compute square inefficiency\n",
    "    inef2_b[k] = var(G_b, ddof=1)\n",
    "    inef2_e[k] = var(G_e, ddof=1)"
   ]
  },
  {
   "cell_type": "markdown",
   "metadata": {},
   "source": [
    "## Compute robust and ensemble errors"
   ]
  },
  {
   "cell_type": "code",
   "execution_count": null,
   "metadata": {},
   "outputs": [],
   "source": [
    "er_rob_b = max(er_b)\n",
    "er_rob_e = max(er_e)\n",
    "\n",
    "er_ens_b = mean(er_b)\n",
    "er_ens_e = mean(er_e)"
   ]
  },
  {
   "cell_type": "markdown",
   "metadata": {},
   "source": [
    "## Determine the optimal estimator"
   ]
  },
  {
   "cell_type": "code",
   "execution_count": null,
   "metadata": {},
   "outputs": [],
   "source": [
    "# best robust estimator\n",
    "er_rob = min([er_rob_b, er_rob_e]),\n",
    "# best ensemble estimator\n",
    "er_ens = min([er_ens_b, er_ens_e])"
   ]
  },
  {
   "cell_type": "markdown",
   "metadata": {},
   "source": [
    "## plot error, bias and inefficiency for each DGP within the stress-test set"
   ]
  },
  {
   "cell_type": "code",
   "execution_count": null,
   "metadata": {},
   "outputs": [],
   "source": [
    "red = [.9, .4, 0]\n",
    "blue = [0, .45, .7]\n",
    "\n",
    "f, ax = subplots(2,1)\n",
    "plt.sca(ax[0])\n",
    "b = bar(range(1,k_+1),bias2_b.T+inef2_b.T, facecolor= red, label='bias$^2$')\n",
    "b = bar(range(1,k_+1),inef2_b.T,facecolor= blue,label='ineff$^2$')\n",
    "plot(range(1,k_+1), er_b, 'k',lw=1.5, label='error')\n",
    "plt.xticks(range(0,k_+2,2))\n",
    "legend()\n",
    "title('stress-test of estimator b')\n",
    "\n",
    "plt.sca(ax[1])\n",
    "b = bar(range(1,k_+1),bias2_e.T+inef2_e.T,facecolor= red)\n",
    "b = bar(range(1,k_+1),inef2_e.T,facecolor= blue)\n",
    "plot(range(1,k_+1), er_e, 'k',lw= 1.5)\n",
    "plt.xticks(range(0,k_+2,2))\n",
    "title('stress-test of estimator e')\n",
    "plt.tight_layout();\n",
    "plt.show()\n",
    "# save_plot(ax=plt.gca(), extension='png', scriptname=os.path.basename('.')[:-3], count=plt.get_fignums()[-1])"
   ]
  }
 ],
 "metadata": {
  "jupytext": {
   "encoding": "# -*- coding: utf-8 -*-",
   "executable": "/usr/bin/env python3"
  },
  "kernelspec": {
   "display_name": "Python 3",
   "language": "python",
   "name": "python3"
  }
 },
 "nbformat": 4,
 "nbformat_minor": 4
}
