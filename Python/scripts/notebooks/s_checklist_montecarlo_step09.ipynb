{
 "cells": [
  {
   "cell_type": "markdown",
   "metadata": {},
   "source": [
    "# s_checklist_montecarlo_step09 [<img src=\"https://www.arpm.co/lab/icons/icon_permalink.png\" width=30 height=30 style=\"display: inline;\">](https://www.arpm.co/lab/redirect.php?code=s_checklist_montecarlo_step09&codeLang=Python)\n",
    "For details, see [here](https://www.arpm.co/lab/redirect.php?permalink=ex-vue-9)."
   ]
  },
  {
   "cell_type": "code",
   "execution_count": null,
   "metadata": {},
   "outputs": [],
   "source": [
    "import numpy as np\n",
    "import pandas as pd\n",
    "import matplotlib.pyplot as plt\n",
    "import matplotlib.cm as cm\n",
    "import cvxopt\n",
    "\n",
    "from arpym.portfolio.spectral_index import spectral_index\n",
    "from arpym.statistics.meancov_sp import meancov_sp\n",
    "from arpym.tools.histogram_sp import histogram_sp\n",
    "from arpym.tools.logo import add_logo"
   ]
  },
  {
   "cell_type": "markdown",
   "metadata": {},
   "source": [
    "## [Input parameters](https://www.arpm.co/lab/redirect.php?permalink=s_checklist_montecarlo_step09-parameters)"
   ]
  },
  {
   "cell_type": "code",
   "execution_count": null,
   "metadata": {},
   "outputs": [],
   "source": [
    "v_stocks_min = 200e6  # minimum budget to invest in stocks\n",
    "\n",
    "lambda_inf = 1e-9  # minimum value of the parameter lambda\n",
    "lambda_sup = 1e-6  # maximum value of the parameter lambda\n",
    "lambda_step = 1e-9  # step in the lambda grid"
   ]
  },
  {
   "cell_type": "markdown",
   "metadata": {},
   "source": [
    "## [Step 0](https://www.arpm.co/lab/redirect.php?permalink=s_checklist_montecarlo_step09-implementation-step00): Load data"
   ]
  },
  {
   "cell_type": "code",
   "execution_count": null,
   "metadata": {},
   "outputs": [],
   "source": [
    "path = '~/databases/temporary-databases/'\n",
    "\n",
    "# Risk drivers identification\n",
    "db_riskdrivers_tools = pd.read_csv(path+'db_riskdrivers_tools.csv')\n",
    "n_stocks = int(db_riskdrivers_tools['n_stocks'][0])\n",
    "n_bonds = int(db_riskdrivers_tools.n_bonds[0])\n",
    "n_ = n_stocks+n_bonds+3\n",
    "\n",
    "db_v_tnow = pd.read_csv(path+'db_v_tnow.csv')\n",
    "v_tnow = db_v_tnow.values.squeeze()\n",
    "\n",
    "# Aggregation\n",
    "db_aggregation_tools = pd.read_csv(path+'db_aggregation_tools.csv')\n",
    "v_h_tnow = db_aggregation_tools['v_h_tnow'][0]\n",
    "\n",
    "# Projection\n",
    "db_projection_tools = pd.read_csv(path+'db_projection_tools.csv')\n",
    "j_ = int(db_projection_tools['j_'][0])\n",
    "\n",
    "db_scenprob = pd.read_csv(path+'db_scenario_probs.csv')\n",
    "p = db_scenprob['p'].values\n",
    "\n",
    "# Pricing\n",
    "db_pricing = pd.read_csv(path+'db_pricing.csv')\n",
    "pi_tnow_thor = db_pricing.values\n",
    "\n",
    "# Aggregation\n",
    "db_exante_perf = pd.read_csv(path+'db_exante_perf.csv')\n",
    "y_h = db_exante_perf.values.squeeze()\n",
    "\n",
    "# Ex-ante evaluation\n",
    "db_quantile_and_satis = pd.read_csv(path+'db_quantile_and_satis.csv')\n",
    "c_es = db_quantile_and_satis['c_es'][0]"
   ]
  },
  {
   "cell_type": "markdown",
   "metadata": {},
   "source": [
    "## [Step 1](https://www.arpm.co/lab/redirect.php?permalink=s_checklist_montecarlo_step09-implementation-step01): Solving the first step of the mean-variance approach"
   ]
  },
  {
   "cell_type": "code",
   "execution_count": null,
   "metadata": {},
   "outputs": [],
   "source": [
    "# define set of parameters for mean-variance frontier\n",
    "lambda_grid = np.arange(lambda_inf, lambda_sup, lambda_step)\n",
    "l_ = lambda_grid.shape[0]\n",
    "\n",
    "# compute expectation and covariance of the P&L\n",
    "exp_pi, cov_pi = meancov_sp(pi_tnow_thor, p)\n",
    "\n",
    "# set constraints\n",
    "\n",
    "# equality constraints\n",
    "# budget constraint: h'*v_tnow = v_h_tnow\n",
    "a_budget = v_tnow.reshape(1, -1)\n",
    "b_budget = np.array(v_h_tnow)\n",
    "# constraint: do not invest in the S&P\n",
    "a_sp = np.zeros((1, n_))\n",
    "a_sp[0, n_stocks] = 1\n",
    "b_sp = np.array(0)\n",
    "# combine equality constraints\n",
    "a = cvxopt.matrix(np.r_[a_budget, a_sp])\n",
    "b = cvxopt.matrix(np.r_[b_budget, b_sp])\n",
    "\n",
    "# inequality constraints\n",
    "# holdings must be nonnegative (no short sale)\n",
    "u_no_short = -np.eye(n_)\n",
    "v_no_short = np.zeros(n_)\n",
    "# investment composition constraint: invest at least v_stocks_min in stocks\n",
    "u_comp = -np.append(v_tnow[:n_stocks],\n",
    "                      np.zeros(n_bonds+3)).reshape(1, -1)\n",
    "v_comp = -np.array(v_stocks_min)\n",
    "# combine inequality constraints\n",
    "u = cvxopt.matrix(np.r_[u_no_short, u_comp])\n",
    "v = cvxopt.matrix(np.r_[v_no_short, v_comp])\n",
    "\n",
    "h_lambda = np.zeros((l_, n_))\n",
    "expectation = np.zeros(l_)\n",
    "variance = np.zeros(l_)\n",
    "\n",
    "cvxopt.solvers.options['show_progress'] = False\n",
    "for l in range(l_):\n",
    "    # objective function\n",
    "    p_opt = cvxopt.matrix(2*lambda_grid[l]*cov_pi)\n",
    "    q_opt = cvxopt.matrix(-exp_pi)\n",
    "    # solve quadratic programming problem\n",
    "    h_lambda[l, :] = np.array(cvxopt.solvers.qp(p_opt, q_opt, u, v,\n",
    "                                                a, b)['x']).squeeze()\n",
    "\n",
    "    expectation[l] = exp_pi@h_lambda[l, :].T\n",
    "    variance[l] = h_lambda[l, :]@cov_pi@h_lambda[l, :].T\n",
    "\n",
    "# portfolio weights\n",
    "w_lambda = (h_lambda*v_tnow) / v_h_tnow"
   ]
  },
  {
   "cell_type": "markdown",
   "metadata": {},
   "source": [
    "## [Step 2](https://www.arpm.co/lab/redirect.php?permalink=s_checklist_montecarlo_step09-implementation-step02): Solving the second step of the mean-variance approach"
   ]
  },
  {
   "cell_type": "code",
   "execution_count": null,
   "metadata": {},
   "outputs": [],
   "source": [
    "# expected shortfall measure of satisfaction\n",
    "es_pih_lambda = np.zeros(l_)\n",
    "# indicator function\n",
    "def indicator(x):\n",
    "    return (0 <= x and x <= 1-c_es)\n",
    "# spectrum function\n",
    "def spectr_es(x):\n",
    "    return (1 / (1 - c_es)) * indicator(x)\n",
    "for l in range(l_):\n",
    "    es_pih_lambda[l], _ = spectral_index(spectr_es, pi_tnow_thor,\n",
    "                                         p, h_lambda[l, :])\n",
    "\n",
    "# quasi-optimal portfolio\n",
    "ind_lambda_star = np.argmax(es_pih_lambda)\n",
    "lambda_star = lambda_grid[ind_lambda_star]\n",
    "h_qsi = np.floor(np.round(h_lambda[ind_lambda_star, :], 20))\n",
    "# satisfaction from quasi-optimal portfolio\n",
    "es_pih_qsi = es_pih_lambda[ind_lambda_star]\n",
    "# ex-ante performance of quasi-optimal portfolio\n",
    "y_h_es_qsi = pi_tnow_thor@h_qsi"
   ]
  },
  {
   "cell_type": "markdown",
   "metadata": {},
   "source": [
    "## [Step 3](https://www.arpm.co/lab/redirect.php?permalink=s_checklist_montecarlo_step09-implementation-step03): Save database"
   ]
  },
  {
   "cell_type": "code",
   "execution_count": null,
   "metadata": {},
   "outputs": [],
   "source": [
    "# quasi-optimal portfolio\n",
    "out = {db_v_tnow.columns[i]: h_qsi[i]\n",
    "       for i in range(len(h_qsi))}\n",
    "out = pd.DataFrame(out, index = [0])\n",
    "out.to_csv(path+'db_final_portfolio.csv', index=False)"
   ]
  },
  {
   "cell_type": "markdown",
   "metadata": {},
   "source": [
    "## Plots"
   ]
  },
  {
   "cell_type": "code",
   "execution_count": null,
   "metadata": {},
   "outputs": [],
   "source": [
    "plt.style.use('arpm')\n",
    "fig1 = plt.figure(figsize=(1280.0/72.0, 720.0/72.0), dpi = 72.0)\n",
    "f, xp = histogram_sp(y_h, p=p, k_=30)\n",
    "xp = xp*1e-6\n",
    "plt.bar(xp, f, width=xp[1]-xp[0], facecolor=[.3, .3, .3], edgecolor='k',\n",
    "       label = 'Current holdings')\n",
    "f, xp = histogram_sp(y_h_es_qsi, p=p, k_=30)\n",
    "xp = xp*1e-6\n",
    "plt.bar(xp, f, width=xp[1]-xp[0], facecolor=[0.7, 0.7, 0.7, 0.9],\n",
    "        edgecolor=[0.5, 0.5, 0.5], label = 'Optimal holdings')\n",
    "plt.title('Optimized portfolio ex-ante P&L distribution',\n",
    "         fontsize=20, fontweight='bold')\n",
    "plt.xlabel(r'$Y_h$ (million USD)', fontsize=17)\n",
    "plt.legend(fontsize=17)\n",
    "plt.xticks(fontsize=14)\n",
    "plt.yticks(fontsize=14)\n",
    "add_logo(fig1, set_fig_size=False)\n",
    "\n",
    "fig2, [ax1, ax2] = plt.subplots(2, 1,\n",
    "                                figsize=(1280.0/72.0, 720.0/72.0), dpi = 72.0)\n",
    "xlim = [np.min(variance), np.max(variance)]\n",
    "\n",
    "plt.sca(ax1)\n",
    "plt.plot(variance, expectation, lw=1, label='Efficient frontier')\n",
    "plt.plot(variance[ind_lambda_star], expectation[ind_lambda_star],\n",
    "         'ro', label ='Optimal holdings')\n",
    "plt.title('Mean-variance efficient frontier',\n",
    "         fontsize=20, fontweight='bold')\n",
    "plt.xlabel('Variance', fontsize=17)\n",
    "plt.ylabel('Expectation', fontsize=17)\n",
    "plt.xlim(xlim)\n",
    "plt.legend(fontsize=17)\n",
    "plt.xticks(fontsize=14)\n",
    "plt.yticks(fontsize=14)\n",
    "\n",
    "plt.sca(ax2)\n",
    "instruments = list(db_v_tnow)\n",
    "colors = cm.get_cmap('Spectral')(np.arange(n_)/n_)[:, :3]\n",
    "for n in range(n_):\n",
    "    if n == 0:\n",
    "        plt.fill_between(variance, w_lambda[:, n],\n",
    "                         np.zeros(l_), color=colors[n, :],\n",
    "                         label = instruments[n])\n",
    "    else:\n",
    "        plt.fill_between(variance,\n",
    "                         np.sum(w_lambda[:, :n+1], axis=1),\n",
    "                         np.sum(w_lambda[:, :n], axis=1), color=colors[n, :],\n",
    "                         label = instruments[n])\n",
    "plt.axvline(x=variance[ind_lambda_star], color='k')\n",
    "plt.title('Portfolio weights', fontsize=20, fontweight='bold')\n",
    "plt.xlabel('Variance', fontsize=17)\n",
    "plt.ylabel('Portfolio weights', fontsize=17)\n",
    "plt.xlim(xlim)\n",
    "plt.ylim([0,1])\n",
    "plt.legend(fontsize=17)\n",
    "plt.xticks(fontsize=14)\n",
    "plt.yticks(fontsize=14)\n",
    "plt.grid(False)\n",
    "add_logo(fig2, axis = ax1, set_fig_size=False)\n",
    "plt.tight_layout()"
   ]
  }
 ],
 "metadata": {
  "kernelspec": {
   "display_name": "Python 3",
   "language": "python",
   "name": "python3"
  }
 },
 "nbformat": 4,
 "nbformat_minor": 4
}
