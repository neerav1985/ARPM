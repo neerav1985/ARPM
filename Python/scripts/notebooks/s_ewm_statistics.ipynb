{
 "cells": [
  {
   "cell_type": "markdown",
   "metadata": {},
   "source": [
    "# s_ewm_statistics [<img src=\"https://www.arpm.co/lab/icons/icon_permalink.png\" width=30 height=30 style=\"display: inline;\">](https://www.arpm.co/lab/redirect.php?code=s_ewm_statistics&codeLang=Python)\n",
    "For details, see [here](https://www.arpm.co/lab/redirect.php?permalink=eb-ewmanum-ex)."
   ]
  },
  {
   "cell_type": "code",
   "execution_count": null,
   "metadata": {},
   "outputs": [],
   "source": [
    "import numpy as np\n",
    "import pandas as pd\n",
    "import matplotlib.dates as mdates\n",
    "import matplotlib.pyplot as plt\n",
    "from pandas.plotting import register_matplotlib_converters\n",
    "register_matplotlib_converters()\n",
    "\n",
    "from arpym.estimation.exp_decay_fp import exp_decay_fp\n",
    "from arpym.statistics.ewm_meancov import ewm_meancov\n",
    "from arpym.statistics.quantile_sp import quantile_sp\n",
    "from arpym.tools.logo import add_logo"
   ]
  },
  {
   "cell_type": "markdown",
   "metadata": {},
   "source": [
    "## [Input parameters](https://www.arpm.co/lab/redirect.php?permalink=s_ewm_statistics-parameters)"
   ]
  },
  {
   "cell_type": "code",
   "execution_count": null,
   "metadata": {},
   "outputs": [],
   "source": [
    "t_ = 1799  # number of observations\n",
    "tau_hl = 25  # half-life parameter\n",
    "w = 200  # trailing window\n",
    "c = 0.05  # confidence level"
   ]
  },
  {
   "cell_type": "markdown",
   "metadata": {},
   "source": [
    "## [Step 0](https://www.arpm.co/lab/redirect.php?permalink=s_ewm_statistics-implementation-step00): Upload from database"
   ]
  },
  {
   "cell_type": "code",
   "execution_count": null,
   "metadata": {},
   "outputs": [],
   "source": [
    "# S&P 500 index value\n",
    "spx_path = '~/databases/global-databases/equities/db_stocks_SP500/SPX.csv'\n",
    "spx_all = pd.read_csv(spx_path, parse_dates=['date'])\n",
    "spx = spx_all.loc[spx_all.index.max() - t_:spx_all.index.max(), :]\n",
    "spx = spx.set_index(pd.to_datetime(spx.date))"
   ]
  },
  {
   "cell_type": "markdown",
   "metadata": {},
   "source": [
    "## [Step 1](https://www.arpm.co/lab/redirect.php?permalink=s_ewm_statistics-implementation-step01): Compute time series of S&P 500 compounded return"
   ]
  },
  {
   "cell_type": "code",
   "execution_count": null,
   "metadata": {},
   "outputs": [],
   "source": [
    "epsi = np.diff(np.log(spx.SPX_close))  # S&P 500 index compounded return"
   ]
  },
  {
   "cell_type": "markdown",
   "metadata": {},
   "source": [
    "## [Step 2](https://www.arpm.co/lab/redirect.php?permalink=s_ewm_statistics-implementation-step02): Compute EWMA and EWM standard deviation"
   ]
  },
  {
   "cell_type": "code",
   "execution_count": null,
   "metadata": {},
   "outputs": [],
   "source": [
    "ewma = np.zeros(t_ - w + 1)\n",
    "ewm_cv = np.zeros(t_ - w + 1)\n",
    "ewm_sd = np.zeros(t_ - w + 1)\n",
    "\n",
    "for t in range(w, t_):\n",
    "    ewma[t - w], ewm_cv[t - w] = ewm_meancov(epsi[t - w:t], tau_hl, w)  # EWM average and covariance\n",
    "\n",
    "ewm_sd = np.sqrt(ewm_cv)  # EWM standard deviation"
   ]
  },
  {
   "cell_type": "markdown",
   "metadata": {},
   "source": [
    "## [Step 3](https://www.arpm.co/lab/redirect.php?permalink=s_ewm_statistics-implementation-step03): Compute flexible probabilities and EWM quantile"
   ]
  },
  {
   "cell_type": "code",
   "execution_count": null,
   "metadata": {},
   "outputs": [],
   "source": [
    "ewm_q = np.zeros(t_ - w + 1)\n",
    "p_s = exp_decay_fp(w, tau_hl)\n",
    "\n",
    "for t in range(w, t_):\n",
    "    ewm_q[t - w] = quantile_sp(c, epsi[t - w:t], p_s)  # EWM quantile"
   ]
  },
  {
   "cell_type": "markdown",
   "metadata": {},
   "source": [
    "## Plots"
   ]
  },
  {
   "cell_type": "code",
   "execution_count": null,
   "metadata": {
    "lines_to_next_cell": 2
   },
   "outputs": [],
   "source": [
    "plt.style.use('arpm')\n",
    "\n",
    "k_color = [33/255, 37/255, 41/255]\n",
    "g_color = [71/255, 180/255, 175/255]\n",
    "b_color = [13/255, 94/255, 148/255]\n",
    "r_color = [227/255, 66/255, 52/255]\n",
    "\n",
    "myFmt = mdates.DateFormatter('%d-%b-%Y')\n",
    "\n",
    "mydpi = 72.0\n",
    "f = plt.figure(figsize=(1280.0/mydpi, 720.0/mydpi), dpi=mydpi)\n",
    "plt.xlim(np.min(spx.index[w:]), np.max(spx.index[w:]))\n",
    "\n",
    "plt.plot(spx.index[w:], epsi[w-1:], '.b', color=b_color, label=r'S&P 500 log-returns')\n",
    "plt.plot(spx.index[w:], ewma, color=g_color, lw=1.5, label=r'EWMA')\n",
    "plt.plot(spx.index[w:], ewma + 2*ewm_sd, color=r_color, lw=1, label=r'+/- 2 EWM std. dev. band')\n",
    "plt.plot(spx.index[w:], ewma - 2*ewm_sd, color=r_color, lw=1)\n",
    "plt.plot(spx.index[w:], ewm_q, color=k_color, lw=1, label=r'EWM 0.05-quantile')\n",
    "\n",
    "plt.legend(loc=1)\n",
    "plt.gca().xaxis.set_major_formatter(myFmt)"
   ]
  }
 ],
 "metadata": {
  "jupytext": {
   "cell_metadata_filter": "-all",
   "encoding": "# coding: utf-8",
   "executable": "/usr/bin/env python",
   "main_language": "python",
   "notebook_metadata_filter": "-all"
  }
 },
 "nbformat": 4,
 "nbformat_minor": 4
}
