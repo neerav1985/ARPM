{
 "cells": [
  {
   "cell_type": "markdown",
   "metadata": {},
   "source": [
    "# s_execution_exog_impact [<img src=\"https://www.arpm.co/lab/icons/icon_permalink.png\" width=30 height=30 style=\"display: inline;\">](https://www.arpm.co/lab/redirect.php?code=s_execution_exog_impact&codeLang=Python)\n",
    "For details, see [here](https://www.arpm.co/lab/redirect.php?permalink=eb-exog-impact)."
   ]
  },
  {
   "cell_type": "code",
   "execution_count": null,
   "metadata": {},
   "outputs": [],
   "source": [
    "import numpy as np\n",
    "import pandas as pd\n",
    "\n",
    "from scipy.special import erf\n",
    "\n",
    "from arpym.estimation.fit_lfm_ols import fit_lfm_ols"
   ]
  },
  {
   "cell_type": "markdown",
   "metadata": {},
   "source": [
    "## [Input parameters](https://www.arpm.co/lab/redirect.php?permalink=s_execution_exog_impact-parameters)"
   ]
  },
  {
   "cell_type": "code",
   "execution_count": null,
   "metadata": {},
   "outputs": [],
   "source": [
    "gamma = 5  # constant for rescaled error function\n",
    "l = 10  # number of lags included in the model"
   ]
  },
  {
   "cell_type": "markdown",
   "metadata": {},
   "source": [
    "## [Step 0](https://www.arpm.co/lab/redirect.php?permalink=s_execution_exog_impact-implementation-step00): Load data"
   ]
  },
  {
   "cell_type": "code",
   "execution_count": null,
   "metadata": {},
   "outputs": [],
   "source": [
    "path = '~/databases/global-databases/high-frequency/db_stocks_highfreq/'\n",
    "msft = pd.read_csv(path + 'MSFT/data.csv', index_col=0, parse_dates=True)\n",
    "p = np.array(msft.loc[:, 'trade_price'])\n",
    "p_ask = np.array(msft.loc[:, 'ask'])\n",
    "p_bid = np.array(msft.loc[:, 'bid'])\n",
    "delta_q = np.array(msft.loc[:, 'trade_size'])"
   ]
  },
  {
   "cell_type": "markdown",
   "metadata": {},
   "source": [
    "## [Step 1](https://www.arpm.co/lab/redirect.php?permalink=s_execution_exog_impact-implementation-step01): Compute the realizations of the variable sign"
   ]
  },
  {
   "cell_type": "code",
   "execution_count": null,
   "metadata": {},
   "outputs": [],
   "source": [
    "# take data with (ask > bid) and (price = bid or price = ask)\n",
    "index = np.where((p_ask > p_bid) & ((p == p_bid) | (p == p_ask)))\n",
    "\n",
    "frac = (p[index] - p_bid[index]) / (p_ask[index] - p_bid[index])\n",
    "sgn = erf(gamma*(2*frac - 1))  # sign time series"
   ]
  },
  {
   "cell_type": "markdown",
   "metadata": {},
   "source": [
    "## [Step 2](https://www.arpm.co/lab/redirect.php?permalink=s_execution_exog_impact-implementation-step02): Compute the realization of the fair price, signed volume and price changes"
   ]
  },
  {
   "cell_type": "code",
   "execution_count": null,
   "metadata": {},
   "outputs": [],
   "source": [
    "mid_quote = (p_bid[index] + p_ask[index]) / 2  # mid-quote time series\n",
    "delta_sgn_q = sgn * delta_q[index].astype(float)  # signed-volume time series\n",
    "delta_p = np.diff(mid_quote)  # price changes time series"
   ]
  },
  {
   "cell_type": "markdown",
   "metadata": {},
   "source": [
    "## [Step 3](https://www.arpm.co/lab/redirect.php?permalink=s_execution_exog_impact-implementation-step03): construction of the lagged variables (lagged traded volumes with sign)"
   ]
  },
  {
   "cell_type": "code",
   "execution_count": null,
   "metadata": {},
   "outputs": [],
   "source": [
    "delta_p_lag = delta_p[l:]  # lagged variable delta_p\n",
    "d_ = len(delta_p_lag)\n",
    "delta_sgn_q = delta_sgn_q[1:]  # drop first in order to match dimensions\n",
    "\n",
    "delta_sgn_q_lag = np.zeros((d_, l))\n",
    "\n",
    "for i in range(1, l+1):  # lagged variable delta_sgn_q\n",
    "    delta_sgn_q_lag[:, i-1] = delta_sgn_q[l - i: -i]"
   ]
  },
  {
   "cell_type": "markdown",
   "metadata": {},
   "source": [
    "## [Step 4](https://www.arpm.co/lab/redirect.php?permalink=s_execution_exog_impact-implementation-step04): Fit the model via OLS regression"
   ]
  },
  {
   "cell_type": "code",
   "execution_count": null,
   "metadata": {},
   "outputs": [],
   "source": [
    "p_fp = np.ones((d_,)) / d_  # flat flexible probabilities\n",
    "_, b, _, _ = fit_lfm_ols(delta_p_lag, delta_sgn_q_lag, p_fp)\n",
    "print(b)  # print the fitted loadings"
   ]
  }
 ],
 "metadata": {
  "jupytext": {
   "encoding": "# -*- coding: utf-8 -*-",
   "executable": "/usr/bin/env python3"
  },
  "kernelspec": {
   "display_name": "Python 3",
   "language": "python",
   "name": "python3"
  }
 },
 "nbformat": 4,
 "nbformat_minor": 4
}
