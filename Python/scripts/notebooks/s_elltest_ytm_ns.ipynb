{
 "cells": [
  {
   "cell_type": "markdown",
   "metadata": {},
   "source": [
    "# s_elltest_ytm_ns [<img src=\"https://www.arpm.co/lab/icons/icon_permalink.png\" width=30 height=30 style=\"display: inline;\">](https://www.arpm.co/lab/redirect.php?code=s_elltest_ytm_ns&codeLang=Python)\n",
    "For details, see [here](https://www.arpm.co/lab/redirect.php?permalink=ExerNSiid)."
   ]
  },
  {
   "cell_type": "code",
   "execution_count": null,
   "metadata": {},
   "outputs": [],
   "source": [
    "import numpy as np\n",
    "import pandas as pd\n",
    "import matplotlib.pyplot as plt\n",
    "\n",
    "from arpym.statistics.invariance_test_ellipsoid import invariance_test_ellipsoid\n",
    "from arpym.tools.logo import add_logo"
   ]
  },
  {
   "cell_type": "markdown",
   "metadata": {},
   "source": [
    "## [Input parameters](https://www.arpm.co/lab/redirect.php?permalink=s_elltest_ytm_ns-parameters)"
   ]
  },
  {
   "cell_type": "code",
   "execution_count": null,
   "metadata": {},
   "outputs": [],
   "source": [
    "l_ = 10  # lag for the ellipsoid test\n",
    "conf_lev = 0.95  # confidence level"
   ]
  },
  {
   "cell_type": "markdown",
   "metadata": {},
   "source": [
    "## [Step 0](https://www.arpm.co/lab/redirect.php?permalink=s_elltest_ytm_ns-implementation-step00): Load data"
   ]
  },
  {
   "cell_type": "code",
   "execution_count": null,
   "metadata": {},
   "outputs": [],
   "source": [
    "df_data = pd.read_csv('~/databases/temporary-databases/db_fit_yield_ns.csv')\n",
    "theta = df_data.values"
   ]
  },
  {
   "cell_type": "markdown",
   "metadata": {},
   "source": [
    "## [Step 1](https://www.arpm.co/lab/redirect.php?permalink=s_elltest_ytm_ns-implementation-step01): Compute increments NS aprameters"
   ]
  },
  {
   "cell_type": "code",
   "execution_count": null,
   "metadata": {},
   "outputs": [],
   "source": [
    "delta_theta = np.diff(theta, axis=0)"
   ]
  },
  {
   "cell_type": "markdown",
   "metadata": {},
   "source": [
    "## [Step 2](https://www.arpm.co/lab/redirect.php?permalink=s_elltest_ytm_ns-implementation-step02): Ellipsoid tests"
   ]
  },
  {
   "cell_type": "code",
   "execution_count": null,
   "metadata": {},
   "outputs": [],
   "source": [
    "plt.style.use('arpm')\n",
    "\n",
    "# names of figures\n",
    "name = {}\n",
    "name[0]=r'Invariance test(increments of level parameter $\\theta_1$)'\n",
    "name[1]=r'Invariance test(increments of slope parameter $\\theta_2$)'\n",
    "name[2]=r'Invariance test(increments of curvature parameter $\\theta_3$)'\n",
    "name[3]=r'Invariance test(increments of decay parameter $\\theta_4^2$)'\n",
    "\n",
    "acf = np.zeros((4, l_))\n",
    "conf_int_x = np.zeros((4, 2))\n",
    "# perform and show ellipsoid test for invariance on NS parameters\n",
    "for k in range(4):    \n",
    "    acf[k, :], conf_int_x[k, :] = invariance_test_ellipsoid(delta_theta[:, k], l_, conf_lev=conf_lev, title=name[k])\n",
    "    fig = plt.gcf()\n",
    "    add_logo(fig, set_fig_size=False, size_frac_x=1/8)"
   ]
  }
 ],
 "metadata": {
  "kernelspec": {
   "display_name": "Python 3",
   "language": "python",
   "name": "python3"
  }
 },
 "nbformat": 4,
 "nbformat_minor": 4
}
