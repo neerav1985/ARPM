{
 "cells": [
  {
   "cell_type": "markdown",
   "metadata": {},
   "source": [
    "# s_bayes_prior_niw [<img src=\"https://www.arpm.co/lab/icons/icon_permalink.png\" width=30 height=30 style=\"display: inline;\">](https://www.arpm.co/lab/redirect.php?code=s_bayes_prior_niw&codeLang=Python)\n",
    "For details, see [here](https://www.arpm.co/lab/redirect.php?permalink=ExerFigNIWprior)."
   ]
  },
  {
   "cell_type": "code",
   "execution_count": null,
   "metadata": {},
   "outputs": [],
   "source": [
    "import matplotlib.pyplot as plt\n",
    "import numpy as np\n",
    "from scipy.stats import invwishart, norm, t\n",
    "\n",
    "from arpym.tools.logo import add_logo"
   ]
  },
  {
   "cell_type": "markdown",
   "metadata": {},
   "source": [
    "## [Input parameters](https://www.arpm.co/lab/redirect.php?permalink=s_bayes_prior_niw-parameters)"
   ]
  },
  {
   "cell_type": "code",
   "execution_count": null,
   "metadata": {},
   "outputs": [],
   "source": [
    "mu_pri = 0.1  # prior expectation\n",
    "sigma2_pri = 2.  # prior dispersion\n",
    "t_pri = 7.  # confidence on mu_pri\n",
    "v_pri = 5.  # confidence on sigma2_pri\n",
    "k_ = 500  # number of grid points"
   ]
  },
  {
   "cell_type": "markdown",
   "metadata": {},
   "source": [
    "## [Step 1](https://www.arpm.co/lab/redirect.php?permalink=s_bayes_prior_niw-implementation-step01): Compute the expectation and standard deviations of Sigma2 and M"
   ]
  },
  {
   "cell_type": "code",
   "execution_count": null,
   "metadata": {},
   "outputs": [],
   "source": [
    "exp_sigma2 = invwishart.mean(v_pri, v_pri * sigma2_pri)  # expectation\n",
    "std_sigma2 = np.sqrt(invwishart.var(v_pri, v_pri * sigma2_pri))  # std\n",
    "\n",
    "exp_m = mu_pri  # expectation\n",
    "std_m = np.sqrt((sigma2_pri / t_pri) * (v_pri / (v_pri - 2.)))  # std"
   ]
  },
  {
   "cell_type": "markdown",
   "metadata": {},
   "source": [
    "## [Step 2](https://www.arpm.co/lab/redirect.php?permalink=s_bayes_prior_niw-implementation-step02): Compute the marginal pdf of Sigma2"
   ]
  },
  {
   "cell_type": "code",
   "execution_count": null,
   "metadata": {},
   "outputs": [],
   "source": [
    "y = np.linspace(0.1, exp_sigma2 + 3 * std_sigma2, k_)  # grid\n",
    "f_sigma2 = invwishart.pdf(y, v_pri, v_pri * sigma2_pri)  # pdf"
   ]
  },
  {
   "cell_type": "markdown",
   "metadata": {},
   "source": [
    "## [Step 3](https://www.arpm.co/lab/redirect.php?permalink=s_bayes_prior_niw-implementation-step03): Compute the marginal pdf of M"
   ]
  },
  {
   "cell_type": "code",
   "execution_count": null,
   "metadata": {},
   "outputs": [],
   "source": [
    "x = np.linspace(exp_m - 3 * std_m, exp_m + 3 * std_m, k_)  # grid\n",
    "f_m = t.pdf((x - mu_pri) / np.sqrt(sigma2_pri / t_pri), v_pri) / \\\n",
    "      np.sqrt(sigma2_pri / t_pri)  # pdf"
   ]
  },
  {
   "cell_type": "markdown",
   "metadata": {},
   "source": [
    "## [Step 4](https://www.arpm.co/lab/redirect.php?permalink=s_bayes_prior_niw-implementation-step04): Compute the joint pdf of M and Sigma2"
   ]
  },
  {
   "cell_type": "code",
   "execution_count": null,
   "metadata": {},
   "outputs": [],
   "source": [
    "f_joint = np.zeros((k_, k_))\n",
    "for k in range(k_):\n",
    "    f_joint[k, :] = norm.pdf(x, mu_pri, np.sqrt(y[k] / t_pri)) * f_sigma2[k]"
   ]
  },
  {
   "cell_type": "markdown",
   "metadata": {},
   "source": [
    "## Plots"
   ]
  },
  {
   "cell_type": "code",
   "execution_count": null,
   "metadata": {},
   "outputs": [],
   "source": [
    "plt.style.use('arpm')\n",
    "\n",
    "# pdf of Sigma2\n",
    "fig = plt.figure()\n",
    "plt.plot(y, f_sigma2, lw=1.5, color='b')\n",
    "text = r'$\\Sigma^{2} \\sim InvWishart(\\nu_{pri},  \\nu_{pri}\\sigma^2_{pri})$' + \\\n",
    "        '\\n\\n' + \\\n",
    "        r'$\\nu_{pri}$=%3.0f, $\\sigma_{pri}^2$=%3.1f' % (v_pri, sigma2_pri)\n",
    "plt.text(0.7 * (y[-1] - y[0]) + y[0],\n",
    "         0.7 * np.max(f_sigma2), text, color='b')\n",
    "plt.xlabel('$\\Sigma^2$')\n",
    "\n",
    "add_logo(fig, location=1)\n",
    "plt.tight_layout()\n",
    "\n",
    "# pdf of M\n",
    "fig = plt.figure()\n",
    "plt.plot(x, f_m, lw=1.5, color='g')\n",
    "text = r'$M \\sim t (\\nu_{pri},  \\mu_{pri},  \\sigma_{pri}^2 / t_{pri})$' + \\\n",
    "        '\\n\\n' + \\\n",
    "        r'$\\nu_{pri}$=%3.0f, $t_{pri}$=%3.0f' % (v_pri, t_pri) + '\\n' + \\\n",
    "        r'$\\mu_{pri}$=%3.1f, $\\sigma_{pri}^2$=%3.1f' % (mu_pri, sigma2_pri)\n",
    "plt.text(0.7 * (x[-1] - x[0]) + x[0],\n",
    "         0.7 * np.max(f_m), text, color='g')\n",
    "plt.xlabel('$M$')\n",
    "\n",
    "add_logo(fig, location=1)\n",
    "plt.tight_layout()\n",
    "\n",
    "# joint pdf\n",
    "fig = plt.figure()\n",
    "plt.contour(x, y, f_joint, 12, linewidths=1.5, colors='k')\n",
    "plt.title('Joint pdf')\n",
    "plt.xlabel('$M$')\n",
    "plt.ylabel('$\\Sigma^2$')\n",
    "\n",
    "add_logo(fig)\n",
    "plt.tight_layout()"
   ]
  }
 ],
 "metadata": {
  "jupytext": {
   "encoding": "# -*- coding: utf-8 -*-",
   "executable": "/usr/bin/env python3"
  },
  "kernelspec": {
   "display_name": "Python 3",
   "language": "python",
   "name": "python3"
  }
 },
 "nbformat": 4,
 "nbformat_minor": 4
}
