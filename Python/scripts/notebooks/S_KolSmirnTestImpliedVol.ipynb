{
 "cells": [
  {
   "cell_type": "markdown",
   "metadata": {},
   "source": [
    "variables related to weekly observed implied volatility, namely:\n",
    " - weekly changes in implied volatility\n",
    " - weekly changes in log implied volatility\n",
    " - residuals of a multivariate autoregressive fit of order one by means\n",
    "  of least squares method.\n",
    "The results are then plotted in three different figures.\n",
    "-"
   ]
  },
  {
   "cell_type": "markdown",
   "metadata": {},
   "source": [
    "## For details, see [here](https://www.arpm.co/lab/redirect.php?permalink=iidtest-implied-vol-copy-1)."
   ]
  },
  {
   "cell_type": "code",
   "execution_count": null,
   "metadata": {},
   "outputs": [],
   "source": [
    "# ## Prepare the environment"
   ]
  },
  {
   "cell_type": "code",
   "execution_count": null,
   "metadata": {},
   "outputs": [],
   "source": [
    "import os\n",
    "import os.path as path\n",
    "import sys\n",
    "\n",
    "sys.path.append(path.abspath('../../functions-legacy'))\n",
    "\n",
    "from numpy import reshape, ones, squeeze, diff, \\\n",
    "    eye, log, r_\n",
    "from numpy.linalg import solve\n",
    "\n",
    "from scipy.io import loadmat\n",
    "\n",
    "import matplotlib.pyplot as plt\n",
    "from matplotlib.pyplot import figure\n",
    "\n",
    "plt.style.use('seaborn')\n",
    "\n",
    "from CONFIG import GLOBAL_DB\n",
    "from ARPM_utils import save_plot\n",
    "from TestKolSmirn import TestKolSmirn\n",
    "from InvarianceTestKolSmirn import InvarianceTestKolSmirn"
   ]
  },
  {
   "cell_type": "markdown",
   "metadata": {},
   "source": [
    "## Upload database"
   ]
  },
  {
   "cell_type": "code",
   "execution_count": null,
   "metadata": {},
   "outputs": [],
   "source": [
    "db = loadmat(os.path.join(GLOBAL_DB, 'db_Derivatives'))\n",
    "Sigma = db['Sigma']"
   ]
  },
  {
   "cell_type": "markdown",
   "metadata": {},
   "source": [
    "## Select weekly observations of implied volatility"
   ]
  },
  {
   "cell_type": "code",
   "execution_count": null,
   "metadata": {},
   "outputs": [],
   "source": [
    "delta_t = 5\n",
    "sigma = Sigma[:, :, ::delta_t]"
   ]
  },
  {
   "cell_type": "markdown",
   "metadata": {},
   "source": [
    "## Perform the Kolmogorov-Smirnov test on weekly changes in implied vol"
   ]
  },
  {
   "cell_type": "code",
   "execution_count": null,
   "metadata": {},
   "outputs": [],
   "source": [
    "tau_index = 1  # time to maturity index\n",
    "m_index = 4  # moneyness index\n",
    "\n",
    "delta_sigma = diff(squeeze(sigma[tau_index, m_index, :])).reshape(1, -1)  # changes in implied volatility\n",
    "s1, s2, int, F1, F2, up, low = TestKolSmirn(delta_sigma)"
   ]
  },
  {
   "cell_type": "markdown",
   "metadata": {},
   "source": [
    "## Perform the Kolmogorov-Smirnov test on weekly changes in log implied vol"
   ]
  },
  {
   "cell_type": "code",
   "execution_count": null,
   "metadata": {},
   "outputs": [],
   "source": [
    "log_sigma = log(squeeze(sigma[tau_index, m_index, :]))  # logarithm of implied vol\n",
    "delta_log_sigma = diff(log_sigma).reshape(1, -1)  # changes in log implied volatility\n",
    "s1_log, s2_log, int_log, F1_log, F2_log, up_log, low_log = TestKolSmirn(delta_log_sigma)"
   ]
  },
  {
   "cell_type": "markdown",
   "metadata": {},
   "source": [
    "## Perform the least squares fitting and the Kolmogorov-Smirnov test on residuals"
   ]
  },
  {
   "cell_type": "code",
   "execution_count": null,
   "metadata": {},
   "outputs": [],
   "source": [
    "tau_, m_, t_ = sigma.shape\n",
    "sigma = reshape(sigma, (tau_ * m_, t_))\n",
    "\n",
    "y = sigma[:, 1:].T\n",
    "x = r_['-1', ones((t_ - 1, 1)), sigma[:, :-1].T]\n",
    "\n",
    "yx = y.T@x\n",
    "xx = x.T@x\n",
    "b = yx@solve(xx, eye(xx.shape[0]))\n",
    "r = y - x@b.T  # residuals\n",
    "\n",
    "epsi = r[:, [2]].T  # select the residuals corresponding to 60 days-to-maturiy and moneyness equal to 0.9\n",
    "s1_res, s2_res, int_res, F1_res, F2_res, up_res, low_res = TestKolSmirn(epsi)"
   ]
  },
  {
   "cell_type": "markdown",
   "metadata": {},
   "source": [
    "## Plot the results of the IID test"
   ]
  },
  {
   "cell_type": "code",
   "execution_count": null,
   "metadata": {},
   "outputs": [],
   "source": [
    "pos = {}\n",
    "pos[1] = [0.1300, 0.74, 0.3347, 0.1717]\n",
    "pos[2] = [0.5703, 0.74, 0.3347, 0.1717]\n",
    "pos[3] = [0.1300, 0.11, 0.7750, 0.5]\n",
    "pos[4] = [0.03, 1.71]\n",
    "\n",
    "f = figure()  # changes in implied vol\n",
    "InvarianceTestKolSmirn(delta_sigma, s1, s2, int, F1, F2, up, low, pos,\n",
    "                       'Kolm.-Smir. test on weekly increments of implied volatility');\n",
    "# save_plot(ax=plt.gca(), extension='png', scriptname=os.path.basename('.')[:-3], count=plt.get_fignums()[-1])\n",
    "\n",
    "f = figure()  # changes in log implied vol\n",
    "InvarianceTestKolSmirn(delta_log_sigma, s1_log, s2_log, int_log, F1_log, F2_log, up_log, low_log, pos,\n",
    "                       'Kolm.-Smir. test on weekly increments of log implied volatility');\n",
    "# save_plot(ax=plt.gca(), extension='png', scriptname=os.path.basename('.')[:-3], count=plt.get_fignums()[-1])\n",
    "\n",
    "f = figure()  # residuals of the autoregressive fitting\n",
    "InvarianceTestKolSmirn(epsi, s1_res, s2_res, int_res, F1_res, F2_res, up_res, low_res, pos,\n",
    "                       'Kolm.-Smir. test on residuals of autoregressive fit');\n",
    "# save_plot(ax=plt.gca(), extension='png', scriptname=os.path.basename('.')[:-3], count=plt.get_fignums()[-1])"
   ]
  }
 ],
 "metadata": {
  "jupytext": {
   "cell_metadata_filter": "-all",
   "encoding": "# -*- coding: utf-8 -*-",
   "executable": "/usr/bin/env python3",
   "main_language": "python",
   "notebook_metadata_filter": "-all"
  }
 },
 "nbformat": 4,
 "nbformat_minor": 4
}
