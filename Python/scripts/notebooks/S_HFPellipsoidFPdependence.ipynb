{
 "cells": [
  {
   "cell_type": "markdown",
   "metadata": {},
   "source": [
    "# S_HFPellipsoidFPdependence [<img src=\"https://www.arpm.co/lab/icons/icon_permalink.png\" width=30 height=30 style=\"display: inline;\">](https://www.arpm.co/lab/redirect.php?code=S_HFPellipsoidFPdependence&codeLang=Python)\n",
    "For details, see [here](https://www.arpm.co/lab/redirect.php?permalink=ExerHFPellipsoidPlot)."
   ]
  },
  {
   "cell_type": "markdown",
   "metadata": {},
   "source": [
    "## Prepare the environment"
   ]
  },
  {
   "cell_type": "code",
   "execution_count": null,
   "metadata": {},
   "outputs": [],
   "source": [
    "import os\n",
    "import os.path as path\n",
    "import sys\n",
    "\n",
    "sys.path.append(path.abspath('../../functions-legacy'))\n",
    "from collections import namedtuple\n",
    "\n",
    "import numpy as np\n",
    "from numpy import arange, array, zeros, percentile, cov, round, mean, log, r_\n",
    "from numpy import max as npmax\n",
    "from numpy.linalg import solve\n",
    "\n",
    "from scipy.io import loadmat\n",
    "\n",
    "import matplotlib.pyplot as plt\n",
    "from matplotlib.pyplot import plot, bar, xlim, ylim, scatter, subplots, ylabel, \\\n",
    "    xlabel, xticks, yticks\n",
    "import matplotlib.dates as mdates\n",
    "\n",
    "plt.style.use('seaborn')\n",
    "\n",
    "from CONFIG import GLOBAL_DB, TEMPORARY_DB\n",
    "from ARPM_utils import struct_to_dict, date_mtop, save_plot, matlab_percentile\n",
    "from FPmeancov import FPmeancov\n",
    "from PlotTwoDimEllipsoid import PlotTwoDimEllipsoid\n",
    "from HistogramFP import HistogramFP\n",
    "from Price2AdjustedPrice import Price2AdjustedPrice\n",
    "from GarchResiduals import GarchResiduals\n",
    "from ColorCodedFP import ColorCodedFP\n",
    "from BlowSpinFP import BlowSpinFP"
   ]
  },
  {
   "cell_type": "markdown",
   "metadata": {},
   "source": [
    "## Upload the database"
   ]
  },
  {
   "cell_type": "code",
   "execution_count": null,
   "metadata": {},
   "outputs": [],
   "source": [
    "try:\n",
    "    db = loadmat(os.path.join(GLOBAL_DB, 'db_Stocks'), squeeze_me=True)\n",
    "except FileNotFoundError:\n",
    "    db = loadmat(os.path.join(TEMPORARY_DB, 'db_Stocks'), squeeze_me=True)\n",
    "\n",
    "StocksSPX = struct_to_dict(db['StocksSPX'])"
   ]
  },
  {
   "cell_type": "markdown",
   "metadata": {},
   "source": [
    "## Compute the dividend-adjusted returns of two stocks"
   ]
  },
  {
   "cell_type": "code",
   "execution_count": null,
   "metadata": {},
   "outputs": [],
   "source": [
    "n_ = 2\n",
    "t_ = 300\n",
    "\n",
    "_, x_1 = Price2AdjustedPrice(StocksSPX.Date.reshape(1,-1), StocksSPX.Prices[[25],:], StocksSPX.Dividends[25])  # Cisco Systems Inc\n",
    "_, x_2 = Price2AdjustedPrice(StocksSPX.Date.reshape(1,-1), StocksSPX.Prices[[5],:], StocksSPX.Dividends[5])  # General Electric\n",
    "date = StocksSPX.Date[1:]\n",
    "\n",
    "x_1 = x_1[[0],-t_:]\n",
    "x_2 = x_2[[0],-t_:]\n",
    "date = date[-t_:]"
   ]
  },
  {
   "cell_type": "markdown",
   "metadata": {},
   "source": [
    "## Compute the invariants using GARCH(1,1) fit"
   ]
  },
  {
   "cell_type": "code",
   "execution_count": null,
   "metadata": {},
   "outputs": [],
   "source": [
    "epsi = GarchResiduals(r_[x_1,x_2])\n",
    "\n",
    "mu_hist = mean(epsi, 1)\n",
    "sigma2_hist = cov(epsi.T)"
   ]
  },
  {
   "cell_type": "markdown",
   "metadata": {},
   "source": [
    "## Compute the Flexible Probability profiles using Blow-Spin method"
   ]
  },
  {
   "cell_type": "code",
   "execution_count": null,
   "metadata": {},
   "outputs": [],
   "source": [
    "b = 2  # number of blows\n",
    "s = 3  # number of spins\n",
    "p, ens = BlowSpinFP(epsi, b, s, [.5, 2], 0.8)"
   ]
  },
  {
   "cell_type": "markdown",
   "metadata": {},
   "source": [
    "## Compute HFP-ellipsoid and HFP-histogram"
   ]
  },
  {
   "cell_type": "code",
   "execution_count": null,
   "metadata": {},
   "outputs": [],
   "source": [
    "q_ = b + s\n",
    "mu_HFP = zeros((2, q_))  # array containing the mean vector for each one of the q_ profiles\n",
    "sigma2_HFP = zeros((2, 2, q_))  # array containing the covariance matrix for each one of the q_ profiles\n",
    "z_2 = zeros((q_, t_))\n",
    "mu_z2 = zeros((1, q_))\n",
    "\n",
    "for q in range(q_):\n",
    "    mu_HFP[:, [q]], sigma2_HFP[: ,:, q] = FPmeancov(epsi, p[[q],:])\n",
    "    for t in range(t_):\n",
    "        z_2[q, t] = (epsi[:,t]-mu_HFP[:, q]).T@solve(n_*sigma2_HFP[:,:, q],epsi[:,t]-mu_HFP[:, q])\n",
    "    mu_z2[0,q] = p[q,:]@z_2[q,:].T"
   ]
  },
  {
   "cell_type": "markdown",
   "metadata": {},
   "source": [
    "## Generate some figures showing how the HFP-ellipsoid evolves as the FP profile changes"
   ]
  },
  {
   "cell_type": "code",
   "execution_count": null,
   "metadata": {},
   "outputs": [],
   "source": [
    "grey_range = arange(0,0.81,0.01)\n",
    "q_range = array([1, 99])\n",
    "date_dt = array([date_mtop(i) for i in date])\n",
    "myFmt = mdates.DateFormatter('%d-%b-%Y')\n",
    "\n",
    "for q in range(q_):\n",
    "    f, ax = subplots(2,2)\n",
    "    P = p[q,:]\n",
    "    # scatter colormap and colors\n",
    "    CM, C = ColorCodedFP(P[np.newaxis,...], None, None, grey_range, 0, 1, [0.7, 0.3])\n",
    "\n",
    "    # scatter plot of (epsi1,epsi2) with HFP-ellipsoid superimposed\n",
    "    plt.subplot(121)\n",
    "    # colormap(CM)\n",
    "    plt.axis('equal')\n",
    "    scatter(epsi[0], epsi[1], 15, c=C, marker='.',cmap=CM)\n",
    "    xlim(percentile(epsi[0], q_range))\n",
    "    ylim(percentile(epsi[1], q_range))\n",
    "    xlabel('$\\epsilon_1$')\n",
    "    ylabel('$\\epsilon_2$')\n",
    "    PlotTwoDimEllipsoid(mu_HFP[:, [q]], sigma2_HFP[:,:, q], 1, 0, 0, 'r', 2)\n",
    "\n",
    "    # histogram of z^2\n",
    "    options = namedtuple('option', 'n_bins')\n",
    "    options.n_bins = round(30*log(ens[0,q]))\n",
    "    plt.sca(ax[0, 1])\n",
    "    ax[0,1].set_facecolor('white')\n",
    "    nz, zz = HistogramFP(z_2[[q], :], P.reshape(1,-1), options)\n",
    "    b = bar(zz[:-1], nz[0],width=zz[1]-zz[0],facecolor=[.7, .7, .7], edgecolor=[.3, .3, .3])\n",
    "    plt.axis([-1, 15, 0, npmax(nz) + (npmax(nz) / 20)])\n",
    "    yticks([])\n",
    "    xlabel('$z^2$')\n",
    "\n",
    "    plot(mu_z2[0,q], 0, color='r',marker='o',markerfacecolor='r', markersize = 4)\n",
    "    MZ2 = 'HFP - mean($z^2$) =  % 3.2f'%mu_z2[0,q]\n",
    "    plt.text(15, npmax(nz) - (npmax(nz) / 7), MZ2, color='r',horizontalalignment='right',verticalalignment='bottom')\n",
    "\n",
    "    # flexible probabilities profiles\n",
    "    plt.sca(ax[1,1])\n",
    "    ax[1,1].set_facecolor('white')\n",
    "    b = bar(date_dt,P,width=date_dt[1].toordinal()-date_dt[0].toordinal(),facecolor=[.7, .7, .7], edgecolor=[.7, .7, .7])\n",
    "    d = [0, t_-1]\n",
    "    xlim([min(date_dt), max(date_dt)])\n",
    "    xticks(date_dt[d])\n",
    "    plt.gca().xaxis.set_major_formatter(myFmt)\n",
    "    ylim([0, npmax(P)])\n",
    "    yticks([])\n",
    "    ylabel('FP')\n",
    "    Ens = 'Effective Num.Scenarios =  % 3.0f'%ens[0,q]\n",
    "    plt.text(date_dt[t_-1], npmax(P) - npmax(P) / 10, Ens, horizontalalignment='right',verticalalignment='bottom')\n",
    "    plt.tight_layout();\n",
    "    # save_plot(ax=plt.gca(), extension='png', scriptname=os.path.basename('.')[:-3], count=plt.get_fignums()[-1])\n"
   ]
  }
 ],
 "metadata": {
  "jupytext": {
   "encoding": "# -*- coding: utf-8 -*-",
   "executable": "/usr/bin/env python3"
  },
  "kernelspec": {
   "display_name": "Python 3",
   "language": "python",
   "name": "python3"
  }
 },
 "nbformat": 4,
 "nbformat_minor": 4
}
