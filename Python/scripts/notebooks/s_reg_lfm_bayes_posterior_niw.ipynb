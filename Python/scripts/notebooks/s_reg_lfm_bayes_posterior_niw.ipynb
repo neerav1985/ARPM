{
 "cells": [
  {
   "cell_type": "markdown",
   "metadata": {},
   "source": [
    "# s_reg_lfm_bayes_posterior_niw [<img src=\"https://www.arpm.co/lab/icons/icon_permalink.png\" width=30 height=30 style=\"display: inline;\">](https://www.arpm.co/lab/redirect.php?code=s_reg_lfm_bayes_posterior_niw&codeLang=Python)\n",
    "For details, see [here](https://www.arpm.co/lab/redirect.php?permalink=ExFactNIWposterior)."
   ]
  },
  {
   "cell_type": "code",
   "execution_count": null,
   "metadata": {},
   "outputs": [],
   "source": [
    "import matplotlib.pyplot as plt\n",
    "import numpy as np\n",
    "from scipy.stats import wishart, invwishart, norm, t\n",
    "\n",
    "from arpym.statistics.simulate_niw import simulate_niw\n",
    "from arpym.tools.histogram_sp import histogram_sp\n",
    "from arpym.tools.logo import add_logo\n",
    "from arpym.estimation.fit_lfm_ols import fit_lfm_ols"
   ]
  },
  {
   "cell_type": "markdown",
   "metadata": {},
   "source": [
    "## [Input parameters](https://www.arpm.co/lab/redirect.php?permalink=s_reg_lfm_bayes_posterior_niw-parameters)"
   ]
  },
  {
   "cell_type": "code",
   "execution_count": null,
   "metadata": {},
   "outputs": [],
   "source": [
    "beta_pri = -1.5  # prior location parameter of the loadings\n",
    "sigma2_pri = 6  # prior location parameter of the variance\n",
    "sigma2_zpri = 2.5  # prior dispersion parameter of the loadings\n",
    "t_pri = 6  # confidence on the prior loadings\n",
    "v_pri = 6  # confidence on the prior variance\n",
    "beta = 1.5  # true value of the loadings\n",
    "sigma2 = 4  # real value of variance\n",
    "t_ = 6  # length of the time series\n",
    "k_ = 200  # number of grid points\n",
    "j_ = 5000  # number of simulations"
   ]
  },
  {
   "cell_type": "markdown",
   "metadata": {},
   "source": [
    "## [Step 1](https://www.arpm.co/lab/redirect.php?permalink=s_reg_lfm_bayes_posterior_niw-implementation-step01): Generate simulations of factor and conditional residual"
   ]
  },
  {
   "cell_type": "code",
   "execution_count": null,
   "metadata": {},
   "outputs": [],
   "source": [
    "z = norm.rvs(0, 1, t_)\n",
    "u = norm.rvs(0, np.sqrt(sigma2), t_)"
   ]
  },
  {
   "cell_type": "markdown",
   "metadata": {},
   "source": [
    "## [Step 2](https://www.arpm.co/lab/redirect.php?permalink=s_reg_lfm_bayes_posterior_niw-implementation-step02): Compute simulations of conditional target variables"
   ]
  },
  {
   "cell_type": "code",
   "execution_count": null,
   "metadata": {},
   "outputs": [],
   "source": [
    "x = beta * z + u"
   ]
  },
  {
   "cell_type": "markdown",
   "metadata": {},
   "source": [
    "## [Step 3](https://www.arpm.co/lab/redirect.php?permalink=s_reg_lfm_bayes_posterior_niw-implementation-step03): Compute the least squares estimators"
   ]
  },
  {
   "cell_type": "code",
   "execution_count": null,
   "metadata": {},
   "outputs": [],
   "source": [
    "_, beta_hat, sigma2_hat, _ = fit_lfm_ols(x, z)"
   ]
  },
  {
   "cell_type": "markdown",
   "metadata": {},
   "source": [
    "## [Step 4](https://www.arpm.co/lab/redirect.php?permalink=s_reg_lfm_bayes_posterior_niw-implementation-step04): Compute the parameters of the posterior distribution"
   ]
  },
  {
   "cell_type": "code",
   "execution_count": null,
   "metadata": {},
   "outputs": [],
   "source": [
    "sigma2_zhat = z @ z.T / t_\n",
    "beta_pos = (beta_pri * t_pri * sigma2_zpri + beta_hat * t_ *\n",
    "            sigma2_zhat) / (t_pri * sigma2_zpri + t_ * sigma2_zhat)\n",
    "t_pos = t_pri + t_\n",
    "v_pos = v_pri + t_\n",
    "sigma2_zpos = (t_pri * sigma2_zpri + t_ * sigma2_zhat) / t_pos\n",
    "sigma2_pos = (t_ * sigma2_hat + v_pri * sigma2_pri + t_pri * beta_pri *\n",
    "              sigma2_zpri * beta_pri + t_ * beta_hat * sigma2_zhat *\n",
    "              beta_hat.T - t_pos * beta_pos * sigma2_zpos * beta_pos.T) / v_pos"
   ]
  },
  {
   "cell_type": "markdown",
   "metadata": {},
   "source": [
    "## [Step 5](https://www.arpm.co/lab/redirect.php?permalink=s_reg_lfm_bayes_posterior_niw-implementation-step05): Compute the mean and standard deviations of the sample, prior and posterior distributions of Sigma2"
   ]
  },
  {
   "cell_type": "code",
   "execution_count": null,
   "metadata": {},
   "outputs": [],
   "source": [
    "exp_sigma2_hat = wishart.mean(t_ - 1, sigma2_hat / t_)\n",
    "std_sigma2_hat = np.sqrt(wishart.var(t_ - 1, sigma2_hat / t_))\n",
    "exp_sigma2_pri = invwishart.mean(v_pri, v_pri * sigma2_pri)\n",
    "std_sigma2_pri = np.sqrt(invwishart.var(v_pri, v_pri * sigma2_pri))\n",
    "exp_sigma2_pos = invwishart.mean(v_pos, v_pos * sigma2_pos)\n",
    "std_sigma2_pos = np.sqrt(invwishart.var(v_pos, v_pos * sigma2_pos))"
   ]
  },
  {
   "cell_type": "markdown",
   "metadata": {},
   "source": [
    "## [Step 6](https://www.arpm.co/lab/redirect.php?permalink=s_reg_lfm_bayes_posterior_niw-implementation-step06): Compute marginal pdfs of the sample, prior and posterior distributions of Sigma2"
   ]
  },
  {
   "cell_type": "code",
   "execution_count": null,
   "metadata": {},
   "outputs": [],
   "source": [
    "s_max = np.max([exp_sigma2_hat + 2. * std_sigma2_hat,\n",
    "                exp_sigma2_pri + 2. * std_sigma2_pri,\n",
    "                exp_sigma2_pos + 2. * std_sigma2_pos])\n",
    "s = np.linspace(0.01, s_max, k_)\n",
    "\n",
    "f_sigma2_hat = wishart.pdf(s, t_ - 1, sigma2_hat / t_)\n",
    "f_sigma2_pri = invwishart.pdf(s, v_pri, v_pri * sigma2_pri)\n",
    "f_sigma2_pos = invwishart.pdf(s, v_pos, v_pos * sigma2_pos)"
   ]
  },
  {
   "cell_type": "markdown",
   "metadata": {},
   "source": [
    "## [Step 7](https://www.arpm.co/lab/redirect.php?permalink=s_reg_lfm_bayes_posterior_niw-implementation-step07): Compute the mean and standard deviations of the sample, prior and posterior distributions of B"
   ]
  },
  {
   "cell_type": "code",
   "execution_count": null,
   "metadata": {},
   "outputs": [],
   "source": [
    "exp_beta_hat = beta_hat\n",
    "std_beta_hat = np.sqrt(sigma2_hat / (sigma2_zhat * t_))\n",
    "exp_beta_pri = beta_pri\n",
    "std_beta_pri = np.sqrt(sigma2_pri / (sigma2_zpri * t_pri) *\n",
    "                       v_pri / (v_pri - 2.))\n",
    "exp_beta_pos = beta_pos\n",
    "std_beta_pos = np.sqrt(sigma2_pos / (sigma2_zpos * t_pos) *\n",
    "                       v_pos / (v_pos - 2.))"
   ]
  },
  {
   "cell_type": "markdown",
   "metadata": {},
   "source": [
    "## [Step 8](https://www.arpm.co/lab/redirect.php?permalink=s_reg_lfm_bayes_posterior_niw-implementation-step08): Compute marginal pdfs of the sample, prior and posterior distributions of B"
   ]
  },
  {
   "cell_type": "code",
   "execution_count": null,
   "metadata": {},
   "outputs": [],
   "source": [
    "b_min = np.min([exp_beta_hat - 4. * std_beta_hat,\n",
    "                exp_beta_pri - 4. * std_beta_pri,\n",
    "                exp_beta_pos - 4. * std_beta_pos])\n",
    "b_max = np.max([exp_beta_hat + 4. * std_beta_hat,\n",
    "                exp_beta_pri + 4. * std_beta_pri,\n",
    "                exp_beta_pos + 4. * std_beta_pos])\n",
    "b = np.linspace(b_min, b_max, k_)\n",
    "\n",
    "f_beta_hat = norm.pdf(b, beta_hat, np.sqrt(sigma2_hat / (sigma2_zhat * t_)))\n",
    "f_beta_pri = t.pdf((b - beta_pri) / np.sqrt(sigma2_pri /\n",
    "                   (sigma2_zpri * t_pri)), v_pri) /\\\n",
    "                   np.sqrt(sigma2_pri / (sigma2_zpri * t_pri))\n",
    "f_beta_pos = t.pdf((b - beta_pos) / np.sqrt(sigma2_pos /\n",
    "                   (sigma2_zpos * t_pos)), v_pos) /\\\n",
    "                   np.sqrt(sigma2_pos / (sigma2_zpos * t_pos))"
   ]
  },
  {
   "cell_type": "markdown",
   "metadata": {},
   "source": [
    "## [Step 9](https://www.arpm.co/lab/redirect.php?permalink=s_reg_lfm_bayes_posterior_niw-implementation-step09): Compute the joint pdf of the ols, prior and posterior distributions of (B,Sigma2)"
   ]
  },
  {
   "cell_type": "code",
   "execution_count": null,
   "metadata": {},
   "outputs": [],
   "source": [
    "f_hat = np.outer(f_beta_hat, f_sigma2_hat)\n",
    "\n",
    "f_pri = np.zeros((k_, k_))\n",
    "f_pos = np.zeros((k_, k_))\n",
    "for k in range(k_):\n",
    "    f_pri[:, k] = norm.pdf(b, beta_pri, np.sqrt(s[k] /\n",
    "                           (sigma2_zpri * t_pri))) * f_sigma2_pri[k]\n",
    "    f_pos[:, k] = norm.pdf(b, beta_pos, np.sqrt(s[k] /\n",
    "                           (sigma2_zpos * t_pos))) * f_sigma2_pos[k]"
   ]
  },
  {
   "cell_type": "markdown",
   "metadata": {},
   "source": [
    "## [Step 10](https://www.arpm.co/lab/redirect.php?permalink=s_reg_lfm_bayes_posterior_niw-implementation-step10): Generate a sample from the posterior pdf"
   ]
  },
  {
   "cell_type": "code",
   "execution_count": null,
   "metadata": {},
   "outputs": [],
   "source": [
    "beta_sim, sigma2_sim = simulate_niw(beta_pos, sigma2_zpos * t_pos,\n",
    "                                    sigma2_pos, v_pos, j_)"
   ]
  },
  {
   "cell_type": "markdown",
   "metadata": {},
   "source": [
    "## Plot"
   ]
  },
  {
   "cell_type": "code",
   "execution_count": null,
   "metadata": {},
   "outputs": [],
   "source": [
    "plt.style.use('arpm')\n",
    "\n",
    "# colors settings\n",
    "histcol = [.8, .8, .8]\n",
    "\n",
    "# (colors for the pdf's)\n",
    "color_pri = [0.2, 0.3, 1]\n",
    "color_pos = [0.9, 0.3, 0.1]\n",
    "color_sam = [0.1, 0.7, 0.1]\n",
    "\n",
    "# simulations\n",
    "fig1, ax = plt.subplots(2, 1)\n",
    "plt.sca(ax[0])\n",
    "NumBins = round(10 * np.log(j_))\n",
    "# Mu\n",
    "# compute histogram\n",
    "n, xi = histogram_sp(beta_sim)\n",
    "# plot empirical pdf (histogram) bars\n",
    "bars = plt.bar(xi, n, width=xi[1]-xi[0], facecolor=histcol, edgecolor='k')\n",
    "# superimpose analytical expectation\n",
    "h = plt.plot(beta_pos, 0, '.', color='r', markersize=15)\n",
    "plt.plot(b, f_beta_pos, 'r')  # superimpose analytical pdf\n",
    "plt.title(r'posterior distribution')\n",
    "plt.legend(['empirical pdf', 'analytical pdf'])\n",
    "\n",
    "# Sigma2\n",
    "plt.sca(ax[1])\n",
    "n, xi = histogram_sp(sigma2_sim)\n",
    "# plot empirical pdf (histogram)\n",
    "bars = plt.bar(xi, n, width=xi[1]-xi[0], facecolor=histcol, edgecolor='k')\n",
    "# superimpose analytical expectation\n",
    "h = plt.plot(sigma2_pos, 0, '.', color='r', markersize=15)\n",
    "plt.plot(s, f_sigma2_pos, 'r')  # superimpose analytical pdf\n",
    "plt.title(r'$\\Sigma^2$ posterior distribution')\n",
    "add_logo(fig1)\n",
    "plt.tight_layout()\n",
    "\n",
    "# Sigma2\n",
    "fig2 = plt.figure()\n",
    "# pdf's\n",
    "plt.plot(s, f_sigma2_hat, lw=1.5, color=color_sam)\n",
    "plt.plot(s, f_sigma2_pri, lw=1.5, color=color_pri)\n",
    "plt.plot(s, f_sigma2_pos, lw=1.7, color=color_pos)\n",
    "# classical equivalents\n",
    "plt.plot(sigma2_hat, 0, color=color_sam, marker='o', markersize=6,\n",
    "         markerfacecolor=color_sam)\n",
    "plt.plot(sigma2_pri, 0, color=color_pri, marker='o', markersize=6,\n",
    "         markerfacecolor=color_pri)\n",
    "plt.plot(sigma2_pos, 0, color=color_pos, marker='o', markersize=6,\n",
    "         markerfacecolor=color_pos)\n",
    "plt.xlabel(r'$\\Sigma^2$')\n",
    "plt.ylabel(r'$pdf\\ \\Sigma^2$')\n",
    "plt.legend(['sample', 'prior', 'posterior'])\n",
    "add_logo(fig2, location=5)\n",
    "plt.tight_layout()\n",
    "\n",
    "# B\n",
    "fig3 = plt.figure()\n",
    "# pdf's\n",
    "plt.plot(b, f_beta_hat, lw=1.5, color=color_sam)\n",
    "plt.plot(b, f_beta_pri, lw=1.5, color=color_pri)\n",
    "plt.plot(b, f_beta_pos, lw=1.7, color=color_pos)\n",
    "# classical equivalents\n",
    "plt.plot(beta_hat, 0, color=color_sam, marker='o', markersize=6,\n",
    "         markerfacecolor=color_sam)\n",
    "plt.plot(beta_pri, 0, color=color_pri, marker='o', markersize=6,\n",
    "         markerfacecolor=color_pri)\n",
    "plt.plot(beta_pos, 0, color=color_pos, marker='o', markersize=6,\n",
    "         markerfacecolor=color_pos)\n",
    "plt.xlabel('B')\n",
    "plt.ylabel(r'pdf B')\n",
    "plt.legend(['sample', 'prior', 'posterior'])\n",
    "add_logo(fig3, location=5)\n",
    "plt.tight_layout()\n",
    "\n",
    "# joint\n",
    "fig4 = plt.figure()\n",
    "plt.contour(b, s, f_hat.T, 12, colors=[color_sam])\n",
    "plt.contour(b, s, f_pri.T, 12, colors=[color_pri])\n",
    "plt.contour(b, s, f_pos.T, 12, colors=[color_pos])\n",
    "plt.xlabel('B')\n",
    "plt.ylabel(r'$\\Sigma^2$')\n",
    "plt.title('joint pdf')\n",
    "# dummy plots for generating legend\n",
    "ax = plt.gca()\n",
    "shx = ax.get_xlim()\n",
    "shy = ax.get_ylim()\n",
    "sh1 = ax.plot(shx[0], shy[0], color=color_sam,\n",
    "              lw=1.5, marker='', label='sample')\n",
    "sh2 = ax.plot(shx[0], shy[0], color=color_pri,\n",
    "              lw=1.5, marker='', label='prior')\n",
    "sh3 = ax.plot(shx[0], shy[0], color=color_pos,\n",
    "              lw=1.5, marker='', label='posterior')\n",
    "plt.legend()\n",
    "\n",
    "add_logo(fig4)\n",
    "plt.tight_layout()"
   ]
  }
 ],
 "metadata": {
  "jupytext": {
   "encoding": "# -*- coding: utf-8 -*-",
   "executable": "/usr/bin/env python3"
  },
  "kernelspec": {
   "display_name": "Python 3",
   "language": "python",
   "name": "python3"
  }
 },
 "nbformat": 4,
 "nbformat_minor": 4
}
