{
 "cells": [
  {
   "cell_type": "markdown",
   "metadata": {},
   "source": [
    "# s_pricing_equity_taylor [<img src=\"https://www.arpm.co/lab/icons/icon_permalink.png\" width=30 height=30 style=\"display: inline;\">](https://www.arpm.co/lab/redirect.php?code=s_pricing_equity_taylor&codeLang=Python)\n",
    "For details, see [here](https://www.arpm.co/lab/redirect.php?permalink=eb-taylor-equity-pl)."
   ]
  },
  {
   "cell_type": "code",
   "execution_count": null,
   "metadata": {},
   "outputs": [],
   "source": [
    "import numpy as np\n",
    "import pandas as pd\n",
    "from scipy import stats\n",
    "import matplotlib.pyplot as plt\n",
    "\n",
    "from arpym.statistics.saddle_point_quadn import saddle_point_quadn\n",
    "from arpym.tools.logo import add_logo"
   ]
  },
  {
   "cell_type": "markdown",
   "metadata": {},
   "source": [
    "## [Input parameters](https://www.arpm.co/lab/redirect.php?permalink=s_pricing_equity_taylor-parameters)"
   ]
  },
  {
   "cell_type": "code",
   "execution_count": null,
   "metadata": {},
   "outputs": [],
   "source": [
    "delta_t = 3  #  time to horizon (in days)"
   ]
  },
  {
   "cell_type": "markdown",
   "metadata": {},
   "source": [
    "## [Step 0](https://www.arpm.co/lab/redirect.php?permalink=s_pricing_equity_taylor-implementation-step00): Import data"
   ]
  },
  {
   "cell_type": "code",
   "execution_count": null,
   "metadata": {},
   "outputs": [],
   "source": [
    "data = pd.read_csv('~/databases/temporary-databases/db_stocks_proj_bm.csv')\n",
    "j_ =  data['j_'][0]\n",
    "# parameters for GBM driving the log-value process\n",
    "mu =  data['mu_hat'][0]\n",
    "sig2 =  data['sig2_hat'][0]\n",
    "\n",
    "data_pricing = pd.read_csv('~/databases/temporary-databases/db_equity_pl.csv')\n",
    "v_t_now = data_pricing['v_t_now'][0]  # current value\n",
    "pl_tnow_thor = data_pricing['pl_tnow_thor']\n",
    "pl_tnow_thor = pl_tnow_thor.values.reshape((j_, -1))\n",
    "t_m = data['t_m']\n",
    "t_m.dropna(inplace=True)\n",
    "index = np.where(delta_t <= t_m.values)[0][0]\n",
    "pl_tnow_thor = pl_tnow_thor[:, :index+1]  # equity P&L"
   ]
  },
  {
   "cell_type": "markdown",
   "metadata": {},
   "source": [
    "## [Step 1](https://www.arpm.co/lab/redirect.php?permalink=s_pricing_equity_taylor-implementation-step01): Analytical distribution of first order Taylor approximation"
   ]
  },
  {
   "cell_type": "code",
   "execution_count": null,
   "metadata": {},
   "outputs": [],
   "source": [
    "l_ = 2000  # number of points\n",
    "pl_grid = np.linspace(np.min(pl_tnow_thor)-20,\n",
    "                      np.max(pl_tnow_thor)+20, l_)\n",
    "\n",
    "# parameters\n",
    "mu_thor = mu*delta_t\n",
    "sig_thor = np.sqrt(sig2*delta_t)\n",
    "\n",
    "# analytical pdf of first order approximation\n",
    "pl_tl_pdf_1 = stats.norm.pdf(pl_grid, v_t_now*mu_thor, v_t_now*sig_thor)"
   ]
  },
  {
   "cell_type": "markdown",
   "metadata": {},
   "source": [
    "## [Step 2](https://www.arpm.co/lab/redirect.php?permalink=s_pricing_equity_taylor-implementation-step02): Analytical distribution of second order Taylor approximation"
   ]
  },
  {
   "cell_type": "code",
   "execution_count": null,
   "metadata": {},
   "outputs": [],
   "source": [
    "# analytical pdf of second order approximation\n",
    "pl_tl_pdf_2 = saddle_point_quadn(pl_grid.T, 0, v_t_now*np.array([1]),\n",
    "                                 v_t_now*np.array([[1/2]]), mu_thor.reshape(-1),\n",
    "                                 (sig_thor**2).reshape((-1, 1)))[1]"
   ]
  },
  {
   "cell_type": "markdown",
   "metadata": {},
   "source": [
    "## Plots"
   ]
  },
  {
   "cell_type": "code",
   "execution_count": null,
   "metadata": {},
   "outputs": [],
   "source": [
    "# preliminary settings\n",
    "plt.style.use('arpm')\n",
    "lgrey = [0.8, 0.8, 0.8]  # light grey\n",
    "dgrey = [0.2, 0.2, 0.2]  # dark grey\n",
    "lblue = [0.27, 0.4, 0.9]  # light blue\n",
    "orange = [0.94, 0.35, 0]  # orange\n",
    "\n",
    "s_ = 0  # number of plotted observation before projecting time\n",
    "\n",
    "# log-normal parameters of exact P&L\n",
    "mu_pl_thor = np.log(v_t_now)+mu*delta_t\n",
    "sig_pl_thor = np.sqrt(sig2*delta_t)\n",
    "# analytical pdf at horizon\n",
    "v_thor = pl_grid + v_t_now\n",
    "y_pdf_hor = (np.exp(-(np.log(v_thor)-mu_pl_thor)**2/(2*sig_pl_thor**2))\n",
    "            /(v_thor * sig_pl_thor * np.sqrt(2 * np.pi)))\n",
    "\n",
    "fig = plt.figure(figsize=(1280.0/72.0, 720.0/72.0), dpi=72.0)\n",
    "\n",
    "# axes settings\n",
    "t_line = np.arange(0, t_m[index] + 0.01, 0.01)\n",
    "t = np.concatenate((np.arange(-s_, 0), t_m))\n",
    "max_scale = t_m[index] / 4\n",
    "scale = max_scale*0.96/np.max(y_pdf_hor)\n",
    "\n",
    "plt.axis([t[0], t[index] + max_scale, np.min(pl_grid),\n",
    "          np.max(pl_grid)])\n",
    "plt.xlabel('time (days)', fontsize=18)\n",
    "plt.ylabel('P&L', fontsize=18)\n",
    "plt.yticks()\n",
    "plt.grid(False)\n",
    "plt.title('Equity P&L Taylor approximation', fontsize=20, fontweight='bold')\n",
    "\n",
    "# simulated paths\n",
    "plt.plot(t_m[:index+1], pl_tnow_thor.T, color=lgrey, lw=2)\n",
    "\n",
    "# expectation line\n",
    "mu_line = v_t_now*(np.exp((mu+0.5*sig2)*t_line)-1)\n",
    "plt.plot(t_line, mu_line, color='g',\n",
    "         label='expectation', lw=2)\n",
    "# standard deviation lines\n",
    "num_sd = 2\n",
    "sig_line = v_t_now*np.exp((mu+0.5*sig2)*t_line) * \\\n",
    "           np.sqrt(np.exp(sig2*t_line)-1)\n",
    "plt.plot(t_line, mu_line +  num_sd*sig_line, color='r',\n",
    "         label='+ / - %d st.deviation' %num_sd, lw=2)\n",
    "plt.plot(t_line, mu_line - num_sd*sig_line, color='r', lw=2)\n",
    "\n",
    "# analytical pdf at the horizon\n",
    "for k, y in enumerate(y_pdf_hor):\n",
    "    plt.plot([t_m[index], t_m[index]+y_pdf_hor[k]*scale],\n",
    "             [pl_grid[k], pl_grid[k]],\n",
    "             color=lgrey, lw=2)\n",
    "\n",
    "plt.plot(t_m[index] + y_pdf_hor*scale, pl_grid,\n",
    "         color=dgrey, label='horizon pdf', lw=2)\n",
    "\n",
    "# first order Taylor approximation\n",
    "plt.plot(t_m[index] + pl_tl_pdf_1*scale, pl_grid, color=orange,\n",
    "         label='first order approx. pdf', lw=2)\n",
    "\n",
    "# second order Taylor approximation\n",
    "plt.plot(t_m[index] + pl_tl_pdf_2*scale, pl_grid, color=lblue,\n",
    "         label='second order approx. pdf', lw=2)\n",
    "\n",
    "# legend\n",
    "plt.legend(loc=2, fontsize=17)\n",
    "add_logo(fig, location=4, alpha=0.8, set_fig_size=False)"
   ]
  }
 ],
 "metadata": {
  "jupytext": {
   "encoding": "# -*- coding: utf-8 -*-",
   "executable": "/usr/bin/env python3"
  },
  "kernelspec": {
   "display_name": "Python 3",
   "language": "python",
   "name": "python3"
  }
 },
 "nbformat": 4,
 "nbformat_minor": 4
}
