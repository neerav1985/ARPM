{
 "cells": [
  {
   "cell_type": "markdown",
   "metadata": {},
   "source": [
    "# s_cross_section_lfm [<img src=\"https://www.arpm.co/lab/icons/icon_permalink.png\" width=30 height=30 style=\"display: inline;\">](https://www.arpm.co/lab/redirect.php?code=s_cross_section_lfm&codeLang=Python)\n",
    "For details, see [here](https://www.arpm.co/lab/redirect.php?permalink=eb-lfmcross-cor)."
   ]
  },
  {
   "cell_type": "code",
   "execution_count": null,
   "metadata": {},
   "outputs": [],
   "source": [
    "import numpy as np\n",
    "import pandas as pd"
   ]
  },
  {
   "cell_type": "markdown",
   "metadata": {},
   "source": [
    "## [Input parameters](https://www.arpm.co/lab/redirect.php?permalink=s_cross_section_lfm-parameters)"
   ]
  },
  {
   "cell_type": "code",
   "execution_count": null,
   "metadata": {},
   "outputs": [],
   "source": [
    "beta = np.array([1., 1.]).reshape(-1, 1)  # loadings\n",
    "k_ = beta.shape[1]  # factor dimension\n",
    "e = np.array([.5])  # exposure to the loadings"
   ]
  },
  {
   "cell_type": "markdown",
   "metadata": {},
   "source": [
    "## [Step 1](https://www.arpm.co/lab/redirect.php?permalink=s_cross_section_lfm-implementation-step01): Load data"
   ]
  },
  {
   "cell_type": "code",
   "execution_count": null,
   "metadata": {},
   "outputs": [],
   "source": [
    "path = '~/databases/temporary-databases'\n",
    "df = pd.read_csv(path + '/db_pricing_zcb.csv', header=0)\n",
    "\n",
    "# number of instruments\n",
    "n_ = len(np.array(df['v_zcb_tnow'].dropna(axis=0, how='all')))\n",
    "# expectation of target variable\n",
    "mu_x = np.array(df['mu_pl'].dropna(axis=0, how='all'))\n",
    "# covariance of target variable\n",
    "sigma2_x = np.array(df['sig2_pl'].dropna(axis=0, how='all')).reshape((n_, n_))"
   ]
  },
  {
   "cell_type": "markdown",
   "metadata": {},
   "source": [
    "## [Step 2](https://www.arpm.co/lab/redirect.php?permalink=s_cross_section_lfm-implementation-step02): Compute construction matrix, projector matrix and shift term"
   ]
  },
  {
   "cell_type": "code",
   "execution_count": null,
   "metadata": {},
   "outputs": [],
   "source": [
    "sigma2 = np.array([[sigma2_x[0, 0], 0], [0, sigma2_x[1, 1]]])  # scale matrix\n",
    "beta_ = np.linalg.solve(sigma2, beta)\n",
    "gamma = np.linalg.solve(beta.T @ beta_, beta_.T)\n",
    "beta_betainv = beta @ gamma\n",
    "alpha = mu_x - beta_betainv @ mu_x"
   ]
  },
  {
   "cell_type": "markdown",
   "metadata": {},
   "source": [
    "## [Step 3](https://www.arpm.co/lab/redirect.php?permalink=s_cross_section_lfm-implementation-step03): Compute distribution of prediction"
   ]
  },
  {
   "cell_type": "code",
   "execution_count": null,
   "metadata": {},
   "outputs": [],
   "source": [
    "m_xbar_cs = mu_x\n",
    "sigma2_xbar_cs = beta_betainv @ sigma2_x @ beta_betainv.T"
   ]
  },
  {
   "cell_type": "markdown",
   "metadata": {},
   "source": [
    "## [Step 4](https://www.arpm.co/lab/redirect.php?permalink=s_cross_section_lfm-implementation-step04): Compute r-squared"
   ]
  },
  {
   "cell_type": "code",
   "execution_count": null,
   "metadata": {},
   "outputs": [],
   "source": [
    "r2_sigma2 = np.trace(np.linalg.solve(sigma2, beta_betainv @ sigma2_x)) / \\\n",
    "     np.trace(np.linalg.solve(sigma2, sigma2_x))"
   ]
  },
  {
   "cell_type": "markdown",
   "metadata": {},
   "source": [
    "## [Step 5](https://www.arpm.co/lab/redirect.php?permalink=s_cross_section_lfm-implementation-step05): Compute joint distribution of residuals and factor"
   ]
  },
  {
   "cell_type": "code",
   "execution_count": null,
   "metadata": {},
   "outputs": [],
   "source": [
    "a = np.concatenate((-alpha, np.zeros(k_)))\n",
    "b = np.concatenate((np.eye(n_) - beta_betainv, gamma))\n",
    "m_uz = a + b @ mu_x\n",
    "sigma2_uz = b @ sigma2_x @ b.T"
   ]
  },
  {
   "cell_type": "markdown",
   "metadata": {},
   "source": [
    "## [Step 6](https://www.arpm.co/lab/redirect.php?permalink=s_cross_section_lfm-implementation-step06): Compute optimal parameters"
   ]
  },
  {
   "cell_type": "code",
   "execution_count": null,
   "metadata": {},
   "outputs": [],
   "source": [
    "beta_ = np.linalg.solve(sigma2_x, beta)\n",
    "betainv_mv = np.linalg.solve(beta.T @ beta_, beta_.T)\n",
    "beta_betainv_mv = beta @ betainv_mv\n",
    "alpha_mv = mu_x - beta_betainv_mv @ mu_x"
   ]
  },
  {
   "cell_type": "markdown",
   "metadata": {},
   "source": [
    "## [Step 7](https://www.arpm.co/lab/redirect.php?permalink=s_cross_section_lfm-implementation-step07): Compute the intuitive r-squared"
   ]
  },
  {
   "cell_type": "code",
   "execution_count": null,
   "metadata": {},
   "outputs": [],
   "source": [
    "r2_sigma2_mv = np.trace(beta_betainv_mv) / n_"
   ]
  },
  {
   "cell_type": "markdown",
   "metadata": {},
   "source": [
    "## [Step 8](https://www.arpm.co/lab/redirect.php?permalink=s_cross_section_lfm-implementation-step08): Compute the regression loadings"
   ]
  },
  {
   "cell_type": "code",
   "execution_count": null,
   "metadata": {},
   "outputs": [],
   "source": [
    "beta_reg = np.linalg.solve(gamma @ sigma2_x @ gamma.T, gamma @ sigma2_x).T"
   ]
  },
  {
   "cell_type": "markdown",
   "metadata": {},
   "source": [
    "## [Step 9](https://www.arpm.co/lab/redirect.php?permalink=s_cross_section_lfm-implementation-step09): Compute the regression loadings of the optimal construction"
   ]
  },
  {
   "cell_type": "code",
   "execution_count": null,
   "metadata": {},
   "outputs": [],
   "source": [
    "beta_reg_mv = np.linalg.solve(betainv_mv @ sigma2_x @ betainv_mv.T,\n",
    "                               betainv_mv @ sigma2_x).T"
   ]
  },
  {
   "cell_type": "markdown",
   "metadata": {},
   "source": [
    "## [Step 10](https://www.arpm.co/lab/redirect.php?permalink=s_cross_section_lfm-implementation-step10): Compute the joint distribution based on optimal construction"
   ]
  },
  {
   "cell_type": "code",
   "execution_count": null,
   "metadata": {},
   "outputs": [],
   "source": [
    "a = np.concatenate((-alpha_mv, np.zeros(k_)))\n",
    "b = np.concatenate((np.eye(n_) - beta_betainv_mv, betainv_mv))\n",
    "m_uz_mv = a + b @ mu_x\n",
    "sigma_2_uz_mv = b @ sigma2_x @ b.T"
   ]
  },
  {
   "cell_type": "markdown",
   "metadata": {},
   "source": [
    "## [Step 11](https://www.arpm.co/lab/redirect.php?permalink=s_cross_section_lfm-implementation-step11): Compute the minimum variance combination"
   ]
  },
  {
   "cell_type": "code",
   "execution_count": null,
   "metadata": {},
   "outputs": [],
   "source": [
    "h_mv = e @ betainv_mv"
   ]
  },
  {
   "cell_type": "markdown",
   "metadata": {},
   "source": [
    "## [Step 12](https://www.arpm.co/lab/redirect.php?permalink=s_cross_section_lfm-implementation-step12): Save database"
   ]
  },
  {
   "cell_type": "code",
   "execution_count": null,
   "metadata": {},
   "outputs": [],
   "source": [
    "output = {'k_': pd.Series(k_),\n",
    "          'beta': pd.Series(beta.reshape(-1, )),\n",
    "          'alpha': pd.Series(alpha)\n",
    "          }\n",
    "df = pd.DataFrame(output)\n",
    "df.to_csv('~/databases/temporary-databases/db_cross_section.csv')"
   ]
  },
  {
   "cell_type": "code",
   "execution_count": null,
   "metadata": {},
   "outputs": [],
   "source": []
  }
 ],
 "metadata": {
  "jupytext": {
   "encoding": "# -*- coding: utf-8 -*-",
   "executable": "/usr/bin/env python3"
  },
  "kernelspec": {
   "display_name": "Python 3",
   "language": "python",
   "name": "python3"
  }
 },
 "nbformat": 4,
 "nbformat_minor": 4
}
