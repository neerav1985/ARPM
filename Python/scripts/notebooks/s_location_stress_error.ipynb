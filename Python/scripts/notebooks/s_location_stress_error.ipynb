{
 "cells": [
  {
   "cell_type": "markdown",
   "metadata": {},
   "source": [
    "# s_location_stress_error [<img src=\"https://www.arpm.co/lab/icons/icon_permalink.png\" width=30 height=30 style=\"display: inline;\">](https://www.arpm.co/lab/redirect.php?code=s_location_stress_error&codeLang=Python)\n",
    "For details, see [here](https://www.arpm.co/lab/redirect.php?permalink=ExerStressErr)."
   ]
  },
  {
   "cell_type": "code",
   "execution_count": null,
   "metadata": {},
   "outputs": [],
   "source": [
    "import numpy as np\n",
    "from scipy import stats\n",
    "import pandas as pd\n",
    "import matplotlib.pyplot as plt\n",
    "\n",
    "from arpym.statistics.simulate_unif_in_ellips import simulate_unif_in_ellips\n",
    "from arpym.tools.logo import add_logo"
   ]
  },
  {
   "cell_type": "markdown",
   "metadata": {},
   "source": [
    "## [Input parameters](https://www.arpm.co/lab/redirect.php?permalink=s_location_stress_error-parameters)"
   ]
  },
  {
   "cell_type": "code",
   "execution_count": null,
   "metadata": {},
   "outputs": [],
   "source": [
    "k_ = 400  # cardinality of stress-test set\n",
    "t_ = 15  # len of the time series\n",
    "j_ = 5*10 ** 2  # number of simulations"
   ]
  },
  {
   "cell_type": "markdown",
   "metadata": {},
   "source": [
    "## [Step 1](https://www.arpm.co/lab/redirect.php?permalink=s_location_stress_error-implementation-step01): Set the stress test set for the true parameters"
   ]
  },
  {
   "cell_type": "code",
   "execution_count": null,
   "metadata": {},
   "outputs": [],
   "source": [
    "# generate uniform on unit circle\n",
    "unif, _, _ = simulate_unif_in_ellips(np.array([2, 2]), np.identity(2),\n",
    "                                     int(k_/2))\n",
    "mu = unif[:, 0]\n",
    "sigma2 = unif[:, 1]\n",
    "# ensemble error\n",
    "m = 2*np.log(mu) - 0.5*np.log(sigma2 + mu ** 2)\n",
    "s2 = 1.2*np.log((sigma2 / mu ** 2) + 1)\n",
    "\n",
    "location = np.r_[mu, m]\n",
    "dispersion = np.r_[sigma2, s2]\n",
    "\n",
    "# vector of true expectations\n",
    "expectation = np.r_[mu, mu]"
   ]
  },
  {
   "cell_type": "markdown",
   "metadata": {},
   "source": [
    "## [Step 2](https://www.arpm.co/lab/redirect.php?permalink=s_location_stress_error-implementation-step02): Generate scenarios and compute the error for each estimator"
   ]
  },
  {
   "cell_type": "code",
   "execution_count": null,
   "metadata": {},
   "outputs": [],
   "source": [
    "m_hat = np.zeros((j_, k_))\n",
    "pi_hat = np.zeros((j_, k_))\n",
    "k_hat = np.zeros((j_, k_))\n",
    "er_m = np.zeros(k_)\n",
    "er_pi = np.zeros(k_)\n",
    "er_k = np.zeros(k_)\n",
    "\n",
    "for k in range(k_):\n",
    "    # generate scenarios\n",
    "    if k <= int(k_ / 2)-1:\n",
    "        # normal simulations\n",
    "        i_thetak = stats.norm.rvs(location[k], np.sqrt(dispersion[k]),\n",
    "                                  size=[j_, t_])\n",
    "    else:\n",
    "        # lognormal simulations\n",
    "        i_thetak = stats.lognorm.rvs(np.sqrt(dispersion[k]),\n",
    "                                     scale=np.exp(location[k]), size=[j_, t_])\n",
    "    # sample mean estimator\n",
    "    m_hat[:, k] = np.mean(i_thetak, axis=1)  # simulations\n",
    "    l_m = (m_hat[:, k]-expectation[k]) ** 2  # loss\n",
    "    er_m[k] = np.mean(l_m)  # error\n",
    "    # product estimator\n",
    "    pi_hat[:, k] = i_thetak[:, 0] * i_thetak[:, -1]  # simulations\n",
    "    l_pi = (pi_hat[:, k]-expectation[k]) ** 2  # loss\n",
    "    er_pi[k] = np.mean(l_pi)  # error\n",
    "    # constant estimator\n",
    "    k_hat[:, k] = 3*np.ones(j_)  # simulations\n",
    "    l_k = (k_hat[:, k]-expectation[k]) ** 2  # loss\n",
    "    er_k[k] = np.mean(l_k)  # error"
   ]
  },
  {
   "cell_type": "markdown",
   "metadata": {},
   "source": [
    "## [Step 3](https://www.arpm.co/lab/redirect.php?permalink=s_location_stress_error-implementation-step03): Compute robust and ensemble error for each estimator"
   ]
  },
  {
   "cell_type": "code",
   "execution_count": null,
   "metadata": {},
   "outputs": [],
   "source": [
    "# robust errors\n",
    "er_rob_m, i_m = np.max(er_m), np.argmax(er_m)\n",
    "er_rob_pi, i_pi = np.max(er_pi), np.argmax(er_pi)\n",
    "er_rob_k, i_k = np.max(er_k), np.argmax(er_k)\n",
    "\n",
    "# ensemble errors\n",
    "er_ens_m = np.mean(er_m)\n",
    "er_ens_pi = np.mean(er_pi)\n",
    "er_ens_k = np.mean(er_k)"
   ]
  },
  {
   "cell_type": "markdown",
   "metadata": {},
   "source": [
    "## Save database"
   ]
  },
  {
   "cell_type": "code",
   "execution_count": null,
   "metadata": {},
   "outputs": [],
   "source": [
    "output = {'j_': pd.Series(k_),\n",
    "          'k_': pd.Series(k_),\n",
    "          'm_hat': pd.Series(m_hat.reshape((j_*k_,))),\n",
    "          'expectation': pd.Series(expectation),\n",
    "          'er_rob_m': pd.Series(er_rob_m),\n",
    "          'er_ens_m': pd.Series(er_ens_m)}\n",
    "\n",
    "df = pd.DataFrame(output)\n",
    "df.to_csv('~/databases/temporary-databases/db_stress_error.csv',\n",
    "          index=None)"
   ]
  },
  {
   "cell_type": "markdown",
   "metadata": {},
   "source": [
    "## Plots"
   ]
  },
  {
   "cell_type": "code",
   "execution_count": null,
   "metadata": {},
   "outputs": [],
   "source": [
    "plt.style.use('arpm')\n",
    "\n",
    "# preliminary computations\n",
    "p = 0.025\n",
    "x_min = -3\n",
    "x_max = 10\n",
    "y_min = 0\n",
    "y_max = 1.2\n",
    "# compute pdf's\n",
    "x_vec = np.arange(x_min, x_max+0.05, 0.05)\n",
    "if i_m > k_ / 2:\n",
    "    pdf_m = stats.lognorm.pdf(x_vec, np.sqrt(dispersion[i_m]),\n",
    "                              scale=np.exp(location[i_m]))\n",
    "else:\n",
    "    pdf_m = stats.norm.pdf(x_vec, location[i_m], np.sqrt(dispersion[i_m]))\n",
    "\n",
    "if i_pi > k_ / 2:\n",
    "    pdf_pi = stats.lognorm.pdf(x_vec, np.sqrt(dispersion[i_pi]),\n",
    "                               scale=np.exp(location[i_pi]))\n",
    "else:\n",
    "    pdf_pi = stats.norm.pdf(x_vec, location[i_pi], np.sqrt(dispersion[i_pi]))\n",
    "\n",
    "if i_k > k_ / 2:\n",
    "    pdf_k = stats.lognorm.pdf(x_vec, np.sqrt(dispersion[i_k]),\n",
    "                              scale=np.exp(location[i_k]))\n",
    "else:\n",
    "    pdf_k = stats.norm.pdf(x_vec, location[i_k], np.sqrt(dispersion[i_k]))\n",
    "\n",
    "# initialize strings\n",
    "epsi_string = '$\\epsilon$'\n",
    "dist_string = {}\n",
    "m_hat_string = {}\n",
    "ss2_string = {}\n",
    "for k in range(int(k_ / 2)):\n",
    "    dist_string[k] = 'N'\n",
    "    dist_string[k+k_ / 2] = 'LogN'\n",
    "    m_hat_string[k] = '$\\mu$'\n",
    "    m_hat_string[k+int(k_ / 2)] = 'm'\n",
    "    ss2_string[k] = '$\\sigma^{2}$'\n",
    "    ss2_string[k+int(k_ / 2)] = '$s^{2}$'\n",
    "\n",
    "# color settings\n",
    "orange = [1, 0.4, 0]\n",
    "grey = [0.4, 0.4, 0.4]\n",
    "blue = [0, 0.4, 1]\n",
    "red = [0.9, 0.3, 0.1]\n",
    "\n",
    "fig, ax = plt.subplots(2, 2)\n",
    "\n",
    "# pdf plot\n",
    "ax1 = plt.subplot(2, 1, 1)\n",
    "\n",
    "plt.plot(x_vec, pdf_m, color=grey, lw=1.5)\n",
    "plt.plot(x_vec, pdf_pi, color=red, lw=1.5)\n",
    "plt.plot(x_vec, pdf_k, color=blue, lw=1.5)\n",
    "plt.xlabel('$\\epsilon$')\n",
    "plt.title('TRUE UNKNOWN DISTRIBUTION')\n",
    "plt.xticks(np.arange(-5, x_max+1))\n",
    "plt.ylim([y_min, y_max])\n",
    "plt.yticks([])\n",
    "m_string =\\\n",
    "    'Sample mean robust error(%s$_{t}\\sim$%s(%s=%3.2f,%s=%3.2f)): %3.2f' % \\\n",
    "    (epsi_string, dist_string[i_m], m_hat_string[i_m], location[i_m],\n",
    "     ss2_string[i_m], dispersion[i_m], er_rob_m)\n",
    "plt.text(x_max, (0.725 + p)*y_max, m_string, color=grey,\n",
    "         horizontalalignment='right')\n",
    "pi_string = \\\n",
    "'First - last product robust error( %s$_{t}\\sim$%s(%s=%3.2f,%s=%3.2f)): %3.2f'\\\n",
    "   % (epsi_string, dist_string[i_pi], m_hat_string[i_pi], location[i_pi],\n",
    "      ss2_string[i_pi], dispersion[i_pi], er_rob_pi)\n",
    "plt.text(x_max, (0.475 + p)*y_max, pi_string, color=red,\n",
    "         horizontalalignment='right')\n",
    "k_string = \\\n",
    "    'Constant robust error( % s$_{t}\\sim$%s(%s=%3.2f,%s=%3.2f)): %3.2f' % \\\n",
    "    (epsi_string, dist_string[i_k], m_hat_string[i_k], location[i_k],\n",
    "     ss2_string[i_k], dispersion[i_k], er_rob_k)\n",
    "plt.text(x_max, (0.6 + p)*y_max, k_string, color='b',\n",
    "         horizontalalignment='right')\n",
    "ax1.set_xlim([-0.25, x_max])\n",
    "\n",
    "# parameters plot\n",
    "plt.sca(ax[1, 0])\n",
    "plt.scatter(mu, sigma2, 3, 'k', '.')\n",
    "plt.xlabel('$\\mu$')\n",
    "plt.ylabel('$\\sigma^2$')\n",
    "plt.axis('equal')\n",
    "plt.xlim([np.min(mu), np.max(mu)])\n",
    "plt.ylim([0, 1.1*np.max(sigma2)])\n",
    "plt.title('Normal parameters')\n",
    "\n",
    "plt.sca(ax[1, 1])\n",
    "plt.scatter(m, s2, 3, 'k', '.')\n",
    "plt.axis('equal')\n",
    "plt.xlabel('m')\n",
    "plt.ylabel('$s^2$')\n",
    "plt.xlim([np.min(m), np.max(m)])\n",
    "plt.ylim([0, 1.1*np.max(s2)])\n",
    "plt.title('LogNormal parameters')\n",
    "add_logo(fig, location=1, size_frac_x=1/8)\n",
    "plt.tight_layout()"
   ]
  }
 ],
 "metadata": {
  "jupytext": {
   "encoding": "# -*- coding: utf-8 -*-",
   "executable": "/usr/bin/env python3"
  },
  "kernelspec": {
   "display_name": "Python 3",
   "language": "python",
   "name": "python3"
  }
 },
 "nbformat": 4,
 "nbformat_minor": 4
}
