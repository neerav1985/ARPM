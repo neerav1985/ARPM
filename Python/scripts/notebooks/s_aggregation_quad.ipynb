{
 "cells": [
  {
   "cell_type": "markdown",
   "metadata": {},
   "source": [
    "# s_aggregation_quad [<img src=\"https://www.arpm.co/lab/icons/icon_permalink.png\" width=30 height=30 style=\"display: inline;\">](https://www.arpm.co/lab/redirect.php?code=s_aggregation_quad&codeLang=Python)\n",
    "For details, see [here](https://www.arpm.co/lab/redirect.php?permalink=eb-normal-quad-approx)."
   ]
  },
  {
   "cell_type": "code",
   "execution_count": null,
   "metadata": {},
   "outputs": [],
   "source": [
    "import pandas as pd\n",
    "import numpy as np\n",
    "import matplotlib.pyplot as plt\n",
    "from scipy.linalg import expm\n",
    "\n",
    "from arpym.tools.histogram_sp import histogram_sp\n",
    "from arpym.tools.logo import add_logo\n",
    "from arpym.statistics.saddle_point_quadn import saddle_point_quadn"
   ]
  },
  {
   "cell_type": "markdown",
   "metadata": {},
   "source": [
    "## [Input parameters](https://www.arpm.co/lab/redirect.php?permalink=s_aggregation_quad-parameters)"
   ]
  },
  {
   "cell_type": "code",
   "execution_count": null,
   "metadata": {},
   "outputs": [],
   "source": [
    "h = np.array([100000, 80000])  # portfolio holdings\n",
    "a_pi = -1500  # boundaries of the grid for the pdf\n",
    "b_pi = 1500"
   ]
  },
  {
   "cell_type": "markdown",
   "metadata": {},
   "source": [
    "## [Step 0](https://www.arpm.co/lab/redirect.php?permalink=s_aggregation_quad-implementation-step00): Upload data"
   ]
  },
  {
   "cell_type": "code",
   "execution_count": null,
   "metadata": {},
   "outputs": [],
   "source": [
    "path = '~/databases/temporary-databases'\n",
    "\n",
    "df = pd.read_csv(path + '/db_pricing_zcb.csv', header=0)\n",
    "y_tnow = np.array(df['y_tnow'].dropna(axis=0, how='all'))\n",
    "v_zcb_tnow = np.around(\n",
    "    np.array(\n",
    "        df['v_zcb_tnow'].dropna(\n",
    "            axis=0,\n",
    "            how='all')),\n",
    "    decimals=8)\n",
    "j_, _ = df.shape  # number of scenarios\n",
    "d_ = len(y_tnow)  # number of key-rates\n",
    "n_ = len(v_zcb_tnow)  # number of instruments\n",
    "time2hor_tnow = float(df['time2hor_tnow'].dropna(axis=0, how='all'))  # horizon\n",
    "\n",
    "# expectation of the risk-drivers at horizon\n",
    "mu_thor = np.array(df['mu_thor'].dropna(axis=0, how='all'))\n",
    "\n",
    "# variance of the risk-drivers at horizon\n",
    "sig2_thor = np.array(df['sig2_thor'].dropna(axis=0, how='all')).reshape(d_, d_)\n",
    "\n",
    "# transition matrix\n",
    "theta = np.array(df['theta'].dropna(axis=0,\n",
    "                 how='all')).reshape(d_, d_)\n",
    "\n",
    "# scenarios for the ex-ante P&L's\n",
    "pl = np.array([df['pl' + str(i + 1)] for i in range(n_)]).T\n",
    "\n",
    "# times to maturity of the instruments\n",
    "time2mat_tnow = np.array(df['time2mat_tnow'].dropna(axis=0, how='all'))\n",
    "\n",
    "\n",
    "y_hat = np.array(df['y_hat'].dropna(axis=0, how='all'))\n",
    "\n",
    "\n",
    "v_zcb_up = np.array(df['bond_t_up'].dropna(axis=0, how='all')).reshape(d_, n_)\n",
    "\n",
    "\n",
    "v_zcb_down = np.array(df['bond_t_down'].dropna(axis=0,\n",
    "                      how='all')).reshape(d_, n_)\n",
    "\n",
    "dur_hat = np.array(df['dur_hat'].dropna(axis=0,\n",
    "                   how='all')).reshape(d_, n_)"
   ]
  },
  {
   "cell_type": "markdown",
   "metadata": {},
   "source": [
    "## [Step 1](https://www.arpm.co/lab/redirect.php?permalink=s_aggregation_quad-implementation-step01): Numerical convexities"
   ]
  },
  {
   "cell_type": "code",
   "execution_count": null,
   "metadata": {},
   "outputs": [],
   "source": [
    "# terms of the convexity corresponding to parallel shifts\n",
    "conv_hat = np.zeros((d_, n_))\n",
    "\n",
    "# numerical differentiation steps\n",
    "dx = 0.001\n",
    "dt = 0.001\n",
    "\n",
    "for d in range(d_):\n",
    "    # key rates convexities\n",
    "    conv_hat[d, :] = (v_zcb_up[d, :] -\n",
    "                      2 * v_zcb_tnow +\n",
    "                      v_zcb_down[d, :]) / (v_zcb_tnow * dx ** 2)"
   ]
  },
  {
   "cell_type": "markdown",
   "metadata": {},
   "source": [
    "## [Step 2](https://www.arpm.co/lab/redirect.php?permalink=s_aggregation_quad-implementation-step02): quadratic-normal pdf of the portfolio's P&L distribution"
   ]
  },
  {
   "cell_type": "code",
   "execution_count": null,
   "metadata": {},
   "outputs": [],
   "source": [
    "# parameters of the normal-quadratic approx\n",
    "a_n = v_zcb_tnow * y_hat * time2hor_tnow\n",
    "a_htilde = a_n@h\n",
    "\n",
    "b_n = -v_zcb_tnow * dur_hat\n",
    "b_htilde = b_n@h\n",
    "\n",
    "c = (v_zcb_tnow * conv_hat / 2)\n",
    "c_h_tilde = np.diag(h@c.T)\n",
    "\n",
    "# risk drivers expectation\n",
    "mu_x_thor = (expm(-theta.dot(time2hor_tnow * 252)) -\n",
    "             np.eye(d_))@np.squeeze(y_tnow) + mu_thor\n",
    "\n",
    "# grid of values for the pdf\n",
    "n_bins = int(round(15 * np.log(1000)))  # number of histogram bins\n",
    "a_tilde = a_htilde + b_htilde.T@mu_x_thor + mu_x_thor.T@c_h_tilde@mu_x_thor\n",
    "\n",
    "# portfolio P&L expectation\n",
    "mu_pi_h_quadn = a_tilde + np.trace(c_h_tilde@sig2_thor)\n",
    "sig2_pi_h_quadn = 2 * np.trace((c_h_tilde@sig2_thor)**2) +\\\n",
    "    b_htilde@sig2_thor@b_htilde\n",
    "grid_pi_h = np.linspace(a_pi, b_pi, n_bins)\n",
    "\n",
    "# quantiles\n",
    "quantile_quadn = mu_pi_h_quadn + np.sqrt(time2hor_tnow * 252) * grid_pi_h\n",
    "_, pdf_quadn = saddle_point_quadn(\n",
    "    quantile_quadn, a_htilde, b_htilde, c_h_tilde, mu_x_thor, sig2_thor)"
   ]
  },
  {
   "cell_type": "markdown",
   "metadata": {},
   "source": [
    "## [Step 3](https://www.arpm.co/lab/redirect.php?permalink=s_aggregation_quad-implementation-step03): Scenarios for the portfolio P&L and its expectation"
   ]
  },
  {
   "cell_type": "code",
   "execution_count": null,
   "metadata": {},
   "outputs": [],
   "source": [
    "pi_h = pl@h\n",
    "mu_pi_h = np.mean(pi_h)"
   ]
  },
  {
   "cell_type": "markdown",
   "metadata": {},
   "source": [
    "## Plots"
   ]
  },
  {
   "cell_type": "code",
   "execution_count": null,
   "metadata": {},
   "outputs": [],
   "source": [
    "plt.style.use('arpm')\n",
    "\n",
    "fig = plt.figure()\n",
    "lgray = [.8, .8, .8]  # light gray\n",
    "rescale_pdf = 200000\n",
    "pdf_mc, bin_mc = histogram_sp(pi_h, p=(1 / j_ * np.ones(j_)), k_=n_bins)\n",
    "\n",
    "# histogram obtained from exact pricing\n",
    "plt.barh(bin_mc, pdf_mc * rescale_pdf, left=time2hor_tnow * 252,\n",
    "         height=bin_mc[1] - bin_mc[0], facecolor=lgray,\n",
    "         edgecolor=lgray, lw=2)\n",
    "\n",
    "# saddle point approximation of the Quadn pdf\n",
    "plot1 = plt.plot(time2hor_tnow * 252 + pdf_quadn * rescale_pdf,\n",
    "                 quantile_quadn, color='r')\n",
    "\n",
    "# exact repricing expectation\n",
    "plot2 = plt.plot(time2hor_tnow * 252, mu_pi_h, color='b', marker='o', lw=2,\n",
    "                 markersize=5, markeredgecolor='b', markerfacecolor='b',\n",
    "                 label='Exact repricing')\n",
    "\n",
    "# saddle point expectation\n",
    "plot3 = plt.plot(time2hor_tnow * 252, mu_pi_h_quadn, color='r', marker='o',\n",
    "                 lw=2, markersize=3, markeredgecolor='r', markerfacecolor='r',\n",
    "                 label='Quadratic-normal approx')\n",
    "\n",
    "plt.xticks(np.arange(0, np.max(time2hor_tnow * 252) + 21, 21))\n",
    "plt.xlim([0, np.max(time2hor_tnow * 252) + 70])\n",
    "plt.ylim([min(np.min(bin_mc), np.min(quantile_quadn)),\n",
    "          max(np.max(bin_mc), np.max(quantile_quadn))])\n",
    "plt.title('Quadratic-normal approximation ($\\\\Delta t$=%2.0f days)' %\n",
    "          (time2hor_tnow * 252))\n",
    "plt.xlabel('days')\n",
    "plt.ylabel(r'$\\Pi_{h}$')\n",
    "plt.legend()\n",
    "\n",
    "add_logo(fig)\n",
    "plt.tight_layout()"
   ]
  }
 ],
 "metadata": {
  "jupytext": {
   "encoding": "# -*- coding: utf-8 -*-",
   "executable": "/usr/bin/env python3"
  },
  "kernelspec": {
   "display_name": "Python 3",
   "language": "python",
   "name": "python3"
  }
 },
 "nbformat": 4,
 "nbformat_minor": 4
}
