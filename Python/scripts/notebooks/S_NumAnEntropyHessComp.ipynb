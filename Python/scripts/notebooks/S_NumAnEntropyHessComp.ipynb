{
 "cells": [
  {
   "cell_type": "markdown",
   "metadata": {},
   "source": [
    "# S_NumAnEntropyHessComp [<img src=\"https://www.arpm.co/lab/icons/icon_permalink.png\" width=30 height=30 style=\"display: inline;\">](https://www.arpm.co/lab/redirect.php?code=S_NumAnEntropyHessComp&codeLang=Python)\n",
    "For details, see [here](https://www.arpm.co/lab/redirect.php?permalink=eb-comp-num-an-hess)."
   ]
  },
  {
   "cell_type": "markdown",
   "metadata": {},
   "source": [
    "## Prepare the environment"
   ]
  },
  {
   "cell_type": "code",
   "execution_count": null,
   "metadata": {},
   "outputs": [],
   "source": [
    "import os\n",
    "import os.path as path\n",
    "import sys\n",
    "\n",
    "from scipy.io import loadmat\n",
    "from scipy.linalg import kron\n",
    "from tqdm import trange\n",
    "\n",
    "sys.path.append(path.abspath('../../functions-legacy'))\n",
    "from collections import namedtuple\n",
    "\n",
    "import numpy as np\n",
    "from numpy import ones, zeros, diag, eye, round, log, diagflat\n",
    "from numpy.linalg import norm as linalgnorm\n",
    "from numpy.random import randn\n",
    "\n",
    "import matplotlib.pyplot as plt\n",
    "from matplotlib.pyplot import figure, bar, title\n",
    "\n",
    "plt.style.use('seaborn')\n",
    "\n",
    "from ARPM_utils import save_plot\n",
    "from HistogramFP import HistogramFP\n",
    "from numHess import numHess\n",
    "from REnormLRD import REnormLRD\n",
    "\n",
    "# input parameters\n",
    "j_ = 100  # number of simulations\n",
    "n_ = 2  # market dimension\n",
    "k_ = 1  # number of factors"
   ]
  },
  {
   "cell_type": "markdown",
   "metadata": {},
   "source": [
    "## Set random base-case parameters"
   ]
  },
  {
   "cell_type": "code",
   "execution_count": null,
   "metadata": {},
   "outputs": [],
   "source": [
    "mu_ = randn(n_, 1)  # expectation\n",
    "c = randn(n_, n_)\n",
    "\n",
    "invs2_ = c@c.T  # inverse covariance\n",
    "\n",
    "# set constant matrices for second derivatives\n",
    "i_n = eye(n_)\n",
    "i_k = eye(k_)\n",
    "\n",
    "matrix = namedtuple('matrix', 'hm1 km')\n",
    "matrix.hm1 = zeros((n_ ** 2, n_))\n",
    "matrix.km = zeros((k_*n_, k_*n_))\n",
    "\n",
    "for k in range(k_):\n",
    "    matrix.km = matrix.km + kron(kron(i_k[:,[k]], i_n), i_k[:,[k]].T)\n",
    "\n",
    "for n in range(n_):\n",
    "    matrix.hm1 = matrix.hm1 + kron(i_n[:,[n]], diagflat(i_n[:,[n]]))  # relative entropy\n",
    "\n",
    "e = lambda theta: REnormLRD(theta, mu_, invs2_, n_, k_, matrix)[0]\n",
    "e3 = lambda theta: REnormLRD(theta, mu_, invs2_, n_, k_, matrix)[2]"
   ]
  },
  {
   "cell_type": "markdown",
   "metadata": {},
   "source": [
    "## Main computations"
   ]
  },
  {
   "cell_type": "code",
   "execution_count": null,
   "metadata": {},
   "outputs": [],
   "source": [
    "err = zeros((j_, 1))\n",
    "for j in trange(j_,desc='Simulations'):\n",
    "    # Set random variables\n",
    "    theta_ = randn(n_ + n_*k_ + n_, 1)\n",
    "    # Compute numerical Hessian\n",
    "    numhess = numHess(e, theta_)[0]\n",
    "    # Compute analytical Hessian\n",
    "    anhess = e3(theta_)\n",
    "    # Compute relative error in Frobenius norm\n",
    "    err[j] = linalgnorm(anhess - numhess, ord='fro') / linalgnorm(anhess, ord='fro')"
   ]
  },
  {
   "cell_type": "markdown",
   "metadata": {},
   "source": [
    "## Display the relative error"
   ]
  },
  {
   "cell_type": "code",
   "execution_count": null,
   "metadata": {},
   "outputs": [],
   "source": [
    "nbins = int(round(10*log(j_)))\n",
    "figure()\n",
    "\n",
    "p = ones((1, len(err))) / len(err)\n",
    "option = namedtuple('option', 'n_bins')\n",
    "\n",
    "option.n_bins = nbins\n",
    "[n, x] = HistogramFP(err.T, p, option)\n",
    "b = bar(x[:-1], n[0], width=x[1]-x[0],facecolor= [.7, .7, .7])\n",
    "plt.grid(True)\n",
    "title('Relative error');\n",
    "# save_plot(ax=plt.gca(), extension='png', scriptname=os.path.basename('.')[:-3], count=plt.get_fignums()[-1])\n"
   ]
  }
 ],
 "metadata": {
  "jupytext": {
   "encoding": "# -*- coding: utf-8 -*-",
   "executable": "/usr/bin/env python3"
  },
  "kernelspec": {
   "display_name": "Python 3",
   "language": "python",
   "name": "python3"
  }
 },
 "nbformat": 4,
 "nbformat_minor": 4
}
