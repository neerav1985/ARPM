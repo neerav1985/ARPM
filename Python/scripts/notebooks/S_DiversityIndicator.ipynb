{
 "cells": [
  {
   "cell_type": "markdown",
   "metadata": {},
   "source": [
    "# S_DiversityIndicator [<img src=\"https://www.arpm.co/lab/icons/icon_permalink.png\" width=30 height=30 style=\"display: inline;\">](https://www.arpm.co/lab/redirect.php?code=S_DiversityIndicator&codeLang=Python)\n",
    "For details, see [here](https://www.arpm.co/lab/redirect.php?permalink=ExerCorrDistDiv)."
   ]
  },
  {
   "cell_type": "markdown",
   "metadata": {},
   "source": [
    "## Prepare the environment"
   ]
  },
  {
   "cell_type": "code",
   "execution_count": null,
   "metadata": {},
   "outputs": [],
   "source": [
    "import os\n",
    "import os.path as path\n",
    "import sys\n",
    "\n",
    "sys.path.append(path.abspath('../../functions-legacy'))\n",
    "from collections import namedtuple\n",
    "\n",
    "import numpy as np\n",
    "from numpy import arange, zeros, diff, abs, log, exp, sqrt, array, r_, corrcoef, tile\n",
    "from numpy import sum as npsum\n",
    "\n",
    "from scipy.io import loadmat\n",
    "\n",
    "import matplotlib.pyplot as plt\n",
    "from matplotlib.pyplot import figure, ylim, title\n",
    "\n",
    "plt.style.use('seaborn')\n",
    "\n",
    "from CONFIG import GLOBAL_DB, TEMPORARY_DB\n",
    "from ARPM_utils import struct_to_dict, save_plot\n",
    "from ConditionalFP import ConditionalFP"
   ]
  },
  {
   "cell_type": "markdown",
   "metadata": {},
   "source": [
    "## upload data"
   ]
  },
  {
   "cell_type": "code",
   "execution_count": null,
   "metadata": {},
   "outputs": [],
   "source": [
    "try:\n",
    "    db = loadmat(os.path.join(GLOBAL_DB, 'db_StocksS_P'), squeeze_me=True)\n",
    "except FileNotFoundError:\n",
    "    db = loadmat(os.path.join(TEMPORARY_DB, 'db_StocksS_P'), squeeze_me=True)\n",
    "\n",
    "Data = struct_to_dict(db['Data'])"
   ]
  },
  {
   "cell_type": "markdown",
   "metadata": {},
   "source": [
    "## compute the returns on the first 200 stocks in the database (conditioning variables)"
   ]
  },
  {
   "cell_type": "code",
   "execution_count": null,
   "metadata": {},
   "outputs": [],
   "source": [
    "ret = diff(log(Data.Prices), 1, 1)\n",
    "\n",
    "ret = ret[:200,:]\n",
    "date = Data.Dates[1:]\n",
    "q_ = ret.shape[0]\n",
    "t_ = ret.shape[1]"
   ]
  },
  {
   "cell_type": "markdown",
   "metadata": {},
   "source": [
    "## Compute the Flexible probabilities conditioned via Entropy Pooling on each factor"
   ]
  },
  {
   "cell_type": "code",
   "execution_count": null,
   "metadata": {},
   "outputs": [],
   "source": [
    "alpha = 0.2\n",
    "\n",
    "# PRIOR\n",
    "lam = 0.001\n",
    "prior = exp(-lam*abs(arange(t_, 1 + -1, -1))).reshape(1,-1)\n",
    "prior = prior / npsum(prior)\n",
    "\n",
    "p = zeros((q_,t_))\n",
    "rho2 = zeros((q_,q_))\n",
    "distance = zeros((q_,q_))\n",
    "diversity = zeros(q_)\n",
    "\n",
    "for q in range(q_):\n",
    "    z = ret[q,:]\n",
    "\n",
    "    # conditioner\n",
    "    Conditioner = namedtuple('conditioner', ['Series', 'TargetValue', 'Leeway'])\n",
    "    Conditioner.Series = z.reshape(1,-1)\n",
    "    Conditioner.TargetValue = np.atleast_2d(z[-1])\n",
    "    Conditioner.Leeway = alpha\n",
    "\n",
    "    p[q,:] = ConditionalFP(Conditioner, prior)"
   ]
  },
  {
   "cell_type": "markdown",
   "metadata": {},
   "source": [
    "## Battacharayya coeff and Hellinger distances"
   ]
  },
  {
   "cell_type": "code",
   "execution_count": null,
   "metadata": {},
   "outputs": [],
   "source": [
    "for q1 in range(q_):\n",
    "    for q2 in range(q_):\n",
    "        rho2[q1, q2] = npsum(sqrt(p[q1,:]*p[q2,:]))\n",
    "        distance[q1, q2] = sqrt(abs(1 - rho2[q1, q2]))"
   ]
  },
  {
   "cell_type": "markdown",
   "metadata": {},
   "source": [
    "## Diversity indicator (UPGMA distance)"
   ]
  },
  {
   "cell_type": "code",
   "execution_count": null,
   "metadata": {},
   "outputs": [],
   "source": [
    "for q in range(q_):\n",
    "    diversity[q] = (1 / (q_-1))*(npsum(distance[q,:])-distance[q, q])"
   ]
  },
  {
   "cell_type": "markdown",
   "metadata": {},
   "source": [
    "## Compute the historical correlation matrix"
   ]
  },
  {
   "cell_type": "code",
   "execution_count": null,
   "metadata": {},
   "outputs": [],
   "source": [
    "Hcorr = corrcoef(ret)"
   ]
  },
  {
   "cell_type": "markdown",
   "metadata": {},
   "source": [
    "## Generate the figure"
   ]
  },
  {
   "cell_type": "code",
   "execution_count": null,
   "metadata": {
    "lines_to_next_cell": 2
   },
   "outputs": [],
   "source": [
    "fig = figure()\n",
    "# historical correlation\n",
    "ax = plt.subplot2grid((3,9),(1,0),rowspan=2,colspan=4)\n",
    "im = plt.imshow(Hcorr, aspect='equal')\n",
    "plt.xticks(r_[array([1]), arange(50, 250, 50)])\n",
    "plt.yticks(r_[array([1]), arange(50, 250, 50)])\n",
    "yl = ylim()\n",
    "plt.grid(False)\n",
    "plt.title('Historical Correlation')\n",
    "cax = plt.subplot2grid((3,9),(1,4),rowspan=2,colspan=1)\n",
    "plt.colorbar(im, cax=cax)\n",
    "# cb = plt.colorbar(ax1, cax = cax)\n",
    "# diversity\n",
    "ax = plt.subplot2grid((3,9),(0,5),rowspan=1,colspan=4)\n",
    "plt.imshow(tile(diversity.reshape(1,-1),(40,1)))\n",
    "plt.xticks(r_[array([1]), arange(50, 250, 50)])\n",
    "plt.yticks([])\n",
    "plt.title('Diversity')\n",
    "# Hellinger distance\n",
    "ax = plt.subplot2grid((3,9),(1,5),rowspan=2,colspan=4)\n",
    "plt.imshow(distance, aspect='equal')\n",
    "plt.xticks(r_[array([1]), arange(50, 250, 50)])\n",
    "plt.yticks(r_[array([1]), arange(50, 250, 50)])\n",
    "plt.title('Hellinger Distance')\n",
    "plt.grid(False)\n",
    "plt.tight_layout(w_pad=-0.1);\n",
    "# save_plot(ax=plt.gca(), extension='png', scriptname=os.path.basename('.')[:-3], count=plt.get_fignums()[-1])"
   ]
  }
 ],
 "metadata": {
  "jupytext": {
   "encoding": "# -*- coding: utf-8 -*-",
   "executable": "/usr/bin/env python3"
  },
  "kernelspec": {
   "display_name": "Python 3",
   "language": "python",
   "name": "python3"
  }
 },
 "nbformat": 4,
 "nbformat_minor": 4
}
