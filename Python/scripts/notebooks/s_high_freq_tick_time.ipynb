{
 "cells": [
  {
   "cell_type": "markdown",
   "metadata": {},
   "source": [
    "# s_high_freq_tick_time [<img src=\"https://www.arpm.co/lab/icons/icon_permalink.png\" width=30 height=30 style=\"display: inline;\">](https://www.arpm.co/lab/redirect.php?code=s_high_freq_tick_time&codeLang=Python)\n",
    "For details, see [here](https://www.arpm.co/lab/redirect.php?permalink=ExerTickTEvol)."
   ]
  },
  {
   "cell_type": "code",
   "execution_count": null,
   "metadata": {},
   "outputs": [],
   "source": [
    "import pandas as pd\n",
    "import numpy as np\n",
    "from datetime import datetime\n",
    "import matplotlib.pyplot as plt\n",
    "\n",
    "from arpym.tools.trade_quote_processing import trade_quote_processing\n",
    "from arpym.tools.logo import add_logo"
   ]
  },
  {
   "cell_type": "markdown",
   "metadata": {},
   "source": [
    "## [Input parameters](https://www.arpm.co/lab/redirect.php?permalink=s_high_freq_tick_time-parameters)"
   ]
  },
  {
   "cell_type": "code",
   "execution_count": null,
   "metadata": {},
   "outputs": [],
   "source": [
    "i_0 = 0  # index of window's starting time for quotes\n",
    "i_1 = 1249  # index of window's last time for quotes"
   ]
  },
  {
   "cell_type": "markdown",
   "metadata": {},
   "source": [
    "## [Step 0](https://www.arpm.co/lab/redirect.php?permalink=s_high_freq_tick_time-implementation-step00): Load data"
   ]
  },
  {
   "cell_type": "code",
   "execution_count": null,
   "metadata": {},
   "outputs": [],
   "source": [
    "path = '~/databases/global-databases/high-frequency/\\\n",
    "db_US_10yr_Future_quotestrades/'\n",
    "quotes = pd.read_csv(path + 'quotes.csv', index_col=0, parse_dates=True)\n",
    "trades = pd.read_csv(path + 'trades.csv', index_col=0, parse_dates=True)\n",
    "\n",
    "dates_quotes = pd.to_datetime(quotes.index).date\n",
    "t0 = pd.to_datetime(quotes.index)\n",
    "\n",
    "time_quotes = np.zeros(len(t0))\n",
    "for i in range(len(time_quotes)):\n",
    "    time_quotes[i] = t0[i].timestamp()\n",
    "p_bid = np.array(quotes.loc[:, 'bid'])  # best bids\n",
    "p_ask = np.array(quotes.loc[:, 'ask'])  # best asks\n",
    "h_bid = np.array(quotes.loc[:, 'bsiz'])  # bid sizes\n",
    "h_ask = np.array(quotes.loc[:, 'asiz'])  # ask sizes\n",
    "\n",
    "dates_trades = pd.to_datetime(trades.index).date\n",
    "t_k0 = pd.to_datetime(trades.index)  # time vector of trades\n",
    "time_trades = np.zeros(len(t_k0))\n",
    "for i in range(len(time_trades)):\n",
    "    time_trades[i] = t_k0[i].timestamp()\n",
    "p_last = np.array(trades.loc[:, 'price'])  # last transaction values\n",
    "delta_q = np.array(trades.loc[:, 'siz'])  # flow of traded contracts' sizes\n",
    "delta_sgn = np.array(trades.loc[:, 'aggress'])  # trade sign flow\n",
    "match = np.array(trades.loc[:, 'mtch'])  # match events"
   ]
  },
  {
   "cell_type": "markdown",
   "metadata": {},
   "source": [
    "## [Step 1](https://www.arpm.co/lab/redirect.php?permalink=s_high_freq_tick_time-implementation-step01): Process the time series"
   ]
  },
  {
   "cell_type": "code",
   "execution_count": null,
   "metadata": {},
   "outputs": [],
   "source": [
    "time_quotes, _, _, _, _, _, time_trades, _, p_last,\\\n",
    "    _, _, _ = trade_quote_processing(time_quotes, dates_quotes,\n",
    "                                     h_ask, p_ask, h_bid,\n",
    "                                     p_bid, time_trades, dates_trades, p_last,\n",
    "                                     delta_q, delta_sgn, match)\n",
    "\n",
    "time_quotes = time_quotes.flatten()\n",
    "\n",
    "# index of the first trade within the time window\n",
    "k_0 = np.where(time_trades >= time_quotes[i_0])[0][0]\n",
    "# index of the last trade within the time window\n",
    "k_1 = np.where(time_trades <= time_quotes[i_1])[0][-1]\n",
    "\n",
    "# last transaction value within the time window as a function of tick time\n",
    "p_last_k = p_last[k_0: k_1+1]\n",
    "# number of trades within the time window as a function of tick time\n",
    "k_t = np.arange(1, len(p_last_k)+1)"
   ]
  },
  {
   "cell_type": "markdown",
   "metadata": {},
   "source": [
    "## Plots"
   ]
  },
  {
   "cell_type": "code",
   "execution_count": null,
   "metadata": {},
   "outputs": [],
   "source": [
    "plt.style.use('arpm')\n",
    "trans_time = []\n",
    "for i in range(k_0, k_1+1):\n",
    "    trans_time.append(datetime.fromtimestamp(time_trades[i]))\n",
    "trans_time = np.array(trans_time)\n",
    "\n",
    "# axes settings\n",
    "pgrid_min = min(p_last_k)-0.001\n",
    "pgrid_max = max(p_last_k)+0.001\n",
    "pgrid = np.linspace(pgrid_min, pgrid_max, 5)\n",
    "kgrid_min = min(k_t)\n",
    "kgrid_max = max(k_t)+1\n",
    "kgrid = np.linspace(kgrid_min, kgrid_max, 5, dtype=int)\n",
    "\n",
    "fig, _ = plt.subplots(2, 2)\n",
    "\n",
    "# top-left plot\n",
    "plt.subplot(221)\n",
    "plt.ticklabel_format(useOffset=False)\n",
    "plt.yticks(pgrid)\n",
    "plt.axis([min(trans_time), max(trans_time), pgrid_min, pgrid_max])\n",
    "plt.ylabel('Transaction Price')\n",
    "plt.xlabel('Wall Clock Time')\n",
    "plt.title('Time evolution')\n",
    "\n",
    "for k in range(len(k_t) - 1):\n",
    "    plt.plot([trans_time[k], trans_time[k+1]],\n",
    "             [p_last_k[k], p_last_k[k]], lw=1, color='r')\n",
    "plt.scatter(trans_time, p_last_k, c='r', s=5)\n",
    "\n",
    "plt.grid(True)\n",
    "\n",
    "# top-right plot\n",
    "plt.subplot(222)\n",
    "plt.ticklabel_format(useOffset=False)\n",
    "plt.xticks(kgrid)\n",
    "plt.yticks(pgrid)\n",
    "plt.axis([kgrid_min, kgrid_max, pgrid_min, pgrid_max])\n",
    "plt.ylabel('Transaction Price')\n",
    "plt.xlabel('Tick Time')\n",
    "plt.title('Tick Time Activity Evolution')\n",
    "\n",
    "for k in range(len(k_t) - 1):\n",
    "    plt.plot([k_t[k], k_t[k+1]], [p_last_k[k], p_last_k[k]], lw=1, color='r')\n",
    "\n",
    "plt.scatter(k_t, p_last_k, marker='.', s=5, color='r')\n",
    "plt.grid(True)\n",
    "\n",
    "# bottom-left plot\n",
    "plt.subplot(223)\n",
    "plt.yticks(kgrid)\n",
    "plt.axis([min(trans_time), max(trans_time), kgrid_min, kgrid_max])\n",
    "plt.ylabel('Number of trades')\n",
    "plt.xlabel('Wall Clock Time')\n",
    "for k in range(len(k_t) - 1):\n",
    "    plt.plot([trans_time[k], trans_time[k+1]], [k_t[k], k_t[k]], lw=1,\n",
    "             color='b')\n",
    "plt.scatter(trans_time, k_t, marker='.', s=5, color='b')\n",
    "plt.grid(True)\n",
    "\n",
    "# bottom-right plot\n",
    "plt.subplot(224)\n",
    "plt.yticks(kgrid)\n",
    "plt.axis([kgrid_min, kgrid_max, kgrid_min, kgrid_max])\n",
    "plt.ylabel('Number of trades')\n",
    "plt.xlabel('Tick Time')\n",
    "plt.plot(k_t, k_t, lw=1, color='b')\n",
    "plt.grid(True)\n",
    "add_logo(fig, size_frac_x=1/8)\n",
    "plt.tight_layout()"
   ]
  }
 ],
 "metadata": {
  "jupytext": {
   "encoding": "# -*- coding: utf-8 -*-",
   "executable": "/usr/bin/env python3"
  },
  "kernelspec": {
   "display_name": "Python 3",
   "language": "python",
   "name": "python3"
  }
 },
 "nbformat": 4,
 "nbformat_minor": 4
}
