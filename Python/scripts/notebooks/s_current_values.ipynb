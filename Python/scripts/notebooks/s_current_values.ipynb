{
 "cells": [
  {
   "cell_type": "markdown",
   "metadata": {},
   "source": [
    "# s_current_values [<img src=\"https://www.arpm.co/lab/icons/icon_permalink.png\" width=30 height=30 style=\"display: inline;\">](https://www.arpm.co/lab/redirect.php?code=s_current_values&codeLang=Python)\n",
    "For details, see [here](https://www.arpm.co/lab/redirect.php?permalink=eb-simcurval)."
   ]
  },
  {
   "cell_type": "code",
   "execution_count": null,
   "metadata": {},
   "outputs": [],
   "source": [
    "import numpy as np\n",
    "import pandas as pd\n",
    "import matplotlib.pyplot as plt\n",
    "\n",
    "from arpym.statistics.simulate_normal import simulate_normal\n",
    "from arpym.tools.logo import add_logo"
   ]
  },
  {
   "cell_type": "markdown",
   "metadata": {},
   "source": [
    "## [Input parameters](https://www.arpm.co/lab/redirect.php?permalink=s_current_values-parameters)"
   ]
  },
  {
   "cell_type": "code",
   "execution_count": null,
   "metadata": {},
   "outputs": [],
   "source": [
    "n_ = 250  # number of instruments\n",
    "j_ = 1000  # number of scenarios\n",
    "r = 0.05  # risk-free interest rate\n",
    "a_sdf, b_sdf = 0, 0.9  # left/right boundaries of uniform distr for SDF\n",
    "a_mu, b_mu = -0.3, 0.7  # left/right bounds of uniform distr. for payoff exp\n",
    "a_sd, b_sd = 0.8, 1  # left/right boundaries of uniform distr. for payoff std\n",
    "rho = 0.7  # parameter for correlation matrix"
   ]
  },
  {
   "cell_type": "markdown",
   "metadata": {},
   "source": [
    "## [Step 1](https://www.arpm.co/lab/redirect.php?permalink=s_current_values-implementation-step01): generate the normal vector"
   ]
  },
  {
   "cell_type": "code",
   "execution_count": null,
   "metadata": {},
   "outputs": [],
   "source": [
    "# compute correlation matrix\n",
    "c2 = (1 - rho)*np.eye(n_) + rho*np.ones((n_, n_))  \n",
    "# simulations from normal distribution\n",
    "x = simulate_normal(np.zeros(n_), c2, j_)"
   ]
  },
  {
   "cell_type": "markdown",
   "metadata": {},
   "source": [
    "## [Step 2](https://www.arpm.co/lab/redirect.php?permalink=s_current_values-implementation-step02): Generate the payoffs matrix"
   ]
  },
  {
   "cell_type": "code",
   "execution_count": null,
   "metadata": {},
   "outputs": [],
   "source": [
    "mu_xn = np.exp(0.5)  # expectation of std lognormal\n",
    "sd_xn = mu_xn * np.sqrt(np.exp(1) - 1)  # stdev of std lognormal\n",
    "\n",
    "v_pay = (1 + r) * np.ones((j_, n_))\n",
    "v_pay[:, 1] = np.exp(x[:, 1]) / sd_xn\n",
    "v_pay[:, 2::2] = (np.exp(x[:, 2::2]) - mu_xn) / sd_xn\n",
    "v_pay[:, 3::2] = (-np.exp(-x[:, 3::2]) + mu_xn) / sd_xn\n",
    "v_pay[:, 2:] = v_pay[:, 2:] * \\\n",
    "                  np.random.uniform(a_sd, b_sd, n_ - 2)  # scale\n",
    "v_pay[:, 2:] = v_pay[:, 2:] + \\\n",
    "                  np.random.uniform(a_mu, b_mu, n_ - 2)  # shift"
   ]
  },
  {
   "cell_type": "markdown",
   "metadata": {},
   "source": [
    "## [Step 3](https://www.arpm.co/lab/redirect.php?permalink=s_current_values-implementation-step03): Compute the probabilities"
   ]
  },
  {
   "cell_type": "code",
   "execution_count": null,
   "metadata": {},
   "outputs": [],
   "source": [
    "p = np.random.uniform(0, 1, j_)\n",
    "p = p / np.sum(p)"
   ]
  },
  {
   "cell_type": "markdown",
   "metadata": {},
   "source": [
    "## [Step 4](https://www.arpm.co/lab/redirect.php?permalink=s_current_values-implementation-step04): Simulate the Monte Carlo scenarios for the Stochastic Discount Factor"
   ]
  },
  {
   "cell_type": "code",
   "execution_count": null,
   "metadata": {},
   "outputs": [],
   "source": [
    "sdf_omega_j = np.random.uniform(a_sdf, b_sdf, j_)\n",
    "c = 1 / ((1 + r)*(sdf_omega_j@p))\n",
    "sdf_omega_j = c * sdf_omega_j  # constraint on the expectation of SDF"
   ]
  },
  {
   "cell_type": "markdown",
   "metadata": {},
   "source": [
    "## [Step 5](https://www.arpm.co/lab/redirect.php?permalink=s_current_values-implementation-step05): Compute the current values"
   ]
  },
  {
   "cell_type": "code",
   "execution_count": null,
   "metadata": {},
   "outputs": [],
   "source": [
    "v = np.zeros(n_)\n",
    "for n in range(n_):\n",
    "    v[n] = np.sum(p*sdf_omega_j*v_pay[:, n])"
   ]
  },
  {
   "cell_type": "markdown",
   "metadata": {},
   "source": [
    "## [Step 6](https://www.arpm.co/lab/redirect.php?permalink=s_current_values-implementation-step06): Save databases"
   ]
  },
  {
   "cell_type": "code",
   "execution_count": null,
   "metadata": {},
   "outputs": [],
   "source": [
    "out = pd.DataFrame(v_pay)\n",
    "out.to_csv('~/databases/temporary-databases/db_valuation_vpay.csv')\n",
    "del out\n",
    "out = pd.DataFrame(v)\n",
    "out.to_csv('~/databases/temporary-databases/db_valuation_v.csv')\n",
    "del out\n",
    "out = pd.DataFrame(p)\n",
    "out.to_csv('~/databases/temporary-databases/db_valuation_prob.csv')\n",
    "del out"
   ]
  },
  {
   "cell_type": "markdown",
   "metadata": {},
   "source": [
    "## Plots"
   ]
  },
  {
   "cell_type": "code",
   "execution_count": null,
   "metadata": {},
   "outputs": [],
   "source": [
    "# rearrange rows by v\n",
    "ind_row = np.argsort(v)[::-1]\n",
    "\n",
    "# rearrange columns by average values\n",
    "ind_col = np.argsort(np.mean(v_pay, axis=1))\n",
    "\n",
    "# heatmaps of V and v\n",
    "xstep = 200  # step of the x-axis\n",
    "ystep = 50  # step of the y-axis\n",
    "\n",
    "plt.style.use('arpm')\n",
    "fig = plt.figure(figsize=(1280.0/72.0, 720.0/72.0), dpi=72.0)\n",
    "\n",
    "ax = plt.subplot2grid((1, 11), (0, 0), colspan=7)\n",
    "plt.imshow(v_pay[np.ix_(ind_col, ind_row)].T, vmin=-0.5, vmax=1.5,\n",
    "           cmap=plt.get_cmap('jet'), aspect='auto')\n",
    "ax.xaxis.get_major_ticks()[0].set_visible(False)\n",
    "ax.yaxis.get_major_ticks()[0].set_visible(False)\n",
    "plt.grid(False)\n",
    "plt.xlabel('scenario')\n",
    "plt.ylabel('instrument')\n",
    "plt.title('Future payoff')\n",
    "\n",
    "ax = plt.subplot2grid((1, 11), (0, 8))\n",
    "plt.imshow(v[ind_row].reshape(-1, 1), vmin=-0.5, vmax=1.5,\n",
    "           cmap=plt.get_cmap('jet'), aspect='auto')\n",
    "plt.xticks([])\n",
    "\n",
    "ax.yaxis.get_major_ticks()[0].set_visible(False)\n",
    "plt.grid(False)\n",
    "plt.ylabel('instrument')\n",
    "plt.title('Current value')\n",
    "\n",
    "cbar = np.arange(1.5, -0.51, -0.01).reshape(-1, 1)\n",
    "ax = plt.subplot2grid((1, 11), (0, 10))\n",
    "plt.imshow(cbar, cmap=plt.get_cmap('jet'), aspect='auto')\n",
    "plt.xticks([])\n",
    "plt.yticks(np.arange(0, 220, 20),\n",
    "           np.array([1.5, 1.3, 1.1, 0.9, 0.7, 0.5,\n",
    "                     0.3, 0.1, -0.1, -0.3, -0.5]))\n",
    "plt.grid(False)\n",
    "plt.title('Scale')\n",
    "add_logo(fig, size_frac_x=3/4, location=1, alpha=0.8, set_fig_size=False)"
   ]
  }
 ],
 "metadata": {
  "jupytext": {
   "encoding": "# -*- coding: utf-8 -*-",
   "executable": "/usr/bin/env python3"
  },
  "kernelspec": {
   "display_name": "Python 3",
   "language": "python",
   "name": "python3"
  }
 },
 "nbformat": 4,
 "nbformat_minor": 4
}
