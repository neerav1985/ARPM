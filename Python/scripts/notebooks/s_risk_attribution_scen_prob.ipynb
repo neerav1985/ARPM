{
 "cells": [
  {
   "cell_type": "markdown",
   "metadata": {},
   "source": [
    "# s_risk_attribution_scen_prob [<img src=\"https://www.arpm.co/lab/icons/icon_permalink.png\" width=30 height=30 style=\"display: inline;\">](https://www.arpm.co/lab/redirect.php?code=s_risk_attribution_scen_prob&codeLang=Python)\n",
    "For details, see [here](https://www.arpm.co/lab/redirect.php?permalink=ExerciseScenProbRiskAttr)."
   ]
  },
  {
   "cell_type": "code",
   "execution_count": null,
   "metadata": {},
   "outputs": [],
   "source": [
    "import numpy as np\n",
    "import pandas as pd\n",
    "from scipy.stats import norm\n",
    "\n",
    "from arpym.statistics.meancov_sp import meancov_sp"
   ]
  },
  {
   "cell_type": "markdown",
   "metadata": {},
   "source": [
    "## [Input parameters](https://www.arpm.co/lab/redirect.php?permalink=s_risk_attribution_scen_prob-parameters)"
   ]
  },
  {
   "cell_type": "code",
   "execution_count": null,
   "metadata": {},
   "outputs": [],
   "source": [
    "c = 0.99  # quantile and cVaR confidence level\n",
    "lam = 2  # Esscher parameter\n",
    "theta = -0.1  # parameter for Wang expectation\n",
    "alpha_ph = 0.5  # parameter for proportional hazards expectation"
   ]
  },
  {
   "cell_type": "markdown",
   "metadata": {},
   "source": [
    "## [Step 1](https://www.arpm.co/lab/redirect.php?permalink=s_risk_attribution_scen_prob-implementation-step01): Load data"
   ]
  },
  {
   "cell_type": "code",
   "execution_count": null,
   "metadata": {
    "lines_to_next_cell": 2
   },
   "outputs": [],
   "source": [
    "path = '~/databases/temporary-databases/'\n",
    "db = pd.read_csv(path + 'db_attribution_scen_prob.csv')\n",
    "k_ = pd.read_csv('~/databases/temporary-databases/db_attribution_scen_prob.csv',\n",
    "                 usecols=['k_'], nrows=1).values[0, 0].astype(int)\n",
    "j_ = pd.read_csv('~/databases/temporary-databases/db_attribution_scen_prob.csv',\n",
    "                 usecols=['j_'], nrows=1).values[0, 0].astype(int)\n",
    "p = np.array(db['p'].iloc[:j_]).reshape(-1)  # probabilities\n",
    "alpha = np.array(db['alpha'].iloc[0])  # shift term\n",
    "beta = np.array(db['beta'].iloc[:j_-2]).reshape(-1, 1)  # top-down exposures\n",
    "# scenario realizations of ex-ante performance and factors\n",
    "rh_z = np.array(db['rh_z'].iloc[:j_*(k_+1)]).\\\n",
    "                        reshape((j_, k_+1))\n",
    "# scenario realizations of residual and factors\n",
    "uz = np.array(db['uz'].iloc[:j_*(k_+1)]).\\\n",
    "                        reshape((j_, k_+1))\n",
    "pi_b_resc = pd.read_csv('~/databases/temporary-databases/db_aggregation_scenario_numerical.csv',\n",
    "                        usecols=['pi_b_resc']).iloc[:j_].values.reshape(j_, )"
   ]
  },
  {
   "cell_type": "markdown",
   "metadata": {},
   "source": [
    "## [Step 2](https://www.arpm.co/lab/redirect.php?permalink=s_risk_attribution_scen_prob-implementation-step02): Compute the scenarios for the risk factor Z_0 and update the exposures"
   ]
  },
  {
   "cell_type": "code",
   "execution_count": null,
   "metadata": {},
   "outputs": [],
   "source": [
    "beta_0 = 1  # exposure to the residual\n",
    "beta = np.append(beta_0, beta)  # updated exposures\n",
    "\n",
    "u = uz[:, 0]  # scenarios of the residual\n",
    "z0 = (alpha + u)    # scenarios for the risk factor Z_0\n",
    "z = np.r_['-1', z0.reshape(j_, 1), uz[:, 1:]]  # update risk factors\n",
    "_, cov_z = meancov_sp(z, p)  # covariance of the factors\n",
    "\n",
    "r_h = rh_z[:, 0]  # ex-ante performance scenarios\n",
    "_,var_r_h = meancov_sp(r_h, p)  # variance of the ex-ante performance\n",
    "sd_r_h = np.sqrt(var_r_h)  # standard deviations of the ex-ante performance\n",
    "satis_r_h = -sd_r_h  # total satisfaction st.dev."
   ]
  },
  {
   "cell_type": "markdown",
   "metadata": {},
   "source": [
    "## [Step 3](https://www.arpm.co/lab/redirect.php?permalink=s_risk_attribution_scen_prob-implementation-step03): Computation of the first-in/isolated proportional attribution"
   ]
  },
  {
   "cell_type": "code",
   "execution_count": null,
   "metadata": {},
   "outputs": [],
   "source": [
    "satis_bkzk = -np.abs(beta)*np.sqrt(np.diag(cov_z)).T\n",
    "gamma_isol = satis_r_h / np.sum(satis_bkzk)  # normalization constant\n",
    "satis_k_isol = gamma_isol*satis_bkzk  # \"first in\" proportional contributions"
   ]
  },
  {
   "cell_type": "markdown",
   "metadata": {},
   "source": [
    "## [Step 4](https://www.arpm.co/lab/redirect.php?permalink=s_risk_attribution_scen_prob-implementation-step04): Computation of the last-in proportional attribution"
   ]
  },
  {
   "cell_type": "code",
   "execution_count": null,
   "metadata": {},
   "outputs": [],
   "source": [
    "satis_rhminusbkzk = -np.sqrt(satis_r_h**2+(beta*beta) *\n",
    "                            np.diag(cov_z).T-2*beta*(beta@cov_z))\n",
    "satis_diff  = satis_r_h-satis_rhminusbkzk  # yet to be rescaled\n",
    "gamma_last = satis_r_h/np.sum(satis_diff)  # normalization constant\n",
    "satis_k_last = gamma_last*satis_diff  # \"last in\" prop. contributions"
   ]
  },
  {
   "cell_type": "markdown",
   "metadata": {},
   "source": [
    "## [Step 5](https://www.arpm.co/lab/redirect.php?permalink=s_risk_attribution_scen_prob-implementation-step05): Computation of the sequential risk attribution"
   ]
  },
  {
   "cell_type": "code",
   "execution_count": null,
   "metadata": {},
   "outputs": [],
   "source": [
    "index = [1, 2, 0]\n",
    "beta_reshuf = beta[index]  # reshuffled exposures\n",
    "cov_z_reshuf = cov_z[:, index][index]  # reshuffled factors covariance\n",
    "\n",
    "satis_up_to = np.zeros(k_+2)\n",
    "for k in range(1, k_+2):\n",
    "    # sum of satisfaction up to k\n",
    "    satis_up_to[k] = -np.sqrt(beta_reshuf[:k]@\n",
    "                              cov_z_reshuf[:k, :k]@\n",
    "                              beta_reshuf[:k].T)\n",
    "\n",
    "satis_k_seq = np.diff(satis_up_to)  "
   ]
  },
  {
   "cell_type": "markdown",
   "metadata": {},
   "source": [
    "## [Step 6](https://www.arpm.co/lab/redirect.php?permalink=s_risk_attribution_scen_prob-implementation-step06): Shapley risk attribution"
   ]
  },
  {
   "cell_type": "code",
   "execution_count": null,
   "metadata": {},
   "outputs": [],
   "source": [
    "satis_k_shapley = np.zeros(k_+1)\n",
    "\n",
    "c_ = 4  # number of coalitions\n",
    "\n",
    "# k=0; coalitions: {0}, {0,1}, {0,2}, {0,1,2}\n",
    "satis_0 = np.zeros(c_)\n",
    "# compute contribute for each coalition\n",
    "satis_0[0] = (1/3)*satis_bkzk[0]\n",
    "satis_0[1] = (1/6)*(-np.sqrt(beta[[1, 0]]@cov_z[np.ix_([1, 0], [1, 0])]@\n",
    "                             beta[[1, 0]].T) - satis_bkzk[1])\n",
    "satis_0[2] = (1/6)*(-np.sqrt(beta[[2, 0]]@cov_z[np.ix_([2, 0], [2, 0])]@\n",
    "                             beta[[2, 0]].T) - satis_bkzk[2])\n",
    "satis_0[3] = (1/3)*(-np.sqrt(beta[[1, 2, 0]]@\n",
    "                             cov_z[np.ix_([1, 2, 0], [1, 2, 0])]@\n",
    "                             beta[[1, 2, 0]].T) +\n",
    "                    np.sqrt(beta[[1, 2]]@cov_z[np.ix_([1, 2], [1, 2])]@\n",
    "                            beta[[1, 2]].T))\n",
    "\n",
    "# sum over coalitions\n",
    "satis_k_shapley[0] = np.sum(satis_0)  # yet to be rescaled\n",
    "\n",
    "# k=1; coalitions: {1}, {0, 1}, {1, 2}, {0, 1, 2}\n",
    "satis_1 = np.zeros(c_)\n",
    "# compute contribute for each coalition\n",
    "satis_1[0] = (1/3)*satis_bkzk[1]\n",
    "satis_1[1] = (1/6)*(-np.sqrt(beta[[0, 1]]@cov_z[np.ix_([0, 1], [0, 1])]@\n",
    "                             beta[[0, 1]].T) - satis_bkzk[0])\n",
    "satis_1[2] = (1/6)*(-np.sqrt(beta[[2, 1]]@cov_z[np.ix_([2, 1], [2, 1])]@\n",
    "                             beta[[2, 1]].T) - satis_bkzk[2])\n",
    "satis_1[3] = (1/3)*(-np.sqrt(beta[[0, 2, 1]]@\n",
    "                             cov_z[np.ix_([0, 2, 1], [0, 2, 1])]@\n",
    "                             beta[[0, 2, 1]].T) +\n",
    "                    np.sqrt(beta[[0, 2]]@cov_z[np.ix_([0, 2], [0, 2])]@\n",
    "                            beta[[0, 2]].T))\n",
    "\n",
    "# sum over coalitions\n",
    "satis_k_shapley[1] = np.sum(satis_1)  # yet to be rescaled\n",
    "\n",
    "# k=2; coalitions: {2}, {0, 2}, {1, 2}, {0, 1, 2}\n",
    "satis_2 = np.zeros(c_)\n",
    "# compute contribute for each coalition\n",
    "satis_2[0] = (1/3)*satis_bkzk[2]\n",
    "satis_2[1] = (1/6)*(-np.sqrt(beta[[0, 2]]@cov_z[np.ix_([0, 2], [0, 2])]@\n",
    "                             beta[[0, 2]].T) - satis_bkzk[0])\n",
    "satis_2[2] = (1/6)*(-np.sqrt(beta[[1, 2]]@cov_z[np.ix_([1, 2], [1, 2])]@\n",
    "                             beta[[1, 2]].T) - satis_bkzk[1])\n",
    "satis_2[3] = (1/3)*(-np.sqrt(beta[[0, 1, 2]]@\n",
    "                             cov_z[np.ix_([0, 1, 2], [0, 1, 2])]@\n",
    "                             beta[[0, 1, 2]].T) +\n",
    "                    np.sqrt(beta[[0, 1]]@cov_z[np.ix_([0, 1], [0, 1])]@\n",
    "                            beta[[0, 1]].T))\n",
    "\n",
    "# sum over coalitions\n",
    "satis_k_shapley[2] = np.sum(satis_2)"
   ]
  },
  {
   "cell_type": "markdown",
   "metadata": {},
   "source": [
    "## [Step 7](https://www.arpm.co/lab/redirect.php?permalink=s_risk_attribution_scen_prob-implementation-step07): Computation of the risk marginal contributions: standard deviations"
   ]
  },
  {
   "cell_type": "code",
   "execution_count": null,
   "metadata": {},
   "outputs": [],
   "source": [
    "sd_satis_k_euler  = np.zeros(k_+1)\n",
    "for k in range(k_+1):\n",
    "    sd_satis_k_euler [k] = beta[k] * ((cov_z@beta)[k] / np.sqrt(beta@cov_z@beta.T))"
   ]
  },
  {
   "cell_type": "markdown",
   "metadata": {},
   "source": [
    "## [Step 8](https://www.arpm.co/lab/redirect.php?permalink=s_risk_attribution_scen_prob-implementation-step08): Computation of the risk marginal contributions: variance"
   ]
  },
  {
   "cell_type": "code",
   "execution_count": null,
   "metadata": {},
   "outputs": [],
   "source": [
    "v_satis_k_euler = np.zeros(k_+1)\n",
    "for k in range(k_+1):\n",
    "    v_satis_k_euler[k] = beta[k] * (cov_z@beta)[k]"
   ]
  },
  {
   "cell_type": "markdown",
   "metadata": {},
   "source": [
    "## [Step 8](https://www.arpm.co/lab/redirect.php?permalink=s_risk_attribution_scen_prob-implementation-step08): Sorting"
   ]
  },
  {
   "cell_type": "code",
   "execution_count": null,
   "metadata": {},
   "outputs": [],
   "source": [
    "r_h_sort = np.sort(r_h)\n",
    "index = np.argsort(r_h)\n",
    "z_sort = z[index, :]\n",
    "p_sort = p[index]"
   ]
  },
  {
   "cell_type": "markdown",
   "metadata": {},
   "source": [
    "## [Step 9](https://www.arpm.co/lab/redirect.php?permalink=s_risk_attribution_scen_prob-implementation-step09): Wang"
   ]
  },
  {
   "cell_type": "code",
   "execution_count": null,
   "metadata": {},
   "outputs": [],
   "source": [
    "f_wang = norm.cdf(norm.ppf(np.cumsum(p_sort)) - theta)\n",
    "w_wang_spectr = np.append(f_wang[0], np.diff(f_wang))\n",
    "wang_k = np.zeros(k_+1)\n",
    "for k in range(k_+1):\n",
    "     wang_k[k] = beta[k]*(z_sort[:, k]@w_wang_spectr)  # marg. contributions"
   ]
  },
  {
   "cell_type": "markdown",
   "metadata": {},
   "source": [
    "## [Step 10](https://www.arpm.co/lab/redirect.php?permalink=s_risk_attribution_scen_prob-implementation-step10): Proportional hazard"
   ]
  },
  {
   "cell_type": "code",
   "execution_count": null,
   "metadata": {},
   "outputs": [],
   "source": [
    "f_prop_haz = (np.cumsum(p_sort)) ** alpha_ph  # proportional hazards transform\n",
    "w_prop_haz_spectr = np.append(f_prop_haz[0], np.diff(f_prop_haz))  # derivative\n",
    "prop_haz_k = np.zeros(k_+1)\n",
    "for k in range(k_+1):\n",
    "    prop_haz_k[k] = beta[k]*(z_sort[:, k]@w_prop_haz_spectr)  # marg. contributions"
   ]
  },
  {
   "cell_type": "markdown",
   "metadata": {},
   "source": [
    "## [Step 11](https://www.arpm.co/lab/redirect.php?permalink=s_risk_attribution_scen_prob-implementation-step11): Expected shortfall"
   ]
  },
  {
   "cell_type": "code",
   "execution_count": null,
   "metadata": {},
   "outputs": [],
   "source": [
    "u_sort = np.r_[0, np.cumsum(p_sort)]  # cumulative sum of ordered probs.\n",
    "j_c = next(i for i, x in enumerate(u_sort) if x <= 1-c)\n",
    "\n",
    "es_k = np.zeros(k_+1)\n",
    "for k in range(k_+1):\n",
    "    es_k[k] = beta[k]*np.sum(z_sort[:j_c+1, k])/(1-c)  # marg. contributions"
   ]
  },
  {
   "cell_type": "markdown",
   "metadata": {},
   "source": [
    "## [Step 12](https://www.arpm.co/lab/redirect.php?permalink=s_risk_attribution_scen_prob-implementation-step12): Computation of the risk marginal contributions: Esscher expectation and Bulhmann expectation"
   ]
  },
  {
   "cell_type": "code",
   "execution_count": null,
   "metadata": {},
   "outputs": [],
   "source": [
    "esscher_exp_k = np.zeros(k_+1)\n",
    "for k in range(k_+1):\n",
    "    # marginal contributions\n",
    "    esscher_exp_k[k] = beta[k] *\\\n",
    "          meancov_sp(np.exp(-lam*r_h)*z[:, k], p)[0] /\\\n",
    "          meancov_sp(np.exp(-lam*r_h), p)[0]\n",
    "    \n",
    "bulhmann_expectation_r_h_k = np.zeros(k_+1)\n",
    "for k in range(k_+1):\n",
    "    bulhmann_expectation_r_h_k[k] =  beta[k] * meancov_sp(np.exp(-lam * pi_b_resc)*z[:, k], p)[0] \\\n",
    "    / meancov_sp(np.exp(-lam * pi_b_resc), p)[0]"
   ]
  }
 ],
 "metadata": {
  "jupytext": {
   "encoding": "# -*- coding: utf-8 -*-",
   "executable": "/usr/bin/env python3"
  },
  "kernelspec": {
   "display_name": "Python 3",
   "language": "python",
   "name": "python3"
  }
 },
 "nbformat": 4,
 "nbformat_minor": 4
}
