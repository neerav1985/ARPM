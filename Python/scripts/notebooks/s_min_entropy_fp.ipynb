{
 "cells": [
  {
   "cell_type": "markdown",
   "metadata": {},
   "source": [
    "# s_min_entropy_fp [<img src=\"https://www.arpm.co/lab/icons/icon_permalink.png\" width=30 height=30 style=\"display: inline;\">](https://www.arpm.co/lab/redirect.php?code=s_min_entropy_fp&codeLang=Python)\n",
    "For details, see [here](https://www.arpm.co/lab/redirect.php?permalink=ExerFPentrpool)."
   ]
  },
  {
   "cell_type": "code",
   "execution_count": null,
   "metadata": {},
   "outputs": [],
   "source": [
    "import numpy as np\n",
    "import pandas as pd\n",
    "import matplotlib.pyplot as plt\n",
    "import matplotlib.dates as mdates\n",
    "from pandas.plotting import register_matplotlib_converters\n",
    "register_matplotlib_converters()\n",
    "\n",
    "from arpym.estimation.conditional_fp import conditional_fp\n",
    "from arpym.estimation.effective_num_scenarios import effective_num_scenarios\n",
    "from arpym.estimation.exp_decay_fp import exp_decay_fp\n",
    "from arpym.statistics.scoring import scoring\n",
    "from arpym.statistics.smoothing import smoothing\n",
    "from arpym.tools.colormap_fp import colormap_fp\n",
    "from arpym.tools.histogram_sp import histogram_sp\n",
    "from arpym.tools.logo import add_logo\n",
    "\n",
    "np.seterr(invalid='ignore')"
   ]
  },
  {
   "cell_type": "markdown",
   "metadata": {},
   "source": [
    "## [Input parameters](https://www.arpm.co/lab/redirect.php?permalink=s_min_entropy_fp-parameters)"
   ]
  },
  {
   "cell_type": "code",
   "execution_count": null,
   "metadata": {},
   "outputs": [],
   "source": [
    "z_star = -0.27  # target value\n",
    "alpha = 0.25  # leeway\n",
    "tau_hl_prior = 6*252  # prior half life"
   ]
  },
  {
   "cell_type": "markdown",
   "metadata": {},
   "source": [
    "## [Step 0](https://www.arpm.co/lab/redirect.php?permalink=s_min_entropy_fp-implementation-step00): Upload data"
   ]
  },
  {
   "cell_type": "code",
   "execution_count": null,
   "metadata": {},
   "outputs": [],
   "source": [
    "spx_path = '~/databases/global-databases/equities/db_stocks_SP500/SPX.csv'\n",
    "vix_path = '~/databases/global-databases/derivatives/db_vix/data.csv'\n",
    "# S&P 500 index value\n",
    "spx = pd.read_csv(spx_path, parse_dates=['date'])\n",
    "# VIX index value\n",
    "vix = pd.read_csv(vix_path, usecols=['date', 'VIX_close'],\n",
    "                  parse_dates=['date'])\n",
    "# merging datasets\n",
    "spx_vix = pd.merge(spx, vix, how='inner', on=['date'])\n",
    "date = spx_vix.date\n",
    "t_ = len(date)"
   ]
  },
  {
   "cell_type": "markdown",
   "metadata": {},
   "source": [
    "## [Step 1](https://www.arpm.co/lab/redirect.php?permalink=s_min_entropy_fp-implementation-step01): Compute the S&P 500 compounded return and the VIX compounded return"
   ]
  },
  {
   "cell_type": "code",
   "execution_count": null,
   "metadata": {},
   "outputs": [],
   "source": [
    "epsi = np.diff(np.log(spx_vix.SPX_close))  # S&P 500 index compounded return\n",
    "v_vix = np.array(spx_vix.VIX_close)  # VIX index value\n",
    "c = np.diff(np.log(v_vix))  # VIX index compounded return"
   ]
  },
  {
   "cell_type": "markdown",
   "metadata": {},
   "source": [
    "## [Step 2](https://www.arpm.co/lab/redirect.php?permalink=s_min_entropy_fp-implementation-step02): Compute the risk factor by smoothing and scoring VIX compounded return"
   ]
  },
  {
   "cell_type": "code",
   "execution_count": null,
   "metadata": {},
   "outputs": [],
   "source": [
    "tau_hl_smoo = 22\n",
    "tau_hl_scor = 144\n",
    "z_smooth = smoothing(c, tau_hl_smoo)  # smoothing\n",
    "z = scoring(z_smooth, tau_hl_scor)  # scoring"
   ]
  },
  {
   "cell_type": "markdown",
   "metadata": {},
   "source": [
    "## [Step 3](https://www.arpm.co/lab/redirect.php?permalink=s_min_entropy_fp-implementation-step03): Compute the flexible probabilities conditioned via minimum relative entropy"
   ]
  },
  {
   "cell_type": "code",
   "execution_count": null,
   "metadata": {},
   "outputs": [],
   "source": [
    "prior = exp_decay_fp(t_-1, tau_hl_prior)\n",
    "# minimum relative entropy flexible probabilities\n",
    "p_entropy = conditional_fp(z, z_star, alpha, prior)"
   ]
  },
  {
   "cell_type": "markdown",
   "metadata": {},
   "source": [
    "## [Step 4](https://www.arpm.co/lab/redirect.php?permalink=s_min_entropy_fp-implementation-step04): Compute the effective number of scenarios"
   ]
  },
  {
   "cell_type": "code",
   "execution_count": null,
   "metadata": {},
   "outputs": [],
   "source": [
    "ens = effective_num_scenarios(p_entropy)  # effective number of scenarios"
   ]
  },
  {
   "cell_type": "markdown",
   "metadata": {},
   "source": [
    "## [Step 5](https://www.arpm.co/lab/redirect.php?permalink=s_min_entropy_fp-implementation-step05): Compute the flexible probabilities histogram"
   ]
  },
  {
   "cell_type": "code",
   "execution_count": null,
   "metadata": {},
   "outputs": [],
   "source": [
    "n_bins = 10 * np.log(t_-1)\n",
    "f_eps, x_eps = histogram_sp(epsi, p=p_entropy, k_=n_bins)  # flex. prob. hist."
   ]
  },
  {
   "cell_type": "markdown",
   "metadata": {},
   "source": [
    "## Plots"
   ]
  },
  {
   "cell_type": "code",
   "execution_count": null,
   "metadata": {},
   "outputs": [],
   "source": [
    "plt.style.use('arpm')\n",
    "\n",
    "grey_range = np.r_[np.arange(0, 0.6 + 0.01, 0.01), .85]\n",
    "[color_map, p_colors] = colormap_fp(p_entropy, np.min(p_entropy),\n",
    "                                    np.max(p_entropy), grey_range, 0, 1,\n",
    "                                    [1, 0])\n",
    "plot_dates = np.array(date)\n",
    "myFmt = mdates.DateFormatter('%d-%b-%Y')\n",
    "date_tick = np.arange(84, t_-2, 800)\n",
    "\n",
    "# VIX and market state\n",
    "fig1 = plt.figure(figsize=(1280.0/72.0, 720.0/72.0), dpi=72.0)\n",
    "\n",
    "ax = fig1.add_subplot(111)\n",
    "plt.xticks(fontsize=14)\n",
    "plt.yticks(fontsize=14)\n",
    "vixPlot = ax.plot(plot_dates, v_vix, color='C3')\n",
    "ax.set_ylabel('VIX', color='C3', fontsize=17)\n",
    "ax.tick_params(axis='y', colors='C3')\n",
    "\n",
    "ax2 = ax.twinx()\n",
    "plt.yticks(fontsize=14)\n",
    "zPlot = ax2.plot(plot_dates[1:], z, color='C0', lw=1.15)\n",
    "ax2.set_ylabel('Market state', color='C0', fontsize=17)\n",
    "ax2.tick_params(axis='y', colors='C0')\n",
    "targetPlot = ax2.plot(plot_dates, z_star * np.ones(len(plot_dates)),\n",
    "                      color='C4', lw=1.5)\n",
    "\n",
    "lns = vixPlot + zPlot + targetPlot\n",
    "labs = ['VIX', 'Market state',\n",
    "        'Conditioning state={z_star:.2f}'.format(z_star=z_star)]\n",
    "\n",
    "ax.legend(lns, labs, loc=2, fontsize=17)\n",
    "\n",
    "ax.set_xlabel('date', fontsize=17)\n",
    "ax.set_xlim(min(plot_dates), max(plot_dates))\n",
    "ax.xaxis.set_major_formatter(myFmt)\n",
    "ax.set_title('VIX and market state', fontweight='bold', fontsize=20)\n",
    "\n",
    "ax.grid(False)\n",
    "ax2.grid(False)\n",
    "add_logo(fig1, location=1, set_fig_size=False)\n",
    "plt.tight_layout()\n",
    "\n",
    "# flexible probabilities plot\n",
    "fig2, axs = plt.subplots(2, 1, figsize=(1280.0/72.0, 720.0/72.0), dpi=72.0)\n",
    "axs[0].bar(plot_dates[1:], p_entropy, color='gray',\n",
    "           width=np.floor(len(p_entropy)/680))\n",
    "for label in axs[0].xaxis.get_ticklabels():\n",
    "    label.set_fontsize(14)\n",
    "axs[0].set_yticks([])\n",
    "axs[0].set_xlim(min(plot_dates), max(plot_dates))\n",
    "axs[0].xaxis.set_major_formatter(myFmt)\n",
    "axs[0].set_ylim(0, np.max(p_entropy)*(1+1./7.))\n",
    "axs[0].set_ylabel('probability', fontsize=17)\n",
    "axs[0].set_title('State and time conditioning probabilities',\n",
    "                 fontweight='bold', fontsize=20)\n",
    "plt.sca(axs[1])\n",
    "plt.xticks(fontsize=14)\n",
    "plt.yticks(fontsize=14)\n",
    "axs[1].set_xlim(min(plot_dates), max(plot_dates))\n",
    "axs[1].set_ylim(-0.15, 0.15)\n",
    "axs[1].scatter(plot_dates[1:], epsi, s=30, c=p_colors, marker='.',\n",
    "               cmap=color_map)\n",
    "axs[1].set_facecolor(\"white\")\n",
    "axs[1].set_title('S&P 500', fontweight='bold', fontsize=20)\n",
    "axs[1].set_ylabel('return', fontsize=17)\n",
    "axs[1].xaxis.set_major_formatter(myFmt)\n",
    "add_logo(fig2, axis=axs[1], location=1, set_fig_size=False)\n",
    "plt.tight_layout()\n",
    "\n",
    "# HFP histogram\n",
    "hfp = plt.figure(figsize=(1280.0/72.0, 720.0/72.0), dpi=72.0)\n",
    "ax = hfp.add_subplot(111)\n",
    "bar_width = x_eps[1] - x_eps[0]\n",
    "plt.xticks(fontsize=14)\n",
    "plt.yticks(fontsize=14)\n",
    "ax.set_xlim(-0.15, 0.15)\n",
    "ax.bar(x_eps, f_eps, width=bar_width, fc=[0.7, 0.7, 0.7],\n",
    "       edgecolor=[0.5, 0.5, 0.5])\n",
    "ax.set_title('HFP distribution', fontweight='bold', fontsize=20)\n",
    "add_logo(hfp, set_fig_size=False)\n",
    "plt.tight_layout()"
   ]
  }
 ],
 "metadata": {
  "jupytext": {
   "encoding": "# -*- coding: utf-8 -*-",
   "executable": "/usr/bin/env python3"
  },
  "kernelspec": {
   "display_name": "Python 3",
   "language": "python",
   "name": "python3"
  }
 },
 "nbformat": 4,
 "nbformat_minor": 4
}
