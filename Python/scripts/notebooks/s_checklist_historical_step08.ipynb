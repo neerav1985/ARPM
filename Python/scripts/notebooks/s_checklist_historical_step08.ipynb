{
 "cells": [
  {
   "cell_type": "markdown",
   "metadata": {},
   "source": [
    "# s_checklist_historical_step08 [<img src=\"https://www.arpm.co/lab/icons/icon_permalink.png\" width=30 height=30 style=\"display: inline;\">](https://www.arpm.co/lab/redirect.php?code=s_checklist_historical_step08&codeLang=Python)\n",
    "For details, see [here](https://www.arpm.co/lab/redirect.php?permalink=ex-vue-8-historical)."
   ]
  },
  {
   "cell_type": "code",
   "execution_count": null,
   "metadata": {},
   "outputs": [],
   "source": [
    "import numpy as np\n",
    "import pandas as pd\n",
    "import matplotlib.pyplot as plt\n",
    "\n",
    "from arpym.statistics.meancov_sp import meancov_sp\n",
    "from arpym.estimation.fit_lfm_lasso import fit_lfm_lasso"
   ]
  },
  {
   "cell_type": "markdown",
   "metadata": {},
   "source": [
    "## [Input parameters](https://www.arpm.co/lab/redirect.php?permalink=s_checklist_historical_step08-parameters)"
   ]
  },
  {
   "cell_type": "code",
   "execution_count": null,
   "metadata": {},
   "outputs": [],
   "source": [
    "# parameter for lasso minimization\n",
    "lam = 12000"
   ]
  },
  {
   "cell_type": "markdown",
   "metadata": {},
   "source": [
    "## [Step 0](https://www.arpm.co/lab/redirect.php?permalink=s_checklist_historical_step08-implementation-step00): Load data"
   ]
  },
  {
   "cell_type": "code",
   "execution_count": null,
   "metadata": {},
   "outputs": [],
   "source": [
    "path = '~/databases/temporary-databases/'\n",
    "\n",
    "# Risk drivers identification\n",
    "db_riskdrivers_series = pd.read_csv(path+'db_riskdrivers_series_historical.csv',\n",
    "                                    index_col=0)\n",
    "x = db_riskdrivers_series.values\n",
    "riskdriver_names = np.array(db_riskdrivers_series.columns)\n",
    "\n",
    "db_riskdrivers_tools = pd.read_csv(path+'db_riskdrivers_tools_historical.csv')\n",
    "d_ = int(db_riskdrivers_tools['d_'][0])\n",
    "n_stocks = int(db_riskdrivers_tools['n_stocks'][0])\n",
    "t_now = np.datetime64(db_riskdrivers_tools.t_now[0], 'D')\n",
    "\n",
    "# Projection\n",
    "db_projection_tools = pd.read_csv(path+'db_projection_bootstrap_tools.csv')\n",
    "j_ = int(db_projection_tools['j_'][0])\n",
    "t_hor = np.datetime64(db_projection_tools['t_hor'][0], 'D')\n",
    "m_ = np.busday_count(t_now, t_hor)\n",
    "\n",
    "db_projection_riskdrivers = pd.read_csv(path+'db_projection_bootstrap_riskdrivers.csv')\n",
    "x_proj = db_projection_riskdrivers.values.reshape(j_, m_+1, d_)\n",
    "\n",
    "db_scenprob = pd.read_csv(path+'db_scenario_probs_bootstrap.csv')\n",
    "p = db_scenprob['p'].values\n",
    "\n",
    "# Pricing\n",
    "db_holdings = pd.read_csv(path+'db_holdings_historical.csv')\n",
    "\n",
    "# Aggregation\n",
    "db_exante_perf = pd.read_csv(path+'db_exante_perf_historical.csv')\n",
    "y_h = db_exante_perf.values.squeeze()\n",
    "\n",
    "# Ex-ante evaluation\n",
    "db_quantile_and_satis = pd.read_csv(path+'db_quantile_and_satis_historical.csv')\n",
    "c_es = db_quantile_and_satis['c_es'][0]\n",
    "es_yh = db_quantile_and_satis['es_yh'][0]\n",
    "neg_var_yh = db_quantile_and_satis['neg_var_yh'][0]"
   ]
  },
  {
   "cell_type": "markdown",
   "metadata": {},
   "source": [
    "## [Step 1](https://www.arpm.co/lab/redirect.php?permalink=s_checklist_historical_step08-implementation-step01): Ex-ante attribution: performance"
   ]
  },
  {
   "cell_type": "code",
   "execution_count": null,
   "metadata": {},
   "outputs": [],
   "source": [
    "# risk factors: risk driver increments\n",
    "z = x_proj[:, -1, :]-x[-1, :]\n",
    "# estimate exposures, intercept and residuals\n",
    "alpha, beta, _, u = fit_lfm_lasso(y_h, z, p, lam)\n",
    "u = u.squeeze()\n",
    "alpha = alpha[0]\n",
    "\n",
    "# select data for relevant risk factors only\n",
    "ind_relevant_risk_factors = np.where(beta != 0)[0]\n",
    "beta = beta[ind_relevant_risk_factors]\n",
    "z = z[:, ind_relevant_risk_factors]\n",
    "# number of relevant risk factors\n",
    "k_ = beta.shape[0]\n",
    "\n",
    "# joint distribution of residual and risk factors\n",
    "f_uz = (np.c_[u, z], p)\n",
    "\n",
    "risk_factors = riskdriver_names[ind_relevant_risk_factors]\n",
    "print('Number of relevant risk factors: ' + str(k_))\n",
    "\n",
    "# create output dictionary\n",
    "output = {'k_': k_,  # number of relevant risk factors\n",
    "          'alpha': alpha,  # shift term\n",
    "          'beta': beta,  # exposures\n",
    "          'f_UZ': f_uz  # joint distribution of residual and risk factors\n",
    "          }"
   ]
  },
  {
   "cell_type": "markdown",
   "metadata": {},
   "source": [
    "## [Step 2](https://www.arpm.co/lab/redirect.php?permalink=s_checklist_historical_step08-implementation-step02): Ex-ante attribution: risk"
   ]
  },
  {
   "cell_type": "code",
   "execution_count": null,
   "metadata": {},
   "outputs": [],
   "source": [
    "# map residuals to 0-th factor\n",
    "z_0 = (alpha + u)\n",
    "# exposure to the residual\n",
    "beta_0 = 1\n",
    "\n",
    "# update exposures\n",
    "beta_new = np.append(beta_0, beta)\n",
    "k_new = beta_new.shape[0]\n",
    "# update risk factors\n",
    "z_new = np.c_[z_0, z]\n",
    "\n",
    "# sort the scenarios of the risk factors and probabilities\n",
    "# according to order induced by ex-ante performance scenarios\n",
    "sort_yh = np.argsort(y_h, axis=0)\n",
    "p_sort = p[sort_yh]\n",
    "z_new_sort = z_new[sort_yh, :]\n",
    "\n",
    "# marginal contributions to the negative expected shortfall satisfaction measure\n",
    "# calculate weights\n",
    "j_c = np.min(np.where(np.cumsum(p_sort) >= 1-c_es)) \n",
    "w = np.zeros((j_))\n",
    "for j in range(j_c):\n",
    "    w[j] = 1/(1-c_es)*p_sort[j]\n",
    "w[j_c] = 1 - np.sum(w)\n",
    "# calculate contributions\n",
    "es_contrib = beta_new * (w.T @ z_new_sort)\n",
    "# print percentage contributions\n",
    "pc_es_contrib = es_contrib/np.sum(es_yh)\n",
    "print('Percentage contributions to negative expected shortfall')\n",
    "print('-'*55)\n",
    "for k in range(1, k_+1):\n",
    "    print('{:31}'.format(risk_factors[k-1])+':',\n",
    "          '{: 7.2%}'.format(pc_es_contrib[k]))\n",
    "print('{:31}'.format('residual')+':',\n",
    "      '{: 7.2%}'.format(pc_es_contrib[0]))\n",
    "print('')\n",
    "\n",
    "# marginal contributions to the variance satisfaction measure\n",
    "# find covariance\n",
    "_, cov_z_new = meancov_sp(z_new, p)\n",
    "# calculate contributions\n",
    "var_contrib = -beta_new * (cov_z_new @ beta_new.T)\n",
    "# print percentage contributions\n",
    "pc_var_contrib = var_contrib/neg_var_yh\n",
    "print('Percentage contributions to variance satisfaction measure')\n",
    "print('-'*57)\n",
    "for k in range(1, k_+1):\n",
    "    print('{:31}'.format(risk_factors[k-1])+':',\n",
    "          '{: 7.2%}'.format(pc_var_contrib[k]))\n",
    "print('{:31}'.format('residual')+':',\n",
    "      '{: 7.2%}'.format(pc_var_contrib[0]))\n",
    "\n",
    "# update output dictionary\n",
    "output['-ES_k'] = es_contrib\n",
    "output['-V_k'] = var_contrib"
   ]
  },
  {
   "cell_type": "markdown",
   "metadata": {},
   "source": [
    "## Plots"
   ]
  },
  {
   "cell_type": "code",
   "execution_count": null,
   "metadata": {},
   "outputs": [],
   "source": [
    "plt.style.use('arpm')\n",
    "fig, (ax1, ax2) = plt.subplots(1, 2,\n",
    "                               figsize=(1280.0/72.0, 720.0/72.0), dpi = 72.0)\n",
    "\n",
    "# expected shortfall\n",
    "heights = np.flip(np.append(es_yh, np.append(es_contrib[1:], es_contrib[0])))\n",
    "heights_r = heights*1e-6\n",
    "lbls = np.flip(np.append('total', np.append(risk_factors, 'residual')))\n",
    "colors = ['C5'] + ['C0']*k_ + ['C2']\n",
    "ax1.barh(range(k_new+1), heights_r,\n",
    "         tick_label=lbls, color=colors)\n",
    "plt.xticks(fontsize=14)\n",
    "plt.yticks(fontsize=14)\n",
    "ax1.set_ylabel('Risk driver increments', fontsize=17)\n",
    "ax1.set_xlabel('-ES (million USD)', fontsize=17)\n",
    "ax1.set_title('Risk attribution: expected shortfall',\n",
    "          fontsize=20, fontweight='bold')\n",
    "\n",
    "# variance\n",
    "heights = np.flip(np.append(neg_var_yh, np.append(var_contrib[1:], var_contrib[0])))\n",
    "colors = ['C5'] + ['C0']*k_ + ['C2']\n",
    "ax2.barh(range(k_new+1), heights, color=colors)\n",
    "plt.yticks([])\n",
    "ax2.set_xlabel('-Variance', fontsize=17)\n",
    "ax2.set_ylabel('')\n",
    "ax2.set_title('Risk attribution: variance',\n",
    "          fontsize=20, fontweight='bold')\n",
    "plt.tight_layout()"
   ]
  }
 ],
 "metadata": {
  "jupytext": {
   "encoding": "# -*- coding: utf-8 -*-",
   "executable": "/usr/bin/env python3"
  },
  "kernelspec": {
   "display_name": "Python 3",
   "language": "python",
   "name": "python3"
  }
 },
 "nbformat": 4,
 "nbformat_minor": 4
}
