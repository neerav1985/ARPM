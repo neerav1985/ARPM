{
 "cells": [
  {
   "cell_type": "markdown",
   "metadata": {},
   "source": [
    "# S_TradingSpeedAC [<img src=\"https://www.arpm.co/lab/icons/icon_permalink.png\" width=30 height=30 style=\"display: inline;\">](https://www.arpm.co/lab/redirect.php?code=S_TradingSpeedAC&codeLang=Python)\n",
    "For details, see [here](https://www.arpm.co/lab/redirect.php?permalink=eb-acmonotonicityfullexecution)."
   ]
  },
  {
   "cell_type": "markdown",
   "metadata": {},
   "source": [
    "## Prepare the environment"
   ]
  },
  {
   "cell_type": "code",
   "execution_count": null,
   "metadata": {},
   "outputs": [],
   "source": [
    "import os\n",
    "import os.path as path\n",
    "import sys\n",
    "\n",
    "sys.path.append(path.abspath('../../functions-legacy'))\n",
    "\n",
    "from numpy import arange, array, zeros\n",
    "\n",
    "import matplotlib.pyplot as plt\n",
    "from matplotlib.pyplot import plot, legend, xlim, subplots, ylabel, \\\n",
    "    xlabel, title\n",
    "\n",
    "plt.style.use('seaborn')\n",
    "\n",
    "from ARPM_utils import save_plot\n",
    "from AlmgrenChrissTrajectory import AlmgrenChrissTrajectory\n",
    "\n",
    "# Parameters\n",
    "q_start = 0\n",
    "q_end = 1\n",
    "q_grid = arange(0, q_end+1/(60*120),1/(60*120))\n",
    "h_start = 100\n",
    "h_end = 0\n",
    "lam = 0.3\n",
    "sigma = 1.57\n",
    "eta = array([0.01, 0.1, 0.2, 0.8])\n",
    "l_ = len(eta)\n",
    "k_ = len(q_grid)\n",
    "\n",
    "# inizialization\n",
    "trajectories = zeros((l_, k_))\n",
    "speed = zeros((l_, k_))"
   ]
  },
  {
   "cell_type": "markdown",
   "metadata": {},
   "source": [
    "## Compute the Almgren-Chriss trading trajectory and the respective trading speed for the four different values of eta"
   ]
  },
  {
   "cell_type": "code",
   "execution_count": null,
   "metadata": {},
   "outputs": [],
   "source": [
    "for l in range(l_):\n",
    "    trajectories[l,:],speed[l, :] = AlmgrenChrissTrajectory(q_grid, h_start, h_end,lam, eta[l], sigma)"
   ]
  },
  {
   "cell_type": "markdown",
   "metadata": {},
   "source": [
    "## Plot the trading trajectories and the respective trading speed computed in the previous step"
   ]
  },
  {
   "cell_type": "code",
   "execution_count": null,
   "metadata": {},
   "outputs": [],
   "source": [
    "f, ax = subplots(2,1)\n",
    "plt.sca(ax[0])\n",
    "p1 = plot(q_grid, trajectories[0], color=[1, 0, 0])\n",
    "p2 = plot(q_grid, trajectories[1], color = [1, 0.5, 0])\n",
    "p3 = plot(q_grid, trajectories[2], color = [0, 0.5, 0])\n",
    "p4 = plot(q_grid, trajectories[3], color = [0, 0, 1])\n",
    "plt.axis([q_start, q_end, h_end - 1, h_start + 1])\n",
    "xlabel('Volume time')\n",
    "ylabel('Holdings')\n",
    "title('Trading trajectories in the Almgren-Chriss model as eta varies')\n",
    "legend(['$\\eta$ = 0.01','$\\eta$ = 0.1','$\\eta$ = 0.2', '$\\eta$ = 0.8'])\n",
    "\n",
    "plt.sca(ax[1])\n",
    "p1 = plot(q_grid, speed[0], color = [1, 0, 0])\n",
    "p2 = plot(q_grid, speed[1], color = [1, 0.5, 0])\n",
    "p3 = plot(q_grid, speed[2], color = [0, 0.5, 0])\n",
    "p4 = plot(q_grid, speed[3], color = [0, 0, 1])\n",
    "xlim([q_start, q_end])\n",
    "\n",
    "xlabel('Volume time')\n",
    "ylabel('Speed')\n",
    "title('Trading speeds in the Almgren-Chriss model as eta varies')\n",
    "legend(['$\\eta$ = 0.01','$\\eta$ = 0.1','$\\eta$ = 0.2', '$\\eta$ = 0.8'])\n",
    "plt.tight_layout();\n",
    "# save_plot(ax=plt.gca(), extension='png', scriptname=os.path.basename('.')[:-3], count=plt.get_fignums()[-1])"
   ]
  }
 ],
 "metadata": {
  "jupytext": {
   "encoding": "# -*- coding: utf-8 -*-",
   "executable": "/usr/bin/env python3"
  },
  "kernelspec": {
   "display_name": "Python 3",
   "language": "python",
   "name": "python3"
  }
 },
 "nbformat": 4,
 "nbformat_minor": 4
}
