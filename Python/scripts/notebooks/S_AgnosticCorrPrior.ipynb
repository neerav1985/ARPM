{
 "cells": [
  {
   "cell_type": "markdown",
   "metadata": {},
   "source": [
    "# S_AgnosticCorrPrior [<img src=\"https://www.arpm.co/lab/icons/icon_permalink.png\" width=30 height=30 style=\"display: inline;\">](https://www.arpm.co/lab/redirect.php?code=S_AgnosticCorrPrior&codeLang=Python)\n",
    "For details, see [here](https://www.arpm.co/lab/redirect.php?permalink=UninfPrior)."
   ]
  },
  {
   "cell_type": "markdown",
   "metadata": {},
   "source": [
    "## Prepare the environment"
   ]
  },
  {
   "cell_type": "code",
   "execution_count": null,
   "metadata": {},
   "outputs": [],
   "source": [
    "import os\n",
    "import os.path as path\n",
    "import sys\n",
    "\n",
    "sys.path.append(path.abspath('../../functions-legacy'))\n",
    "from collections import namedtuple\n",
    "\n",
    "import numpy as np\n",
    "from numpy import ones, zeros, eye, round, log, tile\n",
    "from numpy import min as npmin\n",
    "from numpy.linalg import eig\n",
    "from numpy.random import rand\n",
    "\n",
    "import matplotlib.pyplot as plt\n",
    "from matplotlib.pyplot import figure, bar, title\n",
    "\n",
    "plt.style.use('seaborn')\n",
    "\n",
    "from ARPM_utils import save_plot\n",
    "from HistogramFP import HistogramFP\n",
    "\n",
    "# Initialize variables\n",
    "i_ = 3  # dimension of the correlation matirix\n",
    "k_ = int(i_ * (i_ - 1) / 2)  # number of upper non-diagonal entries\n",
    "j_ = 10000  # number of simulations"
   ]
  },
  {
   "cell_type": "markdown",
   "metadata": {},
   "source": [
    "## Compute correlations in scenarios"
   ]
  },
  {
   "cell_type": "code",
   "execution_count": null,
   "metadata": {},
   "outputs": [],
   "source": [
    "C2 = tile(eye(i_)[..., np.newaxis], (1, 1, j_))\n",
    "lam = zeros((i_, j_))\n",
    "Theta = zeros((k_, j_))\n",
    "\n",
    "j = 1\n",
    "while j < j_:\n",
    "    Theta_tilde = 2 * rand(k_, 1) - 1  # generate the uninformative correlations\n",
    "    k = 0\n",
    "    for i in range(i_):  # build the candidate matrix\n",
    "        for m in range(i + 1, i_):\n",
    "            C2[i, m, j] = Theta_tilde[k]\n",
    "            C2[m, i, j] = C2[i, m, j]\n",
    "            k = k + 1\n",
    "\n",
    "    lam[:, j], _ = eig(C2[:, :, j])  # compute eigenvalues to check positivity\n",
    "\n",
    "    if npmin(lam[:, j]) > 0:  # check positivity\n",
    "        Theta[:, [j]] = Theta_tilde  # store the correlations\n",
    "        j = j + 1"
   ]
  },
  {
   "cell_type": "markdown",
   "metadata": {},
   "source": [
    "## Create figures"
   ]
  },
  {
   "cell_type": "code",
   "execution_count": null,
   "metadata": {},
   "outputs": [],
   "source": [
    "# titles\n",
    "names = {}\n",
    "k = 0\n",
    "for i in range(1, i_ + 1):\n",
    "    for m in range(i + 1, i_ + 1):\n",
    "        names[k] = r'$\\Theta_{%d,%d}$' % (i, m)\n",
    "        k = k + 1\n",
    "\n",
    "# univariate marginals\n",
    "option = namedtuple('option', 'n_bins')\n",
    "option.n_bins = round(5 * log(j_))\n",
    "for k in range(k_):\n",
    "    figure()\n",
    "    p = ones((1, len(Theta[k, :]))) / len(Theta[k, :])\n",
    "    n, x = HistogramFP(Theta[[k], :], p, option)\n",
    "    b = bar(x[:-1], n.flatten(), width=0.95 * (x[1] - x[0]), facecolor=[.7, .7, .7], edgecolor=[1, 1, 1])\n",
    "    title('histogram of {name}'.format(name=names[k]));\n",
    "    # save_plot(ax=plt.gca(), extension='png', scriptname=os.path.basename('.')[:-3], count=plt.get_fignums()[-1])"
   ]
  }
 ],
 "metadata": {
  "jupytext": {
   "encoding": "# -*- coding: utf-8 -*-",
   "executable": "/usr/bin/env python3"
  },
  "kernelspec": {
   "display_name": "Python 3",
   "language": "python",
   "name": "python3"
  }
 },
 "nbformat": 4,
 "nbformat_minor": 4
}
