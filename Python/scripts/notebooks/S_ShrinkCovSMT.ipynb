{
 "cells": [
  {
   "cell_type": "markdown",
   "metadata": {},
   "source": [
    "# S_ShrinkCovSMT [<img src=\"https://www.arpm.co/lab/icons/icon_permalink.png\" width=30 height=30 style=\"display: inline;\">](https://www.arpm.co/lab/redirect.php?code=S_ShrinkCovSMT&codeLang=Python)\n",
    "For details, see [here](https://www.arpm.co/lab/redirect.php?permalink=SMTexe)."
   ]
  },
  {
   "cell_type": "markdown",
   "metadata": {},
   "source": [
    "## Prepare the environment"
   ]
  },
  {
   "cell_type": "code",
   "execution_count": null,
   "metadata": {},
   "outputs": [],
   "source": [
    "import os\n",
    "import os.path as path\n",
    "import sys\n",
    "\n",
    "sys.path.append(path.abspath('../../functions-legacy'))\n",
    "\n",
    "from numpy import std, mean, log, tile, cov, eye,min as npmin, max as npmax\n",
    "\n",
    "from scipy.io import loadmat\n",
    "\n",
    "import matplotlib.pyplot as plt\n",
    "from matplotlib.pyplot import figure, title, subplot, imshow, xticks, yticks\n",
    "\n",
    "plt.style.use('seaborn')\n",
    "\n",
    "from CONFIG import GLOBAL_DB, TEMPORARY_DB\n",
    "from SectorSelect import SectorSelect\n",
    "from ARPM_utils import struct_to_dict\n",
    "from SMTCovariance import SMTCovariance\n",
    "\n",
    "# initialize variables\n",
    "k_ = 20  # number of sparse rotations"
   ]
  },
  {
   "cell_type": "markdown",
   "metadata": {},
   "source": [
    "## Upload database"
   ]
  },
  {
   "cell_type": "code",
   "execution_count": null,
   "metadata": {},
   "outputs": [],
   "source": [
    "try:\n",
    "    db = loadmat(os.path.join(GLOBAL_DB, 'db_StocksS_P'), squeeze_me=True)\n",
    "except FileNotFoundError:\n",
    "    db = loadmat(os.path.join(TEMPORARY_DB, 'db_StocksS_P'), squeeze_me=True)\n",
    "\n",
    "Data = struct_to_dict(db['Data'])"
   ]
  },
  {
   "cell_type": "markdown",
   "metadata": {},
   "source": [
    "## Select the equities belonging to the Materials sector and compute their log returns"
   ]
  },
  {
   "cell_type": "code",
   "execution_count": null,
   "metadata": {},
   "outputs": [],
   "source": [
    "sectors = Data.Sectors\n",
    "index = SectorSelect[sectors, sectors[1]]\n",
    "i_ = len(index)\n",
    "v = Data.Prices[index,:]\n",
    "r = log(v[:, 1:] / v[:, :-1])\n",
    "t_ = r.shape[1]"
   ]
  },
  {
   "cell_type": "markdown",
   "metadata": {},
   "source": [
    "## Normalize the time series of log-returns"
   ]
  },
  {
   "cell_type": "code",
   "execution_count": null,
   "metadata": {},
   "outputs": [],
   "source": [
    "epsi = (r - tile(mean(r, 1,keepdims=True), (1, t_))) / tile(std(r, ddof=1, axis=1), (1, t_))  # normalized time series"
   ]
  },
  {
   "cell_type": "markdown",
   "metadata": {},
   "source": [
    "## Compute the sample covariance matrix from the normalized log-returns"
   ]
  },
  {
   "cell_type": "code",
   "execution_count": null,
   "metadata": {},
   "outputs": [],
   "source": [
    "sigma2 = cov(epsi, ddof=1)"
   ]
  },
  {
   "cell_type": "markdown",
   "metadata": {},
   "source": [
    "## Perform shrinkage"
   ]
  },
  {
   "cell_type": "code",
   "execution_count": null,
   "metadata": {},
   "outputs": [],
   "source": [
    "sigma2_SMT = SMTCovariance(sigma2, k_)"
   ]
  },
  {
   "cell_type": "markdown",
   "metadata": {},
   "source": [
    "## Create figure"
   ]
  },
  {
   "cell_type": "code",
   "execution_count": null,
   "metadata": {},
   "outputs": [],
   "source": [
    "figure()\n",
    "\n",
    "# gray_mod = gray\n",
    "max_corr = 0.7\n",
    "min_corr = npmin(sigma2_SMT)\n",
    "S = sigma2 - eye(i_)\n",
    "S[S > max_corr] = max_corr\n",
    "Corr = sigma2_SMT - eye(i_)\n",
    "Corr[Corr > max_corr] = max_corr\n",
    "# plot the sample correlation\n",
    "subplot(1, 2, 1)\n",
    "ytlabel = Data.Names[index,:]\n",
    "xt = i_ + 0.5\n",
    "\n",
    "imshow(S, [min_corr, max_corr])\n",
    "# colormap((gray_mod(end: -range(1),:)))\n",
    "title(['Correlation for sector ', Data.Sectors[1]], )\n",
    "xticks(range(i_))\n",
    "yticks(range(i_),ytlabel)\n",
    "plt.text(range(i_), tile(xt, (i_, 1)), Data.Names[index, :], horizontalalignment='right',rotation=90)\n",
    "# plot shrunk correlation\n",
    "subplot(1, 2, 2)\n",
    "ytlabel = Data.Names[index,:]\n",
    "xt = i_ + 0.5\n",
    "\n",
    "imshow(Corr, [min_corr, max_corr])\n",
    "title('Sparse Matrix Transformation estimate')\n",
    "xticks(range(i_))\n",
    "yticks(range(i_), ytlabel)\n",
    "plt.text(range(i_),tile(xt, (i_, 1)), Data.Names[index, :], horizontalalignment='right',rotation=90)\n",
    "# number of rotations\n",
    "D = 'N.of Sparse Rotations = %1.0f'%k_\n",
    "plt.text(8, -3.5, D, verticalalignment='Bottom',horizontalalignment='Left')"
   ]
  }
 ],
 "metadata": {
  "jupytext": {
   "encoding": "# -*- coding: utf-8 -*-",
   "executable": "/usr/bin/env python3"
  },
  "kernelspec": {
   "display_name": "Python 3",
   "language": "python",
   "name": "python3"
  }
 },
 "nbformat": 4,
 "nbformat_minor": 4
}
