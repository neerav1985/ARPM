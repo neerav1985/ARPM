{
 "cells": [
  {
   "cell_type": "markdown",
   "metadata": {},
   "source": [
    "# S_FPCopulaHistoricalComb [<img src=\"https://www.arpm.co/lab/icons/icon_permalink.png\" width=30 height=30 style=\"display: inline;\">](https://www.arpm.co/lab/redirect.php?code=S_FPCopulaHistoricalComb&codeLang=Python)\n",
    "For details, see [here](https://www.arpm.co/lab/redirect.php?permalink=eb-2-ex-cmacomb-hist)."
   ]
  },
  {
   "cell_type": "markdown",
   "metadata": {},
   "source": [
    "## Prepare the environment"
   ]
  },
  {
   "cell_type": "code",
   "execution_count": null,
   "metadata": {},
   "outputs": [],
   "source": [
    "import os.path as path\n",
    "import sys\n",
    "\n",
    "sys.path.append(path.abspath('../../functions-legacy'))\n",
    "\n",
    "from numpy import array, ones, zeros, linspace\n",
    "\n",
    "from scipy.interpolate import interp1d\n",
    "\n",
    "import matplotlib.pyplot as plt\n",
    "\n",
    "plt.style.use('seaborn')\n",
    "\n",
    "from CopMargComb import CopMargComb\n",
    "from CopMargSep import CopMargSep\n",
    "\n",
    "# historical marginal scenarios\n",
    "Y = array([[-0.08, -0.04, -0.05, 0.09], [0.01, 0.05, -0.01, 0.03]])\n",
    "n_, j_ = Y.shape\n",
    "pj = ones((1, j_)) / j_  # flat Flexible probabilities\n",
    "\n",
    "# joint scenarios of the grades\n",
    "U = array([[0.96, 0.50, 0.80, 0.14, 0.42, 0.92], [0.79, 0.96, 0.66, 0.04, 0.85, 0.93]])"
   ]
  },
  {
   "cell_type": "markdown",
   "metadata": {},
   "source": [
    "## Deduce the ordered grid associated with the historical scenarios R"
   ]
  },
  {
   "cell_type": "code",
   "execution_count": null,
   "metadata": {},
   "outputs": [],
   "source": [
    "y_, u_,_ = CopMargSep(Y, pj)"
   ]
  },
  {
   "cell_type": "markdown",
   "metadata": {},
   "source": [
    "## Compute the grid of significant evaluation nodes and cdf grid"
   ]
  },
  {
   "cell_type": "code",
   "execution_count": null,
   "metadata": {},
   "outputs": [],
   "source": [
    "eta = 0.06\n",
    "k_ = 6\n",
    "\n",
    "y = zeros((n_, k_))\n",
    "u = zeros((n_, k_))\n",
    "for n in range(n_):\n",
    "    interp = interp1d(u_[n,:], y_[n,:],fill_value='extrapolate')\n",
    "    a = interp(eta)  # lower quantile\n",
    "    b = interp(1 - eta)  # upper quantile\n",
    "    y[n,:] = linspace(a, b, k_)\n",
    "    interp = interp1d(y_[n,:], u_[n,:],fill_value='extrapolate')\n",
    "    u[n,:] = interp(y[n,:])"
   ]
  },
  {
   "cell_type": "markdown",
   "metadata": {},
   "source": [
    "## Compute the joint scenarios through the CMA (combination) routine"
   ]
  },
  {
   "cell_type": "code",
   "execution_count": null,
   "metadata": {},
   "outputs": [],
   "source": [
    "X = CopMargComb(y, u, U)"
   ]
  }
 ],
 "metadata": {
  "jupytext": {
   "encoding": "# -*- coding: utf-8 -*-",
   "executable": "/usr/bin/env python3"
  },
  "kernelspec": {
   "display_name": "Python 3",
   "language": "python",
   "name": "python3"
  }
 },
 "nbformat": 4,
 "nbformat_minor": 4
}
