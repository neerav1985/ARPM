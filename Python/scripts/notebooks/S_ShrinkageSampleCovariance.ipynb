{
 "cells": [
  {
   "cell_type": "markdown",
   "metadata": {},
   "source": [
    "# S_ShrinkageSampleCovariance [<img src=\"https://www.arpm.co/lab/icons/icon_permalink.png\" width=30 height=30 style=\"display: inline;\">](https://www.arpm.co/lab/redirect.php?code=S_ShrinkageSampleCovariance&codeLang=Python)\n",
    "For details, see [here](https://www.arpm.co/lab/redirect.php?permalink=ExerShrinkEstScatter)."
   ]
  },
  {
   "cell_type": "markdown",
   "metadata": {},
   "source": [
    "## Prepare the environment"
   ]
  },
  {
   "cell_type": "code",
   "execution_count": null,
   "metadata": {},
   "outputs": [],
   "source": [
    "import os.path as path\n",
    "import sys\n",
    "\n",
    "from numpy import minimum, maximum\n",
    "from scipy.io import loadmat\n",
    "\n",
    "sys.path.append(path.abspath('../../functions-legacy'))\n",
    "\n",
    "from numpy import trace, cov, eye\n",
    "from numpy.random import rand\n",
    "from numpy.random import multivariate_normal as mvnrnd\n",
    "\n",
    "from scipy.stats import t\n",
    "\n",
    "import matplotlib.pyplot as plt\n",
    "\n",
    "plt.style.use('seaborn')\n",
    "\n",
    "# initialize variables\n",
    "\n",
    "i_ = 5\n",
    "t_ = 30\n",
    "mu = rand(i_, 1)\n",
    "l = rand(i_, i_) - 0.5\n",
    "sigma2 = l@l.T"
   ]
  },
  {
   "cell_type": "markdown",
   "metadata": {},
   "source": [
    "## Generate normal sample"
   ]
  },
  {
   "cell_type": "code",
   "execution_count": null,
   "metadata": {},
   "outputs": [],
   "source": [
    "Epsi = mvnrnd(mu.flatten(), sigma2, t_).T"
   ]
  },
  {
   "cell_type": "markdown",
   "metadata": {},
   "source": [
    "## Estimate sample covariance"
   ]
  },
  {
   "cell_type": "code",
   "execution_count": null,
   "metadata": {},
   "outputs": [],
   "source": [
    "# mu_hat = mean(Epsi,2)\n",
    "sigma2_hat = cov(Epsi, ddof=0)"
   ]
  },
  {
   "cell_type": "markdown",
   "metadata": {},
   "source": [
    "## Perform shrinkage of dispersion parameter"
   ]
  },
  {
   "cell_type": "code",
   "execution_count": null,
   "metadata": {},
   "outputs": [],
   "source": [
    "# target\n",
    "sigma_target = trace(sigma2_hat)/i_*eye(i_)\n",
    "\n",
    "# compute optimal weight\n",
    "num = 0\n",
    "for t in range(t_):\n",
    "    num += trace((Epsi[:,[t]]@(Epsi[:, [t]].T) - sigma2_hat)@(Epsi[:,[t]]@(Epsi[:, [t]].T) - sigma2_hat)) / t_\n",
    "\n",
    "den = trace((sigma2_hat - sigma_target)@(sigma2_hat - sigma_target))\n",
    "gamma = num / (t_*den)\n",
    "# restrict to sensible weight\n",
    "gamma = maximum(0, minimum(gamma, 1))\n",
    "\n",
    "# shrink\n",
    "sigma2_c = gamma*sigma_target + (1 - gamma)*sigma2_hat"
   ]
  },
  {
   "cell_type": "markdown",
   "metadata": {},
   "source": [
    "## Show results"
   ]
  },
  {
   "cell_type": "code",
   "execution_count": null,
   "metadata": {},
   "outputs": [],
   "source": [
    "print('shrinkage confidence: ',gamma)\n",
    "print('sample covariance estimator: ',sigma2_hat)\n",
    "print('shrinkage estimator: ',sigma2_c)"
   ]
  }
 ],
 "metadata": {
  "jupytext": {
   "encoding": "# -*- coding: utf-8 -*-",
   "executable": "/usr/bin/env python3"
  },
  "kernelspec": {
   "display_name": "Python 3",
   "language": "python",
   "name": "python3"
  }
 },
 "nbformat": 4,
 "nbformat_minor": 4
}
