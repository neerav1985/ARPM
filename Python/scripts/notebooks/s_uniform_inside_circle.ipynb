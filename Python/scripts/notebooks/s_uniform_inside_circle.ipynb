{
 "cells": [
  {
   "cell_type": "markdown",
   "metadata": {},
   "source": [
    "# s_uniform_inside_circle [<img src=\"https://www.arpm.co/lab/icons/icon_permalink.png\" width=30 height=30 style=\"display: inline;\">](https://www.arpm.co/lab/redirect.php?code=s_uniform_inside_circle&codeLang=Python)\n",
    "For details, see [here](https://www.arpm.co/lab/redirect.php?permalink=ExUnifCircleBivariate)."
   ]
  },
  {
   "cell_type": "code",
   "execution_count": null,
   "metadata": {},
   "outputs": [],
   "source": [
    "import numpy as np\n",
    "import matplotlib.pyplot as plt\n",
    "from mpl_toolkits.mplot3d import Axes3D\n",
    "from mpl_toolkits import mplot3d\n",
    "from matplotlib import cm\n",
    "from matplotlib.collections import PolyCollection\n",
    "\n",
    "from arpym.tools.logo import add_logo"
   ]
  },
  {
   "cell_type": "markdown",
   "metadata": {},
   "source": [
    "## [Input parameters](https://www.arpm.co/lab/redirect.php?permalink=s_uniform_inside_circle-parameters)"
   ]
  },
  {
   "cell_type": "code",
   "execution_count": null,
   "metadata": {},
   "outputs": [],
   "source": [
    "k_ = 200  # number evaluation points for each axis\n",
    "x1_cond = 0.9  # conditioning value of X1 used to define conditional pdf"
   ]
  },
  {
   "cell_type": "markdown",
   "metadata": {},
   "source": [
    "## [Step 1](https://www.arpm.co/lab/redirect.php?permalink=s_uniform_inside_circle-implementation-step01): Compute joint pdf"
   ]
  },
  {
   "cell_type": "code",
   "execution_count": null,
   "metadata": {},
   "outputs": [],
   "source": [
    "# define points at which to evaluate pdfs\n",
    "x_1 = np.linspace(-1.1, 1.1, k_)\n",
    "x_2 = np.linspace(-1.1, 1.1, k_)\n",
    "x1_grid, x2_grid = np.meshgrid(x_1, x_2)\n",
    "x_grid = np.stack([x1_grid, x2_grid], axis=2)\n",
    "\n",
    "# indicator function\n",
    "def indicator_joint(x_1, x_2):\n",
    "    return (x_1**2 + x_2**2 <= 1)\n",
    "\n",
    "# compute joint pdf\n",
    "f_x1x2 = (1/np.pi)*indicator_joint(x_grid[:, :, 0], x_grid[:, :, 1])"
   ]
  },
  {
   "cell_type": "markdown",
   "metadata": {},
   "source": [
    "## [Step 2](https://www.arpm.co/lab/redirect.php?permalink=s_uniform_inside_circle-implementation-step02): Compute conditional pdf"
   ]
  },
  {
   "cell_type": "code",
   "execution_count": null,
   "metadata": {},
   "outputs": [],
   "source": [
    "# indicator function\n",
    "def indicator_cond(x1_cond, x_2):\n",
    "    return (x_2**2 <= 1-x1_cond**2)\n",
    "\n",
    "# compute conditional pdf\n",
    "f_x2_given_x1 = (1/(2*np.sqrt(1-x1_cond**2)))*indicator_cond(x1_cond, x_2)"
   ]
  },
  {
   "cell_type": "markdown",
   "metadata": {},
   "source": [
    "## [Step 3](https://www.arpm.co/lab/redirect.php?permalink=s_uniform_inside_circle-implementation-step03): Compute marginal pdf"
   ]
  },
  {
   "cell_type": "code",
   "execution_count": null,
   "metadata": {},
   "outputs": [],
   "source": [
    "# compute marginal pdf\n",
    "f_x1 = np.zeros(k_)\n",
    "for k in range(k_):\n",
    "    if x_1[k]**2 <= 1:\n",
    "        f_x1[k] = (2/np.pi)*np.sqrt(1-x_1[k]**2)"
   ]
  },
  {
   "cell_type": "markdown",
   "metadata": {},
   "source": [
    "## Plots"
   ]
  },
  {
   "cell_type": "code",
   "execution_count": null,
   "metadata": {},
   "outputs": [],
   "source": [
    "plt.style.use('arpm')\n",
    "\n",
    "fig1 = plt.figure()\n",
    "ax1 = fig1.add_subplot(1, 1, 1, projection='3d')\n",
    "\n",
    "# joint pdf\n",
    "ax1.plot_surface(x1_grid, x2_grid, f_x1x2,\n",
    "                 rcount=200, ccount=200,\n",
    "                 color='white', linewidth=0, alpha=0.5)\n",
    "\n",
    "# intersection with plane x_1=x1_cond\n",
    "verts2 = [[(-np.sqrt(1-x1_cond**2), 0),\n",
    "           (-np.sqrt(1-x1_cond**2), np.max(f_x1x2)),\n",
    "           (np.sqrt(1-x1_cond**2), np.max(f_x1x2)),\n",
    "           (np.sqrt(1-x1_cond**2), 0)\n",
    "          ]]\n",
    "poly2 = PolyCollection(verts2)\n",
    "poly2.set_alpha(0.5)\n",
    "ax1.add_collection3d(poly2, zs=x1_cond, zdir='x')\n",
    "\n",
    "ax1.plot([x1_cond, x1_cond], [-1.3, 1.3], 0, zdir='z')\n",
    "ax1.plot([x1_cond, x1_cond], [-np.sqrt(1-x1_cond**2), np.sqrt(1-x1_cond**2)],\n",
    "         np.max(f_x1x2), zdir='z')\n",
    "\n",
    "ax1.set_xlim(-1.3, 1.3)\n",
    "ax1.set_xlabel(r'$x_1$', fontsize=17, labelpad=10)\n",
    "ax1.set_ylim(-1.3, 1.3)\n",
    "ax1.set_ylabel(r'$x_2$', fontsize=17, labelpad=8)\n",
    "ax1.set_zlim(0, np.max(f_x1x2)*1.3)\n",
    "\n",
    "# add plane of intersection defining conditional pdf\n",
    "add_logo(fig1)\n",
    "plt.tight_layout()\n",
    "\n",
    "# conditional pdf\n",
    "fig2 = plt.figure()\n",
    "ax2 = plt.gca()\n",
    "ax2.fill_between(x_2, 0, f_x2_given_x1, where=f_x2_given_x1>0,\n",
    "                 alpha=0.5)\n",
    "plt.vlines([x_2[np.argmax(f_x2_given_x1)], x_2[-np.argmax(f_x2_given_x1)-1]],\n",
    "           0, np.max(f_x2_given_x1),\n",
    "           color='C0', linewidth=2)\n",
    "plt.hlines(np.max(f_x2_given_x1), x_2[np.argmax(f_x2_given_x1)],\n",
    "           x_2[-np.argmax(f_x2_given_x1)-1],\n",
    "           color='C0', linewidth=2)\n",
    "plt.vlines(0, 0, np.max(f_x2_given_x1)*1.1, color='black', linewidth=0.5)\n",
    "\n",
    "plt.xlim(-1.3, 1.3)\n",
    "plt.ylim(0, np.max(f_x2_given_x1)*1.1)\n",
    "plt.xticks(fontsize=14)\n",
    "plt.yticks(fontsize=14)\n",
    "plt.xlabel(r'$x_2$', fontsize=17)\n",
    "plt.ylabel(r'$f_{X_2|x_1}(x_2)$',\n",
    "          fontsize=17)\n",
    "plt.title(r'Conditional pdf of $X_2|X_1='+str(x1_cond)+r'}$',\n",
    "          fontsize=20, fontweight='bold')\n",
    "add_logo(fig2, location=1)\n",
    "plt.tight_layout()\n",
    "\n",
    "# marginal pdf\n",
    "fig3 = plt.figure()\n",
    "ax3 = plt.gca()\n",
    "ax3.plot(x_1, f_x1, color='C0', linewidth=2)\n",
    "ax3.fill_between(x_1, 0, f_x1, interpolate=True,\n",
    "                 alpha=0.5)\n",
    "\n",
    "plt.xlim(-1.3, 1.3)\n",
    "plt.ylim(0, 1.0)\n",
    "plt.vlines(0, 0, 1.1, color='black', linewidth=0.5)\n",
    "plt.xticks(fontsize=14)\n",
    "plt.yticks(fontsize=14)\n",
    "plt.xlabel(r'$x_1$', fontsize=17)\n",
    "plt.ylabel(r'$f_{X_1}(x_1)$', fontsize=17)\n",
    "plt.title(r'Marginal pdf of $X_1}$',\n",
    "          fontsize=20, fontweight='bold')\n",
    "\n",
    "add_logo(fig3, location=1)\n",
    "plt.tight_layout()"
   ]
  }
 ],
 "metadata": {
  "jupytext": {
   "encoding": "# -*- coding: utf-8 -*-",
   "executable": "/usr/bin/env python3"
  },
  "kernelspec": {
   "display_name": "Python 3",
   "language": "python",
   "name": "python3"
  }
 },
 "nbformat": 4,
 "nbformat_minor": 4
}
