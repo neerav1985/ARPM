{
 "cells": [
  {
   "cell_type": "markdown",
   "metadata": {},
   "source": [
    "# s_rating_migrations [<img src=\"https://www.arpm.co/lab/icons/icon_permalink.png\" width=30 height=30 style=\"display: inline;\">](https://www.arpm.co/lab/redirect.php?code=s_rating_migrations&codeLang=Python)\n",
    "For details, see [here](https://www.arpm.co/lab/redirect.php?permalink=eb-rating-migrations)."
   ]
  },
  {
   "cell_type": "code",
   "execution_count": null,
   "metadata": {},
   "outputs": [],
   "source": [
    "import numpy as np\n",
    "import pandas as pd\n",
    "import matplotlib.pyplot as plt\n",
    "from mpl_toolkits.mplot3d import Axes3D\n",
    "\n",
    "from arpym.tools.aggregate_rating_migrations import aggregate_rating_migrations\n",
    "from arpym.tools.logo import add_logo"
   ]
  },
  {
   "cell_type": "markdown",
   "metadata": {},
   "source": [
    "## [Input parameters](https://www.arpm.co/lab/redirect.php?permalink=s_rating_migrations-parameters)"
   ]
  },
  {
   "cell_type": "code",
   "execution_count": null,
   "metadata": {},
   "outputs": [],
   "source": [
    "# start of period for aggregate credit risk drivers\n",
    "tfirst_credit = np.datetime64('1995-01-01')\n",
    "# end of period for aggregate credit risk drivers\n",
    "tlast_credit = np.datetime64('2004-12-31')"
   ]
  },
  {
   "cell_type": "markdown",
   "metadata": {},
   "source": [
    "## [Step 0](https://www.arpm.co/lab/redirect.php?permalink=s_rating_migrations-implementation-step00): Import data"
   ]
  },
  {
   "cell_type": "code",
   "execution_count": null,
   "metadata": {},
   "outputs": [],
   "source": [
    "# ratings\n",
    "rating_path = '~/databases/global-databases/credit/db_ratings/'\n",
    "db_ratings = pd.read_csv(rating_path+'data.csv', parse_dates=['date'])\n",
    "# ratings_param represents all possible ratings i.e. AAA, AA, etc.\n",
    "ratings_param = pd.read_csv(rating_path+'params.csv', index_col=0)\n",
    "ratings_param = np.array(ratings_param.index)"
   ]
  },
  {
   "cell_type": "markdown",
   "metadata": {},
   "source": [
    "## [Step 1](https://www.arpm.co/lab/redirect.php?permalink=s_rating_migrations-implementation-step01): Extract aggregate credit risk drivers"
   ]
  },
  {
   "cell_type": "code",
   "execution_count": null,
   "metadata": {},
   "outputs": [],
   "source": [
    "dates, n_obligors, n_cum_trans, _, n_tot, _ = \\\n",
    "    aggregate_rating_migrations(db_ratings, ratings_param, tfirst_credit,\n",
    "                                tlast_credit)"
   ]
  },
  {
   "cell_type": "markdown",
   "metadata": {},
   "source": [
    "## [Step 2](https://www.arpm.co/lab/redirect.php?permalink=s_rating_migrations-implementation-step02): Save databases"
   ]
  },
  {
   "cell_type": "code",
   "execution_count": null,
   "metadata": {},
   "outputs": [],
   "source": [
    "path = '~/databases/temporary-databases/'\n",
    "\n",
    "a, b = np.meshgrid(ratings_param, ratings_param)\n",
    "col = ratings_param.tolist()\n",
    "col = col + list(zip(a.reshape(-1),b.reshape(-1)))\n",
    "out = pd.DataFrame(np.c_[n_obligors,\n",
    "                         n_cum_trans.reshape(dates.shape[0],\n",
    "                                             n_cum_trans.shape[1]*n_cum_trans.shape[2])],\n",
    "                  index=dates, columns=col)\n",
    "out.to_csv(path+'db_credit_rd.csv')\n",
    "del out"
   ]
  },
  {
   "cell_type": "markdown",
   "metadata": {},
   "source": [
    "## Plots"
   ]
  },
  {
   "cell_type": "code",
   "execution_count": null,
   "metadata": {},
   "outputs": [],
   "source": [
    "# plot 1\n",
    "\n",
    "fig = plt.figure()\n",
    "ax = fig.add_subplot(111, projection='3d')\n",
    "# ax.view_init(-42, 28)\n",
    "n_plot = n_cum_trans[-1]\n",
    "nx, ny = n_plot.shape\n",
    "xpos,ypos = np.meshgrid(np.arange(nx), np.arange(ny))\n",
    "xpos = xpos.flatten('F')\n",
    "ypos = ypos.flatten('F')\n",
    "xpos = xpos - 0.2\n",
    "ypos = ypos - 0.5\n",
    "zpos = np.zeros_like(xpos)\n",
    "# Construct arrays with the dimensions for the 16 bars.\n",
    "dx = 0.5 * np.ones_like(zpos)\n",
    "dy = dx.copy()\n",
    "dz = n_plot.flatten()\n",
    "ax.bar3d(xpos,ypos,zpos, dx,dy,dz,cmap='gray')  # width = 0.5\n",
    "ax.set_title('Cumulative number of transitions')\n",
    "ax.set_xlabel('From',labelpad=20)\n",
    "ax.set_ylabel('To',labelpad=20)\n",
    "ax.set_xlim([-1, 8])\n",
    "ax.set_ylim([-1, 8])\n",
    "ax.set_zlim([0, np.max(n_cum_trans[-1])])\n",
    "plt.yticks(np.arange(8),[ratings_param[i] for i in range(8)], size='small')\n",
    "plt.xticks(np.arange(8),[ratings_param[i] for i in range(8)], size='small')\n",
    "plt.tight_layout();\n",
    "\n",
    "# plot 2\n",
    "f2, ax2 = plt.subplots(1, 1)\n",
    "ax2.plot(dates, n_tot, '-b')\n",
    "ax2.set_xlim([min(dates), max(dates)])\n",
    "ax2.set_ylim([0, n_tot[-1]])\n",
    "ax2.set_title('Total number of transitions: {transitions:.0f}'.format(transitions=n_tot[-1]));"
   ]
  }
 ],
 "metadata": {
  "jupytext": {
   "encoding": "# -*- coding: utf-8 -*-",
   "executable": "/usr/bin/env python3"
  },
  "kernelspec": {
   "display_name": "Python 3",
   "language": "python",
   "name": "python3"
  }
 },
 "nbformat": 4,
 "nbformat_minor": 4
}
