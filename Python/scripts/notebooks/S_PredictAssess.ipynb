{
 "cells": [
  {
   "cell_type": "markdown",
   "metadata": {},
   "source": [
    "# S_PredictAssess [<img src=\"https://www.arpm.co/lab/icons/icon_permalink.png\" width=30 height=30 style=\"display: inline;\">](https://www.arpm.co/lab/redirect.php?code=S_PredictAssess&codeLang=Python)\n",
    "For details, see [here](https://www.arpm.co/lab/redirect.php?permalink=eb-predictor-assess)."
   ]
  },
  {
   "cell_type": "markdown",
   "metadata": {},
   "source": [
    "## Prepare the environment"
   ]
  },
  {
   "cell_type": "code",
   "execution_count": null,
   "metadata": {},
   "outputs": [],
   "source": [
    "import os.path as path\n",
    "import sys\n",
    "\n",
    "sys.path.append(path.abspath('../../functions-legacy'))\n",
    "\n",
    "import numpy as np\n",
    "from numpy import arange, ones, zeros, mean, sqrt\n",
    "from numpy.random import randint, permutation\n",
    "\n",
    "from scipy.stats import norm\n",
    "\n",
    "import matplotlib.pyplot as plt\n",
    "\n",
    "plt.style.use('seaborn')\n",
    "\n",
    "from OrdLeastSquareFPNReg import OrdLeastSquareFPNReg\n",
    "from RelEntropyMultivariateNormal import RelEntropyMultivariateNormal\n",
    "\n",
    "# input parameters\n",
    "t_ = 1000  # len of time series\n",
    "beta = 1  # real value of beta\n",
    "alpha = 0  # real value of alpha\n",
    "sigma2 = 4  # real value of sigma\n",
    "lsub = 200  # len of sub-samples"
   ]
  },
  {
   "cell_type": "markdown",
   "metadata": {},
   "source": [
    "## Generate simulations of factor"
   ]
  },
  {
   "cell_type": "code",
   "execution_count": null,
   "metadata": {},
   "outputs": [],
   "source": [
    "Z = norm.rvs(0, 1, [1, t_])"
   ]
  },
  {
   "cell_type": "markdown",
   "metadata": {},
   "source": [
    "## Generate time series of residuals"
   ]
  },
  {
   "cell_type": "code",
   "execution_count": null,
   "metadata": {},
   "outputs": [],
   "source": [
    "U = norm.rvs(0, sqrt(sigma2), [1, t_])"
   ]
  },
  {
   "cell_type": "markdown",
   "metadata": {},
   "source": [
    "## Compute simulations of target variable and time series"
   ]
  },
  {
   "cell_type": "code",
   "execution_count": null,
   "metadata": {},
   "outputs": [],
   "source": [
    "I = U + alpha + beta*Z"
   ]
  },
  {
   "cell_type": "markdown",
   "metadata": {},
   "source": [
    "## Reshuffle the training set"
   ]
  },
  {
   "cell_type": "code",
   "execution_count": null,
   "metadata": {},
   "outputs": [],
   "source": [
    "perm = permutation(arange(t_))\n",
    "I_perm = I[0,perm].reshape(1,-1)\n",
    "Z_perm = Z[0,perm].reshape(1,-1)\n",
    "\n",
    "# number of samples\n",
    "k_ = int(t_ / lsub)\n",
    "\n",
    "MLobj = zeros((1, k_))\n",
    "NonSobj = zeros((1, k_))\n",
    "t_vec = range(t_)\n",
    "for m in range(k_):\n",
    "    t_in = arange(m*lsub, (m + 1)*lsub)  # in-sample observations\n",
    "    t_out = np.setdiff1d(t_vec, t_in)  # out-of-sample observations\n",
    "    # extract sub-samples\n",
    "    I_in = I_perm[0,t_in].reshape(1,-1)\n",
    "    I_out = I_perm[0,t_out].reshape(1,-1)\n",
    "\n",
    "    Z_in = Z_perm[0,t_in].reshape(1,-1)\n",
    "    Z_out = Z_perm[0,t_out].reshape(1,-1)\n",
    "\n",
    "    # set flat flexible probabilities\n",
    "    sub_t = I_in.shape[1]\n",
    "    p = ones((1, sub_t)) / sub_t\n",
    "\n",
    "    csub_t = I_out.shape[1]\n",
    "    c_p = ones((1, csub_t)) / csub_t\n",
    "\n",
    "    # maximum likelihood predictor\n",
    "    alpha_OLSFP, beta_OLSFP, s2_OLSFP,_ = OrdLeastSquareFPNReg(I_in, Z_in, p)\n",
    "    c_alpha_OLSFP, c_beta_OLSFP, c_s2_OLSFP,_= OrdLeastSquareFPNReg(I_out, Z_out, c_p)\n",
    "\n",
    "    mu = alpha_OLSFP + beta_OLSFP*Z[0,-1]\n",
    "    c_mu = c_alpha_OLSFP + c_beta_OLSFP*Z[0,-1]\n",
    "\n",
    "    MLobj[0,m] = RelEntropyMultivariateNormal(mu, s2_OLSFP, c_mu, c_s2_OLSFP)\n",
    "\n",
    "    # nonsensical predictor\n",
    "    alpha_cap = 0\n",
    "    beta_cap = I_in[0,-1]*Z_in[0,0]\n",
    "    sigma2_cap = I_in[0,-1]**2*I_in[0,0] ** 2\n",
    "\n",
    "    c_alpha_cap = 0\n",
    "    c_beta_cap = I_out[0,-1]*Z_out[0,0]\n",
    "    c_sigma2_cap = I_out[0,-1] ** 2*I_out[0,0] ** 2\n",
    "\n",
    "    mu = alpha_cap + beta_cap*Z[0,-1]\n",
    "    c_mu = c_alpha_cap + c_beta_cap*Z[0,-1]\n",
    "\n",
    "    NonSobj[0,m] = RelEntropyMultivariateNormal(np.atleast_1d(mu), np.atleast_2d(sigma2_cap), np.atleast_1d(c_mu),\n",
    "                                                np.atleast_2d(c_sigma2_cap))\n",
    "\n",
    "vML = mean(MLobj)\n",
    "vNonS = mean(NonSobj)"
   ]
  }
 ],
 "metadata": {
  "jupytext": {
   "encoding": "# -*- coding: utf-8 -*-",
   "executable": "/usr/bin/env python3"
  },
  "kernelspec": {
   "display_name": "Python 3",
   "language": "python",
   "name": "python3"
  }
 },
 "nbformat": 4,
 "nbformat_minor": 4
}
