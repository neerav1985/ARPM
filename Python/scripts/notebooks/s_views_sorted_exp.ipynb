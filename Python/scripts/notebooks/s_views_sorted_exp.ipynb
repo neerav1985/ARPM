{
 "cells": [
  {
   "cell_type": "markdown",
   "metadata": {},
   "source": [
    "# s_views_sorted_exp [<img src=\"https://www.arpm.co/lab/icons/icon_permalink.png\" width=30 height=30 style=\"display: inline;\">](https://www.arpm.co/lab/redirect.php?code=s_views_sorted_exp&codeLang=Python)\n",
    "For details, see [here](https://www.arpm.co/lab/redirect.php?permalink=eb-example-fpviews-ranking)."
   ]
  },
  {
   "cell_type": "code",
   "execution_count": null,
   "metadata": {},
   "outputs": [],
   "source": [
    "import numpy as np\n",
    "\n",
    "from arpym.views.min_rel_entropy_sp import min_rel_entropy_sp"
   ]
  },
  {
   "cell_type": "markdown",
   "metadata": {},
   "source": [
    "## [Input parameters](https://www.arpm.co/lab/redirect.php?permalink=s_views_sorted_exp-parameters)"
   ]
  },
  {
   "cell_type": "code",
   "execution_count": null,
   "metadata": {},
   "outputs": [],
   "source": [
    "# scenarios of market variables\n",
    "x = np.array([[0.2, 1.7, 2, 3.4], [5, 3.4, -1.3, 1]]).T\n",
    "mu_view = np.array([0])\n",
    "p_base = np.ones(x.shape[0]) / x.shape[0]  # base flexible probabilities\n",
    "v = np.array([1, - 1])\n",
    "c = 0.2  # confidence level"
   ]
  },
  {
   "cell_type": "markdown",
   "metadata": {},
   "source": [
    "## [Step 1](https://www.arpm.co/lab/redirect.php?permalink=s_views_sorted_exp-implementation-step01): Compute parameters specifying the inequality constraints"
   ]
  },
  {
   "cell_type": "code",
   "execution_count": null,
   "metadata": {},
   "outputs": [],
   "source": [
    "z_ineq = (x @ v).reshape(1, x.shape[0])\n",
    "mu_view_ineq = mu_view\n",
    "\n",
    "exp_v = p_base @ x[:, ]"
   ]
  },
  {
   "cell_type": "markdown",
   "metadata": {},
   "source": [
    "## [Step 2](https://www.arpm.co/lab/redirect.php?permalink=s_views_sorted_exp-implementation-step02): Compute updated probabilities"
   ]
  },
  {
   "cell_type": "code",
   "execution_count": null,
   "metadata": {},
   "outputs": [],
   "source": [
    "p_upd = min_rel_entropy_sp(p_base, z_ineq, mu_view_ineq, None, None,\n",
    "                           normalize=False)"
   ]
  },
  {
   "cell_type": "markdown",
   "metadata": {},
   "source": [
    "## [Step 3](https://www.arpm.co/lab/redirect.php?permalink=s_views_sorted_exp-implementation-step03): Compute additive/multiplicative confidence-weighted probabilities"
   ]
  },
  {
   "cell_type": "code",
   "execution_count": null,
   "metadata": {},
   "outputs": [],
   "source": [
    "p_c_add = c * p_upd + (1 - c) * p_base\n",
    "p_c_mul = p_upd ** c * p_base ** (1 - c) /\\\n",
    "    np.sum(p_upd ** c * p_base ** (1 - c))"
   ]
  }
 ],
 "metadata": {
  "jupytext": {
   "encoding": "# -*- coding: utf-8 -*-",
   "executable": "/usr/bin/env python3"
  },
  "kernelspec": {
   "display_name": "Python 3",
   "language": "python",
   "name": "python3"
  }
 },
 "nbformat": 4,
 "nbformat_minor": 4
}
