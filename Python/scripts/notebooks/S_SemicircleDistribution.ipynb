{
 "cells": [
  {
   "cell_type": "markdown",
   "metadata": {},
   "source": [
    "# S_SemicircleDistribution [<img src=\"https://www.arpm.co/lab/icons/icon_permalink.png\" width=30 height=30 style=\"display: inline;\">](https://www.arpm.co/lab/redirect.php?code=S_SemicircleDistribution&codeLang=Python)\n",
    "For details, see [here](https://www.arpm.co/lab/redirect.php?permalink=ExerRandomMatrix)."
   ]
  },
  {
   "cell_type": "markdown",
   "metadata": {},
   "source": [
    "## Prepare the environment"
   ]
  },
  {
   "cell_type": "code",
   "execution_count": null,
   "metadata": {},
   "outputs": [],
   "source": [
    "import os\n",
    "import os.path as path\n",
    "import sys\n",
    "\n",
    "sys.path.append(path.abspath('../../functions-legacy'))\n",
    "from collections import namedtuple\n",
    "\n",
    "from numpy import arange, ones, pi, ceil, log, exp, sqrt, linspace\n",
    "from numpy.linalg import eig, eigvals\n",
    "from numpy.random import rand, randn\n",
    "\n",
    "from scipy.stats import expon, lognorm\n",
    "\n",
    "import matplotlib.pyplot as plt\n",
    "from matplotlib.pyplot import figure, plot, bar, legend, title\n",
    "\n",
    "plt.style.use('seaborn')\n",
    "\n",
    "from ARPM_utils import save_plot\n",
    "from HistogramFP import HistogramFP\n",
    "\n",
    "# initialize variables\n",
    "i_ = 1000  # matrix size"
   ]
  },
  {
   "cell_type": "markdown",
   "metadata": {},
   "source": [
    "## Generate matrix Y"
   ]
  },
  {
   "cell_type": "code",
   "execution_count": null,
   "metadata": {},
   "outputs": [],
   "source": [
    "X_1 = randn(i_,i_)  # standard normal invariants\n",
    "Y_1 = (X_1 + X_1.T) / (2*sqrt(2*i_))\n",
    "X_2 = expon.rvs(scale=1, size=(i_,i_)) - 1  # exponential invariants\n",
    "Y_2 = (X_2 + X_2.T) / (2*sqrt(2*i_))\n",
    "X_3 = (rand(i_,i_) - 0.5)*sqrt(12)  # uniform invariants\n",
    "Y_3 = (X_3 + X_3.T) / (2*sqrt(2*i_))\n",
    "X_4 = (lognorm.rvs(1, scale=1, size=(i_,i_))- exp(0.5)) / sqrt(exp(2) - exp(1))  # log-normal distribution\n",
    "Y_4 = (X_4 + X_4.T) / (2*sqrt(2*i_))"
   ]
  },
  {
   "cell_type": "markdown",
   "metadata": {},
   "source": [
    "## Compute the sample eigenvalues and the corresponding normalized histograms"
   ]
  },
  {
   "cell_type": "code",
   "execution_count": null,
   "metadata": {},
   "outputs": [],
   "source": [
    "nbins = int(ceil(10*log(i_)))\n",
    "option = namedtuple('option', 'n_bins')\n",
    "\n",
    "option.n_bins = nbins\n",
    "\n",
    "# standard normal\n",
    "Lambda2_1 = eigvals(Y_1)\n",
    "p_flat = ones((1, len(Lambda2_1))) / len(Lambda2_1)\n",
    "hgram_1, x_1 = HistogramFP(Lambda2_1.reshape(1,-1), p_flat, option)\n",
    "# exponential\n",
    "Lambda2_2 = eigvals(Y_2)\n",
    "hgram_2, x_2 = HistogramFP(Lambda2_2.reshape(1,-1), p_flat, option)\n",
    "# uniform\n",
    "Lambda2_3 = eigvals(Y_3)\n",
    "hgram_3, x_3 = HistogramFP(Lambda2_3.reshape(1,-1), p_flat, option)\n",
    "# log-normal\n",
    "Lambda2_4 = eigvals(Y_4)\n",
    "hgram_4, x_4 = HistogramFP(Lambda2_4.reshape(1,-1), p_flat, option)"
   ]
  },
  {
   "cell_type": "markdown",
   "metadata": {},
   "source": [
    "## Compute the semicircle function"
   ]
  },
  {
   "cell_type": "code",
   "execution_count": null,
   "metadata": {},
   "outputs": [],
   "source": [
    "x = linspace(-1,1,200)\n",
    "\n",
    "g = 2 / pi*sqrt(1 - x ** 2)"
   ]
  },
  {
   "cell_type": "markdown",
   "metadata": {},
   "source": [
    "## Create figures"
   ]
  },
  {
   "cell_type": "code",
   "execution_count": null,
   "metadata": {},
   "outputs": [],
   "source": [
    "figure()\n",
    "bar(x_1[:-1], hgram_1[0], width=x_1[1]-x_1[0], facecolor= [.7, .7, .7], edgecolor= [.5, .5, .5])\n",
    "plot(x, g, 'r',lw= 2)\n",
    "title('Standard Normal variables')\n",
    "legend(['Sample eigenvalues','Semicircle function']);\n",
    "# save_plot(ax=plt.gca(), extension='png', scriptname=os.path.basename('.')[:-3], count=plt.get_fignums()[-1])\n",
    "\n",
    "# exponential\n",
    "figure()\n",
    "bar(x_2[:-1], hgram_2[0], width=x_2[1]-x_2[0],facecolor= [.7, .7, .7], edgecolor= [.5, .5, .5])\n",
    "plot(x, g, 'r',lw= 2)\n",
    "title('Exponential variables')\n",
    "legend(['Sample eigenvalues','Semicircle function']);\n",
    "# save_plot(ax=plt.gca(), extension='png', scriptname=os.path.basename('.')[:-3], count=plt.get_fignums()[-1])\n",
    "\n",
    "# uniform\n",
    "figure()\n",
    "bar(x_3[:-1], hgram_3[0], width=x_3[1]-x_3[0],facecolor= [.7, .7, .7], edgecolor= [.5, .5, .5])\n",
    "plot(x, g, 'r',lw= 2)\n",
    "title('Uniform variables')\n",
    "legend(['Sample eigenvalues','Semicircle function']);\n",
    "# save_plot(ax=plt.gca(), extension='png', scriptname=os.path.basename('.')[:-3], count=plt.get_fignums()[-1])\n",
    "\n",
    "# log-normal\n",
    "figure()\n",
    "bar(x_4[:-1], hgram_4[0], width=x_4[1]-x_4[0],facecolor= [.7, .7, .7], edgecolor= [.5, .5, .5])\n",
    "plot(x, g, 'r',lw= 2)\n",
    "title('Log-normal variables')\n",
    "legend(['Sample eigenvalues','Semicircle function']);\n",
    "# save_plot(ax=plt.gca(), extension='png', scriptname=os.path.basename('.')[:-3], count=plt.get_fignums()[-1])"
   ]
  }
 ],
 "metadata": {
  "jupytext": {
   "encoding": "# -*- coding: utf-8 -*-",
   "executable": "/usr/bin/env python3"
  },
  "kernelspec": {
   "display_name": "Python 3",
   "language": "python",
   "name": "python3"
  }
 },
 "nbformat": 4,
 "nbformat_minor": 4
}
