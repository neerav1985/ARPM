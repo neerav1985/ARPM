{
 "cells": [
  {
   "cell_type": "markdown",
   "metadata": {},
   "source": [
    "# s_shrinkage_location [<img src=\"https://www.arpm.co/lab/icons/icon_permalink.png\" width=30 height=30 style=\"display: inline;\">](https://www.arpm.co/lab/redirect.php?code=s_shrinkage_location&codeLang=Python)\n",
    "For details, see [here](https://www.arpm.co/lab/redirect.php?permalink=ExStein)."
   ]
  },
  {
   "cell_type": "code",
   "execution_count": null,
   "metadata": {},
   "outputs": [],
   "source": [
    "import numpy as np\n",
    "import pandas as pd\n",
    "import matplotlib.pyplot as plt\n",
    "from arpym.tools.quad_prog import quad_prog\n",
    "from arpym.tools.sector_select import sector_select\n",
    "from arpym.tools.logo import add_logo"
   ]
  },
  {
   "cell_type": "markdown",
   "metadata": {},
   "source": [
    "## [Input parameters](https://www.arpm.co/lab/redirect.php?permalink=s_shrinkage_location-parameters)"
   ]
  },
  {
   "cell_type": "code",
   "execution_count": null,
   "metadata": {},
   "outputs": [],
   "source": [
    "i1 = int(0)  # select first stock\n",
    "i2 = int(1)  # select second stock\n",
    "gamma = 0.8  # confidence in James-Stein estimator"
   ]
  },
  {
   "cell_type": "markdown",
   "metadata": {},
   "source": [
    "## [Step 0](https://www.arpm.co/lab/redirect.php?permalink=s_shrinkage_location-implementation-step00): Load data"
   ]
  },
  {
   "cell_type": "code",
   "execution_count": null,
   "metadata": {},
   "outputs": [],
   "source": [
    "path = '~/databases/global-databases/equities/'\n",
    "df_stocks = pd.read_csv(path + 'db_stocks/data.csv', index_col=0,\n",
    "                        parse_dates=['date'])\n",
    "df_sectors = pd.read_csv(path + 'db_stocks/sectors.csv')\n",
    "\n",
    "sectors = df_sectors.sector"
   ]
  },
  {
   "cell_type": "markdown",
   "metadata": {},
   "source": [
    "## [Step 1](https://www.arpm.co/lab/redirect.php?permalink=s_shrinkage_location-implementation-step01): Select equities belonging to the same sector"
   ]
  },
  {
   "cell_type": "code",
   "execution_count": null,
   "metadata": {},
   "outputs": [],
   "source": [
    "ind_stocks = sector_select(sectors, sectors[2])\n",
    "names_stocks = df_sectors.loc[ind_stocks].symbol.tolist()\n",
    "names_select = [names_stocks[i] for i in [i1, i2]]\n",
    "\n",
    "v = df_stocks.loc[:, names_stocks]\n",
    "v = v.dropna(axis=1, how='all')  # remove completely empty columns\n",
    "v = v.dropna(axis=0, how='any')  # remove missing observations\n",
    "\n",
    "v = np.array(v)\n",
    "i_ = len(ind_stocks)"
   ]
  },
  {
   "cell_type": "markdown",
   "metadata": {},
   "source": [
    "## [Step 2](https://www.arpm.co/lab/redirect.php?permalink=s_shrinkage_location-implementation-step02): Compute the log-returns of the selected stocks and the global mean"
   ]
  },
  {
   "cell_type": "code",
   "execution_count": null,
   "metadata": {},
   "outputs": [],
   "source": [
    "epsi_global = np.diff(np.log(v), axis=0)\n",
    "mu = np.mean(epsi_global, axis=0)  # global sample expectation\n",
    "t_global = len(epsi_global)"
   ]
  },
  {
   "cell_type": "markdown",
   "metadata": {},
   "source": [
    "## [Step 3](https://www.arpm.co/lab/redirect.php?permalink=s_shrinkage_location-implementation-step03): Randomly select the estimation sample"
   ]
  },
  {
   "cell_type": "code",
   "execution_count": null,
   "metadata": {},
   "outputs": [],
   "source": [
    "t_ = int(np.floor((t_global / 4)))  # length of the sample\n",
    "perm = np.random.permutation(np.arange(t_global))  # random combination\n",
    "epsi = epsi_global[perm[:t_], :]  # estimation sample\n",
    "epsi_out = epsi_global[perm[t_:], :]"
   ]
  },
  {
   "cell_type": "markdown",
   "metadata": {},
   "source": [
    "## [Step 4](https://www.arpm.co/lab/redirect.php?permalink=s_shrinkage_location-implementation-step04): Compute the grand mean of the sector"
   ]
  },
  {
   "cell_type": "code",
   "execution_count": null,
   "metadata": {},
   "outputs": [],
   "source": [
    "mu_target = np.mean(epsi)  # grand mean"
   ]
  },
  {
   "cell_type": "markdown",
   "metadata": {},
   "source": [
    "## [Step 5](https://www.arpm.co/lab/redirect.php?permalink=s_shrinkage_location-implementation-step05): Compute the mean estimators (sample and shrinkage mean)"
   ]
  },
  {
   "cell_type": "code",
   "execution_count": null,
   "metadata": {},
   "outputs": [],
   "source": [
    "mu_sample = np.mean(epsi, axis=0)\n",
    "mu_shrink = (1-gamma)*mu_sample + gamma*mu_target"
   ]
  },
  {
   "cell_type": "markdown",
   "metadata": {},
   "source": [
    "## [Step 6](https://www.arpm.co/lab/redirect.php?permalink=s_shrinkage_location-implementation-step06): Compute the loss for both sample and shrinkage estimators"
   ]
  },
  {
   "cell_type": "code",
   "execution_count": null,
   "metadata": {},
   "outputs": [],
   "source": [
    "loss_sample = np.sum((mu_sample - mu) ** 2)\n",
    "loss_shrink = np.sum((mu_shrink - mu) ** 2)"
   ]
  },
  {
   "cell_type": "markdown",
   "metadata": {},
   "source": [
    "## [Step 7](https://www.arpm.co/lab/redirect.php?permalink=s_shrinkage_location-implementation-step07): Compute mean-variance optimal weights using the sample and shrinkage mean estimators"
   ]
  },
  {
   "cell_type": "code",
   "execution_count": null,
   "metadata": {},
   "outputs": [],
   "source": [
    "# set the constraints and options for quad_prog\n",
    "lb = np.zeros((2, 1))\n",
    "ub = np.ones((2, 1))\n",
    "x0 = (1/2)*np.ones((2, 1))\n",
    "beq = np.array([[1]])\n",
    "aeq = np.ones((1, 2))\n",
    "sigma2 = np.cov(epsi[:, [i1, i2]].T, bias=True)  # sample covariance matrix\n",
    "\n",
    "w_sample = quad_prog(sigma2, -mu_sample[[i1, i2]], aeq, beq, lb, ub, x0)\n",
    "w_shrink = quad_prog(sigma2, -mu_shrink[[i1, i2]], aeq, beq, lb, ub, x0)"
   ]
  },
  {
   "cell_type": "markdown",
   "metadata": {},
   "source": [
    "## Plots"
   ]
  },
  {
   "cell_type": "code",
   "execution_count": null,
   "metadata": {},
   "outputs": [],
   "source": [
    "plt.style.use('arpm')\n",
    "\n",
    "c0 = [0.8, 0.8, 0.8]\n",
    "c1 = [1, 0.5, 0.1]\n",
    "\n",
    "fig1 = plt.figure()\n",
    "\n",
    "plt.plot(epsi[:, i1], epsi[:, i2], 'd', markerfacecolor='k',\n",
    "         markersize=5)\n",
    "plt.xlim(np.percentile(epsi_global[:, i1], [20, 80]))\n",
    "plt.ylim(np.percentile(epsi_global[:, i2], [20, 80]))\n",
    "plt.plot(epsi_out[:, i1], epsi_out[:, i2], 'o', color=c0, markersize=5)\n",
    "plt.plot(mu_sample[i1], mu_sample[i2], 'o', markerfacecolor=c1)\n",
    "plt.plot(mu[i1], mu[i2], 'o', markerfacecolor='k')\n",
    "plt.plot(mu_shrink[i1], mu_shrink[i2], 'o', markerfacecolor='g')\n",
    "plt.plot([mu_sample[i1], mu[i1]], [mu_sample[i2], mu[i2]],\n",
    "         color=c1)\n",
    "plt.plot([mu_shrink[i1], mu[i1]], [mu_shrink[i2], mu[i2]],\n",
    "         color='g')\n",
    "plt.legend(['sample scenarios (%3.0f)' % t_,\n",
    "            'out-of-sample scenarios (%3.0f)' % (t_global - t_),\n",
    "            'sample mean', 'global mean', 'shrinkage mean'],\n",
    "           bbox_to_anchor=(0., .8, 1.2, .102), frameon=True, facecolor='white')\n",
    "plt.xlabel(names_select[0])\n",
    "plt.ylabel(names_select[1])\n",
    "\n",
    "add_logo(fig1)\n",
    "\n",
    "fig2, ax = plt.subplots(2, 1)\n",
    "plt.sca(ax[0])\n",
    "plt.bar(1, loss_sample, 0.4, facecolor=c1, edgecolor=c1)\n",
    "plt.bar(2, loss_shrink, 0.4, facecolor='g', edgecolor='g')\n",
    "plt.xlim([0.5, 2.5])\n",
    "plt.ylim([0, max([loss_sample, loss_shrink])])\n",
    "plt.title('Loss')\n",
    "plt.xticks([1, 2], ['sample', 'shrinkage'])\n",
    "\n",
    "plt.sca(ax[1])\n",
    "plt.bar(2, w_shrink[0] + w_shrink[1], 0.4, facecolor='g', edgecolor='g')\n",
    "plt.bar(1, w_sample[0] + w_sample[1], 0.4, facecolor=c1, edgecolor=c1)\n",
    "plt.bar(2, w_shrink[0], 0.4, facecolor='w', edgecolor='g')\n",
    "plt.bar(1, w_sample[0], 0.4, facecolor='w', edgecolor=c1)\n",
    "plt.xlim([.5, 2.5])\n",
    "plt.ylim([0, max([np.sum(w_sample), np.sum(w_shrink)])])\n",
    "plt.xticks([1, 2], ['sample', 'shrinkage'])\n",
    "plt.title('Portfolio Weights')\n",
    "plt.legend([names_select[1], names_select[1], names_select[0],\n",
    "            names_select[0]])\n",
    "add_logo(fig2, axis=ax[0])\n",
    "plt.tight_layout()"
   ]
  }
 ],
 "metadata": {
  "jupytext": {
   "encoding": "# -*- coding: utf-8 -*-",
   "executable": "/usr/bin/env python3"
  },
  "kernelspec": {
   "display_name": "Python 3",
   "language": "python",
   "name": "python3"
  }
 },
 "nbformat": 4,
 "nbformat_minor": 4
}
