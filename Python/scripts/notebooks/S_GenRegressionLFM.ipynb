{
 "cells": [
  {
   "cell_type": "markdown",
   "metadata": {},
   "source": [
    "# S_GenRegressionLFM [<img src=\"https://www.arpm.co/lab/icons/icon_permalink.png\" width=30 height=30 style=\"display: inline;\">](https://www.arpm.co/lab/redirect.php?code=S_GenRegressionLFM&codeLang=Python)\n",
    "For details, see [here](https://www.arpm.co/lab/redirect.php?permalink=eb-lfmgen-time)."
   ]
  },
  {
   "cell_type": "markdown",
   "metadata": {},
   "source": [
    "## Prepare the environment"
   ]
  },
  {
   "cell_type": "code",
   "execution_count": null,
   "metadata": {},
   "outputs": [],
   "source": [
    "import os.path as path\n",
    "import sys\n",
    "\n",
    "sys.path.append(path.abspath('../../functions-legacy'))\n",
    "\n",
    "import numpy as np\n",
    "from numpy import reshape, array, ones, zeros, diag, eye, r_\n",
    "\n",
    "from scipy.linalg import kron\n",
    "\n",
    "import matplotlib.pyplot as plt\n",
    "\n",
    "from quadprog import quadprog\n",
    "plt.style.use('seaborn')"
   ]
  },
  {
   "cell_type": "markdown",
   "metadata": {},
   "source": [
    "## Computations"
   ]
  },
  {
   "cell_type": "code",
   "execution_count": null,
   "metadata": {},
   "outputs": [],
   "source": [
    "# set inputs of target variable X and factor Z\n",
    "m_X = array([[1], [0]])\n",
    "m_Z = array([[-1]])\n",
    "m_jointXZ = r_[m_X, m_Z]  # joint expectation\n",
    "\n",
    "s2_X = array([[1, .5], [.5, 1]])\n",
    "s_XZ = array([[.6], [.7]])\n",
    "s2_Z = array([[1]])\n",
    "s2_jointXZ = r_[r_['-1',s2_X, s_XZ], r_['-1',s_XZ.T, s2_Z]]  # joint covariance\n",
    "\n",
    "n_ = m_X.shape[0]  # target dimension\n",
    "k_ = m_Z.shape[0]  # number of factors\n",
    "i_n = eye(n_)\n",
    "i_k = eye(k_)\n",
    "\n",
    "# set inputs for quadratic programming problem\n",
    "d = np.diagflat(1 / diag(s2_X))\n",
    "pos = d@s_XZ\n",
    "g = -pos.flatten()\n",
    "q = kron(s2_Z, d)\n",
    "\n",
    "# set bound constraints\n",
    "lb = 0.8*ones((n_*k_, 1))\n",
    "ub = 1.2*ones((n_*k_, 1))\n",
    "\n",
    "# compute optimal loadings\n",
    "b = quadprog(q, g, None, None, lb, ub)\n",
    "\n",
    "beta = reshape(b, (n_, k_),'F')\n",
    "alpha = m_X - beta@m_Z\n",
    "\n",
    "# joint distribution of residulas U and factor Z\n",
    "m = r_[r_['-1',i_n, - beta], r_['-1',zeros((k_, n_)), i_k]]\n",
    "\n",
    "m_jointUZ = m@m_jointXZ - r_[alpha, zeros((k_, 1))]  # joint expectation\n",
    "s2_jointUZ = m@s2_jointXZ@m.T  # joint covariance"
   ]
  }
 ],
 "metadata": {
  "jupytext": {
   "encoding": "# -*- coding: utf-8 -*-",
   "executable": "/usr/bin/env python3"
  },
  "kernelspec": {
   "display_name": "Python 3",
   "language": "python",
   "name": "python3"
  }
 },
 "nbformat": 4,
 "nbformat_minor": 4
}
