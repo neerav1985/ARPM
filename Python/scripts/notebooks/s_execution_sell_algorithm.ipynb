{
 "cells": [
  {
   "cell_type": "markdown",
   "metadata": {},
   "source": [
    "# s_execution_sell_algorithm [<img src=\"https://www.arpm.co/lab/icons/icon_permalink.png\" width=30 height=30 style=\"display: inline;\">](https://www.arpm.co/lab/redirect.php?code=s_execution_sell_algorithm&codeLang=Python)\n",
    "For details, see [here](https://www.arpm.co/lab/redirect.php?permalink=eb-execution_-sell-algorithm)."
   ]
  },
  {
   "cell_type": "code",
   "execution_count": null,
   "metadata": {},
   "outputs": [],
   "source": [
    "import numpy as np"
   ]
  },
  {
   "cell_type": "markdown",
   "metadata": {},
   "source": [
    "## [Input parameters](https://www.arpm.co/lab/redirect.php?permalink=s_execution_sell_algorithm-parameters)"
   ]
  },
  {
   "cell_type": "code",
   "execution_count": null,
   "metadata": {},
   "outputs": [],
   "source": [
    "delta_h_child = -100  # shares to sell\n",
    "delta_h_residual = np.array([delta_h_child])\n",
    "t_end = 60000  # end of the execution time interval in milliseconds\n",
    "kappa_ = 40  # effective number of ticks in the interval\n",
    "e_kleft = np.array([30])  # initial the expectation on the number of ticks\n",
    "delta_h = np.array([])"
   ]
  },
  {
   "cell_type": "markdown",
   "metadata": {},
   "source": [
    "## [Step 1](https://www.arpm.co/lab/redirect.php?permalink=s_execution_sell_algorithm-implementation-step01): Wall-clock time series corresponding to the randomly generated kappa_ ticks"
   ]
  },
  {
   "cell_type": "code",
   "execution_count": null,
   "metadata": {},
   "outputs": [],
   "source": [
    "t = np.sort(np.random.randint(t_end, size=(kappa_,)))"
   ]
  },
  {
   "cell_type": "markdown",
   "metadata": {},
   "source": [
    "## [Step 2](https://www.arpm.co/lab/redirect.php?permalink=s_execution_sell_algorithm-implementation-step02): Proceed with the algorithm until the order is fully executed"
   ]
  },
  {
   "cell_type": "code",
   "execution_count": null,
   "metadata": {},
   "outputs": [],
   "source": [
    "for kappa in range(kappa_):\n",
    "    # compute the sell order\n",
    "    delta_h = np.append(delta_h,\n",
    "                        round(delta_h_residual[kappa] / e_kleft[kappa]))\n",
    "    # review the expectation on the residual tick time\n",
    "    e_kleft = np.append(e_kleft,\n",
    "                        round((kappa+1)*(t_end - t[kappa]) / t[kappa]))\n",
    "    # compute the residual amount to be sold\n",
    "    delta_h_residual = np.append(delta_h_residual,\n",
    "                                 delta_h_residual[kappa] - delta_h[kappa])\n",
    "    # break if order is fully executed\n",
    "    if delta_h_residual[kappa+1] == 0:\n",
    "            break\n",
    "    # place an order to sell residual amount\n",
    "    if e_kleft[kappa+1] == 0 or kappa == kappa_-1:\n",
    "        delta_h = np.append(delta_h, delta_h_residual[kappa+1])\n",
    "        break"
   ]
  },
  {
   "cell_type": "markdown",
   "metadata": {},
   "source": [
    "## Displays"
   ]
  },
  {
   "cell_type": "code",
   "execution_count": null,
   "metadata": {},
   "outputs": [],
   "source": [
    "\n",
    "for kappa in range(len(delta_h_residual)-1):\n",
    "    print('k = {kappa} : place a market order to sell {dtick} units'\n",
    "          ' at the best bid at the {tot}th millisecond, remains {remunits}'\n",
    "          .format(kappa=kappa+1, dtick=abs(delta_h[kappa]),\n",
    "                  tot=np.squeeze(t[kappa]),\n",
    "                  remunits=abs(delta_h_residual[kappa+1])))\n",
    "if delta_h_residual[-1] < 0:\n",
    "    print('Place a market order to sell the remaining {dtick} units'\n",
    "          ' at the best bid at the end of the minute'\n",
    "          .format(dtick=abs(delta_h[-1])))"
   ]
  }
 ],
 "metadata": {
  "jupytext": {
   "encoding": "# -*- coding: utf-8 -*-",
   "executable": "/usr/bin/env python3"
  },
  "kernelspec": {
   "display_name": "Python 3",
   "language": "python",
   "name": "python3"
  }
 },
 "nbformat": 4,
 "nbformat_minor": 4
}
