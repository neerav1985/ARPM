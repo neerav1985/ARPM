{
 "cells": [
  {
   "cell_type": "markdown",
   "metadata": {},
   "source": [
    "# s_spectral_theorem [<img src=\"https://www.arpm.co/lab/icons/icon_permalink.png\" width=30 height=30 style=\"display: inline;\">](https://www.arpm.co/lab/redirect.php?code=s_spectral_theorem&codeLang=Python)\n",
    "For details, see [here](https://www.arpm.co/lab/redirect.php?permalink=doc-s_spectral_theorem)."
   ]
  },
  {
   "cell_type": "code",
   "execution_count": null,
   "metadata": {},
   "outputs": [],
   "source": [
    "import numpy as np\n",
    "\n",
    "from arpym.tools.pca_cov import pca_cov"
   ]
  },
  {
   "cell_type": "markdown",
   "metadata": {},
   "source": [
    "## [Input parameters](https://www.arpm.co/lab/redirect.php?permalink=s_spectral_theorem-parameters)"
   ]
  },
  {
   "cell_type": "code",
   "execution_count": null,
   "metadata": {},
   "outputs": [],
   "source": [
    "s2 = np.array([[3.0, np.sqrt(2.0)],\n",
    "              [np.sqrt(2.0), 2.0]])  # symmetric positive (semi)definite 2x2 matrix\n",
    "lambda2_1 = 1.0  # first candidate eigenvalue\n",
    "e_1 = np.array([1, -np.sqrt(2)])  # first candidate eigenvector\n",
    "lambda2_2 = 4.0  # second candidate eigenvalue\n",
    "e_2 = np.array([np.sqrt(2), 1])  # second candidate eigenvector\n",
    "v = np.array([2.0/3.0, 1.0/3.0])  # test vector"
   ]
  },
  {
   "cell_type": "markdown",
   "metadata": {},
   "source": [
    "## [Step 1](https://www.arpm.co/lab/redirect.php?permalink=s_spectral_theorem-implementation-step01): Test the eigenvectors and eigenvalues"
   ]
  },
  {
   "cell_type": "code",
   "execution_count": null,
   "metadata": {},
   "outputs": [],
   "source": [
    "is_eig_1 = np.allclose(np.matmul(s2, e_1), lambda2_1*e_1)\n",
    "is_eig_2 = np.allclose(np.matmul(s2, e_2), lambda2_2*e_2)\n",
    "print((lambda2_1, e_1), 'is an eigenvalue/eigenvector pair:', is_eig_1)\n",
    "print((lambda2_2, e_2), 'is an eigenvalue/eigenvector pair:', is_eig_2)\n",
    "\n",
    "# if inputs aren't eigenvalue/eigenvector pairs, calculate\n",
    "if not(is_eig_1 and is_eig_2):\n",
    "    # check s2 is symmetric and positive (semi)definite (Sylvester's criterion)\n",
    "    if np.allclose(s2[0][1], s2[1][0]) \\\n",
    "    and np.linalg.det(s2) >= 0 and s2[0][0] >= 0:\n",
    "        # calculate eigenvalues and eigenvectors\n",
    "        eigvecs, eigvals = pca_cov(s2)\n",
    "        lambda2_1 = eigvals[0]\n",
    "        e_1 = eigvecs[:, 0]\n",
    "        lambda2_2 = eigvals[1]\n",
    "        e_2 = eigvecs[:, 1]\n",
    "        is_eig_new_1 = np.allclose(np.matmul(s2, e_1), lambda2_1*e_1)\n",
    "        is_eig_new_2 = np.allclose(np.matmul(s2, e_2), lambda2_2*e_2)\n",
    "        print((lambda2_1, e_1), 'is an eigenvalue/eigenvector pair:',\n",
    "              is_eig_new_1)\n",
    "        print((lambda2_2, e_2), 'is an eigenvalue/eigenvector pair:',\n",
    "              is_eig_new_2)\n",
    "    else:\n",
    "        print('s2 must be positive and symmetric')\n",
    "        print('Make sure s2[0][1]=s2[1][0], s2[0][0]>=0 and np.linalg.det(s2)>=0')\n",
    "        print('Determinant:', np.linalg.det(s2))"
   ]
  },
  {
   "cell_type": "markdown",
   "metadata": {},
   "source": [
    "## [Step 2](https://www.arpm.co/lab/redirect.php?permalink=s_spectral_theorem-implementation-step02): Sort (eigenvalue, eigenvector) pairs by decreasing eigenvalue"
   ]
  },
  {
   "cell_type": "code",
   "execution_count": null,
   "metadata": {},
   "outputs": [],
   "source": [
    "# put the eigenvalue/eigenvector pairs into a list\n",
    "spect_decomp = [[lambda2_1, e_1], [lambda2_2, e_2]]\n",
    "# sort in decreasing order\n",
    "spect_decomp.sort(reverse=True)\n",
    "# update eigenvalue/eignvector labels\n",
    "lambda2_1 = spect_decomp[0][0]\n",
    "e_1 = spect_decomp[0][1]\n",
    "lambda2_2 = spect_decomp[1][0]\n",
    "e_2 = spect_decomp[1][1]"
   ]
  },
  {
   "cell_type": "markdown",
   "metadata": {},
   "source": [
    "## [Step 3](https://www.arpm.co/lab/redirect.php?permalink=s_spectral_theorem-implementation-step03): Test that eigenvectors are orthogonal and normalize the eigenvectors"
   ]
  },
  {
   "cell_type": "code",
   "execution_count": null,
   "metadata": {},
   "outputs": [],
   "source": [
    "# test orthogonality\n",
    "eigvec_orth = np.allclose(np.vdot(e_1, e_2), 0)\n",
    "# normalize the eigenvectors\n",
    "e_1 = e_1/np.linalg.norm(e_1)\n",
    "e_2 = e_2/np.linalg.norm(e_2)\n",
    "# test length of normalized eigenvectors\n",
    "length_e1 = np.round(np.vdot(e_1, e_1), 3)\n",
    "length_e2 = np.round(np.vdot(e_1, e_1), 3)\n",
    "print(e_1, 'and', e_2, 'are orthogonal:', eigvec_orth)\n",
    "print('length of ', e_1, ': ', length_e1, sep='')\n",
    "print('length of ', e_2, ': ', length_e2, sep='')"
   ]
  },
  {
   "cell_type": "markdown",
   "metadata": {},
   "source": [
    "## [Step 4](https://www.arpm.co/lab/redirect.php?permalink=s_spectral_theorem-implementation-step04): Choose eigenvector signs so that the determinant is positive"
   ]
  },
  {
   "cell_type": "code",
   "execution_count": null,
   "metadata": {},
   "outputs": [],
   "source": [
    "if np.linalg.det(np.vstack((e_1, e_2)).T) < 0:\n",
    "    e_2 = -e_2\n",
    "# check this is still an eigenvector\n",
    "is_neg_eig_2 = np.allclose(np.matmul(s2, e_2), lambda2_2*e_2)\n",
    "print((lambda2_2, e_2), 'is an eigenvalue/eigenvector pair:', is_neg_eig_2)"
   ]
  },
  {
   "cell_type": "markdown",
   "metadata": {},
   "source": [
    "## [Step 5](https://www.arpm.co/lab/redirect.php?permalink=s_spectral_theorem-implementation-step05): Calculate the eigenvalues/eigenvectors of s2 using recursive solution"
   ]
  },
  {
   "cell_type": "code",
   "execution_count": null,
   "metadata": {},
   "outputs": [],
   "source": [
    "# in two dimensions, change to polar coordinates and solve\n",
    "theta = 0.5*np.arctan2(2*s2[0][1], (s2[0][0]-s2[1][1]))\n",
    "e_1_calc = np.array([np.cos(theta), np.sin(theta)])\n",
    "lambda2_1_calc = np.matmul(e_1_calc, np.matmul(s2, e_1_calc))\n",
    "e_2_calc = np.array([np.sin(theta), -np.cos(theta)])\n",
    "lambda2_2_calc = np.matmul(e_2_calc, np.matmul(s2, e_2_calc))\n",
    "# check that these are the same as input/calculated up to sign of eigenvectors\n",
    "is_eig_calc_1 = (np.allclose(np.abs(e_1_calc), np.abs(e_1)) and\n",
    "                 np.allclose(lambda2_1_calc, lambda2_1))\n",
    "is_eig_calc_2 = (np.allclose(np.abs(e_2_calc), np.abs(e_2)) and\n",
    "                 np.allclose(lambda2_2_calc, lambda2_2))\n",
    "print((lambda2_1_calc, e_1_calc),\n",
    "      ' matches eigenvalue/eigenvector pair (up to sign) ',\n",
    "      (lambda2_1, e_1), ': ', is_eig_calc_1, sep='')\n",
    "print((lambda2_2_calc, e_2_calc),\n",
    "      ' matches eigenvalue/eigenvector pair  (up to sign) ',\n",
    "      (lambda2_2, e_2), ': ', is_eig_calc_2, sep='')"
   ]
  },
  {
   "cell_type": "markdown",
   "metadata": {},
   "source": [
    "## [Step 6](https://www.arpm.co/lab/redirect.php?permalink=s_spectral_theorem-implementation-step06): Put eigenvectors into a matrix"
   ]
  },
  {
   "cell_type": "code",
   "execution_count": null,
   "metadata": {},
   "outputs": [],
   "source": [
    "# define matrix\n",
    "e = np.vstack((e_1, e_2)).T\n",
    "# check to see if rotation\n",
    "is_eigmat_rotation = np.allclose(np.linalg.det(e), 1)\n",
    "print('The eigenvector matrix is a rotation:', is_eigmat_rotation)"
   ]
  },
  {
   "cell_type": "markdown",
   "metadata": {},
   "source": [
    "## [Step 7](https://www.arpm.co/lab/redirect.php?permalink=s_spectral_theorem-implementation-step07): Verify the eigenvector matrix is orthogonal"
   ]
  },
  {
   "cell_type": "code",
   "execution_count": null,
   "metadata": {},
   "outputs": [],
   "source": [
    "is_eigmat_orth = np.allclose(np.matmul(e, e.T), np.identity(2))\n",
    "print('The eigenvector matrix is orthogonal:', is_eigmat_orth)"
   ]
  },
  {
   "cell_type": "markdown",
   "metadata": {},
   "source": [
    "## [Step 8](https://www.arpm.co/lab/redirect.php?permalink=s_spectral_theorem-implementation-step08): Demonstrate effect of the eigenvector matrix on a vector"
   ]
  },
  {
   "cell_type": "code",
   "execution_count": null,
   "metadata": {},
   "outputs": [],
   "source": [
    "# multiply vector v by eigenvector matrix e\n",
    "v_trans = np.matmul(e, v)\n",
    "# calculate the square norms\n",
    "is_norm_v_same = np.allclose(np.linalg.norm(v_trans)**2,\n",
    "                             np.linalg.norm(v)**2)\n",
    "print('The eigenvector matrix does not change the length of vector ',\n",
    "      v, ': ', is_norm_v_same, sep='')"
   ]
  },
  {
   "cell_type": "markdown",
   "metadata": {},
   "source": [
    "## [Step 9](https://www.arpm.co/lab/redirect.php?permalink=s_spectral_theorem-implementation-step09): Create diagonal matrix of eigenvalue roots"
   ]
  },
  {
   "cell_type": "code",
   "execution_count": null,
   "metadata": {},
   "outputs": [],
   "source": [
    "diag_lambda = np.diag(np.array([np.sqrt(lambda2_1), np.sqrt(lambda2_2)]))"
   ]
  },
  {
   "cell_type": "markdown",
   "metadata": {},
   "source": [
    "## [Step 10](https://www.arpm.co/lab/redirect.php?permalink=s_spectral_theorem-implementation-step10): Verify spectral decomposition returns original matrix"
   ]
  },
  {
   "cell_type": "code",
   "execution_count": null,
   "metadata": {},
   "outputs": [],
   "source": [
    "spect_decomp_gives_s2 = np.allclose(\n",
    "        np.matmul(e, (np.matmul(diag_lambda, np.matmul(diag_lambda, e.T)))),\n",
    "        s2)\n",
    "print('The spectral decomposition returns the original matrix s2:',\n",
    "      spect_decomp_gives_s2)"
   ]
  },
  {
   "cell_type": "markdown",
   "metadata": {},
   "source": [
    "## [Step 11](https://www.arpm.co/lab/redirect.php?permalink=s_spectral_theorem-implementation-step11): Verify trace and determinant identities"
   ]
  },
  {
   "cell_type": "code",
   "execution_count": null,
   "metadata": {},
   "outputs": [],
   "source": [
    "trace_is_sum_eigvals = np.allclose(np.trace(s2), lambda2_1+lambda2_2)\n",
    "det_is_prod_eigvals = np.allclose(np.linalg.det(s2), lambda2_1*lambda2_2)\n",
    "print('The trace of s2 equals the sum of the eigenvalues:',\n",
    "      trace_is_sum_eigvals)\n",
    "print('The determinant of s2 equals the product of the eigenvalues:',\n",
    "      det_is_prod_eigvals)"
   ]
  }
 ],
 "metadata": {
  "jupytext": {
   "encoding": "# -*- coding: utf-8 -*-",
   "executable": "/usr/bin/env python3"
  },
  "kernelspec": {
   "display_name": "Python 3",
   "language": "python",
   "name": "python3"
  }
 },
 "nbformat": 4,
 "nbformat_minor": 4
}
