{
 "cells": [
  {
   "cell_type": "markdown",
   "metadata": {},
   "source": [
    "# s_bias_vs_variance_lognormal [<img src=\"https://www.arpm.co/lab/icons/icon_permalink.png\" width=30 height=30 style=\"display: inline;\">](https://www.arpm.co/lab/redirect.php?code=s_bias_vs_variance_lognormal&codeLang=Python)\n",
    "For details, see [here](https://www.arpm.co/lab/redirect.php?permalink=s_bias_vs_variance_lognormal)."
   ]
  },
  {
   "cell_type": "code",
   "execution_count": null,
   "metadata": {},
   "outputs": [],
   "source": [
    "import numpy as np\n",
    "from sklearn import linear_model\n",
    "from sklearn.preprocessing import PolynomialFeatures\n",
    "import matplotlib.pyplot as plt\n",
    "import matplotlib.gridspec as gridspec\n",
    "\n",
    "from arpym.tools.logo import add_logo"
   ]
  },
  {
   "cell_type": "markdown",
   "metadata": {},
   "source": [
    "## [Input parameters](https://www.arpm.co/lab/redirect.php?permalink=s_bias_vs_variance_lognormal-parameters)"
   ]
  },
  {
   "cell_type": "code",
   "execution_count": null,
   "metadata": {},
   "outputs": [],
   "source": [
    "n_samples = 30  # number of samples\n",
    "mu_x = 0\n",
    "mu_z = 0\n",
    "sig2_x = 0.1\n",
    "sig2_z = 0.5\n",
    "rho_xz = -0.9\n",
    "pol_degree = 6  # maximum degree of polynomials considered\n",
    "j_ = 5000  # simulations of out-of-sample error\n",
    "\n",
    "mu = np.array([mu_z, mu_x])  # expectation\n",
    "sig2 = np.array([[sig2_z, np.sqrt(sig2_z)*np.sqrt(sig2_x)*rho_xz],\n",
    "                 [np.sqrt(sig2_z)*np.sqrt(sig2_x)*rho_xz, sig2_x]])  # cov.\n",
    "\n",
    "sample = np.exp(np.random.multivariate_normal(mu, sig2, n_samples))\n",
    "\n",
    "z_in = sample[:, 0]\n",
    "x_in = sample[:, 1]"
   ]
  },
  {
   "cell_type": "markdown",
   "metadata": {},
   "source": [
    "## [Step 0](https://www.arpm.co/lab/redirect.php?permalink=s_bias_vs_variance_lognormal-implementation-step00): Initialize variables"
   ]
  },
  {
   "cell_type": "code",
   "execution_count": null,
   "metadata": {},
   "outputs": [],
   "source": [
    "err_in = np.zeros(pol_degree)\n",
    "err_out = np.zeros((j_, pol_degree))\n",
    "err_out_med = np.zeros(pol_degree)\n",
    "err_out_iqr = np.zeros(pol_degree)\n",
    "\n",
    "for deg in np.arange(pol_degree):\n",
    "\n",
    "    # Step 2: Construct interactions in-sample\n",
    "\n",
    "    poly = PolynomialFeatures(degree=deg+1, include_bias=False)\n",
    "    z_inter_in = poly.fit_transform(z_in.reshape(-1, 1))\n",
    "\n",
    "    # Step 3: Fit conditional expectation through regression in-sample\n",
    "\n",
    "    reg = linear_model.LinearRegression()\n",
    "    exp_in_sample = reg.fit(z_inter_in, x_in).predict(z_inter_in)\n",
    "\n",
    "    # Step 4: Compute in-sample error\n",
    "\n",
    "    err_in[deg] = np.mean((x_in-exp_in_sample)**2)\n",
    "\n",
    "    # Step 5: Compute distribution of out-of-sample error\n",
    "\n",
    "    for j in range(j_):\n",
    "\n",
    "        # generate out-of-sample\n",
    "        outsample = np.exp(np.random.multivariate_normal(mu, sig2, n_samples))\n",
    "\n",
    "        z_out = outsample[:, 0]\n",
    "        x_out = outsample[:, 1]\n",
    "\n",
    "        # z_out = np.exp(np.random.normal(mu[0], sig2[0, 0], n_samples))\n",
    "        poly = PolynomialFeatures(degree=deg+1, include_bias=False)\n",
    "        z_inter_out = poly.fit_transform(z_out.reshape(-1, 1))\n",
    "\n",
    "        # error\n",
    "        exp_out_sample = reg.predict(z_inter_out)\n",
    "        err_out[j, deg] = np.mean((x_out-exp_out_sample)**2)\n",
    "\n",
    "    err_out_med[deg] = np.median(err_out[:, deg])\n",
    "    err_out_iqr[deg] = np.percentile(err_out[:, deg], 75) -\\\n",
    "        np.percentile(err_out[:, deg], 25)"
   ]
  },
  {
   "cell_type": "markdown",
   "metadata": {},
   "source": [
    "## [Step 6](https://www.arpm.co/lab/redirect.php?permalink=s_bias_vs_variance_lognormal-implementation-step06): Conditional expectation"
   ]
  },
  {
   "cell_type": "code",
   "execution_count": null,
   "metadata": {},
   "outputs": [],
   "source": [
    "chi = lambda z: np.exp(mu_x +\n",
    "                       rho_xz*np.sqrt(sig2_x)/np.sqrt(sig2_z) *\n",
    "                       (np.log(z)-mu_z) + 0.5*(1-rho_xz**2)*sig2_x)"
   ]
  },
  {
   "cell_type": "markdown",
   "metadata": {},
   "source": [
    "## Plots"
   ]
  },
  {
   "cell_type": "code",
   "execution_count": null,
   "metadata": {},
   "outputs": [],
   "source": [
    "plt.style.use('arpm')\n",
    "\n",
    "darkgrey = [.1, .1, .1]\n",
    "orange = [1, 153/255, 51/255]\n",
    "\n",
    "xxlim = [0, np.percentile(z_in, 95)*(1+0.5)]\n",
    "yylim = [0, np.percentile(x_in, 95)*(1+0.5)]\n",
    "\n",
    "zz = np.arange(10**-3, xxlim[1], 10**-2)\n",
    "zz_inter = poly.fit_transform(zz.reshape(-1, 1))\n",
    "xx_hat = reg.fit(z_inter_in, x_in).predict(zz_inter)\n",
    "xx_hat_best = chi(zz)\n",
    "\n",
    "fig = plt.figure(figsize=(1280.0/72, 720.0/72), dpi=72)\n",
    "gs = gridspec.GridSpec(3, 3)\n",
    "ax_scatter = plt.subplot(gs[1:, :])\n",
    "ax_inerror = plt.subplot(gs[0, :2])\n",
    "ax_outerror = ax_inerror.twinx()\n",
    "ax_hist = plt.subplot(gs[0, -1], sharey=ax_outerror)\n",
    "\n",
    "# Scatter\n",
    "ax_scatter.plot(z_in, x_in, '.', markersize=5, color=darkgrey)\n",
    "ax_scatter.plot(zz, xx_hat, linewidth=2, color='g',\n",
    "                label='Regr. with %d-th order polynomial' % (deg+1))\n",
    "ax_scatter.plot(zz, xx_hat_best, color=orange, linewidth=2,\n",
    "                label='Conditional expectation')\n",
    "ax_scatter.set_xlim(xxlim)\n",
    "ax_scatter.set_xlabel('Z', fontsize=14)\n",
    "ax_scatter.set_ylabel('X', fontsize=14)\n",
    "ax_scatter.set_ylim(yylim)\n",
    "ax_scatter.plot(-1, -1, '.', color='k', markersize=0,\n",
    "                label='$\\\\rho = %.2f$' % rho_xz)\n",
    "ax_scatter.legend(loc='upper right', fontsize=14)\n",
    "ax_scatter.set_title('Joint distribution', fontsize=20, fontweight='bold')\n",
    "\n",
    "# Errors\n",
    "# In-sample\n",
    "ax_inerror.plot(np.arange(1, deg+2), np.log(err_in), color='k',\n",
    "                label='log-in-sample error')\n",
    "# Out-of-sample\n",
    "ax_outerror.plot(np.arange(1, deg+2), np.log(err_out_med), color='r',\n",
    "                 label='log-out-of-sample error (median)')\n",
    "ax_outerror.tick_params(axis='y', colors='r')\n",
    "ax_outerror.grid(False)\n",
    "ax_outerror.legend(loc='upper right', fontsize=13)\n",
    "ax_inerror.set_xlabel('Order of polynomial', fontsize=14)\n",
    "ax_inerror.set_xticks(np.arange(1, deg+2))\n",
    "ax_inerror.legend(loc='upper left', fontsize=13)\n",
    "ax_inerror.set_title('Log-errors', fontsize=20, fontweight='bold')\n",
    "\n",
    "# Histogram\n",
    "ax_hist.hist(np.log(err_out[:, deg]), bins=int(20*np.log(j_)),\n",
    "             orientation='horizontal', align='mid', density=True, color='r')\n",
    "ax_hist.set_title('Log-out-of-sample error', fontsize=20, fontweight='bold')\n",
    "ax_hist.set_xticks([])\n",
    "ax_hist.tick_params(axis='y', colors='r')\n",
    "\n",
    "yylimhist = [np.log(err_out_med).min()-np.abs(np.log(err_out_med).min())/3,\n",
    "             np.log(err_out_med).max()+np.abs(np.log(err_out_med).max())/3]\n",
    "ax_hist.set_ylim(yylimhist)\n",
    "\n",
    "add_logo(fig)\n",
    "plt.tight_layout()"
   ]
  }
 ],
 "metadata": {
  "jupytext": {
   "encoding": "# -*- coding: utf-8 -*-",
   "executable": "/usr/bin/env python3"
  },
  "kernelspec": {
   "display_name": "Python 3",
   "language": "python",
   "name": "python3"
  }
 },
 "nbformat": 4,
 "nbformat_minor": 4
}
