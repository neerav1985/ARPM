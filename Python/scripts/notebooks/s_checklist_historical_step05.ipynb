{
 "cells": [
  {
   "cell_type": "markdown",
   "metadata": {},
   "source": [
    "# s_checklist_historical_step05 [<img src=\"https://www.arpm.co/lab/icons/icon_permalink.png\" width=30 height=30 style=\"display: inline;\">](https://www.arpm.co/lab/redirect.php?code=s_checklist_historical_step05&codeLang=Python)\n",
    "For details, see [here](https://www.arpm.co/lab/redirect.php?permalink=ex-vue-5-historical)."
   ]
  },
  {
   "cell_type": "code",
   "execution_count": null,
   "metadata": {},
   "outputs": [],
   "source": [
    "import numpy as np\n",
    "import pandas as pd\n",
    "import matplotlib.pyplot as plt\n",
    "from scipy import interpolate\n",
    "from pandas.plotting import register_matplotlib_converters\n",
    "register_matplotlib_converters()\n",
    "\n",
    "from arpym.pricing.bsm_function import bsm_function\n",
    "from arpym.tools.histogram_sp import histogram_sp\n",
    "from arpym.tools.logo import add_logo"
   ]
  },
  {
   "cell_type": "markdown",
   "metadata": {},
   "source": [
    "## [Input parameters](https://www.arpm.co/lab/redirect.php?permalink=s_checklist_historical_step05-parameters)"
   ]
  },
  {
   "cell_type": "code",
   "execution_count": null,
   "metadata": {},
   "outputs": [],
   "source": [
    "n_plot = 1  # index of instrument to plot"
   ]
  },
  {
   "cell_type": "markdown",
   "metadata": {},
   "source": [
    "## [Step 0](https://www.arpm.co/lab/redirect.php?permalink=s_checklist_historical_step05-implementation-step00): Load data"
   ]
  },
  {
   "cell_type": "code",
   "execution_count": null,
   "metadata": {},
   "outputs": [],
   "source": [
    "path = '~/databases/temporary-databases/'\n",
    "\n",
    "# Risk drivers identification\n",
    "# risk driver values\n",
    "db_riskdrivers_series = pd.read_csv(path+'db_riskdrivers_series_historical.csv',\n",
    "                                    index_col=0)\n",
    "x = db_riskdrivers_series.values\n",
    "\n",
    "# values at t_now\n",
    "db_v_tnow = pd.read_csv(path+'db_v_tnow_historical.csv')\n",
    "v_tnow = db_v_tnow.values[0]\n",
    "\n",
    "# additional information\n",
    "db_riskdrivers_tools = pd.read_csv(path+'db_riskdrivers_tools_historical.csv',\n",
    "                                  parse_dates=True)\n",
    "d_ = int(db_riskdrivers_tools['d_'].dropna())\n",
    "n_stocks = int(db_riskdrivers_tools['n_stocks'].dropna())\n",
    "n_ = n_stocks+3\n",
    "d_implvol = int(db_riskdrivers_tools['d_implvol'].dropna())\n",
    "tend_option = np.datetime64(db_riskdrivers_tools['tend_option'][0], 'D')\n",
    "k_strk = db_riskdrivers_tools['k_strk'][0]\n",
    "l_ = int(db_riskdrivers_tools['l_'].dropna())\n",
    "m_moneyness = db_riskdrivers_tools['m_moneyness'].values[:l_]\n",
    "tau_implvol = db_riskdrivers_tools['tau_implvol'].values\n",
    "y = db_riskdrivers_tools['y'][0]\n",
    "t_now = np.datetime64(db_riskdrivers_tools.t_now[0], 'D')\n",
    "# index of risk drivers for options\n",
    "idx_options = np.array(range(n_stocks+1, n_stocks+d_implvol+1))\n",
    "\n",
    "# Projection\n",
    "# projected risk driver paths\n",
    "db_projection_riskdrivers = \\\n",
    "    pd.read_csv(path+'db_projection_bootstrap_riskdrivers.csv')\n",
    "\n",
    "# additional information\n",
    "db_projection_tools = \\\n",
    "    pd.read_csv(path+'db_projection_bootstrap_tools.csv')\n",
    "j_ = int(db_projection_tools['j_'][0])\n",
    "t_hor = np.datetime64(db_projection_tools['t_hor'][0], 'D')\n",
    "\n",
    "# projected scenarios probabilities\n",
    "db_scenario_probs = pd.read_csv(path+'db_scenario_probs_bootstrap.csv')\n",
    "p = db_scenario_probs['p'].values"
   ]
  },
  {
   "cell_type": "markdown",
   "metadata": {},
   "source": [
    "## [Step 1](https://www.arpm.co/lab/redirect.php?permalink=s_checklist_historical_step05-implementation-step01): Calculate number of business days between t_now and t_hor"
   ]
  },
  {
   "cell_type": "code",
   "execution_count": null,
   "metadata": {},
   "outputs": [],
   "source": [
    "# business days between t_now and t_hor\n",
    "m_ = np.busday_count(t_now, t_hor)\n",
    "# date of next business day (t_now + 1)\n",
    "t_1 = np.busday_offset(t_now, 1, roll='forward')\n",
    "\n",
    "# projected scenarios\n",
    "x_proj = db_projection_riskdrivers.values.reshape(j_, m_+1, d_)\n",
    "\n",
    "# initialize output arrays\n",
    "pi_tnow_thor = np.zeros((j_, n_))\n",
    "pi_oneday = np.zeros((j_, n_))"
   ]
  },
  {
   "cell_type": "markdown",
   "metadata": {},
   "source": [
    "## [Step 2](https://www.arpm.co/lab/redirect.php?permalink=s_checklist_historical_step05-implementation-step02): Stocks"
   ]
  },
  {
   "cell_type": "code",
   "execution_count": null,
   "metadata": {},
   "outputs": [],
   "source": [
    "for n in range(n_stocks):\n",
    "    pi_tnow_thor[:, n] = v_tnow[n] * (np.exp(x_proj[:, -1, n] - x[-1, n])-1)\n",
    "    pi_oneday[:, n] = v_tnow[n] * (np.exp(x_proj[:, 1, n] - x[-1, n])-1)"
   ]
  },
  {
   "cell_type": "markdown",
   "metadata": {},
   "source": [
    "## [Step 3](https://www.arpm.co/lab/redirect.php?permalink=s_checklist_historical_step05-implementation-step03): S&P index"
   ]
  },
  {
   "cell_type": "code",
   "execution_count": null,
   "metadata": {},
   "outputs": [],
   "source": [
    "pi_tnow_thor[:, n_stocks] = v_tnow[n_stocks]*(np.exp(x_proj[:, -1, n_stocks] -\n",
    "                                               x[-1, n_stocks])-1)\n",
    "pi_oneday[:, n_stocks] = v_tnow[n_stocks]*(np.exp(x_proj[:, 1, n_stocks] -\n",
    "                                               x[-1, n_stocks])-1)"
   ]
  },
  {
   "cell_type": "markdown",
   "metadata": {},
   "source": [
    "## [Step 4](https://www.arpm.co/lab/redirect.php?permalink=s_checklist_historical_step05-implementation-step04): Options"
   ]
  },
  {
   "cell_type": "code",
   "execution_count": null,
   "metadata": {},
   "outputs": [],
   "source": [
    "# time to expiry of the options at the horizon t_hor\n",
    "tau_opt_thor = np.busday_count(t_hor, tend_option)/252\n",
    "# time to expiry of the options after one day\n",
    "tau_opt_oneday = np.busday_count(t_1, tend_option)/252\n",
    "\n",
    "# underlying and moneyness at the horizon\n",
    "s_thor = np.exp(x_proj[:, -1, n_stocks])\n",
    "mon_thor = np.log(s_thor/k_strk)/np.sqrt(tau_opt_thor)\n",
    "# underlying and moneyness after one day\n",
    "s_oneday = np.exp(x_proj[:, 1, n_stocks])\n",
    "mon_oneday = np.log(s_oneday/k_strk)/np.sqrt(tau_opt_oneday)\n",
    "\n",
    "# log-implied volatility at the horizon\n",
    "logsigma_thor = x_proj[:, -1, idx_options].reshape(j_, -1, l_)\n",
    "# log-implied volatility after one day\n",
    "logsigma_oneday = x_proj[:, 1, idx_options].reshape(j_, -1, l_)\n",
    "\n",
    "# interpolate log-implied volatility\n",
    "logsigma_interp = np.zeros(j_)\n",
    "logsigma_interp_oneday = np.zeros(j_)\n",
    "for j in range(j_):\n",
    "    # grid points\n",
    "    points = list(zip(*[grid.flatten()\n",
    "                        for grid in np.meshgrid(*[tau_implvol, m_moneyness])]))\n",
    "    # known values\n",
    "    values = logsigma_thor[j, :, :].flatten()\n",
    "    values_oneday = logsigma_oneday[j, :, :].flatten()\n",
    "    # interpolation\n",
    "    moneyness_thor = min(max(mon_thor[j], min(m_moneyness)), max(m_moneyness))\n",
    "    moneyness_oneday = min(max(mon_oneday[j], min(m_moneyness)), max(m_moneyness))\n",
    "    # log-implied volatility at the horizon\n",
    "    logsigma_interp[j] =\\\n",
    "        interpolate.LinearNDInterpolator(points, values)(*np.r_[tau_opt_thor,\n",
    "                                                                moneyness_thor])\n",
    "    # log-implied volatility after one day\n",
    "    logsigma_interp_oneday[j] =\\\n",
    "        interpolate.LinearNDInterpolator(points, values_oneday)(*np.r_[tau_opt_oneday,\n",
    "                                                                       moneyness_oneday])\n",
    "\n",
    "# compute call option value by means of Black-Scholes-Merton formula\n",
    "v_call_thor = bsm_function(s_thor, y, np.exp(logsigma_interp), moneyness_thor,\n",
    "                           tau_opt_thor)\n",
    "v_call_oneday = bsm_function(s_oneday, y, np.exp(logsigma_interp_oneday), \n",
    "                             moneyness_oneday, tau_opt_oneday)\n",
    "\n",
    "# compute put option value using put-call parity\n",
    "v_zcb_thor = np.exp(-y*tau_opt_thor)\n",
    "v_put_thor = v_call_thor - s_thor + k_strk*v_zcb_thor\n",
    "v_zcb_oneday = np.exp(-y*tau_opt_oneday)\n",
    "v_put_oneday = v_call_oneday - s_oneday + k_strk*v_zcb_oneday\n",
    "\n",
    "# compute P&L of the call option\n",
    "pi_tnow_thor[:, n_stocks+1] = v_call_thor - v_tnow[n_stocks+1]\n",
    "pi_oneday[:, n_stocks+1] = v_call_oneday - v_tnow[n_stocks+1]\n",
    "# compute P&L of the put option\n",
    "pi_tnow_thor[:, n_stocks+2] = v_put_thor - v_tnow[n_stocks+2]\n",
    "pi_oneday[:, n_stocks+2] = v_put_oneday - v_tnow[n_stocks+2]"
   ]
  },
  {
   "cell_type": "markdown",
   "metadata": {},
   "source": [
    "## [Step 5](https://www.arpm.co/lab/redirect.php?permalink=s_checklist_historical_step05-implementation-step05): Save database"
   ]
  },
  {
   "cell_type": "code",
   "execution_count": null,
   "metadata": {},
   "outputs": [],
   "source": [
    "# ex-ante performance over [t_now, t_hor)\n",
    "out = {db_v_tnow.columns[n]: pi_tnow_thor[:, n]\n",
    "       for n in range(n_)}\n",
    "names = [db_v_tnow.columns[n] for n in range(n_)]\n",
    "out = pd.DataFrame(out)\n",
    "out = out[list(names)]\n",
    "out.to_csv(path+'db_pricing_historical.csv',\n",
    "           index=False)\n",
    "del out\n",
    "\n",
    "# ex-ante performance over one day\n",
    "out = {db_v_tnow.columns[n]: pi_oneday[:, n]\n",
    "       for n in range(n_)}\n",
    "names = [db_v_tnow.columns[n] for n in range(n_)]\n",
    "out = pd.DataFrame(out)\n",
    "out = out[list(names)]\n",
    "out.to_csv(path+'db_oneday_pl_historical.csv', index=False)\n",
    "del out"
   ]
  },
  {
   "cell_type": "markdown",
   "metadata": {},
   "source": [
    "## Plots"
   ]
  },
  {
   "cell_type": "code",
   "execution_count": null,
   "metadata": {},
   "outputs": [],
   "source": [
    "plt.style.use('arpm')\n",
    "# instrument P&L plot\n",
    "fig = plt.figure(figsize=(1280.0/72.0, 720.0/72.0), dpi=72.0)\n",
    "f, xp = histogram_sp(pi_tnow_thor[:, n_plot-1], p=p, k_=30)\n",
    "\n",
    "plt.bar(xp, f, width=xp[1]-xp[0], fc=[0.7, 0.7, 0.7],\n",
    "        edgecolor=[0.5, 0.5, 0.5])\n",
    "plt.xticks(fontsize=14)\n",
    "plt.yticks(fontsize=14)\n",
    "plt.xlabel('P&L', fontsize=17)\n",
    "plt.title('Ex-ante P&L: '+db_v_tnow.columns[n_plot-1], fontsize=20, fontweight='bold')\n",
    "\n",
    "add_logo(fig, set_fig_size=False)\n",
    "plt.show()"
   ]
  }
 ],
 "metadata": {
  "kernelspec": {
   "display_name": "Python 3",
   "language": "python",
   "name": "python3"
  }
 },
 "nbformat": 4,
 "nbformat_minor": 4
}
