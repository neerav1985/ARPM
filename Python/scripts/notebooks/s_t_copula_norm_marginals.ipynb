{
 "cells": [
  {
   "cell_type": "markdown",
   "metadata": {},
   "source": [
    "# s_t_copula_norm_marginals [<img src=\"https://www.arpm.co/lab/icons/icon_permalink.png\" width=30 height=30 style=\"display: inline;\">](https://www.arpm.co/lab/redirect.php?code=s_t_copula_norm_marginals&codeLang=Python)\n",
    "For details, see [here](https://www.arpm.co/lab/redirect.php?permalink=eb-2-ex-tcop-giv-marg)."
   ]
  },
  {
   "cell_type": "code",
   "execution_count": null,
   "metadata": {},
   "outputs": [],
   "source": [
    "import numpy as np\n",
    "from scipy import stats\n",
    "import matplotlib.pyplot as plt\n",
    "from mpl_toolkits.mplot3d import Axes3D\n",
    "\n",
    "from arpym.statistics.simulate_t import simulate_t\n",
    "from arpym.statistics.t_cop_pdf import t_cop_pdf\n",
    "from arpym.tools.logo import add_logo"
   ]
  },
  {
   "cell_type": "markdown",
   "metadata": {},
   "source": [
    "## [Input parameters](https://www.arpm.co/lab/redirect.php?permalink=s_t_copula_norm_marginals-parameters)"
   ]
  },
  {
   "cell_type": "code",
   "execution_count": null,
   "metadata": {},
   "outputs": [],
   "source": [
    "j_ = 1000  # number of scenarios\n",
    "mu = np.array([0, 0])  # location\n",
    "rho = 0.2  # correlation coefficient\n",
    "svec = np.array([1, 1])  # standard deviations\n",
    "nu = 10  # degrees of freedom\n",
    "\n",
    "# grid in the unit square\n",
    "grid = np.arange(0.01, 1, 0.01)\n",
    "n_grid = len(grid)"
   ]
  },
  {
   "cell_type": "markdown",
   "metadata": {},
   "source": [
    "## Generate copula scenarios"
   ]
  },
  {
   "cell_type": "code",
   "execution_count": null,
   "metadata": {},
   "outputs": [],
   "source": [
    "c2 = np.array([[1, rho], [rho, 1]])  # correlation matrix\n",
    "sigma2 = np.diag(svec)@c2@np.diag(svec)  # covariance\n",
    "\n",
    "z = simulate_t(mu, sigma2, nu, j_)  # t scenarios\n",
    "u1 = stats.t.cdf(z[:, 0], nu, mu[0], svec[0])\n",
    "u2 = stats.t.cdf(z[:, 1], nu, mu[1], svec[1])\n",
    "u = np.r_[u1, u2]  # grade scenarios"
   ]
  },
  {
   "cell_type": "markdown",
   "metadata": {},
   "source": [
    "## Generate joint scenarios"
   ]
  },
  {
   "cell_type": "code",
   "execution_count": null,
   "metadata": {
    "lines_to_next_cell": 2
   },
   "outputs": [],
   "source": [
    "x1 = stats.norm.ppf(u1, mu[0], svec[0])\n",
    "x2 = stats.norm.ppf(u2, mu[1], svec[1])\n",
    "x = np.r_[x1, x2]  # joint scenarios"
   ]
  },
  {
   "cell_type": "markdown",
   "metadata": {},
   "source": [
    "## Compute pdf of joint distribution"
   ]
  },
  {
   "cell_type": "code",
   "execution_count": null,
   "metadata": {},
   "outputs": [],
   "source": [
    "f_u = np.zeros((n_grid, n_grid))\n",
    "f_x = np.zeros((n_grid, n_grid))\n",
    "for n in range(n_grid):\n",
    "    for m in range(n_grid):\n",
    "        u = np.r_[grid[n], grid[m]].reshape(-1, 1)  # evaluation points\n",
    "        f_u[n, m] = t_cop_pdf(u, nu, mu, sigma2)  # pdf of copula\n",
    "        f_x[n, m] = f_u[n, m]*np.prod(stats.norm.pdf(stats.norm.ppf(u, mu, svec), mu, svec))  # pdf of joint distribution"
   ]
  },
  {
   "cell_type": "markdown",
   "metadata": {},
   "source": [
    "## Plots"
   ]
  },
  {
   "cell_type": "code",
   "execution_count": null,
   "metadata": {},
   "outputs": [],
   "source": [
    "xx_1 = stats.norm.ppf(grid, mu[0], svec[0])\n",
    "xx_2 = stats.norm.ppf(grid, mu[1], svec[1])\n",
    "[x_1, x_2] = np.meshgrid(xx_1, xx_2)\n",
    "\n",
    "plt.style.use('arpm')\n",
    "x_color = [4/255, 63/255, 114/255]\n",
    "\n",
    "# set figure specification\n",
    "f = plt.figure(1, figsize=(1280.0/72.0, 720.0/72.0), dpi=72.0)\n",
    "\n",
    "ax1 = plt.axes([0.3, 0.53, 0.35, 0.35], projection='3d')\n",
    "ax1.plot_surface(x_1, x_2, f_x.T, facecolor='k', edgecolor=x_color)\n",
    "ax1.view_init(30, -120)\n",
    "plt.xlabel('$X_1$', labelpad=7)\n",
    "plt.ylabel('$X_2$', labelpad=7)\n",
    "ax1.set_zlabel('Joint pdf')\n",
    "\n",
    "ax3 = plt.axes([0.408, 0.12, 0.1623, 0.35])\n",
    "ax3.scatter(x1, x2, s=10, color=x_color, marker='*')\n",
    "ax3.tick_params(axis='x', colors='None')\n",
    "ax3.tick_params(axis='y', colors='None')\n",
    "plt.xlabel('$X_1$', labelpad=-5)\n",
    "plt.ylabel('$X_2$', labelpad=-5)\n",
    "\n",
    "ax4 = plt.axes([0.408, 0.001, 0.1623, 0.07])\n",
    "plt.hist(np.sort(x1), bins=int(10*np.log(j_)), color=x_color, density=True, bottom=0)\n",
    "plt.gca().invert_yaxis()\n",
    "\n",
    "ax5 = plt.axes([0.32, 0.12, 0.05, 0.35])\n",
    "plt.hist(np.sort(x2), bins=int(10*np.log(j_)), density=True,\n",
    "         color=x_color, bottom=0, orientation='horizontal')\n",
    "plt.gca().invert_xaxis()\n",
    "\n",
    "add_logo(f, axis=ax1, location=4, set_fig_size=False)"
   ]
  }
 ],
 "metadata": {
  "kernelspec": {
   "display_name": "Python 3",
   "language": "python",
   "name": "python3"
  }
 },
 "nbformat": 4,
 "nbformat_minor": 4
}
