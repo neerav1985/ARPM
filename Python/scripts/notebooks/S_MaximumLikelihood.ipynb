{
 "cells": [
  {
   "cell_type": "markdown",
   "metadata": {},
   "source": [
    "# S_MaximumLikelihood [<img src=\"https://www.arpm.co/lab/icons/icon_permalink.png\" width=30 height=30 style=\"display: inline;\">](https://www.arpm.co/lab/redirect.php?code=S_MaximumLikelihood&codeLang=Python)\n",
    "For details, see [here](https://www.arpm.co/lab/redirect.php?permalink=eb-4-ex-mle)."
   ]
  },
  {
   "cell_type": "markdown",
   "metadata": {},
   "source": [
    "## Prepare the environment"
   ]
  },
  {
   "cell_type": "code",
   "execution_count": null,
   "metadata": {},
   "outputs": [],
   "source": [
    "import os\n",
    "import os.path as path\n",
    "import sys\n",
    "\n",
    "sys.path.append(path.abspath('../../functions-legacy'))\n",
    "\n",
    "import numpy as np\n",
    "from numpy import arange, array, zeros, log, exp, sqrt, r_\n",
    "from numpy import max as npmax\n",
    "\n",
    "from scipy.stats import t, lognorm\n",
    "from scipy.io import loadmat, savemat\n",
    "\n",
    "import matplotlib.pyplot as plt\n",
    "from matplotlib.pyplot import figure, plot, legend, scatter\n",
    "\n",
    "plt.style.use('seaborn')\n",
    "\n",
    "from CONFIG import GLOBAL_DB, TEMPORARY_DB\n",
    "from ARPM_utils import save_plot"
   ]
  },
  {
   "cell_type": "markdown",
   "metadata": {},
   "source": [
    "## Upload dataset"
   ]
  },
  {
   "cell_type": "code",
   "execution_count": null,
   "metadata": {},
   "outputs": [],
   "source": [
    "try:\n",
    "    db = loadmat(os.path.join(GLOBAL_DB, 'db_TimeSeries'), squeeze_me=True)\n",
    "except FileNotFoundError:\n",
    "    db = loadmat(os.path.join(TEMPORARY_DB, 'db_TimeSeries'), squeeze_me=True)\n",
    "\n",
    "i_t = db['i_t']\n",
    "t_ = len(i_t)"
   ]
  },
  {
   "cell_type": "markdown",
   "metadata": {},
   "source": [
    "## Define the set of possible values for theta (approximating [-0.04,-0.01] with a finite set of points)"
   ]
  },
  {
   "cell_type": "code",
   "execution_count": null,
   "metadata": {},
   "outputs": [],
   "source": [
    "theta_set = r_[arange(-.04,-.009,0.001), array([0.02]), array([0.03])]"
   ]
  },
  {
   "cell_type": "markdown",
   "metadata": {},
   "source": [
    "## compute the log-likelihood for each value of theta in theta_set"
   ]
  },
  {
   "cell_type": "code",
   "execution_count": null,
   "metadata": {},
   "outputs": [],
   "source": [
    "loglikelihoods = zeros((1, len(theta_set)))  # preallocation for speed\n",
    "for s in range(len(theta_set)):\n",
    "    theta = theta_set[s]\n",
    "    # Parametric pdf used in the ML estimation\n",
    "    if theta <= 0:\n",
    "        nu = 1\n",
    "        pdf = 1 / sqrt(theta ** 2)*t.pdf((i_t - theta) / theta, nu)\n",
    "    else:\n",
    "        pdf = lognorm.pdf(i_t, (theta - 0.01), scale=exp(theta, ))\n",
    "\n",
    "    loglikelihoods[0,s] = sum(log(pdf))"
   ]
  },
  {
   "cell_type": "markdown",
   "metadata": {},
   "source": [
    "## Choose theta_ML as the value of theta giving rise to the maximum log-likelihood"
   ]
  },
  {
   "cell_type": "code",
   "execution_count": null,
   "metadata": {},
   "outputs": [],
   "source": [
    "mmax, max_index = npmax(loglikelihoods),np.argmax(loglikelihoods)\n",
    "theta_ML = theta_set[max_index]\n",
    "\n",
    "vars_to_save = {varname: var for varname, var in locals().items() if isinstance(var,(np.ndarray,np.float,np.int))}\n",
    "savemat(os.path.join(TEMPORARY_DB,'db_MaximumLikelihood'),vars_to_save)"
   ]
  },
  {
   "cell_type": "markdown",
   "metadata": {},
   "source": [
    "## Figure"
   ]
  },
  {
   "cell_type": "code",
   "execution_count": null,
   "metadata": {},
   "outputs": [],
   "source": [
    "# print the LL value for range of parameters\n",
    "figure()\n",
    "plot(theta_set, loglikelihoods[0], markersize=15,color='b',marker='.',linestyle='none')\n",
    "# highlight the maximum LL value\n",
    "scatter(theta_ML, mmax, s=1000, color='r', marker='.',zorder=0)\n",
    "legend(['Log-likelihoods','Maximum log-likelihood']);\n",
    "# save_plot(ax=plt.gca(), extension='png', scriptname=os.path.basename('.')[:-3], count=plt.get_fignums()[-1])"
   ]
  }
 ],
 "metadata": {
  "jupytext": {
   "encoding": "# -*- coding: utf-8 -*-",
   "executable": "/usr/bin/env python3"
  },
  "kernelspec": {
   "display_name": "Python 3",
   "language": "python",
   "name": "python3"
  }
 },
 "nbformat": 4,
 "nbformat_minor": 4
}
