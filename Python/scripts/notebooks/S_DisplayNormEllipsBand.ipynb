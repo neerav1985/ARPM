{
 "cells": [
  {
   "cell_type": "markdown",
   "metadata": {},
   "source": [
    "# S_DisplayNormEllipsBand [<img src=\"https://www.arpm.co/lab/icons/icon_permalink.png\" width=30 height=30 style=\"display: inline;\">](https://www.arpm.co/lab/redirect.php?code=S_DisplayNormEllipsBand&codeLang=Python)\n",
    "For details, see [here](https://www.arpm.co/lab/redirect.php?permalink=ProjCont)."
   ]
  },
  {
   "cell_type": "markdown",
   "metadata": {},
   "source": [
    "## Prepare the environment"
   ]
  },
  {
   "cell_type": "code",
   "execution_count": null,
   "metadata": {},
   "outputs": [],
   "source": [
    "import os\n",
    "import os.path as path\n",
    "import sys\n",
    "\n",
    "sys.path.append(path.abspath('../../functions-legacy'))\n",
    "\n",
    "from numpy import array, cos, sin, pi, linspace, diag, sqrt, r_\n",
    "\n",
    "import matplotlib.pyplot as plt\n",
    "from matplotlib.pyplot import figure, legend, scatter, title\n",
    "\n",
    "plt.style.use('seaborn')\n",
    "\n",
    "from ARPM_utils import save_plot\n",
    "from PlotTwoDimEllipsoid import PlotTwoDimEllipsoid\n",
    "from NormalScenarios import NormalScenarios\n",
    "from PlotTwoDimBand import PlotTwoDimBand\n",
    "\n",
    "# inputs\n",
    "j_ = 10000\n",
    "r = 3  # scale of the bands\n",
    "n_points = 1000  # points of the bands\n",
    "mu = array([[0.2], [0.5]])\n",
    "sigma2 = array([[1, 0.5], [0.5, 0.8]])"
   ]
  },
  {
   "cell_type": "markdown",
   "metadata": {},
   "source": [
    "## Compute the standard deviations along the directions"
   ]
  },
  {
   "cell_type": "code",
   "execution_count": null,
   "metadata": {},
   "outputs": [],
   "source": [
    "theta = linspace(0, 2*pi, n_points).reshape(1,-1)\n",
    "u = r_[cos(theta), sin(theta)]  # directions\n",
    "\n",
    "sigma_u = sqrt(diag(u.T@sigma2@u))  # projected standard deviations"
   ]
  },
  {
   "cell_type": "markdown",
   "metadata": {},
   "source": [
    "## Generate the normal sample"
   ]
  },
  {
   "cell_type": "code",
   "execution_count": null,
   "metadata": {},
   "outputs": [],
   "source": [
    "X,_ = NormalScenarios(mu, sigma2, j_, 'Chol')"
   ]
  },
  {
   "cell_type": "markdown",
   "metadata": {},
   "source": [
    "## Display the band, the ellipsoid and overlay the scatterplot"
   ]
  },
  {
   "cell_type": "code",
   "execution_count": null,
   "metadata": {},
   "outputs": [],
   "source": [
    "figure(figsize=(10,10))\n",
    "p1 = PlotTwoDimBand(mu, sigma_u, u, r, 'b')\n",
    "p2 = PlotTwoDimEllipsoid(mu, sigma2, r, [], [], 'r')\n",
    "scatter(X[0], X[1], s=5, c=[.3, .3, .3], marker='*')\n",
    "legend(['Exp-Std. dev. band','Exp-Cov ellipsoid'])\n",
    "title('Bivariate normal')\n",
    "plt.axis('equal');\n",
    "# save_plot(ax=plt.gca(), extension='png', scriptname=os.path.basename('.')[:-3], count=plt.get_fignums()[-1])"
   ]
  }
 ],
 "metadata": {
  "jupytext": {
   "encoding": "# -*- coding: utf-8 -*-",
   "executable": "/usr/bin/env python3"
  },
  "kernelspec": {
   "display_name": "Python 3",
   "language": "python",
   "name": "python3"
  }
 },
 "nbformat": 4,
 "nbformat_minor": 4
}
