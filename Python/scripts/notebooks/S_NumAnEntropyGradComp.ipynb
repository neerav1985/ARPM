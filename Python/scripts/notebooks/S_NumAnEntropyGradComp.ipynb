{
 "cells": [
  {
   "cell_type": "markdown",
   "metadata": {},
   "source": [
    "# S_NumAnEntropyGradComp [<img src=\"https://www.arpm.co/lab/icons/icon_permalink.png\" width=30 height=30 style=\"display: inline;\">](https://www.arpm.co/lab/redirect.php?code=S_NumAnEntropyGradComp&codeLang=Python)\n",
    "For details, see [here](https://www.arpm.co/lab/redirect.php?permalink=eb-comp-num-an-grad)."
   ]
  },
  {
   "cell_type": "markdown",
   "metadata": {},
   "source": [
    "## Prepare the environment"
   ]
  },
  {
   "cell_type": "code",
   "execution_count": null,
   "metadata": {},
   "outputs": [],
   "source": [
    "import os.path as path\n",
    "import sys, os\n",
    "\n",
    "from scipy.io import loadmat\n",
    "from tqdm import trange\n",
    "\n",
    "sys.path.append(path.abspath('../../functions-legacy'))\n",
    "from collections import namedtuple\n",
    "\n",
    "from numpy import ones, zeros, round, log\n",
    "from numpy.random import randn\n",
    "from numpy.linalg import norm\n",
    "\n",
    "import matplotlib.pyplot as plt\n",
    "from matplotlib.pyplot import figure, bar, title\n",
    "\n",
    "plt.style.use('seaborn')\n",
    "\n",
    "from ARPM_utils import save_plot\n",
    "from HistogramFP import HistogramFP\n",
    "from REnormLRD import REnormLRD\n",
    "from numgrad import numgrad\n",
    "\n",
    "# input parameters\n",
    "j_ = 100  # number of simulations\n",
    "n_ = 3  # market dimension\n",
    "k_ = 2  # number of factors"
   ]
  },
  {
   "cell_type": "markdown",
   "metadata": {},
   "source": [
    "## Set random base-case parameters"
   ]
  },
  {
   "cell_type": "code",
   "execution_count": null,
   "metadata": {},
   "outputs": [],
   "source": [
    "mu_ = randn(n_, 1)  # expectation\n",
    "c = randn(n_, n_)\n",
    "invs2_ = c@c.T  # inverse covariance\n",
    "\n",
    "# relative entropy\n",
    "e = lambda theta: REnormLRD(theta, mu_, invs2_, n_, k_)[0]\n",
    "e2 = lambda theta: REnormLRD(theta, mu_, invs2_, n_, k_)[1]"
   ]
  },
  {
   "cell_type": "markdown",
   "metadata": {},
   "source": [
    "## Main computations"
   ]
  },
  {
   "cell_type": "code",
   "execution_count": null,
   "metadata": {},
   "outputs": [],
   "source": [
    "err = zeros((j_, 1))\n",
    "for j in trange(j_,desc='Simulations'):\n",
    "    # Set random variables\n",
    "    theta_ = randn(n_ + n_*k_ + n_, 1)\n",
    "    # Compute numerical gradient\n",
    "    ngrad = numgrad(e, theta_)[0]\n",
    "    ngrad = ngrad.flatten('F')\n",
    "    # Compute analytical gradient\n",
    "    angrad = e2(theta_)\n",
    "    # Compute relative error\n",
    "    err[j] = norm(angrad.flatten('F') - ngrad) / norm(angrad)"
   ]
  },
  {
   "cell_type": "markdown",
   "metadata": {},
   "source": [
    "## Display the relative error"
   ]
  },
  {
   "cell_type": "code",
   "execution_count": null,
   "metadata": {},
   "outputs": [],
   "source": [
    "nbins = int(round(10*log(j_)))\n",
    "figure()\n",
    "\n",
    "p = ones((1, len(err))) / len(err)\n",
    "ax = plt.gca()\n",
    "option = namedtuple('option', 'n_bins')\n",
    "option.n_bins = nbins\n",
    "[n, x] = HistogramFP(err.T, p, option)\n",
    "b = bar(x[:-1], n[0],width=x[1]-x[0],facecolor= [.7, .7, .7])\n",
    "plt.grid(True)\n",
    "ax.ticklabel_format(axis='x', style='sci', scilimits=(-2,2))\n",
    "ax.ticklabel_format(axis='y', style='sci', scilimits=(-2,2))\n",
    "title('Relative error');\n",
    "# save_plot(ax=plt.gca(), extension='png', scriptname=os.path.basename('.')[:-3], count=plt.get_fignums()[-1])\n"
   ]
  }
 ],
 "metadata": {
  "jupytext": {
   "encoding": "# -*- coding: utf-8 -*-",
   "executable": "/usr/bin/env python3"
  },
  "kernelspec": {
   "display_name": "Python 3",
   "language": "python",
   "name": "python3"
  }
 },
 "nbformat": 4,
 "nbformat_minor": 4
}
