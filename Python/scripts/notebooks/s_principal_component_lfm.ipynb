{
 "cells": [
  {
   "cell_type": "markdown",
   "metadata": {},
   "source": [
    "# s_principal_component_lfm [<img src=\"https://www.arpm.co/lab/icons/icon_permalink.png\" width=30 height=30 style=\"display: inline;\">](https://www.arpm.co/lab/redirect.php?code=s_principal_component_lfm&codeLang=Python)\n",
    "For details, see [here](https://www.arpm.co/lab/redirect.php?permalink=eb-lfmhid-cor-copy-1)."
   ]
  },
  {
   "cell_type": "code",
   "execution_count": null,
   "metadata": {},
   "outputs": [],
   "source": [
    "import matplotlib.pyplot as plt\n",
    "from matplotlib.lines import Line2D\n",
    "import numpy as np\n",
    "\n",
    "from arpym.statistics.simulate_normal import simulate_normal\n",
    "from arpym.tools.pca_cov import pca_cov\n",
    "from arpym.tools.plot_ellipsoid import plot_ellipsoid\n",
    "from arpym.tools.transpose_square_root import transpose_square_root\n",
    "from arpym.tools.logo import add_logo"
   ]
  },
  {
   "cell_type": "markdown",
   "metadata": {},
   "source": [
    "## [Input parameters](https://www.arpm.co/lab/redirect.php?permalink=s_principal_component_lfm-parameters)"
   ]
  },
  {
   "cell_type": "code",
   "execution_count": null,
   "metadata": {},
   "outputs": [],
   "source": [
    "mu_x = np.array([1., 0., 3.])  # expectation of target\n",
    "sig2_x = np.array([[1., -0.4, 0.68],\n",
    "                 [-0.4, 1., -0.58],\n",
    "                 [0.68, -0.58, 1.]])  # covariance of target\n",
    "sig2 = np.eye(3)  # scale matrix\n",
    "k_ = 2  # number of factors\n",
    "j_ = 1000  # number of scenarios"
   ]
  },
  {
   "cell_type": "markdown",
   "metadata": {},
   "source": [
    "## [Step 1](https://www.arpm.co/lab/redirect.php?permalink=s_principal_component_lfm-implementation-step01): Compute Riccati root of the scale matrix"
   ]
  },
  {
   "cell_type": "code",
   "execution_count": null,
   "metadata": {},
   "outputs": [],
   "source": [
    "sig = transpose_square_root(sig2)  # Riccati root of scale matrix"
   ]
  },
  {
   "cell_type": "markdown",
   "metadata": {},
   "source": [
    "## [Step 2](https://www.arpm.co/lab/redirect.php?permalink=s_principal_component_lfm-implementation-step02): Compute the eigenvalues and eigenvectors"
   ]
  },
  {
   "cell_type": "code",
   "execution_count": null,
   "metadata": {},
   "outputs": [],
   "source": [
    "n_ = len(mu_x)\n",
    "sig_inv = np.linalg.solve(sig, np.eye(n_))\n",
    "e, lambda2 = pca_cov(sig_inv@sig2_x@sig_inv)  # eigenvectors and eigenvalues"
   ]
  },
  {
   "cell_type": "markdown",
   "metadata": {},
   "source": [
    "## [Step 2](https://www.arpm.co/lab/redirect.php?permalink=s_principal_component_lfm-implementation-step02): Compute the loadings, factor-construction matrix and r-square"
   ]
  },
  {
   "cell_type": "code",
   "execution_count": null,
   "metadata": {},
   "outputs": [],
   "source": [
    "beta = sig @ e[:, :k_]  # loadings\n",
    "gamma = e[:, :k_].T@sig_inv  # factor-construction matrix\n",
    "alpha = mu_x  # shift\n",
    "\n",
    "r2_sig2 = np.sum(lambda2[:k_]) / np.sum(lambda2)  # r-squared"
   ]
  },
  {
   "cell_type": "markdown",
   "metadata": {},
   "source": [
    "## [Step 3](https://www.arpm.co/lab/redirect.php?permalink=s_principal_component_lfm-implementation-step03): Compute mean and cov of factors and factor-recovered variables"
   ]
  },
  {
   "cell_type": "code",
   "execution_count": null,
   "metadata": {},
   "outputs": [],
   "source": [
    "mu_z = 0  # expectation of factors\n",
    "sig2_z = np.diag(lambda2[:k_])  # covariance of factors\n",
    "\n",
    "mu_x_pc_bar = mu_x  # expectation of prediction\n",
    "betagamma = beta @ gamma\n",
    "sig2_x_pc_bar = betagamma @ sig2_x @ betagamma.T   # covariance of prediction\n",
    "\n",
    "m = np.r_[np.eye(n_) - beta @ gamma, gamma]\n",
    "sig2_epsz = m @ sig2_x @ m.T  # joint covariance of residuals and factors"
   ]
  },
  {
   "cell_type": "markdown",
   "metadata": {},
   "source": [
    "## [Step 4](https://www.arpm.co/lab/redirect.php?permalink=s_principal_component_lfm-implementation-step04): Generate target variable and factor-recovered simulations"
   ]
  },
  {
   "cell_type": "code",
   "execution_count": null,
   "metadata": {},
   "outputs": [],
   "source": [
    "x = simulate_normal(mu_x, sig2_x, j_)  # target scenarios\n",
    "x_pc_bar = mu_x + (x - mu_x)@betagamma.T  # predicted scenarios\n",
    "\n",
    "x_rs = (x - mu_x)@sig_inv.T  # rescaled/shifted target scenarios\n",
    "x_pc_rs = (x_pc_bar - mu_x)@sig_inv.T  # rescaled/shifted predicted scenarios"
   ]
  },
  {
   "cell_type": "markdown",
   "metadata": {},
   "source": [
    "## Plots"
   ]
  },
  {
   "cell_type": "code",
   "execution_count": null,
   "metadata": {},
   "outputs": [],
   "source": [
    "plt.style.use('arpm')\n",
    "\n",
    "scale = 4\n",
    "\n",
    "# compute principal axis and plane\n",
    "pcrange = np.arange(-scale*1.5, scale*1.5+scale*0.5, scale*0.5)\n",
    "r_size = len(pcrange)\n",
    "\n",
    "plane = np.zeros((n_, r_size, r_size))\n",
    "for r1 in range(r_size):\n",
    "    for r2 in range(r_size):\n",
    "        plane[:, r1, r2] = e[:, 0] * np.sqrt(lambda2[0]) * pcrange[r1] + \\\n",
    "                           e[:, 1] * np.sqrt(lambda2[1]) * pcrange[r2]\n",
    "\n",
    "prange = np.arange(0, scale+scale*0.5, scale*0.5)\n",
    "r_size = len(prange)\n",
    "\n",
    "e1 = np.zeros((n_, r_size))\n",
    "e2 = np.zeros((n_, r_size))\n",
    "e3 = np.zeros((n_, r_size))\n",
    "for r in range(r_size):\n",
    "    e1[:, r] = e[:, 0] * np.sqrt(lambda2[0]) * prange[r]\n",
    "    e2[:, r] = e[:, 1] * np.sqrt(lambda2[1]) * prange[r]\n",
    "    e3[:, r] = e[:, 2] * np.sqrt(lambda2[2]) * prange[r]\n",
    "\n",
    "\n",
    "fig1, ax1 = plot_ellipsoid(np.zeros(3),\n",
    "                          sig_inv@sig2_x@sig_inv,\n",
    "                          r=scale,\n",
    "                          plot_axes=False,\n",
    "                          ellip_color=(.8, .8, .8),\n",
    "                          ellip_alpha=0.3,\n",
    "                          n_points=0)\n",
    "\n",
    "# plot plane\n",
    "ax1.view_init(30, -140)\n",
    "ax1.plot_surface(plane[0], plane[1], plane[2],\n",
    "                   color=[.8, .8, .8], shade=False, alpha=0.2)\n",
    "h00 = Line2D([0], [0], linestyle=\"none\", c=[.8, .8, .8],\n",
    "             marker='o', label='Principal component plane')\n",
    "# plot eigenvectors\n",
    "h01 = ax1.plot(e1[0], e1[1], e1[2], color='r', lw=2, label='Principal axes')\n",
    "ax1.plot(e2[0], e2[1], e2[2], color='r', lw=2)\n",
    "ax1.plot(e3[0], e3[1], e3[2], color='r', lw=2)\n",
    "\n",
    "# rescaled random sample\n",
    "h02 = ax1.plot(x_rs[:, 0], x_rs[:, 1], x_rs[:, 2], '.',\n",
    "                 color='b', markersize=3, label='Target variables')\n",
    "ax1.grid(False)\n",
    "ax1.set_xlabel(r'$X_{1}$')\n",
    "ax1.set_ylabel(r'$X_{2}$')\n",
    "ax1.set_zlabel(r'$X_{3}$')\n",
    "ax1.legend(handles=[h00, h01[0], h02[0]])\n",
    "\n",
    "add_logo(fig1, size_frac_x=1/8)\n",
    "\n",
    "\n",
    "fig2, ax2 = plot_ellipsoid(np.zeros(3),\n",
    "                          sig_inv@sig2_x@sig_inv,\n",
    "                          r=scale,\n",
    "                          plot_axes=False,\n",
    "                          ellip_color=(.8, .8, .8),\n",
    "                          ellip_alpha=0.3,\n",
    "                          n_points=0)\n",
    "\n",
    "# plot plane\n",
    "ax2.view_init(30, -140)\n",
    "ax2.plot_surface(plane[0], plane[1], plane[2],\n",
    "                   color=[.8, .8, .8], shade=False, alpha=0.2)\n",
    "h00 = Line2D([0], [0], linestyle=\"none\", c=[.8, .8, .8],\n",
    "             marker='o', label='Principal component plane')\n",
    "# plot eigenvectors\n",
    "h01 = ax2.plot(e1[0], e1[1], e1[2], color='r', lw=2, label='Principal axes')\n",
    "ax2.plot(e2[0], e2[1], e2[2], color='r', lw=2)\n",
    "ax2.plot(e3[0], e3[1], e3[2], color='r', lw=2)\n",
    "# rescaled projected sample\n",
    "h02 = ax2.plot(x_pc_rs[:, 0], x_pc_rs[:, 1], x_pc_rs[:, 2], '.',\n",
    "                 markersize=3, color='g', label='Prediction')\n",
    "ax2.grid(False)\n",
    "ax2.set_xlabel(r'$X_{1}$')\n",
    "ax2.set_ylabel(r'$X_{2}$')\n",
    "ax2.set_zlabel(r'$X_{3}$')\n",
    "ax2.legend(handles=[h00, h01[0], h02[0]])\n",
    "\n",
    "add_logo(fig2, size_frac_x=1/8)"
   ]
  }
 ],
 "metadata": {
  "jupytext": {
   "encoding": "# -*- coding: utf-8 -*-",
   "executable": "/usr/bin/env python3"
  },
  "kernelspec": {
   "display_name": "Python 3",
   "language": "python",
   "name": "python3"
  }
 },
 "nbformat": 4,
 "nbformat_minor": 4
}
