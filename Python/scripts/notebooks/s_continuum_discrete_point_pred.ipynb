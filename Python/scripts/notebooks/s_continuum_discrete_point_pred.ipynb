{
 "cells": [
  {
   "cell_type": "markdown",
   "metadata": {},
   "source": [
    "# s_continuum_discrete_point_pred [<img src=\"https://www.arpm.co/lab/icons/icon_permalink.png\" width=30 height=30 style=\"display: inline;\">](https://www.arpm.co/lab/redirect.php?code=s_continuum_discrete_point_pred&codeLang=Python)\n",
    "For details, see [here](https://www.arpm.co/lab/redirect.php?permalink=s_continuum_discrete_point_pred)."
   ]
  },
  {
   "cell_type": "code",
   "execution_count": null,
   "metadata": {},
   "outputs": [],
   "source": [
    "import numpy as np\n",
    "import matplotlib.pyplot as plt\n",
    "from matplotlib.patches import Rectangle\n",
    "\n",
    "from arpym.statistics.simulate_normal import simulate_normal\n",
    "from arpym.tools.logo import add_logo"
   ]
  },
  {
   "cell_type": "markdown",
   "metadata": {},
   "source": [
    "## [Input parameters](https://www.arpm.co/lab/redirect.php?permalink=s_continuum_discrete_point_pred-parameters)"
   ]
  },
  {
   "cell_type": "code",
   "execution_count": null,
   "metadata": {},
   "outputs": [],
   "source": [
    "p = 0.6  # unconditional probability\n",
    "mu_x_0 = 0.45  # conditional expectation\n",
    "mu_x_1 = 0.75  # conditional expectation\n",
    "sig2_x_0 = 0.0225  # conditional variance\n",
    "sig2_x_1 = 0.01  # conditional variance\n",
    "m_0 = 0.3  # arbitrary linear prediction for z=0\n",
    "m_1 = 1  # arbitrary linear prediction for z=1\n",
    "j_ = 10**5  # number of simulations"
   ]
  },
  {
   "cell_type": "markdown",
   "metadata": {},
   "source": [
    "## [Step 1](https://www.arpm.co/lab/redirect.php?permalink=s_continuum_discrete_point_pred-implementation-step01): Generate sample"
   ]
  },
  {
   "cell_type": "code",
   "execution_count": null,
   "metadata": {
    "lines_to_next_cell": 1
   },
   "outputs": [],
   "source": [
    "z = np.random.binomial(1, p, j_)\n",
    "x_0 = simulate_normal(mu_x_0, sig2_x_0**0.5, j_)\n",
    "x_1 = simulate_normal(mu_x_1, sig2_x_1**0.5, j_)\n",
    "x = (1-z)*x_0+z*x_1"
   ]
  },
  {
   "cell_type": "markdown",
   "metadata": {},
   "source": [
    "## [Step 2](https://www.arpm.co/lab/redirect.php?permalink=s_continuum_discrete_point_pred-implementation-step02): Compute arbitrary and optimal predictor"
   ]
  },
  {
   "cell_type": "code",
   "execution_count": null,
   "metadata": {
    "lines_to_end_of_cell_marker": 0,
    "lines_to_next_cell": 1
   },
   "outputs": [],
   "source": [
    "def chi_m0m1(z):\n",
    "    x = np.nan*np.ones_like(z)\n",
    "    x[z == 0] = m_0\n",
    "    x[z == 1] = m_1\n",
    "    return x\n",
    "\n",
    "\n",
    "def chi_mu0mu1(z):\n",
    "    x = np.nan*np.ones_like(z)\n",
    "    x[z == 0] = mu_x_0\n",
    "    x[z == 1] = mu_x_1\n",
    "    return x\n",
    "\n",
    "\n",
    "x_bar_arb = chi_m0m1(z)\n",
    "x_bar_opt = chi_mu0mu1(z)"
   ]
  },
  {
   "cell_type": "markdown",
   "metadata": {},
   "source": [
    "## [Step 3](https://www.arpm.co/lab/redirect.php?permalink=s_continuum_discrete_point_pred-implementation-step03): Compute X|z pdf"
   ]
  },
  {
   "cell_type": "code",
   "execution_count": null,
   "metadata": {},
   "outputs": [],
   "source": [
    "def norm_pdf(x, mu, sig):\n",
    "    return 1/(sig*np.sqrt(2*np.pi))*np.exp(-((x-mu)**2/(2*sig**2)))\n",
    "\n",
    "x_grid = np.linspace(-0.07, 1.2, 500)\n",
    "\n",
    "fx_0 = norm_pdf(x_grid, mu_x_0, sig2_x_0**0.5)\n",
    "fx_1 = norm_pdf(x_grid, mu_x_1, sig2_x_1**0.5)"
   ]
  },
  {
   "cell_type": "markdown",
   "metadata": {},
   "source": [
    "## Plots"
   ]
  },
  {
   "cell_type": "code",
   "execution_count": null,
   "metadata": {},
   "outputs": [],
   "source": [
    "plt.style.use('arpm')\n",
    "\n",
    "# arbitrary realizations of X for z=0,1 closest to the selected points\n",
    "x_arb_0 = 0.4\n",
    "x_arb_1 = 0.8\n",
    "\n",
    "# colors\n",
    "teal = [0.2344, 0.582, 0.5664]\n",
    "light_green_2 = [0.4781, 0.6406, 0.4031]\n",
    "light_grey = [0.4, 0.4, 0.4]\n",
    "orange = [0.94, 0.35, 0]\n",
    "markersize = 60\n",
    "j_plot = 10**2  # number of plotted simulations\n",
    "\n",
    "fig = plt.figure(dpi=72)\n",
    "fig.set_size_inches(10, 8)\n",
    "# plot locations\n",
    "pos1 = [0.346, 0.2589, 0.56888, 0.7111]\n",
    "pos2 = [0.336, 0.03, 0.56888, 0.1889]\n",
    "pos3 = [0.157, 0.2589, 0.16, 0.7111]\n",
    "# top right plot\n",
    "ax1 = fig.add_axes(pos1)\n",
    "ax1.axis('equal')\n",
    "ax1.set_xlim([-0.07, 1.2])\n",
    "ax1.set_ylim([-0.07, 1.2])\n",
    "xlimm = ax1.get_xlim()\n",
    "ylimm = ax1.get_ylim()\n",
    "ax1.set_facecolor('none')\n",
    "ax1.set_xticks([0, 1])\n",
    "ax1.set_yticks(np.arange(np.ceil(ylimm[0]), np.floor(ylimm[1])+1), 0.2)\n",
    "ax1.set_xlabel('$Z$', labelpad=-30, fontsize=14)\n",
    "ax1.set_ylabel('$X$', labelpad=-30, fontsize=14)\n",
    "# axes\n",
    "ax1.plot([0, 0], ylimm, 'k', lw=0.5)\n",
    "ax1.plot(xlimm,\n",
    "         [ylimm[0]+.05*(ylimm[1]-ylimm[0]), ylimm[0]+.05*(ylimm[1]-ylimm[0])],\n",
    "         'k', lw=0.5)\n",
    "# lines through means\n",
    "ax1.plot(xlimm, [mu_x_0, mu_x_0], xlimm, [mu_x_1, mu_x_1],\n",
    "         c=light_grey, lw=0.5)\n",
    "# joint\n",
    "l1 = ax1.scatter(z[:j_plot], x[:j_plot], s=markersize*3,\n",
    "                 edgecolor=[light_grey], c='none', marker='o')\n",
    "# E{X|z}\n",
    "l4 = ax1.scatter([0, 1], [mu_x_0, mu_x_1], marker='x', s=markersize*3,\n",
    "                 c=[orange], lw=6)\n",
    "# realization of Z\n",
    "l7 = ax1.scatter(1, ylimm[0]+0.02*(ylimm[1]-ylimm[0]),\n",
    "                 marker='o', s=markersize*3, c=[light_green_2])\n",
    "# arbitrary predictor\n",
    "l9 = ax1.scatter([0, 1], [m_0, m_1], marker='o', s=markersize*3,\n",
    "                 c='b', lw=6)\n",
    "# arbitrary simulations closest to x_arb_0 and x_arb_1\n",
    "index0 = np.argmin(abs(x[z == 0]-x_arb_0))\n",
    "x_0_arb = x[z == 0][index0]\n",
    "index1 = np.argmin(abs(x[z == 1]-x_arb_1))\n",
    "x_1_arb = x[z == 1][index1]\n",
    "ax1.scatter([0, 1], [x_0_arb, x_1_arb], marker='o', s=markersize*3,\n",
    "            c='k', lw=6)\n",
    "# blue and red rectangles\n",
    "min1 = min(x_0_arb, m_0)\n",
    "br0 = Rectangle((0, min1), abs(x_0_arb-m_0), abs(x_0_arb-m_0), fill=True,\n",
    "                alpha=0.2, facecolor='b', edgecolor='b')\n",
    "min1 = min(x_1_arb, m_1)\n",
    "br1 = Rectangle((1, min1), -abs(x_1_arb-m_1), abs(x_1_arb-m_1), fill=True,\n",
    "                alpha=0.2, facecolor='b', edgecolor='b')\n",
    "min1 = min(x_0_arb, mu_x_0)\n",
    "rr0 = Rectangle((0, min1), abs(x_0_arb-mu_x_0), abs(x_0_arb-mu_x_0),\n",
    "                fill=True, alpha=0.2, facecolor=orange, edgecolor=orange)\n",
    "min1 = min(x_1_arb, mu_x_1)\n",
    "rr1 = Rectangle((1, min1), -abs(x_1_arb-mu_x_1), abs(x_1_arb-mu_x_1),\n",
    "                fill=True, alpha=0.2, facecolor=orange, edgecolor=orange)\n",
    "ax1.add_patch(br0)\n",
    "ax1.add_patch(br1)\n",
    "ax1.add_patch(rr0)\n",
    "ax1.add_patch(rr1)\n",
    "ax1.grid(False)\n",
    "plt.box(False)\n",
    "\n",
    "# bottom plot\n",
    "ax2 = fig.add_axes(pos2)\n",
    "ax2.set_xlim([0, 1.27])\n",
    "ax2.set_ylim([-0.01, 1.03])\n",
    "ax2.set_facecolor('none')\n",
    "ax2.set_yticks([0, 0.5, 1])\n",
    "ax2.yaxis.tick_right()\n",
    "ax2.grid(True, color=light_grey)\n",
    "ax2.set_xticks([])\n",
    "l2 = ax2.bar(0.1, 1-p, 0.2, color=light_green_2, align='center')\n",
    "ax2.bar(1.1, p, 0.2, bottom=1-p, color=light_green_2, align='center')\n",
    "ax2.plot([0.2, 1], [1-p, 1-p], c=light_green_2, lw=0.5)\n",
    "plt.box(False)\n",
    "\n",
    "# left plot\n",
    "ax3 = fig.add_axes(pos3)\n",
    "ax3.set_xlim([0, 1.1*np.max([fx_0, fx_1])])\n",
    "ax3.set_ylim([-0.07, 1.2])\n",
    "ax3.set_facecolor('none')\n",
    "ax3.set_xticks([])\n",
    "ax3.set_yticks([])\n",
    "ax3.grid(False)\n",
    "ax3.invert_xaxis()\n",
    "# pdf's X|z\n",
    "ax3.plot(fx_0, x_grid, c=light_green_2, lw=2)\n",
    "l3, = ax3.plot(fx_1, x_grid, c=light_green_2, lw=2)\n",
    "plt.box(False)\n",
    "\n",
    "# legend\n",
    "fig.legend((l3, l4, l9, l2, l1),\n",
    "           ('Conditional X|z', 'Optimal prediction', 'Arbitrary prediction',\n",
    "            'Marginal Z', 'Joint (X,Z)'), 'lower left',\n",
    "           prop={'size': '17', 'weight': 'bold'},\n",
    "           facecolor='none', edgecolor='none')\n",
    "\n",
    "add_logo(fig)"
   ]
  }
 ],
 "metadata": {
  "jupytext": {
   "encoding": "# -*- coding: utf-8 -*-",
   "executable": "/usr/bin/env python3"
  },
  "kernelspec": {
   "display_name": "Python 3",
   "language": "python",
   "name": "python3"
  }
 },
 "nbformat": 4,
 "nbformat_minor": 4
}
