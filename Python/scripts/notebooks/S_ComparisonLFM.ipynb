{
 "cells": [
  {
   "cell_type": "markdown",
   "metadata": {},
   "source": [
    "# S_ComparisonLFM [<img src=\"https://www.arpm.co/lab/icons/icon_permalink.png\" width=30 height=30 style=\"display: inline;\">](https://www.arpm.co/lab/redirect.php?code=S_ComparisonLFM&codeLang=Python)\n",
    "For details, see [here](https://www.arpm.co/lab/redirect.php?permalink=eb-lfmtime-cor-copy-2)."
   ]
  },
  {
   "cell_type": "markdown",
   "metadata": {},
   "source": [
    "## Prepare the environment"
   ]
  },
  {
   "cell_type": "code",
   "execution_count": null,
   "metadata": {},
   "outputs": [],
   "source": [
    "import os\n",
    "import os.path as path\n",
    "import sys\n",
    "\n",
    "sys.path.append(path.abspath('../../functions-legacy'))\n",
    "\n",
    "import numpy as np\n",
    "from numpy import arange, array, zeros, sort, argsort, squeeze, \\\n",
    "    linspace, diag, eye, sqrt, tile, r_\n",
    "from numpy.linalg import eig\n",
    "\n",
    "import matplotlib.pyplot as plt\n",
    "from matplotlib.pyplot import figure, plot, legend, xlim, ylim\n",
    "\n",
    "plt.style.use('seaborn')\n",
    "\n",
    "from ARPM_utils import save_plot\n",
    "from PlotTwoDimEllipsoid import PlotTwoDimEllipsoid\n",
    "\n",
    "# inputs\n",
    "scale = 3\n",
    "n_ = 1\n",
    "k_ = 1\n",
    "\n",
    "m_Z = 1\n",
    "m_X = 1.5\n",
    "m_Xemb = r_[m_X, m_Z]\n",
    "\n",
    "s2_Z = 1.4\n",
    "s_XZ = 0.7\n",
    "s2_X = 1.2\n",
    "s2_Xemb = array([[s2_Z, s_XZ],\n",
    "             [s_XZ, s2_X]])\n",
    "\n",
    "xemb = array([[5],[-0.5]])"
   ]
  },
  {
   "cell_type": "markdown",
   "metadata": {},
   "source": [
    "## Principal-component LFM"
   ]
  },
  {
   "cell_type": "code",
   "execution_count": null,
   "metadata": {},
   "outputs": [],
   "source": [
    "s_vec = sqrt(diag(eye(n_ + k_)))\n",
    "\n",
    "# compute spectral decomposition of correlation matrix\n",
    "c2_Xemb = np.diagflat(1 / s_vec)@s2_Xemb@np.diagflat(1 / s_vec)\n",
    "\n",
    "Diaglambda2, e = eig(c2_Xemb)\n",
    "lambda2 = Diaglambda2\n",
    "lambda2, i = sort(lambda2)[::-1], argsort(lambda2)[::-1]  # sorting\n",
    "e = e[:, i]"
   ]
  },
  {
   "cell_type": "markdown",
   "metadata": {},
   "source": [
    "## compute optimal loadings and factor"
   ]
  },
  {
   "cell_type": "code",
   "execution_count": null,
   "metadata": {},
   "outputs": [],
   "source": [
    "beta_PC = np.diagflat(s_vec)@e[:, :k_]\n",
    "z_PC = e[:, :k_].T@np.diagflat(1 / s_vec)@xemb\n",
    "\n",
    "# compute optimal coefficient a\n",
    "m_Z_PC = e[:, :k_].T@np.diagflat(1 / s_vec)@m_Xemb\n",
    "alpha_PC = m_Xemb - beta_PC@m_Z_PC\n",
    "\n",
    "# compute recovered target variable\n",
    "x_tilde_PC = alpha_PC.reshape(-1,1) + beta_PC@z_PC\n",
    "\n",
    "# compute projection line and eigenvectors\n",
    "step = 0.01\n",
    "u_1 = arange(-2.7*scale,2.7*scale+3.6*scale / 50,3.6*scale / 50)\n",
    "u_2 = arange(-1.0*scale + step, 1.0*scale, step)\n",
    "r1_ = len(u_1)\n",
    "r2_ = len(u_2)\n",
    "pc_line = zeros((2, r1_))\n",
    "princ_dir1 = zeros((2, int((r2_ + 1) / 2)))\n",
    "princ_dir2 = zeros((2, int((r2_ + 1) / 2)))\n",
    "for r1 in range(r1_):  # line\n",
    "    pc_line[:,r1] = alpha_PC + e[:, 0]*u_1[r1]\n",
    "\n",
    "for r2 in range(int((r2_ + 1) / 2)):  # eigenvectors\n",
    "    princ_dir1[:, r2] = m_Xemb + e[:, 0]*sqrt(lambda2[0])*u_2[r2]\n",
    "    princ_dir2[:, r2] = m_Xemb + e[:, 1]*sqrt(lambda2[1])*u_2[r2]"
   ]
  },
  {
   "cell_type": "markdown",
   "metadata": {},
   "source": [
    "## Regression LFM"
   ]
  },
  {
   "cell_type": "code",
   "execution_count": null,
   "metadata": {},
   "outputs": [],
   "source": [
    "# compute optimal loadings\n",
    "beta_Reg = s_XZ/s2_Z\n",
    "# compute optimal coefficient a\n",
    "alpha_Reg = m_X - beta_Reg*m_Z\n",
    "\n",
    "# compute recovered target variable\n",
    "x_b_Reg = alpha_Reg + beta_Reg*xemb[0]\n",
    "x_tilde_Reg = r_[xemb[0], x_b_Reg]\n",
    "\n",
    "# compute projection line\n",
    "reg_line = zeros((2, 51))\n",
    "reg_line[0] = linspace(m_Z - 1.5*scale*sqrt(s2_Z), m_Z + 1.5*scale*sqrt(s2_Z),51)\n",
    "l_ = len(squeeze(reg_line[0]))\n",
    "reg_line[1] = tile(alpha_Reg, (1, l_)) + beta_Reg*reg_line[0]"
   ]
  },
  {
   "cell_type": "markdown",
   "metadata": {},
   "source": [
    "## Create figure"
   ]
  },
  {
   "cell_type": "code",
   "execution_count": null,
   "metadata": {},
   "outputs": [],
   "source": [
    "figure(figsize=(10,10))\n",
    "\n",
    "# Reg line\n",
    "h1 = plot(reg_line[0], reg_line[1], 'b')\n",
    "# PC line\n",
    "h2 = plot(pc_line[0], pc_line[1], 'g')\n",
    "# eigenvectors\n",
    "h3 = plot(princ_dir1[0], princ_dir1[1], 'm')\n",
    "plot(princ_dir2[0], princ_dir2[1], 'm')\n",
    "\n",
    "e1_ell = e[:, [0]]*sqrt(lambda2[0])*u_2[0]\n",
    "e2_ell = e[:, [1]]*sqrt(lambda2[1])*u_2[0]\n",
    "mat_ell = r_['-1',e1_ell, e2_ell]\n",
    "mat_ell = mat_ell@mat_ell.T\n",
    "PlotTwoDimEllipsoid(array([[princ_dir2[0, 299], princ_dir2[1, 299]]]).T, mat_ell, 1, color='g', linewidth=1)\n",
    "\n",
    "legend(['Regression line','PC line','Principal axes'])\n",
    "\n",
    "# data\n",
    "dx = 0.2\n",
    "plot(xemb[0], xemb[1], marker='.',markersize=10, color='k')\n",
    "# Reg projection\n",
    "plot(x_tilde_Reg[0], x_tilde_Reg[1], marker='.',markersize=10, color='k')\n",
    "# PC projection\n",
    "plot(x_tilde_PC[0], x_tilde_PC[1], marker='.',markersize=10, color='k')\n",
    "plt.text(xemb[0] + dx, xemb[1] + dx,'$x^{\\mathit{emb}}$' )\n",
    "plt.text(x_tilde_Reg[0] - 1.5*dx, x_tilde_Reg[1] + 1.5*dx,r'$\\tilde{x}^{\\mathit{Reg}}$')\n",
    "plt.text(x_tilde_PC[0] - 1.5*dx, x_tilde_PC[1] + 1.5*dx,r'$\\tilde{x}^{\\mathit{PC}}$')\n",
    "\n",
    "xlim([m_Z - 3.75*s2_Z, m_Z + 3.75*s2_Z])\n",
    "ylim([m_X - 4*s2_X, m_X + 4*s2_X]);\n",
    "plt.axis('equal');\n",
    "# save_plot(ax=plt.gca(), extension='png', scriptname=os.path.basename('.')[:-3], count=plt.get_fignums()[-1])\n"
   ]
  }
 ],
 "metadata": {
  "jupytext": {
   "encoding": "# -*- coding: utf-8 -*-",
   "executable": "/usr/bin/env python3"
  },
  "kernelspec": {
   "display_name": "Python 3",
   "language": "python",
   "name": "python3"
  }
 },
 "nbformat": 4,
 "nbformat_minor": 4
}
