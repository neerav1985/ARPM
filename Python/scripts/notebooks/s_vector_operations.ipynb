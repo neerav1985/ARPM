{
 "cells": [
  {
   "cell_type": "markdown",
   "metadata": {},
   "source": [
    "# s_vector_operations [<img src=\"https://www.arpm.co/lab/icons/icon_permalink.png\" width=30 height=30 style=\"display: inline;\">](https://www.arpm.co/lab/redirect.php?code=s_vector_operations&codeLang=Python)\n",
    "For details, see [here](https://www.arpm.co/lab/redirect.php?permalink=s_vector_operations)."
   ]
  },
  {
   "cell_type": "code",
   "execution_count": null,
   "metadata": {},
   "outputs": [],
   "source": [
    "import numpy as np\n",
    "import matplotlib.pyplot as plt\n",
    "\n",
    "from arpym.tools.logo import add_logo"
   ]
  },
  {
   "cell_type": "markdown",
   "metadata": {},
   "source": [
    "## [Input parameters](https://www.arpm.co/lab/redirect.php?permalink=s_vector_operations-parameters)"
   ]
  },
  {
   "cell_type": "code",
   "execution_count": null,
   "metadata": {},
   "outputs": [],
   "source": [
    "# vectors\n",
    "v = np.array([3.0, 1.5])\n",
    "u = np.array([0.5, 2.0])\n",
    "\n",
    "# scalars\n",
    "c_1 = 2  # stretch\n",
    "c_2 = 0.6  # contract\n",
    "c_3 = -1  # reflect"
   ]
  },
  {
   "cell_type": "markdown",
   "metadata": {},
   "source": [
    "## [Step 1](https://www.arpm.co/lab/redirect.php?permalink=s_vector_operations-implementation-step01): Scalar multiplication"
   ]
  },
  {
   "cell_type": "code",
   "execution_count": null,
   "metadata": {},
   "outputs": [],
   "source": [
    "v_stretch = c_1*v\n",
    "v_contract = c_2*v\n",
    "v_reflect = c_3*v"
   ]
  },
  {
   "cell_type": "markdown",
   "metadata": {},
   "source": [
    "## [Step 2](https://www.arpm.co/lab/redirect.php?permalink=s_vector_operations-implementation-step02): Addition"
   ]
  },
  {
   "cell_type": "code",
   "execution_count": null,
   "metadata": {},
   "outputs": [],
   "source": [
    "w = u + v"
   ]
  },
  {
   "cell_type": "markdown",
   "metadata": {},
   "source": [
    "## [Step 3](https://www.arpm.co/lab/redirect.php?permalink=s_vector_operations-implementation-step03): Subtraction"
   ]
  },
  {
   "cell_type": "code",
   "execution_count": null,
   "metadata": {},
   "outputs": [],
   "source": [
    "u_tilde = w - v"
   ]
  },
  {
   "cell_type": "markdown",
   "metadata": {},
   "source": [
    "## Plots"
   ]
  },
  {
   "cell_type": "code",
   "execution_count": null,
   "metadata": {},
   "outputs": [],
   "source": [
    "plt.style.use('arpm')\n",
    "\n",
    "fig1, [ax1, ax2] = plt.subplots(1, 2, figsize=(1280.0/72.0, 720.0/72.0), dpi = 72.0)\n",
    "\n",
    "# vector addition\n",
    "ax1.set_title('Vector addition', fontsize=20, fontweight='bold')\n",
    "# v\n",
    "ax1.arrow(0, 0, v[0], v[1], color='C0',\n",
    "         length_includes_head=True,\n",
    "         head_width=0.1)\n",
    "ax1.text(v[0], v[1], r'$\\mathbf{v}$', fontsize=14)\n",
    "\n",
    "# u\n",
    "ax1.arrow(0, 0, u[0], u[1], color='C0',\n",
    "         length_includes_head=True,\n",
    "         head_width=0.1)\n",
    "ax1.text(u[0], u[1], r'$\\mathbf{u}$', fontsize=14)\n",
    "\n",
    "# w=u+v\n",
    "ax1.arrow(0, 0, w[0], w[1], color='darkorange',\n",
    "         length_includes_head=True,\n",
    "         head_width=0.1)\n",
    "ax1.text(w[0], w[1],\n",
    "         r'$\\mathbf{w}=\\mathbf{u}+\\mathbf{v}$', fontsize=14)\n",
    "\n",
    "ax1.plot([v[0], w[0]], [v[1], w[1]],\n",
    "         color='lightgrey', ls='--', lw=2,\n",
    "         alpha=0.6)\n",
    "ax1.plot([u[0], w[0]], [u[1], w[1]],\n",
    "         color='lightgrey', ls='--', lw=2,\n",
    "         alpha=0.6)\n",
    "\n",
    "limval = max(np.abs(w))\n",
    "ax1.set_xlim([-limval*1.4, limval*1.4])\n",
    "ax1.set_ylim([-limval*1.4, limval*1.4])\n",
    "ax1.axhline(color='black')\n",
    "ax1.axvline(color='black')\n",
    "plt.xticks(fontsize=14)\n",
    "plt.yticks(fontsize=14)\n",
    "\n",
    "# vector subtraction\n",
    "ax2.set_title('Vector subtraction', fontsize=20, fontweight='bold')\n",
    "# v\n",
    "ax2.arrow(0, 0, v[0], v[1], color='C0',\n",
    "         length_includes_head=True,\n",
    "         head_width=0.1)\n",
    "ax2.text(v[0], v[1], r'$\\mathbf{v}$', fontsize=14)\n",
    "\n",
    "# w\n",
    "ax2.arrow(0, 0, w[0], w[1], color='C0',\n",
    "         length_includes_head=True,\n",
    "         head_width=0.1)\n",
    "ax2.text(w[0], w[1], r'$\\mathbf{w}$', fontsize=14)\n",
    "\n",
    "# u=w-v\n",
    "ax2.arrow(0, 0, u_tilde[0], u_tilde[1],\n",
    "          color='darkorange',\n",
    "          length_includes_head=True,\n",
    "          head_width=0.1)\n",
    "ax2.text(u_tilde[0], u_tilde[1],\n",
    "         r'$\\mathbf{u}=\\mathbf{w}-\\mathbf{v}$', fontsize=14)\n",
    "\n",
    "ax2.plot([0, -v[0]], [0, -v[1]],\n",
    "         color='lightgrey', ls='--', lw=2,\n",
    "         alpha=0.6)\n",
    "ax2.text(-v[0], -v[1], r'$-\\mathbf{v}$', fontsize=14,\n",
    "         horizontalalignment='right')\n",
    "ax2.plot([-v[0], u_tilde[0]], [-v[1], u_tilde[1]],\n",
    "         color='lightgrey', ls='--', lw=2,\n",
    "         alpha=0.6)\n",
    "ax2.plot([w[0], u_tilde[0]], [w[1], u_tilde[1]],\n",
    "         color='lightgrey', ls='--', lw=2,\n",
    "         alpha=0.6)\n",
    "\n",
    "ax2.set_xlim([-limval*1.4, limval*1.4])\n",
    "ax2.set_ylim([-limval*1.4, limval*1.4])\n",
    "ax2.axhline(color='black')\n",
    "ax2.axvline(color='black')\n",
    "plt.xticks(fontsize=14)\n",
    "plt.yticks(fontsize=14)\n",
    "\n",
    "add_logo(fig1, set_fig_size=False)\n",
    "plt.tight_layout()\n",
    "\n",
    "fig2, [ax3, ax4, ax5] = plt.subplots(3, 1, figsize=(720.0/72.0, 960.0/72.0), dpi = 72.0)\n",
    "\n",
    "# vector scalar multiplication - stretch\n",
    "ax3.set_title('Stretch', fontsize=20, fontweight='bold')\n",
    "# v\n",
    "ax3.arrow(0, 0, v[0], v[1], color='C0',\n",
    "         length_includes_head=True,\n",
    "         head_width=0.2, head_length=0.1)\n",
    "ax3.text(v[0], v[1], r'$\\mathbf{v}$',\n",
    "         horizontalalignment='right', fontsize=14)\n",
    "\n",
    "# c_1*v\n",
    "ax3.arrow(v[0], v[1], v_stretch[0]-v[0], v_stretch[1]-v[1],\n",
    "          color='darkorange',\n",
    "          length_includes_head=True,\n",
    "          head_width=0.2, head_length=0.1)\n",
    "ax3.text(v_stretch[0], v_stretch[1], str(c_1)+r'$\\mathbf{v}$',\n",
    "         horizontalalignment='right', fontsize=14)\n",
    "\n",
    "ax3.set_xlim([-np.abs(c_1*v[0])*1.4, np.abs(c_1*v[0])*1.4])\n",
    "ax3.set_ylim([-np.abs(c_1*v[1])*1.4, np.abs(c_1*v[1])*1.4])\n",
    "ax3.set_aspect('equal')\n",
    "ax3.axhline(color='black')\n",
    "ax3.axvline(color='black')\n",
    "plt.xticks(fontsize=14)\n",
    "plt.yticks(fontsize=14)\n",
    "\n",
    "# vector scalar multiplication - contract\n",
    "ax4.set_title('Contract', fontsize=20, fontweight='bold')\n",
    "# v\n",
    "ax4.arrow(v_contract[0], v_contract[1], v[0]-v_contract[0], v[1]-v_contract[1],\n",
    "          color='C0', length_includes_head=True,\n",
    "          head_width=0.2, head_length=0.1)\n",
    "ax4.text(v[0], v[1], r'$\\mathbf{v}$', fontsize=14)\n",
    "\n",
    "# c_2*v\n",
    "ax4.arrow(0, 0, v_contract[0], v_contract[1],\n",
    "          color='darkorange',\n",
    "          length_includes_head=True,\n",
    "          head_width=0.2, head_length=0.1)\n",
    "ax4.text(v_contract[0], v_contract[1], str(c_2)+r'$\\mathbf{v}$',\n",
    "         horizontalalignment='right', fontsize=14)\n",
    "\n",
    "ax4.set_xlim([-np.abs(c_1*v[0])*1.4, np.abs(c_1*v[0])*1.4])\n",
    "ax4.set_ylim([-np.abs(c_1*v[1])*1.4, np.abs(c_1*v[1])*1.4])\n",
    "ax4.set_aspect('equal')\n",
    "ax4.axhline(color='black')\n",
    "ax4.axvline(color='black')\n",
    "plt.xticks(fontsize=14)\n",
    "plt.yticks(fontsize=14)\n",
    "\n",
    "# vector scalar multiplication - reflect\n",
    "ax5.set_title('Reflect', fontsize=20, fontweight='bold')\n",
    "# v\n",
    "ax5.arrow(0, 0, v[0], v[1],\n",
    "          color='C0', length_includes_head=True,\n",
    "          head_width=0.2, head_length=0.1)\n",
    "ax5.text(v[0], v[1], r'$\\mathbf{v}$', fontsize=14)\n",
    "\n",
    "# c_3*v\n",
    "ax5.arrow(0, 0, v_reflect[0], v_reflect[1],\n",
    "          color='darkorange',\n",
    "          length_includes_head=True,\n",
    "          head_width=0.2, head_length=0.1)\n",
    "if c_3 == -1:\n",
    "    c3_str = r'$-$'\n",
    "else:\n",
    "    c3_str = str(c_3)\n",
    "    \n",
    "ax5.text(v_reflect[0], v_reflect[1], c3_str+r'$\\mathbf{v}$',\n",
    "         horizontalalignment='right', fontsize=14)\n",
    "\n",
    "ax5.set_xlim([-np.abs(c_1*v[0])*1.4, np.abs(c_1*v[0])*1.4])\n",
    "ax5.set_ylim([-np.abs(c_1*v[1])*1.4, np.abs(c_1*v[1])*1.4])\n",
    "ax5.set_aspect('equal')\n",
    "ax5.axhline(color='black')\n",
    "ax5.axvline(color='black')\n",
    "plt.xticks(fontsize=14)\n",
    "plt.yticks(fontsize=14)\n",
    "\n",
    "add_logo(fig2, set_fig_size=False)\n",
    "plt.tight_layout()"
   ]
  }
 ],
 "metadata": {
  "jupytext": {
   "encoding": "# -*- coding: utf-8 -*-",
   "executable": "/usr/bin/env python3"
  },
  "kernelspec": {
   "display_name": "Python 3",
   "language": "python",
   "name": "python3"
  }
 },
 "nbformat": 4,
 "nbformat_minor": 4
}
