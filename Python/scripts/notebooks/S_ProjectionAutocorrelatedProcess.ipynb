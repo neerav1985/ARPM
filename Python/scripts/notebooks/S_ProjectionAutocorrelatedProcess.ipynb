{
 "cells": [
  {
   "cell_type": "markdown",
   "metadata": {},
   "source": [
    "# S_ProjectionAutocorrelatedProcess [<img src=\"https://www.arpm.co/lab/icons/icon_permalink.png\" width=30 height=30 style=\"display: inline;\">](https://www.arpm.co/lab/redirect.php?code=S_ProjectionAutocorrelatedProcess&codeLang=Python)\n",
    "For details, see [here](https://www.arpm.co/lab/redirect.php?permalink=eb-sim-ouprocess)."
   ]
  },
  {
   "cell_type": "markdown",
   "metadata": {},
   "source": [
    "## Prepare the environment"
   ]
  },
  {
   "cell_type": "code",
   "execution_count": null,
   "metadata": {},
   "outputs": [],
   "source": [
    "import os\n",
    "import os.path as path\n",
    "import sys\n",
    "\n",
    "sys.path.append(path.abspath('../../functions-legacy'))\n",
    "from collections import namedtuple\n",
    "\n",
    "import numpy as np\n",
    "from numpy import arange, ones, zeros, where, squeeze, \\\n",
    "    linspace, round, log, sqrt, tile, r_\n",
    "from numpy import min as npmin, max as npmax\n",
    "from numpy.linalg import solve\n",
    "\n",
    "from scipy.stats import norm\n",
    "from scipy.io import loadmat\n",
    "\n",
    "import matplotlib.pyplot as plt\n",
    "from matplotlib.pyplot import figure, plot, legend, xlim, ylim, title, xticks\n",
    "\n",
    "plt.style.use('seaborn')\n",
    "\n",
    "from CONFIG import GLOBAL_DB, TEMPORARY_DB\n",
    "from ARPM_utils import save_plot, struct_to_dict\n",
    "from HistogramFP import HistogramFP\n",
    "from RollPrices2YieldToMat import RollPrices2YieldToMat\n",
    "from ProjMomentsVAR1MVOU import ProjMomentsVAR1MVOU\n",
    "from SimVAR1MVOU import SimVAR1MVOU\n",
    "from VAR1toMVOU import VAR1toMVOU\n",
    "from FitVAR1 import FitVAR1"
   ]
  },
  {
   "cell_type": "markdown",
   "metadata": {},
   "source": [
    "## Upload the realized time series of the rolling values contained in db_SwapCurve."
   ]
  },
  {
   "cell_type": "code",
   "execution_count": null,
   "metadata": {},
   "outputs": [],
   "source": [
    "try:\n",
    "    db = loadmat(os.path.join(GLOBAL_DB, 'db_SwapCurve'), squeeze_me=True)\n",
    "except FileNotFoundError:\n",
    "    db = loadmat(os.path.join(TEMPORARY_DB, 'db_SwapCurve'), squeeze_me=True)\n",
    "\n",
    "DF_Rolling = struct_to_dict(db['DF_Rolling'])"
   ]
  },
  {
   "cell_type": "markdown",
   "metadata": {},
   "source": [
    "## Select the five-year rolling prices using the last 1000 available observations\n",
    "## and compute the corresponding yields to maturity using function RollPrices2YieldToMat."
   ]
  },
  {
   "cell_type": "code",
   "execution_count": null,
   "metadata": {},
   "outputs": [],
   "source": [
    "# horizon\n",
    "t_end = 15\n",
    "dt = 0.1\n",
    "horiz_u = arange(0,t_end+dt,dt)\n",
    "u_ = len(horiz_u)\n",
    "timeStep = 5  # select frequency (days)\n",
    "tau = 5  # selected maturity (5y)\n",
    "prices = DF_Rolling.Prices[DF_Rolling.TimeToMat == tau, 2221:] # use the last 1500 available observations\n",
    "x = RollPrices2YieldToMat(tau, prices)[0]"
   ]
  },
  {
   "cell_type": "markdown",
   "metadata": {},
   "source": [
    "## Estimate the Ornstein-Uhlenbeck process parameters using functions FitVAR1 and VAR1toMVOU."
   ]
  },
  {
   "cell_type": "code",
   "execution_count": null,
   "metadata": {},
   "outputs": [],
   "source": [
    "# dx = diff(x, 1, 2)\n",
    "# [mu, theta, sigma2] = FitVAR1MVOU(dx, x[:-1], timeStep/252)\n",
    "# [alpha, b, sig2_U] = FitVAR1(dx, x[:-1])\n",
    "[alpha, b, sig2_U] = FitVAR1(x)\n",
    "mu, theta, sigma2,*_ = VAR1toMVOU(alpha, b, sig2_U, timeStep / 252)"
   ]
  },
  {
   "cell_type": "markdown",
   "metadata": {},
   "source": [
    "## Project the Ornstein-Uhlenbeck process to future horizons by Monte Carlo method using function SimVAR1MVOU\n",
    "## and compute the simulation probabilities."
   ]
  },
  {
   "cell_type": "code",
   "execution_count": null,
   "metadata": {},
   "outputs": [],
   "source": [
    "j_ = 3000  # increase for accuracy\n",
    "x_0 = tile(x[0,[-1]], (1, j_))  # initial setup\n",
    "X = SimVAR1MVOU(x_0, horiz_u[1:].reshape(1,-1), theta, mu.reshape(-1,1), sigma2, j_)\n",
    "X = r_['-1',x_0[...,np.newaxis], X[np.newaxis,...]]\n",
    "pp_ = ones((j_, 1)) / j_  # simulation probabilities"
   ]
  },
  {
   "cell_type": "markdown",
   "metadata": {},
   "source": [
    "## Compute and plot the projected distribution using function ProjMomentsVAR1MVOU, the Brownian approximation\n",
    "## and the stationary distribution at the selected horizons (6 months and 13 years).\n",
    "## Show also a few simulated paths, along with the mean and the standard deviation of the projected distrubution."
   ]
  },
  {
   "cell_type": "code",
   "execution_count": null,
   "metadata": {},
   "outputs": [],
   "source": [
    "hor_sel1 = 0.5  # selected horizon (6 months)\n",
    "i1 = where(horiz_u == hor_sel1)[0][0]\n",
    "hor_sel2 = 13  # selected horizon (13y)\n",
    "i2 = where(horiz_u == hor_sel2)[0][0]\n",
    "\n",
    "for i in [i1, i2]:\n",
    "    t_end = 500\n",
    "    x_Hor = zeros((1, t_end, u_))\n",
    "    y_Hor = zeros((1, t_end, u_))\n",
    "    y_Hor_brownian = zeros((1, t_end, u_))\n",
    "    y_Hor_asympt = zeros((1, t_end, u_))\n",
    "\n",
    "    # parameters of exact distribution\n",
    "    [mu_u, sigma2_u, drift_u] = ProjMomentsVAR1MVOU(x[0,[-1]], horiz_u, mu.reshape(-1,1), theta, sigma2)\n",
    "    sigma_u = squeeze((sqrt(sigma2_u))).T\n",
    "    # parameters of Brownian motion approximation\n",
    "    exp_brown = x[0,-1] + mu*horiz_u\n",
    "    sigma_brown = sqrt(sigma2*horiz_u)\n",
    "    # parameters of asymptoptic approximation\n",
    "    exp_asympt = mu / theta\n",
    "    sigma_asympt = sqrt(solve(2*theta,sigma2))\n",
    "\n",
    "    x_Hor[0,:,i] = linspace(drift_u[0,i] - 20*sqrt(sigma2_u[0, i]), drift_u[0,i] + 20*sqrt(sigma2_u[0, i]),t_end)\n",
    "    y_Hor[0,:,i] = norm.pdf(x_Hor[0,:,i], drift_u[0,i], sigma_u[i])  # Analytical projection at horizon\n",
    "    y_Hor_brownian[0,:,i] = norm.pdf(x_Hor[0,:,i], exp_brown[i], sigma_brown[0,i])  # Brownian approximation\n",
    "    y_Hor_asympt[0,:,i] = norm.pdf(x_Hor[0,:,i], exp_asympt, sigma_asympt)  # Normal asymptoptic approximation\n",
    "\n",
    "    # figure\n",
    "\n",
    "    lgrey = [0.8, 0.8, 0.8]  # light grey\n",
    "    dgrey = [0.4, 0.4, 0.4]  # dark grey\n",
    "    lblue = [0.27, 0.4, 0.9]  # light blu\n",
    "    j_sel = 15  # selected MC simulations\n",
    "\n",
    "    figure()\n",
    "\n",
    "    # simulated path, mean and standard deviation\n",
    "    plot(horiz_u[:i], X[0, :j_sel, :i].T, color=lgrey)\n",
    "    xticks(range(15))\n",
    "    xlim([npmin(horiz_u) - 0.01, 17])\n",
    "    ylim([-0.03, 0.06])\n",
    "    l1 = plot(horiz_u[:i], x[0,-1] + mu_u[0, :i], color='g',label='Expectation')\n",
    "    l2 = plot(horiz_u[:i], x[0,-1] + mu_u[0, :i] + sigma_u[:i], color='r', label=' + / - st.deviation')\n",
    "    plot(horiz_u[:i], x[0,-1] + mu_u[0, :i] - sigma_u[:i], color='r')\n",
    "\n",
    "    # analytical pdf\n",
    "    option = namedtuple('option', 'n_bins')\n",
    "    option.n_bins = round(10*log(j_))\n",
    "    y_hist, x_hist = HistogramFP(X[[0],:,i], pp_.T, option)\n",
    "    scale = 200*sigma_u[i] / npmax(y_hist)\n",
    "    y_hist = y_hist*scale\n",
    "    shift_y_hist = horiz_u[i] + y_hist\n",
    "\n",
    "    emp_pdf = plt.barh(x_hist[:-1], shift_y_hist[0]-horiz_u[i], height=x_hist[1]-x_hist[0],\n",
    "                       left=horiz_u[i], facecolor=lgrey, edgecolor= lgrey, lw=2,label='Horizon pdf')\n",
    "    plot(shift_y_hist[0], x_hist[:-1], color=dgrey)  # border\n",
    "\n",
    "    # Brownian approximation\n",
    "    y_Hor_brownian[0,:,i] = y_Hor_brownian[0,:,i]*scale\n",
    "    shift_y_brown = zeros(y_Hor_brownian.shape)\n",
    "    shift_y_brown[0,:,i] = horiz_u[i] + y_Hor_brownian[0,:,i]\n",
    "    l4 = plot(shift_y_brown[0,:,i], x_Hor[0,:,i], color = lblue, label='Brownian approx')\n",
    "\n",
    "    # asymptotic approximation\n",
    "    y_Hor_asympt[0,:, i] = y_Hor_asympt[0,:, i]*scale\n",
    "    shift_y_asympt = zeros(y_Hor_asympt.shape)\n",
    "    shift_y_asympt[0,:, i] = horiz_u[i] + y_Hor_asympt[0,:, i]\n",
    "    l5 = plot(shift_y_asympt[0,:, i], x_Hor[0,:, i], color = dgrey, label='Asymptotic distribution')\n",
    "    legend()\n",
    "    title('Ornstein-Uhlenbeck process');\n",
    "    # save_plot(ax=plt.gca(), extension='png', scriptname=os.path.basename('.')[:-3], count=plt.get_fignums()[-1])\n"
   ]
  }
 ],
 "metadata": {
  "jupytext": {
   "encoding": "# -*- coding: utf-8 -*-",
   "executable": "/usr/bin/env python3"
  },
  "kernelspec": {
   "display_name": "Python 3",
   "language": "python",
   "name": "python3"
  }
 },
 "nbformat": 4,
 "nbformat_minor": 4
}
