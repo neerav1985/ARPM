{
 "cells": [
  {
   "cell_type": "markdown",
   "metadata": {},
   "source": [
    "# s_checklist_historical_step04 [<img src=\"https://www.arpm.co/lab/icons/icon_permalink.png\" width=30 height=30 style=\"display: inline;\">](https://www.arpm.co/lab/redirect.php?code=s_checklist_historical_step04&codeLang=Python)\n",
    "For details, see [here](https://www.arpm.co/lab/redirect.php?permalink=ex-vue-4-historical)."
   ]
  },
  {
   "cell_type": "code",
   "execution_count": null,
   "metadata": {},
   "outputs": [],
   "source": [
    "import numpy as np\n",
    "import pandas as pd\n",
    "import matplotlib.pyplot as plt\n",
    "from pandas.plotting import register_matplotlib_converters\n",
    "register_matplotlib_converters()\n",
    "\n",
    "from arpym.statistics.bootstrap_hfp import bootstrap_hfp\n",
    "from arpym.tools.histogram_sp import histogram_sp\n",
    "from arpym.tools.logo import add_logo"
   ]
  },
  {
   "cell_type": "markdown",
   "metadata": {},
   "source": [
    "## [Input parameters](https://www.arpm.co/lab/redirect.php?permalink=s_checklist_historical_step04-parameters)"
   ]
  },
  {
   "cell_type": "code",
   "execution_count": null,
   "metadata": {},
   "outputs": [],
   "source": [
    "m_ = 1  # number of days to project\n",
    "j_ = 10000  # number of projection scenarios\n",
    "d_plot = 1  # index of projected risk driver to plot"
   ]
  },
  {
   "cell_type": "markdown",
   "metadata": {},
   "source": [
    "## [Step 0](https://www.arpm.co/lab/redirect.php?permalink=s_checklist_historical_step04-implementation-step00): Load data"
   ]
  },
  {
   "cell_type": "code",
   "execution_count": null,
   "metadata": {},
   "outputs": [],
   "source": [
    "path = '~/databases/temporary-databases/'\n",
    "\n",
    "# Risk drivers identification\n",
    "# market risk drivers\n",
    "db_riskdrivers_series = pd.read_csv(path+'db_riskdrivers_series_historical.csv',\n",
    "                                    index_col=0, parse_dates=True)\n",
    "x = db_riskdrivers_series.values\n",
    "risk_drivers_names = db_riskdrivers_series.columns\n",
    "\n",
    "# risk driver information\n",
    "db_riskdrivers_tools = pd.read_csv(path+'db_riskdrivers_tools_historical.csv')\n",
    "d_ = int(db_riskdrivers_tools.d_.dropna())\n",
    "t_now = np.datetime64(db_riskdrivers_tools.t_now[0], 'D')\n",
    "\n",
    "# Quest for invariance\n",
    "# invariant series\n",
    "db_invariants_series = pd.read_csv(path+'db_invariants_series_historical.csv',\n",
    "                                   index_col=0, parse_dates=True)\n",
    "epsi = db_invariants_series.dropna().values\n",
    "dates = db_invariants_series.dropna().index\n",
    "t_, i_ = np.shape(epsi)\n",
    "\n",
    "# next step models\n",
    "db_invariants_nextstep = pd.read_csv(path+'db_invariants_nextstep_historical.csv')\n",
    "\n",
    "# next step model parameters\n",
    "db_invariants_garch_param = pd.read_csv(path+'db_invariants_garch_param.csv',\n",
    "                                        index_col=0)\n",
    "\n",
    "# Estimation\n",
    "# flexible probabilities\n",
    "db_estimation_flexprob = pd.read_csv(path+'db_estimation_flexprob.csv',\n",
    "                                     index_col=0, parse_dates=True)\n",
    "p = db_estimation_flexprob.loc[:, 'p'].values"
   ]
  },
  {
   "cell_type": "markdown",
   "metadata": {},
   "source": [
    "## [Step 1](https://www.arpm.co/lab/redirect.php?permalink=s_checklist_historical_step04-implementation-step01): Projection of invariants (bootstrap)"
   ]
  },
  {
   "cell_type": "code",
   "execution_count": null,
   "metadata": {},
   "outputs": [],
   "source": [
    "t_hor = np.busday_offset(t_now, m_)\n",
    "epsi_proj = np.zeros((j_, m_, d_))\n",
    "for m in range(m_):\n",
    "    epsi_proj[:, m, :] = bootstrap_hfp(epsi, p, j_)\n",
    "p_scenario = np.ones(j_)/j_  # projection scenario probabilities"
   ]
  },
  {
   "cell_type": "markdown",
   "metadata": {},
   "source": [
    "## [Step 2](https://www.arpm.co/lab/redirect.php?permalink=s_checklist_historical_step04-implementation-step02): Projection of risk drivers"
   ]
  },
  {
   "cell_type": "code",
   "execution_count": null,
   "metadata": {},
   "outputs": [],
   "source": [
    "dx_proj = np.empty((j_, m_+1, d_))\n",
    "x_proj = np.empty((j_, m_+1, d_))\n",
    "sig2_garch = np.empty((j_, m_+1, d_))\n",
    "\n",
    "# risk drivers at time t_0=t_now\n",
    "x_proj[:, 0, :] = x[-1, :]\n",
    "\n",
    "# initialize parameters for GARCH(1,1) projection\n",
    "d_garch = [d for d in range(d_)\n",
    "           if db_invariants_nextstep.iloc[0, d] =='GARCH(1,1)']\n",
    "for d in d_garch:\n",
    "    a_garch = db_invariants_garch_param.loc['a'][d]\n",
    "    b_garch = db_invariants_garch_param.loc['b'][d]\n",
    "    c_garch = db_invariants_garch_param.loc['c'][d]\n",
    "    mu_garch = db_invariants_garch_param.loc['mu'][d]\n",
    "    sig2_garch[:, 0, d] = db_invariants_garch_param.iloc[-1, d]\n",
    "    dx_proj[:, 0, d] = x[-1, d] - x[-2, d]\n",
    "\n",
    "# project risk drivers\n",
    "for m in range(1, m_+1):\n",
    "    for d in range(d_):\n",
    "        # risk drivers modeled as random walk\n",
    "        if db_invariants_nextstep.iloc[0, d] == 'Random walk':\n",
    "            x_proj[:, m, d] = x_proj[:, m-1, d] + epsi_proj[:, m-1, d]\n",
    "\n",
    "        # risk drivers modeled as GARCH(1,1)\n",
    "        elif db_invariants_nextstep.iloc[0, d] == 'GARCH(1,1)':\n",
    "            a_garch = db_invariants_garch_param.loc['a'][d]\n",
    "            b_garch = db_invariants_garch_param.loc['b'][d]\n",
    "            c_garch = db_invariants_garch_param.loc['c'][d]\n",
    "            mu_garch = db_invariants_garch_param.loc['mu'][d]\n",
    "            sig2_garch[:, m, d] = c_garch + b_garch*sig2_garch[:, m-1, d] +\\\n",
    "                a_garch*(dx_proj[:, m-1, d] - mu_garch)**2\n",
    "            dx_proj[:, m, d] = mu_garch +\\\n",
    "                np.sqrt(sig2_garch[:, m, d])*epsi_proj[:, m-1, d]\n",
    "            x_proj[:, m, d] = x_proj[:, m-1, d] + dx_proj[:, m, d]"
   ]
  },
  {
   "cell_type": "markdown",
   "metadata": {},
   "source": [
    "## [Step 3](https://www.arpm.co/lab/redirect.php?permalink=s_checklist_historical_step04-implementation-step03): Save databases"
   ]
  },
  {
   "cell_type": "code",
   "execution_count": null,
   "metadata": {},
   "outputs": [],
   "source": [
    "# projected risk drivers\n",
    "out = pd.DataFrame({risk_drivers_names[d]:\n",
    "                   x_proj[:, :, d].reshape((j_*(m_+1),))\n",
    "                   for d in range(d_)})\n",
    "out = out[list(risk_drivers_names[:d_].values)]\n",
    "out.to_csv(path+'db_projection_bootstrap_riskdrivers.csv', index=None)\n",
    "del out\n",
    "\n",
    "# additional information\n",
    "out = pd.DataFrame({'j_': pd.Series(j_),\n",
    "                    't_hor': pd.Series(t_hor)})\n",
    "out.to_csv(path+'db_projection_bootstrap_tools.csv', index=None)\n",
    "del out\n",
    "\n",
    "# projected scenario probabilities\n",
    "out = pd.DataFrame({'p': pd.Series(p_scenario)})\n",
    "out.to_csv(path+'db_scenario_probs_bootstrap.csv', index=None)\n",
    "del out"
   ]
  },
  {
   "cell_type": "markdown",
   "metadata": {},
   "source": [
    "## Plots"
   ]
  },
  {
   "cell_type": "code",
   "execution_count": null,
   "metadata": {},
   "outputs": [],
   "source": [
    "plt.style.use('arpm')\n",
    "\n",
    "# marginal distributions\n",
    "n_bins = 10 * np.log(t_)\n",
    "\n",
    "# projected risk driver distribution\n",
    "proj_dist = plt.figure(figsize=(1280.0/72.0, 720.0/72.0), dpi=72.0)\n",
    "ax = proj_dist.add_subplot(111)\n",
    "f_eps, x_eps = histogram_sp(x_proj[:, m_, d_plot-1],\n",
    "                            p=p_scenario,\n",
    "                            k_=n_bins)\n",
    "bar_width = x_eps[1] - x_eps[0]\n",
    "plt.bar(x_eps, f_eps.flatten(), width=bar_width, fc=[0.7, 0.7, 0.7],\n",
    "        edgecolor=[0.5, 0.5, 0.5])\n",
    "\n",
    "plt.title(db_riskdrivers_series.columns[d_plot-1] + \\\n",
    "          ' projected risk driver distribution',\n",
    "         fontweight='bold', fontsize=20)\n",
    "plt.xlabel('Projected risk driver', fontsize=17)\n",
    "add_logo(proj_dist, location=1, set_fig_size=False)\n",
    "proj_dist.tight_layout()"
   ]
  }
 ],
 "metadata": {
  "kernelspec": {
   "display_name": "Python 3",
   "language": "python",
   "name": "python3"
  }
 },
 "nbformat": 4,
 "nbformat_minor": 4
}
