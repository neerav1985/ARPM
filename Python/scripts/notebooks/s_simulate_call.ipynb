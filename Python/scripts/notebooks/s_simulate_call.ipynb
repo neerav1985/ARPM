{
 "cells": [
  {
   "cell_type": "markdown",
   "metadata": {},
   "source": [
    "# s_simulate_call [<img src=\"https://www.arpm.co/lab/icons/icon_permalink.png\" width=30 height=30 style=\"display: inline;\">](https://www.arpm.co/lab/redirect.php?code=s_simulate_call&codeLang=Python)\n",
    "For details, see [here](https://www.arpm.co/lab/redirect.php?permalink=eb-simeucall)."
   ]
  },
  {
   "cell_type": "code",
   "execution_count": null,
   "metadata": {},
   "outputs": [],
   "source": [
    "import numpy as np\n",
    "import pandas as pd\n",
    "from scipy.linalg import toeplitz\n",
    "from scipy.stats import norm\n",
    "import matplotlib.pyplot as plt\n",
    "import matplotlib.cm as cm\n",
    "import matplotlib.gridspec as gridspec\n",
    "\n",
    "from arpym.pricing.bsm_function import bsm_function\n",
    "from arpym.tools.logo import add_logo"
   ]
  },
  {
   "cell_type": "markdown",
   "metadata": {},
   "source": [
    "## [Input parameters](https://www.arpm.co/lab/redirect.php?permalink=s_simulate_call-parameters)"
   ]
  },
  {
   "cell_type": "code",
   "execution_count": null,
   "metadata": {},
   "outputs": [],
   "source": [
    "j_ = 30  # number of scenarios (=number of basis call options)\n",
    "delta_t = 60  # time to horizon\n",
    "s_low = 77.66  # lower bound for the underlying grid\n",
    "delta_s = 2.9  # tick-size of underlying/strikes at expiry\n",
    "s_tnow = 120  # underlying current value\n",
    "r = 2 * 1e-4  # risk-free interest rate\n",
    "sigma2 = 0.01  # volatility of the underlying"
   ]
  },
  {
   "cell_type": "markdown",
   "metadata": {},
   "source": [
    "## [Step 1](https://www.arpm.co/lab/redirect.php?permalink=s_simulate_call-implementation-step01): Underlying scenarios at horizon and strikes' calls"
   ]
  },
  {
   "cell_type": "code",
   "execution_count": null,
   "metadata": {},
   "outputs": [],
   "source": [
    "s_omega_j = s_low + np.arange(1, j_+1, 1).reshape(1, -1)*delta_s\n",
    "k_j = (s_omega_j - delta_s).T"
   ]
  },
  {
   "cell_type": "markdown",
   "metadata": {},
   "source": [
    "## [Step 2](https://www.arpm.co/lab/redirect.php?permalink=s_simulate_call-implementation-step02): Payoff matrix of basis call options"
   ]
  },
  {
   "cell_type": "code",
   "execution_count": null,
   "metadata": {},
   "outputs": [],
   "source": [
    "v_call_pay = delta_s*np.triu(toeplitz(np.arange(1, j_+1)))"
   ]
  },
  {
   "cell_type": "markdown",
   "metadata": {},
   "source": [
    "## [Step 3](https://www.arpm.co/lab/redirect.php?permalink=s_simulate_call-implementation-step03): Current values basis call options"
   ]
  },
  {
   "cell_type": "code",
   "execution_count": null,
   "metadata": {},
   "outputs": [],
   "source": [
    "v_call = np.zeros(j_)\n",
    "for n in range(j_):\n",
    "    m_n = np.log(s_tnow/k_j[n])/np.sqrt(delta_t)  # # moneynesses\n",
    "    v_call[n] = bsm_function(s_tnow, r, sigma2, m_n, delta_t)  # current values basis call options"
   ]
  },
  {
   "cell_type": "markdown",
   "metadata": {},
   "source": [
    "## [Step 4](https://www.arpm.co/lab/redirect.php?permalink=s_simulate_call-implementation-step04): Save databases"
   ]
  },
  {
   "cell_type": "code",
   "execution_count": null,
   "metadata": {},
   "outputs": [],
   "source": [
    "out = np.c_[s_omega_j.reshape(-1,1), k_j, v_call]\n",
    "col = ['s_omega_j', 'k_j', 'v_call']\n",
    "out = pd.DataFrame(out, columns=col)\n",
    "out.to_csv('~/databases/temporary-databases/db_simcall.csv')\n",
    "del out\n",
    "out = {'s_tnow': pd.Series(s_tnow),\n",
    "       'delta_s': pd.Series(delta_s),\n",
    "       'delta_t': pd.Series(delta_t),\n",
    "       'r': pd.Series(r),\n",
    "       'sigma2': pd.Series(sigma2)}\n",
    "out = pd.DataFrame(out)\n",
    "out.to_csv('~/databases/temporary-databases/db_simcall_tools.csv')\n",
    "del out"
   ]
  },
  {
   "cell_type": "markdown",
   "metadata": {},
   "source": [
    "## Plots"
   ]
  },
  {
   "cell_type": "code",
   "execution_count": null,
   "metadata": {},
   "outputs": [],
   "source": [
    "s_up = s_omega_j[0, -1]  # upper bound for the underlying/strike grid\n",
    "plt.style.use('arpm')\n",
    "\n",
    "tick_size = int(j_/6)\n",
    "col_unit = int(150/j_)\n",
    "\n",
    "f = plt.figure(figsize=(1280.0/72.0, 720.0/72.0), dpi=72.0)\n",
    "\n",
    "gs0 = gridspec.GridSpec(1, 1)\n",
    "gs00 = gridspec.GridSpecFromSubplotSpec(504, 288, subplot_spec=gs0[0],\n",
    "                                        wspace=0, hspace=1)\n",
    "ax1 = plt.Subplot(f, gs00[0:469, 10:160])\n",
    "f.add_subplot(ax1)\n",
    "ax1.imshow(v_call_pay, cmap=cm.jet, aspect='auto')\n",
    "plt.title(r'$\\mathbf{\\mathcal{V}}^{\\mathit{call.pay}}$', fontsize = 36)\n",
    "plt.xlabel('Scenario', fontsize = 24,  labelpad=10)\n",
    "plt.ylabel('Instrument', fontsize = 24,  labelpad=10)\n",
    "plt.xticks(np.arange(4, j_+1, tick_size), np.arange(5, j_+1, tick_size), fontsize = 18)\n",
    "plt.yticks(np.arange(4, j_+1, tick_size), np.arange(5, j_+1, tick_size), fontsize = 18)\n",
    "\n",
    "ax11 = plt.Subplot(f, gs00[:469, 210:210+col_unit])\n",
    "f.add_subplot(ax11)\n",
    "ax11.imshow(v_call.reshape(-1, 1), vmin=0, vmax=s_up - s_low, cmap=cm.jet, aspect='auto')\n",
    "plt.title(r'$\\mathbf{v}^{\\mathit{call}}$', fontsize = 36)\n",
    "plt.xticks([])\n",
    "plt.yticks(np.arange(4, j_+1, tick_size), np.arange(5, j_+1, tick_size), fontsize=18)\n",
    "plt.grid(False)\n",
    "\n",
    "ax12 = plt.Subplot(f, gs00[:469, 270:270+col_unit])\n",
    "f.add_subplot(ax12)\n",
    "cbar = np.floor((np.flipud(s_omega_j.T - s_omega_j[0,0])) * 100) / 100\n",
    "plt.imshow(cbar, cmap=cm.jet, aspect='auto')\n",
    "plt.title('Scale', fontsize = 36)\n",
    "plt.xticks([])\n",
    "plt.yticks([0, tick_size, 2*tick_size, 3*tick_size, 4*tick_size, 5*tick_size, j_-1], \n",
    "           [i[0] for i in cbar[[0, tick_size, 2*tick_size, 3*tick_size, 4*tick_size, 5*tick_size, -1]] ],\n",
    "           fontsize = 18)\n",
    "plt.grid(False)\n",
    "\n",
    "add_logo(f, axis=ax1, location=3, size_frac_x=1/12, set_fig_size=False)"
   ]
  }
 ],
 "metadata": {
  "jupytext": {
   "encoding": "# -*- coding: utf-8 -*-",
   "executable": "/usr/bin/env python3"
  },
  "kernelspec": {
   "display_name": "Python 3",
   "language": "python",
   "name": "python3"
  }
 },
 "nbformat": 4,
 "nbformat_minor": 4
}
