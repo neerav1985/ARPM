{
 "cells": [
  {
   "cell_type": "markdown",
   "metadata": {},
   "source": [
    "# S_CurseOfDimEnsembleFP [<img src=\"https://www.arpm.co/lab/icons/icon_permalink.png\" width=30 height=30 style=\"display: inline;\">](https://www.arpm.co/lab/redirect.php?code=S_CurseOfDimEnsembleFP&codeLang=Python)\n",
    "For details, see [here](https://www.arpm.co/lab/redirect.php?permalink=ExerENSposterior)."
   ]
  },
  {
   "cell_type": "markdown",
   "metadata": {},
   "source": [
    "## Prepare the environment"
   ]
  },
  {
   "cell_type": "code",
   "execution_count": null,
   "metadata": {},
   "outputs": [],
   "source": [
    "import os\n",
    "import os.path as path\n",
    "import sys\n",
    "\n",
    "sys.path.append(path.abspath('../../functions-legacy'))\n",
    "from collections import namedtuple\n",
    "\n",
    "import numpy as np\n",
    "from numpy import arange, reshape, array, ones, zeros, std, diff, abs, log, exp, sqrt\n",
    "from numpy import sum as npsum, max as npmax\n",
    "from numpy.random import rand\n",
    "\n",
    "from scipy.io import loadmat\n",
    "\n",
    "import matplotlib.pyplot as plt\n",
    "from matplotlib.pyplot import figure, bar, xlim, ylim, subplots, ylabel, \\\n",
    "    title, xticks, yticks\n",
    "import matplotlib.dates as mdates\n",
    "\n",
    "np.seterr(divide='ignore')\n",
    "\n",
    "plt.style.use('seaborn')\n",
    "\n",
    "from CONFIG import GLOBAL_DB, TEMPORARY_DB\n",
    "from ARPM_utils import save_plot, struct_to_dict, date_mtop\n",
    "from HistogramFP import HistogramFP\n",
    "from EffectiveScenarios import EffectiveScenarios\n",
    "from ConditionalFP import ConditionalFP"
   ]
  },
  {
   "cell_type": "markdown",
   "metadata": {},
   "source": [
    "## upload data"
   ]
  },
  {
   "cell_type": "code",
   "execution_count": null,
   "metadata": {},
   "outputs": [],
   "source": [
    "try:\n",
    "    db = loadmat(os.path.join(GLOBAL_DB, 'db_StocksS_P'), squeeze_me=True)\n",
    "except FileNotFoundError:\n",
    "    db = loadmat(os.path.join(TEMPORARY_DB, 'db_StocksS_P'), squeeze_me=True)\n",
    "\n",
    "Data = struct_to_dict(db['Data'])"
   ]
  },
  {
   "cell_type": "markdown",
   "metadata": {},
   "source": [
    "## Compute the returns on the first 200 stocks in the database (conditioning variables)"
   ]
  },
  {
   "cell_type": "code",
   "execution_count": null,
   "metadata": {},
   "outputs": [],
   "source": [
    "ret = diff(log(Data.Prices), 1, 1)\n",
    "\n",
    "ret = ret[:200,:]\n",
    "date = Data.Dates[1:]\n",
    "q_ = ret.shape[0]\n",
    "t_ = ret.shape[1]"
   ]
  },
  {
   "cell_type": "markdown",
   "metadata": {},
   "source": [
    "## Compute the Flexible probabilities conditioned via Entropy Pooling on each factor for different targets' scenarios"
   ]
  },
  {
   "cell_type": "code",
   "execution_count": null,
   "metadata": {},
   "outputs": [],
   "source": [
    "print('Computing the conditioned Flexible Probabilities for each factor')\n",
    "alpha = 0.2\n",
    "\n",
    "# Prior: exponential decay\n",
    "lam = 0.001\n",
    "prior = exp(-lam*abs(arange(t_, 1 + -1, -1))).reshape(1,-1)\n",
    "prior = prior / npsum(prior)\n",
    "\n",
    "k_ = 3  # num of different targets\n",
    "\n",
    "# initialization\n",
    "flex_probs = ones((q_, t_, k_))\n",
    "typ = namedtuple('typ','Entropy')\n",
    "typ.Entropy = 'Exp'\n",
    "target = ones((q_, 1, k_))\n",
    "ens = zeros((q_,1, k_))\n",
    "\n",
    "# flexible probabilities (q=1...Q)\n",
    "\n",
    "for q in range(q_):\n",
    "    cond_factor = ret[[q],:]\n",
    "\n",
    "    # Targets\n",
    "    for k in range(k_):\n",
    "        target[q, 0, k] = -2.5*std(cond_factor)+rand(1)*5*std(cond_factor)\n",
    "\n",
    "    # Conditioned flexible probabilities\n",
    "    Conditioner = namedtuple('conditioner', ['Series', 'TargetValue', 'Leeway'])\n",
    "    Conditioner.Series = cond_factor\n",
    "    Conditioner.TargetValue = target[[q], 0,:]\n",
    "    Conditioner.Leeway = alpha\n",
    "\n",
    "    flex_probs[q,:,:] = ConditionalFP(Conditioner, prior).T\n",
    "\n",
    "    padj = flex_probs[q,:,:]\n",
    "    for k in range(k_):\n",
    "        ens[q, 0, k] = EffectiveScenarios(padj[:,[k]].T, typ)  # effective number of scenarios"
   ]
  },
  {
   "cell_type": "markdown",
   "metadata": {},
   "source": [
    "## Ensemble flexible probabilities: compute the final set of FP as a linear mixture or a log-mixture."
   ]
  },
  {
   "cell_type": "code",
   "execution_count": null,
   "metadata": {},
   "outputs": [],
   "source": [
    "rho2 = zeros((q_,q_,k_))\n",
    "distance = zeros((q_,q_,k_))\n",
    "diversity = zeros((q_,1,k_))\n",
    "weights = zeros((q_,1,k_))\n",
    "LinMP = zeros((1,t_,k_))\n",
    "LogMP = zeros((1,t_,k_))\n",
    "ensLogMP = zeros(k_)\n",
    "ensLinMP = zeros(k_)\n",
    "print('Ensembling the Flexible Probabilities')\n",
    "for k in range(k_):\n",
    "    # Battacharayya coeff and Hellinger distances\n",
    "    for q1 in range(q_):\n",
    "        for q2 in range(q_):\n",
    "            rho2[q1, q2, k] = npsum(sqrt(flex_probs[q1,:,k]*flex_probs[q2,:, k]))\n",
    "            distance[q1, q2, k] = sqrt(abs(1 - rho2[q1, q2, k]))\n",
    "\n",
    "    # Diversity indicator\n",
    "    for q in range(q_):\n",
    "        diversity[q, 0, k] = (1 / (q_-1))*(npsum(distance[q,:,k]-distance[q, q, k]))\n",
    "\n",
    "    \n",
    "    # weights\n",
    "    weights[:,0,k] = ens[:,0,k]*diversity[:,0,k]\n",
    "    weights[:,0,k] = weights[:,0,k] / npsum(weights[:,0,k])\n",
    "    \n",
    "    # Linear mixture\n",
    "    LinMP[0,:, k] = reshape(weights[:,0,k], (1, q_),'F')@flex_probs[:,:, k]\n",
    "    ensLinMP[k] = EffectiveScenarios(LinMP[[0],:, k], typ)  # effective number of scenarios\n",
    "    \n",
    "    # Log-mixture\n",
    "    LogMP[0,:,k] = exp(reshape(weights[:,0,k], (1, q_),'F')@log(flex_probs[:,:, k]))\n",
    "    LogMP[0,:,k] = LogMP[0,:,k] / npsum(LogMP[0,:,k])\n",
    "    ensLogMP[k] = EffectiveScenarios(LogMP[[0],:,k], typ)  # effective number of scenarios\n",
    "\n",
    "# computations for the histograms\n",
    "pflat = ones((1, q_)) / q_\n",
    "option = namedtuple('option', 'n_bins')\n",
    "option.n_bins = 10*log(q_)\n",
    "\n",
    "nbins = int(option.n_bins)\n",
    "nW, xW = zeros((nbins,1,k_)),zeros((nbins+1,1,k_))\n",
    "nE, xE = zeros((nbins,1,k_)),zeros((nbins+1,1,k_))\n",
    "nD, xD = zeros((nbins,1,k_)),zeros((nbins+1,1,k_))\n",
    "\n",
    "for k in range(k_):\n",
    "\n",
    "    nW[:,0,k], xW[:,0,k] = HistogramFP(weights[:,0,[k]].T, pflat, option)\n",
    "    nE[:,0,k], xE[:,0,k] = HistogramFP(ens[:,0,[k]].T, pflat, option)\n",
    "    nD[:,0,k], xD[:,0,k] = HistogramFP(diversity[:,0,[k]].T, pflat, option)"
   ]
  },
  {
   "cell_type": "markdown",
   "metadata": {},
   "source": [
    "## Generate figures"
   ]
  },
  {
   "cell_type": "code",
   "execution_count": null,
   "metadata": {},
   "outputs": [],
   "source": [
    "date_tick = range(0,len(date),600)\n",
    "date_dt = array([date_mtop(i) for i in date])\n",
    "myFmt = mdates.DateFormatter('%d-%b-%Y')\n",
    "xtick = date[date_tick]\n",
    "grey = [0.6, 0.6, 0.6]\n",
    "blue = [0.2, 0.3, 0.65]\n",
    "for k in arange(1):\n",
    "    f1, ax = subplots(2, 1)\n",
    "    # linear weighted average\n",
    "    plt.sca(ax[0])\n",
    "    bar(date_dt, LinMP[0, :, k], facecolor=blue, edgecolor=blue)\n",
    "    xlim([min(date_dt),max(date_dt)])\n",
    "    ylim([0, max(LinMP[0, :, k])])\n",
    "    yticks([])\n",
    "    xticks(xtick)\n",
    "    ax[0].xaxis.set_major_formatter(myFmt)\n",
    "    title('Linear weighted average')\n",
    "    ylabel('Flexible Prob.')\n",
    "    T1 = 'Effective Num.Scenarios =  %3.0f' % ensLinMP[k]\n",
    "    plt.text(date_dt[49], 0.9*npmax(LinMP[0,:,k]), T1, horizontalalignment='left')\n",
    "    # non-linear weighted average\n",
    "    plt.sca(ax[1])\n",
    "    bar(date_dt, LogMP[0, :, k], facecolor=blue, edgecolor=blue)\n",
    "    xlim([min(date_dt),max(date_dt)])\n",
    "    ylim([0, max(LogMP[0, :, k])])\n",
    "    yticks([])\n",
    "    xticks(xtick)\n",
    "    title('Non-linear weighted average')\n",
    "    ylabel('Flexible Prob.')\n",
    "    plt.tight_layout();\n",
    "    T1 = 'Effective Num.Scenarios =  %3.0f' % ensLogMP[k]\n",
    "    ax[1].xaxis.set_major_formatter(myFmt)\n",
    "    plt.text(date_dt[49], 0.9*npmax(LogMP[0,:,k]), T1, horizontalalignment='left')\n",
    "    # save_plot(ax=plt.gca(), extension='png', scriptname=os.path.basename('.')[:-3], count=plt.get_fignums()[-1])\n",
    "    figure()\n",
    "    # weights\n",
    "    ax = plt.subplot2grid((3, 3), (0, 0), colspan=2)\n",
    "    bar(range(q_), weights[:, 0, k], 1, facecolor=grey, edgecolor=grey)\n",
    "    xlim([1, q_])\n",
    "    yticks([])\n",
    "    xticks(arange(0, q_ + 20, 20))\n",
    "    ylabel('Weights')\n",
    "    title('Entries')\n",
    "    ax = plt.subplot2grid((3, 3), (0, 2))\n",
    "    plt.barh(xW[:-1, 0, k], nW[:, 0, k], xW[1, 0, k] - xW[0, 0, k], facecolor=grey, edgecolor=grey)\n",
    "    title('Distribution')\n",
    "    # Effective Number of Scenarios\n",
    "    ax = plt.subplot2grid((3, 3), (1, 0), colspan=2)\n",
    "    bar(range(q_), ens[:, 0, k], 1, facecolor=grey, edgecolor=grey)\n",
    "    xlim([1, q_])\n",
    "    yticks([])\n",
    "    xticks(arange(0, q_ + 20, 20))\n",
    "    ylabel('Eff. Num. Scen.')\n",
    "    title('Entries')\n",
    "    ax = plt.subplot2grid((3, 3), (1, 2))\n",
    "    plt.barh(xE[:-1, 0, k], nE[:, 0, k], xE[1, 0, k] - xE[0, 0, k], facecolor=grey, edgecolor=grey)\n",
    "    # ax.set_ylim(yl1)\n",
    "    title('Distribution')\n",
    "    # diversity\n",
    "    ax = plt.subplot2grid((3, 3), (2, 0), colspan=2)\n",
    "    bar(range(q_), diversity[:, 0, k], 1, facecolor=grey, edgecolor=grey)\n",
    "    xlim([1, q_])\n",
    "    yticks([])\n",
    "    xticks(arange(0, q_ + 20, 20))\n",
    "    ylabel('Diversity')\n",
    "    title('Entries')\n",
    "    ax = plt.subplot2grid((3, 3), (2, 2))\n",
    "    plt.barh(xD[:-1, 0, k], nD[:, 0, k], xD[1, 0, k] - xD[0, 0, k], facecolor=grey, edgecolor=grey)\n",
    "    title('Distribution')\n",
    "    plt.tight_layout();\n",
    "    # save_plot(ax=plt.gca(), extension='png', scriptname=os.path.basename('.')[:-3], count=plt.get_fignums()[-1])"
   ]
  }
 ],
 "metadata": {
  "jupytext": {
   "encoding": "# -*- coding: utf-8 -*-",
   "executable": "/usr/bin/env python3"
  },
  "kernelspec": {
   "display_name": "Python 3",
   "language": "python",
   "name": "python3"
  }
 },
 "nbformat": 4,
 "nbformat_minor": 4
}
