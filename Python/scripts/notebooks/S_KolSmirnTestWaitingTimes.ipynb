{
 "cells": [
  {
   "cell_type": "markdown",
   "metadata": {},
   "source": [
    "This script performs the Kolmogorov-Smirnov test for invariance on the\n",
    "time intervals between subsequent events in high frequency trading.\n",
    "-"
   ]
  },
  {
   "cell_type": "markdown",
   "metadata": {},
   "source": [
    "## For details, see [here](https://www.arpm.co/lab/redirect.php?permalink=exer-expiid-copy-1)."
   ]
  },
  {
   "cell_type": "code",
   "execution_count": null,
   "metadata": {},
   "outputs": [],
   "source": [
    "# ## Prepare the environment"
   ]
  },
  {
   "cell_type": "code",
   "execution_count": null,
   "metadata": {},
   "outputs": [],
   "source": [
    "import os\n",
    "import os.path as path\n",
    "import sys\n",
    "\n",
    "sys.path.append(path.abspath('../../functions-legacy'))\n",
    "\n",
    "\n",
    "from numpy import where, diff, array\n",
    "\n",
    "from scipy.io import loadmat\n",
    "\n",
    "import matplotlib.pyplot as plt\n",
    "from matplotlib.pyplot import figure\n",
    "\n",
    "plt.style.use('seaborn')\n",
    "\n",
    "from CONFIG import GLOBAL_DB, TEMPORARY_DB\n",
    "from ARPM_utils import save_plot, date_mtop, struct_to_dict, time_mtop\n",
    "from TestKolSmirn import TestKolSmirn\n",
    "from InvarianceTestKolSmirn import InvarianceTestKolSmirn\n",
    "from TradeQuoteProcessing import TradeQuoteProcessing"
   ]
  },
  {
   "cell_type": "markdown",
   "metadata": {},
   "source": [
    "## Upload the database"
   ]
  },
  {
   "cell_type": "code",
   "execution_count": null,
   "metadata": {},
   "outputs": [],
   "source": [
    "try:\n",
    "    db = loadmat(os.path.join(GLOBAL_DB, 'db_US_10yr_Future_quotes_and_trades'),squeeze_me=True)\n",
    "except FileNotFoundError:\n",
    "    db = loadmat(os.path.join(TEMPORARY_DB, 'db_US_10yr_Future_quotes_and_trades'),squeeze_me=True)\n",
    "\n",
    "quotes = struct_to_dict(db['quotes'], as_namedtuple=False)\n",
    "trades = struct_to_dict(db['trades'], as_namedtuple=False)"
   ]
  },
  {
   "cell_type": "markdown",
   "metadata": {},
   "source": [
    "## Process the time series, refining the raw data coming from the database"
   ]
  },
  {
   "cell_type": "code",
   "execution_count": null,
   "metadata": {},
   "outputs": [],
   "source": [
    "dates_quotes = quotes['time_names']  #\n",
    "t = quotes['time']  # time vector of quotes\n",
    "p_bid = quotes['bid']  # bid prices\n",
    "p_ask = quotes['ask']  # ask prices\n",
    "q_bid = quotes['bsiz']  # bid volumes\n",
    "q_ask = quotes['asiz']  # ask volumes\n",
    "\n",
    "dates_trades = trades['time_names']  #\n",
    "t_k = trades['time']  # time vector of trades\n",
    "p_last = trades['price']  # last transaction prices\n",
    "delta_q = trades['siz']  # flow of traded contracts' volumes\n",
    "delta_sgn = trades['aggress']  # trade sign flow\n",
    "match = trades[\n",
    "    'mtch']  # match events: - the \"1\" value indicates the \"start of a match event\" while zeros indicates the \"continuation of a match event\"\n",
    "#              - the db is ordered such that the start of a match event is in the last column corresponding to that event\n",
    "\n",
    "t, _, _, _, _, _, t_k, *_ = TradeQuoteProcessing(t, dates_quotes, q_ask, p_ask, q_bid, p_bid, t_k, dates_trades,\n",
    "                                                         p_last, delta_q, delta_sgn, match)\n",
    "t = t.flatten()\n",
    "t_k = t_k.flatten()\n",
    "# ## Compute the gaps between subsequent events\n",
    "\n",
    "k_0 = where(t_k >= t[0])[0][0]  # index of the first trade within the time window\n",
    "k_1 = where(t_k <= t[len(t)-1])[0][-1]  # index of the last trade within the time window\n",
    "t_ms = array([time_mtop(i) for i in t_k[k_0:k_1+1]])\n",
    "t_k = array([3600*i.hour+60*i.minute+i.second+i.microsecond/1e6 for i in t_ms])\n",
    "delta_t_k = diff(t_k).reshape(1,-1) # gaps"
   ]
  },
  {
   "cell_type": "markdown",
   "metadata": {},
   "source": [
    "## Perform the Kolmogorov-Smirnov test"
   ]
  },
  {
   "cell_type": "code",
   "execution_count": null,
   "metadata": {},
   "outputs": [],
   "source": [
    "s_1, s_2, int, F_1, F_2, up, low = TestKolSmirn(delta_t_k)"
   ]
  },
  {
   "cell_type": "markdown",
   "metadata": {},
   "source": [
    "## Plot the results of the IID test"
   ]
  },
  {
   "cell_type": "code",
   "execution_count": null,
   "metadata": {},
   "outputs": [],
   "source": [
    "# position settings\n",
    "pos = {}\n",
    "pos[1] = [0.1300, 0.74, 0.3347, 0.1717]\n",
    "pos[2] = [0.5703, 0.74, 0.3347, 0.1717]\n",
    "pos[3] = [0.1300, 0.11, 0.7750, 0.5]\n",
    "pos[4] = [0.03, 1.71]\n",
    "\n",
    "# create figure\n",
    "f = figure()\n",
    "InvarianceTestKolSmirn(delta_t_k, s_1, s_2, int, F_1, F_2, up, low, pos, 'Kolmogorov-Smirnov invariance test',\n",
    "                       [-0.3, 0]);\n",
    "\n",
    "# save_plot(ax=plt.gca(), extension='png', scriptname=os.path.basename('.')[:-3], count=plt.get_fignums()[-1])"
   ]
  }
 ],
 "metadata": {
  "jupytext": {
   "cell_metadata_filter": "-all",
   "encoding": "# -*- coding: utf-8 -*-",
   "executable": "/usr/bin/env python3",
   "main_language": "python",
   "notebook_metadata_filter": "-all"
  }
 },
 "nbformat": 4,
 "nbformat_minor": 4
}
