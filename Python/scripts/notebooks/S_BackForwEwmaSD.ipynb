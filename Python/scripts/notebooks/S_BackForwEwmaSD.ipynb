{
 "cells": [
  {
   "cell_type": "markdown",
   "metadata": {},
   "source": [
    "# S_BackForwEwmaSD [<img src=\"https://www.arpm.co/lab/icons/icon_permalink.png\" width=30 height=30 style=\"display: inline;\">](https://www.arpm.co/lab/redirect.php?code=S_BackForwEwmaSD&codeLang=Python)\n",
    "For details, see [here](https://www.arpm.co/lab/redirect.php?permalink=eb-estimation-fwd-bwd-exp-smooth)."
   ]
  },
  {
   "cell_type": "markdown",
   "metadata": {},
   "source": [
    "## Prepare the environment"
   ]
  },
  {
   "cell_type": "code",
   "execution_count": null,
   "metadata": {},
   "outputs": [],
   "source": [
    "import os\n",
    "import os.path as path\n",
    "import sys\n",
    "\n",
    "sys.path.append(path.abspath('../../functions-legacy'))\n",
    "\n",
    "from numpy import arange, array, zeros, diff, abs, log, exp, sqrt, linspace\n",
    "from numpy import sum as npsum\n",
    "\n",
    "from scipy.io import loadmat\n",
    "\n",
    "import matplotlib.pyplot as plt\n",
    "from matplotlib.pyplot import subplots, title\n",
    "import matplotlib.dates as mdates\n",
    "\n",
    "plt.style.use('seaborn')\n",
    "\n",
    "from CONFIG import GLOBAL_DB, TEMPORARY_DB\n",
    "from ARPM_utils import save_plot, struct_to_dict, date_mtop\n",
    "\n",
    "# Parameters\n",
    "tau_HL = 30\n",
    "lam = log(2) / tau_HL\n",
    "i_ = 252"
   ]
  },
  {
   "cell_type": "markdown",
   "metadata": {},
   "source": [
    "## Upload database db_Stock SPX"
   ]
  },
  {
   "cell_type": "code",
   "execution_count": null,
   "metadata": {},
   "outputs": [],
   "source": [
    "try:\n",
    "    db = loadmat(os.path.join(GLOBAL_DB, 'db_Stocks'), squeeze_me=True)\n",
    "except FileNotFoundError:\n",
    "    db = loadmat(os.path.join(TEMPORARY_DB, 'db_Stocks'), squeeze_me=True)\n",
    "\n",
    "SPX = struct_to_dict(db['SPX'])"
   ]
  },
  {
   "cell_type": "markdown",
   "metadata": {},
   "source": [
    "## Compute the realized compounded returns"
   ]
  },
  {
   "cell_type": "code",
   "execution_count": null,
   "metadata": {},
   "outputs": [],
   "source": [
    "v = SPX.Price_close\n",
    "\n",
    "x = log(v)\n",
    "epsi = diff(x, 1).reshape(1,-1)\n",
    "date = SPX.Date[1:]\n",
    "\n",
    "t_ = epsi.shape[1]"
   ]
  },
  {
   "cell_type": "markdown",
   "metadata": {},
   "source": [
    "## Compute the backward-forward exponential decay probabilities"
   ]
  },
  {
   "cell_type": "code",
   "execution_count": null,
   "metadata": {},
   "outputs": [],
   "source": [
    "edecayprobs = exp(-lam*(abs(arange(-i_, i_ + 1)))).reshape(1,-1)\n",
    "gamma = npsum(edecayprobs)  # normalization coefficient\n",
    "edecayprobs = edecayprobs / gamma  # decay factors"
   ]
  },
  {
   "cell_type": "markdown",
   "metadata": {},
   "source": [
    "## Compute the backward/forward exponentially weighted moving standard deviations"
   ]
  },
  {
   "cell_type": "code",
   "execution_count": null,
   "metadata": {},
   "outputs": [],
   "source": [
    "y = zeros(t_ - 2 * i_)  # start from time= i_+1 and estimate up to time= t_end -i_  (so that i_ observations are always availabe both backward and forward)\n",
    "for t in arange(i_,t_-i_):\n",
    "    ret = epsi[[0],t - i_:t + i_+1]\n",
    "    y[t - i_] = sqrt(edecayprobs@ret.T ** 2)"
   ]
  },
  {
   "cell_type": "markdown",
   "metadata": {},
   "source": [
    "## Display the compounded returns and the backward/forward exponentially weighted moving standard deviations"
   ]
  },
  {
   "cell_type": "code",
   "execution_count": null,
   "metadata": {},
   "outputs": [],
   "source": [
    "date_dt = array([date_mtop(i) for i in date])\n",
    "myFmt = mdates.DateFormatter('%d-%b-%Y')\n",
    "\n",
    "f, ax = subplots(2, 1)\n",
    "date_est = date_dt[i_:t_- i_]\n",
    "ax[0].plot(date_est, epsi[0,i_:t_ - i_], color='b',lw=1)\n",
    "ax[0].set_xlim([date_est[0], date_est[-1]])\n",
    "ax[0].xaxis.set_major_formatter(myFmt)\n",
    "title('Compounded returns')\n",
    "\n",
    "date_est = date_dt[i_ :t_- i_]\n",
    "ax[1].plot(date_est, y, color=[.9, .4, 0], lw = 1.5)\n",
    "ax[1].set_xlim([date_est[0], date_est[-1]])\n",
    "ax[1].xaxis.set_major_formatter(myFmt)\n",
    "title('Estimated Exponentially Weighted Moving St. Deviation')\n",
    "plt.tight_layout();\n",
    "# save_plot(ax=plt.gca(), extension='png', scriptname=os.path.basename('.')[:-3], count=plt.get_fignums()[-1])"
   ]
  },
  {
   "cell_type": "markdown",
   "metadata": {},
   "source": [
    "## Display the backward/forward exponential decay probabilities"
   ]
  },
  {
   "cell_type": "code",
   "execution_count": null,
   "metadata": {
    "lines_to_next_cell": 2
   },
   "outputs": [],
   "source": [
    "f, ax = subplots(1, 1)\n",
    "ax.bar(arange(edecayprobs.shape[1]),edecayprobs[0], facecolor=[.7, .7, .7], edgecolor=[.7, .7, .7])\n",
    "ax.set_xlim([1, 2 * i_ + 1])\n",
    "plt.xticks(linspace(1,2*i_+1,3),[-252,0,252])\n",
    "title('Exponential decay factors profile');\n",
    "# save_plot(ax=plt.gca(), extension='png', scriptname=os.path.basename('.')[:-3], count=plt.get_fignums()[-1])"
   ]
  }
 ],
 "metadata": {
  "jupytext": {
   "encoding": "# -*- coding: utf-8 -*-",
   "executable": "/usr/bin/env python3"
  },
  "kernelspec": {
   "display_name": "Python 3",
   "language": "python",
   "name": "python3"
  }
 },
 "nbformat": 4,
 "nbformat_minor": 4
}
