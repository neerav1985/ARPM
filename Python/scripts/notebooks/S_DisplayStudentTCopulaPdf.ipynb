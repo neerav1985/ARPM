{
 "cells": [
  {
   "cell_type": "markdown",
   "metadata": {},
   "source": [
    "# S_DisplayStudentTCopulaPdf [<img src=\"https://www.arpm.co/lab/icons/icon_permalink.png\" width=30 height=30 style=\"display: inline;\">](https://www.arpm.co/lab/redirect.php?code=S_DisplayStudentTCopulaPdf&codeLang=Python)\n",
    "For details, see [here](https://www.arpm.co/lab/redirect.php?permalink=eb-2-ex-tcop-trad)."
   ]
  },
  {
   "cell_type": "markdown",
   "metadata": {},
   "source": [
    "## Prepare the environment"
   ]
  },
  {
   "cell_type": "code",
   "execution_count": null,
   "metadata": {},
   "outputs": [],
   "source": [
    "import os\n",
    "import os.path as path\n",
    "import sys\n",
    "\n",
    "sys.path.append(path.abspath('../../functions-legacy'))\n",
    "from collections import namedtuple\n",
    "\n",
    "import numpy as np\n",
    "from numpy import arange, array, zeros, r_\n",
    "\n",
    "from scipy.stats import t\n",
    "\n",
    "import matplotlib.pyplot as plt\n",
    "from matplotlib.pyplot import figure, scatter, subplots, ylabel, \\\n",
    "    xlabel, title\n",
    "from mpl_toolkits.mplot3d import Axes3D\n",
    "\n",
    "plt.style.use('seaborn')\n",
    "\n",
    "from ARPM_utils import save_plot\n",
    "from Tscenarios import Tscenarios\n",
    "from StudentTCopulaPdf import StudentTCopulaPdf\n",
    "\n",
    "# input parameters\n",
    "j_ = 3000  # number of simulations\n",
    "mu = array([[0],[0]])  # location\n",
    "rho = 0  # correlation\n",
    "sigvec = array([[1], [2]])  # standard deviations\n",
    "nu = 4  # degrees of freedom\n",
    "\n",
    "# grid in the unit square\n",
    "Grid = arange(0,1.05,0.05)\n",
    "nGrid = len(Grid)"
   ]
  },
  {
   "cell_type": "markdown",
   "metadata": {},
   "source": [
    "## Compute the pdf of the copula"
   ]
  },
  {
   "cell_type": "code",
   "execution_count": null,
   "metadata": {},
   "outputs": [],
   "source": [
    "f_U = zeros((nGrid, nGrid))\n",
    "c2 = array([[1, rho], [rho, 1]])  # correlation matrix\n",
    "sigma2 = np.diagflat(sigvec)@c2@np.diagflat(sigvec)  # dispersion matrix\n",
    "\n",
    "for n in range(nGrid):\n",
    "    for m in range(nGrid):\n",
    "        u = r_[Grid[n], Grid[m]].reshape(-1,1)\n",
    "        f_U[n,m] = StudentTCopulaPdf(u, nu, mu, sigma2)  # ## Generate moment matching t-simulations\n",
    "\n",
    "optionT = namedtuple('option', 'dim_red stoc_rep')\n",
    "optionT.dim_red = 0\n",
    "optionT.stoc_rep = 0\n",
    "X = Tscenarios(nu, mu, sigma2, j_, optionT, 'PCA')"
   ]
  },
  {
   "cell_type": "markdown",
   "metadata": {},
   "source": [
    "## Generate draws from the copula of the t distribution"
   ]
  },
  {
   "cell_type": "code",
   "execution_count": null,
   "metadata": {},
   "outputs": [],
   "source": [
    "U_1 = t.cdf((X[[0]] - mu[0]) / sigvec[0], nu)  # grade 1\n",
    "U_2 = t.cdf((X[[1]] - mu[1]) / sigvec[1], nu)  # grade 2\n",
    "U = r_[U_1, U_2]  # joint realizations from the required copula"
   ]
  },
  {
   "cell_type": "markdown",
   "metadata": {},
   "source": [
    "## Display the pdf of the t-copula"
   ]
  },
  {
   "cell_type": "code",
   "execution_count": null,
   "metadata": {},
   "outputs": [],
   "source": [
    "u_1, u_2 = np.meshgrid(Grid, Grid)\n",
    "\n",
    "f,ax = subplots(1,1,subplot_kw={'projection':'3d'})\n",
    "ax.plot_surface(u_1, u_2, f_U.T)\n",
    "xlabel('Grade $U_1$')\n",
    "ylabel('Grade $U_2$')\n",
    "str = 'Pdf of t - Copula with correlation =  % .2f'%rho\n",
    "title(str);\n",
    "# save_plot(ax=plt.gca(), extension='png', scriptname=os.path.basename('.')[:-3], count=plt.get_fignums()[-1])"
   ]
  },
  {
   "cell_type": "markdown",
   "metadata": {},
   "source": [
    "## Scatter-plot of the t-copula scenarios"
   ]
  },
  {
   "cell_type": "code",
   "execution_count": null,
   "metadata": {},
   "outputs": [],
   "source": [
    "figure()\n",
    "scatter(U[0], U[1], s=10, c=[.5, .5, .5], marker='*')\n",
    "xlabel('Grade $U_1$')\n",
    "ylabel('Grade $U_2$')\n",
    "title('Grade scenarios');\n",
    "# save_plot(ax=plt.gca(), extension='png', scriptname=os.path.basename('.')[:-3], count=plt.get_fignums()[-1])"
   ]
  }
 ],
 "metadata": {
  "jupytext": {
   "encoding": "# -*- coding: utf-8 -*-",
   "executable": "/usr/bin/env python3"
  },
  "kernelspec": {
   "display_name": "Python 3",
   "language": "python",
   "name": "python3"
  }
 },
 "nbformat": 4,
 "nbformat_minor": 4
}
