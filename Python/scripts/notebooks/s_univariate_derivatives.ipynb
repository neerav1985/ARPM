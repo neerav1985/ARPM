{
 "cells": [
  {
   "cell_type": "markdown",
   "metadata": {},
   "source": [
    "# s_univariate_derivatives [<img src=\"https://www.arpm.co/lab/icons/icon_permalink.png\" width=30 height=30 style=\"display: inline;\">](https://www.arpm.co/lab/redirect.php?code=s_univariate_derivatives&codeLang=Python)\n",
    "For details, see [here](https://www.arpm.co/lab/redirect.php?permalink=s_univariate_derivatives)."
   ]
  },
  {
   "cell_type": "code",
   "execution_count": null,
   "metadata": {},
   "outputs": [],
   "source": [
    "import numpy as np\n",
    "import sympy as sym\n",
    "import matplotlib.pyplot as plt\n",
    "\n",
    "from arpym.tools.logo import add_logo"
   ]
  },
  {
   "cell_type": "markdown",
   "metadata": {},
   "source": [
    "## [Input parameters](https://www.arpm.co/lab/redirect.php?permalink=s_univariate_derivatives-parameters)"
   ]
  },
  {
   "cell_type": "code",
   "execution_count": null,
   "metadata": {},
   "outputs": [],
   "source": [
    "# variable\n",
    "x = sym.symbols('x')\n",
    "\n",
    "# function\n",
    "f = 3*x**3 - 8*x**2 - 5*x+6\n",
    "f"
   ]
  },
  {
   "cell_type": "markdown",
   "metadata": {},
   "source": [
    "## [Step 1](https://www.arpm.co/lab/redirect.php?permalink=s_univariate_derivatives-implementation-step01): Find first derivative"
   ]
  },
  {
   "cell_type": "code",
   "execution_count": null,
   "metadata": {},
   "outputs": [],
   "source": [
    "df_dx = sym.diff(f, x)\n",
    "df_dx  # first derivative"
   ]
  },
  {
   "cell_type": "markdown",
   "metadata": {},
   "source": [
    "## [Step 2](https://www.arpm.co/lab/redirect.php?permalink=s_univariate_derivatives-implementation-step02): Find second derivative"
   ]
  },
  {
   "cell_type": "code",
   "execution_count": null,
   "metadata": {},
   "outputs": [],
   "source": [
    "d2f_dx2 = sym.diff(f, x, 2)\n",
    "sym.expand(d2f_dx2)  # second derivative"
   ]
  },
  {
   "cell_type": "markdown",
   "metadata": {},
   "source": [
    "## [Step 3](https://www.arpm.co/lab/redirect.php?permalink=s_univariate_derivatives-implementation-step03): Calculate values for plotting"
   ]
  },
  {
   "cell_type": "code",
   "execution_count": null,
   "metadata": {},
   "outputs": [],
   "source": [
    "# variable values\n",
    "x_grid = np.linspace(-2, 4, 100)\n",
    "\n",
    "# function\n",
    "f_ = sym.lambdify(x, f, 'numpy')\n",
    "f_x = f_(x_grid)\n",
    "\n",
    "# first derivative\n",
    "df_dx_ = sym.lambdify(x, df_dx, 'numpy')\n",
    "df_dx_x = df_dx_(x_grid)\n",
    "\n",
    "# second derivative\n",
    "d2f_dx2_ = sym.lambdify(x, d2f_dx2, 'numpy')\n",
    "d2f_dx2_x = d2f_dx2_(x_grid)"
   ]
  },
  {
   "cell_type": "markdown",
   "metadata": {},
   "source": [
    "## Plots"
   ]
  },
  {
   "cell_type": "code",
   "execution_count": null,
   "metadata": {},
   "outputs": [],
   "source": [
    "plt.style.use('arpm')\n",
    "\n",
    "fig = plt.figure(figsize=(720.0/72.0, 960.0/72.0), dpi = 72.0)\n",
    "\n",
    "# input function\n",
    "ax1 = plt.subplot(311)\n",
    "ax1.plot(x_grid, f_x)\n",
    "ax1.set_title('Function', fontsize=20, fontweight='bold')\n",
    "ax1.axhline()\n",
    "plt.xlabel(r'$x$', fontsize=17)\n",
    "plt.ylabel(r'$f(x)$', fontsize=17, rotation=0, labelpad=20)\n",
    "plt.xticks(fontsize=14)\n",
    "plt.yticks(fontsize=14)\n",
    "\n",
    "# first derivative\n",
    "ax2 = plt.subplot(312)\n",
    "ax2.plot(x_grid, df_dx_x)\n",
    "ax2.set_title('First derivative', fontsize=20, fontweight='bold')\n",
    "ax2.axhline()\n",
    "plt.xlabel(r'$x$', fontsize=17)\n",
    "plt.ylabel(r'$\\frac{df(x)}{dx}$', fontsize=17, rotation=0, labelpad=20)\n",
    "plt.xticks(fontsize=14)\n",
    "plt.yticks(fontsize=14)\n",
    "\n",
    "# second derivative\n",
    "ax3 = plt.subplot(313)\n",
    "ax3.plot(x_grid, d2f_dx2_x)\n",
    "ax3.set_title('Second derivative', fontsize=20, fontweight='bold')\n",
    "ax3.axhline()\n",
    "plt.xlabel(r'$x$', fontsize=17)\n",
    "plt.ylabel(r'$\\frac{d^2f(x)}{dx^2}$', fontsize=17, rotation=0, labelpad=20)\n",
    "plt.xticks(fontsize=14)\n",
    "plt.yticks(fontsize=14)\n",
    "\n",
    "add_logo(fig, set_fig_size=False)\n",
    "plt.tight_layout()"
   ]
  }
 ],
 "metadata": {
  "jupytext": {
   "encoding": "# -*- coding: utf-8 -*-",
   "executable": "/usr/bin/env python3"
  },
  "kernelspec": {
   "display_name": "Python 3",
   "language": "python",
   "name": "python3"
  }
 },
 "nbformat": 4,
 "nbformat_minor": 4
}
