{
 "cells": [
  {
   "cell_type": "markdown",
   "metadata": {},
   "source": [
    "# S_SampleMeanCovErr [<img src=\"https://www.arpm.co/lab/icons/icon_permalink.png\" width=30 height=30 style=\"display: inline;\">](https://www.arpm.co/lab/redirect.php?code=S_SampleMeanCovErr&codeLang=Python)\n",
    "For details, see [here](https://www.arpm.co/lab/redirect.php?permalink=ExerMeanCovErr)."
   ]
  },
  {
   "cell_type": "markdown",
   "metadata": {},
   "source": [
    "## Prepare the environment"
   ]
  },
  {
   "cell_type": "code",
   "execution_count": null,
   "metadata": {},
   "outputs": [],
   "source": [
    "import os\n",
    "import os.path as path\n",
    "import sys\n",
    "\n",
    "sys.path.append(path.abspath('../../functions-legacy'))\n",
    "from collections import namedtuple\n",
    "\n",
    "import numpy as np\n",
    "from numpy import ones, zeros, percentile, cov, eye, round, mean, log, tile\n",
    "from numpy import max as npmax, sum as npsum\n",
    "from numpy.linalg import norm as linalgnorm\n",
    "from numpy.random import randn\n",
    "from numpy.random import multivariate_normal as mvnrnd\n",
    "\n",
    "import matplotlib.pyplot as plt\n",
    "from matplotlib.pyplot import figure, plot, bar, legend, xlim, ylim, title\n",
    "\n",
    "plt.style.use('seaborn')\n",
    "\n",
    "from ARPM_utils import save_plot\n",
    "from HistogramFP import HistogramFP"
   ]
  },
  {
   "cell_type": "markdown",
   "metadata": {},
   "source": [
    "## Generate scenarios for the estimators and their losses"
   ]
  },
  {
   "cell_type": "code",
   "execution_count": null,
   "metadata": {},
   "outputs": [],
   "source": [
    "rho = 0.999  # correlation\n",
    "i_ = 15  # number of invariants\n",
    "mu = randn(i_, 1)  # true mean\n",
    "sigma2 = 5*(rho*ones((i_)) + (1 - rho)*eye(i_))  # true covariance\n",
    "t_ = 20  # len of time series\n",
    "j_ = 10 ** 4  # number of simulations\n",
    "\n",
    "M = zeros((i_, j_))\n",
    "L_M = zeros((1, j_))\n",
    "Sigma2 = zeros((i_, i_, j_))\n",
    "L_Sigma2 = zeros((1, j_))\n",
    "for j in range(j_):\n",
    "    I = mvnrnd(mu.flatten(),sigma2,t_).T  # i_ x t_end\n",
    "    # compute the loss of sample mean\n",
    "    M[:,j] = mean(I, 1)\n",
    "    L_M[0,j] = npsum((mu - M[:, [j]]) ** 2)\n",
    "    # compute the loss of sample covariance\n",
    "    Sigma2[:,:, j] = cov(I,ddof=1)\n",
    "    L_Sigma2[0,j] = linalgnorm(sigma2 - Sigma2[:,:, j], ord='fro') ** 2"
   ]
  },
  {
   "cell_type": "markdown",
   "metadata": {},
   "source": [
    "## Compute error, bias and inefficiency of both estimators"
   ]
  },
  {
   "cell_type": "code",
   "execution_count": null,
   "metadata": {},
   "outputs": [],
   "source": [
    "# sample mean\n",
    "E_M = mean(M, 1)\n",
    "er_M = mean(L_M)\n",
    "ineff2_M = mean(npsum((M - tile(E_M[...,np.newaxis], (1, j_)))**2,axis=0))\n",
    "bias2_M = er_M - ineff2_M\n",
    "# sample covariance\n",
    "E_Sigma2 = mean(Sigma2, 2)\n",
    "er_Sigma2 = mean(L_Sigma2)\n",
    "ineff2_Sigma2 = mean(npsum((Sigma2 - tile(E_Sigma2[...,np.newaxis], (1, 1, j_)))**2,axis=(0,1)))\n",
    "bias2_Sigma2 = er_Sigma2 - ineff2_Sigma2"
   ]
  },
  {
   "cell_type": "markdown",
   "metadata": {},
   "source": [
    "## Create figures"
   ]
  },
  {
   "cell_type": "code",
   "execution_count": null,
   "metadata": {},
   "outputs": [],
   "source": [
    "nbins = round(50*log(j_))\n",
    "colhist = [.8, .8, .8]\n",
    "orange = [1, 0.4, 0]\n",
    "dark = [0.2, 0.2, 0.2]\n",
    "blue = [0, 0.4, 1]\n",
    "\n",
    "# sample mean assessment\n",
    "figure()\n",
    "\n",
    "p = ones((1, L_M.shape[1])) / L_M.shape[1]\n",
    "option = namedtuple('option', 'n_bins')\n",
    "option.n_bins = nbins\n",
    "L_M_hist, L_M_x = HistogramFP(L_M, p, option)\n",
    "LOSS = bar(L_M_x[:-1], L_M_hist[0], width=L_M_x[1]-L_M_x[0], facecolor= colhist, edgecolor=  'none')\n",
    "ERROR = plot([0, er_M], [npmax(L_M_hist)*0.04, npmax(L_M_hist)*0.04], color=dark, lw=5)\n",
    "BIAS = plot([0, bias2_M], [npmax(L_M_hist)*0.01, npmax(L_M_hist)*0.01], color=orange, lw=5)\n",
    "INEF = plot([bias2_M, er_M], [npmax(L_M_hist)*0.01, npmax(L_M_hist)*0.01], color=blue, lw=5)\n",
    "xlim([-npmax(L_M)*0.0025, percentile(L_M, 99 + 0.9*(1 - rho))])\n",
    "ylim([0, 1.1*npmax(L_M_hist)])\n",
    "title('Sample mean assessment')\n",
    "l = legend(handles=[LOSS,ERROR[0], BIAS[0],INEF[0]],labels=['loss','error','bias$^2$' ,'ineff.$^2$'])\n",
    "COR = 'correlation coeff. = % 3.2f'%rho\n",
    "plt.text(percentile(L_M, 0.99 + 0.009*(1 - rho)), 0.85*npmax(L_M_hist), COR, color='k',horizontalalignment='left');\n",
    "# save_plot(ax=plt.gca(), extension='png', scriptname=os.path.basename('.')[:-3], count=plt.get_fignums()[-1])\n",
    "\n",
    "# sample covariance assessment\n",
    "figure()\n",
    "\n",
    "L_Sigma2_hist, L_Sigma2_x = HistogramFP(L_Sigma2, p, option)\n",
    "LOSS = bar(L_Sigma2_x[:-1], L_Sigma2_hist[0],width=L_Sigma2_x[1]-L_Sigma2_x[0], facecolor= colhist, edgecolor=  'none')\n",
    "ymax = npmax(L_Sigma2_hist)\n",
    "ERROR = plot([0, er_Sigma2], [npmax(L_Sigma2_hist)*0.04, npmax(L_Sigma2_hist)*0.04], color=dark, lw=5)\n",
    "BIAS = plot([0, bias2_Sigma2], [npmax(L_Sigma2_hist)*0.01, npmax(L_Sigma2_hist)*0.01], color=orange, lw=5)\n",
    "INEF = plot([bias2_Sigma2, er_Sigma2], [npmax(L_Sigma2_hist)*0.01, npmax(L_Sigma2_hist)*0.01], color=blue, lw=5)\n",
    "xlim([-npmax(L_Sigma2)*0.0005, percentile(L_Sigma2, 90 + 9.9*(1 - rho))])\n",
    "ylim([0, 1.1*npmax(L_Sigma2_hist)])\n",
    "title('Sample covariance assessment')\n",
    "l = legend(handles=[LOSS,ERROR[0], BIAS[0],INEF[0]],labels=['loss','error','bias$^2$' ,'ineff.$^2$'])\n",
    "COR = 'correlation coeff. = % 3.2f'%rho\n",
    "plt.text(percentile(L_Sigma2, 0.9 + 0.099*(1 - rho)), 0.85*npmax(L_Sigma2_hist), COR, color='k',horizontalalignment='left');\n",
    "# save_plot(ax=plt.gca(), extension='png', scriptname=os.path.basename('.')[:-3], count=plt.get_fignums()[-1])"
   ]
  }
 ],
 "metadata": {
  "jupytext": {
   "encoding": "# -*- coding: utf-8 -*-",
   "executable": "/usr/bin/env python3"
  },
  "kernelspec": {
   "display_name": "Python 3",
   "language": "python",
   "name": "python3"
  }
 },
 "nbformat": 4,
 "nbformat_minor": 4
}
