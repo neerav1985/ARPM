{
 "cells": [
  {
   "cell_type": "markdown",
   "metadata": {},
   "source": [
    "# S_EquivEstimRegLFM [<img src=\"https://www.arpm.co/lab/icons/icon_permalink.png\" width=30 height=30 style=\"display: inline;\">](https://www.arpm.co/lab/redirect.php?code=S_EquivEstimRegLFM&codeLang=Python)\n",
    "For details, see [here](https://www.arpm.co/lab/redirect.php?permalink=EquivFormMLFPEstimReg)."
   ]
  },
  {
   "cell_type": "code",
   "execution_count": null,
   "metadata": {},
   "outputs": [],
   "source": [
    "# ## Prepare the environment\n",
    "import os\n",
    "# +\n",
    "import os.path as path\n",
    "import sys"
   ]
  },
  {
   "cell_type": "code",
   "execution_count": null,
   "metadata": {},
   "outputs": [],
   "source": [
    "from scipy.io import loadmat"
   ]
  },
  {
   "cell_type": "code",
   "execution_count": null,
   "metadata": {},
   "outputs": [],
   "source": [
    "sys.path.append(path.abspath('../../functions-legacy'))"
   ]
  },
  {
   "cell_type": "code",
   "execution_count": null,
   "metadata": {},
   "outputs": [],
   "source": [
    "from numpy import array\n",
    "import numpy as np\n",
    "from numpy import ones, diag, r_, diagflat\n",
    "from numpy import sum as npsum\n",
    "from numpy.linalg import pinv, norm\n",
    "from numpy.random import rand, seed\n",
    "from numpy.random import multivariate_normal as mvnrnd"
   ]
  },
  {
   "cell_type": "code",
   "execution_count": null,
   "metadata": {},
   "outputs": [],
   "source": [
    "import matplotlib.pyplot as plt"
   ]
  },
  {
   "cell_type": "code",
   "execution_count": null,
   "metadata": {},
   "outputs": [],
   "source": [
    "plt.style.use('seaborn')"
   ]
  },
  {
   "cell_type": "code",
   "execution_count": null,
   "metadata": {},
   "outputs": [],
   "source": [
    "from OrdLeastSquareFPNReg import OrdLeastSquareFPNReg"
   ]
  },
  {
   "cell_type": "code",
   "execution_count": null,
   "metadata": {},
   "outputs": [],
   "source": [
    "# input parameters\n",
    "n_ = 6  # target dimension\n",
    "k_ = 3  # number of factors\n",
    "t_ = 1000  # time series len\n",
    "p = ones((1, t_)) / t_  # Flexible Probabilities\n",
    "w = rand(1, t_)  # weights"
   ]
  },
  {
   "cell_type": "code",
   "execution_count": null,
   "metadata": {},
   "outputs": [],
   "source": [
    "mu = 5 * ones(n_ + k_)"
   ]
  },
  {
   "cell_type": "code",
   "execution_count": null,
   "metadata": {
    "lines_to_next_cell": 2
   },
   "outputs": [],
   "source": [
    "c = rand(n_ + k_, n_ + k_)\n",
    "sig2 = c@c.T"
   ]
  },
  {
   "cell_type": "code",
   "execution_count": null,
   "metadata": {},
   "outputs": [],
   "source": [
    "XZ = mvnrnd(mu, sig2, size=(t_))\n",
    "XZ = XZ.T  # observations of target variables and factors\n",
    "# -"
   ]
  },
  {
   "cell_type": "markdown",
   "metadata": {},
   "source": [
    "## Compute MLSFP estimators, for given weights w"
   ]
  },
  {
   "cell_type": "code",
   "execution_count": null,
   "metadata": {},
   "outputs": [],
   "source": [
    "X = XZ[:n_, :]\n",
    "Z = XZ[n_:n_ + k_, :]\n",
    "pw = p * w\n",
    "alpha, beta, *_ = OrdLeastSquareFPNReg(X, Z, pw / npsum(pw))"
   ]
  },
  {
   "cell_type": "markdown",
   "metadata": {},
   "source": [
    "## Compute alternative compact formulation"
   ]
  },
  {
   "cell_type": "code",
   "execution_count": null,
   "metadata": {},
   "outputs": [],
   "source": [
    "Z_ = r_[ones((1, t_)), Z]\n",
    "XZ_ = r_[X, Z_]\n",
    "s2_XZ_ = XZ_@diagflat(pw)@XZ_.T\n",
    "s_XZ_ = s2_XZ_[:n_, n_:n_ + k_+1]\n",
    "s2_Z_ = s2_XZ_[n_:n_ + k_+1, n_:n_ + k_+1]\n",
    "b = s_XZ_.dot(pinv(s2_Z_))"
   ]
  },
  {
   "cell_type": "markdown",
   "metadata": {},
   "source": [
    "## Compare the expressions"
   ]
  },
  {
   "cell_type": "code",
   "execution_count": null,
   "metadata": {},
   "outputs": [],
   "source": [
    "err = norm(r_['-1', alpha, beta] - b, ord='fro')"
   ]
  }
 ],
 "metadata": {
  "jupytext": {
   "encoding": "# -*- coding: utf-8 -*-",
   "executable": "/usr/bin/env python3"
  },
  "kernelspec": {
   "display_name": "Python 3",
   "language": "python",
   "name": "python3"
  }
 },
 "nbformat": 4,
 "nbformat_minor": 4
}
