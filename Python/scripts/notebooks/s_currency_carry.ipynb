{
 "cells": [
  {
   "cell_type": "markdown",
   "metadata": {},
   "source": [
    "# s_currency_carry [<img src=\"https://www.arpm.co/lab/icons/icon_permalink.png\" width=30 height=30 style=\"display: inline;\">](https://www.arpm.co/lab/redirect.php?code=s_currency_carry&codeLang=Python)\n",
    "For details, see [here](https://www.arpm.co/lab/redirect.php?permalink=eb-4-carry-in-carrencies)."
   ]
  },
  {
   "cell_type": "code",
   "execution_count": null,
   "metadata": {},
   "outputs": [],
   "source": [
    "import numpy as np\n",
    "from scipy import interpolate\n",
    "import matplotlib.pyplot as plt\n",
    "\n",
    "from arpym.tools.logo import add_logo"
   ]
  },
  {
   "cell_type": "markdown",
   "metadata": {},
   "source": [
    "## [Input parameters](https://www.arpm.co/lab/redirect.php?permalink=s_currency_carry-parameters)"
   ]
  },
  {
   "cell_type": "code",
   "execution_count": null,
   "metadata": {},
   "outputs": [],
   "source": [
    "k = 1 / 116.5  # strike (forward rate at inception)\n",
    "fx_jpy_us = 1 / 114.68  # spot yen to dollar on 26-Dec-2013\n",
    "time_to_mat = 1  # maturity of the contract\n",
    "dt = 1 / 100"
   ]
  },
  {
   "cell_type": "markdown",
   "metadata": {},
   "source": [
    "## [Step 1](https://www.arpm.co/lab/redirect.php?permalink=s_currency_carry-implementation-step01): key rates for USD and JGB yield curves at the current time"
   ]
  },
  {
   "cell_type": "code",
   "execution_count": null,
   "metadata": {},
   "outputs": [],
   "source": [
    "tam_l = [0, 1, 2, 3, 4, 5, 6, 7, 8, 9, 10, 15, 20, 25, 30, 40]\n",
    "steady_path_l = [0.00, 0.080, 0.098, 0.122, 0.173, 0.221, 0.316, 0.443, 0.552,\n",
    "                 0.635, 0.707, 1.104, 1.557, 1.652, 1.696,\n",
    "                 1.759]  # JGB yield curve on 26-Dec-2013\n",
    "\n",
    "tam_b = [0, 1 / 4, 1 / 2, 1, 2, 3, 5, 7, 10, 20, 30]\n",
    "steady_path_b = [0.00, 0.07, 0.09, 0.13, 0.42, 0.81, 1.74,\n",
    "                 2.43, 3.00, 3.68, 3.92]  # USD yield curve on 26-Dec-2013"
   ]
  },
  {
   "cell_type": "markdown",
   "metadata": {},
   "source": [
    "## [Step 2](https://www.arpm.co/lab/redirect.php?permalink=s_currency_carry-implementation-step02): carry of the forward contract"
   ]
  },
  {
   "cell_type": "code",
   "execution_count": null,
   "metadata": {},
   "outputs": [],
   "source": [
    "# initial settings\n",
    "t_hor = np.arange(0, 1 + dt, dt)\n",
    "m_ = len(t_hor)\n",
    "\n",
    "maturities = np.arange(time_to_mat, -dt, -dt)  # maturities\n",
    "\n",
    "interp = interpolate.interpolate.interp1d(tam_l, steady_path_l,\n",
    "                                          fill_value='extrapolate')\n",
    "yield_curve_l = interp(maturities)\n",
    "interp = interpolate.interpolate.interp1d(tam_b, steady_path_b,\n",
    "                                          fill_value='extrapolate')\n",
    "yield_curve_b = interp(maturities)\n",
    "\n",
    "carry_thor = -(fx_jpy_us * np.exp((-maturities * yield_curve_l)) -\n",
    "               k * np.exp((-maturities * yield_curve_b)) -\n",
    "               fx_jpy_us * np.exp(-time_to_mat * yield_curve_l) +\n",
    "               k * np.exp(-time_to_mat * yield_curve_b))"
   ]
  },
  {
   "cell_type": "markdown",
   "metadata": {},
   "source": [
    "## Plots"
   ]
  },
  {
   "cell_type": "code",
   "execution_count": null,
   "metadata": {},
   "outputs": [],
   "source": [
    "plt.style.use('arpm')\n",
    "\n",
    "fig, ax = plt.subplots(2, 1)\n",
    "nu = 0.5  # nu=u-t\n",
    "i = np.where(t_hor == nu)[0][0]\n",
    "dgrey = [0.2, 0.2, 0.2]  # dark grey\n",
    "lgrey = [0.6, 0.6, 0.6]  # light grey\n",
    "blue = [0, 0, 0.4]  # dark blue\n",
    "plt.sca(ax[0])\n",
    "plt.grid(True)\n",
    "plt.axis([0, 1, np.min(carry_thor), max(carry_thor)])\n",
    "plt.xticks(np.arange(maturities[i], 1, 0.1), np.arange(0, nu + 0.1, 0.1))\n",
    "shift_carry = carry_thor[:i+1].reshape(1, -1)\n",
    "shift_time = t_hor[i:].reshape(1, -1)\n",
    "plt.plot([maturities[i], maturities[i]], [np.min(carry_thor) - 0.05,\n",
    "         np.max(carry_thor) + 0.2], color='k', lw=1)\n",
    "plt.plot(np.r_[shift_time, shift_time], np.r_[np.zeros(shift_carry.shape),\n",
    "         shift_carry], color=lgrey, lw=1)\n",
    "plt.plot(shift_time[0], shift_carry[0], color=lgrey, lw=1)\n",
    "for i in range(shift_time.shape[1]-1):\n",
    "    plt.fill_between([shift_time[0, i], shift_time[0, i+1]],\n",
    "                     [shift_carry[0, i], 0], facecolor=lgrey, edgecolor=lgrey)\n",
    "plt.xlabel('Time (years)')\n",
    "plt.ylabel('Carry')\n",
    "plt.title('Carry in currencies')\n",
    "# Yield to maturity curves\n",
    "plt.sca(ax[1])\n",
    "plt.axis([0, 1, min(np.min(yield_curve_b), np.min(yield_curve_l)),\n",
    "          max(np.max(yield_curve_b), np.max(yield_curve_l))])\n",
    "plt.xticks(np.arange(0, 1.1, 0.1))\n",
    "plt.grid(True)\n",
    "# yield curve (base currency)\n",
    "plt.plot(maturities, yield_curve_b, color=blue, lw=1)\n",
    "plt.plot([maturities[i], maturities[i]], [yield_curve_b[i], yield_curve_b[i]],\n",
    "         color='r', marker='.', markersize=15)\n",
    "plt.text(maturities[i], yield_curve_b[i - 15] + 0.002, '$y_{t}^{b}$')\n",
    "# yield curve (local currency)\n",
    "plt.plot(maturities, yield_curve_l, color=blue, lw=1)\n",
    "plt.plot([maturities[i], maturities[i]], [yield_curve_l[i], yield_curve_l[i]],\n",
    "         color='r', marker='.', markersize=15)\n",
    "plt.text(maturities[i], yield_curve_l[i - 15] + 0.002, '$y_{t}^{l}$')\n",
    "plt.xlabel('Time to Maturity (years)')\n",
    "plt.ylabel('Yield')\n",
    "plt.title('Yield to maturity curves')\n",
    "add_logo(fig)\n",
    "plt.tight_layout()"
   ]
  }
 ],
 "metadata": {
  "jupytext": {
   "encoding": "# -*- coding: utf-8 -*-",
   "executable": "/usr/bin/env python3"
  },
  "kernelspec": {
   "display_name": "Python 3",
   "language": "python",
   "name": "python3"
  }
 },
 "nbformat": 4,
 "nbformat_minor": 4
}
