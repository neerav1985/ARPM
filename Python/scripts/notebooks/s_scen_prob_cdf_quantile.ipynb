{
 "cells": [
  {
   "cell_type": "markdown",
   "metadata": {},
   "source": [
    "# s_scen_prob_cdf_quantile [<img src=\"https://www.arpm.co/lab/icons/icon_permalink.png\" width=30 height=30 style=\"display: inline;\">](https://www.arpm.co/lab/redirect.php?code=s_scen_prob_cdf_quantile&codeLang=Python)\n",
    "For details, see [here](https://www.arpm.co/lab/redirect.php?permalink=eb-univ-fpcase-stud)."
   ]
  },
  {
   "cell_type": "code",
   "execution_count": null,
   "metadata": {},
   "outputs": [],
   "source": [
    "import numpy as np\n",
    "import matplotlib.pyplot as plt\n",
    "\n",
    "from arpym.statistics.cdf_sp import cdf_sp\n",
    "from arpym.statistics.quantile_sp import quantile_sp\n",
    "from arpym.tools.logo import add_logo"
   ]
  },
  {
   "cell_type": "markdown",
   "metadata": {},
   "source": [
    "## [Input parameters](https://www.arpm.co/lab/redirect.php?permalink=s_scen_prob_cdf_quantile-parameters)"
   ]
  },
  {
   "cell_type": "code",
   "execution_count": null,
   "metadata": {},
   "outputs": [],
   "source": [
    "l_ = 500  # number points to evaluate cdf\n",
    "k_ = 99  # number of confidence levels\n",
    "h = 0.01  # bandwidth for Gaussian kernel\n",
    "\n",
    "x = np.array([1, 2, 0])  # scenarios\n",
    "p = np.array([0.31, 0.07, 0.62])  # probabilities"
   ]
  },
  {
   "cell_type": "markdown",
   "metadata": {},
   "source": [
    "## [Step 1](https://www.arpm.co/lab/redirect.php?permalink=s_scen_prob_cdf_quantile-implementation-step01): Compute cdf"
   ]
  },
  {
   "cell_type": "code",
   "execution_count": null,
   "metadata": {},
   "outputs": [],
   "source": [
    "x_grid = np.linspace(min(x)-3.5, max(x)+1, l_)  # values to compute cdf\n",
    "cdf = cdf_sp(x_grid, x, p)"
   ]
  },
  {
   "cell_type": "markdown",
   "metadata": {},
   "source": [
    "## [Step 2](https://www.arpm.co/lab/redirect.php?permalink=s_scen_prob_cdf_quantile-implementation-step02): Compute linearly interpolated cdf"
   ]
  },
  {
   "cell_type": "code",
   "execution_count": null,
   "metadata": {},
   "outputs": [],
   "source": [
    "cdf_linint = cdf_sp(x_grid, x, p, method='linear_interp')"
   ]
  },
  {
   "cell_type": "markdown",
   "metadata": {},
   "source": [
    "## [Step 3](https://www.arpm.co/lab/redirect.php?permalink=s_scen_prob_cdf_quantile-implementation-step03): Compute quantile"
   ]
  },
  {
   "cell_type": "code",
   "execution_count": null,
   "metadata": {},
   "outputs": [],
   "source": [
    "c_ = np.linspace(0.01, 0.99, k_)  # confidence levels\n",
    "q_x_c = quantile_sp(c_, x, p)"
   ]
  },
  {
   "cell_type": "markdown",
   "metadata": {},
   "source": [
    "## [Step 4](https://www.arpm.co/lab/redirect.php?permalink=s_scen_prob_cdf_quantile-implementation-step04): Compute the median"
   ]
  },
  {
   "cell_type": "code",
   "execution_count": null,
   "metadata": {},
   "outputs": [],
   "source": [
    "med_x = quantile_sp(0.5, x, p)"
   ]
  },
  {
   "cell_type": "markdown",
   "metadata": {},
   "source": [
    "## [Step 5](https://www.arpm.co/lab/redirect.php?permalink=s_scen_prob_cdf_quantile-implementation-step05): Compute linearly interpolated quantile"
   ]
  },
  {
   "cell_type": "code",
   "execution_count": null,
   "metadata": {},
   "outputs": [],
   "source": [
    "q_x_c_linint = quantile_sp(c_, x, p, method='linear_interp')"
   ]
  },
  {
   "cell_type": "markdown",
   "metadata": {},
   "source": [
    "## [Step 6](https://www.arpm.co/lab/redirect.php?permalink=s_scen_prob_cdf_quantile-implementation-step06): Compute smooth quantile"
   ]
  },
  {
   "cell_type": "code",
   "execution_count": null,
   "metadata": {},
   "outputs": [],
   "source": [
    "q_x_c_smooth = quantile_sp(c_, x, p, method='kernel_smoothing', h=h)"
   ]
  },
  {
   "cell_type": "markdown",
   "metadata": {},
   "source": [
    "## Plots"
   ]
  },
  {
   "cell_type": "code",
   "execution_count": null,
   "metadata": {},
   "outputs": [],
   "source": [
    "plt.style.use('arpm')\n",
    "\n",
    "# cdf plot\n",
    "fig1 = plt.figure()\n",
    "\n",
    "# plot (discontinuous) cdf\n",
    "levels = np.unique(cdf)\n",
    "for level in levels:\n",
    "    if level == np.min(levels):\n",
    "        plt.plot(x_grid[cdf == level], cdf[cdf == level],\n",
    "                 label='cdf', color='dimgray', lw=1.5)\n",
    "        plt.plot(np.min(x_grid[cdf == level]), level,\n",
    "                    color='dimgray', marker='<')\n",
    "        plt.plot(np.max(x_grid[cdf == level]), level,\n",
    "                    color='white', marker='o')\n",
    "        plt.plot(np.max(x_grid[cdf == level]), level,\n",
    "                    color='dimgray', marker='o', fillstyle='none')\n",
    "    elif level == np.max(levels):\n",
    "        plt.plot(x_grid[cdf == level], cdf[cdf == level],\n",
    "                 color='dimgray', lw=1.5)\n",
    "        plt.plot(np.min(x_grid[cdf == level]), level,\n",
    "                    color='dimgray', marker='o')\n",
    "        plt.plot(np.max(x_grid[cdf == level]), level,\n",
    "                    color='dimgray', marker='>')\n",
    "    else:\n",
    "        plt.plot(x_grid[cdf == level], cdf[cdf == level],\n",
    "                 color='dimgray', lw=1.5)\n",
    "        plt.plot(np.min(x_grid[cdf == level]), level,\n",
    "                    color='dimgray', marker='o')\n",
    "        plt.plot(np.max(x_grid[cdf == level]), level,\n",
    "                    color='white', marker='o')\n",
    "        plt.plot(np.max(x_grid[cdf == level]), level,\n",
    "                    color='dimgray', marker='o', fillstyle='none')\n",
    "\n",
    "# plot linearly interpolated cdf\n",
    "plt.plot(x_grid, cdf_linint, label='linearly interpolated cdf',\n",
    "         color='C1', lw=1.5, linestyle='--')\n",
    "\n",
    "# style\n",
    "plt.xlabel('$x$', fontsize=17)\n",
    "plt.ylabel('cdf', fontsize=17)\n",
    "plt.xticks(fontsize=14)\n",
    "plt.yticks(fontsize=14)\n",
    "plt.legend(fontsize=17)\n",
    "add_logo(fig1)\n",
    "plt.tight_layout()\n",
    "\n",
    "# quantile plot\n",
    "fig2 = plt.figure()\n",
    "\n",
    "# plot (discontinuous) quantile\n",
    "for scenario in x:\n",
    "    if scenario == np.max(x):\n",
    "        plt.plot(c_[q_x_c == scenario], q_x_c[q_x_c == scenario],\n",
    "                 label='quantile', color='dimgray', lw=1.5)\n",
    "        plt.plot(np.min(c_[q_x_c == scenario]), scenario,\n",
    "                    color='white', marker='o')\n",
    "        plt.plot(np.min(c_[q_x_c == scenario]), scenario,\n",
    "                    color='dimgray', marker='o', fillstyle='none')\n",
    "        plt.plot(np.max(c_[q_x_c == scenario]), scenario,\n",
    "                    color='white', marker='o')\n",
    "        plt.plot(np.max(c_[q_x_c == scenario]), scenario,\n",
    "                    color='dimgray', marker='o', fillstyle='none')\n",
    "    else:\n",
    "        plt.plot(c_[q_x_c == scenario], q_x_c[q_x_c == scenario],\n",
    "                 color='dimgray', lw=1.5)\n",
    "        plt.plot(np.min(c_[q_x_c == scenario]), scenario,\n",
    "                    color='white', marker='o')\n",
    "        plt.plot(np.min(c_[q_x_c == scenario]), scenario,\n",
    "                    color='dimgray', marker='o', fillstyle='none')\n",
    "        plt.plot(np.max(c_[q_x_c == scenario]), scenario,\n",
    "                    color='dimgray', marker='o')\n",
    "\n",
    "# plot linearly interpolated quantile\n",
    "plt.plot(c_, q_x_c_linint, label='linearly interpolated quantile',\n",
    "         color='C1', lw=1.5)\n",
    "\n",
    "# plot smooth quantile\n",
    "plt.plot(c_, q_x_c_smooth, label='smooth quantile',\n",
    "         color='orange', lw=1.5, linestyle='--')\n",
    "\n",
    "# style\n",
    "plt.xlabel('confidence level $c$', fontsize=17)\n",
    "plt.ylabel('quantile', fontsize=17)\n",
    "plt.xticks(fontsize=14)\n",
    "plt.yticks(fontsize=14)\n",
    "plt.legend(fontsize=17)\n",
    "add_logo(fig2)\n",
    "plt.tight_layout()"
   ]
  }
 ],
 "metadata": {
  "jupytext": {
   "encoding": "# -*- coding: utf-8 -*-",
   "executable": "/usr/bin/env python3"
  },
  "kernelspec": {
   "display_name": "Python 3",
   "language": "python",
   "name": "python3"
  }
 },
 "nbformat": 4,
 "nbformat_minor": 4
}
