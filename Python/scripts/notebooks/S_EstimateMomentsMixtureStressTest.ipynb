{
 "cells": [
  {
   "cell_type": "markdown",
   "metadata": {},
   "source": [
    "# S_EstimateMomentsMixtureStressTest [<img src=\"https://www.arpm.co/lab/icons/icon_permalink.png\" width=30 height=30 style=\"display: inline;\">](https://www.arpm.co/lab/redirect.php?code=S_EstimateMomentsMixtureStressTest&codeLang=Python)\n",
    "For details, see [here](https://www.arpm.co/lab/redirect.php?permalink=e-sta-ssessm-omb-ased-copy-1)."
   ]
  },
  {
   "cell_type": "markdown",
   "metadata": {},
   "source": [
    "## Prepare the environment"
   ]
  },
  {
   "cell_type": "code",
   "execution_count": null,
   "metadata": {},
   "outputs": [],
   "source": [
    "import os\n",
    "import os.path as path\n",
    "import sys\n",
    "\n",
    "sys.path.append(path.abspath('../../functions-legacy'))\n",
    "\n",
    "import numpy as np\n",
    "from numpy import arange, array, zeros, mean, exp\n",
    "from numpy import min as npmin\n",
    "from numpy.random import rand\n",
    "\n",
    "import matplotlib.pyplot as plt\n",
    "from matplotlib.pyplot import plot, bar, legend, ylim, subplots, title\n",
    "\n",
    "plt.style.use('seaborn')\n",
    "\n",
    "from ARPM_utils import save_plot\n",
    "from QuantileMixture import QuantileMixture"
   ]
  },
  {
   "cell_type": "markdown",
   "metadata": {},
   "source": [
    "## Compute error, bias and inefficiency for every estimator and for every DGP within the stress-test set"
   ]
  },
  {
   "cell_type": "code",
   "execution_count": null,
   "metadata": {},
   "outputs": [],
   "source": [
    "# define estimators\n",
    "g_a =lambda X: (X[:, [0]] - X[:,[-1]]) *X[:, [1]] * X[:, [1]]\n",
    "g_b =lambda X: mean(X, 1, keepdims=True)\n",
    "g_c =lambda X: 5 + 0*X[:, [0]]\n",
    "g_d =lambda X: mean(X ** 2 - X, 1, keepdims=True)\n",
    "\n",
    "# generate the scenarios for the time series\n",
    "t_ = 50\n",
    "j_ = 10 ** 4\n",
    "alpha = 0.5\n",
    "sigma_Y = 0.2\n",
    "mu_Z = 0\n",
    "sigma_Z = 0.15\n",
    "\n",
    "S = arange(0,0.22,0.02)  # stress-test set for parameter mu_Y\n",
    "k_ = len(S)\n",
    "\n",
    "I = zeros((j_, t_))\n",
    "er_a = zeros(k_)\n",
    "er_b = zeros(k_)\n",
    "er_c = zeros(k_)\n",
    "er_d = zeros(k_)\n",
    "bias2_a = zeros(k_)\n",
    "bias2_b = zeros(k_)\n",
    "bias2_c = zeros(k_)\n",
    "bias2_d = zeros(k_)\n",
    "inef2_a = zeros(k_)\n",
    "inef2_b = zeros(k_)\n",
    "inef2_c = zeros(k_)\n",
    "inef2_d = zeros(k_)\n",
    "for k in range(k_):\n",
    "    # compute the true value of the property\n",
    "    mu_Y = S[k]\n",
    "    g_f = alpha*(mu_Y ** 2+sigma_Y ** 2-mu_Y) + (1-alpha)*(exp(2*mu_Z+2*sigma_Z ** 2)-exp(mu_Z+0.5*sigma_Z ** 2))\n",
    "    # generate j_ simulations of the time series\n",
    "    P = rand(j_, t_)\n",
    "    for t in range(t_):\n",
    "        I[:,t] = QuantileMixture(P[:,t], alpha, mu_Y, sigma_Y, mu_Z, sigma_Z)\n",
    "\n",
    "    # compute simulations of the estimators\n",
    "    G_a = g_a(I)\n",
    "    G_b = g_b(I)\n",
    "    G_c = g_c(I)\n",
    "    G_d = g_d(I)\n",
    "    # compute the losses of the estimators\n",
    "    L_a = (G_a - g_f) ** 2\n",
    "    L_b = (G_b - g_f) ** 2\n",
    "    L_c = (G_c - g_f) ** 2\n",
    "    L_d = (G_d - g_f) ** 2\n",
    "    # compute errors\n",
    "    er_a[k] = mean(L_a)\n",
    "    er_b[k] = mean(L_b)\n",
    "    er_c[k] = mean(L_c)\n",
    "    er_d[k] = mean(L_d)\n",
    "    # compute square bias\n",
    "    bias2_a[k] = (mean((G_a) - g_f)) ** 2\n",
    "    bias2_b[k] = (mean((G_b) - g_f)) ** 2\n",
    "    bias2_c[k] = (mean((G_c) - g_f)) ** 2\n",
    "    bias2_d[k] = (mean((G_d) - g_f)) ** 2\n",
    "    # compute square inefficiency\n",
    "    inef2_a[k] = er_a[k] - bias2_a[k]\n",
    "    inef2_b[k] = er_b[k] - bias2_b[k]\n",
    "    inef2_c[k] = er_c[k] - bias2_c[k]\n",
    "    inef2_d[k] = er_d[k] - bias2_d[k]"
   ]
  },
  {
   "cell_type": "markdown",
   "metadata": {},
   "source": [
    "## Compute robust and ensemble errors"
   ]
  },
  {
   "cell_type": "code",
   "execution_count": null,
   "metadata": {},
   "outputs": [],
   "source": [
    "er_rob_a = max(er_a)\n",
    "er_rob_b = max(er_b)\n",
    "er_rob_c = max(er_c)\n",
    "er_rob_d = max(er_d)\n",
    "\n",
    "er_ens_a = mean(er_a)\n",
    "er_ens_b = mean(er_b)\n",
    "er_ens_c = mean(er_c)\n",
    "er_ens_d = mean(er_d)"
   ]
  },
  {
   "cell_type": "markdown",
   "metadata": {},
   "source": [
    "## Determine the optimal estimator"
   ]
  },
  {
   "cell_type": "code",
   "execution_count": null,
   "metadata": {},
   "outputs": [],
   "source": [
    "# best robust estimator\n",
    "er_rob, i_rob = npmin([er_rob_a, er_rob_b, er_rob_c, er_rob_d]), np.argmin([er_rob_a, er_rob_b, er_rob_c, er_rob_d])\n",
    "# best ensemble estimator\n",
    "er_ens, i_ens = npmin([er_ens_a, er_ens_b, er_ens_c, er_ens_d]), np.argmin([er_ens_a, er_ens_b, er_ens_c, er_ens_d])"
   ]
  },
  {
   "cell_type": "markdown",
   "metadata": {},
   "source": [
    "## plot error, bias and inefficiency for each DGP within the stress-test set"
   ]
  },
  {
   "cell_type": "code",
   "execution_count": null,
   "metadata": {},
   "outputs": [],
   "source": [
    "red = [.9, .4, 0]\n",
    "blue = [0, .45, .7]\n",
    "\n",
    "f, ax = subplots(4,1)\n",
    "\n",
    "plt.sca(ax[0])\n",
    "b = bar(range(1,len(bias2_a)+1), bias2_a+inef2_a, facecolor= red,label='bias$^2$')\n",
    "b = bar(range(1,len(bias2_a)+1), inef2_a.T,facecolor= blue,label='ineff$^2$')\n",
    "h = plot(range(1,len(bias2_a)+1), er_a, 'k',lw= 1.5,label='error')\n",
    "yy = array(ylim())\n",
    "plt.xticks(range(0,len(bias2_a)+1,2))\n",
    "ylim(yy + array([0, 0.25]))\n",
    "legend(frameon=True, ncol=3)\n",
    "title('stress-test of estimator a')\n",
    "\n",
    "plt.sca(ax[1])\n",
    "b = bar(range(1,len(bias2_b)+1), bias2_b.T+inef2_b.T,facecolor= red)\n",
    "b = bar(range(1,len(bias2_b)+1), inef2_b.T,facecolor= blue)\n",
    "plot(range(1,len(bias2_b)+1), er_b, 'k',lw= 1.5)\n",
    "plt.xticks(range(0,len(bias2_b)+1,2))\n",
    "title('stress-test of estimator b')\n",
    "\n",
    "plt.sca(ax[2])\n",
    "b = bar(range(1,len(bias2_c)+1), bias2_c.T+inef2_c.T,facecolor= red)\n",
    "b = bar(range(1,len(bias2_c)+1), inef2_c.T,facecolor= blue)\n",
    "plot(range(1,len(bias2_c)+1), er_c, 'k',lw= 1.5)\n",
    "plt.xticks(range(0,len(bias2_c)+1,2))\n",
    "title('stress-test of estimator c')\n",
    "\n",
    "plt.sca(ax[3])\n",
    "b = bar(range(1,len(bias2_d)+1), bias2_d.T+inef2_d.T,facecolor= red)\n",
    "b = bar(range(1,len(bias2_d)+1), inef2_d.T,facecolor= blue)\n",
    "plot(range(1,len(bias2_d)+1), er_d, 'k',lw= 1.5)\n",
    "plt.xticks(range(0,len(bias2_d)+1,2))\n",
    "title('stress-test of estimator d');\n",
    "plt.tight_layout();\n",
    "plt.show()\n",
    "# save_plot(ax=plt.gca(), extension='png', scriptname=os.path.basename('.')[:-3], count=plt.get_fignums()[-1])"
   ]
  }
 ],
 "metadata": {
  "jupytext": {
   "encoding": "# -*- coding: utf-8 -*-",
   "executable": "/usr/bin/env python3"
  },
  "kernelspec": {
   "display_name": "Python 3",
   "language": "python",
   "name": "python3"
  }
 },
 "nbformat": 4,
 "nbformat_minor": 4
}
