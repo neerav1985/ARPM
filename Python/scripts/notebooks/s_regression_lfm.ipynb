{
 "cells": [
  {
   "cell_type": "markdown",
   "metadata": {},
   "source": [
    "# s_regression_lfm [<img src=\"https://www.arpm.co/lab/icons/icon_permalink.png\" width=30 height=30 style=\"display: inline;\">](https://www.arpm.co/lab/redirect.php?code=s_regression_lfm&codeLang=Python)\n",
    "For details, see [here](https://www.arpm.co/lab/redirect.php?permalink=eb-lfmtime-cor-copy-1)."
   ]
  },
  {
   "cell_type": "code",
   "execution_count": null,
   "metadata": {},
   "outputs": [],
   "source": [
    "import matplotlib.pyplot as plt\n",
    "from mpl_toolkits.mplot3d import Axes3D\n",
    "import numpy as np\n",
    "from matplotlib.lines import Line2D\n",
    "\n",
    "from arpym.estimation.cov_2_corr import cov_2_corr\n",
    "from arpym.statistics.simulate_normal import simulate_normal\n",
    "from arpym.tools.logo import add_logo"
   ]
  },
  {
   "cell_type": "markdown",
   "metadata": {},
   "source": [
    "## [Input parameters](https://www.arpm.co/lab/redirect.php?permalink=s_regression_lfm-parameters)"
   ]
  },
  {
   "cell_type": "code",
   "execution_count": null,
   "metadata": {},
   "outputs": [],
   "source": [
    "mu_xz = np.array([3., 3., 3.])  # joint expectation of (X,Z)\n",
    "sigma2_xz = np.array([[1., 0.21, 0.35],\n",
    "                      [0.21, 4., 0.6],\n",
    "                      [0.35, 0.6, 1.]])  # covariance of (X,Z)\n",
    "j_ = 1000  # number of scenarios"
   ]
  },
  {
   "cell_type": "markdown",
   "metadata": {},
   "source": [
    "## [Step 1](https://www.arpm.co/lab/redirect.php?permalink=s_regression_lfm-implementation-step01): Compute optimal loadings"
   ]
  },
  {
   "cell_type": "code",
   "execution_count": null,
   "metadata": {},
   "outputs": [],
   "source": [
    "n_ = 1\n",
    "k_ = 2\n",
    "\n",
    "sigma_xz = sigma2_xz[:n_, n_:]  # covariance of (X,Z)\n",
    "sigma2_z = sigma2_xz[n_:, n_:]  # variance of Z\n",
    "mu_z = mu_xz[n_:]  # expectation of Z\n",
    "mu_x = mu_xz[:n_]  # expectation of X\n",
    "beta = sigma_xz@np.linalg.inv(sigma2_z)  # factor loadings\n",
    "alpha = mu_x - beta @ mu_z  # shift parameter"
   ]
  },
  {
   "cell_type": "markdown",
   "metadata": {},
   "source": [
    "## [Step 2](https://www.arpm.co/lab/redirect.php?permalink=s_regression_lfm-implementation-step02): Compute expectation and covariance of prediction"
   ]
  },
  {
   "cell_type": "code",
   "execution_count": null,
   "metadata": {},
   "outputs": [],
   "source": [
    "mu_xreg_bar = alpha + beta@mu_z  # expectation of Xreg\n",
    "sigma2_xreg_bar = beta @ sigma2_z @ beta.T  # variance of Xreg"
   ]
  },
  {
   "cell_type": "markdown",
   "metadata": {},
   "source": [
    "## [Step 3](https://www.arpm.co/lab/redirect.php?permalink=s_regression_lfm-implementation-step03): Compute the r-squared"
   ]
  },
  {
   "cell_type": "code",
   "execution_count": null,
   "metadata": {},
   "outputs": [],
   "source": [
    "c2_xz, _ = cov_2_corr(sigma2_xz)  # correlation matrix\n",
    "\n",
    "sigma2_x = sigma2_xz[:n_, :n_]  # covariance matrix\n",
    "r2 = np.trace(sigma_xz@np.linalg.inv(sigma2_z)@sigma_xz.T)/np.trace(sigma2_x)  # r-squared"
   ]
  },
  {
   "cell_type": "markdown",
   "metadata": {},
   "source": [
    "## [Step 4](https://www.arpm.co/lab/redirect.php?permalink=s_regression_lfm-implementation-step04): Compute joint distribution of residulas and factors"
   ]
  },
  {
   "cell_type": "code",
   "execution_count": null,
   "metadata": {},
   "outputs": [],
   "source": [
    "a = np.zeros(n_ + k_)\n",
    "a[:n_] = -alpha\n",
    "b = np.eye(n_ + k_)\n",
    "b[:n_, n_:] = -beta\n",
    "mu_epsz = a + b @ mu_xz  # joint expectation of (ε,Z)\n",
    "sigma2_epsz = b @ sigma2_xz @ b.T  # covariance of (ε,Z)"
   ]
  },
  {
   "cell_type": "markdown",
   "metadata": {},
   "source": [
    "## [Step 5](https://www.arpm.co/lab/redirect.php?permalink=s_regression_lfm-implementation-step05): Compute simulations of target variable and factors"
   ]
  },
  {
   "cell_type": "code",
   "execution_count": null,
   "metadata": {},
   "outputs": [],
   "source": [
    "xz = simulate_normal(mu_xz, sigma2_xz, j_)  # generated scenarios\n",
    "x_reg_bar = alpha + beta @ xz[:, n_:].T  # predicted scenarios"
   ]
  },
  {
   "cell_type": "markdown",
   "metadata": {},
   "source": [
    "## Plots"
   ]
  },
  {
   "cell_type": "code",
   "execution_count": null,
   "metadata": {},
   "outputs": [],
   "source": [
    "# number of simulations to plot\n",
    "d = 200\n",
    "\n",
    "z_1_low = np.percentile(xz[:, n_], 1)\n",
    "z_1_upp = np.percentile(xz[:, n_], 99)\n",
    "z_1 = np.arange(z_1_low, z_1_upp, 0.5)\n",
    "z_2_low = np.percentile(xz[:, n_+1], 1)\n",
    "z_2_upp = np.percentile(xz[:, n_+1], 99)\n",
    "z_2 = np.arange(z_2_low, z_2_upp, 0.5)\n",
    "\n",
    "[z_1, z_2] = np.meshgrid(z_1, z_2)\n",
    "x_reg_bar_plane = alpha + beta[0, 0] * z_1 + beta[0, 1] * z_2\n",
    "\n",
    "\n",
    "x_max = np.max(np.r_[xz[:d, 0], x_reg_bar_plane.reshape(-1)])\n",
    "x_min = np.min(np.r_[xz[:d, 0], x_reg_bar_plane.reshape(-1)])\n",
    "\n",
    "z1_min = np.min(z_1)\n",
    "z1_max = np.max(z_1)\n",
    "\n",
    "z2_min = np.min(z_2)\n",
    "z2_max = np.max(z_2)\n",
    "\n",
    "lim_max = np.max([x_max, z1_max, z2_max])\n",
    "lim_min = np.min([x_min, z1_min, z2_min])\n",
    "\n",
    "plt.style.use('arpm')\n",
    "\n",
    "fig = plt.figure()\n",
    "\n",
    "ax2 = fig.add_subplot(121, projection='3d')\n",
    "\n",
    "ax2.grid(b=False)\n",
    "ax2.w_xaxis.set_pane_color((1.0, 1.0, 1.0, 1.0))\n",
    "ax2.w_yaxis.set_pane_color((1.0, 1.0, 1.0, 1.0))\n",
    "ax2.w_zaxis.set_pane_color((1.0, 1.0, 1.0, 1.0))\n",
    "\n",
    "sur1 = ax2.plot_wireframe(z_1, z_2, x_reg_bar_plane,\n",
    "                          edgecolor=[220/250, 220/250, 220/250])\n",
    "sct1 = ax2.scatter(xz[:d, n_], xz[:d, n_ + 1], xz[:d, 0], marker='.',\n",
    "                   color='b')\n",
    "\n",
    "ax2.set_zlim([lim_min, lim_max])\n",
    "ax2.set_xlim([lim_min, lim_max])\n",
    "ax2.set_ylim([lim_min, lim_max])\n",
    "ax2.set_xlabel('$Z_1$')\n",
    "ax2.set_ylabel('$Z_2$')\n",
    "ax2.set_zlabel('$X$')\n",
    "\n",
    "ax2.view_init(10, ax2.azim)\n",
    "\n",
    "ax3 = fig.add_subplot(122, projection='3d')\n",
    "\n",
    "ax3.grid(b=False)\n",
    "ax3.w_xaxis.set_pane_color((1.0, 1.0, 1.0, 1.0))\n",
    "ax3.w_yaxis.set_pane_color((1.0, 1.0, 1.0, 1.0))\n",
    "ax3.w_zaxis.set_pane_color((1.0, 1.0, 1.0, 1.0))\n",
    "\n",
    "\n",
    "sur2 = ax3.plot_wireframe(z_1, z_2, x_reg_bar_plane,\n",
    "                          edgecolor=[220/250, 220/250, 220/250])\n",
    "sct2 = ax3.scatter(xz[:d, n_], xz[:d, n_ + 1], x_reg_bar[0, :d]+0.1, marker='.',\n",
    "                   color='g', alpha=1)\n",
    "\n",
    "ax3.set_zlim([lim_min, lim_max])\n",
    "ax3.set_xlim([lim_min, lim_max])\n",
    "ax3.set_ylim([lim_min, lim_max])\n",
    "ax3.set_xlabel('$Z_1$')\n",
    "ax3.set_ylabel('$Z_2$')\n",
    "ax3.set_zlabel('$X$')\n",
    "\n",
    "ax3.view_init(10, ax3.azim)\n",
    "\n",
    "dummy_legend_lines = [Line2D([0], [0], marker='o', markerfacecolor='b',\n",
    "                             color='w', lw=4, markersize=8),\n",
    "                      Line2D([0], [0], marker='o', markerfacecolor='g',\n",
    "                             color='w', lw=4, markersize=8),\n",
    "                      Line2D([0], [0], marker=\"s\",\n",
    "                             markerfacecolor=[220/250, 220/250, 220/250],\n",
    "                             lw=4, color='w', markersize=8)]\n",
    "\n",
    "plt.legend(dummy_legend_lines,\n",
    "           ['Scenarios', 'Predicted scenarios', 'Regression plane'])\n",
    "\n",
    "add_logo(fig, size_frac_x=1/8)\n",
    "plt.tight_layout()"
   ]
  }
 ],
 "metadata": {
  "jupytext": {
   "encoding": "# -*- coding: utf-8 -*-",
   "executable": "/usr/bin/env python3"
  },
  "kernelspec": {
   "display_name": "Python 3",
   "language": "python",
   "name": "python3"
  }
 },
 "nbformat": 4,
 "nbformat_minor": 4
}
