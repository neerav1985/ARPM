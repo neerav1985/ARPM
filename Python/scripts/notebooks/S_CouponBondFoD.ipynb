{
 "cells": [
  {
   "cell_type": "markdown",
   "metadata": {},
   "source": [
    "# S_CouponBondFoD [<img src=\"https://www.arpm.co/lab/icons/icon_permalink.png\" width=30 height=30 style=\"display: inline;\">](https://www.arpm.co/lab/redirect.php?code=S_CouponBondFoD&codeLang=Python)\n",
    "For details, see [here](https://www.arpm.co/lab/redirect.php?permalink=eb-fo-dcoupon-bond)."
   ]
  },
  {
   "cell_type": "markdown",
   "metadata": {},
   "source": [
    "## Prepare the environment"
   ]
  },
  {
   "cell_type": "code",
   "execution_count": null,
   "metadata": {},
   "outputs": [],
   "source": [
    "import os\n",
    "import os.path as path\n",
    "import sys\n",
    "\n",
    "sys.path.append(path.abspath('../../functions-legacy'))\n",
    "from collections import namedtuple\n",
    "\n",
    "import numpy as np\n",
    "from numpy import array, zeros, where, squeeze, \\\n",
    "    cov, round, log, sqrt, tile, r_\n",
    "from numpy import sum as npsum, max as npmax\n",
    "from numpy.linalg import lstsq\n",
    "\n",
    "import matplotlib.pyplot as plt\n",
    "from matplotlib.pyplot import figure, plot, legend, ylabel, \\\n",
    "    xlabel, title\n",
    "\n",
    "plt.style.use('seaborn')\n",
    "\n",
    "from ARPM_utils import save_plot\n",
    "from HistogramFP import HistogramFP"
   ]
  },
  {
   "cell_type": "markdown",
   "metadata": {},
   "source": [
    "## Run S_PricingCouponBondTaylor that computes the first and second order Taylor approximations of the coupon bond P&L"
   ]
  },
  {
   "cell_type": "code",
   "execution_count": null,
   "metadata": {},
   "outputs": [],
   "source": [
    "%run S_PricingCouponBondTaylor.ipynb"
   ]
  },
  {
   "cell_type": "markdown",
   "metadata": {},
   "source": [
    "## Decompose the coupon bond P&L into the numerical yield, the effective duration\n",
    "## and the effective convexity contributions using the Factors on Demand framework."
   ]
  },
  {
   "cell_type": "code",
   "execution_count": null,
   "metadata": {},
   "outputs": [],
   "source": [
    "i_ = where(horiz_u == 0.5)[0][0]  # selected horizon (6 months)\n",
    "delta_t = tile(horiz_u[:i_+1].reshape(1,-1) - horiz_u[0], (j_, 1))  # time changes\n",
    "y0 = tile(y[:,[-1]], (1, j_))\n",
    "delta_y = X_u - tile(y0[...,np.newaxis], (1, 1, u_))  # yield changes\n",
    "delta_y2 = delta_y ** 2\n",
    "greeks = r_['-1',array([[y_hat]]), dur_hat.T, conv_hat.T]\n",
    "g_ = greeks.shape[1]\n",
    "beta = zeros((g_, i_))\n",
    "MargRiskContr = zeros((g_ + 1, i_+1))\n",
    "MargRiskContr_dur = zeros((1, i_+1))\n",
    "MargRiskContr_con = zeros((1, i_+1))\n",
    "\n",
    "for i in range(1, i_+1):\n",
    "    X = r_['-1', delta_t[:, [i]], -delta_y[:,:, i].T, 0.5*delta_y2[:,:, i].T]\n",
    "    Yr = PL_u[:,[i]]-PL_u[0,[i]]\n",
    "    b = lstsq(X, Yr)[0]\n",
    "    r = X @ b - Yr\n",
    "    Z = r_['-1',r, X]\n",
    "    beta = r_[array([[1]]), b]\n",
    "    MargRiskContr[:,[i]] = beta * ((cov(Z.T)@beta) / sqrt(beta.T@cov(Z.T)@beta))\n",
    "    MargRiskContr_dur[0,[i]] = npsum(MargRiskContr[2:10, i])  # effective duration contribution\n",
    "    MargRiskContr_con[0,[i]] = npsum(MargRiskContr[9:16, i])  # effective convexity contribution"
   ]
  },
  {
   "cell_type": "markdown",
   "metadata": {},
   "source": [
    "## Plot few (say 15) simulated paths of the coupon bond P&L up to the selected horizon (9 months),\n",
    "## along with the mean and the standard deviation of the projected P&L.\n",
    "## Furthermore, show the contributions given by the numerical yield, the effective duration and the effective convexity."
   ]
  },
  {
   "cell_type": "code",
   "execution_count": null,
   "metadata": {
    "lines_to_next_cell": 2
   },
   "outputs": [],
   "source": [
    "lgrey = [0.8, 0.8, 0.8]  # light grey\n",
    "dgrey = [0.4, 0.4, 0.4]  # dark grey\n",
    "j_sel = 15  # selected MC simulations\n",
    "figure()\n",
    "# simulated paths\n",
    "plot(horiz_u[:i_+1], PL_u[:j_sel,:i_+1].T, color=lgrey,zorder=0)\n",
    "# histogram\n",
    "option = namedtuple('option', 'n_bins')\n",
    "option.n_bins = round(10*log(j_))\n",
    "y_hist, x_hist = HistogramFP(PL_u[:, [i_]].T, pp_, option)\n",
    "scale = 2*SigmaPL_u[0, i_] / npmax(y_hist)\n",
    "y_hist = y_hist*scale\n",
    "shift_y_hist = horiz_u[i_] + y_hist[0]\n",
    "emp_pdf = plt.barh(x_hist[:-1], shift_y_hist-horiz_u[i_], left=horiz_u[i_], height=x_hist[1]-x_hist[0], facecolor=lgrey, edgecolor= lgrey, lw=2) #empirical pdf\n",
    "plot(shift_y_hist, x_hist[:-1], color=dgrey)  # border\n",
    "# # delta, vega and gamma components\n",
    "a1 = plt.fill_between(horiz_u[:i_+1], MuPL_u[0,:i_+1], MuPL_u[0,:i_+1]+ MargRiskContr[1, :i_+1],color='m')  # yield contribution\n",
    "a2 = plt.fill_between(horiz_u[:i_+1],MuPL_u[0,:i_+1] + MargRiskContr[1, :i_+1],\n",
    "                      MuPL_u[0,:i_+1] + MargRiskContr[1, :i_+1] + MargRiskContr_dur[0, :i_+1],color='b')  # effective duration contribution\n",
    "a3 = plt.fill_between(horiz_u[:i_+1], MuPL_u[0,:i_+1] + MargRiskContr[1, :i_+1] + MargRiskContr_dur[0,:i_+1],\n",
    "                      MuPL_u[0,:i_+1] + MargRiskContr[1, :i_+1] + MargRiskContr_dur[0,:i_+1]+ MargRiskContr_con[0, :i_+1],color='c')  # effective convexity contribution\n",
    "# # mean and standard deviation of the coupon bond P&L\n",
    "l1 = plot(horiz_u[:i_+1], MuPL_u[0,:i_+1], color='g')\n",
    "l2 = plot(horiz_u[:i_+1], MuPL_u[0,:i_+1] + SigmaPL_u[0,:i_+1], color='r')\n",
    "plot(horiz_u[:i_+1], MuPL_u[0,:i_+1] - SigmaPL_u[0,:i_+1], color='r')\n",
    "# [l1 l2 emp_pdf a1 a2 a3]\n",
    "legend(handles=[l1[0], l2[0], emp_pdf[0], a1, a2, a3],labels=['mean',' + / - st.deviation','horizon pdf','yield','duration','convexity'])\n",
    "xlabel('time (years)')\n",
    "ylabel('Coupon bond P&L')\n",
    "title('Coupon bond P&L (no cash-flow) marginal risk contribution');\n",
    "# save_plot(ax=plt.gca(), extension='png', scriptname=os.path.basename('.')[:-3], count=plt.get_fignums()[-1])"
   ]
  }
 ],
 "metadata": {
  "jupytext": {
   "encoding": "# -*- coding: utf-8 -*-",
   "executable": "/usr/bin/env python3"
  },
  "kernelspec": {
   "display_name": "Python 3",
   "language": "python",
   "name": "python3"
  }
 },
 "nbformat": 4,
 "nbformat_minor": 4
}
