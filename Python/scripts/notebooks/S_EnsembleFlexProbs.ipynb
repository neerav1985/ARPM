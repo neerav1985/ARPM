{
 "cells": [
  {
   "cell_type": "markdown",
   "metadata": {},
   "source": [
    "# S_EnsembleFlexProbs [<img src=\"https://www.arpm.co/lab/icons/icon_permalink.png\" width=30 height=30 style=\"display: inline;\">](https://www.arpm.co/lab/redirect.php?code=S_EnsembleFlexProbs&codeLang=Python)\n",
    "For details, see [here](https://www.arpm.co/lab/redirect.php?permalink=ExerEnsembleFP)."
   ]
  },
  {
   "cell_type": "markdown",
   "metadata": {},
   "source": [
    "## Prepare the environment"
   ]
  },
  {
   "cell_type": "code",
   "execution_count": null,
   "metadata": {},
   "outputs": [],
   "source": [
    "import os\n",
    "import os.path as path\n",
    "import sys\n",
    "\n",
    "sys.path.append(path.abspath('../../functions-legacy'))\n",
    "from collections import namedtuple\n",
    "\n",
    "import numpy as np\n",
    "from numpy import arange, array, ones, diff, abs, log, exp, sqrt, r_\n",
    "from numpy import sum as npsum, min as npmin, max as npmax\n",
    "\n",
    "from scipy.io import loadmat\n",
    "\n",
    "import matplotlib.pyplot as plt\n",
    "from matplotlib.pyplot import figure, bar, legend, xlim, ylim, scatter, ylabel, \\\n",
    "    xlabel, title, xticks, yticks\n",
    "import matplotlib.dates as mdates\n",
    "\n",
    "plt.style.use('seaborn')\n",
    "np.seterr(all='ignore')\n",
    "\n",
    "from CONFIG import GLOBAL_DB, TEMPORARY_DB\n",
    "from ARPM_utils import save_plot, struct_to_dict, date_mtop\n",
    "from intersect_matlab import intersect\n",
    "from HistogramFP import HistogramFP\n",
    "from RollPrices2YieldToMat import RollPrices2YieldToMat\n",
    "from EffectiveScenarios import EffectiveScenarios\n",
    "from ConditionalFP import ConditionalFP\n",
    "from Stats import Stats\n",
    "from ColorCodedFP import ColorCodedFP"
   ]
  },
  {
   "cell_type": "markdown",
   "metadata": {},
   "source": [
    "## Upload data"
   ]
  },
  {
   "cell_type": "code",
   "execution_count": null,
   "metadata": {},
   "outputs": [],
   "source": [
    "try:\n",
    "    db = loadmat(os.path.join(GLOBAL_DB, 'db_Stocks'), squeeze_me=True)\n",
    "except FileNotFoundError:\n",
    "    db = loadmat(os.path.join(TEMPORARY_DB, 'db_Stocks'), squeeze_me=True)\n",
    "\n",
    "SPX = struct_to_dict(db['SPX'])\n",
    "try:\n",
    "    db = loadmat(os.path.join(GLOBAL_DB, 'db_VIX'), squeeze_me=True)\n",
    "except FileNotFoundError:\n",
    "    db = loadmat(os.path.join(TEMPORARY_DB, 'db_VIX'), squeeze_me=True)\n",
    "\n",
    "VIX = struct_to_dict(db['VIX'])\n",
    "\n",
    "try:\n",
    "    db = loadmat(os.path.join(GLOBAL_DB, 'db_SwapCurve'), squeeze_me=True)\n",
    "except FileNotFoundError:\n",
    "    db = loadmat(os.path.join(TEMPORARY_DB, 'db_SwapCurve'), squeeze_me=True)\n",
    "\n",
    "DF_Rolling = struct_to_dict(db['DF_Rolling'])"
   ]
  },
  {
   "cell_type": "markdown",
   "metadata": {},
   "source": [
    "## Recover the invariants and the time series of the conditioning variables"
   ]
  },
  {
   "cell_type": "code",
   "execution_count": null,
   "metadata": {},
   "outputs": [],
   "source": [
    "# invariants (S&P500 returns)\n",
    "epsi = diff(log(SPX.Price_close))\n",
    "\n",
    "# CONDITIONING VARIABLES\n",
    "# 1) VIX (VIX.value)\n",
    "\n",
    "# 2) 5years Swap Zero Rate\n",
    "ZeroRates,_ = RollPrices2YieldToMat(DF_Rolling.TimeToMat, DF_Rolling.Prices)\n",
    "zr5 = ZeroRates[DF_Rolling.TimeToMat == 5,:]\n",
    "\n",
    "# merging datasets\n",
    "date,_,_ = intersect(intersect(SPX.Date[1:], VIX.Date), DF_Rolling.Dates)\n",
    "_, i_spx,_ = intersect(SPX.Date[1:], date)\n",
    "_, i_vix,_ = intersect(VIX.Date, date)\n",
    "_, i_zr,_ = intersect(DF_Rolling.Dates, date)\n",
    "\n",
    "epsi = epsi[i_spx].reshape(1,-1)\n",
    "z1 = VIX.value[i_vix].reshape(1,-1)\n",
    "z2 = zr5[0,i_zr].reshape(1,-1)\n",
    "t_ = len(date)"
   ]
  },
  {
   "cell_type": "markdown",
   "metadata": {},
   "source": [
    "## Compute the Flexible Probabilities conditioning on each of the two factors"
   ]
  },
  {
   "cell_type": "code",
   "execution_count": null,
   "metadata": {},
   "outputs": [],
   "source": [
    "alpha = 0.3\n",
    "\n",
    "# prior\n",
    "lam = log(2) / 1080\n",
    "prior = exp(-lam*abs(arange(t_, 1 + -1, -1))).reshape(1,-1)\n",
    "prior = prior / npsum(prior)\n",
    "\n",
    "# flex. probs conditioned on VIX (z1)\n",
    "\n",
    "VIXcond = namedtuple('conditioner', ['Series', 'TargetValue', 'Leeway'])\n",
    "VIXcond.Series = z1\n",
    "VIXcond.TargetValue = np.atleast_2d(z1[0,-1])\n",
    "VIXcond.Leeway = alpha\n",
    "p1 = ConditionalFP(VIXcond, prior)\n",
    "\n",
    "# flex. probs conditioned on the swap rate (z2)\n",
    "ZRcond = namedtuple('conditioner', ['Series', 'TargetValue', 'Leeway'])\n",
    "ZRcond.Series = z2\n",
    "ZRcond.TargetValue = np.atleast_2d(z2[[0],[-1]])\n",
    "ZRcond.Leeway = alpha\n",
    "p2 = ConditionalFP(ZRcond, prior)"
   ]
  },
  {
   "cell_type": "markdown",
   "metadata": {},
   "source": [
    "## Compute the respective Effective Number of Scenarios and the diversity indicator"
   ]
  },
  {
   "cell_type": "code",
   "execution_count": null,
   "metadata": {},
   "outputs": [],
   "source": [
    "# effective number of scenarios\n",
    "\n",
    "typ = namedtuple('type','Entropy')\n",
    "typ.Entropy = 'Exp'\n",
    "ens1 = EffectiveScenarios(p1, typ)\n",
    "ens2 = EffectiveScenarios(p2, typ)\n",
    "\n",
    "# diversity indicator\n",
    "rho2_12 = npsum(sqrt(p1*p2))  # overlap: Bhattacharyya coefficient\n",
    "\n",
    "dd12 = sqrt(1 - rho2_12)  # Hellinger distance\n",
    "\n",
    "d1 = dd12  # Diversity\n",
    "d2 = d1"
   ]
  },
  {
   "cell_type": "markdown",
   "metadata": {},
   "source": [
    "## Weights of the Flexible Probabilities Ensemble Posterior"
   ]
  },
  {
   "cell_type": "code",
   "execution_count": null,
   "metadata": {},
   "outputs": [],
   "source": [
    "weights = r_[ens1*d1,  ens2*d2]\n",
    "weights = weights / npsum(weights)"
   ]
  },
  {
   "cell_type": "markdown",
   "metadata": {},
   "source": [
    "## Optimal set of Flex. Probs as log-mixture"
   ]
  },
  {
   "cell_type": "code",
   "execution_count": null,
   "metadata": {},
   "outputs": [],
   "source": [
    "opt_p = exp(weights[0]*log(p1) + weights[1]*log(p2))\n",
    "opt_p = opt_p / npsum(opt_p)\n",
    "ens_optp = EffectiveScenarios(opt_p, typ)"
   ]
  },
  {
   "cell_type": "markdown",
   "metadata": {},
   "source": [
    "## S&P returns histogram and statistics"
   ]
  },
  {
   "cell_type": "code",
   "execution_count": null,
   "metadata": {},
   "outputs": [],
   "source": [
    "option = namedtuple('option', 'n_bins')\n",
    "option.n_bins = 10*log(epsi.shape[1])\n",
    "p_eps, x_eps = HistogramFP(epsi, opt_p, option)\n",
    "m, Sdev, VaR, CVaR, Sk, K = Stats(epsi, opt_p)"
   ]
  },
  {
   "cell_type": "markdown",
   "metadata": {},
   "source": [
    "## Generate the figure"
   ]
  },
  {
   "cell_type": "code",
   "execution_count": null,
   "metadata": {},
   "outputs": [],
   "source": [
    "date_tick = arange(99, len(date),380)\n",
    "date_dt = array([date_mtop(i) for i in date])\n",
    "myFmt = mdates.DateFormatter('%d-%b-%y')\n",
    "\n",
    "figure(figsize=(16,10))\n",
    "# VIX\n",
    "ax = plt.subplot2grid((2,5),(0,0),colspan=2)\n",
    "ph0 = ax.plot(date_dt, p1[0],lw=0.5,color='gray')\n",
    "xticks([])\n",
    "yticks([])\n",
    "ax2 = ax.twinx()\n",
    "ax2.plot(date_dt, z1[0],color= [0, 0, 0.6],lw=0.5)\n",
    "ph1 =ax2.plot(date_dt, z1[0,-1]*ones(t_),color= 'r', linestyle='--')\n",
    "xlim([min(date_dt), max(date_dt)])\n",
    "ax.set_ylim([0, 1.5*npmax(p1)])\n",
    "ax2.set_ylim([npmin(z1), 1.3*npmax(z1)])\n",
    "ax2.set_yticks(arange(20,100,20))\n",
    "ax2.set_ylabel('VIX',color=[0, 0, 0.6])\n",
    "ax2.grid(False)\n",
    "LEG = 'target %2.2f'% z1[0,-1]\n",
    "LEG1 = 'Entr. Pool. Flex. Probs'\n",
    "legend(handles=[ph1[0],ph0[0]],labels=[LEG, LEG1],loc='upper right')\n",
    "title('Conditioning variable: VIX')\n",
    "ENS_text = 'Effective Num.Scenarios =  % 3.0f'% ens1\n",
    "plt.text(min(date_dt) , npmax(z1)*1.2, ENS_text,horizontalalignment='left')\n",
    "# 5 YEARS ZERO SWAP RATE\n",
    "ax = plt.subplot2grid((2,5),(1,0),colspan=2)\n",
    "ph0=ax.plot(date_dt, p2[0],lw=0.5,color='gray')\n",
    "yticks([])\n",
    "xticks([])\n",
    "ax2 = ax.twinx()\n",
    "ax2.plot(date_dt, z2[0],color= [0, 0, 0.6],lw=0.5)\n",
    "ph1=ax2.plot(date_dt, z2[0,-1]*ones(t_),color='r',linestyle='--')\n",
    "xlim([min(date_dt), max(date_dt)])\n",
    "ax.set_ylim([0, 1.5*npmax(p2)])\n",
    "ax2.set_ylim([0.9*npmin(z2), 1.3*npmax(z2)])\n",
    "ax2.set_ylabel('Swap rate',color=[0, 0, 0.6])\n",
    "ax2.set_yticks([0.05])\n",
    "ax2.grid(False)\n",
    "LEG = 'target %2.3f'% z2[0,-1]\n",
    "LEG1 = 'Entr. Pool. Flex. Probs'\n",
    "legend(handles=[ph1[0],ph0[0]],labels=[LEG, LEG1],loc='upper right')\n",
    "title('Conditioning variable: swap rate.')\n",
    "ENS_text = 'Effective Num.Scenarios =  % 3.0f'%ens2\n",
    "plt.text(min(date_dt) , npmax(z2)*1.2, ENS_text, horizontalalignment='left')\n",
    "# ENSEMBLE FLEXIBLE PROBABILITIES\n",
    "ax = plt.subplot2grid((2,5),(0,2),colspan=2)\n",
    "bar(date_dt, opt_p[0], width=(date_dt[1].toordinal()-date_dt[0].toordinal()), facecolor=[0.6, 0.6, 0.6], edgecolor=[0.6, 0.6, 0.6])\n",
    "xlim([min(date_dt), max(date_dt)]), ylim([0, 1.05*npmax(opt_p)])\n",
    "yticks([])\n",
    "xticks(date_dt[date_tick])\n",
    "ax.xaxis.set_major_formatter(myFmt)\n",
    "ylabel('probability')\n",
    "title('ENSEMBLE FLEXIBLE PROBABILITIES')\n",
    "ENS_text = 'Effective Num.Scenarios = % 3.0f'%ens_optp\n",
    "plt.text(min(date_dt) , 1.03*npmax(opt_p), ENS_text, horizontalalignment='left')\n",
    "# S&P returns\n",
    "ax = plt.subplot2grid((2,5),(1,2),colspan=2)\n",
    "# scatter colormap and colors\n",
    "CM, C = ColorCodedFP(opt_p, npmin(opt_p), npmax(opt_p), arange(0,0.85,0.055), 0, 1, [1, 0.1])\n",
    "ax.set_facecolor('white')\n",
    "scatter(date_dt, epsi, 20, c=C, marker='.',cmap=CM)\n",
    "xlim([min(date_dt), max(date_dt)])\n",
    "ylim([npmin(epsi), npmax(epsi)])\n",
    "xticks(date_dt[date_tick])\n",
    "ax.xaxis.set_major_formatter(myFmt)\n",
    "ylabel('returns')\n",
    "title('S&P')\n",
    "# HFP-histogram\n",
    "ax = plt.subplot2grid((2,5),(1,4))\n",
    "plt.barh(x_eps[:-1], p_eps[0], height=x_eps[1]-x_eps[0],facecolor=[0.7, 0.7, 0.7], edgecolor=[0.6, 0.6, 0.6])\n",
    "xlim([0, 1.05*npmax(p_eps)])\n",
    "ylim([npmin(epsi), npmax(epsi)])\n",
    "xlabel('probability')\n",
    "ax.set_xticks([])\n",
    "# text relative to S&P RETS HIST\n",
    "TEXT1 = 'Mean  % 3.3f \\nSdev    %3.3f \\nVaR      %3.3f \\nCVaR   %3.3f \\nSkew   %3.3f \\nKurt     %3.3f' %(m,Sdev,VaR,CVaR,Sk,K)\n",
    "plt.text(0.45*npmax(p_eps), 0.05, TEXT1, horizontalalignment='left',verticalalignment='bottom')\n",
    "plt.tight_layout()\n",
    "# save_plot(ax=plt.gca(), extension='png', scriptname=os.path.basename('.')[:-3], count=plt.get_fignums()[-1])"
   ]
  }
 ],
 "metadata": {
  "jupytext": {
   "encoding": "# -*- coding: utf-8 -*-",
   "executable": "/usr/bin/env python3"
  },
  "kernelspec": {
   "display_name": "Python 3",
   "language": "python",
   "name": "python3"
  }
 },
 "nbformat": 4,
 "nbformat_minor": 4
}
