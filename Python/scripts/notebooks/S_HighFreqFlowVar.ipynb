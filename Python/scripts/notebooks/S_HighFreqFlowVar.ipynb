{
 "cells": [
  {
   "cell_type": "markdown",
   "metadata": {},
   "source": [
    "# S_HighFreqFlowVar [<img src=\"https://www.arpm.co/lab/icons/icon_permalink.png\" width=30 height=30 style=\"display: inline;\">](https://www.arpm.co/lab/redirect.php?code=S_HighFreqFlowVar&codeLang=Python)\n",
    "For details, see [here](https://www.arpm.co/lab/redirect.php?permalink=exer-mkt-micro-structure-copy-1)."
   ]
  },
  {
   "cell_type": "markdown",
   "metadata": {},
   "source": [
    "## Prepare the environment"
   ]
  },
  {
   "cell_type": "code",
   "execution_count": null,
   "metadata": {},
   "outputs": [],
   "source": [
    "import os\n",
    "import os.path as path\n",
    "import sys\n",
    "\n",
    "from matplotlib.ticker import FormatStrFormatter\n",
    "\n",
    "sys.path.append(path.abspath('../../functions-legacy'))\n",
    "\n",
    "import numpy as np\n",
    "from numpy import array, zeros, where, cumsum, linspace\n",
    "from numpy import min as npmin, max as npmax\n",
    "\n",
    "from scipy.io import loadmat\n",
    "\n",
    "import matplotlib.pyplot as plt\n",
    "from matplotlib.pyplot import plot, xlim, ylim, ylabel, \\\n",
    "    title, xticks, yticks, subplots\n",
    "import matplotlib.dates as mdates\n",
    "\n",
    "plt.style.use('seaborn')\n",
    "\n",
    "from CONFIG import GLOBAL_DB, TEMPORARY_DB\n",
    "from ARPM_utils import date_mtop, struct_to_dict, save_plot\n",
    "from TradeQuoteProcessing import TradeQuoteProcessing\n",
    "from TradeQuoteSpreading import TradeQuoteSpreading"
   ]
  },
  {
   "cell_type": "markdown",
   "metadata": {},
   "source": [
    "## Upload the data from db_US_10yr_Future_quotes_and_trades"
   ]
  },
  {
   "cell_type": "code",
   "execution_count": null,
   "metadata": {},
   "outputs": [],
   "source": [
    "try:\n",
    "    db = loadmat(os.path.join(GLOBAL_DB, 'db_US_10yr_Future_quotes_and_trades'), squeeze_me=True)\n",
    "except FileNotFoundError:\n",
    "    db = loadmat(os.path.join(TEMPORARY_DB, 'db_US_10yr_Future_quotes_and_trades'), squeeze_me=True)\n",
    "\n",
    "quotes = struct_to_dict(db['quotes'])\n",
    "trades = struct_to_dict(db['trades'])"
   ]
  },
  {
   "cell_type": "markdown",
   "metadata": {},
   "source": [
    "## Process the time series so that variables are defined at each closk-time corresponding to the occurrence of the generic k-th event, using function TradeQuoteProcessing"
   ]
  },
  {
   "cell_type": "code",
   "execution_count": null,
   "metadata": {},
   "outputs": [],
   "source": [
    "dates_quotes = quotes.time_names  #\n",
    "t = quotes.time  # time vector of quotes\n",
    "p_bid = quotes.bid  # best bids\n",
    "p_ask = quotes.ask  # best asks\n",
    "q_bid = quotes.bsiz  # bid sizes\n",
    "q_ask = quotes.asiz  # ask sizes\n",
    "numords_bid = quotes.bnumords  # number of separate limit orders on bid\n",
    "numords_ask = quotes.anumords  # number of separate limit orders on ask\n",
    "\n",
    "dates_trades = trades.time_names\n",
    "t_k = trades.time  # time vector of trades\n",
    "p_last = trades.price  # last transaction values\n",
    "delta_q = trades.siz  # flow of traded contracts' sizes\n",
    "delta_sgn = trades.aggress  # trade sign flow\n",
    "match = trades.mtch  # match events: - the \"1\" value indicates the \"start of a match event\" while zeros indicates the \"continuation of a match event\"\n",
    "#              - the db is ordered such that the start of a match event is in the last column corresponding to that event\n",
    "\n",
    "t, _, q_ask, p_ask, q_bid, p_bid, t_k, _, p_last, delta_q, delta_sgn, vargout = \\\n",
    "    TradeQuoteProcessing(t, dates_quotes, q_ask, p_ask, q_bid, p_bid, t_k, dates_trades, p_last, delta_q, delta_sgn, match,\n",
    "                         {1:numords_ask, 2:numords_bid})\n",
    "\n",
    "t = t.flatten()\n",
    "numords_ask, numords_bid = vargout[1], vargout[2]\n",
    "q = cumsum(delta_q)  # cumulative volume of traded contracts\n",
    "sgn = cumsum(delta_sgn)  # cumulative trade sign"
   ]
  },
  {
   "cell_type": "markdown",
   "metadata": {},
   "source": [
    "## Compute the time series of the cumulative volume and the cumulative sign as functions of wall clock time using function TradeQuoteSpreading"
   ]
  },
  {
   "cell_type": "code",
   "execution_count": null,
   "metadata": {},
   "outputs": [],
   "source": [
    "i_t0 = 1  # index of window's starting time\n",
    "i_t1 = 1250  # index of window's last time\n",
    "ms = (date_mtop(t[i_t1-1]) - date_mtop(t[i_t0-1])).seconds * 1000 + (date_mtop(t[i_t1-1]) - date_mtop(t[i_t0-1])).microseconds / 1000+1\n",
    "# total len of time window expressed in wall-clock-time\n",
    "t_ms = linspace(t[i_t0-1],t[i_t1-1], int(ms)+1) # time window's wall-clock-time vector expressed in milliseconds\n",
    "\n",
    "k_0 = where(t_k[0] >= t[i_t0])[0][0]  # index of the first trade within the time window\n",
    "k_1 = where(t_k[0] <= t[i_t1])[0][-1]  # index of the last trade within the time window\n",
    "\n",
    "_, _, _, _, p_last, q, sgn,_ = TradeQuoteSpreading(t_ms, t[i_t0-1:i_t1], q_ask[0,i_t0-1:i_t1], p_ask[0,i_t0-1:i_t1],\n",
    "                                                               q_bid[0,i_t0-1:i_t1], p_bid[0,i_t0-1:i_t1], t_k[0,k_0:k_1+1],\n",
    "                                                               p_last[0,k_0:k_1+1], q[k_0:k_1+1], sgn[k_0:k_1+1])\n",
    "\n",
    "q_line = zeros(q.shape)\n",
    "sgn_line = zeros(sgn.shape)\n",
    "\n",
    "# fill q and sgn where zeros (aimed at plotting lines)\n",
    "if np.isnan(p_last[0,0]):\n",
    "    if k_0 > 0:\n",
    "        q_line[0,0] = q[0,k_0 - 1]\n",
    "        sgn_line[0,0] = sgn[0,k_0 - 1]\n",
    "    else:\n",
    "        q_line[0,0] = q[0,0]\n",
    "        sgn_line[0,0] = sgn[0,0]\n",
    "\n",
    "for i in range(1,len(t_ms)):\n",
    "    if sgn[0,i]==0:\n",
    "        sgn_line[0,i] = sgn_line[0,i - 1]\n",
    "        q_line[0,i] = q_line[0,i - 1]\n",
    "    else:\n",
    "        sgn_line[0,i] = sgn[0,i]\n",
    "        q_line[0,i] = q[0,i]"
   ]
  },
  {
   "cell_type": "markdown",
   "metadata": {},
   "source": [
    "## Generate a figure showing the plot of the cumulative volume and the cumulative sign"
   ]
  },
  {
   "cell_type": "code",
   "execution_count": null,
   "metadata": {},
   "outputs": [],
   "source": [
    "# color settings\n",
    "orange = [.9, .3, .0]\n",
    "blue = [0, 0, .8]\n",
    "\n",
    "t_ms_dt = array([date_mtop(i) for i in t_ms])\n",
    "xtick = linspace(1999, len(t_ms_dt)-1, 8, dtype=int)\n",
    "myFmt = mdates.DateFormatter('%H:%M:%S')\n",
    "\n",
    "# axes settings\n",
    "ymax_2 = npmax(q_line) + 5\n",
    "ymin_2 = npmin(q_line[0,q_line[0]>0])\n",
    "ytick_2 = linspace(ymin_2,ymax_2,5)\n",
    "ymax_3 = npmax(sgn_line) + 1\n",
    "ymin_3 = npmin(sgn_line) - 1\n",
    "ytick_3 = linspace(ymin_3,ymax_3, 5)\n",
    "\n",
    "f, ax = subplots(1,1)\n",
    "plt.sca(ax)\n",
    "ax.xaxis.set_major_formatter(myFmt)\n",
    "ylabel('Cumulative volume',color=orange)\n",
    "ylim([ymin_2, ymax_2])\n",
    "idx = q[0] > 0\n",
    "plt.scatter(t_ms_dt[idx], q[0, idx], color=orange, marker='.', s=2)\n",
    "plot(t_ms_dt, q_line[0], color=orange, lw=1)\n",
    "ax2 = ax.twinx()\n",
    "ylim([ymin_3, ymax_3])\n",
    "yticks(ytick_3)\n",
    "plt.sca(ax2)\n",
    "ax2.yaxis.set_major_formatter(FormatStrFormatter('%.0f'))\n",
    "plt.grid(False)\n",
    "title('Flow variables for US 10yr Future: %s' % t_ms_dt[0].strftime('%Y-%b-%d'))\n",
    "ylabel('Cumulative sign',color=blue)\n",
    "idx = sgn[0]!=0\n",
    "plt.scatter(t_ms_dt[idx], sgn[0,idx], color=blue, marker='.',s=2)\n",
    "ax2.set_xticks(t_ms_dt[xtick])\n",
    "ax.set_xlim([min(t_ms_dt), max(t_ms_dt)])\n",
    "ax.set_yticks(ytick_2)\n",
    "plot(t_ms_dt, sgn_line[0], color=blue, lw=1);\n",
    "# save_plot(ax=plt.gca(), extension='png', scriptname=os.path.basename('.')[:-3], count=plt.get_fignums()[-1])"
   ]
  }
 ],
 "metadata": {
  "jupytext": {
   "encoding": "# -*- coding: utf-8 -*-",
   "executable": "/usr/bin/env python3"
  },
  "kernelspec": {
   "display_name": "Python 3",
   "language": "python",
   "name": "python3"
  }
 },
 "nbformat": 4,
 "nbformat_minor": 4
}
