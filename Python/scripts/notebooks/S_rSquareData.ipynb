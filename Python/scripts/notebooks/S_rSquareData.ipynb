{
 "cells": [
  {
   "cell_type": "markdown",
   "metadata": {},
   "source": [
    "# S_rSquareData [<img src=\"https://www.arpm.co/lab/icons/icon_permalink.png\" width=30 height=30 style=\"display: inline;\">](https://www.arpm.co/lab/redirect.php?code=S_rSquareData&codeLang=Python)\n",
    "For details, see [here](https://www.arpm.co/lab/redirect.php?permalink=eb-ex-unv-rsquare)."
   ]
  },
  {
   "cell_type": "markdown",
   "metadata": {},
   "source": [
    "## Prepare the environment"
   ]
  },
  {
   "cell_type": "code",
   "execution_count": null,
   "metadata": {},
   "outputs": [],
   "source": [
    "import os\n",
    "import os.path as path\n",
    "import sys\n",
    "\n",
    "sys.path.append(path.abspath('../../functions-legacy'))\n",
    "\n",
    "from numpy import ones, round, log, sqrt\n",
    "from numpy import sum as npsum\n",
    "\n",
    "import numpy as np\n",
    "np.seterr(divide='ignore')\n",
    "\n",
    "from scipy.io import loadmat\n",
    "\n",
    "import matplotlib.pyplot as plt\n",
    "\n",
    "plt.style.use('seaborn')\n",
    "\n",
    "from CONFIG import GLOBAL_DB, TEMPORARY_DB\n",
    "from MultivRsquare import MultivRsquare\n",
    "\n",
    "# input parameters\n",
    "try:\n",
    "    db = loadmat(os.path.join(GLOBAL_DB, 'db_ExSummary'), squeeze_me=True)\n",
    "except FileNotFoundError:\n",
    "    db = loadmat(os.path.join(TEMPORARY_DB, 'db_ExSummary'), squeeze_me=True)\n",
    "\n",
    "t_ = db['t_']\n",
    "epsi = db['epsi']\n",
    "v = db['v']\n",
    "\n",
    "j_ = t_  # dimension of data set\n",
    "p = ones((1, j_)) / j_  # uniform Flexible Probabilities\n",
    "x = epsi[0]  # model data\n",
    "x_tilde = epsi[1]  # fit data\n",
    "# log values\n",
    "y = round(log(v[0, 1:]))  # model data\n",
    "y_tilde = round(log(v[1, 1:]))  # fit data\n",
    "\n",
    "z = x_tilde"
   ]
  },
  {
   "cell_type": "markdown",
   "metadata": {},
   "source": [
    "## Compute the residuals"
   ]
  },
  {
   "cell_type": "code",
   "execution_count": null,
   "metadata": {},
   "outputs": [],
   "source": [
    "u_x = x - x_tilde\n",
    "u_y = y - y_tilde"
   ]
  },
  {
   "cell_type": "markdown",
   "metadata": {},
   "source": [
    "## Compute the data mean and variance"
   ]
  },
  {
   "cell_type": "code",
   "execution_count": null,
   "metadata": {},
   "outputs": [],
   "source": [
    "m_x = npsum(p * x)\n",
    "m_y = npsum(p * y)\n",
    "m_z = npsum(p * z)\n",
    "m_u_x = npsum(p * u_x)\n",
    "m_u_y = npsum(p * u_y)\n",
    "\n",
    "sigma2_x = npsum(p * (x - m_x) ** 2,keepdims=True)\n",
    "sigma2_y = npsum(p * (y - m_y) ** 2,keepdims=True)\n",
    "sigma2_u_x = npsum(p * (u_x - m_u_x) ** 2,keepdims=True)\n",
    "sigma2_u_y = npsum(p * (u_y - m_u_y) ** 2,keepdims=True)"
   ]
  },
  {
   "cell_type": "markdown",
   "metadata": {},
   "source": [
    "## Compute the r-squared"
   ]
  },
  {
   "cell_type": "code",
   "execution_count": null,
   "metadata": {},
   "outputs": [],
   "source": [
    "r2_x = MultivRsquare(sigma2_u_x, sigma2_x, 1 / sigma2_x)\n",
    "r2_y = MultivRsquare(sigma2_u_y, sigma2_y, 1 / sigma2_y)"
   ]
  },
  {
   "cell_type": "markdown",
   "metadata": {},
   "source": [
    "## Compute the correlation"
   ]
  },
  {
   "cell_type": "code",
   "execution_count": null,
   "metadata": {},
   "outputs": [],
   "source": [
    "rho_HFP = npsum(p * (x - m_x) * (z - m_z)) / (sqrt(npsum(p * (x - m_x) ** 2))*sqrt(npsum(p * (z - m_z) ** 2)))"
   ]
  }
 ],
 "metadata": {
  "jupytext": {
   "encoding": "# -*- coding: utf-8 -*-",
   "executable": "/usr/bin/env python3"
  },
  "kernelspec": {
   "display_name": "Python 3",
   "language": "python",
   "name": "python3"
  }
 },
 "nbformat": 4,
 "nbformat_minor": 4
}
