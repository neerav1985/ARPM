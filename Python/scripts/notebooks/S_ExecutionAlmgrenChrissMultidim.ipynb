{
 "cells": [
  {
   "cell_type": "markdown",
   "metadata": {},
   "source": [
    "# S_ExecutionAlmgrenChrissMultidim [<img src=\"https://www.arpm.co/lab/icons/icon_permalink.png\" width=30 height=30 style=\"display: inline;\">](https://www.arpm.co/lab/redirect.php?code=S_ExecutionAlmgrenChrissMultidim&codeLang=Python)\n",
    "For details, see [here](https://www.arpm.co/lab/redirect.php?permalink=eb-plopt_-liquidation-trajectories_m-ac-copy-1)."
   ]
  },
  {
   "cell_type": "markdown",
   "metadata": {},
   "source": [
    "## Prepare the environment"
   ]
  },
  {
   "cell_type": "code",
   "execution_count": null,
   "metadata": {},
   "outputs": [],
   "source": [
    "import os\n",
    "import os.path as path\n",
    "import sys\n",
    "\n",
    "sys.path.append(path.abspath('../../functions-legacy'))\n",
    "\n",
    "import numpy as np\n",
    "from numpy import arange, array, zeros, sinh, diag, eye, sqrt, r_\n",
    "from numpy.linalg import eig, solve\n",
    "\n",
    "import matplotlib.pyplot as plt\n",
    "from matplotlib.pyplot import figure, plot, legend, ylabel, \\\n",
    "    xlabel, title\n",
    "\n",
    "plt.style.use('seaborn')\n",
    "\n",
    "from ARPM_utils import save_plot\n",
    "\n",
    "# input parameters\n",
    "n_ = 3  # number of traded assets\n",
    "h_0 = array([[150, 110, 85]])  # initial holdings\n",
    "g = array([[1.32, 0, 0], [0, 1.22, 0], [0, 0, 1.4]])  # temporary impact matrix\n",
    "sigma = array([[1, 0.2, 0.3], [0.4, 1, 0.8], [0.5, 0.2, 1]])  # variance-covariance matrix\n",
    "sigma2 = sigma@sigma.T\n",
    "lam = 2  # risk aversion coefficient\n",
    "q_end = 1\n",
    "m_ = 100  # total number of discrete trades\n",
    "epsilon = q_end / m_  # discretization step"
   ]
  },
  {
   "cell_type": "markdown",
   "metadata": {},
   "source": [
    "## Compute the matrix sigma2_tilde and the matrix a appearing in the system of finite differences"
   ]
  },
  {
   "cell_type": "code",
   "execution_count": null,
   "metadata": {},
   "outputs": [],
   "source": [
    "inv_g = solve(sqrt(g),eye(g.shape[0]))\n",
    "sigma2_tilde = sigma2 + diag(diag(sigma2))\n",
    "a = lam*0.5*inv_g@sigma2_tilde@inv_g"
   ]
  },
  {
   "cell_type": "markdown",
   "metadata": {},
   "source": [
    "## Compute the numerical solution of the multidimensional Almgren-Chriss model"
   ]
  },
  {
   "cell_type": "code",
   "execution_count": null,
   "metadata": {},
   "outputs": [],
   "source": [
    "lambda_tilde, u = eig(a)\n",
    "lambda_tilde = lambda_tilde.reshape(-1,1)  # eigenvalues of matrix a\n",
    "lambda_sign = np.arccosh(epsilon ** 2*lambda_tilde / 2 + 1) / epsilon\n",
    "z_0 = u.T@sqrt(g)@h_0.T\n",
    "z = zeros((n_, m_))\n",
    "h = zeros((n_, m_))\n",
    "\n",
    "for m in range(m_):\n",
    "    z[:,[m]] = (sinh(lambda_sign*(q_end - (m+1)*epsilon)) / sinh(lambda_sign*q_end)) * z_0\n",
    "    h[:, m] = inv_g@u@z[:, m]"
   ]
  },
  {
   "cell_type": "markdown",
   "metadata": {},
   "source": [
    "## Plot the trading trajectories of the three assets."
   ]
  },
  {
   "cell_type": "code",
   "execution_count": null,
   "metadata": {},
   "outputs": [],
   "source": [
    "figure()\n",
    "\n",
    "q_grid = arange(0,q_end+epsilon,epsilon)\n",
    "p1 = plot(q_grid, r_[h_0[0,0], h[0]], color='b', marker = '.',markersize=5,lw=1)\n",
    "p2 = plot(q_grid, r_[h_0[0,1], h[1]], color='r', marker = '.',markersize=5,lw=1)\n",
    "p3 = plot(q_grid, r_[h_0[0,2], h[2]], color ='k', marker = '.',markersize=5,lw=1)\n",
    "\n",
    "xlabel('Volume time')\n",
    "ylabel('Share holdings')\n",
    "title('Optimal trajectories in the multidimensional Almgren-Chriss model')\n",
    "legend(['first asset','second asset','third asset']);\n",
    "# save_plot(ax=plt.gca(), extension='png', scriptname=os.path.basename('.')[:-3], count=plt.get_fignums()[-1])"
   ]
  }
 ],
 "metadata": {
  "jupytext": {
   "encoding": "# -*- coding: utf-8 -*-",
   "executable": "/usr/bin/env python3"
  },
  "kernelspec": {
   "display_name": "Python 3",
   "language": "python",
   "name": "python3"
  }
 },
 "nbformat": 4,
 "nbformat_minor": 4
}
