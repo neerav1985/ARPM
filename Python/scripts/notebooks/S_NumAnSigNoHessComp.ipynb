{
 "cells": [
  {
   "cell_type": "markdown",
   "metadata": {},
   "source": [
    "# S_NumAnSigNoHessComp [<img src=\"https://www.arpm.co/lab/icons/icon_permalink.png\" width=30 height=30 style=\"display: inline;\">](https://www.arpm.co/lab/redirect.php?code=S_NumAnSigNoHessComp&codeLang=Python)\n",
    "For details, see [here](https://www.arpm.co/lab/redirect.php?permalink=eb-comp-num-an-sig-no-hess)."
   ]
  },
  {
   "cell_type": "markdown",
   "metadata": {},
   "source": [
    "## Prepare the environment"
   ]
  },
  {
   "cell_type": "code",
   "execution_count": null,
   "metadata": {},
   "outputs": [],
   "source": [
    "import os.path as path\n",
    "import sys, os\n",
    "\n",
    "from scipy.io import loadmat\n",
    "\n",
    "sys.path.append(path.abspath('../../functions-legacy'))\n",
    "from collections import namedtuple\n",
    "\n",
    "import numpy as np\n",
    "from numpy import ones, zeros, diag, eye, round, log, r_, diagflat\n",
    "from numpy.linalg import norm as linalgnorm\n",
    "from numpy.random import randn\n",
    "from scipy.linalg import kron\n",
    "from tqdm import trange\n",
    "\n",
    "import matplotlib.pyplot as plt\n",
    "from matplotlib.pyplot import figure, bar, title\n",
    "\n",
    "plt.style.use('seaborn')\n",
    "\n",
    "from ARPM_utils import save_plot\n",
    "from HistogramFP import HistogramFP\n",
    "from SigNoConstrLRD import SigNoConstrLRD\n",
    "from numHess import numHess\n",
    "\n",
    "# input parameters\n",
    "j_ = 100  # number of simulations\n",
    "n_ = 2  # market dimension\n",
    "k_ = 1  # number of factors\n",
    "m_ = 1  # number of constraints"
   ]
  },
  {
   "cell_type": "markdown",
   "metadata": {},
   "source": [
    "## Specify the constraint function with random parameters"
   ]
  },
  {
   "cell_type": "code",
   "execution_count": null,
   "metadata": {},
   "outputs": [],
   "source": [
    "a = randn(m_, n_)\n",
    "q = randn(m_, 1)\n",
    "\n",
    "# set constant matrices for derivatives\n",
    "i_n = eye(n_)\n",
    "i_k = eye(k_)\n",
    "\n",
    "matrix = namedtuple('matrix', 'hm km1 hm2')\n",
    "matrix.hm = diag(i_n.flatten())\n",
    "matrix.km1 = zeros((k_*n_, k_*n_ ** 2))\n",
    "matrix.hm2 = zeros((n_, n_ ** 2))\n",
    "for n in range(n_):\n",
    "    matrix.hm2 = matrix.hm2 + kron(i_n[:,[n]].T, diagflat(i_n[:,[n]]))\n",
    "    matrix.km1 = matrix.km1 + kron(kron(i_n[:,[n]].T, i_k), diagflat(i_n[:,[n]]))  # constraint function\n",
    "\n",
    "v =lambda theta: SigNoConstrLRD(theta, a, q, n_, k_, matrix)[0]\n",
    "v3 =lambda theta: SigNoConstrLRD(theta, a, q, n_, k_, matrix)[2]"
   ]
  },
  {
   "cell_type": "markdown",
   "metadata": {},
   "source": [
    "## Main computations"
   ]
  },
  {
   "cell_type": "code",
   "execution_count": null,
   "metadata": {},
   "outputs": [],
   "source": [
    "err = zeros((j_, 1))\n",
    "for j in trange(j_,desc='Simulations'):  # Set random variables\n",
    "    theta_ = randn(n_ + n_*k_ + n_, 1)\n",
    "    # Compute numerical Hessian\n",
    "    for m in range(m_):\n",
    "        g_m =lambda theta: SigNoConstrLRD(theta, a[[m],:], q[m], n_, k_)[0]\n",
    "        h = numHess(g_m, theta_)[0]\n",
    "        if m==0:\n",
    "            numhess=h.copy()\n",
    "        else:\n",
    "            numhess = r_['-1',numhess, h]  # Compute analytical Hessian\n",
    "    anhess = v3(theta_)\n",
    "    # Compute relative error in Frobenius norm\n",
    "    err[j] = linalgnorm(anhess - numhess, ord='fro') / linalgnorm(anhess, ord='fro')"
   ]
  },
  {
   "cell_type": "markdown",
   "metadata": {},
   "source": [
    "## Display the relative error"
   ]
  },
  {
   "cell_type": "code",
   "execution_count": null,
   "metadata": {},
   "outputs": [],
   "source": [
    "nbins = round(10*log(j_))\n",
    "figure()\n",
    "\n",
    "p = ones((1, len(err))) / len(err)\n",
    "\n",
    "option = namedtuple('option', 'n_bins')\n",
    "option.n_bins = nbins\n",
    "[n, x] = HistogramFP(err.T, p, option)\n",
    "b = bar(x[:-1], n[0], width=x[1]-x[0], facecolor= [.7, .7, .7])\n",
    "plt.grid(True)\n",
    "title('Relative error');\n",
    "# save_plot(ax=plt.gca(), extension='png', scriptname=os.path.basename('.')[:-3], count=plt.get_fignums()[-1])\n"
   ]
  }
 ],
 "metadata": {
  "jupytext": {
   "encoding": "# -*- coding: utf-8 -*-",
   "executable": "/usr/bin/env python3"
  },
  "kernelspec": {
   "display_name": "Python 3",
   "language": "python",
   "name": "python3"
  }
 },
 "nbformat": 4,
 "nbformat_minor": 4
}
