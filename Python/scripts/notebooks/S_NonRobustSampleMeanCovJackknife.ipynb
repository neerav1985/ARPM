{
 "cells": [
  {
   "cell_type": "markdown",
   "metadata": {},
   "source": [
    "# S_NonRobustSampleMeanCovJackknife [<img src=\"https://www.arpm.co/lab/icons/icon_permalink.png\" width=30 height=30 style=\"display: inline;\">](https://www.arpm.co/lab/redirect.php?code=S_NonRobustSampleMeanCovJackknife&codeLang=Python)\n",
    "For details, see [here](https://www.arpm.co/lab/redirect.php?permalink=ExerJackknifeclip)."
   ]
  },
  {
   "cell_type": "markdown",
   "metadata": {},
   "source": [
    "## Prepare the environment"
   ]
  },
  {
   "cell_type": "code",
   "execution_count": null,
   "metadata": {},
   "outputs": [],
   "source": [
    "import os\n",
    "import os.path as path\n",
    "import sys\n",
    "\n",
    "sys.path.append(path.abspath('../../functions-legacy'))\n",
    "\n",
    "import numpy as np\n",
    "from numpy import zeros, sort, argsort, cov, mean, r_\n",
    "from numpy import min as npmin, max as npmax\n",
    "from numpy.linalg import norm as linalgnorm\n",
    "\n",
    "from scipy.io import loadmat\n",
    "\n",
    "import matplotlib.pyplot as plt\n",
    "from matplotlib.pyplot import figure, plot, legend, xlim, ylim, ylabel, \\\n",
    "    xlabel\n",
    "\n",
    "plt.style.use('seaborn')\n",
    "\n",
    "from CONFIG import GLOBAL_DB, TEMPORARY_DB\n",
    "from ARPM_utils import save_plot, struct_to_dict\n",
    "from PlotTwoDimEllipsoid import PlotTwoDimEllipsoid\n",
    "from Price2AdjustedPrice import Price2AdjustedPrice\n",
    "from GarchResiduals import GarchResiduals"
   ]
  },
  {
   "cell_type": "markdown",
   "metadata": {},
   "source": [
    "## Upload the database"
   ]
  },
  {
   "cell_type": "code",
   "execution_count": null,
   "metadata": {},
   "outputs": [],
   "source": [
    "try:\n",
    "    db = loadmat(os.path.join(GLOBAL_DB, 'db_Stocks'), squeeze_me=True)\n",
    "except FileNotFoundError:\n",
    "    db = loadmat(os.path.join(TEMPORARY_DB, 'db_Stocks'), squeeze_me=True)\n",
    "\n",
    "StocksSPX = struct_to_dict(db['StocksSPX'])"
   ]
  },
  {
   "cell_type": "markdown",
   "metadata": {},
   "source": [
    "## Compute the dividend-adjusted returns of two stocks"
   ]
  },
  {
   "cell_type": "code",
   "execution_count": null,
   "metadata": {},
   "outputs": [],
   "source": [
    "t_ = 100\n",
    "\n",
    "_, x_1 = Price2AdjustedPrice(StocksSPX.Date.reshape(1,-1), StocksSPX.Prices[[25],:], StocksSPX.Dividends[25])  # Cisco Systems Inc returns\n",
    "_, x_2 = Price2AdjustedPrice(StocksSPX.Date.reshape(1,-1), StocksSPX.Prices[[5],:], StocksSPX.Dividends[5])  # General Electric returns\n",
    "date = StocksSPX.Date[1:]\n",
    "\n",
    "x_1 = x_1[[0],-t_:]\n",
    "x_2 = x_2[[0],-t_:]\n",
    "date = date[-t_:]"
   ]
  },
  {
   "cell_type": "markdown",
   "metadata": {},
   "source": [
    "## Compute the invariants using GARCH(1,1) fit"
   ]
  },
  {
   "cell_type": "code",
   "execution_count": null,
   "metadata": {},
   "outputs": [],
   "source": [
    "epsi = GarchResiduals(r_[x_1,x_2])\n",
    "\n",
    "mu_hist = mean(epsi, 1,keepdims=True)\n",
    "sigma2_hist = cov(epsi)"
   ]
  },
  {
   "cell_type": "markdown",
   "metadata": {},
   "source": [
    "## Compute the jackknife estimators"
   ]
  },
  {
   "cell_type": "code",
   "execution_count": null,
   "metadata": {},
   "outputs": [],
   "source": [
    "epsi_jack = {}\n",
    "mu_jack = {}\n",
    "sigma2_jack = {}\n",
    "norm_cov = zeros(t_)\n",
    "for t in range(t_):\n",
    "    epsi_jack[t] = np.delete(epsi,t,axis=1)\n",
    "    mu_jack[t] = mean(epsi_jack[t], 1, keepdims=True)  # jackknife mean\n",
    "    sigma2_jack[t] = cov(epsi_jack[t])  # jackknife covariance\n",
    "    norm_cov[t] = linalgnorm(sigma2_hist - sigma2_jack[t], ord='fro')  # computation of the distance between the historical and the jackknife covariance estimators\n",
    "\n",
    "# sort the covariance matrices so that the algorithm can select those\n",
    "# which differ the most from the historical one\n",
    "normsort, i_normsort = sort(norm_cov)[::-1], argsort(norm_cov)[::-1]"
   ]
  },
  {
   "cell_type": "markdown",
   "metadata": {},
   "source": [
    "## Generate figures comparing the historical ellipsoid defined by original data with the jackknife ellipsoid defined by perturbed data."
   ]
  },
  {
   "cell_type": "code",
   "execution_count": null,
   "metadata": {},
   "outputs": [],
   "source": [
    "k_ = 3  # number of figures\n",
    "\n",
    "for k in range(k_):\n",
    "    figure()\n",
    "    e_jack = epsi_jack[i_normsort[k_+1-k]]\n",
    "\n",
    "    # scatter plot with ellipsoid superimposed\n",
    "    o_1 = plot(e_jack[0], e_jack[1], markersize=2.1,color=[0.4, 0.4, 0.4], marker='.',linestyle='none')\n",
    "    o_2= plot(epsi[0, i_normsort[k_-(k+1)]], epsi[1, i_normsort[k_-(k+1)]], markersize= 10, color='r',marker='*',linestyle='none')\n",
    "    xlim([1.1*npmin(epsi[0]), 1.1*npmax(epsi[0])])\n",
    "    ylim([1.1*npmin(epsi[1]), 1.1*npmax(epsi[1])])\n",
    "    xlabel('$\\epsilon_1$')\n",
    "    ylabel('$\\epsilon_2$')\n",
    "    ell_1=PlotTwoDimEllipsoid(mu_hist, sigma2_hist, 1, 0, 0, 'b', 1.5)  # historical ellipsoid\n",
    "    ell_2=PlotTwoDimEllipsoid(mu_jack[i_normsort[k_-(k+1)]], sigma2_jack[i_normsort[k_-(k+1)]],1, 0, 0, 'r', 1.5)  # jackknife ellipsoid\n",
    "\n",
    "    # leg\n",
    "    leg=legend(['historical observations','removed observation','historical ellipsoid','jackknife ellipsoid']);\n",
    "    # save_plot(ax=plt.gca(), extension='png', scriptname=os.path.basename('.')[:-3], count=plt.get_fignums()[-1])\n"
   ]
  }
 ],
 "metadata": {
  "jupytext": {
   "encoding": "# -*- coding: utf-8 -*-",
   "executable": "/usr/bin/env python3"
  },
  "kernelspec": {
   "display_name": "Python 3",
   "language": "python",
   "name": "python3"
  }
 },
 "nbformat": 4,
 "nbformat_minor": 4
}
