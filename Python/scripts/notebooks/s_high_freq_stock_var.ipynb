{
 "cells": [
  {
   "cell_type": "markdown",
   "metadata": {},
   "source": [
    "# s_high_freq_stock_var [<img src=\"https://www.arpm.co/lab/icons/icon_permalink.png\" width=30 height=30 style=\"display: inline;\">](https://www.arpm.co/lab/redirect.php?code=s_high_freq_stock_var&codeLang=Python)\n",
    "For details, see [here](https://www.arpm.co/lab/redirect.php?permalink=ExerMktMicroStructure)."
   ]
  },
  {
   "cell_type": "code",
   "execution_count": null,
   "metadata": {},
   "outputs": [],
   "source": [
    "import pandas as pd\n",
    "import numpy as np\n",
    "import matplotlib.pyplot as plt\n",
    "from datetime import datetime\n",
    "\n",
    "from arpym.tools.trade_quote_processing import trade_quote_processing\n",
    "from arpym.tools.trade_quote_spreading import trade_quote_spreading\n",
    "from arpym.tools.logo import add_logo"
   ]
  },
  {
   "cell_type": "markdown",
   "metadata": {},
   "source": [
    "## [Input parameters](https://www.arpm.co/lab/redirect.php?permalink=s_high_freq_stock_var-parameters)"
   ]
  },
  {
   "cell_type": "code",
   "execution_count": null,
   "metadata": {},
   "outputs": [],
   "source": [
    "i_0 = 0  # index of window's starting time for quotes\n",
    "i_1 = 1249  # index of window's last time for quotes"
   ]
  },
  {
   "cell_type": "markdown",
   "metadata": {},
   "source": [
    "## [Step 0](https://www.arpm.co/lab/redirect.php?permalink=s_high_freq_stock_var-implementation-step00): Load data"
   ]
  },
  {
   "cell_type": "code",
   "execution_count": null,
   "metadata": {},
   "outputs": [],
   "source": [
    "path = '~/databases/global-databases/high-frequency/\\\n",
    "db_US_10yr_Future_quotestrades/'\n",
    "quotes = pd.read_csv(path + 'quotes.csv', index_col=0, parse_dates=True)\n",
    "trades = pd.read_csv(path + 'trades.csv', index_col=0, parse_dates=True)\n",
    "\n",
    "dates_quotes = pd.to_datetime(quotes.index).date\n",
    "t0 = pd.to_datetime(quotes.index)\n",
    "time_quotes = np.zeros(len(t0))  # time vector of quotes\n",
    "for i in range(len(time_quotes)):\n",
    "    time_quotes[i] = t0[i].timestamp()\n",
    "p_bid = np.array(quotes.loc[:, 'bid'])  # best bids\n",
    "p_ask = np.array(quotes.loc[:, 'ask'])  # best asks\n",
    "h_bid = np.array(quotes.loc[:, 'bsiz'])  # bid sizes\n",
    "h_ask = np.array(quotes.loc[:, 'asiz'])  # ask sizes\n",
    "\n",
    "dates_trades = pd.to_datetime(trades.index).date\n",
    "t_k0 = pd.to_datetime(trades.index)\n",
    "time_trades = np.zeros(len(t_k0))  # time vector of trades\n",
    "for i in range(len(time_trades)):\n",
    "    time_trades[i] = t_k0[i].timestamp()\n",
    "p_last = np.array(trades.loc[:, 'price'])  # last transaction values\n",
    "delta_q = np.array(trades.loc[:, 'siz'])  # flow of traded contracts' sizes\n",
    "delta_sgn = np.array(trades.loc[:, 'aggress'])  # trade sign flow\n",
    "match = np.array(trades.loc[:, 'mtch'])  # match events"
   ]
  },
  {
   "cell_type": "markdown",
   "metadata": {},
   "source": [
    "## [Step 1](https://www.arpm.co/lab/redirect.php?permalink=s_high_freq_stock_var-implementation-step01): Process the time series"
   ]
  },
  {
   "cell_type": "code",
   "execution_count": null,
   "metadata": {},
   "outputs": [],
   "source": [
    "# process data\n",
    "time_quotes, _, h_ask, p_ask, h_bid, p_bid, time_trades, _, p_last, delta_q,\\\n",
    "        delta_sgn, _ = trade_quote_processing(time_quotes, dates_quotes, h_ask,\n",
    "                                              p_ask, h_bid, p_bid, time_trades,\n",
    "                                              dates_trades, p_last, delta_q,\n",
    "                                              delta_sgn, match)\n",
    "\n",
    "time_quotes = time_quotes.flatten()\n",
    "\n",
    "# index of the first trade within the time window\n",
    "k_0 = np.where(time_trades >= time_quotes[i_0])[0][0]\n",
    "# index of the last trade within the time window\n",
    "k_1 = np.where(time_trades <= time_quotes[i_1])[0][-1]"
   ]
  },
  {
   "cell_type": "markdown",
   "metadata": {},
   "source": [
    "## [Step 2](https://www.arpm.co/lab/redirect.php?permalink=s_high_freq_stock_var-implementation-step02): Compute the market microstructure variables"
   ]
  },
  {
   "cell_type": "code",
   "execution_count": null,
   "metadata": {},
   "outputs": [],
   "source": [
    "q = np.cumsum(delta_q)  # cumulative volume series\n",
    "sgn = np.cumsum(delta_sgn)  # cumulative trade sign series\n",
    "\n",
    "# number of millisecond points in the time window\n",
    "ms = int(np.around((time_quotes[i_1]-time_quotes[i_0])*1000))+1\n",
    "# spreading wall-clock-time vector in milliseconds\n",
    "t_ms = np.linspace(time_quotes[i_0], time_quotes[i_1], int(ms))\n",
    "\n",
    "# spreading time series\n",
    "h_ask, p_ask, h_bid, p_bid, _, _, _, \\\n",
    "    _ = trade_quote_spreading(t_ms, time_quotes[i_0:i_1], h_ask[i_0:i_1],\n",
    "                              p_ask[i_0:i_1], h_bid[i_0:i_1],\n",
    "                              p_bid[i_0:i_1], time_trades[k_0:k_1],\n",
    "                              p_last[k_0:k_1], q[k_0:k_1], sgn[k_0:k_1])"
   ]
  },
  {
   "cell_type": "markdown",
   "metadata": {},
   "source": [
    "## [Step 3](https://www.arpm.co/lab/redirect.php?permalink=s_high_freq_stock_var-implementation-step03): Compute p_mic and histograms of the bid and ask sizes"
   ]
  },
  {
   "cell_type": "code",
   "execution_count": null,
   "metadata": {},
   "outputs": [],
   "source": [
    "p_mic = (p_bid * h_ask + p_ask * h_bid) / (h_ask + h_bid)  # microprice series"
   ]
  },
  {
   "cell_type": "markdown",
   "metadata": {},
   "source": [
    "## Plots"
   ]
  },
  {
   "cell_type": "code",
   "execution_count": null,
   "metadata": {},
   "outputs": [],
   "source": [
    "# rescale h_bid and h_ask\n",
    "h_bid_res = p_bid - h_bid / 100000\n",
    "h_ask_res = p_ask + h_ask / 100000\n",
    "\n",
    "plt.style.use('arpm')\n",
    "\n",
    "# axes settings\n",
    "ymax_1 = np.max(h_ask_res) + 0.02\n",
    "ymin_1 = np.min(h_bid_res) - 0.01\n",
    "ytick_1 = np.linspace(ymin_1, ymax_1, 5)\n",
    "t_ms_dt = []\n",
    "for i in t_ms:\n",
    "    t_ms_dt.append(datetime.fromtimestamp(i))\n",
    "t_ms_dt = np.array(t_ms_dt)\n",
    "\n",
    "trans_time = []\n",
    "for i in range(k_0, k_1):\n",
    "    trans_time.append(datetime.fromtimestamp(time_trades[i]))\n",
    "trans_time = np.array(trans_time)\n",
    "\n",
    "fig = plt.figure()\n",
    "\n",
    "plt.subplot(211)\n",
    "plt.axis([min(t_ms_dt), max(t_ms_dt), ymin_1, ymax_1])\n",
    "plt.yticks(ytick_1)\n",
    "plt.ylabel('price')\n",
    "plt.xlabel('time')\n",
    "\n",
    "plt.title('TAQ data for US 10yr Future: {date}'.\n",
    "          format(date=t_ms_dt[0].strftime('%Y-%b-%d')))\n",
    "plt.grid(True)\n",
    "\n",
    "for k in range(k_0, k_1-1):\n",
    "    plt.plot([trans_time[k-k_0], trans_time[k-k_0+1]],\n",
    "             [p_last[k], p_last[k]], lw=1, color='b')\n",
    "\n",
    "plt.scatter(trans_time, p_last[range(k_0, k_1)], c='b', s=20, label='traded')\n",
    "\n",
    "plt.plot(t_ms_dt, h_bid_res, color=[.8, .8, .8], lw=1.2)\n",
    "plt.plot(t_ms_dt, p_mic, color='r', lw=1.4, label='micro')\n",
    "plt.plot(t_ms_dt, p_bid, color=[0, .6, 0], lw=1.4, label='bid and ask')\n",
    "plt.plot(t_ms_dt, h_ask_res, color=[.8, .8, .8], lw=1.2,\n",
    "         label='bid and ask size')\n",
    "plt.plot(t_ms_dt, p_ask, color=[0, .6, 0], lw=1.4)\n",
    "plt.legend()\n",
    "\n",
    "dt = 100\n",
    "for i in range(2 * dt, len(t_ms_dt) - dt, dt):\n",
    "    plt.plot([t_ms_dt[i], t_ms_dt[i]], [h_bid_res[i], p_bid[i] - 0.0007],\n",
    "             color=[.8, .8, .8], linestyle='-')\n",
    "    plt.plot([t_ms_dt[i], t_ms_dt[i]], [p_ask[i] + 0.0007, h_ask_res[i]],\n",
    "             color=[.8, .8, .8], linestyle='-')\n",
    "\n",
    "ax1 = plt.subplot(212)\n",
    "ax1.yaxis.label.set_color('red')\n",
    "ax1.set_ylabel('Cumulative volume')\n",
    "ax1.set_xlabel('time')\n",
    "ymax_2 = np.max(q[range(k_0, k_1)]) + 30\n",
    "ymin_2 = np.min(q[range(k_0, k_1)])\n",
    "ax1.set_xlim(min(t_ms_dt), max(t_ms_dt))\n",
    "ax1.set_ylim(ymin_2, ymax_2)\n",
    "ax1.step(trans_time, q[range(k_0, k_1)], color='r', where='post')\n",
    "ax1.plot(trans_time, q[range(k_0, k_1)], '.', color='r', markersize=10)\n",
    "\n",
    "ax2 = ax1.twinx()\n",
    "ax2.yaxis.label.set_color('green')\n",
    "ax2.set_ylabel(\"Cumulative sign\")\n",
    "ymax_3 = np.max(sgn[range(k_0, k_1)]) + 1\n",
    "ymin_3 = np.min(sgn[range(k_0, k_1)])\n",
    "ax2.set_ylim(ymin_3, ymax_3)\n",
    "ax2.set_xlim(min(t_ms_dt), max(t_ms_dt))\n",
    "ax2.step(trans_time, sgn[range(k_0, k_1)], color='g', where='post')\n",
    "ax2.plot(trans_time, sgn[range(k_0, k_1)], '.', color='g', markersize=10)\n",
    "add_logo(fig, location=5)\n",
    "plt.tight_layout()"
   ]
  }
 ],
 "metadata": {
  "jupytext": {
   "encoding": "# -*- coding: utf-8 -*-",
   "executable": "/usr/bin/env python3"
  },
  "kernelspec": {
   "display_name": "Python 3",
   "language": "python",
   "name": "python3"
  }
 },
 "nbformat": 4,
 "nbformat_minor": 4
}
