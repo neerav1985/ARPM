{
 "cells": [
  {
   "cell_type": "markdown",
   "metadata": {},
   "source": [
    "This script computes the eigenvalues/eigenvectors decomposition of the\n",
    "transition matrix theta of a tri-variate Ornestein-Uhlenbeck process.\n",
    "-"
   ]
  },
  {
   "cell_type": "markdown",
   "metadata": {},
   "source": [
    "## For details, see [here](https://www.arpm.co/lab/redirect.php?permalink=eb-trajectory-animation)."
   ]
  },
  {
   "cell_type": "code",
   "execution_count": null,
   "metadata": {},
   "outputs": [],
   "source": [
    "# ## Prepare the environment"
   ]
  },
  {
   "cell_type": "code",
   "execution_count": null,
   "metadata": {},
   "outputs": [],
   "source": [
    "import os.path as path\n",
    "import sys\n",
    "\n",
    "sys.path.append(path.abspath('../../functions-legacy'))\n",
    "\n",
    "from numpy import imag, array, real\n",
    "from numpy.linalg import eig, pinv\n",
    "\n",
    "from scipy.linalg import block_diag\n",
    "\n",
    "import matplotlib.pyplot as plt\n",
    "\n",
    "plt.style.use('seaborn')\n",
    "\n",
    "theta = array([[-10 ** -5, -120, -10], [-120, 10, 210], [-10, -210, 10]])  # transition matrix\n",
    "\n",
    "lam, beta = eig(theta)  # eigenvectors and eigenvalues of theta\n",
    "alpha = real(beta) - imag(beta)  # real matrix of eigenvectors\n",
    "\n",
    "# real diagonal-block matrix\n",
    "gamma_j = lam[0]\n",
    "gamma_ja = real(lam[1])\n",
    "gamma_jb = imag(lam[1])\n",
    "gamma = block_diag(gamma_j, array([[gamma_ja, gamma_jb], [-gamma_jb, gamma_ja]]))\n",
    "\n",
    "# check theta\n",
    "theta_check = alpha@gamma.dot(pinv(alpha))"
   ]
  }
 ],
 "metadata": {
  "jupytext": {
   "cell_metadata_filter": "-all",
   "encoding": "# -*- coding: utf-8 -*-",
   "executable": "/usr/bin/env python3",
   "main_language": "python",
   "notebook_metadata_filter": "-all"
  }
 },
 "nbformat": 4,
 "nbformat_minor": 4
}
