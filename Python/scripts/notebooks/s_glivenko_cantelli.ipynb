{
 "cells": [
  {
   "cell_type": "markdown",
   "metadata": {},
   "source": [
    "# s_glivenko_cantelli [<img src=\"https://www.arpm.co/lab/icons/icon_permalink.png\" width=30 height=30 style=\"display: inline;\">](https://www.arpm.co/lab/redirect.php?code=s_glivenko_cantelli&codeLang=Python)\n",
    "For details, see [here](https://www.arpm.co/lab/redirect.php?permalink=ExerGCplot)."
   ]
  },
  {
   "cell_type": "code",
   "execution_count": null,
   "metadata": {},
   "outputs": [],
   "source": [
    "import numpy as np\n",
    "from scipy.stats import lognorm\n",
    "import matplotlib.pyplot as plt\n",
    "\n",
    "from arpym.tools.histogram_sp import histogram_sp\n",
    "from arpym.tools.logo import add_logo\n",
    "from arpym.statistics.cdf_sp import cdf_sp"
   ]
  },
  {
   "cell_type": "markdown",
   "metadata": {},
   "source": [
    "## [Input parameters](https://www.arpm.co/lab/redirect.php?permalink=s_glivenko_cantelli-parameters)"
   ]
  },
  {
   "cell_type": "code",
   "execution_count": null,
   "metadata": {},
   "outputs": [],
   "source": [
    "t_ = 2500  # number of observations\n",
    "mu = 0  # location parameter of the lognormal distribution\n",
    "sigma2 = 0.25  # scale parameter of the lognormal distribution\n",
    "n_ = 500  # number of grid points for the cdf"
   ]
  },
  {
   "cell_type": "markdown",
   "metadata": {},
   "source": [
    "## [Step 1](https://www.arpm.co/lab/redirect.php?permalink=s_glivenko_cantelli-implementation-step01): Generate lognormal sample"
   ]
  },
  {
   "cell_type": "code",
   "execution_count": null,
   "metadata": {},
   "outputs": [],
   "source": [
    "epsi = lognorm.rvs(sigma2, scale=np.exp(mu), size=t_)"
   ]
  },
  {
   "cell_type": "markdown",
   "metadata": {},
   "source": [
    "## [Step 2](https://www.arpm.co/lab/redirect.php?permalink=s_glivenko_cantelli-implementation-step02): Compute the historical pdf"
   ]
  },
  {
   "cell_type": "code",
   "execution_count": null,
   "metadata": {},
   "outputs": [],
   "source": [
    "p = np.ones(t_)/t_  # uniform probabilities\n",
    "pdf_hist_eps, xi = histogram_sp(epsi, p=p, k_=10*np.log(t_))"
   ]
  },
  {
   "cell_type": "markdown",
   "metadata": {},
   "source": [
    "## [Step 3](https://www.arpm.co/lab/redirect.php?permalink=s_glivenko_cantelli-implementation-step03): Compute the historical cdf"
   ]
  },
  {
   "cell_type": "code",
   "execution_count": null,
   "metadata": {},
   "outputs": [],
   "source": [
    "x_grid = np.linspace(0, np.max(epsi), n_+1)\n",
    "cdf_hist_eps = cdf_sp(x_grid, epsi, p)"
   ]
  },
  {
   "cell_type": "markdown",
   "metadata": {},
   "source": [
    "## [Step 4](https://www.arpm.co/lab/redirect.php?permalink=s_glivenko_cantelli-implementation-step04): Compute the true lognormal pdf and cdf"
   ]
  },
  {
   "cell_type": "code",
   "execution_count": null,
   "metadata": {},
   "outputs": [],
   "source": [
    "pdf_eps = lognorm.pdf(x_grid, sigma2, scale=np.exp(mu))\n",
    "cdf_eps = lognorm.cdf(x_grid, sigma2, scale=np.exp(mu))"
   ]
  },
  {
   "cell_type": "markdown",
   "metadata": {},
   "source": [
    "## Plots"
   ]
  },
  {
   "cell_type": "code",
   "execution_count": null,
   "metadata": {},
   "outputs": [],
   "source": [
    "plt.style.use('arpm')\n",
    "\n",
    "# Display the historical pdf and overlay the true pdf\n",
    "\n",
    "gr = [0.4, 0.4, 0.4]  # colors settings\n",
    "\n",
    "fig, ax = plt.subplots(2, 1, figsize=(1280.0/72.0, 720.0/72.0), dpi=72.0)\n",
    "plt.sca(ax[0])\n",
    "emp2 = plt.bar(xi, pdf_hist_eps, width=xi[1]-xi[0],\n",
    "               facecolor=gr, edgecolor='k')\n",
    "plt.plot(x_grid, pdf_eps, color='b', lw=1.5)\n",
    "plt.xlim([np.min(x_grid), np.max(x_grid)])\n",
    "plt.ylim([0, max(pdf_hist_eps) + 0.1])\n",
    "plt.xticks(fontsize=14)\n",
    "plt.yticks(fontsize=14)\n",
    "plt.title('Historical PDF', fontsize=20, fontweight='bold')\n",
    "\n",
    "# Display the historical cdf and overlay the true cdf\n",
    "\n",
    "plt.sca(ax[1])\n",
    "plt.plot(x_grid, cdf_eps, color='b', lw=1)\n",
    "emp = plt.plot(x_grid, cdf_hist_eps, color=gr, lw=1.5)\n",
    "plt.title('Historical CDF', fontsize=20, fontweight='bold')\n",
    "plt.xticks(fontsize=14)\n",
    "plt.yticks(fontsize=14)\n",
    "plt.xlim([0, max(x_grid)])\n",
    "plt.ylim([-0.001, 1.001])\n",
    "plt.legend(['True', 'Historical'], fontsize=17)\n",
    "add_logo(fig, set_fig_size=False)\n",
    "plt.tight_layout()"
   ]
  }
 ],
 "metadata": {
  "jupytext": {
   "encoding": "# -*- coding: utf-8 -*-",
   "executable": "/usr/bin/env python3"
  },
  "kernelspec": {
   "display_name": "Python 3",
   "language": "python",
   "name": "python3"
  }
 },
 "nbformat": 4,
 "nbformat_minor": 4
}
