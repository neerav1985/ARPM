{
 "cells": [
  {
   "cell_type": "markdown",
   "metadata": {},
   "source": [
    "# S_LFMRegPCcomparison [<img src=\"https://www.arpm.co/lab/icons/icon_permalink.png\" width=30 height=30 style=\"display: inline;\">](https://www.arpm.co/lab/redirect.php?code=S_LFMRegPCcomparison&codeLang=Python)\n",
    "For details, see [here](https://www.arpm.co/lab/redirect.php?permalink=eb-end-expl-fact-lfm)."
   ]
  },
  {
   "cell_type": "markdown",
   "metadata": {},
   "source": [
    "## Prepare the environment"
   ]
  },
  {
   "cell_type": "code",
   "execution_count": null,
   "metadata": {},
   "outputs": [],
   "source": [
    "import os.path as path\n",
    "import sys\n",
    "\n",
    "sys.path.append(path.abspath('../../functions-legacy'))\n",
    "\n",
    "from numpy import trace, array, zeros, eye, r_\n",
    "\n",
    "import matplotlib.pyplot as plt\n",
    "\n",
    "plt.style.use('seaborn')\n",
    "\n",
    "from pcacov import pcacov\n",
    "\n",
    "# input parameters\n",
    "n_ = 2  # dimension of target variable X\n",
    "k_ = 1  # dimension of factor Z\n",
    "mu_Xemb = array([[1,0, - 1]]).T  # joint expectation of target X and factor Z\n",
    "sigma2_Xemb = array([[1, .5, .6],\n",
    "               [.5,  1, .7],\n",
    "               [.6, .7,  1]])  # joint covariance of target X and factor Z\n",
    "alpha_X_Reg = array([[1.6, .7]]).T  # optimal regression coefficients\n",
    "beta_XZ_Reg = array([[.6, .7]]).T"
   ]
  },
  {
   "cell_type": "markdown",
   "metadata": {},
   "source": [
    "## Regression coefficients"
   ]
  },
  {
   "cell_type": "code",
   "execution_count": null,
   "metadata": {},
   "outputs": [],
   "source": [
    "alpha_Reg = r_[alpha_X_Reg, zeros((k_, 1))]\n",
    "beta_Reg = r_[r_['-1',zeros((n_, n_)), beta_XZ_Reg],\n",
    "              r_['-1',zeros((k_, n_)), eye(k_)]]"
   ]
  },
  {
   "cell_type": "markdown",
   "metadata": {},
   "source": [
    "## Parameters of regression recovered embedding target"
   ]
  },
  {
   "cell_type": "code",
   "execution_count": null,
   "metadata": {},
   "outputs": [],
   "source": [
    "mu_Xtilde_Reg = alpha_Reg + beta_Reg@mu_Xemb\n",
    "sigma2_Xtilde_Reg = beta_Reg@sigma2_Xemb@beta_Reg.T"
   ]
  },
  {
   "cell_type": "markdown",
   "metadata": {},
   "source": [
    "## Principal-component coefficients"
   ]
  },
  {
   "cell_type": "code",
   "execution_count": null,
   "metadata": {},
   "outputs": [],
   "source": [
    "e, _ = pcacov(sigma2_Xemb)\n",
    "beta_PC = e[:, :k_]@e[:, :k_].T\n",
    "alpha_PC = mu_Xemb - beta_PC@mu_Xemb"
   ]
  },
  {
   "cell_type": "markdown",
   "metadata": {},
   "source": [
    "## Parameters of principal-component recovered embedding target"
   ]
  },
  {
   "cell_type": "code",
   "execution_count": null,
   "metadata": {},
   "outputs": [],
   "source": [
    "mu_Xtilde_PC = alpha_PC + beta_PC@mu_Xemb\n",
    "sigma2_Xtilde_PC = beta_PC@sigma2_Xemb@beta_PC.T"
   ]
  },
  {
   "cell_type": "markdown",
   "metadata": {},
   "source": [
    "## r-squares"
   ]
  },
  {
   "cell_type": "code",
   "execution_count": null,
   "metadata": {},
   "outputs": [],
   "source": [
    "R2_Reg = 1 - (trace((beta_Reg - eye(n_ + k_))@sigma2_Xemb@(beta_Reg - eye(n_ + k_)).T) / trace(sigma2_Xemb))\n",
    "R2_PC = 1 - (trace((beta_PC - eye(n_ + k_))@sigma2_Xemb@(beta_PC - eye(n_ + k_)).T) / trace(sigma2_Xemb))"
   ]
  }
 ],
 "metadata": {
  "jupytext": {
   "encoding": "# -*- coding: utf-8 -*-",
   "executable": "/usr/bin/env python3"
  },
  "kernelspec": {
   "display_name": "Python 3",
   "language": "python",
   "name": "python3"
  }
 },
 "nbformat": 4,
 "nbformat_minor": 4
}
