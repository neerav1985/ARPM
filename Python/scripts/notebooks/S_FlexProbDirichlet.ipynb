{
 "cells": [
  {
   "cell_type": "markdown",
   "metadata": {},
   "source": [
    "# S_FlexProbDirichlet [<img src=\"https://www.arpm.co/lab/icons/icon_permalink.png\" width=30 height=30 style=\"display: inline;\">](https://www.arpm.co/lab/redirect.php?code=S_FlexProbDirichlet&codeLang=Python)\n",
    "For details, see [here](https://www.arpm.co/lab/redirect.php?permalink=exer-fpspec-copy-1)."
   ]
  },
  {
   "cell_type": "markdown",
   "metadata": {},
   "source": [
    "## Prepare the environment"
   ]
  },
  {
   "cell_type": "code",
   "execution_count": null,
   "metadata": {},
   "outputs": [],
   "source": [
    "import os\n",
    "import os.path as path\n",
    "import sys\n",
    "\n",
    "sys.path.append(path.abspath('../../functions-legacy'))\n",
    "from collections import namedtuple\n",
    "\n",
    "from numpy import arange, array, diff, log, exp\n",
    "from numpy import sum as npsum, min as npmin, max as npmax\n",
    "\n",
    "from scipy.io import loadmat\n",
    "\n",
    "import matplotlib.pyplot as plt\n",
    "from matplotlib.pyplot import figure, bar, xlim, ylim, scatter, ylabel, \\\n",
    "    xlabel, title, xticks, yticks\n",
    "import matplotlib.dates as mdates\n",
    "\n",
    "plt.style.use('seaborn')\n",
    "\n",
    "from CONFIG import GLOBAL_DB, TEMPORARY_DB\n",
    "from ARPM_utils import save_plot, struct_to_dict, date_mtop\n",
    "from HistogramFP import HistogramFP\n",
    "from EffectiveScenarios import EffectiveScenarios\n",
    "from Stats import Stats\n",
    "from ColorCodedFP import ColorCodedFP\n",
    "from Dirichlet import Dirichlet"
   ]
  },
  {
   "cell_type": "markdown",
   "metadata": {},
   "source": [
    "## Upload database"
   ]
  },
  {
   "cell_type": "code",
   "execution_count": null,
   "metadata": {},
   "outputs": [],
   "source": [
    "try:\n",
    "    db = loadmat(os.path.join(GLOBAL_DB, 'db_Stocks'), squeeze_me=True)\n",
    "except FileNotFoundError:\n",
    "    db = loadmat(os.path.join(TEMPORARY_DB, 'db_Stocks'), squeeze_me=True)\n",
    "\n",
    "SPX = struct_to_dict(db['SPX'])"
   ]
  },
  {
   "cell_type": "markdown",
   "metadata": {},
   "source": [
    "## Compute the realized time series of the S&P 500 log-returns"
   ]
  },
  {
   "cell_type": "code",
   "execution_count": null,
   "metadata": {},
   "outputs": [],
   "source": [
    "SPX_ = SPX.Price_close\n",
    "date = SPX.Date\n",
    "epsi = diff(log(SPX_))\n",
    "\n",
    "t_ = len(epsi)\n",
    "epsi = epsi.reshape(1,-1)\n",
    "date = date[1:]"
   ]
  },
  {
   "cell_type": "markdown",
   "metadata": {},
   "source": [
    "## FLEXIBLE PROBABILITIES FROM DIRICHLET DISTRIBUTION"
   ]
  },
  {
   "cell_type": "code",
   "execution_count": null,
   "metadata": {},
   "outputs": [],
   "source": [
    "typ = namedtuple('type','Entropy')\n",
    "typ.Entropy = 'Exp'\n",
    "\n",
    "lam = 0.0015\n",
    "p0 = exp(-lam*arange(t_, 1 + -1, -1)).reshape(1,-1)\n",
    "p0 = p0 / npsum(p0)\n",
    "\n",
    "prob_dir = Dirichlet(p0*10 ** 4)\n",
    "prob_dir = prob_dir / npsum(prob_dir)\n",
    "ens = EffectiveScenarios(prob_dir, typ)"
   ]
  },
  {
   "cell_type": "markdown",
   "metadata": {},
   "source": [
    "## HFP histogram and statistics"
   ]
  },
  {
   "cell_type": "code",
   "execution_count": null,
   "metadata": {},
   "outputs": [],
   "source": [
    "option = namedtuple('option', 'n_bins')\n",
    "option.n_bins = 10*log(epsi.shape[1])\n",
    "p, x = HistogramFP(epsi, prob_dir, option)\n",
    "\n",
    "mu, sdev, VaR, CVaR, skewness, kurtosis = Stats(epsi, prob_dir)"
   ]
  },
  {
   "cell_type": "markdown",
   "metadata": {},
   "source": [
    "## Figure"
   ]
  },
  {
   "cell_type": "code",
   "execution_count": null,
   "metadata": {},
   "outputs": [],
   "source": [
    "date_tick = arange(99, t_, 680)\n",
    "date_dt = array([date_mtop(i) for i in date])\n",
    "xtick = date_dt[date_tick]\n",
    "myFmt = mdates.DateFormatter('%d-%b-%Y')\n",
    "\n",
    "figure()\n",
    "\n",
    "# FP profile\n",
    "plt.subplot2grid((2,3),(0,0),colspan=2)\n",
    "bar(date_dt, prob_dir[0], width=date_dt[1].toordinal()-date_dt[0].toordinal(),facecolor=[0.5, 0.5, 0.5], edgecolor=[0.5, 0.5, 0.5])\n",
    "# colormap((gray))\n",
    "xlim([min(date_dt), max(date_dt)])\n",
    "xticks(xtick)\n",
    "ylim([0, 1.1*npmax(prob_dir)])\n",
    "yticks([])\n",
    "plt.gca().xaxis.set_major_formatter(myFmt)\n",
    "plt.gca().set_facecolor('white')\n",
    "title('FLEXIBLE PROBABILITIES FROM DIRICHLET DISTRIBUTION')\n",
    "ylabel('probability')\n",
    "TEXT = 'Effective Num.Scenarios =  % 3.0f'%ens\n",
    "plt.text(date_dt[50], 1.05*npmax(prob_dir), TEXT,horizontalalignment='left')\n",
    "\n",
    "# scatter colormap and colors\n",
    "[CM, C] = ColorCodedFP(prob_dir, 10 ** -20, max(prob_dir[0]), arange(0,0.85,0.05), 0, 20, [20, 0])\n",
    "\n",
    "# Time series of S&P500 log-rets\n",
    "ax = plt.subplot2grid((2,3),(1,0),colspan=2)\n",
    "# colormap(CM)\n",
    "scatter(date_dt, epsi, 10, c=C, marker='.', cmap=CM)\n",
    "xlim([min(date_dt), max(date_dt)])\n",
    "xticks(xtick)\n",
    "ax.set_facecolor('white')\n",
    "ax.xaxis.set_major_formatter(myFmt)\n",
    "ylim([1.1*npmin(epsi),1.1*npmax(epsi)])\n",
    "ylabel('returns')\n",
    "title('S&P')\n",
    "\n",
    "# HFP histogram\n",
    "ax = plt.subplot2grid((2,3),(1,2))\n",
    "plt.barh(x[:-1], p[0], height=x[1]-x[0], facecolor=[0.7, 0.7, 0.7], edgecolor=[0.5, 0.5, 0.5])\n",
    "xlim([0, 1.05*npmax(p)])\n",
    "ax.set_facecolor('white')\n",
    "xticks([])\n",
    "yticks([])\n",
    "ylim([1.1*npmin(epsi), 1.1*npmax(epsi)])\n",
    "xlabel('probability')\n",
    "\n",
    "# statistics\n",
    "TEXT = 'Mean  % 3.3f \\nSdev    %3.3f \\nVaR      %3.3f \\nCVaR   %3.3f \\nSkew   %3.3f \\nKurt     %3.3f '%(mu,sdev,VaR,CVaR,skewness,kurtosis)\n",
    "plt.text(0.5*npmax(p), 0.025, TEXT,horizontalalignment='left',verticalalignment='bottom')\n",
    "plt.tight_layout();\n",
    "# save_plot(ax=plt.gca(), extension='png', scriptname=os.path.basename('.')[:-3], count=plt.get_fignums()[-1])"
   ]
  }
 ],
 "metadata": {
  "jupytext": {
   "encoding": "# -*- coding: utf-8 -*-",
   "executable": "/usr/bin/env python3"
  },
  "kernelspec": {
   "display_name": "Python 3",
   "language": "python",
   "name": "python3"
  }
 },
 "nbformat": 4,
 "nbformat_minor": 4
}
