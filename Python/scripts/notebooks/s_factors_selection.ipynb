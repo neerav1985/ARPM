{
 "cells": [
  {
   "cell_type": "markdown",
   "metadata": {},
   "source": [
    "# s_factors_selection [<img src=\"https://www.arpm.co/lab/icons/icon_permalink.png\" width=30 height=30 style=\"display: inline;\">](https://www.arpm.co/lab/redirect.php?code=s_factors_selection&codeLang=Python)\n",
    "For details, see [here](https://www.arpm.co/lab/redirect.php?permalink=eb-lfmselect)."
   ]
  },
  {
   "cell_type": "code",
   "execution_count": null,
   "metadata": {},
   "outputs": [],
   "source": [
    "import numpy as np\n",
    "import matplotlib.pyplot as plt\n",
    "\n",
    "from arpym.statistics.objective_r2 import objective_r2\n",
    "from arpym.tools.naive_selection import naive_selection\n",
    "from arpym.tools.forward_selection import forward_selection\n",
    "from arpym.tools.backward_selection import backward_selection\n",
    "from arpym.tools.logo import add_logo"
   ]
  },
  {
   "cell_type": "markdown",
   "metadata": {},
   "source": [
    "## [Input parameters](https://www.arpm.co/lab/redirect.php?permalink=s_factors_selection-parameters)"
   ]
  },
  {
   "cell_type": "code",
   "execution_count": null,
   "metadata": {},
   "outputs": [],
   "source": [
    "n_ = 1  # target variable dimension\n",
    "m_ = 50  # number of factors"
   ]
  },
  {
   "cell_type": "markdown",
   "metadata": {},
   "source": [
    "## [Step 1](https://www.arpm.co/lab/redirect.php?permalink=s_factors_selection-implementation-step01): Generate random positive definite matrix"
   ]
  },
  {
   "cell_type": "code",
   "execution_count": null,
   "metadata": {
    "lines_to_next_cell": 1
   },
   "outputs": [],
   "source": [
    "sigma = np.random.randn(n_ + m_, n_ + m_ + 1)\n",
    "sigma2_xz = sigma @ sigma.T / (n_ + m_ + 1)"
   ]
  },
  {
   "cell_type": "markdown",
   "metadata": {},
   "source": [
    "## [Step 2](https://www.arpm.co/lab/redirect.php?permalink=s_factors_selection-implementation-step02): Setup objective function"
   ]
  },
  {
   "cell_type": "code",
   "execution_count": null,
   "metadata": {
    "lines_to_next_cell": 1
   },
   "outputs": [],
   "source": [
    "def g(s_k):\n",
    "    all = objective_r2(s_k, sigma2_xz, n_)\n",
    "    return all[0], all[1]"
   ]
  },
  {
   "cell_type": "markdown",
   "metadata": {},
   "source": [
    "## [Step 3](https://www.arpm.co/lab/redirect.php?permalink=s_factors_selection-implementation-step03): Compute the r2 based on number of factors via naive, stepwise forward and backward routines"
   ]
  },
  {
   "cell_type": "code",
   "execution_count": null,
   "metadata": {},
   "outputs": [],
   "source": [
    "s_k_naive, g_s_star_naive, _ = naive_selection(g, m_)\n",
    "s_k_fwd, g_s_star_fwd, _ = forward_selection(g, m_)\n",
    "s_k_bwd, g_s_star_bwd, _ = backward_selection(g, m_)"
   ]
  },
  {
   "cell_type": "markdown",
   "metadata": {},
   "source": [
    "## Plots"
   ]
  },
  {
   "cell_type": "code",
   "execution_count": null,
   "metadata": {},
   "outputs": [],
   "source": [
    "plt.style.use('arpm')\n",
    "\n",
    "fig = plt.figure()\n",
    "plt.plot(np.abs(g_s_star_naive))\n",
    "plt.plot(np.abs(g_s_star_fwd), color='red')\n",
    "plt.plot(np.abs(g_s_star_bwd), color='blue')\n",
    "plt.legend(['naive', 'forward stepwise', 'backward stepwise'])\n",
    "plt.xlabel('number of risk factors Z')\n",
    "plt.ylabel('R-square')\n",
    "plt.title('n-choose-k routines comparison')\n",
    "add_logo(fig)"
   ]
  }
 ],
 "metadata": {
  "jupytext": {
   "encoding": "# -*- coding: utf-8 -*-",
   "executable": "/usr/bin/env python3"
  },
  "kernelspec": {
   "display_name": "Python 3",
   "language": "python",
   "name": "python3"
  }
 },
 "nbformat": 4,
 "nbformat_minor": 4
}
