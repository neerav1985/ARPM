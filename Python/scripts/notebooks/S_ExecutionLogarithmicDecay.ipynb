{
 "cells": [
  {
   "cell_type": "markdown",
   "metadata": {},
   "source": [
    "# S_ExecutionLogarithmicDecay [<img src=\"https://www.arpm.co/lab/icons/icon_permalink.png\" width=30 height=30 style=\"display: inline;\">](https://www.arpm.co/lab/redirect.php?code=S_ExecutionLogarithmicDecay&codeLang=Python)\n",
    "For details, see [here](https://www.arpm.co/lab/redirect.php?permalink=eb-liquidation_logarithmic_decay)."
   ]
  },
  {
   "cell_type": "markdown",
   "metadata": {},
   "source": [
    "## Prepare the environment"
   ]
  },
  {
   "cell_type": "code",
   "execution_count": null,
   "metadata": {},
   "outputs": [],
   "source": [
    "import os\n",
    "import os.path as path\n",
    "import sys\n",
    "\n",
    "sys.path.append(path.abspath('../../functions-legacy'))\n",
    "\n",
    "import numpy as np\n",
    "from numpy import arange, pi, sqrt\n",
    "\n",
    "import matplotlib.pyplot as plt\n",
    "from matplotlib.pyplot import plot, subplots, ylabel, \\\n",
    "    xlabel, title\n",
    "\n",
    "plt.style.use('seaborn')\n",
    "np.seterr(divide='ignore')\n",
    "\n",
    "from ARPM_utils import save_plot\n",
    "\n",
    "# parameters\n",
    "h_start = 10000  # initial holdings\n",
    "delta_q = 0.01  # time interval occurring between two trades\n",
    "q_grid = arange(0,1+delta_q,delta_q)"
   ]
  },
  {
   "cell_type": "markdown",
   "metadata": {},
   "source": [
    "## Compute the optimal trading rate and the optimal trading trajectory"
   ]
  },
  {
   "cell_type": "code",
   "execution_count": null,
   "metadata": {},
   "outputs": [],
   "source": [
    "# optimal trading rate\n",
    "trading_rate = -h_start / (pi*sqrt(q_grid * (1 - q_grid)))\n",
    "# optimal trajectory\n",
    "trajectory = 2*h_start * np.arccos(sqrt(q_grid)) / pi"
   ]
  },
  {
   "cell_type": "markdown",
   "metadata": {},
   "source": [
    "## Plot the optimal trading rate and the optimal trading trajectory."
   ]
  },
  {
   "cell_type": "code",
   "execution_count": null,
   "metadata": {},
   "outputs": [],
   "source": [
    "f,ax = subplots(2,1)\n",
    "\n",
    "plt.sca(ax[0])\n",
    "title('Transient impact: logarithmic decay kernel')\n",
    "p1 = plot(q_grid, trajectory, color='b')\n",
    "ylabel( 'Share holdings')\n",
    "\n",
    "plt.sca(ax[1])\n",
    "p2 = plot(q_grid, trading_rate, color='b')\n",
    "xlabel('Time')\n",
    "ylabel('Trading rate')\n",
    "plt.tight_layout();\n",
    "# save_plot(ax=plt.gca(), extension='png', scriptname=os.path.basename('.')[:-3], count=plt.get_fignums()[-1])"
   ]
  }
 ],
 "metadata": {
  "jupytext": {
   "encoding": "# -*- coding: utf-8 -*-",
   "executable": "/usr/bin/env python3"
  },
  "kernelspec": {
   "display_name": "Python 3",
   "language": "python",
   "name": "python3"
  }
 },
 "nbformat": 4,
 "nbformat_minor": 4
}
