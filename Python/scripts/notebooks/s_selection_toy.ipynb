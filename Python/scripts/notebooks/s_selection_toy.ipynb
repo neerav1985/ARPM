{
 "cells": [
  {
   "cell_type": "markdown",
   "metadata": {},
   "source": [
    "# s_selection_toy [<img src=\"https://www.arpm.co/lab/icons/icon_permalink.png\" width=30 height=30 style=\"display: inline;\">](https://www.arpm.co/lab/redirect.php?code=s_selection_toy&codeLang=Python)\n",
    "For details, see [here](https://www.arpm.co/lab/redirect.php?permalink=s_selection_toy)."
   ]
  },
  {
   "cell_type": "code",
   "execution_count": null,
   "metadata": {},
   "outputs": [],
   "source": [
    "import numpy as np\n",
    "from cvxopt import matrix\n",
    "from cvxopt import solvers\n",
    "\n",
    "from arpym.tools.naive_selection import naive_selection\n",
    "from arpym.tools.forward_selection import forward_selection\n",
    "from arpym.tools.backward_selection import backward_selection"
   ]
  },
  {
   "cell_type": "markdown",
   "metadata": {},
   "source": [
    "## [Input parameters](https://www.arpm.co/lab/redirect.php?permalink=s_selection_toy-parameters)"
   ]
  },
  {
   "cell_type": "code",
   "execution_count": null,
   "metadata": {},
   "outputs": [],
   "source": [
    "q2 = np.diag(np.array([1., 1., 1.]))  # quadratic term of the obj. function\n",
    "c = np.array([0, 0, 0])  # linear term of the obj. function\n",
    "a_eq = np.atleast_2d([1., 2., 3.])  # equality constraints\n",
    "b_eq = np.ones((1, 1))"
   ]
  },
  {
   "cell_type": "markdown",
   "metadata": {},
   "source": [
    "## [Step 1](https://www.arpm.co/lab/redirect.php?permalink=s_selection_toy-implementation-step01): Inner optimization function"
   ]
  },
  {
   "cell_type": "code",
   "execution_count": null,
   "metadata": {
    "lines_to_end_of_cell_marker": 0,
    "lines_to_next_cell": 1
   },
   "outputs": [],
   "source": [
    "i_1 = np.arange(1, q2.shape[0]+1)  # pool of candidates\n",
    "n_ = len(i_1)\n",
    "\n",
    "def optim(s_k):\n",
    "    \n",
    "    # define quadratic objective\n",
    "    q2_ = matrix(2 * q2, tc='d')\n",
    "    l_ = matrix(c.reshape(-1, 1), tc='d')\n",
    "\n",
    "    # define constraints\n",
    "    constraints_f_s_lhs = a_eq\n",
    "    constraints_f_s_rhs = b_eq\n",
    "    if s_k.shape[0] <= 2 and s_k.shape[0] > 0:\n",
    "        idt = np.eye(3)\n",
    "        not_in_s_k = np.array([j-1 for j in np.squeeze(i_1)\n",
    "                               if j not in np.squeeze(s_k)])\n",
    "        constraints_f_s_lhs = np.vstack((constraints_f_s_lhs, idt[not_in_s_k, :]))\n",
    "        constraints_f_s_rhs = np.vstack((constraints_f_s_rhs,\n",
    "                                              np.zeros((not_in_s_k.shape[0], 1))))\n",
    "    constraints_f_s_lhs = matrix(constraints_f_s_lhs, tc='d')\n",
    "    constraints_f_s_rhs = matrix(constraints_f_s_rhs, tc='d')\n",
    "\n",
    "    # solve optimization\n",
    "    solvers.options['show_progress'] = False\n",
    "    sol = solvers.qp(q2_, l_, A=constraints_f_s_lhs, b=constraints_f_s_rhs)\n",
    "    x_k_i = np.array(sol['x'])\n",
    "    f_x_k_i = x_k_i.T @ q2 @ x_k_i + c @ x_k_i\n",
    "\n",
    "    return x_k_i, f_x_k_i.item()"
   ]
  },
  {
   "cell_type": "markdown",
   "metadata": {},
   "source": [
    "## [Step 2](https://www.arpm.co/lab/redirect.php?permalink=s_selection_toy-implementation-step02): Best selection of 1, 2 and 3 elements according to the performance g"
   ]
  },
  {
   "cell_type": "code",
   "execution_count": null,
   "metadata": {},
   "outputs": [],
   "source": [
    "i_1 = np.array([[1], [2], [3]])\n",
    "i_2 = np.array([[1, 2], [1, 3], [2, 3]])\n",
    "i_3 = np.array([[1, 2, 3]])\n",
    "i = [i_1, i_2, i_3]\n",
    "\n",
    "f_star = []\n",
    "x_star = []\n",
    "s_star = []\n",
    "for k in range(n_):\n",
    "    f = []\n",
    "    x = []\n",
    "    for s_k_i in i[k]:\n",
    "        all = optim(s_k_i)\n",
    "        x.append(all[0])\n",
    "        f.append(all[1])\n",
    "    optim_indice = np.argmin(f)\n",
    "    s_k_star = i[k][optim_indice]\n",
    "    all = optim(s_k_star)\n",
    "    x_star.append(all[0])\n",
    "    f_star.append(all[1])\n",
    "    s_star.append(s_k_star)"
   ]
  },
  {
   "cell_type": "markdown",
   "metadata": {},
   "source": [
    "## [Step 3](https://www.arpm.co/lab/redirect.php?permalink=s_selection_toy-implementation-step03): Optimal number of elements using the naive selection routine"
   ]
  },
  {
   "cell_type": "code",
   "execution_count": null,
   "metadata": {},
   "outputs": [],
   "source": [
    "x_naive, f_x_naive, s_naive = naive_selection(optim, n_)"
   ]
  },
  {
   "cell_type": "markdown",
   "metadata": {},
   "source": [
    "## [Step 4](https://www.arpm.co/lab/redirect.php?permalink=s_selection_toy-implementation-step04): Optimal number of elements using the forward selection routine"
   ]
  },
  {
   "cell_type": "code",
   "execution_count": null,
   "metadata": {},
   "outputs": [],
   "source": [
    "x_fwd, f_x_fwd, s_fwd = forward_selection(optim, n_)"
   ]
  },
  {
   "cell_type": "markdown",
   "metadata": {},
   "source": [
    "## [Step 5](https://www.arpm.co/lab/redirect.php?permalink=s_selection_toy-implementation-step05): Optimal number of elements using the backward selection routine"
   ]
  },
  {
   "cell_type": "code",
   "execution_count": null,
   "metadata": {},
   "outputs": [],
   "source": [
    "x_bwd, f_x_bwd, s_bwd = backward_selection(optim, n_)"
   ]
  }
 ],
 "metadata": {
  "jupytext": {
   "encoding": "# -*- coding: utf-8 -*-",
   "executable": "/usr/bin/env python3"
  },
  "kernelspec": {
   "display_name": "Python 3",
   "language": "python",
   "name": "python3"
  }
 },
 "nbformat": 4,
 "nbformat_minor": 4
}
