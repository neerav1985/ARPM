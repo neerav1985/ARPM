{
 "cells": [
  {
   "cell_type": "markdown",
   "metadata": {},
   "source": [
    "# S_SimulateJumpDiffMertonKou [<img src=\"https://www.arpm.co/lab/icons/icon_permalink.png\" width=30 height=30 style=\"display: inline;\">](https://www.arpm.co/lab/redirect.php?code=S_SimulateJumpDiffMertonKou&codeLang=Python)\n",
    "For details, see [here](https://www.arpm.co/lab/redirect.php?permalink=NormalDoubleExpJumps)."
   ]
  },
  {
   "cell_type": "markdown",
   "metadata": {},
   "source": [
    "## Prepare the environment"
   ]
  },
  {
   "cell_type": "code",
   "execution_count": null,
   "metadata": {},
   "outputs": [],
   "source": [
    "import os\n",
    "import os.path as path\n",
    "import sys\n",
    "\n",
    "sys.path.append(path.abspath('../../functions-legacy'))\n",
    "\n",
    "from numpy import arange\n",
    "\n",
    "import matplotlib.pyplot as plt\n",
    "from matplotlib.pyplot import subplots, title, plot\n",
    "\n",
    "plt.style.use('seaborn')\n",
    "\n",
    "from ARPM_utils import save_plot\n",
    "from JumpDiffusionMerton import JumpDiffusionMerton\n",
    "from JumpDiffusionKou import JumpDiffusionKou\n",
    "\n",
    "# initial parameters\n",
    "\n",
    "tau = 1  # horizon\n",
    "dt = 1 / 252  # time increment\n",
    "t = arange(0, tau + dt, dt)  # time vector\n",
    "\n",
    "j_ = 15  # number of simulated processes"
   ]
  },
  {
   "cell_type": "markdown",
   "metadata": {},
   "source": [
    "## Simulate jump diffusion\n",
    "## arithmetic Brownian motion component"
   ]
  },
  {
   "cell_type": "code",
   "execution_count": null,
   "metadata": {},
   "outputs": [],
   "source": [
    "mu_m = -1  # drift\n",
    "sigma_m = 0.5  # diffusion\n",
    "# Poisson process component\n",
    "lambda_m = 5  # intensity\n",
    "mu_p = 1  # drift of log-jump\n",
    "sigma_p = 0.2  # diffusion of log-jump\n",
    "\n",
    "x_m = JumpDiffusionMerton(mu_m, sigma_m, lambda_m, mu_p, sigma_p, t, j_)"
   ]
  },
  {
   "cell_type": "markdown",
   "metadata": {},
   "source": [
    "## Simulate double-exponential"
   ]
  },
  {
   "cell_type": "code",
   "execution_count": null,
   "metadata": {},
   "outputs": [],
   "source": [
    "mu_k = 0  # deterministic drift\n",
    "sigma_k = 0.2  # Gaussian component\n",
    "lambda_k = 4.25  # Poisson process intensity\n",
    "p = .5  # probability of up-jump\n",
    "e1 = 0.2  # parameter of up-jump\n",
    "e2 = 0.3  # parameter of down-jump\n",
    "\n",
    "x_k = JumpDiffusionKou(mu_k, sigma_k, lambda_k, p, e1, e2, t, j_)"
   ]
  },
  {
   "cell_type": "markdown",
   "metadata": {},
   "source": [
    "## Generate figure"
   ]
  },
  {
   "cell_type": "code",
   "execution_count": null,
   "metadata": {},
   "outputs": [],
   "source": [
    "f, ax = subplots(2, 1)\n",
    "plt.sca(ax[0])\n",
    "plot(t, x_m.T)\n",
    "title('Merton jump-diffusion')\n",
    "\n",
    "plt.sca(ax[1])\n",
    "plot(t, x_k.T)\n",
    "title('double exponential')\n",
    "plt.tight_layout();\n",
    "# save_plot(ax=plt.gca(), extension='png', scriptname=os.path.basename('.')[:-3], count=plt.get_fignums()[-1])\n"
   ]
  }
 ],
 "metadata": {
  "jupytext": {
   "encoding": "# -*- coding: utf-8 -*-",
   "executable": "/usr/bin/env python3"
  },
  "kernelspec": {
   "display_name": "Python 3",
   "language": "python",
   "name": "python3"
  }
 },
 "nbformat": 4,
 "nbformat_minor": 4
}
