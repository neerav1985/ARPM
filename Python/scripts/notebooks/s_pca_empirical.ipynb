{
 "cells": [
  {
   "cell_type": "markdown",
   "metadata": {},
   "source": [
    "# s_pca_empirical [<img src=\"https://www.arpm.co/lab/icons/icon_permalink.png\" width=30 height=30 style=\"display: inline;\">](https://www.arpm.co/lab/redirect.php?code=s_pca_empirical&codeLang=Python)\n",
    "For details, see [here](https://www.arpm.co/lab/redirect.php?permalink=eb-swap-emp-i)."
   ]
  },
  {
   "cell_type": "code",
   "execution_count": null,
   "metadata": {},
   "outputs": [],
   "source": [
    "import pandas as pd\n",
    "import numpy as np\n",
    "import matplotlib.pyplot as plt\n",
    "\n",
    "from arpym.tools.pca_cov import pca_cov\n",
    "from arpym.tools.plot_ellipsoid import plot_ellipsoid\n",
    "from arpym.tools.logo import add_logo"
   ]
  },
  {
   "cell_type": "markdown",
   "metadata": {},
   "source": [
    "## [Input parameters](https://www.arpm.co/lab/redirect.php?permalink=s_pca_empirical-parameters)"
   ]
  },
  {
   "cell_type": "code",
   "execution_count": null,
   "metadata": {},
   "outputs": [],
   "source": [
    "k_ = 10\n",
    "idx = [0, 4, 8]  # target indices\n",
    "r = 3  # standard deviation size"
   ]
  },
  {
   "cell_type": "markdown",
   "metadata": {},
   "source": [
    "## [Step 0](https://www.arpm.co/lab/redirect.php?permalink=s_pca_empirical-implementation-step00): Import data"
   ]
  },
  {
   "cell_type": "code",
   "execution_count": null,
   "metadata": {},
   "outputs": [],
   "source": [
    "data = pd.read_csv('~/databases/temporary-databases/db_pca_yield_tools.csv')\n",
    "n_ = int(data['n_'][0])\n",
    "tau = data['tau'].values[:n_]\n",
    "m_hat_HFP_x = data['m_hat_HFP_x'].values[:n_]\n",
    "s2_hat_HFP_x = pd.read_csv('~/databases/temporary-databases/db_pca_yield_tools.csv',\n",
    "                   usecols=['s2_hat_HFP_x']).values.reshape(n_, n_)\n",
    "s_vec = data['s_vec'].values[:n_]\n",
    "yields = pd.read_csv('~/databases/temporary-databases/db_pca_yield_data.csv')\n",
    "l_ = int(yields['l_'][0])\n",
    "y = pd.read_csv('~/databases/temporary-databases/db_pca_yield_data.csv',\n",
    "                   usecols=['y']).values.reshape(l_, n_)"
   ]
  },
  {
   "cell_type": "markdown",
   "metadata": {},
   "source": [
    "## [Step 1](https://www.arpm.co/lab/redirect.php?permalink=s_pca_empirical-implementation-step01): Compute eigenvectors, eigenvalues and r2"
   ]
  },
  {
   "cell_type": "code",
   "execution_count": null,
   "metadata": {},
   "outputs": [],
   "source": [
    "e_hat, lambda2_hat = pca_cov(s2_hat_HFP_x)"
   ]
  },
  {
   "cell_type": "markdown",
   "metadata": {},
   "source": [
    "## [Step 2](https://www.arpm.co/lab/redirect.php?permalink=s_pca_empirical-implementation-step02): Compute factor shifting"
   ]
  },
  {
   "cell_type": "code",
   "execution_count": null,
   "metadata": {},
   "outputs": [],
   "source": [
    "y_pred = []\n",
    "y_temp = np.zeros((n_, 3))\n",
    "\n",
    "for k in range(k_):\n",
    "    shift = r * np.sqrt(lambda2_hat[k]) * e_hat[:, k]\n",
    "    y_temp = np.zeros((n_, 3))\n",
    "    y_temp[:, 0] = y[0, :]\n",
    "    y_temp[:, 1] = y[0, :] + shift\n",
    "    y_temp[:, 2] = y[0, :] - shift\n",
    "    y_pred.append(y_temp)"
   ]
  },
  {
   "cell_type": "markdown",
   "metadata": {},
   "source": [
    "## [Step 3](https://www.arpm.co/lab/redirect.php?permalink=s_pca_empirical-implementation-step03): Save the data"
   ]
  },
  {
   "cell_type": "code",
   "execution_count": null,
   "metadata": {},
   "outputs": [],
   "source": [
    "output = {\n",
    "          'n_': pd.Series(len(tau)),\n",
    "          'k_': pd.Series(k_),\n",
    "          'e_hat': pd.Series(e_hat.reshape(-1)),\n",
    "          'lambda2_hat': pd.Series(lambda2_hat),\n",
    "          }\n",
    "\n",
    "df = pd.DataFrame(output)\n",
    "df.to_csv('~/databases/temporary-databases/db_pca_empirical.csv')"
   ]
  },
  {
   "cell_type": "markdown",
   "metadata": {},
   "source": [
    "## Plots"
   ]
  },
  {
   "cell_type": "code",
   "execution_count": null,
   "metadata": {},
   "outputs": [],
   "source": [
    "\n",
    "plt.style.use('arpm')\n",
    "\n",
    "fig2, ax = plt.subplots(3, 1)\n",
    "ax[0].plot(tau, y_pred[0], linewidth=1.5, color='k')\n",
    "ax[0].set_title('1st factor: shift')\n",
    "\n",
    "ax[1].plot(tau, y_pred[1], linewidth=1.5, color='k')\n",
    "ax[1].set_title('2nd factor: steepening')\n",
    "ax[1].set_ylabel('yield curve')\n",
    "\n",
    "ax[2].plot(tau, y_pred[2], linewidth=1.5, color='k')\n",
    "ax[2].set_title('3rd factor: bending')\n",
    "ax[2].set_xlabel('time to maturity (yrs)')\n",
    "\n",
    "add_logo(fig2, axis=ax[2], location=4)\n",
    "plt.tight_layout()\n",
    "\n",
    "alpha = np.linspace(0, 2 * np.pi, 50)\n",
    "beta = np.linspace(np.pi/2, np.pi, 50)\n",
    "\n",
    "fig3, ax = plot_ellipsoid(m_hat_HFP_x[idx],\n",
    "                          s2_hat_HFP_x[np.ix_(idx, idx)], r=3,\n",
    "                          alpha=alpha, beta=beta,\n",
    "                          plot_axes=False, point_color=(.3, .3, .3))\n",
    "ax.view_init(29, -121)\n",
    "ax.set_xlabel('changes in 2yr yields', labelpad=15)\n",
    "ax.set_ylabel('changes in 6yr yields', labelpad=15)\n",
    "ax.set_zlabel('changes in 10yr yields', labelpad=15)\n",
    "ax.invert_yaxis()\n",
    "\n",
    "add_logo(fig3, location=4)\n",
    "plt.tight_layout()"
   ]
  }
 ],
 "metadata": {
  "jupytext": {
   "encoding": "# -*- coding: utf-8 -*-",
   "executable": "/usr/bin/env python3"
  },
  "kernelspec": {
   "display_name": "Python 3",
   "language": "python",
   "name": "python3"
  }
 },
 "nbformat": 4,
 "nbformat_minor": 4
}
