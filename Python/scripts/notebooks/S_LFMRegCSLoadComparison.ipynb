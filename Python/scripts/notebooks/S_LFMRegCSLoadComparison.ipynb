{
 "cells": [
  {
   "cell_type": "markdown",
   "metadata": {},
   "source": [
    "# S_LFMRegCSLoadComparison [<img src=\"https://www.arpm.co/lab/icons/icon_permalink.png\" width=30 height=30 style=\"display: inline;\">](https://www.arpm.co/lab/redirect.php?code=S_LFMRegCSLoadComparison&codeLang=Python)\n",
    "For details, see [here](https://www.arpm.co/lab/redirect.php?permalink=eb-csvs-reg-load)."
   ]
  },
  {
   "cell_type": "markdown",
   "metadata": {},
   "source": [
    "## Prepare the environment"
   ]
  },
  {
   "cell_type": "code",
   "execution_count": null,
   "metadata": {},
   "outputs": [],
   "source": [
    "import os.path as path\n",
    "import sys\n",
    "\n",
    "sys.path.append(path.abspath('../../functions-legacy'))\n",
    "\n",
    "import numpy as np\n",
    "from numpy import array, diag\n",
    "from numpy.linalg import solve, pinv, norm\n",
    "\n",
    "import matplotlib.pyplot as plt\n",
    "\n",
    "plt.style.use('seaborn')\n",
    "\n",
    "# input parameters\n",
    "n_ = 2  # dimension of target variable X\n",
    "k_ = 1  # dimension of factors Z\n",
    "mu_X = array([[-0.5], [1]])  # expectation of target variable X\n",
    "sigma2_X = array([[1, .1], [.1, .2]])  # covariance of target variable X\n",
    "beta = array([[1],[1]])  # loadings"
   ]
  },
  {
   "cell_type": "markdown",
   "metadata": {},
   "source": [
    "## Compute the extraction matrix using scale matrix sigma2 = Diag(V{X}"
   ]
  },
  {
   "cell_type": "code",
   "execution_count": null,
   "metadata": {},
   "outputs": [],
   "source": [
    "sigma2 = np.diagflat(diag(sigma2_X))\n",
    "psinv = solve((beta.T.dot(pinv(sigma2)))@beta, beta.T.dot(pinv(sigma2)))"
   ]
  },
  {
   "cell_type": "markdown",
   "metadata": {},
   "source": [
    "## Compute the regression loadings and check if regression and cross-sectional loadings are different"
   ]
  },
  {
   "cell_type": "code",
   "execution_count": null,
   "metadata": {},
   "outputs": [],
   "source": [
    "beta_Reg_1 = (sigma2_X@psinv.T).dot(pinv(psinv@sigma2_X@psinv.T))\n",
    "diff_1 = norm(beta_Reg_1 - beta)"
   ]
  },
  {
   "cell_type": "markdown",
   "metadata": {},
   "source": [
    "## Compute the extraction matrix using scale matrix sigma2=sigma2_X"
   ]
  },
  {
   "cell_type": "code",
   "execution_count": null,
   "metadata": {},
   "outputs": [],
   "source": [
    "beta_t_2 = solve((beta.T.dot(pinv(sigma2_X)))@beta,beta.T.dot(pinv(sigma2_X)))"
   ]
  },
  {
   "cell_type": "markdown",
   "metadata": {},
   "source": [
    "## Compute the regression loadings and check if regression and cross-sectional loadings are different"
   ]
  },
  {
   "cell_type": "code",
   "execution_count": null,
   "metadata": {},
   "outputs": [],
   "source": [
    "beta_Reg_2 = (sigma2_X@beta_t_2.T).dot(pinv(beta_t_2@sigma2_X@beta_t_2.T))\n",
    "diff_2 = norm(beta_Reg_2 - beta)"
   ]
  }
 ],
 "metadata": {
  "jupytext": {
   "encoding": "# -*- coding: utf-8 -*-",
   "executable": "/usr/bin/env python3"
  },
  "kernelspec": {
   "display_name": "Python 3",
   "language": "python",
   "name": "python3"
  }
 },
 "nbformat": 4,
 "nbformat_minor": 4
}
