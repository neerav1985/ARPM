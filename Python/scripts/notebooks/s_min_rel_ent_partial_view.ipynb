{
 "cells": [
  {
   "cell_type": "markdown",
   "metadata": {},
   "source": [
    "# s_min_rel_ent_partial_view [<img src=\"https://www.arpm.co/lab/icons/icon_permalink.png\" width=30 height=30 style=\"display: inline;\">](https://www.arpm.co/lab/redirect.php?code=s_min_rel_ent_partial_view&codeLang=Python)\n",
    "For details, see [here](https://www.arpm.co/lab/redirect.php?permalink=ExViewTheoryPart)."
   ]
  },
  {
   "cell_type": "code",
   "execution_count": null,
   "metadata": {},
   "outputs": [],
   "source": [
    "import numpy as np\n",
    "\n",
    "from scipy.stats import chi2\n",
    "\n",
    "from arpym.estimation.cov_2_corr import cov_2_corr\n",
    "from arpym.tools.mahalanobis_dist import mahalanobis_dist\n",
    "from arpym.views.min_rel_entropy_normal import min_rel_entropy_normal\n",
    "from arpym.views.rel_entropy_normal import rel_entropy_normal"
   ]
  },
  {
   "cell_type": "markdown",
   "metadata": {},
   "source": [
    "## [Input parameters](https://www.arpm.co/lab/redirect.php?permalink=s_min_rel_ent_partial_view-parameters)"
   ]
  },
  {
   "cell_type": "code",
   "execution_count": null,
   "metadata": {
    "lines_to_next_cell": 1
   },
   "outputs": [],
   "source": [
    "mu_x_base = np.array([0.26, 0.29, 0.33])  # base expectation\n",
    "sig2_x_base = np.array([[0.18, 0.11, 0.13],\n",
    "                        [0.11, 0.23, 0.16],\n",
    "                        [0.13, 0.16, 0.23]])  # base covariance\n",
    "v_mu = np.array([[1, -1, 0], [0, 1, -1]])  # view on expectation matrix\n",
    "v_sig = np.array([[-3, -1, -1], [-1, 2, 1]])  # view on covariance matrix\n",
    "# view quantification parameters\n",
    "mu_view = np.array([1.02, -0.50])\n",
    "sig2_view = np.array([[0.19, 0.09], [0.09, 0.44]])"
   ]
  },
  {
   "cell_type": "markdown",
   "metadata": {},
   "source": [
    "## [Step 1](https://www.arpm.co/lab/redirect.php?permalink=s_min_rel_ent_partial_view-implementation-step01): Compute effective ranks corresponding to the pick matrices"
   ]
  },
  {
   "cell_type": "code",
   "execution_count": null,
   "metadata": {},
   "outputs": [],
   "source": [
    "\n",
    "def eff_rank(s2):\n",
    "    lam2_n, _ = np.linalg.eig(s2)\n",
    "    w_n = lam2_n / np.sum(lam2_n)\n",
    "    return np.exp(- w_n @ np.log(w_n))\n",
    "\n",
    "\n",
    "eff_rank_v_mu = eff_rank(cov_2_corr(v_mu @ sig2_x_base @ v_mu.T)[0])\n",
    "eff_rank_v_sig = eff_rank(cov_2_corr(v_sig @ sig2_x_base @ v_sig.T)[0])"
   ]
  },
  {
   "cell_type": "markdown",
   "metadata": {},
   "source": [
    "## [Step 2](https://www.arpm.co/lab/redirect.php?permalink=s_min_rel_ent_partial_view-implementation-step02): Compute updated parameters"
   ]
  },
  {
   "cell_type": "code",
   "execution_count": null,
   "metadata": {},
   "outputs": [],
   "source": [
    "mu_x_upd, sig2_x_upd = min_rel_entropy_normal(mu_x_base, sig2_x_base, v_mu,\n",
    "                                              mu_view, v_sig, sig2_view)"
   ]
  },
  {
   "cell_type": "markdown",
   "metadata": {},
   "source": [
    "## [Step 3](https://www.arpm.co/lab/redirect.php?permalink=s_min_rel_ent_partial_view-implementation-step03): Compute projectors"
   ]
  },
  {
   "cell_type": "code",
   "execution_count": null,
   "metadata": {},
   "outputs": [],
   "source": [
    "k_ = len(mu_view)  # view variables dimension\n",
    "n_ = len(mu_x_base)  # market dimension\n",
    "\n",
    "v_mu_inv = sig2_x_base @ v_mu.T @ np.linalg.solve(v_mu @ sig2_x_base @ v_mu.T,\n",
    "                                                  np.identity(k_))\n",
    "v_sig_inv = sig2_x_base @ v_sig.T @\\\n",
    "    (np.linalg.solve(v_sig @ sig2_x_base @ v_sig.T, np.identity(k_)))\n",
    "p_mu = np.eye(n_) - v_mu_inv @ v_mu\n",
    "p_mu_c = v_mu_inv @ v_mu\n",
    "p_sig = np.eye(n_) - v_sig_inv @ v_sig\n",
    "p_sig_c = v_sig_inv @ v_sig"
   ]
  },
  {
   "cell_type": "markdown",
   "metadata": {},
   "source": [
    "## [Step 4](https://www.arpm.co/lab/redirect.php?permalink=s_min_rel_ent_partial_view-implementation-step04): Compute Mahalanobis distance and p-value"
   ]
  },
  {
   "cell_type": "code",
   "execution_count": null,
   "metadata": {},
   "outputs": [],
   "source": [
    "mah_distance = mahalanobis_dist(mu_x_upd, mu_x_base, sig2_x_base)\n",
    "p_value = 1 - chi2.cdf(mah_distance, n_)"
   ]
  },
  {
   "cell_type": "markdown",
   "metadata": {},
   "source": [
    "## [Step 5](https://www.arpm.co/lab/redirect.php?permalink=s_min_rel_ent_partial_view-implementation-step05): Compute relative entropy and sensitivity to the views"
   ]
  },
  {
   "cell_type": "code",
   "execution_count": null,
   "metadata": {},
   "outputs": [],
   "source": [
    "rel_entropy = rel_entropy_normal(mu_x_upd, sig2_x_upd, mu_x_base, sig2_x_base)\n",
    "sens = np.linalg.solve(v_mu @ sig2_x_base @ v_mu.T, v_mu @\n",
    "                       (mu_x_upd - mu_x_base))"
   ]
  }
 ],
 "metadata": {
  "jupytext": {
   "encoding": "# -*- coding: utf-8 -*-",
   "executable": "/usr/bin/env python3"
  },
  "kernelspec": {
   "display_name": "Python 3",
   "language": "python",
   "name": "python3"
  }
 },
 "nbformat": 4,
 "nbformat_minor": 4
}
