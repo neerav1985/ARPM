{
 "cells": [
  {
   "cell_type": "markdown",
   "metadata": {},
   "source": [
    "# s_fit_yield_ns [<img src=\"https://www.arpm.co/lab/icons/icon_permalink.png\" width=30 height=30 style=\"display: inline;\">](https://www.arpm.co/lab/redirect.php?code=s_fit_yield_ns&codeLang=Python)\n",
    "For details, see [here](https://www.arpm.co/lab/redirect.php?permalink=ExerYieldNelSig)."
   ]
  },
  {
   "cell_type": "code",
   "execution_count": null,
   "metadata": {},
   "outputs": [],
   "source": [
    "import numpy as np\n",
    "import pandas as pd\n",
    "import matplotlib.pyplot as plt\n",
    "from pandas.plotting import register_matplotlib_converters\n",
    "register_matplotlib_converters()\n",
    "\n",
    "from arpym.pricing.fit_nelson_siegel_yield import fit_nelson_siegel_yield\n",
    "from arpym.pricing.nelson_siegel_yield import nelson_siegel_yield\n",
    "\n",
    "from arpym.tools.logo import add_logo"
   ]
  },
  {
   "cell_type": "markdown",
   "metadata": {},
   "source": [
    "## [Input parameters](https://www.arpm.co/lab/redirect.php?permalink=s_fit_yield_ns-parameters)"
   ]
  },
  {
   "cell_type": "code",
   "execution_count": null,
   "metadata": {},
   "outputs": [],
   "source": [
    "t_ = 450  # len of the selected time series to plot\n",
    "tau_select = np.array(['1.0', '2.0', '3.0', '4.0', '5.0', '6.0',\n",
    "                       '7.0', '8.0', '9.0', '10.0', '15.0', '20.0'])  # times to maturity\n",
    "theta_init=0.5*np.ones(4)"
   ]
  },
  {
   "cell_type": "markdown",
   "metadata": {},
   "source": [
    "## [Step 0](https://www.arpm.co/lab/redirect.php?permalink=s_fit_yield_ns-implementation-step00): Load data"
   ]
  },
  {
   "cell_type": "code",
   "execution_count": null,
   "metadata": {},
   "outputs": [],
   "source": [
    "path = '~/databases/global-databases/fixed-income/db_yields/'\n",
    "df_data = pd.read_csv(path + 'data.csv', header=0, index_col=0,\n",
    "                             parse_dates=True, infer_datetime_format=True)\n",
    "df_data = df_data.iloc[-t_:]"
   ]
  },
  {
   "cell_type": "markdown",
   "metadata": {},
   "source": [
    "## [Step 1](https://www.arpm.co/lab/redirect.php?permalink=s_fit_yield_ns-implementation-step01): Yields for the selected times to maturity"
   ]
  },
  {
   "cell_type": "code",
   "execution_count": null,
   "metadata": {},
   "outputs": [],
   "source": [
    "df_data = df_data.loc[:, tau_select]\n",
    "tau_select = np.array([float(tau_select[i]) for i in range(len(tau_select))])\n",
    "y = df_data.values"
   ]
  },
  {
   "cell_type": "markdown",
   "metadata": {},
   "source": [
    "## [Step 2](https://www.arpm.co/lab/redirect.php?permalink=s_fit_yield_ns-implementation-step02): Realized Nelson-Siegel model parameters and fitted yield curve"
   ]
  },
  {
   "cell_type": "code",
   "execution_count": null,
   "metadata": {},
   "outputs": [],
   "source": [
    "theta = np.zeros((t_, 4))\n",
    "y_ns = np.zeros((t_, len(tau_select)))\n",
    "\n",
    "for t in range(t_):\n",
    "    if t==0:\n",
    "        theta[t] = fit_nelson_siegel_yield(tau_select, y[t], theta_0=theta_init)\n",
    "    else:\n",
    "        theta[t] = fit_nelson_siegel_yield(tau_select, y[t], theta_0=theta[t-1])\n",
    "    y_ns[t, :] = nelson_siegel_yield(tau_select, theta[t])"
   ]
  },
  {
   "cell_type": "markdown",
   "metadata": {},
   "source": [
    "## [Step 3](https://www.arpm.co/lab/redirect.php?permalink=s_fit_yield_ns-implementation-step03): Save databases"
   ]
  },
  {
   "cell_type": "code",
   "execution_count": null,
   "metadata": {},
   "outputs": [],
   "source": [
    "out = pd.DataFrame(theta)\n",
    "out.to_csv('~/databases/temporary-databases/db_fit_yield_ns.csv',\n",
    "               index=None)"
   ]
  },
  {
   "cell_type": "markdown",
   "metadata": {},
   "source": [
    "## Plots"
   ]
  },
  {
   "cell_type": "code",
   "execution_count": null,
   "metadata": {},
   "outputs": [],
   "source": [
    "plt.style.use('arpm')\n",
    "\n",
    "fig = plt.figure()\n",
    "plt.plot(tau_select, y_ns[t_-1, :], 'b', tau_select, y[t_-1, :], 'r.')\n",
    "plt.axis([np.min(tau_select), np.max(tau_select), np.min(y_ns[t_-1, :]), np.max(y_ns[t_-1, :])])\n",
    "plt.xlabel('Time to Maturity')\n",
    "plt.ylabel('Rate')\n",
    "plt.legend(['Fit','Rates'])\n",
    "plt.grid(True)\n",
    "add_logo(fig)\n",
    "plt.tight_layout()\n",
    "\n",
    "f,ax = plt.subplots(4,1, sharex=True)\n",
    "cellc = ['m','b','g','r']\n",
    "celll = ['Level','Slope','Curvature','Decay']\n",
    "\n",
    "t = np.array(df_data.index)\n",
    "\n",
    "for i in range(3):\n",
    "    plt.sca(ax[i])\n",
    "    plt.plot_date(t, theta[:, i], color = cellc[i], fmt='-')\n",
    "    plt.ylabel(celll[i])\n",
    "    plt.grid(True)\n",
    "    plt.xticks([])\n",
    "    plt.xlim([t[0], t[-1]])\n",
    " \n",
    "plt.sca(ax[3])\n",
    "plt.plot_date(t, theta[:, 3], color = cellc[3], fmt='-')\n",
    "plt.ylabel(celll[i])\n",
    "plt.xlabel(\"Time\")\n",
    "plt.grid(True)\n",
    "plt.xlim([t[0], t[-1]])\n",
    "\n",
    "add_logo(f, size_frac_x=1/8, location=1)\n",
    "plt.tight_layout()"
   ]
  }
 ],
 "metadata": {
  "jupytext": {
   "encoding": "# -*- coding: utf-8 -*-",
   "executable": "/usr/bin/env python3"
  },
  "kernelspec": {
   "display_name": "Python 3",
   "language": "python",
   "name": "python3"
  }
 },
 "nbformat": 4,
 "nbformat_minor": 4
}
