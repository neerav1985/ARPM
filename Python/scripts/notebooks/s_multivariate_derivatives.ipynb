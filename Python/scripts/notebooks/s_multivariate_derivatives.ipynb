{
 "cells": [
  {
   "cell_type": "markdown",
   "metadata": {},
   "source": [
    "# s_multivariate_derivatives [<img src=\"https://www.arpm.co/lab/icons/icon_permalink.png\" width=30 height=30 style=\"display: inline;\">](https://www.arpm.co/lab/redirect.php?code=s_multivariate_derivatives&codeLang=Python)\n",
    "For details, see [here](https://www.arpm.co/lab/redirect.php?permalink=s_multivariate_derivatives)."
   ]
  },
  {
   "cell_type": "code",
   "execution_count": null,
   "metadata": {},
   "outputs": [],
   "source": [
    "import numpy as np\n",
    "import sympy as sym\n",
    "from IPython.display import display, Math\n",
    "import matplotlib.pyplot as plt\n",
    "from matplotlib import rc, rcParams\n",
    "\n",
    "rc('text', usetex=True)\n",
    "rcParams['text.latex.preamble']=[r\"\\usepackage{amsmath} \\usepackage{amssymb}\"]\n",
    "\n",
    "from arpym.tools.logo import add_logo"
   ]
  },
  {
   "cell_type": "markdown",
   "metadata": {},
   "source": [
    "## [Input parameters](https://www.arpm.co/lab/redirect.php?permalink=s_multivariate_derivatives-parameters)"
   ]
  },
  {
   "cell_type": "code",
   "execution_count": null,
   "metadata": {},
   "outputs": [],
   "source": [
    "# coefficients of quadratic form\n",
    "a = 3\n",
    "b = 2\n",
    "c = 4\n",
    "\n",
    "# point on iso-contour to examine\n",
    "x1_0 = 0.4\n",
    "x2_0 = -(b/(2*c))*x1_0 + np.sqrt(1/c + ((b**2-4*a*c)/(4*c**2))*x1_0**2)\n",
    "x_0 = np.array([x1_0, x2_0])\n",
    "display(Math(r'x_0:'))\n",
    "print(x_0)"
   ]
  },
  {
   "cell_type": "markdown",
   "metadata": {},
   "source": [
    "## [Step 1](https://www.arpm.co/lab/redirect.php?permalink=s_multivariate_derivatives-implementation-step01): Define function"
   ]
  },
  {
   "cell_type": "code",
   "execution_count": null,
   "metadata": {},
   "outputs": [],
   "source": [
    "# variable\n",
    "x1, x2 = sym.symbols('x1, x2')\n",
    "\n",
    "# function (quadratic form)\n",
    "f = a*x1**2 + b*x1*x2 + c*x2**2\n",
    "display(Math(r'f(x):'))\n",
    "display(f)"
   ]
  },
  {
   "cell_type": "markdown",
   "metadata": {},
   "source": [
    "## [Step 2](https://www.arpm.co/lab/redirect.php?permalink=s_multivariate_derivatives-implementation-step02): Calculate the partial derivatives"
   ]
  },
  {
   "cell_type": "code",
   "execution_count": null,
   "metadata": {},
   "outputs": [],
   "source": [
    "# first order partial derivatives\n",
    "df_dx1 = sym.diff(f, x1)\n",
    "df_dx2 = sym.diff(f, x2)\n",
    "display(Math(r'\\frac{\\partial f}{\\partial x_1}:'))\n",
    "display(df_dx1)\n",
    "print('-------------')\n",
    "display(Math(r'\\frac{\\partial f}{\\partial x_2}:'))\n",
    "display(df_dx2)"
   ]
  },
  {
   "cell_type": "markdown",
   "metadata": {},
   "source": [
    "## [Step 3](https://www.arpm.co/lab/redirect.php?permalink=s_multivariate_derivatives-implementation-step03): Gradient vector"
   ]
  },
  {
   "cell_type": "code",
   "execution_count": null,
   "metadata": {},
   "outputs": [],
   "source": [
    "# gradient\n",
    "grad_f = sym.Matrix([df_dx1, df_dx2])\n",
    "display(Math(r'\\nabla_{\\boldsymbol{x}}\\, f:'))\n",
    "display(grad_f)\n",
    "\n",
    "# evaluated at point x_0\n",
    "grad_f_ = sym.lambdify((x1, x2), grad_f, 'numpy')\n",
    "grad_f_x0 = grad_f_(x_0[0],x_0[1]).squeeze()"
   ]
  },
  {
   "cell_type": "markdown",
   "metadata": {},
   "source": [
    "## [Step 4](https://www.arpm.co/lab/redirect.php?permalink=s_multivariate_derivatives-implementation-step04): Calculate the second order partial derivatives"
   ]
  },
  {
   "cell_type": "code",
   "execution_count": null,
   "metadata": {},
   "outputs": [],
   "source": [
    "# second order partial derivatives\n",
    "d2f_dx1dx1 = sym.diff(df_dx1, x1)\n",
    "d2f_dx2dx2 = sym.diff(df_dx2, x2)\n",
    "d2f_dx2dx1 = sym.diff(df_dx1, x2)\n",
    "d2f_dx1dx2 = sym.diff(df_dx2, x1)\n",
    "display(Math(r'\\frac{\\partial^2 f}{\\partial x_1^2}:'))\n",
    "display(d2f_dx1dx1)\n",
    "print('-------------')\n",
    "display(Math(r'\\frac{\\partial^2 f}{\\partial x_2^2}:'))\n",
    "display(d2f_dx2dx2)\n",
    "print('-------------')\n",
    "display(Math(r'\\frac{\\partial^2 f}{\\partial x_2 \\partial x_1}:'))\n",
    "display(d2f_dx2dx1)\n",
    "print('-------------')\n",
    "display(Math(r'\\frac{\\partial^2 f}{\\partial x_1 \\partial x_2}:'))\n",
    "display(d2f_dx1dx2)"
   ]
  },
  {
   "cell_type": "markdown",
   "metadata": {},
   "source": [
    "## [Step 5](https://www.arpm.co/lab/redirect.php?permalink=s_multivariate_derivatives-implementation-step05): Hessian matrix"
   ]
  },
  {
   "cell_type": "code",
   "execution_count": null,
   "metadata": {},
   "outputs": [],
   "source": [
    "# Hessian\n",
    "hessian_f = sym.Matrix([[d2f_dx1dx1, d2f_dx1dx2],\n",
    "                     [d2f_dx2dx1, d2f_dx2dx2]])\n",
    "display(Math(r'\\nabla_{\\boldsymbol{x}, \\boldsymbol{x}}\\, f:'))\n",
    "display(hessian_f)"
   ]
  },
  {
   "cell_type": "markdown",
   "metadata": {},
   "source": [
    "## [Step 6](https://www.arpm.co/lab/redirect.php?permalink=s_multivariate_derivatives-implementation-step06): Calculate points on the iso-contour and tangent"
   ]
  },
  {
   "cell_type": "code",
   "execution_count": null,
   "metadata": {},
   "outputs": [],
   "source": [
    "# iso-contour\n",
    "theta = np.linspace(0, 2*np.pi, 100)\n",
    "x2_iso = np.sqrt(4*a/(4*a*c-b**2))*np.cos(theta)\n",
    "x1_iso = 1/np.sqrt(a)*np.sin(theta)-b/(2*a)*x2_iso\n",
    "\n",
    "# tangent\n",
    "x2_tan = [x_0[1]-0.5, x_0[1]+0.5]\n",
    "x1_tan = -grad_f_x0[1]/grad_f_x0[0]*(x2_tan-x_0[1])+x_0[0] "
   ]
  },
  {
   "cell_type": "markdown",
   "metadata": {},
   "source": [
    "## Plots"
   ]
  },
  {
   "cell_type": "code",
   "execution_count": null,
   "metadata": {},
   "outputs": [],
   "source": [
    "plt.style.use('arpm')\n",
    "\n",
    "fig = plt.figure(figsize=(1280.0/72.0, 720.0/72.0), dpi = 72.0)\n",
    "ax = plt.gca()\n",
    "\n",
    "# iso-contour\n",
    "plt.plot(x1_iso, x2_iso, label='iso-contour')\n",
    "\n",
    "# scaled gradient vector\n",
    "norm_grad_f_x0 = grad_f_x0/(2*np.linalg.norm(grad_f_x0))\n",
    "ax.plot([x1_0, x1_0+norm_grad_f_x0[0]], [x2_0, x2_0+norm_grad_f_x0[1]],\n",
    "        color='#043F72', label='gradient')\n",
    "ax.arrow(x1_0, x2_0, norm_grad_f_x0[0], norm_grad_f_x0[1],\n",
    "         color='#043F72', length_includes_head=True,\n",
    "         head_width=0.04, head_length=0.02,\n",
    "         lw=0.5)\n",
    "\n",
    "# tangent\n",
    "plt.plot(x1_tan, x2_tan, color='darkorange', ls='--',\n",
    "         label='tangent')\n",
    "\n",
    "# annotations\n",
    "ax.text(x1_0, x2_0, r'$\\boldsymbol{x}$', fontsize=17, color='black',\n",
    "        verticalalignment='top', horizontalalignment='right')\n",
    "ax.text(x1_tan[0], x1_tan[1], r'$df(\\boldsymbol{x})$', fontsize=17, color='black',\n",
    "        verticalalignment='top', horizontalalignment='right')\n",
    "ax.text(x1_0+norm_grad_f_x0[0]-0.08, x2_0+norm_grad_f_x0[1]-0.04,\n",
    "        r'$\\nabla_{\\boldsymbol{x}}f(\\boldsymbol{x})$', fontsize=17, color='black',\n",
    "        verticalalignment='top', horizontalalignment='right')\n",
    "ranglegrad = tuple(x_0 + 0.08*norm_grad_f_x0)\n",
    "rangletan = tuple(x_0 - 0.08*norm_grad_f_x0 + np.array([2*(0.08*norm_grad_f_x0)[0],0]))\n",
    "anga = np.rad2deg(np.arccos(np.abs(grad_f_x0[1])/np.linalg.norm(grad_f_x0)))\n",
    "angb = 180-anga\n",
    "consty = 'angle,angleA='+str(round(anga,2))+',angleB='+str(round(angb,2))+',rad=0'\n",
    "ax.annotate('', xy=ranglegrad, xycoords='data',\n",
    "            xytext=rangletan, textcoords='data',\n",
    "            arrowprops=dict(arrowstyle='-', color='#043F72', lw=0.5,\n",
    "                            connectionstyle=consty)\n",
    "            )\n",
    "\n",
    "plt.legend(fontsize=17, loc='upper left')\n",
    "plt.axhline()\n",
    "plt.axvline()\n",
    "lim = max(max(np.append(x1_iso, x2_iso)),1)*1.2\n",
    "plt.xlim([-lim, lim])\n",
    "ax.set_aspect('equal')\n",
    "plt.xlabel(r'$x_1$', fontsize=17)\n",
    "plt.ylabel(r'$x_2$', fontsize=17, rotation=0, labelpad=20)\n",
    "plt.xticks(fontsize=14)\n",
    "plt.yticks(fontsize=14)\n",
    "\n",
    "add_logo(fig, set_fig_size=False)\n",
    "plt.tight_layout()"
   ]
  }
 ],
 "metadata": {
  "jupytext": {
   "encoding": "# -*- coding: utf-8 -*-",
   "executable": "/usr/bin/env python3"
  },
  "kernelspec": {
   "display_name": "Python 3",
   "language": "python",
   "name": "python3"
  }
 },
 "nbformat": 4,
 "nbformat_minor": 4
}
