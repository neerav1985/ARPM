{
 "cells": [
  {
   "cell_type": "markdown",
   "metadata": {},
   "source": [
    "# S_ProjectionFractionalBM [<img src=\"https://www.arpm.co/lab/icons/icon_permalink.png\" width=30 height=30 style=\"display: inline;\">](https://www.arpm.co/lab/redirect.php?code=S_ProjectionFractionalBM&codeLang=Python)\n",
    "For details, see [here](https://www.arpm.co/lab/redirect.php?permalink=FracBMProj)."
   ]
  },
  {
   "cell_type": "markdown",
   "metadata": {},
   "source": [
    "## Prepare the environment"
   ]
  },
  {
   "cell_type": "code",
   "execution_count": null,
   "metadata": {},
   "outputs": [],
   "source": [
    "import os\n",
    "import os.path as path\n",
    "import sys\n",
    "\n",
    "sys.path.append(path.abspath('../../functions-legacy'))\n",
    "\n",
    "import numpy as np\n",
    "from numpy import arange, ones, zeros, cumsum, diff, linspace, sqrt, tile, r_\n",
    "from numpy import min as npmin, max as npmax\n",
    "\n",
    "from scipy.stats import norm\n",
    "from scipy.io import loadmat\n",
    "\n",
    "import matplotlib.pyplot as plt\n",
    "from matplotlib.pyplot import figure, plot, legend, ylabel, \\\n",
    "    xlabel, title\n",
    "\n",
    "plt.style.use('seaborn')\n",
    "\n",
    "from CONFIG import GLOBAL_DB, TEMPORARY_DB\n",
    "from ARPM_utils import save_plot\n",
    "from FPmeancov import FPmeancov\n",
    "from FitFractionalIntegration import FitFractionalIntegration\n",
    "from ffgn import ffgn"
   ]
  },
  {
   "cell_type": "markdown",
   "metadata": {},
   "source": [
    "## Upload database"
   ]
  },
  {
   "cell_type": "code",
   "execution_count": null,
   "metadata": {},
   "outputs": [],
   "source": [
    "try:\n",
    "    db = loadmat(os.path.join(GLOBAL_DB, 'db_SwapParRates'), squeeze_me=True)\n",
    "except FileNotFoundError:\n",
    "    db = loadmat(os.path.join(TEMPORARY_DB, 'db_SwapParRates'), squeeze_me=True)\n",
    "\n",
    "Rates = db['Rates']\n",
    "Dates = db['Dates']"
   ]
  },
  {
   "cell_type": "markdown",
   "metadata": {},
   "source": [
    "## Compute swap par rates increments"
   ]
  },
  {
   "cell_type": "code",
   "execution_count": null,
   "metadata": {},
   "outputs": [],
   "source": [
    "x = Rates[0]  # select time series corresponding to 1y par rates\n",
    "dates = Dates\n",
    "dx = diff(x)"
   ]
  },
  {
   "cell_type": "markdown",
   "metadata": {},
   "source": [
    "## Fit the parameters of fractional Brownian motion"
   ]
  },
  {
   "cell_type": "code",
   "execution_count": null,
   "metadata": {},
   "outputs": [],
   "source": [
    "lags = 50\n",
    "d0 = 0\n",
    "\n",
    "d = FitFractionalIntegration(dx, lags, d0)[0]\n",
    "h = d + 0.5  # Hurst coefficient\n",
    "\n",
    "t_ = len(dx)\n",
    "[mu, sigma2] = FPmeancov(dx.reshape(1,-1), ones((1, t_)) / t_)"
   ]
  },
  {
   "cell_type": "markdown",
   "metadata": {},
   "source": [
    "## Initialize projection variables"
   ]
  },
  {
   "cell_type": "code",
   "execution_count": null,
   "metadata": {},
   "outputs": [],
   "source": [
    "tau = 252  # investment horizon of 1 year (expressed in days)\n",
    "dt = 1  # infinitesimal step for simulations\n",
    "t_j = arange(0,tau+dt,dt)\n",
    "j_ = 15  # number of simulated paths"
   ]
  },
  {
   "cell_type": "code",
   "execution_count": null,
   "metadata": {},
   "outputs": [],
   "source": [
    "# ## Simulate paths\n",
    "h = 0.091924700639547 + 0.5"
   ]
  },
  {
   "cell_type": "code",
   "execution_count": null,
   "metadata": {},
   "outputs": [],
   "source": [
    "dW = ffgn(h, j_, len(t_j) - 1)\n",
    "W = r_['-1',zeros((j_, 1)), cumsum(dW, 1)]\n",
    "mu_t = mu*t_j\n",
    "\n",
    "X = tile(mu_t, (j_, 1)) + sqrt(sigma2*dt**(2*h))*W\n",
    "X = x[-1] + X"
   ]
  },
  {
   "cell_type": "markdown",
   "metadata": {},
   "source": [
    "## Projection to horizon"
   ]
  },
  {
   "cell_type": "code",
   "execution_count": null,
   "metadata": {},
   "outputs": [],
   "source": [
    "# moments\n",
    "mu_tau = x[-1] + mu.squeeze()*tau\n",
    "sigma_tau = sqrt(sigma2.squeeze()*tau ** (2*h))\n",
    "sigma_norm = sqrt(sigma2.squeeze()*tau)\n",
    "\n",
    "# analytical pdf\n",
    "l_ = 2000\n",
    "x_hor = linspace(mu_tau-4*sigma_tau,mu_tau+4*sigma_tau, l_)\n",
    "y_hor = norm.pdf(x_hor, mu_tau, sigma_tau)"
   ]
  },
  {
   "cell_type": "markdown",
   "metadata": {},
   "source": [
    "## Generate figure"
   ]
  },
  {
   "cell_type": "code",
   "execution_count": null,
   "metadata": {},
   "outputs": [],
   "source": [
    "s_ = 42  # number of plotted observation before projecting time\n",
    "\n",
    "# axes settings\n",
    "m = min([npmin(x[- s_:]), x[-1]-4*sigma_tau, npmin(X)])\n",
    "M = max([npmax(x[- s_:]), x[-1] + 4*sigma_tau, npmax(X)])\n",
    "t = arange(-s_,tau+1)\n",
    "max_scale = tau / 4\n",
    "scale = max_scale / npmax(y_hor)\n",
    "\n",
    "# preliminary computations\n",
    "mu_red = x[-1] + mu_t\n",
    "sigma_red = sqrt(sigma2*t_j**(2*h))\n",
    "redline1 = mu_red + 2*sigma_red\n",
    "redline2 = mu_red - 2*sigma_red\n",
    "sigma_blue = sqrt(sigma2*t_j)\n",
    "blueline1 = mu_red + 2*sigma_blue\n",
    "blueline2 = mu_red - 2*sigma_blue\n",
    "\n",
    "f = figure()\n",
    "\n",
    "# color settings\n",
    "lgrey = [0.8, 0.8, 0.8]  # light grey\n",
    "dgrey = [0.2, 0.2, 0.2]  # dark grey\n",
    "lblue = [0.27, 0.4, 0.9]  # light blue\n",
    "\n",
    "plt.axis([t[0], t[-1] + max_scale, m, M])\n",
    "xlabel('time (days)')\n",
    "ylabel('Risk driver')\n",
    "plt.grid(False)\n",
    "title('Fractional Brownian motion')\n",
    "\n",
    "# simulated paths\n",
    "for j in range(j_):\n",
    "    plot(t_j, X[j,:].T, color = lgrey, lw = 2)\n",
    "\n",
    "# standard deviation lines\n",
    "p_blue_1 = plot(t_j, blueline1[0], color='b', lw = 2)  # red bars (+2 std dev)\n",
    "p_blue_2 = plot(t_j, blueline2[0], color='b', lw = 2)  # red bars (-2std dev)\n",
    "p_red_1 = plot(t_j, redline1[0], color='r', lw = 2)  # red bars (+2 std dev)\n",
    "p_red_2 = plot(t_j, redline2[0], color='r', lw = 2)  # red bars (-2std dev)\n",
    "p_mu = plot([0, tau], [x[-1], mu_tau], color='g', lw = 2)  # expectation\n",
    "\n",
    "# histogram pdf plot\n",
    "for k in range(len(y_hor)):\n",
    "    plot([tau, tau+y_hor[k]*scale], [x_hor[k], x_hor[k]], color=lgrey, lw=2)\n",
    "\n",
    "f_border = plot(tau+y_hor*scale, x_hor, color=dgrey, lw=1)\n",
    "\n",
    "# plot of last s_ observations\n",
    "for k in range(s_):\n",
    "    plot([t[k], t[k+1]], [x[-s_+k-1], x[-s_+k]], color=lgrey, lw=2)\n",
    "    plot(t[k], x[-s_+k-1], color='b',linestyle='none',marker= '*', markersize=3)\n",
    "\n",
    "plot(t[s_], x[-1], color='b',linestyle='none',marker= '.', markersize=3)\n",
    "\n",
    "# leg\n",
    "#\n",
    "legend(handles=[p_mu[0], p_red_1[0], f_border[0], p_blue_1[0]],labels=['expectation','+ / - 2 st.deviation', 'horizon pdf','+ / -2 st.dev Brownian motion']);\n",
    "# save_plot(ax=plt.gca(), extension='png', scriptname=os.path.basename('.')[:-3], count=plt.get_fignums()[-1])\n"
   ]
  }
 ],
 "metadata": {
  "jupytext": {
   "encoding": "# -*- coding: utf-8 -*-",
   "executable": "/usr/bin/env python3"
  },
  "kernelspec": {
   "display_name": "Python 3",
   "language": "python",
   "name": "python3"
  }
 },
 "nbformat": 4,
 "nbformat_minor": 4
}
