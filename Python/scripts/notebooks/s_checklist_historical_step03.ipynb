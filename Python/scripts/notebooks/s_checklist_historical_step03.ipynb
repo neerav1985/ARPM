{
 "cells": [
  {
   "cell_type": "markdown",
   "metadata": {},
   "source": [
    "# s_checklist_historical_step03 [<img src=\"https://www.arpm.co/lab/icons/icon_permalink.png\" width=30 height=30 style=\"display: inline;\">](https://www.arpm.co/lab/redirect.php?code=s_checklist_historical_step03&codeLang=Python)\n",
    "For details, see [here](https://www.arpm.co/lab/redirect.php?permalink=ex-vue-3-historical)."
   ]
  },
  {
   "cell_type": "code",
   "execution_count": null,
   "metadata": {},
   "outputs": [],
   "source": [
    "import numpy as np\n",
    "import pandas as pd\n",
    "import matplotlib.pyplot as plt\n",
    "import matplotlib.dates as mdates\n",
    "from pandas.plotting import register_matplotlib_converters\n",
    "register_matplotlib_converters()\n",
    "\n",
    "from arpym.estimation.conditional_fp import conditional_fp\n",
    "from arpym.estimation.effective_num_scenarios import effective_num_scenarios\n",
    "from arpym.estimation.exp_decay_fp import exp_decay_fp\n",
    "from arpym.statistics.scoring import scoring\n",
    "from arpym.statistics.smoothing import smoothing\n",
    "from arpym.tools.colormap_fp import colormap_fp\n",
    "from arpym.tools.histogram_sp import histogram_sp\n",
    "from arpym.tools.logo import add_logo"
   ]
  },
  {
   "cell_type": "markdown",
   "metadata": {},
   "source": [
    "## [Input parameters](https://www.arpm.co/lab/redirect.php?permalink=s_checklist_historical_step03-parameters)"
   ]
  },
  {
   "cell_type": "code",
   "execution_count": null,
   "metadata": {},
   "outputs": [],
   "source": [
    "# flexible probabilities parameters\n",
    "tau_hl_prior = 4*252  # half-life parameter for time conditioning (days)\n",
    "tau_hl_smooth = 21  # half-life parameter for VIX smoothing (days)\n",
    "tau_hl_score = 5*21  # half-life parameter for VIX scoring (days)\n",
    "alpha = 0.7  # proportion of obs. included in range for state conditioning\n",
    "\n",
    "# modeled invariant to plot\n",
    "i_plot = 1"
   ]
  },
  {
   "cell_type": "markdown",
   "metadata": {},
   "source": [
    "## [Step 0](https://www.arpm.co/lab/redirect.php?permalink=s_checklist_historical_step03-implementation-step00): Load data"
   ]
  },
  {
   "cell_type": "code",
   "execution_count": null,
   "metadata": {},
   "outputs": [],
   "source": [
    "path = '~/databases/temporary-databases/'\n",
    "\n",
    "# VIX (used for time-state conditioning)\n",
    "vix_path = '~/databases/global-databases/derivatives/db_vix/data.csv'\n",
    "db_vix = pd.read_csv(vix_path, usecols=['date', 'VIX_close'],\n",
    "                     index_col=0, parse_dates=True)\n",
    "\n",
    "# Quest for invariance\n",
    "# invariant series\n",
    "db_invariants_series = pd.read_csv(path+'db_invariants_series_historical.csv',\n",
    "                                   index_col=0, parse_dates=True)\n",
    "epsi = db_invariants_series.values\n",
    "dates = db_invariants_series.index\n",
    "t_, i_ = np.shape(epsi)\n",
    "risk_drivers_names = db_invariants_series.columns"
   ]
  },
  {
   "cell_type": "markdown",
   "metadata": {},
   "source": [
    "## [Step 1](https://www.arpm.co/lab/redirect.php?permalink=s_checklist_historical_step03-implementation-step01): Define market state indicator"
   ]
  },
  {
   "cell_type": "code",
   "execution_count": null,
   "metadata": {},
   "outputs": [],
   "source": [
    "# time and state conditioning on smoothed and scored VIX returns\n",
    "# state indicator: VIX compounded return realizations\n",
    "db_vix['c_vix'] = np.log(db_vix).diff()\n",
    "\n",
    "# extract data for analysis period\n",
    "c_vix = db_vix.c_vix[dates].values\n",
    "\n",
    "# smoothing\n",
    "z_smooth = smoothing(c_vix, tau_hl_smooth)\n",
    "\n",
    "# scoring\n",
    "z = scoring(z_smooth, tau_hl_score)"
   ]
  },
  {
   "cell_type": "markdown",
   "metadata": {},
   "source": [
    "## [Step 2](https://www.arpm.co/lab/redirect.php?permalink=s_checklist_historical_step03-implementation-step02): Set the flexible probabilities"
   ]
  },
  {
   "cell_type": "code",
   "execution_count": null,
   "metadata": {},
   "outputs": [],
   "source": [
    "# target value\n",
    "z_star = z[-1]\n",
    "# prior probabilities\n",
    "p_prior = exp_decay_fp(t_, tau_hl_prior)\n",
    "# posterior probabilities\n",
    "p = conditional_fp(z, z_star, alpha, p_prior)\n",
    "# effective number of scenarios\n",
    "ens = effective_num_scenarios(p)\n",
    "\n",
    "print('Effective number of scenarios is', int(round(ens)))"
   ]
  },
  {
   "cell_type": "markdown",
   "metadata": {},
   "source": [
    "## [Step 3](https://www.arpm.co/lab/redirect.php?permalink=s_checklist_historical_step03-implementation-step03): Save databases"
   ]
  },
  {
   "cell_type": "code",
   "execution_count": null,
   "metadata": {},
   "outputs": [],
   "source": [
    "# flexible probabilities\n",
    "out = pd.DataFrame({'dates' : pd.Series(dates), 'p': pd.Series(p)})\n",
    "out.to_csv(path+'db_estimation_flexprob.csv', index=None)\n",
    "del out\n",
    "\n",
    "# market indicator for flexible probabilities\n",
    "out = pd.DataFrame({'z': z}, index=dates)\n",
    "out.index.name= 'dates'\n",
    "out.to_csv(path+'db_estimation_z.csv')\n",
    "del out"
   ]
  },
  {
   "cell_type": "markdown",
   "metadata": {},
   "source": [
    "## Plots"
   ]
  },
  {
   "cell_type": "code",
   "execution_count": null,
   "metadata": {},
   "outputs": [],
   "source": [
    "plt.style.use('arpm')\n",
    "\n",
    "# VIX\n",
    "myFmt = mdates.DateFormatter('%d-%b-%Y')\n",
    "date_tick = np.arange(0, t_-1, 200)\n",
    "fig1 = plt.figure(figsize=(1280.0/72.0, 720.0/72.0), dpi=72.0)\n",
    "ax1 = fig1.add_subplot(311)\n",
    "plt.plot(dates, z, color=[0, 0, 0], lw=1.15)\n",
    "plt.title('Market state', fontweight='bold', fontsize=20)\n",
    "plt.xticks(dates[date_tick], fontsize=14)\n",
    "plt.yticks(fontsize=14)\n",
    "plt.xlim([min(dates), max(dates)])\n",
    "ax1.xaxis.set_major_formatter(myFmt)\n",
    "plt.plot(dates, z_star*np.ones(len(dates)), color='red', lw=1.25)\n",
    "plt.legend(['Market state', 'Target value'], fontsize=17)\n",
    "\n",
    "# flexible probabilities\n",
    "ax2 = fig1.add_subplot(312)\n",
    "plt.bar(dates, p.flatten(), color='gray')\n",
    "plt.xlim([min(dates), max(dates)])\n",
    "plt.title('Time and state conditioning flexible probabilities',\n",
    "          fontweight='bold', fontsize=20)\n",
    "plt.xticks(dates[date_tick], fontsize=14)\n",
    "plt.yticks([], fontsize=14)\n",
    "plt.xlim([min(dates), max(dates)])\n",
    "ax2.xaxis.set_major_formatter(myFmt)\n",
    "\n",
    "# flexible probabilities scatter for invariant i_plot\n",
    "ax3 = fig1.add_subplot(313)\n",
    "grey_range = np.r_[np.arange(0, 0.6 + 0.01, 0.01), .85]\n",
    "[color_map, p_colors] = colormap_fp(p, np.min(p),\n",
    "                                    np.max(p), grey_range,\n",
    "                                    0, 10, [10, 0])\n",
    "p_colors = p_colors.T\n",
    "\n",
    "plt.xticks(dates[date_tick], fontsize=14)\n",
    "plt.yticks(fontsize=14)\n",
    "plt.xlim([min(dates), max(dates)])\n",
    "plt.scatter(dates, epsi[:, i_plot-1], s=30, c=p_colors, marker='.',\n",
    "            cmap=color_map)\n",
    "plt.title(risk_drivers_names[i_plot-1] + ' observation weighting',\n",
    "          fontweight='bold', fontsize=20)\n",
    "ax3.xaxis.set_major_formatter(myFmt)\n",
    "add_logo(fig1, location=1, set_fig_size=False)\n",
    "fig1.tight_layout()\n",
    "\n",
    "# marginal distributions\n",
    "n_bins = 10 * np.log(t_)\n",
    "\n",
    "hfp = plt.figure(figsize=(1280.0/72.0, 720.0/72.0), dpi=72.0)\n",
    "ax = hfp.add_subplot(111)\n",
    "\n",
    "# HFP histogram\n",
    "f_eps, x_eps = histogram_sp(epsi[:, i_plot-1],\n",
    "                            p=p,\n",
    "                            k_=n_bins)\n",
    "bar_width = x_eps[1] - x_eps[0]\n",
    "plt.bar(x_eps, f_eps.flatten(), width=bar_width, fc=[0.7, 0.7, 0.7],\n",
    "        edgecolor=[0.5, 0.5, 0.5])\n",
    "\n",
    "plt.title(risk_drivers_names[i_plot-1] + ' invariant distribution',\n",
    "         fontweight='bold', fontsize=20)\n",
    "plt.xlabel('Invariant', fontsize=17)\n",
    "add_logo(hfp, location=1, set_fig_size=False)\n",
    "hfp.tight_layout()"
   ]
  }
 ],
 "metadata": {
  "kernelspec": {
   "display_name": "Python 3",
   "language": "python",
   "name": "python3"
  }
 },
 "nbformat": 4,
 "nbformat_minor": 4
}
