{
 "cells": [
  {
   "cell_type": "markdown",
   "metadata": {},
   "source": [
    "# s_pricing_equity_pl [<img src=\"https://www.arpm.co/lab/icons/icon_permalink.png\" width=30 height=30 style=\"display: inline;\">](https://www.arpm.co/lab/redirect.php?code=s_pricing_equity_pl&codeLang=Python)\n",
    "For details, see [here](https://www.arpm.co/lab/redirect.php?permalink=eb-4-equity-pl)."
   ]
  },
  {
   "cell_type": "code",
   "execution_count": null,
   "metadata": {},
   "outputs": [],
   "source": [
    "import numpy as np\n",
    "import pandas as pd\n",
    "import matplotlib.pyplot as plt\n",
    "\n",
    "from arpym.tools.logo import add_logo"
   ]
  },
  {
   "cell_type": "markdown",
   "metadata": {},
   "source": [
    "## [Step 0](https://www.arpm.co/lab/redirect.php?permalink=s_pricing_equity_pl-implementation-step00): Import data"
   ]
  },
  {
   "cell_type": "code",
   "execution_count": null,
   "metadata": {},
   "outputs": [],
   "source": [
    "data = pd.read_csv('~/databases/temporary-databases/db_stocks_proj_bm.csv')\n",
    "j_ =  data['j_'][0]\n",
    "mu =  data['mu_hat'][0]\n",
    "sig2 =  data['sig2_hat'][0]\n",
    "# scenario-probability distribution of log-value\n",
    "x_tnow_thor = data['x_tnow_thor'].values\n",
    "x_tnow_thor = x_tnow_thor.reshape((j_, -1))\n",
    "t_m = data['t_m']\n",
    "t_m.dropna(inplace=True)\n",
    "t_m = t_m.values"
   ]
  },
  {
   "cell_type": "markdown",
   "metadata": {},
   "source": [
    "## [Step 1](https://www.arpm.co/lab/redirect.php?permalink=s_pricing_equity_pl-implementation-step01): Equity P&L"
   ]
  },
  {
   "cell_type": "code",
   "execution_count": null,
   "metadata": {},
   "outputs": [],
   "source": [
    "x_t_now = x_tnow_thor[0, 0]\n",
    "# current value of AMZN\n",
    "v_t_now = np.exp(x_t_now)\n",
    "# equity P&L\n",
    "pl_tnow_thor = v_t_now*(np.exp(x_tnow_thor-x_t_now) - 1)"
   ]
  },
  {
   "cell_type": "markdown",
   "metadata": {},
   "source": [
    "## [Step 2](https://www.arpm.co/lab/redirect.php?permalink=s_pricing_equity_pl-implementation-step02): Analytical P&L (shifted log-normal) at the horizon"
   ]
  },
  {
   "cell_type": "code",
   "execution_count": null,
   "metadata": {},
   "outputs": [],
   "source": [
    "l_ = 2000  # number of points\n",
    "pl_grid_hor = np.linspace(np.min(pl_tnow_thor)-20,\n",
    "                          np.max(pl_tnow_thor)+20, l_)\n",
    "# log-normal parameters of the horizon P&L\n",
    "mu_pl_thor = x_t_now+mu*t_m[-1]\n",
    "sig_pl_thor = np.sqrt(sig2*t_m[-1])\n",
    "# analytical pdf\n",
    "v_thor = pl_grid_hor + v_t_now\n",
    "y_pdf_hor = (np.exp(-(np.log(v_thor)-mu_pl_thor)**2/(2*sig_pl_thor**2))\n",
    "            /(v_thor * sig_pl_thor * np.sqrt(2 * np.pi)))"
   ]
  },
  {
   "cell_type": "markdown",
   "metadata": {},
   "source": [
    "## [Step 3](https://www.arpm.co/lab/redirect.php?permalink=s_pricing_equity_pl-implementation-step03): P&L expectations and standard deviations"
   ]
  },
  {
   "cell_type": "code",
   "execution_count": null,
   "metadata": {},
   "outputs": [],
   "source": [
    "# expectation\n",
    "mu_pl = v_t_now*(np.exp((mu+0.5*sig2)*t_m)-1)\n",
    "# standard deviation\n",
    "sig_pl = v_t_now*np.exp((mu+0.5*sig2)*t_m) * \\\n",
    "         np.sqrt(np.exp(sig2*t_m)-1)"
   ]
  },
  {
   "cell_type": "markdown",
   "metadata": {},
   "source": [
    "## [Step 4](https://www.arpm.co/lab/redirect.php?permalink=s_pricing_equity_pl-implementation-step04): Save databases"
   ]
  },
  {
   "cell_type": "code",
   "execution_count": null,
   "metadata": {},
   "outputs": [],
   "source": [
    "output = {'v_t_now': v_t_now,\n",
    "          'pl_tnow_thor': pd.Series(pl_tnow_thor.reshape(-1))\n",
    "          }\n",
    "df = pd.DataFrame(output)\n",
    "df.to_csv('~/databases/temporary-databases/db_equity_pl.csv')"
   ]
  },
  {
   "cell_type": "markdown",
   "metadata": {},
   "source": [
    "## Plots"
   ]
  },
  {
   "cell_type": "code",
   "execution_count": null,
   "metadata": {},
   "outputs": [],
   "source": [
    "# preliminary settings\n",
    "plt.style.use('arpm')\n",
    "lgrey = [0.8, 0.8, 0.8]  # light grey\n",
    "dgrey = [0.2, 0.2, 0.2]  # dark grey\n",
    "\n",
    "s_ = 0  # number of plotted observation before projecting time\n",
    "\n",
    "fig = plt.figure(figsize=(1280.0/72.0, 720.0/72.0), dpi=72.0)\n",
    "\n",
    "# axes settings\n",
    "t_line = np.arange(0, t_m[-1] + 0.01, 0.01)\n",
    "t = np.concatenate((np.arange(-s_, 0), t_m))\n",
    "max_scale = t_m[-1] / 4\n",
    "scale = max_scale*0.96/np.max(y_pdf_hor)\n",
    "\n",
    "plt.axis([t[0], t[-1] + max_scale, np.min(pl_tnow_thor)-20,\n",
    "          np.max(pl_tnow_thor)+20])\n",
    "plt.xlabel('time (days)', fontsize=18)\n",
    "plt.ylabel('P&L', fontsize=18)\n",
    "plt.yticks()\n",
    "plt.grid(False)\n",
    "plt.title('Equity P&L', fontsize=20, fontweight='bold')\n",
    "\n",
    "# simulated paths\n",
    "plt.plot(t_m, pl_tnow_thor.T, color=lgrey, lw=2)\n",
    "\n",
    "# expectation line\n",
    "mu_line = v_t_now*(np.exp((mu+0.5*sig2)*t_line)-1)\n",
    "plt.plot(t_line, mu_line, color='g',\n",
    "         label='expectation', lw=2)\n",
    "# standard deviation lines\n",
    "num_sd = 2\n",
    "sig_line = v_t_now*np.exp((mu+0.5*sig2)*t_line) * \\\n",
    "           np.sqrt(np.exp(sig2*t_line)-1)\n",
    "plt.plot(t_line, mu_line +  num_sd*sig_line, color='r',\n",
    "         label='+ / - %d st.deviation' %num_sd, lw=2)\n",
    "plt.plot(t_line, mu_line - num_sd*sig_line, color='r', lw=2)\n",
    "\n",
    "# analytical pdf at the horizon\n",
    "for k, y in enumerate(y_pdf_hor):\n",
    "    plt.plot([t_m[-1], t_m[-1]+y_pdf_hor[k]*scale],\n",
    "             [pl_grid_hor[k], pl_grid_hor[k]],\n",
    "             color=lgrey, lw=2)\n",
    "\n",
    "plt.plot(t_m[-1] + y_pdf_hor*scale, pl_grid_hor,\n",
    "         color=dgrey, label='horizon pdf', lw=1)\n",
    "\n",
    "# legend\n",
    "plt.legend(loc=2, fontsize=17)\n",
    "add_logo(fig, location=4, alpha=0.8, set_fig_size=False)"
   ]
  }
 ],
 "metadata": {
  "jupytext": {
   "encoding": "# -*- coding: utf-8 -*-",
   "executable": "/usr/bin/env python3"
  },
  "kernelspec": {
   "display_name": "Python 3",
   "language": "python",
   "name": "python3"
  }
 },
 "nbformat": 4,
 "nbformat_minor": 4
}
