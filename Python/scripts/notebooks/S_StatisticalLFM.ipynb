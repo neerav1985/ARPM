{
 "cells": [
  {
   "cell_type": "markdown",
   "metadata": {},
   "source": [
    "# S_StatisticalLFM [<img src=\"https://www.arpm.co/lab/icons/icon_permalink.png\" width=30 height=30 style=\"display: inline;\">](https://www.arpm.co/lab/redirect.php?code=S_StatisticalLFM&codeLang=Python)\n",
    "For details, see [here](https://www.arpm.co/lab/redirect.php?permalink=eb-lfmhid-cor)."
   ]
  },
  {
   "cell_type": "markdown",
   "metadata": {},
   "source": [
    "## Prepare the environment"
   ]
  },
  {
   "cell_type": "code",
   "execution_count": null,
   "metadata": {},
   "outputs": [],
   "source": [
    "import os.path as path\n",
    "import sys\n",
    "\n",
    "sys.path.append(path.abspath('../../functions-legacy'))\n",
    "\n",
    "import numpy as np\n",
    "from numpy import array, zeros, sort, argsort, diag, eye, sqrt, r_\n",
    "from numpy.linalg import eig\n",
    "\n",
    "import matplotlib.pyplot as plt\n",
    "\n",
    "plt.style.use('seaborn')"
   ]
  },
  {
   "cell_type": "markdown",
   "metadata": {},
   "source": [
    "## Computations"
   ]
  },
  {
   "cell_type": "code",
   "execution_count": null,
   "metadata": {},
   "outputs": [],
   "source": [
    "# set inputs\n",
    "m_X = array([[1], [-1]])\n",
    "s2_X = array([[4.1, 1.2], [1.2, 3.4]])\n",
    "\n",
    "n_ = m_X.shape[0]  # target dimension\n",
    "k_ = 1  # number of factors\n",
    "i_n = eye(n_)\n",
    "\n",
    "# compute correlation's spectral decomposition\n",
    "s_X = sqrt(diag(s2_X))\n",
    "c2 = np.diagflat(1 / s_X)@s2_X@np.diagflat(1 / s_X)  # correlation matrix\n",
    "\n",
    "lambda2, e = eig(c2)\n",
    "\n",
    "lambda2, order = sort(lambda2)[::-1], argsort(lambda2)[::-1]  # sort eigenvalues\n",
    "e = e[:, order]  # sort eigenvectors\n",
    "\n",
    "# compute optimal coefficients\n",
    "e_k = e[:, :k_]\n",
    "beta = np.diagflat(s_X)@e_k\n",
    "gamma = e_k.T@np.diagflat(1 / s_X)\n",
    "alpha = (i_n - beta@gamma)@m_X\n",
    "\n",
    "# compute the parameters of the factor distribution\n",
    "m_Z = gamma@m_X\n",
    "s2_Z = gamma@s2_X@gamma.T\n",
    "\n",
    "# joint distribution of residulas U and factor Z\n",
    "m = r_[i_n - beta@gamma, gamma]\n",
    "\n",
    "m_jointUZ = m@m_X - r_[alpha, zeros((k_, 1))]  # joint expectation\n",
    "s2_jointUZ = m@s2_X@m.T  # joint covariance"
   ]
  }
 ],
 "metadata": {
  "jupytext": {
   "encoding": "# -*- coding: utf-8 -*-",
   "executable": "/usr/bin/env python3"
  },
  "kernelspec": {
   "display_name": "Python 3",
   "language": "python",
   "name": "python3"
  }
 },
 "nbformat": 4,
 "nbformat_minor": 4
}
