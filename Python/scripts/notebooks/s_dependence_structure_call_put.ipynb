{
 "cells": [
  {
   "cell_type": "markdown",
   "metadata": {},
   "source": [
    "# s_dependence_structure_call_put [<img src=\"https://www.arpm.co/lab/icons/icon_permalink.png\" width=30 height=30 style=\"display: inline;\">](https://www.arpm.co/lab/redirect.php?code=s_dependence_structure_call_put&codeLang=Python)\n",
    "For details, see [here](https://www.arpm.co/lab/redirect.php?permalink=eb-smooth-approx-call-put)."
   ]
  },
  {
   "cell_type": "code",
   "execution_count": null,
   "metadata": {},
   "outputs": [],
   "source": [
    "import numpy as np\n",
    "import matplotlib.pyplot as plt\n",
    "import matplotlib.gridspec as gridspec\n",
    "\n",
    "from arpym.statistics.cop_marg_sep import cop_marg_sep\n",
    "from arpym.statistics.meancov_sp import meancov_sp\n",
    "from arpym.statistics.simulate_normal import simulate_normal\n",
    "from arpym.statistics.schweizer_wolff import schweizer_wolff\n",
    "from arpym.estimation.cov_2_corr import cov_2_corr\n",
    "from arpym.tools.regularized_payoff import regularized_payoff\n",
    "from arpym.tools.logo import add_logo"
   ]
  },
  {
   "cell_type": "markdown",
   "metadata": {},
   "source": [
    "## [Input parameters](https://www.arpm.co/lab/redirect.php?permalink=s_dependence_structure_call_put-parameters)"
   ]
  },
  {
   "cell_type": "code",
   "execution_count": null,
   "metadata": {},
   "outputs": [],
   "source": [
    "mu = np.array([1, 3])  # location parameter\n",
    "# dispersion parameters\n",
    "rho_12 = -0.2\n",
    "sig_1 = 0.5\n",
    "sig_2 = 0.3\n",
    "j_ = 10**2  # number of scenarios\n",
    "k_strk = 2.71  # strike\n",
    "h = 0.5  # aproximation level"
   ]
  },
  {
   "cell_type": "markdown",
   "metadata": {},
   "source": [
    "# Step 1: Generate log-normal scenarios"
   ]
  },
  {
   "cell_type": "code",
   "execution_count": null,
   "metadata": {},
   "outputs": [],
   "source": [
    "sig2 = np.array([[sig_1**2, rho_12*sig_1*sig_2], \n",
    "                 [rho_12*sig_1*sig_2, sig_2**2]])\n",
    "x = np.exp(simulate_normal(mu, sig2, j_))  # lognormal scenarios"
   ]
  },
  {
   "cell_type": "markdown",
   "metadata": {},
   "source": [
    "## [Step 2](https://www.arpm.co/lab/redirect.php?permalink=s_dependence_structure_call_put-implementation-step02): Compute call and put payoffs"
   ]
  },
  {
   "cell_type": "code",
   "execution_count": null,
   "metadata": {},
   "outputs": [],
   "source": [
    "v_put = np.maximum(k_strk - x[:, 0], 0)  # put payoff\n",
    "v_call = np.maximum(x[:, 0] - k_strk, 0)  # call payoff\n",
    "v_put_h = regularized_payoff(x[:, 0], k_strk, h, method='put')  # regularized put payoff\n",
    "v_call_h = regularized_payoff(x[:, 0], k_strk, h, method='call')  # regularized call payoff"
   ]
  },
  {
   "cell_type": "markdown",
   "metadata": {},
   "source": [
    "## [Step 3](https://www.arpm.co/lab/redirect.php?permalink=s_dependence_structure_call_put-implementation-step03):  Compute Schweizer and Wolff"
   ]
  },
  {
   "cell_type": "code",
   "execution_count": null,
   "metadata": {},
   "outputs": [],
   "source": [
    "# Schweizer and Wolff measure\n",
    "sw_x1x2 = schweizer_wolff(x)\n",
    "print(sw_x1x2)\n",
    "sw_x1v_put_h = 1\n",
    "sw_x1v_call_h = 1\n",
    "sw_x2v_put_h = schweizer_wolff(x)\n",
    "sw_x2v_call_h = schweizer_wolff(x)"
   ]
  },
  {
   "cell_type": "markdown",
   "metadata": {},
   "source": [
    "## [Step 4](https://www.arpm.co/lab/redirect.php?permalink=s_dependence_structure_call_put-implementation-step04):  Compute Kendal's tau"
   ]
  },
  {
   "cell_type": "code",
   "execution_count": null,
   "metadata": {},
   "outputs": [],
   "source": [
    "# sample based Kendall's tau\n",
    "kend_x = 2 / np.pi * np.arcsin(rho_12)\n",
    "kend_x1v_put_h = -1\n",
    "kend_x1v_call_h = 1\n",
    "kend_x2v_put_h = -2 / np.pi * np.arcsin(rho_12)\n",
    "kend_x2v_call_h = 2 / np.pi * np.arcsin(rho_12)"
   ]
  },
  {
   "cell_type": "markdown",
   "metadata": {},
   "source": [
    "## [Step 5](https://www.arpm.co/lab/redirect.php?permalink=s_dependence_structure_call_put-implementation-step05): Compute Spearman rho"
   ]
  },
  {
   "cell_type": "code",
   "execution_count": null,
   "metadata": {},
   "outputs": [],
   "source": [
    "# grades scenarios\n",
    "u_x, _, _ = cop_marg_sep(x)\n",
    "u_v_p, _, _ = cop_marg_sep(v_put_h)\n",
    "u_v_c, _, _ = cop_marg_sep(v_call_h)\n",
    "\n",
    "# Spearman's rho matrix\n",
    "_, cov_u = meancov_sp(np.c_[u_x[:, 0], u_v_p, u_v_c, u_x[:, 1]])\n",
    "spear, _ = cov_2_corr(cov_u)"
   ]
  },
  {
   "cell_type": "markdown",
   "metadata": {},
   "source": [
    "## [Step 6](https://www.arpm.co/lab/redirect.php?permalink=s_dependence_structure_call_put-implementation-step06): Compute correlation"
   ]
  },
  {
   "cell_type": "code",
   "execution_count": null,
   "metadata": {},
   "outputs": [],
   "source": [
    "_, cov = meancov_sp(np.c_[x[:, 0], v_put_h, v_call_h, x[:, 1]])\n",
    "corr, _ = cov_2_corr(cov)"
   ]
  },
  {
   "cell_type": "markdown",
   "metadata": {},
   "source": [
    "## Plots"
   ]
  },
  {
   "cell_type": "code",
   "execution_count": null,
   "metadata": {},
   "outputs": [],
   "source": [
    "plt.style.use('arpm')\n",
    "\n",
    "f = plt.figure()\n",
    "mydpi = 72.0\n",
    "f = plt.figure(figsize=(1280.0/mydpi, 720.0/mydpi), dpi=mydpi)\n",
    "spec = gridspec.GridSpec(ncols=2, nrows=2)\n",
    "\n",
    "f_ax1 = f.add_subplot(spec[:, 0])\n",
    "plt.plot(np.sort(x[:, 0]), -np.sort(-v_put), color='b', lw=2, label=r'$V^{put}$')\n",
    "plt.plot(np.sort(x[:, 0]), -np.sort(-v_put_h), color='r', lw=2, label=r'$V_{h}^{put}$')\n",
    "plt.legend(loc=9)\n",
    "plt.xlabel('Strike')\n",
    "plt.ylabel('Payoff')\n",
    "plt.title('Put option')\n",
    "\n",
    "f_ax2 = f.add_subplot(spec[:, 1])\n",
    "plt.plot(np.sort(x[:, 0]), np.sort(v_call), color='b', lw=2, label=r'$V^{call}$')\n",
    "plt.plot(np.sort(x[:, 0]), np.sort(v_call_h), color='r', lw=2, label=r'$V_{h}^{call}$')\n",
    "plt.legend(loc=9)\n",
    "plt.xlabel('Strike')\n",
    "plt.ylabel('Payoff')\n",
    "plt.title('Call option')\n",
    "\n",
    "add_logo(f, location=4, set_fig_size=False)"
   ]
  }
 ],
 "metadata": {
  "jupytext": {
   "encoding": "# -*- coding: utf-8 -*-",
   "executable": "/usr/bin/env python3"
  },
  "kernelspec": {
   "display_name": "Python 3",
   "language": "python",
   "name": "python3"
  }
 },
 "nbformat": 4,
 "nbformat_minor": 4
}
