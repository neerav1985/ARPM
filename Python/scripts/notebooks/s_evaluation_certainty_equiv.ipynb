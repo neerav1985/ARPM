{
 "cells": [
  {
   "cell_type": "markdown",
   "metadata": {},
   "source": [
    "# s_evaluation_certainty_equiv [<img src=\"https://www.arpm.co/lab/icons/icon_permalink.png\" width=30 height=30 style=\"display: inline;\">](https://www.arpm.co/lab/redirect.php?code=s_evaluation_certainty_equiv&codeLang=Python)\n",
    "For details, see [here](https://www.arpm.co/lab/redirect.php?permalink=EBcertequivexputilfun)."
   ]
  },
  {
   "cell_type": "code",
   "execution_count": null,
   "metadata": {},
   "outputs": [],
   "source": [
    "import numpy as np\n",
    "import matplotlib.pyplot as plt\n",
    "\n",
    "from arpym.tools.histogram_sp import histogram_sp\n",
    "from arpym.statistics.simulate_normal import simulate_normal\n",
    "from arpym.tools.transpose_square_root import transpose_square_root\n",
    "from arpym.tools.logo import add_logo"
   ]
  },
  {
   "cell_type": "markdown",
   "metadata": {},
   "source": [
    "## [Input parameters](https://www.arpm.co/lab/redirect.php?permalink=s_evaluation_certainty_equiv-parameters)"
   ]
  },
  {
   "cell_type": "code",
   "execution_count": null,
   "metadata": {},
   "outputs": [],
   "source": [
    "j_ = 10**5  # number of scenarios\n",
    "v_tnow = np.array([1, 1])  # current values\n",
    "mu = np.array([0, 0])  # instruments P&L's expectations\n",
    "h = np.array([45, 55])  # portfolio holdings\n",
    "lambda_ = np.array([1/150, 1/200, 1/300])  # risk aversion parameters\n",
    "rho = -0.5  # correlation parameter\n",
    "# standard deviations appearing in the P&L's distributions\n",
    "sig_11, sig_22 = 0.1, 0.3"
   ]
  },
  {
   "cell_type": "markdown",
   "metadata": {},
   "source": [
    "## [Step 1](https://www.arpm.co/lab/redirect.php?permalink=s_evaluation_certainty_equiv-implementation-step01): Scenarios for the instruments P&L's"
   ]
  },
  {
   "cell_type": "code",
   "execution_count": null,
   "metadata": {},
   "outputs": [],
   "source": [
    "# covariance parameter\n",
    "sig2 = np.array([[(sig_11) ** 2, rho*sig_11*sig_22],\n",
    "                [rho*sig_11*sig_22, (sig_22) ** 2]])\n",
    "sig = transpose_square_root(sig2)\n",
    "n_ = len(h)  # number of the instruments\n",
    "# scenarios for standard normal random variable\n",
    "z = simulate_normal(np.zeros(n_), np.eye(n_), j_)\n",
    "pi = np.exp(np.array([mu]*j_) + z@sig) -  v_tnow  # P&L's scenarios\n",
    "p = np.ones(j_)/j_   # flat scenario-probabilities"
   ]
  },
  {
   "cell_type": "markdown",
   "metadata": {},
   "source": [
    "## [Step 2](https://www.arpm.co/lab/redirect.php?permalink=s_evaluation_certainty_equiv-implementation-step02): Ex-ante performance scenarios"
   ]
  },
  {
   "cell_type": "code",
   "execution_count": null,
   "metadata": {},
   "outputs": [],
   "source": [
    "y_h = h@pi.T  # ex-ante performance scenarios\n",
    "# number of bins for the ex-ante performance histogram\n",
    "bins = np.round(150 * np.log(j_))\n",
    "# centers and heights of the bins\n",
    "heights, centers = histogram_sp(y_h, p=p, k_=bins)"
   ]
  },
  {
   "cell_type": "markdown",
   "metadata": {},
   "source": [
    "## [Step 3](https://www.arpm.co/lab/redirect.php?permalink=s_evaluation_certainty_equiv-implementation-step03): Certainty-equivalent"
   ]
  },
  {
   "cell_type": "code",
   "execution_count": null,
   "metadata": {},
   "outputs": [],
   "source": [
    "\n",
    "\n",
    "def ut(y, lam):  # exponential utility function\n",
    "    return -np.exp(-lam * y)\n",
    "\n",
    "\n",
    "def ut_inv(z, lam):  # inverse of exponential utility function \n",
    "    return - np.log(-z) / lam\n",
    "\n",
    "# expected utility\n",
    "expected_ut_y = np.array([])\n",
    "for lam in lambda_:\n",
    "    expected_ut_y = np.append(expected_ut_y, p@ut(y_h, lam))\n",
    "\n",
    "# certainty-equivalent\n",
    "ceq_y = ut_inv(expected_ut_y, lambda_)"
   ]
  },
  {
   "cell_type": "markdown",
   "metadata": {},
   "source": [
    "## Plots"
   ]
  },
  {
   "cell_type": "code",
   "execution_count": null,
   "metadata": {},
   "outputs": [],
   "source": [
    "plt.style.use('arpm')\n",
    "\n",
    "fig = plt.figure(figsize=(1280.0/72.0, 720.0/72.0), dpi=72.0)\n",
    "# colors\n",
    "gray = [.9, .9, .9]\n",
    "color1 = [0.95, 0.35, 0]\n",
    "color2 = [.3, .8, .8]\n",
    "color3 = [.9, .7, .5]\n",
    "\n",
    "heights_ = np.r_[heights[np.newaxis, :],\n",
    "                 heights[np.newaxis, :]] / np.max(heights)\n",
    "heights_[0, centers <= 0] = 0\n",
    "heights_[1, centers > 0] = 0\n",
    "width = centers[1] - centers[0]\n",
    "\n",
    "# histograms of ex-ante performances\n",
    "b = plt.bar(centers, heights_[0], width=width,\n",
    "            facecolor=gray, edgecolor=color2)\n",
    "b = plt.bar(centers, heights_[1], width=width,\n",
    "            facecolor=gray, edgecolor=color3)\n",
    "p1 = plt.plot([ceq_y[0], ceq_y[0]], [0, 0], color=color1, marker='.',\n",
    "              markersize=8)\n",
    "p2 = plt.plot([ceq_y[1], ceq_y[1]], [0, 0], color='b', marker='.',\n",
    "              markersize=8)\n",
    "p3 = plt.plot([ceq_y[2], ceq_y[2]], [0, 0], color='k', marker='.',\n",
    "              markersize=8)\n",
    "plt.legend(['$\\lambda$ = ' +\n",
    "            str(round(lambda_[0], 4)) +\n",
    "            ' high risk aversion ', '$\\lambda$ = ' +\n",
    "            str(round(lambda_[1], 4)) +\n",
    "            ' medium risk aversion ', '$\\lambda$ = ' +\n",
    "            str(round(lambda_[2], 4)) +\n",
    "            ' low risk aversion '])\n",
    "plt.ylim([-0.05, 1.05])\n",
    "plt.ylabel('Certainty-equivalent ($)')\n",
    "plt.xlabel('Portfolio P&L ($)')\n",
    "plt.title(r'Market ex-ante P&L distribution ($\\rho$=' +\n",
    "          str(rho) + ', $\\sigma$=' + str(sig_11) + ', '\n",
    "          + str(sig_22) + ')')\n",
    "add_logo(fig, location=4, alpha=0.8, set_fig_size=False)"
   ]
  }
 ],
 "metadata": {
  "jupytext": {
   "encoding": "# -*- coding: utf-8 -*-",
   "executable": "/usr/bin/env python3"
  },
  "kernelspec": {
   "display_name": "Python 3",
   "language": "python",
   "name": "python3"
  }
 },
 "nbformat": 4,
 "nbformat_minor": 4
}
