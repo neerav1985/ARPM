{
 "cells": [
  {
   "cell_type": "markdown",
   "metadata": {},
   "source": [
    "# S_CopOpPoolUnifView [<img src=\"https://www.arpm.co/lab/icons/icon_permalink.png\" width=30 height=30 style=\"display: inline;\">](https://www.arpm.co/lab/redirect.php?code=S_CopOpPoolUnifView&codeLang=Python)\n",
    "For details, see [here](https://www.arpm.co/lab/redirect.php?permalink=cop-norm-market)."
   ]
  },
  {
   "cell_type": "markdown",
   "metadata": {},
   "source": [
    "## Prepare the environment"
   ]
  },
  {
   "cell_type": "code",
   "execution_count": null,
   "metadata": {},
   "outputs": [],
   "source": [
    "import os.path as path\n",
    "import sys\n",
    "\n",
    "sys.path.append(path.abspath('../../functions-legacy'))\n",
    "\n",
    "from numpy import array, ones\n",
    "\n",
    "from scipy.stats import uniform\n",
    "\n",
    "import matplotlib.pyplot as plt\n",
    "\n",
    "plt.style.use('seaborn')\n",
    "\n",
    "from CopulaOpinionPooling import CopulaOpinionPooling\n",
    "\n",
    "# input parameters\n",
    "X_pri = array([[9.27, - 15.94, 9.88, 22.13],\n",
    "         [12.03, 3.59, 15.44, 9.78],\n",
    "         [12.81, - 12.56, 20.58, 2.96]])  # scenarios of prior market variables\n",
    "n_, j_ = X_pri.shape  # dimension of the market and number of scenarios\n",
    "p = ones((1, j_)) / j_  # Flexible Probabilities\n",
    "\n",
    "v = array([[1,-1,0],\n",
    "     [0, 1, -1]])  # pick matrix\n",
    "k_ = v.shape[0]  # number of views\n",
    "\n",
    "c_full = ones((k_, 1)) - 1e-6  # full confidence levels\n",
    "c = ones((k_, 1))*0.5  # half confidence levels\n",
    "\n",
    "# View cdf's\n",
    "# parameters of the uninformative views\n",
    "a = [0, 0]\n",
    "b = [0.02, 0.001]\n",
    "\n",
    "# view cdf's\n",
    "FZ_pos = [lambda x: uniform.cdf(x, a[0], b[0]), lambda x: uniform.cdf(x, a[1], b[1])]"
   ]
  },
  {
   "cell_type": "markdown",
   "metadata": {},
   "source": [
    "## Compute posterior market distribution with full confidence"
   ]
  },
  {
   "cell_type": "code",
   "execution_count": null,
   "metadata": {},
   "outputs": [],
   "source": [
    "X_updated, Z_pri, U, Z_pos, v_tilde, Z_tilde_pri, Z_tilde_pos = CopulaOpinionPooling(X_pri, p, v, c_full, FZ_pos)"
   ]
  },
  {
   "cell_type": "markdown",
   "metadata": {},
   "source": [
    "## Compute posterior market distribution with confidence c=0.5"
   ]
  },
  {
   "cell_type": "code",
   "execution_count": null,
   "metadata": {},
   "outputs": [],
   "source": [
    "X_updated_c, _, _, _, _, _, _ = CopulaOpinionPooling(X_pri, p, v, c, FZ_pos)"
   ]
  }
 ],
 "metadata": {
  "jupytext": {
   "encoding": "# -*- coding: utf-8 -*-",
   "executable": "/usr/bin/env python3"
  },
  "kernelspec": {
   "display_name": "Python 3",
   "language": "python",
   "name": "python3"
  }
 },
 "nbformat": 4,
 "nbformat_minor": 4
}
