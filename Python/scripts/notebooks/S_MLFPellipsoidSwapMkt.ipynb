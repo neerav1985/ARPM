{
 "cells": [
  {
   "cell_type": "markdown",
   "metadata": {},
   "source": [
    "# S_MLFPellipsoidSwapMkt [<img src=\"https://www.arpm.co/lab/icons/icon_permalink.png\" width=30 height=30 style=\"display: inline;\">](https://www.arpm.co/lab/redirect.php?code=S_MLFPellipsoidSwapMkt&codeLang=Python)\n",
    "For details, see [here](https://www.arpm.co/lab/redirect.php?permalink=exer-mfpellipt-copy-3)."
   ]
  },
  {
   "cell_type": "markdown",
   "metadata": {},
   "source": [
    "## Prepare the environment"
   ]
  },
  {
   "cell_type": "code",
   "execution_count": null,
   "metadata": {},
   "outputs": [],
   "source": [
    "import os\n",
    "import os.path as path\n",
    "import sys\n",
    "\n",
    "sys.path.append(path.abspath('../../functions-legacy'))\n",
    "\n",
    "from numpy import arange, array, zeros, percentile, diff, log, exp\n",
    "from numpy import sum as npsum, min as npmin, max as npmax\n",
    "\n",
    "from scipy.io import loadmat\n",
    "\n",
    "import matplotlib.pyplot as plt\n",
    "from matplotlib.pyplot import figure, xlim, ylim, scatter, ylabel, \\\n",
    "    xlabel, title\n",
    "\n",
    "plt.style.use('seaborn')\n",
    "\n",
    "from CONFIG import GLOBAL_DB, TEMPORARY_DB\n",
    "from ARPM_utils import save_plot, struct_to_dict\n",
    "from PlotTwoDimEllipsoid import PlotTwoDimEllipsoid\n",
    "from RollPrices2YieldToMat import RollPrices2YieldToMat\n",
    "from MaxLikelihoodFPLocDispT import MaxLikelihoodFPLocDispT\n",
    "from ColorCodedFP import ColorCodedFP"
   ]
  },
  {
   "cell_type": "markdown",
   "metadata": {},
   "source": [
    "## Upload database"
   ]
  },
  {
   "cell_type": "code",
   "execution_count": null,
   "metadata": {},
   "outputs": [],
   "source": [
    "try:\n",
    "    db = loadmat(os.path.join(GLOBAL_DB, 'db_SwapCurve'), squeeze_me=True)\n",
    "except FileNotFoundError:\n",
    "    db = loadmat(os.path.join(TEMPORARY_DB, 'db_SwapCurve'), squeeze_me=True)\n",
    "\n",
    "DF_Rolling = struct_to_dict(db['DF_Rolling'])"
   ]
  },
  {
   "cell_type": "markdown",
   "metadata": {},
   "source": [
    "## Select the last 1000 yield observations with 2 and 5 years to maturity"
   ]
  },
  {
   "cell_type": "code",
   "execution_count": null,
   "metadata": {},
   "outputs": [],
   "source": [
    "t_ = 1000\n",
    "tau = [2,5]\n",
    "\n",
    "y = zeros((2,t_))\n",
    "\n",
    "# yields from rolling pricing\n",
    "y[0,:],_ = RollPrices2YieldToMat(tau[0],DF_Rolling.Prices[DF_Rolling.TimeToMat == tau[0], - t_ :])  # 2yrs yields\n",
    "y[1,:],_ = RollPrices2YieldToMat(tau[1],DF_Rolling.Prices[DF_Rolling.TimeToMat == tau[1], - t_ :])  # 5yrs yields"
   ]
  },
  {
   "cell_type": "markdown",
   "metadata": {},
   "source": [
    "## Compute the invariants"
   ]
  },
  {
   "cell_type": "code",
   "execution_count": null,
   "metadata": {},
   "outputs": [],
   "source": [
    "epsi = diff(y, 1, 1)  # rate daily changes"
   ]
  },
  {
   "cell_type": "markdown",
   "metadata": {},
   "source": [
    "## Maximum Likelihood with Flexible Probabilities (MLFP) Student t fit"
   ]
  },
  {
   "cell_type": "code",
   "execution_count": null,
   "metadata": {},
   "outputs": [],
   "source": [
    "# degrees of freedom\n",
    "nu = 5\n",
    "\n",
    "# flexible probabilities (exponential decay half life 6 months)\n",
    "lam = log(2) / 180\n",
    "p = exp(-lam*arange(t_ - 1, 1 + -1, -1)).reshape(1,-1)\n",
    "p = p /npsum(p)\n",
    "\n",
    "# Fit\n",
    "tolerance = 10 ** (-10)\n",
    "mu_MLFP, sigma2_MLFP,_ = MaxLikelihoodFPLocDispT(epsi, p, nu, tolerance, 1)\n",
    "\n",
    "# Student t mean and covariance\n",
    "m_MLFP = mu_MLFP\n",
    "s2_MLFP = nu / (nu - 2)*sigma2_MLFP"
   ]
  },
  {
   "cell_type": "markdown",
   "metadata": {},
   "source": [
    "## Create figures"
   ]
  },
  {
   "cell_type": "code",
   "execution_count": null,
   "metadata": {},
   "outputs": [],
   "source": [
    "CM, C = ColorCodedFP(p, npmin(p), npmax(p), arange(0,0.8,0.005), 0, 1, [1, 0])\n",
    "\n",
    "f = figure()\n",
    "# colormap(CM)\n",
    "scatter(epsi[0], epsi[1], 10, c=C, marker='.', cmap=CM) #color-coded scatter plot\n",
    "\n",
    "PlotTwoDimEllipsoid(m_MLFP.reshape(-1,1), s2_MLFP, 1, 0, 0, [.9, .4, 0])  # MLFP ellipsoid\n",
    "xlim(percentile(epsi[0], 100*array([0.01, 0.99])))\n",
    "ylim(percentile(epsi[1], 100*array([0.01, 0.99])))\n",
    "xlabel('2 yr swap rate daily changes')\n",
    "ylabel('5 yr swap rate daily changes')\n",
    "title('MLFP-ellipsoid');\n",
    "# save_plot(ax=plt.gca(), extension='png', scriptname=os.path.basename('.')[:-3], count=plt.get_fignums()[-1])"
   ]
  }
 ],
 "metadata": {
  "jupytext": {
   "encoding": "# -*- coding: utf-8 -*-",
   "executable": "/usr/bin/env python3"
  },
  "kernelspec": {
   "display_name": "Python 3",
   "language": "python",
   "name": "python3"
  }
 },
 "nbformat": 4,
 "nbformat_minor": 4
}
