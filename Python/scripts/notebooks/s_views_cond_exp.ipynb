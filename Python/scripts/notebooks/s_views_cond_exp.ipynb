{
 "cells": [
  {
   "cell_type": "markdown",
   "metadata": {},
   "source": [
    "# s_views_cond_exp [<img src=\"https://www.arpm.co/lab/icons/icon_permalink.png\" width=30 height=30 style=\"display: inline;\">](https://www.arpm.co/lab/redirect.php?code=s_views_cond_exp&codeLang=Python)\n",
    "For details, see [here](https://www.arpm.co/lab/redirect.php?permalink=eb-example-fpviews-cond-exp)."
   ]
  },
  {
   "cell_type": "code",
   "execution_count": null,
   "metadata": {},
   "outputs": [],
   "source": [
    "import numpy as np\n",
    "\n",
    "from arpym.views.min_rel_entropy_sp import min_rel_entropy_sp"
   ]
  },
  {
   "cell_type": "markdown",
   "metadata": {},
   "source": [
    "## [Input parameters](https://www.arpm.co/lab/redirect.php?permalink=s_views_cond_exp-parameters)"
   ]
  },
  {
   "cell_type": "code",
   "execution_count": null,
   "metadata": {
    "lines_to_end_of_cell_marker": 0,
    "lines_to_next_cell": 1
   },
   "outputs": [],
   "source": [
    "# scenarios of market variables\n",
    "x = np.array([[0.2, 1.7, 2, 3.4], [5, 3.4, -1.3, 1]]).T\n",
    "p_base = np.ones(x.shape[0]) / x.shape[0]  # base flexible probabilities\n",
    "mu_view = 0  # view on expectation\n",
    "c_view = 0.7  # view on CVaR\n",
    "c = 0.3  # confidence level\n",
    "\n",
    "\n",
    "def v(y):\n",
    "    return np.array(2 * y[:, 0] - y[:, 1])  # view function\n",
    "\n",
    "\n",
    "# ## [Step 1](https://www.arpm.co/lab/redirect.php?permalink=s_views_cond_exp-implementation-step01): Compute parameters specifying the constraints\n",
    "\n",
    "j_ = x.shape[0]\n",
    "index = np.array([i for i in range(j_)])\n",
    "z = v(x)\n",
    "v_x = np.sort(v(x))\n",
    "\n",
    "\n",
    "def indicator(y, a):\n",
    "    return np.array([1 if y_j <= a else 0 for y_j in y])\n",
    "\n",
    "\n",
    "z_eq = np.zeros((j_, 2, j_))\n",
    "\n",
    "for i in range(j_):\n",
    "    z_eq[i] = np.vstack((v_x * indicator(index, i), indicator(index, i)))\n",
    "\n",
    "mu_view_eq_c = np.vstack((c_view * mu_view, c_view)).reshape(2, )"
   ]
  },
  {
   "cell_type": "markdown",
   "metadata": {},
   "source": [
    "## [Step 2](https://www.arpm.co/lab/redirect.php?permalink=s_views_cond_exp-implementation-step02): Compute covariance matrices and effective ranks"
   ]
  },
  {
   "cell_type": "code",
   "execution_count": null,
   "metadata": {},
   "outputs": [],
   "source": [
    "\n",
    "def eff_rank(s2):\n",
    "    lam2_n, _ = np.linalg.eig(s2)\n",
    "    w_n = lam2_n / np.sum(lam2_n)\n",
    "    return np.exp(- w_n @ np.log(w_n))\n",
    "\n",
    "\n",
    "covariance = np.zeros((j_, 2, 2))\n",
    "effrank = np.zeros(j_)\n",
    "\n",
    "for i in range(j_):\n",
    "    z_i = z_eq[i]\n",
    "    covariance[i] = np.cov(z_i)\n",
    "    if np.linalg.matrix_rank(covariance[i]) > 1:\n",
    "        effrank[i] = eff_rank(np.corrcoef(z_i))"
   ]
  },
  {
   "cell_type": "markdown",
   "metadata": {},
   "source": [
    "## [Step 3](https://www.arpm.co/lab/redirect.php?permalink=s_views_cond_exp-implementation-step03): Compute updated probabilities"
   ]
  },
  {
   "cell_type": "code",
   "execution_count": null,
   "metadata": {},
   "outputs": [],
   "source": [
    "i_san_check = np.where(effrank > 1)[0]\n",
    "\n",
    "p_upd_i = np.zeros((j_, j_))\n",
    "entropy = np.zeros(j_)\n",
    "\n",
    "for i in range(j_):\n",
    "    if i in i_san_check:\n",
    "        p_upd_i[i] = min_rel_entropy_sp(p_base, None, None, z_eq[i],\n",
    "                                        mu_view_eq_c, normalize=False)\n",
    "        entropy[i] = p_upd_i[i] @ np.log(p_upd_i[i] / p_base)\n",
    "\n",
    "p_upd_san = p_upd_i[i_san_check]\n",
    "p_upd_ihat = p_upd_san[np.argmin(entropy[i_san_check])]\n",
    "p_upd = p_upd_ihat[np.argsort(np.argsort(v(x)))]"
   ]
  },
  {
   "cell_type": "markdown",
   "metadata": {},
   "source": [
    "## [Step 4](https://www.arpm.co/lab/redirect.php?permalink=s_views_cond_exp-implementation-step04): Compute additive/multiplicative confidence-weighted probabilities"
   ]
  },
  {
   "cell_type": "code",
   "execution_count": null,
   "metadata": {},
   "outputs": [],
   "source": [
    "p_c_add = c * p_upd + (1 - c) * p_base\n",
    "p_c_mul = p_upd ** c * p_base ** (1 - c) /\\\n",
    "    np.sum(p_upd ** c * p_base ** (1 - c))"
   ]
  }
 ],
 "metadata": {
  "jupytext": {
   "encoding": "# -*- coding: utf-8 -*-",
   "executable": "/usr/bin/env python3"
  },
  "kernelspec": {
   "display_name": "Python 3",
   "language": "python",
   "name": "python3"
  }
 },
 "nbformat": 4,
 "nbformat_minor": 4
}
