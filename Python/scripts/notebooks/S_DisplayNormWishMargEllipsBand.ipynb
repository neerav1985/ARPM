{
 "cells": [
  {
   "cell_type": "markdown",
   "metadata": {},
   "source": [
    "# S_DisplayNormWishMargEllipsBand [<img src=\"https://www.arpm.co/lab/icons/icon_permalink.png\" width=30 height=30 style=\"display: inline;\">](https://www.arpm.co/lab/redirect.php?code=S_DisplayNormWishMargEllipsBand&codeLang=Python)\n",
    "For details, see [here](https://www.arpm.co/lab/redirect.php?permalink=EllipsBandNormWishMarg)."
   ]
  },
  {
   "cell_type": "markdown",
   "metadata": {},
   "source": [
    "## Prepare the environment"
   ]
  },
  {
   "cell_type": "code",
   "execution_count": null,
   "metadata": {},
   "outputs": [],
   "source": [
    "import os\n",
    "import os.path as path\n",
    "import sys\n",
    "\n",
    "sys.path.append(path.abspath('../../functions-legacy'))\n",
    "\n",
    "import numpy as np\n",
    "from numpy import reshape, trace, array, zeros, cos, sin, pi, linspace, \\\n",
    "    diag, sqrt, r_\n",
    "from numpy.linalg import det\n",
    "from numpy.random import multivariate_normal as mvnrnd\n",
    "\n",
    "import matplotlib.pyplot as plt\n",
    "from matplotlib.pyplot import figure, legend, scatter, ylabel, \\\n",
    "    xlabel, title\n",
    "\n",
    "plt.style.use('seaborn')\n",
    "\n",
    "from ARPM_utils import save_plot\n",
    "from PlotTwoDimEllipsoid import PlotTwoDimEllipsoid\n",
    "from PlotTwoDimBand import PlotTwoDimBand\n",
    "\n",
    "# input parameters\n",
    "sigvec = array([[1], [1]])  # dispersion parameters\n",
    "rho = -0.9  # correlation parameter\n",
    "nu = 5  # deegrees of freedom\n",
    "j_ = 10000  # number of simulations\n",
    "n_points = 1000  # points of the uncertainty band\n",
    "r = 3  # radius of the ellipsoid"
   ]
  },
  {
   "cell_type": "markdown",
   "metadata": {},
   "source": [
    "## Generate simulations"
   ]
  },
  {
   "cell_type": "code",
   "execution_count": null,
   "metadata": {},
   "outputs": [],
   "source": [
    "W_11 = zeros((1, j_))\n",
    "W_22 = zeros((1, j_))\n",
    "W_12 = zeros((1, j_))\n",
    "vec_W = zeros((4, j_))\n",
    "dets = zeros((1, j_))\n",
    "traces = zeros((1, j_))\n",
    "\n",
    "sig2 = np.diagflat(sigvec)@array([[1, rho], [rho, 1]])@np.diagflat(sigvec)\n",
    "\n",
    "for j in range(j_):\n",
    "    X = mvnrnd(zeros(2), sig2, nu).T\n",
    "    W = X@X.T\n",
    "\n",
    "    dets[0,j] = det(W)\n",
    "    traces[0,j] = trace(W)\n",
    "    \n",
    "    W_11[0,j] = W[0, 0]\n",
    "    W_22[0,j] = W[1, 1]\n",
    "    W_12[0,j] = W[0, 1]\n",
    "    \n",
    "    vec_W[:, [j]] = reshape(W, (4, 1))\n",
    "    \n",
    "# expected values of W_11 and W_12\n",
    "E_11 = nu*sig2[0, 0]\n",
    "E_12 = nu*sig2[0, 1]\n",
    "\n",
    "# covariance matrix of W_11 and W_12\n",
    "V_11 = nu*(sig2[0, 0]*sig2[0, 0] + sig2[0, 0]*sig2[0, 0])\n",
    "V_12 = nu*(sig2[0, 0]*sig2[1, 1] + sig2[0, 1]*sig2[1, 0])\n",
    "Cv_11_12 = nu*(sig2[0, 0]*sig2[0, 1] + sig2[0, 1]*sig2[0, 0])\n",
    "\n",
    "Cv_W11_W12 = array([[V_11, Cv_11_12],[Cv_11_12, V_12]])"
   ]
  },
  {
   "cell_type": "markdown",
   "metadata": {},
   "source": [
    "## Compute normalized variables X_1 and X_2"
   ]
  },
  {
   "cell_type": "code",
   "execution_count": null,
   "metadata": {},
   "outputs": [],
   "source": [
    "X_1 = (W_11 - E_11) / sqrt(V_11)\n",
    "X_2 = (W_12 - E_12) / sqrt(V_12)\n",
    "X = r_[X_1, X_2]\n",
    "\n",
    "# expected value and covariance of (X_1, X_2)\n",
    "E_X = array([[0],[0]])\n",
    "Sd_W11_W12 = array([[sqrt(V_11)], [sqrt(V_12)]])\n",
    "Cv_X = np.diagflat(1 / Sd_W11_W12)@Cv_W11_W12@np.diagflat(1 / Sd_W11_W12)"
   ]
  },
  {
   "cell_type": "markdown",
   "metadata": {},
   "source": [
    "## Compute the standard deviations along the directions"
   ]
  },
  {
   "cell_type": "code",
   "execution_count": null,
   "metadata": {},
   "outputs": [],
   "source": [
    "theta = linspace(0, 2*pi, n_points).reshape(1,-1)\n",
    "u = r_[cos(theta), sin(theta)]  # directions\n",
    "\n",
    "s_u = sqrt(diag(u.T@Cv_X@u))  # projected standard deviations"
   ]
  },
  {
   "cell_type": "markdown",
   "metadata": {},
   "source": [
    "## Display the band, the ellipsoid and overlay the scatterplot"
   ]
  },
  {
   "cell_type": "code",
   "execution_count": null,
   "metadata": {},
   "outputs": [],
   "source": [
    "figure(figsize=(10,10))\n",
    "\n",
    "p1 = PlotTwoDimBand(E_X, s_u, u, r, 'b')\n",
    "p2 = PlotTwoDimEllipsoid(E_X, Cv_X, r, [], [], 'r')\n",
    "scatter(X[0], X[1], s=5, c=[.3, .3, .3], marker='*')\n",
    "legend(['Mean-Cov band','Mean-Cov ellipsoid'])\n",
    "title('Normalized Wishart marginals')\n",
    "xlabel('$X_1$')\n",
    "ylabel('$X_2$')\n",
    "plt.axis('equal');\n",
    "# save_plot(ax=plt.gca(), extension='png', scriptname=os.path.basename('.')[:-3], count=plt.get_fignums()[-1])\n"
   ]
  }
 ],
 "metadata": {
  "jupytext": {
   "encoding": "# -*- coding: utf-8 -*-",
   "executable": "/usr/bin/env python3"
  },
  "kernelspec": {
   "display_name": "Python 3",
   "language": "python",
   "name": "python3"
  }
 },
 "nbformat": 4,
 "nbformat_minor": 4
}
