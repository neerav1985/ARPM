{
 "cells": [
  {
   "cell_type": "markdown",
   "metadata": {},
   "source": [
    "# s_checklist_executive_summary [<img src=\"https://www.arpm.co/lab/icons/icon_permalink.png\" width=30 height=30 style=\"display: inline;\">](https://www.arpm.co/lab/redirect.php?code=s_checklist_executive_summary&codeLang=Python)\n",
    "For details, see [here](https://www.arpm.co/lab/redirect.php?permalink=eb-executive-summary)."
   ]
  },
  {
   "cell_type": "code",
   "execution_count": null,
   "metadata": {},
   "outputs": [],
   "source": [
    "import numpy as np\n",
    "import pandas as pd\n",
    "\n",
    "from arpym.statistics.meancov_sp import meancov_sp"
   ]
  },
  {
   "cell_type": "markdown",
   "metadata": {},
   "source": [
    "## [Input parameters](https://www.arpm.co/lab/redirect.php?permalink=s_checklist_executive_summary-parameters)"
   ]
  },
  {
   "cell_type": "code",
   "execution_count": null,
   "metadata": {},
   "outputs": [],
   "source": [
    "deltat = 5.0  # horizon span (business bdays)\n",
    "h = np.array([2*10**6, 8*10**5])  # vector of holdings\n",
    "v_risky = 40*10**6  # budget of dollars at risk\n",
    "t_first = pd.to_datetime('16-03-2012')  # first considered date\n",
    "t_now = pd.to_datetime('30-03-2012')  # last considered date"
   ]
  },
  {
   "cell_type": "markdown",
   "metadata": {},
   "source": [
    "## [Step 0](https://www.arpm.co/lab/redirect.php?permalink=s_checklist_executive_summary-implementation-step00): Load data"
   ]
  },
  {
   "cell_type": "code",
   "execution_count": null,
   "metadata": {},
   "outputs": [],
   "source": [
    "path = '~/databases/global-databases/equities/'\n",
    "data = pd.read_csv(path+'db_stocks_SP500/SPX.csv',\n",
    "                   parse_dates=True, index_col=0)\n",
    "v_sandp = data[(data.index >= t_first) &\n",
    "               (data.index <= t_now)].values.reshape(-1)\n",
    "data1 = pd.read_csv(path+'db_stocks_SP500/db_stocks_sp.csv',\n",
    "                   parse_dates=True, index_col=0, header=1,\n",
    "                   usecols=['name', 'CVC', 'AON'])\n",
    "v_stocks = data1[(data1.index >= t_first) &\n",
    "                 (data1.index <= t_now)].values\n",
    "v_n_t = np.round(np.c_[v_stocks, v_sandp][:, [1, 0, 2]], decimals=2)\n",
    "del data, data1"
   ]
  },
  {
   "cell_type": "markdown",
   "metadata": {},
   "source": [
    "## [Step 1](https://www.arpm.co/lab/redirect.php?permalink=s_checklist_executive_summary-implementation-step01): Risk drivers identification"
   ]
  },
  {
   "cell_type": "code",
   "execution_count": null,
   "metadata": {},
   "outputs": [],
   "source": [
    "# compute the time series of the log values\n",
    "x_t = np.round(np.log(v_n_t), decimals=2)\n",
    "x_tnow = x_t[-1, :]  # current value of the risk drivers"
   ]
  },
  {
   "cell_type": "markdown",
   "metadata": {},
   "source": [
    "## [Step 2](https://www.arpm.co/lab/redirect.php?permalink=s_checklist_executive_summary-implementation-step02): Quest for Invariance"
   ]
  },
  {
   "cell_type": "code",
   "execution_count": null,
   "metadata": {},
   "outputs": [],
   "source": [
    "# extract the realized time series of the invariants (log-returns)\n",
    "eps_t = np.diff(x_t, axis=0)"
   ]
  },
  {
   "cell_type": "markdown",
   "metadata": {},
   "source": [
    "## [Step 3](https://www.arpm.co/lab/redirect.php?permalink=s_checklist_executive_summary-implementation-step03): Estimation"
   ]
  },
  {
   "cell_type": "code",
   "execution_count": null,
   "metadata": {},
   "outputs": [],
   "source": [
    "# estimate sample mean and sample covariance\n",
    "mu, sigma2 = meancov_sp(eps_t)\n",
    "sigma2 = np.round(sigma2, 5)\n",
    "rho_1_2 = np.round(sigma2[0, 1]/np.sqrt(sigma2[0, 0]*sigma2[1, 1]), 2)"
   ]
  },
  {
   "cell_type": "markdown",
   "metadata": {},
   "source": [
    "## [Step 4](https://www.arpm.co/lab/redirect.php?permalink=s_checklist_executive_summary-implementation-step04): Projection"
   ]
  },
  {
   "cell_type": "code",
   "execution_count": null,
   "metadata": {},
   "outputs": [],
   "source": [
    "# compute location and dispersion parameters\n",
    "mu_x_thor = x_tnow + deltat*mu\n",
    "sigma2_x_thor = deltat*sigma2"
   ]
  },
  {
   "cell_type": "markdown",
   "metadata": {},
   "source": [
    "## [Step 5](https://www.arpm.co/lab/redirect.php?permalink=s_checklist_executive_summary-implementation-step05): Pricing"
   ]
  },
  {
   "cell_type": "code",
   "execution_count": null,
   "metadata": {},
   "outputs": [],
   "source": [
    "# compute parameters of bivariate normal distribution of the ex-ante P&L\n",
    "v_stocks_tnow = v_n_t[-1, :2]\n",
    "x_stocks_tnow = x_tnow[:2]\n",
    "mu_stocks_x_thor = mu_x_thor[:2].copy()\n",
    "sigma2_stocks_x_thor = sigma2_x_thor[:2, :2]\n",
    "mu_pi = np.diagflat(v_stocks_tnow) @ (mu_stocks_x_thor - x_stocks_tnow)\n",
    "mu_pi = np.round(mu_pi, 2)\n",
    "sigma2_pi = np.diagflat(v_stocks_tnow) @ sigma2_stocks_x_thor @\\\n",
    "        np.diagflat(v_stocks_tnow)\n",
    "rho_pi1_pi2 = sigma2_pi[0, 1]/np.sqrt(sigma2_pi[0, 0]*sigma2_pi[1, 1])"
   ]
  },
  {
   "cell_type": "markdown",
   "metadata": {},
   "source": [
    "## [Step 6](https://www.arpm.co/lab/redirect.php?permalink=s_checklist_executive_summary-implementation-step06): Aggregation"
   ]
  },
  {
   "cell_type": "code",
   "execution_count": null,
   "metadata": {},
   "outputs": [],
   "source": [
    "# compute parameters of normal distribution of the portfolio ex-ante return\n",
    "v_h_tnow = h @ v_stocks_tnow  # portfolio value\n",
    "w_tnow = h * v_stocks_tnow / v_h_tnow  # portfolio weights\n",
    "mu_r_w = w_tnow @ (mu_stocks_x_thor - x_stocks_tnow)\n",
    "sigma2_r_w = w_tnow @ sigma2_stocks_x_thor @ w_tnow"
   ]
  },
  {
   "cell_type": "markdown",
   "metadata": {},
   "source": [
    "## [Step 7](https://www.arpm.co/lab/redirect.php?permalink=s_checklist_executive_summary-implementation-step07): Ex-ante evaluation"
   ]
  },
  {
   "cell_type": "code",
   "execution_count": null,
   "metadata": {},
   "outputs": [],
   "source": [
    "# compute satisfaction of the portfolio ex-ante return\n",
    "sigma_r_w = np.sqrt(sigma2_r_w)\n",
    "satis_r_w = -sigma_r_w"
   ]
  },
  {
   "cell_type": "markdown",
   "metadata": {},
   "source": [
    "## [Step 8](https://www.arpm.co/lab/redirect.php?permalink=s_checklist_executive_summary-implementation-step08): Ex-ante attribution"
   ]
  },
  {
   "cell_type": "code",
   "execution_count": null,
   "metadata": {},
   "outputs": [],
   "source": [
    "# Step 8a: Ex-ante attribution: performance\n",
    "# joint value at tnow\n",
    "v_tnow = v_n_t[-1, :]\n",
    "# parameters of joint P&L\n",
    "mu_pi1_pi2_pisandp = np.diagflat(v_tnow) @ (mu_x_thor - x_tnow)\n",
    "sigma2_pi1_pi2_pisandp = np.diagflat(v_tnow) @ sigma2_x_thor @\\\n",
    "        np.diagflat(v_tnow)\n",
    "# parameters of joint returns\n",
    "mu_r1_r2_rsandp = np.diagflat(1/v_tnow) @ mu_pi1_pi2_pisandp\n",
    "sigma2_r1_r2_rsandp = np.diagflat(1/v_tnow) @ sigma2_pi1_pi2_pisandp @\\\n",
    "        np.diagflat(1/v_tnow)\n",
    "# parameters of joint and marginal portfolio and S&P returns\n",
    "b = np.array([[w_tnow[0], w_tnow[1], 0], [0, 0, 1]])\n",
    "mu_r_z = b @ mu_r1_r2_rsandp\n",
    "sigma2_r_z = b @ sigma2_r1_r2_rsandp @ b.T\n",
    "rho_r_z = np.round(sigma2_r_z[0, 1]/np.sqrt(sigma2_r_z[0, 0]*sigma2_r_z[1, 1]), 2)\n",
    "mu_z, sigma2_z = mu_r_z[-1], sigma2_r_z[-1, -1]\n",
    "sigma_z = np.sqrt(sigma2_z)\n",
    "mu_r = mu_r_z[0]\n",
    "sigma2_r = sigma2_r_z[0, 0]\n",
    "sigma_r = np.sqrt(sigma2_r)\n",
    "# parameters of linear attribution model of the portfolio return\n",
    "beta = rho_r_z * sigma_r / sigma_z\n",
    "alpha = mu_r - beta * mu_z\n",
    "# variance of the residual\n",
    "sigma2_u = sigma2_r * (1 - rho_r_z ** 2)\n",
    "\n",
    "# Step 8b: Ex-ante attribution: risk\n",
    "# compute contributions of Z and U\n",
    "risk_rw_z = (beta ** 2) * sigma2_z / sigma_r\n",
    "risk_rw_u = sigma2_u / sigma_r"
   ]
  },
  {
   "cell_type": "markdown",
   "metadata": {},
   "source": [
    "## [Step 9](https://www.arpm.co/lab/redirect.php?permalink=s_checklist_executive_summary-implementation-step09): Construction"
   ]
  },
  {
   "cell_type": "code",
   "execution_count": null,
   "metadata": {},
   "outputs": [],
   "source": [
    "# Step 9a: Construction: portfolio optimization\n",
    "# find minimum-variance portfolio with given budget constraint\n",
    "h_star = v_h_tnow * (np.linalg.inv(sigma2_pi) @ v_stocks_tnow) /\\\n",
    "        (v_stocks_tnow @ np.linalg.inv(sigma2_pi) @ v_stocks_tnow)\n",
    "h_star = np.floor(h_star)\n",
    "\n",
    "# Step 9b: Construction: cross-sectional strategies\n",
    "# construct a simple cross-sectional strategy\n",
    "s_mom_tnow = eps_t[-1, :2]\n",
    "if s_mom_tnow[0] > s_mom_tnow[1]:\n",
    "    h_mom_tnow = np.array([h[0] + h[1]*v_stocks_tnow[1]/v_stocks_tnow[0], 0.0])\n",
    "else:\n",
    "    h_mom_tnow = np.array([0.0, h[0]*v_stocks_tnow[0]/v_stocks_tnow[1] + h[1]])\n",
    "h_mom_tnow = np.round(h_mom_tnow)\n",
    "\n",
    "# Step 9c: Construction: time series strategies\n",
    "# construct more conservative strategy\n",
    "h_tnow_risky = v_risky / v_h_tnow"
   ]
  }
 ],
 "metadata": {
  "jupytext": {
   "encoding": "# -*- coding: utf-8 -*-",
   "executable": "/usr/bin/env python3"
  },
  "kernelspec": {
   "display_name": "Python 3",
   "language": "python",
   "name": "python3"
  }
 },
 "nbformat": 4,
 "nbformat_minor": 4
}
