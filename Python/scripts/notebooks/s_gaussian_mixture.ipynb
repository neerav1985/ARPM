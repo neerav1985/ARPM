{
 "cells": [
  {
   "cell_type": "markdown",
   "metadata": {},
   "source": [
    "# s_gaussian_mixture [<img src=\"https://www.arpm.co/lab/icons/icon_permalink.png\" width=30 height=30 style=\"display: inline;\">](https://www.arpm.co/lab/redirect.php?code=s_gaussian_mixture&codeLang=Python)\n",
    "For details, see [here](https://www.arpm.co/lab/redirect.php?permalink=s_gaussian_mixture)."
   ]
  },
  {
   "cell_type": "code",
   "execution_count": null,
   "metadata": {},
   "outputs": [],
   "source": [
    "import numpy as np\n",
    "from scipy.special import logit\n",
    "import matplotlib.pyplot as plt\n",
    "from matplotlib.patches import Rectangle\n",
    "\n",
    "from arpym.statistics.simulate_normal import simulate_normal\n",
    "from arpym.tools.logo import add_logo"
   ]
  },
  {
   "cell_type": "markdown",
   "metadata": {},
   "source": [
    "## [Input parameters](https://www.arpm.co/lab/redirect.php?permalink=s_gaussian_mixture-parameters)"
   ]
  },
  {
   "cell_type": "code",
   "execution_count": null,
   "metadata": {},
   "outputs": [],
   "source": [
    "p = 0.6  # unconditional probability\n",
    "mu_x_0 = 3.5  # conditional expectation\n",
    "mu_x_1 = 6  # conditional expectation\n",
    "sig2_x_0 = 1.21  # conditional variance\n",
    "sig2_x_1 = 0.64  # conditional variance\n",
    "x_cond = 5.5  # realization of X\n",
    "j_ = 10**5  # number of simulations"
   ]
  },
  {
   "cell_type": "markdown",
   "metadata": {},
   "source": [
    "## [Step 1](https://www.arpm.co/lab/redirect.php?permalink=s_gaussian_mixture-implementation-step01): Generate samples"
   ]
  },
  {
   "cell_type": "code",
   "execution_count": null,
   "metadata": {},
   "outputs": [],
   "source": [
    "z = np.random.binomial(1, p, j_)\n",
    "x = (1-z)*simulate_normal(mu_x_0, sig2_x_0, j_) +\\\n",
    "    z*simulate_normal(mu_x_1, sig2_x_1, j_)"
   ]
  },
  {
   "cell_type": "markdown",
   "metadata": {},
   "source": [
    "## [Step 2](https://www.arpm.co/lab/redirect.php?permalink=s_gaussian_mixture-implementation-step02): Compute Z|x"
   ]
  },
  {
   "cell_type": "code",
   "execution_count": null,
   "metadata": {},
   "outputs": [],
   "source": [
    "alpha = logit(p) - 0.5*(np.log(sig2_x_1)-np.log(sig2_x_0) +\n",
    "              mu_x_1/sig2_x_1*mu_x_1 - mu_x_0/sig2_x_0*mu_x_0)\n",
    "beta = mu_x_1/sig2_x_1 - mu_x_0/sig2_x_0\n",
    "gamma = -0.5*(1/sig2_x_1 - 1/sig2_x_0)\n",
    "\n",
    "def logit_px(x): return  alpha + beta*x + gamma*x**2\n",
    "def p_x_func(x): return 1 / (1 + np.exp(-logit_px(x)))\n",
    "p_x_cond = p_x_func(x_cond)"
   ]
  },
  {
   "cell_type": "markdown",
   "metadata": {},
   "source": [
    "## Plots"
   ]
  },
  {
   "cell_type": "code",
   "execution_count": null,
   "metadata": {},
   "outputs": [],
   "source": [
    "plt.style.use('arpm')\n",
    "# colors\n",
    "teal = [0.2344, 0.582, 0.5664]\n",
    "light_green_2 = [0.4781, 0.6406, 0.4031]\n",
    "light_grey = [0.4, 0.4, 0.4]\n",
    "markersize = 60\n",
    "j_plot = 10**2  # number of plotted simulations\n",
    "\n",
    "no_points_grid = 500\n",
    "x_grid = np.linspace(np.percentile(x, 1), np.percentile(x, 99), no_points_grid)\n",
    "\n",
    "def norm_pdf(x, mu, sig):\n",
    "    return 1/(sig*np.sqrt(2*np.pi))*np.exp(-((x-mu)**2/(2*sig**2)))\n",
    "fx_0 = norm_pdf(x_grid, mu_x_0, sig2_x_0**0.5)\n",
    "fx_1 = norm_pdf(x_grid, mu_x_1, sig2_x_1**0.5)\n",
    "\n",
    "p_x = p_x_func(x_grid)\n",
    "\n",
    "fig = plt.figure(dpi=72)\n",
    "fig.set_size_inches(10, 8)\n",
    "# plot locations\n",
    "pos1 = [0.346, 0.2589, 0.56888, 0.7111]\n",
    "pos2 = [0.336, 0.03, 0.56888, 0.1889]\n",
    "pos3 = [0.157, 0.2589, 0.16, 0.7111]\n",
    "# top right plot\n",
    "ax1 = fig.add_axes(pos1)\n",
    "ax1.set_xlim([-0.07, 1.2])\n",
    "ax1.set_ylim([x_grid[0], x_grid[-1]])\n",
    "xlimm = ax1.get_xlim()\n",
    "ylimm = ax1.get_ylim()\n",
    "ax1.set_facecolor('none')\n",
    "ax1.set_xticks([0, 1])\n",
    "ax1.set_yticks(np.arange(np.ceil(ylimm[0]), np.floor(ylimm[1])+1))\n",
    "ax1.set_xlabel('$Z$', labelpad=-30, fontsize=14)\n",
    "ax1.set_ylabel('$X$', labelpad=-30, fontsize=14)\n",
    "# axes\n",
    "ax1.plot([0, 0], ylimm, 'k', lw=0.5)\n",
    "ax1.plot(xlimm,\n",
    "         [ylimm[0]+.05*(ylimm[1]-ylimm[0]), ylimm[0]+.05*(ylimm[1]-ylimm[0])],\n",
    "         'k', lw=0.5)\n",
    "# P{Z=1|x} on main plot\n",
    "ax1.barh(x_cond, p_x_cond, (ylimm[1]-ylimm[0])*0.03, color='none',\n",
    "         edgecolor=teal, lw=2, align='center')\n",
    "ax1.barh(x_cond, 1, (ylimm[1]-ylimm[0])*0.03, color='none', edgecolor=teal,\n",
    "         lw=1, align='center')\n",
    "# lines through means\n",
    "ax1.plot(xlimm, [mu_x_0, mu_x_0], xlimm, [mu_x_1, mu_x_1],\n",
    "         c=light_grey, lw=0.5)\n",
    "# joint\n",
    "l1 = ax1.scatter(z[:j_plot], x[:j_plot], s=markersize*3,\n",
    "                 edgecolor=light_grey, c='none', marker='o')\n",
    "# E{X|z}\n",
    "l9 = ax1.scatter([0, 1], [mu_x_0, mu_x_1], marker='x', s=markersize*3,\n",
    "                 c=[light_green_2], lw=6)\n",
    "# P{X=1}\n",
    "l5, = ax1.plot(p_x, x_grid, ls='--', lw=2, color=teal)\n",
    "# realizations of X and Z\n",
    "l3 = ax1.scatter(-0.04, x_cond, marker='o', s=markersize*3, c=[teal])\n",
    "l7 = ax1.scatter(1, ylimm[0]+0.02*(ylimm[1]-ylimm[0]),\n",
    "                 marker='o', s=markersize*3, c=[light_green_2])\n",
    "ax1.grid(False)\n",
    "plt.box(False)\n",
    "\n",
    "# bottom plot\n",
    "ax2 = fig.add_axes(pos2)\n",
    "ax2.set_xlim([0, 1.27])\n",
    "ax2.set_ylim([-0.01, 1.03])\n",
    "ax2.set_facecolor('none')\n",
    "ax2.set_yticks([0, 0.5, 1])\n",
    "ax2.yaxis.tick_right()\n",
    "ax2.grid(True, color=[0.4, 0.4, 0.4])\n",
    "ax2.set_xticks([])\n",
    "# Bernoulli(p), Bernoulli(p(x_cond))\n",
    "l6 = ax2.bar(0.1, 1-p, 0.2, color=light_green_2, align='center')\n",
    "ax2.bar(0.1, 1-p_x_cond, 0.1, bottom=p_x_cond, color='none',\n",
    "        edgecolor=teal, lw=1, align='center')\n",
    "ax2.bar(1.1, p, 0.2, bottom=1-p, color=light_green_2, align='center')\n",
    "l4 = ax2.bar(1.1, p_x_cond, 0.1, color='none',\n",
    "             edgecolor=teal, lw=2, align='center')\n",
    "ax2.plot([0.15, 1.05], [p_x_cond, p_x_cond], c=teal, lw=0.5)\n",
    "ax2.plot([0.2, 1], [1-p, 1-p], c=light_green_2, lw=0.5)\n",
    "plt.box(False)\n",
    "\n",
    "# left plot\n",
    "ax3 = fig.add_axes(pos3)\n",
    "ax3.set_xlim([0, 1.1*np.max([fx_0, fx_1])])\n",
    "ax3.set_ylim([x_grid[0], x_grid[-1]])\n",
    "ax3.set_facecolor('none')\n",
    "ax3.set_xticks([])\n",
    "ax3.set_yticks([])\n",
    "ax3.grid(False)\n",
    "ax3.invert_xaxis()\n",
    "# pdf's X|z\n",
    "ax3.plot(fx_0, x_grid, c=light_green_2, lw=2)\n",
    "l8, = ax3.plot(fx_1, x_grid, c=light_green_2, lw=2)\n",
    "# marginal X\n",
    "ax3.hist(x, bins='auto', density=True, facecolor=teal,\n",
    "         orientation='horizontal')\n",
    "plt.box(False)\n",
    "\n",
    "l2 = Rectangle((0, 0), 1, 1, color=teal, ec='none')  # dummy plot for histogram\n",
    "fig.legend((l1, l2, l3, l4, l5, l6, l7, l8, l9),\n",
    "           ('Joint (X,Z)', 'Marginal X', 'Realization x', 'Conditional Z|x',\n",
    "            'Conditional P{Z=1|x}', 'Marginal Z', 'Realization z',\n",
    "            'Conditional X|z', 'Conditional E{X|z}'), 'lower left',\n",
    "           prop={'size': '17', 'weight': 'bold'},\n",
    "           facecolor='none', edgecolor='none')\n",
    "\n",
    "add_logo(fig)"
   ]
  }
 ],
 "metadata": {
  "jupytext": {
   "encoding": "# -*- coding: utf-8 -*-",
   "executable": "/usr/bin/env python3"
  },
  "kernelspec": {
   "display_name": "Python 3",
   "language": "python",
   "name": "python3"
  }
 },
 "nbformat": 4,
 "nbformat_minor": 4
}
