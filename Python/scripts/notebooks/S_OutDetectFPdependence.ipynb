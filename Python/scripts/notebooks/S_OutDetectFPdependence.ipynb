{
 "cells": [
  {
   "cell_type": "markdown",
   "metadata": {},
   "source": [
    "# S_OutDetectFPdependence [<img src=\"https://www.arpm.co/lab/icons/icon_permalink.png\" width=30 height=30 style=\"display: inline;\">](https://www.arpm.co/lab/redirect.php?code=S_OutDetectFPdependence&codeLang=Python)\n",
    "For details, see [here](https://www.arpm.co/lab/redirect.php?permalink=ExerMVEOutlier)."
   ]
  },
  {
   "cell_type": "markdown",
   "metadata": {},
   "source": [
    "## Prepare the environment"
   ]
  },
  {
   "cell_type": "code",
   "execution_count": null,
   "metadata": {},
   "outputs": [],
   "source": [
    "import os\n",
    "import os.path as path\n",
    "import sys\n",
    "\n",
    "sys.path.append(path.abspath('../../functions-legacy'))\n",
    "\n",
    "import numpy as np\n",
    "from numpy import arange, array, zeros, ceil, log, exp, tile, r_, linspace\n",
    "from numpy import sum as npsum\n",
    "\n",
    "from scipy.io import loadmat\n",
    "\n",
    "import matplotlib.pyplot as plt\n",
    "from matplotlib.pyplot import figure, plot, bar, legend, xlim, ylim, scatter, ylabel, \\\n",
    "    xlabel, xticks, yticks\n",
    "import matplotlib.dates as mdates\n",
    "\n",
    "plt.style.use('seaborn')\n",
    "\n",
    "from CONFIG import GLOBAL_DB, TEMPORARY_DB\n",
    "from ARPM_utils import save_plot, struct_to_dict, date_mtop\n",
    "from FPmeancov import FPmeancov\n",
    "from PlotTwoDimEllipsoid import PlotTwoDimEllipsoid\n",
    "from Price2AdjustedPrice import Price2AdjustedPrice\n",
    "from GarchResiduals import GarchResiduals\n",
    "from BlowSpinFP import BlowSpinFP\n",
    "from ColorCodedFP import ColorCodedFP\n",
    "from RemoveFarthestOutlierFP import RemoveFarthestOutlierFP\n",
    "from FarthestOutlier import FarthestOutlier"
   ]
  },
  {
   "cell_type": "markdown",
   "metadata": {},
   "source": [
    "## Upload the database"
   ]
  },
  {
   "cell_type": "code",
   "execution_count": null,
   "metadata": {},
   "outputs": [],
   "source": [
    "try:\n",
    "    db = loadmat(os.path.join(GLOBAL_DB, 'db_Stocks'), squeeze_me=True)\n",
    "except FileNotFoundError:\n",
    "    db = loadmat(os.path.join(TEMPORARY_DB, 'db_Stocks'), squeeze_me=True)\n",
    "\n",
    "StocksSPX = struct_to_dict(db['StocksSPX'])"
   ]
  },
  {
   "cell_type": "markdown",
   "metadata": {},
   "source": [
    "## Compute the dividend-adjusted returns of two stocks"
   ]
  },
  {
   "cell_type": "code",
   "execution_count": null,
   "metadata": {},
   "outputs": [],
   "source": [
    "n_ = 2\n",
    "t_ = 500\n",
    "\n",
    "_, x_1 = Price2AdjustedPrice(StocksSPX.Date.reshape(1,-1), StocksSPX.Prices[[25],:], StocksSPX.Dividends[25])  # Cisco Systems Inc returns\n",
    "_, x_2 = Price2AdjustedPrice(StocksSPX.Date.reshape(1,-1), StocksSPX.Prices[[5],:], StocksSPX.Dividends[5])  # General Electric returns\n",
    "date = StocksSPX.Date[1:]\n",
    "\n",
    "x_1 = x_1[[0],-t_:]\n",
    "x_2 = x_2[[0],-t_:]\n",
    "date = date[-t_:]"
   ]
  },
  {
   "cell_type": "markdown",
   "metadata": {},
   "source": [
    "## Compute the invariants using GARCH(1,1) fit"
   ]
  },
  {
   "cell_type": "code",
   "execution_count": null,
   "metadata": {},
   "outputs": [],
   "source": [
    "epsi = GarchResiduals(r_[x_1,x_2])"
   ]
  },
  {
   "cell_type": "markdown",
   "metadata": {},
   "source": [
    "## Compute the Flexible Probability profiles using Blow-Spin method"
   ]
  },
  {
   "cell_type": "code",
   "execution_count": null,
   "metadata": {},
   "outputs": [],
   "source": [
    "b = 1  # number of blows\n",
    "s = 2  # number of spins\n",
    "p, _ = BlowSpinFP(epsi, b, s, [1, 1], .8)\n",
    "q_ = b + s"
   ]
  },
  {
   "cell_type": "markdown",
   "metadata": {},
   "source": [
    "## Remove the worst historical outliers from the dataset to guarantee clarity in static figures"
   ]
  },
  {
   "cell_type": "code",
   "execution_count": null,
   "metadata": {},
   "outputs": [],
   "source": [
    "for k in range(int(ceil(t_ / 15))):\n",
    "    epsi, p, date = RemoveFarthestOutlierFP(epsi, p, date)\n",
    "\n",
    "p=p / tile(npsum(p, 1,keepdims=True), (1, p.shape[1]))  # normalize the FP profiles\n",
    "ens = exp(npsum(-p * log(p), 1,keepdims=True))  # compute the effective number of scenarios"
   ]
  },
  {
   "cell_type": "markdown",
   "metadata": {},
   "source": [
    "## Detect the worst outlier for each FP profile then compute HFP mean and covariance"
   ]
  },
  {
   "cell_type": "code",
   "execution_count": null,
   "metadata": {},
   "outputs": [],
   "source": [
    "t_tilde = zeros(q_,dtype=int)\n",
    "mu_out = zeros((n_, q_))\n",
    "sigma2_out = zeros((n_, n_, q_))\n",
    "for q in range(q_):\n",
    "    t_tilde[q] = FarthestOutlier(epsi, p[[q],:])  # where the time subscript of the worst outlier\n",
    "    # compute historical mean and covariance of the dataset without outlier\n",
    "    epsi_temp = np.delete(epsi,t_tilde[q], axis=1)\n",
    "    p_temp = np.delete(p[[q],:],t_tilde[q], axis=1)\n",
    "    [mu_out[:, [q]], sigma2_out[:,:, q]] = FPmeancov(epsi_temp, p_temp / npsum(p_temp))"
   ]
  },
  {
   "cell_type": "markdown",
   "metadata": {},
   "source": [
    "## Generate static figures showing how the detected outlier changes along with the FP profile considered"
   ]
  },
  {
   "cell_type": "code",
   "execution_count": null,
   "metadata": {},
   "outputs": [],
   "source": [
    "greyrange = arange(0.1,0.91,0.01)\n",
    "date_dt = array([date_mtop(i) for i in date])\n",
    "myFmt = mdates.DateFormatter('%d-%b-%Y')\n",
    "\n",
    "t_new = len(date_dt)\n",
    "epslim1 = [min(epsi[0]) - .3, max(epsi[0])+.3]\n",
    "epslim2 = [min(epsi[1]) - .3, max(epsi[1])+.3]\n",
    "\n",
    "for q in range(q_):\n",
    "    f = figure()\n",
    "\n",
    "    # Scatter plot of observations, outlier and HFP-ellipsoid\n",
    "    plt.subplot2grid((4,1),(0,0),rowspan=3)\n",
    "    [CM, C] = ColorCodedFP(p[[q],:], None, None, greyrange, 0, 1, [0.6, 0.1])\n",
    "    # colormap(CM)\n",
    "    obs = scatter(epsi[0], epsi[1], 8, c=C, marker='.',cmap=CM)\n",
    "\n",
    "    shobs = plot(-1000, 1000, color='k',marker='.',markersize=8,linestyle='none')\n",
    "    xlim(epslim1)\n",
    "    ylim(epslim2)\n",
    "    out = scatter(epsi[0, t_tilde[q]], epsi[1, t_tilde[q]], 50, 'r','o',lw=2)\n",
    "    shout = plot(-1000, 1000, markersize= 6, color='r',marker='o',lw=2,linestyle='none')\n",
    "    ell = PlotTwoDimEllipsoid(mu_out[:, [q]], sigma2_out[:,:, q], 1, None, None, 'r', 2)\n",
    "    xlabel('$\\epsilon_1$')\n",
    "    ylabel('$\\epsilon_2$')\n",
    "    plt.grid(True)\n",
    "    leg = legend(['historical observations','worst outlier','HFP ellipsoid'])\n",
    "\n",
    "    # Flexible Probability profile\n",
    "    plt.subplot(4,1,4)\n",
    "    b = bar(date_dt, p[q, :],width=date_dt[1].toordinal()-date_dt[0].toordinal(), facecolor=[.6, .6, .6], edgecolor=[.6, .6, .6])\n",
    "    d = linspace(0,t_new-1,3,dtype=int)\n",
    "    xlim([min(date_dt), max(date_dt)])\n",
    "    xticks(date_dt[d])\n",
    "    plt.gca().xaxis.set_major_formatter(myFmt)\n",
    "    ylim([0, max(p[q,:])])\n",
    "    yticks([])\n",
    "    ylabel('FP')\n",
    "    ensT = 'Effective Num.Scenarios =  % 3.0f'%ens[q]\n",
    "    plt.tight_layout();\n",
    "    plt.text(date_dt[-1], max(p[q,:])+max(p[q, :]) / 10, ensT, color = 'k',horizontalalignment='right',verticalalignment='bottom')\n",
    "    # save_plot(ax=plt.gca(), extension='png', scriptname=os.path.basename('.')[:-3], count=plt.get_fignums()[-1])"
   ]
  }
 ],
 "metadata": {
  "jupytext": {
   "encoding": "# -*- coding: utf-8 -*-",
   "executable": "/usr/bin/env python3"
  },
  "kernelspec": {
   "display_name": "Python 3",
   "language": "python",
   "name": "python3"
  }
 },
 "nbformat": 4,
 "nbformat_minor": 4
}
