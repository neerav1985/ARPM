{
 "cells": [
  {
   "cell_type": "markdown",
   "metadata": {},
   "source": [
    "# S_MLFPquantileFPdependence [<img src=\"https://www.arpm.co/lab/icons/icon_permalink.png\" width=30 height=30 style=\"display: inline;\">](https://www.arpm.co/lab/redirect.php?code=S_MLFPquantileFPdependence&codeLang=Python)\n",
    "For details, see [here](https://www.arpm.co/lab/redirect.php?permalink=ExerMLquantPlot)."
   ]
  },
  {
   "cell_type": "markdown",
   "metadata": {},
   "source": [
    "## Prepare the environment"
   ]
  },
  {
   "cell_type": "code",
   "execution_count": null,
   "metadata": {},
   "outputs": [],
   "source": [
    "import os\n",
    "import os.path as path\n",
    "import sys\n",
    "\n",
    "sys.path.append(path.abspath('../../functions-legacy'))\n",
    "from collections import namedtuple\n",
    "\n",
    "from numpy import arange, array, ones, zeros, sort, where, ceil, round, log, r_, linspace, max as npmax\n",
    "from numpy.random import randn\n",
    "\n",
    "from scipy.stats import genpareto\n",
    "from scipy.io import loadmat\n",
    "\n",
    "import matplotlib.pyplot as plt\n",
    "from matplotlib.pyplot import figure, plot, bar, legend, xlim, ylim, ylabel, \\\n",
    "    title\n",
    "import matplotlib.dates as mdates\n",
    "\n",
    "plt.style.use('seaborn')\n",
    "\n",
    "from CONFIG import GLOBAL_DB, TEMPORARY_DB\n",
    "from ARPM_utils import struct_to_dict, date_mtop\n",
    "from HistogramFP import HistogramFP\n",
    "from Price2AdjustedPrice import Price2AdjustedPrice\n",
    "from GarchResiduals import GarchResiduals\n",
    "from BlowSpinFP import BlowSpinFP\n",
    "from QuantileGenParetoMLFP import QuantileGenParetoMLFP\n",
    "from FitGenParetoMLFP import FitGenParetoMLFP\n",
    "from HFPquantile import HFPquantile"
   ]
  },
  {
   "cell_type": "markdown",
   "metadata": {},
   "source": [
    "## Upload the database"
   ]
  },
  {
   "cell_type": "code",
   "execution_count": null,
   "metadata": {},
   "outputs": [],
   "source": [
    "try:\n",
    "    db = loadmat(os.path.join(GLOBAL_DB, 'db_Stocks'), squeeze_me=True)\n",
    "except FileNotFoundError:\n",
    "    db = loadmat(os.path.join(TEMPORARY_DB, 'db_Stocks'), squeeze_me=True)"
   ]
  },
  {
   "cell_type": "markdown",
   "metadata": {},
   "source": [
    "## Compute the dividend-adjusted returns of one stock"
   ]
  },
  {
   "cell_type": "code",
   "execution_count": null,
   "metadata": {},
   "outputs": [],
   "source": [
    "t_ = 600\n",
    "\n",
    "StocksSPX = struct_to_dict(db['StocksSPX'])\n",
    "\n",
    "_, x = Price2AdjustedPrice(StocksSPX.Date.reshape(1,-1), StocksSPX.Prices[[25], :], StocksSPX.Dividends[25])  # Cisco Systems Inc\n",
    "date = StocksSPX.Date[1:]\n",
    "\n",
    "x = x[[0],-t_:]\n",
    "date = date[-t_:]"
   ]
  },
  {
   "cell_type": "markdown",
   "metadata": {},
   "source": [
    "## Compute the invariants using GARCH(1,1) fit"
   ]
  },
  {
   "cell_type": "code",
   "execution_count": null,
   "metadata": {},
   "outputs": [],
   "source": [
    "epsi = GarchResiduals(x, p0=[0, 0.01, 0.5])"
   ]
  },
  {
   "cell_type": "markdown",
   "metadata": {},
   "source": [
    "## Compute the Flexible Probability profiles using Blow-Spin method"
   ]
  },
  {
   "cell_type": "code",
   "execution_count": null,
   "metadata": {},
   "outputs": [],
   "source": [
    "epsi_BlowSpin = r_[epsi, randn(1, t_)]  # random generation of dataset's second row\n",
    "b = 2  # number of blows\n",
    "s = 3  # number of spins\n",
    "p, ens = BlowSpinFP(epsi_BlowSpin, b, s, spinscale=.7)"
   ]
  },
  {
   "cell_type": "markdown",
   "metadata": {},
   "source": [
    "## Estimate quantiles and tail approximation using the EVT/MLFP method"
   ]
  },
  {
   "cell_type": "code",
   "execution_count": null,
   "metadata": {},
   "outputs": [],
   "source": [
    "k_ = b + s\n",
    "p_bar = 0.1  # probability threshold\n",
    "p_quant = r_[arange(10**-4, p_bar+10**-4,10 ** -4), arange(p_bar+0.001,1.001,0.001)]  # quantile probability levels\n",
    "\n",
    "q_hist = HFPquantile(epsi, p_quant.reshape(1,-1))\n",
    "epsi_bar = q_hist[0,p_quant == p_bar][0]  # threshold\n",
    "\n",
    "# data below the threshold\n",
    "l_1 = where(epsi < epsi_bar)[1]\n",
    "l_2 = where(p_quant <= p_bar)[0]\n",
    "epsi_ex = epsi_bar - epsi[0,l_1]  # dataset of the conditional excess distribution\n",
    "\n",
    "# MLFP quantile and Generalized Pareto Distribution\n",
    "q_MLFP = zeros((k_, len(l_2)))\n",
    "f_MLFP = zeros((k_, len(l_1)))\n",
    "for k in range(k_):\n",
    "    csi_MLFP, sigma_MLFP = FitGenParetoMLFP(epsi_ex, p[k, l_1])  # Maximum Likelihood optimization with Generalized Pareto Distribution\n",
    "    f_MLFP[k, :] = genpareto.pdf(sort(epsi_ex), c=0, scale=csi_MLFP, loc=sigma_MLFP-1)\n",
    "\n",
    "    q_MLFP[k, :] = QuantileGenParetoMLFP(epsi_bar, p_bar, csi_MLFP, sigma_MLFP, p_quant[l_2])[0]  # MLFP-quantile\n",
    "\n",
    "# historical quantile below the threshold\n",
    "q_bt = q_hist[0,l_2]\n",
    "# histogram of the pdf of the Conditional Excess Distribution\n",
    "t_ex_ = len(epsi_ex)\n",
    "options = namedtuple('options', 'n_bins')\n",
    "options.n_bins = round(12 * log(t_ex_))\n",
    "hgram_ex, x_bin = HistogramFP(epsi_ex.reshape(1,-1), ones((1, t_ex_)) / t_ex_, options)"
   ]
  },
  {
   "cell_type": "markdown",
   "metadata": {},
   "source": [
    "## Generate figures showing the difference between the historical data and the EVT/MLFP estimations"
   ]
  },
  {
   "cell_type": "code",
   "execution_count": null,
   "metadata": {},
   "outputs": [],
   "source": [
    "for k in range(k_):\n",
    "    f = figure()\n",
    "    date_dt = array([date_mtop(i) for i in date])\n",
    "    myFmt = mdates.DateFormatter('%d-%b-%Y')\n",
    "    # quantile plot\n",
    "    ax = plt.subplot2grid((5, 1), (0, 0), rowspan=2)\n",
    "    xlim([0, npmax(p_quant[l_2])])\n",
    "    plot(p_quant[l_2], q_bt, color='b')\n",
    "    plot(p_quant[l_2], q_MLFP[k, :], color='r')\n",
    "    ylim([q_bt[0] - 5, 0.8 * epsi_bar])\n",
    "    legend(['historical quantile', 'EVT / MLFP - quantile'])\n",
    "    th = 'threshold:  % 3.2f' % epsi_bar\n",
    "    plt.text(0.001, 1, th, horizontalalignment='left')\n",
    "    title('QUANTILE')\n",
    "    # conditional excess distribution and Generalized Pareto fit\n",
    "    ax = plt.subplot2grid((5, 1), (2, 0), rowspan=2)\n",
    "    ex = bar(x_bin[:-1], hgram_ex[0], width=x_bin[1] - x_bin[0], edgecolor='b', facecolor=\"none\")\n",
    "    gpd = plot(sort(epsi_ex), f_MLFP[k, :], color='r')\n",
    "    plt.axis([0, npmax(epsi_ex), 0, 1.5 * npmax(hgram_ex)])\n",
    "    legend(handles=[ex[0], gpd[0]], labels=['historical pdf', 'EVT / MLFP pdf'])\n",
    "    title('CONDITIONAL EXCESS DISTRIBUTION')\n",
    "    # Flexible Probability profile\n",
    "    ax = plt.subplot2grid((5, 1), (4, 0))\n",
    "    bar(date_dt, p[k, :], width=date_dt[1].toordinal() - date_dt[0].toordinal(), facecolor=[.7, .7, .7],\n",
    "        edgecolor=[.7, .7, .7])\n",
    "    d = linspace(0, t_ - 1, 4, dtype=int)\n",
    "    xlim([min(date_dt), max(date_dt)])\n",
    "    plt.xticks(date_dt[d])\n",
    "    myFmt = mdates.DateFormatter('%d-%b-%y')\n",
    "    plt.gca().xaxis.set_major_formatter(myFmt)\n",
    "    y_lim = ylim()\n",
    "    ylabel('FP')\n",
    "    ensT = 'Effective Num.Scenarios =  % 3.0f' % ens[0, k]\n",
    "    plt.text(date_dt[10], y_lim[1], ensT, horizontalalignment='left', verticalalignment='bottom')\n",
    "    plt.tight_layout();"
   ]
  }
 ],
 "metadata": {
  "jupytext": {
   "encoding": "# -*- coding: utf-8 -*-",
   "executable": "/usr/bin/env python3"
  },
  "kernelspec": {
   "display_name": "Python 3",
   "language": "python",
   "name": "python3"
  }
 },
 "nbformat": 4,
 "nbformat_minor": 4
}
